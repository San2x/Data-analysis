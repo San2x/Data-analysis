{
 "cells": [
  {
   "cell_type": "markdown",
   "metadata": {},
   "source": [
    "# Исследование рынка общественного питания"
   ]
  },
  {
   "cell_type": "markdown",
   "metadata": {},
   "source": [
    "Есть проект открытия небольшого кафе в Москве. Оно оригинальное — гостей должны обслуживать роботы. Проект многообещающий, но дорогой. Создатели проекта решили обратиться к инвесторам. Инвесторов интересует текущее положение дел на рынке — сможет ли кафе снискать популярность на долгое время, когда все \"зеваки\" насмотрятся на роботов-официантов?\n",
    "\n",
    "Необходимо подготовить исследование рынка. В распоряжении имеются открытые данные о заведениях общественного питания в Москве."
   ]
  },
  {
   "cell_type": "markdown",
   "metadata": {},
   "source": [
    "## Загрузка и подготовка данных"
   ]
  },
  {
   "cell_type": "markdown",
   "metadata": {},
   "source": [
    "Для начала загрузим необходимые библиотеки и файлы с данными."
   ]
  },
  {
   "cell_type": "code",
   "execution_count": 1,
   "metadata": {},
   "outputs": [],
   "source": [
    "# загружаем необходимые библиотеки\n",
    "import pandas as pd\n",
    "import matplotlib.pyplot as plt\n",
    "import seaborn as sns\n",
    "from io import BytesIO\n",
    "import requests\n",
    "from collections import Counter"
   ]
  },
  {
   "cell_type": "code",
   "execution_count": 2,
   "metadata": {},
   "outputs": [],
   "source": [
    "# считываем файл с данными\n",
    "data = pd.read_csv('/datasets/rest_data.csv')"
   ]
  },
  {
   "cell_type": "code",
   "execution_count": 3,
   "metadata": {},
   "outputs": [
    {
     "name": "stdout",
     "output_type": "stream",
     "text": [
      "<class 'pandas.core.frame.DataFrame'>\n",
      "RangeIndex: 15366 entries, 0 to 15365\n",
      "Data columns (total 6 columns):\n",
      " #   Column       Non-Null Count  Dtype \n",
      "---  ------       --------------  ----- \n",
      " 0   id           15366 non-null  int64 \n",
      " 1   object_name  15366 non-null  object\n",
      " 2   chain        15366 non-null  object\n",
      " 3   object_type  15366 non-null  object\n",
      " 4   address      15366 non-null  object\n",
      " 5   number       15366 non-null  int64 \n",
      "dtypes: int64(2), object(4)\n",
      "memory usage: 720.4+ KB\n"
     ]
    },
    {
     "data": {
      "text/html": [
       "<div>\n",
       "<style scoped>\n",
       "    .dataframe tbody tr th:only-of-type {\n",
       "        vertical-align: middle;\n",
       "    }\n",
       "\n",
       "    .dataframe tbody tr th {\n",
       "        vertical-align: top;\n",
       "    }\n",
       "\n",
       "    .dataframe thead th {\n",
       "        text-align: right;\n",
       "    }\n",
       "</style>\n",
       "<table border=\"1\" class=\"dataframe\">\n",
       "  <thead>\n",
       "    <tr style=\"text-align: right;\">\n",
       "      <th></th>\n",
       "      <th>id</th>\n",
       "      <th>object_name</th>\n",
       "      <th>chain</th>\n",
       "      <th>object_type</th>\n",
       "      <th>address</th>\n",
       "      <th>number</th>\n",
       "    </tr>\n",
       "  </thead>\n",
       "  <tbody>\n",
       "    <tr>\n",
       "      <th>0</th>\n",
       "      <td>151635</td>\n",
       "      <td>СМЕТАНА</td>\n",
       "      <td>нет</td>\n",
       "      <td>кафе</td>\n",
       "      <td>город Москва, улица Егора Абакумова, дом 9</td>\n",
       "      <td>48</td>\n",
       "    </tr>\n",
       "    <tr>\n",
       "      <th>1</th>\n",
       "      <td>77874</td>\n",
       "      <td>Родник</td>\n",
       "      <td>нет</td>\n",
       "      <td>кафе</td>\n",
       "      <td>город Москва, улица Талалихина, дом 2/1, корпус 1</td>\n",
       "      <td>35</td>\n",
       "    </tr>\n",
       "    <tr>\n",
       "      <th>2</th>\n",
       "      <td>24309</td>\n",
       "      <td>Кафе «Академия»</td>\n",
       "      <td>нет</td>\n",
       "      <td>кафе</td>\n",
       "      <td>город Москва, Абельмановская улица, дом 6</td>\n",
       "      <td>95</td>\n",
       "    </tr>\n",
       "    <tr>\n",
       "      <th>3</th>\n",
       "      <td>21894</td>\n",
       "      <td>ПИЦЦЕТОРИЯ</td>\n",
       "      <td>да</td>\n",
       "      <td>кафе</td>\n",
       "      <td>город Москва, Абрамцевская улица, дом 1</td>\n",
       "      <td>40</td>\n",
       "    </tr>\n",
       "    <tr>\n",
       "      <th>4</th>\n",
       "      <td>119365</td>\n",
       "      <td>Кафе «Вишневая метель»</td>\n",
       "      <td>нет</td>\n",
       "      <td>кафе</td>\n",
       "      <td>город Москва, Абрамцевская улица, дом 9, корпус 1</td>\n",
       "      <td>50</td>\n",
       "    </tr>\n",
       "  </tbody>\n",
       "</table>\n",
       "</div>"
      ],
      "text/plain": [
       "       id             object_name chain object_type  \\\n",
       "0  151635                 СМЕТАНА   нет        кафе   \n",
       "1   77874                  Родник   нет        кафе   \n",
       "2   24309         Кафе «Академия»   нет        кафе   \n",
       "3   21894              ПИЦЦЕТОРИЯ    да        кафе   \n",
       "4  119365  Кафе «Вишневая метель»   нет        кафе   \n",
       "\n",
       "                                             address  number  \n",
       "0         город Москва, улица Егора Абакумова, дом 9      48  \n",
       "1  город Москва, улица Талалихина, дом 2/1, корпус 1      35  \n",
       "2          город Москва, Абельмановская улица, дом 6      95  \n",
       "3            город Москва, Абрамцевская улица, дом 1      40  \n",
       "4  город Москва, Абрамцевская улица, дом 9, корпус 1      50  "
      ]
     },
     "execution_count": 3,
     "metadata": {},
     "output_type": "execute_result"
    }
   ],
   "source": [
    "# выводим основную информацию\n",
    "data.info()\n",
    "data.head()"
   ]
  },
  {
   "cell_type": "markdown",
   "metadata": {},
   "source": [
    "Сводка информации указывает на отсутствие в данных пропусков. Проверим также наличие дубликатов, перед этим приведя названия заведений к нижнему регистру (для учета возможных неявных повторов)."
   ]
  },
  {
   "cell_type": "code",
   "execution_count": 4,
   "metadata": {},
   "outputs": [],
   "source": [
    "# приводим названия объектов к нижнему регистру\n",
    "data['object_name'] = data['object_name'].str.lower()"
   ]
  },
  {
   "cell_type": "code",
   "execution_count": 5,
   "metadata": {},
   "outputs": [
    {
     "data": {
      "text/plain": [
       "0"
      ]
     },
     "execution_count": 5,
     "metadata": {},
     "output_type": "execute_result"
    }
   ],
   "source": [
    "# считаем число дубликатов\n",
    "data.duplicated().sum()"
   ]
  },
  {
   "cell_type": "markdown",
   "metadata": {},
   "source": [
    "Дубликатов также не было выявлено."
   ]
  },
  {
   "cell_type": "markdown",
   "metadata": {},
   "source": [
    "При этом мы видим, что столбец chain показывает принадлежность объекта к сетевым заведениям (да/нет), поэтому данные в нем могут быть представлены в логическом виде. Проведем соответствующие изменения."
   ]
  },
  {
   "cell_type": "code",
   "execution_count": 6,
   "metadata": {},
   "outputs": [],
   "source": [
    "# заменяем столбец chain на булевые значения\n",
    "data['chain'] = (data['chain'] == 'да')"
   ]
  },
  {
   "cell_type": "markdown",
   "metadata": {},
   "source": [
    "Проверим внесенные изменения."
   ]
  },
  {
   "cell_type": "code",
   "execution_count": 7,
   "metadata": {
    "scrolled": false
   },
   "outputs": [
    {
     "name": "stdout",
     "output_type": "stream",
     "text": [
      "<class 'pandas.core.frame.DataFrame'>\n",
      "RangeIndex: 15366 entries, 0 to 15365\n",
      "Data columns (total 6 columns):\n",
      " #   Column       Non-Null Count  Dtype \n",
      "---  ------       --------------  ----- \n",
      " 0   id           15366 non-null  int64 \n",
      " 1   object_name  15366 non-null  object\n",
      " 2   chain        15366 non-null  bool  \n",
      " 3   object_type  15366 non-null  object\n",
      " 4   address      15366 non-null  object\n",
      " 5   number       15366 non-null  int64 \n",
      "dtypes: bool(1), int64(2), object(3)\n",
      "memory usage: 615.4+ KB\n"
     ]
    },
    {
     "data": {
      "text/html": [
       "<div>\n",
       "<style scoped>\n",
       "    .dataframe tbody tr th:only-of-type {\n",
       "        vertical-align: middle;\n",
       "    }\n",
       "\n",
       "    .dataframe tbody tr th {\n",
       "        vertical-align: top;\n",
       "    }\n",
       "\n",
       "    .dataframe thead th {\n",
       "        text-align: right;\n",
       "    }\n",
       "</style>\n",
       "<table border=\"1\" class=\"dataframe\">\n",
       "  <thead>\n",
       "    <tr style=\"text-align: right;\">\n",
       "      <th></th>\n",
       "      <th>id</th>\n",
       "      <th>object_name</th>\n",
       "      <th>chain</th>\n",
       "      <th>object_type</th>\n",
       "      <th>address</th>\n",
       "      <th>number</th>\n",
       "    </tr>\n",
       "  </thead>\n",
       "  <tbody>\n",
       "    <tr>\n",
       "      <th>0</th>\n",
       "      <td>151635</td>\n",
       "      <td>сметана</td>\n",
       "      <td>False</td>\n",
       "      <td>кафе</td>\n",
       "      <td>город Москва, улица Егора Абакумова, дом 9</td>\n",
       "      <td>48</td>\n",
       "    </tr>\n",
       "    <tr>\n",
       "      <th>1</th>\n",
       "      <td>77874</td>\n",
       "      <td>родник</td>\n",
       "      <td>False</td>\n",
       "      <td>кафе</td>\n",
       "      <td>город Москва, улица Талалихина, дом 2/1, корпус 1</td>\n",
       "      <td>35</td>\n",
       "    </tr>\n",
       "    <tr>\n",
       "      <th>2</th>\n",
       "      <td>24309</td>\n",
       "      <td>кафе «академия»</td>\n",
       "      <td>False</td>\n",
       "      <td>кафе</td>\n",
       "      <td>город Москва, Абельмановская улица, дом 6</td>\n",
       "      <td>95</td>\n",
       "    </tr>\n",
       "    <tr>\n",
       "      <th>3</th>\n",
       "      <td>21894</td>\n",
       "      <td>пиццетория</td>\n",
       "      <td>True</td>\n",
       "      <td>кафе</td>\n",
       "      <td>город Москва, Абрамцевская улица, дом 1</td>\n",
       "      <td>40</td>\n",
       "    </tr>\n",
       "    <tr>\n",
       "      <th>4</th>\n",
       "      <td>119365</td>\n",
       "      <td>кафе «вишневая метель»</td>\n",
       "      <td>False</td>\n",
       "      <td>кафе</td>\n",
       "      <td>город Москва, Абрамцевская улица, дом 9, корпус 1</td>\n",
       "      <td>50</td>\n",
       "    </tr>\n",
       "  </tbody>\n",
       "</table>\n",
       "</div>"
      ],
      "text/plain": [
       "       id             object_name  chain object_type  \\\n",
       "0  151635                 сметана  False        кафе   \n",
       "1   77874                  родник  False        кафе   \n",
       "2   24309         кафе «академия»  False        кафе   \n",
       "3   21894              пиццетория   True        кафе   \n",
       "4  119365  кафе «вишневая метель»  False        кафе   \n",
       "\n",
       "                                             address  number  \n",
       "0         город Москва, улица Егора Абакумова, дом 9      48  \n",
       "1  город Москва, улица Талалихина, дом 2/1, корпус 1      35  \n",
       "2          город Москва, Абельмановская улица, дом 6      95  \n",
       "3            город Москва, Абрамцевская улица, дом 1      40  \n",
       "4  город Москва, Абрамцевская улица, дом 9, корпус 1      50  "
      ]
     },
     "execution_count": 7,
     "metadata": {},
     "output_type": "execute_result"
    }
   ],
   "source": [
    "# выводим основную информацию\n",
    "data.info()\n",
    "data.head()"
   ]
  },
  {
   "cell_type": "markdown",
   "metadata": {},
   "source": [
    "Тип данных был корректно изменен."
   ]
  },
  {
   "cell_type": "markdown",
   "metadata": {},
   "source": [
    "## Анализ данных"
   ]
  },
  {
   "cell_type": "markdown",
   "metadata": {},
   "source": [
    "Для начала исследуем соотношение видов объектов общественного питания по количеству."
   ]
  },
  {
   "cell_type": "code",
   "execution_count": 8,
   "metadata": {},
   "outputs": [
    {
     "data": {
      "text/html": [
       "<div>\n",
       "<style scoped>\n",
       "    .dataframe tbody tr th:only-of-type {\n",
       "        vertical-align: middle;\n",
       "    }\n",
       "\n",
       "    .dataframe tbody tr th {\n",
       "        vertical-align: top;\n",
       "    }\n",
       "\n",
       "    .dataframe thead th {\n",
       "        text-align: right;\n",
       "    }\n",
       "</style>\n",
       "<table border=\"1\" class=\"dataframe\">\n",
       "  <thead>\n",
       "    <tr style=\"text-align: right;\">\n",
       "      <th></th>\n",
       "      <th>object_type</th>\n",
       "    </tr>\n",
       "    <tr>\n",
       "      <th>object_type</th>\n",
       "      <th></th>\n",
       "    </tr>\n",
       "  </thead>\n",
       "  <tbody>\n",
       "    <tr>\n",
       "      <th>бар</th>\n",
       "      <td>856</td>\n",
       "    </tr>\n",
       "    <tr>\n",
       "      <th>буфет</th>\n",
       "      <td>585</td>\n",
       "    </tr>\n",
       "    <tr>\n",
       "      <th>закусочная</th>\n",
       "      <td>360</td>\n",
       "    </tr>\n",
       "    <tr>\n",
       "      <th>кафе</th>\n",
       "      <td>6099</td>\n",
       "    </tr>\n",
       "    <tr>\n",
       "      <th>кафетерий</th>\n",
       "      <td>398</td>\n",
       "    </tr>\n",
       "    <tr>\n",
       "      <th>магазин (отдел кулинарии)</th>\n",
       "      <td>273</td>\n",
       "    </tr>\n",
       "    <tr>\n",
       "      <th>предприятие быстрого обслуживания</th>\n",
       "      <td>1923</td>\n",
       "    </tr>\n",
       "    <tr>\n",
       "      <th>ресторан</th>\n",
       "      <td>2285</td>\n",
       "    </tr>\n",
       "    <tr>\n",
       "      <th>столовая</th>\n",
       "      <td>2587</td>\n",
       "    </tr>\n",
       "  </tbody>\n",
       "</table>\n",
       "</div>"
      ],
      "text/plain": [
       "                                   object_type\n",
       "object_type                                   \n",
       "бар                                        856\n",
       "буфет                                      585\n",
       "закусочная                                 360\n",
       "кафе                                      6099\n",
       "кафетерий                                  398\n",
       "магазин (отдел кулинарии)                  273\n",
       "предприятие быстрого обслуживания         1923\n",
       "ресторан                                  2285\n",
       "столовая                                  2587"
      ]
     },
     "execution_count": 8,
     "metadata": {},
     "output_type": "execute_result"
    }
   ],
   "source": [
    "# группируем количество объектов по их типу\n",
    "types_count = data.groupby('object_type').agg({'object_type': 'count'})\n",
    "\n",
    "types_count"
   ]
  },
  {
   "cell_type": "markdown",
   "metadata": {},
   "source": [
    "Для наглядности построим график."
   ]
  },
  {
   "cell_type": "code",
   "execution_count": 9,
   "metadata": {},
   "outputs": [
    {
     "data": {
      "image/png": "[encoded data removed]",
      "text/plain": [
       "<Figure size 576x576 with 1 Axes>"
      ]
     },
     "metadata": {},
     "output_type": "display_data"
    }
   ],
   "source": [
    "# строим круговую диаграмму\n",
    "fig = plt.figure(figsize = (8, 8))\n",
    "plt.pie(types_count['object_type'], labels=types_count.index, autopct='%.0f%%', textprops={'fontsize': 12})\n",
    "plt.title('Соотношение обьектов общественного питания по типу', fontsize=18)\n",
    "plt.show()"
   ]
  },
  {
   "cell_type": "markdown",
   "metadata": {},
   "source": [
    "Вы видим, что кафе по численности занимают большую часть рынка (40%), далее следуют столовые (17%), рестораны (15%) и предприятия быстрого обслуживания (13%)."
   ]
  },
  {
   "cell_type": "markdown",
   "metadata": {},
   "source": [
    "Далее исследуем соотношение сетевых и несетевых заведений по количеству."
   ]
  },
  {
   "cell_type": "code",
   "execution_count": 10,
   "metadata": {},
   "outputs": [
    {
     "data": {
      "text/html": [
       "<div>\n",
       "<style scoped>\n",
       "    .dataframe tbody tr th:only-of-type {\n",
       "        vertical-align: middle;\n",
       "    }\n",
       "\n",
       "    .dataframe tbody tr th {\n",
       "        vertical-align: top;\n",
       "    }\n",
       "\n",
       "    .dataframe thead th {\n",
       "        text-align: right;\n",
       "    }\n",
       "</style>\n",
       "<table border=\"1\" class=\"dataframe\">\n",
       "  <thead>\n",
       "    <tr style=\"text-align: right;\">\n",
       "      <th></th>\n",
       "      <th>chain</th>\n",
       "    </tr>\n",
       "    <tr>\n",
       "      <th>chain</th>\n",
       "      <th></th>\n",
       "    </tr>\n",
       "  </thead>\n",
       "  <tbody>\n",
       "    <tr>\n",
       "      <th>False</th>\n",
       "      <td>12398</td>\n",
       "    </tr>\n",
       "    <tr>\n",
       "      <th>True</th>\n",
       "      <td>2968</td>\n",
       "    </tr>\n",
       "  </tbody>\n",
       "</table>\n",
       "</div>"
      ],
      "text/plain": [
       "       chain\n",
       "chain       \n",
       "False  12398\n",
       "True    2968"
      ]
     },
     "execution_count": 10,
     "metadata": {},
     "output_type": "execute_result"
    }
   ],
   "source": [
    "# группируем количество объектов по принадлежности к сетям\n",
    "chains_count = data.groupby('chain').agg({'chain': 'count'})\n",
    "\n",
    "chains_count"
   ]
  },
  {
   "cell_type": "markdown",
   "metadata": {},
   "source": [
    "Также построим график."
   ]
  },
  {
   "cell_type": "code",
   "execution_count": 11,
   "metadata": {
    "scrolled": false
   },
   "outputs": [
    {
     "data": {
      "image/png": "[encoded data removed]",
      "text/plain": [
       "<Figure size 576x576 with 1 Axes>"
      ]
     },
     "metadata": {},
     "output_type": "display_data"
    }
   ],
   "source": [
    "# строим круговую диаграмму\n",
    "fig = plt.figure(figsize = (8, 8))\n",
    "plt.pie(chains_count['chain'], labels=['не ceтевое', 'сетевое'], autopct='%.0f%%', textprops={'fontsize': 14})\n",
    "plt.title('Соотношение сетевых и несетевых заведений', fontsize=18)\n",
    "plt.show()"
   ]
  },
  {
   "cell_type": "markdown",
   "metadata": {},
   "source": [
    "Большая часть заведений в Москве являются несетевыми. Посмотрим - для каких объектов более характерно сетевое распространение?"
   ]
  },
  {
   "cell_type": "code",
   "execution_count": 12,
   "metadata": {
    "scrolled": true
   },
   "outputs": [
    {
     "data": {
      "text/html": [
       "<div>\n",
       "<style scoped>\n",
       "    .dataframe tbody tr th:only-of-type {\n",
       "        vertical-align: middle;\n",
       "    }\n",
       "\n",
       "    .dataframe tbody tr th {\n",
       "        vertical-align: top;\n",
       "    }\n",
       "\n",
       "    .dataframe thead th {\n",
       "        text-align: right;\n",
       "    }\n",
       "</style>\n",
       "<table border=\"1\" class=\"dataframe\">\n",
       "  <thead>\n",
       "    <tr style=\"text-align: right;\">\n",
       "      <th></th>\n",
       "      <th>тип заведения</th>\n",
       "      <th>доля сетей, %</th>\n",
       "    </tr>\n",
       "  </thead>\n",
       "  <tbody>\n",
       "    <tr>\n",
       "      <th>0</th>\n",
       "      <td>предприятие быстрого обслуживания</td>\n",
       "      <td>41.1</td>\n",
       "    </tr>\n",
       "    <tr>\n",
       "      <th>1</th>\n",
       "      <td>магазин (отдел кулинарии)</td>\n",
       "      <td>28.6</td>\n",
       "    </tr>\n",
       "    <tr>\n",
       "      <th>2</th>\n",
       "      <td>ресторан</td>\n",
       "      <td>23.8</td>\n",
       "    </tr>\n",
       "    <tr>\n",
       "      <th>3</th>\n",
       "      <td>кафе</td>\n",
       "      <td>22.9</td>\n",
       "    </tr>\n",
       "    <tr>\n",
       "      <th>4</th>\n",
       "      <td>закусочная</td>\n",
       "      <td>15.6</td>\n",
       "    </tr>\n",
       "    <tr>\n",
       "      <th>5</th>\n",
       "      <td>кафетерий</td>\n",
       "      <td>13.1</td>\n",
       "    </tr>\n",
       "    <tr>\n",
       "      <th>6</th>\n",
       "      <td>бар</td>\n",
       "      <td>4.3</td>\n",
       "    </tr>\n",
       "    <tr>\n",
       "      <th>7</th>\n",
       "      <td>буфет</td>\n",
       "      <td>1.9</td>\n",
       "    </tr>\n",
       "    <tr>\n",
       "      <th>8</th>\n",
       "      <td>столовая</td>\n",
       "      <td>0.1</td>\n",
       "    </tr>\n",
       "  </tbody>\n",
       "</table>\n",
       "</div>"
      ],
      "text/plain": [
       "                       тип заведения  доля сетей, %\n",
       "0  предприятие быстрого обслуживания           41.1\n",
       "1          магазин (отдел кулинарии)           28.6\n",
       "2                           ресторан           23.8\n",
       "3                               кафе           22.9\n",
       "4                         закусочная           15.6\n",
       "5                          кафетерий           13.1\n",
       "6                                бар            4.3\n",
       "7                              буфет            1.9\n",
       "8                           столовая            0.1"
      ]
     },
     "execution_count": 12,
     "metadata": {},
     "output_type": "execute_result"
    }
   ],
   "source": [
    "# группируем долю сетей по типу объектов с сортировкой\n",
    "chains_mean = data.groupby('object_type').agg({'chain': 'mean'}).sort_values(by='chain', ascending=False).reset_index()\n",
    "\n",
    "# для удобства выведем значения в процентах\n",
    "chains_mean['chain'] = round(chains_mean['chain']*100, 1)\n",
    "chains_mean.columns = ['тип заведения','доля сетей, %']\n",
    "\n",
    "chains_mean"
   ]
  },
  {
   "cell_type": "markdown",
   "metadata": {},
   "source": [
    "Построим график."
   ]
  },
  {
   "cell_type": "code",
   "execution_count": 13,
   "metadata": {},
   "outputs": [
    {
     "data": {
      "image/png": "[encoded data removed]",
      "text/plain": [
       "<Figure size 864x432 with 1 Axes>"
      ]
     },
     "metadata": {
      "needs_background": "light"
     },
     "output_type": "display_data"
    }
   ],
   "source": [
    "# строим столбчатую диаграмму\n",
    "fig = plt.figure(figsize = (12, 6))\n",
    "graph = sns.barplot(x='доля сетей, %', y='тип заведения', data=chains_mean)\n",
    "\n",
    "for row in range(len(chains_mean)):\n",
    "    graph.text(0.15, row, f\"{round(chains_mean.loc[row , 'доля сетей, %'], 1)}%\", fontsize=11)\n",
    "\n",
    "sns.despine(bottom=False, left=False)\n",
    "plt.xlabel('доля сетевых заведений, %', fontsize=12)\n",
    "plt.ylabel('')\n",
    "plt.title('Средняя доля сетевых заведений по типам объектов питания', fontsize=18)\n",
    "plt.tick_params(labelsize=12)\n",
    "plt.show()"
   ]
  },
  {
   "cell_type": "markdown",
   "metadata": {},
   "source": [
    "Мы видим, что сети в первую очередь характерны для предприятий быстрого обслуживания (41%), магазинов (29%) и ресторанов (24%). Кафе также обладают долей сетей выше среднего - 23%."
   ]
  },
  {
   "cell_type": "markdown",
   "metadata": {},
   "source": [
    "Посмотрим - что характерно для сетевых заведений: много заведений с небольшим числом посадочных мест в каждом или мало заведений с большим количеством посадочных мест?"
   ]
  },
  {
   "cell_type": "code",
   "execution_count": 14,
   "metadata": {},
   "outputs": [
    {
     "data": {
      "text/html": [
       "<div>\n",
       "<style scoped>\n",
       "    .dataframe tbody tr th:only-of-type {\n",
       "        vertical-align: middle;\n",
       "    }\n",
       "\n",
       "    .dataframe tbody tr th {\n",
       "        vertical-align: top;\n",
       "    }\n",
       "\n",
       "    .dataframe thead th {\n",
       "        text-align: right;\n",
       "    }\n",
       "</style>\n",
       "<table border=\"1\" class=\"dataframe\">\n",
       "  <thead>\n",
       "    <tr style=\"text-align: right;\">\n",
       "      <th></th>\n",
       "      <th>number</th>\n",
       "      <th>object_name</th>\n",
       "    </tr>\n",
       "    <tr>\n",
       "      <th>object_name</th>\n",
       "      <th></th>\n",
       "      <th></th>\n",
       "    </tr>\n",
       "  </thead>\n",
       "  <tbody>\n",
       "    <tr>\n",
       "      <th>beverly hills diner</th>\n",
       "      <td>88.0</td>\n",
       "      <td>1</td>\n",
       "    </tr>\n",
       "    <tr>\n",
       "      <th>bierloga</th>\n",
       "      <td>75.0</td>\n",
       "      <td>1</td>\n",
       "    </tr>\n",
       "    <tr>\n",
       "      <th>black &amp; white</th>\n",
       "      <td>40.0</td>\n",
       "      <td>1</td>\n",
       "    </tr>\n",
       "    <tr>\n",
       "      <th>bocconcino</th>\n",
       "      <td>68.0</td>\n",
       "      <td>3</td>\n",
       "    </tr>\n",
       "    <tr>\n",
       "      <th>boobo</th>\n",
       "      <td>46.0</td>\n",
       "      <td>1</td>\n",
       "    </tr>\n",
       "    <tr>\n",
       "      <th>...</th>\n",
       "      <td>...</td>\n",
       "      <td>...</td>\n",
       "    </tr>\n",
       "    <tr>\n",
       "      <th>ямми микс</th>\n",
       "      <td>2.0</td>\n",
       "      <td>1</td>\n",
       "    </tr>\n",
       "    <tr>\n",
       "      <th>ян примус</th>\n",
       "      <td>300.0</td>\n",
       "      <td>1</td>\n",
       "    </tr>\n",
       "    <tr>\n",
       "      <th>японский ресторан «ваби-саби»</th>\n",
       "      <td>155.0</td>\n",
       "      <td>1</td>\n",
       "    </tr>\n",
       "    <tr>\n",
       "      <th>япоша</th>\n",
       "      <td>105.0</td>\n",
       "      <td>2</td>\n",
       "    </tr>\n",
       "    <tr>\n",
       "      <th>ёрш</th>\n",
       "      <td>104.0</td>\n",
       "      <td>4</td>\n",
       "    </tr>\n",
       "  </tbody>\n",
       "</table>\n",
       "<p>577 rows × 2 columns</p>\n",
       "</div>"
      ],
      "text/plain": [
       "                               number  object_name\n",
       "object_name                                       \n",
       "beverly hills diner              88.0            1\n",
       "bierloga                         75.0            1\n",
       "black & white                    40.0            1\n",
       "bocconcino                       68.0            3\n",
       "boobo                            46.0            1\n",
       "...                               ...          ...\n",
       "ямми микс                         2.0            1\n",
       "ян примус                       300.0            1\n",
       "японский ресторан «ваби-саби»   155.0            1\n",
       "япоша                           105.0            2\n",
       "ёрш                             104.0            4\n",
       "\n",
       "[577 rows x 2 columns]"
      ]
     },
     "execution_count": 14,
     "metadata": {},
     "output_type": "execute_result"
    }
   ],
   "source": [
    "# делаем срез по сетевым заведениям \n",
    "chains_only = data[data['chain'] == True]\n",
    "\n",
    "# группируем медианное число мест и количество объектов по сетевым заведениям\n",
    "chains_only_grouped = chains_only.groupby('object_name').agg({'number': 'median', 'object_name': 'count'})\n",
    "\n",
    "chains_only_grouped"
   ]
  },
  {
   "cell_type": "markdown",
   "metadata": {},
   "source": [
    "Мы видим, что даже в сетях присутствуют заведения всего с одним объектом питания. Возможно, это сети, где часть заведений была закрыта или находится в других населенных пунктах, либо же данные просто являются неполными. В любом случае, для построения наглядного распределения предлагается не учитывать подобные сетевые заведения."
   ]
  },
  {
   "cell_type": "code",
   "execution_count": 15,
   "metadata": {},
   "outputs": [],
   "source": [
    "# оставляем только \"настоящие\" сетевые заведения\n",
    "chains_only_grouped = chains_only_grouped[chains_only_grouped['object_name'] > 1]"
   ]
  },
  {
   "cell_type": "code",
   "execution_count": 16,
   "metadata": {},
   "outputs": [
    {
     "data": {
      "image/png": "[encoded data removed]",
      "text/plain": [
       "<Figure size 720x720 with 3 Axes>"
      ]
     },
     "metadata": {
      "needs_background": "light"
     },
     "output_type": "display_data"
    }
   ],
   "source": [
    "# строим объединенный график\n",
    "graph = sns.jointplot(x='object_name', y='number', data=chains_only_grouped, height=10) \n",
    "graph.set_axis_labels('число объектов в сети', 'число мест', fontsize=12)\n",
    "graph.fig.suptitle(\"Совместное распределение числа сетевых объектов и посадочных мест\", y=1.03, fontsize=18)\n",
    "plt.show()"
   ]
  },
  {
   "cell_type": "markdown",
   "metadata": {},
   "source": [
    "Судя по графику, распределение вообще \"тяготеет\" к малому числу заведений с небольшим количеством мест - так, большинство сетевых заведений имеет не более 50-60 посадочных мест."
   ]
  },
  {
   "cell_type": "markdown",
   "metadata": {},
   "source": [
    "Посчитаем среднее количество посадочных мест по типам заведений общественного питания."
   ]
  },
  {
   "cell_type": "code",
   "execution_count": 17,
   "metadata": {},
   "outputs": [
    {
     "data": {
      "text/html": [
       "<div>\n",
       "<style scoped>\n",
       "    .dataframe tbody tr th:only-of-type {\n",
       "        vertical-align: middle;\n",
       "    }\n",
       "\n",
       "    .dataframe tbody tr th {\n",
       "        vertical-align: top;\n",
       "    }\n",
       "\n",
       "    .dataframe thead th {\n",
       "        text-align: right;\n",
       "    }\n",
       "</style>\n",
       "<table border=\"1\" class=\"dataframe\">\n",
       "  <thead>\n",
       "    <tr style=\"text-align: right;\">\n",
       "      <th></th>\n",
       "      <th>object_type</th>\n",
       "      <th>number</th>\n",
       "    </tr>\n",
       "  </thead>\n",
       "  <tbody>\n",
       "    <tr>\n",
       "      <th>0</th>\n",
       "      <td>столовая</td>\n",
       "      <td>130.246618</td>\n",
       "    </tr>\n",
       "    <tr>\n",
       "      <th>1</th>\n",
       "      <td>ресторан</td>\n",
       "      <td>96.834136</td>\n",
       "    </tr>\n",
       "    <tr>\n",
       "      <th>2</th>\n",
       "      <td>буфет</td>\n",
       "      <td>51.129915</td>\n",
       "    </tr>\n",
       "    <tr>\n",
       "      <th>3</th>\n",
       "      <td>бар</td>\n",
       "      <td>43.494159</td>\n",
       "    </tr>\n",
       "    <tr>\n",
       "      <th>4</th>\n",
       "      <td>кафе</td>\n",
       "      <td>39.716019</td>\n",
       "    </tr>\n",
       "    <tr>\n",
       "      <th>5</th>\n",
       "      <td>предприятие быстрого обслуживания</td>\n",
       "      <td>20.552262</td>\n",
       "    </tr>\n",
       "    <tr>\n",
       "      <th>6</th>\n",
       "      <td>кафетерий</td>\n",
       "      <td>9.123116</td>\n",
       "    </tr>\n",
       "    <tr>\n",
       "      <th>7</th>\n",
       "      <td>закусочная</td>\n",
       "      <td>7.608333</td>\n",
       "    </tr>\n",
       "    <tr>\n",
       "      <th>8</th>\n",
       "      <td>магазин (отдел кулинарии)</td>\n",
       "      <td>5.589744</td>\n",
       "    </tr>\n",
       "  </tbody>\n",
       "</table>\n",
       "</div>"
      ],
      "text/plain": [
       "                         object_type      number\n",
       "0                           столовая  130.246618\n",
       "1                           ресторан   96.834136\n",
       "2                              буфет   51.129915\n",
       "3                                бар   43.494159\n",
       "4                               кафе   39.716019\n",
       "5  предприятие быстрого обслуживания   20.552262\n",
       "6                          кафетерий    9.123116\n",
       "7                         закусочная    7.608333\n",
       "8          магазин (отдел кулинарии)    5.589744"
      ]
     },
     "execution_count": 17,
     "metadata": {},
     "output_type": "execute_result"
    }
   ],
   "source": [
    "# группируем среднее число мест по типу объектов с сортировкой\n",
    "seats_mean = data.groupby('object_type').agg({'number': 'mean'}).sort_values(by='number', ascending=False).reset_index()\n",
    "\n",
    "seats_mean"
   ]
  },
  {
   "cell_type": "markdown",
   "metadata": {},
   "source": [
    "Построим график."
   ]
  },
  {
   "cell_type": "code",
   "execution_count": 18,
   "metadata": {},
   "outputs": [
    {
     "data": {
      "image/png": "[encoded data removed]",
      "text/plain": [
       "<Figure size 864x432 with 1 Axes>"
      ]
     },
     "metadata": {
      "needs_background": "light"
     },
     "output_type": "display_data"
    }
   ],
   "source": [
    "# строим столбчатую диаграмму\n",
    "fig = plt.figure(figsize = (12, 6))\n",
    "graph = sns.barplot(x='number', y='object_type', data=seats_mean)\n",
    "\n",
    "for row in range(len(seats_mean)):\n",
    "    graph.text(1, row, round(seats_mean.loc[row , 'number'], 1), fontsize=11)\n",
    "\n",
    "sns.despine(bottom=False, left=False)\n",
    "plt.xlabel('среднее число мест', fontsize=12)\n",
    "plt.ylabel('')\n",
    "plt.title('Среднее число мест по типам объектов питания', fontsize=18)\n",
    "plt.tick_params(labelsize=12)\n",
    "plt.show()"
   ]
  },
  {
   "cell_type": "markdown",
   "metadata": {},
   "source": [
    "Наибольшим числом посадочных мест в среднем обладают столовые (130 ед.), рестораны (97 ед.) и буфеты (51 ед.). Кафе характеризуются средним значением в 40 посадочных мест."
   ]
  },
  {
   "cell_type": "markdown",
   "metadata": {},
   "source": [
    "Далее попробуем выделить информацию об улицах, на которых располагаются рассматриваемые объекты."
   ]
  },
  {
   "cell_type": "markdown",
   "metadata": {},
   "source": [
    "Более подробное ознакомление с данными позволяет сделать следующие предположения об адресах заведений: \n",
    "- части адреса записаны через запятую и могут содержать разное количество элементов;\n",
    "- в адресах из двух частей название улицы записывается в первом элементе;\n",
    "- в адресах из большего количества частей название улицы обычно записывается во второй элементе;\n",
    "- однако есть адреса, где на втором месте указывается город (Зеленоград), название поселения или деревни в составе Москвы;\n",
    "- адресами из предыдущего пункта представляется возможным \"пожертвовать\", так как они зачастую бывают неполными и вряд ли будут представлять основные центры спроса на объекты питания."
   ]
  },
  {
   "cell_type": "markdown",
   "metadata": {},
   "source": [
    "Исходя из вышесказанного, напишем функцию, которая будет выделять строчку с названием улицы из адреса, или помечать адрес как \"неформатный\" в принятых к исключению случаях."
   ]
  },
  {
   "cell_type": "code",
   "execution_count": 19,
   "metadata": {},
   "outputs": [],
   "source": [
    "# функция для выделения улицы из полного адреса объекта\n",
    "def get_street(address):\n",
    "    abc = address.split(\",\")\n",
    "    if len(abc) == 2: \n",
    "        street = abc[0]\n",
    "    elif not ('Зеленоград' in abc[1] or 'поселение' in abc[1] or 'деревня' in abc[1]):\n",
    "        street = abc[1]\n",
    "    else:\n",
    "        street = 'non-format'\n",
    "    return street.lstrip()"
   ]
  },
  {
   "cell_type": "code",
   "execution_count": 20,
   "metadata": {},
   "outputs": [],
   "source": [
    "# применяем функцию к столбцу с адресами и записываем название улицы в отдельный столбец street\n",
    "data['street'] = data['address'].apply(lambda x: get_street(x))"
   ]
  },
  {
   "cell_type": "code",
   "execution_count": 21,
   "metadata": {},
   "outputs": [
    {
     "name": "stdout",
     "output_type": "stream",
     "text": [
      "<class 'pandas.core.frame.DataFrame'>\n",
      "RangeIndex: 15366 entries, 0 to 15365\n",
      "Data columns (total 7 columns):\n",
      " #   Column       Non-Null Count  Dtype \n",
      "---  ------       --------------  ----- \n",
      " 0   id           15366 non-null  int64 \n",
      " 1   object_name  15366 non-null  object\n",
      " 2   chain        15366 non-null  bool  \n",
      " 3   object_type  15366 non-null  object\n",
      " 4   address      15366 non-null  object\n",
      " 5   number       15366 non-null  int64 \n",
      " 6   street       15366 non-null  object\n",
      "dtypes: bool(1), int64(2), object(4)\n",
      "memory usage: 735.4+ KB\n"
     ]
    },
    {
     "data": {
      "text/html": [
       "<div>\n",
       "<style scoped>\n",
       "    .dataframe tbody tr th:only-of-type {\n",
       "        vertical-align: middle;\n",
       "    }\n",
       "\n",
       "    .dataframe tbody tr th {\n",
       "        vertical-align: top;\n",
       "    }\n",
       "\n",
       "    .dataframe thead th {\n",
       "        text-align: right;\n",
       "    }\n",
       "</style>\n",
       "<table border=\"1\" class=\"dataframe\">\n",
       "  <thead>\n",
       "    <tr style=\"text-align: right;\">\n",
       "      <th></th>\n",
       "      <th>id</th>\n",
       "      <th>object_name</th>\n",
       "      <th>chain</th>\n",
       "      <th>object_type</th>\n",
       "      <th>address</th>\n",
       "      <th>number</th>\n",
       "      <th>street</th>\n",
       "    </tr>\n",
       "  </thead>\n",
       "  <tbody>\n",
       "    <tr>\n",
       "      <th>0</th>\n",
       "      <td>151635</td>\n",
       "      <td>сметана</td>\n",
       "      <td>False</td>\n",
       "      <td>кафе</td>\n",
       "      <td>город Москва, улица Егора Абакумова, дом 9</td>\n",
       "      <td>48</td>\n",
       "      <td>улица Егора Абакумова</td>\n",
       "    </tr>\n",
       "    <tr>\n",
       "      <th>1</th>\n",
       "      <td>77874</td>\n",
       "      <td>родник</td>\n",
       "      <td>False</td>\n",
       "      <td>кафе</td>\n",
       "      <td>город Москва, улица Талалихина, дом 2/1, корпус 1</td>\n",
       "      <td>35</td>\n",
       "      <td>улица Талалихина</td>\n",
       "    </tr>\n",
       "    <tr>\n",
       "      <th>2</th>\n",
       "      <td>24309</td>\n",
       "      <td>кафе «академия»</td>\n",
       "      <td>False</td>\n",
       "      <td>кафе</td>\n",
       "      <td>город Москва, Абельмановская улица, дом 6</td>\n",
       "      <td>95</td>\n",
       "      <td>Абельмановская улица</td>\n",
       "    </tr>\n",
       "    <tr>\n",
       "      <th>3</th>\n",
       "      <td>21894</td>\n",
       "      <td>пиццетория</td>\n",
       "      <td>True</td>\n",
       "      <td>кафе</td>\n",
       "      <td>город Москва, Абрамцевская улица, дом 1</td>\n",
       "      <td>40</td>\n",
       "      <td>Абрамцевская улица</td>\n",
       "    </tr>\n",
       "    <tr>\n",
       "      <th>4</th>\n",
       "      <td>119365</td>\n",
       "      <td>кафе «вишневая метель»</td>\n",
       "      <td>False</td>\n",
       "      <td>кафе</td>\n",
       "      <td>город Москва, Абрамцевская улица, дом 9, корпус 1</td>\n",
       "      <td>50</td>\n",
       "      <td>Абрамцевская улица</td>\n",
       "    </tr>\n",
       "  </tbody>\n",
       "</table>\n",
       "</div>"
      ],
      "text/plain": [
       "       id             object_name  chain object_type  \\\n",
       "0  151635                 сметана  False        кафе   \n",
       "1   77874                  родник  False        кафе   \n",
       "2   24309         кафе «академия»  False        кафе   \n",
       "3   21894              пиццетория   True        кафе   \n",
       "4  119365  кафе «вишневая метель»  False        кафе   \n",
       "\n",
       "                                             address  number  \\\n",
       "0         город Москва, улица Егора Абакумова, дом 9      48   \n",
       "1  город Москва, улица Талалихина, дом 2/1, корпус 1      35   \n",
       "2          город Москва, Абельмановская улица, дом 6      95   \n",
       "3            город Москва, Абрамцевская улица, дом 1      40   \n",
       "4  город Москва, Абрамцевская улица, дом 9, корпус 1      50   \n",
       "\n",
       "                  street  \n",
       "0  улица Егора Абакумова  \n",
       "1       улица Талалихина  \n",
       "2   Абельмановская улица  \n",
       "3     Абрамцевская улица  \n",
       "4     Абрамцевская улица  "
      ]
     },
     "execution_count": 21,
     "metadata": {},
     "output_type": "execute_result"
    }
   ],
   "source": [
    "# выводим основную информацию\n",
    "data.info()\n",
    "data.head()"
   ]
  },
  {
   "cell_type": "markdown",
   "metadata": {},
   "source": [
    "На первый взгляд, функция сработала как надо, однако не следует забывать о принятых исключениях."
   ]
  },
  {
   "cell_type": "code",
   "execution_count": 22,
   "metadata": {},
   "outputs": [],
   "source": [
    "# убираем \"неформатные\" адреса и улицы\n",
    "data = data[data['street'] != 'non-format']"
   ]
  },
  {
   "cell_type": "code",
   "execution_count": 23,
   "metadata": {},
   "outputs": [
    {
     "name": "stdout",
     "output_type": "stream",
     "text": [
      "<class 'pandas.core.frame.DataFrame'>\n",
      "Int64Index: 14709 entries, 0 to 15365\n",
      "Data columns (total 7 columns):\n",
      " #   Column       Non-Null Count  Dtype \n",
      "---  ------       --------------  ----- \n",
      " 0   id           14709 non-null  int64 \n",
      " 1   object_name  14709 non-null  object\n",
      " 2   chain        14709 non-null  bool  \n",
      " 3   object_type  14709 non-null  object\n",
      " 4   address      14709 non-null  object\n",
      " 5   number       14709 non-null  int64 \n",
      " 6   street       14709 non-null  object\n",
      "dtypes: bool(1), int64(2), object(4)\n",
      "memory usage: 818.8+ KB\n"
     ]
    },
    {
     "data": {
      "text/html": [
       "<div>\n",
       "<style scoped>\n",
       "    .dataframe tbody tr th:only-of-type {\n",
       "        vertical-align: middle;\n",
       "    }\n",
       "\n",
       "    .dataframe tbody tr th {\n",
       "        vertical-align: top;\n",
       "    }\n",
       "\n",
       "    .dataframe thead th {\n",
       "        text-align: right;\n",
       "    }\n",
       "</style>\n",
       "<table border=\"1\" class=\"dataframe\">\n",
       "  <thead>\n",
       "    <tr style=\"text-align: right;\">\n",
       "      <th></th>\n",
       "      <th>id</th>\n",
       "      <th>object_name</th>\n",
       "      <th>chain</th>\n",
       "      <th>object_type</th>\n",
       "      <th>address</th>\n",
       "      <th>number</th>\n",
       "      <th>street</th>\n",
       "    </tr>\n",
       "  </thead>\n",
       "  <tbody>\n",
       "    <tr>\n",
       "      <th>0</th>\n",
       "      <td>151635</td>\n",
       "      <td>сметана</td>\n",
       "      <td>False</td>\n",
       "      <td>кафе</td>\n",
       "      <td>город Москва, улица Егора Абакумова, дом 9</td>\n",
       "      <td>48</td>\n",
       "      <td>улица Егора Абакумова</td>\n",
       "    </tr>\n",
       "    <tr>\n",
       "      <th>1</th>\n",
       "      <td>77874</td>\n",
       "      <td>родник</td>\n",
       "      <td>False</td>\n",
       "      <td>кафе</td>\n",
       "      <td>город Москва, улица Талалихина, дом 2/1, корпус 1</td>\n",
       "      <td>35</td>\n",
       "      <td>улица Талалихина</td>\n",
       "    </tr>\n",
       "    <tr>\n",
       "      <th>2</th>\n",
       "      <td>24309</td>\n",
       "      <td>кафе «академия»</td>\n",
       "      <td>False</td>\n",
       "      <td>кафе</td>\n",
       "      <td>город Москва, Абельмановская улица, дом 6</td>\n",
       "      <td>95</td>\n",
       "      <td>Абельмановская улица</td>\n",
       "    </tr>\n",
       "    <tr>\n",
       "      <th>3</th>\n",
       "      <td>21894</td>\n",
       "      <td>пиццетория</td>\n",
       "      <td>True</td>\n",
       "      <td>кафе</td>\n",
       "      <td>город Москва, Абрамцевская улица, дом 1</td>\n",
       "      <td>40</td>\n",
       "      <td>Абрамцевская улица</td>\n",
       "    </tr>\n",
       "    <tr>\n",
       "      <th>4</th>\n",
       "      <td>119365</td>\n",
       "      <td>кафе «вишневая метель»</td>\n",
       "      <td>False</td>\n",
       "      <td>кафе</td>\n",
       "      <td>город Москва, Абрамцевская улица, дом 9, корпус 1</td>\n",
       "      <td>50</td>\n",
       "      <td>Абрамцевская улица</td>\n",
       "    </tr>\n",
       "  </tbody>\n",
       "</table>\n",
       "</div>"
      ],
      "text/plain": [
       "       id             object_name  chain object_type  \\\n",
       "0  151635                 сметана  False        кафе   \n",
       "1   77874                  родник  False        кафе   \n",
       "2   24309         кафе «академия»  False        кафе   \n",
       "3   21894              пиццетория   True        кафе   \n",
       "4  119365  кафе «вишневая метель»  False        кафе   \n",
       "\n",
       "                                             address  number  \\\n",
       "0         город Москва, улица Егора Абакумова, дом 9      48   \n",
       "1  город Москва, улица Талалихина, дом 2/1, корпус 1      35   \n",
       "2          город Москва, Абельмановская улица, дом 6      95   \n",
       "3            город Москва, Абрамцевская улица, дом 1      40   \n",
       "4  город Москва, Абрамцевская улица, дом 9, корпус 1      50   \n",
       "\n",
       "                  street  \n",
       "0  улица Егора Абакумова  \n",
       "1       улица Талалихина  \n",
       "2   Абельмановская улица  \n",
       "3     Абрамцевская улица  \n",
       "4     Абрамцевская улица  "
      ]
     },
     "execution_count": 23,
     "metadata": {},
     "output_type": "execute_result"
    }
   ],
   "source": [
    "# выводим основную информацию\n",
    "data.info()\n",
    "data.head()"
   ]
  },
  {
   "cell_type": "markdown",
   "metadata": {},
   "source": [
    "В ходе отсева было удалено 657 записей, что составляет не более 5% всех данных."
   ]
  },
  {
   "cell_type": "markdown",
   "metadata": {},
   "source": [
    "Посчитаем количество объектов общественного питания на каждой улице."
   ]
  },
  {
   "cell_type": "code",
   "execution_count": 24,
   "metadata": {},
   "outputs": [],
   "source": [
    "# группируем количество объектов по улицам с сортировкой\n",
    "streets_count = data.groupby('street').agg({'object_type': 'count'}).sort_values(by='object_type', ascending=False).reset_index()"
   ]
  },
  {
   "cell_type": "markdown",
   "metadata": {},
   "source": [
    "Посмотрим топ-10 улиц по количеству объектов."
   ]
  },
  {
   "cell_type": "code",
   "execution_count": 25,
   "metadata": {},
   "outputs": [
    {
     "data": {
      "text/html": [
       "<div>\n",
       "<style scoped>\n",
       "    .dataframe tbody tr th:only-of-type {\n",
       "        vertical-align: middle;\n",
       "    }\n",
       "\n",
       "    .dataframe tbody tr th {\n",
       "        vertical-align: top;\n",
       "    }\n",
       "\n",
       "    .dataframe thead th {\n",
       "        text-align: right;\n",
       "    }\n",
       "</style>\n",
       "<table border=\"1\" class=\"dataframe\">\n",
       "  <thead>\n",
       "    <tr style=\"text-align: right;\">\n",
       "      <th></th>\n",
       "      <th>street</th>\n",
       "      <th>object_type</th>\n",
       "    </tr>\n",
       "  </thead>\n",
       "  <tbody>\n",
       "    <tr>\n",
       "      <th>0</th>\n",
       "      <td>проспект Мира</td>\n",
       "      <td>204</td>\n",
       "    </tr>\n",
       "    <tr>\n",
       "      <th>1</th>\n",
       "      <td>Профсоюзная улица</td>\n",
       "      <td>182</td>\n",
       "    </tr>\n",
       "    <tr>\n",
       "      <th>2</th>\n",
       "      <td>Ленинградский проспект</td>\n",
       "      <td>171</td>\n",
       "    </tr>\n",
       "    <tr>\n",
       "      <th>3</th>\n",
       "      <td>Пресненская набережная</td>\n",
       "      <td>167</td>\n",
       "    </tr>\n",
       "    <tr>\n",
       "      <th>4</th>\n",
       "      <td>Варшавское шоссе</td>\n",
       "      <td>162</td>\n",
       "    </tr>\n",
       "    <tr>\n",
       "      <th>5</th>\n",
       "      <td>Ленинский проспект</td>\n",
       "      <td>148</td>\n",
       "    </tr>\n",
       "    <tr>\n",
       "      <th>6</th>\n",
       "      <td>проспект Вернадского</td>\n",
       "      <td>132</td>\n",
       "    </tr>\n",
       "    <tr>\n",
       "      <th>7</th>\n",
       "      <td>Кутузовский проспект</td>\n",
       "      <td>114</td>\n",
       "    </tr>\n",
       "    <tr>\n",
       "      <th>8</th>\n",
       "      <td>Каширское шоссе</td>\n",
       "      <td>112</td>\n",
       "    </tr>\n",
       "    <tr>\n",
       "      <th>9</th>\n",
       "      <td>Кировоградская улица</td>\n",
       "      <td>110</td>\n",
       "    </tr>\n",
       "  </tbody>\n",
       "</table>\n",
       "</div>"
      ],
      "text/plain": [
       "                   street  object_type\n",
       "0           проспект Мира          204\n",
       "1       Профсоюзная улица          182\n",
       "2  Ленинградский проспект          171\n",
       "3  Пресненская набережная          167\n",
       "4        Варшавское шоссе          162\n",
       "5      Ленинский проспект          148\n",
       "6    проспект Вернадского          132\n",
       "7    Кутузовский проспект          114\n",
       "8         Каширское шоссе          112\n",
       "9    Кировоградская улица          110"
      ]
     },
     "execution_count": 25,
     "metadata": {},
     "output_type": "execute_result"
    }
   ],
   "source": [
    "# выбираем топ-10 улиц по числу объектов\n",
    "streets_top = streets_count.head(10)\n",
    "\n",
    "streets_top"
   ]
  },
  {
   "cell_type": "markdown",
   "metadata": {},
   "source": [
    "Построим график. Используем другую цветовую гамму, чтобы по смыслу визуально отделить данный график от предыдущего."
   ]
  },
  {
   "cell_type": "code",
   "execution_count": 26,
   "metadata": {},
   "outputs": [
    {
     "data": {
      "image/png": "[encoded data removed]",
      "text/plain": [
       "<Figure size 864x432 with 1 Axes>"
      ]
     },
     "metadata": {
      "needs_background": "light"
     },
     "output_type": "display_data"
    }
   ],
   "source": [
    "#cтроим столбчатую диаграмму\n",
    "pal = sns.color_palette('Set1')\n",
    "fig = plt.figure(figsize = (12, 6))\n",
    "graph = sns.barplot(x='object_type', y='street', data=streets_top, palette=pal)\n",
    "\n",
    "for row in range(len(streets_top)):\n",
    "    graph.text(1, row, round(streets_top.loc[row , 'object_type'], 1), fontsize=11)\n",
    "\n",
    "sns.despine(bottom=False, left=False)\n",
    "plt.xlabel('количество заведений', fontsize=12)\n",
    "plt.ylabel('')\n",
    "plt.title('Топ-10 улиц по количеству объектов питания', fontsize=18)\n",
    "plt.tick_params(labelsize=11.5)\n",
    "plt.show()"
   ]
  },
  {
   "cell_type": "markdown",
   "metadata": {},
   "source": [
    "Можно сказать, что объекты питания расположены преимущественно вдоль южных и юго-западных направлений движения по основным дорогам города. В целом такая картина представляется реалистичной, с учетом социально-экономического распределения населения Москвы."
   ]
  },
  {
   "cell_type": "markdown",
   "metadata": {},
   "source": [
    "Теперь найдем улицы только с одним объектом питания."
   ]
  },
  {
   "cell_type": "code",
   "execution_count": 27,
   "metadata": {},
   "outputs": [
    {
     "data": {
      "text/html": [
       "<div>\n",
       "<style scoped>\n",
       "    .dataframe tbody tr th:only-of-type {\n",
       "        vertical-align: middle;\n",
       "    }\n",
       "\n",
       "    .dataframe tbody tr th {\n",
       "        vertical-align: top;\n",
       "    }\n",
       "\n",
       "    .dataframe thead th {\n",
       "        text-align: right;\n",
       "    }\n",
       "</style>\n",
       "<table border=\"1\" class=\"dataframe\">\n",
       "  <thead>\n",
       "    <tr style=\"text-align: right;\">\n",
       "      <th></th>\n",
       "      <th>street</th>\n",
       "      <th>object_type</th>\n",
       "    </tr>\n",
       "  </thead>\n",
       "  <tbody>\n",
       "    <tr>\n",
       "      <th>1298</th>\n",
       "      <td>2-я улица Энтузиастов</td>\n",
       "      <td>1</td>\n",
       "    </tr>\n",
       "    <tr>\n",
       "      <th>1299</th>\n",
       "      <td>улица Кутузова</td>\n",
       "      <td>1</td>\n",
       "    </tr>\n",
       "    <tr>\n",
       "      <th>1300</th>\n",
       "      <td>26-й километр Московской Кольцевой Автодороги</td>\n",
       "      <td>1</td>\n",
       "    </tr>\n",
       "    <tr>\n",
       "      <th>1301</th>\n",
       "      <td>Кучин переулок</td>\n",
       "      <td>1</td>\n",
       "    </tr>\n",
       "    <tr>\n",
       "      <th>1302</th>\n",
       "      <td>улица Кубинка</td>\n",
       "      <td>1</td>\n",
       "    </tr>\n",
       "    <tr>\n",
       "      <th>...</th>\n",
       "      <td>...</td>\n",
       "      <td>...</td>\n",
       "    </tr>\n",
       "    <tr>\n",
       "      <th>1858</th>\n",
       "      <td>Зюзинская улица</td>\n",
       "      <td>1</td>\n",
       "    </tr>\n",
       "    <tr>\n",
       "      <th>1859</th>\n",
       "      <td>улица Айвазовского</td>\n",
       "      <td>1</td>\n",
       "    </tr>\n",
       "    <tr>\n",
       "      <th>1860</th>\n",
       "      <td>Ащеулов переулок</td>\n",
       "      <td>1</td>\n",
       "    </tr>\n",
       "    <tr>\n",
       "      <th>1861</th>\n",
       "      <td>улица Академика Арцимовича</td>\n",
       "      <td>1</td>\n",
       "    </tr>\n",
       "    <tr>\n",
       "      <th>1862</th>\n",
       "      <td>Конаковский проезд</td>\n",
       "      <td>1</td>\n",
       "    </tr>\n",
       "  </tbody>\n",
       "</table>\n",
       "<p>565 rows × 2 columns</p>\n",
       "</div>"
      ],
      "text/plain": [
       "                                             street  object_type\n",
       "1298                          2-я улица Энтузиастов            1\n",
       "1299                                 улица Кутузова            1\n",
       "1300  26-й километр Московской Кольцевой Автодороги            1\n",
       "1301                                 Кучин переулок            1\n",
       "1302                                  улица Кубинка            1\n",
       "...                                             ...          ...\n",
       "1858                                Зюзинская улица            1\n",
       "1859                             улица Айвазовского            1\n",
       "1860                               Ащеулов переулок            1\n",
       "1861                     улица Академика Арцимовича            1\n",
       "1862                             Конаковский проезд            1\n",
       "\n",
       "[565 rows x 2 columns]"
      ]
     },
     "execution_count": 27,
     "metadata": {},
     "output_type": "execute_result"
    }
   ],
   "source": [
    "# выбираем улицы с одним объектом\n",
    "streets_one = streets_count[streets_count['object_type'] == 1]\n",
    "\n",
    "streets_one"
   ]
  },
  {
   "cell_type": "markdown",
   "metadata": {},
   "source": [
    "Для формирования лучшего представления о полученных данных целесообразно привязать улицы к районам города."
   ]
  },
  {
   "cell_type": "markdown",
   "metadata": {},
   "source": [
    "Для этого загрузим информацию из классификатора улиц Москвы с портала открытых данных."
   ]
  },
  {
   "cell_type": "code",
   "execution_count": 28,
   "metadata": {},
   "outputs": [
    {
     "data": {
      "text/html": [
       "<div>\n",
       "<style scoped>\n",
       "    .dataframe tbody tr th:only-of-type {\n",
       "        vertical-align: middle;\n",
       "    }\n",
       "\n",
       "    .dataframe tbody tr th {\n",
       "        vertical-align: top;\n",
       "    }\n",
       "\n",
       "    .dataframe thead th {\n",
       "        text-align: right;\n",
       "    }\n",
       "</style>\n",
       "<table border=\"1\" class=\"dataframe\">\n",
       "  <thead>\n",
       "    <tr style=\"text-align: right;\">\n",
       "      <th></th>\n",
       "      <th>Полное наименование</th>\n",
       "      <th>Сокращённое наименование</th>\n",
       "      <th>Код</th>\n",
       "      <th>Транслитерация</th>\n",
       "      <th>Код вида</th>\n",
       "      <th>Код ОМК ТМ</th>\n",
       "      <th>Код ОМК ТЕ</th>\n",
       "      <th>Код КЛАДР</th>\n",
       "      <th>global_id</th>\n",
       "      <th>UM_NAMEF_en</th>\n",
       "      <th>UM_NAMES_en</th>\n",
       "      <th>UM_CODE_en</th>\n",
       "      <th>UM_TRANS_en</th>\n",
       "      <th>UM_TYPE_en</th>\n",
       "      <th>UM_TM_en</th>\n",
       "      <th>UM_TE_en</th>\n",
       "      <th>UM_KLADR_en</th>\n",
       "    </tr>\n",
       "  </thead>\n",
       "  <tbody>\n",
       "    <tr>\n",
       "      <th>0</th>\n",
       "      <td>1-й Ирининский переулок</td>\n",
       "      <td>1-й Ирининский пер.</td>\n",
       "      <td>8880</td>\n",
       "      <td>Pervy'j Irininskij pereulok</td>\n",
       "      <td>2</td>\n",
       "      <td>NaN</td>\n",
       "      <td>102</td>\n",
       "      <td>7,7E+16</td>\n",
       "      <td>58481065</td>\n",
       "      <td>NaN</td>\n",
       "      <td>NaN</td>\n",
       "      <td>NaN</td>\n",
       "      <td>NaN</td>\n",
       "      <td>NaN</td>\n",
       "      <td>NaN</td>\n",
       "      <td>NaN</td>\n",
       "      <td>NaN</td>\n",
       "    </tr>\n",
       "    <tr>\n",
       "      <th>1</th>\n",
       "      <td>2-й Ирининский переулок</td>\n",
       "      <td>2-й Ирининский пер.</td>\n",
       "      <td>8890</td>\n",
       "      <td>Vtoroj Irininskij pereulok</td>\n",
       "      <td>2</td>\n",
       "      <td>NaN</td>\n",
       "      <td>102</td>\n",
       "      <td>7,7E+16</td>\n",
       "      <td>58481066</td>\n",
       "      <td>NaN</td>\n",
       "      <td>NaN</td>\n",
       "      <td>NaN</td>\n",
       "      <td>NaN</td>\n",
       "      <td>NaN</td>\n",
       "      <td>NaN</td>\n",
       "      <td>NaN</td>\n",
       "      <td>NaN</td>\n",
       "    </tr>\n",
       "    <tr>\n",
       "      <th>2</th>\n",
       "      <td>3-й Ирининский переулок</td>\n",
       "      <td>3-й Ирининский пер.</td>\n",
       "      <td>8891</td>\n",
       "      <td>Tretij Irininskij pereulok</td>\n",
       "      <td>2</td>\n",
       "      <td>NaN</td>\n",
       "      <td>102</td>\n",
       "      <td>7,7E+16</td>\n",
       "      <td>58481067</td>\n",
       "      <td>NaN</td>\n",
       "      <td>NaN</td>\n",
       "      <td>NaN</td>\n",
       "      <td>NaN</td>\n",
       "      <td>NaN</td>\n",
       "      <td>NaN</td>\n",
       "      <td>NaN</td>\n",
       "      <td>NaN</td>\n",
       "    </tr>\n",
       "    <tr>\n",
       "      <th>3</th>\n",
       "      <td>Иркутская улица</td>\n",
       "      <td>Иркутская ул.</td>\n",
       "      <td>8910</td>\n",
       "      <td>Irkutskaya ulicza</td>\n",
       "      <td>1</td>\n",
       "      <td>NaN</td>\n",
       "      <td>406</td>\n",
       "      <td>7,7E+16</td>\n",
       "      <td>58481068</td>\n",
       "      <td>NaN</td>\n",
       "      <td>NaN</td>\n",
       "      <td>NaN</td>\n",
       "      <td>NaN</td>\n",
       "      <td>NaN</td>\n",
       "      <td>NaN</td>\n",
       "      <td>NaN</td>\n",
       "      <td>NaN</td>\n",
       "    </tr>\n",
       "    <tr>\n",
       "      <th>4</th>\n",
       "      <td>1-й Иртышский проезд</td>\n",
       "      <td>1-й Иртышский пр.</td>\n",
       "      <td>8920</td>\n",
       "      <td>Pervy'j Irty'shskij proezd</td>\n",
       "      <td>3</td>\n",
       "      <td>NaN</td>\n",
       "      <td>406</td>\n",
       "      <td>7,7E+16</td>\n",
       "      <td>58481069</td>\n",
       "      <td>NaN</td>\n",
       "      <td>NaN</td>\n",
       "      <td>NaN</td>\n",
       "      <td>NaN</td>\n",
       "      <td>NaN</td>\n",
       "      <td>NaN</td>\n",
       "      <td>NaN</td>\n",
       "      <td>NaN</td>\n",
       "    </tr>\n",
       "  </tbody>\n",
       "</table>\n",
       "</div>"
      ],
      "text/plain": [
       "       Полное наименование Сокращённое наименование   Код  \\\n",
       "0  1-й Ирининский переулок      1-й Ирининский пер.  8880   \n",
       "1  2-й Ирининский переулок      2-й Ирининский пер.  8890   \n",
       "2  3-й Ирининский переулок      3-й Ирининский пер.  8891   \n",
       "3          Иркутская улица            Иркутская ул.  8910   \n",
       "4     1-й Иртышский проезд        1-й Иртышский пр.  8920   \n",
       "\n",
       "                Транслитерация  Код вида Код ОМК ТМ Код ОМК ТЕ Код КЛАДР  \\\n",
       "0  Pervy'j Irininskij pereulok         2        NaN        102   7,7E+16   \n",
       "1   Vtoroj Irininskij pereulok         2        NaN        102   7,7E+16   \n",
       "2   Tretij Irininskij pereulok         2        NaN        102   7,7E+16   \n",
       "3            Irkutskaya ulicza         1        NaN        406   7,7E+16   \n",
       "4   Pervy'j Irty'shskij proezd         3        NaN        406   7,7E+16   \n",
       "\n",
       "   global_id  UM_NAMEF_en  UM_NAMES_en  UM_CODE_en  UM_TRANS_en  UM_TYPE_en  \\\n",
       "0   58481065          NaN          NaN         NaN          NaN         NaN   \n",
       "1   58481066          NaN          NaN         NaN          NaN         NaN   \n",
       "2   58481067          NaN          NaN         NaN          NaN         NaN   \n",
       "3   58481068          NaN          NaN         NaN          NaN         NaN   \n",
       "4   58481069          NaN          NaN         NaN          NaN         NaN   \n",
       "\n",
       "   UM_TM_en  UM_TE_en  UM_KLADR_en  \n",
       "0       NaN       NaN          NaN  \n",
       "1       NaN       NaN          NaN  \n",
       "2       NaN       NaN          NaN  \n",
       "3       NaN       NaN          NaN  \n",
       "4       NaN       NaN          NaN  "
      ]
     },
     "execution_count": 28,
     "metadata": {},
     "output_type": "execute_result"
    }
   ],
   "source": [
    "# загружаем данные о московских улицах \n",
    "spreadsheet_id = '1zd9lTI186pr2rAEZoiFIYVeSmXttBZqeuSJtkKA4T_0'\n",
    "file_name = 'https://docs.google.com/spreadsheets/d/{}/export?format=csv'.format(spreadsheet_id)\n",
    "r = requests.get(file_name)\n",
    "data_streets = pd.read_csv(BytesIO(r.content), header=[1])\n",
    "data_streets.head()"
   ]
  },
  {
   "cell_type": "markdown",
   "metadata": {},
   "source": [
    "Для удобства оставим только сведения о названии улиц и кодах территориальных единиц (для последующей привязки к районам). "
   ]
  },
  {
   "cell_type": "code",
   "execution_count": 29,
   "metadata": {},
   "outputs": [
    {
     "data": {
      "text/html": [
       "<div>\n",
       "<style scoped>\n",
       "    .dataframe tbody tr th:only-of-type {\n",
       "        vertical-align: middle;\n",
       "    }\n",
       "\n",
       "    .dataframe tbody tr th {\n",
       "        vertical-align: top;\n",
       "    }\n",
       "\n",
       "    .dataframe thead th {\n",
       "        text-align: right;\n",
       "    }\n",
       "</style>\n",
       "<table border=\"1\" class=\"dataframe\">\n",
       "  <thead>\n",
       "    <tr style=\"text-align: right;\">\n",
       "      <th></th>\n",
       "      <th>street</th>\n",
       "      <th>codes</th>\n",
       "    </tr>\n",
       "  </thead>\n",
       "  <tbody>\n",
       "    <tr>\n",
       "      <th>0</th>\n",
       "      <td>1-й Ирининский переулок</td>\n",
       "      <td>102</td>\n",
       "    </tr>\n",
       "    <tr>\n",
       "      <th>1</th>\n",
       "      <td>2-й Ирининский переулок</td>\n",
       "      <td>102</td>\n",
       "    </tr>\n",
       "    <tr>\n",
       "      <th>2</th>\n",
       "      <td>3-й Ирининский переулок</td>\n",
       "      <td>102</td>\n",
       "    </tr>\n",
       "    <tr>\n",
       "      <th>3</th>\n",
       "      <td>Иркутская улица</td>\n",
       "      <td>406</td>\n",
       "    </tr>\n",
       "    <tr>\n",
       "      <th>4</th>\n",
       "      <td>1-й Иртышский проезд</td>\n",
       "      <td>406</td>\n",
       "    </tr>\n",
       "  </tbody>\n",
       "</table>\n",
       "</div>"
      ],
      "text/plain": [
       "                    street codes\n",
       "0  1-й Ирининский переулок   102\n",
       "1  2-й Ирининский переулок   102\n",
       "2  3-й Ирининский переулок   102\n",
       "3          Иркутская улица   406\n",
       "4     1-й Иртышский проезд   406"
      ]
     },
     "execution_count": 29,
     "metadata": {},
     "output_type": "execute_result"
    }
   ],
   "source": [
    "# выбираем необходимые столбцы и переименовываем их для дальнейшей работы\n",
    "data_streets = data_streets[['Полное наименование', 'Код ОМК ТЕ']]\n",
    "data_streets = data_streets.rename(columns={'Полное наименование': 'street', 'Код ОМК ТЕ': 'codes'})\n",
    "\n",
    "data_streets.head()"
   ]
  },
  {
   "cell_type": "markdown",
   "metadata": {},
   "source": [
    "Теперь объединим полученный ранее перечень топ-10 улиц с кодами районов."
   ]
  },
  {
   "cell_type": "code",
   "execution_count": 30,
   "metadata": {},
   "outputs": [
    {
     "data": {
      "text/html": [
       "<div>\n",
       "<style scoped>\n",
       "    .dataframe tbody tr th:only-of-type {\n",
       "        vertical-align: middle;\n",
       "    }\n",
       "\n",
       "    .dataframe tbody tr th {\n",
       "        vertical-align: top;\n",
       "    }\n",
       "\n",
       "    .dataframe thead th {\n",
       "        text-align: right;\n",
       "    }\n",
       "</style>\n",
       "<table border=\"1\" class=\"dataframe\">\n",
       "  <thead>\n",
       "    <tr style=\"text-align: right;\">\n",
       "      <th></th>\n",
       "      <th>street</th>\n",
       "      <th>object_type</th>\n",
       "      <th>codes</th>\n",
       "    </tr>\n",
       "  </thead>\n",
       "  <tbody>\n",
       "    <tr>\n",
       "      <th>0</th>\n",
       "      <td>проспект Мира</td>\n",
       "      <td>204</td>\n",
       "      <td>0105;0301;0309;0310;0312;0313;0317</td>\n",
       "    </tr>\n",
       "    <tr>\n",
       "      <th>1</th>\n",
       "      <td>Профсоюзная улица</td>\n",
       "      <td>182</td>\n",
       "      <td>0701;0704;0707;0709;0710;0712</td>\n",
       "    </tr>\n",
       "    <tr>\n",
       "      <th>2</th>\n",
       "      <td>Ленинградский проспект</td>\n",
       "      <td>171</td>\n",
       "      <td>0201;0202;0214;0217</td>\n",
       "    </tr>\n",
       "    <tr>\n",
       "      <th>3</th>\n",
       "      <td>Пресненская набережная</td>\n",
       "      <td>167</td>\n",
       "      <td>106</td>\n",
       "    </tr>\n",
       "    <tr>\n",
       "      <th>4</th>\n",
       "      <td>Варшавское шоссе</td>\n",
       "      <td>162</td>\n",
       "      <td>0610;0613;0615;0619;0620;0621;0708;0711;1111</td>\n",
       "    </tr>\n",
       "    <tr>\n",
       "      <th>5</th>\n",
       "      <td>Ленинский проспект</td>\n",
       "      <td>148</td>\n",
       "      <td>0110;0610;0702;0706;0707;0709;0814;0817</td>\n",
       "    </tr>\n",
       "    <tr>\n",
       "      <th>6</th>\n",
       "      <td>проспект Вернадского</td>\n",
       "      <td>132</td>\n",
       "      <td>0702;0706;0814;0815;0817</td>\n",
       "    </tr>\n",
       "    <tr>\n",
       "      <th>7</th>\n",
       "      <td>Кутузовский проспект</td>\n",
       "      <td>114</td>\n",
       "      <td>0805;0819</td>\n",
       "    </tr>\n",
       "    <tr>\n",
       "      <th>8</th>\n",
       "      <td>Каширское шоссе</td>\n",
       "      <td>112</td>\n",
       "      <td>0612;0613;0616;0617</td>\n",
       "    </tr>\n",
       "    <tr>\n",
       "      <th>9</th>\n",
       "      <td>Кировоградская улица</td>\n",
       "      <td>110</td>\n",
       "      <td>0619;0620;0621</td>\n",
       "    </tr>\n",
       "  </tbody>\n",
       "</table>\n",
       "</div>"
      ],
      "text/plain": [
       "                   street  object_type  \\\n",
       "0           проспект Мира          204   \n",
       "1       Профсоюзная улица          182   \n",
       "2  Ленинградский проспект          171   \n",
       "3  Пресненская набережная          167   \n",
       "4        Варшавское шоссе          162   \n",
       "5      Ленинский проспект          148   \n",
       "6    проспект Вернадского          132   \n",
       "7    Кутузовский проспект          114   \n",
       "8         Каширское шоссе          112   \n",
       "9    Кировоградская улица          110   \n",
       "\n",
       "                                          codes  \n",
       "0            0105;0301;0309;0310;0312;0313;0317  \n",
       "1                 0701;0704;0707;0709;0710;0712  \n",
       "2                           0201;0202;0214;0217  \n",
       "3                                           106  \n",
       "4  0610;0613;0615;0619;0620;0621;0708;0711;1111  \n",
       "5       0110;0610;0702;0706;0707;0709;0814;0817  \n",
       "6                      0702;0706;0814;0815;0817  \n",
       "7                                     0805;0819  \n",
       "8                           0612;0613;0616;0617  \n",
       "9                                0619;0620;0621  "
      ]
     },
     "execution_count": 30,
     "metadata": {},
     "output_type": "execute_result"
    }
   ],
   "source": [
    "# объединяем топ-10 улиц по числу объектов и таблицу с кодами районов\n",
    "streets_top = streets_top.merge(data_streets, how='left', on='street')\n",
    "\n",
    "streets_top "
   ]
  },
  {
   "cell_type": "markdown",
   "metadata": {},
   "source": [
    "Очевидно, что также необходима таблица соответствия кодов районов их названиям."
   ]
  },
  {
   "cell_type": "markdown",
   "metadata": {},
   "source": [
    "Аналогичным образом возьмем требуемые сведения с портала открытых данных."
   ]
  },
  {
   "cell_type": "code",
   "execution_count": 31,
   "metadata": {},
   "outputs": [
    {
     "data": {
      "text/html": [
       "<div>\n",
       "<style scoped>\n",
       "    .dataframe tbody tr th:only-of-type {\n",
       "        vertical-align: middle;\n",
       "    }\n",
       "\n",
       "    .dataframe tbody tr th {\n",
       "        vertical-align: top;\n",
       "    }\n",
       "\n",
       "    .dataframe thead th {\n",
       "        text-align: right;\n",
       "    }\n",
       "</style>\n",
       "<table border=\"1\" class=\"dataframe\">\n",
       "  <thead>\n",
       "    <tr style=\"text-align: right;\">\n",
       "      <th></th>\n",
       "      <th>Kod</th>\n",
       "      <th>Name</th>\n",
       "      <th>global_id</th>\n",
       "      <th>Latin_name</th>\n",
       "      <th>Type</th>\n",
       "      <th>Kod_okato</th>\n",
       "    </tr>\n",
       "  </thead>\n",
       "  <tbody>\n",
       "    <tr>\n",
       "      <th>0</th>\n",
       "      <td>100</td>\n",
       "      <td>Центральный административный округ</td>\n",
       "      <td>58703558</td>\n",
       "      <td>Czentral`ny'j administrativny'j okrug</td>\n",
       "      <td>2</td>\n",
       "      <td>45286000</td>\n",
       "    </tr>\n",
       "    <tr>\n",
       "      <th>1</th>\n",
       "      <td>101</td>\n",
       "      <td>район Арбат</td>\n",
       "      <td>58703559</td>\n",
       "      <td>rajon Arbat</td>\n",
       "      <td>3</td>\n",
       "      <td>45286552</td>\n",
       "    </tr>\n",
       "    <tr>\n",
       "      <th>2</th>\n",
       "      <td>102</td>\n",
       "      <td>Басманный район</td>\n",
       "      <td>58703560</td>\n",
       "      <td>Basmanny'j rajon</td>\n",
       "      <td>3</td>\n",
       "      <td>45286555</td>\n",
       "    </tr>\n",
       "    <tr>\n",
       "      <th>3</th>\n",
       "      <td>103</td>\n",
       "      <td>район Замоскворечье</td>\n",
       "      <td>58703561</td>\n",
       "      <td>rajon Zamoskvorech`e</td>\n",
       "      <td>3</td>\n",
       "      <td>45286560</td>\n",
       "    </tr>\n",
       "    <tr>\n",
       "      <th>4</th>\n",
       "      <td>104</td>\n",
       "      <td>Красносельский район</td>\n",
       "      <td>58703562</td>\n",
       "      <td>Krasnosel`skij rajon</td>\n",
       "      <td>3</td>\n",
       "      <td>45286565</td>\n",
       "    </tr>\n",
       "  </tbody>\n",
       "</table>\n",
       "</div>"
      ],
      "text/plain": [
       "   Kod                                Name  global_id  \\\n",
       "0  100  Центральный административный округ   58703558   \n",
       "1  101                         район Арбат   58703559   \n",
       "2  102                     Басманный район   58703560   \n",
       "3  103                 район Замоскворечье   58703561   \n",
       "4  104                Красносельский район   58703562   \n",
       "\n",
       "                              Latin_name  Type  Kod_okato  \n",
       "0  Czentral`ny'j administrativny'j okrug     2   45286000  \n",
       "1                            rajon Arbat     3   45286552  \n",
       "2                       Basmanny'j rajon     3   45286555  \n",
       "3                   rajon Zamoskvorech`e     3   45286560  \n",
       "4                   Krasnosel`skij rajon     3   45286565  "
      ]
     },
     "execution_count": 31,
     "metadata": {},
     "output_type": "execute_result"
    }
   ],
   "source": [
    "# загружаем данные о районах города\n",
    "spreadsheet_id = '1lKNHwNKhJtrFqCFPUYMOtwj9iM_BCk17zB5xTHYlgKw'\n",
    "file_name = 'https://docs.google.com/spreadsheets/d/{}/export?format=csv'.format(spreadsheet_id)\n",
    "r = requests.get(file_name)\n",
    "data_districts = pd.read_csv(BytesIO(r.content), header=[0])\n",
    "data_districts.head()"
   ]
  },
  {
   "cell_type": "markdown",
   "metadata": {},
   "source": [
    "Снова для удобства оставим только столбцы с кодом и названием района."
   ]
  },
  {
   "cell_type": "code",
   "execution_count": 32,
   "metadata": {},
   "outputs": [
    {
     "data": {
      "text/html": [
       "<div>\n",
       "<style scoped>\n",
       "    .dataframe tbody tr th:only-of-type {\n",
       "        vertical-align: middle;\n",
       "    }\n",
       "\n",
       "    .dataframe tbody tr th {\n",
       "        vertical-align: top;\n",
       "    }\n",
       "\n",
       "    .dataframe thead th {\n",
       "        text-align: right;\n",
       "    }\n",
       "</style>\n",
       "<table border=\"1\" class=\"dataframe\">\n",
       "  <thead>\n",
       "    <tr style=\"text-align: right;\">\n",
       "      <th></th>\n",
       "      <th>code</th>\n",
       "      <th>district</th>\n",
       "    </tr>\n",
       "  </thead>\n",
       "  <tbody>\n",
       "    <tr>\n",
       "      <th>0</th>\n",
       "      <td>100</td>\n",
       "      <td>Центральный административный округ</td>\n",
       "    </tr>\n",
       "    <tr>\n",
       "      <th>1</th>\n",
       "      <td>101</td>\n",
       "      <td>район Арбат</td>\n",
       "    </tr>\n",
       "    <tr>\n",
       "      <th>2</th>\n",
       "      <td>102</td>\n",
       "      <td>Басманный район</td>\n",
       "    </tr>\n",
       "    <tr>\n",
       "      <th>3</th>\n",
       "      <td>103</td>\n",
       "      <td>район Замоскворечье</td>\n",
       "    </tr>\n",
       "    <tr>\n",
       "      <th>4</th>\n",
       "      <td>104</td>\n",
       "      <td>Красносельский район</td>\n",
       "    </tr>\n",
       "  </tbody>\n",
       "</table>\n",
       "</div>"
      ],
      "text/plain": [
       "   code                            district\n",
       "0   100  Центральный административный округ\n",
       "1   101                         район Арбат\n",
       "2   102                     Басманный район\n",
       "3   103                 район Замоскворечье\n",
       "4   104                Красносельский район"
      ]
     },
     "execution_count": 32,
     "metadata": {},
     "output_type": "execute_result"
    }
   ],
   "source": [
    "# выбираем необходимые столбцы и переименовываем их для дальнейшей работы\n",
    "data_districts = data_districts[['Kod', 'Name']]\n",
    "data_districts = data_districts.rename(columns={'Kod': 'code', 'Name': 'district'})\n",
    "\n",
    "data_districts.head()"
   ]
  },
  {
   "cell_type": "markdown",
   "metadata": {},
   "source": [
    "Поскольку одной улице из нашего перечня могут соответствовать несколько районов, напишем функцию, которая будет составлять список всех районов, относящихся к улице, на основе кодов территориальных единиц."
   ]
  },
  {
   "cell_type": "code",
   "execution_count": 33,
   "metadata": {},
   "outputs": [],
   "source": [
    "# функция для получения списков районов на основе кодов территориальных единиц\n",
    "def get_district(codes, data):\n",
    "    d = []\n",
    "    abc = codes.split(\";\")\n",
    "    for n in abc:\n",
    "        d.append(data[data['code'] == int(n)]['district'].values[0])\n",
    "    return d"
   ]
  },
  {
   "cell_type": "code",
   "execution_count": 34,
   "metadata": {},
   "outputs": [
    {
     "data": {
      "text/html": [
       "<div>\n",
       "<style scoped>\n",
       "    .dataframe tbody tr th:only-of-type {\n",
       "        vertical-align: middle;\n",
       "    }\n",
       "\n",
       "    .dataframe tbody tr th {\n",
       "        vertical-align: top;\n",
       "    }\n",
       "\n",
       "    .dataframe thead th {\n",
       "        text-align: right;\n",
       "    }\n",
       "</style>\n",
       "<table border=\"1\" class=\"dataframe\">\n",
       "  <thead>\n",
       "    <tr style=\"text-align: right;\">\n",
       "      <th></th>\n",
       "      <th>street</th>\n",
       "      <th>object_type</th>\n",
       "      <th>codes</th>\n",
       "      <th>districts</th>\n",
       "    </tr>\n",
       "  </thead>\n",
       "  <tbody>\n",
       "    <tr>\n",
       "      <th>0</th>\n",
       "      <td>проспект Мира</td>\n",
       "      <td>204</td>\n",
       "      <td>0105;0301;0309;0310;0312;0313;0317</td>\n",
       "      <td>[Мещанский район, Алексеевский район, район Ма...</td>\n",
       "    </tr>\n",
       "    <tr>\n",
       "      <th>1</th>\n",
       "      <td>Профсоюзная улица</td>\n",
       "      <td>182</td>\n",
       "      <td>0701;0704;0707;0709;0710;0712</td>\n",
       "      <td>[Академический район, район Коньково, Обручевс...</td>\n",
       "    </tr>\n",
       "    <tr>\n",
       "      <th>2</th>\n",
       "      <td>Ленинградский проспект</td>\n",
       "      <td>171</td>\n",
       "      <td>0201;0202;0214;0217</td>\n",
       "      <td>[район Аэропорт, район Беговой, район Сокол, Х...</td>\n",
       "    </tr>\n",
       "    <tr>\n",
       "      <th>3</th>\n",
       "      <td>Пресненская набережная</td>\n",
       "      <td>167</td>\n",
       "      <td>106</td>\n",
       "      <td>[Пресненский район]</td>\n",
       "    </tr>\n",
       "    <tr>\n",
       "      <th>4</th>\n",
       "      <td>Варшавское шоссе</td>\n",
       "      <td>162</td>\n",
       "      <td>0610;0613;0615;0619;0620;0621;0708;0711;1111</td>\n",
       "      <td>[Донской район, район Нагатино-Садовники, Наго...</td>\n",
       "    </tr>\n",
       "    <tr>\n",
       "      <th>5</th>\n",
       "      <td>Ленинский проспект</td>\n",
       "      <td>148</td>\n",
       "      <td>0110;0610;0702;0706;0707;0709;0814;0817</td>\n",
       "      <td>[район Якиманка, Донской район, Гагаринский ра...</td>\n",
       "    </tr>\n",
       "    <tr>\n",
       "      <th>6</th>\n",
       "      <td>проспект Вернадского</td>\n",
       "      <td>132</td>\n",
       "      <td>0702;0706;0814;0815;0817</td>\n",
       "      <td>[Гагаринский район, Ломоносовский район, район...</td>\n",
       "    </tr>\n",
       "    <tr>\n",
       "      <th>7</th>\n",
       "      <td>Кутузовский проспект</td>\n",
       "      <td>114</td>\n",
       "      <td>0805;0819</td>\n",
       "      <td>[район Дорогомилово, район Фили-Давыдково]</td>\n",
       "    </tr>\n",
       "    <tr>\n",
       "      <th>8</th>\n",
       "      <td>Каширское шоссе</td>\n",
       "      <td>112</td>\n",
       "      <td>0612;0613;0616;0617</td>\n",
       "      <td>[район Москворечье-Сабурово, район Нагатино-Са...</td>\n",
       "    </tr>\n",
       "    <tr>\n",
       "      <th>9</th>\n",
       "      <td>Кировоградская улица</td>\n",
       "      <td>110</td>\n",
       "      <td>0619;0620;0621</td>\n",
       "      <td>[район Чертаново Северное, район Чертаново Цен...</td>\n",
       "    </tr>\n",
       "  </tbody>\n",
       "</table>\n",
       "</div>"
      ],
      "text/plain": [
       "                   street  object_type  \\\n",
       "0           проспект Мира          204   \n",
       "1       Профсоюзная улица          182   \n",
       "2  Ленинградский проспект          171   \n",
       "3  Пресненская набережная          167   \n",
       "4        Варшавское шоссе          162   \n",
       "5      Ленинский проспект          148   \n",
       "6    проспект Вернадского          132   \n",
       "7    Кутузовский проспект          114   \n",
       "8         Каширское шоссе          112   \n",
       "9    Кировоградская улица          110   \n",
       "\n",
       "                                          codes  \\\n",
       "0            0105;0301;0309;0310;0312;0313;0317   \n",
       "1                 0701;0704;0707;0709;0710;0712   \n",
       "2                           0201;0202;0214;0217   \n",
       "3                                           106   \n",
       "4  0610;0613;0615;0619;0620;0621;0708;0711;1111   \n",
       "5       0110;0610;0702;0706;0707;0709;0814;0817   \n",
       "6                      0702;0706;0814;0815;0817   \n",
       "7                                     0805;0819   \n",
       "8                           0612;0613;0616;0617   \n",
       "9                                0619;0620;0621   \n",
       "\n",
       "                                           districts  \n",
       "0  [Мещанский район, Алексеевский район, район Ма...  \n",
       "1  [Академический район, район Коньково, Обручевс...  \n",
       "2  [район Аэропорт, район Беговой, район Сокол, Х...  \n",
       "3                                [Пресненский район]  \n",
       "4  [Донской район, район Нагатино-Садовники, Наго...  \n",
       "5  [район Якиманка, Донской район, Гагаринский ра...  \n",
       "6  [Гагаринский район, Ломоносовский район, район...  \n",
       "7         [район Дорогомилово, район Фили-Давыдково]  \n",
       "8  [район Москворечье-Сабурово, район Нагатино-Са...  \n",
       "9  [район Чертаново Северное, район Чертаново Цен...  "
      ]
     },
     "execution_count": 34,
     "metadata": {},
     "output_type": "execute_result"
    }
   ],
   "source": [
    "# применяем функцию к столбцу с кодами и записываем список районов в отдельный столбец districts\n",
    "streets_top['districts'] = streets_top['codes'].apply(lambda x: get_district(x, data_districts))\n",
    "\n",
    "streets_top"
   ]
  },
  {
   "cell_type": "markdown",
   "metadata": {},
   "source": [
    "Привязка к районам прошла успешно."
   ]
  },
  {
   "cell_type": "markdown",
   "metadata": {},
   "source": [
    "Теперь, получив общий список районов по \"топовым\" улицам, можно посчитать сколько раз в нем встречается каждый район. "
   ]
  },
  {
   "cell_type": "code",
   "execution_count": 35,
   "metadata": {},
   "outputs": [
    {
     "data": {
      "text/plain": [
       "[('Обручевский район', 2),\n",
       " ('район Тёплый Стан', 2),\n",
       " ('Донской район', 2),\n",
       " ('район Нагатино-Садовники', 2),\n",
       " ('район Чертаново Северное', 2),\n",
       " ('район Чертаново Центральное', 2),\n",
       " ('район Чертаново Южное', 2),\n",
       " ('Гагаринский район', 2),\n",
       " ('Ломоносовский район', 2),\n",
       " ('район Проспект Вернадского', 2),\n",
       " ('район Тропарёво-Никулино', 2),\n",
       " ('Мещанский район', 1),\n",
       " ('Алексеевский район', 1),\n",
       " ('район Марьина Роща', 1),\n",
       " ('Останкинский район', 1),\n",
       " ('район Ростокино', 1),\n",
       " ('район Свиблово', 1),\n",
       " ('Ярославский район', 1),\n",
       " ('Академический район', 1),\n",
       " ('район Коньково', 1),\n",
       " ('район Черёмушки', 1),\n",
       " ('район Ясенево', 1),\n",
       " ('район Аэропорт', 1),\n",
       " ('район Беговой', 1),\n",
       " ('район Сокол', 1),\n",
       " ('Хорошёвский район', 1),\n",
       " ('Пресненский район', 1),\n",
       " ('Нагорный район', 1),\n",
       " ('район Северное Бутово', 1),\n",
       " ('район Южное Бутово', 1),\n",
       " ('поселение Щербинка', 1),\n",
       " ('район Якиманка', 1),\n",
       " ('район Раменки', 1),\n",
       " ('район Дорогомилово', 1),\n",
       " ('район Фили-Давыдково', 1),\n",
       " ('район Москворечье-Сабурово', 1),\n",
       " ('район Орехово-Борисово Северное', 1),\n",
       " ('район Орехово-Борисово Южное', 1)]"
      ]
     },
     "execution_count": 35,
     "metadata": {},
     "output_type": "execute_result"
    }
   ],
   "source": [
    "# считаем число повторений каждого района в общем списке\n",
    "Counter(streets_top['districts'].sum()).most_common()"
   ]
  },
  {
   "cell_type": "markdown",
   "metadata": {},
   "source": [
    "Мы видим, что некоторые районы встречаются в списке дважды. Вероятно, их можно считать наиболее перспективными с точки зрения размещения заведений общественного питания."
   ]
  },
  {
   "cell_type": "markdown",
   "metadata": {},
   "source": [
    "Теперь применим аналогичные инструменты к перечню улиц только с одним объектом."
   ]
  },
  {
   "cell_type": "code",
   "execution_count": 36,
   "metadata": {},
   "outputs": [
    {
     "data": {
      "text/html": [
       "<div>\n",
       "<style scoped>\n",
       "    .dataframe tbody tr th:only-of-type {\n",
       "        vertical-align: middle;\n",
       "    }\n",
       "\n",
       "    .dataframe tbody tr th {\n",
       "        vertical-align: top;\n",
       "    }\n",
       "\n",
       "    .dataframe thead th {\n",
       "        text-align: right;\n",
       "    }\n",
       "</style>\n",
       "<table border=\"1\" class=\"dataframe\">\n",
       "  <thead>\n",
       "    <tr style=\"text-align: right;\">\n",
       "      <th></th>\n",
       "      <th>street</th>\n",
       "      <th>object_type</th>\n",
       "      <th>codes</th>\n",
       "    </tr>\n",
       "  </thead>\n",
       "  <tbody>\n",
       "    <tr>\n",
       "      <th>0</th>\n",
       "      <td>2-я улица Энтузиастов</td>\n",
       "      <td>1</td>\n",
       "      <td>413</td>\n",
       "    </tr>\n",
       "    <tr>\n",
       "      <th>1</th>\n",
       "      <td>улица Кутузова</td>\n",
       "      <td>1</td>\n",
       "      <td>809</td>\n",
       "    </tr>\n",
       "    <tr>\n",
       "      <th>2</th>\n",
       "      <td>улица Кутузова</td>\n",
       "      <td>1</td>\n",
       "      <td>1111</td>\n",
       "    </tr>\n",
       "    <tr>\n",
       "      <th>3</th>\n",
       "      <td>26-й километр Московской Кольцевой Автодороги</td>\n",
       "      <td>1</td>\n",
       "      <td>606</td>\n",
       "    </tr>\n",
       "    <tr>\n",
       "      <th>4</th>\n",
       "      <td>Кучин переулок</td>\n",
       "      <td>1</td>\n",
       "      <td>301</td>\n",
       "    </tr>\n",
       "    <tr>\n",
       "      <th>...</th>\n",
       "      <td>...</td>\n",
       "      <td>...</td>\n",
       "      <td>...</td>\n",
       "    </tr>\n",
       "    <tr>\n",
       "      <th>629</th>\n",
       "      <td>Зюзинская улица</td>\n",
       "      <td>1</td>\n",
       "      <td>710</td>\n",
       "    </tr>\n",
       "    <tr>\n",
       "      <th>630</th>\n",
       "      <td>улица Айвазовского</td>\n",
       "      <td>1</td>\n",
       "      <td>712</td>\n",
       "    </tr>\n",
       "    <tr>\n",
       "      <th>631</th>\n",
       "      <td>Ащеулов переулок</td>\n",
       "      <td>1</td>\n",
       "      <td>104</td>\n",
       "    </tr>\n",
       "    <tr>\n",
       "      <th>632</th>\n",
       "      <td>улица Академика Арцимовича</td>\n",
       "      <td>1</td>\n",
       "      <td>704</td>\n",
       "    </tr>\n",
       "    <tr>\n",
       "      <th>633</th>\n",
       "      <td>Конаковский проезд</td>\n",
       "      <td>1</td>\n",
       "      <td>207</td>\n",
       "    </tr>\n",
       "  </tbody>\n",
       "</table>\n",
       "<p>605 rows × 3 columns</p>\n",
       "</div>"
      ],
      "text/plain": [
       "                                            street  object_type codes\n",
       "0                            2-я улица Энтузиастов            1   413\n",
       "1                                   улица Кутузова            1   809\n",
       "2                                   улица Кутузова            1  1111\n",
       "3    26-й километр Московской Кольцевой Автодороги            1   606\n",
       "4                                   Кучин переулок            1   301\n",
       "..                                             ...          ...   ...\n",
       "629                                Зюзинская улица            1   710\n",
       "630                             улица Айвазовского            1   712\n",
       "631                               Ащеулов переулок            1   104\n",
       "632                     улица Академика Арцимовича            1   704\n",
       "633                             Конаковский проезд            1   207\n",
       "\n",
       "[605 rows x 3 columns]"
      ]
     },
     "execution_count": 36,
     "metadata": {},
     "output_type": "execute_result"
    }
   ],
   "source": [
    "# объединяем улицы с одним объектом и таблицу с кодами районов\n",
    "streets_one = streets_one.merge(data_streets, how='left', on='street')\n",
    "\n",
    "# избавляемся от потенциальных пропусков, вызванных оставшимися артефактами в адресах\n",
    "streets_one = streets_one.dropna()\n",
    "\n",
    "streets_one"
   ]
  },
  {
   "cell_type": "code",
   "execution_count": 37,
   "metadata": {},
   "outputs": [
    {
     "data": {
      "text/html": [
       "<div>\n",
       "<style scoped>\n",
       "    .dataframe tbody tr th:only-of-type {\n",
       "        vertical-align: middle;\n",
       "    }\n",
       "\n",
       "    .dataframe tbody tr th {\n",
       "        vertical-align: top;\n",
       "    }\n",
       "\n",
       "    .dataframe thead th {\n",
       "        text-align: right;\n",
       "    }\n",
       "</style>\n",
       "<table border=\"1\" class=\"dataframe\">\n",
       "  <thead>\n",
       "    <tr style=\"text-align: right;\">\n",
       "      <th></th>\n",
       "      <th>street</th>\n",
       "      <th>object_type</th>\n",
       "      <th>codes</th>\n",
       "      <th>districts</th>\n",
       "    </tr>\n",
       "  </thead>\n",
       "  <tbody>\n",
       "    <tr>\n",
       "      <th>0</th>\n",
       "      <td>2-я улица Энтузиастов</td>\n",
       "      <td>1</td>\n",
       "      <td>413</td>\n",
       "      <td>[район Перово]</td>\n",
       "    </tr>\n",
       "    <tr>\n",
       "      <th>1</th>\n",
       "      <td>улица Кутузова</td>\n",
       "      <td>1</td>\n",
       "      <td>809</td>\n",
       "      <td>[Можайский район]</td>\n",
       "    </tr>\n",
       "    <tr>\n",
       "      <th>2</th>\n",
       "      <td>улица Кутузова</td>\n",
       "      <td>1</td>\n",
       "      <td>1111</td>\n",
       "      <td>[поселение Щербинка]</td>\n",
       "    </tr>\n",
       "    <tr>\n",
       "      <th>3</th>\n",
       "      <td>26-й километр Московской Кольцевой Автодороги</td>\n",
       "      <td>1</td>\n",
       "      <td>606</td>\n",
       "      <td>[район Бирюлёво Восточное]</td>\n",
       "    </tr>\n",
       "    <tr>\n",
       "      <th>4</th>\n",
       "      <td>Кучин переулок</td>\n",
       "      <td>1</td>\n",
       "      <td>301</td>\n",
       "      <td>[Алексеевский район]</td>\n",
       "    </tr>\n",
       "    <tr>\n",
       "      <th>...</th>\n",
       "      <td>...</td>\n",
       "      <td>...</td>\n",
       "      <td>...</td>\n",
       "      <td>...</td>\n",
       "    </tr>\n",
       "    <tr>\n",
       "      <th>629</th>\n",
       "      <td>Зюзинская улица</td>\n",
       "      <td>1</td>\n",
       "      <td>710</td>\n",
       "      <td>[район Черёмушки]</td>\n",
       "    </tr>\n",
       "    <tr>\n",
       "      <th>630</th>\n",
       "      <td>улица Айвазовского</td>\n",
       "      <td>1</td>\n",
       "      <td>712</td>\n",
       "      <td>[район Ясенево]</td>\n",
       "    </tr>\n",
       "    <tr>\n",
       "      <th>631</th>\n",
       "      <td>Ащеулов переулок</td>\n",
       "      <td>1</td>\n",
       "      <td>104</td>\n",
       "      <td>[Красносельский район]</td>\n",
       "    </tr>\n",
       "    <tr>\n",
       "      <th>632</th>\n",
       "      <td>улица Академика Арцимовича</td>\n",
       "      <td>1</td>\n",
       "      <td>704</td>\n",
       "      <td>[район Коньково]</td>\n",
       "    </tr>\n",
       "    <tr>\n",
       "      <th>633</th>\n",
       "      <td>Конаковский проезд</td>\n",
       "      <td>1</td>\n",
       "      <td>207</td>\n",
       "      <td>[Головинский район]</td>\n",
       "    </tr>\n",
       "  </tbody>\n",
       "</table>\n",
       "<p>605 rows × 4 columns</p>\n",
       "</div>"
      ],
      "text/plain": [
       "                                            street  object_type codes  \\\n",
       "0                            2-я улица Энтузиастов            1   413   \n",
       "1                                   улица Кутузова            1   809   \n",
       "2                                   улица Кутузова            1  1111   \n",
       "3    26-й километр Московской Кольцевой Автодороги            1   606   \n",
       "4                                   Кучин переулок            1   301   \n",
       "..                                             ...          ...   ...   \n",
       "629                                Зюзинская улица            1   710   \n",
       "630                             улица Айвазовского            1   712   \n",
       "631                               Ащеулов переулок            1   104   \n",
       "632                     улица Академика Арцимовича            1   704   \n",
       "633                             Конаковский проезд            1   207   \n",
       "\n",
       "                      districts  \n",
       "0                [район Перово]  \n",
       "1             [Можайский район]  \n",
       "2          [поселение Щербинка]  \n",
       "3    [район Бирюлёво Восточное]  \n",
       "4          [Алексеевский район]  \n",
       "..                          ...  \n",
       "629           [район Черёмушки]  \n",
       "630             [район Ясенево]  \n",
       "631      [Красносельский район]  \n",
       "632            [район Коньково]  \n",
       "633         [Головинский район]  \n",
       "\n",
       "[605 rows x 4 columns]"
      ]
     },
     "execution_count": 37,
     "metadata": {},
     "output_type": "execute_result"
    }
   ],
   "source": [
    "# применяем функцию для получения списков районов к столбцу с кодами и записываем список районов в отдельный столбец districts\n",
    "streets_one['districts'] = streets_one['codes'].apply(lambda x: get_district(str(x), data_districts))\n",
    "\n",
    "streets_one"
   ]
  },
  {
   "cell_type": "code",
   "execution_count": 38,
   "metadata": {
    "scrolled": true
   },
   "outputs": [
    {
     "data": {
      "text/plain": [
       "[('Таганский район', 27),\n",
       " ('район Хамовники', 26),\n",
       " ('Басманный район', 25),\n",
       " ('Тверской район', 20),\n",
       " ('Пресненский район', 19),\n",
       " ('район Марьина Роща', 18),\n",
       " ('район Арбат', 17),\n",
       " ('Мещанский район', 16),\n",
       " ('район Сокольники', 15),\n",
       " ('район Замоскворечье', 14)]"
      ]
     },
     "execution_count": 38,
     "metadata": {},
     "output_type": "execute_result"
    }
   ],
   "source": [
    "# считаем число повторений каждого района в общем списке\n",
    "Counter(streets_one['districts'].sum()).most_common(10)"
   ]
  },
  {
   "cell_type": "markdown",
   "metadata": {},
   "source": [
    "Построим график. Для этого переведем полученный список в датафрейм."
   ]
  },
  {
   "cell_type": "code",
   "execution_count": 39,
   "metadata": {},
   "outputs": [
    {
     "data": {
      "text/html": [
       "<div>\n",
       "<style scoped>\n",
       "    .dataframe tbody tr th:only-of-type {\n",
       "        vertical-align: middle;\n",
       "    }\n",
       "\n",
       "    .dataframe tbody tr th {\n",
       "        vertical-align: top;\n",
       "    }\n",
       "\n",
       "    .dataframe thead th {\n",
       "        text-align: right;\n",
       "    }\n",
       "</style>\n",
       "<table border=\"1\" class=\"dataframe\">\n",
       "  <thead>\n",
       "    <tr style=\"text-align: right;\">\n",
       "      <th></th>\n",
       "      <th>0</th>\n",
       "      <th>1</th>\n",
       "    </tr>\n",
       "  </thead>\n",
       "  <tbody>\n",
       "    <tr>\n",
       "      <th>0</th>\n",
       "      <td>Таганский район</td>\n",
       "      <td>27</td>\n",
       "    </tr>\n",
       "    <tr>\n",
       "      <th>1</th>\n",
       "      <td>район Хамовники</td>\n",
       "      <td>26</td>\n",
       "    </tr>\n",
       "    <tr>\n",
       "      <th>2</th>\n",
       "      <td>Басманный район</td>\n",
       "      <td>25</td>\n",
       "    </tr>\n",
       "    <tr>\n",
       "      <th>3</th>\n",
       "      <td>Тверской район</td>\n",
       "      <td>20</td>\n",
       "    </tr>\n",
       "    <tr>\n",
       "      <th>4</th>\n",
       "      <td>Пресненский район</td>\n",
       "      <td>19</td>\n",
       "    </tr>\n",
       "    <tr>\n",
       "      <th>5</th>\n",
       "      <td>район Марьина Роща</td>\n",
       "      <td>18</td>\n",
       "    </tr>\n",
       "    <tr>\n",
       "      <th>6</th>\n",
       "      <td>район Арбат</td>\n",
       "      <td>17</td>\n",
       "    </tr>\n",
       "    <tr>\n",
       "      <th>7</th>\n",
       "      <td>Мещанский район</td>\n",
       "      <td>16</td>\n",
       "    </tr>\n",
       "    <tr>\n",
       "      <th>8</th>\n",
       "      <td>район Сокольники</td>\n",
       "      <td>15</td>\n",
       "    </tr>\n",
       "    <tr>\n",
       "      <th>9</th>\n",
       "      <td>район Замоскворечье</td>\n",
       "      <td>14</td>\n",
       "    </tr>\n",
       "  </tbody>\n",
       "</table>\n",
       "</div>"
      ],
      "text/plain": [
       "                     0   1\n",
       "0      Таганский район  27\n",
       "1      район Хамовники  26\n",
       "2      Басманный район  25\n",
       "3       Тверской район  20\n",
       "4    Пресненский район  19\n",
       "5   район Марьина Роща  18\n",
       "6          район Арбат  17\n",
       "7      Мещанский район  16\n",
       "8     район Сокольники  15\n",
       "9  район Замоскворечье  14"
      ]
     },
     "execution_count": 39,
     "metadata": {},
     "output_type": "execute_result"
    }
   ],
   "source": [
    "# переводим список с подсчетом числа районов в датафрейм\n",
    "districts_count = pd.DataFrame(Counter(streets_one['districts'].sum()).most_common(10))\n",
    "\n",
    "districts_count"
   ]
  },
  {
   "cell_type": "code",
   "execution_count": 40,
   "metadata": {},
   "outputs": [
    {
     "data": {
      "image/png": "[encoded data removed]",
      "text/plain": [
       "<Figure size 864x432 with 1 Axes>"
      ]
     },
     "metadata": {
      "needs_background": "light"
     },
     "output_type": "display_data"
    }
   ],
   "source": [
    "#cтроим столбчатую диаграмму\n",
    "pal = sns.color_palette('Set1')\n",
    "fig = plt.figure(figsize = (12, 6))\n",
    "graph = sns.barplot(x=1, y=0, data=districts_count, palette=pal)\n",
    "\n",
    "for row in range(len(streets_top)):\n",
    "    graph.text(0.2, row, round(districts_count.loc[row , 1], 1), fontsize=11)\n",
    "\n",
    "sns.despine(bottom=False, left=False)\n",
    "plt.xlabel('количество улиц с одним заведением', fontsize=12)\n",
    "plt.ylabel('')\n",
    "plt.title('Топ-10 районов по количеству улиц с одним заведением общественного питания', fontsize=18)\n",
    "plt.tick_params(labelsize=11.5)\n",
    "plt.show()"
   ]
  },
  {
   "cell_type": "markdown",
   "metadata": {},
   "source": [
    "Таким образом, мы видим районы с большим числом улиц, имеющих только одно заведения питания."
   ]
  },
  {
   "cell_type": "markdown",
   "metadata": {},
   "source": [
    "# Выводы"
   ]
  },
  {
   "cell_type": "markdown",
   "metadata": {},
   "source": [
    "Был проведен анализ данных о заведениях общественного питания города Москвы с целью определения долгосрочного рыночного потенциала проекта открытия кафе с роботами-официантами. Исследование можно разделить на несколько основных блоков работ:\n",
    "1. Предобработка данных:\n",
    "- в ходе оценки данных не были выявлены пропуска или дубликаты;\n",
    "- данные о принадлежности заведений к сетям были изменены на логический тип для использования в дальнейших вычислениях.\n",
    "\n",
    "2. Исследовательский анализ данных и основные выводы:\n",
    "- кафе - самый часто встречающийся тип заведений на рынке общественного питания (40% всех заведений), при этом большинство всех заведений (81%) также являются несетевыми;\n",
    "- в связи с этим, проект открытия небольшого кафе с роботами обладает высоким потенциалом: с одной стороны, он попадает в наибольший сегмент рынка, с другой - имеет достаточно яркую индивидуальность для \"перетягивания\" клиентов данного сегмента;\n",
    "- в перспективе кафе также может быть переведено в сетевой формат, что может обеспечить свежий приток клиентов в будущем (доля сетевых заведений среди кафе составляет 23%, что больше среднерыночной доли в 19%);\n",
    "- в любом случае, предлагается начинать с небольшого заведения в 30-40 мест, по аналогии с типичными рыночными практиками;\n",
    "- значимый объем рыночного сегмента, небольшой размер заведения и потенциал развития сети обеспечат долгосрочный спрос и успех проекта.\n",
    "\n",
    "3. Дополнительный анализ и рекомендации:\n",
    "- в ходе анализа также была произведена привязка существующих объектов питания к улицам и районам города с целью определения зон потенциального размещения кафе\n",
    "- по итогам можно рекомендовать юго-западные района города для открытия заведения, так как через них проходит несколько крупных магистралей, на каждой из которых расположено более 100 объектов питания."
   ]
  }
 ],
 "metadata": {
  "ExecuteTimeLog": [
   {
    "duration": 378,
    "start_time": "2022-08-25T09:08:11.777Z"
   },
   {
    "duration": 272,
    "start_time": "2022-08-25T09:08:43.834Z"
   },
   {
    "duration": 37,
    "start_time": "2022-08-25T09:09:02.615Z"
   },
   {
    "duration": 18,
    "start_time": "2022-08-25T09:10:19.518Z"
   },
   {
    "duration": 14,
    "start_time": "2022-08-25T09:10:23.754Z"
   },
   {
    "duration": 64,
    "start_time": "2022-08-25T09:11:42.834Z"
   },
   {
    "duration": 9,
    "start_time": "2022-08-25T09:11:46.654Z"
   },
   {
    "duration": 7,
    "start_time": "2022-08-25T09:11:53.637Z"
   },
   {
    "duration": 10,
    "start_time": "2022-08-25T09:11:57.646Z"
   },
   {
    "duration": 7,
    "start_time": "2022-08-25T09:18:34.466Z"
   },
   {
    "duration": 844,
    "start_time": "2022-08-25T09:18:38.297Z"
   },
   {
    "duration": 39,
    "start_time": "2022-08-25T09:18:40.969Z"
   },
   {
    "duration": 1013,
    "start_time": "2022-08-25T09:18:54.108Z"
   },
   {
    "duration": 81,
    "start_time": "2022-08-25T09:18:55.123Z"
   },
   {
    "duration": 27,
    "start_time": "2022-08-25T09:18:55.207Z"
   },
   {
    "duration": 30,
    "start_time": "2022-08-25T09:18:55.237Z"
   },
   {
    "duration": 7,
    "start_time": "2022-08-25T09:18:55.269Z"
   },
   {
    "duration": 228,
    "start_time": "2022-08-25T09:18:55.278Z"
   },
   {
    "duration": 6,
    "start_time": "2022-08-25T09:19:20.745Z"
   },
   {
    "duration": 13,
    "start_time": "2022-08-25T09:19:27.302Z"
   },
   {
    "duration": 865,
    "start_time": "2022-08-25T09:19:28.970Z"
   },
   {
    "duration": 80,
    "start_time": "2022-08-25T09:19:41.257Z"
   },
   {
    "duration": 73,
    "start_time": "2022-08-25T09:19:54.233Z"
   },
   {
    "duration": 72,
    "start_time": "2022-08-25T09:20:16.763Z"
   },
   {
    "duration": 8,
    "start_time": "2022-08-25T09:20:38.305Z"
   },
   {
    "duration": 8,
    "start_time": "2022-08-25T09:20:47.554Z"
   },
   {
    "duration": 74,
    "start_time": "2022-08-25T09:20:52.633Z"
   },
   {
    "duration": 91,
    "start_time": "2022-08-25T09:21:58.627Z"
   },
   {
    "duration": 15,
    "start_time": "2022-08-25T09:22:54.596Z"
   },
   {
    "duration": 12,
    "start_time": "2022-08-25T09:22:58.602Z"
   },
   {
    "duration": 58,
    "start_time": "2022-08-25T09:23:12.638Z"
   },
   {
    "duration": 182,
    "start_time": "2022-08-25T09:23:52.185Z"
   },
   {
    "duration": 201,
    "start_time": "2022-08-25T09:25:12.975Z"
   },
   {
    "duration": 155,
    "start_time": "2022-08-25T09:26:20.359Z"
   },
   {
    "duration": 136,
    "start_time": "2022-08-25T09:26:24.774Z"
   },
   {
    "duration": 145,
    "start_time": "2022-08-25T09:26:28.671Z"
   },
   {
    "duration": 139,
    "start_time": "2022-08-25T09:26:41.085Z"
   },
   {
    "duration": 149,
    "start_time": "2022-08-25T09:26:44.659Z"
   },
   {
    "duration": 155,
    "start_time": "2022-08-25T09:31:20.272Z"
   },
   {
    "duration": 391,
    "start_time": "2022-08-25T09:32:18.134Z"
   },
   {
    "duration": 156,
    "start_time": "2022-08-25T09:32:22.104Z"
   },
   {
    "duration": 173,
    "start_time": "2022-08-25T09:32:41.005Z"
   },
   {
    "duration": 218,
    "start_time": "2022-08-25T09:34:05.191Z"
   },
   {
    "duration": 237,
    "start_time": "2022-08-25T09:34:17.064Z"
   },
   {
    "duration": 161,
    "start_time": "2022-08-25T09:35:04.415Z"
   },
   {
    "duration": 185,
    "start_time": "2022-08-25T09:35:23.980Z"
   },
   {
    "duration": 206,
    "start_time": "2022-08-25T09:35:35.152Z"
   },
   {
    "duration": 15,
    "start_time": "2022-08-25T09:36:44.646Z"
   },
   {
    "duration": 9,
    "start_time": "2022-08-25T09:36:57.488Z"
   },
   {
    "duration": 925,
    "start_time": "2022-08-25T09:38:25.108Z"
   },
   {
    "duration": 111,
    "start_time": "2022-08-25T09:38:36.012Z"
   },
   {
    "duration": 97,
    "start_time": "2022-08-25T09:38:46.753Z"
   },
   {
    "duration": 96,
    "start_time": "2022-08-25T09:39:16.088Z"
   },
   {
    "duration": 108,
    "start_time": "2022-08-25T09:39:24.453Z"
   },
   {
    "duration": 98,
    "start_time": "2022-08-25T09:39:28.254Z"
   },
   {
    "duration": 97,
    "start_time": "2022-08-25T09:39:41.940Z"
   },
   {
    "duration": 99,
    "start_time": "2022-08-25T09:41:43.161Z"
   },
   {
    "duration": 51,
    "start_time": "2022-08-25T09:42:58.749Z"
   },
   {
    "duration": 66,
    "start_time": "2022-08-25T09:43:02.600Z"
   },
   {
    "duration": 737,
    "start_time": "2022-08-25T09:43:05.572Z"
   },
   {
    "duration": 7,
    "start_time": "2022-08-25T09:43:23.467Z"
   },
   {
    "duration": 15,
    "start_time": "2022-08-25T09:43:28.758Z"
   },
   {
    "duration": 16,
    "start_time": "2022-08-25T09:44:00.161Z"
   },
   {
    "duration": 24,
    "start_time": "2022-08-25T09:44:24.790Z"
   },
   {
    "duration": 162,
    "start_time": "2022-08-25T09:45:01.608Z"
   },
   {
    "duration": 16,
    "start_time": "2022-08-25T09:45:05.572Z"
   },
   {
    "duration": 212,
    "start_time": "2022-08-25T09:45:28.222Z"
   },
   {
    "duration": 164,
    "start_time": "2022-08-25T09:45:40.038Z"
   },
   {
    "duration": 21,
    "start_time": "2022-08-25T09:46:03.871Z"
   },
   {
    "duration": 8,
    "start_time": "2022-08-25T09:46:27.021Z"
   },
   {
    "duration": 8,
    "start_time": "2022-08-25T09:46:44.031Z"
   },
   {
    "duration": 16,
    "start_time": "2022-08-25T09:46:53.025Z"
   },
   {
    "duration": 1159,
    "start_time": "2022-08-25T09:47:01.717Z"
   },
   {
    "duration": 69,
    "start_time": "2022-08-25T09:47:02.879Z"
   },
   {
    "duration": 32,
    "start_time": "2022-08-25T09:47:02.950Z"
   },
   {
    "duration": 18,
    "start_time": "2022-08-25T09:47:02.983Z"
   },
   {
    "duration": 9,
    "start_time": "2022-08-25T09:47:03.003Z"
   },
   {
    "duration": 220,
    "start_time": "2022-08-25T09:47:03.014Z"
   },
   {
    "duration": 10,
    "start_time": "2022-08-25T09:47:03.236Z"
   },
   {
    "duration": 133,
    "start_time": "2022-08-25T09:47:03.248Z"
   },
   {
    "duration": 15,
    "start_time": "2022-08-25T09:47:03.383Z"
   },
   {
    "duration": 45,
    "start_time": "2022-08-25T09:47:10.708Z"
   },
   {
    "duration": 14,
    "start_time": "2022-08-25T09:47:14.197Z"
   },
   {
    "duration": 4,
    "start_time": "2022-08-25T09:47:26.242Z"
   },
   {
    "duration": 12,
    "start_time": "2022-08-25T09:47:35.027Z"
   },
   {
    "duration": 20,
    "start_time": "2022-08-25T09:47:47.198Z"
   },
   {
    "duration": 1205,
    "start_time": "2022-08-25T09:47:53.200Z"
   },
   {
    "duration": 79,
    "start_time": "2022-08-25T09:47:54.407Z"
   },
   {
    "duration": 23,
    "start_time": "2022-08-25T09:47:54.488Z"
   },
   {
    "duration": 26,
    "start_time": "2022-08-25T09:47:54.513Z"
   },
   {
    "duration": 17,
    "start_time": "2022-08-25T09:47:54.557Z"
   },
   {
    "duration": 214,
    "start_time": "2022-08-25T09:47:54.576Z"
   },
   {
    "duration": 11,
    "start_time": "2022-08-25T09:47:54.792Z"
   },
   {
    "duration": 105,
    "start_time": "2022-08-25T09:47:54.804Z"
   },
   {
    "duration": 15,
    "start_time": "2022-08-25T09:47:54.911Z"
   },
   {
    "duration": 15,
    "start_time": "2022-08-25T09:48:02.700Z"
   },
   {
    "duration": 3,
    "start_time": "2022-08-25T09:48:17.102Z"
   },
   {
    "duration": 19,
    "start_time": "2022-08-25T09:48:26.741Z"
   },
   {
    "duration": 1131,
    "start_time": "2022-08-25T09:48:40.441Z"
   },
   {
    "duration": 67,
    "start_time": "2022-08-25T09:48:41.580Z"
   },
   {
    "duration": 29,
    "start_time": "2022-08-25T09:48:41.649Z"
   },
   {
    "duration": 45,
    "start_time": "2022-08-25T09:48:41.680Z"
   },
   {
    "duration": 48,
    "start_time": "2022-08-25T09:48:41.726Z"
   },
   {
    "duration": 202,
    "start_time": "2022-08-25T09:48:41.777Z"
   },
   {
    "duration": 12,
    "start_time": "2022-08-25T09:48:41.981Z"
   },
   {
    "duration": 122,
    "start_time": "2022-08-25T09:48:41.994Z"
   },
   {
    "duration": 5,
    "start_time": "2022-08-25T09:48:42.117Z"
   },
   {
    "duration": 33,
    "start_time": "2022-08-25T09:48:42.124Z"
   },
   {
    "duration": 7,
    "start_time": "2022-08-25T09:49:38.050Z"
   },
   {
    "duration": 10,
    "start_time": "2022-08-25T09:49:41.894Z"
   },
   {
    "duration": 113,
    "start_time": "2022-08-25T09:50:17.227Z"
   },
   {
    "duration": 21,
    "start_time": "2022-08-25T09:50:28.959Z"
   },
   {
    "duration": 6,
    "start_time": "2022-08-25T09:54:31.377Z"
   },
   {
    "duration": 14,
    "start_time": "2022-08-25T09:54:54.727Z"
   },
   {
    "duration": 4,
    "start_time": "2022-08-25T09:54:58.543Z"
   },
   {
    "duration": 8,
    "start_time": "2022-08-25T09:56:16.102Z"
   },
   {
    "duration": 147,
    "start_time": "2022-08-25T09:56:22.137Z"
   },
   {
    "duration": 163,
    "start_time": "2022-08-25T09:57:37.452Z"
   },
   {
    "duration": 340,
    "start_time": "2022-08-25T09:58:06.728Z"
   },
   {
    "duration": 284,
    "start_time": "2022-08-25T09:58:20.685Z"
   },
   {
    "duration": 366,
    "start_time": "2022-08-25T09:58:27.160Z"
   },
   {
    "duration": 475,
    "start_time": "2022-08-25T09:58:34.874Z"
   },
   {
    "duration": 302,
    "start_time": "2022-08-25T09:58:52.287Z"
   },
   {
    "duration": 266,
    "start_time": "2022-08-25T09:58:55.883Z"
   },
   {
    "duration": 334,
    "start_time": "2022-08-25T09:59:00.247Z"
   },
   {
    "duration": 287,
    "start_time": "2022-08-25T09:59:28.160Z"
   },
   {
    "duration": 318,
    "start_time": "2022-08-25T09:59:31.346Z"
   },
   {
    "duration": 307,
    "start_time": "2022-08-25T09:59:37.640Z"
   },
   {
    "duration": 322,
    "start_time": "2022-08-25T10:09:11.740Z"
   },
   {
    "duration": 325,
    "start_time": "2022-08-25T10:09:14.739Z"
   },
   {
    "duration": 303,
    "start_time": "2022-08-25T10:09:18.977Z"
   },
   {
    "duration": 301,
    "start_time": "2022-08-25T10:09:24.203Z"
   },
   {
    "duration": 510,
    "start_time": "2022-08-25T10:09:49.290Z"
   },
   {
    "duration": 316,
    "start_time": "2022-08-25T10:19:14.746Z"
   },
   {
    "duration": 411,
    "start_time": "2022-08-25T10:19:17.678Z"
   },
   {
    "duration": 345,
    "start_time": "2022-08-25T10:19:24.490Z"
   },
   {
    "duration": 343,
    "start_time": "2022-08-25T10:19:29.690Z"
   },
   {
    "duration": 303,
    "start_time": "2022-08-25T10:19:36.656Z"
   },
   {
    "duration": 1191,
    "start_time": "2022-08-25T10:25:04.668Z"
   },
   {
    "duration": 68,
    "start_time": "2022-08-25T10:25:05.861Z"
   },
   {
    "duration": 23,
    "start_time": "2022-08-25T10:25:05.930Z"
   },
   {
    "duration": 18,
    "start_time": "2022-08-25T10:25:05.955Z"
   },
   {
    "duration": 11,
    "start_time": "2022-08-25T10:25:05.975Z"
   },
   {
    "duration": 190,
    "start_time": "2022-08-25T10:25:05.988Z"
   },
   {
    "duration": 9,
    "start_time": "2022-08-25T10:25:06.180Z"
   },
   {
    "duration": 113,
    "start_time": "2022-08-25T10:25:06.190Z"
   },
   {
    "duration": 5,
    "start_time": "2022-08-25T10:25:06.304Z"
   },
   {
    "duration": 28,
    "start_time": "2022-08-25T10:25:06.312Z"
   },
   {
    "duration": 30,
    "start_time": "2022-08-25T10:25:06.342Z"
   },
   {
    "duration": 15,
    "start_time": "2022-08-25T10:25:06.374Z"
   },
   {
    "duration": 319,
    "start_time": "2022-08-25T10:25:06.390Z"
   },
   {
    "duration": 361,
    "start_time": "2022-08-25T10:45:54.960Z"
   },
   {
    "duration": 413,
    "start_time": "2022-08-25T10:46:11.039Z"
   },
   {
    "duration": 337,
    "start_time": "2022-08-25T10:47:01.136Z"
   },
   {
    "duration": 354,
    "start_time": "2022-08-25T10:47:10.919Z"
   },
   {
    "duration": 327,
    "start_time": "2022-08-25T10:48:04.844Z"
   },
   {
    "duration": 395,
    "start_time": "2022-08-25T10:48:49.088Z"
   },
   {
    "duration": 9,
    "start_time": "2022-08-25T10:50:12.352Z"
   },
   {
    "duration": 1209,
    "start_time": "2022-08-25T10:50:17.332Z"
   },
   {
    "duration": 64,
    "start_time": "2022-08-25T10:50:18.543Z"
   },
   {
    "duration": 22,
    "start_time": "2022-08-25T10:50:18.608Z"
   },
   {
    "duration": 18,
    "start_time": "2022-08-25T10:50:18.632Z"
   },
   {
    "duration": 9,
    "start_time": "2022-08-25T10:50:18.657Z"
   },
   {
    "duration": 184,
    "start_time": "2022-08-25T10:50:18.668Z"
   },
   {
    "duration": 10,
    "start_time": "2022-08-25T10:50:18.853Z"
   },
   {
    "duration": 104,
    "start_time": "2022-08-25T10:50:18.865Z"
   },
   {
    "duration": 4,
    "start_time": "2022-08-25T10:50:18.971Z"
   },
   {
    "duration": 37,
    "start_time": "2022-08-25T10:50:18.978Z"
   },
   {
    "duration": 10,
    "start_time": "2022-08-25T10:50:19.017Z"
   },
   {
    "duration": 5,
    "start_time": "2022-08-25T10:50:19.028Z"
   },
   {
    "duration": 339,
    "start_time": "2022-08-25T10:50:19.034Z"
   },
   {
    "duration": 8,
    "start_time": "2022-08-25T10:50:50.749Z"
   },
   {
    "duration": 12,
    "start_time": "2022-08-25T10:50:54.391Z"
   },
   {
    "duration": 12,
    "start_time": "2022-08-25T10:51:16.029Z"
   },
   {
    "duration": 12,
    "start_time": "2022-08-25T10:51:26.914Z"
   },
   {
    "duration": 11,
    "start_time": "2022-08-25T10:51:30.790Z"
   },
   {
    "duration": 124,
    "start_time": "2022-08-25T10:53:57.280Z"
   },
   {
    "duration": 99,
    "start_time": "2022-08-25T10:54:54.566Z"
   },
   {
    "duration": 1200,
    "start_time": "2022-08-25T10:55:20.988Z"
   },
   {
    "duration": 67,
    "start_time": "2022-08-25T10:55:22.190Z"
   },
   {
    "duration": 21,
    "start_time": "2022-08-25T10:55:22.258Z"
   },
   {
    "duration": 17,
    "start_time": "2022-08-25T10:55:22.281Z"
   },
   {
    "duration": 9,
    "start_time": "2022-08-25T10:55:22.300Z"
   },
   {
    "duration": 192,
    "start_time": "2022-08-25T10:55:22.311Z"
   },
   {
    "duration": 9,
    "start_time": "2022-08-25T10:55:22.505Z"
   },
   {
    "duration": 110,
    "start_time": "2022-08-25T10:55:22.516Z"
   },
   {
    "duration": 5,
    "start_time": "2022-08-25T10:55:22.628Z"
   },
   {
    "duration": 28,
    "start_time": "2022-08-25T10:55:22.634Z"
   },
   {
    "duration": 10,
    "start_time": "2022-08-25T10:55:22.663Z"
   },
   {
    "duration": 5,
    "start_time": "2022-08-25T10:55:22.675Z"
   },
   {
    "duration": 327,
    "start_time": "2022-08-25T10:55:22.681Z"
   },
   {
    "duration": 11,
    "start_time": "2022-08-25T10:55:23.010Z"
   },
   {
    "duration": 114,
    "start_time": "2022-08-25T10:55:23.022Z"
   },
   {
    "duration": 382,
    "start_time": "2022-08-25T10:55:56.063Z"
   },
   {
    "duration": 1109,
    "start_time": "2022-08-25T10:56:33.332Z"
   },
   {
    "duration": 65,
    "start_time": "2022-08-25T10:56:34.443Z"
   },
   {
    "duration": 22,
    "start_time": "2022-08-25T10:56:34.509Z"
   },
   {
    "duration": 16,
    "start_time": "2022-08-25T10:56:34.533Z"
   },
   {
    "duration": 13,
    "start_time": "2022-08-25T10:56:34.551Z"
   },
   {
    "duration": 176,
    "start_time": "2022-08-25T10:56:34.565Z"
   },
   {
    "duration": 18,
    "start_time": "2022-08-25T10:56:34.743Z"
   },
   {
    "duration": 102,
    "start_time": "2022-08-25T10:56:34.763Z"
   },
   {
    "duration": 6,
    "start_time": "2022-08-25T10:56:34.867Z"
   },
   {
    "duration": 26,
    "start_time": "2022-08-25T10:56:34.875Z"
   },
   {
    "duration": 11,
    "start_time": "2022-08-25T10:56:34.903Z"
   },
   {
    "duration": 6,
    "start_time": "2022-08-25T10:56:34.916Z"
   },
   {
    "duration": 396,
    "start_time": "2022-08-25T10:56:34.923Z"
   },
   {
    "duration": 465,
    "start_time": "2022-08-25T10:56:35.321Z"
   },
   {
    "duration": 96,
    "start_time": "2022-08-25T11:00:06.599Z"
   },
   {
    "duration": 113,
    "start_time": "2022-08-25T11:00:14.070Z"
   },
   {
    "duration": 82,
    "start_time": "2022-08-25T11:00:23.082Z"
   },
   {
    "duration": 401,
    "start_time": "2022-08-25T11:00:26.969Z"
   },
   {
    "duration": 381,
    "start_time": "2022-08-25T11:00:53.517Z"
   },
   {
    "duration": 8,
    "start_time": "2022-08-25T11:01:14.547Z"
   },
   {
    "duration": 192,
    "start_time": "2022-08-25T11:01:30.091Z"
   },
   {
    "duration": 452,
    "start_time": "2022-08-25T11:01:35.183Z"
   },
   {
    "duration": 351,
    "start_time": "2022-08-25T11:01:46.401Z"
   },
   {
    "duration": 461,
    "start_time": "2022-08-25T11:01:55.161Z"
   },
   {
    "duration": 16,
    "start_time": "2022-08-25T11:08:07.672Z"
   },
   {
    "duration": 7,
    "start_time": "2022-08-25T11:08:14.835Z"
   },
   {
    "duration": 11,
    "start_time": "2022-08-25T11:08:19.452Z"
   },
   {
    "duration": 11,
    "start_time": "2022-08-25T11:08:19.615Z"
   },
   {
    "duration": 143,
    "start_time": "2022-08-25T11:08:31.473Z"
   },
   {
    "duration": 12,
    "start_time": "2022-08-25T11:08:41.644Z"
   },
   {
    "duration": 9,
    "start_time": "2022-08-25T11:09:02.841Z"
   },
   {
    "duration": 9,
    "start_time": "2022-08-25T11:09:07.330Z"
   },
   {
    "duration": 13,
    "start_time": "2022-08-25T11:09:10.793Z"
   },
   {
    "duration": 10,
    "start_time": "2022-08-25T11:09:18.363Z"
   },
   {
    "duration": 11,
    "start_time": "2022-08-25T11:09:23.352Z"
   },
   {
    "duration": 98,
    "start_time": "2022-08-25T11:09:33.627Z"
   },
   {
    "duration": 12,
    "start_time": "2022-08-25T11:09:38.499Z"
   },
   {
    "duration": 146,
    "start_time": "2022-08-25T11:10:11.080Z"
   },
   {
    "duration": 1389,
    "start_time": "2022-08-25T14:55:17.195Z"
   },
   {
    "duration": 118,
    "start_time": "2022-08-25T14:55:18.586Z"
   },
   {
    "duration": 22,
    "start_time": "2022-08-25T14:55:18.706Z"
   },
   {
    "duration": 5,
    "start_time": "2022-08-25T14:55:18.730Z"
   },
   {
    "duration": 22,
    "start_time": "2022-08-25T14:55:18.736Z"
   },
   {
    "duration": 17,
    "start_time": "2022-08-25T14:55:18.759Z"
   },
   {
    "duration": 22,
    "start_time": "2022-08-25T14:55:18.778Z"
   },
   {
    "duration": 188,
    "start_time": "2022-08-25T14:55:18.802Z"
   },
   {
    "duration": 10,
    "start_time": "2022-08-25T14:55:18.991Z"
   },
   {
    "duration": 112,
    "start_time": "2022-08-25T14:55:19.003Z"
   },
   {
    "duration": 13,
    "start_time": "2022-08-25T14:55:19.117Z"
   },
   {
    "duration": 7,
    "start_time": "2022-08-25T14:55:19.131Z"
   },
   {
    "duration": 418,
    "start_time": "2022-08-25T14:55:19.140Z"
   },
   {
    "duration": 13,
    "start_time": "2022-08-25T14:55:19.560Z"
   },
   {
    "duration": 162,
    "start_time": "2022-08-25T14:55:19.575Z"
   },
   {
    "duration": 1199,
    "start_time": "2022-08-25T14:56:44.571Z"
   },
   {
    "duration": 71,
    "start_time": "2022-08-25T14:56:45.772Z"
   },
   {
    "duration": 23,
    "start_time": "2022-08-25T14:56:45.845Z"
   },
   {
    "duration": 5,
    "start_time": "2022-08-25T14:56:45.870Z"
   },
   {
    "duration": 27,
    "start_time": "2022-08-25T14:56:45.877Z"
   },
   {
    "duration": 19,
    "start_time": "2022-08-25T14:56:45.906Z"
   },
   {
    "duration": 10,
    "start_time": "2022-08-25T14:56:45.927Z"
   },
   {
    "duration": 204,
    "start_time": "2022-08-25T14:56:45.938Z"
   },
   {
    "duration": 10,
    "start_time": "2022-08-25T14:56:46.144Z"
   },
   {
    "duration": 119,
    "start_time": "2022-08-25T14:56:46.155Z"
   },
   {
    "duration": 18,
    "start_time": "2022-08-25T14:56:46.276Z"
   },
   {
    "duration": 5,
    "start_time": "2022-08-25T14:56:46.295Z"
   },
   {
    "duration": 342,
    "start_time": "2022-08-25T14:56:46.302Z"
   },
   {
    "duration": 12,
    "start_time": "2022-08-25T14:56:46.647Z"
   },
   {
    "duration": 166,
    "start_time": "2022-08-25T14:56:46.661Z"
   },
   {
    "duration": 172,
    "start_time": "2022-08-25T15:14:11.668Z"
   },
   {
    "duration": 169,
    "start_time": "2022-08-25T15:14:21.441Z"
   },
   {
    "duration": 168,
    "start_time": "2022-08-25T15:14:25.554Z"
   },
   {
    "duration": 372,
    "start_time": "2022-08-25T15:15:06.952Z"
   },
   {
    "duration": 437,
    "start_time": "2022-08-25T15:15:13.002Z"
   },
   {
    "duration": 181,
    "start_time": "2022-08-25T15:17:02.183Z"
   },
   {
    "duration": 177,
    "start_time": "2022-08-25T15:17:10.580Z"
   },
   {
    "duration": 173,
    "start_time": "2022-08-25T15:17:57.125Z"
   },
   {
    "duration": 172,
    "start_time": "2022-08-25T15:18:54.221Z"
   },
   {
    "duration": 174,
    "start_time": "2022-08-25T15:19:08.515Z"
   },
   {
    "duration": 174,
    "start_time": "2022-08-25T15:19:21.661Z"
   },
   {
    "duration": 168,
    "start_time": "2022-08-25T15:19:26.341Z"
   },
   {
    "duration": 171,
    "start_time": "2022-08-25T15:19:39.410Z"
   },
   {
    "duration": 182,
    "start_time": "2022-08-25T15:19:43.348Z"
   },
   {
    "duration": 367,
    "start_time": "2022-08-25T15:22:14.859Z"
   },
   {
    "duration": 1184,
    "start_time": "2022-08-25T15:22:31.132Z"
   },
   {
    "duration": 73,
    "start_time": "2022-08-25T15:22:32.318Z"
   },
   {
    "duration": 24,
    "start_time": "2022-08-25T15:22:32.394Z"
   },
   {
    "duration": 5,
    "start_time": "2022-08-25T15:22:32.420Z"
   },
   {
    "duration": 25,
    "start_time": "2022-08-25T15:22:32.427Z"
   },
   {
    "duration": 53,
    "start_time": "2022-08-25T15:22:32.453Z"
   },
   {
    "duration": 12,
    "start_time": "2022-08-25T15:22:32.508Z"
   },
   {
    "duration": 198,
    "start_time": "2022-08-25T15:22:32.521Z"
   },
   {
    "duration": 10,
    "start_time": "2022-08-25T15:22:32.720Z"
   },
   {
    "duration": 115,
    "start_time": "2022-08-25T15:22:32.732Z"
   },
   {
    "duration": 12,
    "start_time": "2022-08-25T15:22:32.848Z"
   },
   {
    "duration": 4,
    "start_time": "2022-08-25T15:22:32.862Z"
   },
   {
    "duration": 376,
    "start_time": "2022-08-25T15:22:32.868Z"
   },
   {
    "duration": 14,
    "start_time": "2022-08-25T15:22:33.246Z"
   },
   {
    "duration": 207,
    "start_time": "2022-08-25T15:22:33.262Z"
   },
   {
    "duration": 406,
    "start_time": "2022-08-25T15:22:37.845Z"
   },
   {
    "duration": 184,
    "start_time": "2022-08-25T15:23:18.652Z"
   },
   {
    "duration": 196,
    "start_time": "2022-08-25T15:23:36.324Z"
   },
   {
    "duration": 211,
    "start_time": "2022-08-25T15:24:03.235Z"
   },
   {
    "duration": 279,
    "start_time": "2022-08-25T15:24:38.591Z"
   },
   {
    "duration": 200,
    "start_time": "2022-08-25T15:24:45.597Z"
   },
   {
    "duration": 180,
    "start_time": "2022-08-25T15:24:54.534Z"
   },
   {
    "duration": 178,
    "start_time": "2022-08-25T15:25:19.145Z"
   },
   {
    "duration": 201,
    "start_time": "2022-08-25T15:55:10.965Z"
   },
   {
    "duration": 190,
    "start_time": "2022-08-25T15:55:45.768Z"
   },
   {
    "duration": 1246,
    "start_time": "2022-08-25T17:02:23.713Z"
   },
   {
    "duration": 238,
    "start_time": "2022-08-25T17:02:24.961Z"
   },
   {
    "duration": 21,
    "start_time": "2022-08-25T17:02:25.201Z"
   },
   {
    "duration": 4,
    "start_time": "2022-08-25T17:02:25.223Z"
   },
   {
    "duration": 19,
    "start_time": "2022-08-25T17:02:25.228Z"
   },
   {
    "duration": 17,
    "start_time": "2022-08-25T17:02:25.248Z"
   },
   {
    "duration": 9,
    "start_time": "2022-08-25T17:02:25.267Z"
   },
   {
    "duration": 189,
    "start_time": "2022-08-25T17:02:25.277Z"
   },
   {
    "duration": 7,
    "start_time": "2022-08-25T17:02:25.468Z"
   },
   {
    "duration": 91,
    "start_time": "2022-08-25T17:02:25.477Z"
   },
   {
    "duration": 9,
    "start_time": "2022-08-25T17:02:25.570Z"
   },
   {
    "duration": 4,
    "start_time": "2022-08-25T17:02:25.580Z"
   },
   {
    "duration": 384,
    "start_time": "2022-08-25T17:02:25.586Z"
   },
   {
    "duration": 10,
    "start_time": "2022-08-25T17:02:25.972Z"
   },
   {
    "duration": 178,
    "start_time": "2022-08-25T17:02:25.983Z"
   },
   {
    "duration": 259,
    "start_time": "2022-08-25T17:03:15.819Z"
   },
   {
    "duration": 176,
    "start_time": "2022-08-25T17:03:39.387Z"
   },
   {
    "duration": 169,
    "start_time": "2022-08-25T17:03:48.465Z"
   },
   {
    "duration": 178,
    "start_time": "2022-08-25T17:04:00.997Z"
   },
   {
    "duration": 238,
    "start_time": "2022-08-25T17:04:12.856Z"
   },
   {
    "duration": 165,
    "start_time": "2022-08-25T17:05:17.278Z"
   },
   {
    "duration": 184,
    "start_time": "2022-08-25T17:05:28.870Z"
   },
   {
    "duration": 174,
    "start_time": "2022-08-25T17:06:17.510Z"
   },
   {
    "duration": 171,
    "start_time": "2022-08-25T17:06:28.230Z"
   },
   {
    "duration": 190,
    "start_time": "2022-08-25T17:07:01.427Z"
   },
   {
    "duration": 1008,
    "start_time": "2022-08-25T17:07:27.055Z"
   },
   {
    "duration": 69,
    "start_time": "2022-08-25T17:07:28.065Z"
   },
   {
    "duration": 21,
    "start_time": "2022-08-25T17:07:28.135Z"
   },
   {
    "duration": 4,
    "start_time": "2022-08-25T17:07:28.159Z"
   },
   {
    "duration": 21,
    "start_time": "2022-08-25T17:07:28.164Z"
   },
   {
    "duration": 37,
    "start_time": "2022-08-25T17:07:28.187Z"
   },
   {
    "duration": 9,
    "start_time": "2022-08-25T17:07:28.225Z"
   },
   {
    "duration": 206,
    "start_time": "2022-08-25T17:07:28.235Z"
   },
   {
    "duration": 9,
    "start_time": "2022-08-25T17:07:28.443Z"
   },
   {
    "duration": 125,
    "start_time": "2022-08-25T17:07:28.455Z"
   },
   {
    "duration": 10,
    "start_time": "2022-08-25T17:07:28.582Z"
   },
   {
    "duration": 20,
    "start_time": "2022-08-25T17:07:28.593Z"
   },
   {
    "duration": 338,
    "start_time": "2022-08-25T17:07:28.615Z"
   },
   {
    "duration": 10,
    "start_time": "2022-08-25T17:07:28.955Z"
   },
   {
    "duration": 193,
    "start_time": "2022-08-25T17:07:28.966Z"
   },
   {
    "duration": 274,
    "start_time": "2022-08-25T17:08:09.050Z"
   },
   {
    "duration": 189,
    "start_time": "2022-08-25T17:08:18.809Z"
   },
   {
    "duration": 11,
    "start_time": "2022-08-25T17:12:03.478Z"
   },
   {
    "duration": 17,
    "start_time": "2022-08-25T17:12:46.048Z"
   },
   {
    "duration": 173,
    "start_time": "2022-08-25T17:13:12.842Z"
   },
   {
    "duration": 229,
    "start_time": "2022-08-25T17:13:38.629Z"
   },
   {
    "duration": 1032,
    "start_time": "2022-08-25T17:17:40.242Z"
   },
   {
    "duration": 66,
    "start_time": "2022-08-25T17:17:41.276Z"
   },
   {
    "duration": 20,
    "start_time": "2022-08-25T17:17:41.343Z"
   },
   {
    "duration": 4,
    "start_time": "2022-08-25T17:17:41.365Z"
   },
   {
    "duration": 20,
    "start_time": "2022-08-25T17:17:41.370Z"
   },
   {
    "duration": 30,
    "start_time": "2022-08-25T17:17:41.391Z"
   },
   {
    "duration": 9,
    "start_time": "2022-08-25T17:17:41.422Z"
   },
   {
    "duration": 179,
    "start_time": "2022-08-25T17:17:41.433Z"
   },
   {
    "duration": 7,
    "start_time": "2022-08-25T17:17:41.614Z"
   },
   {
    "duration": 95,
    "start_time": "2022-08-25T17:17:41.623Z"
   },
   {
    "duration": 10,
    "start_time": "2022-08-25T17:17:41.720Z"
   },
   {
    "duration": 9,
    "start_time": "2022-08-25T17:17:41.731Z"
   },
   {
    "duration": 371,
    "start_time": "2022-08-25T17:17:41.741Z"
   },
   {
    "duration": 10,
    "start_time": "2022-08-25T17:17:42.114Z"
   },
   {
    "duration": 188,
    "start_time": "2022-08-25T17:17:42.125Z"
   },
   {
    "duration": 286,
    "start_time": "2022-08-25T17:21:25.387Z"
   },
   {
    "duration": 169,
    "start_time": "2022-08-25T17:21:57.477Z"
   },
   {
    "duration": 100,
    "start_time": "2022-08-25T17:24:38.066Z"
   },
   {
    "duration": 164,
    "start_time": "2022-08-25T17:24:50.075Z"
   },
   {
    "duration": 1136,
    "start_time": "2022-08-25T17:24:58.238Z"
   },
   {
    "duration": 72,
    "start_time": "2022-08-25T17:24:59.376Z"
   },
   {
    "duration": 28,
    "start_time": "2022-08-25T17:24:59.450Z"
   },
   {
    "duration": 6,
    "start_time": "2022-08-25T17:24:59.479Z"
   },
   {
    "duration": 37,
    "start_time": "2022-08-25T17:24:59.487Z"
   },
   {
    "duration": 24,
    "start_time": "2022-08-25T17:24:59.526Z"
   },
   {
    "duration": 13,
    "start_time": "2022-08-25T17:24:59.552Z"
   },
   {
    "duration": 187,
    "start_time": "2022-08-25T17:24:59.567Z"
   },
   {
    "duration": 8,
    "start_time": "2022-08-25T17:24:59.756Z"
   },
   {
    "duration": 103,
    "start_time": "2022-08-25T17:24:59.765Z"
   },
   {
    "duration": 10,
    "start_time": "2022-08-25T17:24:59.870Z"
   },
   {
    "duration": 4,
    "start_time": "2022-08-25T17:24:59.882Z"
   },
   {
    "duration": 364,
    "start_time": "2022-08-25T17:24:59.887Z"
   },
   {
    "duration": 11,
    "start_time": "2022-08-25T17:25:00.253Z"
   },
   {
    "duration": 181,
    "start_time": "2022-08-25T17:25:00.266Z"
   },
   {
    "duration": 12,
    "start_time": "2022-08-25T17:25:42.157Z"
   },
   {
    "duration": 12,
    "start_time": "2022-08-25T17:26:06.914Z"
   },
   {
    "duration": 11,
    "start_time": "2022-08-25T17:26:11.211Z"
   },
   {
    "duration": 12,
    "start_time": "2022-08-25T17:26:18.605Z"
   },
   {
    "duration": 12,
    "start_time": "2022-08-25T17:26:23.707Z"
   },
   {
    "duration": 16,
    "start_time": "2022-08-25T17:27:57.656Z"
   },
   {
    "duration": 142,
    "start_time": "2022-08-25T17:29:05.037Z"
   },
   {
    "duration": 20,
    "start_time": "2022-08-25T17:29:15.295Z"
   },
   {
    "duration": 24,
    "start_time": "2022-08-25T17:29:26.509Z"
   },
   {
    "duration": 204,
    "start_time": "2022-08-25T17:30:50.514Z"
   },
   {
    "duration": 12,
    "start_time": "2022-08-25T17:31:05.104Z"
   },
   {
    "duration": 12,
    "start_time": "2022-08-25T17:31:28.271Z"
   },
   {
    "duration": 13,
    "start_time": "2022-08-25T17:32:53.424Z"
   },
   {
    "duration": 11,
    "start_time": "2022-08-25T17:33:00.393Z"
   },
   {
    "duration": 193,
    "start_time": "2022-08-25T17:33:52.792Z"
   },
   {
    "duration": 14,
    "start_time": "2022-08-25T17:34:02.235Z"
   },
   {
    "duration": 1084,
    "start_time": "2022-08-25T17:35:10.067Z"
   },
   {
    "duration": 67,
    "start_time": "2022-08-25T17:35:11.153Z"
   },
   {
    "duration": 20,
    "start_time": "2022-08-25T17:35:11.221Z"
   },
   {
    "duration": 4,
    "start_time": "2022-08-25T17:35:11.243Z"
   },
   {
    "duration": 21,
    "start_time": "2022-08-25T17:35:11.248Z"
   },
   {
    "duration": 16,
    "start_time": "2022-08-25T17:35:11.271Z"
   },
   {
    "duration": 29,
    "start_time": "2022-08-25T17:35:11.288Z"
   },
   {
    "duration": 182,
    "start_time": "2022-08-25T17:35:11.318Z"
   },
   {
    "duration": 11,
    "start_time": "2022-08-25T17:35:11.501Z"
   },
   {
    "duration": 104,
    "start_time": "2022-08-25T17:35:11.514Z"
   },
   {
    "duration": 13,
    "start_time": "2022-08-25T17:35:11.619Z"
   },
   {
    "duration": 4,
    "start_time": "2022-08-25T17:35:11.634Z"
   },
   {
    "duration": 312,
    "start_time": "2022-08-25T17:35:11.640Z"
   },
   {
    "duration": 10,
    "start_time": "2022-08-25T17:35:11.953Z"
   },
   {
    "duration": 184,
    "start_time": "2022-08-25T17:35:11.964Z"
   },
   {
    "duration": 266,
    "start_time": "2022-08-25T17:37:45.221Z"
   },
   {
    "duration": 88,
    "start_time": "2022-08-25T17:37:51.652Z"
   },
   {
    "duration": 224,
    "start_time": "2022-08-25T17:38:49.909Z"
   },
   {
    "duration": 14,
    "start_time": "2022-08-25T17:39:00.338Z"
   },
   {
    "duration": 13,
    "start_time": "2022-08-25T17:39:24.035Z"
   },
   {
    "duration": 225,
    "start_time": "2022-08-25T17:40:07.149Z"
   },
   {
    "duration": 13,
    "start_time": "2022-08-25T17:40:16.468Z"
   },
   {
    "duration": 1041,
    "start_time": "2022-08-25T17:40:55.847Z"
   },
   {
    "duration": 68,
    "start_time": "2022-08-25T17:40:56.890Z"
   },
   {
    "duration": 20,
    "start_time": "2022-08-25T17:40:56.960Z"
   },
   {
    "duration": 4,
    "start_time": "2022-08-25T17:40:56.982Z"
   },
   {
    "duration": 29,
    "start_time": "2022-08-25T17:40:56.987Z"
   },
   {
    "duration": 17,
    "start_time": "2022-08-25T17:40:57.017Z"
   },
   {
    "duration": 9,
    "start_time": "2022-08-25T17:40:57.035Z"
   },
   {
    "duration": 183,
    "start_time": "2022-08-25T17:40:57.045Z"
   },
   {
    "duration": 9,
    "start_time": "2022-08-25T17:40:57.230Z"
   },
   {
    "duration": 101,
    "start_time": "2022-08-25T17:40:57.241Z"
   },
   {
    "duration": 13,
    "start_time": "2022-08-25T17:40:57.344Z"
   },
   {
    "duration": 3,
    "start_time": "2022-08-25T17:40:57.359Z"
   },
   {
    "duration": 388,
    "start_time": "2022-08-25T17:40:57.364Z"
   },
   {
    "duration": 48,
    "start_time": "2022-08-25T17:40:57.754Z"
   },
   {
    "duration": 0,
    "start_time": "2022-08-25T17:40:57.804Z"
   },
   {
    "duration": 13,
    "start_time": "2022-08-25T17:41:09.445Z"
   },
   {
    "duration": 558,
    "start_time": "2022-08-25T17:41:12.267Z"
   },
   {
    "duration": 104,
    "start_time": "2022-08-25T17:41:59.610Z"
   },
   {
    "duration": 510,
    "start_time": "2022-08-25T17:42:08.446Z"
   },
   {
    "duration": 164,
    "start_time": "2022-08-25T17:42:18.474Z"
   },
   {
    "duration": 175,
    "start_time": "2022-08-25T17:42:56.829Z"
   },
   {
    "duration": 216,
    "start_time": "2022-08-25T17:43:03.397Z"
   },
   {
    "duration": 54,
    "start_time": "2022-08-25T17:43:17.937Z"
   },
   {
    "duration": 173,
    "start_time": "2022-08-25T17:43:25.057Z"
   },
   {
    "duration": 1055,
    "start_time": "2022-08-25T17:43:37.225Z"
   },
   {
    "duration": 67,
    "start_time": "2022-08-25T17:43:38.282Z"
   },
   {
    "duration": 21,
    "start_time": "2022-08-25T17:43:38.350Z"
   },
   {
    "duration": 4,
    "start_time": "2022-08-25T17:43:38.374Z"
   },
   {
    "duration": 33,
    "start_time": "2022-08-25T17:43:38.379Z"
   },
   {
    "duration": 17,
    "start_time": "2022-08-25T17:43:38.414Z"
   },
   {
    "duration": 9,
    "start_time": "2022-08-25T17:43:38.433Z"
   },
   {
    "duration": 185,
    "start_time": "2022-08-25T17:43:38.444Z"
   },
   {
    "duration": 9,
    "start_time": "2022-08-25T17:43:38.630Z"
   },
   {
    "duration": 103,
    "start_time": "2022-08-25T17:43:38.641Z"
   },
   {
    "duration": 17,
    "start_time": "2022-08-25T17:43:38.745Z"
   },
   {
    "duration": 5,
    "start_time": "2022-08-25T17:43:38.764Z"
   },
   {
    "duration": 372,
    "start_time": "2022-08-25T17:43:38.770Z"
   },
   {
    "duration": 13,
    "start_time": "2022-08-25T17:43:39.144Z"
   },
   {
    "duration": 188,
    "start_time": "2022-08-25T17:43:39.158Z"
   },
   {
    "duration": 163,
    "start_time": "2022-08-25T17:44:28.158Z"
   },
   {
    "duration": 111,
    "start_time": "2022-08-25T17:44:39.526Z"
   },
   {
    "duration": 16,
    "start_time": "2022-08-25T17:44:42.168Z"
   },
   {
    "duration": 164,
    "start_time": "2022-08-25T17:44:47.079Z"
   },
   {
    "duration": 1081,
    "start_time": "2022-08-25T17:44:57.292Z"
   },
   {
    "duration": 75,
    "start_time": "2022-08-25T17:44:58.374Z"
   },
   {
    "duration": 20,
    "start_time": "2022-08-25T17:44:58.450Z"
   },
   {
    "duration": 4,
    "start_time": "2022-08-25T17:44:58.472Z"
   },
   {
    "duration": 18,
    "start_time": "2022-08-25T17:44:58.478Z"
   },
   {
    "duration": 16,
    "start_time": "2022-08-25T17:44:58.510Z"
   },
   {
    "duration": 9,
    "start_time": "2022-08-25T17:44:58.527Z"
   },
   {
    "duration": 176,
    "start_time": "2022-08-25T17:44:58.537Z"
   },
   {
    "duration": 9,
    "start_time": "2022-08-25T17:44:58.715Z"
   },
   {
    "duration": 105,
    "start_time": "2022-08-25T17:44:58.726Z"
   },
   {
    "duration": 14,
    "start_time": "2022-08-25T17:44:58.832Z"
   },
   {
    "duration": 4,
    "start_time": "2022-08-25T17:44:58.847Z"
   },
   {
    "duration": 368,
    "start_time": "2022-08-25T17:44:58.852Z"
   },
   {
    "duration": 10,
    "start_time": "2022-08-25T17:44:59.223Z"
   },
   {
    "duration": 178,
    "start_time": "2022-08-25T17:44:59.234Z"
   },
   {
    "duration": 173,
    "start_time": "2022-08-25T17:46:37.534Z"
   },
   {
    "duration": 215,
    "start_time": "2022-08-25T17:46:42.637Z"
   },
   {
    "duration": 170,
    "start_time": "2022-08-25T17:46:46.403Z"
   },
   {
    "duration": 1093,
    "start_time": "2022-08-25T17:47:18.587Z"
   },
   {
    "duration": 81,
    "start_time": "2022-08-25T17:47:19.682Z"
   },
   {
    "duration": 20,
    "start_time": "2022-08-25T17:47:19.765Z"
   },
   {
    "duration": 4,
    "start_time": "2022-08-25T17:47:19.786Z"
   },
   {
    "duration": 21,
    "start_time": "2022-08-25T17:47:19.791Z"
   },
   {
    "duration": 15,
    "start_time": "2022-08-25T17:47:19.814Z"
   },
   {
    "duration": 9,
    "start_time": "2022-08-25T17:47:19.830Z"
   },
   {
    "duration": 181,
    "start_time": "2022-08-25T17:47:19.840Z"
   },
   {
    "duration": 10,
    "start_time": "2022-08-25T17:47:20.023Z"
   },
   {
    "duration": 108,
    "start_time": "2022-08-25T17:47:20.035Z"
   },
   {
    "duration": 15,
    "start_time": "2022-08-25T17:47:20.144Z"
   },
   {
    "duration": 4,
    "start_time": "2022-08-25T17:47:20.160Z"
   },
   {
    "duration": 362,
    "start_time": "2022-08-25T17:47:20.165Z"
   },
   {
    "duration": 11,
    "start_time": "2022-08-25T17:47:20.529Z"
   },
   {
    "duration": 198,
    "start_time": "2022-08-25T17:47:20.541Z"
   },
   {
    "duration": 601,
    "start_time": "2022-08-25T17:48:56.106Z"
   },
   {
    "duration": 178,
    "start_time": "2022-08-25T17:49:23.447Z"
   },
   {
    "duration": 176,
    "start_time": "2022-08-25T17:49:34.378Z"
   },
   {
    "duration": 172,
    "start_time": "2022-08-25T17:49:48.486Z"
   },
   {
    "duration": 332,
    "start_time": "2022-08-25T17:50:05.943Z"
   },
   {
    "duration": 164,
    "start_time": "2022-08-25T17:51:50.547Z"
   },
   {
    "duration": 170,
    "start_time": "2022-08-25T17:51:58.218Z"
   },
   {
    "duration": 171,
    "start_time": "2022-08-25T17:52:04.172Z"
   },
   {
    "duration": 169,
    "start_time": "2022-08-25T17:52:45.807Z"
   },
   {
    "duration": 48,
    "start_time": "2022-08-25T17:53:28.904Z"
   },
   {
    "duration": 177,
    "start_time": "2022-08-25T17:53:36.714Z"
   },
   {
    "duration": 161,
    "start_time": "2022-08-25T17:53:51.250Z"
   },
   {
    "duration": 169,
    "start_time": "2022-08-25T17:54:24.634Z"
   },
   {
    "duration": 167,
    "start_time": "2022-08-25T17:54:34.738Z"
   },
   {
    "duration": 1035,
    "start_time": "2022-08-25T17:54:47.047Z"
   },
   {
    "duration": 68,
    "start_time": "2022-08-25T17:54:48.083Z"
   },
   {
    "duration": 22,
    "start_time": "2022-08-25T17:54:48.152Z"
   },
   {
    "duration": 5,
    "start_time": "2022-08-25T17:54:48.175Z"
   },
   {
    "duration": 29,
    "start_time": "2022-08-25T17:54:48.182Z"
   },
   {
    "duration": 16,
    "start_time": "2022-08-25T17:54:48.212Z"
   },
   {
    "duration": 9,
    "start_time": "2022-08-25T17:54:48.229Z"
   },
   {
    "duration": 177,
    "start_time": "2022-08-25T17:54:48.239Z"
   },
   {
    "duration": 8,
    "start_time": "2022-08-25T17:54:48.417Z"
   },
   {
    "duration": 100,
    "start_time": "2022-08-25T17:54:48.427Z"
   },
   {
    "duration": 13,
    "start_time": "2022-08-25T17:54:48.529Z"
   },
   {
    "duration": 3,
    "start_time": "2022-08-25T17:54:48.544Z"
   },
   {
    "duration": 316,
    "start_time": "2022-08-25T17:54:48.548Z"
   },
   {
    "duration": 11,
    "start_time": "2022-08-25T17:54:48.866Z"
   },
   {
    "duration": 267,
    "start_time": "2022-08-25T17:54:48.878Z"
   },
   {
    "duration": 42,
    "start_time": "2022-08-25T17:54:53.865Z"
   },
   {
    "duration": 166,
    "start_time": "2022-08-25T17:54:58.056Z"
   },
   {
    "duration": 164,
    "start_time": "2022-08-25T17:55:04.173Z"
   },
   {
    "duration": 181,
    "start_time": "2022-08-25T17:55:11.658Z"
   },
   {
    "duration": 169,
    "start_time": "2022-08-25T17:55:22.249Z"
   },
   {
    "duration": 239,
    "start_time": "2022-08-25T17:55:26.530Z"
   },
   {
    "duration": 168,
    "start_time": "2022-08-25T17:55:43.525Z"
   },
   {
    "duration": 163,
    "start_time": "2022-08-25T17:55:57.699Z"
   },
   {
    "duration": 1014,
    "start_time": "2022-08-25T17:56:46.862Z"
   },
   {
    "duration": 68,
    "start_time": "2022-08-25T17:56:47.877Z"
   },
   {
    "duration": 21,
    "start_time": "2022-08-25T17:56:47.946Z"
   },
   {
    "duration": 4,
    "start_time": "2022-08-25T17:56:47.968Z"
   },
   {
    "duration": 24,
    "start_time": "2022-08-25T17:56:47.974Z"
   },
   {
    "duration": 25,
    "start_time": "2022-08-25T17:56:47.999Z"
   },
   {
    "duration": 9,
    "start_time": "2022-08-25T17:56:48.025Z"
   },
   {
    "duration": 178,
    "start_time": "2022-08-25T17:56:48.035Z"
   },
   {
    "duration": 9,
    "start_time": "2022-08-25T17:56:48.214Z"
   },
   {
    "duration": 107,
    "start_time": "2022-08-25T17:56:48.224Z"
   },
   {
    "duration": 15,
    "start_time": "2022-08-25T17:56:48.332Z"
   },
   {
    "duration": 4,
    "start_time": "2022-08-25T17:56:48.348Z"
   },
   {
    "duration": 363,
    "start_time": "2022-08-25T17:56:48.353Z"
   },
   {
    "duration": 11,
    "start_time": "2022-08-25T17:56:48.718Z"
   },
   {
    "duration": 268,
    "start_time": "2022-08-25T17:56:48.730Z"
   },
   {
    "duration": 169,
    "start_time": "2022-08-25T17:58:05.794Z"
   },
   {
    "duration": 191,
    "start_time": "2022-08-25T17:58:20.028Z"
   },
   {
    "duration": 172,
    "start_time": "2022-08-25T17:58:37.829Z"
   },
   {
    "duration": 170,
    "start_time": "2022-08-25T18:00:58.818Z"
   },
   {
    "duration": 232,
    "start_time": "2022-08-25T18:01:18.579Z"
   },
   {
    "duration": 204,
    "start_time": "2022-08-25T18:01:29.934Z"
   },
   {
    "duration": 200,
    "start_time": "2022-08-25T18:09:11.453Z"
   },
   {
    "duration": 192,
    "start_time": "2022-08-25T18:09:21.590Z"
   },
   {
    "duration": 202,
    "start_time": "2022-08-25T18:09:49.797Z"
   },
   {
    "duration": 194,
    "start_time": "2022-08-25T18:09:56.663Z"
   },
   {
    "duration": 201,
    "start_time": "2022-08-25T18:10:03.302Z"
   },
   {
    "duration": 195,
    "start_time": "2022-08-25T18:10:09.769Z"
   },
   {
    "duration": 187,
    "start_time": "2022-08-25T18:10:17.838Z"
   },
   {
    "duration": 1140,
    "start_time": "2022-08-25T18:13:22.425Z"
   },
   {
    "duration": 67,
    "start_time": "2022-08-25T18:13:23.567Z"
   },
   {
    "duration": 20,
    "start_time": "2022-08-25T18:13:23.635Z"
   },
   {
    "duration": 5,
    "start_time": "2022-08-25T18:13:23.656Z"
   },
   {
    "duration": 21,
    "start_time": "2022-08-25T18:13:23.662Z"
   },
   {
    "duration": 30,
    "start_time": "2022-08-25T18:13:23.684Z"
   },
   {
    "duration": 9,
    "start_time": "2022-08-25T18:13:23.715Z"
   },
   {
    "duration": 184,
    "start_time": "2022-08-25T18:13:23.726Z"
   },
   {
    "duration": 8,
    "start_time": "2022-08-25T18:13:23.913Z"
   },
   {
    "duration": 109,
    "start_time": "2022-08-25T18:13:23.923Z"
   },
   {
    "duration": 20,
    "start_time": "2022-08-25T18:13:24.034Z"
   },
   {
    "duration": 5,
    "start_time": "2022-08-25T18:13:24.055Z"
   },
   {
    "duration": 392,
    "start_time": "2022-08-25T18:13:24.062Z"
   },
   {
    "duration": 12,
    "start_time": "2022-08-25T18:13:24.457Z"
   },
   {
    "duration": 216,
    "start_time": "2022-08-25T18:13:24.470Z"
   },
   {
    "duration": 1060,
    "start_time": "2022-08-25T18:14:43.109Z"
   },
   {
    "duration": 68,
    "start_time": "2022-08-25T18:14:44.171Z"
   },
   {
    "duration": 29,
    "start_time": "2022-08-25T18:14:44.240Z"
   },
   {
    "duration": 4,
    "start_time": "2022-08-25T18:14:44.271Z"
   },
   {
    "duration": 41,
    "start_time": "2022-08-25T18:14:44.277Z"
   },
   {
    "duration": 23,
    "start_time": "2022-08-25T18:14:44.320Z"
   },
   {
    "duration": 9,
    "start_time": "2022-08-25T18:14:44.345Z"
   },
   {
    "duration": 189,
    "start_time": "2022-08-25T18:14:44.355Z"
   },
   {
    "duration": 8,
    "start_time": "2022-08-25T18:14:44.546Z"
   },
   {
    "duration": 160,
    "start_time": "2022-08-25T18:14:44.557Z"
   },
   {
    "duration": 20,
    "start_time": "2022-08-25T18:14:44.719Z"
   },
   {
    "duration": 5,
    "start_time": "2022-08-25T18:14:44.740Z"
   },
   {
    "duration": 352,
    "start_time": "2022-08-25T18:14:44.746Z"
   },
   {
    "duration": 20,
    "start_time": "2022-08-25T18:14:45.100Z"
   },
   {
    "duration": 234,
    "start_time": "2022-08-25T18:14:45.122Z"
   },
   {
    "duration": 49,
    "start_time": "2022-08-27T07:27:39.639Z"
   },
   {
    "duration": 1394,
    "start_time": "2022-08-27T07:27:48.839Z"
   },
   {
    "duration": 306,
    "start_time": "2022-08-27T07:27:50.240Z"
   },
   {
    "duration": 20,
    "start_time": "2022-08-27T07:27:50.549Z"
   },
   {
    "duration": 11,
    "start_time": "2022-08-27T07:27:50.571Z"
   },
   {
    "duration": 17,
    "start_time": "2022-08-27T07:27:50.585Z"
   },
   {
    "duration": 34,
    "start_time": "2022-08-27T07:27:50.604Z"
   },
   {
    "duration": 20,
    "start_time": "2022-08-27T07:27:50.640Z"
   },
   {
    "duration": 192,
    "start_time": "2022-08-27T07:27:50.662Z"
   },
   {
    "duration": 8,
    "start_time": "2022-08-27T07:27:50.855Z"
   },
   {
    "duration": 113,
    "start_time": "2022-08-27T07:27:50.864Z"
   },
   {
    "duration": 13,
    "start_time": "2022-08-27T07:27:50.978Z"
   },
   {
    "duration": 14,
    "start_time": "2022-08-27T07:27:50.993Z"
   },
   {
    "duration": 425,
    "start_time": "2022-08-27T07:27:51.014Z"
   },
   {
    "duration": 16,
    "start_time": "2022-08-27T07:27:51.441Z"
   },
   {
    "duration": 239,
    "start_time": "2022-08-27T07:27:51.459Z"
   },
   {
    "duration": 136,
    "start_time": "2022-08-27T07:27:51.700Z"
   },
   {
    "duration": 75,
    "start_time": "2022-08-27T07:28:21.657Z"
   },
   {
    "duration": 21,
    "start_time": "2022-08-27T07:28:26.353Z"
   },
   {
    "duration": 52,
    "start_time": "2022-08-27T07:28:42.297Z"
   },
   {
    "duration": 47,
    "start_time": "2022-08-27T07:28:52.092Z"
   },
   {
    "duration": 20,
    "start_time": "2022-08-27T07:28:59.866Z"
   },
   {
    "duration": 334,
    "start_time": "2022-08-27T07:29:13.809Z"
   },
   {
    "duration": 17,
    "start_time": "2022-08-27T07:29:19.047Z"
   },
   {
    "duration": 216,
    "start_time": "2022-08-27T07:29:35.463Z"
   },
   {
    "duration": 19,
    "start_time": "2022-08-27T07:29:39.835Z"
   },
   {
    "duration": 76,
    "start_time": "2022-08-27T07:29:49.293Z"
   },
   {
    "duration": 22,
    "start_time": "2022-08-27T07:29:58.430Z"
   },
   {
    "duration": 21,
    "start_time": "2022-08-27T07:30:02.774Z"
   },
   {
    "duration": 16,
    "start_time": "2022-08-27T07:30:05.839Z"
   },
   {
    "duration": 267,
    "start_time": "2022-08-27T07:30:10.134Z"
   },
   {
    "duration": 17,
    "start_time": "2022-08-27T07:30:14.488Z"
   },
   {
    "duration": 1146,
    "start_time": "2022-08-27T07:30:56.542Z"
   },
   {
    "duration": 77,
    "start_time": "2022-08-27T07:30:57.690Z"
   },
   {
    "duration": 22,
    "start_time": "2022-08-27T07:30:57.768Z"
   },
   {
    "duration": 4,
    "start_time": "2022-08-27T07:30:57.791Z"
   },
   {
    "duration": 34,
    "start_time": "2022-08-27T07:30:57.798Z"
   },
   {
    "duration": 25,
    "start_time": "2022-08-27T07:30:57.833Z"
   },
   {
    "duration": 13,
    "start_time": "2022-08-27T07:30:57.860Z"
   },
   {
    "duration": 214,
    "start_time": "2022-08-27T07:30:57.875Z"
   },
   {
    "duration": 8,
    "start_time": "2022-08-27T07:30:58.091Z"
   },
   {
    "duration": 104,
    "start_time": "2022-08-27T07:30:58.100Z"
   },
   {
    "duration": 35,
    "start_time": "2022-08-27T07:30:58.210Z"
   },
   {
    "duration": 4,
    "start_time": "2022-08-27T07:30:58.246Z"
   },
   {
    "duration": 332,
    "start_time": "2022-08-27T07:30:58.252Z"
   },
   {
    "duration": 11,
    "start_time": "2022-08-27T07:30:58.587Z"
   },
   {
    "duration": 214,
    "start_time": "2022-08-27T07:30:58.611Z"
   },
   {
    "duration": 12,
    "start_time": "2022-08-27T07:30:58.827Z"
   },
   {
    "duration": 28,
    "start_time": "2022-08-27T07:30:58.841Z"
   },
   {
    "duration": 14,
    "start_time": "2022-08-27T07:32:33.188Z"
   },
   {
    "duration": 15,
    "start_time": "2022-08-27T07:34:03.267Z"
   },
   {
    "duration": 15,
    "start_time": "2022-08-27T07:34:15.535Z"
   },
   {
    "duration": 226,
    "start_time": "2022-08-27T07:40:17.099Z"
   },
   {
    "duration": 256,
    "start_time": "2022-08-27T07:42:02.672Z"
   },
   {
    "duration": 234,
    "start_time": "2022-08-27T07:43:06.295Z"
   },
   {
    "duration": 225,
    "start_time": "2022-08-27T07:43:13.809Z"
   },
   {
    "duration": 271,
    "start_time": "2022-08-27T07:43:17.858Z"
   },
   {
    "duration": 212,
    "start_time": "2022-08-27T07:44:11.231Z"
   },
   {
    "duration": 245,
    "start_time": "2022-08-27T07:44:30.314Z"
   },
   {
    "duration": 212,
    "start_time": "2022-08-27T07:44:41.193Z"
   },
   {
    "duration": 225,
    "start_time": "2022-08-27T07:44:50.937Z"
   },
   {
    "duration": 216,
    "start_time": "2022-08-27T07:44:55.358Z"
   },
   {
    "duration": 227,
    "start_time": "2022-08-27T07:45:03.978Z"
   },
   {
    "duration": 225,
    "start_time": "2022-08-27T07:45:47.391Z"
   },
   {
    "duration": 227,
    "start_time": "2022-08-27T07:47:09.380Z"
   },
   {
    "duration": 1045,
    "start_time": "2022-08-27T07:49:10.952Z"
   },
   {
    "duration": 87,
    "start_time": "2022-08-27T07:49:11.999Z"
   },
   {
    "duration": 21,
    "start_time": "2022-08-27T07:49:12.087Z"
   },
   {
    "duration": 11,
    "start_time": "2022-08-27T07:49:12.110Z"
   },
   {
    "duration": 30,
    "start_time": "2022-08-27T07:49:12.133Z"
   },
   {
    "duration": 27,
    "start_time": "2022-08-27T07:49:12.164Z"
   },
   {
    "duration": 13,
    "start_time": "2022-08-27T07:49:12.193Z"
   },
   {
    "duration": 231,
    "start_time": "2022-08-27T07:49:12.207Z"
   },
   {
    "duration": 11,
    "start_time": "2022-08-27T07:49:12.440Z"
   },
   {
    "duration": 126,
    "start_time": "2022-08-27T07:49:12.455Z"
   },
   {
    "duration": 16,
    "start_time": "2022-08-27T07:49:12.582Z"
   },
   {
    "duration": 41,
    "start_time": "2022-08-27T07:49:12.600Z"
   },
   {
    "duration": 429,
    "start_time": "2022-08-27T07:49:12.644Z"
   },
   {
    "duration": 11,
    "start_time": "2022-08-27T07:49:13.074Z"
   },
   {
    "duration": 216,
    "start_time": "2022-08-27T07:49:13.086Z"
   },
   {
    "duration": 22,
    "start_time": "2022-08-27T07:49:13.304Z"
   },
   {
    "duration": 46,
    "start_time": "2022-08-27T07:49:13.327Z"
   },
   {
    "duration": 18,
    "start_time": "2022-08-27T07:49:13.375Z"
   },
   {
    "duration": 12684,
    "start_time": "2022-08-27T07:49:13.395Z"
   },
   {
    "duration": 220,
    "start_time": "2022-08-27T07:50:36.371Z"
   },
   {
    "duration": 120,
    "start_time": "2022-08-27T07:53:05.778Z"
   },
   {
    "duration": 9,
    "start_time": "2022-08-27T07:53:27.482Z"
   },
   {
    "duration": 1091,
    "start_time": "2022-08-27T07:53:44.691Z"
   },
   {
    "duration": 74,
    "start_time": "2022-08-27T07:53:45.784Z"
   },
   {
    "duration": 19,
    "start_time": "2022-08-27T07:53:45.860Z"
   },
   {
    "duration": 3,
    "start_time": "2022-08-27T07:53:45.881Z"
   },
   {
    "duration": 35,
    "start_time": "2022-08-27T07:53:45.886Z"
   },
   {
    "duration": 19,
    "start_time": "2022-08-27T07:53:45.923Z"
   },
   {
    "duration": 18,
    "start_time": "2022-08-27T07:53:45.943Z"
   },
   {
    "duration": 175,
    "start_time": "2022-08-27T07:53:45.962Z"
   },
   {
    "duration": 10,
    "start_time": "2022-08-27T07:53:46.139Z"
   },
   {
    "duration": 113,
    "start_time": "2022-08-27T07:53:46.151Z"
   },
   {
    "duration": 14,
    "start_time": "2022-08-27T07:53:46.266Z"
   },
   {
    "duration": 3,
    "start_time": "2022-08-27T07:53:46.281Z"
   },
   {
    "duration": 380,
    "start_time": "2022-08-27T07:53:46.285Z"
   },
   {
    "duration": 11,
    "start_time": "2022-08-27T07:53:46.668Z"
   },
   {
    "duration": 220,
    "start_time": "2022-08-27T07:53:46.680Z"
   },
   {
    "duration": 35,
    "start_time": "2022-08-27T07:53:46.902Z"
   },
   {
    "duration": 21,
    "start_time": "2022-08-27T07:53:46.939Z"
   },
   {
    "duration": 15,
    "start_time": "2022-08-27T07:53:46.961Z"
   },
   {
    "duration": 7,
    "start_time": "2022-08-27T07:53:46.978Z"
   },
   {
    "duration": 247,
    "start_time": "2022-08-27T07:53:46.987Z"
   },
   {
    "duration": 13,
    "start_time": "2022-08-27T07:54:04.528Z"
   },
   {
    "duration": 21,
    "start_time": "2022-08-27T07:54:20.932Z"
   },
   {
    "duration": 42,
    "start_time": "2022-08-27T07:54:25.331Z"
   },
   {
    "duration": 17,
    "start_time": "2022-08-27T07:54:34.956Z"
   },
   {
    "duration": 115,
    "start_time": "2022-08-27T07:54:45.180Z"
   },
   {
    "duration": 20,
    "start_time": "2022-08-27T07:54:53.638Z"
   },
   {
    "duration": 1128,
    "start_time": "2022-08-27T07:57:13.331Z"
   },
   {
    "duration": 72,
    "start_time": "2022-08-27T07:57:14.461Z"
   },
   {
    "duration": 25,
    "start_time": "2022-08-27T07:57:14.534Z"
   },
   {
    "duration": 4,
    "start_time": "2022-08-27T07:57:14.560Z"
   },
   {
    "duration": 22,
    "start_time": "2022-08-27T07:57:14.566Z"
   },
   {
    "duration": 46,
    "start_time": "2022-08-27T07:57:14.589Z"
   },
   {
    "duration": 12,
    "start_time": "2022-08-27T07:57:14.637Z"
   },
   {
    "duration": 180,
    "start_time": "2022-08-27T07:57:14.650Z"
   },
   {
    "duration": 12,
    "start_time": "2022-08-27T07:57:14.831Z"
   },
   {
    "duration": 109,
    "start_time": "2022-08-27T07:57:14.844Z"
   },
   {
    "duration": 13,
    "start_time": "2022-08-27T07:57:14.955Z"
   },
   {
    "duration": 4,
    "start_time": "2022-08-27T07:57:14.969Z"
   },
   {
    "duration": 377,
    "start_time": "2022-08-27T07:57:14.974Z"
   },
   {
    "duration": 11,
    "start_time": "2022-08-27T07:57:15.353Z"
   },
   {
    "duration": 232,
    "start_time": "2022-08-27T07:57:15.366Z"
   },
   {
    "duration": 25,
    "start_time": "2022-08-27T07:57:15.600Z"
   },
   {
    "duration": 43,
    "start_time": "2022-08-27T07:57:15.631Z"
   },
   {
    "duration": 30,
    "start_time": "2022-08-27T07:57:15.676Z"
   },
   {
    "duration": 233,
    "start_time": "2022-08-27T07:57:15.708Z"
   },
   {
    "duration": 11,
    "start_time": "2022-08-27T07:57:59.574Z"
   },
   {
    "duration": 11,
    "start_time": "2022-08-27T07:58:03.528Z"
   },
   {
    "duration": 17,
    "start_time": "2022-08-27T07:58:08.887Z"
   },
   {
    "duration": 7,
    "start_time": "2022-08-27T07:58:47.680Z"
   },
   {
    "duration": 9,
    "start_time": "2022-08-27T07:59:20.887Z"
   },
   {
    "duration": 10,
    "start_time": "2022-08-27T07:59:29.817Z"
   },
   {
    "duration": 17,
    "start_time": "2022-08-27T07:59:48.899Z"
   },
   {
    "duration": 28,
    "start_time": "2022-08-27T08:01:38.233Z"
   },
   {
    "duration": 22,
    "start_time": "2022-08-27T08:01:46.323Z"
   },
   {
    "duration": 1173,
    "start_time": "2022-08-27T08:02:28.533Z"
   },
   {
    "duration": 75,
    "start_time": "2022-08-27T08:02:29.708Z"
   },
   {
    "duration": 21,
    "start_time": "2022-08-27T08:02:29.784Z"
   },
   {
    "duration": 11,
    "start_time": "2022-08-27T08:02:29.806Z"
   },
   {
    "duration": 28,
    "start_time": "2022-08-27T08:02:29.823Z"
   },
   {
    "duration": 27,
    "start_time": "2022-08-27T08:02:29.852Z"
   },
   {
    "duration": 11,
    "start_time": "2022-08-27T08:02:29.880Z"
   },
   {
    "duration": 193,
    "start_time": "2022-08-27T08:02:29.893Z"
   },
   {
    "duration": 8,
    "start_time": "2022-08-27T08:02:30.088Z"
   },
   {
    "duration": 137,
    "start_time": "2022-08-27T08:02:30.098Z"
   },
   {
    "duration": 17,
    "start_time": "2022-08-27T08:02:30.237Z"
   },
   {
    "duration": 4,
    "start_time": "2022-08-27T08:02:30.256Z"
   },
   {
    "duration": 402,
    "start_time": "2022-08-27T08:02:30.262Z"
   },
   {
    "duration": 12,
    "start_time": "2022-08-27T08:02:30.666Z"
   },
   {
    "duration": 284,
    "start_time": "2022-08-27T08:02:30.680Z"
   },
   {
    "duration": 13,
    "start_time": "2022-08-27T08:02:30.966Z"
   },
   {
    "duration": 44,
    "start_time": "2022-08-27T08:02:30.980Z"
   },
   {
    "duration": 39,
    "start_time": "2022-08-27T08:02:31.027Z"
   },
   {
    "duration": 23,
    "start_time": "2022-08-27T08:02:31.067Z"
   },
   {
    "duration": 230,
    "start_time": "2022-08-27T08:02:31.092Z"
   },
   {
    "duration": 15,
    "start_time": "2022-08-27T08:03:12.255Z"
   },
   {
    "duration": 27,
    "start_time": "2022-08-27T08:05:55.000Z"
   },
   {
    "duration": 21,
    "start_time": "2022-08-27T08:05:58.537Z"
   },
   {
    "duration": 1071,
    "start_time": "2022-08-27T08:06:24.542Z"
   },
   {
    "duration": 747,
    "start_time": "2022-08-27T08:06:48.081Z"
   },
   {
    "duration": 8,
    "start_time": "2022-08-27T08:07:47.158Z"
   },
   {
    "duration": 17,
    "start_time": "2022-08-27T08:08:00.747Z"
   },
   {
    "duration": 8,
    "start_time": "2022-08-27T08:08:24.654Z"
   },
   {
    "duration": 15,
    "start_time": "2022-08-27T08:08:29.276Z"
   },
   {
    "duration": 17,
    "start_time": "2022-08-27T08:08:46.510Z"
   },
   {
    "duration": 15,
    "start_time": "2022-08-27T08:09:51.329Z"
   },
   {
    "duration": 16,
    "start_time": "2022-08-27T08:09:57.510Z"
   },
   {
    "duration": 3,
    "start_time": "2022-08-27T08:11:27.997Z"
   },
   {
    "duration": 75,
    "start_time": "2022-08-27T08:11:30.455Z"
   },
   {
    "duration": 26,
    "start_time": "2022-08-27T08:11:32.676Z"
   },
   {
    "duration": 15,
    "start_time": "2022-08-27T08:13:05.901Z"
   },
   {
    "duration": 18,
    "start_time": "2022-08-27T08:14:24.099Z"
   },
   {
    "duration": 18,
    "start_time": "2022-08-27T08:14:29.256Z"
   },
   {
    "duration": 15,
    "start_time": "2022-08-27T08:15:03.796Z"
   },
   {
    "duration": 18,
    "start_time": "2022-08-27T08:15:10.013Z"
   },
   {
    "duration": 23,
    "start_time": "2022-08-27T08:15:13.650Z"
   },
   {
    "duration": 17,
    "start_time": "2022-08-27T08:16:13.037Z"
   },
   {
    "duration": 17,
    "start_time": "2022-08-27T08:16:48.277Z"
   },
   {
    "duration": 23,
    "start_time": "2022-08-27T08:16:54.413Z"
   },
   {
    "duration": 15,
    "start_time": "2022-08-27T08:18:14.195Z"
   },
   {
    "duration": 17,
    "start_time": "2022-08-27T08:18:20.497Z"
   },
   {
    "duration": 19,
    "start_time": "2022-08-27T08:18:24.644Z"
   },
   {
    "duration": 19,
    "start_time": "2022-08-27T08:18:33.804Z"
   },
   {
    "duration": 6,
    "start_time": "2022-08-27T08:23:21.529Z"
   },
   {
    "duration": 14,
    "start_time": "2022-08-27T08:23:25.852Z"
   },
   {
    "duration": 17,
    "start_time": "2022-08-27T08:24:11.243Z"
   },
   {
    "duration": 17,
    "start_time": "2022-08-27T08:24:20.163Z"
   },
   {
    "duration": 1030,
    "start_time": "2022-08-27T08:27:55.354Z"
   },
   {
    "duration": 66,
    "start_time": "2022-08-27T08:27:56.386Z"
   },
   {
    "duration": 20,
    "start_time": "2022-08-27T08:27:56.454Z"
   },
   {
    "duration": 4,
    "start_time": "2022-08-27T08:27:56.475Z"
   },
   {
    "duration": 30,
    "start_time": "2022-08-27T08:27:56.481Z"
   },
   {
    "duration": 16,
    "start_time": "2022-08-27T08:27:56.513Z"
   },
   {
    "duration": 10,
    "start_time": "2022-08-27T08:27:56.530Z"
   },
   {
    "duration": 181,
    "start_time": "2022-08-27T08:27:56.541Z"
   },
   {
    "duration": 9,
    "start_time": "2022-08-27T08:27:56.723Z"
   },
   {
    "duration": 109,
    "start_time": "2022-08-27T08:27:56.733Z"
   },
   {
    "duration": 14,
    "start_time": "2022-08-27T08:27:56.844Z"
   },
   {
    "duration": 6,
    "start_time": "2022-08-27T08:27:56.859Z"
   },
   {
    "duration": 366,
    "start_time": "2022-08-27T08:27:56.866Z"
   },
   {
    "duration": 11,
    "start_time": "2022-08-27T08:27:57.234Z"
   },
   {
    "duration": 215,
    "start_time": "2022-08-27T08:27:57.247Z"
   },
   {
    "duration": 4,
    "start_time": "2022-08-27T08:27:57.463Z"
   },
   {
    "duration": 20,
    "start_time": "2022-08-27T08:27:57.469Z"
   },
   {
    "duration": 26,
    "start_time": "2022-08-27T08:27:57.490Z"
   },
   {
    "duration": 7,
    "start_time": "2022-08-27T08:27:57.518Z"
   },
   {
    "duration": 10,
    "start_time": "2022-08-27T08:27:57.526Z"
   },
   {
    "duration": 13,
    "start_time": "2022-08-27T08:27:57.537Z"
   },
   {
    "duration": 224,
    "start_time": "2022-08-27T08:27:57.552Z"
   },
   {
    "duration": 7,
    "start_time": "2022-08-27T08:30:18.585Z"
   },
   {
    "duration": 3,
    "start_time": "2022-08-27T08:30:48.652Z"
   },
   {
    "duration": 7,
    "start_time": "2022-08-27T08:30:53.827Z"
   },
   {
    "duration": 7,
    "start_time": "2022-08-27T08:30:55.416Z"
   },
   {
    "duration": 1050,
    "start_time": "2022-08-27T08:31:08.030Z"
   },
   {
    "duration": 68,
    "start_time": "2022-08-27T08:31:09.082Z"
   },
   {
    "duration": 22,
    "start_time": "2022-08-27T08:31:09.151Z"
   },
   {
    "duration": 5,
    "start_time": "2022-08-27T08:31:09.175Z"
   },
   {
    "duration": 30,
    "start_time": "2022-08-27T08:31:09.183Z"
   },
   {
    "duration": 17,
    "start_time": "2022-08-27T08:31:09.215Z"
   },
   {
    "duration": 10,
    "start_time": "2022-08-27T08:31:09.234Z"
   },
   {
    "duration": 184,
    "start_time": "2022-08-27T08:31:09.245Z"
   },
   {
    "duration": 10,
    "start_time": "2022-08-27T08:31:09.431Z"
   },
   {
    "duration": 108,
    "start_time": "2022-08-27T08:31:09.442Z"
   },
   {
    "duration": 14,
    "start_time": "2022-08-27T08:31:09.552Z"
   },
   {
    "duration": 4,
    "start_time": "2022-08-27T08:31:09.568Z"
   },
   {
    "duration": 371,
    "start_time": "2022-08-27T08:31:09.573Z"
   },
   {
    "duration": 11,
    "start_time": "2022-08-27T08:31:09.947Z"
   },
   {
    "duration": 219,
    "start_time": "2022-08-27T08:31:09.959Z"
   },
   {
    "duration": 3,
    "start_time": "2022-08-27T08:31:10.180Z"
   },
   {
    "duration": 21,
    "start_time": "2022-08-27T08:31:10.185Z"
   },
   {
    "duration": 20,
    "start_time": "2022-08-27T08:31:10.207Z"
   },
   {
    "duration": 7,
    "start_time": "2022-08-27T08:31:10.229Z"
   },
   {
    "duration": 22,
    "start_time": "2022-08-27T08:31:10.238Z"
   },
   {
    "duration": 698,
    "start_time": "2022-08-27T08:31:10.261Z"
   },
   {
    "duration": 0,
    "start_time": "2022-08-27T08:31:10.960Z"
   },
   {
    "duration": 1037,
    "start_time": "2022-08-27T08:32:33.867Z"
   },
   {
    "duration": 70,
    "start_time": "2022-08-27T08:32:34.906Z"
   },
   {
    "duration": 20,
    "start_time": "2022-08-27T08:32:34.978Z"
   },
   {
    "duration": 4,
    "start_time": "2022-08-27T08:32:35.000Z"
   },
   {
    "duration": 23,
    "start_time": "2022-08-27T08:32:35.005Z"
   },
   {
    "duration": 20,
    "start_time": "2022-08-27T08:32:35.030Z"
   },
   {
    "duration": 8,
    "start_time": "2022-08-27T08:32:35.052Z"
   },
   {
    "duration": 193,
    "start_time": "2022-08-27T08:32:35.062Z"
   },
   {
    "duration": 8,
    "start_time": "2022-08-27T08:32:35.256Z"
   },
   {
    "duration": 109,
    "start_time": "2022-08-27T08:32:35.267Z"
   },
   {
    "duration": 13,
    "start_time": "2022-08-27T08:32:35.378Z"
   },
   {
    "duration": 3,
    "start_time": "2022-08-27T08:32:35.393Z"
   },
   {
    "duration": 355,
    "start_time": "2022-08-27T08:32:35.410Z"
   },
   {
    "duration": 11,
    "start_time": "2022-08-27T08:32:35.767Z"
   },
   {
    "duration": 228,
    "start_time": "2022-08-27T08:32:35.779Z"
   },
   {
    "duration": 3,
    "start_time": "2022-08-27T08:32:36.011Z"
   },
   {
    "duration": 323,
    "start_time": "2022-08-27T08:32:36.016Z"
   },
   {
    "duration": 0,
    "start_time": "2022-08-27T08:32:36.341Z"
   },
   {
    "duration": 0,
    "start_time": "2022-08-27T08:32:36.341Z"
   },
   {
    "duration": 0,
    "start_time": "2022-08-27T08:32:36.342Z"
   },
   {
    "duration": 1189,
    "start_time": "2022-08-27T08:33:05.555Z"
   },
   {
    "duration": 89,
    "start_time": "2022-08-27T08:33:06.746Z"
   },
   {
    "duration": 25,
    "start_time": "2022-08-27T08:33:06.837Z"
   },
   {
    "duration": 4,
    "start_time": "2022-08-27T08:33:06.863Z"
   },
   {
    "duration": 22,
    "start_time": "2022-08-27T08:33:06.869Z"
   },
   {
    "duration": 22,
    "start_time": "2022-08-27T08:33:06.912Z"
   },
   {
    "duration": 12,
    "start_time": "2022-08-27T08:33:06.936Z"
   },
   {
    "duration": 214,
    "start_time": "2022-08-27T08:33:06.949Z"
   },
   {
    "duration": 9,
    "start_time": "2022-08-27T08:33:07.164Z"
   },
   {
    "duration": 123,
    "start_time": "2022-08-27T08:33:07.174Z"
   },
   {
    "duration": 27,
    "start_time": "2022-08-27T08:33:07.298Z"
   },
   {
    "duration": 5,
    "start_time": "2022-08-27T08:33:07.326Z"
   },
   {
    "duration": 380,
    "start_time": "2022-08-27T08:33:07.333Z"
   },
   {
    "duration": 15,
    "start_time": "2022-08-27T08:33:07.717Z"
   },
   {
    "duration": 259,
    "start_time": "2022-08-27T08:33:07.733Z"
   },
   {
    "duration": 3,
    "start_time": "2022-08-27T08:33:07.994Z"
   },
   {
    "duration": 24,
    "start_time": "2022-08-27T08:33:07.998Z"
   },
   {
    "duration": 33,
    "start_time": "2022-08-27T08:33:08.024Z"
   },
   {
    "duration": 16,
    "start_time": "2022-08-27T08:33:08.059Z"
   },
   {
    "duration": 248,
    "start_time": "2022-08-27T08:33:08.077Z"
   },
   {
    "duration": 6,
    "start_time": "2022-08-27T08:35:30.695Z"
   },
   {
    "duration": 23,
    "start_time": "2022-08-27T08:35:42.676Z"
   },
   {
    "duration": 1143,
    "start_time": "2022-08-27T08:36:11.056Z"
   },
   {
    "duration": 72,
    "start_time": "2022-08-27T08:36:12.202Z"
   },
   {
    "duration": 20,
    "start_time": "2022-08-27T08:36:12.275Z"
   },
   {
    "duration": 4,
    "start_time": "2022-08-27T08:36:12.297Z"
   },
   {
    "duration": 24,
    "start_time": "2022-08-27T08:36:12.302Z"
   },
   {
    "duration": 21,
    "start_time": "2022-08-27T08:36:12.328Z"
   },
   {
    "duration": 10,
    "start_time": "2022-08-27T08:36:12.351Z"
   },
   {
    "duration": 216,
    "start_time": "2022-08-27T08:36:12.362Z"
   },
   {
    "duration": 9,
    "start_time": "2022-08-27T08:36:12.581Z"
   },
   {
    "duration": 136,
    "start_time": "2022-08-27T08:36:12.592Z"
   },
   {
    "duration": 17,
    "start_time": "2022-08-27T08:36:12.730Z"
   },
   {
    "duration": 4,
    "start_time": "2022-08-27T08:36:12.750Z"
   },
   {
    "duration": 412,
    "start_time": "2022-08-27T08:36:12.757Z"
   },
   {
    "duration": 11,
    "start_time": "2022-08-27T08:36:13.171Z"
   },
   {
    "duration": 230,
    "start_time": "2022-08-27T08:36:13.184Z"
   },
   {
    "duration": 4,
    "start_time": "2022-08-27T08:36:13.415Z"
   },
   {
    "duration": 23,
    "start_time": "2022-08-27T08:36:13.421Z"
   },
   {
    "duration": 27,
    "start_time": "2022-08-27T08:36:13.446Z"
   },
   {
    "duration": 6,
    "start_time": "2022-08-27T08:36:13.475Z"
   },
   {
    "duration": 42,
    "start_time": "2022-08-27T08:36:13.483Z"
   },
   {
    "duration": 17,
    "start_time": "2022-08-27T08:36:13.528Z"
   },
   {
    "duration": 230,
    "start_time": "2022-08-27T08:36:13.546Z"
   },
   {
    "duration": 7,
    "start_time": "2022-08-27T08:36:31.316Z"
   },
   {
    "duration": 12,
    "start_time": "2022-08-27T08:36:33.270Z"
   },
   {
    "duration": 1177,
    "start_time": "2022-08-27T08:37:29.521Z"
   },
   {
    "duration": 73,
    "start_time": "2022-08-27T08:37:30.700Z"
   },
   {
    "duration": 22,
    "start_time": "2022-08-27T08:37:30.774Z"
   },
   {
    "duration": 4,
    "start_time": "2022-08-27T08:37:30.798Z"
   },
   {
    "duration": 27,
    "start_time": "2022-08-27T08:37:30.804Z"
   },
   {
    "duration": 24,
    "start_time": "2022-08-27T08:37:30.833Z"
   },
   {
    "duration": 11,
    "start_time": "2022-08-27T08:37:30.859Z"
   },
   {
    "duration": 209,
    "start_time": "2022-08-27T08:37:30.872Z"
   },
   {
    "duration": 8,
    "start_time": "2022-08-27T08:37:31.083Z"
   },
   {
    "duration": 122,
    "start_time": "2022-08-27T08:37:31.093Z"
   },
   {
    "duration": 18,
    "start_time": "2022-08-27T08:37:31.217Z"
   },
   {
    "duration": 4,
    "start_time": "2022-08-27T08:37:31.236Z"
   },
   {
    "duration": 390,
    "start_time": "2022-08-27T08:37:31.242Z"
   },
   {
    "duration": 14,
    "start_time": "2022-08-27T08:37:31.634Z"
   },
   {
    "duration": 227,
    "start_time": "2022-08-27T08:37:31.649Z"
   },
   {
    "duration": 3,
    "start_time": "2022-08-27T08:37:31.877Z"
   },
   {
    "duration": 21,
    "start_time": "2022-08-27T08:37:31.881Z"
   },
   {
    "duration": 27,
    "start_time": "2022-08-27T08:37:31.903Z"
   },
   {
    "duration": 6,
    "start_time": "2022-08-27T08:37:31.932Z"
   },
   {
    "duration": 29,
    "start_time": "2022-08-27T08:37:31.940Z"
   },
   {
    "duration": 11,
    "start_time": "2022-08-27T08:37:31.971Z"
   },
   {
    "duration": 131,
    "start_time": "2022-08-27T08:37:31.983Z"
   },
   {
    "duration": 1079,
    "start_time": "2022-08-27T08:38:01.171Z"
   },
   {
    "duration": 69,
    "start_time": "2022-08-27T08:38:02.252Z"
   },
   {
    "duration": 26,
    "start_time": "2022-08-27T08:38:02.323Z"
   },
   {
    "duration": 6,
    "start_time": "2022-08-27T08:38:02.352Z"
   },
   {
    "duration": 30,
    "start_time": "2022-08-27T08:38:02.359Z"
   },
   {
    "duration": 21,
    "start_time": "2022-08-27T08:38:02.391Z"
   },
   {
    "duration": 30,
    "start_time": "2022-08-27T08:38:02.414Z"
   },
   {
    "duration": 231,
    "start_time": "2022-08-27T08:38:02.446Z"
   },
   {
    "duration": 12,
    "start_time": "2022-08-27T08:38:02.678Z"
   },
   {
    "duration": 131,
    "start_time": "2022-08-27T08:38:02.693Z"
   },
   {
    "duration": 20,
    "start_time": "2022-08-27T08:38:02.826Z"
   },
   {
    "duration": 6,
    "start_time": "2022-08-27T08:38:02.848Z"
   },
   {
    "duration": 401,
    "start_time": "2022-08-27T08:38:02.856Z"
   },
   {
    "duration": 12,
    "start_time": "2022-08-27T08:38:03.258Z"
   },
   {
    "duration": 229,
    "start_time": "2022-08-27T08:38:03.272Z"
   },
   {
    "duration": 8,
    "start_time": "2022-08-27T08:38:03.503Z"
   },
   {
    "duration": 21,
    "start_time": "2022-08-27T08:38:03.513Z"
   },
   {
    "duration": 21,
    "start_time": "2022-08-27T08:38:03.536Z"
   },
   {
    "duration": 8,
    "start_time": "2022-08-27T08:38:03.558Z"
   },
   {
    "duration": 18,
    "start_time": "2022-08-27T08:38:03.567Z"
   },
   {
    "duration": 38,
    "start_time": "2022-08-27T08:38:03.586Z"
   },
   {
    "duration": 250,
    "start_time": "2022-08-27T08:38:03.626Z"
   },
   {
    "duration": 1086,
    "start_time": "2022-08-27T08:45:18.285Z"
   },
   {
    "duration": 73,
    "start_time": "2022-08-27T08:45:19.372Z"
   },
   {
    "duration": 24,
    "start_time": "2022-08-27T08:45:19.446Z"
   },
   {
    "duration": 8,
    "start_time": "2022-08-27T08:45:19.472Z"
   },
   {
    "duration": 44,
    "start_time": "2022-08-27T08:45:19.481Z"
   },
   {
    "duration": 36,
    "start_time": "2022-08-27T08:45:19.527Z"
   },
   {
    "duration": 12,
    "start_time": "2022-08-27T08:45:19.565Z"
   },
   {
    "duration": 189,
    "start_time": "2022-08-27T08:45:19.579Z"
   },
   {
    "duration": 8,
    "start_time": "2022-08-27T08:45:19.770Z"
   },
   {
    "duration": 118,
    "start_time": "2022-08-27T08:45:19.781Z"
   },
   {
    "duration": 19,
    "start_time": "2022-08-27T08:45:19.900Z"
   },
   {
    "duration": 4,
    "start_time": "2022-08-27T08:45:19.920Z"
   },
   {
    "duration": 341,
    "start_time": "2022-08-27T08:45:19.925Z"
   },
   {
    "duration": 11,
    "start_time": "2022-08-27T08:45:20.267Z"
   },
   {
    "duration": 227,
    "start_time": "2022-08-27T08:45:20.280Z"
   },
   {
    "duration": 3,
    "start_time": "2022-08-27T08:45:20.509Z"
   },
   {
    "duration": 59,
    "start_time": "2022-08-27T08:45:20.514Z"
   },
   {
    "duration": 42,
    "start_time": "2022-08-27T08:45:20.575Z"
   },
   {
    "duration": 18,
    "start_time": "2022-08-27T08:45:20.619Z"
   },
   {
    "duration": 34,
    "start_time": "2022-08-27T08:45:20.639Z"
   },
   {
    "duration": 18,
    "start_time": "2022-08-27T08:45:20.675Z"
   },
   {
    "duration": 221,
    "start_time": "2022-08-27T08:45:20.695Z"
   },
   {
    "duration": 1115,
    "start_time": "2022-08-27T08:47:36.653Z"
   },
   {
    "duration": 68,
    "start_time": "2022-08-27T08:47:37.770Z"
   },
   {
    "duration": 21,
    "start_time": "2022-08-27T08:47:37.839Z"
   },
   {
    "duration": 5,
    "start_time": "2022-08-27T08:47:37.862Z"
   },
   {
    "duration": 20,
    "start_time": "2022-08-27T08:47:37.870Z"
   },
   {
    "duration": 33,
    "start_time": "2022-08-27T08:47:37.891Z"
   },
   {
    "duration": 10,
    "start_time": "2022-08-27T08:47:37.926Z"
   },
   {
    "duration": 176,
    "start_time": "2022-08-27T08:47:37.938Z"
   },
   {
    "duration": 8,
    "start_time": "2022-08-27T08:47:38.115Z"
   },
   {
    "duration": 108,
    "start_time": "2022-08-27T08:47:38.125Z"
   },
   {
    "duration": 14,
    "start_time": "2022-08-27T08:47:38.235Z"
   },
   {
    "duration": 4,
    "start_time": "2022-08-27T08:47:38.251Z"
   },
   {
    "duration": 390,
    "start_time": "2022-08-27T08:47:38.256Z"
   },
   {
    "duration": 12,
    "start_time": "2022-08-27T08:47:38.648Z"
   },
   {
    "duration": 212,
    "start_time": "2022-08-27T08:47:38.662Z"
   },
   {
    "duration": 3,
    "start_time": "2022-08-27T08:47:38.875Z"
   },
   {
    "duration": 18,
    "start_time": "2022-08-27T08:47:38.880Z"
   },
   {
    "duration": 28,
    "start_time": "2022-08-27T08:47:38.899Z"
   },
   {
    "duration": 6,
    "start_time": "2022-08-27T08:47:38.928Z"
   },
   {
    "duration": 18,
    "start_time": "2022-08-27T08:47:38.936Z"
   },
   {
    "duration": 14,
    "start_time": "2022-08-27T08:47:38.956Z"
   },
   {
    "duration": 263,
    "start_time": "2022-08-27T08:47:38.972Z"
   },
   {
    "duration": 1076,
    "start_time": "2022-08-27T08:52:05.811Z"
   },
   {
    "duration": 68,
    "start_time": "2022-08-27T08:52:06.889Z"
   },
   {
    "duration": 30,
    "start_time": "2022-08-27T08:52:06.958Z"
   },
   {
    "duration": 6,
    "start_time": "2022-08-27T08:52:06.990Z"
   },
   {
    "duration": 27,
    "start_time": "2022-08-27T08:52:07.010Z"
   },
   {
    "duration": 19,
    "start_time": "2022-08-27T08:52:07.039Z"
   },
   {
    "duration": 9,
    "start_time": "2022-08-27T08:52:07.060Z"
   },
   {
    "duration": 200,
    "start_time": "2022-08-27T08:52:07.071Z"
   },
   {
    "duration": 8,
    "start_time": "2022-08-27T08:52:07.272Z"
   },
   {
    "duration": 106,
    "start_time": "2022-08-27T08:52:07.282Z"
   },
   {
    "duration": 23,
    "start_time": "2022-08-27T08:52:07.390Z"
   },
   {
    "duration": 4,
    "start_time": "2022-08-27T08:52:07.414Z"
   },
   {
    "duration": 333,
    "start_time": "2022-08-27T08:52:07.420Z"
   },
   {
    "duration": 13,
    "start_time": "2022-08-27T08:52:07.758Z"
   },
   {
    "duration": 227,
    "start_time": "2022-08-27T08:52:07.774Z"
   },
   {
    "duration": 3,
    "start_time": "2022-08-27T08:52:08.003Z"
   },
   {
    "duration": 34,
    "start_time": "2022-08-27T08:52:08.010Z"
   },
   {
    "duration": 23,
    "start_time": "2022-08-27T08:52:08.046Z"
   },
   {
    "duration": 6,
    "start_time": "2022-08-27T08:52:08.070Z"
   },
   {
    "duration": 33,
    "start_time": "2022-08-27T08:52:08.079Z"
   },
   {
    "duration": 20,
    "start_time": "2022-08-27T08:52:08.114Z"
   },
   {
    "duration": 278,
    "start_time": "2022-08-27T08:52:08.136Z"
   },
   {
    "duration": 222,
    "start_time": "2022-08-27T08:55:34.690Z"
   },
   {
    "duration": 222,
    "start_time": "2022-08-27T08:59:30.519Z"
   },
   {
    "duration": 228,
    "start_time": "2022-08-27T08:59:37.989Z"
   },
   {
    "duration": 293,
    "start_time": "2022-08-27T09:00:00.975Z"
   },
   {
    "duration": 213,
    "start_time": "2022-08-27T09:00:54.456Z"
   },
   {
    "duration": 230,
    "start_time": "2022-08-27T09:01:07.113Z"
   },
   {
    "duration": 228,
    "start_time": "2022-08-27T09:02:00.388Z"
   },
   {
    "duration": 247,
    "start_time": "2022-08-27T09:02:16.494Z"
   },
   {
    "duration": 5,
    "start_time": "2022-08-27T09:04:04.714Z"
   },
   {
    "duration": 10,
    "start_time": "2022-08-27T09:04:24.244Z"
   },
   {
    "duration": 1104,
    "start_time": "2022-08-27T09:05:38.301Z"
   },
   {
    "duration": 79,
    "start_time": "2022-08-27T09:05:39.407Z"
   },
   {
    "duration": 23,
    "start_time": "2022-08-27T09:05:39.488Z"
   },
   {
    "duration": 5,
    "start_time": "2022-08-27T09:05:39.513Z"
   },
   {
    "duration": 25,
    "start_time": "2022-08-27T09:05:39.519Z"
   },
   {
    "duration": 18,
    "start_time": "2022-08-27T09:05:39.546Z"
   },
   {
    "duration": 10,
    "start_time": "2022-08-27T09:05:39.566Z"
   },
   {
    "duration": 200,
    "start_time": "2022-08-27T09:05:39.578Z"
   },
   {
    "duration": 12,
    "start_time": "2022-08-27T09:05:39.780Z"
   },
   {
    "duration": 125,
    "start_time": "2022-08-27T09:05:39.794Z"
   },
   {
    "duration": 15,
    "start_time": "2022-08-27T09:05:39.921Z"
   },
   {
    "duration": 4,
    "start_time": "2022-08-27T09:05:39.937Z"
   },
   {
    "duration": 358,
    "start_time": "2022-08-27T09:05:39.943Z"
   },
   {
    "duration": 13,
    "start_time": "2022-08-27T09:05:40.310Z"
   },
   {
    "duration": 228,
    "start_time": "2022-08-27T09:05:40.325Z"
   },
   {
    "duration": 4,
    "start_time": "2022-08-27T09:05:40.554Z"
   },
   {
    "duration": 21,
    "start_time": "2022-08-27T09:05:40.559Z"
   },
   {
    "duration": 32,
    "start_time": "2022-08-27T09:05:40.581Z"
   },
   {
    "duration": 6,
    "start_time": "2022-08-27T09:05:40.615Z"
   },
   {
    "duration": 19,
    "start_time": "2022-08-27T09:05:40.622Z"
   },
   {
    "duration": 15,
    "start_time": "2022-08-27T09:05:40.642Z"
   },
   {
    "duration": 262,
    "start_time": "2022-08-27T09:05:40.658Z"
   },
   {
    "duration": 10,
    "start_time": "2022-08-27T09:05:40.922Z"
   },
   {
    "duration": 903,
    "start_time": "2022-08-27T09:06:37.650Z"
   },
   {
    "duration": 12,
    "start_time": "2022-08-27T09:06:43.696Z"
   },
   {
    "duration": 9,
    "start_time": "2022-08-27T09:06:50.954Z"
   },
   {
    "duration": 77,
    "start_time": "2022-08-27T09:07:04.174Z"
   },
   {
    "duration": 7,
    "start_time": "2022-08-27T09:07:16.485Z"
   },
   {
    "duration": 7,
    "start_time": "2022-08-27T09:07:22.362Z"
   },
   {
    "duration": 59,
    "start_time": "2022-08-27T09:08:51.312Z"
   },
   {
    "duration": 1220,
    "start_time": "2022-08-27T09:12:31.676Z"
   },
   {
    "duration": 78,
    "start_time": "2022-08-27T09:12:32.899Z"
   },
   {
    "duration": 42,
    "start_time": "2022-08-27T09:12:32.979Z"
   },
   {
    "duration": 13,
    "start_time": "2022-08-27T09:12:33.023Z"
   },
   {
    "duration": 39,
    "start_time": "2022-08-27T09:12:33.038Z"
   },
   {
    "duration": 17,
    "start_time": "2022-08-27T09:12:33.079Z"
   },
   {
    "duration": 16,
    "start_time": "2022-08-27T09:12:33.098Z"
   },
   {
    "duration": 172,
    "start_time": "2022-08-27T09:12:33.116Z"
   },
   {
    "duration": 23,
    "start_time": "2022-08-27T09:12:33.290Z"
   },
   {
    "duration": 138,
    "start_time": "2022-08-27T09:12:33.315Z"
   },
   {
    "duration": 16,
    "start_time": "2022-08-27T09:12:33.455Z"
   },
   {
    "duration": 4,
    "start_time": "2022-08-27T09:12:33.472Z"
   },
   {
    "duration": 389,
    "start_time": "2022-08-27T09:12:33.478Z"
   },
   {
    "duration": 11,
    "start_time": "2022-08-27T09:12:33.870Z"
   },
   {
    "duration": 214,
    "start_time": "2022-08-27T09:12:33.883Z"
   },
   {
    "duration": 3,
    "start_time": "2022-08-27T09:12:34.099Z"
   },
   {
    "duration": 24,
    "start_time": "2022-08-27T09:12:34.118Z"
   },
   {
    "duration": 19,
    "start_time": "2022-08-27T09:12:34.143Z"
   },
   {
    "duration": 7,
    "start_time": "2022-08-27T09:12:34.164Z"
   },
   {
    "duration": 40,
    "start_time": "2022-08-27T09:12:34.172Z"
   },
   {
    "duration": 23,
    "start_time": "2022-08-27T09:12:34.214Z"
   },
   {
    "duration": 268,
    "start_time": "2022-08-27T09:12:34.239Z"
   },
   {
    "duration": 20,
    "start_time": "2022-08-27T09:12:34.509Z"
   },
   {
    "duration": 113,
    "start_time": "2022-08-27T09:41:46.926Z"
   },
   {
    "duration": 5,
    "start_time": "2022-08-27T09:41:55.442Z"
   },
   {
    "duration": 164,
    "start_time": "2022-08-27T09:41:58.292Z"
   },
   {
    "duration": 3,
    "start_time": "2022-08-27T09:42:38.082Z"
   },
   {
    "duration": 156,
    "start_time": "2022-08-27T09:42:40.040Z"
   },
   {
    "duration": 1118,
    "start_time": "2022-08-27T09:42:52.378Z"
   },
   {
    "duration": 75,
    "start_time": "2022-08-27T09:42:53.498Z"
   },
   {
    "duration": 20,
    "start_time": "2022-08-27T09:42:53.574Z"
   },
   {
    "duration": 12,
    "start_time": "2022-08-27T09:42:53.595Z"
   },
   {
    "duration": 37,
    "start_time": "2022-08-27T09:42:53.609Z"
   },
   {
    "duration": 17,
    "start_time": "2022-08-27T09:42:53.647Z"
   },
   {
    "duration": 2,
    "start_time": "2022-08-27T09:42:53.666Z"
   },
   {
    "duration": 19,
    "start_time": "2022-08-27T09:42:53.669Z"
   },
   {
    "duration": 169,
    "start_time": "2022-08-27T09:42:53.689Z"
   },
   {
    "duration": 9,
    "start_time": "2022-08-27T09:42:53.859Z"
   },
   {
    "duration": 105,
    "start_time": "2022-08-27T09:42:53.869Z"
   },
   {
    "duration": 12,
    "start_time": "2022-08-27T09:42:53.976Z"
   },
   {
    "duration": 7,
    "start_time": "2022-08-27T09:42:53.989Z"
   },
   {
    "duration": 350,
    "start_time": "2022-08-27T09:42:53.998Z"
   },
   {
    "duration": 10,
    "start_time": "2022-08-27T09:42:54.349Z"
   },
   {
    "duration": 212,
    "start_time": "2022-08-27T09:42:54.361Z"
   },
   {
    "duration": 4,
    "start_time": "2022-08-27T09:42:54.574Z"
   },
   {
    "duration": 20,
    "start_time": "2022-08-27T09:42:54.579Z"
   },
   {
    "duration": 30,
    "start_time": "2022-08-27T09:42:54.601Z"
   },
   {
    "duration": 6,
    "start_time": "2022-08-27T09:42:54.633Z"
   },
   {
    "duration": 26,
    "start_time": "2022-08-27T09:42:54.640Z"
   },
   {
    "duration": 21,
    "start_time": "2022-08-27T09:42:54.668Z"
   },
   {
    "duration": 243,
    "start_time": "2022-08-27T09:42:54.690Z"
   },
   {
    "duration": 10,
    "start_time": "2022-08-27T09:42:54.934Z"
   },
   {
    "duration": 229,
    "start_time": "2022-08-27T09:43:29.096Z"
   },
   {
    "duration": 220,
    "start_time": "2022-08-27T09:43:36.645Z"
   },
   {
    "duration": 221,
    "start_time": "2022-08-27T09:44:37.636Z"
   },
   {
    "duration": 285,
    "start_time": "2022-08-27T09:44:51.910Z"
   },
   {
    "duration": 247,
    "start_time": "2022-08-27T09:46:02.787Z"
   },
   {
    "duration": 215,
    "start_time": "2022-08-27T09:46:08.934Z"
   },
   {
    "duration": 217,
    "start_time": "2022-08-27T09:46:12.876Z"
   },
   {
    "duration": 119,
    "start_time": "2022-08-27T09:46:20.807Z"
   },
   {
    "duration": 15,
    "start_time": "2022-08-27T09:46:27.661Z"
   },
   {
    "duration": 222,
    "start_time": "2022-08-27T09:46:32.157Z"
   },
   {
    "duration": 236,
    "start_time": "2022-08-27T09:47:06.525Z"
   },
   {
    "duration": 230,
    "start_time": "2022-08-27T09:47:11.440Z"
   },
   {
    "duration": 215,
    "start_time": "2022-08-27T09:48:58.100Z"
   },
   {
    "duration": 1079,
    "start_time": "2022-08-27T09:50:30.954Z"
   },
   {
    "duration": 67,
    "start_time": "2022-08-27T09:50:32.035Z"
   },
   {
    "duration": 26,
    "start_time": "2022-08-27T09:50:32.104Z"
   },
   {
    "duration": 8,
    "start_time": "2022-08-27T09:50:32.132Z"
   },
   {
    "duration": 19,
    "start_time": "2022-08-27T09:50:32.141Z"
   },
   {
    "duration": 16,
    "start_time": "2022-08-27T09:50:32.162Z"
   },
   {
    "duration": 132,
    "start_time": "2022-08-27T09:50:32.179Z"
   },
   {
    "duration": 0,
    "start_time": "2022-08-27T09:50:32.314Z"
   },
   {
    "duration": 0,
    "start_time": "2022-08-27T09:50:32.315Z"
   },
   {
    "duration": 0,
    "start_time": "2022-08-27T09:50:32.316Z"
   },
   {
    "duration": 0,
    "start_time": "2022-08-27T09:50:32.317Z"
   },
   {
    "duration": 0,
    "start_time": "2022-08-27T09:50:32.318Z"
   },
   {
    "duration": 0,
    "start_time": "2022-08-27T09:50:32.319Z"
   },
   {
    "duration": 0,
    "start_time": "2022-08-27T09:50:32.320Z"
   },
   {
    "duration": 0,
    "start_time": "2022-08-27T09:50:32.321Z"
   },
   {
    "duration": 0,
    "start_time": "2022-08-27T09:50:32.322Z"
   },
   {
    "duration": 0,
    "start_time": "2022-08-27T09:50:32.323Z"
   },
   {
    "duration": 0,
    "start_time": "2022-08-27T09:50:32.324Z"
   },
   {
    "duration": 0,
    "start_time": "2022-08-27T09:50:32.325Z"
   },
   {
    "duration": 0,
    "start_time": "2022-08-27T09:50:32.326Z"
   },
   {
    "duration": 0,
    "start_time": "2022-08-27T09:50:32.327Z"
   },
   {
    "duration": 0,
    "start_time": "2022-08-27T09:50:32.329Z"
   },
   {
    "duration": 0,
    "start_time": "2022-08-27T09:50:32.330Z"
   },
   {
    "duration": 0,
    "start_time": "2022-08-27T09:50:32.332Z"
   },
   {
    "duration": 1105,
    "start_time": "2022-08-27T09:51:41.739Z"
   },
   {
    "duration": 71,
    "start_time": "2022-08-27T09:51:42.846Z"
   },
   {
    "duration": 26,
    "start_time": "2022-08-27T09:51:42.918Z"
   },
   {
    "duration": 10,
    "start_time": "2022-08-27T09:51:42.946Z"
   },
   {
    "duration": 48,
    "start_time": "2022-08-27T09:51:42.957Z"
   },
   {
    "duration": 24,
    "start_time": "2022-08-27T09:51:43.007Z"
   },
   {
    "duration": 3,
    "start_time": "2022-08-27T09:51:43.033Z"
   },
   {
    "duration": 36,
    "start_time": "2022-08-27T09:51:43.038Z"
   },
   {
    "duration": 179,
    "start_time": "2022-08-27T09:51:43.076Z"
   },
   {
    "duration": 9,
    "start_time": "2022-08-27T09:51:43.258Z"
   },
   {
    "duration": 114,
    "start_time": "2022-08-27T09:51:43.269Z"
   },
   {
    "duration": 15,
    "start_time": "2022-08-27T09:51:43.385Z"
   },
   {
    "duration": 5,
    "start_time": "2022-08-27T09:51:43.412Z"
   },
   {
    "duration": 348,
    "start_time": "2022-08-27T09:51:43.418Z"
   },
   {
    "duration": 11,
    "start_time": "2022-08-27T09:51:43.767Z"
   },
   {
    "duration": 208,
    "start_time": "2022-08-27T09:51:43.779Z"
   },
   {
    "duration": 5,
    "start_time": "2022-08-27T09:51:43.988Z"
   },
   {
    "duration": 29,
    "start_time": "2022-08-27T09:51:43.994Z"
   },
   {
    "duration": 19,
    "start_time": "2022-08-27T09:51:44.025Z"
   },
   {
    "duration": 6,
    "start_time": "2022-08-27T09:51:44.046Z"
   },
   {
    "duration": 22,
    "start_time": "2022-08-27T09:51:44.053Z"
   },
   {
    "duration": 42,
    "start_time": "2022-08-27T09:51:44.076Z"
   },
   {
    "duration": 234,
    "start_time": "2022-08-27T09:51:44.119Z"
   },
   {
    "duration": 10,
    "start_time": "2022-08-27T09:51:44.354Z"
   },
   {
    "duration": 1015,
    "start_time": "2022-08-27T09:52:01.368Z"
   },
   {
    "duration": 73,
    "start_time": "2022-08-27T09:52:02.385Z"
   },
   {
    "duration": 21,
    "start_time": "2022-08-27T09:52:02.460Z"
   },
   {
    "duration": 4,
    "start_time": "2022-08-27T09:52:02.483Z"
   },
   {
    "duration": 34,
    "start_time": "2022-08-27T09:52:02.489Z"
   },
   {
    "duration": 21,
    "start_time": "2022-08-27T09:52:02.525Z"
   },
   {
    "duration": 4,
    "start_time": "2022-08-27T09:52:02.548Z"
   },
   {
    "duration": 14,
    "start_time": "2022-08-27T09:52:02.554Z"
   },
   {
    "duration": 230,
    "start_time": "2022-08-27T09:52:02.570Z"
   },
   {
    "duration": 15,
    "start_time": "2022-08-27T09:52:02.803Z"
   },
   {
    "duration": 136,
    "start_time": "2022-08-27T09:52:02.820Z"
   },
   {
    "duration": 14,
    "start_time": "2022-08-27T09:52:02.957Z"
   },
   {
    "duration": 4,
    "start_time": "2022-08-27T09:52:02.972Z"
   },
   {
    "duration": 365,
    "start_time": "2022-08-27T09:52:02.977Z"
   },
   {
    "duration": 12,
    "start_time": "2022-08-27T09:52:03.343Z"
   },
   {
    "duration": 212,
    "start_time": "2022-08-27T09:52:03.356Z"
   },
   {
    "duration": 3,
    "start_time": "2022-08-27T09:52:03.570Z"
   },
   {
    "duration": 37,
    "start_time": "2022-08-27T09:52:03.574Z"
   },
   {
    "duration": 21,
    "start_time": "2022-08-27T09:52:03.613Z"
   },
   {
    "duration": 6,
    "start_time": "2022-08-27T09:52:03.636Z"
   },
   {
    "duration": 19,
    "start_time": "2022-08-27T09:52:03.644Z"
   },
   {
    "duration": 22,
    "start_time": "2022-08-27T09:52:03.664Z"
   },
   {
    "duration": 246,
    "start_time": "2022-08-27T09:52:03.688Z"
   },
   {
    "duration": 9,
    "start_time": "2022-08-27T09:52:03.935Z"
   },
   {
    "duration": 48,
    "start_time": "2022-08-27T09:53:08.831Z"
   },
   {
    "duration": 258,
    "start_time": "2022-08-27T09:53:22.342Z"
   },
   {
    "duration": 115,
    "start_time": "2022-08-27T09:55:01.281Z"
   },
   {
    "duration": 229,
    "start_time": "2022-08-27T09:55:43.885Z"
   },
   {
    "duration": 250,
    "start_time": "2022-08-27T09:55:51.231Z"
   },
   {
    "duration": 347,
    "start_time": "2022-08-27T09:56:02.366Z"
   },
   {
    "duration": 231,
    "start_time": "2022-08-27T09:56:07.729Z"
   },
   {
    "duration": 227,
    "start_time": "2022-08-27T09:56:24.917Z"
   },
   {
    "duration": 220,
    "start_time": "2022-08-27T09:56:29.223Z"
   },
   {
    "duration": 212,
    "start_time": "2022-08-27T09:57:57.862Z"
   },
   {
    "duration": 216,
    "start_time": "2022-08-27T09:58:19.951Z"
   },
   {
    "duration": 370,
    "start_time": "2022-08-27T10:45:19.831Z"
   },
   {
    "duration": 7873,
    "start_time": "2022-08-27T10:46:13.777Z"
   },
   {
    "duration": 1051,
    "start_time": "2022-08-27T10:47:15.934Z"
   },
   {
    "duration": 82,
    "start_time": "2022-08-27T10:47:16.987Z"
   },
   {
    "duration": 22,
    "start_time": "2022-08-27T10:47:17.073Z"
   },
   {
    "duration": 15,
    "start_time": "2022-08-27T10:47:17.097Z"
   },
   {
    "duration": 25,
    "start_time": "2022-08-27T10:47:17.115Z"
   },
   {
    "duration": 18,
    "start_time": "2022-08-27T10:47:17.142Z"
   },
   {
    "duration": 11,
    "start_time": "2022-08-27T10:47:17.161Z"
   },
   {
    "duration": 12,
    "start_time": "2022-08-27T10:47:17.174Z"
   },
   {
    "duration": 167,
    "start_time": "2022-08-27T10:47:17.210Z"
   },
   {
    "duration": 9,
    "start_time": "2022-08-27T10:47:17.379Z"
   },
   {
    "duration": 117,
    "start_time": "2022-08-27T10:47:17.389Z"
   },
   {
    "duration": 15,
    "start_time": "2022-08-27T10:47:17.508Z"
   },
   {
    "duration": 4,
    "start_time": "2022-08-27T10:47:17.524Z"
   },
   {
    "duration": 333,
    "start_time": "2022-08-27T10:47:17.529Z"
   },
   {
    "duration": 12,
    "start_time": "2022-08-27T10:47:17.864Z"
   },
   {
    "duration": 212,
    "start_time": "2022-08-27T10:47:17.878Z"
   },
   {
    "duration": 4,
    "start_time": "2022-08-27T10:47:18.093Z"
   },
   {
    "duration": 22,
    "start_time": "2022-08-27T10:47:18.098Z"
   },
   {
    "duration": 25,
    "start_time": "2022-08-27T10:47:18.122Z"
   },
   {
    "duration": 7,
    "start_time": "2022-08-27T10:47:18.148Z"
   },
   {
    "duration": 25,
    "start_time": "2022-08-27T10:47:18.156Z"
   },
   {
    "duration": 31,
    "start_time": "2022-08-27T10:47:18.182Z"
   },
   {
    "duration": 236,
    "start_time": "2022-08-27T10:47:18.214Z"
   },
   {
    "duration": 10,
    "start_time": "2022-08-27T10:47:18.452Z"
   },
   {
    "duration": 1876,
    "start_time": "2022-08-27T10:47:18.464Z"
   },
   {
    "duration": 0,
    "start_time": "2022-08-27T10:47:20.342Z"
   },
   {
    "duration": 1332,
    "start_time": "2022-08-27T10:48:54.866Z"
   },
   {
    "duration": 2604,
    "start_time": "2022-08-27T10:51:43.853Z"
   },
   {
    "duration": 1216,
    "start_time": "2022-08-27T10:52:05.169Z"
   },
   {
    "duration": 1270,
    "start_time": "2022-08-27T10:52:11.239Z"
   },
   {
    "duration": 12,
    "start_time": "2022-08-27T10:52:54.919Z"
   },
   {
    "duration": 10,
    "start_time": "2022-08-27T10:52:59.386Z"
   },
   {
    "duration": 1315,
    "start_time": "2022-08-27T10:55:10.200Z"
   },
   {
    "duration": 1363,
    "start_time": "2022-08-27T10:55:41.960Z"
   },
   {
    "duration": 1413,
    "start_time": "2022-08-27T10:57:49.524Z"
   },
   {
    "duration": 1287,
    "start_time": "2022-08-27T10:57:59.502Z"
   },
   {
    "duration": 1244,
    "start_time": "2022-08-27T10:58:54.380Z"
   },
   {
    "duration": 1100,
    "start_time": "2022-08-27T10:59:37.832Z"
   },
   {
    "duration": 66,
    "start_time": "2022-08-27T10:59:38.933Z"
   },
   {
    "duration": 23,
    "start_time": "2022-08-27T10:59:39.001Z"
   },
   {
    "duration": 5,
    "start_time": "2022-08-27T10:59:39.026Z"
   },
   {
    "duration": 19,
    "start_time": "2022-08-27T10:59:39.033Z"
   },
   {
    "duration": 16,
    "start_time": "2022-08-27T10:59:39.054Z"
   },
   {
    "duration": 3,
    "start_time": "2022-08-27T10:59:39.072Z"
   },
   {
    "duration": 46,
    "start_time": "2022-08-27T10:59:39.076Z"
   },
   {
    "duration": 169,
    "start_time": "2022-08-27T10:59:39.124Z"
   },
   {
    "duration": 17,
    "start_time": "2022-08-27T10:59:39.294Z"
   },
   {
    "duration": 109,
    "start_time": "2022-08-27T10:59:39.313Z"
   },
   {
    "duration": 20,
    "start_time": "2022-08-27T10:59:39.424Z"
   },
   {
    "duration": 5,
    "start_time": "2022-08-27T10:59:39.446Z"
   },
   {
    "duration": 396,
    "start_time": "2022-08-27T10:59:39.454Z"
   },
   {
    "duration": 12,
    "start_time": "2022-08-27T10:59:39.852Z"
   },
   {
    "duration": 238,
    "start_time": "2022-08-27T10:59:39.865Z"
   },
   {
    "duration": 5,
    "start_time": "2022-08-27T10:59:40.110Z"
   },
   {
    "duration": 48,
    "start_time": "2022-08-27T10:59:40.116Z"
   },
   {
    "duration": 26,
    "start_time": "2022-08-27T10:59:40.166Z"
   },
   {
    "duration": 9,
    "start_time": "2022-08-27T10:59:40.193Z"
   },
   {
    "duration": 23,
    "start_time": "2022-08-27T10:59:40.203Z"
   },
   {
    "duration": 17,
    "start_time": "2022-08-27T10:59:40.227Z"
   },
   {
    "duration": 271,
    "start_time": "2022-08-27T10:59:40.246Z"
   },
   {
    "duration": 10,
    "start_time": "2022-08-27T10:59:40.519Z"
   },
   {
    "duration": 1381,
    "start_time": "2022-08-27T10:59:40.531Z"
   },
   {
    "duration": 88,
    "start_time": "2022-08-27T11:00:47.779Z"
   },
   {
    "duration": 130,
    "start_time": "2022-08-27T11:00:54.026Z"
   },
   {
    "duration": 97,
    "start_time": "2022-08-27T11:03:07.527Z"
   },
   {
    "duration": 23,
    "start_time": "2022-08-27T11:03:18.850Z"
   },
   {
    "duration": 31,
    "start_time": "2022-08-27T11:03:29.992Z"
   },
   {
    "duration": 4,
    "start_time": "2022-08-27T11:05:32.973Z"
   },
   {
    "duration": 21,
    "start_time": "2022-08-27T11:05:39.411Z"
   },
   {
    "duration": 4,
    "start_time": "2022-08-27T11:06:54.431Z"
   },
   {
    "duration": 4,
    "start_time": "2022-08-27T11:06:57.776Z"
   },
   {
    "duration": 11,
    "start_time": "2022-08-27T11:06:59.535Z"
   },
   {
    "duration": 4,
    "start_time": "2022-08-27T11:07:15.994Z"
   },
   {
    "duration": 20,
    "start_time": "2022-08-27T11:07:38.001Z"
   },
   {
    "duration": 22,
    "start_time": "2022-08-27T11:07:43.625Z"
   },
   {
    "duration": 1071,
    "start_time": "2022-08-27T11:07:54.469Z"
   },
   {
    "duration": 72,
    "start_time": "2022-08-27T11:07:55.542Z"
   },
   {
    "duration": 21,
    "start_time": "2022-08-27T11:07:55.615Z"
   },
   {
    "duration": 4,
    "start_time": "2022-08-27T11:07:55.638Z"
   },
   {
    "duration": 35,
    "start_time": "2022-08-27T11:07:55.643Z"
   },
   {
    "duration": 17,
    "start_time": "2022-08-27T11:07:55.680Z"
   },
   {
    "duration": 13,
    "start_time": "2022-08-27T11:07:55.698Z"
   },
   {
    "duration": 17,
    "start_time": "2022-08-27T11:07:55.712Z"
   },
   {
    "duration": 167,
    "start_time": "2022-08-27T11:07:55.731Z"
   },
   {
    "duration": 17,
    "start_time": "2022-08-27T11:07:55.900Z"
   },
   {
    "duration": 99,
    "start_time": "2022-08-27T11:07:55.919Z"
   },
   {
    "duration": 23,
    "start_time": "2022-08-27T11:07:56.020Z"
   },
   {
    "duration": 4,
    "start_time": "2022-08-27T11:07:56.045Z"
   },
   {
    "duration": 326,
    "start_time": "2022-08-27T11:07:56.050Z"
   },
   {
    "duration": 11,
    "start_time": "2022-08-27T11:07:56.377Z"
   },
   {
    "duration": 221,
    "start_time": "2022-08-27T11:07:56.390Z"
   },
   {
    "duration": 3,
    "start_time": "2022-08-27T11:07:56.612Z"
   },
   {
    "duration": 30,
    "start_time": "2022-08-27T11:07:56.617Z"
   },
   {
    "duration": 21,
    "start_time": "2022-08-27T11:07:56.649Z"
   },
   {
    "duration": 6,
    "start_time": "2022-08-27T11:07:56.671Z"
   },
   {
    "duration": 32,
    "start_time": "2022-08-27T11:07:56.679Z"
   },
   {
    "duration": 14,
    "start_time": "2022-08-27T11:07:56.713Z"
   },
   {
    "duration": 247,
    "start_time": "2022-08-27T11:07:56.729Z"
   },
   {
    "duration": 9,
    "start_time": "2022-08-27T11:07:56.978Z"
   },
   {
    "duration": 1721,
    "start_time": "2022-08-27T11:07:56.988Z"
   },
   {
    "duration": 3,
    "start_time": "2022-08-27T11:07:58.710Z"
   },
   {
    "duration": 13,
    "start_time": "2022-08-27T11:07:58.715Z"
   },
   {
    "duration": 26,
    "start_time": "2022-08-27T11:08:08.693Z"
   },
   {
    "duration": 1143,
    "start_time": "2022-08-27T11:09:40.682Z"
   },
   {
    "duration": 66,
    "start_time": "2022-08-27T11:09:41.827Z"
   },
   {
    "duration": 22,
    "start_time": "2022-08-27T11:09:41.895Z"
   },
   {
    "duration": 5,
    "start_time": "2022-08-27T11:09:41.920Z"
   },
   {
    "duration": 34,
    "start_time": "2022-08-27T11:09:41.927Z"
   },
   {
    "duration": 16,
    "start_time": "2022-08-27T11:09:41.963Z"
   },
   {
    "duration": 2,
    "start_time": "2022-08-27T11:09:41.980Z"
   },
   {
    "duration": 19,
    "start_time": "2022-08-27T11:09:41.983Z"
   },
   {
    "duration": 169,
    "start_time": "2022-08-27T11:09:42.003Z"
   },
   {
    "duration": 7,
    "start_time": "2022-08-27T11:09:42.174Z"
   },
   {
    "duration": 100,
    "start_time": "2022-08-27T11:09:42.183Z"
   },
   {
    "duration": 14,
    "start_time": "2022-08-27T11:09:42.284Z"
   },
   {
    "duration": 11,
    "start_time": "2022-08-27T11:09:42.310Z"
   },
   {
    "duration": 368,
    "start_time": "2022-08-27T11:09:42.323Z"
   },
   {
    "duration": 18,
    "start_time": "2022-08-27T11:09:42.693Z"
   },
   {
    "duration": 236,
    "start_time": "2022-08-27T11:09:42.712Z"
   },
   {
    "duration": 3,
    "start_time": "2022-08-27T11:09:42.950Z"
   },
   {
    "duration": 19,
    "start_time": "2022-08-27T11:09:42.954Z"
   },
   {
    "duration": 22,
    "start_time": "2022-08-27T11:09:42.974Z"
   },
   {
    "duration": 7,
    "start_time": "2022-08-27T11:09:43.010Z"
   },
   {
    "duration": 21,
    "start_time": "2022-08-27T11:09:43.019Z"
   },
   {
    "duration": 17,
    "start_time": "2022-08-27T11:09:43.042Z"
   },
   {
    "duration": 254,
    "start_time": "2022-08-27T11:09:43.060Z"
   },
   {
    "duration": 9,
    "start_time": "2022-08-27T11:09:43.316Z"
   },
   {
    "duration": 1306,
    "start_time": "2022-08-27T11:09:43.326Z"
   },
   {
    "duration": 3,
    "start_time": "2022-08-27T11:09:44.633Z"
   },
   {
    "duration": 31,
    "start_time": "2022-08-27T11:09:44.638Z"
   },
   {
    "duration": 26,
    "start_time": "2022-08-27T11:10:31.045Z"
   },
   {
    "duration": 1151,
    "start_time": "2022-08-27T11:11:09.335Z"
   },
   {
    "duration": 68,
    "start_time": "2022-08-27T11:11:10.488Z"
   },
   {
    "duration": 23,
    "start_time": "2022-08-27T11:11:10.557Z"
   },
   {
    "duration": 4,
    "start_time": "2022-08-27T11:11:10.581Z"
   },
   {
    "duration": 28,
    "start_time": "2022-08-27T11:11:10.588Z"
   },
   {
    "duration": 16,
    "start_time": "2022-08-27T11:11:10.617Z"
   },
   {
    "duration": 8,
    "start_time": "2022-08-27T11:11:10.635Z"
   },
   {
    "duration": 19,
    "start_time": "2022-08-27T11:11:10.644Z"
   },
   {
    "duration": 200,
    "start_time": "2022-08-27T11:11:10.664Z"
   },
   {
    "duration": 8,
    "start_time": "2022-08-27T11:11:10.866Z"
   },
   {
    "duration": 107,
    "start_time": "2022-08-27T11:11:10.875Z"
   },
   {
    "duration": 14,
    "start_time": "2022-08-27T11:11:10.984Z"
   },
   {
    "duration": 17,
    "start_time": "2022-08-27T11:11:10.999Z"
   },
   {
    "duration": 323,
    "start_time": "2022-08-27T11:11:11.022Z"
   },
   {
    "duration": 11,
    "start_time": "2022-08-27T11:11:11.346Z"
   },
   {
    "duration": 226,
    "start_time": "2022-08-27T11:11:11.359Z"
   },
   {
    "duration": 4,
    "start_time": "2022-08-27T11:11:11.587Z"
   },
   {
    "duration": 36,
    "start_time": "2022-08-27T11:11:11.593Z"
   },
   {
    "duration": 24,
    "start_time": "2022-08-27T11:11:11.631Z"
   },
   {
    "duration": 7,
    "start_time": "2022-08-27T11:11:11.657Z"
   },
   {
    "duration": 47,
    "start_time": "2022-08-27T11:11:11.665Z"
   },
   {
    "duration": 14,
    "start_time": "2022-08-27T11:11:11.714Z"
   },
   {
    "duration": 243,
    "start_time": "2022-08-27T11:11:11.730Z"
   },
   {
    "duration": 9,
    "start_time": "2022-08-27T11:11:11.975Z"
   },
   {
    "duration": 1363,
    "start_time": "2022-08-27T11:11:11.985Z"
   },
   {
    "duration": 3,
    "start_time": "2022-08-27T11:11:13.349Z"
   },
   {
    "duration": 125,
    "start_time": "2022-08-27T11:11:13.354Z"
   },
   {
    "duration": 1119,
    "start_time": "2022-08-27T11:11:33.399Z"
   },
   {
    "duration": 67,
    "start_time": "2022-08-27T11:11:34.520Z"
   },
   {
    "duration": 22,
    "start_time": "2022-08-27T11:11:34.589Z"
   },
   {
    "duration": 15,
    "start_time": "2022-08-27T11:11:34.613Z"
   },
   {
    "duration": 33,
    "start_time": "2022-08-27T11:11:34.630Z"
   },
   {
    "duration": 24,
    "start_time": "2022-08-27T11:11:34.664Z"
   },
   {
    "duration": 2,
    "start_time": "2022-08-27T11:11:34.690Z"
   },
   {
    "duration": 28,
    "start_time": "2022-08-27T11:11:34.694Z"
   },
   {
    "duration": 180,
    "start_time": "2022-08-27T11:11:34.723Z"
   },
   {
    "duration": 8,
    "start_time": "2022-08-27T11:11:34.905Z"
   },
   {
    "duration": 103,
    "start_time": "2022-08-27T11:11:34.914Z"
   },
   {
    "duration": 13,
    "start_time": "2022-08-27T11:11:35.019Z"
   },
   {
    "duration": 13,
    "start_time": "2022-08-27T11:11:35.034Z"
   },
   {
    "duration": 393,
    "start_time": "2022-08-27T11:11:35.048Z"
   },
   {
    "duration": 13,
    "start_time": "2022-08-27T11:11:35.443Z"
   },
   {
    "duration": 209,
    "start_time": "2022-08-27T11:11:35.458Z"
   },
   {
    "duration": 3,
    "start_time": "2022-08-27T11:11:35.669Z"
   },
   {
    "duration": 22,
    "start_time": "2022-08-27T11:11:35.674Z"
   },
   {
    "duration": 24,
    "start_time": "2022-08-27T11:11:35.698Z"
   },
   {
    "duration": 6,
    "start_time": "2022-08-27T11:11:35.724Z"
   },
   {
    "duration": 32,
    "start_time": "2022-08-27T11:11:35.731Z"
   },
   {
    "duration": 16,
    "start_time": "2022-08-27T11:11:35.765Z"
   },
   {
    "duration": 222,
    "start_time": "2022-08-27T11:11:35.783Z"
   },
   {
    "duration": 9,
    "start_time": "2022-08-27T11:11:36.010Z"
   },
   {
    "duration": 1392,
    "start_time": "2022-08-27T11:11:36.020Z"
   },
   {
    "duration": 3,
    "start_time": "2022-08-27T11:11:37.414Z"
   },
   {
    "duration": 29,
    "start_time": "2022-08-27T11:11:37.419Z"
   },
   {
    "duration": 910,
    "start_time": "2022-08-27T11:12:35.964Z"
   },
   {
    "duration": 12,
    "start_time": "2022-08-27T11:12:58.755Z"
   },
   {
    "duration": 14,
    "start_time": "2022-08-27T11:13:14.523Z"
   },
   {
    "duration": 794,
    "start_time": "2022-08-27T11:13:47.898Z"
   },
   {
    "duration": 1093,
    "start_time": "2022-08-27T11:14:14.027Z"
   },
   {
    "duration": 67,
    "start_time": "2022-08-27T11:14:15.122Z"
   },
   {
    "duration": 23,
    "start_time": "2022-08-27T11:14:15.191Z"
   },
   {
    "duration": 4,
    "start_time": "2022-08-27T11:14:15.216Z"
   },
   {
    "duration": 19,
    "start_time": "2022-08-27T11:14:15.221Z"
   },
   {
    "duration": 16,
    "start_time": "2022-08-27T11:14:15.242Z"
   },
   {
    "duration": 2,
    "start_time": "2022-08-27T11:14:15.259Z"
   },
   {
    "duration": 12,
    "start_time": "2022-08-27T11:14:15.262Z"
   },
   {
    "duration": 182,
    "start_time": "2022-08-27T11:14:15.275Z"
   },
   {
    "duration": 8,
    "start_time": "2022-08-27T11:14:15.459Z"
   },
   {
    "duration": 101,
    "start_time": "2022-08-27T11:14:15.469Z"
   },
   {
    "duration": 14,
    "start_time": "2022-08-27T11:14:15.571Z"
   },
   {
    "duration": 4,
    "start_time": "2022-08-27T11:14:15.586Z"
   },
   {
    "duration": 356,
    "start_time": "2022-08-27T11:14:15.591Z"
   },
   {
    "duration": 11,
    "start_time": "2022-08-27T11:14:15.948Z"
   },
   {
    "duration": 206,
    "start_time": "2022-08-27T11:14:15.961Z"
   },
   {
    "duration": 3,
    "start_time": "2022-08-27T11:14:16.169Z"
   },
   {
    "duration": 20,
    "start_time": "2022-08-27T11:14:16.173Z"
   },
   {
    "duration": 29,
    "start_time": "2022-08-27T11:14:16.195Z"
   },
   {
    "duration": 6,
    "start_time": "2022-08-27T11:14:16.225Z"
   },
   {
    "duration": 21,
    "start_time": "2022-08-27T11:14:16.233Z"
   },
   {
    "duration": 14,
    "start_time": "2022-08-27T11:14:16.256Z"
   },
   {
    "duration": 241,
    "start_time": "2022-08-27T11:14:16.272Z"
   },
   {
    "duration": 10,
    "start_time": "2022-08-27T11:14:16.515Z"
   },
   {
    "duration": 1349,
    "start_time": "2022-08-27T11:14:16.526Z"
   },
   {
    "duration": 3,
    "start_time": "2022-08-27T11:14:17.876Z"
   },
   {
    "duration": 8,
    "start_time": "2022-08-27T11:14:17.880Z"
   },
   {
    "duration": 3,
    "start_time": "2022-08-27T11:14:17.892Z"
   },
   {
    "duration": 116,
    "start_time": "2022-08-27T11:15:11.178Z"
   },
   {
    "duration": 16,
    "start_time": "2022-08-27T11:15:25.128Z"
   },
   {
    "duration": 10,
    "start_time": "2022-08-27T11:16:06.172Z"
   },
   {
    "duration": 1152,
    "start_time": "2022-08-27T11:16:45.581Z"
   },
   {
    "duration": 69,
    "start_time": "2022-08-27T11:16:46.735Z"
   },
   {
    "duration": 22,
    "start_time": "2022-08-27T11:16:46.807Z"
   },
   {
    "duration": 4,
    "start_time": "2022-08-27T11:16:46.831Z"
   },
   {
    "duration": 21,
    "start_time": "2022-08-27T11:16:46.836Z"
   },
   {
    "duration": 17,
    "start_time": "2022-08-27T11:16:46.859Z"
   },
   {
    "duration": 5,
    "start_time": "2022-08-27T11:16:46.877Z"
   },
   {
    "duration": 35,
    "start_time": "2022-08-27T11:16:46.883Z"
   },
   {
    "duration": 192,
    "start_time": "2022-08-27T11:16:46.919Z"
   },
   {
    "duration": 9,
    "start_time": "2022-08-27T11:16:47.112Z"
   },
   {
    "duration": 104,
    "start_time": "2022-08-27T11:16:47.123Z"
   },
   {
    "duration": 15,
    "start_time": "2022-08-27T11:16:47.229Z"
   },
   {
    "duration": 3,
    "start_time": "2022-08-27T11:16:47.247Z"
   },
   {
    "duration": 370,
    "start_time": "2022-08-27T11:16:47.252Z"
   },
   {
    "duration": 11,
    "start_time": "2022-08-27T11:16:47.623Z"
   },
   {
    "duration": 216,
    "start_time": "2022-08-27T11:16:47.636Z"
   },
   {
    "duration": 4,
    "start_time": "2022-08-27T11:16:47.854Z"
   },
   {
    "duration": 32,
    "start_time": "2022-08-27T11:16:47.859Z"
   },
   {
    "duration": 31,
    "start_time": "2022-08-27T11:16:47.893Z"
   },
   {
    "duration": 6,
    "start_time": "2022-08-27T11:16:47.925Z"
   },
   {
    "duration": 18,
    "start_time": "2022-08-27T11:16:47.932Z"
   },
   {
    "duration": 20,
    "start_time": "2022-08-27T11:16:47.952Z"
   },
   {
    "duration": 262,
    "start_time": "2022-08-27T11:16:47.973Z"
   },
   {
    "duration": 10,
    "start_time": "2022-08-27T11:16:48.236Z"
   },
   {
    "duration": 1858,
    "start_time": "2022-08-27T11:16:48.247Z"
   },
   {
    "duration": 4,
    "start_time": "2022-08-27T11:16:50.107Z"
   },
   {
    "duration": 4,
    "start_time": "2022-08-27T11:16:50.113Z"
   },
   {
    "duration": 7,
    "start_time": "2022-08-27T11:16:50.118Z"
   },
   {
    "duration": 1153,
    "start_time": "2022-08-27T11:18:03.680Z"
   },
   {
    "duration": 68,
    "start_time": "2022-08-27T11:18:04.835Z"
   },
   {
    "duration": 23,
    "start_time": "2022-08-27T11:18:04.904Z"
   },
   {
    "duration": 4,
    "start_time": "2022-08-27T11:18:04.929Z"
   },
   {
    "duration": 21,
    "start_time": "2022-08-27T11:18:04.935Z"
   },
   {
    "duration": 16,
    "start_time": "2022-08-27T11:18:04.957Z"
   },
   {
    "duration": 3,
    "start_time": "2022-08-27T11:18:04.975Z"
   },
   {
    "duration": 38,
    "start_time": "2022-08-27T11:18:04.980Z"
   },
   {
    "duration": 170,
    "start_time": "2022-08-27T11:18:05.020Z"
   },
   {
    "duration": 9,
    "start_time": "2022-08-27T11:18:05.191Z"
   },
   {
    "duration": 90,
    "start_time": "2022-08-27T11:18:05.211Z"
   },
   {
    "duration": 14,
    "start_time": "2022-08-27T11:18:05.311Z"
   },
   {
    "duration": 4,
    "start_time": "2022-08-27T11:18:05.326Z"
   },
   {
    "duration": 323,
    "start_time": "2022-08-27T11:18:05.332Z"
   },
   {
    "duration": 11,
    "start_time": "2022-08-27T11:18:05.657Z"
   },
   {
    "duration": 208,
    "start_time": "2022-08-27T11:18:05.669Z"
   },
   {
    "duration": 3,
    "start_time": "2022-08-27T11:18:05.878Z"
   },
   {
    "duration": 20,
    "start_time": "2022-08-27T11:18:05.883Z"
   },
   {
    "duration": 18,
    "start_time": "2022-08-27T11:18:05.911Z"
   },
   {
    "duration": 6,
    "start_time": "2022-08-27T11:18:05.931Z"
   },
   {
    "duration": 18,
    "start_time": "2022-08-27T11:18:05.938Z"
   },
   {
    "duration": 13,
    "start_time": "2022-08-27T11:18:05.957Z"
   },
   {
    "duration": 248,
    "start_time": "2022-08-27T11:18:05.971Z"
   },
   {
    "duration": 9,
    "start_time": "2022-08-27T11:18:06.221Z"
   },
   {
    "duration": 1723,
    "start_time": "2022-08-27T11:18:06.231Z"
   },
   {
    "duration": 9,
    "start_time": "2022-08-27T11:18:07.956Z"
   },
   {
    "duration": 4,
    "start_time": "2022-08-27T11:18:07.966Z"
   },
   {
    "duration": 12,
    "start_time": "2022-08-27T11:18:35.778Z"
   },
   {
    "duration": 870,
    "start_time": "2022-08-27T11:21:10.296Z"
   },
   {
    "duration": 741,
    "start_time": "2022-08-27T11:21:19.783Z"
   },
   {
    "duration": 744,
    "start_time": "2022-08-27T11:21:52.069Z"
   },
   {
    "duration": 11,
    "start_time": "2022-08-27T11:23:12.785Z"
   },
   {
    "duration": 13,
    "start_time": "2022-08-27T11:23:18.525Z"
   },
   {
    "duration": 1082,
    "start_time": "2022-08-27T11:23:23.837Z"
   },
   {
    "duration": 67,
    "start_time": "2022-08-27T11:23:24.921Z"
   },
   {
    "duration": 21,
    "start_time": "2022-08-27T11:23:24.989Z"
   },
   {
    "duration": 4,
    "start_time": "2022-08-27T11:23:25.012Z"
   },
   {
    "duration": 26,
    "start_time": "2022-08-27T11:23:25.017Z"
   },
   {
    "duration": 17,
    "start_time": "2022-08-27T11:23:25.044Z"
   },
   {
    "duration": 12,
    "start_time": "2022-08-27T11:23:25.062Z"
   },
   {
    "duration": 19,
    "start_time": "2022-08-27T11:23:25.075Z"
   },
   {
    "duration": 160,
    "start_time": "2022-08-27T11:23:25.095Z"
   },
   {
    "duration": 8,
    "start_time": "2022-08-27T11:23:25.258Z"
   },
   {
    "duration": 105,
    "start_time": "2022-08-27T11:23:25.267Z"
   },
   {
    "duration": 13,
    "start_time": "2022-08-27T11:23:25.373Z"
   },
   {
    "duration": 3,
    "start_time": "2022-08-27T11:23:25.387Z"
   },
   {
    "duration": 346,
    "start_time": "2022-08-27T11:23:25.391Z"
   },
   {
    "duration": 11,
    "start_time": "2022-08-27T11:23:25.738Z"
   },
   {
    "duration": 212,
    "start_time": "2022-08-27T11:23:25.750Z"
   },
   {
    "duration": 4,
    "start_time": "2022-08-27T11:23:25.964Z"
   },
   {
    "duration": 22,
    "start_time": "2022-08-27T11:23:25.969Z"
   },
   {
    "duration": 25,
    "start_time": "2022-08-27T11:23:25.993Z"
   },
   {
    "duration": 6,
    "start_time": "2022-08-27T11:23:26.019Z"
   },
   {
    "duration": 17,
    "start_time": "2022-08-27T11:23:26.026Z"
   },
   {
    "duration": 13,
    "start_time": "2022-08-27T11:23:26.044Z"
   },
   {
    "duration": 233,
    "start_time": "2022-08-27T11:23:26.059Z"
   },
   {
    "duration": 18,
    "start_time": "2022-08-27T11:23:26.293Z"
   },
   {
    "duration": 1785,
    "start_time": "2022-08-27T11:23:26.312Z"
   },
   {
    "duration": 8,
    "start_time": "2022-08-27T11:23:28.098Z"
   },
   {
    "duration": 14,
    "start_time": "2022-08-27T11:23:28.107Z"
   },
   {
    "duration": 683,
    "start_time": "2022-08-27T11:23:28.124Z"
   },
   {
    "duration": 7,
    "start_time": "2022-08-27T11:23:28.809Z"
   },
   {
    "duration": 1218,
    "start_time": "2022-08-27T11:30:22.137Z"
   },
   {
    "duration": 68,
    "start_time": "2022-08-27T11:30:23.357Z"
   },
   {
    "duration": 24,
    "start_time": "2022-08-27T11:30:23.427Z"
   },
   {
    "duration": 4,
    "start_time": "2022-08-27T11:30:23.453Z"
   },
   {
    "duration": 22,
    "start_time": "2022-08-27T11:30:23.459Z"
   },
   {
    "duration": 29,
    "start_time": "2022-08-27T11:30:23.483Z"
   },
   {
    "duration": 2,
    "start_time": "2022-08-27T11:30:23.513Z"
   },
   {
    "duration": 12,
    "start_time": "2022-08-27T11:30:23.516Z"
   },
   {
    "duration": 184,
    "start_time": "2022-08-27T11:30:23.530Z"
   },
   {
    "duration": 11,
    "start_time": "2022-08-27T11:30:23.716Z"
   },
   {
    "duration": 103,
    "start_time": "2022-08-27T11:30:23.728Z"
   },
   {
    "duration": 13,
    "start_time": "2022-08-27T11:30:23.833Z"
   },
   {
    "duration": 4,
    "start_time": "2022-08-27T11:30:23.847Z"
   },
   {
    "duration": 368,
    "start_time": "2022-08-27T11:30:23.852Z"
   },
   {
    "duration": 12,
    "start_time": "2022-08-27T11:30:24.221Z"
   },
   {
    "duration": 210,
    "start_time": "2022-08-27T11:30:24.234Z"
   },
   {
    "duration": 3,
    "start_time": "2022-08-27T11:30:24.445Z"
   },
   {
    "duration": 21,
    "start_time": "2022-08-27T11:30:24.449Z"
   },
   {
    "duration": 18,
    "start_time": "2022-08-27T11:30:24.471Z"
   },
   {
    "duration": 23,
    "start_time": "2022-08-27T11:30:24.491Z"
   },
   {
    "duration": 18,
    "start_time": "2022-08-27T11:30:24.516Z"
   },
   {
    "duration": 14,
    "start_time": "2022-08-27T11:30:24.535Z"
   },
   {
    "duration": 237,
    "start_time": "2022-08-27T11:30:24.550Z"
   },
   {
    "duration": 10,
    "start_time": "2022-08-27T11:30:24.788Z"
   },
   {
    "duration": 2119,
    "start_time": "2022-08-27T11:30:24.799Z"
   },
   {
    "duration": 8,
    "start_time": "2022-08-27T11:30:26.919Z"
   },
   {
    "duration": 13,
    "start_time": "2022-08-27T11:30:26.928Z"
   },
   {
    "duration": 896,
    "start_time": "2022-08-27T11:30:26.943Z"
   },
   {
    "duration": 7,
    "start_time": "2022-08-27T11:30:27.841Z"
   },
   {
    "duration": 5,
    "start_time": "2022-08-27T11:30:27.850Z"
   },
   {
    "duration": 302,
    "start_time": "2022-08-27T11:30:27.856Z"
   },
   {
    "duration": 1297,
    "start_time": "2022-08-27T11:30:54.801Z"
   },
   {
    "duration": 3,
    "start_time": "2022-08-27T11:31:18.120Z"
   },
   {
    "duration": 29,
    "start_time": "2022-08-27T11:31:21.128Z"
   },
   {
    "duration": 37,
    "start_time": "2022-08-27T11:31:26.020Z"
   },
   {
    "duration": 3,
    "start_time": "2022-08-27T11:31:41.055Z"
   },
   {
    "duration": 50,
    "start_time": "2022-08-27T11:31:42.566Z"
   },
   {
    "duration": 11,
    "start_time": "2022-08-27T11:31:55.385Z"
   },
   {
    "duration": 1091,
    "start_time": "2022-08-27T11:32:06.538Z"
   },
   {
    "duration": 68,
    "start_time": "2022-08-27T11:32:07.630Z"
   },
   {
    "duration": 22,
    "start_time": "2022-08-27T11:32:07.700Z"
   },
   {
    "duration": 5,
    "start_time": "2022-08-27T11:32:07.723Z"
   },
   {
    "duration": 24,
    "start_time": "2022-08-27T11:32:07.730Z"
   },
   {
    "duration": 16,
    "start_time": "2022-08-27T11:32:07.755Z"
   },
   {
    "duration": 14,
    "start_time": "2022-08-27T11:32:07.772Z"
   },
   {
    "duration": 34,
    "start_time": "2022-08-27T11:32:07.787Z"
   },
   {
    "duration": 168,
    "start_time": "2022-08-27T11:32:07.822Z"
   },
   {
    "duration": 8,
    "start_time": "2022-08-27T11:32:07.991Z"
   },
   {
    "duration": 111,
    "start_time": "2022-08-27T11:32:08.001Z"
   },
   {
    "duration": 13,
    "start_time": "2022-08-27T11:32:08.114Z"
   },
   {
    "duration": 13,
    "start_time": "2022-08-27T11:32:08.128Z"
   },
   {
    "duration": 368,
    "start_time": "2022-08-27T11:32:08.144Z"
   },
   {
    "duration": 11,
    "start_time": "2022-08-27T11:32:08.514Z"
   },
   {
    "duration": 212,
    "start_time": "2022-08-27T11:32:08.526Z"
   },
   {
    "duration": 3,
    "start_time": "2022-08-27T11:32:08.740Z"
   },
   {
    "duration": 51,
    "start_time": "2022-08-27T11:32:08.745Z"
   },
   {
    "duration": 17,
    "start_time": "2022-08-27T11:32:08.798Z"
   },
   {
    "duration": 18,
    "start_time": "2022-08-27T11:32:08.816Z"
   },
   {
    "duration": 42,
    "start_time": "2022-08-27T11:32:08.835Z"
   },
   {
    "duration": 13,
    "start_time": "2022-08-27T11:32:08.879Z"
   },
   {
    "duration": 211,
    "start_time": "2022-08-27T11:32:08.893Z"
   },
   {
    "duration": 12,
    "start_time": "2022-08-27T11:32:09.105Z"
   },
   {
    "duration": 1258,
    "start_time": "2022-08-27T11:32:09.119Z"
   },
   {
    "duration": 9,
    "start_time": "2022-08-27T11:32:10.378Z"
   },
   {
    "duration": 22,
    "start_time": "2022-08-27T11:32:10.388Z"
   },
   {
    "duration": 1235,
    "start_time": "2022-08-27T11:32:10.411Z"
   },
   {
    "duration": 8,
    "start_time": "2022-08-27T11:32:11.647Z"
   },
   {
    "duration": 6,
    "start_time": "2022-08-27T11:32:11.656Z"
   },
   {
    "duration": 37,
    "start_time": "2022-08-27T11:32:11.664Z"
   },
   {
    "duration": 3,
    "start_time": "2022-08-27T11:32:40.673Z"
   },
   {
    "duration": 52,
    "start_time": "2022-08-27T11:32:42.660Z"
   },
   {
    "duration": 108,
    "start_time": "2022-08-27T11:33:13.933Z"
   },
   {
    "duration": 863,
    "start_time": "2022-08-27T11:33:20.958Z"
   },
   {
    "duration": 7,
    "start_time": "2022-08-27T11:33:37.077Z"
   },
   {
    "duration": 7,
    "start_time": "2022-08-27T11:35:00.963Z"
   },
   {
    "duration": 3,
    "start_time": "2022-08-27T11:35:49.158Z"
   },
   {
    "duration": 202,
    "start_time": "2022-08-27T11:35:51.456Z"
   },
   {
    "duration": 3,
    "start_time": "2022-08-27T11:36:05.990Z"
   },
   {
    "duration": 222,
    "start_time": "2022-08-27T11:36:10.910Z"
   },
   {
    "duration": 212,
    "start_time": "2022-08-27T11:36:45.243Z"
   },
   {
    "duration": 178,
    "start_time": "2022-08-27T11:37:05.523Z"
   },
   {
    "duration": 3,
    "start_time": "2022-08-27T11:37:19.207Z"
   },
   {
    "duration": 41,
    "start_time": "2022-08-27T11:37:22.848Z"
   },
   {
    "duration": 3,
    "start_time": "2022-08-27T11:38:16.182Z"
   },
   {
    "duration": 38,
    "start_time": "2022-08-27T11:38:18.215Z"
   },
   {
    "duration": 3,
    "start_time": "2022-08-27T11:41:47.003Z"
   },
   {
    "duration": 50,
    "start_time": "2022-08-27T11:41:48.713Z"
   },
   {
    "duration": 3,
    "start_time": "2022-08-27T11:42:06.356Z"
   },
   {
    "duration": 40,
    "start_time": "2022-08-27T11:42:08.409Z"
   },
   {
    "duration": 715,
    "start_time": "2022-08-27T11:42:49.756Z"
   },
   {
    "duration": 17,
    "start_time": "2022-08-27T11:42:58.305Z"
   },
   {
    "duration": 8,
    "start_time": "2022-08-27T11:43:25.909Z"
   },
   {
    "duration": 8,
    "start_time": "2022-08-27T11:43:34.348Z"
   },
   {
    "duration": 8,
    "start_time": "2022-08-27T11:44:21.183Z"
   },
   {
    "duration": 8,
    "start_time": "2022-08-27T11:44:25.193Z"
   },
   {
    "duration": 9,
    "start_time": "2022-08-27T11:44:46.628Z"
   },
   {
    "duration": 8,
    "start_time": "2022-08-27T11:45:04.831Z"
   },
   {
    "duration": 3,
    "start_time": "2022-08-27T11:45:10.652Z"
   },
   {
    "duration": 9,
    "start_time": "2022-08-27T11:45:14.182Z"
   },
   {
    "duration": 14,
    "start_time": "2022-08-27T11:45:23.189Z"
   },
   {
    "duration": 3,
    "start_time": "2022-08-27T11:45:38.705Z"
   },
   {
    "duration": 18,
    "start_time": "2022-08-27T11:45:41.756Z"
   },
   {
    "duration": 12,
    "start_time": "2022-08-27T11:46:43.204Z"
   },
   {
    "duration": 18,
    "start_time": "2022-08-27T11:46:51.184Z"
   },
   {
    "duration": 12,
    "start_time": "2022-08-27T11:47:52.436Z"
   },
   {
    "duration": 12,
    "start_time": "2022-08-27T11:48:42.790Z"
   },
   {
    "duration": 10,
    "start_time": "2022-08-27T11:49:03.591Z"
   },
   {
    "duration": 6,
    "start_time": "2022-08-27T11:50:10.877Z"
   },
   {
    "duration": 5,
    "start_time": "2022-08-27T11:51:27.635Z"
   },
   {
    "duration": 5,
    "start_time": "2022-08-27T11:53:50.952Z"
   },
   {
    "duration": 3,
    "start_time": "2022-08-27T11:54:07.103Z"
   },
   {
    "duration": 33,
    "start_time": "2022-08-27T11:54:08.565Z"
   },
   {
    "duration": 5,
    "start_time": "2022-08-27T11:54:20.324Z"
   },
   {
    "duration": 5,
    "start_time": "2022-08-27T11:54:29.689Z"
   },
   {
    "duration": 5,
    "start_time": "2022-08-27T11:55:33.049Z"
   },
   {
    "duration": 16,
    "start_time": "2022-08-27T11:58:27.911Z"
   },
   {
    "duration": 15,
    "start_time": "2022-08-27T11:58:56.460Z"
   },
   {
    "duration": 1151,
    "start_time": "2022-08-27T11:59:07.780Z"
   },
   {
    "duration": 65,
    "start_time": "2022-08-27T11:59:08.933Z"
   },
   {
    "duration": 26,
    "start_time": "2022-08-27T11:59:09.000Z"
   },
   {
    "duration": 6,
    "start_time": "2022-08-27T11:59:09.027Z"
   },
   {
    "duration": 19,
    "start_time": "2022-08-27T11:59:09.035Z"
   },
   {
    "duration": 15,
    "start_time": "2022-08-27T11:59:09.055Z"
   },
   {
    "duration": 4,
    "start_time": "2022-08-27T11:59:09.072Z"
   },
   {
    "duration": 12,
    "start_time": "2022-08-27T11:59:09.077Z"
   },
   {
    "duration": 204,
    "start_time": "2022-08-27T11:59:09.090Z"
   },
   {
    "duration": 7,
    "start_time": "2022-08-27T11:59:09.296Z"
   },
   {
    "duration": 115,
    "start_time": "2022-08-27T11:59:09.311Z"
   },
   {
    "duration": 15,
    "start_time": "2022-08-27T11:59:09.427Z"
   },
   {
    "duration": 4,
    "start_time": "2022-08-27T11:59:09.444Z"
   },
   {
    "duration": 378,
    "start_time": "2022-08-27T11:59:09.451Z"
   },
   {
    "duration": 12,
    "start_time": "2022-08-27T11:59:09.830Z"
   },
   {
    "duration": 209,
    "start_time": "2022-08-27T11:59:09.844Z"
   },
   {
    "duration": 4,
    "start_time": "2022-08-27T11:59:10.055Z"
   },
   {
    "duration": 21,
    "start_time": "2022-08-27T11:59:10.060Z"
   },
   {
    "duration": 31,
    "start_time": "2022-08-27T11:59:10.082Z"
   },
   {
    "duration": 12,
    "start_time": "2022-08-27T11:59:10.114Z"
   },
   {
    "duration": 25,
    "start_time": "2022-08-27T11:59:10.128Z"
   },
   {
    "duration": 14,
    "start_time": "2022-08-27T11:59:10.155Z"
   },
   {
    "duration": 258,
    "start_time": "2022-08-27T11:59:10.171Z"
   },
   {
    "duration": 17,
    "start_time": "2022-08-27T11:59:10.432Z"
   },
   {
    "duration": 1504,
    "start_time": "2022-08-27T11:59:10.450Z"
   },
   {
    "duration": 9,
    "start_time": "2022-08-27T11:59:11.956Z"
   },
   {
    "duration": 12,
    "start_time": "2022-08-27T11:59:11.966Z"
   },
   {
    "duration": 1158,
    "start_time": "2022-08-27T11:59:11.979Z"
   },
   {
    "duration": 8,
    "start_time": "2022-08-27T11:59:13.139Z"
   },
   {
    "duration": 6,
    "start_time": "2022-08-27T11:59:13.149Z"
   },
   {
    "duration": 34,
    "start_time": "2022-08-27T11:59:13.156Z"
   },
   {
    "duration": 9,
    "start_time": "2022-08-27T11:59:13.191Z"
   },
   {
    "duration": 20,
    "start_time": "2022-08-27T11:59:13.202Z"
   },
   {
    "duration": 440,
    "start_time": "2022-08-27T12:00:22.225Z"
   },
   {
    "duration": 4,
    "start_time": "2022-08-27T12:00:52.450Z"
   },
   {
    "duration": 1084,
    "start_time": "2022-08-27T12:00:57.240Z"
   },
   {
    "duration": 70,
    "start_time": "2022-08-27T12:00:58.326Z"
   },
   {
    "duration": 25,
    "start_time": "2022-08-27T12:00:58.397Z"
   },
   {
    "duration": 7,
    "start_time": "2022-08-27T12:00:58.424Z"
   },
   {
    "duration": 34,
    "start_time": "2022-08-27T12:00:58.434Z"
   },
   {
    "duration": 16,
    "start_time": "2022-08-27T12:00:58.470Z"
   },
   {
    "duration": 3,
    "start_time": "2022-08-27T12:00:58.488Z"
   },
   {
    "duration": 26,
    "start_time": "2022-08-27T12:00:58.492Z"
   },
   {
    "duration": 167,
    "start_time": "2022-08-27T12:00:58.520Z"
   },
   {
    "duration": 9,
    "start_time": "2022-08-27T12:00:58.689Z"
   },
   {
    "duration": 100,
    "start_time": "2022-08-27T12:00:58.711Z"
   },
   {
    "duration": 15,
    "start_time": "2022-08-27T12:00:58.812Z"
   },
   {
    "duration": 16,
    "start_time": "2022-08-27T12:00:58.828Z"
   },
   {
    "duration": 348,
    "start_time": "2022-08-27T12:00:58.847Z"
   },
   {
    "duration": 23,
    "start_time": "2022-08-27T12:00:59.196Z"
   },
   {
    "duration": 232,
    "start_time": "2022-08-27T12:00:59.222Z"
   },
   {
    "duration": 3,
    "start_time": "2022-08-27T12:00:59.455Z"
   },
   {
    "duration": 39,
    "start_time": "2022-08-27T12:00:59.460Z"
   },
   {
    "duration": 39,
    "start_time": "2022-08-27T12:00:59.501Z"
   },
   {
    "duration": 6,
    "start_time": "2022-08-27T12:00:59.542Z"
   },
   {
    "duration": 38,
    "start_time": "2022-08-27T12:00:59.549Z"
   },
   {
    "duration": 14,
    "start_time": "2022-08-27T12:00:59.588Z"
   },
   {
    "duration": 246,
    "start_time": "2022-08-27T12:00:59.603Z"
   },
   {
    "duration": 8,
    "start_time": "2022-08-27T12:00:59.851Z"
   },
   {
    "duration": 1777,
    "start_time": "2022-08-27T12:00:59.861Z"
   },
   {
    "duration": 11,
    "start_time": "2022-08-27T12:01:01.640Z"
   },
   {
    "duration": 54,
    "start_time": "2022-08-27T12:01:01.652Z"
   },
   {
    "duration": 1125,
    "start_time": "2022-08-27T12:01:01.708Z"
   },
   {
    "duration": 7,
    "start_time": "2022-08-27T12:01:02.835Z"
   },
   {
    "duration": 6,
    "start_time": "2022-08-27T12:01:02.844Z"
   },
   {
    "duration": 32,
    "start_time": "2022-08-27T12:01:02.851Z"
   },
   {
    "duration": 9,
    "start_time": "2022-08-27T12:01:02.885Z"
   },
   {
    "duration": 29,
    "start_time": "2022-08-27T12:01:02.895Z"
   },
   {
    "duration": 465,
    "start_time": "2022-08-27T12:01:02.926Z"
   },
   {
    "duration": 1142,
    "start_time": "2022-08-27T12:01:51.115Z"
   },
   {
    "duration": 78,
    "start_time": "2022-08-27T12:01:52.259Z"
   },
   {
    "duration": 22,
    "start_time": "2022-08-27T12:01:52.340Z"
   },
   {
    "duration": 4,
    "start_time": "2022-08-27T12:01:52.363Z"
   },
   {
    "duration": 18,
    "start_time": "2022-08-27T12:01:52.369Z"
   },
   {
    "duration": 26,
    "start_time": "2022-08-27T12:01:52.389Z"
   },
   {
    "duration": 2,
    "start_time": "2022-08-27T12:01:52.417Z"
   },
   {
    "duration": 23,
    "start_time": "2022-08-27T12:01:52.423Z"
   },
   {
    "duration": 211,
    "start_time": "2022-08-27T12:01:52.448Z"
   },
   {
    "duration": 11,
    "start_time": "2022-08-27T12:01:52.660Z"
   },
   {
    "duration": 132,
    "start_time": "2022-08-27T12:01:52.673Z"
   },
   {
    "duration": 23,
    "start_time": "2022-08-27T12:01:52.807Z"
   },
   {
    "duration": 9,
    "start_time": "2022-08-27T12:01:52.833Z"
   },
   {
    "duration": 370,
    "start_time": "2022-08-27T12:01:52.845Z"
   },
   {
    "duration": 16,
    "start_time": "2022-08-27T12:01:53.217Z"
   },
   {
    "duration": 234,
    "start_time": "2022-08-27T12:01:53.235Z"
   },
   {
    "duration": 4,
    "start_time": "2022-08-27T12:01:53.470Z"
   },
   {
    "duration": 36,
    "start_time": "2022-08-27T12:01:53.475Z"
   },
   {
    "duration": 25,
    "start_time": "2022-08-27T12:01:53.514Z"
   },
   {
    "duration": 5,
    "start_time": "2022-08-27T12:01:53.541Z"
   },
   {
    "duration": 17,
    "start_time": "2022-08-27T12:01:53.548Z"
   },
   {
    "duration": 13,
    "start_time": "2022-08-27T12:01:53.566Z"
   },
   {
    "duration": 253,
    "start_time": "2022-08-27T12:01:53.612Z"
   },
   {
    "duration": 9,
    "start_time": "2022-08-27T12:01:53.867Z"
   },
   {
    "duration": 1199,
    "start_time": "2022-08-27T12:01:53.878Z"
   },
   {
    "duration": 7,
    "start_time": "2022-08-27T12:01:55.079Z"
   },
   {
    "duration": 21,
    "start_time": "2022-08-27T12:01:55.088Z"
   },
   {
    "duration": 1029,
    "start_time": "2022-08-27T12:01:55.111Z"
   },
   {
    "duration": 9,
    "start_time": "2022-08-27T12:01:56.142Z"
   },
   {
    "duration": 5,
    "start_time": "2022-08-27T12:01:56.152Z"
   },
   {
    "duration": 30,
    "start_time": "2022-08-27T12:01:56.159Z"
   },
   {
    "duration": 9,
    "start_time": "2022-08-27T12:01:56.191Z"
   },
   {
    "duration": 20,
    "start_time": "2022-08-27T12:01:56.202Z"
   },
   {
    "duration": 447,
    "start_time": "2022-08-27T12:01:56.224Z"
   },
   {
    "duration": 1171,
    "start_time": "2022-08-27T12:03:20.426Z"
   },
   {
    "duration": 71,
    "start_time": "2022-08-27T12:03:21.599Z"
   },
   {
    "duration": 23,
    "start_time": "2022-08-27T12:03:21.672Z"
   },
   {
    "duration": 4,
    "start_time": "2022-08-27T12:03:21.696Z"
   },
   {
    "duration": 30,
    "start_time": "2022-08-27T12:03:21.702Z"
   },
   {
    "duration": 18,
    "start_time": "2022-08-27T12:03:21.734Z"
   },
   {
    "duration": 2,
    "start_time": "2022-08-27T12:03:21.753Z"
   },
   {
    "duration": 10,
    "start_time": "2022-08-27T12:03:21.757Z"
   },
   {
    "duration": 200,
    "start_time": "2022-08-27T12:03:21.768Z"
   },
   {
    "duration": 8,
    "start_time": "2022-08-27T12:03:21.970Z"
   },
   {
    "duration": 115,
    "start_time": "2022-08-27T12:03:21.979Z"
   },
   {
    "duration": 21,
    "start_time": "2022-08-27T12:03:22.096Z"
   },
   {
    "duration": 6,
    "start_time": "2022-08-27T12:03:22.119Z"
   },
   {
    "duration": 349,
    "start_time": "2022-08-27T12:03:22.130Z"
   },
   {
    "duration": 12,
    "start_time": "2022-08-27T12:03:22.480Z"
   },
   {
    "duration": 286,
    "start_time": "2022-08-27T12:03:22.493Z"
   },
   {
    "duration": 4,
    "start_time": "2022-08-27T12:03:22.782Z"
   },
   {
    "duration": 43,
    "start_time": "2022-08-27T12:03:22.788Z"
   },
   {
    "duration": 23,
    "start_time": "2022-08-27T12:03:22.833Z"
   },
   {
    "duration": 7,
    "start_time": "2022-08-27T12:03:22.858Z"
   },
   {
    "duration": 24,
    "start_time": "2022-08-27T12:03:22.868Z"
   },
   {
    "duration": 38,
    "start_time": "2022-08-27T12:03:22.894Z"
   },
   {
    "duration": 246,
    "start_time": "2022-08-27T12:03:22.933Z"
   },
   {
    "duration": 9,
    "start_time": "2022-08-27T12:03:23.181Z"
   },
   {
    "duration": 1228,
    "start_time": "2022-08-27T12:03:23.191Z"
   },
   {
    "duration": 9,
    "start_time": "2022-08-27T12:03:24.421Z"
   },
   {
    "duration": 19,
    "start_time": "2022-08-27T12:03:24.432Z"
   },
   {
    "duration": 966,
    "start_time": "2022-08-27T12:03:24.452Z"
   },
   {
    "duration": 8,
    "start_time": "2022-08-27T12:03:25.419Z"
   },
   {
    "duration": 9,
    "start_time": "2022-08-27T12:03:25.429Z"
   },
   {
    "duration": 13,
    "start_time": "2022-08-27T12:03:25.440Z"
   },
   {
    "duration": 8,
    "start_time": "2022-08-27T12:03:25.454Z"
   },
   {
    "duration": 24,
    "start_time": "2022-08-27T12:03:25.464Z"
   },
   {
    "duration": 13,
    "start_time": "2022-08-27T12:03:25.490Z"
   },
   {
    "duration": 1100,
    "start_time": "2022-08-27T12:03:58.446Z"
   },
   {
    "duration": 67,
    "start_time": "2022-08-27T12:03:59.548Z"
   },
   {
    "duration": 27,
    "start_time": "2022-08-27T12:03:59.618Z"
   },
   {
    "duration": 4,
    "start_time": "2022-08-27T12:03:59.647Z"
   },
   {
    "duration": 23,
    "start_time": "2022-08-27T12:03:59.653Z"
   },
   {
    "duration": 16,
    "start_time": "2022-08-27T12:03:59.677Z"
   },
   {
    "duration": 2,
    "start_time": "2022-08-27T12:03:59.714Z"
   },
   {
    "duration": 17,
    "start_time": "2022-08-27T12:03:59.718Z"
   },
   {
    "duration": 185,
    "start_time": "2022-08-27T12:03:59.737Z"
   },
   {
    "duration": 10,
    "start_time": "2022-08-27T12:03:59.925Z"
   },
   {
    "duration": 111,
    "start_time": "2022-08-27T12:03:59.937Z"
   },
   {
    "duration": 14,
    "start_time": "2022-08-27T12:04:00.049Z"
   },
   {
    "duration": 4,
    "start_time": "2022-08-27T12:04:00.064Z"
   },
   {
    "duration": 387,
    "start_time": "2022-08-27T12:04:00.069Z"
   },
   {
    "duration": 11,
    "start_time": "2022-08-27T12:04:00.457Z"
   },
   {
    "duration": 208,
    "start_time": "2022-08-27T12:04:00.469Z"
   },
   {
    "duration": 4,
    "start_time": "2022-08-27T12:04:00.678Z"
   },
   {
    "duration": 28,
    "start_time": "2022-08-27T12:04:00.683Z"
   },
   {
    "duration": 20,
    "start_time": "2022-08-27T12:04:00.712Z"
   },
   {
    "duration": 6,
    "start_time": "2022-08-27T12:04:00.734Z"
   },
   {
    "duration": 23,
    "start_time": "2022-08-27T12:04:00.742Z"
   },
   {
    "duration": 16,
    "start_time": "2022-08-27T12:04:00.766Z"
   },
   {
    "duration": 247,
    "start_time": "2022-08-27T12:04:00.783Z"
   },
   {
    "duration": 11,
    "start_time": "2022-08-27T12:04:01.032Z"
   },
   {
    "duration": 1679,
    "start_time": "2022-08-27T12:04:01.045Z"
   },
   {
    "duration": 15,
    "start_time": "2022-08-27T12:04:02.727Z"
   },
   {
    "duration": 13,
    "start_time": "2022-08-27T12:04:02.743Z"
   },
   {
    "duration": 1044,
    "start_time": "2022-08-27T12:04:02.759Z"
   },
   {
    "duration": 8,
    "start_time": "2022-08-27T12:04:03.804Z"
   },
   {
    "duration": 26,
    "start_time": "2022-08-27T12:04:03.813Z"
   },
   {
    "duration": 50,
    "start_time": "2022-08-27T12:04:03.841Z"
   },
   {
    "duration": 12,
    "start_time": "2022-08-27T12:04:03.893Z"
   },
   {
    "duration": 25,
    "start_time": "2022-08-27T12:04:03.906Z"
   },
   {
    "duration": 270,
    "start_time": "2022-08-27T12:04:03.933Z"
   },
   {
    "duration": 1174,
    "start_time": "2022-08-27T12:04:51.621Z"
   },
   {
    "duration": 95,
    "start_time": "2022-08-27T12:04:52.797Z"
   },
   {
    "duration": 22,
    "start_time": "2022-08-27T12:04:52.894Z"
   },
   {
    "duration": 5,
    "start_time": "2022-08-27T12:04:52.917Z"
   },
   {
    "duration": 24,
    "start_time": "2022-08-27T12:04:52.924Z"
   },
   {
    "duration": 16,
    "start_time": "2022-08-27T12:04:52.949Z"
   },
   {
    "duration": 3,
    "start_time": "2022-08-27T12:04:52.966Z"
   },
   {
    "duration": 13,
    "start_time": "2022-08-27T12:04:52.970Z"
   },
   {
    "duration": 190,
    "start_time": "2022-08-27T12:04:52.984Z"
   },
   {
    "duration": 8,
    "start_time": "2022-08-27T12:04:53.175Z"
   },
   {
    "duration": 108,
    "start_time": "2022-08-27T12:04:53.184Z"
   },
   {
    "duration": 19,
    "start_time": "2022-08-27T12:04:53.293Z"
   },
   {
    "duration": 7,
    "start_time": "2022-08-27T12:04:53.313Z"
   },
   {
    "duration": 352,
    "start_time": "2022-08-27T12:04:53.324Z"
   },
   {
    "duration": 10,
    "start_time": "2022-08-27T12:04:53.678Z"
   },
   {
    "duration": 232,
    "start_time": "2022-08-27T12:04:53.690Z"
   },
   {
    "duration": 5,
    "start_time": "2022-08-27T12:04:53.924Z"
   },
   {
    "duration": 25,
    "start_time": "2022-08-27T12:04:53.931Z"
   },
   {
    "duration": 20,
    "start_time": "2022-08-27T12:04:53.957Z"
   },
   {
    "duration": 6,
    "start_time": "2022-08-27T12:04:53.978Z"
   },
   {
    "duration": 32,
    "start_time": "2022-08-27T12:04:53.985Z"
   },
   {
    "duration": 19,
    "start_time": "2022-08-27T12:04:54.019Z"
   },
   {
    "duration": 249,
    "start_time": "2022-08-27T12:04:54.039Z"
   },
   {
    "duration": 9,
    "start_time": "2022-08-27T12:04:54.290Z"
   },
   {
    "duration": 1462,
    "start_time": "2022-08-27T12:04:54.300Z"
   },
   {
    "duration": 7,
    "start_time": "2022-08-27T12:04:55.764Z"
   },
   {
    "duration": 19,
    "start_time": "2022-08-27T12:04:55.773Z"
   },
   {
    "duration": 914,
    "start_time": "2022-08-27T12:04:55.793Z"
   },
   {
    "duration": 7,
    "start_time": "2022-08-27T12:04:56.709Z"
   },
   {
    "duration": 4,
    "start_time": "2022-08-27T12:04:56.718Z"
   },
   {
    "duration": 41,
    "start_time": "2022-08-27T12:04:56.724Z"
   },
   {
    "duration": 8,
    "start_time": "2022-08-27T12:04:56.767Z"
   },
   {
    "duration": 17,
    "start_time": "2022-08-27T12:04:56.776Z"
   },
   {
    "duration": 290,
    "start_time": "2022-08-27T12:04:56.795Z"
   },
   {
    "duration": 1117,
    "start_time": "2022-08-27T12:05:48.331Z"
   },
   {
    "duration": 74,
    "start_time": "2022-08-27T12:05:49.450Z"
   },
   {
    "duration": 25,
    "start_time": "2022-08-27T12:05:49.527Z"
   },
   {
    "duration": 4,
    "start_time": "2022-08-27T12:05:49.554Z"
   },
   {
    "duration": 21,
    "start_time": "2022-08-27T12:05:49.559Z"
   },
   {
    "duration": 31,
    "start_time": "2022-08-27T12:05:49.581Z"
   },
   {
    "duration": 3,
    "start_time": "2022-08-27T12:05:49.614Z"
   },
   {
    "duration": 25,
    "start_time": "2022-08-27T12:05:49.619Z"
   },
   {
    "duration": 190,
    "start_time": "2022-08-27T12:05:49.645Z"
   },
   {
    "duration": 8,
    "start_time": "2022-08-27T12:05:49.836Z"
   },
   {
    "duration": 107,
    "start_time": "2022-08-27T12:05:49.846Z"
   },
   {
    "duration": 14,
    "start_time": "2022-08-27T12:05:49.955Z"
   },
   {
    "duration": 4,
    "start_time": "2022-08-27T12:05:49.971Z"
   },
   {
    "duration": 386,
    "start_time": "2022-08-27T12:05:49.977Z"
   },
   {
    "duration": 10,
    "start_time": "2022-08-27T12:05:50.364Z"
   },
   {
    "duration": 227,
    "start_time": "2022-08-27T12:05:50.376Z"
   },
   {
    "duration": 9,
    "start_time": "2022-08-27T12:05:50.604Z"
   },
   {
    "duration": 34,
    "start_time": "2022-08-27T12:05:50.615Z"
   },
   {
    "duration": 20,
    "start_time": "2022-08-27T12:05:50.650Z"
   },
   {
    "duration": 5,
    "start_time": "2022-08-27T12:05:50.671Z"
   },
   {
    "duration": 25,
    "start_time": "2022-08-27T12:05:50.678Z"
   },
   {
    "duration": 18,
    "start_time": "2022-08-27T12:05:50.704Z"
   },
   {
    "duration": 226,
    "start_time": "2022-08-27T12:05:50.724Z"
   },
   {
    "duration": 10,
    "start_time": "2022-08-27T12:05:50.951Z"
   },
   {
    "duration": 1272,
    "start_time": "2022-08-27T12:05:50.963Z"
   },
   {
    "duration": 8,
    "start_time": "2022-08-27T12:05:52.237Z"
   },
   {
    "duration": 19,
    "start_time": "2022-08-27T12:05:52.247Z"
   },
   {
    "duration": 868,
    "start_time": "2022-08-27T12:05:52.268Z"
   },
   {
    "duration": 7,
    "start_time": "2022-08-27T12:05:53.138Z"
   },
   {
    "duration": 29,
    "start_time": "2022-08-27T12:05:53.147Z"
   },
   {
    "duration": 59,
    "start_time": "2022-08-27T12:05:53.178Z"
   },
   {
    "duration": 30,
    "start_time": "2022-08-27T12:05:53.239Z"
   },
   {
    "duration": 31,
    "start_time": "2022-08-27T12:05:53.270Z"
   },
   {
    "duration": 481,
    "start_time": "2022-08-27T12:05:53.303Z"
   },
   {
    "duration": 433,
    "start_time": "2022-08-27T12:06:38.346Z"
   },
   {
    "duration": 10,
    "start_time": "2022-08-27T12:07:53.492Z"
   },
   {
    "duration": 5,
    "start_time": "2022-08-27T12:07:59.890Z"
   },
   {
    "duration": 12,
    "start_time": "2022-08-27T12:08:33.529Z"
   },
   {
    "duration": 10,
    "start_time": "2022-08-27T12:08:39.836Z"
   },
   {
    "duration": 14,
    "start_time": "2022-08-27T12:10:44.280Z"
   },
   {
    "duration": 16,
    "start_time": "2022-08-27T12:10:59.091Z"
   },
   {
    "duration": 1137,
    "start_time": "2022-08-27T12:11:10.622Z"
   },
   {
    "duration": 76,
    "start_time": "2022-08-27T12:11:11.761Z"
   },
   {
    "duration": 21,
    "start_time": "2022-08-27T12:11:11.839Z"
   },
   {
    "duration": 3,
    "start_time": "2022-08-27T12:11:11.862Z"
   },
   {
    "duration": 17,
    "start_time": "2022-08-27T12:11:11.867Z"
   },
   {
    "duration": 31,
    "start_time": "2022-08-27T12:11:11.886Z"
   },
   {
    "duration": 4,
    "start_time": "2022-08-27T12:11:11.919Z"
   },
   {
    "duration": 19,
    "start_time": "2022-08-27T12:11:11.925Z"
   },
   {
    "duration": 193,
    "start_time": "2022-08-27T12:11:11.946Z"
   },
   {
    "duration": 8,
    "start_time": "2022-08-27T12:11:12.140Z"
   },
   {
    "duration": 101,
    "start_time": "2022-08-27T12:11:12.149Z"
   },
   {
    "duration": 14,
    "start_time": "2022-08-27T12:11:12.251Z"
   },
   {
    "duration": 4,
    "start_time": "2022-08-27T12:11:12.266Z"
   },
   {
    "duration": 410,
    "start_time": "2022-08-27T12:11:12.272Z"
   },
   {
    "duration": 14,
    "start_time": "2022-08-27T12:11:12.684Z"
   },
   {
    "duration": 261,
    "start_time": "2022-08-27T12:11:12.700Z"
   },
   {
    "duration": 4,
    "start_time": "2022-08-27T12:11:12.962Z"
   },
   {
    "duration": 23,
    "start_time": "2022-08-27T12:11:12.967Z"
   },
   {
    "duration": 41,
    "start_time": "2022-08-27T12:11:12.992Z"
   },
   {
    "duration": 7,
    "start_time": "2022-08-27T12:11:13.035Z"
   },
   {
    "duration": 21,
    "start_time": "2022-08-27T12:11:13.043Z"
   },
   {
    "duration": 14,
    "start_time": "2022-08-27T12:11:13.066Z"
   },
   {
    "duration": 263,
    "start_time": "2022-08-27T12:11:13.082Z"
   },
   {
    "duration": 12,
    "start_time": "2022-08-27T12:11:13.346Z"
   },
   {
    "duration": 1627,
    "start_time": "2022-08-27T12:11:13.359Z"
   },
   {
    "duration": 7,
    "start_time": "2022-08-27T12:11:14.987Z"
   },
   {
    "duration": 29,
    "start_time": "2022-08-27T12:11:14.996Z"
   },
   {
    "duration": 1657,
    "start_time": "2022-08-27T12:11:15.027Z"
   },
   {
    "duration": 7,
    "start_time": "2022-08-27T12:11:16.686Z"
   },
   {
    "duration": 9,
    "start_time": "2022-08-27T12:11:16.694Z"
   },
   {
    "duration": 46,
    "start_time": "2022-08-27T12:11:16.704Z"
   },
   {
    "duration": 8,
    "start_time": "2022-08-27T12:11:16.752Z"
   },
   {
    "duration": 16,
    "start_time": "2022-08-27T12:11:16.761Z"
   },
   {
    "duration": 5,
    "start_time": "2022-08-27T12:11:16.779Z"
   },
   {
    "duration": 249,
    "start_time": "2022-08-27T12:11:16.786Z"
   },
   {
    "duration": 1145,
    "start_time": "2022-08-27T12:12:24.112Z"
   },
   {
    "duration": 74,
    "start_time": "2022-08-27T12:12:25.259Z"
   },
   {
    "duration": 20,
    "start_time": "2022-08-27T12:12:25.335Z"
   },
   {
    "duration": 3,
    "start_time": "2022-08-27T12:12:25.358Z"
   },
   {
    "duration": 23,
    "start_time": "2022-08-27T12:12:25.363Z"
   },
   {
    "duration": 34,
    "start_time": "2022-08-27T12:12:25.388Z"
   },
   {
    "duration": 3,
    "start_time": "2022-08-27T12:12:25.423Z"
   },
   {
    "duration": 25,
    "start_time": "2022-08-27T12:12:25.427Z"
   },
   {
    "duration": 167,
    "start_time": "2022-08-27T12:12:25.453Z"
   },
   {
    "duration": 13,
    "start_time": "2022-08-27T12:12:25.623Z"
   },
   {
    "duration": 115,
    "start_time": "2022-08-27T12:12:25.638Z"
   },
   {
    "duration": 13,
    "start_time": "2022-08-27T12:12:25.754Z"
   },
   {
    "duration": 4,
    "start_time": "2022-08-27T12:12:25.768Z"
   },
   {
    "duration": 384,
    "start_time": "2022-08-27T12:12:25.773Z"
   },
   {
    "duration": 11,
    "start_time": "2022-08-27T12:12:26.158Z"
   },
   {
    "duration": 225,
    "start_time": "2022-08-27T12:12:26.170Z"
   },
   {
    "duration": 3,
    "start_time": "2022-08-27T12:12:26.397Z"
   },
   {
    "duration": 35,
    "start_time": "2022-08-27T12:12:26.410Z"
   },
   {
    "duration": 17,
    "start_time": "2022-08-27T12:12:26.446Z"
   },
   {
    "duration": 6,
    "start_time": "2022-08-27T12:12:26.464Z"
   },
   {
    "duration": 22,
    "start_time": "2022-08-27T12:12:26.471Z"
   },
   {
    "duration": 28,
    "start_time": "2022-08-27T12:12:26.494Z"
   },
   {
    "duration": 231,
    "start_time": "2022-08-27T12:12:26.524Z"
   },
   {
    "duration": 10,
    "start_time": "2022-08-27T12:12:26.757Z"
   },
   {
    "duration": 1093,
    "start_time": "2022-08-27T12:12:26.768Z"
   },
   {
    "duration": 8,
    "start_time": "2022-08-27T12:12:27.863Z"
   },
   {
    "duration": 30,
    "start_time": "2022-08-27T12:12:27.872Z"
   },
   {
    "duration": 796,
    "start_time": "2022-08-27T12:12:27.904Z"
   },
   {
    "duration": 8,
    "start_time": "2022-08-27T12:12:28.701Z"
   },
   {
    "duration": 14,
    "start_time": "2022-08-27T12:12:28.715Z"
   },
   {
    "duration": 46,
    "start_time": "2022-08-27T12:12:28.731Z"
   },
   {
    "duration": 11,
    "start_time": "2022-08-27T12:12:28.778Z"
   },
   {
    "duration": 38,
    "start_time": "2022-08-27T12:12:28.790Z"
   },
   {
    "duration": 24,
    "start_time": "2022-08-27T12:12:28.831Z"
   },
   {
    "duration": 404,
    "start_time": "2022-08-27T12:12:28.856Z"
   },
   {
    "duration": 1075,
    "start_time": "2022-08-27T12:13:36.170Z"
   },
   {
    "duration": 66,
    "start_time": "2022-08-27T12:13:37.247Z"
   },
   {
    "duration": 27,
    "start_time": "2022-08-27T12:13:37.315Z"
   },
   {
    "duration": 5,
    "start_time": "2022-08-27T12:13:37.344Z"
   },
   {
    "duration": 18,
    "start_time": "2022-08-27T12:13:37.351Z"
   },
   {
    "duration": 14,
    "start_time": "2022-08-27T12:13:37.371Z"
   },
   {
    "duration": 28,
    "start_time": "2022-08-27T12:13:37.387Z"
   },
   {
    "duration": 22,
    "start_time": "2022-08-27T12:13:37.417Z"
   },
   {
    "duration": 201,
    "start_time": "2022-08-27T12:13:37.441Z"
   },
   {
    "duration": 9,
    "start_time": "2022-08-27T12:13:37.644Z"
   },
   {
    "duration": 106,
    "start_time": "2022-08-27T12:13:37.654Z"
   },
   {
    "duration": 14,
    "start_time": "2022-08-27T12:13:37.761Z"
   },
   {
    "duration": 4,
    "start_time": "2022-08-27T12:13:37.776Z"
   },
   {
    "duration": 351,
    "start_time": "2022-08-27T12:13:37.782Z"
   },
   {
    "duration": 11,
    "start_time": "2022-08-27T12:13:38.135Z"
   },
   {
    "duration": 209,
    "start_time": "2022-08-27T12:13:38.148Z"
   },
   {
    "duration": 4,
    "start_time": "2022-08-27T12:13:38.358Z"
   },
   {
    "duration": 25,
    "start_time": "2022-08-27T12:13:38.363Z"
   },
   {
    "duration": 24,
    "start_time": "2022-08-27T12:13:38.389Z"
   },
   {
    "duration": 12,
    "start_time": "2022-08-27T12:13:38.415Z"
   },
   {
    "duration": 24,
    "start_time": "2022-08-27T12:13:38.430Z"
   },
   {
    "duration": 14,
    "start_time": "2022-08-27T12:13:38.455Z"
   },
   {
    "duration": 272,
    "start_time": "2022-08-27T12:13:38.471Z"
   },
   {
    "duration": 9,
    "start_time": "2022-08-27T12:13:38.745Z"
   },
   {
    "duration": 1233,
    "start_time": "2022-08-27T12:13:38.755Z"
   },
   {
    "duration": 8,
    "start_time": "2022-08-27T12:13:39.989Z"
   },
   {
    "duration": 14,
    "start_time": "2022-08-27T12:13:39.998Z"
   },
   {
    "duration": 928,
    "start_time": "2022-08-27T12:13:40.014Z"
   },
   {
    "duration": 8,
    "start_time": "2022-08-27T12:13:40.943Z"
   },
   {
    "duration": 26,
    "start_time": "2022-08-27T12:13:40.952Z"
   },
   {
    "duration": 63,
    "start_time": "2022-08-27T12:13:40.980Z"
   },
   {
    "duration": 17,
    "start_time": "2022-08-27T12:13:41.044Z"
   },
   {
    "duration": 33,
    "start_time": "2022-08-27T12:13:41.062Z"
   },
   {
    "duration": 11,
    "start_time": "2022-08-27T12:13:41.096Z"
   },
   {
    "duration": 436,
    "start_time": "2022-08-27T12:13:41.108Z"
   },
   {
    "duration": 1148,
    "start_time": "2022-08-27T12:13:55.733Z"
   },
   {
    "duration": 75,
    "start_time": "2022-08-27T12:13:56.883Z"
   },
   {
    "duration": 20,
    "start_time": "2022-08-27T12:13:56.960Z"
   },
   {
    "duration": 4,
    "start_time": "2022-08-27T12:13:56.982Z"
   },
   {
    "duration": 31,
    "start_time": "2022-08-27T12:13:56.988Z"
   },
   {
    "duration": 21,
    "start_time": "2022-08-27T12:13:57.021Z"
   },
   {
    "duration": 7,
    "start_time": "2022-08-27T12:13:57.043Z"
   },
   {
    "duration": 13,
    "start_time": "2022-08-27T12:13:57.052Z"
   },
   {
    "duration": 179,
    "start_time": "2022-08-27T12:13:57.066Z"
   },
   {
    "duration": 7,
    "start_time": "2022-08-27T12:13:57.247Z"
   },
   {
    "duration": 105,
    "start_time": "2022-08-27T12:13:57.256Z"
   },
   {
    "duration": 13,
    "start_time": "2022-08-27T12:13:57.363Z"
   },
   {
    "duration": 3,
    "start_time": "2022-08-27T12:13:57.377Z"
   },
   {
    "duration": 369,
    "start_time": "2022-08-27T12:13:57.382Z"
   },
   {
    "duration": 11,
    "start_time": "2022-08-27T12:13:57.752Z"
   },
   {
    "duration": 204,
    "start_time": "2022-08-27T12:13:57.765Z"
   },
   {
    "duration": 3,
    "start_time": "2022-08-27T12:13:57.971Z"
   },
   {
    "duration": 22,
    "start_time": "2022-08-27T12:13:57.975Z"
   },
   {
    "duration": 27,
    "start_time": "2022-08-27T12:13:57.998Z"
   },
   {
    "duration": 7,
    "start_time": "2022-08-27T12:13:58.027Z"
   },
   {
    "duration": 17,
    "start_time": "2022-08-27T12:13:58.035Z"
   },
   {
    "duration": 14,
    "start_time": "2022-08-27T12:13:58.054Z"
   },
   {
    "duration": 285,
    "start_time": "2022-08-27T12:13:58.070Z"
   },
   {
    "duration": 10,
    "start_time": "2022-08-27T12:13:58.356Z"
   },
   {
    "duration": 1249,
    "start_time": "2022-08-27T12:13:58.367Z"
   },
   {
    "duration": 14,
    "start_time": "2022-08-27T12:13:59.618Z"
   },
   {
    "duration": 17,
    "start_time": "2022-08-27T12:13:59.634Z"
   },
   {
    "duration": 944,
    "start_time": "2022-08-27T12:13:59.652Z"
   },
   {
    "duration": 7,
    "start_time": "2022-08-27T12:14:00.598Z"
   },
   {
    "duration": 15,
    "start_time": "2022-08-27T12:14:00.606Z"
   },
   {
    "duration": 39,
    "start_time": "2022-08-27T12:14:00.624Z"
   },
   {
    "duration": 8,
    "start_time": "2022-08-27T12:14:00.665Z"
   },
   {
    "duration": 18,
    "start_time": "2022-08-27T12:14:00.674Z"
   },
   {
    "duration": 8,
    "start_time": "2022-08-27T12:14:00.694Z"
   },
   {
    "duration": 417,
    "start_time": "2022-08-27T12:14:00.703Z"
   },
   {
    "duration": 14,
    "start_time": "2022-08-27T12:15:48.981Z"
   },
   {
    "duration": 1082,
    "start_time": "2022-08-27T12:15:57.733Z"
   },
   {
    "duration": 71,
    "start_time": "2022-08-27T12:15:58.817Z"
   },
   {
    "duration": 23,
    "start_time": "2022-08-27T12:15:58.890Z"
   },
   {
    "duration": 11,
    "start_time": "2022-08-27T12:15:58.915Z"
   },
   {
    "duration": 20,
    "start_time": "2022-08-27T12:15:58.929Z"
   },
   {
    "duration": 16,
    "start_time": "2022-08-27T12:15:58.951Z"
   },
   {
    "duration": 4,
    "start_time": "2022-08-27T12:15:58.968Z"
   },
   {
    "duration": 13,
    "start_time": "2022-08-27T12:15:58.973Z"
   },
   {
    "duration": 203,
    "start_time": "2022-08-27T12:15:58.988Z"
   },
   {
    "duration": 20,
    "start_time": "2022-08-27T12:15:59.192Z"
   },
   {
    "duration": 103,
    "start_time": "2022-08-27T12:15:59.214Z"
   },
   {
    "duration": 16,
    "start_time": "2022-08-27T12:15:59.319Z"
   },
   {
    "duration": 3,
    "start_time": "2022-08-27T12:15:59.337Z"
   },
   {
    "duration": 327,
    "start_time": "2022-08-27T12:15:59.343Z"
   },
   {
    "duration": 10,
    "start_time": "2022-08-27T12:15:59.672Z"
   },
   {
    "duration": 212,
    "start_time": "2022-08-27T12:15:59.684Z"
   },
   {
    "duration": 4,
    "start_time": "2022-08-27T12:15:59.898Z"
   },
   {
    "duration": 31,
    "start_time": "2022-08-27T12:15:59.903Z"
   },
   {
    "duration": 19,
    "start_time": "2022-08-27T12:15:59.936Z"
   },
   {
    "duration": 6,
    "start_time": "2022-08-27T12:15:59.957Z"
   },
   {
    "duration": 18,
    "start_time": "2022-08-27T12:15:59.964Z"
   },
   {
    "duration": 32,
    "start_time": "2022-08-27T12:15:59.983Z"
   },
   {
    "duration": 225,
    "start_time": "2022-08-27T12:16:00.016Z"
   },
   {
    "duration": 9,
    "start_time": "2022-08-27T12:16:00.242Z"
   },
   {
    "duration": 1244,
    "start_time": "2022-08-27T12:16:00.252Z"
   },
   {
    "duration": 10,
    "start_time": "2022-08-27T12:16:01.497Z"
   },
   {
    "duration": 19,
    "start_time": "2022-08-27T12:16:01.508Z"
   },
   {
    "duration": 949,
    "start_time": "2022-08-27T12:16:01.529Z"
   },
   {
    "duration": 11,
    "start_time": "2022-08-27T12:16:02.479Z"
   },
   {
    "duration": 9,
    "start_time": "2022-08-27T12:16:02.492Z"
   },
   {
    "duration": 88,
    "start_time": "2022-08-27T12:16:02.504Z"
   },
   {
    "duration": 22,
    "start_time": "2022-08-27T12:16:02.594Z"
   },
   {
    "duration": 78,
    "start_time": "2022-08-27T12:16:02.618Z"
   },
   {
    "duration": 11,
    "start_time": "2022-08-27T12:16:02.697Z"
   },
   {
    "duration": 337,
    "start_time": "2022-08-27T12:16:02.710Z"
   },
   {
    "duration": 1151,
    "start_time": "2022-08-27T12:17:41.513Z"
   },
   {
    "duration": 84,
    "start_time": "2022-08-27T12:17:42.666Z"
   },
   {
    "duration": 20,
    "start_time": "2022-08-27T12:17:42.752Z"
   },
   {
    "duration": 4,
    "start_time": "2022-08-27T12:17:42.773Z"
   },
   {
    "duration": 33,
    "start_time": "2022-08-27T12:17:42.778Z"
   },
   {
    "duration": 21,
    "start_time": "2022-08-27T12:17:42.814Z"
   },
   {
    "duration": 16,
    "start_time": "2022-08-27T12:17:42.837Z"
   },
   {
    "duration": 18,
    "start_time": "2022-08-27T12:17:42.855Z"
   },
   {
    "duration": 190,
    "start_time": "2022-08-27T12:17:42.875Z"
   },
   {
    "duration": 8,
    "start_time": "2022-08-27T12:17:43.069Z"
   },
   {
    "duration": 109,
    "start_time": "2022-08-27T12:17:43.079Z"
   },
   {
    "duration": 22,
    "start_time": "2022-08-27T12:17:43.190Z"
   },
   {
    "duration": 4,
    "start_time": "2022-08-27T12:17:43.214Z"
   },
   {
    "duration": 337,
    "start_time": "2022-08-27T12:17:43.219Z"
   },
   {
    "duration": 12,
    "start_time": "2022-08-27T12:17:43.558Z"
   },
   {
    "duration": 206,
    "start_time": "2022-08-27T12:17:43.573Z"
   },
   {
    "duration": 4,
    "start_time": "2022-08-27T12:17:43.781Z"
   },
   {
    "duration": 32,
    "start_time": "2022-08-27T12:17:43.786Z"
   },
   {
    "duration": 24,
    "start_time": "2022-08-27T12:17:43.819Z"
   },
   {
    "duration": 6,
    "start_time": "2022-08-27T12:17:43.845Z"
   },
   {
    "duration": 22,
    "start_time": "2022-08-27T12:17:43.852Z"
   },
   {
    "duration": 12,
    "start_time": "2022-08-27T12:17:43.876Z"
   },
   {
    "duration": 245,
    "start_time": "2022-08-27T12:17:43.890Z"
   },
   {
    "duration": 10,
    "start_time": "2022-08-27T12:17:44.137Z"
   },
   {
    "duration": 1400,
    "start_time": "2022-08-27T12:17:44.148Z"
   },
   {
    "duration": 7,
    "start_time": "2022-08-27T12:17:45.550Z"
   },
   {
    "duration": 14,
    "start_time": "2022-08-27T12:17:45.559Z"
   },
   {
    "duration": 1092,
    "start_time": "2022-08-27T12:17:45.576Z"
   },
   {
    "duration": 7,
    "start_time": "2022-08-27T12:17:46.670Z"
   },
   {
    "duration": 5,
    "start_time": "2022-08-27T12:17:46.679Z"
   },
   {
    "duration": 32,
    "start_time": "2022-08-27T12:17:46.685Z"
   },
   {
    "duration": 12,
    "start_time": "2022-08-27T12:17:46.719Z"
   },
   {
    "duration": 18,
    "start_time": "2022-08-27T12:17:46.733Z"
   },
   {
    "duration": 8,
    "start_time": "2022-08-27T12:17:46.754Z"
   },
   {
    "duration": 414,
    "start_time": "2022-08-27T12:17:46.763Z"
   },
   {
    "duration": 1129,
    "start_time": "2022-08-27T12:19:21.277Z"
   },
   {
    "duration": 75,
    "start_time": "2022-08-27T12:19:22.408Z"
   },
   {
    "duration": 33,
    "start_time": "2022-08-27T12:19:22.485Z"
   },
   {
    "duration": 11,
    "start_time": "2022-08-27T12:19:22.521Z"
   },
   {
    "duration": 38,
    "start_time": "2022-08-27T12:19:22.534Z"
   },
   {
    "duration": 17,
    "start_time": "2022-08-27T12:19:22.574Z"
   },
   {
    "duration": 2,
    "start_time": "2022-08-27T12:19:22.593Z"
   },
   {
    "duration": 14,
    "start_time": "2022-08-27T12:19:22.597Z"
   },
   {
    "duration": 209,
    "start_time": "2022-08-27T12:19:22.613Z"
   },
   {
    "duration": 11,
    "start_time": "2022-08-27T12:19:22.825Z"
   },
   {
    "duration": 128,
    "start_time": "2022-08-27T12:19:22.838Z"
   },
   {
    "duration": 13,
    "start_time": "2022-08-27T12:19:22.968Z"
   },
   {
    "duration": 4,
    "start_time": "2022-08-27T12:19:22.982Z"
   },
   {
    "duration": 371,
    "start_time": "2022-08-27T12:19:22.987Z"
   },
   {
    "duration": 12,
    "start_time": "2022-08-27T12:19:23.359Z"
   },
   {
    "duration": 218,
    "start_time": "2022-08-27T12:19:23.372Z"
   },
   {
    "duration": 3,
    "start_time": "2022-08-27T12:19:23.592Z"
   },
   {
    "duration": 33,
    "start_time": "2022-08-27T12:19:23.597Z"
   },
   {
    "duration": 17,
    "start_time": "2022-08-27T12:19:23.632Z"
   },
   {
    "duration": 14,
    "start_time": "2022-08-27T12:19:23.651Z"
   },
   {
    "duration": 22,
    "start_time": "2022-08-27T12:19:23.667Z"
   },
   {
    "duration": 22,
    "start_time": "2022-08-27T12:19:23.691Z"
   },
   {
    "duration": 229,
    "start_time": "2022-08-27T12:19:23.715Z"
   },
   {
    "duration": 11,
    "start_time": "2022-08-27T12:19:23.945Z"
   },
   {
    "duration": 1689,
    "start_time": "2022-08-27T12:19:23.957Z"
   },
   {
    "duration": 8,
    "start_time": "2022-08-27T12:19:25.648Z"
   },
   {
    "duration": 12,
    "start_time": "2022-08-27T12:19:25.658Z"
   },
   {
    "duration": 1154,
    "start_time": "2022-08-27T12:19:25.674Z"
   },
   {
    "duration": 11,
    "start_time": "2022-08-27T12:19:26.831Z"
   },
   {
    "duration": 4,
    "start_time": "2022-08-27T12:19:26.844Z"
   },
   {
    "duration": 33,
    "start_time": "2022-08-27T12:19:26.850Z"
   },
   {
    "duration": 27,
    "start_time": "2022-08-27T12:19:26.885Z"
   },
   {
    "duration": 22,
    "start_time": "2022-08-27T12:19:26.915Z"
   },
   {
    "duration": 7,
    "start_time": "2022-08-27T12:19:26.938Z"
   },
   {
    "duration": 312,
    "start_time": "2022-08-27T12:19:26.946Z"
   },
   {
    "duration": 11,
    "start_time": "2022-08-27T12:20:13.206Z"
   },
   {
    "duration": 5,
    "start_time": "2022-08-27T12:21:21.857Z"
   },
   {
    "duration": 1131,
    "start_time": "2022-08-27T12:21:27.158Z"
   },
   {
    "duration": 75,
    "start_time": "2022-08-27T12:21:28.291Z"
   },
   {
    "duration": 22,
    "start_time": "2022-08-27T12:21:28.368Z"
   },
   {
    "duration": 5,
    "start_time": "2022-08-27T12:21:28.392Z"
   },
   {
    "duration": 36,
    "start_time": "2022-08-27T12:21:28.398Z"
   },
   {
    "duration": 16,
    "start_time": "2022-08-27T12:21:28.436Z"
   },
   {
    "duration": 2,
    "start_time": "2022-08-27T12:21:28.454Z"
   },
   {
    "duration": 12,
    "start_time": "2022-08-27T12:21:28.458Z"
   },
   {
    "duration": 207,
    "start_time": "2022-08-27T12:21:28.471Z"
   },
   {
    "duration": 9,
    "start_time": "2022-08-27T12:21:28.682Z"
   },
   {
    "duration": 104,
    "start_time": "2022-08-27T12:21:28.692Z"
   },
   {
    "duration": 26,
    "start_time": "2022-08-27T12:21:28.798Z"
   },
   {
    "duration": 5,
    "start_time": "2022-08-27T12:21:28.826Z"
   },
   {
    "duration": 349,
    "start_time": "2022-08-27T12:21:28.832Z"
   },
   {
    "duration": 11,
    "start_time": "2022-08-27T12:21:29.183Z"
   },
   {
    "duration": 225,
    "start_time": "2022-08-27T12:21:29.195Z"
   },
   {
    "duration": 5,
    "start_time": "2022-08-27T12:21:29.421Z"
   },
   {
    "duration": 20,
    "start_time": "2022-08-27T12:21:29.428Z"
   },
   {
    "duration": 21,
    "start_time": "2022-08-27T12:21:29.450Z"
   },
   {
    "duration": 6,
    "start_time": "2022-08-27T12:21:29.473Z"
   },
   {
    "duration": 43,
    "start_time": "2022-08-27T12:21:29.481Z"
   },
   {
    "duration": 22,
    "start_time": "2022-08-27T12:21:29.525Z"
   },
   {
    "duration": 262,
    "start_time": "2022-08-27T12:21:29.549Z"
   },
   {
    "duration": 12,
    "start_time": "2022-08-27T12:21:29.813Z"
   },
   {
    "duration": 1639,
    "start_time": "2022-08-27T12:21:29.826Z"
   },
   {
    "duration": 9,
    "start_time": "2022-08-27T12:21:31.467Z"
   },
   {
    "duration": 26,
    "start_time": "2022-08-27T12:21:31.478Z"
   },
   {
    "duration": 1465,
    "start_time": "2022-08-27T12:21:31.507Z"
   },
   {
    "duration": 8,
    "start_time": "2022-08-27T12:21:32.973Z"
   },
   {
    "duration": 17,
    "start_time": "2022-08-27T12:21:32.983Z"
   },
   {
    "duration": 53,
    "start_time": "2022-08-27T12:21:33.002Z"
   },
   {
    "duration": 12,
    "start_time": "2022-08-27T12:21:33.056Z"
   },
   {
    "duration": 23,
    "start_time": "2022-08-27T12:21:33.070Z"
   },
   {
    "duration": 279,
    "start_time": "2022-08-27T12:21:33.095Z"
   },
   {
    "duration": 4,
    "start_time": "2022-08-27T12:21:33.376Z"
   },
   {
    "duration": 1090,
    "start_time": "2022-08-27T12:54:26.745Z"
   },
   {
    "duration": 66,
    "start_time": "2022-08-27T12:54:27.836Z"
   },
   {
    "duration": 23,
    "start_time": "2022-08-27T12:54:27.903Z"
   },
   {
    "duration": 4,
    "start_time": "2022-08-27T12:54:27.927Z"
   },
   {
    "duration": 20,
    "start_time": "2022-08-27T12:54:27.933Z"
   },
   {
    "duration": 15,
    "start_time": "2022-08-27T12:54:27.954Z"
   },
   {
    "duration": 2,
    "start_time": "2022-08-27T12:54:27.971Z"
   },
   {
    "duration": 12,
    "start_time": "2022-08-27T12:54:27.974Z"
   },
   {
    "duration": 182,
    "start_time": "2022-08-27T12:54:27.988Z"
   },
   {
    "duration": 9,
    "start_time": "2022-08-27T12:54:28.172Z"
   },
   {
    "duration": 103,
    "start_time": "2022-08-27T12:54:28.183Z"
   },
   {
    "duration": 24,
    "start_time": "2022-08-27T12:54:28.287Z"
   },
   {
    "duration": 4,
    "start_time": "2022-08-27T12:54:28.313Z"
   },
   {
    "duration": 343,
    "start_time": "2022-08-27T12:54:28.320Z"
   },
   {
    "duration": 11,
    "start_time": "2022-08-27T12:54:28.665Z"
   },
   {
    "duration": 204,
    "start_time": "2022-08-27T12:54:28.678Z"
   },
   {
    "duration": 4,
    "start_time": "2022-08-27T12:54:28.883Z"
   },
   {
    "duration": 25,
    "start_time": "2022-08-27T12:54:28.888Z"
   },
   {
    "duration": 16,
    "start_time": "2022-08-27T12:54:28.915Z"
   },
   {
    "duration": 9,
    "start_time": "2022-08-27T12:54:28.933Z"
   },
   {
    "duration": 25,
    "start_time": "2022-08-27T12:54:28.944Z"
   },
   {
    "duration": 13,
    "start_time": "2022-08-27T12:54:28.971Z"
   },
   {
    "duration": 232,
    "start_time": "2022-08-27T12:54:28.985Z"
   },
   {
    "duration": 9,
    "start_time": "2022-08-27T12:54:29.219Z"
   },
   {
    "duration": 1406,
    "start_time": "2022-08-27T12:54:29.229Z"
   },
   {
    "duration": 10,
    "start_time": "2022-08-27T12:54:30.636Z"
   },
   {
    "duration": 35,
    "start_time": "2022-08-27T12:54:30.647Z"
   },
   {
    "duration": 941,
    "start_time": "2022-08-27T12:54:30.683Z"
   },
   {
    "duration": 8,
    "start_time": "2022-08-27T12:54:31.625Z"
   },
   {
    "duration": 11,
    "start_time": "2022-08-27T12:54:31.634Z"
   },
   {
    "duration": 50,
    "start_time": "2022-08-27T12:54:31.647Z"
   },
   {
    "duration": 6,
    "start_time": "2022-08-27T12:54:31.698Z"
   },
   {
    "duration": 55,
    "start_time": "2022-08-27T12:54:31.706Z"
   },
   {
    "duration": 0,
    "start_time": "2022-08-27T12:54:31.763Z"
   },
   {
    "duration": 0,
    "start_time": "2022-08-27T12:54:31.764Z"
   },
   {
    "duration": 1117,
    "start_time": "2022-08-27T12:54:53.894Z"
   },
   {
    "duration": 67,
    "start_time": "2022-08-27T12:54:55.012Z"
   },
   {
    "duration": 21,
    "start_time": "2022-08-27T12:54:55.081Z"
   },
   {
    "duration": 7,
    "start_time": "2022-08-27T12:54:55.104Z"
   },
   {
    "duration": 20,
    "start_time": "2022-08-27T12:54:55.112Z"
   },
   {
    "duration": 16,
    "start_time": "2022-08-27T12:54:55.133Z"
   },
   {
    "duration": 2,
    "start_time": "2022-08-27T12:54:55.151Z"
   },
   {
    "duration": 11,
    "start_time": "2022-08-27T12:54:55.154Z"
   },
   {
    "duration": 183,
    "start_time": "2022-08-27T12:54:55.166Z"
   },
   {
    "duration": 8,
    "start_time": "2022-08-27T12:54:55.352Z"
   },
   {
    "duration": 103,
    "start_time": "2022-08-27T12:54:55.361Z"
   },
   {
    "duration": 14,
    "start_time": "2022-08-27T12:54:55.465Z"
   },
   {
    "duration": 3,
    "start_time": "2022-08-27T12:54:55.480Z"
   },
   {
    "duration": 351,
    "start_time": "2022-08-27T12:54:55.484Z"
   },
   {
    "duration": 11,
    "start_time": "2022-08-27T12:54:55.836Z"
   },
   {
    "duration": 211,
    "start_time": "2022-08-27T12:54:55.849Z"
   },
   {
    "duration": 4,
    "start_time": "2022-08-27T12:54:56.061Z"
   },
   {
    "duration": 21,
    "start_time": "2022-08-27T12:54:56.066Z"
   },
   {
    "duration": 30,
    "start_time": "2022-08-27T12:54:56.089Z"
   },
   {
    "duration": 6,
    "start_time": "2022-08-27T12:54:56.121Z"
   },
   {
    "duration": 24,
    "start_time": "2022-08-27T12:54:56.128Z"
   },
   {
    "duration": 13,
    "start_time": "2022-08-27T12:54:56.154Z"
   },
   {
    "duration": 268,
    "start_time": "2022-08-27T12:54:56.169Z"
   },
   {
    "duration": 9,
    "start_time": "2022-08-27T12:54:56.439Z"
   },
   {
    "duration": 961,
    "start_time": "2022-08-27T12:54:56.449Z"
   },
   {
    "duration": 8,
    "start_time": "2022-08-27T12:54:57.411Z"
   },
   {
    "duration": 15,
    "start_time": "2022-08-27T12:54:57.420Z"
   },
   {
    "duration": 1247,
    "start_time": "2022-08-27T12:54:57.438Z"
   },
   {
    "duration": 7,
    "start_time": "2022-08-27T12:54:58.687Z"
   },
   {
    "duration": 8,
    "start_time": "2022-08-27T12:54:58.695Z"
   },
   {
    "duration": 39,
    "start_time": "2022-08-27T12:54:58.704Z"
   },
   {
    "duration": 10,
    "start_time": "2022-08-27T12:54:58.745Z"
   },
   {
    "duration": 22,
    "start_time": "2022-08-27T12:54:58.756Z"
   },
   {
    "duration": 235,
    "start_time": "2022-08-27T12:54:58.779Z"
   },
   {
    "duration": 5,
    "start_time": "2022-08-27T12:54:59.016Z"
   },
   {
    "duration": 1123,
    "start_time": "2022-08-27T12:55:31.188Z"
   },
   {
    "duration": 67,
    "start_time": "2022-08-27T12:55:32.313Z"
   },
   {
    "duration": 21,
    "start_time": "2022-08-27T12:55:32.381Z"
   },
   {
    "duration": 4,
    "start_time": "2022-08-27T12:55:32.404Z"
   },
   {
    "duration": 23,
    "start_time": "2022-08-27T12:55:32.411Z"
   },
   {
    "duration": 16,
    "start_time": "2022-08-27T12:55:32.436Z"
   },
   {
    "duration": 2,
    "start_time": "2022-08-27T12:55:32.454Z"
   },
   {
    "duration": 16,
    "start_time": "2022-08-27T12:55:32.457Z"
   },
   {
    "duration": 224,
    "start_time": "2022-08-27T12:55:32.475Z"
   },
   {
    "duration": 11,
    "start_time": "2022-08-27T12:55:32.712Z"
   },
   {
    "duration": 145,
    "start_time": "2022-08-27T12:55:32.725Z"
   },
   {
    "duration": 14,
    "start_time": "2022-08-27T12:55:32.871Z"
   },
   {
    "duration": 27,
    "start_time": "2022-08-27T12:55:32.886Z"
   },
   {
    "duration": 339,
    "start_time": "2022-08-27T12:55:32.915Z"
   },
   {
    "duration": 11,
    "start_time": "2022-08-27T12:55:33.256Z"
   },
   {
    "duration": 217,
    "start_time": "2022-08-27T12:55:33.269Z"
   },
   {
    "duration": 4,
    "start_time": "2022-08-27T12:55:33.487Z"
   },
   {
    "duration": 28,
    "start_time": "2022-08-27T12:55:33.492Z"
   },
   {
    "duration": 19,
    "start_time": "2022-08-27T12:55:33.521Z"
   },
   {
    "duration": 6,
    "start_time": "2022-08-27T12:55:33.541Z"
   },
   {
    "duration": 18,
    "start_time": "2022-08-27T12:55:33.548Z"
   },
   {
    "duration": 14,
    "start_time": "2022-08-27T12:55:33.567Z"
   },
   {
    "duration": 231,
    "start_time": "2022-08-27T12:55:33.582Z"
   },
   {
    "duration": 9,
    "start_time": "2022-08-27T12:55:33.814Z"
   },
   {
    "duration": 1549,
    "start_time": "2022-08-27T12:55:33.825Z"
   },
   {
    "duration": 7,
    "start_time": "2022-08-27T12:55:35.376Z"
   },
   {
    "duration": 15,
    "start_time": "2022-08-27T12:55:35.384Z"
   },
   {
    "duration": 1224,
    "start_time": "2022-08-27T12:55:35.401Z"
   },
   {
    "duration": 9,
    "start_time": "2022-08-27T12:55:36.627Z"
   },
   {
    "duration": 7,
    "start_time": "2022-08-27T12:55:36.638Z"
   },
   {
    "duration": 37,
    "start_time": "2022-08-27T12:55:36.646Z"
   },
   {
    "duration": 10,
    "start_time": "2022-08-27T12:55:36.685Z"
   },
   {
    "duration": 33,
    "start_time": "2022-08-27T12:55:36.696Z"
   },
   {
    "duration": 266,
    "start_time": "2022-08-27T12:55:36.731Z"
   },
   {
    "duration": 16,
    "start_time": "2022-08-27T12:55:36.999Z"
   },
   {
    "duration": 1055,
    "start_time": "2022-08-27T12:56:10.375Z"
   },
   {
    "duration": 68,
    "start_time": "2022-08-27T12:56:11.431Z"
   },
   {
    "duration": 21,
    "start_time": "2022-08-27T12:56:11.501Z"
   },
   {
    "duration": 4,
    "start_time": "2022-08-27T12:56:11.523Z"
   },
   {
    "duration": 20,
    "start_time": "2022-08-27T12:56:11.529Z"
   },
   {
    "duration": 15,
    "start_time": "2022-08-27T12:56:11.550Z"
   },
   {
    "duration": 2,
    "start_time": "2022-08-27T12:56:11.566Z"
   },
   {
    "duration": 12,
    "start_time": "2022-08-27T12:56:11.569Z"
   },
   {
    "duration": 175,
    "start_time": "2022-08-27T12:56:11.583Z"
   },
   {
    "duration": 8,
    "start_time": "2022-08-27T12:56:11.760Z"
   },
   {
    "duration": 101,
    "start_time": "2022-08-27T12:56:11.769Z"
   },
   {
    "duration": 14,
    "start_time": "2022-08-27T12:56:11.871Z"
   },
   {
    "duration": 3,
    "start_time": "2022-08-27T12:56:11.887Z"
   },
   {
    "duration": 328,
    "start_time": "2022-08-27T12:56:11.910Z"
   },
   {
    "duration": 11,
    "start_time": "2022-08-27T12:56:12.239Z"
   },
   {
    "duration": 217,
    "start_time": "2022-08-27T12:56:12.251Z"
   },
   {
    "duration": 4,
    "start_time": "2022-08-27T12:56:12.469Z"
   },
   {
    "duration": 21,
    "start_time": "2022-08-27T12:56:12.475Z"
   },
   {
    "duration": 41,
    "start_time": "2022-08-27T12:56:12.498Z"
   },
   {
    "duration": 7,
    "start_time": "2022-08-27T12:56:12.540Z"
   },
   {
    "duration": 22,
    "start_time": "2022-08-27T12:56:12.549Z"
   },
   {
    "duration": 18,
    "start_time": "2022-08-27T12:56:12.574Z"
   },
   {
    "duration": 279,
    "start_time": "2022-08-27T12:56:12.594Z"
   },
   {
    "duration": 9,
    "start_time": "2022-08-27T12:56:12.874Z"
   },
   {
    "duration": 1526,
    "start_time": "2022-08-27T12:56:12.885Z"
   },
   {
    "duration": 8,
    "start_time": "2022-08-27T12:56:14.413Z"
   },
   {
    "duration": 12,
    "start_time": "2022-08-27T12:56:14.422Z"
   },
   {
    "duration": 1245,
    "start_time": "2022-08-27T12:56:14.435Z"
   },
   {
    "duration": 8,
    "start_time": "2022-08-27T12:56:15.681Z"
   },
   {
    "duration": 5,
    "start_time": "2022-08-27T12:56:15.690Z"
   },
   {
    "duration": 30,
    "start_time": "2022-08-27T12:56:15.696Z"
   },
   {
    "duration": 5,
    "start_time": "2022-08-27T12:56:15.727Z"
   },
   {
    "duration": 20,
    "start_time": "2022-08-27T12:56:15.733Z"
   },
   {
    "duration": 264,
    "start_time": "2022-08-27T12:56:15.754Z"
   },
   {
    "duration": 6,
    "start_time": "2022-08-27T12:56:16.020Z"
   },
   {
    "duration": 1070,
    "start_time": "2022-08-27T12:57:12.868Z"
   },
   {
    "duration": 66,
    "start_time": "2022-08-27T12:57:13.940Z"
   },
   {
    "duration": 22,
    "start_time": "2022-08-27T12:57:14.008Z"
   },
   {
    "duration": 5,
    "start_time": "2022-08-27T12:57:14.031Z"
   },
   {
    "duration": 19,
    "start_time": "2022-08-27T12:57:14.038Z"
   },
   {
    "duration": 16,
    "start_time": "2022-08-27T12:57:14.059Z"
   },
   {
    "duration": 2,
    "start_time": "2022-08-27T12:57:14.077Z"
   },
   {
    "duration": 37,
    "start_time": "2022-08-27T12:57:14.081Z"
   },
   {
    "duration": 169,
    "start_time": "2022-08-27T12:57:14.120Z"
   },
   {
    "duration": 7,
    "start_time": "2022-08-27T12:57:14.291Z"
   },
   {
    "duration": 95,
    "start_time": "2022-08-27T12:57:14.300Z"
   },
   {
    "duration": 22,
    "start_time": "2022-08-27T12:57:14.396Z"
   },
   {
    "duration": 4,
    "start_time": "2022-08-27T12:57:14.419Z"
   },
   {
    "duration": 318,
    "start_time": "2022-08-27T12:57:14.426Z"
   },
   {
    "duration": 10,
    "start_time": "2022-08-27T12:57:14.746Z"
   },
   {
    "duration": 205,
    "start_time": "2022-08-27T12:57:14.758Z"
   },
   {
    "duration": 4,
    "start_time": "2022-08-27T12:57:14.964Z"
   },
   {
    "duration": 20,
    "start_time": "2022-08-27T12:57:14.969Z"
   },
   {
    "duration": 33,
    "start_time": "2022-08-27T12:57:14.991Z"
   },
   {
    "duration": 7,
    "start_time": "2022-08-27T12:57:15.026Z"
   },
   {
    "duration": 17,
    "start_time": "2022-08-27T12:57:15.035Z"
   },
   {
    "duration": 14,
    "start_time": "2022-08-27T12:57:15.053Z"
   },
   {
    "duration": 234,
    "start_time": "2022-08-27T12:57:15.068Z"
   },
   {
    "duration": 15,
    "start_time": "2022-08-27T12:57:15.304Z"
   },
   {
    "duration": 1109,
    "start_time": "2022-08-27T12:57:15.320Z"
   },
   {
    "duration": 8,
    "start_time": "2022-08-27T12:57:16.431Z"
   },
   {
    "duration": 12,
    "start_time": "2022-08-27T12:57:16.441Z"
   },
   {
    "duration": 755,
    "start_time": "2022-08-27T12:57:16.455Z"
   },
   {
    "duration": 9,
    "start_time": "2022-08-27T12:57:17.211Z"
   },
   {
    "duration": 8,
    "start_time": "2022-08-27T12:57:17.221Z"
   },
   {
    "duration": 40,
    "start_time": "2022-08-27T12:57:17.231Z"
   },
   {
    "duration": 5,
    "start_time": "2022-08-27T12:57:17.273Z"
   },
   {
    "duration": 27,
    "start_time": "2022-08-27T12:57:17.280Z"
   },
   {
    "duration": 261,
    "start_time": "2022-08-27T12:57:17.311Z"
   },
   {
    "duration": 5,
    "start_time": "2022-08-27T12:57:17.573Z"
   },
   {
    "duration": 52,
    "start_time": "2022-08-27T12:58:29.322Z"
   },
   {
    "duration": 115,
    "start_time": "2022-08-27T12:58:36.855Z"
   },
   {
    "duration": 21,
    "start_time": "2022-08-27T12:58:42.709Z"
   },
   {
    "duration": 14,
    "start_time": "2022-08-27T12:59:02.947Z"
   },
   {
    "duration": 15,
    "start_time": "2022-08-27T12:59:30.232Z"
   },
   {
    "duration": 1176,
    "start_time": "2022-08-27T13:00:01.133Z"
   },
   {
    "duration": 68,
    "start_time": "2022-08-27T13:00:02.311Z"
   },
   {
    "duration": 22,
    "start_time": "2022-08-27T13:00:02.380Z"
   },
   {
    "duration": 5,
    "start_time": "2022-08-27T13:00:02.405Z"
   },
   {
    "duration": 33,
    "start_time": "2022-08-27T13:00:02.412Z"
   },
   {
    "duration": 17,
    "start_time": "2022-08-27T13:00:02.447Z"
   },
   {
    "duration": 3,
    "start_time": "2022-08-27T13:00:02.465Z"
   },
   {
    "duration": 16,
    "start_time": "2022-08-27T13:00:02.470Z"
   },
   {
    "duration": 218,
    "start_time": "2022-08-27T13:00:02.488Z"
   },
   {
    "duration": 11,
    "start_time": "2022-08-27T13:00:02.712Z"
   },
   {
    "duration": 139,
    "start_time": "2022-08-27T13:00:02.725Z"
   },
   {
    "duration": 13,
    "start_time": "2022-08-27T13:00:02.866Z"
   },
   {
    "duration": 22,
    "start_time": "2022-08-27T13:00:02.880Z"
   },
   {
    "duration": 332,
    "start_time": "2022-08-27T13:00:02.903Z"
   },
   {
    "duration": 11,
    "start_time": "2022-08-27T13:00:03.236Z"
   },
   {
    "duration": 205,
    "start_time": "2022-08-27T13:00:03.248Z"
   },
   {
    "duration": 4,
    "start_time": "2022-08-27T13:00:03.454Z"
   },
   {
    "duration": 34,
    "start_time": "2022-08-27T13:00:03.463Z"
   },
   {
    "duration": 21,
    "start_time": "2022-08-27T13:00:03.498Z"
   },
   {
    "duration": 6,
    "start_time": "2022-08-27T13:00:03.521Z"
   },
   {
    "duration": 30,
    "start_time": "2022-08-27T13:00:03.528Z"
   },
   {
    "duration": 14,
    "start_time": "2022-08-27T13:00:03.559Z"
   },
   {
    "duration": 219,
    "start_time": "2022-08-27T13:00:03.575Z"
   },
   {
    "duration": 15,
    "start_time": "2022-08-27T13:00:03.796Z"
   },
   {
    "duration": 1156,
    "start_time": "2022-08-27T13:00:03.813Z"
   },
   {
    "duration": 9,
    "start_time": "2022-08-27T13:00:04.971Z"
   },
   {
    "duration": 31,
    "start_time": "2022-08-27T13:00:04.981Z"
   },
   {
    "duration": 874,
    "start_time": "2022-08-27T13:00:05.016Z"
   },
   {
    "duration": 8,
    "start_time": "2022-08-27T13:00:05.892Z"
   },
   {
    "duration": 10,
    "start_time": "2022-08-27T13:00:05.902Z"
   },
   {
    "duration": 34,
    "start_time": "2022-08-27T13:00:05.913Z"
   },
   {
    "duration": 8,
    "start_time": "2022-08-27T13:00:05.949Z"
   },
   {
    "duration": 19,
    "start_time": "2022-08-27T13:00:05.959Z"
   },
   {
    "duration": 246,
    "start_time": "2022-08-27T13:00:05.979Z"
   },
   {
    "duration": 9,
    "start_time": "2022-08-27T13:00:06.227Z"
   },
   {
    "duration": 1098,
    "start_time": "2022-08-27T13:00:19.227Z"
   },
   {
    "duration": 65,
    "start_time": "2022-08-27T13:00:20.327Z"
   },
   {
    "duration": 20,
    "start_time": "2022-08-27T13:00:20.394Z"
   },
   {
    "duration": 4,
    "start_time": "2022-08-27T13:00:20.416Z"
   },
   {
    "duration": 23,
    "start_time": "2022-08-27T13:00:20.422Z"
   },
   {
    "duration": 17,
    "start_time": "2022-08-27T13:00:20.446Z"
   },
   {
    "duration": 4,
    "start_time": "2022-08-27T13:00:20.464Z"
   },
   {
    "duration": 16,
    "start_time": "2022-08-27T13:00:20.470Z"
   },
   {
    "duration": 187,
    "start_time": "2022-08-27T13:00:20.488Z"
   },
   {
    "duration": 8,
    "start_time": "2022-08-27T13:00:20.677Z"
   },
   {
    "duration": 104,
    "start_time": "2022-08-27T13:00:20.686Z"
   },
   {
    "duration": 21,
    "start_time": "2022-08-27T13:00:20.792Z"
   },
   {
    "duration": 3,
    "start_time": "2022-08-27T13:00:20.814Z"
   },
   {
    "duration": 320,
    "start_time": "2022-08-27T13:00:20.820Z"
   },
   {
    "duration": 12,
    "start_time": "2022-08-27T13:00:21.141Z"
   },
   {
    "duration": 206,
    "start_time": "2022-08-27T13:00:21.154Z"
   },
   {
    "duration": 3,
    "start_time": "2022-08-27T13:00:21.361Z"
   },
   {
    "duration": 24,
    "start_time": "2022-08-27T13:00:21.365Z"
   },
   {
    "duration": 31,
    "start_time": "2022-08-27T13:00:21.390Z"
   },
   {
    "duration": 6,
    "start_time": "2022-08-27T13:00:21.423Z"
   },
   {
    "duration": 18,
    "start_time": "2022-08-27T13:00:21.431Z"
   },
   {
    "duration": 16,
    "start_time": "2022-08-27T13:00:21.450Z"
   },
   {
    "duration": 241,
    "start_time": "2022-08-27T13:00:21.467Z"
   },
   {
    "duration": 9,
    "start_time": "2022-08-27T13:00:21.710Z"
   },
   {
    "duration": 995,
    "start_time": "2022-08-27T13:00:21.721Z"
   },
   {
    "duration": 11,
    "start_time": "2022-08-27T13:00:22.718Z"
   },
   {
    "duration": 25,
    "start_time": "2022-08-27T13:00:22.731Z"
   },
   {
    "duration": 735,
    "start_time": "2022-08-27T13:00:22.758Z"
   },
   {
    "duration": 8,
    "start_time": "2022-08-27T13:00:23.494Z"
   },
   {
    "duration": 5,
    "start_time": "2022-08-27T13:00:23.503Z"
   },
   {
    "duration": 36,
    "start_time": "2022-08-27T13:00:23.510Z"
   },
   {
    "duration": 6,
    "start_time": "2022-08-27T13:00:23.548Z"
   },
   {
    "duration": 16,
    "start_time": "2022-08-27T13:00:23.556Z"
   },
   {
    "duration": 270,
    "start_time": "2022-08-27T13:00:23.574Z"
   },
   {
    "duration": 8,
    "start_time": "2022-08-27T13:00:23.846Z"
   },
   {
    "duration": 48,
    "start_time": "2022-09-01T09:35:04.957Z"
   },
   {
    "duration": 1418,
    "start_time": "2022-09-01T09:35:11.681Z"
   },
   {
    "duration": 256,
    "start_time": "2022-09-01T09:35:13.101Z"
   },
   {
    "duration": 25,
    "start_time": "2022-09-01T09:35:13.360Z"
   },
   {
    "duration": 5,
    "start_time": "2022-09-01T09:35:13.386Z"
   },
   {
    "duration": 24,
    "start_time": "2022-09-01T09:35:13.393Z"
   },
   {
    "duration": 17,
    "start_time": "2022-09-01T09:35:13.418Z"
   },
   {
    "duration": 2,
    "start_time": "2022-09-01T09:35:13.436Z"
   },
   {
    "duration": 12,
    "start_time": "2022-09-01T09:35:13.440Z"
   },
   {
    "duration": 201,
    "start_time": "2022-09-01T09:35:13.453Z"
   },
   {
    "duration": 10,
    "start_time": "2022-09-01T09:35:13.656Z"
   },
   {
    "duration": 112,
    "start_time": "2022-09-01T09:35:13.667Z"
   },
   {
    "duration": 17,
    "start_time": "2022-09-01T09:35:13.781Z"
   },
   {
    "duration": 5,
    "start_time": "2022-09-01T09:35:13.809Z"
   },
   {
    "duration": 402,
    "start_time": "2022-09-01T09:35:13.816Z"
   },
   {
    "duration": 12,
    "start_time": "2022-09-01T09:35:14.220Z"
   },
   {
    "duration": 222,
    "start_time": "2022-09-01T09:35:14.234Z"
   },
   {
    "duration": 4,
    "start_time": "2022-09-01T09:35:14.457Z"
   },
   {
    "duration": 21,
    "start_time": "2022-09-01T09:35:14.462Z"
   },
   {
    "duration": 36,
    "start_time": "2022-09-01T09:35:14.485Z"
   },
   {
    "duration": 6,
    "start_time": "2022-09-01T09:35:14.523Z"
   },
   {
    "duration": 21,
    "start_time": "2022-09-01T09:35:14.530Z"
   },
   {
    "duration": 18,
    "start_time": "2022-09-01T09:35:14.552Z"
   },
   {
    "duration": 266,
    "start_time": "2022-09-01T09:35:14.571Z"
   },
   {
    "duration": 10,
    "start_time": "2022-09-01T09:35:14.839Z"
   },
   {
    "duration": 1641,
    "start_time": "2022-09-01T09:35:14.851Z"
   },
   {
    "duration": 9,
    "start_time": "2022-09-01T09:35:16.494Z"
   },
   {
    "duration": 15,
    "start_time": "2022-09-01T09:35:16.504Z"
   },
   {
    "duration": 809,
    "start_time": "2022-09-01T09:35:16.521Z"
   },
   {
    "duration": 10,
    "start_time": "2022-09-01T09:35:17.332Z"
   },
   {
    "duration": 13,
    "start_time": "2022-09-01T09:35:17.344Z"
   },
   {
    "duration": 55,
    "start_time": "2022-09-01T09:35:17.359Z"
   },
   {
    "duration": 14,
    "start_time": "2022-09-01T09:35:17.417Z"
   },
   {
    "duration": 29,
    "start_time": "2022-09-01T09:35:17.433Z"
   },
   {
    "duration": 316,
    "start_time": "2022-09-01T09:35:17.466Z"
   },
   {
    "duration": 6,
    "start_time": "2022-09-01T09:35:17.784Z"
   },
   {
    "duration": 1117,
    "start_time": "2022-09-01T09:38:24.410Z"
   },
   {
    "duration": 64,
    "start_time": "2022-09-01T09:38:25.529Z"
   },
   {
    "duration": 20,
    "start_time": "2022-09-01T09:38:25.595Z"
   },
   {
    "duration": 17,
    "start_time": "2022-09-01T09:38:25.616Z"
   },
   {
    "duration": 4,
    "start_time": "2022-09-01T09:38:25.635Z"
   },
   {
    "duration": 20,
    "start_time": "2022-09-01T09:38:25.640Z"
   },
   {
    "duration": 3,
    "start_time": "2022-09-01T09:38:25.661Z"
   },
   {
    "duration": 12,
    "start_time": "2022-09-01T09:38:25.665Z"
   },
   {
    "duration": 188,
    "start_time": "2022-09-01T09:38:25.679Z"
   },
   {
    "duration": 11,
    "start_time": "2022-09-01T09:38:25.869Z"
   },
   {
    "duration": 121,
    "start_time": "2022-09-01T09:38:25.882Z"
   },
   {
    "duration": 20,
    "start_time": "2022-09-01T09:38:26.004Z"
   },
   {
    "duration": 5,
    "start_time": "2022-09-01T09:38:26.025Z"
   },
   {
    "duration": 339,
    "start_time": "2022-09-01T09:38:26.033Z"
   },
   {
    "duration": 12,
    "start_time": "2022-09-01T09:38:26.373Z"
   },
   {
    "duration": 206,
    "start_time": "2022-09-01T09:38:26.386Z"
   },
   {
    "duration": 3,
    "start_time": "2022-09-01T09:38:26.593Z"
   },
   {
    "duration": 17,
    "start_time": "2022-09-01T09:38:26.609Z"
   },
   {
    "duration": 19,
    "start_time": "2022-09-01T09:38:26.627Z"
   },
   {
    "duration": 7,
    "start_time": "2022-09-01T09:38:26.647Z"
   },
   {
    "duration": 17,
    "start_time": "2022-09-01T09:38:26.655Z"
   },
   {
    "duration": 44,
    "start_time": "2022-09-01T09:38:26.673Z"
   },
   {
    "duration": 222,
    "start_time": "2022-09-01T09:38:26.718Z"
   },
   {
    "duration": 9,
    "start_time": "2022-09-01T09:38:26.942Z"
   },
   {
    "duration": 983,
    "start_time": "2022-09-01T09:38:26.953Z"
   },
   {
    "duration": 8,
    "start_time": "2022-09-01T09:38:27.938Z"
   },
   {
    "duration": 19,
    "start_time": "2022-09-01T09:38:27.947Z"
   },
   {
    "duration": 696,
    "start_time": "2022-09-01T09:38:27.967Z"
   },
   {
    "duration": 7,
    "start_time": "2022-09-01T09:38:28.665Z"
   },
   {
    "duration": 4,
    "start_time": "2022-09-01T09:38:28.674Z"
   },
   {
    "duration": 35,
    "start_time": "2022-09-01T09:38:28.680Z"
   },
   {
    "duration": 7,
    "start_time": "2022-09-01T09:38:28.717Z"
   },
   {
    "duration": 16,
    "start_time": "2022-09-01T09:38:28.726Z"
   },
   {
    "duration": 301,
    "start_time": "2022-09-01T09:38:28.743Z"
   },
   {
    "duration": 6,
    "start_time": "2022-09-01T09:38:29.046Z"
   },
   {
    "duration": 99,
    "start_time": "2022-09-01T10:06:11.717Z"
   },
   {
    "duration": 1176,
    "start_time": "2022-09-01T14:20:12.254Z"
   },
   {
    "duration": 68,
    "start_time": "2022-09-01T14:20:13.432Z"
   },
   {
    "duration": 24,
    "start_time": "2022-09-01T14:20:13.502Z"
   },
   {
    "duration": 19,
    "start_time": "2022-09-01T14:20:13.528Z"
   },
   {
    "duration": 5,
    "start_time": "2022-09-01T14:20:13.549Z"
   },
   {
    "duration": 47,
    "start_time": "2022-09-01T14:20:13.556Z"
   },
   {
    "duration": 13,
    "start_time": "2022-09-01T14:20:13.608Z"
   },
   {
    "duration": 199,
    "start_time": "2022-09-01T14:20:13.623Z"
   },
   {
    "duration": 10,
    "start_time": "2022-09-01T14:20:13.825Z"
   },
   {
    "duration": 141,
    "start_time": "2022-09-01T14:20:13.838Z"
   },
   {
    "duration": 17,
    "start_time": "2022-09-01T14:20:13.980Z"
   },
   {
    "duration": 5,
    "start_time": "2022-09-01T14:20:14.008Z"
   },
   {
    "duration": 365,
    "start_time": "2022-09-01T14:20:14.014Z"
   },
   {
    "duration": 12,
    "start_time": "2022-09-01T14:20:14.381Z"
   },
   {
    "duration": 226,
    "start_time": "2022-09-01T14:20:14.395Z"
   },
   {
    "duration": 4,
    "start_time": "2022-09-01T14:20:14.622Z"
   },
   {
    "duration": 23,
    "start_time": "2022-09-01T14:20:14.628Z"
   },
   {
    "duration": 19,
    "start_time": "2022-09-01T14:20:14.653Z"
   },
   {
    "duration": 9,
    "start_time": "2022-09-01T14:20:14.674Z"
   },
   {
    "duration": 45,
    "start_time": "2022-09-01T14:20:14.685Z"
   },
   {
    "duration": 12,
    "start_time": "2022-09-01T14:20:14.732Z"
   },
   {
    "duration": 8,
    "start_time": "2022-09-01T14:20:14.746Z"
   },
   {
    "duration": 263,
    "start_time": "2022-09-01T14:20:14.756Z"
   },
   {
    "duration": 12,
    "start_time": "2022-09-01T14:20:15.021Z"
   },
   {
    "duration": 1537,
    "start_time": "2022-09-01T14:20:15.035Z"
   },
   {
    "duration": 9,
    "start_time": "2022-09-01T14:20:16.574Z"
   },
   {
    "duration": 14,
    "start_time": "2022-09-01T14:20:16.585Z"
   },
   {
    "duration": 949,
    "start_time": "2022-09-01T14:20:16.603Z"
   },
   {
    "duration": 8,
    "start_time": "2022-09-01T14:20:17.553Z"
   },
   {
    "duration": 5,
    "start_time": "2022-09-01T14:20:17.563Z"
   },
   {
    "duration": 40,
    "start_time": "2022-09-01T14:20:17.570Z"
   },
   {
    "duration": 17,
    "start_time": "2022-09-01T14:20:17.612Z"
   },
   {
    "duration": 19,
    "start_time": "2022-09-01T14:20:17.631Z"
   },
   {
    "duration": 299,
    "start_time": "2022-09-01T14:20:17.651Z"
   },
   {
    "duration": 5,
    "start_time": "2022-09-01T14:20:17.951Z"
   },
   {
    "duration": 1263,
    "start_time": "2022-09-01T15:24:09.515Z"
   },
   {
    "duration": 68,
    "start_time": "2022-09-01T15:24:10.781Z"
   },
   {
    "duration": 34,
    "start_time": "2022-09-01T15:24:10.851Z"
   },
   {
    "duration": 22,
    "start_time": "2022-09-01T15:24:10.887Z"
   },
   {
    "duration": 4,
    "start_time": "2022-09-01T15:24:10.911Z"
   },
   {
    "duration": 22,
    "start_time": "2022-09-01T15:24:10.917Z"
   },
   {
    "duration": 41,
    "start_time": "2022-09-01T15:24:10.940Z"
   },
   {
    "duration": 185,
    "start_time": "2022-09-01T15:24:10.983Z"
   },
   {
    "duration": 12,
    "start_time": "2022-09-01T15:24:11.178Z"
   },
   {
    "duration": 103,
    "start_time": "2022-09-01T15:24:11.193Z"
   },
   {
    "duration": 17,
    "start_time": "2022-09-01T15:24:11.298Z"
   },
   {
    "duration": 4,
    "start_time": "2022-09-01T15:24:11.317Z"
   },
   {
    "duration": 405,
    "start_time": "2022-09-01T15:24:11.323Z"
   },
   {
    "duration": 12,
    "start_time": "2022-09-01T15:24:11.729Z"
   },
   {
    "duration": 241,
    "start_time": "2022-09-01T15:24:11.743Z"
   },
   {
    "duration": 3,
    "start_time": "2022-09-01T15:24:11.986Z"
   },
   {
    "duration": 19,
    "start_time": "2022-09-01T15:24:11.991Z"
   },
   {
    "duration": 20,
    "start_time": "2022-09-01T15:24:12.012Z"
   },
   {
    "duration": 7,
    "start_time": "2022-09-01T15:24:12.033Z"
   },
   {
    "duration": 47,
    "start_time": "2022-09-01T15:24:12.042Z"
   },
   {
    "duration": 11,
    "start_time": "2022-09-01T15:24:12.090Z"
   },
   {
    "duration": 7,
    "start_time": "2022-09-01T15:24:12.103Z"
   },
   {
    "duration": 267,
    "start_time": "2022-09-01T15:24:12.112Z"
   },
   {
    "duration": 11,
    "start_time": "2022-09-01T15:24:12.381Z"
   },
   {
    "duration": 1419,
    "start_time": "2022-09-01T15:24:12.394Z"
   },
   {
    "duration": 8,
    "start_time": "2022-09-01T15:24:13.815Z"
   },
   {
    "duration": 15,
    "start_time": "2022-09-01T15:24:13.825Z"
   },
   {
    "duration": 1195,
    "start_time": "2022-09-01T15:24:13.843Z"
   },
   {
    "duration": 9,
    "start_time": "2022-09-01T15:24:15.039Z"
   },
   {
    "duration": 15,
    "start_time": "2022-09-01T15:24:15.049Z"
   },
   {
    "duration": 50,
    "start_time": "2022-09-01T15:24:15.065Z"
   },
   {
    "duration": 7,
    "start_time": "2022-09-01T15:24:15.117Z"
   },
   {
    "duration": 18,
    "start_time": "2022-09-01T15:24:15.126Z"
   },
   {
    "duration": 340,
    "start_time": "2022-09-01T15:24:15.145Z"
   },
   {
    "duration": 5,
    "start_time": "2022-09-01T15:24:15.487Z"
   },
   {
    "duration": 47,
    "start_time": "2022-09-02T09:33:31.457Z"
   },
   {
    "duration": 1335,
    "start_time": "2022-09-02T09:33:36.701Z"
   },
   {
    "duration": 260,
    "start_time": "2022-09-02T09:33:38.038Z"
   },
   {
    "duration": 23,
    "start_time": "2022-09-02T09:33:38.299Z"
   },
   {
    "duration": 110,
    "start_time": "2022-09-02T09:33:38.324Z"
   },
   {
    "duration": 0,
    "start_time": "2022-09-02T09:33:38.436Z"
   },
   {
    "duration": 0,
    "start_time": "2022-09-02T09:33:38.438Z"
   },
   {
    "duration": 0,
    "start_time": "2022-09-02T09:33:38.439Z"
   },
   {
    "duration": 0,
    "start_time": "2022-09-02T09:33:38.440Z"
   },
   {
    "duration": 0,
    "start_time": "2022-09-02T09:33:38.441Z"
   },
   {
    "duration": 0,
    "start_time": "2022-09-02T09:33:38.442Z"
   },
   {
    "duration": 0,
    "start_time": "2022-09-02T09:33:38.443Z"
   },
   {
    "duration": 0,
    "start_time": "2022-09-02T09:33:38.444Z"
   },
   {
    "duration": 0,
    "start_time": "2022-09-02T09:33:38.445Z"
   },
   {
    "duration": 0,
    "start_time": "2022-09-02T09:33:38.446Z"
   },
   {
    "duration": 0,
    "start_time": "2022-09-02T09:33:38.447Z"
   },
   {
    "duration": 0,
    "start_time": "2022-09-02T09:33:38.448Z"
   },
   {
    "duration": 0,
    "start_time": "2022-09-02T09:33:38.449Z"
   },
   {
    "duration": 0,
    "start_time": "2022-09-02T09:33:38.451Z"
   },
   {
    "duration": 0,
    "start_time": "2022-09-02T09:33:38.451Z"
   },
   {
    "duration": 0,
    "start_time": "2022-09-02T09:33:38.453Z"
   },
   {
    "duration": 0,
    "start_time": "2022-09-02T09:33:38.454Z"
   },
   {
    "duration": 0,
    "start_time": "2022-09-02T09:33:38.455Z"
   },
   {
    "duration": 0,
    "start_time": "2022-09-02T09:33:38.486Z"
   },
   {
    "duration": 0,
    "start_time": "2022-09-02T09:33:38.488Z"
   },
   {
    "duration": 0,
    "start_time": "2022-09-02T09:33:38.489Z"
   },
   {
    "duration": 0,
    "start_time": "2022-09-02T09:33:38.490Z"
   },
   {
    "duration": 0,
    "start_time": "2022-09-02T09:33:38.491Z"
   },
   {
    "duration": 0,
    "start_time": "2022-09-02T09:33:38.492Z"
   },
   {
    "duration": 0,
    "start_time": "2022-09-02T09:33:38.493Z"
   },
   {
    "duration": 0,
    "start_time": "2022-09-02T09:33:38.494Z"
   },
   {
    "duration": 0,
    "start_time": "2022-09-02T09:33:38.495Z"
   },
   {
    "duration": 0,
    "start_time": "2022-09-02T09:33:38.496Z"
   },
   {
    "duration": 0,
    "start_time": "2022-09-02T09:33:38.497Z"
   },
   {
    "duration": 0,
    "start_time": "2022-09-02T09:33:38.498Z"
   },
   {
    "duration": 0,
    "start_time": "2022-09-02T09:33:38.499Z"
   },
   {
    "duration": 0,
    "start_time": "2022-09-02T09:33:38.500Z"
   },
   {
    "duration": 9,
    "start_time": "2022-09-02T09:33:58.616Z"
   },
   {
    "duration": 10,
    "start_time": "2022-09-02T09:34:33.518Z"
   },
   {
    "duration": 1176,
    "start_time": "2022-09-02T09:34:40.342Z"
   },
   {
    "duration": 65,
    "start_time": "2022-09-02T09:34:41.520Z"
   },
   {
    "duration": 22,
    "start_time": "2022-09-02T09:34:41.587Z"
   },
   {
    "duration": 11,
    "start_time": "2022-09-02T09:34:41.611Z"
   },
   {
    "duration": 27,
    "start_time": "2022-09-02T09:34:41.624Z"
   },
   {
    "duration": 4,
    "start_time": "2022-09-02T09:34:41.652Z"
   },
   {
    "duration": 36,
    "start_time": "2022-09-02T09:34:41.658Z"
   },
   {
    "duration": 10,
    "start_time": "2022-09-02T09:34:41.696Z"
   },
   {
    "duration": 186,
    "start_time": "2022-09-02T09:34:41.708Z"
   },
   {
    "duration": 9,
    "start_time": "2022-09-02T09:34:41.898Z"
   },
   {
    "duration": 103,
    "start_time": "2022-09-02T09:34:41.909Z"
   },
   {
    "duration": 16,
    "start_time": "2022-09-02T09:34:42.013Z"
   },
   {
    "duration": 5,
    "start_time": "2022-09-02T09:34:42.030Z"
   },
   {
    "duration": 364,
    "start_time": "2022-09-02T09:34:42.037Z"
   },
   {
    "duration": 12,
    "start_time": "2022-09-02T09:34:42.402Z"
   },
   {
    "duration": 221,
    "start_time": "2022-09-02T09:34:42.415Z"
   },
   {
    "duration": 4,
    "start_time": "2022-09-02T09:34:42.637Z"
   },
   {
    "duration": 22,
    "start_time": "2022-09-02T09:34:42.643Z"
   },
   {
    "duration": 29,
    "start_time": "2022-09-02T09:34:42.666Z"
   },
   {
    "duration": 8,
    "start_time": "2022-09-02T09:34:42.696Z"
   },
   {
    "duration": 18,
    "start_time": "2022-09-02T09:34:42.705Z"
   },
   {
    "duration": 10,
    "start_time": "2022-09-02T09:34:42.724Z"
   },
   {
    "duration": 6,
    "start_time": "2022-09-02T09:34:42.736Z"
   },
   {
    "duration": 253,
    "start_time": "2022-09-02T09:34:42.743Z"
   },
   {
    "duration": 11,
    "start_time": "2022-09-02T09:34:42.997Z"
   },
   {
    "duration": 1270,
    "start_time": "2022-09-02T09:34:43.009Z"
   },
   {
    "duration": 8,
    "start_time": "2022-09-02T09:34:44.281Z"
   },
   {
    "duration": 32,
    "start_time": "2022-09-02T09:34:44.291Z"
   },
   {
    "duration": 827,
    "start_time": "2022-09-02T09:34:44.324Z"
   },
   {
    "duration": 8,
    "start_time": "2022-09-02T09:34:45.152Z"
   },
   {
    "duration": 10,
    "start_time": "2022-09-02T09:34:45.161Z"
   },
   {
    "duration": 57,
    "start_time": "2022-09-02T09:34:45.172Z"
   },
   {
    "duration": 24,
    "start_time": "2022-09-02T09:34:45.231Z"
   },
   {
    "duration": 22,
    "start_time": "2022-09-02T09:34:45.257Z"
   },
   {
    "duration": 312,
    "start_time": "2022-09-02T09:34:45.280Z"
   },
   {
    "duration": 28,
    "start_time": "2022-09-02T09:34:45.594Z"
   },
   {
    "duration": 19,
    "start_time": "2022-09-02T09:35:18.102Z"
   },
   {
    "duration": 21,
    "start_time": "2022-09-02T09:35:21.720Z"
   },
   {
    "duration": 18,
    "start_time": "2022-09-02T09:35:26.070Z"
   },
   {
    "duration": 1207,
    "start_time": "2022-09-02T09:35:45.271Z"
   },
   {
    "duration": 67,
    "start_time": "2022-09-02T09:35:46.480Z"
   },
   {
    "duration": 25,
    "start_time": "2022-09-02T09:35:46.549Z"
   },
   {
    "duration": 13,
    "start_time": "2022-09-02T09:35:46.577Z"
   },
   {
    "duration": 28,
    "start_time": "2022-09-02T09:35:46.591Z"
   },
   {
    "duration": 4,
    "start_time": "2022-09-02T09:35:46.621Z"
   },
   {
    "duration": 20,
    "start_time": "2022-09-02T09:35:46.626Z"
   },
   {
    "duration": 10,
    "start_time": "2022-09-02T09:35:46.648Z"
   },
   {
    "duration": 176,
    "start_time": "2022-09-02T09:35:46.660Z"
   },
   {
    "duration": 8,
    "start_time": "2022-09-02T09:35:46.839Z"
   },
   {
    "duration": 103,
    "start_time": "2022-09-02T09:35:46.849Z"
   },
   {
    "duration": 14,
    "start_time": "2022-09-02T09:35:46.954Z"
   },
   {
    "duration": 18,
    "start_time": "2022-09-02T09:35:46.969Z"
   },
   {
    "duration": 332,
    "start_time": "2022-09-02T09:35:46.988Z"
   },
   {
    "duration": 11,
    "start_time": "2022-09-02T09:35:47.322Z"
   },
   {
    "duration": 211,
    "start_time": "2022-09-02T09:35:47.335Z"
   },
   {
    "duration": 4,
    "start_time": "2022-09-02T09:35:47.548Z"
   },
   {
    "duration": 33,
    "start_time": "2022-09-02T09:35:47.553Z"
   },
   {
    "duration": 27,
    "start_time": "2022-09-02T09:35:47.588Z"
   },
   {
    "duration": 8,
    "start_time": "2022-09-02T09:35:47.617Z"
   },
   {
    "duration": 19,
    "start_time": "2022-09-02T09:35:47.628Z"
   },
   {
    "duration": 10,
    "start_time": "2022-09-02T09:35:47.649Z"
   },
   {
    "duration": 28,
    "start_time": "2022-09-02T09:35:47.661Z"
   },
   {
    "duration": 237,
    "start_time": "2022-09-02T09:35:47.691Z"
   },
   {
    "duration": 9,
    "start_time": "2022-09-02T09:35:47.930Z"
   },
   {
    "duration": 929,
    "start_time": "2022-09-02T09:35:47.940Z"
   },
   {
    "duration": 8,
    "start_time": "2022-09-02T09:35:48.871Z"
   },
   {
    "duration": 13,
    "start_time": "2022-09-02T09:35:48.882Z"
   },
   {
    "duration": 740,
    "start_time": "2022-09-02T09:35:48.897Z"
   },
   {
    "duration": 7,
    "start_time": "2022-09-02T09:35:49.639Z"
   },
   {
    "duration": 9,
    "start_time": "2022-09-02T09:35:49.648Z"
   },
   {
    "duration": 40,
    "start_time": "2022-09-02T09:35:49.658Z"
   },
   {
    "duration": 7,
    "start_time": "2022-09-02T09:35:49.699Z"
   },
   {
    "duration": 16,
    "start_time": "2022-09-02T09:35:49.708Z"
   },
   {
    "duration": 308,
    "start_time": "2022-09-02T09:35:49.726Z"
   },
   {
    "duration": 7,
    "start_time": "2022-09-02T09:35:50.036Z"
   },
   {
    "duration": 182,
    "start_time": "2022-09-02T09:39:06.374Z"
   },
   {
    "duration": 203,
    "start_time": "2022-09-02T09:39:50.978Z"
   },
   {
    "duration": 272,
    "start_time": "2022-09-02T09:40:58.665Z"
   },
   {
    "duration": 215,
    "start_time": "2022-09-02T09:41:22.449Z"
   },
   {
    "duration": 59,
    "start_time": "2022-09-02T09:43:39.550Z"
   },
   {
    "duration": 132,
    "start_time": "2022-09-02T09:43:46.331Z"
   },
   {
    "duration": 58,
    "start_time": "2022-09-02T09:43:55.697Z"
   },
   {
    "duration": 381,
    "start_time": "2022-09-02T09:44:48.215Z"
   },
   {
    "duration": 214,
    "start_time": "2022-09-02T09:45:20.950Z"
   },
   {
    "duration": 251,
    "start_time": "2022-09-02T09:45:26.275Z"
   },
   {
    "duration": 202,
    "start_time": "2022-09-02T09:45:34.699Z"
   },
   {
    "duration": 210,
    "start_time": "2022-09-02T09:45:47.828Z"
   },
   {
    "duration": 227,
    "start_time": "2022-09-02T09:45:51.874Z"
   },
   {
    "duration": 227,
    "start_time": "2022-09-02T09:46:33.736Z"
   },
   {
    "duration": 26,
    "start_time": "2022-09-02T09:55:19.174Z"
   },
   {
    "duration": 16,
    "start_time": "2022-09-02T09:56:01.624Z"
   },
   {
    "duration": 17,
    "start_time": "2022-09-02T09:56:12.259Z"
   },
   {
    "duration": 1160,
    "start_time": "2022-09-02T09:56:17.877Z"
   },
   {
    "duration": 66,
    "start_time": "2022-09-02T09:56:19.039Z"
   },
   {
    "duration": 21,
    "start_time": "2022-09-02T09:56:19.107Z"
   },
   {
    "duration": 10,
    "start_time": "2022-09-02T09:56:19.130Z"
   },
   {
    "duration": 22,
    "start_time": "2022-09-02T09:56:19.142Z"
   },
   {
    "duration": 4,
    "start_time": "2022-09-02T09:56:19.166Z"
   },
   {
    "duration": 18,
    "start_time": "2022-09-02T09:56:19.186Z"
   },
   {
    "duration": 9,
    "start_time": "2022-09-02T09:56:19.206Z"
   },
   {
    "duration": 192,
    "start_time": "2022-09-02T09:56:19.216Z"
   },
   {
    "duration": 11,
    "start_time": "2022-09-02T09:56:19.411Z"
   },
   {
    "duration": 125,
    "start_time": "2022-09-02T09:56:19.425Z"
   },
   {
    "duration": 14,
    "start_time": "2022-09-02T09:56:19.552Z"
   },
   {
    "duration": 236,
    "start_time": "2022-09-02T09:56:19.568Z"
   },
   {
    "duration": 15,
    "start_time": "2022-09-02T09:56:19.807Z"
   },
   {
    "duration": 369,
    "start_time": "2022-09-02T09:56:19.823Z"
   },
   {
    "duration": 14,
    "start_time": "2022-09-02T09:56:20.194Z"
   },
   {
    "duration": 237,
    "start_time": "2022-09-02T09:56:20.210Z"
   },
   {
    "duration": 5,
    "start_time": "2022-09-02T09:56:20.449Z"
   },
   {
    "duration": 31,
    "start_time": "2022-09-02T09:56:20.455Z"
   },
   {
    "duration": 20,
    "start_time": "2022-09-02T09:56:20.487Z"
   },
   {
    "duration": 8,
    "start_time": "2022-09-02T09:56:20.509Z"
   },
   {
    "duration": 20,
    "start_time": "2022-09-02T09:56:20.518Z"
   },
   {
    "duration": 11,
    "start_time": "2022-09-02T09:56:20.540Z"
   },
   {
    "duration": 37,
    "start_time": "2022-09-02T09:56:20.553Z"
   },
   {
    "duration": 229,
    "start_time": "2022-09-02T09:56:20.592Z"
   },
   {
    "duration": 10,
    "start_time": "2022-09-02T09:56:20.823Z"
   },
   {
    "duration": 1222,
    "start_time": "2022-09-02T09:56:20.835Z"
   },
   {
    "duration": 9,
    "start_time": "2022-09-02T09:56:22.059Z"
   },
   {
    "duration": 22,
    "start_time": "2022-09-02T09:56:22.070Z"
   },
   {
    "duration": 943,
    "start_time": "2022-09-02T09:56:22.095Z"
   },
   {
    "duration": 8,
    "start_time": "2022-09-02T09:56:23.039Z"
   },
   {
    "duration": 10,
    "start_time": "2022-09-02T09:56:23.048Z"
   },
   {
    "duration": 39,
    "start_time": "2022-09-02T09:56:23.059Z"
   },
   {
    "duration": 8,
    "start_time": "2022-09-02T09:56:23.100Z"
   },
   {
    "duration": 20,
    "start_time": "2022-09-02T09:56:23.109Z"
   },
   {
    "duration": 330,
    "start_time": "2022-09-02T09:56:23.130Z"
   },
   {
    "duration": 5,
    "start_time": "2022-09-02T09:56:23.462Z"
   },
   {
    "duration": 16,
    "start_time": "2022-09-02T09:57:42.280Z"
   },
   {
    "duration": 1152,
    "start_time": "2022-09-02T09:57:58.467Z"
   },
   {
    "duration": 67,
    "start_time": "2022-09-02T09:57:59.620Z"
   },
   {
    "duration": 22,
    "start_time": "2022-09-02T09:57:59.689Z"
   },
   {
    "duration": 10,
    "start_time": "2022-09-02T09:57:59.713Z"
   },
   {
    "duration": 27,
    "start_time": "2022-09-02T09:57:59.726Z"
   },
   {
    "duration": 12,
    "start_time": "2022-09-02T09:57:59.755Z"
   },
   {
    "duration": 33,
    "start_time": "2022-09-02T09:57:59.768Z"
   },
   {
    "duration": 11,
    "start_time": "2022-09-02T09:57:59.803Z"
   },
   {
    "duration": 184,
    "start_time": "2022-09-02T09:57:59.815Z"
   },
   {
    "duration": 11,
    "start_time": "2022-09-02T09:58:00.000Z"
   },
   {
    "duration": 115,
    "start_time": "2022-09-02T09:58:00.012Z"
   },
   {
    "duration": 15,
    "start_time": "2022-09-02T09:58:00.128Z"
   },
   {
    "duration": 233,
    "start_time": "2022-09-02T09:58:00.144Z"
   },
   {
    "duration": 19,
    "start_time": "2022-09-02T09:58:00.380Z"
   },
   {
    "duration": 331,
    "start_time": "2022-09-02T09:58:00.401Z"
   },
   {
    "duration": 13,
    "start_time": "2022-09-02T09:58:00.734Z"
   },
   {
    "duration": 225,
    "start_time": "2022-09-02T09:58:00.749Z"
   },
   {
    "duration": 4,
    "start_time": "2022-09-02T09:58:00.976Z"
   },
   {
    "duration": 30,
    "start_time": "2022-09-02T09:58:00.986Z"
   },
   {
    "duration": 62,
    "start_time": "2022-09-02T09:58:01.017Z"
   },
   {
    "duration": 22,
    "start_time": "2022-09-02T09:58:01.080Z"
   },
   {
    "duration": 59,
    "start_time": "2022-09-02T09:58:01.104Z"
   },
   {
    "duration": 53,
    "start_time": "2022-09-02T09:58:01.164Z"
   },
   {
    "duration": 46,
    "start_time": "2022-09-02T09:58:01.219Z"
   },
   {
    "duration": 273,
    "start_time": "2022-09-02T09:58:01.267Z"
   },
   {
    "duration": 9,
    "start_time": "2022-09-02T09:58:01.542Z"
   },
   {
    "duration": 1132,
    "start_time": "2022-09-02T09:58:01.553Z"
   },
   {
    "duration": 8,
    "start_time": "2022-09-02T09:58:02.687Z"
   },
   {
    "duration": 14,
    "start_time": "2022-09-02T09:58:02.697Z"
   },
   {
    "duration": 829,
    "start_time": "2022-09-02T09:58:02.712Z"
   },
   {
    "duration": 8,
    "start_time": "2022-09-02T09:58:03.543Z"
   },
   {
    "duration": 9,
    "start_time": "2022-09-02T09:58:03.553Z"
   },
   {
    "duration": 37,
    "start_time": "2022-09-02T09:58:03.563Z"
   },
   {
    "duration": 9,
    "start_time": "2022-09-02T09:58:03.601Z"
   },
   {
    "duration": 19,
    "start_time": "2022-09-02T09:58:03.612Z"
   },
   {
    "duration": 331,
    "start_time": "2022-09-02T09:58:03.632Z"
   },
   {
    "duration": 5,
    "start_time": "2022-09-02T09:58:03.965Z"
   },
   {
    "duration": 79,
    "start_time": "2022-09-02T10:01:36.218Z"
   },
   {
    "duration": 93,
    "start_time": "2022-09-02T10:01:40.780Z"
   },
   {
    "duration": 10,
    "start_time": "2022-09-02T10:01:45.305Z"
   },
   {
    "duration": 9,
    "start_time": "2022-09-02T10:03:07.600Z"
   },
   {
    "duration": 1002,
    "start_time": "2022-09-02T10:04:35.798Z"
   },
   {
    "duration": 871,
    "start_time": "2022-09-02T10:04:59.315Z"
   },
   {
    "duration": 5,
    "start_time": "2022-09-02T10:07:14.374Z"
   },
   {
    "duration": 694,
    "start_time": "2022-09-02T10:07:17.299Z"
   },
   {
    "duration": 549,
    "start_time": "2022-09-02T10:09:22.682Z"
   },
   {
    "duration": 678,
    "start_time": "2022-09-02T10:11:13.679Z"
   },
   {
    "duration": 590,
    "start_time": "2022-09-02T10:11:18.026Z"
   },
   {
    "duration": 693,
    "start_time": "2022-09-02T10:11:23.404Z"
   },
   {
    "duration": 568,
    "start_time": "2022-09-02T10:11:46.944Z"
   },
   {
    "duration": 584,
    "start_time": "2022-09-02T10:12:18.866Z"
   },
   {
    "duration": 661,
    "start_time": "2022-09-02T10:13:16.768Z"
   },
   {
    "duration": 550,
    "start_time": "2022-09-02T10:13:23.832Z"
   },
   {
    "duration": 623,
    "start_time": "2022-09-02T10:15:06.466Z"
   },
   {
    "duration": 542,
    "start_time": "2022-09-02T10:19:06.465Z"
   },
   {
    "duration": 11,
    "start_time": "2022-09-02T10:20:29.044Z"
   },
   {
    "duration": 4,
    "start_time": "2022-09-02T10:20:32.643Z"
   },
   {
    "duration": 738,
    "start_time": "2022-09-02T10:23:35.960Z"
   },
   {
    "duration": 373,
    "start_time": "2022-09-02T10:24:12.423Z"
   },
   {
    "duration": 568,
    "start_time": "2022-09-02T10:24:20.312Z"
   },
   {
    "duration": 604,
    "start_time": "2022-09-02T10:24:24.707Z"
   },
   {
    "duration": 808,
    "start_time": "2022-09-02T10:24:56.183Z"
   },
   {
    "duration": 589,
    "start_time": "2022-09-02T10:25:22.640Z"
   },
   {
    "duration": 586,
    "start_time": "2022-09-02T10:26:07.266Z"
   },
   {
    "duration": 596,
    "start_time": "2022-09-02T10:26:11.291Z"
   },
   {
    "duration": 740,
    "start_time": "2022-09-02T10:27:39.762Z"
   },
   {
    "duration": 611,
    "start_time": "2022-09-02T10:27:46.551Z"
   },
   {
    "duration": 615,
    "start_time": "2022-09-02T10:27:50.091Z"
   },
   {
    "duration": 583,
    "start_time": "2022-09-02T10:27:54.129Z"
   },
   {
    "duration": 759,
    "start_time": "2022-09-02T10:27:56.891Z"
   },
   {
    "duration": 576,
    "start_time": "2022-09-02T10:28:00.490Z"
   },
   {
    "duration": 608,
    "start_time": "2022-09-02T10:28:03.511Z"
   },
   {
    "duration": 706,
    "start_time": "2022-09-02T10:28:07.153Z"
   },
   {
    "duration": 616,
    "start_time": "2022-09-02T10:28:26.322Z"
   },
   {
    "duration": 1227,
    "start_time": "2022-09-02T10:30:36.960Z"
   },
   {
    "duration": 66,
    "start_time": "2022-09-02T10:30:38.188Z"
   },
   {
    "duration": 22,
    "start_time": "2022-09-02T10:30:38.256Z"
   },
   {
    "duration": 10,
    "start_time": "2022-09-02T10:30:38.279Z"
   },
   {
    "duration": 20,
    "start_time": "2022-09-02T10:30:38.291Z"
   },
   {
    "duration": 5,
    "start_time": "2022-09-02T10:30:38.312Z"
   },
   {
    "duration": 17,
    "start_time": "2022-09-02T10:30:38.319Z"
   },
   {
    "duration": 9,
    "start_time": "2022-09-02T10:30:38.338Z"
   },
   {
    "duration": 180,
    "start_time": "2022-09-02T10:30:38.348Z"
   },
   {
    "duration": 8,
    "start_time": "2022-09-02T10:30:38.531Z"
   },
   {
    "duration": 106,
    "start_time": "2022-09-02T10:30:38.541Z"
   },
   {
    "duration": 13,
    "start_time": "2022-09-02T10:30:38.649Z"
   },
   {
    "duration": 225,
    "start_time": "2022-09-02T10:30:38.664Z"
   },
   {
    "duration": 14,
    "start_time": "2022-09-02T10:30:38.891Z"
   },
   {
    "duration": 2,
    "start_time": "2022-09-02T10:30:38.907Z"
   },
   {
    "duration": 985,
    "start_time": "2022-09-02T10:30:38.910Z"
   },
   {
    "duration": 12,
    "start_time": "2022-09-02T10:30:39.896Z"
   },
   {
    "duration": 228,
    "start_time": "2022-09-02T10:30:39.909Z"
   },
   {
    "duration": 4,
    "start_time": "2022-09-02T10:30:40.139Z"
   },
   {
    "duration": 22,
    "start_time": "2022-09-02T10:30:40.145Z"
   },
   {
    "duration": 32,
    "start_time": "2022-09-02T10:30:40.169Z"
   },
   {
    "duration": 8,
    "start_time": "2022-09-02T10:30:40.203Z"
   },
   {
    "duration": 26,
    "start_time": "2022-09-02T10:30:40.212Z"
   },
   {
    "duration": 11,
    "start_time": "2022-09-02T10:30:40.240Z"
   },
   {
    "duration": 34,
    "start_time": "2022-09-02T10:30:40.253Z"
   },
   {
    "duration": 232,
    "start_time": "2022-09-02T10:30:40.289Z"
   },
   {
    "duration": 10,
    "start_time": "2022-09-02T10:30:40.523Z"
   },
   {
    "duration": 1682,
    "start_time": "2022-09-02T10:30:40.536Z"
   },
   {
    "duration": 8,
    "start_time": "2022-09-02T10:30:42.219Z"
   },
   {
    "duration": 15,
    "start_time": "2022-09-02T10:30:42.229Z"
   },
   {
    "duration": 975,
    "start_time": "2022-09-02T10:30:42.245Z"
   },
   {
    "duration": 8,
    "start_time": "2022-09-02T10:30:43.222Z"
   },
   {
    "duration": 6,
    "start_time": "2022-09-02T10:30:43.232Z"
   },
   {
    "duration": 38,
    "start_time": "2022-09-02T10:30:43.240Z"
   },
   {
    "duration": 7,
    "start_time": "2022-09-02T10:30:43.279Z"
   },
   {
    "duration": 17,
    "start_time": "2022-09-02T10:30:43.288Z"
   },
   {
    "duration": 291,
    "start_time": "2022-09-02T10:30:43.307Z"
   },
   {
    "duration": 5,
    "start_time": "2022-09-02T10:30:43.600Z"
   },
   {
    "duration": 4,
    "start_time": "2022-09-02T10:31:10.680Z"
   },
   {
    "duration": 691,
    "start_time": "2022-09-02T10:40:21.879Z"
   },
   {
    "duration": 646,
    "start_time": "2022-09-02T10:40:36.171Z"
   },
   {
    "duration": 6,
    "start_time": "2022-09-02T10:50:18.356Z"
   },
   {
    "duration": 112,
    "start_time": "2022-09-02T10:50:44.686Z"
   },
   {
    "duration": 674,
    "start_time": "2022-09-02T10:51:10.348Z"
   },
   {
    "duration": 5,
    "start_time": "2022-09-02T10:51:14.633Z"
   },
   {
    "duration": 615,
    "start_time": "2022-09-02T10:59:21.979Z"
   },
   {
    "duration": 5,
    "start_time": "2022-09-02T11:00:56.253Z"
   },
   {
    "duration": 8,
    "start_time": "2022-09-02T11:00:59.922Z"
   },
   {
    "duration": 18,
    "start_time": "2022-09-02T11:03:18.516Z"
   },
   {
    "duration": 498,
    "start_time": "2022-09-02T11:03:27.414Z"
   },
   {
    "duration": 294,
    "start_time": "2022-09-02T11:03:33.651Z"
   },
   {
    "duration": 218,
    "start_time": "2022-09-02T11:03:40.393Z"
   },
   {
    "duration": 209,
    "start_time": "2022-09-02T11:03:45.847Z"
   },
   {
    "duration": 8,
    "start_time": "2022-09-02T11:04:07.205Z"
   },
   {
    "duration": 210,
    "start_time": "2022-09-02T11:06:35.271Z"
   },
   {
    "duration": 205,
    "start_time": "2022-09-02T11:06:38.338Z"
   },
   {
    "duration": 59,
    "start_time": "2022-09-02T11:07:23.414Z"
   },
   {
    "duration": 1149,
    "start_time": "2022-09-02T11:59:47.173Z"
   },
   {
    "duration": 67,
    "start_time": "2022-09-02T11:59:48.324Z"
   },
   {
    "duration": 25,
    "start_time": "2022-09-02T11:59:48.393Z"
   },
   {
    "duration": 11,
    "start_time": "2022-09-02T11:59:48.421Z"
   },
   {
    "duration": 24,
    "start_time": "2022-09-02T11:59:48.434Z"
   },
   {
    "duration": 4,
    "start_time": "2022-09-02T11:59:48.460Z"
   },
   {
    "duration": 41,
    "start_time": "2022-09-02T11:59:48.466Z"
   },
   {
    "duration": 14,
    "start_time": "2022-09-02T11:59:48.509Z"
   },
   {
    "duration": 191,
    "start_time": "2022-09-02T11:59:48.525Z"
   },
   {
    "duration": 9,
    "start_time": "2022-09-02T11:59:48.719Z"
   },
   {
    "duration": 107,
    "start_time": "2022-09-02T11:59:48.729Z"
   },
   {
    "duration": 16,
    "start_time": "2022-09-02T11:59:48.838Z"
   },
   {
    "duration": 238,
    "start_time": "2022-09-02T11:59:48.856Z"
   },
   {
    "duration": 16,
    "start_time": "2022-09-02T11:59:49.096Z"
   },
   {
    "duration": 7,
    "start_time": "2022-09-02T11:59:49.114Z"
   },
   {
    "duration": 601,
    "start_time": "2022-09-02T11:59:49.123Z"
   },
   {
    "duration": 11,
    "start_time": "2022-09-02T11:59:49.726Z"
   },
   {
    "duration": 221,
    "start_time": "2022-09-02T11:59:49.739Z"
   },
   {
    "duration": 4,
    "start_time": "2022-09-02T11:59:49.961Z"
   },
   {
    "duration": 28,
    "start_time": "2022-09-02T11:59:49.966Z"
   },
   {
    "duration": 22,
    "start_time": "2022-09-02T11:59:49.995Z"
   },
   {
    "duration": 8,
    "start_time": "2022-09-02T11:59:50.019Z"
   },
   {
    "duration": 34,
    "start_time": "2022-09-02T11:59:50.029Z"
   },
   {
    "duration": 25,
    "start_time": "2022-09-02T11:59:50.066Z"
   },
   {
    "duration": 10,
    "start_time": "2022-09-02T11:59:50.093Z"
   },
   {
    "duration": 311,
    "start_time": "2022-09-02T11:59:50.105Z"
   },
   {
    "duration": 11,
    "start_time": "2022-09-02T11:59:50.418Z"
   },
   {
    "duration": 1436,
    "start_time": "2022-09-02T11:59:50.432Z"
   },
   {
    "duration": 8,
    "start_time": "2022-09-02T11:59:51.870Z"
   },
   {
    "duration": 16,
    "start_time": "2022-09-02T11:59:51.879Z"
   },
   {
    "duration": 966,
    "start_time": "2022-09-02T11:59:51.897Z"
   },
   {
    "duration": 8,
    "start_time": "2022-09-02T11:59:52.864Z"
   },
   {
    "duration": 19,
    "start_time": "2022-09-02T11:59:52.873Z"
   },
   {
    "duration": 39,
    "start_time": "2022-09-02T11:59:52.893Z"
   },
   {
    "duration": 9,
    "start_time": "2022-09-02T11:59:52.933Z"
   },
   {
    "duration": 24,
    "start_time": "2022-09-02T11:59:52.943Z"
   },
   {
    "duration": 314,
    "start_time": "2022-09-02T11:59:52.969Z"
   },
   {
    "duration": 7,
    "start_time": "2022-09-02T11:59:53.284Z"
   },
   {
    "duration": 14,
    "start_time": "2022-09-02T11:59:53.292Z"
   },
   {
    "duration": 232,
    "start_time": "2022-09-02T11:59:53.308Z"
   },
   {
    "duration": 1112,
    "start_time": "2022-09-02T18:23:42.298Z"
   },
   {
    "duration": 254,
    "start_time": "2022-09-02T18:23:43.411Z"
   },
   {
    "duration": 21,
    "start_time": "2022-09-02T18:23:43.667Z"
   },
   {
    "duration": 10,
    "start_time": "2022-09-02T18:23:43.689Z"
   },
   {
    "duration": 19,
    "start_time": "2022-09-02T18:23:43.700Z"
   },
   {
    "duration": 4,
    "start_time": "2022-09-02T18:23:43.720Z"
   },
   {
    "duration": 18,
    "start_time": "2022-09-02T18:23:43.726Z"
   },
   {
    "duration": 9,
    "start_time": "2022-09-02T18:23:43.745Z"
   },
   {
    "duration": 180,
    "start_time": "2022-09-02T18:23:43.756Z"
   },
   {
    "duration": 9,
    "start_time": "2022-09-02T18:23:43.938Z"
   },
   {
    "duration": 110,
    "start_time": "2022-09-02T18:23:43.948Z"
   },
   {
    "duration": 15,
    "start_time": "2022-09-02T18:23:44.059Z"
   },
   {
    "duration": 224,
    "start_time": "2022-09-02T18:23:44.076Z"
   },
   {
    "duration": 14,
    "start_time": "2022-09-02T18:23:44.301Z"
   },
   {
    "duration": 4,
    "start_time": "2022-09-02T18:23:44.316Z"
   },
   {
    "duration": 608,
    "start_time": "2022-09-02T18:23:44.321Z"
   },
   {
    "duration": 13,
    "start_time": "2022-09-02T18:23:44.931Z"
   },
   {
    "duration": 210,
    "start_time": "2022-09-02T18:23:44.946Z"
   },
   {
    "duration": 4,
    "start_time": "2022-09-02T18:23:45.158Z"
   },
   {
    "duration": 26,
    "start_time": "2022-09-02T18:23:45.164Z"
   },
   {
    "duration": 40,
    "start_time": "2022-09-02T18:23:45.191Z"
   },
   {
    "duration": 8,
    "start_time": "2022-09-02T18:23:45.233Z"
   },
   {
    "duration": 27,
    "start_time": "2022-09-02T18:23:45.242Z"
   },
   {
    "duration": 10,
    "start_time": "2022-09-02T18:23:45.271Z"
   },
   {
    "duration": 6,
    "start_time": "2022-09-02T18:23:45.282Z"
   },
   {
    "duration": 278,
    "start_time": "2022-09-02T18:23:45.289Z"
   },
   {
    "duration": 9,
    "start_time": "2022-09-02T18:23:45.568Z"
   },
   {
    "duration": 1471,
    "start_time": "2022-09-02T18:23:45.581Z"
   },
   {
    "duration": 8,
    "start_time": "2022-09-02T18:23:47.054Z"
   },
   {
    "duration": 13,
    "start_time": "2022-09-02T18:23:47.064Z"
   },
   {
    "duration": 876,
    "start_time": "2022-09-02T18:23:47.078Z"
   },
   {
    "duration": 7,
    "start_time": "2022-09-02T18:23:47.956Z"
   },
   {
    "duration": 5,
    "start_time": "2022-09-02T18:23:47.964Z"
   },
   {
    "duration": 34,
    "start_time": "2022-09-02T18:23:47.970Z"
   },
   {
    "duration": 9,
    "start_time": "2022-09-02T18:23:48.006Z"
   },
   {
    "duration": 16,
    "start_time": "2022-09-02T18:23:48.016Z"
   },
   {
    "duration": 269,
    "start_time": "2022-09-02T18:23:48.034Z"
   },
   {
    "duration": 5,
    "start_time": "2022-09-02T18:23:48.304Z"
   },
   {
    "duration": 11,
    "start_time": "2022-09-02T18:23:48.310Z"
   },
   {
    "duration": 214,
    "start_time": "2022-09-02T18:23:48.323Z"
   }
  ],
  "kernelspec": {
   "display_name": "Python 3 (ipykernel)",
   "language": "python",
   "name": "python3"
  },
  "language_info": {
   "codemirror_mode": {
    "name": "ipython",
    "version": 3
   },
   "file_extension": ".py",
   "mimetype": "text/x-python",
   "name": "python",
   "nbconvert_exporter": "python",
   "pygments_lexer": "ipython3",
   "version": "3.9.12"
  },
  "toc": {
   "base_numbering": 1,
   "nav_menu": {},
   "number_sections": true,
   "sideBar": true,
   "skip_h1_title": true,
   "title_cell": "Table of Contents",
   "title_sidebar": "Contents",
   "toc_cell": false,
   "toc_position": {},
   "toc_section_display": true,
   "toc_window_display": true
  }
 },
 "nbformat": 4,
 "nbformat_minor": 2
}
