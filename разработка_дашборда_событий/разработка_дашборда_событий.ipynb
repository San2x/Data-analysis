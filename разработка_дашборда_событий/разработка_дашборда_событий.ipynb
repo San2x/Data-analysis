{
 "cells": [
  {
   "cell_type": "markdown",
   "id": "a04a842e",
   "metadata": {},
   "source": [
    "# Разработка дашборда событий для агрегатора новостей"
   ]
  },
  {
   "cell_type": "markdown",
   "id": "96d05cf7",
   "metadata": {},
   "source": [
    "Аналитика в Яндекс.Дзене строится на базе пользовательских взаимодействий с карточками статей.\n",
    "Каждую карточку определяют её тема и источник. Пользователей системы также характеризует возрастная категория. \n",
    "\n",
    "Необходимо разработать дашборд, отвечающий на следующие вопросы:\n",
    "- Сколько взаимодействий пользователей с карточками происходит в системе с разбивкой по темам карточек?\n",
    "- Как много карточек генерируют источники с разными темами?\n",
    "- Как соотносятся темы карточек и темы источников?\n",
    "\n",
    "Дашборд будет основываться на пайплайне, который будет брать данные из таблицы, в которых хранятся сырые данные, трансформировать данные и сохранять в итоговую таблицу."
   ]
  },
  {
   "cell_type": "markdown",
   "id": "12e60245",
   "metadata": {},
   "source": [
    "## Получение данных"
   ]
  },
  {
   "cell_type": "markdown",
   "id": "f5f8e498",
   "metadata": {},
   "source": [
    "Для начала подключимся к базе данных, импортировав нужные библиотеки."
   ]
  },
  {
   "cell_type": "code",
   "execution_count": 1,
   "id": "bfbb68aa",
   "metadata": {},
   "outputs": [],
   "source": [
    "# импортируем необходимые библиотеки\n",
    "import pandas as pd\n",
    "from sqlalchemy import create_engine"
   ]
  },
  {
   "cell_type": "code",
   "execution_count": 2,
   "id": "42e15e99",
   "metadata": {},
   "outputs": [],
   "source": [
    "# создаем коннекцию к базе данных\n",
    "db_config = {'user': 'praktikum_student', # имя пользователя\n",
    "            'pwd': 'Sdf4$2;d-d30pp', # пароль\n",
    "            'host': 'rc1b-wcoijxj3yxfsf3fs.mdb.yandexcloud.net',\n",
    "            'port': 6432, # порт подключения\n",
    "            'db': 'data-analyst-zen-project-db'} # название базы данных\n",
    "\n",
    "connection_string = 'postgresql://{}:{}@{}:{}/{}'.format(db_config['user'],\n",
    "                                                db_config['pwd'],\n",
    "                                                db_config['host'],\n",
    "                                                db_config['port'],\n",
    "                                                db_config['db'])\n",
    "\n",
    "engine = create_engine(connection_string)"
   ]
  },
  {
   "cell_type": "markdown",
   "id": "62a5e724",
   "metadata": {},
   "source": [
    "Затем подготовим sql-запрос."
   ]
  },
  {
   "cell_type": "code",
   "execution_count": 3,
   "id": "c6df0399",
   "metadata": {},
   "outputs": [],
   "source": [
    "# задаем sql-запрос\n",
    "query = 'SELECT * FROM dash_visits'\n",
    "\n",
    "import "
   ]
  },
  {
   "cell_type": "code",
   "execution_count": 4,
   "id": "67de8f41",
   "metadata": {},
   "outputs": [],
   "source": [
    "# выполняем sql-запрос и записываем результат в переменную data\n",
    "data = pd.io.sql.read_sql(query, con = engine) "
   ]
  },
  {
   "cell_type": "markdown",
   "id": "193ddee8",
   "metadata": {},
   "source": [
    "Посмотрим на результат."
   ]
  },
  {
   "cell_type": "code",
   "execution_count": 6,
   "id": "5185a06a",
   "metadata": {},
   "outputs": [
    {
     "name": "stdout",
     "output_type": "stream",
     "text": [
      "<class 'pandas.core.frame.DataFrame'>\n",
      "RangeIndex: 30745 entries, 0 to 30744\n",
      "Data columns (total 6 columns):\n",
      " #   Column        Non-Null Count  Dtype         \n",
      "---  ------        --------------  -----         \n",
      " 0   record_id     30745 non-null  int64         \n",
      " 1   item_topic    30745 non-null  object        \n",
      " 2   source_topic  30745 non-null  object        \n",
      " 3   age_segment   30745 non-null  object        \n",
      " 4   dt            30745 non-null  datetime64[ns]\n",
      " 5   visits        30745 non-null  int64         \n",
      "dtypes: datetime64[ns](1), int64(2), object(3)\n",
      "memory usage: 1.4+ MB\n"
     ]
    },
    {
     "data": {
      "text/html": [
       "<div>\n",
       "<style scoped>\n",
       "    .dataframe tbody tr th:only-of-type {\n",
       "        vertical-align: middle;\n",
       "    }\n",
       "\n",
       "    .dataframe tbody tr th {\n",
       "        vertical-align: top;\n",
       "    }\n",
       "\n",
       "    .dataframe thead th {\n",
       "        text-align: right;\n",
       "    }\n",
       "</style>\n",
       "<table border=\"1\" class=\"dataframe\">\n",
       "  <thead>\n",
       "    <tr style=\"text-align: right;\">\n",
       "      <th></th>\n",
       "      <th>record_id</th>\n",
       "      <th>item_topic</th>\n",
       "      <th>source_topic</th>\n",
       "      <th>age_segment</th>\n",
       "      <th>dt</th>\n",
       "      <th>visits</th>\n",
       "    </tr>\n",
       "  </thead>\n",
       "  <tbody>\n",
       "    <tr>\n",
       "      <th>0</th>\n",
       "      <td>1040597</td>\n",
       "      <td>Деньги</td>\n",
       "      <td>Авто</td>\n",
       "      <td>18-25</td>\n",
       "      <td>2019-09-24 18:32:00</td>\n",
       "      <td>3</td>\n",
       "    </tr>\n",
       "    <tr>\n",
       "      <th>1</th>\n",
       "      <td>1040598</td>\n",
       "      <td>Деньги</td>\n",
       "      <td>Авто</td>\n",
       "      <td>18-25</td>\n",
       "      <td>2019-09-24 18:35:00</td>\n",
       "      <td>1</td>\n",
       "    </tr>\n",
       "    <tr>\n",
       "      <th>2</th>\n",
       "      <td>1040599</td>\n",
       "      <td>Деньги</td>\n",
       "      <td>Авто</td>\n",
       "      <td>18-25</td>\n",
       "      <td>2019-09-24 18:54:00</td>\n",
       "      <td>4</td>\n",
       "    </tr>\n",
       "    <tr>\n",
       "      <th>3</th>\n",
       "      <td>1040600</td>\n",
       "      <td>Деньги</td>\n",
       "      <td>Авто</td>\n",
       "      <td>18-25</td>\n",
       "      <td>2019-09-24 18:55:00</td>\n",
       "      <td>17</td>\n",
       "    </tr>\n",
       "    <tr>\n",
       "      <th>4</th>\n",
       "      <td>1040601</td>\n",
       "      <td>Деньги</td>\n",
       "      <td>Авто</td>\n",
       "      <td>18-25</td>\n",
       "      <td>2019-09-24 18:56:00</td>\n",
       "      <td>27</td>\n",
       "    </tr>\n",
       "  </tbody>\n",
       "</table>\n",
       "</div>"
      ],
      "text/plain": [
       "   record_id item_topic source_topic age_segment                  dt  visits\n",
       "0    1040597     Деньги         Авто       18-25 2019-09-24 18:32:00       3\n",
       "1    1040598     Деньги         Авто       18-25 2019-09-24 18:35:00       1\n",
       "2    1040599     Деньги         Авто       18-25 2019-09-24 18:54:00       4\n",
       "3    1040600     Деньги         Авто       18-25 2019-09-24 18:55:00      17\n",
       "4    1040601     Деньги         Авто       18-25 2019-09-24 18:56:00      27"
      ]
     },
     "execution_count": 6,
     "metadata": {},
     "output_type": "execute_result"
    }
   ],
   "source": [
    "# выводим основную информацию\n",
    "data.info()\n",
    "data.head()"
   ]
  },
  {
   "cell_type": "markdown",
   "id": "25e57cc6",
   "metadata": {},
   "source": [
    "Полученная таблица содержит все необходимое для дальнейшей работы."
   ]
  },
  {
   "cell_type": "markdown",
   "id": "59271372",
   "metadata": {},
   "source": [
    "## Обработка данных"
   ]
  },
  {
   "cell_type": "markdown",
   "id": "0b8506fb",
   "metadata": {},
   "source": [
    "Сгруппируем полученные данные по дате, темам и возрастному сегменту."
   ]
  },
  {
   "cell_type": "code",
   "execution_count": 7,
   "id": "f5879471",
   "metadata": {},
   "outputs": [
    {
     "data": {
      "text/html": [
       "<div>\n",
       "<style scoped>\n",
       "    .dataframe tbody tr th:only-of-type {\n",
       "        vertical-align: middle;\n",
       "    }\n",
       "\n",
       "    .dataframe tbody tr th {\n",
       "        vertical-align: top;\n",
       "    }\n",
       "\n",
       "    .dataframe thead th {\n",
       "        text-align: right;\n",
       "    }\n",
       "</style>\n",
       "<table border=\"1\" class=\"dataframe\">\n",
       "  <thead>\n",
       "    <tr style=\"text-align: right;\">\n",
       "      <th></th>\n",
       "      <th></th>\n",
       "      <th></th>\n",
       "      <th></th>\n",
       "      <th>visits</th>\n",
       "    </tr>\n",
       "    <tr>\n",
       "      <th>item_topic</th>\n",
       "      <th>dt</th>\n",
       "      <th>source_topic</th>\n",
       "      <th>age_segment</th>\n",
       "      <th></th>\n",
       "    </tr>\n",
       "  </thead>\n",
       "  <tbody>\n",
       "    <tr>\n",
       "      <th rowspan=\"5\" valign=\"top\">Деньги</th>\n",
       "      <th rowspan=\"5\" valign=\"top\">2019-09-24 18:28:00</th>\n",
       "      <th>Деньги</th>\n",
       "      <th>36-40</th>\n",
       "      <td>1</td>\n",
       "    </tr>\n",
       "    <tr>\n",
       "      <th rowspan=\"4\" valign=\"top\">Дети</th>\n",
       "      <th>18-25</th>\n",
       "      <td>1</td>\n",
       "    </tr>\n",
       "    <tr>\n",
       "      <th>31-35</th>\n",
       "      <td>1</td>\n",
       "    </tr>\n",
       "    <tr>\n",
       "      <th>36-40</th>\n",
       "      <td>1</td>\n",
       "    </tr>\n",
       "    <tr>\n",
       "      <th>41-45</th>\n",
       "      <td>1</td>\n",
       "    </tr>\n",
       "    <tr>\n",
       "      <th>...</th>\n",
       "      <th>...</th>\n",
       "      <th>...</th>\n",
       "      <th>...</th>\n",
       "      <td>...</td>\n",
       "    </tr>\n",
       "    <tr>\n",
       "      <th rowspan=\"5\" valign=\"top\">Юмор</th>\n",
       "      <th rowspan=\"5\" valign=\"top\">2019-09-24 19:00:00</th>\n",
       "      <th rowspan=\"2\" valign=\"top\">Строительство</th>\n",
       "      <th>26-30</th>\n",
       "      <td>1</td>\n",
       "    </tr>\n",
       "    <tr>\n",
       "      <th>45+</th>\n",
       "      <td>1</td>\n",
       "    </tr>\n",
       "    <tr>\n",
       "      <th>Технологии</th>\n",
       "      <th>31-35</th>\n",
       "      <td>1</td>\n",
       "    </tr>\n",
       "    <tr>\n",
       "      <th rowspan=\"2\" valign=\"top\">Финансы</th>\n",
       "      <th>36-40</th>\n",
       "      <td>1</td>\n",
       "    </tr>\n",
       "    <tr>\n",
       "      <th>41-45</th>\n",
       "      <td>1</td>\n",
       "    </tr>\n",
       "  </tbody>\n",
       "</table>\n",
       "<p>30745 rows × 1 columns</p>\n",
       "</div>"
      ],
      "text/plain": [
       "                                                          visits\n",
       "item_topic dt                  source_topic  age_segment        \n",
       "Деньги     2019-09-24 18:28:00 Деньги        36-40             1\n",
       "                               Дети          18-25             1\n",
       "                                             31-35             1\n",
       "                                             36-40             1\n",
       "                                             41-45             1\n",
       "...                                                          ...\n",
       "Юмор       2019-09-24 19:00:00 Строительство 26-30             1\n",
       "                                             45+               1\n",
       "                               Технологии    31-35             1\n",
       "                               Финансы       36-40             1\n",
       "                                             41-45             1\n",
       "\n",
       "[30745 rows x 1 columns]"
      ]
     },
     "execution_count": 7,
     "metadata": {},
     "output_type": "execute_result"
    }
   ],
   "source": [
    "# считаем сумму \"визитов\" в группировке по дате, темам карточки/источника и возрастному сегменту\n",
    "data_grouped = data.groupby(['item_topic', 'dt', 'source_topic', 'age_segment']).agg({'visits': 'sum'})\n",
    "\n",
    "data_grouped "
   ]
  },
  {
   "cell_type": "markdown",
   "id": "0d812612",
   "metadata": {},
   "source": [
    "Сохраним полученные данные в csv-файл."
   ]
  },
  {
   "cell_type": "code",
   "execution_count": 8,
   "id": "214d3292",
   "metadata": {},
   "outputs": [],
   "source": [
    "# записываем данные в файл \"dash_visits.csv\"\n",
    "data_grouped.to_csv('dash_visits.csv')"
   ]
  },
  {
   "cell_type": "code",
   "execution_count": 9,
   "id": "a04a9824",
   "metadata": {},
   "outputs": [
    {
     "data": {
      "text/plain": [
       "310207"
      ]
     },
     "execution_count": 9,
     "metadata": {},
     "output_type": "execute_result"
    }
   ],
   "source": [
    "# для проверки считаем сумму числа событий\n",
    "data_grouped['visits'].sum()"
   ]
  },
  {
   "cell_type": "markdown",
   "id": "2f2a0a8c",
   "metadata": {},
   "source": [
    "Дальнейшая обработка данных из файла осуществляется в Tableau Publiс. \n",
    "\n",
    "Полученный дашборд доступен по ссылке: https://public.tableau.com/app/profile/bazedius/viz/Eventsdashboard/sheet4?publish=yes "
   ]
  }
 ],
 "metadata": {
  "kernelspec": {
   "display_name": "Python 3 (ipykernel)",
   "language": "python",
   "name": "python3"
  },
  "language_info": {
   "codemirror_mode": {
    "name": "ipython",
    "version": 3
   },
   "file_extension": ".py",
   "mimetype": "text/x-python",
   "name": "python",
   "nbconvert_exporter": "python",
   "pygments_lexer": "ipython3",
   "version": "3.9.12"
  }
 },
 "nbformat": 4,
 "nbformat_minor": 5
}
