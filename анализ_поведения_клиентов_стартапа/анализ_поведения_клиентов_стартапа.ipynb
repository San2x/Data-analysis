{
 "cells": [
  {
   "cell_type": "markdown",
   "metadata": {},
   "source": [
    "# Исследование поведения клиентов стартапа"
   ]
  },
  {
   "cell_type": "markdown",
   "metadata": {},
   "source": [
    "Некоторый стартап продает продукты питания через мобильное приложение. Необходимо разобраться, как ведут себя пользователи данного мобильного приложения, в частности:\n",
    "- Изучить воронку продаж, чтобы узнать, как пользователи доходят до покупки. Сколько пользователей доходит до покупки, а сколько — «застревает» на предыдущих шагах? На каких именно?\n",
    "- Исследовать результаты A/A/B-эксперимента. Дизайнеры предложили поменять шрифты во всём приложении, а менеджеры опасаются, что пользователям это будет непривычно. Для проведения теста пользователей разбили на 3 группы: 2 контрольные со старыми шрифтами и одну экспериментальную — с новыми. Требуется выяснить, какой шрифт лучше."
   ]
  },
  {
   "cell_type": "markdown",
   "metadata": {},
   "source": [
    "# Часть 1. Загрузка и подготовка данных"
   ]
  },
  {
   "cell_type": "markdown",
   "metadata": {},
   "source": [
    "Для начала загрузим необходимые библиотеки и файлы."
   ]
  },
  {
   "cell_type": "code",
   "execution_count": 1,
   "metadata": {},
   "outputs": [],
   "source": [
    "# загружаем библиотеки\n",
    "import pandas as pd\n",
    "import matplotlib.pyplot as plt\n",
    "from datetime import datetime as dt\n",
    "import scipy.stats as stats\n",
    "import math as mth"
   ]
  },
  {
   "cell_type": "code",
   "execution_count": 2,
   "metadata": {},
   "outputs": [],
   "source": [
    "# считываем файл с данными\n",
    "data = pd.read_csv('/datasets/logs_exp.csv', sep='\\t')"
   ]
  },
  {
   "cell_type": "code",
   "execution_count": 3,
   "metadata": {},
   "outputs": [
    {
     "name": "stdout",
     "output_type": "stream",
     "text": [
      "<class 'pandas.core.frame.DataFrame'>\n",
      "RangeIndex: 244126 entries, 0 to 244125\n",
      "Data columns (total 4 columns):\n",
      " #   Column          Non-Null Count   Dtype \n",
      "---  ------          --------------   ----- \n",
      " 0   EventName       244126 non-null  object\n",
      " 1   DeviceIDHash    244126 non-null  int64 \n",
      " 2   EventTimestamp  244126 non-null  int64 \n",
      " 3   ExpId           244126 non-null  int64 \n",
      "dtypes: int64(3), object(1)\n",
      "memory usage: 7.5+ MB\n"
     ]
    },
    {
     "data": {
      "text/html": [
       "<div>\n",
       "<style scoped>\n",
       "    .dataframe tbody tr th:only-of-type {\n",
       "        vertical-align: middle;\n",
       "    }\n",
       "\n",
       "    .dataframe tbody tr th {\n",
       "        vertical-align: top;\n",
       "    }\n",
       "\n",
       "    .dataframe thead th {\n",
       "        text-align: right;\n",
       "    }\n",
       "</style>\n",
       "<table border=\"1\" class=\"dataframe\">\n",
       "  <thead>\n",
       "    <tr style=\"text-align: right;\">\n",
       "      <th></th>\n",
       "      <th>EventName</th>\n",
       "      <th>DeviceIDHash</th>\n",
       "      <th>EventTimestamp</th>\n",
       "      <th>ExpId</th>\n",
       "    </tr>\n",
       "  </thead>\n",
       "  <tbody>\n",
       "    <tr>\n",
       "      <th>0</th>\n",
       "      <td>MainScreenAppear</td>\n",
       "      <td>4575588528974610257</td>\n",
       "      <td>1564029816</td>\n",
       "      <td>246</td>\n",
       "    </tr>\n",
       "    <tr>\n",
       "      <th>1</th>\n",
       "      <td>MainScreenAppear</td>\n",
       "      <td>7416695313311560658</td>\n",
       "      <td>1564053102</td>\n",
       "      <td>246</td>\n",
       "    </tr>\n",
       "    <tr>\n",
       "      <th>2</th>\n",
       "      <td>PaymentScreenSuccessful</td>\n",
       "      <td>3518123091307005509</td>\n",
       "      <td>1564054127</td>\n",
       "      <td>248</td>\n",
       "    </tr>\n",
       "    <tr>\n",
       "      <th>3</th>\n",
       "      <td>CartScreenAppear</td>\n",
       "      <td>3518123091307005509</td>\n",
       "      <td>1564054127</td>\n",
       "      <td>248</td>\n",
       "    </tr>\n",
       "    <tr>\n",
       "      <th>4</th>\n",
       "      <td>PaymentScreenSuccessful</td>\n",
       "      <td>6217807653094995999</td>\n",
       "      <td>1564055322</td>\n",
       "      <td>248</td>\n",
       "    </tr>\n",
       "  </tbody>\n",
       "</table>\n",
       "</div>"
      ],
      "text/plain": [
       "                 EventName         DeviceIDHash  EventTimestamp  ExpId\n",
       "0         MainScreenAppear  4575588528974610257      1564029816    246\n",
       "1         MainScreenAppear  7416695313311560658      1564053102    246\n",
       "2  PaymentScreenSuccessful  3518123091307005509      1564054127    248\n",
       "3         CartScreenAppear  3518123091307005509      1564054127    248\n",
       "4  PaymentScreenSuccessful  6217807653094995999      1564055322    248"
      ]
     },
     "execution_count": 3,
     "metadata": {},
     "output_type": "execute_result"
    }
   ],
   "source": [
    "# выводим основную информацию\n",
    "data.info()\n",
    "data.head()"
   ]
  },
  {
   "cell_type": "markdown",
   "metadata": {},
   "source": [
    "Названия столбцов представлены не в самом удобном виде. Исправим это."
   ]
  },
  {
   "cell_type": "code",
   "execution_count": 4,
   "metadata": {},
   "outputs": [],
   "source": [
    "# меняем названия столбцов\n",
    "data = data.rename(columns={'EventName': 'event_name', 'DeviceIDHash': 'user_id', 'EventTimestamp': 'timestamp', 'ExpId': 'group'})"
   ]
  },
  {
   "cell_type": "markdown",
   "metadata": {},
   "source": [
    "Также получим дату и время в подходящем формате на основе временной метки."
   ]
  },
  {
   "cell_type": "code",
   "execution_count": 5,
   "metadata": {},
   "outputs": [],
   "source": [
    "# записываем дату и время в отельный столбец\n",
    "data['date_time']= pd.to_datetime(data['timestamp'], unit='s')\n",
    "\n",
    "# дополнительно выделяем дату\n",
    "data['date'] = pd.to_datetime(data['date_time']).dt.date"
   ]
  },
  {
   "cell_type": "markdown",
   "metadata": {},
   "source": [
    "Дополнительно проверим данные на дубликаты."
   ]
  },
  {
   "cell_type": "code",
   "execution_count": 6,
   "metadata": {},
   "outputs": [
    {
     "data": {
      "text/plain": [
       "413"
      ]
     },
     "execution_count": 6,
     "metadata": {},
     "output_type": "execute_result"
    }
   ],
   "source": [
    "# считаем количество дубликатов\n",
    "data.duplicated().sum()"
   ]
  },
  {
   "cell_type": "markdown",
   "metadata": {},
   "source": [
    "Было обнаружено 413 повторных записей, предлагается избавиться от них."
   ]
  },
  {
   "cell_type": "code",
   "execution_count": 7,
   "metadata": {},
   "outputs": [],
   "source": [
    "# устраняем дубликаты\n",
    "data = data.drop_duplicates()"
   ]
  },
  {
   "cell_type": "markdown",
   "metadata": {},
   "source": [
    "Также проверим, не попали ли одни и те же пользователи в несколько контрольных/экспериментальных групп."
   ]
  },
  {
   "cell_type": "code",
   "execution_count": 8,
   "metadata": {},
   "outputs": [],
   "source": [
    "# разделяем пользователей по группам\n",
    "group_246 = data[data['group'] == 246]['user_id']\n",
    "group_247 = data[data['group'] == 247]['user_id']\n",
    "group_248 = data[data['group'] == 248]['user_id']"
   ]
  },
  {
   "cell_type": "code",
   "execution_count": 9,
   "metadata": {},
   "outputs": [
    {
     "data": {
      "text/plain": [
       "[]"
      ]
     },
     "execution_count": 9,
     "metadata": {},
     "output_type": "execute_result"
    }
   ],
   "source": [
    "# составляем для каждой группы списки пользователей, присутствующих в других группах\n",
    "double_users_246 = [x for x in group_246 if (x in group_247 or x in group_248)]\n",
    "double_users_247 = [x for x in group_247 if (x in group_246 or x in group_248)]\n",
    "double_users_248 = [x for x in group_248 if (x in group_246 or x in group_247)]\n",
    "\n",
    "# объединяем списки\n",
    "doubles = double_users_246 + double_users_247 + double_users_248\n",
    "\n",
    "doubles"
   ]
  },
  {
   "cell_type": "markdown",
   "metadata": {},
   "source": [
    "Список повторяющихся пользователей пуст, значит группы составлены без \"пересечений\"."
   ]
  },
  {
   "cell_type": "markdown",
   "metadata": {},
   "source": [
    "Проверим внесенные изменения."
   ]
  },
  {
   "cell_type": "code",
   "execution_count": 10,
   "metadata": {},
   "outputs": [
    {
     "name": "stdout",
     "output_type": "stream",
     "text": [
      "<class 'pandas.core.frame.DataFrame'>\n",
      "Int64Index: 243713 entries, 0 to 244125\n",
      "Data columns (total 6 columns):\n",
      " #   Column      Non-Null Count   Dtype         \n",
      "---  ------      --------------   -----         \n",
      " 0   event_name  243713 non-null  object        \n",
      " 1   user_id     243713 non-null  int64         \n",
      " 2   timestamp   243713 non-null  int64         \n",
      " 3   group       243713 non-null  int64         \n",
      " 4   date_time   243713 non-null  datetime64[ns]\n",
      " 5   date        243713 non-null  object        \n",
      "dtypes: datetime64[ns](1), int64(3), object(2)\n",
      "memory usage: 13.0+ MB\n"
     ]
    },
    {
     "data": {
      "text/html": [
       "<div>\n",
       "<style scoped>\n",
       "    .dataframe tbody tr th:only-of-type {\n",
       "        vertical-align: middle;\n",
       "    }\n",
       "\n",
       "    .dataframe tbody tr th {\n",
       "        vertical-align: top;\n",
       "    }\n",
       "\n",
       "    .dataframe thead th {\n",
       "        text-align: right;\n",
       "    }\n",
       "</style>\n",
       "<table border=\"1\" class=\"dataframe\">\n",
       "  <thead>\n",
       "    <tr style=\"text-align: right;\">\n",
       "      <th></th>\n",
       "      <th>event_name</th>\n",
       "      <th>user_id</th>\n",
       "      <th>timestamp</th>\n",
       "      <th>group</th>\n",
       "      <th>date_time</th>\n",
       "      <th>date</th>\n",
       "    </tr>\n",
       "  </thead>\n",
       "  <tbody>\n",
       "    <tr>\n",
       "      <th>0</th>\n",
       "      <td>MainScreenAppear</td>\n",
       "      <td>4575588528974610257</td>\n",
       "      <td>1564029816</td>\n",
       "      <td>246</td>\n",
       "      <td>2019-07-25 04:43:36</td>\n",
       "      <td>2019-07-25</td>\n",
       "    </tr>\n",
       "    <tr>\n",
       "      <th>1</th>\n",
       "      <td>MainScreenAppear</td>\n",
       "      <td>7416695313311560658</td>\n",
       "      <td>1564053102</td>\n",
       "      <td>246</td>\n",
       "      <td>2019-07-25 11:11:42</td>\n",
       "      <td>2019-07-25</td>\n",
       "    </tr>\n",
       "    <tr>\n",
       "      <th>2</th>\n",
       "      <td>PaymentScreenSuccessful</td>\n",
       "      <td>3518123091307005509</td>\n",
       "      <td>1564054127</td>\n",
       "      <td>248</td>\n",
       "      <td>2019-07-25 11:28:47</td>\n",
       "      <td>2019-07-25</td>\n",
       "    </tr>\n",
       "    <tr>\n",
       "      <th>3</th>\n",
       "      <td>CartScreenAppear</td>\n",
       "      <td>3518123091307005509</td>\n",
       "      <td>1564054127</td>\n",
       "      <td>248</td>\n",
       "      <td>2019-07-25 11:28:47</td>\n",
       "      <td>2019-07-25</td>\n",
       "    </tr>\n",
       "    <tr>\n",
       "      <th>4</th>\n",
       "      <td>PaymentScreenSuccessful</td>\n",
       "      <td>6217807653094995999</td>\n",
       "      <td>1564055322</td>\n",
       "      <td>248</td>\n",
       "      <td>2019-07-25 11:48:42</td>\n",
       "      <td>2019-07-25</td>\n",
       "    </tr>\n",
       "  </tbody>\n",
       "</table>\n",
       "</div>"
      ],
      "text/plain": [
       "                event_name              user_id   timestamp  group  \\\n",
       "0         MainScreenAppear  4575588528974610257  1564029816    246   \n",
       "1         MainScreenAppear  7416695313311560658  1564053102    246   \n",
       "2  PaymentScreenSuccessful  3518123091307005509  1564054127    248   \n",
       "3         CartScreenAppear  3518123091307005509  1564054127    248   \n",
       "4  PaymentScreenSuccessful  6217807653094995999  1564055322    248   \n",
       "\n",
       "            date_time        date  \n",
       "0 2019-07-25 04:43:36  2019-07-25  \n",
       "1 2019-07-25 11:11:42  2019-07-25  \n",
       "2 2019-07-25 11:28:47  2019-07-25  \n",
       "3 2019-07-25 11:28:47  2019-07-25  \n",
       "4 2019-07-25 11:48:42  2019-07-25  "
      ]
     },
     "execution_count": 10,
     "metadata": {},
     "output_type": "execute_result"
    }
   ],
   "source": [
    "# выводим основную информацию\n",
    "data.info()\n",
    "data.head()"
   ]
  },
  {
   "cell_type": "markdown",
   "metadata": {},
   "source": [
    "Названия столбцов были успешно изменены, а дата и время записаны в корректном формате."
   ]
  },
  {
   "cell_type": "markdown",
   "metadata": {},
   "source": [
    "# Часть 2. Изучение и проверка данных"
   ]
  },
  {
   "cell_type": "markdown",
   "metadata": {},
   "source": [
    "В первую очередь посмотрим, сколько событий содержится в логе (их количество соответствует количеству записей)."
   ]
  },
  {
   "cell_type": "code",
   "execution_count": 11,
   "metadata": {},
   "outputs": [
    {
     "data": {
      "text/plain": [
       "243713"
      ]
     },
     "execution_count": 11,
     "metadata": {},
     "output_type": "execute_result"
    }
   ],
   "source": [
    "# считаем число событий\n",
    "events_count = len(data)\n",
    "\n",
    "events_count"
   ]
  },
  {
   "cell_type": "markdown",
   "metadata": {},
   "source": [
    "Теперь определим число пользователей."
   ]
  },
  {
   "cell_type": "code",
   "execution_count": 12,
   "metadata": {},
   "outputs": [
    {
     "data": {
      "text/plain": [
       "7551"
      ]
     },
     "execution_count": 12,
     "metadata": {},
     "output_type": "execute_result"
    }
   ],
   "source": [
    "# считаем число пользователей\n",
    "users_count = data['user_id'].nunique()\n",
    "\n",
    "users_count"
   ]
  },
  {
   "cell_type": "markdown",
   "metadata": {},
   "source": [
    "Зная два предыдущих числа можно посчитать, сколько в среднем событий приходится на одного пользователя."
   ]
  },
  {
   "cell_type": "code",
   "execution_count": 13,
   "metadata": {},
   "outputs": [
    {
     "data": {
      "text/plain": [
       "32.27559263673685"
      ]
     },
     "execution_count": 13,
     "metadata": {},
     "output_type": "execute_result"
    }
   ],
   "source": [
    "# считаем среднее число событий на пользователя\n",
    "events_count/users_count"
   ]
  },
  {
   "cell_type": "markdown",
   "metadata": {},
   "source": [
    "Далее найдем период времени, данными за который мы располагаем."
   ]
  },
  {
   "cell_type": "code",
   "execution_count": 14,
   "metadata": {},
   "outputs": [
    {
     "data": {
      "text/plain": [
       "datetime.date(2019, 7, 25)"
      ]
     },
     "execution_count": 14,
     "metadata": {},
     "output_type": "execute_result"
    }
   ],
   "source": [
    "# находим минимальную дату \n",
    "data['date'].min()"
   ]
  },
  {
   "cell_type": "code",
   "execution_count": 15,
   "metadata": {},
   "outputs": [
    {
     "data": {
      "text/plain": [
       "datetime.date(2019, 8, 7)"
      ]
     },
     "execution_count": 15,
     "metadata": {},
     "output_type": "execute_result"
    }
   ],
   "source": [
    "# находим максимальную дату \n",
    "data['date'].max()"
   ]
  },
  {
   "cell_type": "markdown",
   "metadata": {},
   "source": [
    "Данные имеются за период с 25 июля по 7 августа, то есть за две недели. Однако мы не можем быть уверенными, что данные являются полными за весь указанный период. Посмотрим на их распределение по дате и времени."
   ]
  },
  {
   "cell_type": "code",
   "execution_count": 16,
   "metadata": {},
   "outputs": [
    {
     "data": {
      "image/png": "[encoded data removed]",
      "text/plain": [
       "<Figure size 1152x432 with 1 Axes>"
      ]
     },
     "metadata": {
      "needs_background": "light"
     },
     "output_type": "display_data"
    }
   ],
   "source": [
    "# строим гистограмму \n",
    "fig = plt.figure(figsize = (16, 6))\n",
    "data['date_time'].hist(bins=14)\n",
    "plt.ylabel('число событий', fontsize=14)\n",
    "plt.title('Распределение событий по дате и времени', fontsize=18)\n",
    "plt.show()"
   ]
  },
  {
   "cell_type": "markdown",
   "metadata": {},
   "source": [
    "Исходя из графика, мы видим, что полноценные данные в достаточном объеме имеются только за вторую неделю (с 1 по 7 августа)."
   ]
  },
  {
   "cell_type": "markdown",
   "metadata": {},
   "source": [
    "Сделаем соответствующий срез данных, оставив только записи за август."
   ]
  },
  {
   "cell_type": "code",
   "execution_count": 17,
   "metadata": {},
   "outputs": [],
   "source": [
    "# оставляем только записи после 1-го августа\n",
    "data = data[data['date'] >= dt.strptime(\"08/01/19\", \"%m/%d/%y\").date()]"
   ]
  },
  {
   "cell_type": "markdown",
   "metadata": {},
   "source": [
    "Проверим внесенные изменения."
   ]
  },
  {
   "cell_type": "code",
   "execution_count": 18,
   "metadata": {},
   "outputs": [
    {
     "name": "stdout",
     "output_type": "stream",
     "text": [
      "<class 'pandas.core.frame.DataFrame'>\n",
      "Int64Index: 240887 entries, 2828 to 244125\n",
      "Data columns (total 6 columns):\n",
      " #   Column      Non-Null Count   Dtype         \n",
      "---  ------      --------------   -----         \n",
      " 0   event_name  240887 non-null  object        \n",
      " 1   user_id     240887 non-null  int64         \n",
      " 2   timestamp   240887 non-null  int64         \n",
      " 3   group       240887 non-null  int64         \n",
      " 4   date_time   240887 non-null  datetime64[ns]\n",
      " 5   date        240887 non-null  object        \n",
      "dtypes: datetime64[ns](1), int64(3), object(2)\n",
      "memory usage: 12.9+ MB\n"
     ]
    },
    {
     "data": {
      "text/html": [
       "<div>\n",
       "<style scoped>\n",
       "    .dataframe tbody tr th:only-of-type {\n",
       "        vertical-align: middle;\n",
       "    }\n",
       "\n",
       "    .dataframe tbody tr th {\n",
       "        vertical-align: top;\n",
       "    }\n",
       "\n",
       "    .dataframe thead th {\n",
       "        text-align: right;\n",
       "    }\n",
       "</style>\n",
       "<table border=\"1\" class=\"dataframe\">\n",
       "  <thead>\n",
       "    <tr style=\"text-align: right;\">\n",
       "      <th></th>\n",
       "      <th>event_name</th>\n",
       "      <th>user_id</th>\n",
       "      <th>timestamp</th>\n",
       "      <th>group</th>\n",
       "      <th>date_time</th>\n",
       "      <th>date</th>\n",
       "    </tr>\n",
       "  </thead>\n",
       "  <tbody>\n",
       "    <tr>\n",
       "      <th>2828</th>\n",
       "      <td>Tutorial</td>\n",
       "      <td>3737462046622621720</td>\n",
       "      <td>1564618048</td>\n",
       "      <td>246</td>\n",
       "      <td>2019-08-01 00:07:28</td>\n",
       "      <td>2019-08-01</td>\n",
       "    </tr>\n",
       "    <tr>\n",
       "      <th>2829</th>\n",
       "      <td>MainScreenAppear</td>\n",
       "      <td>3737462046622621720</td>\n",
       "      <td>1564618080</td>\n",
       "      <td>246</td>\n",
       "      <td>2019-08-01 00:08:00</td>\n",
       "      <td>2019-08-01</td>\n",
       "    </tr>\n",
       "    <tr>\n",
       "      <th>2830</th>\n",
       "      <td>MainScreenAppear</td>\n",
       "      <td>3737462046622621720</td>\n",
       "      <td>1564618135</td>\n",
       "      <td>246</td>\n",
       "      <td>2019-08-01 00:08:55</td>\n",
       "      <td>2019-08-01</td>\n",
       "    </tr>\n",
       "    <tr>\n",
       "      <th>2831</th>\n",
       "      <td>OffersScreenAppear</td>\n",
       "      <td>3737462046622621720</td>\n",
       "      <td>1564618138</td>\n",
       "      <td>246</td>\n",
       "      <td>2019-08-01 00:08:58</td>\n",
       "      <td>2019-08-01</td>\n",
       "    </tr>\n",
       "    <tr>\n",
       "      <th>2832</th>\n",
       "      <td>MainScreenAppear</td>\n",
       "      <td>1433840883824088890</td>\n",
       "      <td>1564618139</td>\n",
       "      <td>247</td>\n",
       "      <td>2019-08-01 00:08:59</td>\n",
       "      <td>2019-08-01</td>\n",
       "    </tr>\n",
       "  </tbody>\n",
       "</table>\n",
       "</div>"
      ],
      "text/plain": [
       "              event_name              user_id   timestamp  group  \\\n",
       "2828            Tutorial  3737462046622621720  1564618048    246   \n",
       "2829    MainScreenAppear  3737462046622621720  1564618080    246   \n",
       "2830    MainScreenAppear  3737462046622621720  1564618135    246   \n",
       "2831  OffersScreenAppear  3737462046622621720  1564618138    246   \n",
       "2832    MainScreenAppear  1433840883824088890  1564618139    247   \n",
       "\n",
       "               date_time        date  \n",
       "2828 2019-08-01 00:07:28  2019-08-01  \n",
       "2829 2019-08-01 00:08:00  2019-08-01  \n",
       "2830 2019-08-01 00:08:55  2019-08-01  \n",
       "2831 2019-08-01 00:08:58  2019-08-01  \n",
       "2832 2019-08-01 00:08:59  2019-08-01  "
      ]
     },
     "execution_count": 18,
     "metadata": {},
     "output_type": "execute_result"
    }
   ],
   "source": [
    "# выводим основную информацию\n",
    "data.info()\n",
    "data.head()"
   ]
  },
  {
   "cell_type": "markdown",
   "metadata": {},
   "source": [
    "Посчитаем, какое количество и процент событий (а также пользователей) мы потеряли."
   ]
  },
  {
   "cell_type": "code",
   "execution_count": 19,
   "metadata": {},
   "outputs": [
    {
     "name": "stdout",
     "output_type": "stream",
     "text": [
      "2826\n"
     ]
    },
    {
     "data": {
      "text/plain": [
       "1.159560630741896"
      ]
     },
     "execution_count": 19,
     "metadata": {},
     "output_type": "execute_result"
    }
   ],
   "source": [
    "# считаем потери событий\n",
    "print(events_count - len(data))\n",
    "(1 - len(data)/events_count)*100"
   ]
  },
  {
   "cell_type": "code",
   "execution_count": 20,
   "metadata": {},
   "outputs": [
    {
     "name": "stdout",
     "output_type": "stream",
     "text": [
      "17\n"
     ]
    },
    {
     "data": {
      "text/plain": [
       "0.22513574361011646"
      ]
     },
     "execution_count": 20,
     "metadata": {},
     "output_type": "execute_result"
    }
   ],
   "source": [
    "# считаем потери пользователей\n",
    "print(users_count - data['user_id'].nunique())\n",
    "(1 - data['user_id'].nunique()/users_count)*100"
   ]
  },
  {
   "cell_type": "markdown",
   "metadata": {},
   "source": [
    "Мы видим, что потери минимальны - на уровне около 1% или даже меньше."
   ]
  },
  {
   "cell_type": "markdown",
   "metadata": {},
   "source": [
    "Проверим также, что у нас остались записи из всех трех экспериментальных групп."
   ]
  },
  {
   "cell_type": "code",
   "execution_count": 21,
   "metadata": {},
   "outputs": [
    {
     "data": {
      "text/plain": [
       "79302"
      ]
     },
     "execution_count": 21,
     "metadata": {},
     "output_type": "execute_result"
    }
   ],
   "source": [
    "# считаем число событий в группе 246\n",
    "len(data[data['group'] == 246])"
   ]
  },
  {
   "cell_type": "code",
   "execution_count": 22,
   "metadata": {},
   "outputs": [
    {
     "data": {
      "text/plain": [
       "77022"
      ]
     },
     "execution_count": 22,
     "metadata": {},
     "output_type": "execute_result"
    }
   ],
   "source": [
    "# считаем число событий в группе 247\n",
    "len(data[data['group'] == 247])"
   ]
  },
  {
   "cell_type": "code",
   "execution_count": 23,
   "metadata": {},
   "outputs": [
    {
     "data": {
      "text/plain": [
       "84563"
      ]
     },
     "execution_count": 23,
     "metadata": {},
     "output_type": "execute_result"
    }
   ],
   "source": [
    "# считаем число событий в группе 248\n",
    "len(data[data['group'] == 248])"
   ]
  },
  {
   "cell_type": "markdown",
   "metadata": {},
   "source": [
    "Таким образом, в каждой из групп представлено порядка 80 тысяч записей."
   ]
  },
  {
   "cell_type": "markdown",
   "metadata": {},
   "source": [
    "# Часть 3. Построение воронки событий"
   ]
  },
  {
   "cell_type": "markdown",
   "metadata": {},
   "source": [
    "После очистки данных посмотрим, какие события и как часто могут встречаться в базе."
   ]
  },
  {
   "cell_type": "code",
   "execution_count": 24,
   "metadata": {},
   "outputs": [
    {
     "data": {
      "text/plain": [
       "MainScreenAppear           117328\n",
       "OffersScreenAppear          46333\n",
       "CartScreenAppear            42303\n",
       "PaymentScreenSuccessful     33918\n",
       "Tutorial                     1005\n",
       "Name: event_name, dtype: int64"
      ]
     },
     "execution_count": 24,
     "metadata": {},
     "output_type": "execute_result"
    }
   ],
   "source": [
    "# выводим названия и число возможных событий \n",
    "data['event_name'].value_counts()"
   ]
  },
  {
   "cell_type": "markdown",
   "metadata": {},
   "source": [
    "Итак, в данных представлены следующие события (в порядке убывания частоты):\n",
    "- открытие главной страницы приложения\n",
    "- открытие страницы с предложением товара\n",
    "- открытие страницы с \"корзиной\"\n",
    "- успешная оплата заказа\n",
    "- запуск обучения"
   ]
  },
  {
   "cell_type": "markdown",
   "metadata": {},
   "source": [
    "Посчитаем, сколько пользователей совершали каждое из представленных событий."
   ]
  },
  {
   "cell_type": "code",
   "execution_count": 25,
   "metadata": {},
   "outputs": [
    {
     "data": {
      "text/html": [
       "<div>\n",
       "<style scoped>\n",
       "    .dataframe tbody tr th:only-of-type {\n",
       "        vertical-align: middle;\n",
       "    }\n",
       "\n",
       "    .dataframe tbody tr th {\n",
       "        vertical-align: top;\n",
       "    }\n",
       "\n",
       "    .dataframe thead th {\n",
       "        text-align: right;\n",
       "    }\n",
       "</style>\n",
       "<table border=\"1\" class=\"dataframe\">\n",
       "  <thead>\n",
       "    <tr style=\"text-align: right;\">\n",
       "      <th></th>\n",
       "      <th>user_id</th>\n",
       "    </tr>\n",
       "    <tr>\n",
       "      <th>event_name</th>\n",
       "      <th></th>\n",
       "    </tr>\n",
       "  </thead>\n",
       "  <tbody>\n",
       "    <tr>\n",
       "      <th>MainScreenAppear</th>\n",
       "      <td>7419</td>\n",
       "    </tr>\n",
       "    <tr>\n",
       "      <th>OffersScreenAppear</th>\n",
       "      <td>4593</td>\n",
       "    </tr>\n",
       "    <tr>\n",
       "      <th>CartScreenAppear</th>\n",
       "      <td>3734</td>\n",
       "    </tr>\n",
       "    <tr>\n",
       "      <th>PaymentScreenSuccessful</th>\n",
       "      <td>3539</td>\n",
       "    </tr>\n",
       "    <tr>\n",
       "      <th>Tutorial</th>\n",
       "      <td>840</td>\n",
       "    </tr>\n",
       "  </tbody>\n",
       "</table>\n",
       "</div>"
      ],
      "text/plain": [
       "                         user_id\n",
       "event_name                      \n",
       "MainScreenAppear            7419\n",
       "OffersScreenAppear          4593\n",
       "CartScreenAppear            3734\n",
       "PaymentScreenSuccessful     3539\n",
       "Tutorial                     840"
      ]
     },
     "execution_count": 25,
     "metadata": {},
     "output_type": "execute_result"
    }
   ],
   "source": [
    "# группируем число уникальных пользователей по событиям с сортировкой\n",
    "data_grouped = data.groupby('event_name').agg({'user_id': 'nunique'}).sort_values(by='user_id', ascending=False)\n",
    "\n",
    "data_grouped"
   ]
  },
  {
   "cell_type": "markdown",
   "metadata": {},
   "source": [
    "Затем посчитаем долю пользователей, совершивших соответствующие события, поделив их число в каждом случае на общее количество уникальных пользователей."
   ]
  },
  {
   "cell_type": "code",
   "execution_count": 26,
   "metadata": {},
   "outputs": [
    {
     "data": {
      "text/html": [
       "<div>\n",
       "<style scoped>\n",
       "    .dataframe tbody tr th:only-of-type {\n",
       "        vertical-align: middle;\n",
       "    }\n",
       "\n",
       "    .dataframe tbody tr th {\n",
       "        vertical-align: top;\n",
       "    }\n",
       "\n",
       "    .dataframe thead th {\n",
       "        text-align: right;\n",
       "    }\n",
       "</style>\n",
       "<table border=\"1\" class=\"dataframe\">\n",
       "  <thead>\n",
       "    <tr style=\"text-align: right;\">\n",
       "      <th></th>\n",
       "      <th>user_id</th>\n",
       "      <th>user_part</th>\n",
       "    </tr>\n",
       "    <tr>\n",
       "      <th>event_name</th>\n",
       "      <th></th>\n",
       "      <th></th>\n",
       "    </tr>\n",
       "  </thead>\n",
       "  <tbody>\n",
       "    <tr>\n",
       "      <th>MainScreenAppear</th>\n",
       "      <td>7419</td>\n",
       "      <td>0.984736</td>\n",
       "    </tr>\n",
       "    <tr>\n",
       "      <th>OffersScreenAppear</th>\n",
       "      <td>4593</td>\n",
       "      <td>0.609636</td>\n",
       "    </tr>\n",
       "    <tr>\n",
       "      <th>CartScreenAppear</th>\n",
       "      <td>3734</td>\n",
       "      <td>0.495620</td>\n",
       "    </tr>\n",
       "    <tr>\n",
       "      <th>PaymentScreenSuccessful</th>\n",
       "      <td>3539</td>\n",
       "      <td>0.469737</td>\n",
       "    </tr>\n",
       "    <tr>\n",
       "      <th>Tutorial</th>\n",
       "      <td>840</td>\n",
       "      <td>0.111495</td>\n",
       "    </tr>\n",
       "  </tbody>\n",
       "</table>\n",
       "</div>"
      ],
      "text/plain": [
       "                         user_id  user_part\n",
       "event_name                                 \n",
       "MainScreenAppear            7419   0.984736\n",
       "OffersScreenAppear          4593   0.609636\n",
       "CartScreenAppear            3734   0.495620\n",
       "PaymentScreenSuccessful     3539   0.469737\n",
       "Tutorial                     840   0.111495"
      ]
     },
     "execution_count": 26,
     "metadata": {},
     "output_type": "execute_result"
    }
   ],
   "source": [
    "data_grouped['user_part'] = data_grouped['user_id']/data['user_id'].nunique()\n",
    "\n",
    "data_grouped"
   ]
  },
  {
   "cell_type": "markdown",
   "metadata": {},
   "source": [
    "Мы видим, что даже главную страницу посещают не все пользователи, а обучение проходит наименьшая их доля. Вероятно, пользователю изначально предлагается пройти обучение, либо сразу начать работу с приложением. В случае работы с приложением, остальные события, скорее всего, идут последовательно по убыванию доли пользователей."
   ]
  },
  {
   "cell_type": "markdown",
   "metadata": {},
   "source": [
    "Получается, что обучение следует исключить из воронки событий. После этого можно пересчитать долю пользователей на каждом шаге, относительно предыдущего, начиная с открытия главной страницы."
   ]
  },
  {
   "cell_type": "code",
   "execution_count": 27,
   "metadata": {},
   "outputs": [
    {
     "data": {
      "text/html": [
       "<div>\n",
       "<style scoped>\n",
       "    .dataframe tbody tr th:only-of-type {\n",
       "        vertical-align: middle;\n",
       "    }\n",
       "\n",
       "    .dataframe tbody tr th {\n",
       "        vertical-align: top;\n",
       "    }\n",
       "\n",
       "    .dataframe thead th {\n",
       "        text-align: right;\n",
       "    }\n",
       "</style>\n",
       "<table border=\"1\" class=\"dataframe\">\n",
       "  <thead>\n",
       "    <tr style=\"text-align: right;\">\n",
       "      <th></th>\n",
       "      <th>user_id</th>\n",
       "      <th>user_part</th>\n",
       "    </tr>\n",
       "    <tr>\n",
       "      <th>event_name</th>\n",
       "      <th></th>\n",
       "      <th></th>\n",
       "    </tr>\n",
       "  </thead>\n",
       "  <tbody>\n",
       "    <tr>\n",
       "      <th>MainScreenAppear</th>\n",
       "      <td>7419</td>\n",
       "      <td>1.000000</td>\n",
       "    </tr>\n",
       "    <tr>\n",
       "      <th>OffersScreenAppear</th>\n",
       "      <td>4593</td>\n",
       "      <td>0.619086</td>\n",
       "    </tr>\n",
       "    <tr>\n",
       "      <th>CartScreenAppear</th>\n",
       "      <td>3734</td>\n",
       "      <td>0.812976</td>\n",
       "    </tr>\n",
       "    <tr>\n",
       "      <th>PaymentScreenSuccessful</th>\n",
       "      <td>3539</td>\n",
       "      <td>0.947777</td>\n",
       "    </tr>\n",
       "  </tbody>\n",
       "</table>\n",
       "</div>"
      ],
      "text/plain": [
       "                         user_id  user_part\n",
       "event_name                                 \n",
       "MainScreenAppear            7419   1.000000\n",
       "OffersScreenAppear          4593   0.619086\n",
       "CartScreenAppear            3734   0.812976\n",
       "PaymentScreenSuccessful     3539   0.947777"
      ]
     },
     "execution_count": 27,
     "metadata": {},
     "output_type": "execute_result"
    }
   ],
   "source": [
    "# исключаем обучение из воронки событий\n",
    "data_grouped = pd.DataFrame(data_grouped.head(4))\n",
    "\n",
    "# считаем долю пользователей на каждом шаге\n",
    "data_grouped['user_part'] = data_grouped['user_id']/data_grouped['user_id'].shift()\n",
    "data_grouped = data_grouped.fillna(1)\n",
    "\n",
    "data_grouped"
   ]
  },
  {
   "cell_type": "markdown",
   "metadata": {},
   "source": [
    "Для наглядности также построим график."
   ]
  },
  {
   "cell_type": "code",
   "execution_count": 28,
   "metadata": {},
   "outputs": [
    {
     "data": {
      "image/png": "[encoded data removed]",
      "text/plain": [
       "<Figure size 864x432 with 1 Axes>"
      ]
     },
     "metadata": {
      "needs_background": "light"
     },
     "output_type": "display_data"
    }
   ],
   "source": [
    "# строим столбчатую диаграмму\n",
    "plt.rc('xtick', labelsize=12)\n",
    "plt.rc('ytick', labelsize=12) \n",
    "data_grouped.plot.barh(y='user_id', figsize = (12, 6), legend=None)\n",
    "plt.gca().invert_yaxis()\n",
    "plt.xlabel('число пользователей', fontsize=14)\n",
    "plt.ylabel('событие', fontsize=14)\n",
    "plt.title('Воронка событий продуктового приложения', fontsize=18)\n",
    "plt.show()"
   ]
  },
  {
   "cell_type": "markdown",
   "metadata": {},
   "source": [
    "И по графику и по расчетам видно, что большая часть пользователей теряется уже после первого события (при переходе от главной страницы к товарному предложению) - на этом этапе уходят почти 40% пользователей. Возможно, переход с главной страницы к выбору продуктов осуществляется не самым интуитивно-понятным способом или пользователей отпугивает навязчивая реклама?"
   ]
  },
  {
   "cell_type": "markdown",
   "metadata": {},
   "source": [
    "Дополнительно посчитаем, какая доля пользователей доходит от главной страницы до оплаты."
   ]
  },
  {
   "cell_type": "code",
   "execution_count": 29,
   "metadata": {},
   "outputs": [
    {
     "data": {
      "text/plain": [
       "0.47701846610055265"
      ]
     },
     "execution_count": 29,
     "metadata": {},
     "output_type": "execute_result"
    }
   ],
   "source": [
    "# считаем долю пользователей, прошедших все события\n",
    "first_last_part = data_grouped['user_id'].iat[-1]/data_grouped['user_id'].iat[0]\n",
    "\n",
    "first_last_part"
   ]
  },
  {
   "cell_type": "markdown",
   "metadata": {},
   "source": [
    "Таким образом, полный путь работы с приложением проходит менее половины пользователей."
   ]
  },
  {
   "cell_type": "markdown",
   "metadata": {},
   "source": [
    "# Часть 5. Исследование результатов эксперимента"
   ]
  },
  {
   "cell_type": "markdown",
   "metadata": {},
   "source": [
    "Выделим из общих данных контрольную группу 246. Посмотрим сводку информации по ней, а также посчитаем число уникальных пользователей этой группы."
   ]
  },
  {
   "cell_type": "code",
   "execution_count": 30,
   "metadata": {},
   "outputs": [
    {
     "name": "stdout",
     "output_type": "stream",
     "text": [
      "<class 'pandas.core.frame.DataFrame'>\n",
      "Int64Index: 79302 entries, 2828 to 244125\n",
      "Data columns (total 6 columns):\n",
      " #   Column      Non-Null Count  Dtype         \n",
      "---  ------      --------------  -----         \n",
      " 0   event_name  79302 non-null  object        \n",
      " 1   user_id     79302 non-null  int64         \n",
      " 2   timestamp   79302 non-null  int64         \n",
      " 3   group       79302 non-null  int64         \n",
      " 4   date_time   79302 non-null  datetime64[ns]\n",
      " 5   date        79302 non-null  object        \n",
      "dtypes: datetime64[ns](1), int64(3), object(2)\n",
      "memory usage: 4.2+ MB\n"
     ]
    },
    {
     "data": {
      "text/html": [
       "<div>\n",
       "<style scoped>\n",
       "    .dataframe tbody tr th:only-of-type {\n",
       "        vertical-align: middle;\n",
       "    }\n",
       "\n",
       "    .dataframe tbody tr th {\n",
       "        vertical-align: top;\n",
       "    }\n",
       "\n",
       "    .dataframe thead th {\n",
       "        text-align: right;\n",
       "    }\n",
       "</style>\n",
       "<table border=\"1\" class=\"dataframe\">\n",
       "  <thead>\n",
       "    <tr style=\"text-align: right;\">\n",
       "      <th></th>\n",
       "      <th>event_name</th>\n",
       "      <th>user_id</th>\n",
       "      <th>timestamp</th>\n",
       "      <th>group</th>\n",
       "      <th>date_time</th>\n",
       "      <th>date</th>\n",
       "    </tr>\n",
       "  </thead>\n",
       "  <tbody>\n",
       "    <tr>\n",
       "      <th>2828</th>\n",
       "      <td>Tutorial</td>\n",
       "      <td>3737462046622621720</td>\n",
       "      <td>1564618048</td>\n",
       "      <td>246</td>\n",
       "      <td>2019-08-01 00:07:28</td>\n",
       "      <td>2019-08-01</td>\n",
       "    </tr>\n",
       "    <tr>\n",
       "      <th>2829</th>\n",
       "      <td>MainScreenAppear</td>\n",
       "      <td>3737462046622621720</td>\n",
       "      <td>1564618080</td>\n",
       "      <td>246</td>\n",
       "      <td>2019-08-01 00:08:00</td>\n",
       "      <td>2019-08-01</td>\n",
       "    </tr>\n",
       "    <tr>\n",
       "      <th>2830</th>\n",
       "      <td>MainScreenAppear</td>\n",
       "      <td>3737462046622621720</td>\n",
       "      <td>1564618135</td>\n",
       "      <td>246</td>\n",
       "      <td>2019-08-01 00:08:55</td>\n",
       "      <td>2019-08-01</td>\n",
       "    </tr>\n",
       "    <tr>\n",
       "      <th>2831</th>\n",
       "      <td>OffersScreenAppear</td>\n",
       "      <td>3737462046622621720</td>\n",
       "      <td>1564618138</td>\n",
       "      <td>246</td>\n",
       "      <td>2019-08-01 00:08:58</td>\n",
       "      <td>2019-08-01</td>\n",
       "    </tr>\n",
       "    <tr>\n",
       "      <th>2834</th>\n",
       "      <td>OffersScreenAppear</td>\n",
       "      <td>3737462046622621720</td>\n",
       "      <td>1564618226</td>\n",
       "      <td>246</td>\n",
       "      <td>2019-08-01 00:10:26</td>\n",
       "      <td>2019-08-01</td>\n",
       "    </tr>\n",
       "  </tbody>\n",
       "</table>\n",
       "</div>"
      ],
      "text/plain": [
       "              event_name              user_id   timestamp  group  \\\n",
       "2828            Tutorial  3737462046622621720  1564618048    246   \n",
       "2829    MainScreenAppear  3737462046622621720  1564618080    246   \n",
       "2830    MainScreenAppear  3737462046622621720  1564618135    246   \n",
       "2831  OffersScreenAppear  3737462046622621720  1564618138    246   \n",
       "2834  OffersScreenAppear  3737462046622621720  1564618226    246   \n",
       "\n",
       "               date_time        date  \n",
       "2828 2019-08-01 00:07:28  2019-08-01  \n",
       "2829 2019-08-01 00:08:00  2019-08-01  \n",
       "2830 2019-08-01 00:08:55  2019-08-01  \n",
       "2831 2019-08-01 00:08:58  2019-08-01  \n",
       "2834 2019-08-01 00:10:26  2019-08-01  "
      ]
     },
     "execution_count": 30,
     "metadata": {},
     "output_type": "execute_result"
    }
   ],
   "source": [
    "# выделяем группу 246\n",
    "group_246 = data[data['group'] == 246]\n",
    "\n",
    "# выводим основную информацию\n",
    "group_246.info()\n",
    "group_246.head()"
   ]
  },
  {
   "cell_type": "code",
   "execution_count": 31,
   "metadata": {},
   "outputs": [
    {
     "data": {
      "text/plain": [
       "2484"
      ]
     },
     "execution_count": 31,
     "metadata": {},
     "output_type": "execute_result"
    }
   ],
   "source": [
    "# считаем число пользователей\n",
    "users_246 = len(group_246['user_id'].unique())\n",
    "\n",
    "users_246"
   ]
  },
  {
   "cell_type": "markdown",
   "metadata": {},
   "source": [
    "Аналогичным образом выделим контрольную группу 247 и посмотрим информацию по ней."
   ]
  },
  {
   "cell_type": "code",
   "execution_count": 32,
   "metadata": {},
   "outputs": [
    {
     "name": "stdout",
     "output_type": "stream",
     "text": [
      "<class 'pandas.core.frame.DataFrame'>\n",
      "Int64Index: 77022 entries, 2832 to 244121\n",
      "Data columns (total 6 columns):\n",
      " #   Column      Non-Null Count  Dtype         \n",
      "---  ------      --------------  -----         \n",
      " 0   event_name  77022 non-null  object        \n",
      " 1   user_id     77022 non-null  int64         \n",
      " 2   timestamp   77022 non-null  int64         \n",
      " 3   group       77022 non-null  int64         \n",
      " 4   date_time   77022 non-null  datetime64[ns]\n",
      " 5   date        77022 non-null  object        \n",
      "dtypes: datetime64[ns](1), int64(3), object(2)\n",
      "memory usage: 4.1+ MB\n"
     ]
    },
    {
     "data": {
      "text/html": [
       "<div>\n",
       "<style scoped>\n",
       "    .dataframe tbody tr th:only-of-type {\n",
       "        vertical-align: middle;\n",
       "    }\n",
       "\n",
       "    .dataframe tbody tr th {\n",
       "        vertical-align: top;\n",
       "    }\n",
       "\n",
       "    .dataframe thead th {\n",
       "        text-align: right;\n",
       "    }\n",
       "</style>\n",
       "<table border=\"1\" class=\"dataframe\">\n",
       "  <thead>\n",
       "    <tr style=\"text-align: right;\">\n",
       "      <th></th>\n",
       "      <th>event_name</th>\n",
       "      <th>user_id</th>\n",
       "      <th>timestamp</th>\n",
       "      <th>group</th>\n",
       "      <th>date_time</th>\n",
       "      <th>date</th>\n",
       "    </tr>\n",
       "  </thead>\n",
       "  <tbody>\n",
       "    <tr>\n",
       "      <th>2832</th>\n",
       "      <td>MainScreenAppear</td>\n",
       "      <td>1433840883824088890</td>\n",
       "      <td>1564618139</td>\n",
       "      <td>247</td>\n",
       "      <td>2019-08-01 00:08:59</td>\n",
       "      <td>2019-08-01</td>\n",
       "    </tr>\n",
       "    <tr>\n",
       "      <th>2833</th>\n",
       "      <td>MainScreenAppear</td>\n",
       "      <td>4899590676214355127</td>\n",
       "      <td>1564618215</td>\n",
       "      <td>247</td>\n",
       "      <td>2019-08-01 00:10:15</td>\n",
       "      <td>2019-08-01</td>\n",
       "    </tr>\n",
       "    <tr>\n",
       "      <th>2838</th>\n",
       "      <td>MainScreenAppear</td>\n",
       "      <td>4899590676214355127</td>\n",
       "      <td>1564618288</td>\n",
       "      <td>247</td>\n",
       "      <td>2019-08-01 00:11:28</td>\n",
       "      <td>2019-08-01</td>\n",
       "    </tr>\n",
       "    <tr>\n",
       "      <th>2839</th>\n",
       "      <td>OffersScreenAppear</td>\n",
       "      <td>4899590676214355127</td>\n",
       "      <td>1564618290</td>\n",
       "      <td>247</td>\n",
       "      <td>2019-08-01 00:11:30</td>\n",
       "      <td>2019-08-01</td>\n",
       "    </tr>\n",
       "    <tr>\n",
       "      <th>2843</th>\n",
       "      <td>OffersScreenAppear</td>\n",
       "      <td>4899590676214355127</td>\n",
       "      <td>1564618356</td>\n",
       "      <td>247</td>\n",
       "      <td>2019-08-01 00:12:36</td>\n",
       "      <td>2019-08-01</td>\n",
       "    </tr>\n",
       "  </tbody>\n",
       "</table>\n",
       "</div>"
      ],
      "text/plain": [
       "              event_name              user_id   timestamp  group  \\\n",
       "2832    MainScreenAppear  1433840883824088890  1564618139    247   \n",
       "2833    MainScreenAppear  4899590676214355127  1564618215    247   \n",
       "2838    MainScreenAppear  4899590676214355127  1564618288    247   \n",
       "2839  OffersScreenAppear  4899590676214355127  1564618290    247   \n",
       "2843  OffersScreenAppear  4899590676214355127  1564618356    247   \n",
       "\n",
       "               date_time        date  \n",
       "2832 2019-08-01 00:08:59  2019-08-01  \n",
       "2833 2019-08-01 00:10:15  2019-08-01  \n",
       "2838 2019-08-01 00:11:28  2019-08-01  \n",
       "2839 2019-08-01 00:11:30  2019-08-01  \n",
       "2843 2019-08-01 00:12:36  2019-08-01  "
      ]
     },
     "execution_count": 32,
     "metadata": {},
     "output_type": "execute_result"
    }
   ],
   "source": [
    "# выделяем группу 247\n",
    "group_247 = data[data['group'] == 247]\n",
    "\n",
    "# выводим основную информацию\n",
    "group_247.info()\n",
    "group_247.head()"
   ]
  },
  {
   "cell_type": "code",
   "execution_count": 33,
   "metadata": {},
   "outputs": [
    {
     "data": {
      "text/plain": [
       "2513"
      ]
     },
     "execution_count": 33,
     "metadata": {},
     "output_type": "execute_result"
    }
   ],
   "source": [
    "# считаем число пользователей\n",
    "users_247 = len(group_247['user_id'].unique())\n",
    "\n",
    "users_247"
   ]
  },
  {
   "cell_type": "markdown",
   "metadata": {},
   "source": [
    "Теперь посмотрим сколько раз совершал те или иные события каждый пользователь из группы 246. Для примера отдельно посчитаем число и долю пользователей, совершивших основное событие (открытие главной страницы) хотя бы один раз."
   ]
  },
  {
   "cell_type": "code",
   "execution_count": 34,
   "metadata": {},
   "outputs": [
    {
     "data": {
      "text/html": [
       "<div>\n",
       "<style scoped>\n",
       "    .dataframe tbody tr th:only-of-type {\n",
       "        vertical-align: middle;\n",
       "    }\n",
       "\n",
       "    .dataframe tbody tr th {\n",
       "        vertical-align: top;\n",
       "    }\n",
       "\n",
       "    .dataframe thead th {\n",
       "        text-align: right;\n",
       "    }\n",
       "</style>\n",
       "<table border=\"1\" class=\"dataframe\">\n",
       "  <thead>\n",
       "    <tr style=\"text-align: right;\">\n",
       "      <th>event_name</th>\n",
       "      <th>CartScreenAppear</th>\n",
       "      <th>MainScreenAppear</th>\n",
       "      <th>OffersScreenAppear</th>\n",
       "      <th>PaymentScreenSuccessful</th>\n",
       "      <th>Tutorial</th>\n",
       "    </tr>\n",
       "    <tr>\n",
       "      <th>user_id</th>\n",
       "      <th></th>\n",
       "      <th></th>\n",
       "      <th></th>\n",
       "      <th></th>\n",
       "      <th></th>\n",
       "    </tr>\n",
       "  </thead>\n",
       "  <tbody>\n",
       "    <tr>\n",
       "      <th>6888746892508752</th>\n",
       "      <td>NaN</td>\n",
       "      <td>1.0</td>\n",
       "      <td>NaN</td>\n",
       "      <td>NaN</td>\n",
       "      <td>NaN</td>\n",
       "    </tr>\n",
       "    <tr>\n",
       "      <th>6922444491712477</th>\n",
       "      <td>8.0</td>\n",
       "      <td>19.0</td>\n",
       "      <td>12.0</td>\n",
       "      <td>8.0</td>\n",
       "      <td>NaN</td>\n",
       "    </tr>\n",
       "    <tr>\n",
       "      <th>8740973466195562</th>\n",
       "      <td>NaN</td>\n",
       "      <td>8.0</td>\n",
       "      <td>1.0</td>\n",
       "      <td>NaN</td>\n",
       "      <td>NaN</td>\n",
       "    </tr>\n",
       "    <tr>\n",
       "      <th>12692216027168046</th>\n",
       "      <td>NaN</td>\n",
       "      <td>7.0</td>\n",
       "      <td>3.0</td>\n",
       "      <td>NaN</td>\n",
       "      <td>NaN</td>\n",
       "    </tr>\n",
       "    <tr>\n",
       "      <th>15708180189885246</th>\n",
       "      <td>38.0</td>\n",
       "      <td>27.0</td>\n",
       "      <td>38.0</td>\n",
       "      <td>23.0</td>\n",
       "      <td>NaN</td>\n",
       "    </tr>\n",
       "    <tr>\n",
       "      <th>...</th>\n",
       "      <td>...</td>\n",
       "      <td>...</td>\n",
       "      <td>...</td>\n",
       "      <td>...</td>\n",
       "      <td>...</td>\n",
       "    </tr>\n",
       "    <tr>\n",
       "      <th>9216094175241772920</th>\n",
       "      <td>NaN</td>\n",
       "      <td>2.0</td>\n",
       "      <td>NaN</td>\n",
       "      <td>NaN</td>\n",
       "      <td>NaN</td>\n",
       "    </tr>\n",
       "    <tr>\n",
       "      <th>9216369613838971606</th>\n",
       "      <td>4.0</td>\n",
       "      <td>15.0</td>\n",
       "      <td>3.0</td>\n",
       "      <td>1.0</td>\n",
       "      <td>NaN</td>\n",
       "    </tr>\n",
       "    <tr>\n",
       "      <th>9217594193087726423</th>\n",
       "      <td>3.0</td>\n",
       "      <td>NaN</td>\n",
       "      <td>3.0</td>\n",
       "      <td>3.0</td>\n",
       "      <td>NaN</td>\n",
       "    </tr>\n",
       "    <tr>\n",
       "      <th>9220879493065341500</th>\n",
       "      <td>1.0</td>\n",
       "      <td>4.0</td>\n",
       "      <td>1.0</td>\n",
       "      <td>NaN</td>\n",
       "      <td>NaN</td>\n",
       "    </tr>\n",
       "    <tr>\n",
       "      <th>9221926045299980007</th>\n",
       "      <td>NaN</td>\n",
       "      <td>7.0</td>\n",
       "      <td>NaN</td>\n",
       "      <td>NaN</td>\n",
       "      <td>NaN</td>\n",
       "    </tr>\n",
       "  </tbody>\n",
       "</table>\n",
       "<p>2484 rows × 5 columns</p>\n",
       "</div>"
      ],
      "text/plain": [
       "event_name           CartScreenAppear  MainScreenAppear  OffersScreenAppear  \\\n",
       "user_id                                                                       \n",
       "6888746892508752                  NaN               1.0                 NaN   \n",
       "6922444491712477                  8.0              19.0                12.0   \n",
       "8740973466195562                  NaN               8.0                 1.0   \n",
       "12692216027168046                 NaN               7.0                 3.0   \n",
       "15708180189885246                38.0              27.0                38.0   \n",
       "...                               ...               ...                 ...   \n",
       "9216094175241772920               NaN               2.0                 NaN   \n",
       "9216369613838971606               4.0              15.0                 3.0   \n",
       "9217594193087726423               3.0               NaN                 3.0   \n",
       "9220879493065341500               1.0               4.0                 1.0   \n",
       "9221926045299980007               NaN               7.0                 NaN   \n",
       "\n",
       "event_name           PaymentScreenSuccessful  Tutorial  \n",
       "user_id                                                 \n",
       "6888746892508752                         NaN       NaN  \n",
       "6922444491712477                         8.0       NaN  \n",
       "8740973466195562                         NaN       NaN  \n",
       "12692216027168046                        NaN       NaN  \n",
       "15708180189885246                       23.0       NaN  \n",
       "...                                      ...       ...  \n",
       "9216094175241772920                      NaN       NaN  \n",
       "9216369613838971606                      1.0       NaN  \n",
       "9217594193087726423                      3.0       NaN  \n",
       "9220879493065341500                      NaN       NaN  \n",
       "9221926045299980007                      NaN       NaN  \n",
       "\n",
       "[2484 rows x 5 columns]"
      ]
     },
     "execution_count": 34,
     "metadata": {},
     "output_type": "execute_result"
    }
   ],
   "source": [
    "# делаем сводную таблицу числа записей по пользователям и событиям в группе 246\n",
    "data_grouped_246 = pd.pivot_table(group_246, values='group', index='user_id', columns='event_name', aggfunc='count')\n",
    "                                  \n",
    "data_grouped_246"
   ]
  },
  {
   "cell_type": "code",
   "execution_count": 35,
   "metadata": {},
   "outputs": [
    {
     "data": {
      "text/html": [
       "<div>\n",
       "<style scoped>\n",
       "    .dataframe tbody tr th:only-of-type {\n",
       "        vertical-align: middle;\n",
       "    }\n",
       "\n",
       "    .dataframe tbody tr th {\n",
       "        vertical-align: top;\n",
       "    }\n",
       "\n",
       "    .dataframe thead th {\n",
       "        text-align: right;\n",
       "    }\n",
       "</style>\n",
       "<table border=\"1\" class=\"dataframe\">\n",
       "  <thead>\n",
       "    <tr style=\"text-align: right;\">\n",
       "      <th>event_name</th>\n",
       "      <th>CartScreenAppear</th>\n",
       "      <th>MainScreenAppear</th>\n",
       "      <th>OffersScreenAppear</th>\n",
       "      <th>PaymentScreenSuccessful</th>\n",
       "      <th>Tutorial</th>\n",
       "      <th>main_event</th>\n",
       "    </tr>\n",
       "    <tr>\n",
       "      <th>user_id</th>\n",
       "      <th></th>\n",
       "      <th></th>\n",
       "      <th></th>\n",
       "      <th></th>\n",
       "      <th></th>\n",
       "      <th></th>\n",
       "    </tr>\n",
       "  </thead>\n",
       "  <tbody>\n",
       "    <tr>\n",
       "      <th>6888746892508752</th>\n",
       "      <td>NaN</td>\n",
       "      <td>1.0</td>\n",
       "      <td>NaN</td>\n",
       "      <td>NaN</td>\n",
       "      <td>NaN</td>\n",
       "      <td>True</td>\n",
       "    </tr>\n",
       "    <tr>\n",
       "      <th>6922444491712477</th>\n",
       "      <td>8.0</td>\n",
       "      <td>19.0</td>\n",
       "      <td>12.0</td>\n",
       "      <td>8.0</td>\n",
       "      <td>NaN</td>\n",
       "      <td>True</td>\n",
       "    </tr>\n",
       "    <tr>\n",
       "      <th>8740973466195562</th>\n",
       "      <td>NaN</td>\n",
       "      <td>8.0</td>\n",
       "      <td>1.0</td>\n",
       "      <td>NaN</td>\n",
       "      <td>NaN</td>\n",
       "      <td>True</td>\n",
       "    </tr>\n",
       "    <tr>\n",
       "      <th>12692216027168046</th>\n",
       "      <td>NaN</td>\n",
       "      <td>7.0</td>\n",
       "      <td>3.0</td>\n",
       "      <td>NaN</td>\n",
       "      <td>NaN</td>\n",
       "      <td>True</td>\n",
       "    </tr>\n",
       "    <tr>\n",
       "      <th>15708180189885246</th>\n",
       "      <td>38.0</td>\n",
       "      <td>27.0</td>\n",
       "      <td>38.0</td>\n",
       "      <td>23.0</td>\n",
       "      <td>NaN</td>\n",
       "      <td>True</td>\n",
       "    </tr>\n",
       "    <tr>\n",
       "      <th>...</th>\n",
       "      <td>...</td>\n",
       "      <td>...</td>\n",
       "      <td>...</td>\n",
       "      <td>...</td>\n",
       "      <td>...</td>\n",
       "      <td>...</td>\n",
       "    </tr>\n",
       "    <tr>\n",
       "      <th>9216094175241772920</th>\n",
       "      <td>NaN</td>\n",
       "      <td>2.0</td>\n",
       "      <td>NaN</td>\n",
       "      <td>NaN</td>\n",
       "      <td>NaN</td>\n",
       "      <td>True</td>\n",
       "    </tr>\n",
       "    <tr>\n",
       "      <th>9216369613838971606</th>\n",
       "      <td>4.0</td>\n",
       "      <td>15.0</td>\n",
       "      <td>3.0</td>\n",
       "      <td>1.0</td>\n",
       "      <td>NaN</td>\n",
       "      <td>True</td>\n",
       "    </tr>\n",
       "    <tr>\n",
       "      <th>9217594193087726423</th>\n",
       "      <td>3.0</td>\n",
       "      <td>NaN</td>\n",
       "      <td>3.0</td>\n",
       "      <td>3.0</td>\n",
       "      <td>NaN</td>\n",
       "      <td>False</td>\n",
       "    </tr>\n",
       "    <tr>\n",
       "      <th>9220879493065341500</th>\n",
       "      <td>1.0</td>\n",
       "      <td>4.0</td>\n",
       "      <td>1.0</td>\n",
       "      <td>NaN</td>\n",
       "      <td>NaN</td>\n",
       "      <td>True</td>\n",
       "    </tr>\n",
       "    <tr>\n",
       "      <th>9221926045299980007</th>\n",
       "      <td>NaN</td>\n",
       "      <td>7.0</td>\n",
       "      <td>NaN</td>\n",
       "      <td>NaN</td>\n",
       "      <td>NaN</td>\n",
       "      <td>True</td>\n",
       "    </tr>\n",
       "  </tbody>\n",
       "</table>\n",
       "<p>2484 rows × 6 columns</p>\n",
       "</div>"
      ],
      "text/plain": [
       "event_name           CartScreenAppear  MainScreenAppear  OffersScreenAppear  \\\n",
       "user_id                                                                       \n",
       "6888746892508752                  NaN               1.0                 NaN   \n",
       "6922444491712477                  8.0              19.0                12.0   \n",
       "8740973466195562                  NaN               8.0                 1.0   \n",
       "12692216027168046                 NaN               7.0                 3.0   \n",
       "15708180189885246                38.0              27.0                38.0   \n",
       "...                               ...               ...                 ...   \n",
       "9216094175241772920               NaN               2.0                 NaN   \n",
       "9216369613838971606               4.0              15.0                 3.0   \n",
       "9217594193087726423               3.0               NaN                 3.0   \n",
       "9220879493065341500               1.0               4.0                 1.0   \n",
       "9221926045299980007               NaN               7.0                 NaN   \n",
       "\n",
       "event_name           PaymentScreenSuccessful  Tutorial  main_event  \n",
       "user_id                                                             \n",
       "6888746892508752                         NaN       NaN        True  \n",
       "6922444491712477                         8.0       NaN        True  \n",
       "8740973466195562                         NaN       NaN        True  \n",
       "12692216027168046                        NaN       NaN        True  \n",
       "15708180189885246                       23.0       NaN        True  \n",
       "...                                      ...       ...         ...  \n",
       "9216094175241772920                      NaN       NaN        True  \n",
       "9216369613838971606                      1.0       NaN        True  \n",
       "9217594193087726423                      3.0       NaN       False  \n",
       "9220879493065341500                      NaN       NaN        True  \n",
       "9221926045299980007                      NaN       NaN        True  \n",
       "\n",
       "[2484 rows x 6 columns]"
      ]
     },
     "execution_count": 35,
     "metadata": {},
     "output_type": "execute_result"
    }
   ],
   "source": [
    "# фиксируем в отдельном столбце факт открытия пользователем главной страницы  \n",
    "data_grouped_246['main_event'] = ~data_grouped_246['MainScreenAppear'].isna()\n",
    "\n",
    "data_grouped_246"
   ]
  },
  {
   "cell_type": "code",
   "execution_count": 36,
   "metadata": {},
   "outputs": [
    {
     "data": {
      "text/plain": [
       "2450"
      ]
     },
     "execution_count": 36,
     "metadata": {},
     "output_type": "execute_result"
    }
   ],
   "source": [
    "# считаем число пользователей, совершивших открытие главной страницы\n",
    "main_246_total = data_grouped_246['main_event'].sum()\n",
    "\n",
    "main_246_total"
   ]
  },
  {
   "cell_type": "code",
   "execution_count": 37,
   "metadata": {},
   "outputs": [
    {
     "data": {
      "text/plain": [
       "0.9863123993558777"
      ]
     },
     "execution_count": 37,
     "metadata": {},
     "output_type": "execute_result"
    }
   ],
   "source": [
    "# считаем долю пользователей, совершивших открытие главной страницы\n",
    "main_246_part = data_grouped_246['main_event'].mean()\n",
    "\n",
    "main_246_part"
   ]
  },
  {
   "cell_type": "markdown",
   "metadata": {},
   "source": [
    "Проделаем аналогичные операции для пользователей из группы 247."
   ]
  },
  {
   "cell_type": "code",
   "execution_count": 38,
   "metadata": {},
   "outputs": [
    {
     "data": {
      "text/html": [
       "<div>\n",
       "<style scoped>\n",
       "    .dataframe tbody tr th:only-of-type {\n",
       "        vertical-align: middle;\n",
       "    }\n",
       "\n",
       "    .dataframe tbody tr th {\n",
       "        vertical-align: top;\n",
       "    }\n",
       "\n",
       "    .dataframe thead th {\n",
       "        text-align: right;\n",
       "    }\n",
       "</style>\n",
       "<table border=\"1\" class=\"dataframe\">\n",
       "  <thead>\n",
       "    <tr style=\"text-align: right;\">\n",
       "      <th>event_name</th>\n",
       "      <th>CartScreenAppear</th>\n",
       "      <th>MainScreenAppear</th>\n",
       "      <th>OffersScreenAppear</th>\n",
       "      <th>PaymentScreenSuccessful</th>\n",
       "      <th>Tutorial</th>\n",
       "    </tr>\n",
       "    <tr>\n",
       "      <th>user_id</th>\n",
       "      <th></th>\n",
       "      <th></th>\n",
       "      <th></th>\n",
       "      <th></th>\n",
       "      <th></th>\n",
       "    </tr>\n",
       "  </thead>\n",
       "  <tbody>\n",
       "    <tr>\n",
       "      <th>6909561520679493</th>\n",
       "      <td>1.0</td>\n",
       "      <td>2.0</td>\n",
       "      <td>1.0</td>\n",
       "      <td>1.0</td>\n",
       "      <td>NaN</td>\n",
       "    </tr>\n",
       "    <tr>\n",
       "      <th>7702139951469979</th>\n",
       "      <td>5.0</td>\n",
       "      <td>40.0</td>\n",
       "      <td>87.0</td>\n",
       "      <td>5.0</td>\n",
       "      <td>NaN</td>\n",
       "    </tr>\n",
       "    <tr>\n",
       "      <th>28534696657485531</th>\n",
       "      <td>6.0</td>\n",
       "      <td>11.0</td>\n",
       "      <td>7.0</td>\n",
       "      <td>5.0</td>\n",
       "      <td>NaN</td>\n",
       "    </tr>\n",
       "    <tr>\n",
       "      <th>28755862496905658</th>\n",
       "      <td>2.0</td>\n",
       "      <td>6.0</td>\n",
       "      <td>NaN</td>\n",
       "      <td>NaN</td>\n",
       "      <td>NaN</td>\n",
       "    </tr>\n",
       "    <tr>\n",
       "      <th>29094035245869447</th>\n",
       "      <td>2.0</td>\n",
       "      <td>10.0</td>\n",
       "      <td>10.0</td>\n",
       "      <td>1.0</td>\n",
       "      <td>1.0</td>\n",
       "    </tr>\n",
       "    <tr>\n",
       "      <th>...</th>\n",
       "      <td>...</td>\n",
       "      <td>...</td>\n",
       "      <td>...</td>\n",
       "      <td>...</td>\n",
       "      <td>...</td>\n",
       "    </tr>\n",
       "    <tr>\n",
       "      <th>9187094690649224379</th>\n",
       "      <td>3.0</td>\n",
       "      <td>1.0</td>\n",
       "      <td>3.0</td>\n",
       "      <td>3.0</td>\n",
       "      <td>NaN</td>\n",
       "    </tr>\n",
       "    <tr>\n",
       "      <th>9187990861085277398</th>\n",
       "      <td>85.0</td>\n",
       "      <td>38.0</td>\n",
       "      <td>27.0</td>\n",
       "      <td>79.0</td>\n",
       "      <td>NaN</td>\n",
       "    </tr>\n",
       "    <tr>\n",
       "      <th>9196211109317457061</th>\n",
       "      <td>NaN</td>\n",
       "      <td>3.0</td>\n",
       "      <td>NaN</td>\n",
       "      <td>NaN</td>\n",
       "      <td>NaN</td>\n",
       "    </tr>\n",
       "    <tr>\n",
       "      <th>9202927726357731300</th>\n",
       "      <td>NaN</td>\n",
       "      <td>9.0</td>\n",
       "      <td>1.0</td>\n",
       "      <td>NaN</td>\n",
       "      <td>NaN</td>\n",
       "    </tr>\n",
       "    <tr>\n",
       "      <th>9206002508877262744</th>\n",
       "      <td>19.0</td>\n",
       "      <td>26.0</td>\n",
       "      <td>19.0</td>\n",
       "      <td>17.0</td>\n",
       "      <td>NaN</td>\n",
       "    </tr>\n",
       "  </tbody>\n",
       "</table>\n",
       "<p>2513 rows × 5 columns</p>\n",
       "</div>"
      ],
      "text/plain": [
       "event_name           CartScreenAppear  MainScreenAppear  OffersScreenAppear  \\\n",
       "user_id                                                                       \n",
       "6909561520679493                  1.0               2.0                 1.0   \n",
       "7702139951469979                  5.0              40.0                87.0   \n",
       "28534696657485531                 6.0              11.0                 7.0   \n",
       "28755862496905658                 2.0               6.0                 NaN   \n",
       "29094035245869447                 2.0              10.0                10.0   \n",
       "...                               ...               ...                 ...   \n",
       "9187094690649224379               3.0               1.0                 3.0   \n",
       "9187990861085277398              85.0              38.0                27.0   \n",
       "9196211109317457061               NaN               3.0                 NaN   \n",
       "9202927726357731300               NaN               9.0                 1.0   \n",
       "9206002508877262744              19.0              26.0                19.0   \n",
       "\n",
       "event_name           PaymentScreenSuccessful  Tutorial  \n",
       "user_id                                                 \n",
       "6909561520679493                         1.0       NaN  \n",
       "7702139951469979                         5.0       NaN  \n",
       "28534696657485531                        5.0       NaN  \n",
       "28755862496905658                        NaN       NaN  \n",
       "29094035245869447                        1.0       1.0  \n",
       "...                                      ...       ...  \n",
       "9187094690649224379                      3.0       NaN  \n",
       "9187990861085277398                     79.0       NaN  \n",
       "9196211109317457061                      NaN       NaN  \n",
       "9202927726357731300                      NaN       NaN  \n",
       "9206002508877262744                     17.0       NaN  \n",
       "\n",
       "[2513 rows x 5 columns]"
      ]
     },
     "execution_count": 38,
     "metadata": {},
     "output_type": "execute_result"
    }
   ],
   "source": [
    "# делаем сводную таблицу числа записей по пользователям и событиям в группе 247\n",
    "data_grouped_247 = pd.pivot_table(group_247, values='group', index='user_id', columns='event_name', aggfunc='count')\n",
    "                                  \n",
    "data_grouped_247"
   ]
  },
  {
   "cell_type": "code",
   "execution_count": 39,
   "metadata": {},
   "outputs": [
    {
     "data": {
      "text/html": [
       "<div>\n",
       "<style scoped>\n",
       "    .dataframe tbody tr th:only-of-type {\n",
       "        vertical-align: middle;\n",
       "    }\n",
       "\n",
       "    .dataframe tbody tr th {\n",
       "        vertical-align: top;\n",
       "    }\n",
       "\n",
       "    .dataframe thead th {\n",
       "        text-align: right;\n",
       "    }\n",
       "</style>\n",
       "<table border=\"1\" class=\"dataframe\">\n",
       "  <thead>\n",
       "    <tr style=\"text-align: right;\">\n",
       "      <th>event_name</th>\n",
       "      <th>CartScreenAppear</th>\n",
       "      <th>MainScreenAppear</th>\n",
       "      <th>OffersScreenAppear</th>\n",
       "      <th>PaymentScreenSuccessful</th>\n",
       "      <th>Tutorial</th>\n",
       "      <th>main_event</th>\n",
       "    </tr>\n",
       "    <tr>\n",
       "      <th>user_id</th>\n",
       "      <th></th>\n",
       "      <th></th>\n",
       "      <th></th>\n",
       "      <th></th>\n",
       "      <th></th>\n",
       "      <th></th>\n",
       "    </tr>\n",
       "  </thead>\n",
       "  <tbody>\n",
       "    <tr>\n",
       "      <th>6909561520679493</th>\n",
       "      <td>1.0</td>\n",
       "      <td>2.0</td>\n",
       "      <td>1.0</td>\n",
       "      <td>1.0</td>\n",
       "      <td>NaN</td>\n",
       "      <td>True</td>\n",
       "    </tr>\n",
       "    <tr>\n",
       "      <th>7702139951469979</th>\n",
       "      <td>5.0</td>\n",
       "      <td>40.0</td>\n",
       "      <td>87.0</td>\n",
       "      <td>5.0</td>\n",
       "      <td>NaN</td>\n",
       "      <td>True</td>\n",
       "    </tr>\n",
       "    <tr>\n",
       "      <th>28534696657485531</th>\n",
       "      <td>6.0</td>\n",
       "      <td>11.0</td>\n",
       "      <td>7.0</td>\n",
       "      <td>5.0</td>\n",
       "      <td>NaN</td>\n",
       "      <td>True</td>\n",
       "    </tr>\n",
       "    <tr>\n",
       "      <th>28755862496905658</th>\n",
       "      <td>2.0</td>\n",
       "      <td>6.0</td>\n",
       "      <td>NaN</td>\n",
       "      <td>NaN</td>\n",
       "      <td>NaN</td>\n",
       "      <td>True</td>\n",
       "    </tr>\n",
       "    <tr>\n",
       "      <th>29094035245869447</th>\n",
       "      <td>2.0</td>\n",
       "      <td>10.0</td>\n",
       "      <td>10.0</td>\n",
       "      <td>1.0</td>\n",
       "      <td>1.0</td>\n",
       "      <td>True</td>\n",
       "    </tr>\n",
       "    <tr>\n",
       "      <th>...</th>\n",
       "      <td>...</td>\n",
       "      <td>...</td>\n",
       "      <td>...</td>\n",
       "      <td>...</td>\n",
       "      <td>...</td>\n",
       "      <td>...</td>\n",
       "    </tr>\n",
       "    <tr>\n",
       "      <th>9187094690649224379</th>\n",
       "      <td>3.0</td>\n",
       "      <td>1.0</td>\n",
       "      <td>3.0</td>\n",
       "      <td>3.0</td>\n",
       "      <td>NaN</td>\n",
       "      <td>True</td>\n",
       "    </tr>\n",
       "    <tr>\n",
       "      <th>9187990861085277398</th>\n",
       "      <td>85.0</td>\n",
       "      <td>38.0</td>\n",
       "      <td>27.0</td>\n",
       "      <td>79.0</td>\n",
       "      <td>NaN</td>\n",
       "      <td>True</td>\n",
       "    </tr>\n",
       "    <tr>\n",
       "      <th>9196211109317457061</th>\n",
       "      <td>NaN</td>\n",
       "      <td>3.0</td>\n",
       "      <td>NaN</td>\n",
       "      <td>NaN</td>\n",
       "      <td>NaN</td>\n",
       "      <td>True</td>\n",
       "    </tr>\n",
       "    <tr>\n",
       "      <th>9202927726357731300</th>\n",
       "      <td>NaN</td>\n",
       "      <td>9.0</td>\n",
       "      <td>1.0</td>\n",
       "      <td>NaN</td>\n",
       "      <td>NaN</td>\n",
       "      <td>True</td>\n",
       "    </tr>\n",
       "    <tr>\n",
       "      <th>9206002508877262744</th>\n",
       "      <td>19.0</td>\n",
       "      <td>26.0</td>\n",
       "      <td>19.0</td>\n",
       "      <td>17.0</td>\n",
       "      <td>NaN</td>\n",
       "      <td>True</td>\n",
       "    </tr>\n",
       "  </tbody>\n",
       "</table>\n",
       "<p>2513 rows × 6 columns</p>\n",
       "</div>"
      ],
      "text/plain": [
       "event_name           CartScreenAppear  MainScreenAppear  OffersScreenAppear  \\\n",
       "user_id                                                                       \n",
       "6909561520679493                  1.0               2.0                 1.0   \n",
       "7702139951469979                  5.0              40.0                87.0   \n",
       "28534696657485531                 6.0              11.0                 7.0   \n",
       "28755862496905658                 2.0               6.0                 NaN   \n",
       "29094035245869447                 2.0              10.0                10.0   \n",
       "...                               ...               ...                 ...   \n",
       "9187094690649224379               3.0               1.0                 3.0   \n",
       "9187990861085277398              85.0              38.0                27.0   \n",
       "9196211109317457061               NaN               3.0                 NaN   \n",
       "9202927726357731300               NaN               9.0                 1.0   \n",
       "9206002508877262744              19.0              26.0                19.0   \n",
       "\n",
       "event_name           PaymentScreenSuccessful  Tutorial  main_event  \n",
       "user_id                                                             \n",
       "6909561520679493                         1.0       NaN        True  \n",
       "7702139951469979                         5.0       NaN        True  \n",
       "28534696657485531                        5.0       NaN        True  \n",
       "28755862496905658                        NaN       NaN        True  \n",
       "29094035245869447                        1.0       1.0        True  \n",
       "...                                      ...       ...         ...  \n",
       "9187094690649224379                      3.0       NaN        True  \n",
       "9187990861085277398                     79.0       NaN        True  \n",
       "9196211109317457061                      NaN       NaN        True  \n",
       "9202927726357731300                      NaN       NaN        True  \n",
       "9206002508877262744                     17.0       NaN        True  \n",
       "\n",
       "[2513 rows x 6 columns]"
      ]
     },
     "execution_count": 39,
     "metadata": {},
     "output_type": "execute_result"
    }
   ],
   "source": [
    "# фиксируем в отдельном столбце факт открытия пользователем главной страницы  \n",
    "data_grouped_247['main_event'] = ~data_grouped_247['MainScreenAppear'].isna()\n",
    "\n",
    "data_grouped_247"
   ]
  },
  {
   "cell_type": "code",
   "execution_count": 40,
   "metadata": {},
   "outputs": [
    {
     "data": {
      "text/plain": [
       "2476"
      ]
     },
     "execution_count": 40,
     "metadata": {},
     "output_type": "execute_result"
    }
   ],
   "source": [
    "# считаем число пользователей, совершивших открытие главной страницы\n",
    "main_247_total = data_grouped_247['main_event'].sum()\n",
    "\n",
    "main_247_total"
   ]
  },
  {
   "cell_type": "code",
   "execution_count": 41,
   "metadata": {},
   "outputs": [
    {
     "data": {
      "text/plain": [
       "0.9852765618782332"
      ]
     },
     "execution_count": 41,
     "metadata": {},
     "output_type": "execute_result"
    }
   ],
   "source": [
    "# считаем долю пользователей, совершивших открытие главной страницы\n",
    "main_247_part = data_grouped_247['main_event'].mean()\n",
    "\n",
    "main_247_part"
   ]
  },
  {
   "cell_type": "markdown",
   "metadata": {},
   "source": [
    "Доли пользователей, открывших главную страницу в обоих группах достаточно близки - 98,6% и 98,5%. Проверим, является ли такая разница статистически значимой."
   ]
  },
  {
   "cell_type": "markdown",
   "metadata": {},
   "source": [
    "Сформулируем нулевую и альтернативную гипотезу:\n",
    "- h0: значения долей пользователей, совершивших событие (в этом случае - открытие главной страницы) в группах А и А1 равны;\n",
    "- h1: значения долей пользователей, совершивших событие (в этом случае - открытие главной страницы) в группах А и А1 не равны."
   ]
  },
  {
   "cell_type": "markdown",
   "metadata": {},
   "source": [
    "Воспользуемся инструментарием для проверки гипотезы о равенстве долей. Критерий значимости возьмем на уровне 5%."
   ]
  },
  {
   "cell_type": "code",
   "execution_count": 42,
   "metadata": {},
   "outputs": [
    {
     "data": {
      "text/plain": [
       "0.7570597232046099"
      ]
     },
     "execution_count": 42,
     "metadata": {},
     "output_type": "execute_result"
    }
   ],
   "source": [
    "# рассчитываем p-значение\n",
    "p1 = main_246_part\n",
    "p2 = main_247_part\n",
    "p_combined = (main_246_total + main_247_total)/(users_246 + users_247)\n",
    "difference = p1 - p2 \n",
    "\n",
    "z_value = difference / mth.sqrt(p_combined * (1 - p_combined) * (1/users_246 + 1/users_247))\n",
    "\n",
    "distr = stats.norm(0, 1)\n",
    "\n",
    "p_value = (1 - distr.cdf(abs(z_value))) * 2\n",
    "\n",
    "p_value "
   ]
  },
  {
   "cell_type": "markdown",
   "metadata": {},
   "source": [
    "Значение p-value достаточно велико, значит у нас не получилось отвергнуть нулевую гипотезу и нет оснований считать доли различными."
   ]
  },
  {
   "cell_type": "markdown",
   "metadata": {},
   "source": [
    "Оценим статистическую значимость в разнице долей пользователей, совершивших другие события. Для удобства оформим расчет p-значения в виде отдельной функции."
   ]
  },
  {
   "cell_type": "code",
   "execution_count": 43,
   "metadata": {},
   "outputs": [],
   "source": [
    "# функция для расчета p-значения при оценке разницы долей между двумя группами\n",
    "def p_value_parts(event_1_part, event_2_part, event_1_total, event_2_total, users_1, users_2):\n",
    "\n",
    "    p1 = event_1_part\n",
    "    p2 = event_2_part\n",
    "    p_combined = (event_1_total + event_2_total)/(users_1 + users_2)\n",
    "    difference = p1 - p2 \n",
    "\n",
    "    z_value = difference / mth.sqrt(p_combined * (1 - p_combined) * (1/users_1 + 1/users_2))\n",
    "\n",
    "    distr = stats.norm(0, 1)\n",
    "\n",
    "    p_value = (1 - distr.cdf(abs(z_value))) * 2\n",
    "\n",
    "    return p_value"
   ]
  },
  {
   "cell_type": "markdown",
   "metadata": {},
   "source": [
    "Теперь пройдемся по циклу из всех событий и посмотрим статистическую значимость различий в долях пользователей, совершивших эти события в обоих контрольных группах."
   ]
  },
  {
   "cell_type": "code",
   "execution_count": 44,
   "metadata": {},
   "outputs": [],
   "source": [
    "# создаем список событий\n",
    "events = ['MainScreenAppear', 'OffersScreenAppear', 'CartScreenAppear', 'PaymentScreenSuccessful', 'Tutorial']"
   ]
  },
  {
   "cell_type": "code",
   "execution_count": 45,
   "metadata": {},
   "outputs": [
    {
     "name": "stdout",
     "output_type": "stream",
     "text": [
      "MainScreenAppear\n",
      "p-value: 0.7570597232046099\n",
      "\n",
      "OffersScreenAppear\n",
      "p-value: 0.2480954578522181\n",
      "\n",
      "CartScreenAppear\n",
      "p-value: 0.22883372237997213\n",
      "\n",
      "PaymentScreenSuccessful\n",
      "p-value: 0.11456679313141849\n",
      "\n",
      "Tutorial\n",
      "p-value: 0.9376996189257114\n",
      "\n"
     ]
    }
   ],
   "source": [
    "# запускаем цикл расчета p-значений по всем событиям\n",
    "for event in events:\n",
    "    data_grouped_246['event'] = ~data_grouped_246[event].isna()\n",
    "    data_grouped_247['event'] = ~data_grouped_247[event].isna()\n",
    "        \n",
    "    p_value = p_value_parts(data_grouped_246['event'].mean(), data_grouped_247['event'].mean(), data_grouped_246['event'].sum(), data_grouped_247['event'].sum(), len(group_246['user_id'].unique()), len(group_247['user_id'].unique()))\n",
    "        \n",
    "    print(event)\n",
    "    print(\"p-value:\", p_value)\n",
    "    print('')"
   ]
  },
  {
   "cell_type": "markdown",
   "metadata": {},
   "source": [
    "Значение p-value ни в одном из случаев не опускается ниже критерия значимости. В связи с этим нельзя считать доли различными, а разбиение на контрольные группы можно признать корректным."
   ]
  },
  {
   "cell_type": "markdown",
   "metadata": {},
   "source": [
    "Теперь выделим из общих данных экспериментальную группу 248. Посмотрим основную информацию и построим сводную таблицу по ее записям."
   ]
  },
  {
   "cell_type": "code",
   "execution_count": 46,
   "metadata": {},
   "outputs": [
    {
     "name": "stdout",
     "output_type": "stream",
     "text": [
      "<class 'pandas.core.frame.DataFrame'>\n",
      "Int64Index: 84563 entries, 2844 to 244115\n",
      "Data columns (total 6 columns):\n",
      " #   Column      Non-Null Count  Dtype         \n",
      "---  ------      --------------  -----         \n",
      " 0   event_name  84563 non-null  object        \n",
      " 1   user_id     84563 non-null  int64         \n",
      " 2   timestamp   84563 non-null  int64         \n",
      " 3   group       84563 non-null  int64         \n",
      " 4   date_time   84563 non-null  datetime64[ns]\n",
      " 5   date        84563 non-null  object        \n",
      "dtypes: datetime64[ns](1), int64(3), object(2)\n",
      "memory usage: 4.5+ MB\n"
     ]
    },
    {
     "data": {
      "text/html": [
       "<div>\n",
       "<style scoped>\n",
       "    .dataframe tbody tr th:only-of-type {\n",
       "        vertical-align: middle;\n",
       "    }\n",
       "\n",
       "    .dataframe tbody tr th {\n",
       "        vertical-align: top;\n",
       "    }\n",
       "\n",
       "    .dataframe thead th {\n",
       "        text-align: right;\n",
       "    }\n",
       "</style>\n",
       "<table border=\"1\" class=\"dataframe\">\n",
       "  <thead>\n",
       "    <tr style=\"text-align: right;\">\n",
       "      <th></th>\n",
       "      <th>event_name</th>\n",
       "      <th>user_id</th>\n",
       "      <th>timestamp</th>\n",
       "      <th>group</th>\n",
       "      <th>date_time</th>\n",
       "      <th>date</th>\n",
       "    </tr>\n",
       "  </thead>\n",
       "  <tbody>\n",
       "    <tr>\n",
       "      <th>2844</th>\n",
       "      <td>MainScreenAppear</td>\n",
       "      <td>4613461174774205834</td>\n",
       "      <td>1564618471</td>\n",
       "      <td>248</td>\n",
       "      <td>2019-08-01 00:14:31</td>\n",
       "      <td>2019-08-01</td>\n",
       "    </tr>\n",
       "    <tr>\n",
       "      <th>2845</th>\n",
       "      <td>MainScreenAppear</td>\n",
       "      <td>4613461174774205834</td>\n",
       "      <td>1564618474</td>\n",
       "      <td>248</td>\n",
       "      <td>2019-08-01 00:14:34</td>\n",
       "      <td>2019-08-01</td>\n",
       "    </tr>\n",
       "    <tr>\n",
       "      <th>2846</th>\n",
       "      <td>CartScreenAppear</td>\n",
       "      <td>4613461174774205834</td>\n",
       "      <td>1564618474</td>\n",
       "      <td>248</td>\n",
       "      <td>2019-08-01 00:14:34</td>\n",
       "      <td>2019-08-01</td>\n",
       "    </tr>\n",
       "    <tr>\n",
       "      <th>2847</th>\n",
       "      <td>PaymentScreenSuccessful</td>\n",
       "      <td>4613461174774205834</td>\n",
       "      <td>1564618483</td>\n",
       "      <td>248</td>\n",
       "      <td>2019-08-01 00:14:43</td>\n",
       "      <td>2019-08-01</td>\n",
       "    </tr>\n",
       "    <tr>\n",
       "      <th>2848</th>\n",
       "      <td>OffersScreenAppear</td>\n",
       "      <td>4613461174774205834</td>\n",
       "      <td>1564618491</td>\n",
       "      <td>248</td>\n",
       "      <td>2019-08-01 00:14:51</td>\n",
       "      <td>2019-08-01</td>\n",
       "    </tr>\n",
       "  </tbody>\n",
       "</table>\n",
       "</div>"
      ],
      "text/plain": [
       "                   event_name              user_id   timestamp  group  \\\n",
       "2844         MainScreenAppear  4613461174774205834  1564618471    248   \n",
       "2845         MainScreenAppear  4613461174774205834  1564618474    248   \n",
       "2846         CartScreenAppear  4613461174774205834  1564618474    248   \n",
       "2847  PaymentScreenSuccessful  4613461174774205834  1564618483    248   \n",
       "2848       OffersScreenAppear  4613461174774205834  1564618491    248   \n",
       "\n",
       "               date_time        date  \n",
       "2844 2019-08-01 00:14:31  2019-08-01  \n",
       "2845 2019-08-01 00:14:34  2019-08-01  \n",
       "2846 2019-08-01 00:14:34  2019-08-01  \n",
       "2847 2019-08-01 00:14:43  2019-08-01  \n",
       "2848 2019-08-01 00:14:51  2019-08-01  "
      ]
     },
     "execution_count": 46,
     "metadata": {},
     "output_type": "execute_result"
    }
   ],
   "source": [
    "# выделяем группу 248\n",
    "group_248 = data[data['group'] == 248]\n",
    "\n",
    "# выводим основную информацию\n",
    "group_248.info()\n",
    "group_248.head()"
   ]
  },
  {
   "cell_type": "code",
   "execution_count": 47,
   "metadata": {},
   "outputs": [
    {
     "data": {
      "text/plain": [
       "2537"
      ]
     },
     "execution_count": 47,
     "metadata": {},
     "output_type": "execute_result"
    }
   ],
   "source": [
    "# считаем число пользователей\n",
    "len(group_248['user_id'].unique())"
   ]
  },
  {
   "cell_type": "code",
   "execution_count": 48,
   "metadata": {},
   "outputs": [
    {
     "data": {
      "text/html": [
       "<div>\n",
       "<style scoped>\n",
       "    .dataframe tbody tr th:only-of-type {\n",
       "        vertical-align: middle;\n",
       "    }\n",
       "\n",
       "    .dataframe tbody tr th {\n",
       "        vertical-align: top;\n",
       "    }\n",
       "\n",
       "    .dataframe thead th {\n",
       "        text-align: right;\n",
       "    }\n",
       "</style>\n",
       "<table border=\"1\" class=\"dataframe\">\n",
       "  <thead>\n",
       "    <tr style=\"text-align: right;\">\n",
       "      <th>event_name</th>\n",
       "      <th>CartScreenAppear</th>\n",
       "      <th>MainScreenAppear</th>\n",
       "      <th>OffersScreenAppear</th>\n",
       "      <th>PaymentScreenSuccessful</th>\n",
       "      <th>Tutorial</th>\n",
       "    </tr>\n",
       "    <tr>\n",
       "      <th>user_id</th>\n",
       "      <th></th>\n",
       "      <th></th>\n",
       "      <th></th>\n",
       "      <th></th>\n",
       "      <th></th>\n",
       "    </tr>\n",
       "  </thead>\n",
       "  <tbody>\n",
       "    <tr>\n",
       "      <th>7435777799948366</th>\n",
       "      <td>NaN</td>\n",
       "      <td>6.0</td>\n",
       "      <td>NaN</td>\n",
       "      <td>NaN</td>\n",
       "      <td>NaN</td>\n",
       "    </tr>\n",
       "    <tr>\n",
       "      <th>8486814028069281</th>\n",
       "      <td>4.0</td>\n",
       "      <td>4.0</td>\n",
       "      <td>2.0</td>\n",
       "      <td>NaN</td>\n",
       "      <td>NaN</td>\n",
       "    </tr>\n",
       "    <tr>\n",
       "      <th>9841258664663090</th>\n",
       "      <td>8.0</td>\n",
       "      <td>10.0</td>\n",
       "      <td>8.0</td>\n",
       "      <td>2.0</td>\n",
       "      <td>1.0</td>\n",
       "    </tr>\n",
       "    <tr>\n",
       "      <th>26317307137967461</th>\n",
       "      <td>NaN</td>\n",
       "      <td>5.0</td>\n",
       "      <td>NaN</td>\n",
       "      <td>NaN</td>\n",
       "      <td>NaN</td>\n",
       "    </tr>\n",
       "    <tr>\n",
       "      <th>27899413433550864</th>\n",
       "      <td>NaN</td>\n",
       "      <td>9.0</td>\n",
       "      <td>NaN</td>\n",
       "      <td>NaN</td>\n",
       "      <td>NaN</td>\n",
       "    </tr>\n",
       "    <tr>\n",
       "      <th>...</th>\n",
       "      <td>...</td>\n",
       "      <td>...</td>\n",
       "      <td>...</td>\n",
       "      <td>...</td>\n",
       "      <td>...</td>\n",
       "    </tr>\n",
       "    <tr>\n",
       "      <th>9212420551954885212</th>\n",
       "      <td>14.0</td>\n",
       "      <td>30.0</td>\n",
       "      <td>28.0</td>\n",
       "      <td>12.0</td>\n",
       "      <td>NaN</td>\n",
       "    </tr>\n",
       "    <tr>\n",
       "      <th>9212523802225607780</th>\n",
       "      <td>NaN</td>\n",
       "      <td>5.0</td>\n",
       "      <td>NaN</td>\n",
       "      <td>NaN</td>\n",
       "      <td>2.0</td>\n",
       "    </tr>\n",
       "    <tr>\n",
       "      <th>9214668690707156694</th>\n",
       "      <td>9.0</td>\n",
       "      <td>10.0</td>\n",
       "      <td>8.0</td>\n",
       "      <td>9.0</td>\n",
       "      <td>NaN</td>\n",
       "    </tr>\n",
       "    <tr>\n",
       "      <th>9219463515465815368</th>\n",
       "      <td>1.0</td>\n",
       "      <td>11.0</td>\n",
       "      <td>4.0</td>\n",
       "      <td>1.0</td>\n",
       "      <td>NaN</td>\n",
       "    </tr>\n",
       "    <tr>\n",
       "      <th>9222603179720523844</th>\n",
       "      <td>NaN</td>\n",
       "      <td>59.0</td>\n",
       "      <td>NaN</td>\n",
       "      <td>NaN</td>\n",
       "      <td>NaN</td>\n",
       "    </tr>\n",
       "  </tbody>\n",
       "</table>\n",
       "<p>2537 rows × 5 columns</p>\n",
       "</div>"
      ],
      "text/plain": [
       "event_name           CartScreenAppear  MainScreenAppear  OffersScreenAppear  \\\n",
       "user_id                                                                       \n",
       "7435777799948366                  NaN               6.0                 NaN   \n",
       "8486814028069281                  4.0               4.0                 2.0   \n",
       "9841258664663090                  8.0              10.0                 8.0   \n",
       "26317307137967461                 NaN               5.0                 NaN   \n",
       "27899413433550864                 NaN               9.0                 NaN   \n",
       "...                               ...               ...                 ...   \n",
       "9212420551954885212              14.0              30.0                28.0   \n",
       "9212523802225607780               NaN               5.0                 NaN   \n",
       "9214668690707156694               9.0              10.0                 8.0   \n",
       "9219463515465815368               1.0              11.0                 4.0   \n",
       "9222603179720523844               NaN              59.0                 NaN   \n",
       "\n",
       "event_name           PaymentScreenSuccessful  Tutorial  \n",
       "user_id                                                 \n",
       "7435777799948366                         NaN       NaN  \n",
       "8486814028069281                         NaN       NaN  \n",
       "9841258664663090                         2.0       1.0  \n",
       "26317307137967461                        NaN       NaN  \n",
       "27899413433550864                        NaN       NaN  \n",
       "...                                      ...       ...  \n",
       "9212420551954885212                     12.0       NaN  \n",
       "9212523802225607780                      NaN       2.0  \n",
       "9214668690707156694                      9.0       NaN  \n",
       "9219463515465815368                      1.0       NaN  \n",
       "9222603179720523844                      NaN       NaN  \n",
       "\n",
       "[2537 rows x 5 columns]"
      ]
     },
     "execution_count": 48,
     "metadata": {},
     "output_type": "execute_result"
    }
   ],
   "source": [
    "# делаем сводную таблицу числа записей по пользователям и событиям в группе 248\n",
    "data_grouped_248 = pd.pivot_table(group_248, values='group', index='user_id', columns='event_name', aggfunc='count')\n",
    "                                  \n",
    "data_grouped_248"
   ]
  },
  {
   "cell_type": "markdown",
   "metadata": {},
   "source": [
    "Запустим еще один цикл по всем событиям, сравнивающий доли пользователей экспериментальной группы с каждой из контрольных групп в отдельности, а также с объединённой контрольной группой."
   ]
  },
  {
   "cell_type": "code",
   "execution_count": 49,
   "metadata": {},
   "outputs": [
    {
     "name": "stdout",
     "output_type": "stream",
     "text": [
      "MainScreenAppear\n",
      "p-value, compared to 246: 0.2949721933554552\n",
      "p-value, compared to 247: 0.4587053616621515\n",
      "p-value, compared to 246&247: 0.29424526837179577\n",
      "\n",
      "OffersScreenAppear\n",
      "p-value, compared to 246: 0.20836205402738917\n",
      "p-value, compared to 247: 0.9197817830592261\n",
      "p-value, compared to 246&247: 0.43425549655188256\n",
      "\n",
      "CartScreenAppear\n",
      "p-value, compared to 246: 0.07842923237520116\n",
      "p-value, compared to 247: 0.5786197879539783\n",
      "p-value, compared to 246&247: 0.18175875284404386\n",
      "\n",
      "PaymentScreenSuccessful\n",
      "p-value, compared to 246: 0.2122553275697796\n",
      "p-value, compared to 247: 0.7373415053803964\n",
      "p-value, compared to 246&247: 0.6004294282308704\n",
      "\n",
      "Tutorial\n",
      "p-value, compared to 246: 0.8264294010087645\n",
      "p-value, compared to 247: 0.765323922474501\n",
      "p-value, compared to 246&247: 0.764862472531507\n",
      "\n"
     ]
    }
   ],
   "source": [
    "# запускаем цикл расчета p-значений по всем событиям\n",
    "for event in events:\n",
    "    data_grouped_246['event'] = ~data_grouped_246[event].isna()\n",
    "    data_grouped_247['event'] = ~data_grouped_247[event].isna()\n",
    "    data_grouped_248['event'] = ~data_grouped_248[event].isna()\n",
    "    data_grouped_246_and_247 = pd.concat([data_grouped_246, data_grouped_247])\n",
    "        \n",
    "    p_value_246 = p_value_parts(data_grouped_246['event'].mean(), data_grouped_248['event'].mean(), data_grouped_246['event'].sum(), data_grouped_248['event'].sum(), len(group_246['user_id'].unique()), len(group_248['user_id'].unique()))\n",
    "    p_value_247 = p_value_parts(data_grouped_247['event'].mean(), data_grouped_248['event'].mean(), data_grouped_247['event'].sum(), data_grouped_248['event'].sum(), len(group_247['user_id'].unique()), len(group_248['user_id'].unique()))\n",
    "    p_value_246_and_247 = p_value_parts(data_grouped_246_and_247['event'].mean(), data_grouped_248['event'].mean(), data_grouped_246_and_247['event'].sum(), data_grouped_248['event'].sum(), (len(group_246['user_id'].unique())+len(group_247['user_id'].unique())), len(group_248['user_id'].unique()))\n",
    "        \n",
    "    print(event)\n",
    "    print(\"p-value, compared to 246:\", p_value_246)\n",
    "    print(\"p-value, compared to 247:\", p_value_247)\n",
    "    print(\"p-value, compared to 246&247:\", p_value_246_and_247 )\n",
    "    print('')"
   ]
  },
  {
   "cell_type": "markdown",
   "metadata": {},
   "source": [
    "Поскольку мы проводили три попарных сравнения, выбранный критерий значимости в 5% даже в самом грубом приближении можно поделить на три и получить величину, равную примерно 1,67%. В связи с этим, несмотря на то, что в некоторых случаях p-value является достаточно низким, говорить о статистически значимых различиях между группами все-таки нельзя."
   ]
  },
  {
   "cell_type": "markdown",
   "metadata": {},
   "source": [
    "# Выводы"
   ]
  },
  {
   "cell_type": "markdown",
   "metadata": {},
   "source": [
    "1) Больше всего пользователей, зашедших в приложение для покупки продуктов, \"теряется\" между открытием главной страницы и переходом к странице выбора товара - их доля составляет почти 40%.\n",
    "\n",
    "2) Изменение шрифтов в приложении не дало статистически значимых изменений в долях пользователей, совершающих различные шаги в работе с приложением (при критерии значимости в 1,67% для трех попарных сравнений между экспериментальной и контрольными группами).\n",
    "\n",
    "3) Вместо чисто визуального оформления, стоит оценить удобство взаимодействия пользователей с приложением (возможно, целесообразно проведение UX-исследования)."
   ]
  }
 ],
 "metadata": {
  "ExecuteTimeLog": [
   {
    "duration": 347,
    "start_time": "2022-09-05T14:50:21.145Z"
   },
   {
    "duration": 57,
    "start_time": "2022-09-05T14:51:28.005Z"
   },
   {
    "duration": 2,
    "start_time": "2022-09-05T14:51:31.204Z"
   },
   {
    "duration": 594,
    "start_time": "2022-09-05T14:51:33.430Z"
   },
   {
    "duration": 25,
    "start_time": "2022-09-05T14:51:49.366Z"
   },
   {
    "duration": 75,
    "start_time": "2022-09-05T14:52:04.411Z"
   },
   {
    "duration": 58,
    "start_time": "2022-09-05T14:52:54.179Z"
   },
   {
    "duration": 63,
    "start_time": "2022-09-05T14:52:58.882Z"
   },
   {
    "duration": 51,
    "start_time": "2022-09-05T14:53:07.993Z"
   },
   {
    "duration": 211,
    "start_time": "2022-09-05T14:54:02.283Z"
   },
   {
    "duration": 275,
    "start_time": "2022-09-05T14:54:08.703Z"
   },
   {
    "duration": 30,
    "start_time": "2022-09-05T14:54:11.724Z"
   },
   {
    "duration": 104,
    "start_time": "2022-09-05T14:54:17.950Z"
   },
   {
    "duration": 19,
    "start_time": "2022-09-05T14:55:11.562Z"
   },
   {
    "duration": 292,
    "start_time": "2022-09-05T14:55:16.933Z"
   },
   {
    "duration": 20,
    "start_time": "2022-09-05T14:55:18.558Z"
   },
   {
    "duration": 153,
    "start_time": "2022-09-05T14:55:37.478Z"
   },
   {
    "duration": 20,
    "start_time": "2022-09-05T14:55:39.239Z"
   },
   {
    "duration": 5,
    "start_time": "2022-09-05T14:59:17.318Z"
   },
   {
    "duration": 21,
    "start_time": "2022-09-05T14:59:22.253Z"
   },
   {
    "duration": 6,
    "start_time": "2022-09-05T14:59:36.628Z"
   },
   {
    "duration": 26,
    "start_time": "2022-09-05T14:59:38.978Z"
   },
   {
    "duration": 6,
    "start_time": "2022-09-05T14:59:41.002Z"
   },
   {
    "duration": 336,
    "start_time": "2022-09-05T14:59:44.936Z"
   },
   {
    "duration": 159,
    "start_time": "2022-09-05T14:59:45.274Z"
   },
   {
    "duration": 25,
    "start_time": "2022-09-05T14:59:45.435Z"
   },
   {
    "duration": 9,
    "start_time": "2022-09-05T14:59:45.461Z"
   },
   {
    "duration": 35,
    "start_time": "2022-09-05T14:59:45.471Z"
   },
   {
    "duration": 95,
    "start_time": "2022-09-05T15:02:24.020Z"
   },
   {
    "duration": 11,
    "start_time": "2022-09-05T15:02:48.492Z"
   },
   {
    "duration": 403,
    "start_time": "2022-09-05T15:03:10.684Z"
   },
   {
    "duration": 155,
    "start_time": "2022-09-05T15:03:11.089Z"
   },
   {
    "duration": 29,
    "start_time": "2022-09-05T15:03:11.246Z"
   },
   {
    "duration": 12,
    "start_time": "2022-09-05T15:03:11.277Z"
   },
   {
    "duration": 64,
    "start_time": "2022-09-05T15:03:11.292Z"
   },
   {
    "duration": 0,
    "start_time": "2022-09-05T15:03:11.357Z"
   },
   {
    "duration": 16,
    "start_time": "2022-09-05T15:05:51.993Z"
   },
   {
    "duration": 12,
    "start_time": "2022-09-05T15:05:58.287Z"
   },
   {
    "duration": 15,
    "start_time": "2022-09-05T15:06:02.875Z"
   },
   {
    "duration": 816,
    "start_time": "2022-09-05T15:07:10.255Z"
   },
   {
    "duration": 390,
    "start_time": "2022-09-05T15:07:29.200Z"
   },
   {
    "duration": 151,
    "start_time": "2022-09-05T15:07:29.592Z"
   },
   {
    "duration": 30,
    "start_time": "2022-09-05T15:07:29.745Z"
   },
   {
    "duration": 10,
    "start_time": "2022-09-05T15:07:29.777Z"
   },
   {
    "duration": 655,
    "start_time": "2022-09-05T15:07:29.788Z"
   },
   {
    "duration": 0,
    "start_time": "2022-09-05T15:07:30.445Z"
   },
   {
    "duration": 4,
    "start_time": "2022-09-05T15:08:13.248Z"
   },
   {
    "duration": 296,
    "start_time": "2022-09-05T15:10:48.468Z"
   },
   {
    "duration": 4,
    "start_time": "2022-09-05T15:11:06.438Z"
   },
   {
    "duration": 5,
    "start_time": "2022-09-05T15:13:18.679Z"
   },
   {
    "duration": 603,
    "start_time": "2022-09-05T15:14:27.047Z"
   },
   {
    "duration": 341,
    "start_time": "2022-09-05T15:14:41.439Z"
   },
   {
    "duration": 147,
    "start_time": "2022-09-05T15:14:41.782Z"
   },
   {
    "duration": 28,
    "start_time": "2022-09-05T15:14:41.931Z"
   },
   {
    "duration": 6,
    "start_time": "2022-09-05T15:14:41.961Z"
   },
   {
    "duration": 518,
    "start_time": "2022-09-05T15:14:41.969Z"
   },
   {
    "duration": 0,
    "start_time": "2022-09-05T15:14:42.488Z"
   },
   {
    "duration": 429,
    "start_time": "2022-09-05T15:15:29.520Z"
   },
   {
    "duration": 191,
    "start_time": "2022-09-05T15:15:43.021Z"
   },
   {
    "duration": 6,
    "start_time": "2022-09-05T15:16:52.368Z"
   },
   {
    "duration": 568,
    "start_time": "2022-09-05T15:17:05.793Z"
   },
   {
    "duration": 24,
    "start_time": "2022-09-05T15:17:08.119Z"
   },
   {
    "duration": 1151,
    "start_time": "2022-09-05T15:17:28.060Z"
   },
   {
    "duration": 29,
    "start_time": "2022-09-05T15:17:29.601Z"
   },
   {
    "duration": 420,
    "start_time": "2022-09-05T15:17:35.877Z"
   },
   {
    "duration": 143,
    "start_time": "2022-09-05T15:17:36.299Z"
   },
   {
    "duration": 28,
    "start_time": "2022-09-05T15:17:36.444Z"
   },
   {
    "duration": 13,
    "start_time": "2022-09-05T15:17:36.474Z"
   },
   {
    "duration": 611,
    "start_time": "2022-09-05T15:17:36.489Z"
   },
   {
    "duration": 25,
    "start_time": "2022-09-05T15:17:37.101Z"
   },
   {
    "duration": 349,
    "start_time": "2022-09-05T15:19:19.414Z"
   },
   {
    "duration": 140,
    "start_time": "2022-09-05T15:19:19.764Z"
   },
   {
    "duration": 26,
    "start_time": "2022-09-05T15:19:19.906Z"
   },
   {
    "duration": 6,
    "start_time": "2022-09-05T15:19:19.934Z"
   },
   {
    "duration": 79,
    "start_time": "2022-09-05T15:19:19.942Z"
   },
   {
    "duration": 0,
    "start_time": "2022-09-05T15:19:20.022Z"
   },
   {
    "duration": 0,
    "start_time": "2022-09-05T15:19:20.023Z"
   },
   {
    "duration": 38,
    "start_time": "2022-09-05T15:19:31.483Z"
   },
   {
    "duration": 28,
    "start_time": "2022-09-05T15:19:34.502Z"
   },
   {
    "duration": 48,
    "start_time": "2022-09-05T15:19:46.468Z"
   },
   {
    "duration": 11,
    "start_time": "2022-09-05T15:19:58.264Z"
   },
   {
    "duration": 415,
    "start_time": "2022-09-05T15:20:15.156Z"
   },
   {
    "duration": 153,
    "start_time": "2022-09-05T15:20:15.573Z"
   },
   {
    "duration": 31,
    "start_time": "2022-09-05T15:20:15.728Z"
   },
   {
    "duration": 8,
    "start_time": "2022-09-05T15:20:15.760Z"
   },
   {
    "duration": 28,
    "start_time": "2022-09-05T15:20:15.769Z"
   },
   {
    "duration": 26,
    "start_time": "2022-09-05T15:20:15.799Z"
   },
   {
    "duration": 850,
    "start_time": "2022-09-05T15:22:10.981Z"
   },
   {
    "duration": 121,
    "start_time": "2022-09-05T15:22:16.935Z"
   },
   {
    "duration": 369,
    "start_time": "2022-09-05T15:22:25.307Z"
   },
   {
    "duration": 153,
    "start_time": "2022-09-05T15:22:25.678Z"
   },
   {
    "duration": 28,
    "start_time": "2022-09-05T15:22:25.833Z"
   },
   {
    "duration": 6,
    "start_time": "2022-09-05T15:22:25.862Z"
   },
   {
    "duration": 133,
    "start_time": "2022-09-05T15:22:25.886Z"
   },
   {
    "duration": 30,
    "start_time": "2022-09-05T15:22:26.021Z"
   },
   {
    "duration": 3,
    "start_time": "2022-09-05T15:25:17.886Z"
   },
   {
    "duration": 3,
    "start_time": "2022-09-05T15:25:21.347Z"
   },
   {
    "duration": 72,
    "start_time": "2022-09-05T15:25:44.546Z"
   },
   {
    "duration": 10,
    "start_time": "2022-09-05T15:26:36.084Z"
   },
   {
    "duration": 9,
    "start_time": "2022-09-05T15:26:40.526Z"
   },
   {
    "duration": 9,
    "start_time": "2022-09-05T15:28:54.468Z"
   },
   {
    "duration": 323,
    "start_time": "2022-09-05T15:29:02.438Z"
   },
   {
    "duration": 166,
    "start_time": "2022-09-05T15:29:02.763Z"
   },
   {
    "duration": 32,
    "start_time": "2022-09-05T15:29:02.931Z"
   },
   {
    "duration": 20,
    "start_time": "2022-09-05T15:29:02.965Z"
   },
   {
    "duration": 121,
    "start_time": "2022-09-05T15:29:02.987Z"
   },
   {
    "duration": 39,
    "start_time": "2022-09-05T15:29:03.109Z"
   },
   {
    "duration": 5,
    "start_time": "2022-09-05T15:29:03.150Z"
   },
   {
    "duration": 33,
    "start_time": "2022-09-05T15:29:03.156Z"
   },
   {
    "duration": 4,
    "start_time": "2022-09-05T15:29:03.191Z"
   },
   {
    "duration": 42,
    "start_time": "2022-09-06T11:24:21.337Z"
   },
   {
    "duration": 393,
    "start_time": "2022-09-06T11:24:33.927Z"
   },
   {
    "duration": 817,
    "start_time": "2022-09-06T11:24:34.326Z"
   },
   {
    "duration": 34,
    "start_time": "2022-09-06T11:24:35.144Z"
   },
   {
    "duration": 8,
    "start_time": "2022-09-06T11:24:35.180Z"
   },
   {
    "duration": 144,
    "start_time": "2022-09-06T11:24:35.190Z"
   },
   {
    "duration": 34,
    "start_time": "2022-09-06T11:24:35.336Z"
   },
   {
    "duration": 4,
    "start_time": "2022-09-06T11:24:35.371Z"
   },
   {
    "duration": 31,
    "start_time": "2022-09-06T11:24:35.377Z"
   },
   {
    "duration": 6,
    "start_time": "2022-09-06T11:24:35.414Z"
   },
   {
    "duration": 14,
    "start_time": "2022-09-06T11:24:49.861Z"
   },
   {
    "duration": 15,
    "start_time": "2022-09-06T11:25:12.795Z"
   },
   {
    "duration": 13,
    "start_time": "2022-09-06T11:25:19.051Z"
   },
   {
    "duration": 657,
    "start_time": "2022-09-06T11:27:26.338Z"
   },
   {
    "duration": 192,
    "start_time": "2022-09-06T11:27:39.478Z"
   },
   {
    "duration": 300,
    "start_time": "2022-09-06T11:28:03.232Z"
   },
   {
    "duration": 686,
    "start_time": "2022-09-06T11:31:34.578Z"
   },
   {
    "duration": 177,
    "start_time": "2022-09-06T11:31:35.266Z"
   },
   {
    "duration": 26,
    "start_time": "2022-09-06T11:31:35.446Z"
   },
   {
    "duration": 7,
    "start_time": "2022-09-06T11:31:35.474Z"
   },
   {
    "duration": 122,
    "start_time": "2022-09-06T11:31:35.483Z"
   },
   {
    "duration": 43,
    "start_time": "2022-09-06T11:31:35.613Z"
   },
   {
    "duration": 9,
    "start_time": "2022-09-06T11:31:35.657Z"
   },
   {
    "duration": 30,
    "start_time": "2022-09-06T11:31:35.667Z"
   },
   {
    "duration": 39,
    "start_time": "2022-09-06T11:31:35.698Z"
   },
   {
    "duration": 46,
    "start_time": "2022-09-06T11:31:35.738Z"
   },
   {
    "duration": 32,
    "start_time": "2022-09-06T11:31:35.786Z"
   },
   {
    "duration": 415,
    "start_time": "2022-09-06T11:31:35.820Z"
   },
   {
    "duration": 254,
    "start_time": "2022-09-06T11:31:42.837Z"
   },
   {
    "duration": 298,
    "start_time": "2022-09-06T11:31:46.440Z"
   },
   {
    "duration": 205,
    "start_time": "2022-09-06T11:31:51.345Z"
   },
   {
    "duration": 258,
    "start_time": "2022-09-06T11:31:55.840Z"
   },
   {
    "duration": 234,
    "start_time": "2022-09-06T11:32:03.052Z"
   },
   {
    "duration": 260,
    "start_time": "2022-09-06T11:32:10.361Z"
   },
   {
    "duration": 293,
    "start_time": "2022-09-06T11:33:00.690Z"
   },
   {
    "duration": 641,
    "start_time": "2022-09-06T11:33:35.130Z"
   },
   {
    "duration": 169,
    "start_time": "2022-09-06T11:33:35.773Z"
   },
   {
    "duration": 28,
    "start_time": "2022-09-06T11:33:35.944Z"
   },
   {
    "duration": 7,
    "start_time": "2022-09-06T11:33:35.974Z"
   },
   {
    "duration": 120,
    "start_time": "2022-09-06T11:33:36.008Z"
   },
   {
    "duration": 49,
    "start_time": "2022-09-06T11:33:36.132Z"
   },
   {
    "duration": 14,
    "start_time": "2022-09-06T11:33:36.183Z"
   },
   {
    "duration": 60,
    "start_time": "2022-09-06T11:33:36.198Z"
   },
   {
    "duration": 5,
    "start_time": "2022-09-06T11:33:36.259Z"
   },
   {
    "duration": 24,
    "start_time": "2022-09-06T11:33:36.266Z"
   },
   {
    "duration": 38,
    "start_time": "2022-09-06T11:33:36.292Z"
   },
   {
    "duration": 385,
    "start_time": "2022-09-06T11:33:36.332Z"
   },
   {
    "duration": 1461,
    "start_time": "2022-09-06T11:35:28.391Z"
   },
   {
    "duration": 2059,
    "start_time": "2022-09-06T11:35:46.122Z"
   },
   {
    "duration": 1371,
    "start_time": "2022-09-06T11:35:54.181Z"
   },
   {
    "duration": 13,
    "start_time": "2022-09-06T11:36:35.505Z"
   },
   {
    "duration": 15,
    "start_time": "2022-09-06T11:37:36.303Z"
   },
   {
    "duration": 8,
    "start_time": "2022-09-06T11:37:52.273Z"
   },
   {
    "duration": 403,
    "start_time": "2022-09-06T11:38:23.100Z"
   },
   {
    "duration": 8,
    "start_time": "2022-09-06T11:41:57.081Z"
   },
   {
    "duration": 612,
    "start_time": "2022-09-06T11:42:03.456Z"
   },
   {
    "duration": 165,
    "start_time": "2022-09-06T11:42:04.071Z"
   },
   {
    "duration": 28,
    "start_time": "2022-09-06T11:42:04.238Z"
   },
   {
    "duration": 9,
    "start_time": "2022-09-06T11:42:04.269Z"
   },
   {
    "duration": 105,
    "start_time": "2022-09-06T11:42:04.279Z"
   },
   {
    "duration": 46,
    "start_time": "2022-09-06T11:42:04.386Z"
   },
   {
    "duration": 14,
    "start_time": "2022-09-06T11:42:04.434Z"
   },
   {
    "duration": 31,
    "start_time": "2022-09-06T11:42:04.449Z"
   },
   {
    "duration": 60,
    "start_time": "2022-09-06T11:42:04.482Z"
   },
   {
    "duration": 41,
    "start_time": "2022-09-06T11:42:04.545Z"
   },
   {
    "duration": 56,
    "start_time": "2022-09-06T11:42:04.588Z"
   },
   {
    "duration": 327,
    "start_time": "2022-09-06T11:42:04.646Z"
   },
   {
    "duration": 493,
    "start_time": "2022-09-06T11:42:04.975Z"
   },
   {
    "duration": 3,
    "start_time": "2022-09-06T11:43:11.385Z"
   },
   {
    "duration": 5,
    "start_time": "2022-09-06T11:43:23.672Z"
   },
   {
    "duration": 8,
    "start_time": "2022-09-06T11:43:37.503Z"
   },
   {
    "duration": 4,
    "start_time": "2022-09-06T11:44:21.781Z"
   },
   {
    "duration": 619,
    "start_time": "2022-09-06T11:44:45.353Z"
   },
   {
    "duration": 201,
    "start_time": "2022-09-06T11:44:45.974Z"
   },
   {
    "duration": 49,
    "start_time": "2022-09-06T11:44:46.177Z"
   },
   {
    "duration": 29,
    "start_time": "2022-09-06T11:44:46.227Z"
   },
   {
    "duration": 128,
    "start_time": "2022-09-06T11:44:46.259Z"
   },
   {
    "duration": 60,
    "start_time": "2022-09-06T11:44:46.389Z"
   },
   {
    "duration": 23,
    "start_time": "2022-09-06T11:44:46.451Z"
   },
   {
    "duration": 23,
    "start_time": "2022-09-06T11:44:46.477Z"
   },
   {
    "duration": 60,
    "start_time": "2022-09-06T11:44:46.503Z"
   },
   {
    "duration": 31,
    "start_time": "2022-09-06T11:44:46.565Z"
   },
   {
    "duration": 25,
    "start_time": "2022-09-06T11:44:46.597Z"
   },
   {
    "duration": 326,
    "start_time": "2022-09-06T11:44:46.626Z"
   },
   {
    "duration": 86,
    "start_time": "2022-09-06T11:44:46.954Z"
   },
   {
    "duration": 0,
    "start_time": "2022-09-06T11:44:47.042Z"
   },
   {
    "duration": 712,
    "start_time": "2022-09-06T11:44:59.633Z"
   },
   {
    "duration": 164,
    "start_time": "2022-09-06T11:45:00.347Z"
   },
   {
    "duration": 38,
    "start_time": "2022-09-06T11:45:00.517Z"
   },
   {
    "duration": 8,
    "start_time": "2022-09-06T11:45:00.739Z"
   },
   {
    "duration": 116,
    "start_time": "2022-09-06T11:45:00.749Z"
   },
   {
    "duration": 58,
    "start_time": "2022-09-06T11:45:00.867Z"
   },
   {
    "duration": 31,
    "start_time": "2022-09-06T11:45:00.927Z"
   },
   {
    "duration": 22,
    "start_time": "2022-09-06T11:45:00.959Z"
   },
   {
    "duration": 15,
    "start_time": "2022-09-06T11:45:00.982Z"
   },
   {
    "duration": 49,
    "start_time": "2022-09-06T11:45:00.998Z"
   },
   {
    "duration": 33,
    "start_time": "2022-09-06T11:45:01.049Z"
   },
   {
    "duration": 337,
    "start_time": "2022-09-06T11:45:01.085Z"
   },
   {
    "duration": 10,
    "start_time": "2022-09-06T11:45:01.428Z"
   },
   {
    "duration": 655,
    "start_time": "2022-09-06T11:45:01.440Z"
   },
   {
    "duration": 154,
    "start_time": "2022-09-06T11:45:18.298Z"
   },
   {
    "duration": 39,
    "start_time": "2022-09-06T11:45:21.935Z"
   },
   {
    "duration": 696,
    "start_time": "2022-09-06T11:45:29.990Z"
   },
   {
    "duration": 197,
    "start_time": "2022-09-06T11:45:30.688Z"
   },
   {
    "duration": 51,
    "start_time": "2022-09-06T11:45:30.887Z"
   },
   {
    "duration": 8,
    "start_time": "2022-09-06T11:45:30.941Z"
   },
   {
    "duration": 116,
    "start_time": "2022-09-06T11:45:30.950Z"
   },
   {
    "duration": 65,
    "start_time": "2022-09-06T11:45:31.068Z"
   },
   {
    "duration": 12,
    "start_time": "2022-09-06T11:45:31.138Z"
   },
   {
    "duration": 18,
    "start_time": "2022-09-06T11:45:31.152Z"
   },
   {
    "duration": 10,
    "start_time": "2022-09-06T11:45:31.172Z"
   },
   {
    "duration": 54,
    "start_time": "2022-09-06T11:45:31.185Z"
   },
   {
    "duration": 31,
    "start_time": "2022-09-06T11:45:31.242Z"
   },
   {
    "duration": 323,
    "start_time": "2022-09-06T11:45:31.275Z"
   },
   {
    "duration": 47,
    "start_time": "2022-09-06T11:45:31.606Z"
   },
   {
    "duration": 38,
    "start_time": "2022-09-06T11:51:23.485Z"
   },
   {
    "duration": 29,
    "start_time": "2022-09-06T11:53:16.038Z"
   },
   {
    "duration": 13,
    "start_time": "2022-09-06T11:53:26.855Z"
   },
   {
    "duration": 10,
    "start_time": "2022-09-06T11:53:34.335Z"
   },
   {
    "duration": 17,
    "start_time": "2022-09-06T11:53:47.518Z"
   },
   {
    "duration": 100,
    "start_time": "2022-09-06T11:55:36.541Z"
   },
   {
    "duration": 42,
    "start_time": "2022-09-06T11:55:44.029Z"
   },
   {
    "duration": 30,
    "start_time": "2022-09-06T11:59:54.340Z"
   },
   {
    "duration": 60,
    "start_time": "2022-09-06T12:00:05.240Z"
   },
   {
    "duration": 80,
    "start_time": "2022-09-06T12:00:55.038Z"
   },
   {
    "duration": 68,
    "start_time": "2022-09-06T12:02:31.972Z"
   },
   {
    "duration": 56,
    "start_time": "2022-09-06T12:04:11.347Z"
   },
   {
    "duration": 12,
    "start_time": "2022-09-06T12:05:46.384Z"
   },
   {
    "duration": 14,
    "start_time": "2022-09-06T12:06:10.208Z"
   },
   {
    "duration": 14,
    "start_time": "2022-09-06T12:13:06.761Z"
   },
   {
    "duration": 15,
    "start_time": "2022-09-06T12:13:15.045Z"
   },
   {
    "duration": 3,
    "start_time": "2022-09-06T12:15:27.794Z"
   },
   {
    "duration": 9,
    "start_time": "2022-09-06T12:15:30.990Z"
   },
   {
    "duration": 10,
    "start_time": "2022-09-06T12:23:08.692Z"
   },
   {
    "duration": 18,
    "start_time": "2022-09-06T12:24:26.602Z"
   },
   {
    "duration": 10,
    "start_time": "2022-09-06T12:24:34.952Z"
   },
   {
    "duration": 12,
    "start_time": "2022-09-06T12:24:38.569Z"
   },
   {
    "duration": 958,
    "start_time": "2022-09-06T12:25:25.892Z"
   },
   {
    "duration": 166,
    "start_time": "2022-09-06T12:25:26.851Z"
   },
   {
    "duration": 33,
    "start_time": "2022-09-06T12:25:27.021Z"
   },
   {
    "duration": 13,
    "start_time": "2022-09-06T12:25:27.056Z"
   },
   {
    "duration": 105,
    "start_time": "2022-09-06T12:25:27.071Z"
   },
   {
    "duration": 44,
    "start_time": "2022-09-06T12:25:27.178Z"
   },
   {
    "duration": 6,
    "start_time": "2022-09-06T12:25:27.223Z"
   },
   {
    "duration": 23,
    "start_time": "2022-09-06T12:25:27.230Z"
   },
   {
    "duration": 4,
    "start_time": "2022-09-06T12:25:27.254Z"
   },
   {
    "duration": 19,
    "start_time": "2022-09-06T12:25:27.260Z"
   },
   {
    "duration": 49,
    "start_time": "2022-09-06T12:25:27.281Z"
   },
   {
    "duration": 319,
    "start_time": "2022-09-06T12:25:27.332Z"
   },
   {
    "duration": 38,
    "start_time": "2022-09-06T12:25:27.653Z"
   },
   {
    "duration": 49,
    "start_time": "2022-09-06T12:25:27.693Z"
   },
   {
    "duration": 13,
    "start_time": "2022-09-06T12:25:27.744Z"
   },
   {
    "duration": 10,
    "start_time": "2022-09-06T12:25:27.759Z"
   },
   {
    "duration": 10,
    "start_time": "2022-09-06T12:25:27.771Z"
   },
   {
    "duration": 33,
    "start_time": "2022-09-06T12:25:27.810Z"
   },
   {
    "duration": 65,
    "start_time": "2022-09-06T12:25:27.845Z"
   },
   {
    "duration": 24,
    "start_time": "2022-09-06T12:25:27.912Z"
   },
   {
    "duration": 12,
    "start_time": "2022-09-06T12:25:27.937Z"
   },
   {
    "duration": 12,
    "start_time": "2022-09-06T12:25:42.733Z"
   },
   {
    "duration": 626,
    "start_time": "2022-09-06T12:25:49.647Z"
   },
   {
    "duration": 168,
    "start_time": "2022-09-06T12:25:50.275Z"
   },
   {
    "duration": 26,
    "start_time": "2022-09-06T12:25:50.444Z"
   },
   {
    "duration": 6,
    "start_time": "2022-09-06T12:25:50.472Z"
   },
   {
    "duration": 108,
    "start_time": "2022-09-06T12:25:50.480Z"
   },
   {
    "duration": 46,
    "start_time": "2022-09-06T12:25:50.589Z"
   },
   {
    "duration": 4,
    "start_time": "2022-09-06T12:25:50.639Z"
   },
   {
    "duration": 18,
    "start_time": "2022-09-06T12:25:50.645Z"
   },
   {
    "duration": 8,
    "start_time": "2022-09-06T12:25:50.664Z"
   },
   {
    "duration": 38,
    "start_time": "2022-09-06T12:25:50.674Z"
   },
   {
    "duration": 24,
    "start_time": "2022-09-06T12:25:50.714Z"
   },
   {
    "duration": 313,
    "start_time": "2022-09-06T12:25:50.744Z"
   },
   {
    "duration": 39,
    "start_time": "2022-09-06T12:25:51.059Z"
   },
   {
    "duration": 43,
    "start_time": "2022-09-06T12:25:51.106Z"
   },
   {
    "duration": 11,
    "start_time": "2022-09-06T12:25:51.151Z"
   },
   {
    "duration": 18,
    "start_time": "2022-09-06T12:25:51.163Z"
   },
   {
    "duration": 29,
    "start_time": "2022-09-06T12:25:51.182Z"
   },
   {
    "duration": 52,
    "start_time": "2022-09-06T12:25:51.213Z"
   },
   {
    "duration": 83,
    "start_time": "2022-09-06T12:25:51.267Z"
   },
   {
    "duration": 14,
    "start_time": "2022-09-06T12:25:51.352Z"
   },
   {
    "duration": 10,
    "start_time": "2022-09-06T12:25:51.368Z"
   },
   {
    "duration": 528,
    "start_time": "2022-09-06T12:26:41.237Z"
   },
   {
    "duration": 8812,
    "start_time": "2022-09-06T12:26:45.048Z"
   },
   {
    "duration": 1560,
    "start_time": "2022-09-06T12:27:02.536Z"
   },
   {
    "duration": 10,
    "start_time": "2022-09-06T12:27:13.237Z"
   },
   {
    "duration": 731,
    "start_time": "2022-09-06T12:27:22.991Z"
   },
   {
    "duration": 168,
    "start_time": "2022-09-06T12:27:23.729Z"
   },
   {
    "duration": 31,
    "start_time": "2022-09-06T12:27:23.899Z"
   },
   {
    "duration": 15,
    "start_time": "2022-09-06T12:27:23.932Z"
   },
   {
    "duration": 104,
    "start_time": "2022-09-06T12:27:23.949Z"
   },
   {
    "duration": 35,
    "start_time": "2022-09-06T12:27:24.055Z"
   },
   {
    "duration": 34,
    "start_time": "2022-09-06T12:27:24.091Z"
   },
   {
    "duration": 12,
    "start_time": "2022-09-06T12:27:24.134Z"
   },
   {
    "duration": 3,
    "start_time": "2022-09-06T12:27:24.148Z"
   },
   {
    "duration": 17,
    "start_time": "2022-09-06T12:27:24.153Z"
   },
   {
    "duration": 15,
    "start_time": "2022-09-06T12:27:24.172Z"
   },
   {
    "duration": 327,
    "start_time": "2022-09-06T12:27:24.189Z"
   },
   {
    "duration": 47,
    "start_time": "2022-09-06T12:27:24.526Z"
   },
   {
    "duration": 45,
    "start_time": "2022-09-06T12:27:24.576Z"
   },
   {
    "duration": 15,
    "start_time": "2022-09-06T12:27:24.622Z"
   },
   {
    "duration": 14,
    "start_time": "2022-09-06T12:27:24.640Z"
   },
   {
    "duration": 11,
    "start_time": "2022-09-06T12:27:24.656Z"
   },
   {
    "duration": 46,
    "start_time": "2022-09-06T12:27:24.669Z"
   },
   {
    "duration": 67,
    "start_time": "2022-09-06T12:27:24.722Z"
   },
   {
    "duration": 13,
    "start_time": "2022-09-06T12:27:24.791Z"
   },
   {
    "duration": 24,
    "start_time": "2022-09-06T12:27:24.811Z"
   },
   {
    "duration": 663,
    "start_time": "2022-09-06T12:27:58.493Z"
   },
   {
    "duration": 162,
    "start_time": "2022-09-06T12:27:59.158Z"
   },
   {
    "duration": 29,
    "start_time": "2022-09-06T12:27:59.324Z"
   },
   {
    "duration": 7,
    "start_time": "2022-09-06T12:27:59.355Z"
   },
   {
    "duration": 121,
    "start_time": "2022-09-06T12:27:59.364Z"
   },
   {
    "duration": 48,
    "start_time": "2022-09-06T12:27:59.486Z"
   },
   {
    "duration": 3,
    "start_time": "2022-09-06T12:27:59.536Z"
   },
   {
    "duration": 27,
    "start_time": "2022-09-06T12:27:59.541Z"
   },
   {
    "duration": 4,
    "start_time": "2022-09-06T12:27:59.569Z"
   },
   {
    "duration": 64,
    "start_time": "2022-09-06T12:27:59.575Z"
   },
   {
    "duration": 33,
    "start_time": "2022-09-06T12:27:59.640Z"
   },
   {
    "duration": 319,
    "start_time": "2022-09-06T12:27:59.675Z"
   },
   {
    "duration": 46,
    "start_time": "2022-09-06T12:27:59.996Z"
   },
   {
    "duration": 81,
    "start_time": "2022-09-06T12:28:00.045Z"
   },
   {
    "duration": 25,
    "start_time": "2022-09-06T12:28:00.133Z"
   },
   {
    "duration": 18,
    "start_time": "2022-09-06T12:28:00.159Z"
   },
   {
    "duration": 50,
    "start_time": "2022-09-06T12:28:00.179Z"
   },
   {
    "duration": 33,
    "start_time": "2022-09-06T12:28:00.236Z"
   },
   {
    "duration": 110,
    "start_time": "2022-09-06T12:28:00.270Z"
   },
   {
    "duration": 11,
    "start_time": "2022-09-06T12:28:00.381Z"
   },
   {
    "duration": 52,
    "start_time": "2022-09-06T12:28:00.393Z"
   },
   {
    "duration": 7,
    "start_time": "2022-09-06T12:28:19.434Z"
   },
   {
    "duration": 8,
    "start_time": "2022-09-06T12:28:36.796Z"
   },
   {
    "duration": 99,
    "start_time": "2022-09-06T12:28:40.030Z"
   },
   {
    "duration": 7,
    "start_time": "2022-09-06T12:28:42.591Z"
   },
   {
    "duration": 12,
    "start_time": "2022-09-06T12:28:52.300Z"
   },
   {
    "duration": 677,
    "start_time": "2022-09-06T12:29:03.693Z"
   },
   {
    "duration": 160,
    "start_time": "2022-09-06T12:29:04.372Z"
   },
   {
    "duration": 27,
    "start_time": "2022-09-06T12:29:04.537Z"
   },
   {
    "duration": 6,
    "start_time": "2022-09-06T12:29:04.565Z"
   },
   {
    "duration": 101,
    "start_time": "2022-09-06T12:29:04.573Z"
   },
   {
    "duration": 46,
    "start_time": "2022-09-06T12:29:04.676Z"
   },
   {
    "duration": 8,
    "start_time": "2022-09-06T12:29:04.724Z"
   },
   {
    "duration": 21,
    "start_time": "2022-09-06T12:29:04.733Z"
   },
   {
    "duration": 3,
    "start_time": "2022-09-06T12:29:04.756Z"
   },
   {
    "duration": 14,
    "start_time": "2022-09-06T12:29:04.762Z"
   },
   {
    "duration": 16,
    "start_time": "2022-09-06T12:29:04.777Z"
   },
   {
    "duration": 311,
    "start_time": "2022-09-06T12:29:04.794Z"
   },
   {
    "duration": 48,
    "start_time": "2022-09-06T12:29:05.108Z"
   },
   {
    "duration": 30,
    "start_time": "2022-09-06T12:29:05.157Z"
   },
   {
    "duration": 41,
    "start_time": "2022-09-06T12:29:05.188Z"
   },
   {
    "duration": 11,
    "start_time": "2022-09-06T12:29:05.230Z"
   },
   {
    "duration": 10,
    "start_time": "2022-09-06T12:29:05.243Z"
   },
   {
    "duration": 24,
    "start_time": "2022-09-06T12:29:05.255Z"
   },
   {
    "duration": 62,
    "start_time": "2022-09-06T12:29:05.281Z"
   },
   {
    "duration": 11,
    "start_time": "2022-09-06T12:29:05.344Z"
   },
   {
    "duration": 9,
    "start_time": "2022-09-06T12:29:05.356Z"
   },
   {
    "duration": 8,
    "start_time": "2022-09-06T12:29:05.367Z"
   },
   {
    "duration": 14,
    "start_time": "2022-09-06T12:29:15.103Z"
   },
   {
    "duration": 87,
    "start_time": "2022-09-06T12:30:02.462Z"
   },
   {
    "duration": 10,
    "start_time": "2022-09-06T12:30:18.935Z"
   },
   {
    "duration": 682,
    "start_time": "2022-09-06T12:30:30.402Z"
   },
   {
    "duration": 188,
    "start_time": "2022-09-06T12:30:31.086Z"
   },
   {
    "duration": 37,
    "start_time": "2022-09-06T12:30:31.276Z"
   },
   {
    "duration": 9,
    "start_time": "2022-09-06T12:30:31.316Z"
   },
   {
    "duration": 132,
    "start_time": "2022-09-06T12:30:31.328Z"
   },
   {
    "duration": 36,
    "start_time": "2022-09-06T12:30:31.462Z"
   },
   {
    "duration": 11,
    "start_time": "2022-09-06T12:30:31.500Z"
   },
   {
    "duration": 63,
    "start_time": "2022-09-06T12:30:31.514Z"
   },
   {
    "duration": 19,
    "start_time": "2022-09-06T12:30:31.578Z"
   },
   {
    "duration": 78,
    "start_time": "2022-09-06T12:30:31.600Z"
   },
   {
    "duration": 91,
    "start_time": "2022-09-06T12:30:31.680Z"
   },
   {
    "duration": 346,
    "start_time": "2022-09-06T12:30:31.773Z"
   },
   {
    "duration": 46,
    "start_time": "2022-09-06T12:30:32.132Z"
   },
   {
    "duration": 50,
    "start_time": "2022-09-06T12:30:32.181Z"
   },
   {
    "duration": 17,
    "start_time": "2022-09-06T12:30:32.236Z"
   },
   {
    "duration": 25,
    "start_time": "2022-09-06T12:30:32.255Z"
   },
   {
    "duration": 32,
    "start_time": "2022-09-06T12:30:32.282Z"
   },
   {
    "duration": 56,
    "start_time": "2022-09-06T12:30:32.316Z"
   },
   {
    "duration": 69,
    "start_time": "2022-09-06T12:30:32.373Z"
   },
   {
    "duration": 10,
    "start_time": "2022-09-06T12:30:32.444Z"
   },
   {
    "duration": 18,
    "start_time": "2022-09-06T12:30:32.456Z"
   },
   {
    "duration": 23,
    "start_time": "2022-09-06T12:30:32.475Z"
   },
   {
    "duration": 15,
    "start_time": "2022-09-06T12:30:41.951Z"
   },
   {
    "duration": 7,
    "start_time": "2022-09-06T12:30:51.457Z"
   },
   {
    "duration": 7,
    "start_time": "2022-09-06T12:31:22.747Z"
   },
   {
    "duration": 694,
    "start_time": "2022-09-06T12:31:33.041Z"
   },
   {
    "duration": 174,
    "start_time": "2022-09-06T12:31:33.738Z"
   },
   {
    "duration": 32,
    "start_time": "2022-09-06T12:31:33.917Z"
   },
   {
    "duration": 24,
    "start_time": "2022-09-06T12:31:33.952Z"
   },
   {
    "duration": 139,
    "start_time": "2022-09-06T12:31:33.978Z"
   },
   {
    "duration": 38,
    "start_time": "2022-09-06T12:31:34.123Z"
   },
   {
    "duration": 3,
    "start_time": "2022-09-06T12:31:34.163Z"
   },
   {
    "duration": 75,
    "start_time": "2022-09-06T12:31:34.168Z"
   },
   {
    "duration": 4,
    "start_time": "2022-09-06T12:31:34.245Z"
   },
   {
    "duration": 40,
    "start_time": "2022-09-06T12:31:34.252Z"
   },
   {
    "duration": 52,
    "start_time": "2022-09-06T12:31:34.294Z"
   },
   {
    "duration": 329,
    "start_time": "2022-09-06T12:31:34.347Z"
   },
   {
    "duration": 59,
    "start_time": "2022-09-06T12:31:34.677Z"
   },
   {
    "duration": 32,
    "start_time": "2022-09-06T12:31:34.739Z"
   },
   {
    "duration": 12,
    "start_time": "2022-09-06T12:31:34.773Z"
   },
   {
    "duration": 38,
    "start_time": "2022-09-06T12:31:34.787Z"
   },
   {
    "duration": 24,
    "start_time": "2022-09-06T12:31:34.827Z"
   },
   {
    "duration": 41,
    "start_time": "2022-09-06T12:31:34.853Z"
   },
   {
    "duration": 90,
    "start_time": "2022-09-06T12:31:34.895Z"
   },
   {
    "duration": 13,
    "start_time": "2022-09-06T12:31:34.987Z"
   },
   {
    "duration": 34,
    "start_time": "2022-09-06T12:31:35.002Z"
   },
   {
    "duration": 28,
    "start_time": "2022-09-06T12:31:35.038Z"
   },
   {
    "duration": 608,
    "start_time": "2022-09-06T12:32:20.625Z"
   },
   {
    "duration": 153,
    "start_time": "2022-09-06T12:32:21.234Z"
   },
   {
    "duration": 30,
    "start_time": "2022-09-06T12:32:21.389Z"
   },
   {
    "duration": 7,
    "start_time": "2022-09-06T12:32:21.421Z"
   },
   {
    "duration": 102,
    "start_time": "2022-09-06T12:32:21.430Z"
   },
   {
    "duration": 31,
    "start_time": "2022-09-06T12:32:21.534Z"
   },
   {
    "duration": 3,
    "start_time": "2022-09-06T12:32:21.567Z"
   },
   {
    "duration": 19,
    "start_time": "2022-09-06T12:32:21.571Z"
   },
   {
    "duration": 21,
    "start_time": "2022-09-06T12:32:21.592Z"
   },
   {
    "duration": 28,
    "start_time": "2022-09-06T12:32:21.617Z"
   },
   {
    "duration": 26,
    "start_time": "2022-09-06T12:32:21.647Z"
   },
   {
    "duration": 286,
    "start_time": "2022-09-06T12:32:21.675Z"
   },
   {
    "duration": 51,
    "start_time": "2022-09-06T12:32:21.962Z"
   },
   {
    "duration": 44,
    "start_time": "2022-09-06T12:32:22.014Z"
   },
   {
    "duration": 14,
    "start_time": "2022-09-06T12:32:22.060Z"
   },
   {
    "duration": 21,
    "start_time": "2022-09-06T12:32:22.076Z"
   },
   {
    "duration": 24,
    "start_time": "2022-09-06T12:32:22.099Z"
   },
   {
    "duration": 42,
    "start_time": "2022-09-06T12:32:22.125Z"
   },
   {
    "duration": 71,
    "start_time": "2022-09-06T12:32:22.169Z"
   },
   {
    "duration": 9,
    "start_time": "2022-09-06T12:32:22.242Z"
   },
   {
    "duration": 31,
    "start_time": "2022-09-06T12:32:22.253Z"
   },
   {
    "duration": 75,
    "start_time": "2022-09-06T12:38:47.565Z"
   },
   {
    "duration": 3,
    "start_time": "2022-09-06T12:39:02.750Z"
   },
   {
    "duration": 5,
    "start_time": "2022-09-06T12:39:14.194Z"
   },
   {
    "duration": 50,
    "start_time": "2022-09-06T14:15:51.637Z"
   },
   {
    "duration": 6,
    "start_time": "2022-09-06T14:16:12.646Z"
   },
   {
    "duration": 876,
    "start_time": "2022-09-06T14:16:18.927Z"
   },
   {
    "duration": 764,
    "start_time": "2022-09-06T14:16:19.807Z"
   },
   {
    "duration": 42,
    "start_time": "2022-09-06T14:16:20.573Z"
   },
   {
    "duration": 6,
    "start_time": "2022-09-06T14:16:20.617Z"
   },
   {
    "duration": 106,
    "start_time": "2022-09-06T14:16:20.625Z"
   },
   {
    "duration": 46,
    "start_time": "2022-09-06T14:16:20.733Z"
   },
   {
    "duration": 6,
    "start_time": "2022-09-06T14:16:20.791Z"
   },
   {
    "duration": 31,
    "start_time": "2022-09-06T14:16:20.807Z"
   },
   {
    "duration": 27,
    "start_time": "2022-09-06T14:16:20.840Z"
   },
   {
    "duration": 25,
    "start_time": "2022-09-06T14:16:20.870Z"
   },
   {
    "duration": 41,
    "start_time": "2022-09-06T14:16:20.897Z"
   },
   {
    "duration": 392,
    "start_time": "2022-09-06T14:16:20.940Z"
   },
   {
    "duration": 44,
    "start_time": "2022-09-06T14:16:21.333Z"
   },
   {
    "duration": 55,
    "start_time": "2022-09-06T14:16:21.378Z"
   },
   {
    "duration": 13,
    "start_time": "2022-09-06T14:16:21.434Z"
   },
   {
    "duration": 11,
    "start_time": "2022-09-06T14:16:21.448Z"
   },
   {
    "duration": 46,
    "start_time": "2022-09-06T14:16:21.461Z"
   },
   {
    "duration": 24,
    "start_time": "2022-09-06T14:16:21.509Z"
   },
   {
    "duration": 65,
    "start_time": "2022-09-06T14:16:21.534Z"
   },
   {
    "duration": 16,
    "start_time": "2022-09-06T14:16:21.601Z"
   },
   {
    "duration": 13,
    "start_time": "2022-09-06T14:16:21.619Z"
   },
   {
    "duration": 214,
    "start_time": "2022-09-06T14:16:21.633Z"
   },
   {
    "duration": 6,
    "start_time": "2022-09-06T14:16:21.849Z"
   },
   {
    "duration": 215,
    "start_time": "2022-09-06T14:17:07.324Z"
   },
   {
    "duration": 173,
    "start_time": "2022-09-06T14:17:25.356Z"
   },
   {
    "duration": 158,
    "start_time": "2022-09-06T14:17:40.788Z"
   },
   {
    "duration": 136,
    "start_time": "2022-09-06T14:17:43.734Z"
   },
   {
    "duration": 156,
    "start_time": "2022-09-06T14:18:17.210Z"
   },
   {
    "duration": 133,
    "start_time": "2022-09-06T14:19:46.457Z"
   },
   {
    "duration": 176,
    "start_time": "2022-09-06T14:19:52.090Z"
   },
   {
    "duration": 171,
    "start_time": "2022-09-06T14:20:29.254Z"
   },
   {
    "duration": 145,
    "start_time": "2022-09-06T14:20:39.414Z"
   },
   {
    "duration": 152,
    "start_time": "2022-09-06T14:21:05.318Z"
   },
   {
    "duration": 152,
    "start_time": "2022-09-06T14:21:17.658Z"
   },
   {
    "duration": 330,
    "start_time": "2022-09-06T14:21:26.318Z"
   },
   {
    "duration": 173,
    "start_time": "2022-09-06T14:21:33.153Z"
   },
   {
    "duration": 184,
    "start_time": "2022-09-06T14:21:53.822Z"
   },
   {
    "duration": 178,
    "start_time": "2022-09-06T14:23:00.513Z"
   },
   {
    "duration": 249,
    "start_time": "2022-09-06T14:32:51.837Z"
   },
   {
    "duration": 183,
    "start_time": "2022-09-06T14:33:13.122Z"
   },
   {
    "duration": 235,
    "start_time": "2022-09-06T14:33:20.683Z"
   },
   {
    "duration": 186,
    "start_time": "2022-09-06T14:33:27.539Z"
   },
   {
    "duration": 287,
    "start_time": "2022-09-06T14:34:12.025Z"
   },
   {
    "duration": 206,
    "start_time": "2022-09-06T14:34:31.720Z"
   },
   {
    "duration": 10,
    "start_time": "2022-09-06T14:35:15.921Z"
   },
   {
    "duration": 183,
    "start_time": "2022-09-06T14:35:20.367Z"
   },
   {
    "duration": 282,
    "start_time": "2022-09-06T14:35:51.548Z"
   },
   {
    "duration": 190,
    "start_time": "2022-09-06T14:36:03.694Z"
   },
   {
    "duration": 823,
    "start_time": "2022-09-06T14:36:14.699Z"
   },
   {
    "duration": 182,
    "start_time": "2022-09-06T14:36:15.524Z"
   },
   {
    "duration": 38,
    "start_time": "2022-09-06T14:36:15.708Z"
   },
   {
    "duration": 7,
    "start_time": "2022-09-06T14:36:15.749Z"
   },
   {
    "duration": 120,
    "start_time": "2022-09-06T14:36:15.757Z"
   },
   {
    "duration": 46,
    "start_time": "2022-09-06T14:36:15.878Z"
   },
   {
    "duration": 4,
    "start_time": "2022-09-06T14:36:15.926Z"
   },
   {
    "duration": 21,
    "start_time": "2022-09-06T14:36:15.931Z"
   },
   {
    "duration": 6,
    "start_time": "2022-09-06T14:36:15.954Z"
   },
   {
    "duration": 53,
    "start_time": "2022-09-06T14:36:15.962Z"
   },
   {
    "duration": 23,
    "start_time": "2022-09-06T14:36:16.017Z"
   },
   {
    "duration": 350,
    "start_time": "2022-09-06T14:36:16.042Z"
   },
   {
    "duration": 50,
    "start_time": "2022-09-06T14:36:16.394Z"
   },
   {
    "duration": 57,
    "start_time": "2022-09-06T14:36:16.446Z"
   },
   {
    "duration": 18,
    "start_time": "2022-09-06T14:36:16.505Z"
   },
   {
    "duration": 12,
    "start_time": "2022-09-06T14:36:16.525Z"
   },
   {
    "duration": 11,
    "start_time": "2022-09-06T14:36:16.539Z"
   },
   {
    "duration": 61,
    "start_time": "2022-09-06T14:36:16.551Z"
   },
   {
    "duration": 76,
    "start_time": "2022-09-06T14:36:16.614Z"
   },
   {
    "duration": 19,
    "start_time": "2022-09-06T14:36:16.691Z"
   },
   {
    "duration": 12,
    "start_time": "2022-09-06T14:36:16.712Z"
   },
   {
    "duration": 207,
    "start_time": "2022-09-06T14:36:16.726Z"
   },
   {
    "duration": 5,
    "start_time": "2022-09-06T14:36:16.935Z"
   },
   {
    "duration": 231,
    "start_time": "2022-09-06T14:36:21.417Z"
   },
   {
    "duration": 183,
    "start_time": "2022-09-06T14:36:29.621Z"
   },
   {
    "duration": 193,
    "start_time": "2022-09-06T14:36:32.860Z"
   },
   {
    "duration": 197,
    "start_time": "2022-09-06T14:36:39.890Z"
   },
   {
    "duration": 183,
    "start_time": "2022-09-06T14:36:42.445Z"
   },
   {
    "duration": 189,
    "start_time": "2022-09-06T14:36:45.993Z"
   },
   {
    "duration": 194,
    "start_time": "2022-09-06T14:36:56.843Z"
   },
   {
    "duration": 213,
    "start_time": "2022-09-06T14:37:09.343Z"
   },
   {
    "duration": 709,
    "start_time": "2022-09-06T14:37:15.818Z"
   },
   {
    "duration": 189,
    "start_time": "2022-09-06T14:37:16.529Z"
   },
   {
    "duration": 30,
    "start_time": "2022-09-06T14:37:16.720Z"
   },
   {
    "duration": 8,
    "start_time": "2022-09-06T14:37:16.752Z"
   },
   {
    "duration": 121,
    "start_time": "2022-09-06T14:37:16.762Z"
   },
   {
    "duration": 51,
    "start_time": "2022-09-06T14:37:16.885Z"
   },
   {
    "duration": 3,
    "start_time": "2022-09-06T14:37:16.938Z"
   },
   {
    "duration": 13,
    "start_time": "2022-09-06T14:37:16.943Z"
   },
   {
    "duration": 10,
    "start_time": "2022-09-06T14:37:16.958Z"
   },
   {
    "duration": 39,
    "start_time": "2022-09-06T14:37:16.970Z"
   },
   {
    "duration": 25,
    "start_time": "2022-09-06T14:37:17.011Z"
   },
   {
    "duration": 390,
    "start_time": "2022-09-06T14:37:17.038Z"
   },
   {
    "duration": 45,
    "start_time": "2022-09-06T14:37:17.430Z"
   },
   {
    "duration": 60,
    "start_time": "2022-09-06T14:37:17.478Z"
   },
   {
    "duration": 13,
    "start_time": "2022-09-06T14:37:17.541Z"
   },
   {
    "duration": 11,
    "start_time": "2022-09-06T14:37:17.556Z"
   },
   {
    "duration": 11,
    "start_time": "2022-09-06T14:37:17.592Z"
   },
   {
    "duration": 34,
    "start_time": "2022-09-06T14:37:17.606Z"
   },
   {
    "duration": 89,
    "start_time": "2022-09-06T14:37:17.641Z"
   },
   {
    "duration": 16,
    "start_time": "2022-09-06T14:37:17.732Z"
   },
   {
    "duration": 10,
    "start_time": "2022-09-06T14:37:17.750Z"
   },
   {
    "duration": 216,
    "start_time": "2022-09-06T14:37:17.762Z"
   },
   {
    "duration": 6,
    "start_time": "2022-09-06T14:37:17.980Z"
   },
   {
    "duration": 237,
    "start_time": "2022-09-06T14:37:29.658Z"
   },
   {
    "duration": 181,
    "start_time": "2022-09-06T14:37:33.770Z"
   },
   {
    "duration": 182,
    "start_time": "2022-09-06T14:37:47.424Z"
   },
   {
    "duration": 175,
    "start_time": "2022-09-06T14:37:56.328Z"
   },
   {
    "duration": 179,
    "start_time": "2022-09-06T14:38:06.260Z"
   },
   {
    "duration": 703,
    "start_time": "2022-09-06T14:38:30.932Z"
   },
   {
    "duration": 206,
    "start_time": "2022-09-06T14:38:31.637Z"
   },
   {
    "duration": 44,
    "start_time": "2022-09-06T14:38:31.845Z"
   },
   {
    "duration": 10,
    "start_time": "2022-09-06T14:38:31.892Z"
   },
   {
    "duration": 136,
    "start_time": "2022-09-06T14:38:31.905Z"
   },
   {
    "duration": 57,
    "start_time": "2022-09-06T14:38:32.043Z"
   },
   {
    "duration": 16,
    "start_time": "2022-09-06T14:38:32.103Z"
   },
   {
    "duration": 21,
    "start_time": "2022-09-06T14:38:32.122Z"
   },
   {
    "duration": 4,
    "start_time": "2022-09-06T14:38:32.145Z"
   },
   {
    "duration": 24,
    "start_time": "2022-09-06T14:38:32.151Z"
   },
   {
    "duration": 58,
    "start_time": "2022-09-06T14:38:32.177Z"
   },
   {
    "duration": 345,
    "start_time": "2022-09-06T14:38:32.237Z"
   },
   {
    "duration": 54,
    "start_time": "2022-09-06T14:38:32.584Z"
   },
   {
    "duration": 54,
    "start_time": "2022-09-06T14:38:32.642Z"
   },
   {
    "duration": 17,
    "start_time": "2022-09-06T14:38:32.699Z"
   },
   {
    "duration": 17,
    "start_time": "2022-09-06T14:38:32.718Z"
   },
   {
    "duration": 12,
    "start_time": "2022-09-06T14:38:32.737Z"
   },
   {
    "duration": 45,
    "start_time": "2022-09-06T14:38:32.751Z"
   },
   {
    "duration": 77,
    "start_time": "2022-09-06T14:38:32.797Z"
   },
   {
    "duration": 16,
    "start_time": "2022-09-06T14:38:32.876Z"
   },
   {
    "duration": 13,
    "start_time": "2022-09-06T14:38:32.895Z"
   },
   {
    "duration": 192,
    "start_time": "2022-09-06T14:38:32.910Z"
   },
   {
    "duration": 5,
    "start_time": "2022-09-06T14:38:33.105Z"
   },
   {
    "duration": 237,
    "start_time": "2022-09-06T14:40:48.350Z"
   },
   {
    "duration": 218,
    "start_time": "2022-09-06T14:40:59.942Z"
   },
   {
    "duration": 189,
    "start_time": "2022-09-06T14:41:03.870Z"
   },
   {
    "duration": 184,
    "start_time": "2022-09-06T14:41:11.460Z"
   },
   {
    "duration": 736,
    "start_time": "2022-09-06T14:41:15.920Z"
   },
   {
    "duration": 184,
    "start_time": "2022-09-06T14:41:16.658Z"
   },
   {
    "duration": 35,
    "start_time": "2022-09-06T14:41:16.844Z"
   },
   {
    "duration": 19,
    "start_time": "2022-09-06T14:41:16.881Z"
   },
   {
    "duration": 125,
    "start_time": "2022-09-06T14:41:16.905Z"
   },
   {
    "duration": 38,
    "start_time": "2022-09-06T14:41:17.032Z"
   },
   {
    "duration": 4,
    "start_time": "2022-09-06T14:41:17.072Z"
   },
   {
    "duration": 36,
    "start_time": "2022-09-06T14:41:17.091Z"
   },
   {
    "duration": 3,
    "start_time": "2022-09-06T14:41:17.129Z"
   },
   {
    "duration": 31,
    "start_time": "2022-09-06T14:41:17.134Z"
   },
   {
    "duration": 21,
    "start_time": "2022-09-06T14:41:17.167Z"
   },
   {
    "duration": 346,
    "start_time": "2022-09-06T14:41:17.190Z"
   },
   {
    "duration": 55,
    "start_time": "2022-09-06T14:41:17.538Z"
   },
   {
    "duration": 48,
    "start_time": "2022-09-06T14:41:17.596Z"
   },
   {
    "duration": 14,
    "start_time": "2022-09-06T14:41:17.645Z"
   },
   {
    "duration": 40,
    "start_time": "2022-09-06T14:41:17.660Z"
   },
   {
    "duration": 13,
    "start_time": "2022-09-06T14:41:17.702Z"
   },
   {
    "duration": 30,
    "start_time": "2022-09-06T14:41:17.717Z"
   },
   {
    "duration": 92,
    "start_time": "2022-09-06T14:41:17.749Z"
   },
   {
    "duration": 18,
    "start_time": "2022-09-06T14:41:17.843Z"
   },
   {
    "duration": 29,
    "start_time": "2022-09-06T14:41:17.864Z"
   },
   {
    "duration": 244,
    "start_time": "2022-09-06T14:41:17.896Z"
   },
   {
    "duration": 6,
    "start_time": "2022-09-06T14:41:18.142Z"
   },
   {
    "duration": 235,
    "start_time": "2022-09-06T14:42:44.403Z"
   },
   {
    "duration": 252,
    "start_time": "2022-09-06T14:43:22.208Z"
   },
   {
    "duration": 225,
    "start_time": "2022-09-06T14:43:30.762Z"
   },
   {
    "duration": 4,
    "start_time": "2022-09-06T14:43:49.693Z"
   },
   {
    "duration": 227,
    "start_time": "2022-09-06T14:43:49.699Z"
   },
   {
    "duration": 27,
    "start_time": "2022-09-06T14:43:49.928Z"
   },
   {
    "duration": 12,
    "start_time": "2022-09-06T14:43:49.956Z"
   },
   {
    "duration": 119,
    "start_time": "2022-09-06T14:43:49.970Z"
   },
   {
    "duration": 55,
    "start_time": "2022-09-06T14:43:50.091Z"
   },
   {
    "duration": 6,
    "start_time": "2022-09-06T14:43:50.148Z"
   },
   {
    "duration": 27,
    "start_time": "2022-09-06T14:43:50.156Z"
   },
   {
    "duration": 6,
    "start_time": "2022-09-06T14:43:50.193Z"
   },
   {
    "duration": 53,
    "start_time": "2022-09-06T14:43:50.201Z"
   },
   {
    "duration": 32,
    "start_time": "2022-09-06T14:43:50.255Z"
   },
   {
    "duration": 235,
    "start_time": "2022-09-06T14:43:52.988Z"
   },
   {
    "duration": 234,
    "start_time": "2022-09-06T14:43:56.021Z"
   },
   {
    "duration": 236,
    "start_time": "2022-09-06T14:44:09.528Z"
   },
   {
    "duration": 227,
    "start_time": "2022-09-06T14:44:13.340Z"
   },
   {
    "duration": 234,
    "start_time": "2022-09-06T14:44:21.269Z"
   },
   {
    "duration": 726,
    "start_time": "2022-09-06T14:44:33.168Z"
   },
   {
    "duration": 174,
    "start_time": "2022-09-06T14:44:33.896Z"
   },
   {
    "duration": 34,
    "start_time": "2022-09-06T14:44:34.071Z"
   },
   {
    "duration": 8,
    "start_time": "2022-09-06T14:44:34.107Z"
   },
   {
    "duration": 111,
    "start_time": "2022-09-06T14:44:34.116Z"
   },
   {
    "duration": 39,
    "start_time": "2022-09-06T14:44:34.229Z"
   },
   {
    "duration": 4,
    "start_time": "2022-09-06T14:44:34.270Z"
   },
   {
    "duration": 13,
    "start_time": "2022-09-06T14:44:34.292Z"
   },
   {
    "duration": 4,
    "start_time": "2022-09-06T14:44:34.307Z"
   },
   {
    "duration": 31,
    "start_time": "2022-09-06T14:44:34.313Z"
   },
   {
    "duration": 45,
    "start_time": "2022-09-06T14:44:34.346Z"
   },
   {
    "duration": 342,
    "start_time": "2022-09-06T14:44:34.393Z"
   },
   {
    "duration": 44,
    "start_time": "2022-09-06T14:44:34.736Z"
   },
   {
    "duration": 36,
    "start_time": "2022-09-06T14:44:34.792Z"
   },
   {
    "duration": 13,
    "start_time": "2022-09-06T14:44:34.830Z"
   },
   {
    "duration": 10,
    "start_time": "2022-09-06T14:44:34.845Z"
   },
   {
    "duration": 42,
    "start_time": "2022-09-06T14:44:34.857Z"
   },
   {
    "duration": 25,
    "start_time": "2022-09-06T14:44:34.901Z"
   },
   {
    "duration": 77,
    "start_time": "2022-09-06T14:44:34.929Z"
   },
   {
    "duration": 13,
    "start_time": "2022-09-06T14:44:35.008Z"
   },
   {
    "duration": 11,
    "start_time": "2022-09-06T14:44:35.023Z"
   },
   {
    "duration": 196,
    "start_time": "2022-09-06T14:44:35.036Z"
   },
   {
    "duration": 5,
    "start_time": "2022-09-06T14:44:35.234Z"
   },
   {
    "duration": 47,
    "start_time": "2022-09-07T10:47:49.741Z"
   },
   {
    "duration": 820,
    "start_time": "2022-09-07T10:47:57.602Z"
   },
   {
    "duration": 600,
    "start_time": "2022-09-07T10:47:58.424Z"
   },
   {
    "duration": 26,
    "start_time": "2022-09-07T10:47:59.026Z"
   },
   {
    "duration": 6,
    "start_time": "2022-09-07T10:47:59.055Z"
   },
   {
    "duration": 93,
    "start_time": "2022-09-07T10:47:59.062Z"
   },
   {
    "duration": 31,
    "start_time": "2022-09-07T10:47:59.157Z"
   },
   {
    "duration": 10,
    "start_time": "2022-09-07T10:47:59.189Z"
   },
   {
    "duration": 26,
    "start_time": "2022-09-07T10:47:59.204Z"
   },
   {
    "duration": 4,
    "start_time": "2022-09-07T10:47:59.232Z"
   },
   {
    "duration": 21,
    "start_time": "2022-09-07T10:47:59.239Z"
   },
   {
    "duration": 16,
    "start_time": "2022-09-07T10:47:59.261Z"
   },
   {
    "duration": 304,
    "start_time": "2022-09-07T10:47:59.279Z"
   },
   {
    "duration": 44,
    "start_time": "2022-09-07T10:47:59.585Z"
   },
   {
    "duration": 30,
    "start_time": "2022-09-07T10:47:59.631Z"
   },
   {
    "duration": 11,
    "start_time": "2022-09-07T10:47:59.662Z"
   },
   {
    "duration": 30,
    "start_time": "2022-09-07T10:47:59.675Z"
   },
   {
    "duration": 23,
    "start_time": "2022-09-07T10:47:59.706Z"
   },
   {
    "duration": 19,
    "start_time": "2022-09-07T10:47:59.731Z"
   },
   {
    "duration": 65,
    "start_time": "2022-09-07T10:47:59.751Z"
   },
   {
    "duration": 10,
    "start_time": "2022-09-07T10:47:59.818Z"
   },
   {
    "duration": 9,
    "start_time": "2022-09-07T10:47:59.829Z"
   },
   {
    "duration": 180,
    "start_time": "2022-09-07T10:47:59.840Z"
   },
   {
    "duration": 5,
    "start_time": "2022-09-07T10:48:00.022Z"
   },
   {
    "duration": 20,
    "start_time": "2022-09-07T10:48:00.029Z"
   },
   {
    "duration": 17,
    "start_time": "2022-09-07T10:48:08.526Z"
   },
   {
    "duration": 27,
    "start_time": "2022-09-07T10:48:30.406Z"
   },
   {
    "duration": 27,
    "start_time": "2022-09-07T10:48:59.704Z"
   },
   {
    "duration": 5,
    "start_time": "2022-09-07T10:56:45.758Z"
   },
   {
    "duration": 5,
    "start_time": "2022-09-07T10:56:52.460Z"
   },
   {
    "duration": 17,
    "start_time": "2022-09-07T10:56:59.995Z"
   },
   {
    "duration": 106,
    "start_time": "2022-09-07T10:57:44.518Z"
   },
   {
    "duration": 81,
    "start_time": "2022-09-07T10:58:15.310Z"
   },
   {
    "duration": 15,
    "start_time": "2022-09-07T10:58:57.830Z"
   },
   {
    "duration": 34,
    "start_time": "2022-09-07T10:59:06.219Z"
   },
   {
    "duration": 10,
    "start_time": "2022-09-07T11:00:29.432Z"
   },
   {
    "duration": 4,
    "start_time": "2022-09-07T11:00:35.336Z"
   },
   {
    "duration": 3,
    "start_time": "2022-09-07T11:00:38.139Z"
   },
   {
    "duration": 14,
    "start_time": "2022-09-07T11:00:42.154Z"
   },
   {
    "duration": 4,
    "start_time": "2022-09-07T11:02:24.268Z"
   },
   {
    "duration": 3,
    "start_time": "2022-09-07T11:04:13.218Z"
   },
   {
    "duration": 3,
    "start_time": "2022-09-07T11:04:18.167Z"
   },
   {
    "duration": 5,
    "start_time": "2022-09-07T11:04:34.327Z"
   },
   {
    "duration": 7,
    "start_time": "2022-09-07T11:05:10.399Z"
   },
   {
    "duration": 592,
    "start_time": "2022-09-07T11:05:16.296Z"
   },
   {
    "duration": 150,
    "start_time": "2022-09-07T11:05:16.890Z"
   },
   {
    "duration": 24,
    "start_time": "2022-09-07T11:05:17.041Z"
   },
   {
    "duration": 5,
    "start_time": "2022-09-07T11:05:17.067Z"
   },
   {
    "duration": 81,
    "start_time": "2022-09-07T11:05:17.073Z"
   },
   {
    "duration": 31,
    "start_time": "2022-09-07T11:05:17.156Z"
   },
   {
    "duration": 11,
    "start_time": "2022-09-07T11:05:17.188Z"
   },
   {
    "duration": 10,
    "start_time": "2022-09-07T11:05:17.200Z"
   },
   {
    "duration": 4,
    "start_time": "2022-09-07T11:05:17.211Z"
   },
   {
    "duration": 17,
    "start_time": "2022-09-07T11:05:17.216Z"
   },
   {
    "duration": 22,
    "start_time": "2022-09-07T11:05:17.234Z"
   },
   {
    "duration": 287,
    "start_time": "2022-09-07T11:05:17.258Z"
   },
   {
    "duration": 37,
    "start_time": "2022-09-07T11:05:17.547Z"
   },
   {
    "duration": 39,
    "start_time": "2022-09-07T11:05:17.587Z"
   },
   {
    "duration": 11,
    "start_time": "2022-09-07T11:05:17.627Z"
   },
   {
    "duration": 9,
    "start_time": "2022-09-07T11:05:17.640Z"
   },
   {
    "duration": 9,
    "start_time": "2022-09-07T11:05:17.651Z"
   },
   {
    "duration": 42,
    "start_time": "2022-09-07T11:05:17.662Z"
   },
   {
    "duration": 59,
    "start_time": "2022-09-07T11:05:17.706Z"
   },
   {
    "duration": 10,
    "start_time": "2022-09-07T11:05:17.767Z"
   },
   {
    "duration": 26,
    "start_time": "2022-09-07T11:05:17.778Z"
   },
   {
    "duration": 155,
    "start_time": "2022-09-07T11:05:17.805Z"
   },
   {
    "duration": 6,
    "start_time": "2022-09-07T11:05:17.961Z"
   },
   {
    "duration": 46,
    "start_time": "2022-09-07T11:05:17.968Z"
   },
   {
    "duration": 4,
    "start_time": "2022-09-07T11:05:18.016Z"
   },
   {
    "duration": 26,
    "start_time": "2022-09-07T11:05:18.021Z"
   },
   {
    "duration": 5,
    "start_time": "2022-09-07T11:05:18.048Z"
   },
   {
    "duration": 93,
    "start_time": "2022-09-07T11:05:18.054Z"
   },
   {
    "duration": 12,
    "start_time": "2022-09-07T11:05:18.149Z"
   },
   {
    "duration": 40,
    "start_time": "2022-09-07T11:05:18.163Z"
   },
   {
    "duration": 8,
    "start_time": "2022-09-07T11:05:18.204Z"
   },
   {
    "duration": 32,
    "start_time": "2022-09-07T11:06:12.615Z"
   },
   {
    "duration": 14,
    "start_time": "2022-09-07T11:06:28.598Z"
   },
   {
    "duration": 4,
    "start_time": "2022-09-07T11:06:47.898Z"
   },
   {
    "duration": 781,
    "start_time": "2022-09-07T11:07:37.240Z"
   },
   {
    "duration": 152,
    "start_time": "2022-09-07T11:07:38.023Z"
   },
   {
    "duration": 31,
    "start_time": "2022-09-07T11:07:38.176Z"
   },
   {
    "duration": 8,
    "start_time": "2022-09-07T11:07:38.209Z"
   },
   {
    "duration": 90,
    "start_time": "2022-09-07T11:07:38.219Z"
   },
   {
    "duration": 36,
    "start_time": "2022-09-07T11:07:38.310Z"
   },
   {
    "duration": 4,
    "start_time": "2022-09-07T11:07:38.347Z"
   },
   {
    "duration": 25,
    "start_time": "2022-09-07T11:07:38.353Z"
   },
   {
    "duration": 19,
    "start_time": "2022-09-07T11:07:38.380Z"
   },
   {
    "duration": 25,
    "start_time": "2022-09-07T11:07:38.401Z"
   },
   {
    "duration": 20,
    "start_time": "2022-09-07T11:07:38.427Z"
   },
   {
    "duration": 281,
    "start_time": "2022-09-07T11:07:38.449Z"
   },
   {
    "duration": 44,
    "start_time": "2022-09-07T11:07:38.733Z"
   },
   {
    "duration": 48,
    "start_time": "2022-09-07T11:07:38.780Z"
   },
   {
    "duration": 11,
    "start_time": "2022-09-07T11:07:38.830Z"
   },
   {
    "duration": 10,
    "start_time": "2022-09-07T11:07:38.843Z"
   },
   {
    "duration": 10,
    "start_time": "2022-09-07T11:07:38.854Z"
   },
   {
    "duration": 50,
    "start_time": "2022-09-07T11:07:38.865Z"
   },
   {
    "duration": 59,
    "start_time": "2022-09-07T11:07:38.917Z"
   },
   {
    "duration": 24,
    "start_time": "2022-09-07T11:07:38.978Z"
   },
   {
    "duration": 19,
    "start_time": "2022-09-07T11:07:39.004Z"
   },
   {
    "duration": 156,
    "start_time": "2022-09-07T11:07:39.025Z"
   },
   {
    "duration": 4,
    "start_time": "2022-09-07T11:07:39.182Z"
   },
   {
    "duration": 43,
    "start_time": "2022-09-07T11:07:39.187Z"
   },
   {
    "duration": 9,
    "start_time": "2022-09-07T11:07:39.231Z"
   },
   {
    "duration": 40,
    "start_time": "2022-09-07T11:07:39.242Z"
   },
   {
    "duration": 15,
    "start_time": "2022-09-07T11:07:39.283Z"
   },
   {
    "duration": 76,
    "start_time": "2022-09-07T11:07:39.300Z"
   },
   {
    "duration": 26,
    "start_time": "2022-09-07T11:07:39.377Z"
   },
   {
    "duration": 5,
    "start_time": "2022-09-07T11:07:39.405Z"
   },
   {
    "duration": 7,
    "start_time": "2022-09-07T11:07:39.411Z"
   },
   {
    "duration": 33,
    "start_time": "2022-09-07T11:07:39.419Z"
   },
   {
    "duration": 14,
    "start_time": "2022-09-07T11:07:39.453Z"
   },
   {
    "duration": 30,
    "start_time": "2022-09-07T11:07:39.469Z"
   },
   {
    "duration": 3,
    "start_time": "2022-09-07T11:07:39.500Z"
   },
   {
    "duration": 74,
    "start_time": "2022-09-07T11:11:13.088Z"
   },
   {
    "duration": 417,
    "start_time": "2022-09-07T11:11:27.065Z"
   },
   {
    "duration": 36,
    "start_time": "2022-09-07T11:11:29.790Z"
   },
   {
    "duration": 5,
    "start_time": "2022-09-07T11:11:49.734Z"
   },
   {
    "duration": 5,
    "start_time": "2022-09-07T11:11:56.131Z"
   },
   {
    "duration": 4,
    "start_time": "2022-09-07T11:13:48.901Z"
   },
   {
    "duration": 4,
    "start_time": "2022-09-07T11:14:07.095Z"
   },
   {
    "duration": 998,
    "start_time": "2022-09-07T11:14:58.264Z"
   },
   {
    "duration": 146,
    "start_time": "2022-09-07T11:14:59.264Z"
   },
   {
    "duration": 26,
    "start_time": "2022-09-07T11:14:59.412Z"
   },
   {
    "duration": 7,
    "start_time": "2022-09-07T11:14:59.439Z"
   },
   {
    "duration": 79,
    "start_time": "2022-09-07T11:14:59.447Z"
   },
   {
    "duration": 30,
    "start_time": "2022-09-07T11:14:59.528Z"
   },
   {
    "duration": 3,
    "start_time": "2022-09-07T11:14:59.559Z"
   },
   {
    "duration": 12,
    "start_time": "2022-09-07T11:14:59.563Z"
   },
   {
    "duration": 3,
    "start_time": "2022-09-07T11:14:59.576Z"
   },
   {
    "duration": 14,
    "start_time": "2022-09-07T11:14:59.582Z"
   },
   {
    "duration": 15,
    "start_time": "2022-09-07T11:14:59.597Z"
   },
   {
    "duration": 280,
    "start_time": "2022-09-07T11:14:59.613Z"
   },
   {
    "duration": 41,
    "start_time": "2022-09-07T11:14:59.894Z"
   },
   {
    "duration": 66,
    "start_time": "2022-09-07T11:14:59.937Z"
   },
   {
    "duration": 12,
    "start_time": "2022-09-07T11:15:00.004Z"
   },
   {
    "duration": 11,
    "start_time": "2022-09-07T11:15:00.018Z"
   },
   {
    "duration": 11,
    "start_time": "2022-09-07T11:15:00.030Z"
   },
   {
    "duration": 66,
    "start_time": "2022-09-07T11:15:00.043Z"
   },
   {
    "duration": 67,
    "start_time": "2022-09-07T11:15:00.110Z"
   },
   {
    "duration": 11,
    "start_time": "2022-09-07T11:15:00.178Z"
   },
   {
    "duration": 23,
    "start_time": "2022-09-07T11:15:00.190Z"
   },
   {
    "duration": 169,
    "start_time": "2022-09-07T11:15:00.214Z"
   },
   {
    "duration": 16,
    "start_time": "2022-09-07T11:15:00.384Z"
   },
   {
    "duration": 42,
    "start_time": "2022-09-07T11:15:00.401Z"
   },
   {
    "duration": 4,
    "start_time": "2022-09-07T11:15:00.445Z"
   },
   {
    "duration": 151,
    "start_time": "2022-09-07T11:15:00.451Z"
   },
   {
    "duration": 4,
    "start_time": "2022-09-07T11:15:00.603Z"
   },
   {
    "duration": 48,
    "start_time": "2022-09-07T11:15:00.610Z"
   },
   {
    "duration": 15,
    "start_time": "2022-09-07T11:15:00.659Z"
   },
   {
    "duration": 17,
    "start_time": "2022-09-07T11:15:00.675Z"
   },
   {
    "duration": 48,
    "start_time": "2022-09-07T11:15:00.698Z"
   },
   {
    "duration": 65,
    "start_time": "2022-09-07T11:15:00.748Z"
   },
   {
    "duration": 15,
    "start_time": "2022-09-07T11:15:00.814Z"
   },
   {
    "duration": 48,
    "start_time": "2022-09-07T11:15:00.831Z"
   },
   {
    "duration": 19,
    "start_time": "2022-09-07T11:15:00.880Z"
   },
   {
    "duration": 16,
    "start_time": "2022-09-07T11:15:00.901Z"
   },
   {
    "duration": 3,
    "start_time": "2022-09-07T11:20:22.492Z"
   },
   {
    "duration": 3,
    "start_time": "2022-09-07T11:21:39.693Z"
   },
   {
    "duration": 10,
    "start_time": "2022-09-07T11:22:42.133Z"
   },
   {
    "duration": 4,
    "start_time": "2022-09-07T11:22:49.992Z"
   },
   {
    "duration": 10,
    "start_time": "2022-09-07T11:22:51.677Z"
   },
   {
    "duration": 14,
    "start_time": "2022-09-07T11:23:21.641Z"
   },
   {
    "duration": 3,
    "start_time": "2022-09-07T11:23:36.530Z"
   },
   {
    "duration": 6,
    "start_time": "2022-09-07T11:23:45.077Z"
   },
   {
    "duration": 3,
    "start_time": "2022-09-07T11:25:42.890Z"
   },
   {
    "duration": 9,
    "start_time": "2022-09-07T11:25:45.143Z"
   },
   {
    "duration": 3,
    "start_time": "2022-09-07T11:26:29.911Z"
   },
   {
    "duration": 10,
    "start_time": "2022-09-07T11:26:33.505Z"
   },
   {
    "duration": 26,
    "start_time": "2022-09-07T13:43:08.278Z"
   },
   {
    "duration": 5,
    "start_time": "2022-09-07T13:43:26.501Z"
   },
   {
    "duration": 31,
    "start_time": "2022-09-07T13:44:47.712Z"
   },
   {
    "duration": 26,
    "start_time": "2022-09-07T13:45:33.258Z"
   },
   {
    "duration": 4,
    "start_time": "2022-09-07T13:45:45.599Z"
   },
   {
    "duration": 35,
    "start_time": "2022-09-07T13:45:53.874Z"
   },
   {
    "duration": 12,
    "start_time": "2022-09-07T13:46:34.733Z"
   },
   {
    "duration": 14,
    "start_time": "2022-09-07T13:47:50.372Z"
   },
   {
    "duration": 16,
    "start_time": "2022-09-07T13:51:21.989Z"
   },
   {
    "duration": 5,
    "start_time": "2022-09-07T13:51:53.702Z"
   },
   {
    "duration": 33,
    "start_time": "2022-09-07T13:53:36.079Z"
   },
   {
    "duration": 6,
    "start_time": "2022-09-07T13:54:40.618Z"
   },
   {
    "duration": 47,
    "start_time": "2022-09-07T13:55:04.707Z"
   },
   {
    "duration": 13,
    "start_time": "2022-09-07T13:55:48.317Z"
   },
   {
    "duration": 12,
    "start_time": "2022-09-07T14:00:01.420Z"
   },
   {
    "duration": 17,
    "start_time": "2022-09-07T14:00:14.270Z"
   },
   {
    "duration": 988,
    "start_time": "2022-09-07T14:00:41.355Z"
   },
   {
    "duration": 152,
    "start_time": "2022-09-07T14:00:42.345Z"
   },
   {
    "duration": 27,
    "start_time": "2022-09-07T14:00:42.498Z"
   },
   {
    "duration": 5,
    "start_time": "2022-09-07T14:00:42.526Z"
   },
   {
    "duration": 89,
    "start_time": "2022-09-07T14:00:42.533Z"
   },
   {
    "duration": 29,
    "start_time": "2022-09-07T14:00:42.624Z"
   },
   {
    "duration": 3,
    "start_time": "2022-09-07T14:00:42.654Z"
   },
   {
    "duration": 12,
    "start_time": "2022-09-07T14:00:42.659Z"
   },
   {
    "duration": 4,
    "start_time": "2022-09-07T14:00:42.697Z"
   },
   {
    "duration": 40,
    "start_time": "2022-09-07T14:00:42.703Z"
   },
   {
    "duration": 21,
    "start_time": "2022-09-07T14:00:42.744Z"
   },
   {
    "duration": 271,
    "start_time": "2022-09-07T14:00:42.767Z"
   },
   {
    "duration": 36,
    "start_time": "2022-09-07T14:00:43.039Z"
   },
   {
    "duration": 40,
    "start_time": "2022-09-07T14:00:43.078Z"
   },
   {
    "duration": 11,
    "start_time": "2022-09-07T14:00:43.119Z"
   },
   {
    "duration": 9,
    "start_time": "2022-09-07T14:00:43.132Z"
   },
   {
    "duration": 9,
    "start_time": "2022-09-07T14:00:43.142Z"
   },
   {
    "duration": 20,
    "start_time": "2022-09-07T14:00:43.152Z"
   },
   {
    "duration": 67,
    "start_time": "2022-09-07T14:00:43.199Z"
   },
   {
    "duration": 11,
    "start_time": "2022-09-07T14:00:43.268Z"
   },
   {
    "duration": 7,
    "start_time": "2022-09-07T14:00:43.298Z"
   },
   {
    "duration": 160,
    "start_time": "2022-09-07T14:00:43.307Z"
   },
   {
    "duration": 4,
    "start_time": "2022-09-07T14:00:43.469Z"
   },
   {
    "duration": 40,
    "start_time": "2022-09-07T14:00:43.475Z"
   },
   {
    "duration": 6,
    "start_time": "2022-09-07T14:00:43.517Z"
   },
   {
    "duration": 38,
    "start_time": "2022-09-07T14:00:43.525Z"
   },
   {
    "duration": 5,
    "start_time": "2022-09-07T14:00:43.565Z"
   },
   {
    "duration": 72,
    "start_time": "2022-09-07T14:00:43.572Z"
   },
   {
    "duration": 17,
    "start_time": "2022-09-07T14:00:43.646Z"
   },
   {
    "duration": 4,
    "start_time": "2022-09-07T14:00:43.665Z"
   },
   {
    "duration": 7,
    "start_time": "2022-09-07T14:00:43.671Z"
   },
   {
    "duration": 51,
    "start_time": "2022-09-07T14:00:43.679Z"
   },
   {
    "duration": 13,
    "start_time": "2022-09-07T14:00:43.732Z"
   },
   {
    "duration": 9,
    "start_time": "2022-09-07T14:00:43.747Z"
   },
   {
    "duration": 8,
    "start_time": "2022-09-07T14:00:43.757Z"
   },
   {
    "duration": 5,
    "start_time": "2022-09-07T14:00:43.766Z"
   },
   {
    "duration": 17,
    "start_time": "2022-09-07T14:00:43.773Z"
   },
   {
    "duration": 28,
    "start_time": "2022-09-07T14:00:43.792Z"
   },
   {
    "duration": 25,
    "start_time": "2022-09-07T14:00:43.821Z"
   },
   {
    "duration": 4,
    "start_time": "2022-09-07T14:00:43.847Z"
   },
   {
    "duration": 47,
    "start_time": "2022-09-07T14:00:43.854Z"
   },
   {
    "duration": 14,
    "start_time": "2022-09-07T14:00:43.903Z"
   },
   {
    "duration": 15,
    "start_time": "2022-09-07T14:00:43.919Z"
   },
   {
    "duration": 34,
    "start_time": "2022-09-07T14:00:43.935Z"
   },
   {
    "duration": 32,
    "start_time": "2022-09-07T14:00:43.970Z"
   },
   {
    "duration": 55,
    "start_time": "2022-09-07T14:00:44.004Z"
   },
   {
    "duration": 15,
    "start_time": "2022-09-07T14:00:44.060Z"
   },
   {
    "duration": 4,
    "start_time": "2022-09-07T14:02:50.925Z"
   },
   {
    "duration": 13,
    "start_time": "2022-09-07T14:02:53.398Z"
   },
   {
    "duration": 1068,
    "start_time": "2022-09-07T14:03:01.489Z"
   },
   {
    "duration": 147,
    "start_time": "2022-09-07T14:03:02.559Z"
   },
   {
    "duration": 29,
    "start_time": "2022-09-07T14:03:02.708Z"
   },
   {
    "duration": 5,
    "start_time": "2022-09-07T14:03:02.739Z"
   },
   {
    "duration": 88,
    "start_time": "2022-09-07T14:03:02.745Z"
   },
   {
    "duration": 31,
    "start_time": "2022-09-07T14:03:02.835Z"
   },
   {
    "duration": 4,
    "start_time": "2022-09-07T14:03:02.868Z"
   },
   {
    "duration": 29,
    "start_time": "2022-09-07T14:03:02.873Z"
   },
   {
    "duration": 7,
    "start_time": "2022-09-07T14:03:02.904Z"
   },
   {
    "duration": 16,
    "start_time": "2022-09-07T14:03:02.913Z"
   },
   {
    "duration": 37,
    "start_time": "2022-09-07T14:03:02.930Z"
   },
   {
    "duration": 279,
    "start_time": "2022-09-07T14:03:02.968Z"
   },
   {
    "duration": 38,
    "start_time": "2022-09-07T14:03:03.248Z"
   },
   {
    "duration": 51,
    "start_time": "2022-09-07T14:03:03.288Z"
   },
   {
    "duration": 11,
    "start_time": "2022-09-07T14:03:03.340Z"
   },
   {
    "duration": 10,
    "start_time": "2022-09-07T14:03:03.352Z"
   },
   {
    "duration": 13,
    "start_time": "2022-09-07T14:03:03.364Z"
   },
   {
    "duration": 20,
    "start_time": "2022-09-07T14:03:03.398Z"
   },
   {
    "duration": 60,
    "start_time": "2022-09-07T14:03:03.419Z"
   },
   {
    "duration": 20,
    "start_time": "2022-09-07T14:03:03.481Z"
   },
   {
    "duration": 8,
    "start_time": "2022-09-07T14:03:03.503Z"
   },
   {
    "duration": 163,
    "start_time": "2022-09-07T14:03:03.513Z"
   },
   {
    "duration": 5,
    "start_time": "2022-09-07T14:03:03.677Z"
   },
   {
    "duration": 38,
    "start_time": "2022-09-07T14:03:03.683Z"
   },
   {
    "duration": 5,
    "start_time": "2022-09-07T14:03:03.722Z"
   },
   {
    "duration": 26,
    "start_time": "2022-09-07T14:03:03.729Z"
   },
   {
    "duration": 6,
    "start_time": "2022-09-07T14:03:03.757Z"
   },
   {
    "duration": 33,
    "start_time": "2022-09-07T14:03:03.799Z"
   },
   {
    "duration": 12,
    "start_time": "2022-09-07T14:03:03.834Z"
   },
   {
    "duration": 5,
    "start_time": "2022-09-07T14:03:03.848Z"
   },
   {
    "duration": 6,
    "start_time": "2022-09-07T14:03:03.855Z"
   },
   {
    "duration": 49,
    "start_time": "2022-09-07T14:03:03.863Z"
   },
   {
    "duration": 15,
    "start_time": "2022-09-07T14:03:03.914Z"
   },
   {
    "duration": 12,
    "start_time": "2022-09-07T14:03:03.930Z"
   },
   {
    "duration": 7,
    "start_time": "2022-09-07T14:03:03.944Z"
   },
   {
    "duration": 7,
    "start_time": "2022-09-07T14:03:03.953Z"
   },
   {
    "duration": 13,
    "start_time": "2022-09-07T14:03:03.962Z"
   },
   {
    "duration": 31,
    "start_time": "2022-09-07T14:03:03.976Z"
   },
   {
    "duration": 26,
    "start_time": "2022-09-07T14:03:04.008Z"
   },
   {
    "duration": 5,
    "start_time": "2022-09-07T14:03:04.035Z"
   },
   {
    "duration": 58,
    "start_time": "2022-09-07T14:03:04.041Z"
   },
   {
    "duration": 14,
    "start_time": "2022-09-07T14:03:04.101Z"
   },
   {
    "duration": 15,
    "start_time": "2022-09-07T14:03:04.117Z"
   },
   {
    "duration": 33,
    "start_time": "2022-09-07T14:03:04.133Z"
   },
   {
    "duration": 36,
    "start_time": "2022-09-07T14:03:04.167Z"
   },
   {
    "duration": 47,
    "start_time": "2022-09-07T14:03:04.204Z"
   },
   {
    "duration": 16,
    "start_time": "2022-09-07T14:03:04.252Z"
   },
   {
    "duration": 1174,
    "start_time": "2022-09-07T14:13:24.078Z"
   },
   {
    "duration": 146,
    "start_time": "2022-09-07T14:13:25.254Z"
   },
   {
    "duration": 27,
    "start_time": "2022-09-07T14:13:25.402Z"
   },
   {
    "duration": 5,
    "start_time": "2022-09-07T14:13:25.431Z"
   },
   {
    "duration": 90,
    "start_time": "2022-09-07T14:13:25.438Z"
   },
   {
    "duration": 33,
    "start_time": "2022-09-07T14:13:25.529Z"
   },
   {
    "duration": 4,
    "start_time": "2022-09-07T14:13:25.564Z"
   },
   {
    "duration": 30,
    "start_time": "2022-09-07T14:13:25.569Z"
   },
   {
    "duration": 3,
    "start_time": "2022-09-07T14:13:25.600Z"
   },
   {
    "duration": 16,
    "start_time": "2022-09-07T14:13:25.606Z"
   },
   {
    "duration": 26,
    "start_time": "2022-09-07T14:13:25.623Z"
   },
   {
    "duration": 280,
    "start_time": "2022-09-07T14:13:25.651Z"
   },
   {
    "duration": 40,
    "start_time": "2022-09-07T14:13:25.933Z"
   },
   {
    "duration": 46,
    "start_time": "2022-09-07T14:13:25.975Z"
   },
   {
    "duration": 11,
    "start_time": "2022-09-07T14:13:26.023Z"
   },
   {
    "duration": 10,
    "start_time": "2022-09-07T14:13:26.036Z"
   },
   {
    "duration": 20,
    "start_time": "2022-09-07T14:13:26.048Z"
   },
   {
    "duration": 40,
    "start_time": "2022-09-07T14:13:26.074Z"
   },
   {
    "duration": 62,
    "start_time": "2022-09-07T14:13:26.116Z"
   },
   {
    "duration": 26,
    "start_time": "2022-09-07T14:13:26.179Z"
   },
   {
    "duration": 8,
    "start_time": "2022-09-07T14:13:26.207Z"
   },
   {
    "duration": 173,
    "start_time": "2022-09-07T14:13:26.216Z"
   },
   {
    "duration": 9,
    "start_time": "2022-09-07T14:13:26.391Z"
   },
   {
    "duration": 31,
    "start_time": "2022-09-07T14:13:26.401Z"
   },
   {
    "duration": 4,
    "start_time": "2022-09-07T14:13:26.434Z"
   },
   {
    "duration": 27,
    "start_time": "2022-09-07T14:13:26.439Z"
   },
   {
    "duration": 33,
    "start_time": "2022-09-07T14:13:26.468Z"
   },
   {
    "duration": 33,
    "start_time": "2022-09-07T14:13:26.504Z"
   },
   {
    "duration": 13,
    "start_time": "2022-09-07T14:13:26.538Z"
   },
   {
    "duration": 4,
    "start_time": "2022-09-07T14:13:26.552Z"
   },
   {
    "duration": 9,
    "start_time": "2022-09-07T14:13:26.558Z"
   },
   {
    "duration": 54,
    "start_time": "2022-09-07T14:13:26.568Z"
   },
   {
    "duration": 13,
    "start_time": "2022-09-07T14:13:26.623Z"
   },
   {
    "duration": 6,
    "start_time": "2022-09-07T14:13:26.638Z"
   },
   {
    "duration": 13,
    "start_time": "2022-09-07T14:13:26.646Z"
   },
   {
    "duration": 6,
    "start_time": "2022-09-07T14:13:26.660Z"
   },
   {
    "duration": 4,
    "start_time": "2022-09-07T14:13:26.667Z"
   },
   {
    "duration": 35,
    "start_time": "2022-09-07T14:13:26.672Z"
   },
   {
    "duration": 26,
    "start_time": "2022-09-07T14:13:26.708Z"
   },
   {
    "duration": 4,
    "start_time": "2022-09-07T14:13:26.735Z"
   },
   {
    "duration": 59,
    "start_time": "2022-09-07T14:13:26.740Z"
   },
   {
    "duration": 15,
    "start_time": "2022-09-07T14:13:26.800Z"
   },
   {
    "duration": 13,
    "start_time": "2022-09-07T14:13:26.816Z"
   },
   {
    "duration": 33,
    "start_time": "2022-09-07T14:13:26.830Z"
   },
   {
    "duration": 35,
    "start_time": "2022-09-07T14:13:26.864Z"
   },
   {
    "duration": 53,
    "start_time": "2022-09-07T14:13:26.901Z"
   },
   {
    "duration": 13,
    "start_time": "2022-09-07T14:13:26.955Z"
   },
   {
    "duration": 15,
    "start_time": "2022-09-07T14:16:05.388Z"
   },
   {
    "duration": 43,
    "start_time": "2022-09-08T10:44:28.325Z"
   },
   {
    "duration": 1265,
    "start_time": "2022-09-08T10:44:33.885Z"
   },
   {
    "duration": 711,
    "start_time": "2022-09-08T10:44:35.152Z"
   },
   {
    "duration": 27,
    "start_time": "2022-09-08T10:44:35.864Z"
   },
   {
    "duration": 5,
    "start_time": "2022-09-08T10:44:35.893Z"
   },
   {
    "duration": 76,
    "start_time": "2022-09-08T10:44:35.900Z"
   },
   {
    "duration": 38,
    "start_time": "2022-09-08T10:44:35.977Z"
   },
   {
    "duration": 9,
    "start_time": "2022-09-08T10:44:36.017Z"
   },
   {
    "duration": 25,
    "start_time": "2022-09-08T10:44:36.028Z"
   },
   {
    "duration": 8,
    "start_time": "2022-09-08T10:44:36.055Z"
   },
   {
    "duration": 27,
    "start_time": "2022-09-08T10:44:36.066Z"
   },
   {
    "duration": 30,
    "start_time": "2022-09-08T10:44:36.095Z"
   },
   {
    "duration": 328,
    "start_time": "2022-09-08T10:44:36.127Z"
   },
   {
    "duration": 37,
    "start_time": "2022-09-08T10:44:36.457Z"
   },
   {
    "duration": 47,
    "start_time": "2022-09-08T10:44:36.496Z"
   },
   {
    "duration": 13,
    "start_time": "2022-09-08T10:44:36.544Z"
   },
   {
    "duration": 10,
    "start_time": "2022-09-08T10:44:36.558Z"
   },
   {
    "duration": 37,
    "start_time": "2022-09-08T10:44:36.569Z"
   },
   {
    "duration": 33,
    "start_time": "2022-09-08T10:44:36.609Z"
   },
   {
    "duration": 72,
    "start_time": "2022-09-08T10:44:36.644Z"
   },
   {
    "duration": 14,
    "start_time": "2022-09-08T10:44:36.719Z"
   },
   {
    "duration": 8,
    "start_time": "2022-09-08T10:44:36.734Z"
   },
   {
    "duration": 170,
    "start_time": "2022-09-08T10:44:36.743Z"
   },
   {
    "duration": 4,
    "start_time": "2022-09-08T10:44:36.915Z"
   },
   {
    "duration": 29,
    "start_time": "2022-09-08T10:44:36.921Z"
   },
   {
    "duration": 4,
    "start_time": "2022-09-08T10:44:36.952Z"
   },
   {
    "duration": 50,
    "start_time": "2022-09-08T10:44:36.957Z"
   },
   {
    "duration": 5,
    "start_time": "2022-09-08T10:44:37.008Z"
   },
   {
    "duration": 32,
    "start_time": "2022-09-08T10:44:37.017Z"
   },
   {
    "duration": 14,
    "start_time": "2022-09-08T10:44:37.051Z"
   },
   {
    "duration": 6,
    "start_time": "2022-09-08T10:44:37.066Z"
   },
   {
    "duration": 34,
    "start_time": "2022-09-08T10:44:37.073Z"
   },
   {
    "duration": 35,
    "start_time": "2022-09-08T10:44:37.109Z"
   },
   {
    "duration": 14,
    "start_time": "2022-09-08T10:44:37.145Z"
   },
   {
    "duration": 8,
    "start_time": "2022-09-08T10:44:37.160Z"
   },
   {
    "duration": 5,
    "start_time": "2022-09-08T10:44:37.169Z"
   },
   {
    "duration": 5,
    "start_time": "2022-09-08T10:44:37.176Z"
   },
   {
    "duration": 5,
    "start_time": "2022-09-08T10:44:37.207Z"
   },
   {
    "duration": 25,
    "start_time": "2022-09-08T10:44:37.213Z"
   },
   {
    "duration": 24,
    "start_time": "2022-09-08T10:44:37.240Z"
   },
   {
    "duration": 4,
    "start_time": "2022-09-08T10:44:37.265Z"
   },
   {
    "duration": 51,
    "start_time": "2022-09-08T10:44:37.271Z"
   },
   {
    "duration": 16,
    "start_time": "2022-09-08T10:44:37.324Z"
   },
   {
    "duration": 14,
    "start_time": "2022-09-08T10:44:37.342Z"
   },
   {
    "duration": 60,
    "start_time": "2022-09-08T10:44:37.357Z"
   },
   {
    "duration": 7,
    "start_time": "2022-09-08T10:44:37.419Z"
   },
   {
    "duration": 47,
    "start_time": "2022-09-08T10:44:37.428Z"
   },
   {
    "duration": 43,
    "start_time": "2022-09-08T10:44:37.476Z"
   },
   {
    "duration": 3,
    "start_time": "2022-09-08T10:47:17.040Z"
   },
   {
    "duration": 1064,
    "start_time": "2022-09-08T10:47:24.412Z"
   },
   {
    "duration": 161,
    "start_time": "2022-09-08T10:47:25.478Z"
   },
   {
    "duration": 26,
    "start_time": "2022-09-08T10:47:25.641Z"
   },
   {
    "duration": 6,
    "start_time": "2022-09-08T10:47:25.668Z"
   },
   {
    "duration": 102,
    "start_time": "2022-09-08T10:47:25.677Z"
   },
   {
    "duration": 40,
    "start_time": "2022-09-08T10:47:25.781Z"
   },
   {
    "duration": 5,
    "start_time": "2022-09-08T10:47:25.823Z"
   },
   {
    "duration": 13,
    "start_time": "2022-09-08T10:47:25.830Z"
   },
   {
    "duration": 3,
    "start_time": "2022-09-08T10:47:25.845Z"
   },
   {
    "duration": 15,
    "start_time": "2022-09-08T10:47:25.849Z"
   },
   {
    "duration": 15,
    "start_time": "2022-09-08T10:47:25.865Z"
   },
   {
    "duration": 358,
    "start_time": "2022-09-08T10:47:25.881Z"
   },
   {
    "duration": 41,
    "start_time": "2022-09-08T10:47:26.240Z"
   },
   {
    "duration": 52,
    "start_time": "2022-09-08T10:47:26.285Z"
   },
   {
    "duration": 13,
    "start_time": "2022-09-08T10:47:26.339Z"
   },
   {
    "duration": 13,
    "start_time": "2022-09-08T10:47:26.354Z"
   },
   {
    "duration": 11,
    "start_time": "2022-09-08T10:47:26.370Z"
   },
   {
    "duration": 27,
    "start_time": "2022-09-08T10:47:26.411Z"
   },
   {
    "duration": 60,
    "start_time": "2022-09-08T10:47:26.439Z"
   },
   {
    "duration": 14,
    "start_time": "2022-09-08T10:47:26.507Z"
   },
   {
    "duration": 15,
    "start_time": "2022-09-08T10:47:26.523Z"
   },
   {
    "duration": 170,
    "start_time": "2022-09-08T10:47:26.540Z"
   },
   {
    "duration": 5,
    "start_time": "2022-09-08T10:47:26.712Z"
   },
   {
    "duration": 38,
    "start_time": "2022-09-08T10:47:26.719Z"
   },
   {
    "duration": 5,
    "start_time": "2022-09-08T10:47:26.759Z"
   },
   {
    "duration": 49,
    "start_time": "2022-09-08T10:47:26.766Z"
   },
   {
    "duration": 6,
    "start_time": "2022-09-08T10:47:26.817Z"
   },
   {
    "duration": 49,
    "start_time": "2022-09-08T10:47:26.824Z"
   },
   {
    "duration": 14,
    "start_time": "2022-09-08T10:47:26.875Z"
   },
   {
    "duration": 5,
    "start_time": "2022-09-08T10:47:26.907Z"
   },
   {
    "duration": 10,
    "start_time": "2022-09-08T10:47:26.914Z"
   },
   {
    "duration": 32,
    "start_time": "2022-09-08T10:47:26.926Z"
   },
   {
    "duration": 12,
    "start_time": "2022-09-08T10:47:26.960Z"
   },
   {
    "duration": 3,
    "start_time": "2022-09-08T10:47:26.974Z"
   },
   {
    "duration": 27,
    "start_time": "2022-09-08T10:47:26.979Z"
   },
   {
    "duration": 8,
    "start_time": "2022-09-08T10:47:27.009Z"
   },
   {
    "duration": 21,
    "start_time": "2022-09-08T10:47:27.018Z"
   },
   {
    "duration": 19,
    "start_time": "2022-09-08T10:47:27.040Z"
   },
   {
    "duration": 24,
    "start_time": "2022-09-08T10:47:27.060Z"
   },
   {
    "duration": 5,
    "start_time": "2022-09-08T10:47:27.085Z"
   },
   {
    "duration": 55,
    "start_time": "2022-09-08T10:47:27.092Z"
   },
   {
    "duration": 14,
    "start_time": "2022-09-08T10:47:27.148Z"
   },
   {
    "duration": 13,
    "start_time": "2022-09-08T10:47:27.164Z"
   },
   {
    "duration": 66,
    "start_time": "2022-09-08T10:47:27.178Z"
   },
   {
    "duration": 5,
    "start_time": "2022-09-08T10:47:27.246Z"
   },
   {
    "duration": 79,
    "start_time": "2022-09-08T10:47:27.252Z"
   },
   {
    "duration": 17,
    "start_time": "2022-09-08T10:47:27.333Z"
   },
   {
    "duration": 28,
    "start_time": "2022-09-08T13:05:40.865Z"
   },
   {
    "duration": 115,
    "start_time": "2022-09-08T13:05:56.065Z"
   },
   {
    "duration": 30,
    "start_time": "2022-09-08T13:06:23.275Z"
   },
   {
    "duration": 116,
    "start_time": "2022-09-08T13:07:01.692Z"
   },
   {
    "duration": 82,
    "start_time": "2022-09-08T13:07:04.982Z"
   },
   {
    "duration": 1387,
    "start_time": "2022-09-08T13:07:07.417Z"
   },
   {
    "duration": 13,
    "start_time": "2022-09-08T13:07:31.548Z"
   },
   {
    "duration": 988,
    "start_time": "2022-09-08T13:08:22.837Z"
   },
   {
    "duration": 138,
    "start_time": "2022-09-08T13:08:23.827Z"
   },
   {
    "duration": 25,
    "start_time": "2022-09-08T13:08:23.967Z"
   },
   {
    "duration": 13,
    "start_time": "2022-09-08T13:08:23.993Z"
   },
   {
    "duration": 73,
    "start_time": "2022-09-08T13:08:24.097Z"
   },
   {
    "duration": 27,
    "start_time": "2022-09-08T13:08:24.172Z"
   },
   {
    "duration": 4,
    "start_time": "2022-09-08T13:08:24.205Z"
   },
   {
    "duration": 12,
    "start_time": "2022-09-08T13:08:24.210Z"
   },
   {
    "duration": 3,
    "start_time": "2022-09-08T13:08:24.225Z"
   },
   {
    "duration": 14,
    "start_time": "2022-09-08T13:08:24.229Z"
   },
   {
    "duration": 16,
    "start_time": "2022-09-08T13:08:24.244Z"
   },
   {
    "duration": 275,
    "start_time": "2022-09-08T13:08:24.261Z"
   },
   {
    "duration": 35,
    "start_time": "2022-09-08T13:08:24.538Z"
   },
   {
    "duration": 46,
    "start_time": "2022-09-08T13:08:24.575Z"
   },
   {
    "duration": 12,
    "start_time": "2022-09-08T13:08:24.622Z"
   },
   {
    "duration": 9,
    "start_time": "2022-09-08T13:08:24.635Z"
   },
   {
    "duration": 14,
    "start_time": "2022-09-08T13:08:24.646Z"
   },
   {
    "duration": 17,
    "start_time": "2022-09-08T13:08:24.663Z"
   },
   {
    "duration": 70,
    "start_time": "2022-09-08T13:08:24.681Z"
   },
   {
    "duration": 10,
    "start_time": "2022-09-08T13:08:24.752Z"
   },
   {
    "duration": 7,
    "start_time": "2022-09-08T13:08:24.764Z"
   },
   {
    "duration": 156,
    "start_time": "2022-09-08T13:08:24.772Z"
   },
   {
    "duration": 5,
    "start_time": "2022-09-08T13:08:24.930Z"
   },
   {
    "duration": 29,
    "start_time": "2022-09-08T13:08:24.937Z"
   },
   {
    "duration": 4,
    "start_time": "2022-09-08T13:08:24.967Z"
   },
   {
    "duration": 49,
    "start_time": "2022-09-08T13:08:24.972Z"
   },
   {
    "duration": 4,
    "start_time": "2022-09-08T13:08:25.022Z"
   },
   {
    "duration": 31,
    "start_time": "2022-09-08T13:08:25.028Z"
   },
   {
    "duration": 13,
    "start_time": "2022-09-08T13:08:25.060Z"
   },
   {
    "duration": 3,
    "start_time": "2022-09-08T13:08:25.075Z"
   },
   {
    "duration": 3,
    "start_time": "2022-09-08T13:08:25.106Z"
   },
   {
    "duration": 28,
    "start_time": "2022-09-08T13:08:25.110Z"
   },
   {
    "duration": 13,
    "start_time": "2022-09-08T13:08:25.140Z"
   },
   {
    "duration": 5,
    "start_time": "2022-09-08T13:08:25.154Z"
   },
   {
    "duration": 5,
    "start_time": "2022-09-08T13:08:25.160Z"
   },
   {
    "duration": 8,
    "start_time": "2022-09-08T13:08:25.167Z"
   },
   {
    "duration": 4,
    "start_time": "2022-09-08T13:08:25.176Z"
   },
   {
    "duration": 12,
    "start_time": "2022-09-08T13:08:25.205Z"
   },
   {
    "duration": 23,
    "start_time": "2022-09-08T13:08:25.218Z"
   },
   {
    "duration": 3,
    "start_time": "2022-09-08T13:08:25.243Z"
   },
   {
    "duration": 33,
    "start_time": "2022-09-08T13:08:25.247Z"
   },
   {
    "duration": 36,
    "start_time": "2022-09-08T13:08:25.281Z"
   },
   {
    "duration": 12,
    "start_time": "2022-09-08T13:08:25.319Z"
   },
   {
    "duration": 30,
    "start_time": "2022-09-08T13:08:25.333Z"
   },
   {
    "duration": 6,
    "start_time": "2022-09-08T13:08:25.365Z"
   },
   {
    "duration": 73,
    "start_time": "2022-09-08T13:08:25.373Z"
   },
   {
    "duration": 16,
    "start_time": "2022-09-08T13:08:25.447Z"
   },
   {
    "duration": 7,
    "start_time": "2022-09-08T13:14:59.008Z"
   },
   {
    "duration": 4,
    "start_time": "2022-09-08T13:15:20.222Z"
   },
   {
    "duration": 5,
    "start_time": "2022-09-08T13:16:07.958Z"
   },
   {
    "duration": 4,
    "start_time": "2022-09-08T13:21:38.865Z"
   },
   {
    "duration": 4,
    "start_time": "2022-09-08T13:32:02.358Z"
   },
   {
    "duration": 4,
    "start_time": "2022-09-08T13:32:17.551Z"
   },
   {
    "duration": 1099,
    "start_time": "2022-09-08T13:36:30.987Z"
   },
   {
    "duration": 185,
    "start_time": "2022-09-08T13:36:32.088Z"
   },
   {
    "duration": 28,
    "start_time": "2022-09-08T13:36:32.358Z"
   },
   {
    "duration": 20,
    "start_time": "2022-09-08T13:36:32.387Z"
   },
   {
    "duration": 89,
    "start_time": "2022-09-08T13:36:32.458Z"
   },
   {
    "duration": 29,
    "start_time": "2022-09-08T13:36:32.549Z"
   },
   {
    "duration": 4,
    "start_time": "2022-09-08T13:36:32.580Z"
   },
   {
    "duration": 40,
    "start_time": "2022-09-08T13:36:32.585Z"
   },
   {
    "duration": 20,
    "start_time": "2022-09-08T13:36:32.629Z"
   },
   {
    "duration": 44,
    "start_time": "2022-09-08T13:36:32.650Z"
   },
   {
    "duration": 44,
    "start_time": "2022-09-08T13:36:32.695Z"
   },
   {
    "duration": 323,
    "start_time": "2022-09-08T13:36:32.741Z"
   },
   {
    "duration": 41,
    "start_time": "2022-09-08T13:36:33.065Z"
   },
   {
    "duration": 42,
    "start_time": "2022-09-08T13:36:33.109Z"
   },
   {
    "duration": 12,
    "start_time": "2022-09-08T13:36:33.153Z"
   },
   {
    "duration": 19,
    "start_time": "2022-09-08T13:36:33.166Z"
   },
   {
    "duration": 43,
    "start_time": "2022-09-08T13:36:33.187Z"
   },
   {
    "duration": 27,
    "start_time": "2022-09-08T13:36:33.232Z"
   },
   {
    "duration": 75,
    "start_time": "2022-09-08T13:36:33.260Z"
   },
   {
    "duration": 11,
    "start_time": "2022-09-08T13:36:33.337Z"
   },
   {
    "duration": 16,
    "start_time": "2022-09-08T13:36:33.350Z"
   },
   {
    "duration": 165,
    "start_time": "2022-09-08T13:36:33.368Z"
   },
   {
    "duration": 5,
    "start_time": "2022-09-08T13:36:33.535Z"
   },
   {
    "duration": 52,
    "start_time": "2022-09-08T13:36:33.541Z"
   },
   {
    "duration": 5,
    "start_time": "2022-09-08T13:36:33.594Z"
   },
   {
    "duration": 54,
    "start_time": "2022-09-08T13:36:33.600Z"
   },
   {
    "duration": 5,
    "start_time": "2022-09-08T13:36:33.656Z"
   },
   {
    "duration": 55,
    "start_time": "2022-09-08T13:36:33.662Z"
   },
   {
    "duration": 16,
    "start_time": "2022-09-08T13:36:33.719Z"
   },
   {
    "duration": 33,
    "start_time": "2022-09-08T13:36:33.736Z"
   },
   {
    "duration": 55,
    "start_time": "2022-09-08T13:36:33.771Z"
   },
   {
    "duration": 15,
    "start_time": "2022-09-08T13:36:33.828Z"
   },
   {
    "duration": 21,
    "start_time": "2022-09-08T13:36:33.844Z"
   },
   {
    "duration": 120,
    "start_time": "2022-09-08T13:36:33.866Z"
   },
   {
    "duration": 0,
    "start_time": "2022-09-08T13:36:33.988Z"
   },
   {
    "duration": 0,
    "start_time": "2022-09-08T13:36:33.989Z"
   },
   {
    "duration": 0,
    "start_time": "2022-09-08T13:36:33.990Z"
   },
   {
    "duration": 0,
    "start_time": "2022-09-08T13:36:33.991Z"
   },
   {
    "duration": 0,
    "start_time": "2022-09-08T13:36:33.991Z"
   },
   {
    "duration": 0,
    "start_time": "2022-09-08T13:36:34.012Z"
   },
   {
    "duration": 0,
    "start_time": "2022-09-08T13:36:34.013Z"
   },
   {
    "duration": 0,
    "start_time": "2022-09-08T13:36:34.014Z"
   },
   {
    "duration": 0,
    "start_time": "2022-09-08T13:36:34.016Z"
   },
   {
    "duration": 0,
    "start_time": "2022-09-08T13:36:34.017Z"
   },
   {
    "duration": 0,
    "start_time": "2022-09-08T13:36:34.018Z"
   },
   {
    "duration": 1130,
    "start_time": "2022-09-08T13:37:47.362Z"
   },
   {
    "duration": 149,
    "start_time": "2022-09-08T13:37:48.494Z"
   },
   {
    "duration": 27,
    "start_time": "2022-09-08T13:37:48.645Z"
   },
   {
    "duration": 6,
    "start_time": "2022-09-08T13:37:48.675Z"
   },
   {
    "duration": 96,
    "start_time": "2022-09-08T13:37:48.683Z"
   },
   {
    "duration": 42,
    "start_time": "2022-09-08T13:37:48.781Z"
   },
   {
    "duration": 4,
    "start_time": "2022-09-08T13:37:48.825Z"
   },
   {
    "duration": 13,
    "start_time": "2022-09-08T13:37:48.830Z"
   },
   {
    "duration": 3,
    "start_time": "2022-09-08T13:37:48.845Z"
   },
   {
    "duration": 15,
    "start_time": "2022-09-08T13:37:48.851Z"
   },
   {
    "duration": 55,
    "start_time": "2022-09-08T13:37:48.867Z"
   },
   {
    "duration": 310,
    "start_time": "2022-09-08T13:37:48.924Z"
   },
   {
    "duration": 44,
    "start_time": "2022-09-08T13:37:49.235Z"
   },
   {
    "duration": 40,
    "start_time": "2022-09-08T13:37:49.281Z"
   },
   {
    "duration": 12,
    "start_time": "2022-09-08T13:37:49.323Z"
   },
   {
    "duration": 10,
    "start_time": "2022-09-08T13:37:49.336Z"
   },
   {
    "duration": 8,
    "start_time": "2022-09-08T13:37:49.347Z"
   },
   {
    "duration": 17,
    "start_time": "2022-09-08T13:37:49.357Z"
   },
   {
    "duration": 76,
    "start_time": "2022-09-08T13:37:49.376Z"
   },
   {
    "duration": 11,
    "start_time": "2022-09-08T13:37:49.454Z"
   },
   {
    "duration": 8,
    "start_time": "2022-09-08T13:37:49.467Z"
   },
   {
    "duration": 195,
    "start_time": "2022-09-08T13:37:49.476Z"
   },
   {
    "duration": 5,
    "start_time": "2022-09-08T13:37:49.673Z"
   },
   {
    "duration": 50,
    "start_time": "2022-09-08T13:37:49.679Z"
   },
   {
    "duration": 4,
    "start_time": "2022-09-08T13:37:49.731Z"
   },
   {
    "duration": 29,
    "start_time": "2022-09-08T13:37:49.737Z"
   },
   {
    "duration": 5,
    "start_time": "2022-09-08T13:37:49.768Z"
   },
   {
    "duration": 66,
    "start_time": "2022-09-08T13:37:49.776Z"
   },
   {
    "duration": 14,
    "start_time": "2022-09-08T13:37:49.844Z"
   },
   {
    "duration": 7,
    "start_time": "2022-09-08T13:37:49.859Z"
   },
   {
    "duration": 6,
    "start_time": "2022-09-08T13:37:49.867Z"
   },
   {
    "duration": 56,
    "start_time": "2022-09-08T13:37:49.874Z"
   },
   {
    "duration": 14,
    "start_time": "2022-09-08T13:37:49.932Z"
   },
   {
    "duration": 9,
    "start_time": "2022-09-08T13:37:49.947Z"
   },
   {
    "duration": 114,
    "start_time": "2022-09-08T13:37:49.957Z"
   },
   {
    "duration": 0,
    "start_time": "2022-09-08T13:37:50.072Z"
   },
   {
    "duration": 0,
    "start_time": "2022-09-08T13:37:50.073Z"
   },
   {
    "duration": 0,
    "start_time": "2022-09-08T13:37:50.074Z"
   },
   {
    "duration": 0,
    "start_time": "2022-09-08T13:37:50.075Z"
   },
   {
    "duration": 0,
    "start_time": "2022-09-08T13:37:50.077Z"
   },
   {
    "duration": 0,
    "start_time": "2022-09-08T13:37:50.078Z"
   },
   {
    "duration": 0,
    "start_time": "2022-09-08T13:37:50.079Z"
   },
   {
    "duration": 0,
    "start_time": "2022-09-08T13:37:50.080Z"
   },
   {
    "duration": 0,
    "start_time": "2022-09-08T13:37:50.081Z"
   },
   {
    "duration": 0,
    "start_time": "2022-09-08T13:37:50.082Z"
   },
   {
    "duration": 0,
    "start_time": "2022-09-08T13:37:50.084Z"
   },
   {
    "duration": 1307,
    "start_time": "2022-09-08T13:39:31.510Z"
   },
   {
    "duration": 161,
    "start_time": "2022-09-08T13:39:32.820Z"
   },
   {
    "duration": 31,
    "start_time": "2022-09-08T13:39:32.983Z"
   },
   {
    "duration": 9,
    "start_time": "2022-09-08T13:39:33.016Z"
   },
   {
    "duration": 87,
    "start_time": "2022-09-08T13:39:33.028Z"
   },
   {
    "duration": 47,
    "start_time": "2022-09-08T13:39:33.118Z"
   },
   {
    "duration": 4,
    "start_time": "2022-09-08T13:39:33.167Z"
   },
   {
    "duration": 15,
    "start_time": "2022-09-08T13:39:33.173Z"
   },
   {
    "duration": 7,
    "start_time": "2022-09-08T13:39:33.206Z"
   },
   {
    "duration": 26,
    "start_time": "2022-09-08T13:39:33.217Z"
   },
   {
    "duration": 17,
    "start_time": "2022-09-08T13:39:33.245Z"
   },
   {
    "duration": 314,
    "start_time": "2022-09-08T13:39:33.264Z"
   },
   {
    "duration": 42,
    "start_time": "2022-09-08T13:39:33.580Z"
   },
   {
    "duration": 27,
    "start_time": "2022-09-08T13:39:33.626Z"
   },
   {
    "duration": 10,
    "start_time": "2022-09-08T13:39:33.654Z"
   },
   {
    "duration": 9,
    "start_time": "2022-09-08T13:39:33.665Z"
   },
   {
    "duration": 32,
    "start_time": "2022-09-08T13:39:33.675Z"
   },
   {
    "duration": 27,
    "start_time": "2022-09-08T13:39:33.712Z"
   },
   {
    "duration": 68,
    "start_time": "2022-09-08T13:39:33.740Z"
   },
   {
    "duration": 15,
    "start_time": "2022-09-08T13:39:33.810Z"
   },
   {
    "duration": 12,
    "start_time": "2022-09-08T13:39:33.828Z"
   },
   {
    "duration": 185,
    "start_time": "2022-09-08T13:39:33.841Z"
   },
   {
    "duration": 5,
    "start_time": "2022-09-08T13:39:34.028Z"
   },
   {
    "duration": 34,
    "start_time": "2022-09-08T13:39:34.035Z"
   },
   {
    "duration": 6,
    "start_time": "2022-09-08T13:39:34.070Z"
   },
   {
    "duration": 48,
    "start_time": "2022-09-08T13:39:34.077Z"
   },
   {
    "duration": 5,
    "start_time": "2022-09-08T13:39:34.126Z"
   },
   {
    "duration": 44,
    "start_time": "2022-09-08T13:39:34.132Z"
   },
   {
    "duration": 41,
    "start_time": "2022-09-08T13:39:34.178Z"
   },
   {
    "duration": 9,
    "start_time": "2022-09-08T13:39:34.221Z"
   },
   {
    "duration": 14,
    "start_time": "2022-09-08T13:39:34.232Z"
   },
   {
    "duration": 58,
    "start_time": "2022-09-08T13:39:34.248Z"
   },
   {
    "duration": 23,
    "start_time": "2022-09-08T13:39:34.308Z"
   },
   {
    "duration": 9,
    "start_time": "2022-09-08T13:39:34.333Z"
   },
   {
    "duration": 8,
    "start_time": "2022-09-08T13:39:34.344Z"
   },
   {
    "duration": 153,
    "start_time": "2022-09-08T13:39:34.354Z"
   },
   {
    "duration": 0,
    "start_time": "2022-09-08T13:39:34.509Z"
   },
   {
    "duration": 0,
    "start_time": "2022-09-08T13:39:34.510Z"
   },
   {
    "duration": 0,
    "start_time": "2022-09-08T13:39:34.511Z"
   },
   {
    "duration": 0,
    "start_time": "2022-09-08T13:39:34.512Z"
   },
   {
    "duration": 0,
    "start_time": "2022-09-08T13:39:34.513Z"
   },
   {
    "duration": 0,
    "start_time": "2022-09-08T13:39:34.515Z"
   },
   {
    "duration": 0,
    "start_time": "2022-09-08T13:39:34.516Z"
   },
   {
    "duration": 0,
    "start_time": "2022-09-08T13:39:34.517Z"
   },
   {
    "duration": 0,
    "start_time": "2022-09-08T13:39:34.519Z"
   },
   {
    "duration": 0,
    "start_time": "2022-09-08T13:39:34.520Z"
   },
   {
    "duration": 0,
    "start_time": "2022-09-08T13:39:34.521Z"
   },
   {
    "duration": 3,
    "start_time": "2022-09-08T13:42:06.458Z"
   },
   {
    "duration": 9,
    "start_time": "2022-09-08T13:44:03.985Z"
   },
   {
    "duration": 8,
    "start_time": "2022-09-08T13:44:13.382Z"
   },
   {
    "duration": 7,
    "start_time": "2022-09-08T13:44:36.046Z"
   },
   {
    "duration": 4,
    "start_time": "2022-09-08T14:06:51.056Z"
   },
   {
    "duration": 1069,
    "start_time": "2022-09-08T14:09:41.790Z"
   },
   {
    "duration": 150,
    "start_time": "2022-09-08T14:09:42.861Z"
   },
   {
    "duration": 33,
    "start_time": "2022-09-08T14:09:43.013Z"
   },
   {
    "duration": 13,
    "start_time": "2022-09-08T14:09:43.048Z"
   },
   {
    "duration": 104,
    "start_time": "2022-09-08T14:09:43.062Z"
   },
   {
    "duration": 41,
    "start_time": "2022-09-08T14:09:43.167Z"
   },
   {
    "duration": 4,
    "start_time": "2022-09-08T14:09:43.209Z"
   },
   {
    "duration": 21,
    "start_time": "2022-09-08T14:09:43.215Z"
   },
   {
    "duration": 4,
    "start_time": "2022-09-08T14:09:43.238Z"
   },
   {
    "duration": 17,
    "start_time": "2022-09-08T14:09:43.243Z"
   },
   {
    "duration": 14,
    "start_time": "2022-09-08T14:09:43.262Z"
   },
   {
    "duration": 283,
    "start_time": "2022-09-08T14:09:43.277Z"
   },
   {
    "duration": 44,
    "start_time": "2022-09-08T14:09:43.562Z"
   },
   {
    "duration": 31,
    "start_time": "2022-09-08T14:09:43.608Z"
   },
   {
    "duration": 10,
    "start_time": "2022-09-08T14:09:43.640Z"
   },
   {
    "duration": 8,
    "start_time": "2022-09-08T14:09:43.652Z"
   },
   {
    "duration": 9,
    "start_time": "2022-09-08T14:09:43.662Z"
   },
   {
    "duration": 52,
    "start_time": "2022-09-08T14:09:43.673Z"
   },
   {
    "duration": 63,
    "start_time": "2022-09-08T14:09:43.727Z"
   },
   {
    "duration": 30,
    "start_time": "2022-09-08T14:09:43.791Z"
   },
   {
    "duration": 9,
    "start_time": "2022-09-08T14:09:43.825Z"
   },
   {
    "duration": 144,
    "start_time": "2022-09-08T14:09:43.835Z"
   },
   {
    "duration": 4,
    "start_time": "2022-09-08T14:09:43.981Z"
   },
   {
    "duration": 51,
    "start_time": "2022-09-08T14:09:43.988Z"
   },
   {
    "duration": 7,
    "start_time": "2022-09-08T14:09:44.041Z"
   },
   {
    "duration": 31,
    "start_time": "2022-09-08T14:09:44.050Z"
   },
   {
    "duration": 5,
    "start_time": "2022-09-08T14:09:44.083Z"
   },
   {
    "duration": 38,
    "start_time": "2022-09-08T14:09:44.106Z"
   },
   {
    "duration": 13,
    "start_time": "2022-09-08T14:09:44.145Z"
   },
   {
    "duration": 4,
    "start_time": "2022-09-08T14:09:44.159Z"
   },
   {
    "duration": 7,
    "start_time": "2022-09-08T14:09:44.164Z"
   },
   {
    "duration": 56,
    "start_time": "2022-09-08T14:09:44.172Z"
   },
   {
    "duration": 14,
    "start_time": "2022-09-08T14:09:44.229Z"
   },
   {
    "duration": 5,
    "start_time": "2022-09-08T14:09:44.245Z"
   },
   {
    "duration": 6,
    "start_time": "2022-09-08T14:09:44.252Z"
   },
   {
    "duration": 6,
    "start_time": "2022-09-08T14:09:44.260Z"
   },
   {
    "duration": 8,
    "start_time": "2022-09-08T14:09:44.267Z"
   },
   {
    "duration": 7,
    "start_time": "2022-09-08T14:09:44.276Z"
   },
   {
    "duration": 43,
    "start_time": "2022-09-08T14:09:44.285Z"
   },
   {
    "duration": 104,
    "start_time": "2022-09-08T14:09:44.330Z"
   },
   {
    "duration": 0,
    "start_time": "2022-09-08T14:09:44.435Z"
   },
   {
    "duration": 0,
    "start_time": "2022-09-08T14:09:44.437Z"
   },
   {
    "duration": 0,
    "start_time": "2022-09-08T14:09:44.438Z"
   },
   {
    "duration": 0,
    "start_time": "2022-09-08T14:09:44.439Z"
   },
   {
    "duration": 0,
    "start_time": "2022-09-08T14:09:44.441Z"
   },
   {
    "duration": 0,
    "start_time": "2022-09-08T14:09:44.442Z"
   },
   {
    "duration": 0,
    "start_time": "2022-09-08T14:09:44.443Z"
   },
   {
    "duration": 0,
    "start_time": "2022-09-08T14:09:44.444Z"
   },
   {
    "duration": 0,
    "start_time": "2022-09-08T14:09:44.445Z"
   },
   {
    "duration": 33,
    "start_time": "2022-09-08T14:18:59.413Z"
   },
   {
    "duration": 5,
    "start_time": "2022-09-08T14:19:39.391Z"
   },
   {
    "duration": 36,
    "start_time": "2022-09-08T14:21:16.825Z"
   },
   {
    "duration": 32,
    "start_time": "2022-09-08T14:23:33.836Z"
   },
   {
    "duration": 8,
    "start_time": "2022-09-08T14:23:38.720Z"
   },
   {
    "duration": 16,
    "start_time": "2022-09-08T14:26:58.873Z"
   },
   {
    "duration": 6,
    "start_time": "2022-09-08T14:27:34.517Z"
   },
   {
    "duration": 15,
    "start_time": "2022-09-08T14:27:38.230Z"
   },
   {
    "duration": 69,
    "start_time": "2022-09-08T14:34:41.966Z"
   },
   {
    "duration": 52,
    "start_time": "2022-09-08T14:35:03.731Z"
   },
   {
    "duration": 2,
    "start_time": "2022-09-08T14:42:25.228Z"
   },
   {
    "duration": 1027,
    "start_time": "2022-09-08T15:06:40.612Z"
   },
   {
    "duration": 143,
    "start_time": "2022-09-08T15:06:41.641Z"
   },
   {
    "duration": 28,
    "start_time": "2022-09-08T15:06:41.786Z"
   },
   {
    "duration": 6,
    "start_time": "2022-09-08T15:06:41.816Z"
   },
   {
    "duration": 98,
    "start_time": "2022-09-08T15:06:41.823Z"
   },
   {
    "duration": 29,
    "start_time": "2022-09-08T15:06:41.922Z"
   },
   {
    "duration": 8,
    "start_time": "2022-09-08T15:06:41.952Z"
   },
   {
    "duration": 36,
    "start_time": "2022-09-08T15:06:41.962Z"
   },
   {
    "duration": 36,
    "start_time": "2022-09-08T15:06:41.999Z"
   },
   {
    "duration": 30,
    "start_time": "2022-09-08T15:06:42.038Z"
   },
   {
    "duration": 28,
    "start_time": "2022-09-08T15:06:42.070Z"
   },
   {
    "duration": 294,
    "start_time": "2022-09-08T15:06:42.099Z"
   },
   {
    "duration": 38,
    "start_time": "2022-09-08T15:06:42.395Z"
   },
   {
    "duration": 32,
    "start_time": "2022-09-08T15:06:42.435Z"
   },
   {
    "duration": 10,
    "start_time": "2022-09-08T15:06:42.469Z"
   },
   {
    "duration": 30,
    "start_time": "2022-09-08T15:06:42.480Z"
   },
   {
    "duration": 30,
    "start_time": "2022-09-08T15:06:42.512Z"
   },
   {
    "duration": 40,
    "start_time": "2022-09-08T15:06:42.543Z"
   },
   {
    "duration": 80,
    "start_time": "2022-09-08T15:06:42.584Z"
   },
   {
    "duration": 10,
    "start_time": "2022-09-08T15:06:42.666Z"
   },
   {
    "duration": 36,
    "start_time": "2022-09-08T15:06:42.677Z"
   },
   {
    "duration": 174,
    "start_time": "2022-09-08T15:06:42.714Z"
   },
   {
    "duration": 4,
    "start_time": "2022-09-08T15:06:42.890Z"
   },
   {
    "duration": 54,
    "start_time": "2022-09-08T15:06:42.895Z"
   },
   {
    "duration": 4,
    "start_time": "2022-09-08T15:06:42.951Z"
   },
   {
    "duration": 26,
    "start_time": "2022-09-08T15:06:42.956Z"
   },
   {
    "duration": 5,
    "start_time": "2022-09-08T15:06:42.983Z"
   },
   {
    "duration": 34,
    "start_time": "2022-09-08T15:06:42.991Z"
   },
   {
    "duration": 13,
    "start_time": "2022-09-08T15:06:43.028Z"
   },
   {
    "duration": 7,
    "start_time": "2022-09-08T15:06:43.043Z"
   },
   {
    "duration": 5,
    "start_time": "2022-09-08T15:06:43.051Z"
   },
   {
    "duration": 49,
    "start_time": "2022-09-08T15:06:43.057Z"
   },
   {
    "duration": 13,
    "start_time": "2022-09-08T15:06:43.108Z"
   },
   {
    "duration": 6,
    "start_time": "2022-09-08T15:06:43.123Z"
   },
   {
    "duration": 10,
    "start_time": "2022-09-08T15:06:43.130Z"
   },
   {
    "duration": 9,
    "start_time": "2022-09-08T15:06:43.141Z"
   },
   {
    "duration": 11,
    "start_time": "2022-09-08T15:06:43.151Z"
   },
   {
    "duration": 8,
    "start_time": "2022-09-08T15:06:43.164Z"
   },
   {
    "duration": 22,
    "start_time": "2022-09-08T15:06:43.173Z"
   },
   {
    "duration": 25,
    "start_time": "2022-09-08T15:06:43.205Z"
   },
   {
    "duration": 5,
    "start_time": "2022-09-08T15:06:43.231Z"
   },
   {
    "duration": 35,
    "start_time": "2022-09-08T15:06:43.238Z"
   },
   {
    "duration": 73,
    "start_time": "2022-09-08T15:06:43.274Z"
   },
   {
    "duration": 1036,
    "start_time": "2022-09-08T15:29:04.741Z"
   },
   {
    "duration": 155,
    "start_time": "2022-09-08T15:29:05.779Z"
   },
   {
    "duration": 28,
    "start_time": "2022-09-08T15:29:05.935Z"
   },
   {
    "duration": 6,
    "start_time": "2022-09-08T15:29:05.965Z"
   },
   {
    "duration": 125,
    "start_time": "2022-09-08T15:29:05.973Z"
   },
   {
    "duration": 57,
    "start_time": "2022-09-08T15:29:06.100Z"
   },
   {
    "duration": 4,
    "start_time": "2022-09-08T15:29:06.159Z"
   },
   {
    "duration": 19,
    "start_time": "2022-09-08T15:29:06.165Z"
   },
   {
    "duration": 24,
    "start_time": "2022-09-08T15:29:06.186Z"
   },
   {
    "duration": 20,
    "start_time": "2022-09-08T15:29:06.213Z"
   },
   {
    "duration": 19,
    "start_time": "2022-09-08T15:29:06.234Z"
   },
   {
    "duration": 339,
    "start_time": "2022-09-08T15:29:06.255Z"
   },
   {
    "duration": 39,
    "start_time": "2022-09-08T15:29:06.595Z"
   },
   {
    "duration": 29,
    "start_time": "2022-09-08T15:29:06.636Z"
   },
   {
    "duration": 11,
    "start_time": "2022-09-08T15:29:06.667Z"
   },
   {
    "duration": 34,
    "start_time": "2022-09-08T15:29:06.679Z"
   },
   {
    "duration": 9,
    "start_time": "2022-09-08T15:29:06.715Z"
   },
   {
    "duration": 19,
    "start_time": "2022-09-08T15:29:06.725Z"
   },
   {
    "duration": 78,
    "start_time": "2022-09-08T15:29:06.746Z"
   },
   {
    "duration": 12,
    "start_time": "2022-09-08T15:29:06.826Z"
   },
   {
    "duration": 7,
    "start_time": "2022-09-08T15:29:06.840Z"
   },
   {
    "duration": 164,
    "start_time": "2022-09-08T15:29:06.849Z"
   },
   {
    "duration": 4,
    "start_time": "2022-09-08T15:29:07.015Z"
   },
   {
    "duration": 29,
    "start_time": "2022-09-08T15:29:07.020Z"
   },
   {
    "duration": 4,
    "start_time": "2022-09-08T15:29:07.050Z"
   },
   {
    "duration": 28,
    "start_time": "2022-09-08T15:29:07.056Z"
   },
   {
    "duration": 6,
    "start_time": "2022-09-08T15:29:07.105Z"
   },
   {
    "duration": 43,
    "start_time": "2022-09-08T15:29:07.116Z"
   },
   {
    "duration": 15,
    "start_time": "2022-09-08T15:29:07.160Z"
   },
   {
    "duration": 30,
    "start_time": "2022-09-08T15:29:07.177Z"
   },
   {
    "duration": 8,
    "start_time": "2022-09-08T15:29:07.208Z"
   },
   {
    "duration": 31,
    "start_time": "2022-09-08T15:29:07.217Z"
   },
   {
    "duration": 15,
    "start_time": "2022-09-08T15:29:07.250Z"
   },
   {
    "duration": 7,
    "start_time": "2022-09-08T15:29:07.267Z"
   },
   {
    "duration": 32,
    "start_time": "2022-09-08T15:29:07.276Z"
   },
   {
    "duration": 13,
    "start_time": "2022-09-08T15:29:07.310Z"
   },
   {
    "duration": 10,
    "start_time": "2022-09-08T15:29:07.325Z"
   },
   {
    "duration": 21,
    "start_time": "2022-09-08T15:29:07.337Z"
   },
   {
    "duration": 25,
    "start_time": "2022-09-08T15:29:07.360Z"
   },
   {
    "duration": 29,
    "start_time": "2022-09-08T15:29:07.387Z"
   },
   {
    "duration": 4,
    "start_time": "2022-09-08T15:29:07.418Z"
   },
   {
    "duration": 56,
    "start_time": "2022-09-08T15:29:07.424Z"
   },
   {
    "duration": 62,
    "start_time": "2022-09-08T15:29:07.482Z"
   },
   {
    "duration": 95,
    "start_time": "2022-09-08T20:27:10.398Z"
   },
   {
    "duration": 106,
    "start_time": "2022-09-08T20:37:05.177Z"
   },
   {
    "duration": 49,
    "start_time": "2022-09-09T12:35:00.782Z"
   },
   {
    "duration": 1767,
    "start_time": "2022-09-09T12:35:09.282Z"
   },
   {
    "duration": 787,
    "start_time": "2022-09-09T12:35:11.052Z"
   },
   {
    "duration": 36,
    "start_time": "2022-09-09T12:35:11.840Z"
   },
   {
    "duration": 15,
    "start_time": "2022-09-09T12:35:11.881Z"
   },
   {
    "duration": 105,
    "start_time": "2022-09-09T12:35:11.898Z"
   },
   {
    "duration": 105,
    "start_time": "2022-09-09T12:35:12.006Z"
   },
   {
    "duration": 0,
    "start_time": "2022-09-09T12:35:12.114Z"
   },
   {
    "duration": 0,
    "start_time": "2022-09-09T12:35:12.115Z"
   },
   {
    "duration": 0,
    "start_time": "2022-09-09T12:35:12.116Z"
   },
   {
    "duration": 0,
    "start_time": "2022-09-09T12:35:12.118Z"
   },
   {
    "duration": 0,
    "start_time": "2022-09-09T12:35:12.118Z"
   },
   {
    "duration": 1,
    "start_time": "2022-09-09T12:35:12.119Z"
   },
   {
    "duration": 0,
    "start_time": "2022-09-09T12:35:12.121Z"
   },
   {
    "duration": 0,
    "start_time": "2022-09-09T12:35:12.122Z"
   },
   {
    "duration": 0,
    "start_time": "2022-09-09T12:35:12.122Z"
   },
   {
    "duration": 0,
    "start_time": "2022-09-09T12:35:12.124Z"
   },
   {
    "duration": 0,
    "start_time": "2022-09-09T12:35:12.125Z"
   },
   {
    "duration": 0,
    "start_time": "2022-09-09T12:35:12.126Z"
   },
   {
    "duration": 0,
    "start_time": "2022-09-09T12:35:12.127Z"
   },
   {
    "duration": 0,
    "start_time": "2022-09-09T12:35:12.128Z"
   },
   {
    "duration": 0,
    "start_time": "2022-09-09T12:35:12.129Z"
   },
   {
    "duration": 0,
    "start_time": "2022-09-09T12:35:12.130Z"
   },
   {
    "duration": 0,
    "start_time": "2022-09-09T12:35:12.131Z"
   },
   {
    "duration": 1,
    "start_time": "2022-09-09T12:35:12.167Z"
   },
   {
    "duration": 0,
    "start_time": "2022-09-09T12:35:12.168Z"
   },
   {
    "duration": 0,
    "start_time": "2022-09-09T12:35:12.169Z"
   },
   {
    "duration": 0,
    "start_time": "2022-09-09T12:35:12.170Z"
   },
   {
    "duration": 0,
    "start_time": "2022-09-09T12:35:12.171Z"
   },
   {
    "duration": 0,
    "start_time": "2022-09-09T12:35:12.174Z"
   },
   {
    "duration": 0,
    "start_time": "2022-09-09T12:35:12.175Z"
   },
   {
    "duration": 0,
    "start_time": "2022-09-09T12:35:12.176Z"
   },
   {
    "duration": 0,
    "start_time": "2022-09-09T12:35:12.176Z"
   },
   {
    "duration": 0,
    "start_time": "2022-09-09T12:35:12.179Z"
   },
   {
    "duration": 0,
    "start_time": "2022-09-09T12:35:12.181Z"
   },
   {
    "duration": 0,
    "start_time": "2022-09-09T12:35:12.182Z"
   },
   {
    "duration": 0,
    "start_time": "2022-09-09T12:35:12.183Z"
   },
   {
    "duration": 0,
    "start_time": "2022-09-09T12:35:12.184Z"
   },
   {
    "duration": 0,
    "start_time": "2022-09-09T12:35:12.185Z"
   },
   {
    "duration": 0,
    "start_time": "2022-09-09T12:35:12.187Z"
   },
   {
    "duration": 0,
    "start_time": "2022-09-09T12:35:12.188Z"
   },
   {
    "duration": 0,
    "start_time": "2022-09-09T12:35:12.189Z"
   },
   {
    "duration": 0,
    "start_time": "2022-09-09T12:35:12.190Z"
   },
   {
    "duration": 0,
    "start_time": "2022-09-09T12:35:12.191Z"
   },
   {
    "duration": 0,
    "start_time": "2022-09-09T12:35:12.193Z"
   },
   {
    "duration": 95,
    "start_time": "2022-09-09T12:38:55.612Z"
   },
   {
    "duration": 1173,
    "start_time": "2022-09-09T12:39:15.381Z"
   },
   {
    "duration": 195,
    "start_time": "2022-09-09T12:39:16.556Z"
   },
   {
    "duration": 47,
    "start_time": "2022-09-09T12:39:16.754Z"
   },
   {
    "duration": 7,
    "start_time": "2022-09-09T12:39:16.803Z"
   },
   {
    "duration": 121,
    "start_time": "2022-09-09T12:39:16.813Z"
   },
   {
    "duration": 119,
    "start_time": "2022-09-09T12:39:16.937Z"
   },
   {
    "duration": 45,
    "start_time": "2022-09-09T12:39:17.058Z"
   },
   {
    "duration": 13,
    "start_time": "2022-09-09T12:39:17.105Z"
   },
   {
    "duration": 15,
    "start_time": "2022-09-09T12:39:17.120Z"
   },
   {
    "duration": 6,
    "start_time": "2022-09-09T12:39:17.137Z"
   },
   {
    "duration": 39,
    "start_time": "2022-09-09T12:39:17.144Z"
   },
   {
    "duration": 18,
    "start_time": "2022-09-09T12:39:17.185Z"
   },
   {
    "duration": 335,
    "start_time": "2022-09-09T12:39:17.205Z"
   },
   {
    "duration": 47,
    "start_time": "2022-09-09T12:39:17.543Z"
   },
   {
    "duration": 34,
    "start_time": "2022-09-09T12:39:17.592Z"
   },
   {
    "duration": 11,
    "start_time": "2022-09-09T12:39:17.628Z"
   },
   {
    "duration": 30,
    "start_time": "2022-09-09T12:39:17.641Z"
   },
   {
    "duration": 12,
    "start_time": "2022-09-09T12:39:17.673Z"
   },
   {
    "duration": 23,
    "start_time": "2022-09-09T12:39:17.687Z"
   },
   {
    "duration": 75,
    "start_time": "2022-09-09T12:39:17.711Z"
   },
   {
    "duration": 11,
    "start_time": "2022-09-09T12:39:17.788Z"
   },
   {
    "duration": 9,
    "start_time": "2022-09-09T12:39:17.801Z"
   },
   {
    "duration": 203,
    "start_time": "2022-09-09T12:39:17.812Z"
   },
   {
    "duration": 5,
    "start_time": "2022-09-09T12:39:18.017Z"
   },
   {
    "duration": 50,
    "start_time": "2022-09-09T12:39:18.024Z"
   },
   {
    "duration": 8,
    "start_time": "2022-09-09T12:39:18.076Z"
   },
   {
    "duration": 34,
    "start_time": "2022-09-09T12:39:18.086Z"
   },
   {
    "duration": 5,
    "start_time": "2022-09-09T12:39:18.121Z"
   },
   {
    "duration": 64,
    "start_time": "2022-09-09T12:39:18.127Z"
   },
   {
    "duration": 16,
    "start_time": "2022-09-09T12:39:18.193Z"
   },
   {
    "duration": 7,
    "start_time": "2022-09-09T12:39:18.211Z"
   },
   {
    "duration": 8,
    "start_time": "2022-09-09T12:39:18.220Z"
   },
   {
    "duration": 54,
    "start_time": "2022-09-09T12:39:18.230Z"
   },
   {
    "duration": 17,
    "start_time": "2022-09-09T12:39:18.285Z"
   },
   {
    "duration": 8,
    "start_time": "2022-09-09T12:39:18.304Z"
   },
   {
    "duration": 7,
    "start_time": "2022-09-09T12:39:18.314Z"
   },
   {
    "duration": 9,
    "start_time": "2022-09-09T12:39:18.322Z"
   },
   {
    "duration": 8,
    "start_time": "2022-09-09T12:39:18.333Z"
   },
   {
    "duration": 32,
    "start_time": "2022-09-09T12:39:18.343Z"
   },
   {
    "duration": 32,
    "start_time": "2022-09-09T12:39:18.377Z"
   },
   {
    "duration": 28,
    "start_time": "2022-09-09T12:39:18.413Z"
   },
   {
    "duration": 5,
    "start_time": "2022-09-09T12:39:18.442Z"
   },
   {
    "duration": 57,
    "start_time": "2022-09-09T12:39:18.448Z"
   },
   {
    "duration": 76,
    "start_time": "2022-09-09T12:39:18.506Z"
   },
   {
    "duration": 104,
    "start_time": "2022-09-09T12:41:00.083Z"
   },
   {
    "duration": 1184,
    "start_time": "2022-09-09T12:41:35.064Z"
   },
   {
    "duration": 170,
    "start_time": "2022-09-09T12:41:36.251Z"
   },
   {
    "duration": 31,
    "start_time": "2022-09-09T12:41:36.422Z"
   },
   {
    "duration": 15,
    "start_time": "2022-09-09T12:41:36.455Z"
   },
   {
    "duration": 121,
    "start_time": "2022-09-09T12:41:36.472Z"
   },
   {
    "duration": 128,
    "start_time": "2022-09-09T12:41:36.595Z"
   },
   {
    "duration": 139,
    "start_time": "2022-09-09T12:41:36.726Z"
   },
   {
    "duration": 43,
    "start_time": "2022-09-09T12:41:36.871Z"
   },
   {
    "duration": 3,
    "start_time": "2022-09-09T12:41:36.916Z"
   },
   {
    "duration": 11,
    "start_time": "2022-09-09T12:41:36.922Z"
   },
   {
    "duration": 4,
    "start_time": "2022-09-09T12:41:36.935Z"
   },
   {
    "duration": 47,
    "start_time": "2022-09-09T12:41:36.940Z"
   },
   {
    "duration": 15,
    "start_time": "2022-09-09T12:41:36.989Z"
   },
   {
    "duration": 333,
    "start_time": "2022-09-09T12:41:37.005Z"
   },
   {
    "duration": 36,
    "start_time": "2022-09-09T12:41:37.340Z"
   },
   {
    "duration": 34,
    "start_time": "2022-09-09T12:41:37.378Z"
   },
   {
    "duration": 11,
    "start_time": "2022-09-09T12:41:37.414Z"
   },
   {
    "duration": 11,
    "start_time": "2022-09-09T12:41:37.427Z"
   },
   {
    "duration": 37,
    "start_time": "2022-09-09T12:41:37.440Z"
   },
   {
    "duration": 22,
    "start_time": "2022-09-09T12:41:37.480Z"
   },
   {
    "duration": 78,
    "start_time": "2022-09-09T12:41:37.504Z"
   },
   {
    "duration": 12,
    "start_time": "2022-09-09T12:41:37.584Z"
   },
   {
    "duration": 9,
    "start_time": "2022-09-09T12:41:37.598Z"
   },
   {
    "duration": 197,
    "start_time": "2022-09-09T12:41:37.609Z"
   },
   {
    "duration": 4,
    "start_time": "2022-09-09T12:41:37.808Z"
   },
   {
    "duration": 30,
    "start_time": "2022-09-09T12:41:37.814Z"
   },
   {
    "duration": 5,
    "start_time": "2022-09-09T12:41:37.845Z"
   },
   {
    "duration": 34,
    "start_time": "2022-09-09T12:41:37.872Z"
   },
   {
    "duration": 4,
    "start_time": "2022-09-09T12:41:37.908Z"
   },
   {
    "duration": 39,
    "start_time": "2022-09-09T12:41:37.914Z"
   },
   {
    "duration": 32,
    "start_time": "2022-09-09T12:41:37.955Z"
   },
   {
    "duration": 11,
    "start_time": "2022-09-09T12:41:37.989Z"
   },
   {
    "duration": 6,
    "start_time": "2022-09-09T12:41:38.002Z"
   },
   {
    "duration": 37,
    "start_time": "2022-09-09T12:41:38.009Z"
   },
   {
    "duration": 35,
    "start_time": "2022-09-09T12:41:38.048Z"
   },
   {
    "duration": 5,
    "start_time": "2022-09-09T12:41:38.084Z"
   },
   {
    "duration": 5,
    "start_time": "2022-09-09T12:41:38.091Z"
   },
   {
    "duration": 7,
    "start_time": "2022-09-09T12:41:38.098Z"
   },
   {
    "duration": 6,
    "start_time": "2022-09-09T12:41:38.107Z"
   },
   {
    "duration": 7,
    "start_time": "2022-09-09T12:41:38.115Z"
   },
   {
    "duration": 59,
    "start_time": "2022-09-09T12:41:38.123Z"
   },
   {
    "duration": 29,
    "start_time": "2022-09-09T12:41:38.184Z"
   },
   {
    "duration": 5,
    "start_time": "2022-09-09T12:41:38.214Z"
   },
   {
    "duration": 60,
    "start_time": "2022-09-09T12:41:38.221Z"
   },
   {
    "duration": 62,
    "start_time": "2022-09-09T12:41:38.283Z"
   },
   {
    "duration": 1059,
    "start_time": "2022-09-09T12:41:57.462Z"
   },
   {
    "duration": 158,
    "start_time": "2022-09-09T12:41:58.523Z"
   },
   {
    "duration": 30,
    "start_time": "2022-09-09T12:41:58.683Z"
   },
   {
    "duration": 6,
    "start_time": "2022-09-09T12:41:58.715Z"
   },
   {
    "duration": 103,
    "start_time": "2022-09-09T12:41:58.722Z"
   },
   {
    "duration": 100,
    "start_time": "2022-09-09T12:41:58.827Z"
   },
   {
    "duration": 108,
    "start_time": "2022-09-09T12:41:58.928Z"
   },
   {
    "duration": 50,
    "start_time": "2022-09-09T12:41:59.038Z"
   },
   {
    "duration": 4,
    "start_time": "2022-09-09T12:41:59.090Z"
   },
   {
    "duration": 11,
    "start_time": "2022-09-09T12:41:59.096Z"
   },
   {
    "duration": 4,
    "start_time": "2022-09-09T12:41:59.109Z"
   },
   {
    "duration": 19,
    "start_time": "2022-09-09T12:41:59.114Z"
   },
   {
    "duration": 36,
    "start_time": "2022-09-09T12:41:59.135Z"
   },
   {
    "duration": 314,
    "start_time": "2022-09-09T12:41:59.172Z"
   },
   {
    "duration": 21,
    "start_time": "2022-09-09T12:41:59.488Z"
   },
   {
    "duration": 30,
    "start_time": "2022-09-09T12:41:59.510Z"
   },
   {
    "duration": 38,
    "start_time": "2022-09-09T12:41:59.542Z"
   },
   {
    "duration": 10,
    "start_time": "2022-09-09T12:41:59.581Z"
   },
   {
    "duration": 10,
    "start_time": "2022-09-09T12:41:59.593Z"
   },
   {
    "duration": 20,
    "start_time": "2022-09-09T12:41:59.605Z"
   },
   {
    "duration": 91,
    "start_time": "2022-09-09T12:41:59.627Z"
   },
   {
    "duration": 11,
    "start_time": "2022-09-09T12:41:59.719Z"
   },
   {
    "duration": 8,
    "start_time": "2022-09-09T12:41:59.731Z"
   },
   {
    "duration": 175,
    "start_time": "2022-09-09T12:41:59.740Z"
   },
   {
    "duration": 4,
    "start_time": "2022-09-09T12:41:59.917Z"
   },
   {
    "duration": 32,
    "start_time": "2022-09-09T12:41:59.923Z"
   },
   {
    "duration": 19,
    "start_time": "2022-09-09T12:41:59.956Z"
   },
   {
    "duration": 32,
    "start_time": "2022-09-09T12:41:59.979Z"
   },
   {
    "duration": 5,
    "start_time": "2022-09-09T12:42:00.012Z"
   },
   {
    "duration": 59,
    "start_time": "2022-09-09T12:42:00.019Z"
   },
   {
    "duration": 18,
    "start_time": "2022-09-09T12:42:00.079Z"
   },
   {
    "duration": 11,
    "start_time": "2022-09-09T12:42:00.099Z"
   },
   {
    "duration": 8,
    "start_time": "2022-09-09T12:42:00.112Z"
   },
   {
    "duration": 35,
    "start_time": "2022-09-09T12:42:00.122Z"
   },
   {
    "duration": 31,
    "start_time": "2022-09-09T12:42:00.158Z"
   },
   {
    "duration": 4,
    "start_time": "2022-09-09T12:42:00.190Z"
   },
   {
    "duration": 14,
    "start_time": "2022-09-09T12:42:00.195Z"
   },
   {
    "duration": 11,
    "start_time": "2022-09-09T12:42:00.211Z"
   },
   {
    "duration": 9,
    "start_time": "2022-09-09T12:42:00.223Z"
   },
   {
    "duration": 10,
    "start_time": "2022-09-09T12:42:00.234Z"
   },
   {
    "duration": 34,
    "start_time": "2022-09-09T12:42:00.245Z"
   },
   {
    "duration": 29,
    "start_time": "2022-09-09T12:42:00.281Z"
   },
   {
    "duration": 5,
    "start_time": "2022-09-09T12:42:00.312Z"
   },
   {
    "duration": 60,
    "start_time": "2022-09-09T12:42:00.319Z"
   },
   {
    "duration": 70,
    "start_time": "2022-09-09T12:42:00.380Z"
   },
   {
    "duration": 29,
    "start_time": "2022-09-09T12:45:59.464Z"
   },
   {
    "duration": 137,
    "start_time": "2022-09-09T12:47:11.459Z"
   },
   {
    "duration": 115,
    "start_time": "2022-09-09T12:47:15.634Z"
   },
   {
    "duration": 65,
    "start_time": "2022-09-09T12:47:53.854Z"
   },
   {
    "duration": 115,
    "start_time": "2022-09-09T12:48:03.183Z"
   },
   {
    "duration": 60,
    "start_time": "2022-09-09T12:48:07.782Z"
   },
   {
    "duration": 335,
    "start_time": "2022-09-09T12:49:59.955Z"
   },
   {
    "duration": 342,
    "start_time": "2022-09-09T12:51:34.585Z"
   },
   {
    "duration": 1335,
    "start_time": "2022-09-09T12:57:21.629Z"
   },
   {
    "duration": 193,
    "start_time": "2022-09-09T12:57:22.966Z"
   },
   {
    "duration": 44,
    "start_time": "2022-09-09T12:57:23.161Z"
   },
   {
    "duration": 7,
    "start_time": "2022-09-09T12:57:23.207Z"
   },
   {
    "duration": 105,
    "start_time": "2022-09-09T12:57:23.216Z"
   },
   {
    "duration": 110,
    "start_time": "2022-09-09T12:57:23.323Z"
   },
   {
    "duration": 152,
    "start_time": "2022-09-09T12:57:23.435Z"
   },
   {
    "duration": 25,
    "start_time": "2022-09-09T12:57:23.592Z"
   },
   {
    "duration": 373,
    "start_time": "2022-09-09T12:57:23.618Z"
   },
   {
    "duration": 32,
    "start_time": "2022-09-09T12:57:23.994Z"
   },
   {
    "duration": 3,
    "start_time": "2022-09-09T12:57:24.028Z"
   },
   {
    "duration": 11,
    "start_time": "2022-09-09T12:57:24.032Z"
   },
   {
    "duration": 3,
    "start_time": "2022-09-09T12:57:24.045Z"
   },
   {
    "duration": 64,
    "start_time": "2022-09-09T12:57:24.049Z"
   },
   {
    "duration": 17,
    "start_time": "2022-09-09T12:57:24.114Z"
   },
   {
    "duration": 330,
    "start_time": "2022-09-09T12:57:24.133Z"
   },
   {
    "duration": 32,
    "start_time": "2022-09-09T12:57:24.468Z"
   },
   {
    "duration": 40,
    "start_time": "2022-09-09T12:57:24.501Z"
   },
   {
    "duration": 30,
    "start_time": "2022-09-09T12:57:24.542Z"
   },
   {
    "duration": 20,
    "start_time": "2022-09-09T12:57:24.577Z"
   },
   {
    "duration": 12,
    "start_time": "2022-09-09T12:57:24.599Z"
   },
   {
    "duration": 20,
    "start_time": "2022-09-09T12:57:24.613Z"
   },
   {
    "duration": 86,
    "start_time": "2022-09-09T12:57:24.635Z"
   },
   {
    "duration": 11,
    "start_time": "2022-09-09T12:57:24.722Z"
   },
   {
    "duration": 9,
    "start_time": "2022-09-09T12:57:24.734Z"
   },
   {
    "duration": 190,
    "start_time": "2022-09-09T12:57:24.745Z"
   },
   {
    "duration": 4,
    "start_time": "2022-09-09T12:57:24.938Z"
   },
   {
    "duration": 50,
    "start_time": "2022-09-09T12:57:24.945Z"
   },
   {
    "duration": 5,
    "start_time": "2022-09-09T12:57:24.997Z"
   },
   {
    "duration": 31,
    "start_time": "2022-09-09T12:57:25.004Z"
   },
   {
    "duration": 5,
    "start_time": "2022-09-09T12:57:25.037Z"
   },
   {
    "duration": 85,
    "start_time": "2022-09-09T12:57:25.044Z"
   },
   {
    "duration": 16,
    "start_time": "2022-09-09T12:57:25.130Z"
   },
   {
    "duration": 14,
    "start_time": "2022-09-09T12:57:25.148Z"
   },
   {
    "duration": 28,
    "start_time": "2022-09-09T12:57:25.164Z"
   },
   {
    "duration": 39,
    "start_time": "2022-09-09T12:57:25.195Z"
   },
   {
    "duration": 18,
    "start_time": "2022-09-09T12:57:25.236Z"
   },
   {
    "duration": 6,
    "start_time": "2022-09-09T12:57:25.255Z"
   },
   {
    "duration": 25,
    "start_time": "2022-09-09T12:57:25.263Z"
   },
   {
    "duration": 14,
    "start_time": "2022-09-09T12:57:25.290Z"
   },
   {
    "duration": 7,
    "start_time": "2022-09-09T12:57:25.306Z"
   },
   {
    "duration": 7,
    "start_time": "2022-09-09T12:57:25.315Z"
   },
   {
    "duration": 26,
    "start_time": "2022-09-09T12:57:25.324Z"
   },
   {
    "duration": 52,
    "start_time": "2022-09-09T12:57:25.352Z"
   },
   {
    "duration": 5,
    "start_time": "2022-09-09T12:57:25.405Z"
   },
   {
    "duration": 36,
    "start_time": "2022-09-09T12:57:25.411Z"
   },
   {
    "duration": 98,
    "start_time": "2022-09-09T12:57:25.449Z"
   },
   {
    "duration": 244,
    "start_time": "2022-09-09T12:58:48.943Z"
   },
   {
    "duration": 1208,
    "start_time": "2022-09-09T12:58:55.602Z"
   },
   {
    "duration": 213,
    "start_time": "2022-09-09T12:58:56.813Z"
   },
   {
    "duration": 29,
    "start_time": "2022-09-09T12:58:57.027Z"
   },
   {
    "duration": 28,
    "start_time": "2022-09-09T12:58:57.057Z"
   },
   {
    "duration": 97,
    "start_time": "2022-09-09T12:58:57.098Z"
   },
   {
    "duration": 117,
    "start_time": "2022-09-09T12:58:57.197Z"
   },
   {
    "duration": 127,
    "start_time": "2022-09-09T12:58:57.316Z"
   },
   {
    "duration": 39,
    "start_time": "2022-09-09T12:58:57.444Z"
   },
   {
    "duration": 347,
    "start_time": "2022-09-09T12:58:57.494Z"
   },
   {
    "duration": 51,
    "start_time": "2022-09-09T12:58:57.842Z"
   },
   {
    "duration": 4,
    "start_time": "2022-09-09T12:58:57.895Z"
   },
   {
    "duration": 13,
    "start_time": "2022-09-09T12:58:57.901Z"
   },
   {
    "duration": 3,
    "start_time": "2022-09-09T12:58:57.916Z"
   },
   {
    "duration": 16,
    "start_time": "2022-09-09T12:58:57.921Z"
   },
   {
    "duration": 45,
    "start_time": "2022-09-09T12:58:57.939Z"
   },
   {
    "duration": 335,
    "start_time": "2022-09-09T12:58:57.986Z"
   },
   {
    "duration": 20,
    "start_time": "2022-09-09T12:58:58.323Z"
   },
   {
    "duration": 59,
    "start_time": "2022-09-09T12:58:58.344Z"
   },
   {
    "duration": 12,
    "start_time": "2022-09-09T12:58:58.405Z"
   },
   {
    "duration": 9,
    "start_time": "2022-09-09T12:58:58.419Z"
   },
   {
    "duration": 11,
    "start_time": "2022-09-09T12:58:58.430Z"
   },
   {
    "duration": 58,
    "start_time": "2022-09-09T12:58:58.442Z"
   },
   {
    "duration": 58,
    "start_time": "2022-09-09T12:58:58.502Z"
   },
   {
    "duration": 24,
    "start_time": "2022-09-09T12:58:58.562Z"
   },
   {
    "duration": 23,
    "start_time": "2022-09-09T12:58:58.589Z"
   },
   {
    "duration": 184,
    "start_time": "2022-09-09T12:58:58.614Z"
   },
   {
    "duration": 4,
    "start_time": "2022-09-09T12:58:58.800Z"
   },
   {
    "duration": 32,
    "start_time": "2022-09-09T12:58:58.806Z"
   },
   {
    "duration": 4,
    "start_time": "2022-09-09T12:58:58.839Z"
   },
   {
    "duration": 62,
    "start_time": "2022-09-09T12:58:58.845Z"
   },
   {
    "duration": 5,
    "start_time": "2022-09-09T12:58:58.909Z"
   },
   {
    "duration": 34,
    "start_time": "2022-09-09T12:58:58.915Z"
   },
   {
    "duration": 43,
    "start_time": "2022-09-09T12:58:58.950Z"
   },
   {
    "duration": 4,
    "start_time": "2022-09-09T12:58:58.996Z"
   },
   {
    "duration": 8,
    "start_time": "2022-09-09T12:58:59.001Z"
   },
   {
    "duration": 31,
    "start_time": "2022-09-09T12:58:59.010Z"
   },
   {
    "duration": 15,
    "start_time": "2022-09-09T12:58:59.043Z"
   },
   {
    "duration": 22,
    "start_time": "2022-09-09T12:58:59.060Z"
   },
   {
    "duration": 19,
    "start_time": "2022-09-09T12:58:59.084Z"
   },
   {
    "duration": 10,
    "start_time": "2022-09-09T12:58:59.105Z"
   },
   {
    "duration": 5,
    "start_time": "2022-09-09T12:58:59.118Z"
   },
   {
    "duration": 8,
    "start_time": "2022-09-09T12:58:59.125Z"
   },
   {
    "duration": 26,
    "start_time": "2022-09-09T12:58:59.134Z"
   },
   {
    "duration": 37,
    "start_time": "2022-09-09T12:58:59.162Z"
   },
   {
    "duration": 5,
    "start_time": "2022-09-09T12:58:59.201Z"
   },
   {
    "duration": 36,
    "start_time": "2022-09-09T12:58:59.207Z"
   },
   {
    "duration": 84,
    "start_time": "2022-09-09T12:58:59.245Z"
   },
   {
    "duration": 5,
    "start_time": "2022-09-09T13:06:21.628Z"
   },
   {
    "duration": 1245,
    "start_time": "2022-09-09T13:06:49.188Z"
   },
   {
    "duration": 180,
    "start_time": "2022-09-09T13:06:50.435Z"
   },
   {
    "duration": 30,
    "start_time": "2022-09-09T13:06:50.617Z"
   },
   {
    "duration": 28,
    "start_time": "2022-09-09T13:06:50.648Z"
   },
   {
    "duration": 91,
    "start_time": "2022-09-09T13:06:50.686Z"
   },
   {
    "duration": 104,
    "start_time": "2022-09-09T13:06:50.788Z"
   },
   {
    "duration": 117,
    "start_time": "2022-09-09T13:06:50.894Z"
   },
   {
    "duration": 25,
    "start_time": "2022-09-09T13:06:51.013Z"
   },
   {
    "duration": 394,
    "start_time": "2022-09-09T13:06:51.040Z"
   },
   {
    "duration": 51,
    "start_time": "2022-09-09T13:06:51.436Z"
   },
   {
    "duration": 7,
    "start_time": "2022-09-09T13:06:51.489Z"
   },
   {
    "duration": 35,
    "start_time": "2022-09-09T13:06:51.498Z"
   },
   {
    "duration": 19,
    "start_time": "2022-09-09T13:06:51.534Z"
   },
   {
    "duration": 42,
    "start_time": "2022-09-09T13:06:51.556Z"
   },
   {
    "duration": 19,
    "start_time": "2022-09-09T13:06:51.600Z"
   },
   {
    "duration": 336,
    "start_time": "2022-09-09T13:06:51.621Z"
   },
   {
    "duration": 39,
    "start_time": "2022-09-09T13:06:51.958Z"
   },
   {
    "duration": 36,
    "start_time": "2022-09-09T13:06:51.999Z"
   },
   {
    "duration": 4,
    "start_time": "2022-09-09T13:06:52.037Z"
   },
   {
    "duration": 50,
    "start_time": "2022-09-09T13:06:52.043Z"
   },
   {
    "duration": 11,
    "start_time": "2022-09-09T13:06:52.094Z"
   },
   {
    "duration": 9,
    "start_time": "2022-09-09T13:06:52.107Z"
   },
   {
    "duration": 27,
    "start_time": "2022-09-09T13:06:52.117Z"
   },
   {
    "duration": 66,
    "start_time": "2022-09-09T13:06:52.146Z"
   },
   {
    "duration": 11,
    "start_time": "2022-09-09T13:06:52.213Z"
   },
   {
    "duration": 9,
    "start_time": "2022-09-09T13:06:52.226Z"
   },
   {
    "duration": 197,
    "start_time": "2022-09-09T13:06:52.237Z"
   },
   {
    "duration": 5,
    "start_time": "2022-09-09T13:06:52.436Z"
   },
   {
    "duration": 45,
    "start_time": "2022-09-09T13:06:52.442Z"
   },
   {
    "duration": 6,
    "start_time": "2022-09-09T13:06:52.489Z"
   },
   {
    "duration": 29,
    "start_time": "2022-09-09T13:06:52.497Z"
   },
   {
    "duration": 6,
    "start_time": "2022-09-09T13:06:52.528Z"
   },
   {
    "duration": 74,
    "start_time": "2022-09-09T13:06:52.536Z"
   },
   {
    "duration": 17,
    "start_time": "2022-09-09T13:06:52.612Z"
   },
   {
    "duration": 7,
    "start_time": "2022-09-09T13:06:52.631Z"
   },
   {
    "duration": 32,
    "start_time": "2022-09-09T13:06:52.639Z"
   },
   {
    "duration": 46,
    "start_time": "2022-09-09T13:06:52.673Z"
   },
   {
    "duration": 17,
    "start_time": "2022-09-09T13:06:52.721Z"
   },
   {
    "duration": 7,
    "start_time": "2022-09-09T13:06:52.740Z"
   },
   {
    "duration": 6,
    "start_time": "2022-09-09T13:06:52.748Z"
   },
   {
    "duration": 20,
    "start_time": "2022-09-09T13:06:52.775Z"
   },
   {
    "duration": 5,
    "start_time": "2022-09-09T13:06:52.797Z"
   },
   {
    "duration": 5,
    "start_time": "2022-09-09T13:06:52.803Z"
   },
   {
    "duration": 26,
    "start_time": "2022-09-09T13:06:52.810Z"
   },
   {
    "duration": 57,
    "start_time": "2022-09-09T13:06:52.838Z"
   },
   {
    "duration": 4,
    "start_time": "2022-09-09T13:06:52.897Z"
   },
   {
    "duration": 37,
    "start_time": "2022-09-09T13:06:52.902Z"
   },
   {
    "duration": 87,
    "start_time": "2022-09-09T13:06:52.941Z"
   },
   {
    "duration": 1217,
    "start_time": "2022-09-09T13:10:26.133Z"
   },
   {
    "duration": 197,
    "start_time": "2022-09-09T13:10:27.353Z"
   },
   {
    "duration": 38,
    "start_time": "2022-09-09T13:10:27.551Z"
   },
   {
    "duration": 14,
    "start_time": "2022-09-09T13:10:27.590Z"
   },
   {
    "duration": 103,
    "start_time": "2022-09-09T13:10:27.606Z"
   },
   {
    "duration": 121,
    "start_time": "2022-09-09T13:10:27.711Z"
   },
   {
    "duration": 135,
    "start_time": "2022-09-09T13:10:27.834Z"
   },
   {
    "duration": 35,
    "start_time": "2022-09-09T13:10:27.971Z"
   },
   {
    "duration": 370,
    "start_time": "2022-09-09T13:10:28.008Z"
   },
   {
    "duration": 38,
    "start_time": "2022-09-09T13:10:28.380Z"
   },
   {
    "duration": 4,
    "start_time": "2022-09-09T13:10:28.420Z"
   },
   {
    "duration": 9,
    "start_time": "2022-09-09T13:10:28.426Z"
   },
   {
    "duration": 3,
    "start_time": "2022-09-09T13:10:28.437Z"
   },
   {
    "duration": 28,
    "start_time": "2022-09-09T13:10:28.472Z"
   },
   {
    "duration": 16,
    "start_time": "2022-09-09T13:10:28.501Z"
   },
   {
    "duration": 336,
    "start_time": "2022-09-09T13:10:28.519Z"
   },
   {
    "duration": 34,
    "start_time": "2022-09-09T13:10:28.857Z"
   },
   {
    "duration": 42,
    "start_time": "2022-09-09T13:10:28.894Z"
   },
   {
    "duration": 5,
    "start_time": "2022-09-09T13:10:28.938Z"
   },
   {
    "duration": 146,
    "start_time": "2022-09-09T13:10:28.945Z"
   },
   {
    "duration": 0,
    "start_time": "2022-09-09T13:10:29.093Z"
   },
   {
    "duration": 0,
    "start_time": "2022-09-09T13:10:29.095Z"
   },
   {
    "duration": 1,
    "start_time": "2022-09-09T13:10:29.096Z"
   },
   {
    "duration": 1,
    "start_time": "2022-09-09T13:10:29.099Z"
   },
   {
    "duration": 0,
    "start_time": "2022-09-09T13:10:29.101Z"
   },
   {
    "duration": 0,
    "start_time": "2022-09-09T13:10:29.102Z"
   },
   {
    "duration": 0,
    "start_time": "2022-09-09T13:10:29.104Z"
   },
   {
    "duration": 0,
    "start_time": "2022-09-09T13:10:29.105Z"
   },
   {
    "duration": 0,
    "start_time": "2022-09-09T13:10:29.107Z"
   },
   {
    "duration": 0,
    "start_time": "2022-09-09T13:10:29.108Z"
   },
   {
    "duration": 0,
    "start_time": "2022-09-09T13:10:29.110Z"
   },
   {
    "duration": 0,
    "start_time": "2022-09-09T13:10:29.111Z"
   },
   {
    "duration": 0,
    "start_time": "2022-09-09T13:10:29.113Z"
   },
   {
    "duration": 0,
    "start_time": "2022-09-09T13:10:29.114Z"
   },
   {
    "duration": 0,
    "start_time": "2022-09-09T13:10:29.115Z"
   },
   {
    "duration": 0,
    "start_time": "2022-09-09T13:10:29.117Z"
   },
   {
    "duration": 0,
    "start_time": "2022-09-09T13:10:29.118Z"
   },
   {
    "duration": 0,
    "start_time": "2022-09-09T13:10:29.119Z"
   },
   {
    "duration": 0,
    "start_time": "2022-09-09T13:10:29.121Z"
   },
   {
    "duration": 0,
    "start_time": "2022-09-09T13:10:29.122Z"
   },
   {
    "duration": 0,
    "start_time": "2022-09-09T13:10:29.125Z"
   },
   {
    "duration": 0,
    "start_time": "2022-09-09T13:10:29.126Z"
   },
   {
    "duration": 0,
    "start_time": "2022-09-09T13:10:29.127Z"
   },
   {
    "duration": 0,
    "start_time": "2022-09-09T13:10:29.128Z"
   },
   {
    "duration": 0,
    "start_time": "2022-09-09T13:10:29.130Z"
   },
   {
    "duration": 0,
    "start_time": "2022-09-09T13:10:29.132Z"
   },
   {
    "duration": 0,
    "start_time": "2022-09-09T13:10:29.168Z"
   },
   {
    "duration": 0,
    "start_time": "2022-09-09T13:10:29.169Z"
   },
   {
    "duration": 0,
    "start_time": "2022-09-09T13:10:29.169Z"
   },
   {
    "duration": 1179,
    "start_time": "2022-09-09T13:10:53.959Z"
   },
   {
    "duration": 167,
    "start_time": "2022-09-09T13:10:55.140Z"
   },
   {
    "duration": 30,
    "start_time": "2022-09-09T13:10:55.309Z"
   },
   {
    "duration": 7,
    "start_time": "2022-09-09T13:10:55.342Z"
   },
   {
    "duration": 103,
    "start_time": "2022-09-09T13:10:55.369Z"
   },
   {
    "duration": 113,
    "start_time": "2022-09-09T13:10:55.482Z"
   },
   {
    "duration": 116,
    "start_time": "2022-09-09T13:10:55.597Z"
   },
   {
    "duration": 24,
    "start_time": "2022-09-09T13:10:55.715Z"
   },
   {
    "duration": 357,
    "start_time": "2022-09-09T13:10:55.741Z"
   },
   {
    "duration": 31,
    "start_time": "2022-09-09T13:10:56.101Z"
   },
   {
    "duration": 3,
    "start_time": "2022-09-09T13:10:56.134Z"
   },
   {
    "duration": 45,
    "start_time": "2022-09-09T13:10:56.138Z"
   },
   {
    "duration": 5,
    "start_time": "2022-09-09T13:10:56.186Z"
   },
   {
    "duration": 24,
    "start_time": "2022-09-09T13:10:56.194Z"
   },
   {
    "duration": 15,
    "start_time": "2022-09-09T13:10:56.219Z"
   },
   {
    "duration": 364,
    "start_time": "2022-09-09T13:10:56.236Z"
   },
   {
    "duration": 28,
    "start_time": "2022-09-09T13:10:56.602Z"
   },
   {
    "duration": 64,
    "start_time": "2022-09-09T13:10:56.632Z"
   },
   {
    "duration": 6,
    "start_time": "2022-09-09T13:10:56.698Z"
   },
   {
    "duration": 33,
    "start_time": "2022-09-09T13:10:56.706Z"
   },
   {
    "duration": 10,
    "start_time": "2022-09-09T13:10:56.741Z"
   },
   {
    "duration": 26,
    "start_time": "2022-09-09T13:10:56.753Z"
   },
   {
    "duration": 32,
    "start_time": "2022-09-09T13:10:56.781Z"
   },
   {
    "duration": 24,
    "start_time": "2022-09-09T13:10:56.816Z"
   },
   {
    "duration": 83,
    "start_time": "2022-09-09T13:10:56.843Z"
   },
   {
    "duration": 15,
    "start_time": "2022-09-09T13:10:56.928Z"
   },
   {
    "duration": 10,
    "start_time": "2022-09-09T13:10:56.945Z"
   },
   {
    "duration": 173,
    "start_time": "2022-09-09T13:10:56.968Z"
   },
   {
    "duration": 5,
    "start_time": "2022-09-09T13:10:57.142Z"
   },
   {
    "duration": 52,
    "start_time": "2022-09-09T13:10:57.148Z"
   },
   {
    "duration": 4,
    "start_time": "2022-09-09T13:10:57.202Z"
   },
   {
    "duration": 30,
    "start_time": "2022-09-09T13:10:57.208Z"
   },
   {
    "duration": 4,
    "start_time": "2022-09-09T13:10:57.240Z"
   },
   {
    "duration": 66,
    "start_time": "2022-09-09T13:10:57.245Z"
   },
   {
    "duration": 15,
    "start_time": "2022-09-09T13:10:57.312Z"
   },
   {
    "duration": 5,
    "start_time": "2022-09-09T13:10:57.328Z"
   },
   {
    "duration": 7,
    "start_time": "2022-09-09T13:10:57.335Z"
   },
   {
    "duration": 58,
    "start_time": "2022-09-09T13:10:57.343Z"
   },
   {
    "duration": 15,
    "start_time": "2022-09-09T13:10:57.403Z"
   },
   {
    "duration": 7,
    "start_time": "2022-09-09T13:10:57.420Z"
   },
   {
    "duration": 6,
    "start_time": "2022-09-09T13:10:57.429Z"
   },
   {
    "duration": 11,
    "start_time": "2022-09-09T13:10:57.437Z"
   },
   {
    "duration": 13,
    "start_time": "2022-09-09T13:10:57.474Z"
   },
   {
    "duration": 14,
    "start_time": "2022-09-09T13:10:57.489Z"
   },
   {
    "duration": 30,
    "start_time": "2022-09-09T13:10:57.505Z"
   },
   {
    "duration": 40,
    "start_time": "2022-09-09T13:10:57.537Z"
   },
   {
    "duration": 13,
    "start_time": "2022-09-09T13:10:57.584Z"
   },
   {
    "duration": 40,
    "start_time": "2022-09-09T13:10:57.599Z"
   },
   {
    "duration": 74,
    "start_time": "2022-09-09T13:10:57.640Z"
   },
   {
    "duration": 1260,
    "start_time": "2022-09-09T13:12:01.202Z"
   },
   {
    "duration": 187,
    "start_time": "2022-09-09T13:12:02.464Z"
   },
   {
    "duration": 46,
    "start_time": "2022-09-09T13:12:02.653Z"
   },
   {
    "duration": 8,
    "start_time": "2022-09-09T13:12:02.701Z"
   },
   {
    "duration": 120,
    "start_time": "2022-09-09T13:12:02.711Z"
   },
   {
    "duration": 121,
    "start_time": "2022-09-09T13:12:02.833Z"
   },
   {
    "duration": 139,
    "start_time": "2022-09-09T13:12:02.955Z"
   },
   {
    "duration": 28,
    "start_time": "2022-09-09T13:12:03.097Z"
   },
   {
    "duration": 406,
    "start_time": "2022-09-09T13:12:03.127Z"
   },
   {
    "duration": 54,
    "start_time": "2022-09-09T13:12:03.535Z"
   },
   {
    "duration": 6,
    "start_time": "2022-09-09T13:12:03.592Z"
   },
   {
    "duration": 11,
    "start_time": "2022-09-09T13:12:03.600Z"
   },
   {
    "duration": 6,
    "start_time": "2022-09-09T13:12:03.613Z"
   },
   {
    "duration": 17,
    "start_time": "2022-09-09T13:12:03.621Z"
   },
   {
    "duration": 43,
    "start_time": "2022-09-09T13:12:03.640Z"
   },
   {
    "duration": 344,
    "start_time": "2022-09-09T13:12:03.686Z"
   },
   {
    "duration": 43,
    "start_time": "2022-09-09T13:12:04.032Z"
   },
   {
    "duration": 16,
    "start_time": "2022-09-09T13:12:04.077Z"
   },
   {
    "duration": 35,
    "start_time": "2022-09-09T13:12:04.094Z"
   },
   {
    "duration": 5,
    "start_time": "2022-09-09T13:12:04.130Z"
   },
   {
    "duration": 47,
    "start_time": "2022-09-09T13:12:04.136Z"
   },
   {
    "duration": 15,
    "start_time": "2022-09-09T13:12:04.186Z"
   },
   {
    "duration": 10,
    "start_time": "2022-09-09T13:12:04.203Z"
   },
   {
    "duration": 10,
    "start_time": "2022-09-09T13:12:04.215Z"
   },
   {
    "duration": 22,
    "start_time": "2022-09-09T13:12:04.227Z"
   },
   {
    "duration": 65,
    "start_time": "2022-09-09T13:12:04.270Z"
   },
   {
    "duration": 12,
    "start_time": "2022-09-09T13:12:04.337Z"
   },
   {
    "duration": 12,
    "start_time": "2022-09-09T13:12:04.369Z"
   },
   {
    "duration": 202,
    "start_time": "2022-09-09T13:12:04.383Z"
   },
   {
    "duration": 8,
    "start_time": "2022-09-09T13:12:04.591Z"
   },
   {
    "duration": 29,
    "start_time": "2022-09-09T13:12:04.601Z"
   },
   {
    "duration": 6,
    "start_time": "2022-09-09T13:12:04.631Z"
   },
   {
    "duration": 63,
    "start_time": "2022-09-09T13:12:04.639Z"
   },
   {
    "duration": 5,
    "start_time": "2022-09-09T13:12:04.705Z"
   },
   {
    "duration": 33,
    "start_time": "2022-09-09T13:12:04.712Z"
   },
   {
    "duration": 43,
    "start_time": "2022-09-09T13:12:04.747Z"
   },
   {
    "duration": 14,
    "start_time": "2022-09-09T13:12:04.792Z"
   },
   {
    "duration": 9,
    "start_time": "2022-09-09T13:12:04.808Z"
   },
   {
    "duration": 37,
    "start_time": "2022-09-09T13:12:04.818Z"
   },
   {
    "duration": 29,
    "start_time": "2022-09-09T13:12:04.856Z"
   },
   {
    "duration": 18,
    "start_time": "2022-09-09T13:12:04.886Z"
   },
   {
    "duration": 7,
    "start_time": "2022-09-09T13:12:04.906Z"
   },
   {
    "duration": 7,
    "start_time": "2022-09-09T13:12:04.914Z"
   },
   {
    "duration": 6,
    "start_time": "2022-09-09T13:12:04.923Z"
   },
   {
    "duration": 7,
    "start_time": "2022-09-09T13:12:04.930Z"
   },
   {
    "duration": 40,
    "start_time": "2022-09-09T13:12:04.939Z"
   },
   {
    "duration": 35,
    "start_time": "2022-09-09T13:12:04.983Z"
   },
   {
    "duration": 4,
    "start_time": "2022-09-09T13:12:05.020Z"
   },
   {
    "duration": 45,
    "start_time": "2022-09-09T13:12:05.025Z"
   },
   {
    "duration": 84,
    "start_time": "2022-09-09T13:12:05.073Z"
   },
   {
    "duration": 1489,
    "start_time": "2022-09-09T13:16:21.461Z"
   },
   {
    "duration": 194,
    "start_time": "2022-09-09T13:16:22.952Z"
   },
   {
    "duration": 32,
    "start_time": "2022-09-09T13:16:23.148Z"
   },
   {
    "duration": 8,
    "start_time": "2022-09-09T13:16:23.183Z"
   },
   {
    "duration": 120,
    "start_time": "2022-09-09T13:16:23.194Z"
   },
   {
    "duration": 118,
    "start_time": "2022-09-09T13:16:23.316Z"
   },
   {
    "duration": 128,
    "start_time": "2022-09-09T13:16:23.435Z"
   },
   {
    "duration": 36,
    "start_time": "2022-09-09T13:16:23.568Z"
   },
   {
    "duration": 369,
    "start_time": "2022-09-09T13:16:23.606Z"
   },
   {
    "duration": 40,
    "start_time": "2022-09-09T13:16:23.978Z"
   },
   {
    "duration": 4,
    "start_time": "2022-09-09T13:16:24.020Z"
   },
   {
    "duration": 9,
    "start_time": "2022-09-09T13:16:24.026Z"
   },
   {
    "duration": 4,
    "start_time": "2022-09-09T13:16:24.037Z"
   },
   {
    "duration": 26,
    "start_time": "2022-09-09T13:16:24.070Z"
   },
   {
    "duration": 15,
    "start_time": "2022-09-09T13:16:24.098Z"
   },
   {
    "duration": 373,
    "start_time": "2022-09-09T13:16:24.114Z"
   },
   {
    "duration": 32,
    "start_time": "2022-09-09T13:16:24.490Z"
   },
   {
    "duration": 35,
    "start_time": "2022-09-09T13:16:24.523Z"
   },
   {
    "duration": 29,
    "start_time": "2022-09-09T13:16:24.559Z"
   },
   {
    "duration": 19,
    "start_time": "2022-09-09T13:16:24.593Z"
   },
   {
    "duration": 11,
    "start_time": "2022-09-09T13:16:24.613Z"
   },
   {
    "duration": 9,
    "start_time": "2022-09-09T13:16:24.626Z"
   },
   {
    "duration": 10,
    "start_time": "2022-09-09T13:16:24.637Z"
   },
   {
    "duration": 51,
    "start_time": "2022-09-09T13:16:24.649Z"
   },
   {
    "duration": 86,
    "start_time": "2022-09-09T13:16:24.703Z"
   },
   {
    "duration": 13,
    "start_time": "2022-09-09T13:16:24.792Z"
   },
   {
    "duration": 11,
    "start_time": "2022-09-09T13:16:24.807Z"
   },
   {
    "duration": 195,
    "start_time": "2022-09-09T13:16:24.822Z"
   },
   {
    "duration": 5,
    "start_time": "2022-09-09T13:16:25.019Z"
   },
   {
    "duration": 61,
    "start_time": "2022-09-09T13:16:25.026Z"
   },
   {
    "duration": 5,
    "start_time": "2022-09-09T13:16:25.093Z"
   },
   {
    "duration": 29,
    "start_time": "2022-09-09T13:16:25.100Z"
   },
   {
    "duration": 4,
    "start_time": "2022-09-09T13:16:25.131Z"
   },
   {
    "duration": 55,
    "start_time": "2022-09-09T13:16:25.136Z"
   },
   {
    "duration": 19,
    "start_time": "2022-09-09T13:16:25.193Z"
   },
   {
    "duration": 6,
    "start_time": "2022-09-09T13:16:25.214Z"
   },
   {
    "duration": 6,
    "start_time": "2022-09-09T13:16:25.222Z"
   },
   {
    "duration": 65,
    "start_time": "2022-09-09T13:16:25.230Z"
   },
   {
    "duration": 17,
    "start_time": "2022-09-09T13:16:25.297Z"
   },
   {
    "duration": 7,
    "start_time": "2022-09-09T13:16:25.315Z"
   },
   {
    "duration": 7,
    "start_time": "2022-09-09T13:16:25.324Z"
   },
   {
    "duration": 9,
    "start_time": "2022-09-09T13:16:25.333Z"
   },
   {
    "duration": 5,
    "start_time": "2022-09-09T13:16:25.344Z"
   },
   {
    "duration": 50,
    "start_time": "2022-09-09T13:16:25.350Z"
   },
   {
    "duration": 37,
    "start_time": "2022-09-09T13:16:25.403Z"
   },
   {
    "duration": 42,
    "start_time": "2022-09-09T13:16:25.442Z"
   },
   {
    "duration": 5,
    "start_time": "2022-09-09T13:16:25.489Z"
   },
   {
    "duration": 39,
    "start_time": "2022-09-09T13:16:25.500Z"
   },
   {
    "duration": 72,
    "start_time": "2022-09-09T13:16:25.541Z"
   },
   {
    "duration": 1196,
    "start_time": "2022-09-09T13:22:06.587Z"
   },
   {
    "duration": 169,
    "start_time": "2022-09-09T13:22:07.787Z"
   },
   {
    "duration": 45,
    "start_time": "2022-09-09T13:22:07.957Z"
   },
   {
    "duration": 7,
    "start_time": "2022-09-09T13:22:08.004Z"
   },
   {
    "duration": 116,
    "start_time": "2022-09-09T13:22:08.013Z"
   },
   {
    "duration": 114,
    "start_time": "2022-09-09T13:22:08.131Z"
   },
   {
    "duration": 134,
    "start_time": "2022-09-09T13:22:08.246Z"
   },
   {
    "duration": 31,
    "start_time": "2022-09-09T13:22:08.382Z"
   },
   {
    "duration": 5,
    "start_time": "2022-09-09T13:22:08.414Z"
   },
   {
    "duration": 361,
    "start_time": "2022-09-09T13:22:08.422Z"
   },
   {
    "duration": 36,
    "start_time": "2022-09-09T13:22:08.786Z"
   },
   {
    "duration": 4,
    "start_time": "2022-09-09T13:22:08.824Z"
   },
   {
    "duration": 12,
    "start_time": "2022-09-09T13:22:08.829Z"
   },
   {
    "duration": 3,
    "start_time": "2022-09-09T13:22:08.843Z"
   },
   {
    "duration": 69,
    "start_time": "2022-09-09T13:22:08.848Z"
   },
   {
    "duration": 18,
    "start_time": "2022-09-09T13:22:08.918Z"
   },
   {
    "duration": 349,
    "start_time": "2022-09-09T13:22:08.938Z"
   },
   {
    "duration": 24,
    "start_time": "2022-09-09T13:22:09.290Z"
   },
   {
    "duration": 32,
    "start_time": "2022-09-09T13:22:09.316Z"
   },
   {
    "duration": 31,
    "start_time": "2022-09-09T13:22:09.350Z"
   },
   {
    "duration": 28,
    "start_time": "2022-09-09T13:22:09.383Z"
   },
   {
    "duration": 10,
    "start_time": "2022-09-09T13:22:09.413Z"
   },
   {
    "duration": 12,
    "start_time": "2022-09-09T13:22:09.426Z"
   },
   {
    "duration": 44,
    "start_time": "2022-09-09T13:22:09.441Z"
   },
   {
    "duration": 37,
    "start_time": "2022-09-09T13:22:09.491Z"
   },
   {
    "duration": 94,
    "start_time": "2022-09-09T13:22:09.530Z"
   },
   {
    "duration": 17,
    "start_time": "2022-09-09T13:22:09.626Z"
   },
   {
    "duration": 35,
    "start_time": "2022-09-09T13:22:09.648Z"
   },
   {
    "duration": 205,
    "start_time": "2022-09-09T13:22:09.689Z"
   },
   {
    "duration": 6,
    "start_time": "2022-09-09T13:22:09.896Z"
   },
   {
    "duration": 34,
    "start_time": "2022-09-09T13:22:09.904Z"
   },
   {
    "duration": 5,
    "start_time": "2022-09-09T13:22:09.939Z"
   },
   {
    "duration": 54,
    "start_time": "2022-09-09T13:22:09.946Z"
   },
   {
    "duration": 6,
    "start_time": "2022-09-09T13:22:10.002Z"
   },
   {
    "duration": 72,
    "start_time": "2022-09-09T13:22:10.011Z"
   },
   {
    "duration": 23,
    "start_time": "2022-09-09T13:22:10.088Z"
   },
   {
    "duration": 6,
    "start_time": "2022-09-09T13:22:10.113Z"
   },
   {
    "duration": 8,
    "start_time": "2022-09-09T13:22:10.121Z"
   },
   {
    "duration": 52,
    "start_time": "2022-09-09T13:22:10.131Z"
   },
   {
    "duration": 23,
    "start_time": "2022-09-09T13:22:10.199Z"
   },
   {
    "duration": 7,
    "start_time": "2022-09-09T13:22:10.224Z"
   },
   {
    "duration": 12,
    "start_time": "2022-09-09T13:22:10.233Z"
   },
   {
    "duration": 9,
    "start_time": "2022-09-09T13:22:10.248Z"
   },
   {
    "duration": 22,
    "start_time": "2022-09-09T13:22:10.259Z"
   },
   {
    "duration": 19,
    "start_time": "2022-09-09T13:22:10.291Z"
   },
   {
    "duration": 27,
    "start_time": "2022-09-09T13:22:10.312Z"
   },
   {
    "duration": 37,
    "start_time": "2022-09-09T13:22:10.341Z"
   },
   {
    "duration": 5,
    "start_time": "2022-09-09T13:22:10.380Z"
   },
   {
    "duration": 51,
    "start_time": "2022-09-09T13:22:10.387Z"
   },
   {
    "duration": 100,
    "start_time": "2022-09-09T13:22:10.439Z"
   },
   {
    "duration": 1151,
    "start_time": "2022-09-09T13:22:38.604Z"
   },
   {
    "duration": 191,
    "start_time": "2022-09-09T13:22:39.757Z"
   },
   {
    "duration": 36,
    "start_time": "2022-09-09T13:22:39.950Z"
   },
   {
    "duration": 10,
    "start_time": "2022-09-09T13:22:39.988Z"
   },
   {
    "duration": 117,
    "start_time": "2022-09-09T13:22:39.999Z"
   },
   {
    "duration": 123,
    "start_time": "2022-09-09T13:22:40.118Z"
   },
   {
    "duration": 142,
    "start_time": "2022-09-09T13:22:40.242Z"
   },
   {
    "duration": 34,
    "start_time": "2022-09-09T13:22:40.387Z"
   },
   {
    "duration": 490,
    "start_time": "2022-09-09T13:22:40.424Z"
   },
   {
    "duration": 32,
    "start_time": "2022-09-09T13:22:40.916Z"
   },
   {
    "duration": 24,
    "start_time": "2022-09-09T13:22:40.950Z"
   },
   {
    "duration": 27,
    "start_time": "2022-09-09T13:22:40.977Z"
   },
   {
    "duration": 4,
    "start_time": "2022-09-09T13:22:41.007Z"
   },
   {
    "duration": 18,
    "start_time": "2022-09-09T13:22:41.014Z"
   },
   {
    "duration": 15,
    "start_time": "2022-09-09T13:22:41.034Z"
   },
   {
    "duration": 364,
    "start_time": "2022-09-09T13:22:41.051Z"
   },
   {
    "duration": 21,
    "start_time": "2022-09-09T13:22:41.417Z"
   },
   {
    "duration": 63,
    "start_time": "2022-09-09T13:22:41.440Z"
   },
   {
    "duration": 11,
    "start_time": "2022-09-09T13:22:41.508Z"
   },
   {
    "duration": 19,
    "start_time": "2022-09-09T13:22:41.521Z"
   },
   {
    "duration": 31,
    "start_time": "2022-09-09T13:22:41.542Z"
   },
   {
    "duration": 18,
    "start_time": "2022-09-09T13:22:41.579Z"
   },
   {
    "duration": 15,
    "start_time": "2022-09-09T13:22:41.599Z"
   },
   {
    "duration": 25,
    "start_time": "2022-09-09T13:22:41.616Z"
   },
   {
    "duration": 95,
    "start_time": "2022-09-09T13:22:41.642Z"
   },
   {
    "duration": 11,
    "start_time": "2022-09-09T13:22:41.739Z"
   },
   {
    "duration": 32,
    "start_time": "2022-09-09T13:22:41.751Z"
   },
   {
    "duration": 186,
    "start_time": "2022-09-09T13:22:41.787Z"
   },
   {
    "duration": 4,
    "start_time": "2022-09-09T13:22:41.975Z"
   },
   {
    "duration": 51,
    "start_time": "2022-09-09T13:22:41.980Z"
   },
   {
    "duration": 5,
    "start_time": "2022-09-09T13:22:42.032Z"
   },
   {
    "duration": 55,
    "start_time": "2022-09-09T13:22:42.039Z"
   },
   {
    "duration": 5,
    "start_time": "2022-09-09T13:22:42.097Z"
   },
   {
    "duration": 35,
    "start_time": "2022-09-09T13:22:42.103Z"
   },
   {
    "duration": 16,
    "start_time": "2022-09-09T13:22:42.139Z"
   },
   {
    "duration": 35,
    "start_time": "2022-09-09T13:22:42.172Z"
   },
   {
    "duration": 7,
    "start_time": "2022-09-09T13:22:42.208Z"
   },
   {
    "duration": 36,
    "start_time": "2022-09-09T13:22:42.217Z"
   },
   {
    "duration": 21,
    "start_time": "2022-09-09T13:22:42.254Z"
   },
   {
    "duration": 17,
    "start_time": "2022-09-09T13:22:42.287Z"
   },
   {
    "duration": 5,
    "start_time": "2022-09-09T13:22:42.306Z"
   },
   {
    "duration": 8,
    "start_time": "2022-09-09T13:22:42.313Z"
   },
   {
    "duration": 5,
    "start_time": "2022-09-09T13:22:42.322Z"
   },
   {
    "duration": 7,
    "start_time": "2022-09-09T13:22:42.329Z"
   },
   {
    "duration": 39,
    "start_time": "2022-09-09T13:22:42.337Z"
   },
   {
    "duration": 37,
    "start_time": "2022-09-09T13:22:42.382Z"
   },
   {
    "duration": 5,
    "start_time": "2022-09-09T13:22:42.421Z"
   },
   {
    "duration": 71,
    "start_time": "2022-09-09T13:22:42.428Z"
   },
   {
    "duration": 78,
    "start_time": "2022-09-09T13:22:42.500Z"
   },
   {
    "duration": 94,
    "start_time": "2022-09-09T18:53:35.837Z"
   }
  ],
  "kernelspec": {
   "display_name": "Python 3 (ipykernel)",
   "language": "python",
   "name": "python3"
  },
  "language_info": {
   "codemirror_mode": {
    "name": "ipython",
    "version": 3
   },
   "file_extension": ".py",
   "mimetype": "text/x-python",
   "name": "python",
   "nbconvert_exporter": "python",
   "pygments_lexer": "ipython3",
   "version": "3.9.12"
  },
  "toc": {
   "base_numbering": 1,
   "nav_menu": {},
   "number_sections": true,
   "sideBar": true,
   "skip_h1_title": true,
   "title_cell": "Table of Contents",
   "title_sidebar": "Contents",
   "toc_cell": false,
   "toc_position": {},
   "toc_section_display": true,
   "toc_window_display": false
  }
 },
 "nbformat": 4,
 "nbformat_minor": 2
}
