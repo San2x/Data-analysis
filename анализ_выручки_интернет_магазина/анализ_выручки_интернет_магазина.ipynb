{
 "cells": [
  {
   "cell_type": "markdown",
   "metadata": {},
   "source": [
    "# Исследование возможностей увеличения выручки интернет-магазина"
   ]
  },
  {
   "cell_type": "markdown",
   "metadata": {},
   "source": [
    "Отдел маркетинга крупного интернет-магазина подготовил список гипотез для увеличения выручки.\n",
    "Необходимо приоритизировать гипотезы, запустить A/B-тест и проанализировать результаты."
   ]
  },
  {
   "cell_type": "markdown",
   "metadata": {},
   "source": [
    "# Часть 1. Приоритизация гипотез"
   ]
  },
  {
   "cell_type": "markdown",
   "metadata": {},
   "source": [
    "Сперва загрузим необходимые для анализа библиотеки."
   ]
  },
  {
   "cell_type": "code",
   "execution_count": 1,
   "metadata": {},
   "outputs": [],
   "source": [
    "# загружаем библиотеки\n",
    "import pandas as pd\n",
    "import numpy as np\n",
    "import matplotlib.pyplot as plt\n",
    "import scipy.stats as stats"
   ]
  },
  {
   "cell_type": "markdown",
   "metadata": {},
   "source": [
    "Затем считаем csv-файл с оценками параметров гипотетических решений."
   ]
  },
  {
   "cell_type": "code",
   "execution_count": 2,
   "metadata": {},
   "outputs": [
    {
     "data": {
      "text/html": [
       "<div>\n",
       "<style scoped>\n",
       "    .dataframe tbody tr th:only-of-type {\n",
       "        vertical-align: middle;\n",
       "    }\n",
       "\n",
       "    .dataframe tbody tr th {\n",
       "        vertical-align: top;\n",
       "    }\n",
       "\n",
       "    .dataframe thead th {\n",
       "        text-align: right;\n",
       "    }\n",
       "</style>\n",
       "<table border=\"1\" class=\"dataframe\">\n",
       "  <thead>\n",
       "    <tr style=\"text-align: right;\">\n",
       "      <th></th>\n",
       "      <th>Hypothesis</th>\n",
       "      <th>Reach</th>\n",
       "      <th>Impact</th>\n",
       "      <th>Confidence</th>\n",
       "      <th>Efforts</th>\n",
       "    </tr>\n",
       "  </thead>\n",
       "  <tbody>\n",
       "    <tr>\n",
       "      <th>0</th>\n",
       "      <td>Добавить два новых канала привлечения трафика,...</td>\n",
       "      <td>3</td>\n",
       "      <td>10</td>\n",
       "      <td>8</td>\n",
       "      <td>6</td>\n",
       "    </tr>\n",
       "    <tr>\n",
       "      <th>1</th>\n",
       "      <td>Запустить собственную службу доставки, что сок...</td>\n",
       "      <td>2</td>\n",
       "      <td>5</td>\n",
       "      <td>4</td>\n",
       "      <td>10</td>\n",
       "    </tr>\n",
       "    <tr>\n",
       "      <th>2</th>\n",
       "      <td>Добавить блоки рекомендаций товаров на сайт ин...</td>\n",
       "      <td>8</td>\n",
       "      <td>3</td>\n",
       "      <td>7</td>\n",
       "      <td>3</td>\n",
       "    </tr>\n",
       "    <tr>\n",
       "      <th>3</th>\n",
       "      <td>Изменить структура категорий, что увеличит кон...</td>\n",
       "      <td>8</td>\n",
       "      <td>3</td>\n",
       "      <td>3</td>\n",
       "      <td>8</td>\n",
       "    </tr>\n",
       "    <tr>\n",
       "      <th>4</th>\n",
       "      <td>Изменить цвет фона главной страницы, чтобы уве...</td>\n",
       "      <td>3</td>\n",
       "      <td>1</td>\n",
       "      <td>1</td>\n",
       "      <td>1</td>\n",
       "    </tr>\n",
       "  </tbody>\n",
       "</table>\n",
       "</div>"
      ],
      "text/plain": [
       "                                          Hypothesis  Reach  Impact  \\\n",
       "0  Добавить два новых канала привлечения трафика,...      3      10   \n",
       "1  Запустить собственную службу доставки, что сок...      2       5   \n",
       "2  Добавить блоки рекомендаций товаров на сайт ин...      8       3   \n",
       "3  Изменить структура категорий, что увеличит кон...      8       3   \n",
       "4  Изменить цвет фона главной страницы, чтобы уве...      3       1   \n",
       "\n",
       "   Confidence  Efforts  \n",
       "0           8        6  \n",
       "1           4       10  \n",
       "2           7        3  \n",
       "3           3        8  \n",
       "4           1        1  "
      ]
     },
     "execution_count": 2,
     "metadata": {},
     "output_type": "execute_result"
    }
   ],
   "source": [
    "# считываем csv-файл с гипотезами\n",
    "hypothesis = pd.read_csv('/datasets/hypothesis.csv')\n",
    "\n",
    "hypothesis.head()"
   ]
  },
  {
   "cell_type": "markdown",
   "metadata": {},
   "source": [
    "Применим фреймворк ICE для приоритизации гипотез."
   ]
  },
  {
   "cell_type": "code",
   "execution_count": 3,
   "metadata": {},
   "outputs": [
    {
     "data": {
      "text/html": [
       "<div>\n",
       "<style scoped>\n",
       "    .dataframe tbody tr th:only-of-type {\n",
       "        vertical-align: middle;\n",
       "    }\n",
       "\n",
       "    .dataframe tbody tr th {\n",
       "        vertical-align: top;\n",
       "    }\n",
       "\n",
       "    .dataframe thead th {\n",
       "        text-align: right;\n",
       "    }\n",
       "</style>\n",
       "<table border=\"1\" class=\"dataframe\">\n",
       "  <thead>\n",
       "    <tr style=\"text-align: right;\">\n",
       "      <th></th>\n",
       "      <th>Hypothesis</th>\n",
       "      <th>Reach</th>\n",
       "      <th>Impact</th>\n",
       "      <th>Confidence</th>\n",
       "      <th>Efforts</th>\n",
       "      <th>ICE</th>\n",
       "    </tr>\n",
       "  </thead>\n",
       "  <tbody>\n",
       "    <tr>\n",
       "      <th>8</th>\n",
       "      <td>Запустить акцию, дающую скидку на товар в день...</td>\n",
       "      <td>1</td>\n",
       "      <td>9</td>\n",
       "      <td>9</td>\n",
       "      <td>5</td>\n",
       "      <td>16.200000</td>\n",
       "    </tr>\n",
       "    <tr>\n",
       "      <th>0</th>\n",
       "      <td>Добавить два новых канала привлечения трафика,...</td>\n",
       "      <td>3</td>\n",
       "      <td>10</td>\n",
       "      <td>8</td>\n",
       "      <td>6</td>\n",
       "      <td>13.333333</td>\n",
       "    </tr>\n",
       "    <tr>\n",
       "      <th>7</th>\n",
       "      <td>Добавить форму подписки на все основные страни...</td>\n",
       "      <td>10</td>\n",
       "      <td>7</td>\n",
       "      <td>8</td>\n",
       "      <td>5</td>\n",
       "      <td>11.200000</td>\n",
       "    </tr>\n",
       "    <tr>\n",
       "      <th>6</th>\n",
       "      <td>Показать на главной странице баннеры с актуаль...</td>\n",
       "      <td>5</td>\n",
       "      <td>3</td>\n",
       "      <td>8</td>\n",
       "      <td>3</td>\n",
       "      <td>8.000000</td>\n",
       "    </tr>\n",
       "    <tr>\n",
       "      <th>2</th>\n",
       "      <td>Добавить блоки рекомендаций товаров на сайт ин...</td>\n",
       "      <td>8</td>\n",
       "      <td>3</td>\n",
       "      <td>7</td>\n",
       "      <td>3</td>\n",
       "      <td>7.000000</td>\n",
       "    </tr>\n",
       "    <tr>\n",
       "      <th>1</th>\n",
       "      <td>Запустить собственную службу доставки, что сок...</td>\n",
       "      <td>2</td>\n",
       "      <td>5</td>\n",
       "      <td>4</td>\n",
       "      <td>10</td>\n",
       "      <td>2.000000</td>\n",
       "    </tr>\n",
       "    <tr>\n",
       "      <th>5</th>\n",
       "      <td>Добавить страницу отзывов клиентов о магазине,...</td>\n",
       "      <td>3</td>\n",
       "      <td>2</td>\n",
       "      <td>2</td>\n",
       "      <td>3</td>\n",
       "      <td>1.333333</td>\n",
       "    </tr>\n",
       "    <tr>\n",
       "      <th>3</th>\n",
       "      <td>Изменить структура категорий, что увеличит кон...</td>\n",
       "      <td>8</td>\n",
       "      <td>3</td>\n",
       "      <td>3</td>\n",
       "      <td>8</td>\n",
       "      <td>1.125000</td>\n",
       "    </tr>\n",
       "    <tr>\n",
       "      <th>4</th>\n",
       "      <td>Изменить цвет фона главной страницы, чтобы уве...</td>\n",
       "      <td>3</td>\n",
       "      <td>1</td>\n",
       "      <td>1</td>\n",
       "      <td>1</td>\n",
       "      <td>1.000000</td>\n",
       "    </tr>\n",
       "  </tbody>\n",
       "</table>\n",
       "</div>"
      ],
      "text/plain": [
       "                                          Hypothesis  Reach  Impact  \\\n",
       "8  Запустить акцию, дающую скидку на товар в день...      1       9   \n",
       "0  Добавить два новых канала привлечения трафика,...      3      10   \n",
       "7  Добавить форму подписки на все основные страни...     10       7   \n",
       "6  Показать на главной странице баннеры с актуаль...      5       3   \n",
       "2  Добавить блоки рекомендаций товаров на сайт ин...      8       3   \n",
       "1  Запустить собственную службу доставки, что сок...      2       5   \n",
       "5  Добавить страницу отзывов клиентов о магазине,...      3       2   \n",
       "3  Изменить структура категорий, что увеличит кон...      8       3   \n",
       "4  Изменить цвет фона главной страницы, чтобы уве...      3       1   \n",
       "\n",
       "   Confidence  Efforts        ICE  \n",
       "8           9        5  16.200000  \n",
       "0           8        6  13.333333  \n",
       "7           8        5  11.200000  \n",
       "6           8        3   8.000000  \n",
       "2           7        3   7.000000  \n",
       "1           4       10   2.000000  \n",
       "5           2        3   1.333333  \n",
       "3           3        8   1.125000  \n",
       "4           1        1   1.000000  "
      ]
     },
     "execution_count": 3,
     "metadata": {},
     "output_type": "execute_result"
    }
   ],
   "source": [
    "# рассчитываем значение ICE для представленных гипотез и сортируем их по убыванию приоритета\n",
    "hypothesis['ICE'] = hypothesis['Impact']*hypothesis['Confidence']/hypothesis['Efforts']\n",
    "\n",
    "hypothesis.sort_values(by='ICE', ascending=False)"
   ]
  },
  {
   "cell_type": "markdown",
   "metadata": {},
   "source": [
    "Наиболее приоритетными в таком случае оказываются гипотезы под номерами 8, 0 и 7.  "
   ]
  },
  {
   "cell_type": "markdown",
   "metadata": {},
   "source": [
    "Теперь применим фреймворк RICE для приоритизации гипотез."
   ]
  },
  {
   "cell_type": "code",
   "execution_count": 4,
   "metadata": {},
   "outputs": [
    {
     "data": {
      "text/html": [
       "<div>\n",
       "<style scoped>\n",
       "    .dataframe tbody tr th:only-of-type {\n",
       "        vertical-align: middle;\n",
       "    }\n",
       "\n",
       "    .dataframe tbody tr th {\n",
       "        vertical-align: top;\n",
       "    }\n",
       "\n",
       "    .dataframe thead th {\n",
       "        text-align: right;\n",
       "    }\n",
       "</style>\n",
       "<table border=\"1\" class=\"dataframe\">\n",
       "  <thead>\n",
       "    <tr style=\"text-align: right;\">\n",
       "      <th></th>\n",
       "      <th>Hypothesis</th>\n",
       "      <th>Reach</th>\n",
       "      <th>Impact</th>\n",
       "      <th>Confidence</th>\n",
       "      <th>Efforts</th>\n",
       "      <th>ICE</th>\n",
       "      <th>RICE</th>\n",
       "    </tr>\n",
       "  </thead>\n",
       "  <tbody>\n",
       "    <tr>\n",
       "      <th>7</th>\n",
       "      <td>Добавить форму подписки на все основные страни...</td>\n",
       "      <td>10</td>\n",
       "      <td>7</td>\n",
       "      <td>8</td>\n",
       "      <td>5</td>\n",
       "      <td>11.200000</td>\n",
       "      <td>112.0</td>\n",
       "    </tr>\n",
       "    <tr>\n",
       "      <th>2</th>\n",
       "      <td>Добавить блоки рекомендаций товаров на сайт ин...</td>\n",
       "      <td>8</td>\n",
       "      <td>3</td>\n",
       "      <td>7</td>\n",
       "      <td>3</td>\n",
       "      <td>7.000000</td>\n",
       "      <td>56.0</td>\n",
       "    </tr>\n",
       "    <tr>\n",
       "      <th>0</th>\n",
       "      <td>Добавить два новых канала привлечения трафика,...</td>\n",
       "      <td>3</td>\n",
       "      <td>10</td>\n",
       "      <td>8</td>\n",
       "      <td>6</td>\n",
       "      <td>13.333333</td>\n",
       "      <td>40.0</td>\n",
       "    </tr>\n",
       "    <tr>\n",
       "      <th>6</th>\n",
       "      <td>Показать на главной странице баннеры с актуаль...</td>\n",
       "      <td>5</td>\n",
       "      <td>3</td>\n",
       "      <td>8</td>\n",
       "      <td>3</td>\n",
       "      <td>8.000000</td>\n",
       "      <td>40.0</td>\n",
       "    </tr>\n",
       "    <tr>\n",
       "      <th>8</th>\n",
       "      <td>Запустить акцию, дающую скидку на товар в день...</td>\n",
       "      <td>1</td>\n",
       "      <td>9</td>\n",
       "      <td>9</td>\n",
       "      <td>5</td>\n",
       "      <td>16.200000</td>\n",
       "      <td>16.2</td>\n",
       "    </tr>\n",
       "    <tr>\n",
       "      <th>3</th>\n",
       "      <td>Изменить структура категорий, что увеличит кон...</td>\n",
       "      <td>8</td>\n",
       "      <td>3</td>\n",
       "      <td>3</td>\n",
       "      <td>8</td>\n",
       "      <td>1.125000</td>\n",
       "      <td>9.0</td>\n",
       "    </tr>\n",
       "    <tr>\n",
       "      <th>1</th>\n",
       "      <td>Запустить собственную службу доставки, что сок...</td>\n",
       "      <td>2</td>\n",
       "      <td>5</td>\n",
       "      <td>4</td>\n",
       "      <td>10</td>\n",
       "      <td>2.000000</td>\n",
       "      <td>4.0</td>\n",
       "    </tr>\n",
       "    <tr>\n",
       "      <th>5</th>\n",
       "      <td>Добавить страницу отзывов клиентов о магазине,...</td>\n",
       "      <td>3</td>\n",
       "      <td>2</td>\n",
       "      <td>2</td>\n",
       "      <td>3</td>\n",
       "      <td>1.333333</td>\n",
       "      <td>4.0</td>\n",
       "    </tr>\n",
       "    <tr>\n",
       "      <th>4</th>\n",
       "      <td>Изменить цвет фона главной страницы, чтобы уве...</td>\n",
       "      <td>3</td>\n",
       "      <td>1</td>\n",
       "      <td>1</td>\n",
       "      <td>1</td>\n",
       "      <td>1.000000</td>\n",
       "      <td>3.0</td>\n",
       "    </tr>\n",
       "  </tbody>\n",
       "</table>\n",
       "</div>"
      ],
      "text/plain": [
       "                                          Hypothesis  Reach  Impact  \\\n",
       "7  Добавить форму подписки на все основные страни...     10       7   \n",
       "2  Добавить блоки рекомендаций товаров на сайт ин...      8       3   \n",
       "0  Добавить два новых канала привлечения трафика,...      3      10   \n",
       "6  Показать на главной странице баннеры с актуаль...      5       3   \n",
       "8  Запустить акцию, дающую скидку на товар в день...      1       9   \n",
       "3  Изменить структура категорий, что увеличит кон...      8       3   \n",
       "1  Запустить собственную службу доставки, что сок...      2       5   \n",
       "5  Добавить страницу отзывов клиентов о магазине,...      3       2   \n",
       "4  Изменить цвет фона главной страницы, чтобы уве...      3       1   \n",
       "\n",
       "   Confidence  Efforts        ICE   RICE  \n",
       "7           8        5  11.200000  112.0  \n",
       "2           7        3   7.000000   56.0  \n",
       "0           8        6  13.333333   40.0  \n",
       "6           8        3   8.000000   40.0  \n",
       "8           9        5  16.200000   16.2  \n",
       "3           3        8   1.125000    9.0  \n",
       "1           4       10   2.000000    4.0  \n",
       "5           2        3   1.333333    4.0  \n",
       "4           1        1   1.000000    3.0  "
      ]
     },
     "execution_count": 4,
     "metadata": {},
     "output_type": "execute_result"
    }
   ],
   "source": [
    "# рассчитываем значение RICE для представленных гипотез и сортируем их по убыванию приоритета\n",
    "hypothesis['RICE'] = hypothesis['Reach']*hypothesis['Impact']*hypothesis['Confidence']/hypothesis['Efforts']\n",
    "\n",
    "hypothesis.sort_values(by='RICE', ascending=False)"
   ]
  },
  {
   "cell_type": "markdown",
   "metadata": {},
   "source": [
    "ТОП гипотез изменился - на первое место переместилась гипотеза под номером 7, на втором месте оказалась гипотеза номер 2, третье и четвертое место делят гипотезы 0 и 6."
   ]
  },
  {
   "cell_type": "markdown",
   "metadata": {},
   "source": [
    "Такое изменение произошло из-за того, что гипотезы 7 и 2 обладают высокими оценками параметра охвата, ввиду универсальности предлагаемых решений, что делает их более приоритетными по методу RICE, учитывающему параметр Reach."
   ]
  },
  {
   "cell_type": "markdown",
   "metadata": {},
   "source": [
    "# Часть 2. Анализ A/B-теста"
   ]
  },
  {
   "cell_type": "markdown",
   "metadata": {},
   "source": [
    "Для начала считаем csv-файлы с данными о заказах и количестве пользователей."
   ]
  },
  {
   "cell_type": "code",
   "execution_count": 5,
   "metadata": {},
   "outputs": [
    {
     "data": {
      "text/html": [
       "<div>\n",
       "<style scoped>\n",
       "    .dataframe tbody tr th:only-of-type {\n",
       "        vertical-align: middle;\n",
       "    }\n",
       "\n",
       "    .dataframe tbody tr th {\n",
       "        vertical-align: top;\n",
       "    }\n",
       "\n",
       "    .dataframe thead th {\n",
       "        text-align: right;\n",
       "    }\n",
       "</style>\n",
       "<table border=\"1\" class=\"dataframe\">\n",
       "  <thead>\n",
       "    <tr style=\"text-align: right;\">\n",
       "      <th></th>\n",
       "      <th>transactionId</th>\n",
       "      <th>visitorId</th>\n",
       "      <th>date</th>\n",
       "      <th>revenue</th>\n",
       "      <th>group</th>\n",
       "    </tr>\n",
       "  </thead>\n",
       "  <tbody>\n",
       "    <tr>\n",
       "      <th>0</th>\n",
       "      <td>3667963787</td>\n",
       "      <td>3312258926</td>\n",
       "      <td>2019-08-15</td>\n",
       "      <td>1650</td>\n",
       "      <td>B</td>\n",
       "    </tr>\n",
       "    <tr>\n",
       "      <th>1</th>\n",
       "      <td>2804400009</td>\n",
       "      <td>3642806036</td>\n",
       "      <td>2019-08-15</td>\n",
       "      <td>730</td>\n",
       "      <td>B</td>\n",
       "    </tr>\n",
       "    <tr>\n",
       "      <th>2</th>\n",
       "      <td>2961555356</td>\n",
       "      <td>4069496402</td>\n",
       "      <td>2019-08-15</td>\n",
       "      <td>400</td>\n",
       "      <td>A</td>\n",
       "    </tr>\n",
       "    <tr>\n",
       "      <th>3</th>\n",
       "      <td>3797467345</td>\n",
       "      <td>1196621759</td>\n",
       "      <td>2019-08-15</td>\n",
       "      <td>9759</td>\n",
       "      <td>B</td>\n",
       "    </tr>\n",
       "    <tr>\n",
       "      <th>4</th>\n",
       "      <td>2282983706</td>\n",
       "      <td>2322279887</td>\n",
       "      <td>2019-08-15</td>\n",
       "      <td>2308</td>\n",
       "      <td>B</td>\n",
       "    </tr>\n",
       "  </tbody>\n",
       "</table>\n",
       "</div>"
      ],
      "text/plain": [
       "   transactionId   visitorId        date  revenue group\n",
       "0     3667963787  3312258926  2019-08-15     1650     B\n",
       "1     2804400009  3642806036  2019-08-15      730     B\n",
       "2     2961555356  4069496402  2019-08-15      400     A\n",
       "3     3797467345  1196621759  2019-08-15     9759     B\n",
       "4     2282983706  2322279887  2019-08-15     2308     B"
      ]
     },
     "execution_count": 5,
     "metadata": {},
     "output_type": "execute_result"
    }
   ],
   "source": [
    "# считываем csv-файл с заказами\n",
    "orders = pd.read_csv('/datasets/orders.csv')\n",
    "\n",
    "orders.head()"
   ]
  },
  {
   "cell_type": "code",
   "execution_count": 6,
   "metadata": {},
   "outputs": [
    {
     "data": {
      "text/html": [
       "<div>\n",
       "<style scoped>\n",
       "    .dataframe tbody tr th:only-of-type {\n",
       "        vertical-align: middle;\n",
       "    }\n",
       "\n",
       "    .dataframe tbody tr th {\n",
       "        vertical-align: top;\n",
       "    }\n",
       "\n",
       "    .dataframe thead th {\n",
       "        text-align: right;\n",
       "    }\n",
       "</style>\n",
       "<table border=\"1\" class=\"dataframe\">\n",
       "  <thead>\n",
       "    <tr style=\"text-align: right;\">\n",
       "      <th></th>\n",
       "      <th>date</th>\n",
       "      <th>group</th>\n",
       "      <th>visitors</th>\n",
       "    </tr>\n",
       "  </thead>\n",
       "  <tbody>\n",
       "    <tr>\n",
       "      <th>0</th>\n",
       "      <td>2019-08-01</td>\n",
       "      <td>A</td>\n",
       "      <td>719</td>\n",
       "    </tr>\n",
       "    <tr>\n",
       "      <th>1</th>\n",
       "      <td>2019-08-02</td>\n",
       "      <td>A</td>\n",
       "      <td>619</td>\n",
       "    </tr>\n",
       "    <tr>\n",
       "      <th>2</th>\n",
       "      <td>2019-08-03</td>\n",
       "      <td>A</td>\n",
       "      <td>507</td>\n",
       "    </tr>\n",
       "    <tr>\n",
       "      <th>3</th>\n",
       "      <td>2019-08-04</td>\n",
       "      <td>A</td>\n",
       "      <td>717</td>\n",
       "    </tr>\n",
       "    <tr>\n",
       "      <th>4</th>\n",
       "      <td>2019-08-05</td>\n",
       "      <td>A</td>\n",
       "      <td>756</td>\n",
       "    </tr>\n",
       "  </tbody>\n",
       "</table>\n",
       "</div>"
      ],
      "text/plain": [
       "         date group  visitors\n",
       "0  2019-08-01     A       719\n",
       "1  2019-08-02     A       619\n",
       "2  2019-08-03     A       507\n",
       "3  2019-08-04     A       717\n",
       "4  2019-08-05     A       756"
      ]
     },
     "execution_count": 6,
     "metadata": {},
     "output_type": "execute_result"
    }
   ],
   "source": [
    "# считываем csv-файл с числом пользователей\n",
    "visitors = pd.read_csv('/datasets/visitors.csv')\n",
    "\n",
    "visitors.head()"
   ]
  },
  {
   "cell_type": "markdown",
   "metadata": {},
   "source": [
    "Перед более детальным исследованием данных выявим уникальных пользователей из таблицы заказов, попавших в обе группы - А и В."
   ]
  },
  {
   "cell_type": "code",
   "execution_count": 7,
   "metadata": {},
   "outputs": [
    {
     "data": {
      "text/plain": [
       "58"
      ]
     },
     "execution_count": 7,
     "metadata": {},
     "output_type": "execute_result"
    }
   ],
   "source": [
    "# разделяем пользователей по группам\n",
    "orders_a = orders[orders['group']=='A']['visitorId'].unique()\n",
    "orders_b = orders[orders['group']=='B']['visitorId'].unique()\n",
    "\n",
    "# находим повторяющихся пользователей\n",
    "double_users = [x for x in orders_a if x in orders_b]\n",
    "\n",
    "len(double_users)"
   ]
  },
  {
   "cell_type": "markdown",
   "metadata": {},
   "source": [
    "Нашлось 58 повторов, предлагается исключить их из последующего анализа."
   ]
  },
  {
   "cell_type": "code",
   "execution_count": 8,
   "metadata": {},
   "outputs": [],
   "source": [
    "# убираем повторяющихся пользователей\n",
    "orders = orders[~orders['visitorId'].isin(double_users)]"
   ]
  },
  {
   "cell_type": "markdown",
   "metadata": {},
   "source": [
    "В целях дальнейшей агрегации данных подготовим массив уникальных пар значений дат и групп теста."
   ]
  },
  {
   "cell_type": "code",
   "execution_count": 9,
   "metadata": {},
   "outputs": [
    {
     "data": {
      "text/html": [
       "<div>\n",
       "<style scoped>\n",
       "    .dataframe tbody tr th:only-of-type {\n",
       "        vertical-align: middle;\n",
       "    }\n",
       "\n",
       "    .dataframe tbody tr th {\n",
       "        vertical-align: top;\n",
       "    }\n",
       "\n",
       "    .dataframe thead th {\n",
       "        text-align: right;\n",
       "    }\n",
       "</style>\n",
       "<table border=\"1\" class=\"dataframe\">\n",
       "  <thead>\n",
       "    <tr style=\"text-align: right;\">\n",
       "      <th></th>\n",
       "      <th>date</th>\n",
       "      <th>group</th>\n",
       "    </tr>\n",
       "  </thead>\n",
       "  <tbody>\n",
       "    <tr>\n",
       "      <th>0</th>\n",
       "      <td>2019-08-15</td>\n",
       "      <td>B</td>\n",
       "    </tr>\n",
       "    <tr>\n",
       "      <th>7</th>\n",
       "      <td>2019-08-15</td>\n",
       "      <td>A</td>\n",
       "    </tr>\n",
       "    <tr>\n",
       "      <th>45</th>\n",
       "      <td>2019-08-16</td>\n",
       "      <td>A</td>\n",
       "    </tr>\n",
       "    <tr>\n",
       "      <th>47</th>\n",
       "      <td>2019-08-16</td>\n",
       "      <td>B</td>\n",
       "    </tr>\n",
       "    <tr>\n",
       "      <th>55</th>\n",
       "      <td>2019-08-01</td>\n",
       "      <td>A</td>\n",
       "    </tr>\n",
       "  </tbody>\n",
       "</table>\n",
       "</div>"
      ],
      "text/plain": [
       "          date group\n",
       "0   2019-08-15     B\n",
       "7   2019-08-15     A\n",
       "45  2019-08-16     A\n",
       "47  2019-08-16     B\n",
       "55  2019-08-01     A"
      ]
     },
     "execution_count": 9,
     "metadata": {},
     "output_type": "execute_result"
    }
   ],
   "source": [
    "# создаем массив уникальных пар значений дат и групп теста\n",
    "dates_groups = orders[['date','group']].drop_duplicates() \n",
    "\n",
    "dates_groups.head()"
   ]
  },
  {
   "cell_type": "markdown",
   "metadata": {},
   "source": [
    "Соберем агрегированные кумулятивные по дням данные о заказах, применив к созданному массиву лямбда-функцию, выбирающую максимальную дату, группу теста, количество уникальных заказов и покупателей для срезов данных о заказах по каждую дату включительно. "
   ]
  },
  {
   "cell_type": "code",
   "execution_count": 10,
   "metadata": {},
   "outputs": [
    {
     "data": {
      "text/html": [
       "<div>\n",
       "<style scoped>\n",
       "    .dataframe tbody tr th:only-of-type {\n",
       "        vertical-align: middle;\n",
       "    }\n",
       "\n",
       "    .dataframe tbody tr th {\n",
       "        vertical-align: top;\n",
       "    }\n",
       "\n",
       "    .dataframe thead th {\n",
       "        text-align: right;\n",
       "    }\n",
       "</style>\n",
       "<table border=\"1\" class=\"dataframe\">\n",
       "  <thead>\n",
       "    <tr style=\"text-align: right;\">\n",
       "      <th></th>\n",
       "      <th>date</th>\n",
       "      <th>group</th>\n",
       "      <th>transactionId</th>\n",
       "      <th>visitorId</th>\n",
       "      <th>revenue</th>\n",
       "    </tr>\n",
       "  </thead>\n",
       "  <tbody>\n",
       "    <tr>\n",
       "      <th>55</th>\n",
       "      <td>2019-08-01</td>\n",
       "      <td>A</td>\n",
       "      <td>23</td>\n",
       "      <td>19</td>\n",
       "      <td>142779</td>\n",
       "    </tr>\n",
       "    <tr>\n",
       "      <th>66</th>\n",
       "      <td>2019-08-01</td>\n",
       "      <td>B</td>\n",
       "      <td>17</td>\n",
       "      <td>17</td>\n",
       "      <td>59758</td>\n",
       "    </tr>\n",
       "    <tr>\n",
       "      <th>175</th>\n",
       "      <td>2019-08-02</td>\n",
       "      <td>A</td>\n",
       "      <td>42</td>\n",
       "      <td>36</td>\n",
       "      <td>234381</td>\n",
       "    </tr>\n",
       "    <tr>\n",
       "      <th>173</th>\n",
       "      <td>2019-08-02</td>\n",
       "      <td>B</td>\n",
       "      <td>40</td>\n",
       "      <td>39</td>\n",
       "      <td>221801</td>\n",
       "    </tr>\n",
       "    <tr>\n",
       "      <th>291</th>\n",
       "      <td>2019-08-03</td>\n",
       "      <td>A</td>\n",
       "      <td>66</td>\n",
       "      <td>60</td>\n",
       "      <td>346854</td>\n",
       "    </tr>\n",
       "  </tbody>\n",
       "</table>\n",
       "</div>"
      ],
      "text/plain": [
       "           date group  transactionId  visitorId  revenue\n",
       "55   2019-08-01     A             23         19   142779\n",
       "66   2019-08-01     B             17         17    59758\n",
       "175  2019-08-02     A             42         36   234381\n",
       "173  2019-08-02     B             40         39   221801\n",
       "291  2019-08-03     A             66         60   346854"
      ]
     },
     "execution_count": 10,
     "metadata": {},
     "output_type": "execute_result"
    }
   ],
   "source": [
    "# получаем агрегированные кумулятивные по дням данные о заказах \n",
    "orders_aggregated = dates_groups.apply(lambda x: orders[np.logical_and(orders['date'] <= x['date'], orders['group'] == x['group'])]\\\n",
    ".agg({'date' : 'max', 'group' : 'max', 'transactionId' : 'nunique', 'visitorId' : 'nunique', 'revenue' : 'sum'}), axis=1).sort_values(by=['date','group'])\n",
    "\n",
    "orders_aggregated.head()"
   ]
  },
  {
   "cell_type": "markdown",
   "metadata": {},
   "source": [
    "Применим аналогичную логику для получения агрегированных кумулятивных по дням данных о количестве посетителей сайта."
   ]
  },
  {
   "cell_type": "code",
   "execution_count": 11,
   "metadata": {},
   "outputs": [
    {
     "data": {
      "text/html": [
       "<div>\n",
       "<style scoped>\n",
       "    .dataframe tbody tr th:only-of-type {\n",
       "        vertical-align: middle;\n",
       "    }\n",
       "\n",
       "    .dataframe tbody tr th {\n",
       "        vertical-align: top;\n",
       "    }\n",
       "\n",
       "    .dataframe thead th {\n",
       "        text-align: right;\n",
       "    }\n",
       "</style>\n",
       "<table border=\"1\" class=\"dataframe\">\n",
       "  <thead>\n",
       "    <tr style=\"text-align: right;\">\n",
       "      <th></th>\n",
       "      <th>date</th>\n",
       "      <th>group</th>\n",
       "      <th>visitors</th>\n",
       "    </tr>\n",
       "  </thead>\n",
       "  <tbody>\n",
       "    <tr>\n",
       "      <th>55</th>\n",
       "      <td>2019-08-01</td>\n",
       "      <td>A</td>\n",
       "      <td>719</td>\n",
       "    </tr>\n",
       "    <tr>\n",
       "      <th>66</th>\n",
       "      <td>2019-08-01</td>\n",
       "      <td>B</td>\n",
       "      <td>713</td>\n",
       "    </tr>\n",
       "    <tr>\n",
       "      <th>175</th>\n",
       "      <td>2019-08-02</td>\n",
       "      <td>A</td>\n",
       "      <td>1338</td>\n",
       "    </tr>\n",
       "    <tr>\n",
       "      <th>173</th>\n",
       "      <td>2019-08-02</td>\n",
       "      <td>B</td>\n",
       "      <td>1294</td>\n",
       "    </tr>\n",
       "    <tr>\n",
       "      <th>291</th>\n",
       "      <td>2019-08-03</td>\n",
       "      <td>A</td>\n",
       "      <td>1845</td>\n",
       "    </tr>\n",
       "  </tbody>\n",
       "</table>\n",
       "</div>"
      ],
      "text/plain": [
       "           date group  visitors\n",
       "55   2019-08-01     A       719\n",
       "66   2019-08-01     B       713\n",
       "175  2019-08-02     A      1338\n",
       "173  2019-08-02     B      1294\n",
       "291  2019-08-03     A      1845"
      ]
     },
     "execution_count": 11,
     "metadata": {},
     "output_type": "execute_result"
    }
   ],
   "source": [
    "# получаем агрегированные кумулятивные по дням данные о числе пользователей\n",
    "visitors_aggregated = dates_groups.apply(lambda x: visitors[np.logical_and(visitors['date'] <= x['date'], visitors['group'] == x['group'])]\\\n",
    ".agg({'date' : 'max', 'group' : 'max', 'visitors' : 'sum'}), axis=1).sort_values(by=['date','group'])\n",
    "\n",
    "visitors_aggregated.head()"
   ]
  },
  {
   "cell_type": "markdown",
   "metadata": {},
   "source": [
    "Объединим полученные данные в одной таблице на основе даты и группы теста."
   ]
  },
  {
   "cell_type": "code",
   "execution_count": 12,
   "metadata": {},
   "outputs": [
    {
     "data": {
      "text/html": [
       "<div>\n",
       "<style scoped>\n",
       "    .dataframe tbody tr th:only-of-type {\n",
       "        vertical-align: middle;\n",
       "    }\n",
       "\n",
       "    .dataframe tbody tr th {\n",
       "        vertical-align: top;\n",
       "    }\n",
       "\n",
       "    .dataframe thead th {\n",
       "        text-align: right;\n",
       "    }\n",
       "</style>\n",
       "<table border=\"1\" class=\"dataframe\">\n",
       "  <thead>\n",
       "    <tr style=\"text-align: right;\">\n",
       "      <th></th>\n",
       "      <th>date</th>\n",
       "      <th>group</th>\n",
       "      <th>orders</th>\n",
       "      <th>buyers</th>\n",
       "      <th>revenue</th>\n",
       "      <th>visitors</th>\n",
       "    </tr>\n",
       "  </thead>\n",
       "  <tbody>\n",
       "    <tr>\n",
       "      <th>0</th>\n",
       "      <td>2019-08-01</td>\n",
       "      <td>A</td>\n",
       "      <td>23</td>\n",
       "      <td>19</td>\n",
       "      <td>142779</td>\n",
       "      <td>719</td>\n",
       "    </tr>\n",
       "    <tr>\n",
       "      <th>1</th>\n",
       "      <td>2019-08-01</td>\n",
       "      <td>B</td>\n",
       "      <td>17</td>\n",
       "      <td>17</td>\n",
       "      <td>59758</td>\n",
       "      <td>713</td>\n",
       "    </tr>\n",
       "    <tr>\n",
       "      <th>2</th>\n",
       "      <td>2019-08-02</td>\n",
       "      <td>A</td>\n",
       "      <td>42</td>\n",
       "      <td>36</td>\n",
       "      <td>234381</td>\n",
       "      <td>1338</td>\n",
       "    </tr>\n",
       "    <tr>\n",
       "      <th>3</th>\n",
       "      <td>2019-08-02</td>\n",
       "      <td>B</td>\n",
       "      <td>40</td>\n",
       "      <td>39</td>\n",
       "      <td>221801</td>\n",
       "      <td>1294</td>\n",
       "    </tr>\n",
       "    <tr>\n",
       "      <th>4</th>\n",
       "      <td>2019-08-03</td>\n",
       "      <td>A</td>\n",
       "      <td>66</td>\n",
       "      <td>60</td>\n",
       "      <td>346854</td>\n",
       "      <td>1845</td>\n",
       "    </tr>\n",
       "  </tbody>\n",
       "</table>\n",
       "</div>"
      ],
      "text/plain": [
       "         date group  orders  buyers  revenue  visitors\n",
       "0  2019-08-01     A      23      19   142779       719\n",
       "1  2019-08-01     B      17      17    59758       713\n",
       "2  2019-08-02     A      42      36   234381      1338\n",
       "3  2019-08-02     B      40      39   221801      1294\n",
       "4  2019-08-03     A      66      60   346854      1845"
      ]
     },
     "execution_count": 12,
     "metadata": {},
     "output_type": "execute_result"
    }
   ],
   "source": [
    "# объединяем кумулятивные данные в одной таблице и присваиваем ее столбцам понятные названия\n",
    "cumulative_data = orders_aggregated.merge(visitors_aggregated, on=['date', 'group'])\n",
    "cumulative_data.columns = ['date', 'group', 'orders', 'buyers', 'revenue', 'visitors']\n",
    "\n",
    "cumulative_data.head()"
   ]
  },
  {
   "cell_type": "markdown",
   "metadata": {},
   "source": [
    "Разделим объединенные данные по двум группам теста и построим график кумулятивной выручки по этим группам."
   ]
  },
  {
   "cell_type": "code",
   "execution_count": 13,
   "metadata": {},
   "outputs": [
    {
     "data": {
      "image/png": "[encoded data removed]",
      "text/plain": [
       "<Figure size 1152x576 with 1 Axes>"
      ]
     },
     "metadata": {
      "needs_background": "light"
     },
     "output_type": "display_data"
    }
   ],
   "source": [
    "# разделяем кумулятивные данные по группам А и B\n",
    "cumulative_data_a = cumulative_data[cumulative_data['group']=='A'][['date','revenue', 'orders', 'buyers', 'visitors']]\n",
    "cumulative_data_b = cumulative_data[cumulative_data['group']=='B'][['date','revenue', 'orders', 'buyers', 'visitors']]\n",
    "\n",
    "# строим график кумулятивной выручки\n",
    "plt.figure(figsize=(16,8))\n",
    "plt.ticklabel_format(style='plain')\n",
    "plt.xticks(rotation=45, ha=\"right\")\n",
    "plt.plot(cumulative_data_a['date'], cumulative_data_a['revenue'], label='A')\n",
    "plt.plot(cumulative_data_b['date'], cumulative_data_b['revenue'], label='B')\n",
    "plt.title('кумулятивная выручка по группам')\n",
    "plt.ylabel('объем выручки')\n",
    "plt.legend() \n",
    "plt.show()"
   ]
  },
  {
   "cell_type": "markdown",
   "metadata": {},
   "source": [
    "В группе B накопленные значения выручки в целом выше, чем в группе А, однако в районе 19-го числа наблюдается резкий скачок в графике B, что может указывать на выбросы/аномалии в данных. "
   ]
  },
  {
   "cell_type": "markdown",
   "metadata": {},
   "source": [
    "Используя те же данные, построим график кумулятивного среднего чека по группам."
   ]
  },
  {
   "cell_type": "code",
   "execution_count": 14,
   "metadata": {},
   "outputs": [
    {
     "data": {
      "image/png": "[encoded data removed]",
      "text/plain": [
       "<Figure size 1152x576 with 1 Axes>"
      ]
     },
     "metadata": {
      "needs_background": "light"
     },
     "output_type": "display_data"
    }
   ],
   "source": [
    "# строим график кумулятивного среднего чека\n",
    "plt.figure(figsize=(16,8))\n",
    "plt.xticks(rotation=45, ha=\"right\")\n",
    "plt.plot(cumulative_data_a['date'], cumulative_data_a['revenue']/cumulative_data_a['orders'], label='A')\n",
    "plt.plot(cumulative_data_b['date'], cumulative_data_b['revenue']/cumulative_data_b['orders'], label='B')\n",
    "plt.title('кумулятивный средний чек по группам')\n",
    "plt.ylabel('величина среднего чека')\n",
    "plt.legend() \n",
    "plt.show()"
   ]
  },
  {
   "cell_type": "markdown",
   "metadata": {},
   "source": [
    "И снова показатели группы B оказываются значительно выше показателей группы А во второй половине эксперимента из-за резкого всплеска, наблюдаемого на графике. "
   ]
  },
  {
   "cell_type": "markdown",
   "metadata": {},
   "source": [
    "Построим график относительного изменения кумулятивного среднего чека группы B к группе A."
   ]
  },
  {
   "cell_type": "code",
   "execution_count": 15,
   "metadata": {},
   "outputs": [
    {
     "data": {
      "image/png": "[encoded data removed]",
      "text/plain": [
       "<Figure size 1152x576 with 1 Axes>"
      ]
     },
     "metadata": {
      "needs_background": "light"
     },
     "output_type": "display_data"
    }
   ],
   "source": [
    "# собираем данные в одном датафрейме\n",
    "cumulative_data_merged = cumulative_data_a.merge(cumulative_data_b, on='date', suffixes=['A', 'B'])\n",
    "\n",
    "# строим отношение средних чеков\n",
    "plt.figure(figsize=(16,8))\n",
    "plt.xticks(rotation=45, ha=\"right\")\n",
    "plt.plot(cumulative_data_merged['date'], (cumulative_data_merged['revenueB']/cumulative_data_merged['ordersB'])/(cumulative_data_merged['revenueA']/cumulative_data_merged['ordersA']) - 1)\n",
    "plt.axhline(y=0, color='black', linestyle='--')\n",
    "plt.title('относительное изменение кумулятивного среднего чека группы B к группе A')\n",
    "plt.ylabel('доля изменения')\n",
    "plt.show()"
   ]
  },
  {
   "cell_type": "markdown",
   "metadata": {},
   "source": [
    "График почти всегда выше нулевой отметки, однако опять же отмечаются резкие взлеты/падения и в целом пока еще нельзя сказать, что график стабилизировался."
   ]
  },
  {
   "cell_type": "markdown",
   "metadata": {},
   "source": [
    "Теперь построим график кумулятивной конверсии по группам."
   ]
  },
  {
   "cell_type": "code",
   "execution_count": 16,
   "metadata": {},
   "outputs": [
    {
     "data": {
      "image/png": "[encoded data removed]",
      "text/plain": [
       "<Figure size 1152x576 with 1 Axes>"
      ]
     },
     "metadata": {
      "needs_background": "light"
     },
     "output_type": "display_data"
    }
   ],
   "source": [
    "# строим график кумулятивной конверсии\n",
    "plt.figure(figsize=(16,8))\n",
    "plt.xticks(rotation=45, ha=\"right\")\n",
    "plt.plot(cumulative_data_a['date'], cumulative_data_a['buyers']/cumulative_data_a['visitors'], label='A')\n",
    "plt.plot(cumulative_data_b['date'], cumulative_data_b['buyers']/cumulative_data_b['visitors'], label='B')\n",
    "plt.title('кумулятивная конверсия по группам')\n",
    "plt.ylabel('значение конверсии')\n",
    "plt.legend() \n",
    "plt.show()"
   ]
  },
  {
   "cell_type": "markdown",
   "metadata": {},
   "source": [
    "Графики показывают явный разрыв, но также нельзя уверенно сказать, что значения зафиксировались."
   ]
  },
  {
   "cell_type": "markdown",
   "metadata": {},
   "source": [
    "Построим график относительного изменения кумулятивной конверсии группы B к группе A."
   ]
  },
  {
   "cell_type": "code",
   "execution_count": 17,
   "metadata": {},
   "outputs": [
    {
     "data": {
      "image/png": "[encoded data removed]",
      "text/plain": [
       "<Figure size 1152x576 with 1 Axes>"
      ]
     },
     "metadata": {
      "needs_background": "light"
     },
     "output_type": "display_data"
    }
   ],
   "source": [
    "# строим отношение конверсий\n",
    "plt.figure(figsize=(16,8))\n",
    "plt.xticks(rotation=45, ha=\"right\")\n",
    "plt.plot(cumulative_data_merged['date'], (cumulative_data_merged['buyersB']/cumulative_data_merged['visitorsB'])/(cumulative_data_merged['buyersA']/cumulative_data_merged['visitorsA']) - 1)\n",
    "plt.axhline(y=0, color='black', linestyle='--')\n",
    "plt.title('относительное изменение кумулятивной конверсии группы B к группе A')\n",
    "plt.ylabel('доля изменения')\n",
    "plt.show()"
   ]
  },
  {
   "cell_type": "markdown",
   "metadata": {},
   "source": [
    "В целом график подтверждает вышеописанные наблюдения. Пора проверить данные на аномалии и выбросы."
   ]
  },
  {
   "cell_type": "markdown",
   "metadata": {},
   "source": [
    "Сперва посчитаем количество заказов по пользователям."
   ]
  },
  {
   "cell_type": "code",
   "execution_count": 18,
   "metadata": {},
   "outputs": [
    {
     "data": {
      "text/html": [
       "<div>\n",
       "<style scoped>\n",
       "    .dataframe tbody tr th:only-of-type {\n",
       "        vertical-align: middle;\n",
       "    }\n",
       "\n",
       "    .dataframe tbody tr th {\n",
       "        vertical-align: top;\n",
       "    }\n",
       "\n",
       "    .dataframe thead th {\n",
       "        text-align: right;\n",
       "    }\n",
       "</style>\n",
       "<table border=\"1\" class=\"dataframe\">\n",
       "  <thead>\n",
       "    <tr style=\"text-align: right;\">\n",
       "      <th></th>\n",
       "      <th>visitorId</th>\n",
       "      <th>transactionId</th>\n",
       "    </tr>\n",
       "  </thead>\n",
       "  <tbody>\n",
       "    <tr>\n",
       "      <th>908</th>\n",
       "      <td>3967698036</td>\n",
       "      <td>3</td>\n",
       "    </tr>\n",
       "    <tr>\n",
       "      <th>55</th>\n",
       "      <td>249864742</td>\n",
       "      <td>3</td>\n",
       "    </tr>\n",
       "    <tr>\n",
       "      <th>478</th>\n",
       "      <td>2108163459</td>\n",
       "      <td>3</td>\n",
       "    </tr>\n",
       "    <tr>\n",
       "      <th>687</th>\n",
       "      <td>2988190573</td>\n",
       "      <td>3</td>\n",
       "    </tr>\n",
       "    <tr>\n",
       "      <th>890</th>\n",
       "      <td>3908431265</td>\n",
       "      <td>3</td>\n",
       "    </tr>\n",
       "    <tr>\n",
       "      <th>...</th>\n",
       "      <td>...</td>\n",
       "      <td>...</td>\n",
       "    </tr>\n",
       "    <tr>\n",
       "      <th>331</th>\n",
       "      <td>1438226485</td>\n",
       "      <td>1</td>\n",
       "    </tr>\n",
       "    <tr>\n",
       "      <th>332</th>\n",
       "      <td>1452540367</td>\n",
       "      <td>1</td>\n",
       "    </tr>\n",
       "    <tr>\n",
       "      <th>333</th>\n",
       "      <td>1455323168</td>\n",
       "      <td>1</td>\n",
       "    </tr>\n",
       "    <tr>\n",
       "      <th>334</th>\n",
       "      <td>1455861274</td>\n",
       "      <td>1</td>\n",
       "    </tr>\n",
       "    <tr>\n",
       "      <th>972</th>\n",
       "      <td>4283872382</td>\n",
       "      <td>1</td>\n",
       "    </tr>\n",
       "  </tbody>\n",
       "</table>\n",
       "<p>973 rows × 2 columns</p>\n",
       "</div>"
      ],
      "text/plain": [
       "      visitorId  transactionId\n",
       "908  3967698036              3\n",
       "55    249864742              3\n",
       "478  2108163459              3\n",
       "687  2988190573              3\n",
       "890  3908431265              3\n",
       "..          ...            ...\n",
       "331  1438226485              1\n",
       "332  1452540367              1\n",
       "333  1455323168              1\n",
       "334  1455861274              1\n",
       "972  4283872382              1\n",
       "\n",
       "[973 rows x 2 columns]"
      ]
     },
     "execution_count": 18,
     "metadata": {},
     "output_type": "execute_result"
    }
   ],
   "source": [
    "# группируем количество заказов по пользователям\n",
    "orders_by_users = orders.groupby('visitorId', as_index=False).agg({'transactionId': 'nunique'})\n",
    "\n",
    "orders_by_users.sort_values(by='transactionId', ascending=False)"
   ]
  },
  {
   "cell_type": "markdown",
   "metadata": {},
   "source": [
    "Построим точечный график количества заказов по пользователям."
   ]
  },
  {
   "cell_type": "code",
   "execution_count": 19,
   "metadata": {},
   "outputs": [
    {
     "data": {
      "image/png": "[encoded data removed]",
      "text/plain": [
       "<Figure size 864x432 with 1 Axes>"
      ]
     },
     "metadata": {
      "needs_background": "light"
     },
     "output_type": "display_data"
    }
   ],
   "source": [
    "# определяем диапазон данных по оси x\n",
    "x_values = pd.Series(range(0,len(orders_by_users)))\n",
    "\n",
    "# строим точечную диаграмму числа заказов на одного пользователя\n",
    "plt.figure(figsize=(12,6))\n",
    "plt.scatter(x_values, orders_by_users['transactionId'])\n",
    "plt.title('распределение количества заказов по пользователям')\n",
    "plt.ylabel('число заказов на пользователя')\n",
    "plt.show()"
   ]
  },
  {
   "cell_type": "markdown",
   "metadata": {},
   "source": [
    "Большинство пользователей совершают только один заказ, реже - два."
   ]
  },
  {
   "cell_type": "markdown",
   "metadata": {},
   "source": [
    "Посмотрим также на перцентили количества заказов на пользователя."
   ]
  },
  {
   "cell_type": "code",
   "execution_count": 20,
   "metadata": {},
   "outputs": [
    {
     "data": {
      "text/plain": [
       "array([1., 2.])"
      ]
     },
     "execution_count": 20,
     "metadata": {},
     "output_type": "execute_result"
    }
   ],
   "source": [
    "# считаем 95-й и 99-й перцентили количества заказов на пользователя\n",
    "np.percentile(orders_by_users['transactionId'], [95, 99])"
   ]
  },
  {
   "cell_type": "markdown",
   "metadata": {},
   "source": [
    "Учитывая, что наличие более 2-х заказов у одного пользователя наблюдается только в разовых случаях, можно выбрать это число в качестве границы отсева значений при очистке данных."
   ]
  },
  {
   "cell_type": "markdown",
   "metadata": {},
   "source": [
    "Аналогичным образом построим точечный график стоимостей заказов."
   ]
  },
  {
   "cell_type": "code",
   "execution_count": 21,
   "metadata": {},
   "outputs": [
    {
     "data": {
      "image/png": "[encoded data removed]",
      "text/plain": [
       "<Figure size 864x432 with 1 Axes>"
      ]
     },
     "metadata": {
      "needs_background": "light"
     },
     "output_type": "display_data"
    }
   ],
   "source": [
    "# определяем диапазон данных по оси x\n",
    "x_values = pd.Series(range(0,len(orders['revenue'])))\n",
    "\n",
    "# строим точечную диаграмму стоимостей заказов\n",
    "plt.figure(figsize=(12,6))\n",
    "plt.ticklabel_format(style='plain')\n",
    "plt.scatter(x_values, orders['revenue'])\n",
    "plt.title('распределение стоимостей заказов')\n",
    "plt.ylabel('стоимость заказа')\n",
    "plt.show()"
   ]
  },
  {
   "cell_type": "markdown",
   "metadata": {},
   "source": [
    "За редкими исключениями, стоимость большинства заказов не превышает 100 тысяч."
   ]
  },
  {
   "cell_type": "markdown",
   "metadata": {},
   "source": [
    "Посмотрим также на перцентили стоимости заказов."
   ]
  },
  {
   "cell_type": "code",
   "execution_count": 22,
   "metadata": {},
   "outputs": [
    {
     "data": {
      "text/plain": [
       "array([26785., 53904.])"
      ]
     },
     "execution_count": 22,
     "metadata": {},
     "output_type": "execute_result"
    }
   ],
   "source": [
    "# считаем 95-й и 99-й перцентили стоимости заказов\n",
    "np.percentile(orders['revenue'], [95, 99])"
   ]
  },
  {
   "cell_type": "markdown",
   "metadata": {},
   "source": [
    "Перцентили показывают еще более низкие значения \"нормального\" порога стоимости. Возьмем больший из них за границу отсева данных на уровне 54 тысячи."
   ]
  },
  {
   "cell_type": "markdown",
   "metadata": {},
   "source": [
    "Посчитаем статистическую значимость различий в конверсии между группами по «сырым» данным. Для этого заведем параметр, обозначающий платящих пользователей (paid), и присвоим ему значения по группам A и B: \n",
    "- 1 - в количестве записей равном уникальному числу пользователей, совершивших заказ;\n",
    "- 0 - в количестве записей равном числу всех пользователей за вычетом платящих."
   ]
  },
  {
   "cell_type": "code",
   "execution_count": 23,
   "metadata": {},
   "outputs": [],
   "source": [
    "# задаем параметр платящих пользователей по группам А и B\n",
    "sample_a = pd.concat([pd.Series(1, index=np.arange(orders[orders['group']=='A']['visitorId'].nunique()), name='paid'), pd.Series(0, index=np.arange(visitors[visitors['group']=='A']['visitors'].sum() - orders[orders['group']=='A']['visitorId'].nunique()), name='paid')], axis=0)\n",
    "sample_b = pd.concat([pd.Series(1, index=np.arange(orders[orders['group']=='B']['visitorId'].nunique()), name='paid'), pd.Series(0, index=np.arange(visitors[visitors['group']=='B']['visitors'].sum() - orders[orders['group']=='B']['visitorId'].nunique()), name='paid')], axis=0)"
   ]
  },
  {
   "cell_type": "markdown",
   "metadata": {},
   "source": [
    "Теперь непосредственно посчитаем статистическую значимость различий в конверсии между группами, а также выведем относительную разницу соответствующих величин."
   ]
  },
  {
   "cell_type": "markdown",
   "metadata": {},
   "source": [
    "В этом случае нулевая гипотеза будет сформулирована, исходя из принципа равенства, а альтернативная - как противоположная нулевой:\n",
    "- h0: значения конверсии в группах А и В равны;\n",
    "- h1: значения конверсии в группах А и В не равны.\n",
    "\n",
    "Критерий значимости возьмем на уровне 5%."
   ]
  },
  {
   "cell_type": "code",
   "execution_count": 24,
   "metadata": {},
   "outputs": [
    {
     "name": "stdout",
     "output_type": "stream",
     "text": [
      "0.011\n",
      "0.175\n"
     ]
    }
   ],
   "source": [
    "# определяем статистическую значимость различий в конверсии \n",
    "print(\"{0:.3f}\".format(stats.ttest_ind(sample_a, sample_b, equal_var=False).pvalue))\n",
    "\n",
    "print(\"{0:.3f}\".format(sample_b.mean()/sample_a.mean() - 1))"
   ]
  },
  {
   "cell_type": "markdown",
   "metadata": {},
   "source": [
    "Значение p-value меньше критерия значимости, хотя и не многократно. Тем не менее, на данном этапе можно говорить о том, что различие в конверсиях между группами статистически значимо, при этом в группе B конверсия примерно на 17% больше."
   ]
  },
  {
   "cell_type": "markdown",
   "metadata": {},
   "source": [
    "Посчитаем статистическую значимость различий в среднем чеке заказа между группами по «сырым» данным."
   ]
  },
  {
   "cell_type": "markdown",
   "metadata": {},
   "source": [
    "Нулевая и альтернативная гипотеза будут сформулированы схожим образом:\n",
    "- h0: средние чеки заказов в группах А и B равны;\n",
    "- h1: средние чеки заказов в группах А и B не равны.\n",
    "\n",
    "Критерий значимости также возьмем на уровне 5%."
   ]
  },
  {
   "cell_type": "code",
   "execution_count": 25,
   "metadata": {},
   "outputs": [
    {
     "name": "stdout",
     "output_type": "stream",
     "text": [
      "0.829\n",
      "0.287\n"
     ]
    }
   ],
   "source": [
    "# определяем статистическую значимость различий в среднем чеке заказа\n",
    "print('{0:.3f}'.format(stats.mannwhitneyu(orders[orders['group']=='A']['revenue'], orders[orders['group']=='B']['revenue'])[1]))\n",
    "\n",
    "print('{0:.3f}'.format(orders[orders['group']=='B']['revenue'].mean()/orders[orders['group']=='A']['revenue'].mean() - 1))"
   ]
  },
  {
   "cell_type": "markdown",
   "metadata": {},
   "source": [
    "Значение p-value больше критерия значимости, поэтому, несмотря на относительный прирост среднего чека в группе B почти на 29%, такое различие нельзя считать статистически значимым."
   ]
  },
  {
   "cell_type": "markdown",
   "metadata": {},
   "source": [
    "Теперь очистим данные от аномалий. Для этого определим аномальных пользователей по ранее выбранным критериям. "
   ]
  },
  {
   "cell_type": "code",
   "execution_count": 26,
   "metadata": {},
   "outputs": [
    {
     "data": {
      "text/plain": [
       "55       249864742\n",
       "138      611059232\n",
       "478     2108163459\n",
       "632     2742574263\n",
       "687     2988190573\n",
       "890     3908431265\n",
       "908     3967698036\n",
       "425     1920142716\n",
       "743     4133034833\n",
       "744      888512513\n",
       "940     4003628586\n",
       "949      887908475\n",
       "1099     148427295\n",
       "1103    1164614297\n",
       "1136    1307669133\n",
       "1196    2108080724\n",
       "Name: visitorId, dtype: int64"
      ]
     },
     "execution_count": 26,
     "metadata": {},
     "output_type": "execute_result"
    }
   ],
   "source": [
    "# выбираем пользователей с аномально большим число заказов\n",
    "users_with_many_oders = orders_by_users[orders_by_users['transactionId'] > 2]['visitorId']\n",
    "\n",
    "# выбираем пользователей с аномально большой стоимостью заказов\n",
    "users_with_expansive_orders = orders[orders['revenue'] > 54000]['visitorId']\n",
    "\n",
    "# объединяем всех аномальных пользователей без повторов\n",
    "abnormal_users = pd.concat([users_with_many_oders, users_with_expansive_orders], axis=0).drop_duplicates()\n",
    "\n",
    "abnormal_users"
   ]
  },
  {
   "cell_type": "markdown",
   "metadata": {},
   "source": [
    "Далее оставим в таблице заказов только те заказы, которые не относятся к аномальным пользователям."
   ]
  },
  {
   "cell_type": "code",
   "execution_count": 27,
   "metadata": {},
   "outputs": [],
   "source": [
    "# оставляем заказы \"нормальных\" пользователей\n",
    "orders = orders[~orders['visitorId'].isin(abnormal_users)]"
   ]
  },
  {
   "cell_type": "markdown",
   "metadata": {},
   "source": [
    "Повторно задаем платящих пользователей по группам."
   ]
  },
  {
   "cell_type": "code",
   "execution_count": 28,
   "metadata": {},
   "outputs": [],
   "source": [
    "# задаем параметр платящих пользователей по группам А и B\n",
    "sample_a = pd.concat([pd.Series(1, index=np.arange(orders[orders['group']=='A']['visitorId'].nunique()), name='paid'), pd.Series(0, index=np.arange(visitors[visitors['group']=='A']['visitors'].sum() - orders[orders['group']=='A']['visitorId'].nunique()), name='paid')], axis=0)\n",
    "sample_b = pd.concat([pd.Series(1, index=np.arange(orders[orders['group']=='B']['visitorId'].nunique()), name='paid'), pd.Series(0, index=np.arange(visitors[visitors['group']=='B']['visitors'].sum() - orders[orders['group']=='B']['visitorId'].nunique()), name='paid')], axis=0)"
   ]
  },
  {
   "cell_type": "markdown",
   "metadata": {},
   "source": [
    "Пересчитаем статистическую значимость различий в конверсии между группами."
   ]
  },
  {
   "cell_type": "markdown",
   "metadata": {},
   "source": [
    "Повторим формулировку гипотез:\n",
    "- h0: значения конверсии в группах А и В равны;\n",
    "- h1: значения конверсии в группах А и В не равны."
   ]
  },
  {
   "cell_type": "code",
   "execution_count": 29,
   "metadata": {},
   "outputs": [
    {
     "name": "stdout",
     "output_type": "stream",
     "text": [
      "0.007\n",
      "0.189\n"
     ]
    }
   ],
   "source": [
    "# определяем статистическую значимость различий в конверсии \n",
    "print(\"{0:.3f}\".format(stats.ttest_ind(sample_a, sample_b, equal_var=False).pvalue))\n",
    "\n",
    "print(\"{0:.3f}\".format(sample_b.mean()/sample_a.mean() - 1))"
   ]
  },
  {
   "cell_type": "markdown",
   "metadata": {},
   "source": [
    "В случае конверсии значение p-value стало еще меньше, а относительная разница между группами, соответственно - еще больше."
   ]
  },
  {
   "cell_type": "markdown",
   "metadata": {},
   "source": [
    "Пересчитаем статистическую значимость различий в среднем чеке заказа между группами."
   ]
  },
  {
   "cell_type": "markdown",
   "metadata": {},
   "source": [
    "Повторим формулировку гипотез:\n",
    "- h0: средние чеки заказов в группах А и B равны;\n",
    "- h1: средние чеки заказов в группах А и B не равны."
   ]
  },
  {
   "cell_type": "code",
   "execution_count": 30,
   "metadata": {},
   "outputs": [
    {
     "name": "stdout",
     "output_type": "stream",
     "text": [
      "0.788\n",
      "-0.032\n"
     ]
    }
   ],
   "source": [
    "# определяем статистическую значимость различий в среднем чеке заказа\n",
    "print('{0:.3f}'.format(stats.mannwhitneyu(orders[orders['group']=='A']['revenue'], orders[orders['group']=='B']['revenue'])[1]))\n",
    "\n",
    "print('{0:.3f}'.format(orders[orders['group']=='B']['revenue'].mean()/orders[orders['group']=='A']['revenue'].mean() - 1))"
   ]
  },
  {
   "cell_type": "markdown",
   "metadata": {},
   "source": [
    "В случае среднего чека p-value тоже снизилось, но вот величина среднего чека в группе B стала ниже уровня этого параметра в группе A, хотя такая разница по-прежнему не является статистически значимой."
   ]
  },
  {
   "cell_type": "markdown",
   "metadata": {},
   "source": [
    "# Выводы"
   ]
  },
  {
   "cell_type": "markdown",
   "metadata": {},
   "source": [
    "По итогам анализа данных A/B-теста предлагается продолжить тестирование. Такое предложение объясняется несколькими факторами:\n",
    "\n",
    "1) Хотя в части конверсии и была достигнута статистическая значимость различий между группами А и В (в пользу последней) при критерии значимости в 5%, величина p-value по \"сырым\" данным все же составляет более 1%, а графики кумулятивной конверсии не позволяют с уверенностью говорить о стабилизации значений по группам;\n",
    "\n",
    "2) Аналогично, нельзя пока зафиксировать и значения кумулятивного среднего чека, что особенно явно выражено на графике относительного изменения данной величины между группами;\n",
    "\n",
    "3) Кроме того, в данных были выявлены аномальные значения, исключение которых сделало величину среднего чека в группе B даже ниже, чем в группе А, и пусть данное различие не было подтверждено статистически, не стоит спешить с принятием результатов эксперимента, чтобы избежать возможного ущерба для бизнеса."
   ]
  }
 ],
 "metadata": {
  "ExecuteTimeLog": [
   {
    "duration": 360,
    "start_time": "2022-08-15T09:59:59.774Z"
   },
   {
    "duration": 58,
    "start_time": "2022-08-15T10:00:50.924Z"
   },
   {
    "duration": 2,
    "start_time": "2022-08-15T10:00:55.804Z"
   },
   {
    "duration": 2,
    "start_time": "2022-08-15T10:00:58.429Z"
   },
   {
    "duration": 83,
    "start_time": "2022-08-15T10:00:59.947Z"
   },
   {
    "duration": 1942,
    "start_time": "2022-08-15T10:05:23.455Z"
   },
   {
    "duration": 13,
    "start_time": "2022-08-15T10:05:35.685Z"
   },
   {
    "duration": 13,
    "start_time": "2022-08-15T10:06:25.007Z"
   },
   {
    "duration": 94,
    "start_time": "2022-08-15T10:09:02.247Z"
   },
   {
    "duration": 73,
    "start_time": "2022-08-15T10:09:44.445Z"
   },
   {
    "duration": 5,
    "start_time": "2022-08-15T10:15:18.776Z"
   },
   {
    "duration": 8,
    "start_time": "2022-08-15T10:15:25.694Z"
   },
   {
    "duration": 16,
    "start_time": "2022-08-15T10:18:43.398Z"
   },
   {
    "duration": 13,
    "start_time": "2022-08-15T10:19:12.428Z"
   },
   {
    "duration": 2,
    "start_time": "2022-08-15T10:19:16.745Z"
   },
   {
    "duration": 155,
    "start_time": "2022-08-15T10:19:19.464Z"
   },
   {
    "duration": 144,
    "start_time": "2022-08-15T10:19:35.014Z"
   },
   {
    "duration": 110,
    "start_time": "2022-08-15T10:22:01.535Z"
   },
   {
    "duration": 6,
    "start_time": "2022-08-15T10:23:07.683Z"
   },
   {
    "duration": 13,
    "start_time": "2022-08-15T10:23:12.143Z"
   },
   {
    "duration": 11,
    "start_time": "2022-08-15T10:23:26.577Z"
   },
   {
    "duration": 13,
    "start_time": "2022-08-15T10:23:50.631Z"
   },
   {
    "duration": 14,
    "start_time": "2022-08-15T10:24:10.143Z"
   },
   {
    "duration": 10,
    "start_time": "2022-08-15T10:24:41.705Z"
   },
   {
    "duration": 12,
    "start_time": "2022-08-15T10:24:57.816Z"
   },
   {
    "duration": 7,
    "start_time": "2022-08-15T10:25:26.965Z"
   },
   {
    "duration": 12,
    "start_time": "2022-08-15T10:25:52.541Z"
   },
   {
    "duration": 15,
    "start_time": "2022-08-15T10:26:06.985Z"
   },
   {
    "duration": 8,
    "start_time": "2022-08-15T10:26:27.415Z"
   },
   {
    "duration": 23,
    "start_time": "2022-08-15T10:26:39.148Z"
   },
   {
    "duration": 18,
    "start_time": "2022-08-15T10:29:21.188Z"
   },
   {
    "duration": 12,
    "start_time": "2022-08-15T10:29:26.337Z"
   },
   {
    "duration": 528,
    "start_time": "2022-08-15T10:30:02.561Z"
   },
   {
    "duration": 4,
    "start_time": "2022-08-15T10:31:04.902Z"
   },
   {
    "duration": 251,
    "start_time": "2022-08-15T10:34:21.642Z"
   },
   {
    "duration": 248,
    "start_time": "2022-08-15T10:34:47.692Z"
   },
   {
    "duration": 227,
    "start_time": "2022-08-15T10:34:59.666Z"
   },
   {
    "duration": 328,
    "start_time": "2022-08-15T10:35:06.635Z"
   },
   {
    "duration": 249,
    "start_time": "2022-08-15T10:36:13.375Z"
   },
   {
    "duration": 289,
    "start_time": "2022-08-15T10:36:20.012Z"
   },
   {
    "duration": 249,
    "start_time": "2022-08-15T10:36:26.072Z"
   },
   {
    "duration": 329,
    "start_time": "2022-08-15T10:36:32.681Z"
   },
   {
    "duration": 270,
    "start_time": "2022-08-15T10:37:45.425Z"
   },
   {
    "duration": 267,
    "start_time": "2022-08-15T10:37:53.871Z"
   },
   {
    "duration": 290,
    "start_time": "2022-08-15T10:38:59.622Z"
   },
   {
    "duration": 293,
    "start_time": "2022-08-15T10:40:02.794Z"
   },
   {
    "duration": 315,
    "start_time": "2022-08-15T10:40:40.456Z"
   },
   {
    "duration": 281,
    "start_time": "2022-08-15T10:40:48.915Z"
   },
   {
    "duration": 77,
    "start_time": "2022-08-15T12:45:28.533Z"
   },
   {
    "duration": 874,
    "start_time": "2022-08-15T12:45:41.527Z"
   },
   {
    "duration": 786,
    "start_time": "2022-08-15T12:45:47.273Z"
   },
   {
    "duration": 86,
    "start_time": "2022-08-15T12:45:48.067Z"
   },
   {
    "duration": 23,
    "start_time": "2022-08-15T12:45:48.155Z"
   },
   {
    "duration": 49,
    "start_time": "2022-08-15T12:45:48.186Z"
   },
   {
    "duration": 133,
    "start_time": "2022-08-15T12:45:48.237Z"
   },
   {
    "duration": 68,
    "start_time": "2022-08-15T12:45:48.375Z"
   },
   {
    "duration": 20,
    "start_time": "2022-08-15T12:45:48.446Z"
   },
   {
    "duration": 239,
    "start_time": "2022-08-15T12:45:48.471Z"
   },
   {
    "duration": 149,
    "start_time": "2022-08-15T12:45:48.712Z"
   },
   {
    "duration": 49,
    "start_time": "2022-08-15T12:45:48.869Z"
   },
   {
    "duration": 432,
    "start_time": "2022-08-15T12:45:48.919Z"
   },
   {
    "duration": 435,
    "start_time": "2022-08-15T12:45:49.365Z"
   },
   {
    "duration": 355,
    "start_time": "2022-08-15T12:46:11.340Z"
   },
   {
    "duration": 7,
    "start_time": "2022-08-15T12:48:22.685Z"
   },
   {
    "duration": 11,
    "start_time": "2022-08-15T12:48:34.134Z"
   },
   {
    "duration": 24,
    "start_time": "2022-08-15T12:48:42.142Z"
   },
   {
    "duration": 14,
    "start_time": "2022-08-15T12:50:18.542Z"
   },
   {
    "duration": 12,
    "start_time": "2022-08-15T12:50:27.411Z"
   },
   {
    "duration": 13,
    "start_time": "2022-08-15T12:50:34.643Z"
   },
   {
    "duration": 257,
    "start_time": "2022-08-15T12:51:58.284Z"
   },
   {
    "duration": 423,
    "start_time": "2022-08-15T12:52:20.501Z"
   },
   {
    "duration": 309,
    "start_time": "2022-08-15T12:53:04.586Z"
   },
   {
    "duration": 423,
    "start_time": "2022-08-15T12:53:27.152Z"
   },
   {
    "duration": 670,
    "start_time": "2022-08-15T12:56:10.923Z"
   },
   {
    "duration": 36,
    "start_time": "2022-08-15T12:56:11.595Z"
   },
   {
    "duration": 13,
    "start_time": "2022-08-15T12:56:11.633Z"
   },
   {
    "duration": 59,
    "start_time": "2022-08-15T12:56:11.647Z"
   },
   {
    "duration": 79,
    "start_time": "2022-08-15T12:56:11.708Z"
   },
   {
    "duration": 20,
    "start_time": "2022-08-15T12:56:11.789Z"
   },
   {
    "duration": 39,
    "start_time": "2022-08-15T12:56:11.811Z"
   },
   {
    "duration": 217,
    "start_time": "2022-08-15T12:56:11.853Z"
   },
   {
    "duration": 127,
    "start_time": "2022-08-15T12:56:12.073Z"
   },
   {
    "duration": 13,
    "start_time": "2022-08-15T12:56:12.202Z"
   },
   {
    "duration": 437,
    "start_time": "2022-08-15T12:56:12.216Z"
   },
   {
    "duration": 332,
    "start_time": "2022-08-15T12:56:12.654Z"
   },
   {
    "duration": 399,
    "start_time": "2022-08-15T12:56:12.988Z"
   },
   {
    "duration": 3744,
    "start_time": "2022-08-15T13:00:02.358Z"
   },
   {
    "duration": 637,
    "start_time": "2022-08-15T13:00:43.521Z"
   },
   {
    "duration": 41,
    "start_time": "2022-08-15T13:00:44.168Z"
   },
   {
    "duration": 12,
    "start_time": "2022-08-15T13:00:44.210Z"
   },
   {
    "duration": 18,
    "start_time": "2022-08-15T13:00:44.224Z"
   },
   {
    "duration": 80,
    "start_time": "2022-08-15T13:00:44.245Z"
   },
   {
    "duration": 19,
    "start_time": "2022-08-15T13:00:44.327Z"
   },
   {
    "duration": 37,
    "start_time": "2022-08-15T13:00:44.347Z"
   },
   {
    "duration": 167,
    "start_time": "2022-08-15T13:00:44.386Z"
   },
   {
    "duration": 130,
    "start_time": "2022-08-15T13:00:44.555Z"
   },
   {
    "duration": 10,
    "start_time": "2022-08-15T13:00:44.688Z"
   },
   {
    "duration": 342,
    "start_time": "2022-08-15T13:00:44.700Z"
   },
   {
    "duration": 367,
    "start_time": "2022-08-15T13:00:45.043Z"
   },
   {
    "duration": 479,
    "start_time": "2022-08-15T13:00:45.412Z"
   },
   {
    "duration": 351,
    "start_time": "2022-08-15T13:00:45.894Z"
   },
   {
    "duration": 443,
    "start_time": "2022-08-15T13:03:27.101Z"
   },
   {
    "duration": 12,
    "start_time": "2022-08-15T13:10:31.522Z"
   },
   {
    "duration": 116,
    "start_time": "2022-08-15T13:11:36.969Z"
   },
   {
    "duration": 149,
    "start_time": "2022-08-15T13:11:59.240Z"
   },
   {
    "duration": 130,
    "start_time": "2022-08-15T13:12:28.770Z"
   },
   {
    "duration": 147,
    "start_time": "2022-08-15T13:12:35.131Z"
   },
   {
    "duration": 5,
    "start_time": "2022-08-15T13:13:29.793Z"
   },
   {
    "duration": 132,
    "start_time": "2022-08-15T13:16:44.694Z"
   },
   {
    "duration": 137,
    "start_time": "2022-08-15T13:17:11.523Z"
   },
   {
    "duration": 5,
    "start_time": "2022-08-15T13:17:56.838Z"
   },
   {
    "duration": 5,
    "start_time": "2022-08-15T13:18:02.185Z"
   },
   {
    "duration": 4,
    "start_time": "2022-08-15T13:28:03.367Z"
   },
   {
    "duration": 71,
    "start_time": "2022-08-15T13:28:11.193Z"
   },
   {
    "duration": 8,
    "start_time": "2022-08-15T13:28:32.173Z"
   },
   {
    "duration": 519,
    "start_time": "2022-08-15T13:28:36.823Z"
   },
   {
    "duration": 9,
    "start_time": "2022-08-15T13:28:40.278Z"
   },
   {
    "duration": 5,
    "start_time": "2022-08-15T13:30:10.577Z"
   },
   {
    "duration": 10,
    "start_time": "2022-08-15T13:30:18.235Z"
   },
   {
    "duration": 10,
    "start_time": "2022-08-15T13:30:30.193Z"
   },
   {
    "duration": 10,
    "start_time": "2022-08-15T13:30:44.938Z"
   },
   {
    "duration": 48,
    "start_time": "2022-08-15T13:31:09.874Z"
   },
   {
    "duration": 10,
    "start_time": "2022-08-15T13:31:12.948Z"
   },
   {
    "duration": 58,
    "start_time": "2022-08-15T13:31:25.957Z"
   },
   {
    "duration": 10,
    "start_time": "2022-08-15T13:31:30.846Z"
   },
   {
    "duration": 11,
    "start_time": "2022-08-15T13:31:36.940Z"
   },
   {
    "duration": 10,
    "start_time": "2022-08-15T13:31:39.857Z"
   },
   {
    "duration": 8,
    "start_time": "2022-08-15T13:38:34.721Z"
   },
   {
    "duration": 16,
    "start_time": "2022-08-15T13:42:37.005Z"
   },
   {
    "duration": 14,
    "start_time": "2022-08-15T13:42:42.375Z"
   },
   {
    "duration": 50,
    "start_time": "2022-08-15T13:48:39.826Z"
   },
   {
    "duration": 56,
    "start_time": "2022-08-15T13:49:34.037Z"
   },
   {
    "duration": 12,
    "start_time": "2022-08-15T13:49:37.288Z"
   },
   {
    "duration": 12,
    "start_time": "2022-08-15T13:51:07.157Z"
   },
   {
    "duration": 5,
    "start_time": "2022-08-15T13:53:24.018Z"
   },
   {
    "duration": 6,
    "start_time": "2022-08-15T13:53:35.297Z"
   },
   {
    "duration": 4,
    "start_time": "2022-08-15T13:55:04.809Z"
   },
   {
    "duration": 21,
    "start_time": "2022-08-15T13:56:55.357Z"
   },
   {
    "duration": 14,
    "start_time": "2022-08-15T13:58:15.010Z"
   },
   {
    "duration": 47,
    "start_time": "2022-08-15T13:58:27.479Z"
   },
   {
    "duration": 15,
    "start_time": "2022-08-15T13:58:32.186Z"
   },
   {
    "duration": 15,
    "start_time": "2022-08-15T14:15:40.852Z"
   },
   {
    "duration": 65,
    "start_time": "2022-08-15T14:17:22.120Z"
   },
   {
    "duration": 6,
    "start_time": "2022-08-15T14:17:31.576Z"
   },
   {
    "duration": 71,
    "start_time": "2022-08-15T14:17:35.372Z"
   },
   {
    "duration": 7,
    "start_time": "2022-08-15T14:17:38.475Z"
   },
   {
    "duration": 11,
    "start_time": "2022-08-15T14:18:05.332Z"
   },
   {
    "duration": 6,
    "start_time": "2022-08-15T14:18:09.064Z"
   },
   {
    "duration": 36,
    "start_time": "2022-08-15T14:18:44.812Z"
   },
   {
    "duration": 6,
    "start_time": "2022-08-15T14:19:02.761Z"
   },
   {
    "duration": 6,
    "start_time": "2022-08-15T14:19:15.866Z"
   },
   {
    "duration": 4,
    "start_time": "2022-08-15T14:22:28.641Z"
   },
   {
    "duration": 6,
    "start_time": "2022-08-15T14:22:34.730Z"
   },
   {
    "duration": 390,
    "start_time": "2022-08-15T14:23:17.471Z"
   },
   {
    "duration": 218,
    "start_time": "2022-08-15T14:24:04.219Z"
   },
   {
    "duration": 9,
    "start_time": "2022-08-15T14:24:21.893Z"
   },
   {
    "duration": 4,
    "start_time": "2022-08-15T14:25:49.360Z"
   },
   {
    "duration": 102,
    "start_time": "2022-08-15T14:27:12.359Z"
   },
   {
    "duration": 55,
    "start_time": "2022-08-15T14:27:28.367Z"
   },
   {
    "duration": 78,
    "start_time": "2022-08-15T14:27:49.560Z"
   },
   {
    "duration": 101,
    "start_time": "2022-08-15T14:27:54.771Z"
   },
   {
    "duration": 4,
    "start_time": "2022-08-15T14:28:08.186Z"
   },
   {
    "duration": 15,
    "start_time": "2022-08-15T14:28:20.989Z"
   },
   {
    "duration": 11,
    "start_time": "2022-08-15T14:31:02.912Z"
   },
   {
    "duration": 18,
    "start_time": "2022-08-15T14:33:41.032Z"
   },
   {
    "duration": 1004,
    "start_time": "2022-08-15T14:54:38.185Z"
   },
   {
    "duration": 966,
    "start_time": "2022-08-15T14:54:51.372Z"
   },
   {
    "duration": 6,
    "start_time": "2022-08-15T14:54:54.005Z"
   },
   {
    "duration": 5,
    "start_time": "2022-08-15T14:55:06.806Z"
   },
   {
    "duration": 5,
    "start_time": "2022-08-15T14:55:18.572Z"
   },
   {
    "duration": 6,
    "start_time": "2022-08-15T14:56:41.292Z"
   },
   {
    "duration": 4,
    "start_time": "2022-08-15T14:56:48.589Z"
   },
   {
    "duration": 0,
    "start_time": "2022-08-15T14:57:14.764Z"
   },
   {
    "duration": 6,
    "start_time": "2022-08-15T14:57:18.993Z"
   },
   {
    "duration": 7,
    "start_time": "2022-08-15T15:00:55.155Z"
   },
   {
    "duration": 5,
    "start_time": "2022-08-15T15:01:03.426Z"
   },
   {
    "duration": 6,
    "start_time": "2022-08-15T15:01:09.080Z"
   },
   {
    "duration": 4,
    "start_time": "2022-08-15T15:02:46.552Z"
   },
   {
    "duration": 7,
    "start_time": "2022-08-15T15:03:01.945Z"
   },
   {
    "duration": 1313,
    "start_time": "2022-08-15T15:05:21.544Z"
   },
   {
    "duration": 5,
    "start_time": "2022-08-15T15:05:28.121Z"
   },
   {
    "duration": 5,
    "start_time": "2022-08-15T15:06:52.520Z"
   },
   {
    "duration": 7,
    "start_time": "2022-08-15T15:08:46.323Z"
   },
   {
    "duration": 9,
    "start_time": "2022-08-15T15:11:01.621Z"
   },
   {
    "duration": 10,
    "start_time": "2022-08-15T15:11:06.045Z"
   },
   {
    "duration": 11,
    "start_time": "2022-08-15T15:11:43.201Z"
   },
   {
    "duration": 10,
    "start_time": "2022-08-15T15:12:25.107Z"
   },
   {
    "duration": 11,
    "start_time": "2022-08-15T15:12:38.610Z"
   },
   {
    "duration": 11,
    "start_time": "2022-08-15T15:12:41.095Z"
   },
   {
    "duration": 60,
    "start_time": "2022-08-15T15:12:58.732Z"
   },
   {
    "duration": 49,
    "start_time": "2022-08-15T15:13:05.254Z"
   },
   {
    "duration": 9,
    "start_time": "2022-08-15T15:13:17.419Z"
   },
   {
    "duration": 12,
    "start_time": "2022-08-15T15:13:38.291Z"
   },
   {
    "duration": 46,
    "start_time": "2022-08-15T15:13:52.902Z"
   },
   {
    "duration": 53,
    "start_time": "2022-08-15T15:14:01.618Z"
   },
   {
    "duration": 83,
    "start_time": "2022-08-15T15:14:09.930Z"
   },
   {
    "duration": 7,
    "start_time": "2022-08-15T15:14:20.492Z"
   },
   {
    "duration": 84,
    "start_time": "2022-08-15T15:14:30.113Z"
   },
   {
    "duration": 7,
    "start_time": "2022-08-15T15:14:42.180Z"
   },
   {
    "duration": 9,
    "start_time": "2022-08-15T15:14:44.736Z"
   },
   {
    "duration": 10,
    "start_time": "2022-08-15T15:14:47.425Z"
   },
   {
    "duration": 11,
    "start_time": "2022-08-15T15:15:03.615Z"
   },
   {
    "duration": 10,
    "start_time": "2022-08-15T15:15:21.034Z"
   },
   {
    "duration": 13,
    "start_time": "2022-08-15T15:15:25.496Z"
   },
   {
    "duration": 11,
    "start_time": "2022-08-15T15:15:28.693Z"
   },
   {
    "duration": 5,
    "start_time": "2022-08-15T15:15:46.777Z"
   },
   {
    "duration": 6,
    "start_time": "2022-08-15T15:16:13.004Z"
   },
   {
    "duration": 17,
    "start_time": "2022-08-15T15:16:58.467Z"
   },
   {
    "duration": 50,
    "start_time": "2022-08-15T15:17:09.971Z"
   },
   {
    "duration": 10,
    "start_time": "2022-08-15T15:17:50.402Z"
   },
   {
    "duration": 11,
    "start_time": "2022-08-15T15:19:21.132Z"
   },
   {
    "duration": 11,
    "start_time": "2022-08-15T15:19:24.415Z"
   },
   {
    "duration": 15,
    "start_time": "2022-08-15T15:20:16.231Z"
   },
   {
    "duration": 12,
    "start_time": "2022-08-15T15:21:47.975Z"
   },
   {
    "duration": 60,
    "start_time": "2022-08-15T15:22:24.148Z"
   },
   {
    "duration": 9,
    "start_time": "2022-08-15T15:22:30.056Z"
   },
   {
    "duration": 3,
    "start_time": "2022-08-15T15:22:35.113Z"
   },
   {
    "duration": 4,
    "start_time": "2022-08-15T15:22:46.025Z"
   },
   {
    "duration": 4,
    "start_time": "2022-08-15T15:23:02.536Z"
   },
   {
    "duration": 20,
    "start_time": "2022-08-15T15:23:29.197Z"
   },
   {
    "duration": 1099,
    "start_time": "2022-08-15T15:24:37.746Z"
   },
   {
    "duration": 38,
    "start_time": "2022-08-15T15:24:38.847Z"
   },
   {
    "duration": 13,
    "start_time": "2022-08-15T15:24:38.886Z"
   },
   {
    "duration": 13,
    "start_time": "2022-08-15T15:24:38.901Z"
   },
   {
    "duration": 47,
    "start_time": "2022-08-15T15:24:38.916Z"
   },
   {
    "duration": 21,
    "start_time": "2022-08-15T15:24:38.965Z"
   },
   {
    "duration": 9,
    "start_time": "2022-08-15T15:24:38.987Z"
   },
   {
    "duration": 166,
    "start_time": "2022-08-15T15:24:38.998Z"
   },
   {
    "duration": 141,
    "start_time": "2022-08-15T15:24:39.165Z"
   },
   {
    "duration": 11,
    "start_time": "2022-08-15T15:24:39.309Z"
   },
   {
    "duration": 340,
    "start_time": "2022-08-15T15:24:39.322Z"
   },
   {
    "duration": 317,
    "start_time": "2022-08-15T15:24:39.664Z"
   },
   {
    "duration": 409,
    "start_time": "2022-08-15T15:24:39.983Z"
   },
   {
    "duration": 352,
    "start_time": "2022-08-15T15:24:40.393Z"
   },
   {
    "duration": 390,
    "start_time": "2022-08-15T15:24:40.746Z"
   },
   {
    "duration": 13,
    "start_time": "2022-08-15T15:24:41.137Z"
   },
   {
    "duration": 134,
    "start_time": "2022-08-15T15:24:41.158Z"
   },
   {
    "duration": 5,
    "start_time": "2022-08-15T15:24:41.294Z"
   },
   {
    "duration": 152,
    "start_time": "2022-08-15T15:24:41.301Z"
   },
   {
    "duration": 7,
    "start_time": "2022-08-15T15:24:41.454Z"
   },
   {
    "duration": 12,
    "start_time": "2022-08-15T15:24:41.463Z"
   },
   {
    "duration": 22,
    "start_time": "2022-08-15T15:24:41.476Z"
   },
   {
    "duration": 11,
    "start_time": "2022-08-15T15:24:41.500Z"
   },
   {
    "duration": 10,
    "start_time": "2022-08-15T15:24:41.513Z"
   },
   {
    "duration": 12,
    "start_time": "2022-08-15T15:24:41.558Z"
   },
   {
    "duration": 100,
    "start_time": "2022-08-15T15:29:28.872Z"
   },
   {
    "duration": 17,
    "start_time": "2022-08-15T15:29:32.170Z"
   },
   {
    "duration": 7,
    "start_time": "2022-08-15T15:30:22.351Z"
   },
   {
    "duration": 7,
    "start_time": "2022-08-15T15:31:26.789Z"
   },
   {
    "duration": 1036,
    "start_time": "2022-08-15T15:31:38.197Z"
   },
   {
    "duration": 38,
    "start_time": "2022-08-15T15:31:39.235Z"
   },
   {
    "duration": 16,
    "start_time": "2022-08-15T15:31:39.275Z"
   },
   {
    "duration": 16,
    "start_time": "2022-08-15T15:31:39.293Z"
   },
   {
    "duration": 49,
    "start_time": "2022-08-15T15:31:39.312Z"
   },
   {
    "duration": 21,
    "start_time": "2022-08-15T15:31:39.363Z"
   },
   {
    "duration": 9,
    "start_time": "2022-08-15T15:31:39.386Z"
   },
   {
    "duration": 170,
    "start_time": "2022-08-15T15:31:39.397Z"
   },
   {
    "duration": 134,
    "start_time": "2022-08-15T15:31:39.569Z"
   },
   {
    "duration": 12,
    "start_time": "2022-08-15T15:31:39.704Z"
   },
   {
    "duration": 337,
    "start_time": "2022-08-15T15:31:39.718Z"
   },
   {
    "duration": 349,
    "start_time": "2022-08-15T15:31:40.057Z"
   },
   {
    "duration": 448,
    "start_time": "2022-08-15T15:31:40.408Z"
   },
   {
    "duration": 342,
    "start_time": "2022-08-15T15:31:40.859Z"
   },
   {
    "duration": 373,
    "start_time": "2022-08-15T15:31:41.203Z"
   },
   {
    "duration": 14,
    "start_time": "2022-08-15T15:31:41.578Z"
   },
   {
    "duration": 144,
    "start_time": "2022-08-15T15:31:41.594Z"
   },
   {
    "duration": 6,
    "start_time": "2022-08-15T15:31:41.739Z"
   },
   {
    "duration": 156,
    "start_time": "2022-08-15T15:31:41.747Z"
   },
   {
    "duration": 5,
    "start_time": "2022-08-15T15:31:41.905Z"
   },
   {
    "duration": 15,
    "start_time": "2022-08-15T15:31:41.912Z"
   },
   {
    "duration": 38,
    "start_time": "2022-08-15T15:31:41.928Z"
   },
   {
    "duration": 10,
    "start_time": "2022-08-15T15:31:41.968Z"
   },
   {
    "duration": 8,
    "start_time": "2022-08-15T15:31:41.979Z"
   },
   {
    "duration": 111,
    "start_time": "2022-08-15T15:31:41.988Z"
   },
   {
    "duration": 1101,
    "start_time": "2022-08-15T15:32:18.039Z"
   },
   {
    "duration": 36,
    "start_time": "2022-08-15T15:32:19.143Z"
   },
   {
    "duration": 12,
    "start_time": "2022-08-15T15:32:19.181Z"
   },
   {
    "duration": 12,
    "start_time": "2022-08-15T15:32:19.194Z"
   },
   {
    "duration": 62,
    "start_time": "2022-08-15T15:32:19.209Z"
   },
   {
    "duration": 22,
    "start_time": "2022-08-15T15:32:19.273Z"
   },
   {
    "duration": 13,
    "start_time": "2022-08-15T15:32:19.297Z"
   },
   {
    "duration": 178,
    "start_time": "2022-08-15T15:32:19.312Z"
   },
   {
    "duration": 125,
    "start_time": "2022-08-15T15:32:19.491Z"
   },
   {
    "duration": 13,
    "start_time": "2022-08-15T15:32:19.618Z"
   },
   {
    "duration": 328,
    "start_time": "2022-08-15T15:32:19.633Z"
   },
   {
    "duration": 298,
    "start_time": "2022-08-15T15:32:19.963Z"
   },
   {
    "duration": 401,
    "start_time": "2022-08-15T15:32:20.263Z"
   },
   {
    "duration": 346,
    "start_time": "2022-08-15T15:32:20.667Z"
   },
   {
    "duration": 393,
    "start_time": "2022-08-15T15:32:21.015Z"
   },
   {
    "duration": 15,
    "start_time": "2022-08-15T15:32:21.410Z"
   },
   {
    "duration": 140,
    "start_time": "2022-08-15T15:32:21.427Z"
   },
   {
    "duration": 5,
    "start_time": "2022-08-15T15:32:21.569Z"
   },
   {
    "duration": 152,
    "start_time": "2022-08-15T15:32:21.576Z"
   },
   {
    "duration": 6,
    "start_time": "2022-08-15T15:32:21.729Z"
   },
   {
    "duration": 25,
    "start_time": "2022-08-15T15:32:21.736Z"
   },
   {
    "duration": 31,
    "start_time": "2022-08-15T15:32:21.763Z"
   },
   {
    "duration": 10,
    "start_time": "2022-08-15T15:32:21.796Z"
   },
   {
    "duration": 6,
    "start_time": "2022-08-15T15:32:21.808Z"
   },
   {
    "duration": 104,
    "start_time": "2022-08-15T15:32:21.815Z"
   },
   {
    "duration": 1090,
    "start_time": "2022-08-15T15:33:04.439Z"
   },
   {
    "duration": 43,
    "start_time": "2022-08-15T15:33:05.532Z"
   },
   {
    "duration": 13,
    "start_time": "2022-08-15T15:33:05.577Z"
   },
   {
    "duration": 34,
    "start_time": "2022-08-15T15:33:05.592Z"
   },
   {
    "duration": 82,
    "start_time": "2022-08-15T15:33:05.628Z"
   },
   {
    "duration": 20,
    "start_time": "2022-08-15T15:33:05.712Z"
   },
   {
    "duration": 20,
    "start_time": "2022-08-15T15:33:05.734Z"
   },
   {
    "duration": 180,
    "start_time": "2022-08-15T15:33:05.756Z"
   },
   {
    "duration": 113,
    "start_time": "2022-08-15T15:33:05.938Z"
   },
   {
    "duration": 11,
    "start_time": "2022-08-15T15:33:06.058Z"
   },
   {
    "duration": 358,
    "start_time": "2022-08-15T15:33:06.070Z"
   },
   {
    "duration": 323,
    "start_time": "2022-08-15T15:33:06.430Z"
   },
   {
    "duration": 408,
    "start_time": "2022-08-15T15:33:06.755Z"
   },
   {
    "duration": 363,
    "start_time": "2022-08-15T15:33:07.166Z"
   },
   {
    "duration": 394,
    "start_time": "2022-08-15T15:33:07.531Z"
   },
   {
    "duration": 13,
    "start_time": "2022-08-15T15:33:07.927Z"
   },
   {
    "duration": 132,
    "start_time": "2022-08-15T15:33:07.942Z"
   },
   {
    "duration": 4,
    "start_time": "2022-08-15T15:33:08.076Z"
   },
   {
    "duration": 175,
    "start_time": "2022-08-15T15:33:08.082Z"
   },
   {
    "duration": 5,
    "start_time": "2022-08-15T15:33:08.259Z"
   },
   {
    "duration": 37,
    "start_time": "2022-08-15T15:33:08.266Z"
   },
   {
    "duration": 47,
    "start_time": "2022-08-15T15:33:08.305Z"
   },
   {
    "duration": 15,
    "start_time": "2022-08-15T15:33:08.355Z"
   },
   {
    "duration": 15,
    "start_time": "2022-08-15T15:33:08.371Z"
   },
   {
    "duration": 45,
    "start_time": "2022-08-15T15:33:08.388Z"
   },
   {
    "duration": 5,
    "start_time": "2022-08-15T15:34:52.800Z"
   },
   {
    "duration": 1098,
    "start_time": "2022-08-15T15:35:03.718Z"
   },
   {
    "duration": 42,
    "start_time": "2022-08-15T15:35:04.819Z"
   },
   {
    "duration": 15,
    "start_time": "2022-08-15T15:35:04.863Z"
   },
   {
    "duration": 13,
    "start_time": "2022-08-15T15:35:04.880Z"
   },
   {
    "duration": 51,
    "start_time": "2022-08-15T15:35:04.895Z"
   },
   {
    "duration": 23,
    "start_time": "2022-08-15T15:35:04.948Z"
   },
   {
    "duration": 10,
    "start_time": "2022-08-15T15:35:04.974Z"
   },
   {
    "duration": 192,
    "start_time": "2022-08-15T15:35:04.986Z"
   },
   {
    "duration": 182,
    "start_time": "2022-08-15T15:35:05.180Z"
   },
   {
    "duration": 14,
    "start_time": "2022-08-15T15:35:05.367Z"
   },
   {
    "duration": 362,
    "start_time": "2022-08-15T15:35:05.384Z"
   },
   {
    "duration": 317,
    "start_time": "2022-08-15T15:35:05.748Z"
   },
   {
    "duration": 412,
    "start_time": "2022-08-15T15:35:06.067Z"
   },
   {
    "duration": 332,
    "start_time": "2022-08-15T15:35:06.481Z"
   },
   {
    "duration": 380,
    "start_time": "2022-08-15T15:35:06.815Z"
   },
   {
    "duration": 15,
    "start_time": "2022-08-15T15:35:07.197Z"
   },
   {
    "duration": 147,
    "start_time": "2022-08-15T15:35:07.214Z"
   },
   {
    "duration": 5,
    "start_time": "2022-08-15T15:35:07.363Z"
   },
   {
    "duration": 156,
    "start_time": "2022-08-15T15:35:07.370Z"
   },
   {
    "duration": 5,
    "start_time": "2022-08-15T15:35:07.528Z"
   },
   {
    "duration": 28,
    "start_time": "2022-08-15T15:35:07.534Z"
   },
   {
    "duration": 32,
    "start_time": "2022-08-15T15:35:07.564Z"
   },
   {
    "duration": 10,
    "start_time": "2022-08-15T15:35:07.597Z"
   },
   {
    "duration": 7,
    "start_time": "2022-08-15T15:35:07.608Z"
   },
   {
    "duration": 6,
    "start_time": "2022-08-15T15:35:07.616Z"
   },
   {
    "duration": 38,
    "start_time": "2022-08-15T15:35:07.623Z"
   },
   {
    "duration": 1016,
    "start_time": "2022-08-15T15:36:49.712Z"
   },
   {
    "duration": 38,
    "start_time": "2022-08-15T15:36:50.729Z"
   },
   {
    "duration": 13,
    "start_time": "2022-08-15T15:36:50.768Z"
   },
   {
    "duration": 24,
    "start_time": "2022-08-15T15:36:50.784Z"
   },
   {
    "duration": 79,
    "start_time": "2022-08-15T15:36:50.810Z"
   },
   {
    "duration": 21,
    "start_time": "2022-08-15T15:36:50.890Z"
   },
   {
    "duration": 9,
    "start_time": "2022-08-15T15:36:50.912Z"
   },
   {
    "duration": 169,
    "start_time": "2022-08-15T15:36:50.923Z"
   },
   {
    "duration": 129,
    "start_time": "2022-08-15T15:36:51.094Z"
   },
   {
    "duration": 15,
    "start_time": "2022-08-15T15:36:51.225Z"
   },
   {
    "duration": 322,
    "start_time": "2022-08-15T15:36:51.259Z"
   },
   {
    "duration": 307,
    "start_time": "2022-08-15T15:36:51.582Z"
   },
   {
    "duration": 369,
    "start_time": "2022-08-15T15:36:51.890Z"
   },
   {
    "duration": 368,
    "start_time": "2022-08-15T15:36:52.261Z"
   },
   {
    "duration": 445,
    "start_time": "2022-08-15T15:36:52.631Z"
   },
   {
    "duration": 14,
    "start_time": "2022-08-15T15:36:53.077Z"
   },
   {
    "duration": 142,
    "start_time": "2022-08-15T15:36:53.093Z"
   },
   {
    "duration": 7,
    "start_time": "2022-08-15T15:36:53.237Z"
   },
   {
    "duration": 151,
    "start_time": "2022-08-15T15:36:53.257Z"
   },
   {
    "duration": 6,
    "start_time": "2022-08-15T15:36:53.410Z"
   },
   {
    "duration": 16,
    "start_time": "2022-08-15T15:36:53.417Z"
   },
   {
    "duration": 49,
    "start_time": "2022-08-15T15:36:53.434Z"
   },
   {
    "duration": 10,
    "start_time": "2022-08-15T15:36:53.486Z"
   },
   {
    "duration": 12,
    "start_time": "2022-08-15T15:36:53.497Z"
   },
   {
    "duration": 13,
    "start_time": "2022-08-15T15:36:53.511Z"
   },
   {
    "duration": 13,
    "start_time": "2022-08-15T15:36:53.526Z"
   },
   {
    "duration": 11,
    "start_time": "2022-08-15T15:37:28.908Z"
   },
   {
    "duration": 21,
    "start_time": "2022-08-15T15:37:30.723Z"
   },
   {
    "duration": 1084,
    "start_time": "2022-08-15T15:37:42.822Z"
   },
   {
    "duration": 42,
    "start_time": "2022-08-15T15:37:43.908Z"
   },
   {
    "duration": 13,
    "start_time": "2022-08-15T15:37:43.952Z"
   },
   {
    "duration": 18,
    "start_time": "2022-08-15T15:37:43.967Z"
   },
   {
    "duration": 44,
    "start_time": "2022-08-15T15:37:43.988Z"
   },
   {
    "duration": 21,
    "start_time": "2022-08-15T15:37:44.034Z"
   },
   {
    "duration": 9,
    "start_time": "2022-08-15T15:37:44.057Z"
   },
   {
    "duration": 170,
    "start_time": "2022-08-15T15:37:44.067Z"
   },
   {
    "duration": 133,
    "start_time": "2022-08-15T15:37:44.239Z"
   },
   {
    "duration": 12,
    "start_time": "2022-08-15T15:37:44.374Z"
   },
   {
    "duration": 332,
    "start_time": "2022-08-15T15:37:44.387Z"
   },
   {
    "duration": 303,
    "start_time": "2022-08-15T15:37:44.721Z"
   },
   {
    "duration": 462,
    "start_time": "2022-08-15T15:37:45.026Z"
   },
   {
    "duration": 387,
    "start_time": "2022-08-15T15:37:45.490Z"
   },
   {
    "duration": 366,
    "start_time": "2022-08-15T15:37:45.879Z"
   },
   {
    "duration": 18,
    "start_time": "2022-08-15T15:37:46.247Z"
   },
   {
    "duration": 131,
    "start_time": "2022-08-15T15:37:46.266Z"
   },
   {
    "duration": 6,
    "start_time": "2022-08-15T15:37:46.398Z"
   },
   {
    "duration": 155,
    "start_time": "2022-08-15T15:37:46.405Z"
   },
   {
    "duration": 5,
    "start_time": "2022-08-15T15:37:46.562Z"
   },
   {
    "duration": 12,
    "start_time": "2022-08-15T15:37:46.569Z"
   },
   {
    "duration": 24,
    "start_time": "2022-08-15T15:37:46.583Z"
   },
   {
    "duration": 9,
    "start_time": "2022-08-15T15:37:46.608Z"
   },
   {
    "duration": 8,
    "start_time": "2022-08-15T15:37:46.619Z"
   },
   {
    "duration": 31,
    "start_time": "2022-08-15T15:37:46.629Z"
   },
   {
    "duration": 14,
    "start_time": "2022-08-15T15:37:46.662Z"
   },
   {
    "duration": 23,
    "start_time": "2022-08-15T15:37:46.677Z"
   },
   {
    "duration": 9,
    "start_time": "2022-08-15T15:37:46.703Z"
   },
   {
    "duration": 1108,
    "start_time": "2022-08-15T15:38:48.193Z"
   },
   {
    "duration": 36,
    "start_time": "2022-08-15T15:38:49.303Z"
   },
   {
    "duration": 13,
    "start_time": "2022-08-15T15:38:49.341Z"
   },
   {
    "duration": 13,
    "start_time": "2022-08-15T15:38:49.355Z"
   },
   {
    "duration": 52,
    "start_time": "2022-08-15T15:38:49.370Z"
   },
   {
    "duration": 19,
    "start_time": "2022-08-15T15:38:49.424Z"
   },
   {
    "duration": 10,
    "start_time": "2022-08-15T15:38:49.445Z"
   },
   {
    "duration": 176,
    "start_time": "2022-08-15T15:38:49.456Z"
   },
   {
    "duration": 132,
    "start_time": "2022-08-15T15:38:49.633Z"
   },
   {
    "duration": 32,
    "start_time": "2022-08-15T15:38:49.767Z"
   },
   {
    "duration": 316,
    "start_time": "2022-08-15T15:38:49.801Z"
   },
   {
    "duration": 303,
    "start_time": "2022-08-15T15:38:50.119Z"
   },
   {
    "duration": 416,
    "start_time": "2022-08-15T15:38:50.424Z"
   },
   {
    "duration": 358,
    "start_time": "2022-08-15T15:38:50.843Z"
   },
   {
    "duration": 361,
    "start_time": "2022-08-15T15:38:51.203Z"
   },
   {
    "duration": 14,
    "start_time": "2022-08-15T15:38:51.566Z"
   },
   {
    "duration": 144,
    "start_time": "2022-08-15T15:38:51.582Z"
   },
   {
    "duration": 5,
    "start_time": "2022-08-15T15:38:51.728Z"
   },
   {
    "duration": 154,
    "start_time": "2022-08-15T15:38:51.735Z"
   },
   {
    "duration": 5,
    "start_time": "2022-08-15T15:38:51.891Z"
   },
   {
    "duration": 20,
    "start_time": "2022-08-15T15:38:51.898Z"
   },
   {
    "duration": 22,
    "start_time": "2022-08-15T15:38:51.920Z"
   },
   {
    "duration": 10,
    "start_time": "2022-08-15T15:38:51.958Z"
   },
   {
    "duration": 6,
    "start_time": "2022-08-15T15:38:51.970Z"
   },
   {
    "duration": 9,
    "start_time": "2022-08-15T15:38:51.977Z"
   },
   {
    "duration": 24,
    "start_time": "2022-08-15T15:38:51.988Z"
   },
   {
    "duration": 27,
    "start_time": "2022-08-15T15:38:52.014Z"
   },
   {
    "duration": 24,
    "start_time": "2022-08-15T15:38:52.042Z"
   },
   {
    "duration": 46,
    "start_time": "2022-08-16T09:57:07.994Z"
   },
   {
    "duration": 1011,
    "start_time": "2022-08-16T09:57:13.683Z"
   },
   {
    "duration": 80,
    "start_time": "2022-08-16T09:57:16.345Z"
   },
   {
    "duration": 94,
    "start_time": "2022-08-16T10:21:00.927Z"
   },
   {
    "duration": 63,
    "start_time": "2022-08-16T10:38:25.617Z"
   },
   {
    "duration": 4,
    "start_time": "2022-08-16T12:40:08.992Z"
   },
   {
    "duration": 1161,
    "start_time": "2022-08-16T12:40:16.636Z"
   },
   {
    "duration": 37,
    "start_time": "2022-08-16T12:40:17.799Z"
   },
   {
    "duration": 12,
    "start_time": "2022-08-16T12:40:17.837Z"
   },
   {
    "duration": 19,
    "start_time": "2022-08-16T12:40:17.852Z"
   },
   {
    "duration": 115,
    "start_time": "2022-08-16T12:40:17.873Z"
   },
   {
    "duration": 62,
    "start_time": "2022-08-16T12:40:17.989Z"
   },
   {
    "duration": 15,
    "start_time": "2022-08-16T12:40:18.052Z"
   },
   {
    "duration": 179,
    "start_time": "2022-08-16T12:40:18.076Z"
   },
   {
    "duration": 142,
    "start_time": "2022-08-16T12:40:18.257Z"
   },
   {
    "duration": 18,
    "start_time": "2022-08-16T12:40:18.402Z"
   },
   {
    "duration": 386,
    "start_time": "2022-08-16T12:40:18.422Z"
   },
   {
    "duration": 357,
    "start_time": "2022-08-16T12:40:18.810Z"
   },
   {
    "duration": 435,
    "start_time": "2022-08-16T12:40:19.175Z"
   },
   {
    "duration": 380,
    "start_time": "2022-08-16T12:40:19.613Z"
   },
   {
    "duration": 349,
    "start_time": "2022-08-16T12:40:19.994Z"
   },
   {
    "duration": 32,
    "start_time": "2022-08-16T12:40:20.344Z"
   },
   {
    "duration": 153,
    "start_time": "2022-08-16T12:40:20.378Z"
   },
   {
    "duration": 5,
    "start_time": "2022-08-16T12:40:20.533Z"
   },
   {
    "duration": 159,
    "start_time": "2022-08-16T12:40:20.540Z"
   },
   {
    "duration": 6,
    "start_time": "2022-08-16T12:40:20.702Z"
   },
   {
    "duration": 32,
    "start_time": "2022-08-16T12:40:20.709Z"
   },
   {
    "duration": 31,
    "start_time": "2022-08-16T12:40:20.742Z"
   },
   {
    "duration": 0,
    "start_time": "2022-08-16T12:40:20.776Z"
   },
   {
    "duration": 0,
    "start_time": "2022-08-16T12:40:20.777Z"
   },
   {
    "duration": 0,
    "start_time": "2022-08-16T12:40:20.779Z"
   },
   {
    "duration": 0,
    "start_time": "2022-08-16T12:40:20.780Z"
   },
   {
    "duration": 0,
    "start_time": "2022-08-16T12:40:20.782Z"
   },
   {
    "duration": 0,
    "start_time": "2022-08-16T12:40:20.783Z"
   },
   {
    "duration": 118,
    "start_time": "2022-08-16T12:40:48.271Z"
   },
   {
    "duration": 5,
    "start_time": "2022-08-16T12:41:35.827Z"
   },
   {
    "duration": 7,
    "start_time": "2022-08-16T12:42:05.676Z"
   },
   {
    "duration": 62,
    "start_time": "2022-08-16T12:42:32.278Z"
   },
   {
    "duration": 7,
    "start_time": "2022-08-16T12:42:46.075Z"
   },
   {
    "duration": 10,
    "start_time": "2022-08-16T12:57:21.660Z"
   },
   {
    "duration": 7,
    "start_time": "2022-08-16T13:04:55.348Z"
   },
   {
    "duration": 10,
    "start_time": "2022-08-16T13:04:59.974Z"
   },
   {
    "duration": 8,
    "start_time": "2022-08-16T13:05:40.112Z"
   },
   {
    "duration": 1123,
    "start_time": "2022-08-16T13:08:53.989Z"
   },
   {
    "duration": 39,
    "start_time": "2022-08-16T13:08:55.114Z"
   },
   {
    "duration": 17,
    "start_time": "2022-08-16T13:08:55.155Z"
   },
   {
    "duration": 19,
    "start_time": "2022-08-16T13:08:55.175Z"
   },
   {
    "duration": 57,
    "start_time": "2022-08-16T13:08:55.195Z"
   },
   {
    "duration": 30,
    "start_time": "2022-08-16T13:08:55.254Z"
   },
   {
    "duration": 14,
    "start_time": "2022-08-16T13:08:55.287Z"
   },
   {
    "duration": 243,
    "start_time": "2022-08-16T13:08:55.304Z"
   },
   {
    "duration": 144,
    "start_time": "2022-08-16T13:08:55.549Z"
   },
   {
    "duration": 13,
    "start_time": "2022-08-16T13:08:55.696Z"
   },
   {
    "duration": 345,
    "start_time": "2022-08-16T13:08:55.712Z"
   },
   {
    "duration": 319,
    "start_time": "2022-08-16T13:08:56.059Z"
   },
   {
    "duration": 386,
    "start_time": "2022-08-16T13:08:56.381Z"
   },
   {
    "duration": 345,
    "start_time": "2022-08-16T13:08:56.769Z"
   },
   {
    "duration": 420,
    "start_time": "2022-08-16T13:08:57.116Z"
   },
   {
    "duration": 20,
    "start_time": "2022-08-16T13:08:57.538Z"
   },
   {
    "duration": 134,
    "start_time": "2022-08-16T13:08:57.560Z"
   },
   {
    "duration": 5,
    "start_time": "2022-08-16T13:08:57.696Z"
   },
   {
    "duration": 176,
    "start_time": "2022-08-16T13:08:57.703Z"
   },
   {
    "duration": 6,
    "start_time": "2022-08-16T13:08:57.881Z"
   },
   {
    "duration": 19,
    "start_time": "2022-08-16T13:08:57.889Z"
   },
   {
    "duration": 11,
    "start_time": "2022-08-16T13:08:57.910Z"
   },
   {
    "duration": 17,
    "start_time": "2022-08-16T13:08:57.923Z"
   },
   {
    "duration": 20,
    "start_time": "2022-08-16T13:08:57.942Z"
   },
   {
    "duration": 12,
    "start_time": "2022-08-16T13:08:57.964Z"
   },
   {
    "duration": 27,
    "start_time": "2022-08-16T13:08:57.977Z"
   },
   {
    "duration": 36,
    "start_time": "2022-08-16T13:08:58.005Z"
   },
   {
    "duration": 12,
    "start_time": "2022-08-16T13:08:58.044Z"
   },
   {
    "duration": 1155,
    "start_time": "2022-08-16T13:17:04.832Z"
   },
   {
    "duration": 44,
    "start_time": "2022-08-16T13:17:05.989Z"
   },
   {
    "duration": 11,
    "start_time": "2022-08-16T13:17:06.035Z"
   },
   {
    "duration": 12,
    "start_time": "2022-08-16T13:17:06.048Z"
   },
   {
    "duration": 47,
    "start_time": "2022-08-16T13:17:06.062Z"
   },
   {
    "duration": 20,
    "start_time": "2022-08-16T13:17:06.111Z"
   },
   {
    "duration": 10,
    "start_time": "2022-08-16T13:17:06.133Z"
   },
   {
    "duration": 204,
    "start_time": "2022-08-16T13:17:06.145Z"
   },
   {
    "duration": 128,
    "start_time": "2022-08-16T13:17:06.350Z"
   },
   {
    "duration": 14,
    "start_time": "2022-08-16T13:17:06.479Z"
   },
   {
    "duration": 329,
    "start_time": "2022-08-16T13:17:06.494Z"
   },
   {
    "duration": 302,
    "start_time": "2022-08-16T13:17:06.824Z"
   },
   {
    "duration": 414,
    "start_time": "2022-08-16T13:17:07.128Z"
   },
   {
    "duration": 308,
    "start_time": "2022-08-16T13:17:07.545Z"
   },
   {
    "duration": 401,
    "start_time": "2022-08-16T13:17:07.856Z"
   },
   {
    "duration": 12,
    "start_time": "2022-08-16T13:17:08.260Z"
   },
   {
    "duration": 143,
    "start_time": "2022-08-16T13:17:08.273Z"
   },
   {
    "duration": 4,
    "start_time": "2022-08-16T13:17:08.418Z"
   },
   {
    "duration": 160,
    "start_time": "2022-08-16T13:17:08.424Z"
   },
   {
    "duration": 5,
    "start_time": "2022-08-16T13:17:08.586Z"
   },
   {
    "duration": 43,
    "start_time": "2022-08-16T13:17:08.593Z"
   },
   {
    "duration": 31,
    "start_time": "2022-08-16T13:17:08.638Z"
   },
   {
    "duration": 11,
    "start_time": "2022-08-16T13:17:08.671Z"
   },
   {
    "duration": 11,
    "start_time": "2022-08-16T13:17:08.684Z"
   },
   {
    "duration": 7,
    "start_time": "2022-08-16T13:17:08.696Z"
   },
   {
    "duration": 36,
    "start_time": "2022-08-16T13:17:08.704Z"
   },
   {
    "duration": 35,
    "start_time": "2022-08-16T13:17:08.742Z"
   },
   {
    "duration": 29,
    "start_time": "2022-08-16T13:17:08.779Z"
   },
   {
    "duration": 3,
    "start_time": "2022-08-16T13:22:49.283Z"
   },
   {
    "duration": 93,
    "start_time": "2022-08-16T13:24:44.025Z"
   },
   {
    "duration": 1155,
    "start_time": "2022-08-16T16:23:24.270Z"
   },
   {
    "duration": 37,
    "start_time": "2022-08-16T16:23:25.427Z"
   },
   {
    "duration": 13,
    "start_time": "2022-08-16T16:23:25.466Z"
   },
   {
    "duration": 15,
    "start_time": "2022-08-16T16:23:25.481Z"
   },
   {
    "duration": 48,
    "start_time": "2022-08-16T16:23:25.497Z"
   },
   {
    "duration": 20,
    "start_time": "2022-08-16T16:23:25.547Z"
   },
   {
    "duration": 10,
    "start_time": "2022-08-16T16:23:25.569Z"
   },
   {
    "duration": 176,
    "start_time": "2022-08-16T16:23:25.581Z"
   },
   {
    "duration": 138,
    "start_time": "2022-08-16T16:23:25.759Z"
   },
   {
    "duration": 12,
    "start_time": "2022-08-16T16:23:25.900Z"
   },
   {
    "duration": 342,
    "start_time": "2022-08-16T16:23:25.913Z"
   },
   {
    "duration": 356,
    "start_time": "2022-08-16T16:23:26.258Z"
   },
   {
    "duration": 455,
    "start_time": "2022-08-16T16:23:26.615Z"
   },
   {
    "duration": 323,
    "start_time": "2022-08-16T16:23:27.072Z"
   },
   {
    "duration": 383,
    "start_time": "2022-08-16T16:23:27.397Z"
   },
   {
    "duration": 13,
    "start_time": "2022-08-16T16:23:27.782Z"
   },
   {
    "duration": 151,
    "start_time": "2022-08-16T16:23:27.796Z"
   },
   {
    "duration": 5,
    "start_time": "2022-08-16T16:23:27.949Z"
   },
   {
    "duration": 157,
    "start_time": "2022-08-16T16:23:27.968Z"
   },
   {
    "duration": 6,
    "start_time": "2022-08-16T16:23:28.126Z"
   },
   {
    "duration": 14,
    "start_time": "2022-08-16T16:23:28.133Z"
   },
   {
    "duration": 21,
    "start_time": "2022-08-16T16:23:28.148Z"
   },
   {
    "duration": 10,
    "start_time": "2022-08-16T16:23:28.171Z"
   },
   {
    "duration": 9,
    "start_time": "2022-08-16T16:23:28.182Z"
   },
   {
    "duration": 7,
    "start_time": "2022-08-16T16:23:28.193Z"
   },
   {
    "duration": 14,
    "start_time": "2022-08-16T16:23:28.202Z"
   },
   {
    "duration": 5,
    "start_time": "2022-08-16T16:23:28.218Z"
   },
   {
    "duration": 47,
    "start_time": "2022-08-16T16:23:28.226Z"
   },
   {
    "duration": 53,
    "start_time": "2022-08-17T08:36:47.507Z"
   },
   {
    "duration": 1381,
    "start_time": "2022-08-17T08:36:55.499Z"
   },
   {
    "duration": 84,
    "start_time": "2022-08-17T08:36:56.882Z"
   },
   {
    "duration": 13,
    "start_time": "2022-08-17T08:36:56.968Z"
   },
   {
    "duration": 18,
    "start_time": "2022-08-17T08:36:56.984Z"
   },
   {
    "duration": 94,
    "start_time": "2022-08-17T08:36:57.004Z"
   },
   {
    "duration": 63,
    "start_time": "2022-08-17T08:36:57.100Z"
   },
   {
    "duration": 10,
    "start_time": "2022-08-17T08:36:57.165Z"
   },
   {
    "duration": 188,
    "start_time": "2022-08-17T08:36:57.176Z"
   },
   {
    "duration": 141,
    "start_time": "2022-08-17T08:36:57.368Z"
   },
   {
    "duration": 15,
    "start_time": "2022-08-17T08:36:57.512Z"
   },
   {
    "duration": 364,
    "start_time": "2022-08-17T08:36:57.528Z"
   },
   {
    "duration": 326,
    "start_time": "2022-08-17T08:36:57.894Z"
   },
   {
    "duration": 488,
    "start_time": "2022-08-17T08:36:58.222Z"
   },
   {
    "duration": 354,
    "start_time": "2022-08-17T08:36:58.711Z"
   },
   {
    "duration": 403,
    "start_time": "2022-08-17T08:36:59.067Z"
   },
   {
    "duration": 13,
    "start_time": "2022-08-17T08:36:59.472Z"
   },
   {
    "duration": 159,
    "start_time": "2022-08-17T08:36:59.487Z"
   },
   {
    "duration": 5,
    "start_time": "2022-08-17T08:36:59.648Z"
   },
   {
    "duration": 167,
    "start_time": "2022-08-17T08:36:59.655Z"
   },
   {
    "duration": 5,
    "start_time": "2022-08-17T08:36:59.824Z"
   },
   {
    "duration": 14,
    "start_time": "2022-08-17T08:36:59.830Z"
   },
   {
    "duration": 23,
    "start_time": "2022-08-17T08:36:59.846Z"
   },
   {
    "duration": 10,
    "start_time": "2022-08-17T08:36:59.871Z"
   },
   {
    "duration": 9,
    "start_time": "2022-08-17T08:36:59.882Z"
   },
   {
    "duration": 7,
    "start_time": "2022-08-17T08:36:59.892Z"
   },
   {
    "duration": 15,
    "start_time": "2022-08-17T08:36:59.900Z"
   },
   {
    "duration": 5,
    "start_time": "2022-08-17T08:36:59.916Z"
   },
   {
    "duration": 50,
    "start_time": "2022-08-17T08:36:59.924Z"
   },
   {
    "duration": 336,
    "start_time": "2022-08-17T08:37:36.859Z"
   },
   {
    "duration": 412,
    "start_time": "2022-08-17T08:37:43.055Z"
   },
   {
    "duration": 313,
    "start_time": "2022-08-17T08:38:24.821Z"
   },
   {
    "duration": 333,
    "start_time": "2022-08-17T08:40:11.369Z"
   },
   {
    "duration": 356,
    "start_time": "2022-08-17T08:40:56.807Z"
   },
   {
    "duration": 436,
    "start_time": "2022-08-17T08:41:38.356Z"
   },
   {
    "duration": 409,
    "start_time": "2022-08-17T08:42:38.805Z"
   },
   {
    "duration": 428,
    "start_time": "2022-08-17T08:44:56.563Z"
   },
   {
    "duration": 426,
    "start_time": "2022-08-17T08:45:38.078Z"
   },
   {
    "duration": 146,
    "start_time": "2022-08-17T08:47:30.290Z"
   },
   {
    "duration": 160,
    "start_time": "2022-08-17T08:48:53.672Z"
   },
   {
    "duration": 5,
    "start_time": "2022-08-17T08:59:34.997Z"
   },
   {
    "duration": 5,
    "start_time": "2022-08-17T08:59:46.051Z"
   },
   {
    "duration": 5,
    "start_time": "2022-08-17T09:02:59.820Z"
   },
   {
    "duration": 122,
    "start_time": "2022-08-17T09:07:07.051Z"
   },
   {
    "duration": 19,
    "start_time": "2022-08-17T09:07:20.062Z"
   },
   {
    "duration": 9,
    "start_time": "2022-08-17T09:07:40.728Z"
   },
   {
    "duration": 17,
    "start_time": "2022-08-17T09:07:46.208Z"
   },
   {
    "duration": 10,
    "start_time": "2022-08-17T09:08:02.408Z"
   },
   {
    "duration": 9,
    "start_time": "2022-08-17T09:08:17.729Z"
   },
   {
    "duration": 1163,
    "start_time": "2022-08-17T09:08:45.059Z"
   },
   {
    "duration": 52,
    "start_time": "2022-08-17T09:08:46.224Z"
   },
   {
    "duration": 15,
    "start_time": "2022-08-17T09:08:46.279Z"
   },
   {
    "duration": 13,
    "start_time": "2022-08-17T09:08:46.296Z"
   },
   {
    "duration": 49,
    "start_time": "2022-08-17T09:08:46.312Z"
   },
   {
    "duration": 22,
    "start_time": "2022-08-17T09:08:46.363Z"
   },
   {
    "duration": 10,
    "start_time": "2022-08-17T09:08:46.387Z"
   },
   {
    "duration": 20,
    "start_time": "2022-08-17T09:08:46.400Z"
   },
   {
    "duration": 209,
    "start_time": "2022-08-17T09:08:46.422Z"
   },
   {
    "duration": 167,
    "start_time": "2022-08-17T09:08:46.633Z"
   },
   {
    "duration": 16,
    "start_time": "2022-08-17T09:08:46.802Z"
   },
   {
    "duration": 403,
    "start_time": "2022-08-17T09:08:46.820Z"
   },
   {
    "duration": 386,
    "start_time": "2022-08-17T09:08:47.225Z"
   },
   {
    "duration": 448,
    "start_time": "2022-08-17T09:08:47.614Z"
   },
   {
    "duration": 369,
    "start_time": "2022-08-17T09:08:48.068Z"
   },
   {
    "duration": 440,
    "start_time": "2022-08-17T09:08:48.439Z"
   },
   {
    "duration": 15,
    "start_time": "2022-08-17T09:08:48.881Z"
   },
   {
    "duration": 154,
    "start_time": "2022-08-17T09:08:48.897Z"
   },
   {
    "duration": 22,
    "start_time": "2022-08-17T09:08:49.052Z"
   },
   {
    "duration": 172,
    "start_time": "2022-08-17T09:08:49.076Z"
   },
   {
    "duration": 6,
    "start_time": "2022-08-17T09:08:49.250Z"
   },
   {
    "duration": 18,
    "start_time": "2022-08-17T09:08:49.270Z"
   },
   {
    "duration": 6,
    "start_time": "2022-08-17T09:08:49.289Z"
   },
   {
    "duration": 13,
    "start_time": "2022-08-17T09:08:49.297Z"
   },
   {
    "duration": 11,
    "start_time": "2022-08-17T09:08:49.311Z"
   },
   {
    "duration": 9,
    "start_time": "2022-08-17T09:08:49.324Z"
   },
   {
    "duration": 43,
    "start_time": "2022-08-17T09:08:49.335Z"
   },
   {
    "duration": 7,
    "start_time": "2022-08-17T09:08:49.380Z"
   },
   {
    "duration": 15,
    "start_time": "2022-08-17T09:08:49.388Z"
   },
   {
    "duration": 6,
    "start_time": "2022-08-17T09:14:06.795Z"
   },
   {
    "duration": 1172,
    "start_time": "2022-08-17T09:15:18.108Z"
   },
   {
    "duration": 37,
    "start_time": "2022-08-17T09:15:19.283Z"
   },
   {
    "duration": 13,
    "start_time": "2022-08-17T09:15:19.322Z"
   },
   {
    "duration": 24,
    "start_time": "2022-08-17T09:15:19.337Z"
   },
   {
    "duration": 52,
    "start_time": "2022-08-17T09:15:19.365Z"
   },
   {
    "duration": 22,
    "start_time": "2022-08-17T09:15:19.419Z"
   },
   {
    "duration": 10,
    "start_time": "2022-08-17T09:15:19.443Z"
   },
   {
    "duration": 45,
    "start_time": "2022-08-17T09:15:19.454Z"
   },
   {
    "duration": 30,
    "start_time": "2022-08-17T09:15:19.501Z"
   },
   {
    "duration": 180,
    "start_time": "2022-08-17T09:15:19.533Z"
   },
   {
    "duration": 133,
    "start_time": "2022-08-17T09:15:19.715Z"
   },
   {
    "duration": 32,
    "start_time": "2022-08-17T09:15:19.850Z"
   },
   {
    "duration": 373,
    "start_time": "2022-08-17T09:15:19.885Z"
   },
   {
    "duration": 373,
    "start_time": "2022-08-17T09:15:20.260Z"
   },
   {
    "duration": 487,
    "start_time": "2022-08-17T09:15:20.635Z"
   },
   {
    "duration": 415,
    "start_time": "2022-08-17T09:15:21.124Z"
   },
   {
    "duration": 497,
    "start_time": "2022-08-17T09:15:21.542Z"
   },
   {
    "duration": 13,
    "start_time": "2022-08-17T09:15:22.041Z"
   },
   {
    "duration": 228,
    "start_time": "2022-08-17T09:15:22.057Z"
   },
   {
    "duration": 7,
    "start_time": "2022-08-17T09:15:22.288Z"
   },
   {
    "duration": 201,
    "start_time": "2022-08-17T09:15:22.297Z"
   },
   {
    "duration": 5,
    "start_time": "2022-08-17T09:15:22.500Z"
   },
   {
    "duration": 30,
    "start_time": "2022-08-17T09:15:22.508Z"
   },
   {
    "duration": 23,
    "start_time": "2022-08-17T09:15:22.540Z"
   },
   {
    "duration": 41,
    "start_time": "2022-08-17T09:15:22.565Z"
   },
   {
    "duration": 26,
    "start_time": "2022-08-17T09:15:22.608Z"
   },
   {
    "duration": 27,
    "start_time": "2022-08-17T09:15:22.637Z"
   },
   {
    "duration": 51,
    "start_time": "2022-08-17T09:15:22.666Z"
   },
   {
    "duration": 16,
    "start_time": "2022-08-17T09:15:22.719Z"
   },
   {
    "duration": 38,
    "start_time": "2022-08-17T09:15:22.737Z"
   },
   {
    "duration": 1284,
    "start_time": "2022-08-17T09:16:22.285Z"
   },
   {
    "duration": 48,
    "start_time": "2022-08-17T09:16:23.571Z"
   },
   {
    "duration": 14,
    "start_time": "2022-08-17T09:16:23.620Z"
   },
   {
    "duration": 14,
    "start_time": "2022-08-17T09:16:23.636Z"
   },
   {
    "duration": 65,
    "start_time": "2022-08-17T09:16:23.651Z"
   },
   {
    "duration": 21,
    "start_time": "2022-08-17T09:16:23.718Z"
   },
   {
    "duration": 10,
    "start_time": "2022-08-17T09:16:23.741Z"
   },
   {
    "duration": 7,
    "start_time": "2022-08-17T09:16:23.752Z"
   },
   {
    "duration": 41,
    "start_time": "2022-08-17T09:16:23.761Z"
   },
   {
    "duration": 185,
    "start_time": "2022-08-17T09:16:23.805Z"
   },
   {
    "duration": 150,
    "start_time": "2022-08-17T09:16:23.991Z"
   },
   {
    "duration": 29,
    "start_time": "2022-08-17T09:16:24.142Z"
   },
   {
    "duration": 376,
    "start_time": "2022-08-17T09:16:24.180Z"
   },
   {
    "duration": 374,
    "start_time": "2022-08-17T09:16:24.557Z"
   },
   {
    "duration": 493,
    "start_time": "2022-08-17T09:16:24.933Z"
   },
   {
    "duration": 421,
    "start_time": "2022-08-17T09:16:25.428Z"
   },
   {
    "duration": 488,
    "start_time": "2022-08-17T09:16:25.852Z"
   },
   {
    "duration": 13,
    "start_time": "2022-08-17T09:16:26.342Z"
   },
   {
    "duration": 203,
    "start_time": "2022-08-17T09:16:26.375Z"
   },
   {
    "duration": 11,
    "start_time": "2022-08-17T09:16:26.580Z"
   },
   {
    "duration": 204,
    "start_time": "2022-08-17T09:16:26.599Z"
   },
   {
    "duration": 8,
    "start_time": "2022-08-17T09:16:26.808Z"
   },
   {
    "duration": 24,
    "start_time": "2022-08-17T09:16:26.819Z"
   },
   {
    "duration": 13,
    "start_time": "2022-08-17T09:16:26.845Z"
   },
   {
    "duration": 47,
    "start_time": "2022-08-17T09:16:26.860Z"
   },
   {
    "duration": 14,
    "start_time": "2022-08-17T09:16:26.909Z"
   },
   {
    "duration": 15,
    "start_time": "2022-08-17T09:16:26.925Z"
   },
   {
    "duration": 35,
    "start_time": "2022-08-17T09:16:26.944Z"
   },
   {
    "duration": 14,
    "start_time": "2022-08-17T09:16:26.988Z"
   },
   {
    "duration": 9,
    "start_time": "2022-08-17T09:16:27.004Z"
   },
   {
    "duration": 1255,
    "start_time": "2022-08-17T09:21:55.510Z"
   },
   {
    "duration": 69,
    "start_time": "2022-08-17T09:21:56.770Z"
   },
   {
    "duration": 15,
    "start_time": "2022-08-17T09:21:56.841Z"
   },
   {
    "duration": 27,
    "start_time": "2022-08-17T09:21:56.859Z"
   },
   {
    "duration": 76,
    "start_time": "2022-08-17T09:21:56.888Z"
   },
   {
    "duration": 52,
    "start_time": "2022-08-17T09:21:56.966Z"
   },
   {
    "duration": 12,
    "start_time": "2022-08-17T09:21:57.020Z"
   },
   {
    "duration": 6,
    "start_time": "2022-08-17T09:21:57.034Z"
   },
   {
    "duration": 16,
    "start_time": "2022-08-17T09:21:57.042Z"
   },
   {
    "duration": 202,
    "start_time": "2022-08-17T09:21:57.061Z"
   },
   {
    "duration": 141,
    "start_time": "2022-08-17T09:21:57.268Z"
   },
   {
    "duration": 13,
    "start_time": "2022-08-17T09:21:57.411Z"
   },
   {
    "duration": 392,
    "start_time": "2022-08-17T09:21:57.425Z"
   },
   {
    "duration": 376,
    "start_time": "2022-08-17T09:21:57.819Z"
   },
   {
    "duration": 428,
    "start_time": "2022-08-17T09:21:58.196Z"
   },
   {
    "duration": 392,
    "start_time": "2022-08-17T09:21:58.625Z"
   },
   {
    "duration": 435,
    "start_time": "2022-08-17T09:21:59.019Z"
   },
   {
    "duration": 44,
    "start_time": "2022-08-17T09:21:59.456Z"
   },
   {
    "duration": 203,
    "start_time": "2022-08-17T09:21:59.502Z"
   },
   {
    "duration": 6,
    "start_time": "2022-08-17T09:21:59.708Z"
   },
   {
    "duration": 196,
    "start_time": "2022-08-17T09:21:59.716Z"
   },
   {
    "duration": 6,
    "start_time": "2022-08-17T09:21:59.914Z"
   },
   {
    "duration": 15,
    "start_time": "2022-08-17T09:21:59.921Z"
   },
   {
    "duration": 9,
    "start_time": "2022-08-17T09:21:59.937Z"
   },
   {
    "duration": 34,
    "start_time": "2022-08-17T09:21:59.948Z"
   },
   {
    "duration": 22,
    "start_time": "2022-08-17T09:21:59.983Z"
   },
   {
    "duration": 18,
    "start_time": "2022-08-17T09:22:00.007Z"
   },
   {
    "duration": 30,
    "start_time": "2022-08-17T09:22:00.029Z"
   },
   {
    "duration": 29,
    "start_time": "2022-08-17T09:22:00.063Z"
   },
   {
    "duration": 27,
    "start_time": "2022-08-17T09:22:00.095Z"
   },
   {
    "duration": 1181,
    "start_time": "2022-08-17T09:32:04.017Z"
   },
   {
    "duration": 38,
    "start_time": "2022-08-17T09:32:05.201Z"
   },
   {
    "duration": 20,
    "start_time": "2022-08-17T09:32:05.241Z"
   },
   {
    "duration": 20,
    "start_time": "2022-08-17T09:32:05.264Z"
   },
   {
    "duration": 105,
    "start_time": "2022-08-17T09:32:05.287Z"
   },
   {
    "duration": 23,
    "start_time": "2022-08-17T09:32:05.395Z"
   },
   {
    "duration": 14,
    "start_time": "2022-08-17T09:32:05.420Z"
   },
   {
    "duration": 10,
    "start_time": "2022-08-17T09:32:05.436Z"
   },
   {
    "duration": 16,
    "start_time": "2022-08-17T09:32:05.448Z"
   },
   {
    "duration": 278,
    "start_time": "2022-08-17T09:32:05.469Z"
   },
   {
    "duration": 155,
    "start_time": "2022-08-17T09:32:05.749Z"
   },
   {
    "duration": 15,
    "start_time": "2022-08-17T09:32:05.906Z"
   },
   {
    "duration": 413,
    "start_time": "2022-08-17T09:32:05.923Z"
   },
   {
    "duration": 435,
    "start_time": "2022-08-17T09:32:06.338Z"
   },
   {
    "duration": 449,
    "start_time": "2022-08-17T09:32:06.778Z"
   },
   {
    "duration": 400,
    "start_time": "2022-08-17T09:32:07.229Z"
   },
   {
    "duration": 484,
    "start_time": "2022-08-17T09:32:07.632Z"
   },
   {
    "duration": 21,
    "start_time": "2022-08-17T09:32:08.118Z"
   },
   {
    "duration": 300,
    "start_time": "2022-08-17T09:32:08.141Z"
   },
   {
    "duration": 7,
    "start_time": "2022-08-17T09:32:08.443Z"
   },
   {
    "duration": 203,
    "start_time": "2022-08-17T09:32:08.453Z"
   },
   {
    "duration": 15,
    "start_time": "2022-08-17T09:32:08.658Z"
   },
   {
    "duration": 30,
    "start_time": "2022-08-17T09:32:08.675Z"
   },
   {
    "duration": 7,
    "start_time": "2022-08-17T09:32:08.708Z"
   },
   {
    "duration": 16,
    "start_time": "2022-08-17T09:32:08.717Z"
   },
   {
    "duration": 38,
    "start_time": "2022-08-17T09:32:08.736Z"
   },
   {
    "duration": 11,
    "start_time": "2022-08-17T09:32:08.776Z"
   },
   {
    "duration": 20,
    "start_time": "2022-08-17T09:32:08.792Z"
   },
   {
    "duration": 8,
    "start_time": "2022-08-17T09:32:08.815Z"
   },
   {
    "duration": 46,
    "start_time": "2022-08-17T09:32:08.826Z"
   },
   {
    "duration": 1159,
    "start_time": "2022-08-17T10:34:24.498Z"
   },
   {
    "duration": 37,
    "start_time": "2022-08-17T10:34:25.659Z"
   },
   {
    "duration": 13,
    "start_time": "2022-08-17T10:34:25.698Z"
   },
   {
    "duration": 13,
    "start_time": "2022-08-17T10:34:25.713Z"
   },
   {
    "duration": 54,
    "start_time": "2022-08-17T10:34:25.729Z"
   },
   {
    "duration": 21,
    "start_time": "2022-08-17T10:34:25.784Z"
   },
   {
    "duration": 9,
    "start_time": "2022-08-17T10:34:25.807Z"
   },
   {
    "duration": 5,
    "start_time": "2022-08-17T10:34:25.817Z"
   },
   {
    "duration": 17,
    "start_time": "2022-08-17T10:34:25.823Z"
   },
   {
    "duration": 185,
    "start_time": "2022-08-17T10:34:25.841Z"
   },
   {
    "duration": 146,
    "start_time": "2022-08-17T10:34:26.028Z"
   },
   {
    "duration": 16,
    "start_time": "2022-08-17T10:34:26.176Z"
   },
   {
    "duration": 398,
    "start_time": "2022-08-17T10:34:26.193Z"
   },
   {
    "duration": 392,
    "start_time": "2022-08-17T10:34:26.594Z"
   },
   {
    "duration": 424,
    "start_time": "2022-08-17T10:34:26.988Z"
   },
   {
    "duration": 395,
    "start_time": "2022-08-17T10:34:27.414Z"
   },
   {
    "duration": 446,
    "start_time": "2022-08-17T10:34:27.811Z"
   },
   {
    "duration": 21,
    "start_time": "2022-08-17T10:34:28.259Z"
   },
   {
    "duration": 205,
    "start_time": "2022-08-17T10:34:28.282Z"
   },
   {
    "duration": 6,
    "start_time": "2022-08-17T10:34:28.489Z"
   },
   {
    "duration": 189,
    "start_time": "2022-08-17T10:34:28.497Z"
   },
   {
    "duration": 6,
    "start_time": "2022-08-17T10:34:28.688Z"
   },
   {
    "duration": 16,
    "start_time": "2022-08-17T10:34:28.695Z"
   },
   {
    "duration": 6,
    "start_time": "2022-08-17T10:34:28.713Z"
   },
   {
    "duration": 10,
    "start_time": "2022-08-17T10:34:28.721Z"
   },
   {
    "duration": 36,
    "start_time": "2022-08-17T10:34:28.733Z"
   },
   {
    "duration": 9,
    "start_time": "2022-08-17T10:34:28.771Z"
   },
   {
    "duration": 25,
    "start_time": "2022-08-17T10:34:28.782Z"
   },
   {
    "duration": 8,
    "start_time": "2022-08-17T10:34:28.809Z"
   },
   {
    "duration": 12,
    "start_time": "2022-08-17T10:34:28.819Z"
   },
   {
    "duration": 1187,
    "start_time": "2022-08-17T15:10:38.606Z"
   },
   {
    "duration": 36,
    "start_time": "2022-08-17T15:10:39.796Z"
   },
   {
    "duration": 18,
    "start_time": "2022-08-17T15:10:39.834Z"
   },
   {
    "duration": 57,
    "start_time": "2022-08-17T15:10:39.854Z"
   },
   {
    "duration": 61,
    "start_time": "2022-08-17T15:10:39.913Z"
   },
   {
    "duration": 24,
    "start_time": "2022-08-17T15:10:39.977Z"
   },
   {
    "duration": 21,
    "start_time": "2022-08-17T15:10:40.003Z"
   },
   {
    "duration": 6,
    "start_time": "2022-08-17T15:10:40.026Z"
   },
   {
    "duration": 16,
    "start_time": "2022-08-17T15:10:40.034Z"
   },
   {
    "duration": 207,
    "start_time": "2022-08-17T15:10:40.053Z"
   },
   {
    "duration": 158,
    "start_time": "2022-08-17T15:10:40.262Z"
   },
   {
    "duration": 13,
    "start_time": "2022-08-17T15:10:40.422Z"
   },
   {
    "duration": 378,
    "start_time": "2022-08-17T15:10:40.437Z"
   },
   {
    "duration": 357,
    "start_time": "2022-08-17T15:10:40.817Z"
   },
   {
    "duration": 456,
    "start_time": "2022-08-17T15:10:41.176Z"
   },
   {
    "duration": 379,
    "start_time": "2022-08-17T15:10:41.634Z"
   },
   {
    "duration": 437,
    "start_time": "2022-08-17T15:10:42.015Z"
   },
   {
    "duration": 14,
    "start_time": "2022-08-17T15:10:42.453Z"
   },
   {
    "duration": 178,
    "start_time": "2022-08-17T15:10:42.469Z"
   },
   {
    "duration": 5,
    "start_time": "2022-08-17T15:10:42.649Z"
   },
   {
    "duration": 175,
    "start_time": "2022-08-17T15:10:42.655Z"
   },
   {
    "duration": 5,
    "start_time": "2022-08-17T15:10:42.832Z"
   },
   {
    "duration": 23,
    "start_time": "2022-08-17T15:10:42.839Z"
   },
   {
    "duration": 7,
    "start_time": "2022-08-17T15:10:42.864Z"
   },
   {
    "duration": 12,
    "start_time": "2022-08-17T15:10:42.872Z"
   },
   {
    "duration": 8,
    "start_time": "2022-08-17T15:10:42.903Z"
   },
   {
    "duration": 11,
    "start_time": "2022-08-17T15:10:42.913Z"
   },
   {
    "duration": 16,
    "start_time": "2022-08-17T15:10:42.927Z"
   },
   {
    "duration": 6,
    "start_time": "2022-08-17T15:10:42.946Z"
   },
   {
    "duration": 17,
    "start_time": "2022-08-17T15:10:42.954Z"
   }
  ],
  "kernelspec": {
   "display_name": "Python 3 (ipykernel)",
   "language": "python",
   "name": "python3"
  },
  "language_info": {
   "codemirror_mode": {
    "name": "ipython",
    "version": 3
   },
   "file_extension": ".py",
   "mimetype": "text/x-python",
   "name": "python",
   "nbconvert_exporter": "python",
   "pygments_lexer": "ipython3",
   "version": "3.9.12"
  },
  "toc": {
   "base_numbering": 1,
   "nav_menu": {},
   "number_sections": true,
   "sideBar": true,
   "skip_h1_title": true,
   "title_cell": "Table of Contents",
   "title_sidebar": "Contents",
   "toc_cell": false,
   "toc_position": {},
   "toc_section_display": true,
   "toc_window_display": false
  }
 },
 "nbformat": 4,
 "nbformat_minor": 2
}
