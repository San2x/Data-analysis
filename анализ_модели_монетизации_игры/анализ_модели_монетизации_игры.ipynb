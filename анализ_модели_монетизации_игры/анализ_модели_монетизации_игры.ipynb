{
 "cells": [
  {
   "cell_type": "markdown",
   "metadata": {},
   "source": [
    "#  Материалы\n",
    "* [Презентация](https://disk.yandex.ru/i/hwz5kF6pHC6WAg)\n",
    "* [Дашборд](https://public.tableau.com/app/profile/bazedius/viz/_16665173922310/Dashboard1?publish=yes)"
   ]
  },
  {
   "cell_type": "markdown",
   "metadata": {},
   "source": [
    "# Формирование модели монетизации игрового приложения"
   ]
  },
  {
   "cell_type": "markdown",
   "metadata": {},
   "source": [
    "Существует некоторое игровое приложение, где игроки строят космическую базу, сражаются с другими игроками и/или пытаются обогнать их в техническом развитии. Так, завершение уровня требует от игрока выполнения одного из двух условий:\n",
    "- победа над первым врагом;\n",
    "- реализация проекта - разработка орбитальной сборки спутников.\n",
    "\n",
    "Предполагается, что приложение будет окупаться за счет рекламы. Основная монетизация игры на данном этапе только планируется. Но предварительно можно считать, что показ рекламы будет происходить на экране с выбором типа объекта для постройки. Подобный подход связан с важным противоречием:\n",
    "- пользователь уйдёт, если начать показывать ему рекламу раньше, чем игра его затянет;\n",
    "- чем позже создатели игры включат рекламу, тем меньше они заработают.\n",
    "\n",
    "Необходимо выбрать оптимальное время для запуска рекламы и, зная расходы на продвижение игры, рассчитать её окупаемость при разных сценариях, имея в распоряжении данные о первых игроках, которые начали пользоваться приложением в период с 4 по 10 мая включительно.\n",
    "\n",
    "Таким образом, задача может быть сформулирована следующим образом: сформировать модель монетизации игрового приложения с учетом порога снижения количества рекламы, обеспечивающего минимизацию недовольства пользователей при условии сохранения окупаемости.\n",
    "\n",
    "Решение данной задачи включает в себя реализацию нескольких основных этапов."
   ]
  },
  {
   "cell_type": "markdown",
   "metadata": {},
   "source": [
    "## Загрузка и предобработка данных"
   ]
  },
  {
   "cell_type": "markdown",
   "metadata": {},
   "source": [
    "Для начала загрузим необходимые в работе библиотеки."
   ]
  },
  {
   "cell_type": "code",
   "execution_count": 1,
   "metadata": {},
   "outputs": [],
   "source": [
    "# загружаем необходимые библиотеки\n",
    "import pandas as pd\n",
    "import numpy as np\n",
    "import matplotlib.pyplot as plt\n",
    "from scipy import stats as st\n",
    "from datetime import datetime, timedelta"
   ]
  },
  {
   "cell_type": "markdown",
   "metadata": {},
   "source": [
    "Далее последовательно загрузим и обработаем имеющиеся файлы с данными."
   ]
  },
  {
   "cell_type": "markdown",
   "metadata": {},
   "source": [
    "### Файл game_actions"
   ]
  },
  {
   "cell_type": "markdown",
   "metadata": {},
   "source": [
    "Загрузим данные из соответствующего файла."
   ]
  },
  {
   "cell_type": "code",
   "execution_count": 2,
   "metadata": {},
   "outputs": [],
   "source": [
    "# считываем файл\n",
    "actions = pd.read_csv('game_actions.csv')"
   ]
  },
  {
   "cell_type": "code",
   "execution_count": 3,
   "metadata": {},
   "outputs": [
    {
     "name": "stdout",
     "output_type": "stream",
     "text": [
      "<class 'pandas.core.frame.DataFrame'>\n",
      "RangeIndex: 135640 entries, 0 to 135639\n",
      "Data columns (total 5 columns):\n",
      " #   Column          Non-Null Count   Dtype \n",
      "---  ------          --------------   ----- \n",
      " 0   event_datetime  135640 non-null  object\n",
      " 1   event           135640 non-null  object\n",
      " 2   building_type   127957 non-null  object\n",
      " 3   user_id         135640 non-null  object\n",
      " 4   project_type    1866 non-null    object\n",
      "dtypes: object(5)\n",
      "memory usage: 5.2+ MB\n"
     ]
    },
    {
     "data": {
      "text/html": [
       "<div>\n",
       "<style scoped>\n",
       "    .dataframe tbody tr th:only-of-type {\n",
       "        vertical-align: middle;\n",
       "    }\n",
       "\n",
       "    .dataframe tbody tr th {\n",
       "        vertical-align: top;\n",
       "    }\n",
       "\n",
       "    .dataframe thead th {\n",
       "        text-align: right;\n",
       "    }\n",
       "</style>\n",
       "<table border=\"1\" class=\"dataframe\">\n",
       "  <thead>\n",
       "    <tr style=\"text-align: right;\">\n",
       "      <th></th>\n",
       "      <th>event_datetime</th>\n",
       "      <th>event</th>\n",
       "      <th>building_type</th>\n",
       "      <th>user_id</th>\n",
       "      <th>project_type</th>\n",
       "    </tr>\n",
       "  </thead>\n",
       "  <tbody>\n",
       "    <tr>\n",
       "      <th>0</th>\n",
       "      <td>2020-05-04 00:00:01</td>\n",
       "      <td>building</td>\n",
       "      <td>assembly_shop</td>\n",
       "      <td>55e92310-cb8e-4754-b622-597e124b03de</td>\n",
       "      <td>NaN</td>\n",
       "    </tr>\n",
       "    <tr>\n",
       "      <th>1</th>\n",
       "      <td>2020-05-04 00:00:03</td>\n",
       "      <td>building</td>\n",
       "      <td>assembly_shop</td>\n",
       "      <td>c07b1c10-f477-44dc-81dc-ec82254b1347</td>\n",
       "      <td>NaN</td>\n",
       "    </tr>\n",
       "    <tr>\n",
       "      <th>2</th>\n",
       "      <td>2020-05-04 00:00:16</td>\n",
       "      <td>building</td>\n",
       "      <td>assembly_shop</td>\n",
       "      <td>6edd42cc-e753-4ff6-a947-2107cd560710</td>\n",
       "      <td>NaN</td>\n",
       "    </tr>\n",
       "    <tr>\n",
       "      <th>3</th>\n",
       "      <td>2020-05-04 00:00:16</td>\n",
       "      <td>building</td>\n",
       "      <td>assembly_shop</td>\n",
       "      <td>92c69003-d60a-444a-827f-8cc51bf6bf4c</td>\n",
       "      <td>NaN</td>\n",
       "    </tr>\n",
       "    <tr>\n",
       "      <th>4</th>\n",
       "      <td>2020-05-04 00:00:35</td>\n",
       "      <td>building</td>\n",
       "      <td>assembly_shop</td>\n",
       "      <td>cdc6bb92-0ccb-4490-9866-ef142f09139d</td>\n",
       "      <td>NaN</td>\n",
       "    </tr>\n",
       "  </tbody>\n",
       "</table>\n",
       "</div>"
      ],
      "text/plain": [
       "        event_datetime     event  building_type  \\\n",
       "0  2020-05-04 00:00:01  building  assembly_shop   \n",
       "1  2020-05-04 00:00:03  building  assembly_shop   \n",
       "2  2020-05-04 00:00:16  building  assembly_shop   \n",
       "3  2020-05-04 00:00:16  building  assembly_shop   \n",
       "4  2020-05-04 00:00:35  building  assembly_shop   \n",
       "\n",
       "                                user_id project_type  \n",
       "0  55e92310-cb8e-4754-b622-597e124b03de          NaN  \n",
       "1  c07b1c10-f477-44dc-81dc-ec82254b1347          NaN  \n",
       "2  6edd42cc-e753-4ff6-a947-2107cd560710          NaN  \n",
       "3  92c69003-d60a-444a-827f-8cc51bf6bf4c          NaN  \n",
       "4  cdc6bb92-0ccb-4490-9866-ef142f09139d          NaN  "
      ]
     },
     "execution_count": 3,
     "metadata": {},
     "output_type": "execute_result"
    }
   ],
   "source": [
    "# выводим основную информацию\n",
    "actions.info()\n",
    "actions.head()"
   ]
  },
  {
   "cell_type": "markdown",
   "metadata": {},
   "source": [
    "Мы видим, что в целом названия колонок имеют корректный вид, однако данные в колонке с датой и временем представлены в строковом формате, исправим это."
   ]
  },
  {
   "cell_type": "code",
   "execution_count": 4,
   "metadata": {},
   "outputs": [],
   "source": [
    "# меняем тип данных в столбце с датой и временем\n",
    "actions['event_datetime'] = pd.to_datetime(actions['event_datetime'])"
   ]
  },
  {
   "cell_type": "markdown",
   "metadata": {},
   "source": [
    "Мы также видим, что в двух столбцах есть пропуска. Начнем обработку со столбца building_type. Сперва посмотрим какие вообще значения принимают записи из этого столбца."
   ]
  },
  {
   "cell_type": "code",
   "execution_count": 5,
   "metadata": {},
   "outputs": [
    {
     "data": {
      "text/plain": [
       "array(['assembly_shop', 'spaceport', nan, 'research_center'], dtype=object)"
      ]
     },
     "execution_count": 5,
     "metadata": {},
     "output_type": "execute_result"
    }
   ],
   "source": [
    "# выводим уникальные значения в столбце building_type\n",
    "actions['building_type'].unique()"
   ]
  },
  {
   "cell_type": "markdown",
   "metadata": {},
   "source": [
    "Можно предположить, что пустые значения в столбце building_type относятся к событиям, не связанным со строительством зданий. Проверим это."
   ]
  },
  {
   "cell_type": "code",
   "execution_count": 6,
   "metadata": {},
   "outputs": [
    {
     "data": {
      "text/plain": [
       "finished_stage_1    5817\n",
       "project             1866\n",
       "Name: event, dtype: int64"
      ]
     },
     "execution_count": 6,
     "metadata": {},
     "output_type": "execute_result"
    }
   ],
   "source": [
    "# выводим типы и число событий с пустыми значениями в столбце building_type\n",
    "actions[actions['building_type'].isna()]['event'].value_counts()"
   ]
  },
  {
   "cell_type": "markdown",
   "metadata": {},
   "source": [
    "Действительно, все события без указания типа здания относятся к событиям, завершающим игру. А количество таких событий указывает на отсутствие \"реальных\" пропусков в данных об объектах строительства. Чтобы окончательно убедится в этом, посмотрим отдельно информацию по событиям, относящимся к строительству зданий."
   ]
  },
  {
   "cell_type": "code",
   "execution_count": 7,
   "metadata": {},
   "outputs": [
    {
     "name": "stdout",
     "output_type": "stream",
     "text": [
      "<class 'pandas.core.frame.DataFrame'>\n",
      "Int64Index: 127957 entries, 0 to 135637\n",
      "Data columns (total 5 columns):\n",
      " #   Column          Non-Null Count   Dtype         \n",
      "---  ------          --------------   -----         \n",
      " 0   event_datetime  127957 non-null  datetime64[ns]\n",
      " 1   event           127957 non-null  object        \n",
      " 2   building_type   127957 non-null  object        \n",
      " 3   user_id         127957 non-null  object        \n",
      " 4   project_type    0 non-null       object        \n",
      "dtypes: datetime64[ns](1), object(4)\n",
      "memory usage: 5.9+ MB\n"
     ]
    }
   ],
   "source": [
    "# выводим основную информацию только по событиям типа building\n",
    "actions[actions['event'] == 'building'].info()"
   ]
  },
  {
   "cell_type": "markdown",
   "metadata": {},
   "source": [
    "Таким образом, в столбце building_type нет \"реальных\" пропусков."
   ]
  },
  {
   "cell_type": "markdown",
   "metadata": {},
   "source": [
    "Аналогичным способом изучим пропуска в столбце project_type, предположив, что записи в нем относятся только к событиям, связанным с реализацией проекта."
   ]
  },
  {
   "cell_type": "code",
   "execution_count": 8,
   "metadata": {},
   "outputs": [
    {
     "data": {
      "text/plain": [
       "array([nan, 'satellite_orbital_assembly'], dtype=object)"
      ]
     },
     "execution_count": 8,
     "metadata": {},
     "output_type": "execute_result"
    }
   ],
   "source": [
    "# выводим уникальные значения в столбце project_type\n",
    "actions['project_type'].unique()"
   ]
  },
  {
   "cell_type": "code",
   "execution_count": 9,
   "metadata": {},
   "outputs": [
    {
     "data": {
      "text/plain": [
       "building            127957\n",
       "finished_stage_1      5817\n",
       "Name: event, dtype: int64"
      ]
     },
     "execution_count": 9,
     "metadata": {},
     "output_type": "execute_result"
    }
   ],
   "source": [
    "# выводим типы и число событий с пустыми значениями в столбце project_type\n",
    "actions[actions['project_type'].isna()]['event'].value_counts()"
   ]
  },
  {
   "cell_type": "code",
   "execution_count": 10,
   "metadata": {},
   "outputs": [
    {
     "name": "stdout",
     "output_type": "stream",
     "text": [
      "<class 'pandas.core.frame.DataFrame'>\n",
      "Int64Index: 1866 entries, 47121 to 135630\n",
      "Data columns (total 5 columns):\n",
      " #   Column          Non-Null Count  Dtype         \n",
      "---  ------          --------------  -----         \n",
      " 0   event_datetime  1866 non-null   datetime64[ns]\n",
      " 1   event           1866 non-null   object        \n",
      " 2   building_type   0 non-null      object        \n",
      " 3   user_id         1866 non-null   object        \n",
      " 4   project_type    1866 non-null   object        \n",
      "dtypes: datetime64[ns](1), object(4)\n",
      "memory usage: 87.5+ KB\n"
     ]
    }
   ],
   "source": [
    "# выводим основную информацию только по событиям типа project\n",
    "actions[actions['event'] == 'project'].info()"
   ]
  },
  {
   "cell_type": "markdown",
   "metadata": {},
   "source": [
    "Таким образом, в столбце project_type также нет \"реальных\" пропусков."
   ]
  },
  {
   "cell_type": "markdown",
   "metadata": {},
   "source": [
    "Теперь проверим данные на дубликаты. "
   ]
  },
  {
   "cell_type": "code",
   "execution_count": 11,
   "metadata": {},
   "outputs": [
    {
     "data": {
      "text/html": [
       "<div>\n",
       "<style scoped>\n",
       "    .dataframe tbody tr th:only-of-type {\n",
       "        vertical-align: middle;\n",
       "    }\n",
       "\n",
       "    .dataframe tbody tr th {\n",
       "        vertical-align: top;\n",
       "    }\n",
       "\n",
       "    .dataframe thead th {\n",
       "        text-align: right;\n",
       "    }\n",
       "</style>\n",
       "<table border=\"1\" class=\"dataframe\">\n",
       "  <thead>\n",
       "    <tr style=\"text-align: right;\">\n",
       "      <th></th>\n",
       "      <th>event_datetime</th>\n",
       "      <th>event</th>\n",
       "      <th>building_type</th>\n",
       "      <th>user_id</th>\n",
       "      <th>project_type</th>\n",
       "    </tr>\n",
       "  </thead>\n",
       "  <tbody>\n",
       "    <tr>\n",
       "      <th>74890</th>\n",
       "      <td>2020-05-10 18:41:56</td>\n",
       "      <td>building</td>\n",
       "      <td>research_center</td>\n",
       "      <td>c9af55d2-b0ae-4bb4-b3d5-f32aa9ac03af</td>\n",
       "      <td>NaN</td>\n",
       "    </tr>\n",
       "    <tr>\n",
       "      <th>74891</th>\n",
       "      <td>2020-05-10 18:41:56</td>\n",
       "      <td>building</td>\n",
       "      <td>research_center</td>\n",
       "      <td>c9af55d2-b0ae-4bb4-b3d5-f32aa9ac03af</td>\n",
       "      <td>NaN</td>\n",
       "    </tr>\n",
       "  </tbody>\n",
       "</table>\n",
       "</div>"
      ],
      "text/plain": [
       "           event_datetime     event    building_type  \\\n",
       "74890 2020-05-10 18:41:56  building  research_center   \n",
       "74891 2020-05-10 18:41:56  building  research_center   \n",
       "\n",
       "                                    user_id project_type  \n",
       "74890  c9af55d2-b0ae-4bb4-b3d5-f32aa9ac03af          NaN  \n",
       "74891  c9af55d2-b0ae-4bb4-b3d5-f32aa9ac03af          NaN  "
      ]
     },
     "execution_count": 11,
     "metadata": {},
     "output_type": "execute_result"
    }
   ],
   "source": [
    "# выведем повторяющиеся строки при их наличии\n",
    "actions[actions.duplicated(keep=False)]"
   ]
  },
  {
   "cell_type": "markdown",
   "metadata": {},
   "source": [
    "Всего одна строчка дублирует другую. От такого повтора вполне можно избавиться, не опасаясь за полноту данных."
   ]
  },
  {
   "cell_type": "code",
   "execution_count": 12,
   "metadata": {},
   "outputs": [],
   "source": [
    "# устраняем дубликаты\n",
    "actions = actions.drop_duplicates()"
   ]
  },
  {
   "cell_type": "markdown",
   "metadata": {},
   "source": [
    "Проверим внесенные изменения."
   ]
  },
  {
   "cell_type": "code",
   "execution_count": 13,
   "metadata": {},
   "outputs": [
    {
     "name": "stdout",
     "output_type": "stream",
     "text": [
      "<class 'pandas.core.frame.DataFrame'>\n",
      "Int64Index: 135639 entries, 0 to 135639\n",
      "Data columns (total 5 columns):\n",
      " #   Column          Non-Null Count   Dtype         \n",
      "---  ------          --------------   -----         \n",
      " 0   event_datetime  135639 non-null  datetime64[ns]\n",
      " 1   event           135639 non-null  object        \n",
      " 2   building_type   127956 non-null  object        \n",
      " 3   user_id         135639 non-null  object        \n",
      " 4   project_type    1866 non-null    object        \n",
      "dtypes: datetime64[ns](1), object(4)\n",
      "memory usage: 6.2+ MB\n"
     ]
    },
    {
     "data": {
      "text/html": [
       "<div>\n",
       "<style scoped>\n",
       "    .dataframe tbody tr th:only-of-type {\n",
       "        vertical-align: middle;\n",
       "    }\n",
       "\n",
       "    .dataframe tbody tr th {\n",
       "        vertical-align: top;\n",
       "    }\n",
       "\n",
       "    .dataframe thead th {\n",
       "        text-align: right;\n",
       "    }\n",
       "</style>\n",
       "<table border=\"1\" class=\"dataframe\">\n",
       "  <thead>\n",
       "    <tr style=\"text-align: right;\">\n",
       "      <th></th>\n",
       "      <th>event_datetime</th>\n",
       "      <th>event</th>\n",
       "      <th>building_type</th>\n",
       "      <th>user_id</th>\n",
       "      <th>project_type</th>\n",
       "    </tr>\n",
       "  </thead>\n",
       "  <tbody>\n",
       "    <tr>\n",
       "      <th>0</th>\n",
       "      <td>2020-05-04 00:00:01</td>\n",
       "      <td>building</td>\n",
       "      <td>assembly_shop</td>\n",
       "      <td>55e92310-cb8e-4754-b622-597e124b03de</td>\n",
       "      <td>NaN</td>\n",
       "    </tr>\n",
       "    <tr>\n",
       "      <th>1</th>\n",
       "      <td>2020-05-04 00:00:03</td>\n",
       "      <td>building</td>\n",
       "      <td>assembly_shop</td>\n",
       "      <td>c07b1c10-f477-44dc-81dc-ec82254b1347</td>\n",
       "      <td>NaN</td>\n",
       "    </tr>\n",
       "    <tr>\n",
       "      <th>2</th>\n",
       "      <td>2020-05-04 00:00:16</td>\n",
       "      <td>building</td>\n",
       "      <td>assembly_shop</td>\n",
       "      <td>6edd42cc-e753-4ff6-a947-2107cd560710</td>\n",
       "      <td>NaN</td>\n",
       "    </tr>\n",
       "    <tr>\n",
       "      <th>3</th>\n",
       "      <td>2020-05-04 00:00:16</td>\n",
       "      <td>building</td>\n",
       "      <td>assembly_shop</td>\n",
       "      <td>92c69003-d60a-444a-827f-8cc51bf6bf4c</td>\n",
       "      <td>NaN</td>\n",
       "    </tr>\n",
       "    <tr>\n",
       "      <th>4</th>\n",
       "      <td>2020-05-04 00:00:35</td>\n",
       "      <td>building</td>\n",
       "      <td>assembly_shop</td>\n",
       "      <td>cdc6bb92-0ccb-4490-9866-ef142f09139d</td>\n",
       "      <td>NaN</td>\n",
       "    </tr>\n",
       "  </tbody>\n",
       "</table>\n",
       "</div>"
      ],
      "text/plain": [
       "       event_datetime     event  building_type  \\\n",
       "0 2020-05-04 00:00:01  building  assembly_shop   \n",
       "1 2020-05-04 00:00:03  building  assembly_shop   \n",
       "2 2020-05-04 00:00:16  building  assembly_shop   \n",
       "3 2020-05-04 00:00:16  building  assembly_shop   \n",
       "4 2020-05-04 00:00:35  building  assembly_shop   \n",
       "\n",
       "                                user_id project_type  \n",
       "0  55e92310-cb8e-4754-b622-597e124b03de          NaN  \n",
       "1  c07b1c10-f477-44dc-81dc-ec82254b1347          NaN  \n",
       "2  6edd42cc-e753-4ff6-a947-2107cd560710          NaN  \n",
       "3  92c69003-d60a-444a-827f-8cc51bf6bf4c          NaN  \n",
       "4  cdc6bb92-0ccb-4490-9866-ef142f09139d          NaN  "
      ]
     },
     "execution_count": 13,
     "metadata": {},
     "output_type": "execute_result"
    }
   ],
   "source": [
    "# выводим основную информацию\n",
    "actions.info()\n",
    "actions.head()"
   ]
  },
  {
   "cell_type": "markdown",
   "metadata": {},
   "source": [
    "Типа данных был успешно изменен, а одна строчка с повтором удалена."
   ]
  },
  {
   "cell_type": "markdown",
   "metadata": {},
   "source": [
    "### Файл ad_costs"
   ]
  },
  {
   "cell_type": "markdown",
   "metadata": {},
   "source": [
    "Загрузим данные из соответствующего файла."
   ]
  },
  {
   "cell_type": "code",
   "execution_count": 14,
   "metadata": {},
   "outputs": [],
   "source": [
    "# считываем файл\n",
    "costs = pd.read_csv('ad_costs.csv')"
   ]
  },
  {
   "cell_type": "code",
   "execution_count": 15,
   "metadata": {},
   "outputs": [
    {
     "name": "stdout",
     "output_type": "stream",
     "text": [
      "<class 'pandas.core.frame.DataFrame'>\n",
      "RangeIndex: 28 entries, 0 to 27\n",
      "Data columns (total 3 columns):\n",
      " #   Column  Non-Null Count  Dtype  \n",
      "---  ------  --------------  -----  \n",
      " 0   source  28 non-null     object \n",
      " 1   day     28 non-null     object \n",
      " 2   cost    28 non-null     float64\n",
      "dtypes: float64(1), object(2)\n",
      "memory usage: 800.0+ bytes\n"
     ]
    },
    {
     "data": {
      "text/html": [
       "<div>\n",
       "<style scoped>\n",
       "    .dataframe tbody tr th:only-of-type {\n",
       "        vertical-align: middle;\n",
       "    }\n",
       "\n",
       "    .dataframe tbody tr th {\n",
       "        vertical-align: top;\n",
       "    }\n",
       "\n",
       "    .dataframe thead th {\n",
       "        text-align: right;\n",
       "    }\n",
       "</style>\n",
       "<table border=\"1\" class=\"dataframe\">\n",
       "  <thead>\n",
       "    <tr style=\"text-align: right;\">\n",
       "      <th></th>\n",
       "      <th>source</th>\n",
       "      <th>day</th>\n",
       "      <th>cost</th>\n",
       "    </tr>\n",
       "  </thead>\n",
       "  <tbody>\n",
       "    <tr>\n",
       "      <th>0</th>\n",
       "      <td>facebook_ads</td>\n",
       "      <td>2020-05-03</td>\n",
       "      <td>935.882786</td>\n",
       "    </tr>\n",
       "    <tr>\n",
       "      <th>1</th>\n",
       "      <td>facebook_ads</td>\n",
       "      <td>2020-05-04</td>\n",
       "      <td>548.354480</td>\n",
       "    </tr>\n",
       "    <tr>\n",
       "      <th>2</th>\n",
       "      <td>facebook_ads</td>\n",
       "      <td>2020-05-05</td>\n",
       "      <td>260.185754</td>\n",
       "    </tr>\n",
       "    <tr>\n",
       "      <th>3</th>\n",
       "      <td>facebook_ads</td>\n",
       "      <td>2020-05-06</td>\n",
       "      <td>177.982200</td>\n",
       "    </tr>\n",
       "    <tr>\n",
       "      <th>4</th>\n",
       "      <td>facebook_ads</td>\n",
       "      <td>2020-05-07</td>\n",
       "      <td>111.766796</td>\n",
       "    </tr>\n",
       "  </tbody>\n",
       "</table>\n",
       "</div>"
      ],
      "text/plain": [
       "         source         day        cost\n",
       "0  facebook_ads  2020-05-03  935.882786\n",
       "1  facebook_ads  2020-05-04  548.354480\n",
       "2  facebook_ads  2020-05-05  260.185754\n",
       "3  facebook_ads  2020-05-06  177.982200\n",
       "4  facebook_ads  2020-05-07  111.766796"
      ]
     },
     "execution_count": 15,
     "metadata": {},
     "output_type": "execute_result"
    }
   ],
   "source": [
    "# выводим основную информацию\n",
    "costs.info()\n",
    "costs.head()"
   ]
  },
  {
   "cell_type": "markdown",
   "metadata": {},
   "source": [
    "В целом данные выглядят нормально. Заменим тип данных в столбце c указанием дня."
   ]
  },
  {
   "cell_type": "code",
   "execution_count": 16,
   "metadata": {},
   "outputs": [],
   "source": [
    "# меняем тип данных в столбце с датой\n",
    "costs['day'] = pd.to_datetime(costs['day'])"
   ]
  },
  {
   "cell_type": "markdown",
   "metadata": {},
   "source": [
    "Также посмотрим отдельно на значения в столбцах source и day."
   ]
  },
  {
   "cell_type": "code",
   "execution_count": 17,
   "metadata": {},
   "outputs": [
    {
     "data": {
      "text/plain": [
       "array(['facebook_ads', 'instagram_new_adverts', 'yandex_direct',\n",
       "       'youtube_channel_reklama'], dtype=object)"
      ]
     },
     "execution_count": 17,
     "metadata": {},
     "output_type": "execute_result"
    }
   ],
   "source": [
    "# выводим уникальные значения в столбце source\n",
    "costs['source'].unique()"
   ]
  },
  {
   "cell_type": "markdown",
   "metadata": {},
   "source": [
    "Всего пользователи приходят в приложение из 4-х различных каналов привлечения."
   ]
  },
  {
   "cell_type": "code",
   "execution_count": 18,
   "metadata": {},
   "outputs": [
    {
     "data": {
      "text/plain": [
       "array(['2020-05-03T00:00:00.000000000', '2020-05-04T00:00:00.000000000',\n",
       "       '2020-05-05T00:00:00.000000000', '2020-05-06T00:00:00.000000000',\n",
       "       '2020-05-07T00:00:00.000000000', '2020-05-08T00:00:00.000000000',\n",
       "       '2020-05-09T00:00:00.000000000'], dtype='datetime64[ns]')"
      ]
     },
     "execution_count": 18,
     "metadata": {},
     "output_type": "execute_result"
    }
   ],
   "source": [
    "# выводим уникальные значения в столбце day\n",
    "costs['day'].unique()"
   ]
  },
  {
   "cell_type": "markdown",
   "metadata": {},
   "source": [
    "Похоже, что даты привлечения пользователей \"смещены\" на один день относительно периода анализа их активности. Учтем это в последующих расчетах рентабельности."
   ]
  },
  {
   "cell_type": "markdown",
   "metadata": {},
   "source": [
    "### Файл user_source"
   ]
  },
  {
   "cell_type": "code",
   "execution_count": 19,
   "metadata": {},
   "outputs": [],
   "source": [
    "# считываем файл\n",
    "sources = pd.read_csv('user_source.csv')"
   ]
  },
  {
   "cell_type": "code",
   "execution_count": 20,
   "metadata": {},
   "outputs": [
    {
     "name": "stdout",
     "output_type": "stream",
     "text": [
      "<class 'pandas.core.frame.DataFrame'>\n",
      "RangeIndex: 13576 entries, 0 to 13575\n",
      "Data columns (total 2 columns):\n",
      " #   Column   Non-Null Count  Dtype \n",
      "---  ------   --------------  ----- \n",
      " 0   user_id  13576 non-null  object\n",
      " 1   source   13576 non-null  object\n",
      "dtypes: object(2)\n",
      "memory usage: 212.2+ KB\n"
     ]
    },
    {
     "data": {
      "text/html": [
       "<div>\n",
       "<style scoped>\n",
       "    .dataframe tbody tr th:only-of-type {\n",
       "        vertical-align: middle;\n",
       "    }\n",
       "\n",
       "    .dataframe tbody tr th {\n",
       "        vertical-align: top;\n",
       "    }\n",
       "\n",
       "    .dataframe thead th {\n",
       "        text-align: right;\n",
       "    }\n",
       "</style>\n",
       "<table border=\"1\" class=\"dataframe\">\n",
       "  <thead>\n",
       "    <tr style=\"text-align: right;\">\n",
       "      <th></th>\n",
       "      <th>user_id</th>\n",
       "      <th>source</th>\n",
       "    </tr>\n",
       "  </thead>\n",
       "  <tbody>\n",
       "    <tr>\n",
       "      <th>0</th>\n",
       "      <td>0001f83c-c6ac-4621-b7f0-8a28b283ac30</td>\n",
       "      <td>facebook_ads</td>\n",
       "    </tr>\n",
       "    <tr>\n",
       "      <th>1</th>\n",
       "      <td>00151b4f-ba38-44a8-a650-d7cf130a0105</td>\n",
       "      <td>yandex_direct</td>\n",
       "    </tr>\n",
       "    <tr>\n",
       "      <th>2</th>\n",
       "      <td>001aaea6-3d14-43f1-8ca8-7f48820f17aa</td>\n",
       "      <td>youtube_channel_reklama</td>\n",
       "    </tr>\n",
       "    <tr>\n",
       "      <th>3</th>\n",
       "      <td>001d39dc-366c-4021-9604-6a3b9ff01e25</td>\n",
       "      <td>instagram_new_adverts</td>\n",
       "    </tr>\n",
       "    <tr>\n",
       "      <th>4</th>\n",
       "      <td>002f508f-67b6-479f-814b-b05f00d4e995</td>\n",
       "      <td>facebook_ads</td>\n",
       "    </tr>\n",
       "  </tbody>\n",
       "</table>\n",
       "</div>"
      ],
      "text/plain": [
       "                                user_id                   source\n",
       "0  0001f83c-c6ac-4621-b7f0-8a28b283ac30             facebook_ads\n",
       "1  00151b4f-ba38-44a8-a650-d7cf130a0105            yandex_direct\n",
       "2  001aaea6-3d14-43f1-8ca8-7f48820f17aa  youtube_channel_reklama\n",
       "3  001d39dc-366c-4021-9604-6a3b9ff01e25    instagram_new_adverts\n",
       "4  002f508f-67b6-479f-814b-b05f00d4e995             facebook_ads"
      ]
     },
     "execution_count": 20,
     "metadata": {},
     "output_type": "execute_result"
    }
   ],
   "source": [
    "# выводим основную информацию\n",
    "sources.info()\n",
    "sources.head()"
   ]
  },
  {
   "cell_type": "markdown",
   "metadata": {},
   "source": [
    "В целом данные также выглядят нормально. Посмотрим отдельно на значения в столбце source."
   ]
  },
  {
   "cell_type": "code",
   "execution_count": 21,
   "metadata": {},
   "outputs": [
    {
     "data": {
      "text/plain": [
       "array(['facebook_ads', 'yandex_direct', 'youtube_channel_reklama',\n",
       "       'instagram_new_adverts'], dtype=object)"
      ]
     },
     "execution_count": 21,
     "metadata": {},
     "output_type": "execute_result"
    }
   ],
   "source": [
    "# выводим уникальные значения в столбце source\n",
    "sources['source'].unique()"
   ]
  },
  {
   "cell_type": "markdown",
   "metadata": {},
   "source": [
    "Источники привлечения в данном случае совпадают с источниками из предыдущего датасета."
   ]
  },
  {
   "cell_type": "markdown",
   "metadata": {},
   "source": [
    "Теперь проверим данные на дубликаты."
   ]
  },
  {
   "cell_type": "code",
   "execution_count": 22,
   "metadata": {},
   "outputs": [
    {
     "data": {
      "text/html": [
       "<div>\n",
       "<style scoped>\n",
       "    .dataframe tbody tr th:only-of-type {\n",
       "        vertical-align: middle;\n",
       "    }\n",
       "\n",
       "    .dataframe tbody tr th {\n",
       "        vertical-align: top;\n",
       "    }\n",
       "\n",
       "    .dataframe thead th {\n",
       "        text-align: right;\n",
       "    }\n",
       "</style>\n",
       "<table border=\"1\" class=\"dataframe\">\n",
       "  <thead>\n",
       "    <tr style=\"text-align: right;\">\n",
       "      <th></th>\n",
       "      <th>user_id</th>\n",
       "      <th>source</th>\n",
       "    </tr>\n",
       "  </thead>\n",
       "  <tbody>\n",
       "  </tbody>\n",
       "</table>\n",
       "</div>"
      ],
      "text/plain": [
       "Empty DataFrame\n",
       "Columns: [user_id, source]\n",
       "Index: []"
      ]
     },
     "execution_count": 22,
     "metadata": {},
     "output_type": "execute_result"
    }
   ],
   "source": [
    "# выведем повторяющиеся строки при их наличии\n",
    "sources[sources.duplicated(keep=False)]"
   ]
  },
  {
   "cell_type": "markdown",
   "metadata": {},
   "source": [
    "Дубликатов не было выявлено. Пропуска в данных тоже отсутствуют, исходя из сводки основной информации."
   ]
  },
  {
   "cell_type": "markdown",
   "metadata": {},
   "source": [
    "## Исследовательский анализ данных"
   ]
  },
  {
   "cell_type": "markdown",
   "metadata": {},
   "source": [
    "Посчитаем количество событий, приходящихся в среднем на одного пользователя."
   ]
  },
  {
   "cell_type": "code",
   "execution_count": 23,
   "metadata": {},
   "outputs": [
    {
     "data": {
      "text/plain": [
       "13576"
      ]
     },
     "execution_count": 23,
     "metadata": {},
     "output_type": "execute_result"
    }
   ],
   "source": [
    "# посчитаем число уникальных пользователей\n",
    "users = len(actions['user_id'].unique())\n",
    "\n",
    "users"
   ]
  },
  {
   "cell_type": "code",
   "execution_count": 24,
   "metadata": {},
   "outputs": [
    {
     "data": {
      "text/plain": [
       "135639"
      ]
     },
     "execution_count": 24,
     "metadata": {},
     "output_type": "execute_result"
    }
   ],
   "source": [
    "# посчитаем число всех событий\n",
    "events = len(actions)\n",
    "\n",
    "events"
   ]
  },
  {
   "cell_type": "code",
   "execution_count": 25,
   "metadata": {},
   "outputs": [
    {
     "data": {
      "text/plain": [
       "9.991087212728344"
      ]
     },
     "execution_count": 25,
     "metadata": {},
     "output_type": "execute_result"
    }
   ],
   "source": [
    "# посчитаем число событий на одного пользователя\n",
    "events/users"
   ]
  },
  {
   "cell_type": "markdown",
   "metadata": {},
   "source": [
    "Получается, что на одного пользователя приходится примерно 10 событий из списка доступных действий. Но, так как нас в первую очередь интересует количество \"рекламных\" событий, а реклама в приложении привязана к выбору постройки, посчитаем также абсолютное и относительное число событий, связанных со строительством зданий в игре. "
   ]
  },
  {
   "cell_type": "code",
   "execution_count": 26,
   "metadata": {},
   "outputs": [
    {
     "data": {
      "text/plain": [
       "127956"
      ]
     },
     "execution_count": 26,
     "metadata": {},
     "output_type": "execute_result"
    }
   ],
   "source": [
    "# посчитаем число событий, связанных со строительством \n",
    "builds = len(actions[actions['event'] == 'building'])\n",
    "\n",
    "builds"
   ]
  },
  {
   "cell_type": "code",
   "execution_count": 27,
   "metadata": {},
   "outputs": [
    {
     "data": {
      "text/plain": [
       "9.425162050677667"
      ]
     },
     "execution_count": 27,
     "metadata": {},
     "output_type": "execute_result"
    }
   ],
   "source": [
    "# посчитаем число событий, связанных со строительством, на одного пользователя\n",
    "builds/users"
   ]
  },
  {
   "cell_type": "markdown",
   "metadata": {},
   "source": [
    "Итого, один пользователь в среднем строит в игре порядка 9 зданий и видит такое же количество рекламных сообщений."
   ]
  },
  {
   "cell_type": "markdown",
   "metadata": {},
   "source": [
    "Теперь посмотрим на соотношение различных типов зданий, которые строят пользователи."
   ]
  },
  {
   "cell_type": "code",
   "execution_count": 28,
   "metadata": {},
   "outputs": [
    {
     "data": {
      "text/html": [
       "<div>\n",
       "<style scoped>\n",
       "    .dataframe tbody tr th:only-of-type {\n",
       "        vertical-align: middle;\n",
       "    }\n",
       "\n",
       "    .dataframe tbody tr th {\n",
       "        vertical-align: top;\n",
       "    }\n",
       "\n",
       "    .dataframe thead th {\n",
       "        text-align: right;\n",
       "    }\n",
       "</style>\n",
       "<table border=\"1\" class=\"dataframe\">\n",
       "  <thead>\n",
       "    <tr style=\"text-align: right;\">\n",
       "      <th></th>\n",
       "      <th>event</th>\n",
       "    </tr>\n",
       "    <tr>\n",
       "      <th>building_type</th>\n",
       "      <th></th>\n",
       "    </tr>\n",
       "  </thead>\n",
       "  <tbody>\n",
       "    <tr>\n",
       "      <th>assembly_shop</th>\n",
       "      <td>54494</td>\n",
       "    </tr>\n",
       "    <tr>\n",
       "      <th>research_center</th>\n",
       "      <td>14137</td>\n",
       "    </tr>\n",
       "    <tr>\n",
       "      <th>spaceport</th>\n",
       "      <td>59325</td>\n",
       "    </tr>\n",
       "  </tbody>\n",
       "</table>\n",
       "</div>"
      ],
      "text/plain": [
       "                 event\n",
       "building_type         \n",
       "assembly_shop    54494\n",
       "research_center  14137\n",
       "spaceport        59325"
      ]
     },
     "execution_count": 28,
     "metadata": {},
     "output_type": "execute_result"
    }
   ],
   "source": [
    "#считаем количество событий в группировке по типам строений\n",
    "buildings_grouped = actions.groupby('building_type').agg({'event': 'count'})\n",
    "\n",
    "buildings_grouped"
   ]
  },
  {
   "cell_type": "markdown",
   "metadata": {},
   "source": [
    "Для наглядности построим диаграмму на основе полученных данных."
   ]
  },
  {
   "cell_type": "code",
   "execution_count": 29,
   "metadata": {},
   "outputs": [
    {
     "data": {
      "image/png": "[encoded data removed]",
      "text/plain": [
       "<Figure size 504x504 with 1 Axes>"
      ]
     },
     "metadata": {},
     "output_type": "display_data"
    }
   ],
   "source": [
    "# строим круговую диаграмму\n",
    "plt.figure(figsize=(7, 7))\n",
    "plt.pie(buildings_grouped['event'], labels=buildings_grouped.index, autopct='%1.1f%%')\n",
    "plt.title('Доли числа строений по типам')\n",
    "plt.show()"
   ]
  },
  {
   "cell_type": "markdown",
   "metadata": {},
   "source": [
    "Сборный цех и космопорт игроки строят со сходной частотой (около 42-46%), а вот исследовательский центр - гораздо реже (11%), что логично, так как это строение требуется для реализации завершающего уровень проекта."
   ]
  },
  {
   "cell_type": "markdown",
   "metadata": {},
   "source": [
    "Теперь посмотрим на данные о рекламных затратах. Сперва поймем общую сумму затрат и величину затрат на одного пользователя."
   ]
  },
  {
   "cell_type": "code",
   "execution_count": 30,
   "metadata": {},
   "outputs": [
    {
     "data": {
      "text/plain": [
       "7603.576986788023"
      ]
     },
     "execution_count": 30,
     "metadata": {},
     "output_type": "execute_result"
    }
   ],
   "source": [
    "# посчитаем сумму затрат на привлечение\n",
    "total_costs = costs['cost'].sum()\n",
    "\n",
    "total_costs"
   ]
  },
  {
   "cell_type": "code",
   "execution_count": 31,
   "metadata": {},
   "outputs": [
    {
     "data": {
      "text/plain": [
       "0.5600749106355349"
      ]
     },
     "execution_count": 31,
     "metadata": {},
     "output_type": "execute_result"
    }
   ],
   "source": [
    "# посчитаем затраты на привлечение одного пользователя\n",
    "total_costs/users"
   ]
  },
  {
   "cell_type": "markdown",
   "metadata": {},
   "source": [
    "Таким образом, всего на привлечение пользователей тратится более 7600 условных единиц, а один пользовать \"стоит\" компании 0.56 у.е.   "
   ]
  },
  {
   "cell_type": "markdown",
   "metadata": {},
   "source": [
    "Посмотрим, как затраты распределяются по различным источникам."
   ]
  },
  {
   "cell_type": "code",
   "execution_count": 32,
   "metadata": {},
   "outputs": [
    {
     "data": {
      "text/html": [
       "<div>\n",
       "<style scoped>\n",
       "    .dataframe tbody tr th:only-of-type {\n",
       "        vertical-align: middle;\n",
       "    }\n",
       "\n",
       "    .dataframe tbody tr th {\n",
       "        vertical-align: top;\n",
       "    }\n",
       "\n",
       "    .dataframe thead th {\n",
       "        text-align: right;\n",
       "    }\n",
       "</style>\n",
       "<table border=\"1\" class=\"dataframe\">\n",
       "  <thead>\n",
       "    <tr style=\"text-align: right;\">\n",
       "      <th></th>\n",
       "      <th>cost</th>\n",
       "    </tr>\n",
       "    <tr>\n",
       "      <th>source</th>\n",
       "      <th></th>\n",
       "    </tr>\n",
       "  </thead>\n",
       "  <tbody>\n",
       "    <tr>\n",
       "      <th>facebook_ads</th>\n",
       "      <td>2140.904643</td>\n",
       "    </tr>\n",
       "    <tr>\n",
       "      <th>instagram_new_adverts</th>\n",
       "      <td>2161.441691</td>\n",
       "    </tr>\n",
       "    <tr>\n",
       "      <th>yandex_direct</th>\n",
       "      <td>2233.111449</td>\n",
       "    </tr>\n",
       "    <tr>\n",
       "      <th>youtube_channel_reklama</th>\n",
       "      <td>1068.119204</td>\n",
       "    </tr>\n",
       "  </tbody>\n",
       "</table>\n",
       "</div>"
      ],
      "text/plain": [
       "                                cost\n",
       "source                              \n",
       "facebook_ads             2140.904643\n",
       "instagram_new_adverts    2161.441691\n",
       "yandex_direct            2233.111449\n",
       "youtube_channel_reklama  1068.119204"
      ]
     },
     "execution_count": 32,
     "metadata": {},
     "output_type": "execute_result"
    }
   ],
   "source": [
    "#считаем сумму затрат в группировке по источникам\n",
    "costs_grouped = costs.groupby('source').agg({'cost': 'sum'})\n",
    "\n",
    "costs_grouped"
   ]
  },
  {
   "cell_type": "markdown",
   "metadata": {},
   "source": [
    "Для наглядности также построим диаграмму."
   ]
  },
  {
   "cell_type": "code",
   "execution_count": 33,
   "metadata": {},
   "outputs": [
    {
     "data": {
      "image/png": "[encoded data removed]",
      "text/plain": [
       "<Figure size 648x432 with 1 Axes>"
      ]
     },
     "metadata": {
      "needs_background": "light"
     },
     "output_type": "display_data"
    }
   ],
   "source": [
    "# строим столбчатую диаграмму\n",
    "plt.figure(figsize=(9, 6))\n",
    "plt.bar(costs_grouped.index, costs_grouped['cost'])\n",
    "plt.title('Объем затрат по источникам')\n",
    "plt.ylabel(\"затраты\")\n",
    "plt.show()"
   ]
  },
  {
   "cell_type": "markdown",
   "metadata": {},
   "source": [
    "На youtube тратится почти в два раза меньше средств, чем на любой другой источник. Насколько это разумно можно определить, посчитав удельные затраты на одного пользователя по различным источникам."
   ]
  },
  {
   "cell_type": "markdown",
   "metadata": {},
   "source": [
    "Для этого обратимся к последнему датасету и определим количество пользователей, пришедших в игру из разных источников."
   ]
  },
  {
   "cell_type": "code",
   "execution_count": 34,
   "metadata": {},
   "outputs": [
    {
     "data": {
      "text/html": [
       "<div>\n",
       "<style scoped>\n",
       "    .dataframe tbody tr th:only-of-type {\n",
       "        vertical-align: middle;\n",
       "    }\n",
       "\n",
       "    .dataframe tbody tr th {\n",
       "        vertical-align: top;\n",
       "    }\n",
       "\n",
       "    .dataframe thead th {\n",
       "        text-align: right;\n",
       "    }\n",
       "</style>\n",
       "<table border=\"1\" class=\"dataframe\">\n",
       "  <thead>\n",
       "    <tr style=\"text-align: right;\">\n",
       "      <th></th>\n",
       "      <th>user_id</th>\n",
       "    </tr>\n",
       "    <tr>\n",
       "      <th>source</th>\n",
       "      <th></th>\n",
       "    </tr>\n",
       "  </thead>\n",
       "  <tbody>\n",
       "    <tr>\n",
       "      <th>facebook_ads</th>\n",
       "      <td>2726</td>\n",
       "    </tr>\n",
       "    <tr>\n",
       "      <th>instagram_new_adverts</th>\n",
       "      <td>3347</td>\n",
       "    </tr>\n",
       "    <tr>\n",
       "      <th>yandex_direct</th>\n",
       "      <td>4817</td>\n",
       "    </tr>\n",
       "    <tr>\n",
       "      <th>youtube_channel_reklama</th>\n",
       "      <td>2686</td>\n",
       "    </tr>\n",
       "  </tbody>\n",
       "</table>\n",
       "</div>"
      ],
      "text/plain": [
       "                         user_id\n",
       "source                          \n",
       "facebook_ads                2726\n",
       "instagram_new_adverts       3347\n",
       "yandex_direct               4817\n",
       "youtube_channel_reklama     2686"
      ]
     },
     "execution_count": 34,
     "metadata": {},
     "output_type": "execute_result"
    }
   ],
   "source": [
    "#считаем количество пользователей в группировке по источникам\n",
    "sources_grouped = sources.groupby('source').agg({'user_id': 'count'})\n",
    "\n",
    "sources_grouped"
   ]
  },
  {
   "cell_type": "markdown",
   "metadata": {},
   "source": [
    "Опять же посмотрим на визуализацию такого распределения."
   ]
  },
  {
   "cell_type": "code",
   "execution_count": 35,
   "metadata": {},
   "outputs": [
    {
     "data": {
      "image/png": "[encoded data removed]",
      "text/plain": [
       "<Figure size 504x504 with 1 Axes>"
      ]
     },
     "metadata": {},
     "output_type": "display_data"
    }
   ],
   "source": [
    "# строим круговую диаграмму\n",
    "plt.figure(figsize=(7, 7))\n",
    "plt.pie(sources_grouped['user_id'], labels=sources_grouped.index, autopct='%1.1f%%')\n",
    "plt.title('Доли количества пользователей по источникам')\n",
    "plt.show()"
   ]
  },
  {
   "cell_type": "markdown",
   "metadata": {},
   "source": [
    "Больше всего пользователей (более 35%) приходит с yandex_direct, приток из остальных источников распределен более равномерно (по 20-25%)."
   ]
  },
  {
   "cell_type": "markdown",
   "metadata": {},
   "source": [
    "Для оценки удельных затрат объединим две полученные таблицы."
   ]
  },
  {
   "cell_type": "code",
   "execution_count": 36,
   "metadata": {},
   "outputs": [
    {
     "data": {
      "text/html": [
       "<div>\n",
       "<style scoped>\n",
       "    .dataframe tbody tr th:only-of-type {\n",
       "        vertical-align: middle;\n",
       "    }\n",
       "\n",
       "    .dataframe tbody tr th {\n",
       "        vertical-align: top;\n",
       "    }\n",
       "\n",
       "    .dataframe thead th {\n",
       "        text-align: right;\n",
       "    }\n",
       "</style>\n",
       "<table border=\"1\" class=\"dataframe\">\n",
       "  <thead>\n",
       "    <tr style=\"text-align: right;\">\n",
       "      <th></th>\n",
       "      <th>cost</th>\n",
       "      <th>user_id</th>\n",
       "      <th>cost_per_user</th>\n",
       "    </tr>\n",
       "    <tr>\n",
       "      <th>source</th>\n",
       "      <th></th>\n",
       "      <th></th>\n",
       "      <th></th>\n",
       "    </tr>\n",
       "  </thead>\n",
       "  <tbody>\n",
       "    <tr>\n",
       "      <th>facebook_ads</th>\n",
       "      <td>2140.904643</td>\n",
       "      <td>2726</td>\n",
       "      <td>0.785365</td>\n",
       "    </tr>\n",
       "    <tr>\n",
       "      <th>instagram_new_adverts</th>\n",
       "      <td>2161.441691</td>\n",
       "      <td>3347</td>\n",
       "      <td>0.645785</td>\n",
       "    </tr>\n",
       "    <tr>\n",
       "      <th>yandex_direct</th>\n",
       "      <td>2233.111449</td>\n",
       "      <td>4817</td>\n",
       "      <td>0.463590</td>\n",
       "    </tr>\n",
       "    <tr>\n",
       "      <th>youtube_channel_reklama</th>\n",
       "      <td>1068.119204</td>\n",
       "      <td>2686</td>\n",
       "      <td>0.397662</td>\n",
       "    </tr>\n",
       "  </tbody>\n",
       "</table>\n",
       "</div>"
      ],
      "text/plain": [
       "                                cost  user_id  cost_per_user\n",
       "source                                                      \n",
       "facebook_ads             2140.904643     2726       0.785365\n",
       "instagram_new_adverts    2161.441691     3347       0.645785\n",
       "yandex_direct            2233.111449     4817       0.463590\n",
       "youtube_channel_reklama  1068.119204     2686       0.397662"
      ]
     },
     "execution_count": 36,
     "metadata": {},
     "output_type": "execute_result"
    }
   ],
   "source": [
    "# объединяем объемы затрат и количество пользователей по источникам\n",
    "costs_sources_grouped = costs_grouped.merge(sources_grouped, on='source')\n",
    "\n",
    "# рассчитываем удельные затраты на пользователя\n",
    "costs_sources_grouped['cost_per_user'] = costs_sources_grouped['cost']/costs_sources_grouped['user_id']\n",
    "\n",
    "# сортируем данные по убыванию затрат\n",
    "costs_sources_grouped.sort_values(by='cost_per_user', ascending=False)"
   ]
  },
  {
   "cell_type": "markdown",
   "metadata": {},
   "source": [
    "Отразим результаты на диаграмме."
   ]
  },
  {
   "cell_type": "code",
   "execution_count": 37,
   "metadata": {},
   "outputs": [
    {
     "data": {
      "image/png": "[encoded data removed]",
      "text/plain": [
       "<Figure size 648x432 with 1 Axes>"
      ]
     },
     "metadata": {
      "needs_background": "light"
     },
     "output_type": "display_data"
    }
   ],
   "source": [
    "# строим столбчатую диаграмму\n",
    "plt.figure(figsize=(9, 6))\n",
    "plt.bar(costs_sources_grouped.index, costs_sources_grouped['cost_per_user'])\n",
    "plt.title('Затраты на пользователя по источникам')\n",
    "plt.ylabel(\"удельные затраты\")\n",
    "plt.show()"
   ]
  },
  {
   "cell_type": "markdown",
   "metadata": {},
   "source": [
    "Интересный факт: продвижение в youtube, на которое компания тратит меньше всего средств и которое приводит в игру меньше всего пользователей, оказывается наиболее выгодным с точки зрения удельных затрат, а самым дорогим источником при этом оказывается facebook. Возможно, следует перераспределить затраты на привлечение пользователей."
   ]
  },
  {
   "cell_type": "markdown",
   "metadata": {},
   "source": [
    "## Формирование модели монетизации"
   ]
  },
  {
   "cell_type": "markdown",
   "metadata": {},
   "source": [
    "Посчитаем общую выручку, прибыль и рентабельность с учетом того, что показ одного рекламного объявления пользователю приносит 0.07 у.е."
   ]
  },
  {
   "cell_type": "code",
   "execution_count": 38,
   "metadata": {},
   "outputs": [
    {
     "data": {
      "text/plain": [
       "8956.92"
      ]
     },
     "execution_count": 38,
     "metadata": {},
     "output_type": "execute_result"
    }
   ],
   "source": [
    "# считаем выручку\n",
    "revenue = builds*0.07\n",
    "\n",
    "revenue"
   ]
  },
  {
   "cell_type": "code",
   "execution_count": 39,
   "metadata": {},
   "outputs": [
    {
     "data": {
      "text/plain": [
       "1353.3430132119774"
      ]
     },
     "execution_count": 39,
     "metadata": {},
     "output_type": "execute_result"
    }
   ],
   "source": [
    "# считаем прибыль\n",
    "profit = revenue - total_costs\n",
    "\n",
    "profit"
   ]
  },
  {
   "cell_type": "code",
   "execution_count": 40,
   "metadata": {},
   "outputs": [
    {
     "data": {
      "text/plain": [
       "0.1779876781103876"
      ]
     },
     "execution_count": 40,
     "metadata": {},
     "output_type": "execute_result"
    }
   ],
   "source": [
    "# считаем рентабельность\n",
    "profit/total_costs"
   ]
  },
  {
   "cell_type": "markdown",
   "metadata": {},
   "source": [
    "Рентабельность составляет 17,8%. Это указывает на наличие потенциала для определенного снижения количества рекламы при сохранении прибыльности игры. Так, частота показа рекламы может быть снижена в 1,178 раз или примерно на 15%."
   ]
  },
  {
   "cell_type": "markdown",
   "metadata": {},
   "source": [
    "Для более детальной оценки рентабельности нам потребуется объединить данные из всех имеющихся датасетов. В первую очередь, чтобы быть уверенными в расчетах, проверим, что пользователи из таблицы actions совпадают с пользователями из таблицы sources."
   ]
  },
  {
   "cell_type": "code",
   "execution_count": 41,
   "metadata": {},
   "outputs": [
    {
     "data": {
      "text/plain": [
       "[]"
      ]
     },
     "execution_count": 41,
     "metadata": {},
     "output_type": "execute_result"
    }
   ],
   "source": [
    "missing_users = [x for x in actions['user_id'].unique() if x not in sources['user_id'].unique()]\n",
    "\n",
    "missing_users"
   ]
  },
  {
   "cell_type": "markdown",
   "metadata": {},
   "source": [
    "\"Лишних\" пользователей выявлено не было. Далее можно дополнительно обработать таблицу actions и объединить с записями из sources."
   ]
  },
  {
   "cell_type": "code",
   "execution_count": 42,
   "metadata": {},
   "outputs": [
    {
     "data": {
      "text/html": [
       "<div>\n",
       "<style scoped>\n",
       "    .dataframe tbody tr th:only-of-type {\n",
       "        vertical-align: middle;\n",
       "    }\n",
       "\n",
       "    .dataframe tbody tr th {\n",
       "        vertical-align: top;\n",
       "    }\n",
       "\n",
       "    .dataframe thead th {\n",
       "        text-align: right;\n",
       "    }\n",
       "</style>\n",
       "<table border=\"1\" class=\"dataframe\">\n",
       "  <thead>\n",
       "    <tr style=\"text-align: right;\">\n",
       "      <th></th>\n",
       "      <th>event_datetime</th>\n",
       "      <th>event</th>\n",
       "      <th>building_type</th>\n",
       "      <th>user_id</th>\n",
       "      <th>project_type</th>\n",
       "      <th>day</th>\n",
       "      <th>source</th>\n",
       "    </tr>\n",
       "  </thead>\n",
       "  <tbody>\n",
       "    <tr>\n",
       "      <th>0</th>\n",
       "      <td>2020-05-04 00:00:01</td>\n",
       "      <td>building</td>\n",
       "      <td>assembly_shop</td>\n",
       "      <td>55e92310-cb8e-4754-b622-597e124b03de</td>\n",
       "      <td>NaN</td>\n",
       "      <td>2020-05-04</td>\n",
       "      <td>youtube_channel_reklama</td>\n",
       "    </tr>\n",
       "    <tr>\n",
       "      <th>1</th>\n",
       "      <td>2020-05-05 05:20:15</td>\n",
       "      <td>building</td>\n",
       "      <td>assembly_shop</td>\n",
       "      <td>55e92310-cb8e-4754-b622-597e124b03de</td>\n",
       "      <td>NaN</td>\n",
       "      <td>2020-05-05</td>\n",
       "      <td>youtube_channel_reklama</td>\n",
       "    </tr>\n",
       "    <tr>\n",
       "      <th>2</th>\n",
       "      <td>2020-05-05 19:24:02</td>\n",
       "      <td>building</td>\n",
       "      <td>assembly_shop</td>\n",
       "      <td>55e92310-cb8e-4754-b622-597e124b03de</td>\n",
       "      <td>NaN</td>\n",
       "      <td>2020-05-05</td>\n",
       "      <td>youtube_channel_reklama</td>\n",
       "    </tr>\n",
       "    <tr>\n",
       "      <th>3</th>\n",
       "      <td>2020-05-05 20:59:19</td>\n",
       "      <td>building</td>\n",
       "      <td>assembly_shop</td>\n",
       "      <td>55e92310-cb8e-4754-b622-597e124b03de</td>\n",
       "      <td>NaN</td>\n",
       "      <td>2020-05-05</td>\n",
       "      <td>youtube_channel_reklama</td>\n",
       "    </tr>\n",
       "    <tr>\n",
       "      <th>4</th>\n",
       "      <td>2020-05-06 00:52:56</td>\n",
       "      <td>building</td>\n",
       "      <td>assembly_shop</td>\n",
       "      <td>55e92310-cb8e-4754-b622-597e124b03de</td>\n",
       "      <td>NaN</td>\n",
       "      <td>2020-05-06</td>\n",
       "      <td>youtube_channel_reklama</td>\n",
       "    </tr>\n",
       "  </tbody>\n",
       "</table>\n",
       "</div>"
      ],
      "text/plain": [
       "       event_datetime     event  building_type  \\\n",
       "0 2020-05-04 00:00:01  building  assembly_shop   \n",
       "1 2020-05-05 05:20:15  building  assembly_shop   \n",
       "2 2020-05-05 19:24:02  building  assembly_shop   \n",
       "3 2020-05-05 20:59:19  building  assembly_shop   \n",
       "4 2020-05-06 00:52:56  building  assembly_shop   \n",
       "\n",
       "                                user_id project_type         day  \\\n",
       "0  55e92310-cb8e-4754-b622-597e124b03de          NaN  2020-05-04   \n",
       "1  55e92310-cb8e-4754-b622-597e124b03de          NaN  2020-05-05   \n",
       "2  55e92310-cb8e-4754-b622-597e124b03de          NaN  2020-05-05   \n",
       "3  55e92310-cb8e-4754-b622-597e124b03de          NaN  2020-05-05   \n",
       "4  55e92310-cb8e-4754-b622-597e124b03de          NaN  2020-05-06   \n",
       "\n",
       "                    source  \n",
       "0  youtube_channel_reklama  \n",
       "1  youtube_channel_reklama  \n",
       "2  youtube_channel_reklama  \n",
       "3  youtube_channel_reklama  \n",
       "4  youtube_channel_reklama  "
      ]
     },
     "execution_count": 42,
     "metadata": {},
     "output_type": "execute_result"
    }
   ],
   "source": [
    "# выделяем дату игрового события в отдельный столбец\n",
    "actions['day'] = actions['event_datetime'].apply(lambda x: x.date())\n",
    "\n",
    "# добавляем записи об источниках по каждому пользователю\n",
    "actions = actions.merge(sources, on='user_id')\n",
    "\n",
    "actions.head()"
   ]
  },
  {
   "cell_type": "markdown",
   "metadata": {},
   "source": [
    "Теперь для каждого пользователя определим число \"рекламных\" событий и дату начала игры."
   ]
  },
  {
   "cell_type": "code",
   "execution_count": 43,
   "metadata": {},
   "outputs": [
    {
     "data": {
      "text/html": [
       "<div>\n",
       "<style scoped>\n",
       "    .dataframe tbody tr th:only-of-type {\n",
       "        vertical-align: middle;\n",
       "    }\n",
       "\n",
       "    .dataframe tbody tr th {\n",
       "        vertical-align: top;\n",
       "    }\n",
       "\n",
       "    .dataframe thead th {\n",
       "        text-align: right;\n",
       "    }\n",
       "</style>\n",
       "<table border=\"1\" class=\"dataframe\">\n",
       "  <thead>\n",
       "    <tr style=\"text-align: right;\">\n",
       "      <th></th>\n",
       "      <th></th>\n",
       "      <th>event</th>\n",
       "      <th>day</th>\n",
       "    </tr>\n",
       "    <tr>\n",
       "      <th>user_id</th>\n",
       "      <th>source</th>\n",
       "      <th></th>\n",
       "      <th></th>\n",
       "    </tr>\n",
       "  </thead>\n",
       "  <tbody>\n",
       "    <tr>\n",
       "      <th>0001f83c-c6ac-4621-b7f0-8a28b283ac30</th>\n",
       "      <th>facebook_ads</th>\n",
       "      <td>13</td>\n",
       "      <td>2020-05-06</td>\n",
       "    </tr>\n",
       "    <tr>\n",
       "      <th>00151b4f-ba38-44a8-a650-d7cf130a0105</th>\n",
       "      <th>yandex_direct</th>\n",
       "      <td>9</td>\n",
       "      <td>2020-05-06</td>\n",
       "    </tr>\n",
       "    <tr>\n",
       "      <th>001aaea6-3d14-43f1-8ca8-7f48820f17aa</th>\n",
       "      <th>youtube_channel_reklama</th>\n",
       "      <td>4</td>\n",
       "      <td>2020-05-05</td>\n",
       "    </tr>\n",
       "    <tr>\n",
       "      <th>001d39dc-366c-4021-9604-6a3b9ff01e25</th>\n",
       "      <th>instagram_new_adverts</th>\n",
       "      <td>8</td>\n",
       "      <td>2020-05-05</td>\n",
       "    </tr>\n",
       "    <tr>\n",
       "      <th>002f508f-67b6-479f-814b-b05f00d4e995</th>\n",
       "      <th>facebook_ads</th>\n",
       "      <td>12</td>\n",
       "      <td>2020-05-05</td>\n",
       "    </tr>\n",
       "  </tbody>\n",
       "</table>\n",
       "</div>"
      ],
      "text/plain": [
       "                                                              event        day\n",
       "user_id                              source                                   \n",
       "0001f83c-c6ac-4621-b7f0-8a28b283ac30 facebook_ads                13 2020-05-06\n",
       "00151b4f-ba38-44a8-a650-d7cf130a0105 yandex_direct                9 2020-05-06\n",
       "001aaea6-3d14-43f1-8ca8-7f48820f17aa youtube_channel_reklama      4 2020-05-05\n",
       "001d39dc-366c-4021-9604-6a3b9ff01e25 instagram_new_adverts        8 2020-05-05\n",
       "002f508f-67b6-479f-814b-b05f00d4e995 facebook_ads                12 2020-05-05"
      ]
     },
     "execution_count": 43,
     "metadata": {},
     "output_type": "execute_result"
    }
   ],
   "source": [
    "# считаем количество событий и первую дату события в группировке по пользователям и источникам для событий, связанных со строительством\n",
    "actions_grouped = actions[actions['event'] == 'building'].groupby(['user_id', 'source']).agg({'event': 'count', 'day': 'first'})\n",
    "\n",
    "# меняем тип данных в столбце с датой\n",
    "actions_grouped['day'] = pd.to_datetime(actions_grouped['day'])\n",
    "\n",
    "actions_grouped.head()"
   ]
  },
  {
   "cell_type": "markdown",
   "metadata": {},
   "source": [
    "Так как данные по затратам на привлечение пользователей смещены на один день относительно начала игровой активности, в целях синхронизации данных добавим один день к моменту привлечения пользователей из различных источников. "
   ]
  },
  {
   "cell_type": "code",
   "execution_count": 44,
   "metadata": {},
   "outputs": [
    {
     "data": {
      "text/html": [
       "<div>\n",
       "<style scoped>\n",
       "    .dataframe tbody tr th:only-of-type {\n",
       "        vertical-align: middle;\n",
       "    }\n",
       "\n",
       "    .dataframe tbody tr th {\n",
       "        vertical-align: top;\n",
       "    }\n",
       "\n",
       "    .dataframe thead th {\n",
       "        text-align: right;\n",
       "    }\n",
       "</style>\n",
       "<table border=\"1\" class=\"dataframe\">\n",
       "  <thead>\n",
       "    <tr style=\"text-align: right;\">\n",
       "      <th></th>\n",
       "      <th>source</th>\n",
       "      <th>day</th>\n",
       "      <th>cost</th>\n",
       "    </tr>\n",
       "  </thead>\n",
       "  <tbody>\n",
       "    <tr>\n",
       "      <th>0</th>\n",
       "      <td>facebook_ads</td>\n",
       "      <td>2020-05-04</td>\n",
       "      <td>935.882786</td>\n",
       "    </tr>\n",
       "    <tr>\n",
       "      <th>1</th>\n",
       "      <td>facebook_ads</td>\n",
       "      <td>2020-05-05</td>\n",
       "      <td>548.354480</td>\n",
       "    </tr>\n",
       "    <tr>\n",
       "      <th>2</th>\n",
       "      <td>facebook_ads</td>\n",
       "      <td>2020-05-06</td>\n",
       "      <td>260.185754</td>\n",
       "    </tr>\n",
       "    <tr>\n",
       "      <th>3</th>\n",
       "      <td>facebook_ads</td>\n",
       "      <td>2020-05-07</td>\n",
       "      <td>177.982200</td>\n",
       "    </tr>\n",
       "    <tr>\n",
       "      <th>4</th>\n",
       "      <td>facebook_ads</td>\n",
       "      <td>2020-05-08</td>\n",
       "      <td>111.766796</td>\n",
       "    </tr>\n",
       "  </tbody>\n",
       "</table>\n",
       "</div>"
      ],
      "text/plain": [
       "         source        day        cost\n",
       "0  facebook_ads 2020-05-04  935.882786\n",
       "1  facebook_ads 2020-05-05  548.354480\n",
       "2  facebook_ads 2020-05-06  260.185754\n",
       "3  facebook_ads 2020-05-07  177.982200\n",
       "4  facebook_ads 2020-05-08  111.766796"
      ]
     },
     "execution_count": 44,
     "metadata": {},
     "output_type": "execute_result"
    }
   ],
   "source": [
    "# прибавляем один день к дате привлечения пользователей\n",
    "costs['day'] = costs['day'].apply(lambda x: (x + timedelta(days=1)))\n",
    "\n",
    "costs.head()"
   ]
  },
  {
   "cell_type": "markdown",
   "metadata": {},
   "source": [
    "Наконец, сгруппируем данные об активностях по дате и источнику и на основе этого объединим с данными по затратам на привлечение."
   ]
  },
  {
   "cell_type": "code",
   "execution_count": 45,
   "metadata": {},
   "outputs": [
    {
     "data": {
      "text/html": [
       "<div>\n",
       "<style scoped>\n",
       "    .dataframe tbody tr th:only-of-type {\n",
       "        vertical-align: middle;\n",
       "    }\n",
       "\n",
       "    .dataframe tbody tr th {\n",
       "        vertical-align: top;\n",
       "    }\n",
       "\n",
       "    .dataframe thead th {\n",
       "        text-align: right;\n",
       "    }\n",
       "</style>\n",
       "<table border=\"1\" class=\"dataframe\">\n",
       "  <thead>\n",
       "    <tr style=\"text-align: right;\">\n",
       "      <th></th>\n",
       "      <th>day</th>\n",
       "      <th>source</th>\n",
       "      <th>users</th>\n",
       "      <th>builds</th>\n",
       "      <th>cost</th>\n",
       "    </tr>\n",
       "  </thead>\n",
       "  <tbody>\n",
       "    <tr>\n",
       "      <th>0</th>\n",
       "      <td>2020-05-04</td>\n",
       "      <td>facebook_ads</td>\n",
       "      <td>1184</td>\n",
       "      <td>12494</td>\n",
       "      <td>935.882786</td>\n",
       "    </tr>\n",
       "    <tr>\n",
       "      <th>1</th>\n",
       "      <td>2020-05-04</td>\n",
       "      <td>instagram_new_adverts</td>\n",
       "      <td>1452</td>\n",
       "      <td>15135</td>\n",
       "      <td>943.204717</td>\n",
       "    </tr>\n",
       "    <tr>\n",
       "      <th>2</th>\n",
       "      <td>2020-05-04</td>\n",
       "      <td>yandex_direct</td>\n",
       "      <td>2078</td>\n",
       "      <td>21233</td>\n",
       "      <td>969.139394</td>\n",
       "    </tr>\n",
       "    <tr>\n",
       "      <th>3</th>\n",
       "      <td>2020-05-04</td>\n",
       "      <td>youtube_channel_reklama</td>\n",
       "      <td>1146</td>\n",
       "      <td>11773</td>\n",
       "      <td>454.224943</td>\n",
       "    </tr>\n",
       "    <tr>\n",
       "      <th>4</th>\n",
       "      <td>2020-05-05</td>\n",
       "      <td>facebook_ads</td>\n",
       "      <td>694</td>\n",
       "      <td>6895</td>\n",
       "      <td>548.354480</td>\n",
       "    </tr>\n",
       "  </tbody>\n",
       "</table>\n",
       "</div>"
      ],
      "text/plain": [
       "         day                   source  users  builds        cost\n",
       "0 2020-05-04             facebook_ads   1184   12494  935.882786\n",
       "1 2020-05-04    instagram_new_adverts   1452   15135  943.204717\n",
       "2 2020-05-04            yandex_direct   2078   21233  969.139394\n",
       "3 2020-05-04  youtube_channel_reklama   1146   11773  454.224943\n",
       "4 2020-05-05             facebook_ads    694    6895  548.354480"
      ]
     },
     "execution_count": 45,
     "metadata": {},
     "output_type": "execute_result"
    }
   ],
   "source": [
    "# считаем сумму числа событий и количество пользователей в группировке по дате и источнику\n",
    "data_grouped = actions_grouped.groupby(['day', 'source']).agg({'event': ['count', 'sum']}).reset_index()\n",
    "\n",
    "# для удобства переименуем столбцы\n",
    "data_grouped.columns = ['day', 'source', 'users', 'builds']\n",
    "\n",
    "# добавляем записи о затратах по каждой дате и источнику\n",
    "data_grouped = data_grouped.merge(costs, on=['day', 'source'])\n",
    "\n",
    "data_grouped.head()"
   ]
  },
  {
   "cell_type": "markdown",
   "metadata": {},
   "source": [
    "Добавим расчеты основных экономических показателей и показателей активности игроков."
   ]
  },
  {
   "cell_type": "code",
   "execution_count": 46,
   "metadata": {},
   "outputs": [
    {
     "data": {
      "text/html": [
       "<div>\n",
       "<style scoped>\n",
       "    .dataframe tbody tr th:only-of-type {\n",
       "        vertical-align: middle;\n",
       "    }\n",
       "\n",
       "    .dataframe tbody tr th {\n",
       "        vertical-align: top;\n",
       "    }\n",
       "\n",
       "    .dataframe thead th {\n",
       "        text-align: right;\n",
       "    }\n",
       "</style>\n",
       "<table border=\"1\" class=\"dataframe\">\n",
       "  <thead>\n",
       "    <tr style=\"text-align: right;\">\n",
       "      <th></th>\n",
       "      <th>day</th>\n",
       "      <th>source</th>\n",
       "      <th>users</th>\n",
       "      <th>builds</th>\n",
       "      <th>cost</th>\n",
       "      <th>revenue</th>\n",
       "      <th>profit</th>\n",
       "      <th>profitability</th>\n",
       "      <th>build_per_user</th>\n",
       "    </tr>\n",
       "  </thead>\n",
       "  <tbody>\n",
       "    <tr>\n",
       "      <th>0</th>\n",
       "      <td>2020-05-04</td>\n",
       "      <td>facebook_ads</td>\n",
       "      <td>1184</td>\n",
       "      <td>12494</td>\n",
       "      <td>935.882786</td>\n",
       "      <td>874.58</td>\n",
       "      <td>-61.302786</td>\n",
       "      <td>-0.065503</td>\n",
       "      <td>10.552365</td>\n",
       "    </tr>\n",
       "    <tr>\n",
       "      <th>1</th>\n",
       "      <td>2020-05-04</td>\n",
       "      <td>instagram_new_adverts</td>\n",
       "      <td>1452</td>\n",
       "      <td>15135</td>\n",
       "      <td>943.204717</td>\n",
       "      <td>1059.45</td>\n",
       "      <td>116.245283</td>\n",
       "      <td>0.123245</td>\n",
       "      <td>10.423554</td>\n",
       "    </tr>\n",
       "    <tr>\n",
       "      <th>2</th>\n",
       "      <td>2020-05-04</td>\n",
       "      <td>yandex_direct</td>\n",
       "      <td>2078</td>\n",
       "      <td>21233</td>\n",
       "      <td>969.139394</td>\n",
       "      <td>1486.31</td>\n",
       "      <td>517.170606</td>\n",
       "      <td>0.533639</td>\n",
       "      <td>10.217998</td>\n",
       "    </tr>\n",
       "    <tr>\n",
       "      <th>3</th>\n",
       "      <td>2020-05-04</td>\n",
       "      <td>youtube_channel_reklama</td>\n",
       "      <td>1146</td>\n",
       "      <td>11773</td>\n",
       "      <td>454.224943</td>\n",
       "      <td>824.11</td>\n",
       "      <td>369.885057</td>\n",
       "      <td>0.814321</td>\n",
       "      <td>10.273124</td>\n",
       "    </tr>\n",
       "    <tr>\n",
       "      <th>4</th>\n",
       "      <td>2020-05-05</td>\n",
       "      <td>facebook_ads</td>\n",
       "      <td>694</td>\n",
       "      <td>6895</td>\n",
       "      <td>548.354480</td>\n",
       "      <td>482.65</td>\n",
       "      <td>-65.704480</td>\n",
       "      <td>-0.119821</td>\n",
       "      <td>9.935159</td>\n",
       "    </tr>\n",
       "  </tbody>\n",
       "</table>\n",
       "</div>"
      ],
      "text/plain": [
       "         day                   source  users  builds        cost  revenue  \\\n",
       "0 2020-05-04             facebook_ads   1184   12494  935.882786   874.58   \n",
       "1 2020-05-04    instagram_new_adverts   1452   15135  943.204717  1059.45   \n",
       "2 2020-05-04            yandex_direct   2078   21233  969.139394  1486.31   \n",
       "3 2020-05-04  youtube_channel_reklama   1146   11773  454.224943   824.11   \n",
       "4 2020-05-05             facebook_ads    694    6895  548.354480   482.65   \n",
       "\n",
       "       profit  profitability  build_per_user  \n",
       "0  -61.302786      -0.065503       10.552365  \n",
       "1  116.245283       0.123245       10.423554  \n",
       "2  517.170606       0.533639       10.217998  \n",
       "3  369.885057       0.814321       10.273124  \n",
       "4  -65.704480      -0.119821        9.935159  "
      ]
     },
     "execution_count": 46,
     "metadata": {},
     "output_type": "execute_result"
    }
   ],
   "source": [
    "# рассчитываем столбец с выручкой\n",
    "data_grouped['revenue'] = data_grouped['builds']*0.07\n",
    "\n",
    "# рассчитываем столбец с прибылью\n",
    "data_grouped['profit'] = data_grouped['revenue'] - data_grouped['cost']\n",
    "\n",
    "# рассчитываем столбец с рентабельностью\n",
    "data_grouped['profitability'] = data_grouped['profit']/data_grouped['cost']\n",
    "\n",
    "#рассчитываем столбец с числом событий, связанных со строительством, на одного пользователя\n",
    "data_grouped['build_per_user'] = data_grouped['builds']/data_grouped['users']\n",
    "\n",
    "data_grouped.head()"
   ]
  },
  {
   "cell_type": "markdown",
   "metadata": {},
   "source": [
    "Проверим, что после всех преобразований общий показатель рентабельности остался прежним."
   ]
  },
  {
   "cell_type": "code",
   "execution_count": 47,
   "metadata": {},
   "outputs": [
    {
     "data": {
      "text/plain": [
       "0.17798767811038768"
      ]
     },
     "execution_count": 47,
     "metadata": {},
     "output_type": "execute_result"
    }
   ],
   "source": [
    "# считаем рентабельность по суммам из таблицы\n",
    "data_grouped['profit'].sum()/data_grouped['cost'].sum()"
   ]
  },
  {
   "cell_type": "markdown",
   "metadata": {},
   "source": [
    "Отлично, значения сходятся. Прежде чем смотреть на изменения рентабельности по источникам, оценим ее общую динамику, еще раз преобразовав полученную таблицу. "
   ]
  },
  {
   "cell_type": "code",
   "execution_count": 48,
   "metadata": {},
   "outputs": [
    {
     "data": {
      "text/html": [
       "<div>\n",
       "<style scoped>\n",
       "    .dataframe tbody tr th:only-of-type {\n",
       "        vertical-align: middle;\n",
       "    }\n",
       "\n",
       "    .dataframe tbody tr th {\n",
       "        vertical-align: top;\n",
       "    }\n",
       "\n",
       "    .dataframe thead th {\n",
       "        text-align: right;\n",
       "    }\n",
       "</style>\n",
       "<table border=\"1\" class=\"dataframe\">\n",
       "  <thead>\n",
       "    <tr style=\"text-align: right;\">\n",
       "      <th></th>\n",
       "      <th>users</th>\n",
       "      <th>builds</th>\n",
       "      <th>cost</th>\n",
       "      <th>revenue</th>\n",
       "      <th>profit</th>\n",
       "      <th>profitability</th>\n",
       "      <th>build_per_user</th>\n",
       "    </tr>\n",
       "    <tr>\n",
       "      <th>day</th>\n",
       "      <th></th>\n",
       "      <th></th>\n",
       "      <th></th>\n",
       "      <th></th>\n",
       "      <th></th>\n",
       "      <th></th>\n",
       "      <th></th>\n",
       "    </tr>\n",
       "  </thead>\n",
       "  <tbody>\n",
       "    <tr>\n",
       "      <th>2020-05-04</th>\n",
       "      <td>5860</td>\n",
       "      <td>60635</td>\n",
       "      <td>3302.451840</td>\n",
       "      <td>4244.45</td>\n",
       "      <td>941.998160</td>\n",
       "      <td>0.285242</td>\n",
       "      <td>10.347270</td>\n",
       "    </tr>\n",
       "    <tr>\n",
       "      <th>2020-05-05</th>\n",
       "      <td>3361</td>\n",
       "      <td>32747</td>\n",
       "      <td>1865.004649</td>\n",
       "      <td>2292.29</td>\n",
       "      <td>427.285351</td>\n",
       "      <td>0.229107</td>\n",
       "      <td>9.743231</td>\n",
       "    </tr>\n",
       "    <tr>\n",
       "      <th>2020-05-06</th>\n",
       "      <td>1847</td>\n",
       "      <td>16386</td>\n",
       "      <td>1029.431469</td>\n",
       "      <td>1147.02</td>\n",
       "      <td>117.588531</td>\n",
       "      <td>0.114227</td>\n",
       "      <td>8.871684</td>\n",
       "    </tr>\n",
       "    <tr>\n",
       "      <th>2020-05-07</th>\n",
       "      <td>1109</td>\n",
       "      <td>8904</td>\n",
       "      <td>620.476519</td>\n",
       "      <td>623.28</td>\n",
       "      <td>2.803481</td>\n",
       "      <td>0.004518</td>\n",
       "      <td>8.028855</td>\n",
       "    </tr>\n",
       "    <tr>\n",
       "      <th>2020-05-08</th>\n",
       "      <td>688</td>\n",
       "      <td>4839</td>\n",
       "      <td>391.852033</td>\n",
       "      <td>338.73</td>\n",
       "      <td>-53.122033</td>\n",
       "      <td>-0.135567</td>\n",
       "      <td>7.033430</td>\n",
       "    </tr>\n",
       "  </tbody>\n",
       "</table>\n",
       "</div>"
      ],
      "text/plain": [
       "            users  builds         cost  revenue      profit  profitability  \\\n",
       "day                                                                          \n",
       "2020-05-04   5860   60635  3302.451840  4244.45  941.998160       0.285242   \n",
       "2020-05-05   3361   32747  1865.004649  2292.29  427.285351       0.229107   \n",
       "2020-05-06   1847   16386  1029.431469  1147.02  117.588531       0.114227   \n",
       "2020-05-07   1109    8904   620.476519   623.28    2.803481       0.004518   \n",
       "2020-05-08    688    4839   391.852033   338.73  -53.122033      -0.135567   \n",
       "\n",
       "            build_per_user  \n",
       "day                         \n",
       "2020-05-04       10.347270  \n",
       "2020-05-05        9.743231  \n",
       "2020-05-06        8.871684  \n",
       "2020-05-07        8.028855  \n",
       "2020-05-08        7.033430  "
      ]
     },
     "execution_count": 48,
     "metadata": {},
     "output_type": "execute_result"
    }
   ],
   "source": [
    "# считаем основные показатели в группировке только по дате\n",
    "data_grouped_all = data_grouped.groupby('day').agg('sum')\n",
    "\n",
    "# пересчитываем столбец с рентабельностью\n",
    "data_grouped_all['profitability'] = data_grouped_all['profit']/data_grouped_all['cost']\n",
    "\n",
    "# пересчитываем столбец с числом событий, связанных со строительством, на одного пользователя\n",
    "data_grouped_all['build_per_user'] = data_grouped_all['builds']/data_grouped_all['users']\n",
    "\n",
    "data_grouped_all.head()"
   ]
  },
  {
   "cell_type": "markdown",
   "metadata": {},
   "source": [
    "Посмотрим на динамику общей рентабельности, построив график ее изменения по дням."
   ]
  },
  {
   "cell_type": "code",
   "execution_count": 49,
   "metadata": {},
   "outputs": [
    {
     "data": {
      "image/png": "[encoded data removed]",
      "text/plain": [
       "<Figure size 648x432 with 1 Axes>"
      ]
     },
     "metadata": {
      "needs_background": "light"
     },
     "output_type": "display_data"
    }
   ],
   "source": [
    "# строим линейный график рентабельности\n",
    "plt.figure(figsize=(9, 6))\n",
    "plt.plot(data_grouped_all['profitability'])\n",
    "plt.axhline(y=0, color='r', linestyle='--')\n",
    "plt.title('Динамика общей рентабельности')\n",
    "plt.ylabel(\"рентабельность\")\n",
    "plt.grid()\n",
    "plt.show()"
   ]
  },
  {
   "cell_type": "markdown",
   "metadata": {},
   "source": [
    "Оказывается, что несмотря на наличие у проекта прибыли, значения рентабельности по игрокам, привлеченным во второй половине рассматриваемого периода, являются отрицательными. Попробуем объяснить это."
   ]
  },
  {
   "cell_type": "markdown",
   "metadata": {},
   "source": [
    "Из полученной таблицы можно заметить, что затраты на привлечения пользователей существенно падают каждый день. Построим соответствующий график затрат."
   ]
  },
  {
   "cell_type": "code",
   "execution_count": 50,
   "metadata": {},
   "outputs": [
    {
     "data": {
      "image/png": "[encoded data removed]",
      "text/plain": [
       "<Figure size 648x432 with 1 Axes>"
      ]
     },
     "metadata": {
      "needs_background": "light"
     },
     "output_type": "display_data"
    }
   ],
   "source": [
    "# строим линейный график затрат\n",
    "plt.figure(figsize=(9, 6))\n",
    "plt.plot(data_grouped_all['cost'])\n",
    "plt.title('Динамика общих затрат')\n",
    "plt.ylabel(\"затраты\")\n",
    "plt.grid()\n",
    "plt.show()"
   ]
  },
  {
   "cell_type": "markdown",
   "metadata": {},
   "source": [
    "Действительно, затраты падают, а значит падает и число привлекаемых игроков. Можно предположить, что чем больше игроков в игре, тем активнее они взаимодействуют между собой и совершают различные действия, направленные на победу."
   ]
  },
  {
   "cell_type": "markdown",
   "metadata": {},
   "source": [
    "Оценим это явление через график динамики числа совершаемых \"рекламных\" событий на одного игрока."
   ]
  },
  {
   "cell_type": "code",
   "execution_count": 51,
   "metadata": {},
   "outputs": [
    {
     "data": {
      "image/png": "[encoded data removed]",
      "text/plain": [
       "<Figure size 648x432 with 1 Axes>"
      ]
     },
     "metadata": {
      "needs_background": "light"
     },
     "output_type": "display_data"
    }
   ],
   "source": [
    "# строим линейный график удельного числа событий \n",
    "plt.figure(figsize=(9, 6))\n",
    "plt.plot(data_grouped_all['build_per_user'])\n",
    "plt.title('Динамика удельного числа событий')\n",
    "plt.ylabel(\"события на одного игрока\")\n",
    "plt.grid()\n",
    "plt.show()"
   ]
  },
  {
   "cell_type": "markdown",
   "metadata": {},
   "source": [
    "Число событий на игрока и правда падает с уровня более 10 до 6 и меньше. Логично, что для обеспечения стабильности показателей прибыли надо также стабилизировать активность пользователей игры."
   ]
  },
  {
   "cell_type": "markdown",
   "metadata": {},
   "source": [
    "Перейдем к оценке рентабельности по различным источникам привлечения пользователей. Отобразим динамику по ним на одном графике."
   ]
  },
  {
   "cell_type": "code",
   "execution_count": 52,
   "metadata": {},
   "outputs": [
    {
     "data": {
      "image/png": "[encoded data removed]",
      "text/plain": [
       "<Figure size 648x432 with 1 Axes>"
      ]
     },
     "metadata": {
      "needs_background": "light"
     },
     "output_type": "display_data"
    }
   ],
   "source": [
    "# строим линейные графики рентабельности по каждому источнику \n",
    "plt.figure(figsize=(9, 6))\n",
    "for source in data_grouped['source'].unique():\n",
    "    plt.plot(data_grouped['day'].unique(), data_grouped[data_grouped['source'] == source]['profitability'], label=source)\n",
    "plt.axhline(y=0, color='r', linestyle='--')\n",
    "plt.title('Динамика рентабельности по источникам')\n",
    "plt.ylabel(\"рентабельность\")\n",
    "plt.grid()\n",
    "plt.legend()\n",
    "plt.show()"
   ]
  },
  {
   "cell_type": "markdown",
   "metadata": {},
   "source": [
    "Мы видим, что только yandex_direct и youtube позволяют поддерживать по большей части положительную рентабельность. Facebook и instagram же практически/сразу \"уходят в минус\"."
   ]
  },
  {
   "cell_type": "markdown",
   "metadata": {},
   "source": [
    "Однако в целях рассмотрения альтернативных моделей монетизации предлагается пока оставить существующую структуру затрат. В рамках данного исследования планируется рассмотреть две такие модели."
   ]
  },
  {
   "cell_type": "markdown",
   "metadata": {},
   "source": [
    "### Первый вариант - привязка рекламы к конкретным типам строящихся объектов"
   ]
  },
  {
   "cell_type": "markdown",
   "metadata": {},
   "source": [
    "Сейчас реклама показывается пользователю при выборе любого здания на экране постройки. При этом мы можем сократить количество рекламы не более чем на 15%. Из предыдущего анализа следует, что объекты типа \"исследовательский центр\" занимают всего 11% от общего числа строящихся игроками зданий. Соответственно, можно не показывать рекламу при строительстве объектов данного типа и сохранить прибыльность проекта."
   ]
  },
  {
   "cell_type": "markdown",
   "metadata": {},
   "source": [
    "Рассчитаем показатели рентабельности при таком сценарии. Для этого \"пересоберем\" предыдущие таблицы с новым условием - исключим исследовательские центры из строящихся объектов, оставив только космопорты и сборочные цеха."
   ]
  },
  {
   "cell_type": "code",
   "execution_count": 53,
   "metadata": {},
   "outputs": [
    {
     "data": {
      "text/html": [
       "<div>\n",
       "<style scoped>\n",
       "    .dataframe tbody tr th:only-of-type {\n",
       "        vertical-align: middle;\n",
       "    }\n",
       "\n",
       "    .dataframe tbody tr th {\n",
       "        vertical-align: top;\n",
       "    }\n",
       "\n",
       "    .dataframe thead th {\n",
       "        text-align: right;\n",
       "    }\n",
       "</style>\n",
       "<table border=\"1\" class=\"dataframe\">\n",
       "  <thead>\n",
       "    <tr style=\"text-align: right;\">\n",
       "      <th></th>\n",
       "      <th></th>\n",
       "      <th>event</th>\n",
       "      <th>day</th>\n",
       "    </tr>\n",
       "    <tr>\n",
       "      <th>user_id</th>\n",
       "      <th>source</th>\n",
       "      <th></th>\n",
       "      <th></th>\n",
       "    </tr>\n",
       "  </thead>\n",
       "  <tbody>\n",
       "    <tr>\n",
       "      <th>0001f83c-c6ac-4621-b7f0-8a28b283ac30</th>\n",
       "      <th>facebook_ads</th>\n",
       "      <td>12</td>\n",
       "      <td>2020-05-06</td>\n",
       "    </tr>\n",
       "    <tr>\n",
       "      <th>00151b4f-ba38-44a8-a650-d7cf130a0105</th>\n",
       "      <th>yandex_direct</th>\n",
       "      <td>9</td>\n",
       "      <td>2020-05-06</td>\n",
       "    </tr>\n",
       "    <tr>\n",
       "      <th>001aaea6-3d14-43f1-8ca8-7f48820f17aa</th>\n",
       "      <th>youtube_channel_reklama</th>\n",
       "      <td>4</td>\n",
       "      <td>2020-05-05</td>\n",
       "    </tr>\n",
       "    <tr>\n",
       "      <th>001d39dc-366c-4021-9604-6a3b9ff01e25</th>\n",
       "      <th>instagram_new_adverts</th>\n",
       "      <td>8</td>\n",
       "      <td>2020-05-05</td>\n",
       "    </tr>\n",
       "    <tr>\n",
       "      <th>002f508f-67b6-479f-814b-b05f00d4e995</th>\n",
       "      <th>facebook_ads</th>\n",
       "      <td>11</td>\n",
       "      <td>2020-05-05</td>\n",
       "    </tr>\n",
       "  </tbody>\n",
       "</table>\n",
       "</div>"
      ],
      "text/plain": [
       "                                                              event        day\n",
       "user_id                              source                                   \n",
       "0001f83c-c6ac-4621-b7f0-8a28b283ac30 facebook_ads                12 2020-05-06\n",
       "00151b4f-ba38-44a8-a650-d7cf130a0105 yandex_direct                9 2020-05-06\n",
       "001aaea6-3d14-43f1-8ca8-7f48820f17aa youtube_channel_reklama      4 2020-05-05\n",
       "001d39dc-366c-4021-9604-6a3b9ff01e25 instagram_new_adverts        8 2020-05-05\n",
       "002f508f-67b6-479f-814b-b05f00d4e995 facebook_ads                11 2020-05-05"
      ]
     },
     "execution_count": 53,
     "metadata": {},
     "output_type": "execute_result"
    }
   ],
   "source": [
    "# считаем количество событий и первую дату события в группировке по пользователям и источникам для событий, связанных со строительством космопортов или сборочных цехов\n",
    "actions_grouped = actions[(actions['building_type'] == 'assembly_shop') | (actions['building_type'] == 'spaceport')].groupby(['user_id', 'source']).agg({'event': 'count', 'day': 'first'})\n",
    "\n",
    "# меняем тип данных в столбце с датой\n",
    "actions_grouped['day'] = pd.to_datetime(actions_grouped['day'])\n",
    "\n",
    "actions_grouped.head()"
   ]
  },
  {
   "cell_type": "code",
   "execution_count": 54,
   "metadata": {},
   "outputs": [
    {
     "data": {
      "text/html": [
       "<div>\n",
       "<style scoped>\n",
       "    .dataframe tbody tr th:only-of-type {\n",
       "        vertical-align: middle;\n",
       "    }\n",
       "\n",
       "    .dataframe tbody tr th {\n",
       "        vertical-align: top;\n",
       "    }\n",
       "\n",
       "    .dataframe thead th {\n",
       "        text-align: right;\n",
       "    }\n",
       "</style>\n",
       "<table border=\"1\" class=\"dataframe\">\n",
       "  <thead>\n",
       "    <tr style=\"text-align: right;\">\n",
       "      <th></th>\n",
       "      <th>users</th>\n",
       "      <th>builds</th>\n",
       "      <th>cost</th>\n",
       "      <th>revenue</th>\n",
       "      <th>profit</th>\n",
       "      <th>profitability</th>\n",
       "      <th>build_per_user</th>\n",
       "    </tr>\n",
       "    <tr>\n",
       "      <th>day</th>\n",
       "      <th></th>\n",
       "      <th></th>\n",
       "      <th></th>\n",
       "      <th></th>\n",
       "      <th></th>\n",
       "      <th></th>\n",
       "      <th></th>\n",
       "    </tr>\n",
       "  </thead>\n",
       "  <tbody>\n",
       "    <tr>\n",
       "      <th>2020-05-04</th>\n",
       "      <td>5860</td>\n",
       "      <td>53787</td>\n",
       "      <td>3302.451840</td>\n",
       "      <td>3765.09</td>\n",
       "      <td>462.638160</td>\n",
       "      <td>0.140089</td>\n",
       "      <td>9.178669</td>\n",
       "    </tr>\n",
       "    <tr>\n",
       "      <th>2020-05-05</th>\n",
       "      <td>3361</td>\n",
       "      <td>28987</td>\n",
       "      <td>1865.004649</td>\n",
       "      <td>2029.09</td>\n",
       "      <td>164.085351</td>\n",
       "      <td>0.087981</td>\n",
       "      <td>8.624517</td>\n",
       "    </tr>\n",
       "    <tr>\n",
       "      <th>2020-05-06</th>\n",
       "      <td>1847</td>\n",
       "      <td>14615</td>\n",
       "      <td>1029.431469</td>\n",
       "      <td>1023.05</td>\n",
       "      <td>-6.381469</td>\n",
       "      <td>-0.006199</td>\n",
       "      <td>7.912832</td>\n",
       "    </tr>\n",
       "    <tr>\n",
       "      <th>2020-05-07</th>\n",
       "      <td>1109</td>\n",
       "      <td>7951</td>\n",
       "      <td>620.476519</td>\n",
       "      <td>556.57</td>\n",
       "      <td>-63.906519</td>\n",
       "      <td>-0.102996</td>\n",
       "      <td>7.169522</td>\n",
       "    </tr>\n",
       "    <tr>\n",
       "      <th>2020-05-08</th>\n",
       "      <td>688</td>\n",
       "      <td>4405</td>\n",
       "      <td>391.852033</td>\n",
       "      <td>308.35</td>\n",
       "      <td>-83.502033</td>\n",
       "      <td>-0.213096</td>\n",
       "      <td>6.402616</td>\n",
       "    </tr>\n",
       "  </tbody>\n",
       "</table>\n",
       "</div>"
      ],
      "text/plain": [
       "            users  builds         cost  revenue      profit  profitability  \\\n",
       "day                                                                          \n",
       "2020-05-04   5860   53787  3302.451840  3765.09  462.638160       0.140089   \n",
       "2020-05-05   3361   28987  1865.004649  2029.09  164.085351       0.087981   \n",
       "2020-05-06   1847   14615  1029.431469  1023.05   -6.381469      -0.006199   \n",
       "2020-05-07   1109    7951   620.476519   556.57  -63.906519      -0.102996   \n",
       "2020-05-08    688    4405   391.852033   308.35  -83.502033      -0.213096   \n",
       "\n",
       "            build_per_user  \n",
       "day                         \n",
       "2020-05-04        9.178669  \n",
       "2020-05-05        8.624517  \n",
       "2020-05-06        7.912832  \n",
       "2020-05-07        7.169522  \n",
       "2020-05-08        6.402616  "
      ]
     },
     "execution_count": 54,
     "metadata": {},
     "output_type": "execute_result"
    }
   ],
   "source": [
    "# считаем сумму числа событий и количество пользователей в группировке по дате и источнику\n",
    "data_grouped_var_1 = actions_grouped.groupby(['day', 'source']).agg({'event': ['count', 'sum']}).reset_index()\n",
    "\n",
    "# для удобства переименуем столбцы\n",
    "data_grouped_var_1.columns = ['day', 'source', 'users', 'builds']\n",
    "\n",
    "# добавляем записи о затратах по каждой дате и источнику\n",
    "data_grouped_var_1 = data_grouped_var_1.merge(costs, on=['day', 'source'])\n",
    "\n",
    "# рассчитываем столбец с выручкой\n",
    "data_grouped_var_1['revenue'] = data_grouped_var_1['builds']*0.07\n",
    "\n",
    "# рассчитываем столбец с прибылью\n",
    "data_grouped_var_1['profit'] = data_grouped_var_1['revenue'] - data_grouped_var_1['cost']\n",
    "\n",
    "# считаем основные показатели в группировке только по дате\n",
    "data_grouped_var_1 = data_grouped_var_1.groupby('day').agg('sum')\n",
    "\n",
    "# рассчитываем столбец с рентабельностью\n",
    "data_grouped_var_1['profitability'] = data_grouped_var_1['profit']/data_grouped_var_1['cost']\n",
    "\n",
    "# рассчитываем столбец с числом событий, связанных со строительством выбранных объектов, на одного пользователя\n",
    "data_grouped_var_1['build_per_user'] = data_grouped_var_1['builds']/data_grouped_var_1['users']\n",
    "\n",
    "data_grouped_var_1.head()"
   ]
  },
  {
   "cell_type": "markdown",
   "metadata": {},
   "source": [
    "Посчитаем рентабельность в рассматриваемом сценарии."
   ]
  },
  {
   "cell_type": "code",
   "execution_count": 55,
   "metadata": {},
   "outputs": [
    {
     "data": {
      "text/plain": [
       "0.0478397225206025"
      ]
     },
     "execution_count": 55,
     "metadata": {},
     "output_type": "execute_result"
    }
   ],
   "source": [
    "# считаем рентабельность по суммам из таблицы\n",
    "data_grouped_var_1['profit'].sum()/data_grouped_var_1['cost'].sum()"
   ]
  },
  {
   "cell_type": "markdown",
   "metadata": {},
   "source": [
    "Рентабельность снизилась до 4,8%, пропорционально числу \"рекламных\" событий, связанных со строительством определенных типов зданий."
   ]
  },
  {
   "cell_type": "markdown",
   "metadata": {},
   "source": [
    "Посмотрим также на график динамики рентабельности в данном сценарии."
   ]
  },
  {
   "cell_type": "code",
   "execution_count": 56,
   "metadata": {},
   "outputs": [
    {
     "data": {
      "image/png": "[encoded data removed]",
      "text/plain": [
       "<Figure size 648x432 with 1 Axes>"
      ]
     },
     "metadata": {
      "needs_background": "light"
     },
     "output_type": "display_data"
    }
   ],
   "source": [
    "# строим линейный график рентабельности\n",
    "plt.figure(figsize=(9, 6))\n",
    "plt.plot(data_grouped_var_1['profitability'])\n",
    "plt.axhline(y=0, color='r', linestyle='--')\n",
    "plt.title('Динамика общей рентабельности в сценарии 1')\n",
    "plt.ylabel(\"рентабельность\")\n",
    "plt.grid()\n",
    "plt.show()"
   ]
  },
  {
   "cell_type": "markdown",
   "metadata": {},
   "source": [
    "Мы видим, что затраты на привлечение новых пользователей в этом случае перестают окупаться даже раньше, чем в \"базовом\" варианте. Рассмотрим еще один альтернативный сценарий."
   ]
  },
  {
   "cell_type": "markdown",
   "metadata": {},
   "source": [
    "### Второй вариант - показ рекламы, начиная не с первого события, связанного с постройкой зданий"
   ]
  },
  {
   "cell_type": "markdown",
   "metadata": {},
   "source": [
    "Мы помним, что в среднем пользователи осуществляют около 9 \"рекламных\" событий, связанных со строительством объектов. Выявленный порог максимального снижения количества рекламы позволяет уменьшить число таких событий до 8."
   ]
  },
  {
   "cell_type": "markdown",
   "metadata": {},
   "source": [
    "Рассчитаем показатели рентабельности при таком сценарии. Для этого опять же \"пересоберем\" предыдущие таблицы с новым условием - уменьшим число событий, совершаемых каждым пользователем, на 1."
   ]
  },
  {
   "cell_type": "code",
   "execution_count": 57,
   "metadata": {},
   "outputs": [
    {
     "data": {
      "text/html": [
       "<div>\n",
       "<style scoped>\n",
       "    .dataframe tbody tr th:only-of-type {\n",
       "        vertical-align: middle;\n",
       "    }\n",
       "\n",
       "    .dataframe tbody tr th {\n",
       "        vertical-align: top;\n",
       "    }\n",
       "\n",
       "    .dataframe thead th {\n",
       "        text-align: right;\n",
       "    }\n",
       "</style>\n",
       "<table border=\"1\" class=\"dataframe\">\n",
       "  <thead>\n",
       "    <tr style=\"text-align: right;\">\n",
       "      <th></th>\n",
       "      <th></th>\n",
       "      <th>event</th>\n",
       "      <th>day</th>\n",
       "    </tr>\n",
       "    <tr>\n",
       "      <th>user_id</th>\n",
       "      <th>source</th>\n",
       "      <th></th>\n",
       "      <th></th>\n",
       "    </tr>\n",
       "  </thead>\n",
       "  <tbody>\n",
       "    <tr>\n",
       "      <th>0001f83c-c6ac-4621-b7f0-8a28b283ac30</th>\n",
       "      <th>facebook_ads</th>\n",
       "      <td>12</td>\n",
       "      <td>2020-05-06</td>\n",
       "    </tr>\n",
       "    <tr>\n",
       "      <th>00151b4f-ba38-44a8-a650-d7cf130a0105</th>\n",
       "      <th>yandex_direct</th>\n",
       "      <td>8</td>\n",
       "      <td>2020-05-06</td>\n",
       "    </tr>\n",
       "    <tr>\n",
       "      <th>001aaea6-3d14-43f1-8ca8-7f48820f17aa</th>\n",
       "      <th>youtube_channel_reklama</th>\n",
       "      <td>3</td>\n",
       "      <td>2020-05-05</td>\n",
       "    </tr>\n",
       "    <tr>\n",
       "      <th>001d39dc-366c-4021-9604-6a3b9ff01e25</th>\n",
       "      <th>instagram_new_adverts</th>\n",
       "      <td>7</td>\n",
       "      <td>2020-05-05</td>\n",
       "    </tr>\n",
       "    <tr>\n",
       "      <th>002f508f-67b6-479f-814b-b05f00d4e995</th>\n",
       "      <th>facebook_ads</th>\n",
       "      <td>11</td>\n",
       "      <td>2020-05-05</td>\n",
       "    </tr>\n",
       "  </tbody>\n",
       "</table>\n",
       "</div>"
      ],
      "text/plain": [
       "                                                              event        day\n",
       "user_id                              source                                   \n",
       "0001f83c-c6ac-4621-b7f0-8a28b283ac30 facebook_ads                12 2020-05-06\n",
       "00151b4f-ba38-44a8-a650-d7cf130a0105 yandex_direct                8 2020-05-06\n",
       "001aaea6-3d14-43f1-8ca8-7f48820f17aa youtube_channel_reklama      3 2020-05-05\n",
       "001d39dc-366c-4021-9604-6a3b9ff01e25 instagram_new_adverts        7 2020-05-05\n",
       "002f508f-67b6-479f-814b-b05f00d4e995 facebook_ads                11 2020-05-05"
      ]
     },
     "execution_count": 57,
     "metadata": {},
     "output_type": "execute_result"
    }
   ],
   "source": [
    "# считаем количество событий и первую дату события в группировке по пользователям и источникам для событий, связанных со строительством\n",
    "actions_grouped = actions[actions['event'] == 'building'].groupby(['user_id', 'source']).agg({'event': 'count', 'day': 'first'})\n",
    "\n",
    "# меняем тип данных в столбце с датой\n",
    "actions_grouped['day'] = pd.to_datetime(actions_grouped['day'])\n",
    "\n",
    "# уменьшаем число событий, совершенных каждым пользователем, на единицу\n",
    "actions_grouped['event'] = actions_grouped['event'] - 1\n",
    "\n",
    "actions_grouped.head()"
   ]
  },
  {
   "cell_type": "code",
   "execution_count": 58,
   "metadata": {},
   "outputs": [
    {
     "data": {
      "text/html": [
       "<div>\n",
       "<style scoped>\n",
       "    .dataframe tbody tr th:only-of-type {\n",
       "        vertical-align: middle;\n",
       "    }\n",
       "\n",
       "    .dataframe tbody tr th {\n",
       "        vertical-align: top;\n",
       "    }\n",
       "\n",
       "    .dataframe thead th {\n",
       "        text-align: right;\n",
       "    }\n",
       "</style>\n",
       "<table border=\"1\" class=\"dataframe\">\n",
       "  <thead>\n",
       "    <tr style=\"text-align: right;\">\n",
       "      <th></th>\n",
       "      <th>users</th>\n",
       "      <th>builds</th>\n",
       "      <th>cost</th>\n",
       "      <th>revenue</th>\n",
       "      <th>profit</th>\n",
       "      <th>profitability</th>\n",
       "      <th>build_per_user</th>\n",
       "    </tr>\n",
       "    <tr>\n",
       "      <th>day</th>\n",
       "      <th></th>\n",
       "      <th></th>\n",
       "      <th></th>\n",
       "      <th></th>\n",
       "      <th></th>\n",
       "      <th></th>\n",
       "      <th></th>\n",
       "    </tr>\n",
       "  </thead>\n",
       "  <tbody>\n",
       "    <tr>\n",
       "      <th>2020-05-04</th>\n",
       "      <td>5860</td>\n",
       "      <td>54775</td>\n",
       "      <td>3302.451840</td>\n",
       "      <td>3834.25</td>\n",
       "      <td>531.798160</td>\n",
       "      <td>0.161031</td>\n",
       "      <td>9.347270</td>\n",
       "    </tr>\n",
       "    <tr>\n",
       "      <th>2020-05-05</th>\n",
       "      <td>3361</td>\n",
       "      <td>29386</td>\n",
       "      <td>1865.004649</td>\n",
       "      <td>2057.02</td>\n",
       "      <td>192.015351</td>\n",
       "      <td>0.102957</td>\n",
       "      <td>8.743231</td>\n",
       "    </tr>\n",
       "    <tr>\n",
       "      <th>2020-05-06</th>\n",
       "      <td>1847</td>\n",
       "      <td>14539</td>\n",
       "      <td>1029.431469</td>\n",
       "      <td>1017.73</td>\n",
       "      <td>-11.701469</td>\n",
       "      <td>-0.011367</td>\n",
       "      <td>7.871684</td>\n",
       "    </tr>\n",
       "    <tr>\n",
       "      <th>2020-05-07</th>\n",
       "      <td>1109</td>\n",
       "      <td>7795</td>\n",
       "      <td>620.476519</td>\n",
       "      <td>545.65</td>\n",
       "      <td>-74.826519</td>\n",
       "      <td>-0.120595</td>\n",
       "      <td>7.028855</td>\n",
       "    </tr>\n",
       "    <tr>\n",
       "      <th>2020-05-08</th>\n",
       "      <td>688</td>\n",
       "      <td>4151</td>\n",
       "      <td>391.852033</td>\n",
       "      <td>290.57</td>\n",
       "      <td>-101.282033</td>\n",
       "      <td>-0.258470</td>\n",
       "      <td>6.033430</td>\n",
       "    </tr>\n",
       "  </tbody>\n",
       "</table>\n",
       "</div>"
      ],
      "text/plain": [
       "            users  builds         cost  revenue      profit  profitability  \\\n",
       "day                                                                          \n",
       "2020-05-04   5860   54775  3302.451840  3834.25  531.798160       0.161031   \n",
       "2020-05-05   3361   29386  1865.004649  2057.02  192.015351       0.102957   \n",
       "2020-05-06   1847   14539  1029.431469  1017.73  -11.701469      -0.011367   \n",
       "2020-05-07   1109    7795   620.476519   545.65  -74.826519      -0.120595   \n",
       "2020-05-08    688    4151   391.852033   290.57 -101.282033      -0.258470   \n",
       "\n",
       "            build_per_user  \n",
       "day                         \n",
       "2020-05-04        9.347270  \n",
       "2020-05-05        8.743231  \n",
       "2020-05-06        7.871684  \n",
       "2020-05-07        7.028855  \n",
       "2020-05-08        6.033430  "
      ]
     },
     "execution_count": 58,
     "metadata": {},
     "output_type": "execute_result"
    }
   ],
   "source": [
    "# считаем сумму числа событий и количество пользователей в группировке по дате и источнику\n",
    "data_grouped_var_2 = actions_grouped.groupby(['day', 'source']).agg({'event': ['count', 'sum']}).reset_index()\n",
    "\n",
    "# для удобства переименуем столбцы\n",
    "data_grouped_var_2.columns = ['day', 'source', 'users', 'builds']\n",
    "\n",
    "# добавляем записи о затратах по каждой дате и источнику\n",
    "data_grouped_var_2 = data_grouped_var_2.merge(costs, on=['day', 'source'])\n",
    "\n",
    "# рассчитываем столбец с выручкой\n",
    "data_grouped_var_2['revenue'] = data_grouped_var_2['builds']*0.07\n",
    "\n",
    "# рассчитываем столбец с прибылью\n",
    "data_grouped_var_2['profit'] = data_grouped_var_2['revenue'] - data_grouped_var_2['cost']\n",
    "\n",
    "# считаем основные показатели в группировке только по дате\n",
    "data_grouped_var_2 = data_grouped_var_2.groupby('day').agg('sum')\n",
    "\n",
    "# рассчитываем столбец с рентабельностью\n",
    "data_grouped_var_2['profitability'] = data_grouped_var_2['profit']/data_grouped_var_2['cost']\n",
    "\n",
    "# рассчитываем столбец с числом событий, связанных со строительством выбранных объектов, на одного пользователя\n",
    "data_grouped_var_2['build_per_user'] = data_grouped_var_2['builds']/data_grouped_var_2['users']\n",
    "\n",
    "data_grouped_var_2.head()"
   ]
  },
  {
   "cell_type": "markdown",
   "metadata": {},
   "source": [
    "Посчитаем рентабельность в рассматриваемом сценарии."
   ]
  },
  {
   "cell_type": "code",
   "execution_count": 59,
   "metadata": {},
   "outputs": [
    {
     "data": {
      "text/plain": [
       "0.053004396997922275"
      ]
     },
     "execution_count": 59,
     "metadata": {},
     "output_type": "execute_result"
    }
   ],
   "source": [
    "# считаем рентабельность по суммам из таблицы\n",
    "data_grouped_var_2['profit'].sum()/data_grouped_var_2['cost'].sum()"
   ]
  },
  {
   "cell_type": "markdown",
   "metadata": {},
   "source": [
    "Рентабельность оказалась чуть выше, чем в предыдущем сценарии, и составляет 5,3%."
   ]
  },
  {
   "cell_type": "markdown",
   "metadata": {},
   "source": [
    "Посмотрим также на график динамики рентабельности в данном сценарии."
   ]
  },
  {
   "cell_type": "code",
   "execution_count": 60,
   "metadata": {},
   "outputs": [
    {
     "data": {
      "image/png": "[encoded data removed]",
      "text/plain": [
       "<Figure size 648x432 with 1 Axes>"
      ]
     },
     "metadata": {
      "needs_background": "light"
     },
     "output_type": "display_data"
    }
   ],
   "source": [
    "# строим линейный график рентабельности\n",
    "plt.figure(figsize=(9, 6))\n",
    "plt.plot(data_grouped_var_2['profitability'])\n",
    "plt.axhline(y=0, color='r', linestyle='--')\n",
    "plt.title('Динамика общей рентабельности в сценарии 2')\n",
    "plt.ylabel(\"рентабельность\")\n",
    "plt.grid()\n",
    "plt.show()"
   ]
  },
  {
   "cell_type": "markdown",
   "metadata": {},
   "source": [
    "В целом графики в двух сценариях имеют схожий вид, однако рассматриваемый вариант обладает двумя важными преимуществами:\n",
    "1) Большая гибкость - в перспективе показ рекламы можно начинать с 3-го, 4-го, 5-го... и т.д. события, без привязки к какой-либо внутриигровой статистике;\n",
    "\n",
    "2) Большая \"дружелюбность\" - пользователь не получит дополнительного рекламного сообщения именно в начале своего знакомства с игрой, а не в конце (здание исследовательского центра из предыдущего сценария, скорее всего, будет строиться в конце игры, так как обеспечивает победу через реализацию проекта спутника)."
   ]
  },
  {
   "cell_type": "markdown",
   "metadata": {},
   "source": [
    "## Категоризация данных"
   ]
  },
  {
   "cell_type": "markdown",
   "metadata": {},
   "source": [
    "Посмотрим, как влияет на показатели игровой активности принадлежность пользователей к разным категориям. Выделим категории пользователей, закончивших первый уровень, и пользователей, бросивших игру. Также рассмотрим категории пользователей, прошедших первый уровень разными способами - через реализацию проекта, либо за счет победы над противником."
   ]
  },
  {
   "cell_type": "markdown",
   "metadata": {},
   "source": [
    "Добавим в данные об активности пользователей интересующие нас категориальные признаки, включая признак совершения целевого события, связанного со строительством зданий в игре."
   ]
  },
  {
   "cell_type": "code",
   "execution_count": 61,
   "metadata": {},
   "outputs": [
    {
     "data": {
      "text/html": [
       "<div>\n",
       "<style scoped>\n",
       "    .dataframe tbody tr th:only-of-type {\n",
       "        vertical-align: middle;\n",
       "    }\n",
       "\n",
       "    .dataframe tbody tr th {\n",
       "        vertical-align: top;\n",
       "    }\n",
       "\n",
       "    .dataframe thead th {\n",
       "        text-align: right;\n",
       "    }\n",
       "</style>\n",
       "<table border=\"1\" class=\"dataframe\">\n",
       "  <thead>\n",
       "    <tr style=\"text-align: right;\">\n",
       "      <th></th>\n",
       "      <th>event_datetime</th>\n",
       "      <th>event</th>\n",
       "      <th>building_type</th>\n",
       "      <th>user_id</th>\n",
       "      <th>project_type</th>\n",
       "      <th>day</th>\n",
       "      <th>source</th>\n",
       "      <th>finish</th>\n",
       "      <th>project</th>\n",
       "      <th>building</th>\n",
       "    </tr>\n",
       "  </thead>\n",
       "  <tbody>\n",
       "    <tr>\n",
       "      <th>0</th>\n",
       "      <td>2020-05-04 00:00:01</td>\n",
       "      <td>building</td>\n",
       "      <td>assembly_shop</td>\n",
       "      <td>55e92310-cb8e-4754-b622-597e124b03de</td>\n",
       "      <td>NaN</td>\n",
       "      <td>2020-05-04</td>\n",
       "      <td>youtube_channel_reklama</td>\n",
       "      <td>False</td>\n",
       "      <td>False</td>\n",
       "      <td>True</td>\n",
       "    </tr>\n",
       "    <tr>\n",
       "      <th>1</th>\n",
       "      <td>2020-05-05 05:20:15</td>\n",
       "      <td>building</td>\n",
       "      <td>assembly_shop</td>\n",
       "      <td>55e92310-cb8e-4754-b622-597e124b03de</td>\n",
       "      <td>NaN</td>\n",
       "      <td>2020-05-05</td>\n",
       "      <td>youtube_channel_reklama</td>\n",
       "      <td>False</td>\n",
       "      <td>False</td>\n",
       "      <td>True</td>\n",
       "    </tr>\n",
       "    <tr>\n",
       "      <th>2</th>\n",
       "      <td>2020-05-05 19:24:02</td>\n",
       "      <td>building</td>\n",
       "      <td>assembly_shop</td>\n",
       "      <td>55e92310-cb8e-4754-b622-597e124b03de</td>\n",
       "      <td>NaN</td>\n",
       "      <td>2020-05-05</td>\n",
       "      <td>youtube_channel_reklama</td>\n",
       "      <td>False</td>\n",
       "      <td>False</td>\n",
       "      <td>True</td>\n",
       "    </tr>\n",
       "    <tr>\n",
       "      <th>3</th>\n",
       "      <td>2020-05-05 20:59:19</td>\n",
       "      <td>building</td>\n",
       "      <td>assembly_shop</td>\n",
       "      <td>55e92310-cb8e-4754-b622-597e124b03de</td>\n",
       "      <td>NaN</td>\n",
       "      <td>2020-05-05</td>\n",
       "      <td>youtube_channel_reklama</td>\n",
       "      <td>False</td>\n",
       "      <td>False</td>\n",
       "      <td>True</td>\n",
       "    </tr>\n",
       "    <tr>\n",
       "      <th>4</th>\n",
       "      <td>2020-05-06 00:52:56</td>\n",
       "      <td>building</td>\n",
       "      <td>assembly_shop</td>\n",
       "      <td>55e92310-cb8e-4754-b622-597e124b03de</td>\n",
       "      <td>NaN</td>\n",
       "      <td>2020-05-06</td>\n",
       "      <td>youtube_channel_reklama</td>\n",
       "      <td>False</td>\n",
       "      <td>False</td>\n",
       "      <td>True</td>\n",
       "    </tr>\n",
       "  </tbody>\n",
       "</table>\n",
       "</div>"
      ],
      "text/plain": [
       "       event_datetime     event  building_type  \\\n",
       "0 2020-05-04 00:00:01  building  assembly_shop   \n",
       "1 2020-05-05 05:20:15  building  assembly_shop   \n",
       "2 2020-05-05 19:24:02  building  assembly_shop   \n",
       "3 2020-05-05 20:59:19  building  assembly_shop   \n",
       "4 2020-05-06 00:52:56  building  assembly_shop   \n",
       "\n",
       "                                user_id project_type         day  \\\n",
       "0  55e92310-cb8e-4754-b622-597e124b03de          NaN  2020-05-04   \n",
       "1  55e92310-cb8e-4754-b622-597e124b03de          NaN  2020-05-05   \n",
       "2  55e92310-cb8e-4754-b622-597e124b03de          NaN  2020-05-05   \n",
       "3  55e92310-cb8e-4754-b622-597e124b03de          NaN  2020-05-05   \n",
       "4  55e92310-cb8e-4754-b622-597e124b03de          NaN  2020-05-06   \n",
       "\n",
       "                    source  finish  project  building  \n",
       "0  youtube_channel_reklama   False    False      True  \n",
       "1  youtube_channel_reklama   False    False      True  \n",
       "2  youtube_channel_reklama   False    False      True  \n",
       "3  youtube_channel_reklama   False    False      True  \n",
       "4  youtube_channel_reklama   False    False      True  "
      ]
     },
     "execution_count": 61,
     "metadata": {},
     "output_type": "execute_result"
    }
   ],
   "source": [
    "# добавим столбец с бинарным признаком завершения уровня\n",
    "actions['finish'] = (actions['event'] == 'finished_stage_1')\n",
    "\n",
    "# добавим столбец с бинарным признаком реализации проекта\n",
    "actions['project'] = (actions['event'] == 'project')\n",
    "\n",
    "# добавим столбец с бинарным признаком строительства здания\n",
    "actions['building'] = (actions['event'] == 'building')\n",
    "\n",
    "actions.head()"
   ]
  },
  {
   "cell_type": "markdown",
   "metadata": {},
   "source": [
    "Еще раз сгруппируем данные по пользователям c учетом добавленных признаков."
   ]
  },
  {
   "cell_type": "code",
   "execution_count": 62,
   "metadata": {},
   "outputs": [
    {
     "data": {
      "text/html": [
       "<div>\n",
       "<style scoped>\n",
       "    .dataframe tbody tr th:only-of-type {\n",
       "        vertical-align: middle;\n",
       "    }\n",
       "\n",
       "    .dataframe tbody tr th {\n",
       "        vertical-align: top;\n",
       "    }\n",
       "\n",
       "    .dataframe thead th {\n",
       "        text-align: right;\n",
       "    }\n",
       "</style>\n",
       "<table border=\"1\" class=\"dataframe\">\n",
       "  <thead>\n",
       "    <tr style=\"text-align: right;\">\n",
       "      <th></th>\n",
       "      <th>finish</th>\n",
       "      <th>project</th>\n",
       "      <th>builds</th>\n",
       "      <th>first_date</th>\n",
       "      <th>last_date</th>\n",
       "    </tr>\n",
       "    <tr>\n",
       "      <th>user_id</th>\n",
       "      <th></th>\n",
       "      <th></th>\n",
       "      <th></th>\n",
       "      <th></th>\n",
       "      <th></th>\n",
       "    </tr>\n",
       "  </thead>\n",
       "  <tbody>\n",
       "    <tr>\n",
       "      <th>0001f83c-c6ac-4621-b7f0-8a28b283ac30</th>\n",
       "      <td>False</td>\n",
       "      <td>False</td>\n",
       "      <td>13</td>\n",
       "      <td>2020-05-06 01:07:37</td>\n",
       "      <td>2020-05-20 11:26:06</td>\n",
       "    </tr>\n",
       "    <tr>\n",
       "      <th>00151b4f-ba38-44a8-a650-d7cf130a0105</th>\n",
       "      <td>False</td>\n",
       "      <td>False</td>\n",
       "      <td>9</td>\n",
       "      <td>2020-05-06 03:09:12</td>\n",
       "      <td>2020-05-18 10:46:52</td>\n",
       "    </tr>\n",
       "    <tr>\n",
       "      <th>001aaea6-3d14-43f1-8ca8-7f48820f17aa</th>\n",
       "      <td>False</td>\n",
       "      <td>False</td>\n",
       "      <td>4</td>\n",
       "      <td>2020-05-05 18:08:52</td>\n",
       "      <td>2020-05-14 09:21:27</td>\n",
       "    </tr>\n",
       "    <tr>\n",
       "      <th>001d39dc-366c-4021-9604-6a3b9ff01e25</th>\n",
       "      <td>True</td>\n",
       "      <td>False</td>\n",
       "      <td>8</td>\n",
       "      <td>2020-05-05 21:02:05</td>\n",
       "      <td>2020-05-12 07:40:47</td>\n",
       "    </tr>\n",
       "    <tr>\n",
       "      <th>002f508f-67b6-479f-814b-b05f00d4e995</th>\n",
       "      <td>False</td>\n",
       "      <td>False</td>\n",
       "      <td>12</td>\n",
       "      <td>2020-05-05 13:49:58</td>\n",
       "      <td>2020-05-22 02:46:45</td>\n",
       "    </tr>\n",
       "  </tbody>\n",
       "</table>\n",
       "</div>"
      ],
      "text/plain": [
       "                                      finish  project  builds  \\\n",
       "user_id                                                         \n",
       "0001f83c-c6ac-4621-b7f0-8a28b283ac30   False    False      13   \n",
       "00151b4f-ba38-44a8-a650-d7cf130a0105   False    False       9   \n",
       "001aaea6-3d14-43f1-8ca8-7f48820f17aa   False    False       4   \n",
       "001d39dc-366c-4021-9604-6a3b9ff01e25    True    False       8   \n",
       "002f508f-67b6-479f-814b-b05f00d4e995   False    False      12   \n",
       "\n",
       "                                              first_date           last_date  \n",
       "user_id                                                                       \n",
       "0001f83c-c6ac-4621-b7f0-8a28b283ac30 2020-05-06 01:07:37 2020-05-20 11:26:06  \n",
       "00151b4f-ba38-44a8-a650-d7cf130a0105 2020-05-06 03:09:12 2020-05-18 10:46:52  \n",
       "001aaea6-3d14-43f1-8ca8-7f48820f17aa 2020-05-05 18:08:52 2020-05-14 09:21:27  \n",
       "001d39dc-366c-4021-9604-6a3b9ff01e25 2020-05-05 21:02:05 2020-05-12 07:40:47  \n",
       "002f508f-67b6-479f-814b-b05f00d4e995 2020-05-05 13:49:58 2020-05-22 02:46:45  "
      ]
     },
     "execution_count": 62,
     "metadata": {},
     "output_type": "execute_result"
    }
   ],
   "source": [
    "# считаем первую и последнюю дату события, наличие признака окончания уровня/реализации проекта, а также сумму числа целевых событий в группировке по пользователям\n",
    "actions_grouped = actions.groupby('user_id').agg({'finish': 'max', 'project': 'max', 'building': 'sum', 'event_datetime': ['first', 'last']})\n",
    "\n",
    "# для удобства переименуем столбцы\n",
    "actions_grouped.columns = ['finish', 'project', 'builds', 'first_date', 'last_date']\n",
    "\n",
    "actions_grouped.head()"
   ]
  },
  {
   "cell_type": "markdown",
   "metadata": {},
   "source": [
    "Посчитаем продолжительность игры для каждого пользователя на основе полученных значений."
   ]
  },
  {
   "cell_type": "code",
   "execution_count": 63,
   "metadata": {},
   "outputs": [
    {
     "data": {
      "text/html": [
       "<div>\n",
       "<style scoped>\n",
       "    .dataframe tbody tr th:only-of-type {\n",
       "        vertical-align: middle;\n",
       "    }\n",
       "\n",
       "    .dataframe tbody tr th {\n",
       "        vertical-align: top;\n",
       "    }\n",
       "\n",
       "    .dataframe thead th {\n",
       "        text-align: right;\n",
       "    }\n",
       "</style>\n",
       "<table border=\"1\" class=\"dataframe\">\n",
       "  <thead>\n",
       "    <tr style=\"text-align: right;\">\n",
       "      <th></th>\n",
       "      <th>finish</th>\n",
       "      <th>project</th>\n",
       "      <th>builds</th>\n",
       "      <th>first_date</th>\n",
       "      <th>last_date</th>\n",
       "      <th>duration</th>\n",
       "    </tr>\n",
       "    <tr>\n",
       "      <th>user_id</th>\n",
       "      <th></th>\n",
       "      <th></th>\n",
       "      <th></th>\n",
       "      <th></th>\n",
       "      <th></th>\n",
       "      <th></th>\n",
       "    </tr>\n",
       "  </thead>\n",
       "  <tbody>\n",
       "    <tr>\n",
       "      <th>0001f83c-c6ac-4621-b7f0-8a28b283ac30</th>\n",
       "      <td>False</td>\n",
       "      <td>False</td>\n",
       "      <td>13</td>\n",
       "      <td>2020-05-06 01:07:37</td>\n",
       "      <td>2020-05-20 11:26:06</td>\n",
       "      <td>346.308056</td>\n",
       "    </tr>\n",
       "    <tr>\n",
       "      <th>00151b4f-ba38-44a8-a650-d7cf130a0105</th>\n",
       "      <td>False</td>\n",
       "      <td>False</td>\n",
       "      <td>9</td>\n",
       "      <td>2020-05-06 03:09:12</td>\n",
       "      <td>2020-05-18 10:46:52</td>\n",
       "      <td>295.627778</td>\n",
       "    </tr>\n",
       "    <tr>\n",
       "      <th>001aaea6-3d14-43f1-8ca8-7f48820f17aa</th>\n",
       "      <td>False</td>\n",
       "      <td>False</td>\n",
       "      <td>4</td>\n",
       "      <td>2020-05-05 18:08:52</td>\n",
       "      <td>2020-05-14 09:21:27</td>\n",
       "      <td>207.209722</td>\n",
       "    </tr>\n",
       "    <tr>\n",
       "      <th>001d39dc-366c-4021-9604-6a3b9ff01e25</th>\n",
       "      <td>True</td>\n",
       "      <td>False</td>\n",
       "      <td>8</td>\n",
       "      <td>2020-05-05 21:02:05</td>\n",
       "      <td>2020-05-12 07:40:47</td>\n",
       "      <td>154.645000</td>\n",
       "    </tr>\n",
       "    <tr>\n",
       "      <th>002f508f-67b6-479f-814b-b05f00d4e995</th>\n",
       "      <td>False</td>\n",
       "      <td>False</td>\n",
       "      <td>12</td>\n",
       "      <td>2020-05-05 13:49:58</td>\n",
       "      <td>2020-05-22 02:46:45</td>\n",
       "      <td>396.946389</td>\n",
       "    </tr>\n",
       "  </tbody>\n",
       "</table>\n",
       "</div>"
      ],
      "text/plain": [
       "                                      finish  project  builds  \\\n",
       "user_id                                                         \n",
       "0001f83c-c6ac-4621-b7f0-8a28b283ac30   False    False      13   \n",
       "00151b4f-ba38-44a8-a650-d7cf130a0105   False    False       9   \n",
       "001aaea6-3d14-43f1-8ca8-7f48820f17aa   False    False       4   \n",
       "001d39dc-366c-4021-9604-6a3b9ff01e25    True    False       8   \n",
       "002f508f-67b6-479f-814b-b05f00d4e995   False    False      12   \n",
       "\n",
       "                                              first_date           last_date  \\\n",
       "user_id                                                                        \n",
       "0001f83c-c6ac-4621-b7f0-8a28b283ac30 2020-05-06 01:07:37 2020-05-20 11:26:06   \n",
       "00151b4f-ba38-44a8-a650-d7cf130a0105 2020-05-06 03:09:12 2020-05-18 10:46:52   \n",
       "001aaea6-3d14-43f1-8ca8-7f48820f17aa 2020-05-05 18:08:52 2020-05-14 09:21:27   \n",
       "001d39dc-366c-4021-9604-6a3b9ff01e25 2020-05-05 21:02:05 2020-05-12 07:40:47   \n",
       "002f508f-67b6-479f-814b-b05f00d4e995 2020-05-05 13:49:58 2020-05-22 02:46:45   \n",
       "\n",
       "                                        duration  \n",
       "user_id                                           \n",
       "0001f83c-c6ac-4621-b7f0-8a28b283ac30  346.308056  \n",
       "00151b4f-ba38-44a8-a650-d7cf130a0105  295.627778  \n",
       "001aaea6-3d14-43f1-8ca8-7f48820f17aa  207.209722  \n",
       "001d39dc-366c-4021-9604-6a3b9ff01e25  154.645000  \n",
       "002f508f-67b6-479f-814b-b05f00d4e995  396.946389  "
      ]
     },
     "execution_count": 63,
     "metadata": {},
     "output_type": "execute_result"
    }
   ],
   "source": [
    "# рассчитываем продолжительность игры в часах\n",
    "actions_grouped['duration'] = (actions_grouped['last_date'] - actions_grouped['first_date']) / np.timedelta64(1, 'h')\n",
    "\n",
    "actions_grouped.head()"
   ]
  },
  {
   "cell_type": "markdown",
   "metadata": {},
   "source": [
    "Выделим категории пользователей, завершивших первый уровень, и пользователей, покинувших игру."
   ]
  },
  {
   "cell_type": "code",
   "execution_count": 64,
   "metadata": {},
   "outputs": [
    {
     "data": {
      "text/html": [
       "<div>\n",
       "<style scoped>\n",
       "    .dataframe tbody tr th:only-of-type {\n",
       "        vertical-align: middle;\n",
       "    }\n",
       "\n",
       "    .dataframe tbody tr th {\n",
       "        vertical-align: top;\n",
       "    }\n",
       "\n",
       "    .dataframe thead th {\n",
       "        text-align: right;\n",
       "    }\n",
       "</style>\n",
       "<table border=\"1\" class=\"dataframe\">\n",
       "  <thead>\n",
       "    <tr style=\"text-align: right;\">\n",
       "      <th></th>\n",
       "      <th>finish</th>\n",
       "      <th>project</th>\n",
       "      <th>builds</th>\n",
       "      <th>first_date</th>\n",
       "      <th>last_date</th>\n",
       "      <th>duration</th>\n",
       "    </tr>\n",
       "    <tr>\n",
       "      <th>user_id</th>\n",
       "      <th></th>\n",
       "      <th></th>\n",
       "      <th></th>\n",
       "      <th></th>\n",
       "      <th></th>\n",
       "      <th></th>\n",
       "    </tr>\n",
       "  </thead>\n",
       "  <tbody>\n",
       "    <tr>\n",
       "      <th>001d39dc-366c-4021-9604-6a3b9ff01e25</th>\n",
       "      <td>True</td>\n",
       "      <td>False</td>\n",
       "      <td>8</td>\n",
       "      <td>2020-05-05 21:02:05</td>\n",
       "      <td>2020-05-12 07:40:47</td>\n",
       "      <td>154.645000</td>\n",
       "    </tr>\n",
       "    <tr>\n",
       "      <th>003ee7e8-6356-4286-a715-62f22a18d2a1</th>\n",
       "      <td>True</td>\n",
       "      <td>False</td>\n",
       "      <td>8</td>\n",
       "      <td>2020-05-05 08:31:04</td>\n",
       "      <td>2020-05-17 21:47:49</td>\n",
       "      <td>301.279167</td>\n",
       "    </tr>\n",
       "    <tr>\n",
       "      <th>004074f8-251a-4776-922c-8348dca1a2f6</th>\n",
       "      <td>True</td>\n",
       "      <td>False</td>\n",
       "      <td>12</td>\n",
       "      <td>2020-05-04 01:07:35</td>\n",
       "      <td>2020-05-16 19:57:40</td>\n",
       "      <td>306.834722</td>\n",
       "    </tr>\n",
       "    <tr>\n",
       "      <th>00464e5e-28ed-4be6-bf44-517ef7b3937b</th>\n",
       "      <td>True</td>\n",
       "      <td>False</td>\n",
       "      <td>8</td>\n",
       "      <td>2020-05-04 08:35:29</td>\n",
       "      <td>2020-05-15 16:02:01</td>\n",
       "      <td>271.442222</td>\n",
       "    </tr>\n",
       "    <tr>\n",
       "      <th>0056c007-c082-43cc-bdef-afc49bca4cb9</th>\n",
       "      <td>True</td>\n",
       "      <td>False</td>\n",
       "      <td>3</td>\n",
       "      <td>2020-05-10 11:49:47</td>\n",
       "      <td>2020-05-16 13:48:39</td>\n",
       "      <td>145.981111</td>\n",
       "    </tr>\n",
       "  </tbody>\n",
       "</table>\n",
       "</div>"
      ],
      "text/plain": [
       "                                      finish  project  builds  \\\n",
       "user_id                                                         \n",
       "001d39dc-366c-4021-9604-6a3b9ff01e25    True    False       8   \n",
       "003ee7e8-6356-4286-a715-62f22a18d2a1    True    False       8   \n",
       "004074f8-251a-4776-922c-8348dca1a2f6    True    False      12   \n",
       "00464e5e-28ed-4be6-bf44-517ef7b3937b    True    False       8   \n",
       "0056c007-c082-43cc-bdef-afc49bca4cb9    True    False       3   \n",
       "\n",
       "                                              first_date           last_date  \\\n",
       "user_id                                                                        \n",
       "001d39dc-366c-4021-9604-6a3b9ff01e25 2020-05-05 21:02:05 2020-05-12 07:40:47   \n",
       "003ee7e8-6356-4286-a715-62f22a18d2a1 2020-05-05 08:31:04 2020-05-17 21:47:49   \n",
       "004074f8-251a-4776-922c-8348dca1a2f6 2020-05-04 01:07:35 2020-05-16 19:57:40   \n",
       "00464e5e-28ed-4be6-bf44-517ef7b3937b 2020-05-04 08:35:29 2020-05-15 16:02:01   \n",
       "0056c007-c082-43cc-bdef-afc49bca4cb9 2020-05-10 11:49:47 2020-05-16 13:48:39   \n",
       "\n",
       "                                        duration  \n",
       "user_id                                           \n",
       "001d39dc-366c-4021-9604-6a3b9ff01e25  154.645000  \n",
       "003ee7e8-6356-4286-a715-62f22a18d2a1  301.279167  \n",
       "004074f8-251a-4776-922c-8348dca1a2f6  306.834722  \n",
       "00464e5e-28ed-4be6-bf44-517ef7b3937b  271.442222  \n",
       "0056c007-c082-43cc-bdef-afc49bca4cb9  145.981111  "
      ]
     },
     "execution_count": 64,
     "metadata": {},
     "output_type": "execute_result"
    }
   ],
   "source": [
    "# выделяем категорию пользователей, завершивших первый уровень\n",
    "winners_all = actions_grouped[actions_grouped['finish'] == True]\n",
    "\n",
    "winners_all.head()"
   ]
  },
  {
   "cell_type": "code",
   "execution_count": 65,
   "metadata": {},
   "outputs": [
    {
     "data": {
      "text/html": [
       "<div>\n",
       "<style scoped>\n",
       "    .dataframe tbody tr th:only-of-type {\n",
       "        vertical-align: middle;\n",
       "    }\n",
       "\n",
       "    .dataframe tbody tr th {\n",
       "        vertical-align: top;\n",
       "    }\n",
       "\n",
       "    .dataframe thead th {\n",
       "        text-align: right;\n",
       "    }\n",
       "</style>\n",
       "<table border=\"1\" class=\"dataframe\">\n",
       "  <thead>\n",
       "    <tr style=\"text-align: right;\">\n",
       "      <th></th>\n",
       "      <th>finish</th>\n",
       "      <th>project</th>\n",
       "      <th>builds</th>\n",
       "      <th>first_date</th>\n",
       "      <th>last_date</th>\n",
       "      <th>duration</th>\n",
       "    </tr>\n",
       "    <tr>\n",
       "      <th>user_id</th>\n",
       "      <th></th>\n",
       "      <th></th>\n",
       "      <th></th>\n",
       "      <th></th>\n",
       "      <th></th>\n",
       "      <th></th>\n",
       "    </tr>\n",
       "  </thead>\n",
       "  <tbody>\n",
       "    <tr>\n",
       "      <th>0001f83c-c6ac-4621-b7f0-8a28b283ac30</th>\n",
       "      <td>False</td>\n",
       "      <td>False</td>\n",
       "      <td>13</td>\n",
       "      <td>2020-05-06 01:07:37</td>\n",
       "      <td>2020-05-20 11:26:06</td>\n",
       "      <td>346.308056</td>\n",
       "    </tr>\n",
       "    <tr>\n",
       "      <th>00151b4f-ba38-44a8-a650-d7cf130a0105</th>\n",
       "      <td>False</td>\n",
       "      <td>False</td>\n",
       "      <td>9</td>\n",
       "      <td>2020-05-06 03:09:12</td>\n",
       "      <td>2020-05-18 10:46:52</td>\n",
       "      <td>295.627778</td>\n",
       "    </tr>\n",
       "    <tr>\n",
       "      <th>001aaea6-3d14-43f1-8ca8-7f48820f17aa</th>\n",
       "      <td>False</td>\n",
       "      <td>False</td>\n",
       "      <td>4</td>\n",
       "      <td>2020-05-05 18:08:52</td>\n",
       "      <td>2020-05-14 09:21:27</td>\n",
       "      <td>207.209722</td>\n",
       "    </tr>\n",
       "    <tr>\n",
       "      <th>002f508f-67b6-479f-814b-b05f00d4e995</th>\n",
       "      <td>False</td>\n",
       "      <td>False</td>\n",
       "      <td>12</td>\n",
       "      <td>2020-05-05 13:49:58</td>\n",
       "      <td>2020-05-22 02:46:45</td>\n",
       "      <td>396.946389</td>\n",
       "    </tr>\n",
       "    <tr>\n",
       "      <th>003b80c6-4164-4157-bb2a-03d0181d39c4</th>\n",
       "      <td>False</td>\n",
       "      <td>False</td>\n",
       "      <td>14</td>\n",
       "      <td>2020-05-04 09:10:22</td>\n",
       "      <td>2020-05-12 15:23:37</td>\n",
       "      <td>198.220833</td>\n",
       "    </tr>\n",
       "  </tbody>\n",
       "</table>\n",
       "</div>"
      ],
      "text/plain": [
       "                                      finish  project  builds  \\\n",
       "user_id                                                         \n",
       "0001f83c-c6ac-4621-b7f0-8a28b283ac30   False    False      13   \n",
       "00151b4f-ba38-44a8-a650-d7cf130a0105   False    False       9   \n",
       "001aaea6-3d14-43f1-8ca8-7f48820f17aa   False    False       4   \n",
       "002f508f-67b6-479f-814b-b05f00d4e995   False    False      12   \n",
       "003b80c6-4164-4157-bb2a-03d0181d39c4   False    False      14   \n",
       "\n",
       "                                              first_date           last_date  \\\n",
       "user_id                                                                        \n",
       "0001f83c-c6ac-4621-b7f0-8a28b283ac30 2020-05-06 01:07:37 2020-05-20 11:26:06   \n",
       "00151b4f-ba38-44a8-a650-d7cf130a0105 2020-05-06 03:09:12 2020-05-18 10:46:52   \n",
       "001aaea6-3d14-43f1-8ca8-7f48820f17aa 2020-05-05 18:08:52 2020-05-14 09:21:27   \n",
       "002f508f-67b6-479f-814b-b05f00d4e995 2020-05-05 13:49:58 2020-05-22 02:46:45   \n",
       "003b80c6-4164-4157-bb2a-03d0181d39c4 2020-05-04 09:10:22 2020-05-12 15:23:37   \n",
       "\n",
       "                                        duration  \n",
       "user_id                                           \n",
       "0001f83c-c6ac-4621-b7f0-8a28b283ac30  346.308056  \n",
       "00151b4f-ba38-44a8-a650-d7cf130a0105  295.627778  \n",
       "001aaea6-3d14-43f1-8ca8-7f48820f17aa  207.209722  \n",
       "002f508f-67b6-479f-814b-b05f00d4e995  396.946389  \n",
       "003b80c6-4164-4157-bb2a-03d0181d39c4  198.220833  "
      ]
     },
     "execution_count": 65,
     "metadata": {},
     "output_type": "execute_result"
    }
   ],
   "source": [
    "# выделяем категорию пользователей, покинувших игру\n",
    "quitters_all = actions_grouped[actions_grouped['finish'] == False]\n",
    "\n",
    "quitters_all.head()"
   ]
  },
  {
   "cell_type": "markdown",
   "metadata": {},
   "source": [
    "Также разделим \"победителей\" на тех, кто реализовал проект спутника, и тех, кто одержал боевую победу над противником."
   ]
  },
  {
   "cell_type": "code",
   "execution_count": 66,
   "metadata": {},
   "outputs": [
    {
     "data": {
      "text/html": [
       "<div>\n",
       "<style scoped>\n",
       "    .dataframe tbody tr th:only-of-type {\n",
       "        vertical-align: middle;\n",
       "    }\n",
       "\n",
       "    .dataframe tbody tr th {\n",
       "        vertical-align: top;\n",
       "    }\n",
       "\n",
       "    .dataframe thead th {\n",
       "        text-align: right;\n",
       "    }\n",
       "</style>\n",
       "<table border=\"1\" class=\"dataframe\">\n",
       "  <thead>\n",
       "    <tr style=\"text-align: right;\">\n",
       "      <th></th>\n",
       "      <th>finish</th>\n",
       "      <th>project</th>\n",
       "      <th>builds</th>\n",
       "      <th>first_date</th>\n",
       "      <th>last_date</th>\n",
       "      <th>duration</th>\n",
       "    </tr>\n",
       "    <tr>\n",
       "      <th>user_id</th>\n",
       "      <th></th>\n",
       "      <th></th>\n",
       "      <th></th>\n",
       "      <th></th>\n",
       "      <th></th>\n",
       "      <th></th>\n",
       "    </tr>\n",
       "  </thead>\n",
       "  <tbody>\n",
       "    <tr>\n",
       "      <th>001d39dc-366c-4021-9604-6a3b9ff01e25</th>\n",
       "      <td>True</td>\n",
       "      <td>False</td>\n",
       "      <td>8</td>\n",
       "      <td>2020-05-05 21:02:05</td>\n",
       "      <td>2020-05-12 07:40:47</td>\n",
       "      <td>154.645000</td>\n",
       "    </tr>\n",
       "    <tr>\n",
       "      <th>003ee7e8-6356-4286-a715-62f22a18d2a1</th>\n",
       "      <td>True</td>\n",
       "      <td>False</td>\n",
       "      <td>8</td>\n",
       "      <td>2020-05-05 08:31:04</td>\n",
       "      <td>2020-05-17 21:47:49</td>\n",
       "      <td>301.279167</td>\n",
       "    </tr>\n",
       "    <tr>\n",
       "      <th>004074f8-251a-4776-922c-8348dca1a2f6</th>\n",
       "      <td>True</td>\n",
       "      <td>False</td>\n",
       "      <td>12</td>\n",
       "      <td>2020-05-04 01:07:35</td>\n",
       "      <td>2020-05-16 19:57:40</td>\n",
       "      <td>306.834722</td>\n",
       "    </tr>\n",
       "    <tr>\n",
       "      <th>00464e5e-28ed-4be6-bf44-517ef7b3937b</th>\n",
       "      <td>True</td>\n",
       "      <td>False</td>\n",
       "      <td>8</td>\n",
       "      <td>2020-05-04 08:35:29</td>\n",
       "      <td>2020-05-15 16:02:01</td>\n",
       "      <td>271.442222</td>\n",
       "    </tr>\n",
       "    <tr>\n",
       "      <th>0056c007-c082-43cc-bdef-afc49bca4cb9</th>\n",
       "      <td>True</td>\n",
       "      <td>False</td>\n",
       "      <td>3</td>\n",
       "      <td>2020-05-10 11:49:47</td>\n",
       "      <td>2020-05-16 13:48:39</td>\n",
       "      <td>145.981111</td>\n",
       "    </tr>\n",
       "  </tbody>\n",
       "</table>\n",
       "</div>"
      ],
      "text/plain": [
       "                                      finish  project  builds  \\\n",
       "user_id                                                         \n",
       "001d39dc-366c-4021-9604-6a3b9ff01e25    True    False       8   \n",
       "003ee7e8-6356-4286-a715-62f22a18d2a1    True    False       8   \n",
       "004074f8-251a-4776-922c-8348dca1a2f6    True    False      12   \n",
       "00464e5e-28ed-4be6-bf44-517ef7b3937b    True    False       8   \n",
       "0056c007-c082-43cc-bdef-afc49bca4cb9    True    False       3   \n",
       "\n",
       "                                              first_date           last_date  \\\n",
       "user_id                                                                        \n",
       "001d39dc-366c-4021-9604-6a3b9ff01e25 2020-05-05 21:02:05 2020-05-12 07:40:47   \n",
       "003ee7e8-6356-4286-a715-62f22a18d2a1 2020-05-05 08:31:04 2020-05-17 21:47:49   \n",
       "004074f8-251a-4776-922c-8348dca1a2f6 2020-05-04 01:07:35 2020-05-16 19:57:40   \n",
       "00464e5e-28ed-4be6-bf44-517ef7b3937b 2020-05-04 08:35:29 2020-05-15 16:02:01   \n",
       "0056c007-c082-43cc-bdef-afc49bca4cb9 2020-05-10 11:49:47 2020-05-16 13:48:39   \n",
       "\n",
       "                                        duration  \n",
       "user_id                                           \n",
       "001d39dc-366c-4021-9604-6a3b9ff01e25  154.645000  \n",
       "003ee7e8-6356-4286-a715-62f22a18d2a1  301.279167  \n",
       "004074f8-251a-4776-922c-8348dca1a2f6  306.834722  \n",
       "00464e5e-28ed-4be6-bf44-517ef7b3937b  271.442222  \n",
       "0056c007-c082-43cc-bdef-afc49bca4cb9  145.981111  "
      ]
     },
     "execution_count": 66,
     "metadata": {},
     "output_type": "execute_result"
    }
   ],
   "source": [
    "# выделяем категорию пользователей, победивших противника в бою\n",
    "winners_fight = winners_all[winners_all['project'] == False]\n",
    "\n",
    "winners_fight.head()"
   ]
  },
  {
   "cell_type": "code",
   "execution_count": 67,
   "metadata": {},
   "outputs": [
    {
     "data": {
      "text/html": [
       "<div>\n",
       "<style scoped>\n",
       "    .dataframe tbody tr th:only-of-type {\n",
       "        vertical-align: middle;\n",
       "    }\n",
       "\n",
       "    .dataframe tbody tr th {\n",
       "        vertical-align: top;\n",
       "    }\n",
       "\n",
       "    .dataframe thead th {\n",
       "        text-align: right;\n",
       "    }\n",
       "</style>\n",
       "<table border=\"1\" class=\"dataframe\">\n",
       "  <thead>\n",
       "    <tr style=\"text-align: right;\">\n",
       "      <th></th>\n",
       "      <th>finish</th>\n",
       "      <th>project</th>\n",
       "      <th>builds</th>\n",
       "      <th>first_date</th>\n",
       "      <th>last_date</th>\n",
       "      <th>duration</th>\n",
       "    </tr>\n",
       "    <tr>\n",
       "      <th>user_id</th>\n",
       "      <th></th>\n",
       "      <th></th>\n",
       "      <th></th>\n",
       "      <th></th>\n",
       "      <th></th>\n",
       "      <th></th>\n",
       "    </tr>\n",
       "  </thead>\n",
       "  <tbody>\n",
       "    <tr>\n",
       "      <th>006380d6-67a6-45de-ab1e-6eb54ad8dbe8</th>\n",
       "      <td>True</td>\n",
       "      <td>True</td>\n",
       "      <td>11</td>\n",
       "      <td>2020-05-04 16:43:39</td>\n",
       "      <td>2020-05-16 11:22:33</td>\n",
       "      <td>282.648333</td>\n",
       "    </tr>\n",
       "    <tr>\n",
       "      <th>00be7371-fa79-4fbd-b8e7-8ba32e3f8f82</th>\n",
       "      <td>True</td>\n",
       "      <td>True</td>\n",
       "      <td>12</td>\n",
       "      <td>2020-05-08 21:57:44</td>\n",
       "      <td>2020-05-24 19:05:12</td>\n",
       "      <td>381.124444</td>\n",
       "    </tr>\n",
       "    <tr>\n",
       "      <th>00c2b9f2-2615-439c-aed0-6974e4c6c1c1</th>\n",
       "      <td>True</td>\n",
       "      <td>True</td>\n",
       "      <td>11</td>\n",
       "      <td>2020-05-07 10:26:09</td>\n",
       "      <td>2020-05-27 11:38:47</td>\n",
       "      <td>481.210556</td>\n",
       "    </tr>\n",
       "    <tr>\n",
       "      <th>00de2809-403e-4476-a2f7-ca1b11700190</th>\n",
       "      <td>True</td>\n",
       "      <td>True</td>\n",
       "      <td>13</td>\n",
       "      <td>2020-05-04 07:48:50</td>\n",
       "      <td>2020-05-18 09:34:10</td>\n",
       "      <td>337.755556</td>\n",
       "    </tr>\n",
       "    <tr>\n",
       "      <th>00e83261-5fd4-4939-9616-802b5a0202c6</th>\n",
       "      <td>True</td>\n",
       "      <td>True</td>\n",
       "      <td>13</td>\n",
       "      <td>2020-05-05 15:49:57</td>\n",
       "      <td>2020-05-20 09:35:04</td>\n",
       "      <td>353.751944</td>\n",
       "    </tr>\n",
       "  </tbody>\n",
       "</table>\n",
       "</div>"
      ],
      "text/plain": [
       "                                      finish  project  builds  \\\n",
       "user_id                                                         \n",
       "006380d6-67a6-45de-ab1e-6eb54ad8dbe8    True     True      11   \n",
       "00be7371-fa79-4fbd-b8e7-8ba32e3f8f82    True     True      12   \n",
       "00c2b9f2-2615-439c-aed0-6974e4c6c1c1    True     True      11   \n",
       "00de2809-403e-4476-a2f7-ca1b11700190    True     True      13   \n",
       "00e83261-5fd4-4939-9616-802b5a0202c6    True     True      13   \n",
       "\n",
       "                                              first_date           last_date  \\\n",
       "user_id                                                                        \n",
       "006380d6-67a6-45de-ab1e-6eb54ad8dbe8 2020-05-04 16:43:39 2020-05-16 11:22:33   \n",
       "00be7371-fa79-4fbd-b8e7-8ba32e3f8f82 2020-05-08 21:57:44 2020-05-24 19:05:12   \n",
       "00c2b9f2-2615-439c-aed0-6974e4c6c1c1 2020-05-07 10:26:09 2020-05-27 11:38:47   \n",
       "00de2809-403e-4476-a2f7-ca1b11700190 2020-05-04 07:48:50 2020-05-18 09:34:10   \n",
       "00e83261-5fd4-4939-9616-802b5a0202c6 2020-05-05 15:49:57 2020-05-20 09:35:04   \n",
       "\n",
       "                                        duration  \n",
       "user_id                                           \n",
       "006380d6-67a6-45de-ab1e-6eb54ad8dbe8  282.648333  \n",
       "00be7371-fa79-4fbd-b8e7-8ba32e3f8f82  381.124444  \n",
       "00c2b9f2-2615-439c-aed0-6974e4c6c1c1  481.210556  \n",
       "00de2809-403e-4476-a2f7-ca1b11700190  337.755556  \n",
       "00e83261-5fd4-4939-9616-802b5a0202c6  353.751944  "
      ]
     },
     "execution_count": 67,
     "metadata": {},
     "output_type": "execute_result"
    }
   ],
   "source": [
    "# выделяем категорию пользователей, реализовавших проект спутника\n",
    "winners_project = winners_all[winners_all['project'] == True]\n",
    "\n",
    "winners_project.head()"
   ]
  },
  {
   "cell_type": "markdown",
   "metadata": {},
   "source": [
    "Далее оценим основные показатели пользовательской активности в разных категориях. Начнем с параметра средней продолжительности игры."
   ]
  },
  {
   "cell_type": "code",
   "execution_count": 68,
   "metadata": {},
   "outputs": [
    {
     "data": {
      "text/plain": [
       "266.5066878286794"
      ]
     },
     "execution_count": 68,
     "metadata": {},
     "output_type": "execute_result"
    }
   ],
   "source": [
    "# считаем среднюю продолжительность игры среди пользователей, победивших противника\n",
    "winners_fight['duration'].mean()"
   ]
  },
  {
   "cell_type": "code",
   "execution_count": 69,
   "metadata": {},
   "outputs": [
    {
     "data": {
      "text/plain": [
       "323.01364862450947"
      ]
     },
     "execution_count": 69,
     "metadata": {},
     "output_type": "execute_result"
    }
   ],
   "source": [
    "# считаем среднюю продолжительность игры среди пользователей, реализовавших проект\n",
    "winners_project['duration'].mean()"
   ]
  },
  {
   "cell_type": "markdown",
   "metadata": {},
   "source": [
    "Мы видим, что \"научная\" победа занимает больше времени, чем \"военная\" (в среднем на 57 часов). Интересно, как это влияет на число целевых событий, связанных со строительством."
   ]
  },
  {
   "cell_type": "code",
   "execution_count": 70,
   "metadata": {},
   "outputs": [
    {
     "data": {
      "text/plain": [
       "9.411541381928625"
      ]
     },
     "execution_count": 70,
     "metadata": {},
     "output_type": "execute_result"
    }
   ],
   "source": [
    "# считаем среднее число целевых событий среди пользователей, победивших противника\n",
    "winners_fight['builds'].mean()"
   ]
  },
  {
   "cell_type": "code",
   "execution_count": 71,
   "metadata": {},
   "outputs": [
    {
     "data": {
      "text/plain": [
       "12.64790996784566"
      ]
     },
     "execution_count": 71,
     "metadata": {},
     "output_type": "execute_result"
    }
   ],
   "source": [
    "# считаем среднее число целевых событий среди пользователей, реализовавших проект\n",
    "winners_project['builds'].mean()"
   ]
  },
  {
   "cell_type": "markdown",
   "metadata": {},
   "source": [
    "Логично, что те, кто дольше играет, совершает больше целевых событий, хотя, вероятно, сам стиль игры, связанный с реализацией проекта спутника, может предполагать больший объем строительства."
   ]
  },
  {
   "cell_type": "markdown",
   "metadata": {},
   "source": [
    "Теперь посмотрим на различие в числе целевых событий между пользователями, прошедшими первый уровень, и пользователями, покинувшими игру."
   ]
  },
  {
   "cell_type": "code",
   "execution_count": 72,
   "metadata": {},
   "outputs": [
    {
     "data": {
      "text/plain": [
       "10.449716348633316"
      ]
     },
     "execution_count": 72,
     "metadata": {},
     "output_type": "execute_result"
    }
   ],
   "source": [
    "# считаем среднее число целевых событий среди пользователей, завершивших первый уровень\n",
    "winners_all['builds'].mean()"
   ]
  },
  {
   "cell_type": "code",
   "execution_count": 73,
   "metadata": {},
   "outputs": [
    {
     "data": {
      "text/plain": [
       "8.657043433432143"
      ]
     },
     "execution_count": 73,
     "metadata": {},
     "output_type": "execute_result"
    }
   ],
   "source": [
    "# считаем среднее число целевых событий среди пользователей, покинувших игру\n",
    "quitters_all['builds'].mean()"
   ]
  },
  {
   "cell_type": "markdown",
   "metadata": {},
   "source": [
    "Если пользователи и бросали игру, то в целом это происходило не потому, что они посмотрели больше рекламы, чем остальные игроки. Возможно, такие пользователи были менее \"устойчивы\" к рекламе, хотя повлиять на их уход могли и другие причины, связанные с геймплеем, сеттингом или иными особенностями игры. "
   ]
  },
  {
   "cell_type": "markdown",
   "metadata": {},
   "source": [
    "В любом случае, несмотря на наличие видимых отличий между категориями, мы должны проверить их на статистическую значимость, прежде чем делать окончательные выводы."
   ]
  },
  {
   "cell_type": "markdown",
   "metadata": {},
   "source": [
    "## Проверка гипотез"
   ]
  },
  {
   "cell_type": "markdown",
   "metadata": {},
   "source": [
    "Сформируем гипотезы, исходя из ранее проведенного сравнения параметров игровой активности между различными категориями пользователей."
   ]
  },
  {
   "cell_type": "markdown",
   "metadata": {},
   "source": [
    "### Первая гипотеза - существует различие во времени прохождения уровня между пользователями, которые заканчивают уровень через реализацию проекта, и пользователями, которые заканчивают уровень победой над другим игроком"
   ]
  },
  {
   "cell_type": "markdown",
   "metadata": {},
   "source": [
    "В этом случае нулевая гипотеза будет сформулирована, исходя из принципа равенства, а альтернативная - как противоположная нулевой:\n",
    "- h0: среднее время прохождения уровня пользователями, которые заканчивают уровень через реализацию проекта, и пользователями, которые заканчивают уровень победой над другим игроком, равно;\n",
    "- h1: среднее время прохождения уровня пользователями, которые заканчивают уровень через реализацию проекта, и пользователями, которые заканчивают уровень победой над другим игроком, не равно."
   ]
  },
  {
   "cell_type": "markdown",
   "metadata": {},
   "source": [
    "Для проверки используем t-тест с параметром equal_var. Критерий значимости возьмем на уровне 5%."
   ]
  },
  {
   "cell_type": "code",
   "execution_count": 74,
   "metadata": {},
   "outputs": [
    {
     "data": {
      "text/plain": [
       "5.708058235071826e-107"
      ]
     },
     "execution_count": 74,
     "metadata": {},
     "output_type": "execute_result"
    }
   ],
   "source": [
    "#получаем результат теста\n",
    "result = st.ttest_ind(winners_fight['duration'], winners_project['duration'], equal_var=False) \n",
    "\n",
    "result.pvalue "
   ]
  },
  {
   "cell_type": "markdown",
   "metadata": {},
   "source": [
    "Значение p-value крайне мало и очевидно ниже критерия значимости. Следовательно, нулевую гипотезу можно отвергнуть и считать, что средняя продолжительность игры в двух рассматриваемых категориях действительно различается."
   ]
  },
  {
   "cell_type": "markdown",
   "metadata": {},
   "source": [
    "### Вторая гипотеза - существует различие в количестве действий, вызывающих показ рекламы, между пользователями, которые заканчивают уровень через реализацию проекта, и пользователями, которые заканчивают уровень победой над другим игроком"
   ]
  },
  {
   "cell_type": "markdown",
   "metadata": {},
   "source": [
    "Сформулируем нулевую и альтернативную гипотезу аналогичным образом:\n",
    "\n",
    "- h0: среднее число целевых действий, выполняемых пользователями, которые заканчивают уровень через реализацию проекта, и пользователями, которые заканчивают уровень победой над другим игроком, равно;\n",
    "- h1: среднее число целевых действий, выполняемых пользователями, которые заканчивают уровень через реализацию проекта, и пользователями, которые заканчивают уровень победой над другим игроком, не равно."
   ]
  },
  {
   "cell_type": "markdown",
   "metadata": {},
   "source": [
    "Для проверки также используем t-тест с критерием значимости на уровне 5%."
   ]
  },
  {
   "cell_type": "code",
   "execution_count": 75,
   "metadata": {},
   "outputs": [
    {
     "data": {
      "text/plain": [
       "0.0"
      ]
     },
     "execution_count": 75,
     "metadata": {},
     "output_type": "execute_result"
    }
   ],
   "source": [
    "#получаем результат теста\n",
    "result = st.ttest_ind(winners_fight['builds'], winners_project['builds'], equal_var=False) \n",
    "\n",
    "result.pvalue"
   ]
  },
  {
   "cell_type": "markdown",
   "metadata": {},
   "source": [
    "Значение p-value так мало, что приближается к нулю. Мы с большой уверенностью можем отвергнуть нулевую гипотезу и говорить о различии в числе событий, вызывающих показ рекламы, в двух категориях."
   ]
  },
  {
   "cell_type": "markdown",
   "metadata": {},
   "source": [
    "### Третья гипотеза - существует различие в количестве действий, вызывающих показ рекламы, между пользователями, прошедшими первый уровень, и пользователями, покинувшими игру"
   ]
  },
  {
   "cell_type": "markdown",
   "metadata": {},
   "source": [
    "Сформулируем нулевую и альтернативную гипотезу аналогичным образом:\n",
    "\n",
    "- h0: среднее число целевых действий, выполняемых пользователями, прошедшими первый уровень, и пользователями, покинувшими игру, равно;\n",
    "- h1: среднее число целевых действий, выполняемых пользователями, прошедшими первый уровень, и пользователями, покинувшими игру, не равно."
   ]
  },
  {
   "cell_type": "markdown",
   "metadata": {},
   "source": [
    "Для проверки также используем t-тест с критерием значимости на уровне 5%."
   ]
  },
  {
   "cell_type": "code",
   "execution_count": 76,
   "metadata": {},
   "outputs": [
    {
     "data": {
      "text/plain": [
       "5.999381139920726e-174"
      ]
     },
     "execution_count": 76,
     "metadata": {},
     "output_type": "execute_result"
    }
   ],
   "source": [
    "#получаем результат теста\n",
    "result = st.ttest_ind(winners_all['builds'], quitters_all['builds'], equal_var=False) \n",
    "\n",
    "result.pvalue"
   ]
  },
  {
   "cell_type": "markdown",
   "metadata": {},
   "source": [
    "Значение p-value опять крайне мало и очевидно ниже критерия значимости. Следовательно, нулевую гипотезу можно отвергнуть и считать, что среднее число целевых действий в двух рассматриваемых категориях действительно различается. Причем, как мы помним, в случае пользователей, покинувших игру, количество \"рекламных\" событий было ниже, чем в случае оставшихся игроков."
   ]
  },
  {
   "cell_type": "markdown",
   "metadata": {},
   "source": [
    "# Выводы и рекомендации"
   ]
  },
  {
   "cell_type": "markdown",
   "metadata": {},
   "source": [
    "На основании результатов исследования можно сделать следующие выводы:\n",
    "1) В \"базовом\" сценарии, когда показ рекламы в игровом приложении происходит на экране выбора постройки, рентабельность проекта составляет 17,8%, что говорит о наличии потенциала для снижения количества рекламы.\n",
    "\n",
    "2) Были предложены две альтернативные модели монетизации и рассчитаны соответствующие им показатели рентабельности:\n",
    "- показ рекламы только при постройке сборочных цехов и космопортов, без учета исследовательских центров, обеспечивает уровень рентабельности 4,8%;\n",
    "- показ рекламы, начиная со 2-го действия по выбору постройки в игре, обеспечивает уровень рентабельности 5,3%.\n",
    "\n",
    "3) Помимо более высокого уровня рентабельности, вторая модель обладает рядом существенных преимуществ:\n",
    "- в перспективе показ рекламы можно начинать с 3-го, 4-го, 5-го... события, что обеспечивает большую гибкость модели;\n",
    "- пользователи не получают дополнительного рекламного сообщения именно в начале своего знакомства с игрой, что делает такой подход более \"дружелюбным\" для игроков.\n",
    "\n",
    "4) Последующий рост рентабельности и/или снижение количества рекламы могут быть достигнуты за счет оптимизации рекламных затрат, в частности:\n",
    "- уменьшение объема затрат на facebook и instagram в пользу yandex_direct и youtube;\n",
    "- более равномерное распределение затрат по времени в целях обеспечения стабильного притока игроков.\n",
    "\n",
    "5) Проверка статистических гипотез показала, что игроки в целом проводят больше времени в игре и совершают большее число целевых действий, вызывающих показ рекламы, при попытке достичь победы за счет реализации проекта спутника - возможно, следует стимулировать подобное игровое поведение.\n",
    "\n",
    "6) Игроки, покинувшие игру, сталкивались с внутриигровой рекламой в меньшем объеме, чем пользователи, завершившие первый уровень. В связи с этим, рекомендуется дополнительно изучить причины ухода игроков и детальнее оценить степень влияния рекламы на пользовательское восприятие (можно предложить A/B-тестирование с наличием и отсутствием рекламы в игре)."
   ]
  }
 ],
 "metadata": {
  "ExecuteTimeLog": [
   {
    "duration": 51,
    "start_time": "2022-10-25T09:24:13.061Z"
   },
   {
    "duration": 868,
    "start_time": "2022-10-25T09:24:21.951Z"
   },
   {
    "duration": 129,
    "start_time": "2022-10-25T09:24:24.186Z"
   },
   {
    "duration": 62,
    "start_time": "2022-10-25T09:32:16.745Z"
   },
   {
    "duration": 49,
    "start_time": "2022-10-25T09:32:50.489Z"
   },
   {
    "duration": 36,
    "start_time": "2022-10-25T09:38:32.697Z"
   },
   {
    "duration": 32,
    "start_time": "2022-10-25T09:38:49.033Z"
   },
   {
    "duration": 35,
    "start_time": "2022-10-25T09:39:25.937Z"
   },
   {
    "duration": 30,
    "start_time": "2022-10-25T09:39:36.703Z"
   },
   {
    "duration": 70,
    "start_time": "2022-10-25T09:40:31.976Z"
   },
   {
    "duration": 53,
    "start_time": "2022-10-25T09:42:29.475Z"
   },
   {
    "duration": 51,
    "start_time": "2022-10-25T09:42:37.489Z"
   },
   {
    "duration": 75,
    "start_time": "2022-10-25T09:43:22.065Z"
   },
   {
    "duration": 49,
    "start_time": "2022-10-25T09:43:25.575Z"
   },
   {
    "duration": 34,
    "start_time": "2022-10-25T09:43:38.291Z"
   },
   {
    "duration": 40,
    "start_time": "2022-10-25T09:43:57.670Z"
   },
   {
    "duration": 35,
    "start_time": "2022-10-25T09:45:08.688Z"
   },
   {
    "duration": 69,
    "start_time": "2022-10-25T09:45:19.750Z"
   },
   {
    "duration": 49,
    "start_time": "2022-10-25T09:45:25.473Z"
   },
   {
    "duration": 320,
    "start_time": "2022-10-25T09:50:04.133Z"
   },
   {
    "duration": 51,
    "start_time": "2022-10-25T09:55:33.538Z"
   },
   {
    "duration": 38,
    "start_time": "2022-10-25T09:57:33.956Z"
   },
   {
    "duration": 9,
    "start_time": "2022-10-25T09:59:26.892Z"
   },
   {
    "duration": 14,
    "start_time": "2022-10-25T10:02:33.041Z"
   },
   {
    "duration": 42,
    "start_time": "2022-10-25T10:06:51.251Z"
   },
   {
    "duration": 46,
    "start_time": "2022-10-25T10:06:59.561Z"
   },
   {
    "duration": 11,
    "start_time": "2022-10-25T10:10:50.949Z"
   },
   {
    "duration": 27,
    "start_time": "2022-10-25T10:13:08.093Z"
   },
   {
    "duration": 18,
    "start_time": "2022-10-25T10:13:53.545Z"
   },
   {
    "duration": 58,
    "start_time": "2022-10-25T10:14:23.989Z"
   },
   {
    "duration": 70,
    "start_time": "2022-10-25T10:15:59.862Z"
   },
   {
    "duration": 10,
    "start_time": "2022-10-25T10:18:26.037Z"
   },
   {
    "duration": 58,
    "start_time": "2022-10-25T10:18:56.848Z"
   },
   {
    "duration": 36,
    "start_time": "2022-10-25T10:19:26.918Z"
   },
   {
    "duration": 35,
    "start_time": "2022-10-25T10:30:44.739Z"
   },
   {
    "duration": 29,
    "start_time": "2022-10-25T10:31:04.191Z"
   },
   {
    "duration": 15,
    "start_time": "2022-10-25T10:31:53.453Z"
   },
   {
    "duration": 4,
    "start_time": "2022-10-25T10:33:03.109Z"
   },
   {
    "duration": 6,
    "start_time": "2022-10-25T10:35:31.087Z"
   },
   {
    "duration": 83,
    "start_time": "2022-10-25T10:42:00.736Z"
   },
   {
    "duration": 17,
    "start_time": "2022-10-25T10:45:06.532Z"
   },
   {
    "duration": 4,
    "start_time": "2022-10-25T10:48:39.993Z"
   },
   {
    "duration": 21,
    "start_time": "2022-10-25T10:48:55.136Z"
   },
   {
    "duration": 57,
    "start_time": "2022-10-25T10:50:23.336Z"
   },
   {
    "duration": 5,
    "start_time": "2022-10-25T10:50:50.034Z"
   },
   {
    "duration": 11,
    "start_time": "2022-10-25T10:59:49.705Z"
   },
   {
    "duration": 845,
    "start_time": "2022-10-25T11:04:21.869Z"
   },
   {
    "duration": 375,
    "start_time": "2022-10-25T11:04:22.716Z"
   },
   {
    "duration": 45,
    "start_time": "2022-10-25T11:04:23.093Z"
   },
   {
    "duration": 52,
    "start_time": "2022-10-25T11:04:23.140Z"
   },
   {
    "duration": 8,
    "start_time": "2022-10-25T11:04:23.193Z"
   },
   {
    "duration": 32,
    "start_time": "2022-10-25T11:04:23.203Z"
   },
   {
    "duration": 53,
    "start_time": "2022-10-25T11:04:23.237Z"
   },
   {
    "duration": 12,
    "start_time": "2022-10-25T11:04:23.294Z"
   },
   {
    "duration": 54,
    "start_time": "2022-10-25T11:04:23.307Z"
   },
   {
    "duration": 20,
    "start_time": "2022-10-25T11:04:23.364Z"
   },
   {
    "duration": 78,
    "start_time": "2022-10-25T11:04:23.386Z"
   },
   {
    "duration": 71,
    "start_time": "2022-10-25T11:04:23.467Z"
   },
   {
    "duration": 52,
    "start_time": "2022-10-25T11:04:23.540Z"
   },
   {
    "duration": 39,
    "start_time": "2022-10-25T11:04:23.594Z"
   },
   {
    "duration": 17,
    "start_time": "2022-10-25T11:04:23.635Z"
   },
   {
    "duration": 32,
    "start_time": "2022-10-25T11:04:23.654Z"
   },
   {
    "duration": 19,
    "start_time": "2022-10-25T11:04:23.687Z"
   },
   {
    "duration": 9,
    "start_time": "2022-10-25T11:04:23.708Z"
   },
   {
    "duration": 90,
    "start_time": "2022-10-25T11:04:23.719Z"
   },
   {
    "duration": 14,
    "start_time": "2022-10-25T11:04:23.811Z"
   },
   {
    "duration": 25,
    "start_time": "2022-10-25T11:04:23.827Z"
   },
   {
    "duration": 38,
    "start_time": "2022-10-25T11:04:23.854Z"
   },
   {
    "duration": 20,
    "start_time": "2022-10-25T12:24:51.197Z"
   },
   {
    "duration": 22,
    "start_time": "2022-10-25T12:25:06.745Z"
   },
   {
    "duration": 20,
    "start_time": "2022-10-25T12:26:02.911Z"
   },
   {
    "duration": 3,
    "start_time": "2022-10-25T12:26:38.605Z"
   },
   {
    "duration": 4,
    "start_time": "2022-10-25T12:26:42.827Z"
   },
   {
    "duration": 5,
    "start_time": "2022-10-25T12:27:34.550Z"
   },
   {
    "duration": 5,
    "start_time": "2022-10-25T12:27:50.673Z"
   },
   {
    "duration": 19,
    "start_time": "2022-10-25T12:30:54.956Z"
   },
   {
    "duration": 92,
    "start_time": "2022-10-25T12:31:31.759Z"
   },
   {
    "duration": 4,
    "start_time": "2022-10-25T12:31:37.320Z"
   },
   {
    "duration": 77,
    "start_time": "2022-10-25T12:32:35.205Z"
   },
   {
    "duration": 705,
    "start_time": "2022-10-25T12:35:10.467Z"
   },
   {
    "duration": 50,
    "start_time": "2022-10-25T12:36:22.678Z"
   },
   {
    "duration": 62,
    "start_time": "2022-10-25T12:36:25.284Z"
   },
   {
    "duration": 46,
    "start_time": "2022-10-25T12:36:29.692Z"
   },
   {
    "duration": 56,
    "start_time": "2022-10-25T12:36:37.891Z"
   },
   {
    "duration": 18,
    "start_time": "2022-10-25T12:36:57.887Z"
   },
   {
    "duration": 68,
    "start_time": "2022-10-25T12:37:13.557Z"
   },
   {
    "duration": 20,
    "start_time": "2022-10-25T12:37:17.771Z"
   },
   {
    "duration": 25,
    "start_time": "2022-10-25T12:37:30.196Z"
   },
   {
    "duration": 93,
    "start_time": "2022-10-25T12:38:01.992Z"
   },
   {
    "duration": 92,
    "start_time": "2022-10-25T12:38:23.552Z"
   },
   {
    "duration": 9,
    "start_time": "2022-10-25T12:38:43.960Z"
   },
   {
    "duration": 11,
    "start_time": "2022-10-25T12:38:56.950Z"
   },
   {
    "duration": 4,
    "start_time": "2022-10-25T12:39:33.092Z"
   },
   {
    "duration": 3,
    "start_time": "2022-10-25T12:39:39.730Z"
   },
   {
    "duration": 64,
    "start_time": "2022-10-25T12:40:59.360Z"
   },
   {
    "duration": 4,
    "start_time": "2022-10-25T12:42:06.181Z"
   },
   {
    "duration": 16,
    "start_time": "2022-10-25T12:42:17.654Z"
   },
   {
    "duration": 19,
    "start_time": "2022-10-25T12:42:23.797Z"
   },
   {
    "duration": 119,
    "start_time": "2022-10-25T12:43:12.930Z"
   },
   {
    "duration": 759,
    "start_time": "2022-10-25T12:43:25.444Z"
   },
   {
    "duration": 70,
    "start_time": "2022-10-25T12:43:34.057Z"
   },
   {
    "duration": 55,
    "start_time": "2022-10-25T12:43:40.260Z"
   },
   {
    "duration": 76,
    "start_time": "2022-10-25T12:44:23.610Z"
   },
   {
    "duration": 76,
    "start_time": "2022-10-25T12:44:51.726Z"
   },
   {
    "duration": 95,
    "start_time": "2022-10-25T12:45:44.382Z"
   },
   {
    "duration": 9,
    "start_time": "2022-10-25T12:46:13.233Z"
   },
   {
    "duration": 79,
    "start_time": "2022-10-25T12:47:03.111Z"
   },
   {
    "duration": 111,
    "start_time": "2022-10-25T12:47:07.992Z"
   },
   {
    "duration": 92,
    "start_time": "2022-10-25T12:47:17.470Z"
   },
   {
    "duration": 4,
    "start_time": "2022-10-25T12:58:40.696Z"
   },
   {
    "duration": 6,
    "start_time": "2022-10-25T13:00:06.982Z"
   },
   {
    "duration": 4,
    "start_time": "2022-10-25T13:00:16.470Z"
   },
   {
    "duration": 4,
    "start_time": "2022-10-25T13:02:18.370Z"
   },
   {
    "duration": 10,
    "start_time": "2022-10-25T13:05:09.957Z"
   },
   {
    "duration": 8,
    "start_time": "2022-10-25T13:05:18.272Z"
   },
   {
    "duration": 45,
    "start_time": "2022-10-25T13:06:29.299Z"
   },
   {
    "duration": 9,
    "start_time": "2022-10-25T13:07:58.235Z"
   },
   {
    "duration": 50,
    "start_time": "2022-10-25T13:08:25.575Z"
   },
   {
    "duration": 175,
    "start_time": "2022-10-25T13:08:27.949Z"
   },
   {
    "duration": 112,
    "start_time": "2022-10-25T13:08:40.933Z"
   },
   {
    "duration": 105,
    "start_time": "2022-10-25T13:09:31.201Z"
   },
   {
    "duration": 140,
    "start_time": "2022-10-25T13:10:04.336Z"
   },
   {
    "duration": 95,
    "start_time": "2022-10-25T13:10:12.317Z"
   },
   {
    "duration": 102,
    "start_time": "2022-10-25T13:11:17.711Z"
   },
   {
    "duration": 107,
    "start_time": "2022-10-25T13:11:26.618Z"
   },
   {
    "duration": 113,
    "start_time": "2022-10-25T13:11:33.982Z"
   },
   {
    "duration": 129,
    "start_time": "2022-10-25T13:11:45.080Z"
   },
   {
    "duration": 107,
    "start_time": "2022-10-25T13:12:40.141Z"
   },
   {
    "duration": 135,
    "start_time": "2022-10-25T13:14:02.560Z"
   },
   {
    "duration": 118,
    "start_time": "2022-10-25T13:14:11.439Z"
   },
   {
    "duration": 94,
    "start_time": "2022-10-25T13:14:19.112Z"
   },
   {
    "duration": 162,
    "start_time": "2022-10-25T13:14:29.105Z"
   },
   {
    "duration": 11,
    "start_time": "2022-10-25T13:28:35.671Z"
   },
   {
    "duration": 99,
    "start_time": "2022-10-25T13:30:01.263Z"
   },
   {
    "duration": 95,
    "start_time": "2022-10-25T13:30:39.987Z"
   },
   {
    "duration": 112,
    "start_time": "2022-10-25T13:30:47.132Z"
   },
   {
    "duration": 8,
    "start_time": "2022-10-25T13:39:51.852Z"
   },
   {
    "duration": 14,
    "start_time": "2022-10-25T13:39:56.503Z"
   },
   {
    "duration": 20,
    "start_time": "2022-10-25T13:42:21.476Z"
   },
   {
    "duration": 171,
    "start_time": "2022-10-25T13:44:19.479Z"
   },
   {
    "duration": 145,
    "start_time": "2022-10-25T13:44:29.094Z"
   },
   {
    "duration": 19,
    "start_time": "2022-10-25T13:45:22.908Z"
   },
   {
    "duration": 196,
    "start_time": "2022-10-25T13:45:28.713Z"
   },
   {
    "duration": 51,
    "start_time": "2022-10-26T10:45:51.264Z"
   },
   {
    "duration": 57,
    "start_time": "2022-10-26T10:46:10.307Z"
   },
   {
    "duration": 1341,
    "start_time": "2022-10-26T10:46:28.562Z"
   },
   {
    "duration": 499,
    "start_time": "2022-10-26T10:46:29.905Z"
   },
   {
    "duration": 49,
    "start_time": "2022-10-26T10:46:30.405Z"
   },
   {
    "duration": 54,
    "start_time": "2022-10-26T10:46:30.456Z"
   },
   {
    "duration": 23,
    "start_time": "2022-10-26T10:46:30.512Z"
   },
   {
    "duration": 35,
    "start_time": "2022-10-26T10:46:30.537Z"
   },
   {
    "duration": 72,
    "start_time": "2022-10-26T10:46:30.574Z"
   },
   {
    "duration": 12,
    "start_time": "2022-10-26T10:46:30.648Z"
   },
   {
    "duration": 40,
    "start_time": "2022-10-26T10:46:30.661Z"
   },
   {
    "duration": 24,
    "start_time": "2022-10-26T10:46:30.704Z"
   },
   {
    "duration": 88,
    "start_time": "2022-10-26T10:46:30.730Z"
   },
   {
    "duration": 66,
    "start_time": "2022-10-26T10:46:30.819Z"
   },
   {
    "duration": 46,
    "start_time": "2022-10-26T10:46:30.887Z"
   },
   {
    "duration": 56,
    "start_time": "2022-10-26T10:46:30.935Z"
   },
   {
    "duration": 18,
    "start_time": "2022-10-26T10:46:30.993Z"
   },
   {
    "duration": 22,
    "start_time": "2022-10-26T10:46:31.013Z"
   },
   {
    "duration": 38,
    "start_time": "2022-10-26T10:46:31.037Z"
   },
   {
    "duration": 22,
    "start_time": "2022-10-26T10:46:31.077Z"
   },
   {
    "duration": 136,
    "start_time": "2022-10-26T10:46:31.101Z"
   },
   {
    "duration": 18,
    "start_time": "2022-10-26T10:46:31.239Z"
   },
   {
    "duration": 23,
    "start_time": "2022-10-26T10:46:31.259Z"
   },
   {
    "duration": 23,
    "start_time": "2022-10-26T10:46:31.284Z"
   },
   {
    "duration": 29,
    "start_time": "2022-10-26T10:46:31.309Z"
   },
   {
    "duration": 14,
    "start_time": "2022-10-26T10:46:31.339Z"
   },
   {
    "duration": 20,
    "start_time": "2022-10-26T10:46:31.354Z"
   },
   {
    "duration": 35,
    "start_time": "2022-10-26T10:46:31.377Z"
   },
   {
    "duration": 6,
    "start_time": "2022-10-26T10:46:31.414Z"
   },
   {
    "duration": 23,
    "start_time": "2022-10-26T10:46:31.424Z"
   },
   {
    "duration": 117,
    "start_time": "2022-10-26T10:46:31.449Z"
   },
   {
    "duration": 6,
    "start_time": "2022-10-26T10:46:31.568Z"
   },
   {
    "duration": 17,
    "start_time": "2022-10-26T10:46:31.575Z"
   },
   {
    "duration": 30,
    "start_time": "2022-10-26T10:46:31.594Z"
   },
   {
    "duration": 144,
    "start_time": "2022-10-26T10:46:31.626Z"
   },
   {
    "duration": 14,
    "start_time": "2022-10-26T10:46:31.772Z"
   },
   {
    "duration": 155,
    "start_time": "2022-10-26T10:46:31.788Z"
   },
   {
    "duration": 19,
    "start_time": "2022-10-26T10:46:31.945Z"
   },
   {
    "duration": 183,
    "start_time": "2022-10-26T10:46:31.967Z"
   },
   {
    "duration": 4,
    "start_time": "2022-10-26T10:46:32.152Z"
   },
   {
    "duration": 5,
    "start_time": "2022-10-26T10:47:19.281Z"
   },
   {
    "duration": 5,
    "start_time": "2022-10-26T10:47:30.250Z"
   },
   {
    "duration": 99,
    "start_time": "2022-10-26T10:50:39.010Z"
   },
   {
    "duration": 3,
    "start_time": "2022-10-26T10:54:06.469Z"
   },
   {
    "duration": 4,
    "start_time": "2022-10-26T10:54:10.664Z"
   },
   {
    "duration": 9,
    "start_time": "2022-10-26T10:54:15.869Z"
   },
   {
    "duration": 460,
    "start_time": "2022-10-26T10:55:11.412Z"
   },
   {
    "duration": 484,
    "start_time": "2022-10-26T10:55:22.082Z"
   },
   {
    "duration": 438,
    "start_time": "2022-10-26T10:55:25.021Z"
   },
   {
    "duration": 71,
    "start_time": "2022-10-26T11:01:16.640Z"
   },
   {
    "duration": 67,
    "start_time": "2022-10-26T11:01:25.520Z"
   },
   {
    "duration": 55,
    "start_time": "2022-10-26T11:01:40.724Z"
   },
   {
    "duration": 39,
    "start_time": "2022-10-26T11:01:45.202Z"
   },
   {
    "duration": 38,
    "start_time": "2022-10-26T11:02:27.592Z"
   },
   {
    "duration": 44,
    "start_time": "2022-10-26T11:02:30.348Z"
   },
   {
    "duration": 496,
    "start_time": "2022-10-26T11:02:40.030Z"
   },
   {
    "duration": 45587,
    "start_time": "2022-10-26T11:06:17.502Z"
   },
   {
    "duration": 13,
    "start_time": "2022-10-26T11:07:22.360Z"
   },
   {
    "duration": 3,
    "start_time": "2022-10-26T11:07:39.462Z"
   },
   {
    "duration": 45557,
    "start_time": "2022-10-26T11:08:26.269Z"
   },
   {
    "duration": 457,
    "start_time": "2022-10-26T11:11:33.894Z"
   },
   {
    "duration": 102,
    "start_time": "2022-10-26T11:12:12.385Z"
   },
   {
    "duration": 65,
    "start_time": "2022-10-26T11:14:44.986Z"
   },
   {
    "duration": 3,
    "start_time": "2022-10-26T11:23:34.855Z"
   },
   {
    "duration": 80,
    "start_time": "2022-10-26T11:26:11.671Z"
   },
   {
    "duration": 73,
    "start_time": "2022-10-26T11:26:24.014Z"
   },
   {
    "duration": 74,
    "start_time": "2022-10-26T11:26:26.543Z"
   },
   {
    "duration": 4,
    "start_time": "2022-10-26T11:26:36.453Z"
   },
   {
    "duration": 304,
    "start_time": "2022-10-26T11:26:39.449Z"
   },
   {
    "duration": 9,
    "start_time": "2022-10-26T11:26:58.698Z"
   },
   {
    "duration": 10,
    "start_time": "2022-10-26T11:27:43.592Z"
   },
   {
    "duration": 10,
    "start_time": "2022-10-26T11:27:50.269Z"
   },
   {
    "duration": 1131,
    "start_time": "2022-10-26T11:27:58.883Z"
   },
   {
    "duration": 495,
    "start_time": "2022-10-26T11:28:00.017Z"
   },
   {
    "duration": 48,
    "start_time": "2022-10-26T11:28:00.514Z"
   },
   {
    "duration": 38,
    "start_time": "2022-10-26T11:28:00.565Z"
   },
   {
    "duration": 26,
    "start_time": "2022-10-26T11:28:00.605Z"
   },
   {
    "duration": 17,
    "start_time": "2022-10-26T11:28:00.632Z"
   },
   {
    "duration": 54,
    "start_time": "2022-10-26T11:28:00.651Z"
   },
   {
    "duration": 25,
    "start_time": "2022-10-26T11:28:00.707Z"
   },
   {
    "duration": 32,
    "start_time": "2022-10-26T11:28:00.733Z"
   },
   {
    "duration": 22,
    "start_time": "2022-10-26T11:28:00.768Z"
   },
   {
    "duration": 86,
    "start_time": "2022-10-26T11:28:00.791Z"
   },
   {
    "duration": 75,
    "start_time": "2022-10-26T11:28:00.879Z"
   },
   {
    "duration": 38,
    "start_time": "2022-10-26T11:28:00.956Z"
   },
   {
    "duration": 58,
    "start_time": "2022-10-26T11:28:00.995Z"
   },
   {
    "duration": 17,
    "start_time": "2022-10-26T11:28:01.055Z"
   },
   {
    "duration": 18,
    "start_time": "2022-10-26T11:28:01.074Z"
   },
   {
    "duration": 19,
    "start_time": "2022-10-26T11:28:01.094Z"
   },
   {
    "duration": 26,
    "start_time": "2022-10-26T11:28:01.115Z"
   },
   {
    "duration": 70,
    "start_time": "2022-10-26T11:28:01.143Z"
   },
   {
    "duration": 17,
    "start_time": "2022-10-26T11:28:01.214Z"
   },
   {
    "duration": 48,
    "start_time": "2022-10-26T11:28:01.233Z"
   },
   {
    "duration": 49,
    "start_time": "2022-10-26T11:28:01.283Z"
   },
   {
    "duration": 42,
    "start_time": "2022-10-26T11:28:01.335Z"
   },
   {
    "duration": 21,
    "start_time": "2022-10-26T11:28:01.380Z"
   },
   {
    "duration": 32,
    "start_time": "2022-10-26T11:28:01.403Z"
   },
   {
    "duration": 53,
    "start_time": "2022-10-26T11:28:01.437Z"
   },
   {
    "duration": 10,
    "start_time": "2022-10-26T11:28:01.492Z"
   },
   {
    "duration": 25,
    "start_time": "2022-10-26T11:28:01.507Z"
   },
   {
    "duration": 110,
    "start_time": "2022-10-26T11:28:01.534Z"
   },
   {
    "duration": 5,
    "start_time": "2022-10-26T11:28:01.646Z"
   },
   {
    "duration": 12,
    "start_time": "2022-10-26T11:28:01.653Z"
   },
   {
    "duration": 12,
    "start_time": "2022-10-26T11:28:01.666Z"
   },
   {
    "duration": 146,
    "start_time": "2022-10-26T11:28:01.680Z"
   },
   {
    "duration": 15,
    "start_time": "2022-10-26T11:28:01.828Z"
   },
   {
    "duration": 157,
    "start_time": "2022-10-26T11:28:01.845Z"
   },
   {
    "duration": 25,
    "start_time": "2022-10-26T11:28:02.004Z"
   },
   {
    "duration": 195,
    "start_time": "2022-10-26T11:28:02.032Z"
   },
   {
    "duration": 4,
    "start_time": "2022-10-26T11:28:02.229Z"
   },
   {
    "duration": 6,
    "start_time": "2022-10-26T11:28:02.234Z"
   },
   {
    "duration": 5,
    "start_time": "2022-10-26T11:28:02.242Z"
   },
   {
    "duration": 46236,
    "start_time": "2022-10-26T11:28:02.249Z"
   },
   {
    "duration": 494,
    "start_time": "2022-10-26T11:28:48.487Z"
   },
   {
    "duration": 10,
    "start_time": "2022-10-26T11:28:48.983Z"
   },
   {
    "duration": 126,
    "start_time": "2022-10-26T11:28:48.995Z"
   },
   {
    "duration": 94,
    "start_time": "2022-10-26T11:39:54.708Z"
   },
   {
    "duration": 170,
    "start_time": "2022-10-26T11:41:13.786Z"
   },
   {
    "duration": 85,
    "start_time": "2022-10-26T11:41:24.659Z"
   },
   {
    "duration": 66,
    "start_time": "2022-10-26T11:47:13.611Z"
   },
   {
    "duration": 72,
    "start_time": "2022-10-26T11:47:27.658Z"
   },
   {
    "duration": 98,
    "start_time": "2022-10-26T11:48:02.306Z"
   },
   {
    "duration": 93,
    "start_time": "2022-10-26T11:48:32.436Z"
   },
   {
    "duration": 1222,
    "start_time": "2022-10-26T11:49:41.838Z"
   },
   {
    "duration": 390,
    "start_time": "2022-10-26T11:49:43.062Z"
   },
   {
    "duration": 47,
    "start_time": "2022-10-26T11:49:43.454Z"
   },
   {
    "duration": 43,
    "start_time": "2022-10-26T11:49:43.503Z"
   },
   {
    "duration": 10,
    "start_time": "2022-10-26T11:49:43.548Z"
   },
   {
    "duration": 19,
    "start_time": "2022-10-26T11:49:43.560Z"
   },
   {
    "duration": 71,
    "start_time": "2022-10-26T11:49:43.581Z"
   },
   {
    "duration": 12,
    "start_time": "2022-10-26T11:49:43.654Z"
   },
   {
    "duration": 30,
    "start_time": "2022-10-26T11:49:43.668Z"
   },
   {
    "duration": 36,
    "start_time": "2022-10-26T11:49:43.700Z"
   },
   {
    "duration": 68,
    "start_time": "2022-10-26T11:49:43.737Z"
   },
   {
    "duration": 67,
    "start_time": "2022-10-26T11:49:43.823Z"
   },
   {
    "duration": 47,
    "start_time": "2022-10-26T11:49:43.892Z"
   },
   {
    "duration": 49,
    "start_time": "2022-10-26T11:49:43.941Z"
   },
   {
    "duration": 16,
    "start_time": "2022-10-26T11:49:43.992Z"
   },
   {
    "duration": 6,
    "start_time": "2022-10-26T11:49:44.009Z"
   },
   {
    "duration": 6,
    "start_time": "2022-10-26T11:49:44.017Z"
   },
   {
    "duration": 6,
    "start_time": "2022-10-26T11:49:44.024Z"
   },
   {
    "duration": 110,
    "start_time": "2022-10-26T11:49:44.031Z"
   },
   {
    "duration": 17,
    "start_time": "2022-10-26T11:49:44.143Z"
   },
   {
    "duration": 7,
    "start_time": "2022-10-26T11:49:44.161Z"
   },
   {
    "duration": 13,
    "start_time": "2022-10-26T11:49:44.171Z"
   },
   {
    "duration": 48,
    "start_time": "2022-10-26T11:49:44.186Z"
   },
   {
    "duration": 4,
    "start_time": "2022-10-26T11:49:44.236Z"
   },
   {
    "duration": 5,
    "start_time": "2022-10-26T11:49:44.242Z"
   },
   {
    "duration": 30,
    "start_time": "2022-10-26T11:49:44.248Z"
   },
   {
    "duration": 4,
    "start_time": "2022-10-26T11:49:44.280Z"
   },
   {
    "duration": 44,
    "start_time": "2022-10-26T11:49:44.287Z"
   },
   {
    "duration": 127,
    "start_time": "2022-10-26T11:49:44.333Z"
   },
   {
    "duration": 6,
    "start_time": "2022-10-26T11:49:44.462Z"
   },
   {
    "duration": 5,
    "start_time": "2022-10-26T11:49:44.469Z"
   },
   {
    "duration": 11,
    "start_time": "2022-10-26T11:49:44.476Z"
   },
   {
    "duration": 148,
    "start_time": "2022-10-26T11:49:44.488Z"
   },
   {
    "duration": 10,
    "start_time": "2022-10-26T11:49:44.638Z"
   },
   {
    "duration": 124,
    "start_time": "2022-10-26T11:49:44.650Z"
   },
   {
    "duration": 15,
    "start_time": "2022-10-26T11:49:44.776Z"
   },
   {
    "duration": 162,
    "start_time": "2022-10-26T11:49:44.792Z"
   },
   {
    "duration": 4,
    "start_time": "2022-10-26T11:49:44.956Z"
   },
   {
    "duration": 7,
    "start_time": "2022-10-26T11:49:44.961Z"
   },
   {
    "duration": 5,
    "start_time": "2022-10-26T11:49:44.970Z"
   },
   {
    "duration": 46794,
    "start_time": "2022-10-26T11:49:44.976Z"
   },
   {
    "duration": 521,
    "start_time": "2022-10-26T11:50:31.771Z"
   },
   {
    "duration": 139,
    "start_time": "2022-10-26T11:50:32.294Z"
   },
   {
    "duration": 10,
    "start_time": "2022-10-26T11:50:32.435Z"
   },
   {
    "duration": 26,
    "start_time": "2022-10-26T11:50:32.447Z"
   },
   {
    "duration": 15,
    "start_time": "2022-10-26T11:51:58.349Z"
   },
   {
    "duration": 16,
    "start_time": "2022-10-26T11:52:22.138Z"
   },
   {
    "duration": 18,
    "start_time": "2022-10-26T11:52:27.468Z"
   },
   {
    "duration": 18,
    "start_time": "2022-10-26T11:53:55.911Z"
   },
   {
    "duration": 16,
    "start_time": "2022-10-26T11:54:20.981Z"
   },
   {
    "duration": 119,
    "start_time": "2022-10-26T11:55:24.449Z"
   },
   {
    "duration": 15,
    "start_time": "2022-10-26T11:55:53.833Z"
   },
   {
    "duration": 99,
    "start_time": "2022-10-26T11:56:19.958Z"
   },
   {
    "duration": 86,
    "start_time": "2022-10-26T11:56:37.074Z"
   },
   {
    "duration": 20,
    "start_time": "2022-10-26T11:57:02.354Z"
   },
   {
    "duration": 67,
    "start_time": "2022-10-26T11:57:45.235Z"
   },
   {
    "duration": 78,
    "start_time": "2022-10-26T11:57:52.420Z"
   },
   {
    "duration": 96,
    "start_time": "2022-10-26T11:57:56.774Z"
   },
   {
    "duration": 69,
    "start_time": "2022-10-26T11:58:04.214Z"
   },
   {
    "duration": 4,
    "start_time": "2022-10-26T11:58:09.906Z"
   },
   {
    "duration": 292,
    "start_time": "2022-10-26T11:58:14.714Z"
   },
   {
    "duration": 285,
    "start_time": "2022-10-26T11:58:36.573Z"
   },
   {
    "duration": 285,
    "start_time": "2022-10-26T11:58:40.033Z"
   },
   {
    "duration": 1182,
    "start_time": "2022-10-26T11:58:59.363Z"
   },
   {
    "duration": 417,
    "start_time": "2022-10-26T11:59:00.547Z"
   },
   {
    "duration": 50,
    "start_time": "2022-10-26T11:59:00.966Z"
   },
   {
    "duration": 34,
    "start_time": "2022-10-26T11:59:01.024Z"
   },
   {
    "duration": 30,
    "start_time": "2022-10-26T11:59:01.061Z"
   },
   {
    "duration": 23,
    "start_time": "2022-10-26T11:59:01.093Z"
   },
   {
    "duration": 55,
    "start_time": "2022-10-26T11:59:01.118Z"
   },
   {
    "duration": 12,
    "start_time": "2022-10-26T11:59:01.175Z"
   },
   {
    "duration": 50,
    "start_time": "2022-10-26T11:59:01.188Z"
   },
   {
    "duration": 19,
    "start_time": "2022-10-26T11:59:01.240Z"
   },
   {
    "duration": 87,
    "start_time": "2022-10-26T11:59:01.261Z"
   },
   {
    "duration": 89,
    "start_time": "2022-10-26T11:59:01.350Z"
   },
   {
    "duration": 41,
    "start_time": "2022-10-26T11:59:01.442Z"
   },
   {
    "duration": 36,
    "start_time": "2022-10-26T11:59:01.487Z"
   },
   {
    "duration": 19,
    "start_time": "2022-10-26T11:59:01.525Z"
   },
   {
    "duration": 28,
    "start_time": "2022-10-26T11:59:01.546Z"
   },
   {
    "duration": 27,
    "start_time": "2022-10-26T11:59:01.576Z"
   },
   {
    "duration": 13,
    "start_time": "2022-10-26T11:59:01.605Z"
   },
   {
    "duration": 63,
    "start_time": "2022-10-26T11:59:01.620Z"
   },
   {
    "duration": 16,
    "start_time": "2022-10-26T11:59:01.686Z"
   },
   {
    "duration": 10,
    "start_time": "2022-10-26T11:59:01.704Z"
   },
   {
    "duration": 15,
    "start_time": "2022-10-26T11:59:01.716Z"
   },
   {
    "duration": 22,
    "start_time": "2022-10-26T11:59:01.733Z"
   },
   {
    "duration": 4,
    "start_time": "2022-10-26T11:59:01.757Z"
   },
   {
    "duration": 13,
    "start_time": "2022-10-26T11:59:01.763Z"
   },
   {
    "duration": 47,
    "start_time": "2022-10-26T11:59:01.777Z"
   },
   {
    "duration": 5,
    "start_time": "2022-10-26T11:59:01.826Z"
   },
   {
    "duration": 32,
    "start_time": "2022-10-26T11:59:01.834Z"
   },
   {
    "duration": 165,
    "start_time": "2022-10-26T11:59:01.868Z"
   },
   {
    "duration": 6,
    "start_time": "2022-10-26T11:59:02.036Z"
   },
   {
    "duration": 8,
    "start_time": "2022-10-26T11:59:02.044Z"
   },
   {
    "duration": 14,
    "start_time": "2022-10-26T11:59:02.054Z"
   },
   {
    "duration": 159,
    "start_time": "2022-10-26T11:59:02.070Z"
   },
   {
    "duration": 12,
    "start_time": "2022-10-26T11:59:02.231Z"
   },
   {
    "duration": 143,
    "start_time": "2022-10-26T11:59:02.244Z"
   },
   {
    "duration": 16,
    "start_time": "2022-10-26T11:59:02.388Z"
   },
   {
    "duration": 162,
    "start_time": "2022-10-26T11:59:02.406Z"
   },
   {
    "duration": 5,
    "start_time": "2022-10-26T11:59:02.570Z"
   },
   {
    "duration": 6,
    "start_time": "2022-10-26T11:59:02.577Z"
   },
   {
    "duration": 6,
    "start_time": "2022-10-26T11:59:02.584Z"
   },
   {
    "duration": 47429,
    "start_time": "2022-10-26T11:59:02.593Z"
   },
   {
    "duration": 625,
    "start_time": "2022-10-26T11:59:50.024Z"
   },
   {
    "duration": 125,
    "start_time": "2022-10-26T11:59:50.651Z"
   },
   {
    "duration": 10,
    "start_time": "2022-10-26T11:59:50.777Z"
   },
   {
    "duration": 35,
    "start_time": "2022-10-26T11:59:50.789Z"
   },
   {
    "duration": 21,
    "start_time": "2022-10-26T12:00:21.891Z"
   },
   {
    "duration": 101,
    "start_time": "2022-10-26T12:00:39.387Z"
   },
   {
    "duration": 101,
    "start_time": "2022-10-26T12:00:59.124Z"
   },
   {
    "duration": 95,
    "start_time": "2022-10-26T12:01:14.135Z"
   },
   {
    "duration": 192,
    "start_time": "2022-10-26T12:01:58.865Z"
   },
   {
    "duration": 101,
    "start_time": "2022-10-26T12:02:23.656Z"
   },
   {
    "duration": 92,
    "start_time": "2022-10-26T12:02:46.082Z"
   },
   {
    "duration": 18,
    "start_time": "2022-10-26T12:03:00.526Z"
   },
   {
    "duration": 24,
    "start_time": "2022-10-26T12:03:22.087Z"
   },
   {
    "duration": 25,
    "start_time": "2022-10-26T12:03:33.633Z"
   },
   {
    "duration": 22,
    "start_time": "2022-10-26T12:03:36.733Z"
   },
   {
    "duration": 22,
    "start_time": "2022-10-26T12:04:12.744Z"
   },
   {
    "duration": 21,
    "start_time": "2022-10-26T12:04:45.470Z"
   },
   {
    "duration": 1164,
    "start_time": "2022-10-26T12:05:32.950Z"
   },
   {
    "duration": 354,
    "start_time": "2022-10-26T12:05:34.116Z"
   },
   {
    "duration": 53,
    "start_time": "2022-10-26T12:05:34.472Z"
   },
   {
    "duration": 34,
    "start_time": "2022-10-26T12:05:34.527Z"
   },
   {
    "duration": 13,
    "start_time": "2022-10-26T12:05:34.562Z"
   },
   {
    "duration": 21,
    "start_time": "2022-10-26T12:05:34.577Z"
   },
   {
    "duration": 67,
    "start_time": "2022-10-26T12:05:34.600Z"
   },
   {
    "duration": 11,
    "start_time": "2022-10-26T12:05:34.669Z"
   },
   {
    "duration": 43,
    "start_time": "2022-10-26T12:05:34.682Z"
   },
   {
    "duration": 18,
    "start_time": "2022-10-26T12:05:34.727Z"
   },
   {
    "duration": 79,
    "start_time": "2022-10-26T12:05:34.747Z"
   },
   {
    "duration": 66,
    "start_time": "2022-10-26T12:05:34.828Z"
   },
   {
    "duration": 45,
    "start_time": "2022-10-26T12:05:34.896Z"
   },
   {
    "duration": 22,
    "start_time": "2022-10-26T12:05:34.943Z"
   },
   {
    "duration": 16,
    "start_time": "2022-10-26T12:05:34.967Z"
   },
   {
    "duration": 11,
    "start_time": "2022-10-26T12:05:34.985Z"
   },
   {
    "duration": 9,
    "start_time": "2022-10-26T12:05:34.998Z"
   },
   {
    "duration": 16,
    "start_time": "2022-10-26T12:05:35.009Z"
   },
   {
    "duration": 50,
    "start_time": "2022-10-26T12:05:35.026Z"
   },
   {
    "duration": 15,
    "start_time": "2022-10-26T12:05:35.078Z"
   },
   {
    "duration": 7,
    "start_time": "2022-10-26T12:05:35.094Z"
   },
   {
    "duration": 16,
    "start_time": "2022-10-26T12:05:35.103Z"
   },
   {
    "duration": 22,
    "start_time": "2022-10-26T12:05:35.121Z"
   },
   {
    "duration": 4,
    "start_time": "2022-10-26T12:05:35.145Z"
   },
   {
    "duration": 4,
    "start_time": "2022-10-26T12:05:35.151Z"
   },
   {
    "duration": 23,
    "start_time": "2022-10-26T12:05:35.157Z"
   },
   {
    "duration": 4,
    "start_time": "2022-10-26T12:05:35.182Z"
   },
   {
    "duration": 51,
    "start_time": "2022-10-26T12:05:35.189Z"
   },
   {
    "duration": 119,
    "start_time": "2022-10-26T12:05:35.242Z"
   },
   {
    "duration": 5,
    "start_time": "2022-10-26T12:05:35.362Z"
   },
   {
    "duration": 6,
    "start_time": "2022-10-26T12:05:35.369Z"
   },
   {
    "duration": 10,
    "start_time": "2022-10-26T12:05:35.377Z"
   },
   {
    "duration": 139,
    "start_time": "2022-10-26T12:05:35.389Z"
   },
   {
    "duration": 9,
    "start_time": "2022-10-26T12:05:35.530Z"
   },
   {
    "duration": 122,
    "start_time": "2022-10-26T12:05:35.541Z"
   },
   {
    "duration": 15,
    "start_time": "2022-10-26T12:05:35.665Z"
   },
   {
    "duration": 148,
    "start_time": "2022-10-26T12:05:35.682Z"
   },
   {
    "duration": 4,
    "start_time": "2022-10-26T12:05:35.832Z"
   },
   {
    "duration": 5,
    "start_time": "2022-10-26T12:05:35.837Z"
   },
   {
    "duration": 6,
    "start_time": "2022-10-26T12:05:35.843Z"
   },
   {
    "duration": 46544,
    "start_time": "2022-10-26T12:05:35.851Z"
   },
   {
    "duration": 498,
    "start_time": "2022-10-26T12:06:22.397Z"
   },
   {
    "duration": 132,
    "start_time": "2022-10-26T12:06:22.897Z"
   },
   {
    "duration": 9,
    "start_time": "2022-10-26T12:06:23.031Z"
   },
   {
    "duration": 37,
    "start_time": "2022-10-26T12:06:23.041Z"
   },
   {
    "duration": 7,
    "start_time": "2022-10-26T12:18:59.619Z"
   },
   {
    "duration": 12,
    "start_time": "2022-10-26T12:19:04.875Z"
   },
   {
    "duration": 8,
    "start_time": "2022-10-26T12:20:15.155Z"
   },
   {
    "duration": 12,
    "start_time": "2022-10-26T12:21:14.785Z"
   },
   {
    "duration": 23,
    "start_time": "2022-10-26T12:21:42.174Z"
   },
   {
    "duration": 15,
    "start_time": "2022-10-26T12:21:49.568Z"
   },
   {
    "duration": 13,
    "start_time": "2022-10-26T12:22:40.518Z"
   },
   {
    "duration": 275,
    "start_time": "2022-10-26T12:26:23.078Z"
   },
   {
    "duration": 135,
    "start_time": "2022-10-26T12:26:44.401Z"
   },
   {
    "duration": 116,
    "start_time": "2022-10-26T12:27:34.371Z"
   },
   {
    "duration": 5,
    "start_time": "2022-10-26T12:28:38.654Z"
   },
   {
    "duration": 127,
    "start_time": "2022-10-26T12:31:08.437Z"
   },
   {
    "duration": 282,
    "start_time": "2022-10-26T12:32:01.999Z"
   },
   {
    "duration": 155,
    "start_time": "2022-10-26T12:32:12.460Z"
   },
   {
    "duration": 124,
    "start_time": "2022-10-26T12:32:27.215Z"
   },
   {
    "duration": 143,
    "start_time": "2022-10-26T12:33:45.780Z"
   },
   {
    "duration": 194,
    "start_time": "2022-10-26T12:36:09.659Z"
   },
   {
    "duration": 200,
    "start_time": "2022-10-26T12:37:25.595Z"
   },
   {
    "duration": 210,
    "start_time": "2022-10-26T12:37:47.045Z"
   },
   {
    "duration": 21,
    "start_time": "2022-10-26T12:38:26.856Z"
   },
   {
    "duration": 34,
    "start_time": "2022-10-26T12:38:31.961Z"
   },
   {
    "duration": 22,
    "start_time": "2022-10-26T12:38:59.082Z"
   },
   {
    "duration": 232,
    "start_time": "2022-10-26T12:40:14.912Z"
   },
   {
    "duration": 415,
    "start_time": "2022-10-26T12:44:25.473Z"
   },
   {
    "duration": 342,
    "start_time": "2022-10-26T12:44:36.827Z"
   },
   {
    "duration": 226,
    "start_time": "2022-10-26T12:44:45.234Z"
   },
   {
    "duration": 319,
    "start_time": "2022-10-26T12:45:03.335Z"
   },
   {
    "duration": 24,
    "start_time": "2022-10-26T12:45:22.235Z"
   },
   {
    "duration": 291,
    "start_time": "2022-10-26T12:46:46.254Z"
   },
   {
    "duration": 310,
    "start_time": "2022-10-26T12:47:38.774Z"
   },
   {
    "duration": 348,
    "start_time": "2022-10-26T12:47:56.902Z"
   },
   {
    "duration": 322,
    "start_time": "2022-10-26T12:49:48.881Z"
   },
   {
    "duration": 404,
    "start_time": "2022-10-26T12:50:01.703Z"
   },
   {
    "duration": 21,
    "start_time": "2022-10-26T12:50:19.718Z"
   },
   {
    "duration": 9,
    "start_time": "2022-10-26T13:01:15.902Z"
   },
   {
    "duration": 9,
    "start_time": "2022-10-26T13:01:40.318Z"
   },
   {
    "duration": 14,
    "start_time": "2022-10-26T13:01:46.379Z"
   },
   {
    "duration": 14,
    "start_time": "2022-10-26T13:02:30.931Z"
   },
   {
    "duration": 19,
    "start_time": "2022-10-26T13:07:45.036Z"
   },
   {
    "duration": 206,
    "start_time": "2022-10-26T13:08:15.802Z"
   },
   {
    "duration": 286,
    "start_time": "2022-10-26T13:08:50.954Z"
   },
   {
    "duration": 200,
    "start_time": "2022-10-26T13:08:57.684Z"
   },
   {
    "duration": 94,
    "start_time": "2022-10-26T13:09:06.669Z"
   },
   {
    "duration": 165,
    "start_time": "2022-10-26T13:09:28.359Z"
   },
   {
    "duration": 290,
    "start_time": "2022-10-26T13:09:40.668Z"
   },
   {
    "duration": 313,
    "start_time": "2022-10-26T13:10:17.093Z"
   },
   {
    "duration": 357,
    "start_time": "2022-10-26T13:10:24.204Z"
   },
   {
    "duration": 14,
    "start_time": "2022-10-26T13:12:48.777Z"
   },
   {
    "duration": 284,
    "start_time": "2022-10-26T13:12:51.240Z"
   },
   {
    "duration": 264,
    "start_time": "2022-10-26T13:13:00.474Z"
   },
   {
    "duration": 307,
    "start_time": "2022-10-26T13:13:34.019Z"
   },
   {
    "duration": 233,
    "start_time": "2022-10-26T13:16:38.374Z"
   },
   {
    "duration": 74,
    "start_time": "2022-10-26T13:17:06.019Z"
   },
   {
    "duration": 157,
    "start_time": "2022-10-26T13:17:14.319Z"
   },
   {
    "duration": 18,
    "start_time": "2022-10-26T13:18:21.640Z"
   },
   {
    "duration": 1132,
    "start_time": "2022-10-26T13:19:25.258Z"
   },
   {
    "duration": 464,
    "start_time": "2022-10-26T13:19:26.392Z"
   },
   {
    "duration": 46,
    "start_time": "2022-10-26T13:19:26.858Z"
   },
   {
    "duration": 38,
    "start_time": "2022-10-26T13:19:26.906Z"
   },
   {
    "duration": 9,
    "start_time": "2022-10-26T13:19:26.945Z"
   },
   {
    "duration": 16,
    "start_time": "2022-10-26T13:19:26.956Z"
   },
   {
    "duration": 67,
    "start_time": "2022-10-26T13:19:26.974Z"
   },
   {
    "duration": 10,
    "start_time": "2022-10-26T13:19:27.042Z"
   },
   {
    "duration": 32,
    "start_time": "2022-10-26T13:19:27.053Z"
   },
   {
    "duration": 36,
    "start_time": "2022-10-26T13:19:27.088Z"
   },
   {
    "duration": 64,
    "start_time": "2022-10-26T13:19:27.126Z"
   },
   {
    "duration": 82,
    "start_time": "2022-10-26T13:19:27.192Z"
   },
   {
    "duration": 36,
    "start_time": "2022-10-26T13:19:27.276Z"
   },
   {
    "duration": 54,
    "start_time": "2022-10-26T13:19:27.323Z"
   },
   {
    "duration": 17,
    "start_time": "2022-10-26T13:19:27.379Z"
   },
   {
    "duration": 5,
    "start_time": "2022-10-26T13:19:27.398Z"
   },
   {
    "duration": 10,
    "start_time": "2022-10-26T13:19:27.404Z"
   },
   {
    "duration": 5,
    "start_time": "2022-10-26T13:19:27.416Z"
   },
   {
    "duration": 105,
    "start_time": "2022-10-26T13:19:27.423Z"
   },
   {
    "duration": 15,
    "start_time": "2022-10-26T13:19:27.530Z"
   },
   {
    "duration": 8,
    "start_time": "2022-10-26T13:19:27.547Z"
   },
   {
    "duration": 13,
    "start_time": "2022-10-26T13:19:27.556Z"
   },
   {
    "duration": 20,
    "start_time": "2022-10-26T13:19:27.571Z"
   },
   {
    "duration": 4,
    "start_time": "2022-10-26T13:19:27.592Z"
   },
   {
    "duration": 29,
    "start_time": "2022-10-26T13:19:27.598Z"
   },
   {
    "duration": 21,
    "start_time": "2022-10-26T13:19:27.629Z"
   },
   {
    "duration": 4,
    "start_time": "2022-10-26T13:19:27.652Z"
   },
   {
    "duration": 22,
    "start_time": "2022-10-26T13:19:27.660Z"
   },
   {
    "duration": 131,
    "start_time": "2022-10-26T13:19:27.684Z"
   },
   {
    "duration": 10,
    "start_time": "2022-10-26T13:19:27.817Z"
   },
   {
    "duration": 6,
    "start_time": "2022-10-26T13:19:27.829Z"
   },
   {
    "duration": 13,
    "start_time": "2022-10-26T13:19:27.836Z"
   },
   {
    "duration": 137,
    "start_time": "2022-10-26T13:19:27.851Z"
   },
   {
    "duration": 11,
    "start_time": "2022-10-26T13:19:27.989Z"
   },
   {
    "duration": 125,
    "start_time": "2022-10-26T13:19:28.002Z"
   },
   {
    "duration": 15,
    "start_time": "2022-10-26T13:19:28.128Z"
   },
   {
    "duration": 152,
    "start_time": "2022-10-26T13:19:28.145Z"
   },
   {
    "duration": 4,
    "start_time": "2022-10-26T13:19:28.299Z"
   },
   {
    "duration": 7,
    "start_time": "2022-10-26T13:19:28.304Z"
   },
   {
    "duration": 19,
    "start_time": "2022-10-26T13:19:28.313Z"
   },
   {
    "duration": 44659,
    "start_time": "2022-10-26T13:19:28.334Z"
   },
   {
    "duration": 569,
    "start_time": "2022-10-26T13:20:12.994Z"
   },
   {
    "duration": 153,
    "start_time": "2022-10-26T13:20:13.565Z"
   },
   {
    "duration": 10,
    "start_time": "2022-10-26T13:20:13.719Z"
   },
   {
    "duration": 21,
    "start_time": "2022-10-26T13:20:13.730Z"
   },
   {
    "duration": 4,
    "start_time": "2022-10-26T13:20:13.753Z"
   },
   {
    "duration": 14,
    "start_time": "2022-10-26T13:20:13.759Z"
   },
   {
    "duration": 396,
    "start_time": "2022-10-26T13:20:13.775Z"
   },
   {
    "duration": 169,
    "start_time": "2022-10-26T13:20:14.173Z"
   },
   {
    "duration": 320,
    "start_time": "2022-10-26T13:20:14.344Z"
   },
   {
    "duration": 58,
    "start_time": "2022-10-27T10:33:42.004Z"
   },
   {
    "duration": 44,
    "start_time": "2022-10-27T10:34:25.194Z"
   },
   {
    "duration": 1095,
    "start_time": "2022-10-27T10:34:39.869Z"
   },
   {
    "duration": 372,
    "start_time": "2022-10-27T10:34:40.966Z"
   },
   {
    "duration": 40,
    "start_time": "2022-10-27T10:34:41.340Z"
   },
   {
    "duration": 44,
    "start_time": "2022-10-27T10:34:41.382Z"
   },
   {
    "duration": 15,
    "start_time": "2022-10-27T10:34:41.428Z"
   },
   {
    "duration": 16,
    "start_time": "2022-10-27T10:34:41.444Z"
   },
   {
    "duration": 60,
    "start_time": "2022-10-27T10:34:41.462Z"
   },
   {
    "duration": 10,
    "start_time": "2022-10-27T10:34:41.524Z"
   },
   {
    "duration": 31,
    "start_time": "2022-10-27T10:34:41.535Z"
   },
   {
    "duration": 18,
    "start_time": "2022-10-27T10:34:41.569Z"
   },
   {
    "duration": 77,
    "start_time": "2022-10-27T10:34:41.589Z"
   },
   {
    "duration": 69,
    "start_time": "2022-10-27T10:34:41.668Z"
   },
   {
    "duration": 33,
    "start_time": "2022-10-27T10:34:41.739Z"
   },
   {
    "duration": 137,
    "start_time": "2022-10-27T10:34:41.774Z"
   },
   {
    "duration": 15,
    "start_time": "2022-10-27T10:34:41.912Z"
   },
   {
    "duration": 15,
    "start_time": "2022-10-27T10:34:41.928Z"
   },
   {
    "duration": 18,
    "start_time": "2022-10-27T10:34:41.944Z"
   },
   {
    "duration": 9,
    "start_time": "2022-10-27T10:34:41.963Z"
   },
   {
    "duration": 99,
    "start_time": "2022-10-27T10:34:41.974Z"
   },
   {
    "duration": 13,
    "start_time": "2022-10-27T10:34:42.075Z"
   },
   {
    "duration": 11,
    "start_time": "2022-10-27T10:34:42.090Z"
   },
   {
    "duration": 16,
    "start_time": "2022-10-27T10:34:42.103Z"
   },
   {
    "duration": 21,
    "start_time": "2022-10-27T10:34:42.120Z"
   },
   {
    "duration": 3,
    "start_time": "2022-10-27T10:34:42.143Z"
   },
   {
    "duration": 10,
    "start_time": "2022-10-27T10:34:42.148Z"
   },
   {
    "duration": 23,
    "start_time": "2022-10-27T10:34:42.160Z"
   },
   {
    "duration": 10,
    "start_time": "2022-10-27T10:34:42.185Z"
   },
   {
    "duration": 29,
    "start_time": "2022-10-27T10:34:42.198Z"
   },
   {
    "duration": 105,
    "start_time": "2022-10-27T10:34:42.228Z"
   },
   {
    "duration": 5,
    "start_time": "2022-10-27T10:34:42.334Z"
   },
   {
    "duration": 8,
    "start_time": "2022-10-27T10:34:42.340Z"
   },
   {
    "duration": 14,
    "start_time": "2022-10-27T10:34:42.350Z"
   },
   {
    "duration": 115,
    "start_time": "2022-10-27T10:34:42.365Z"
   },
   {
    "duration": 9,
    "start_time": "2022-10-27T10:34:42.482Z"
   },
   {
    "duration": 103,
    "start_time": "2022-10-27T10:34:42.493Z"
   },
   {
    "duration": 24,
    "start_time": "2022-10-27T10:34:42.598Z"
   },
   {
    "duration": 125,
    "start_time": "2022-10-27T10:34:42.623Z"
   },
   {
    "duration": 4,
    "start_time": "2022-10-27T10:34:42.749Z"
   },
   {
    "duration": 17,
    "start_time": "2022-10-27T10:34:42.755Z"
   },
   {
    "duration": 12,
    "start_time": "2022-10-27T10:34:42.773Z"
   },
   {
    "duration": 43018,
    "start_time": "2022-10-27T10:34:42.786Z"
   },
   {
    "duration": 429,
    "start_time": "2022-10-27T10:35:25.806Z"
   },
   {
    "duration": 119,
    "start_time": "2022-10-27T10:35:26.237Z"
   },
   {
    "duration": 8,
    "start_time": "2022-10-27T10:35:26.358Z"
   },
   {
    "duration": 832,
    "start_time": "2022-10-27T10:35:26.368Z"
   },
   {
    "duration": 0,
    "start_time": "2022-10-27T10:35:27.201Z"
   },
   {
    "duration": 0,
    "start_time": "2022-10-27T10:35:27.203Z"
   },
   {
    "duration": 0,
    "start_time": "2022-10-27T10:35:27.204Z"
   },
   {
    "duration": 0,
    "start_time": "2022-10-27T10:35:27.205Z"
   },
   {
    "duration": 0,
    "start_time": "2022-10-27T10:35:27.206Z"
   },
   {
    "duration": 744,
    "start_time": "2022-10-27T10:38:45.593Z"
   },
   {
    "duration": 18,
    "start_time": "2022-10-27T10:39:29.484Z"
   },
   {
    "duration": 16,
    "start_time": "2022-10-27T10:42:07.802Z"
   },
   {
    "duration": 25,
    "start_time": "2022-10-27T10:43:45.144Z"
   },
   {
    "duration": 31,
    "start_time": "2022-10-27T10:43:55.780Z"
   },
   {
    "duration": 15,
    "start_time": "2022-10-27T10:44:13.547Z"
   },
   {
    "duration": 15,
    "start_time": "2022-10-27T10:44:35.254Z"
   },
   {
    "duration": 15,
    "start_time": "2022-10-27T10:44:47.073Z"
   },
   {
    "duration": 24,
    "start_time": "2022-10-27T10:44:53.348Z"
   },
   {
    "duration": 741,
    "start_time": "2022-10-27T10:44:59.743Z"
   },
   {
    "duration": 20,
    "start_time": "2022-10-27T10:45:13.932Z"
   },
   {
    "duration": 20,
    "start_time": "2022-10-27T10:45:21.928Z"
   },
   {
    "duration": 3,
    "start_time": "2022-10-27T10:51:58.386Z"
   },
   {
    "duration": 23,
    "start_time": "2022-10-27T10:53:49.352Z"
   },
   {
    "duration": 23,
    "start_time": "2022-10-27T10:54:05.818Z"
   },
   {
    "duration": 19,
    "start_time": "2022-10-27T10:56:11.536Z"
   },
   {
    "duration": 16,
    "start_time": "2022-10-27T10:59:38.542Z"
   },
   {
    "duration": 4,
    "start_time": "2022-10-27T11:00:28.834Z"
   },
   {
    "duration": 15,
    "start_time": "2022-10-27T11:11:31.335Z"
   },
   {
    "duration": 410,
    "start_time": "2022-10-27T11:11:36.652Z"
   },
   {
    "duration": 225,
    "start_time": "2022-10-27T11:11:44.775Z"
   },
   {
    "duration": 142,
    "start_time": "2022-10-27T11:16:54.086Z"
   },
   {
    "duration": 147,
    "start_time": "2022-10-27T11:21:30.361Z"
   },
   {
    "duration": 18,
    "start_time": "2022-10-27T11:22:05.725Z"
   },
   {
    "duration": 15,
    "start_time": "2022-10-27T11:22:48.028Z"
   },
   {
    "duration": 15,
    "start_time": "2022-10-27T11:22:52.813Z"
   },
   {
    "duration": 144,
    "start_time": "2022-10-27T11:22:57.824Z"
   },
   {
    "duration": 15,
    "start_time": "2022-10-27T11:24:33.719Z"
   },
   {
    "duration": 342,
    "start_time": "2022-10-27T11:26:18.406Z"
   },
   {
    "duration": 315,
    "start_time": "2022-10-27T11:26:26.893Z"
   },
   {
    "duration": 110,
    "start_time": "2022-10-27T11:27:48.491Z"
   },
   {
    "duration": 1012,
    "start_time": "2022-10-27T11:30:15.443Z"
   },
   {
    "duration": 366,
    "start_time": "2022-10-27T11:30:16.457Z"
   },
   {
    "duration": 42,
    "start_time": "2022-10-27T11:30:16.825Z"
   },
   {
    "duration": 30,
    "start_time": "2022-10-27T11:30:16.869Z"
   },
   {
    "duration": 24,
    "start_time": "2022-10-27T11:30:16.901Z"
   },
   {
    "duration": 23,
    "start_time": "2022-10-27T11:30:16.926Z"
   },
   {
    "duration": 40,
    "start_time": "2022-10-27T11:30:16.950Z"
   },
   {
    "duration": 9,
    "start_time": "2022-10-27T11:30:16.992Z"
   },
   {
    "duration": 37,
    "start_time": "2022-10-27T11:30:17.003Z"
   },
   {
    "duration": 15,
    "start_time": "2022-10-27T11:30:17.042Z"
   },
   {
    "duration": 74,
    "start_time": "2022-10-27T11:30:17.058Z"
   },
   {
    "duration": 54,
    "start_time": "2022-10-27T11:30:17.134Z"
   },
   {
    "duration": 45,
    "start_time": "2022-10-27T11:30:17.190Z"
   },
   {
    "duration": 16,
    "start_time": "2022-10-27T11:30:17.237Z"
   },
   {
    "duration": 14,
    "start_time": "2022-10-27T11:30:17.254Z"
   },
   {
    "duration": 5,
    "start_time": "2022-10-27T11:30:17.269Z"
   },
   {
    "duration": 7,
    "start_time": "2022-10-27T11:30:17.275Z"
   },
   {
    "duration": 7,
    "start_time": "2022-10-27T11:30:17.283Z"
   },
   {
    "duration": 40,
    "start_time": "2022-10-27T11:30:17.291Z"
   },
   {
    "duration": 14,
    "start_time": "2022-10-27T11:30:17.332Z"
   },
   {
    "duration": 6,
    "start_time": "2022-10-27T11:30:17.348Z"
   },
   {
    "duration": 11,
    "start_time": "2022-10-27T11:30:17.356Z"
   },
   {
    "duration": 19,
    "start_time": "2022-10-27T11:30:17.368Z"
   },
   {
    "duration": 4,
    "start_time": "2022-10-27T11:30:17.389Z"
   },
   {
    "duration": 5,
    "start_time": "2022-10-27T11:30:17.422Z"
   },
   {
    "duration": 21,
    "start_time": "2022-10-27T11:30:17.428Z"
   },
   {
    "duration": 4,
    "start_time": "2022-10-27T11:30:17.450Z"
   },
   {
    "duration": 26,
    "start_time": "2022-10-27T11:30:17.459Z"
   },
   {
    "duration": 127,
    "start_time": "2022-10-27T11:30:17.486Z"
   },
   {
    "duration": 8,
    "start_time": "2022-10-27T11:30:17.615Z"
   },
   {
    "duration": 5,
    "start_time": "2022-10-27T11:30:17.625Z"
   },
   {
    "duration": 10,
    "start_time": "2022-10-27T11:30:17.632Z"
   },
   {
    "duration": 120,
    "start_time": "2022-10-27T11:30:17.644Z"
   },
   {
    "duration": 10,
    "start_time": "2022-10-27T11:30:17.766Z"
   },
   {
    "duration": 109,
    "start_time": "2022-10-27T11:30:17.777Z"
   },
   {
    "duration": 13,
    "start_time": "2022-10-27T11:30:17.888Z"
   },
   {
    "duration": 135,
    "start_time": "2022-10-27T11:30:17.902Z"
   },
   {
    "duration": 3,
    "start_time": "2022-10-27T11:30:18.039Z"
   },
   {
    "duration": 17,
    "start_time": "2022-10-27T11:30:18.044Z"
   },
   {
    "duration": 24,
    "start_time": "2022-10-27T11:30:18.062Z"
   },
   {
    "duration": 40712,
    "start_time": "2022-10-27T11:30:18.088Z"
   },
   {
    "duration": 474,
    "start_time": "2022-10-27T11:30:58.801Z"
   },
   {
    "duration": 107,
    "start_time": "2022-10-27T11:30:59.277Z"
   },
   {
    "duration": 8,
    "start_time": "2022-10-27T11:30:59.385Z"
   },
   {
    "duration": 47,
    "start_time": "2022-10-27T11:30:59.394Z"
   },
   {
    "duration": 14,
    "start_time": "2022-10-27T11:30:59.443Z"
   },
   {
    "duration": 27,
    "start_time": "2022-10-27T11:30:59.459Z"
   },
   {
    "duration": 24,
    "start_time": "2022-10-27T11:30:59.487Z"
   },
   {
    "duration": 379,
    "start_time": "2022-10-27T11:30:59.512Z"
   },
   {
    "duration": 149,
    "start_time": "2022-10-27T11:30:59.893Z"
   },
   {
    "duration": 142,
    "start_time": "2022-10-27T11:31:00.044Z"
   },
   {
    "duration": 339,
    "start_time": "2022-10-27T11:31:00.187Z"
   },
   {
    "duration": 5,
    "start_time": "2022-10-27T11:43:26.932Z"
   },
   {
    "duration": 3,
    "start_time": "2022-10-27T12:54:33.187Z"
   },
   {
    "duration": 82,
    "start_time": "2022-10-27T13:05:52.529Z"
   },
   {
    "duration": 47,
    "start_time": "2022-10-27T13:10:45.213Z"
   },
   {
    "duration": 5,
    "start_time": "2022-10-27T13:13:38.874Z"
   },
   {
    "duration": 255,
    "start_time": "2022-10-27T13:17:55.369Z"
   },
   {
    "duration": 108,
    "start_time": "2022-10-27T13:27:17.302Z"
   },
   {
    "duration": 93,
    "start_time": "2022-10-27T13:27:39.769Z"
   },
   {
    "duration": 29,
    "start_time": "2022-10-27T13:30:54.582Z"
   },
   {
    "duration": 52,
    "start_time": "2022-10-27T13:31:18.616Z"
   },
   {
    "duration": 5,
    "start_time": "2022-10-27T13:31:40.936Z"
   },
   {
    "duration": 246,
    "start_time": "2022-10-27T13:35:16.563Z"
   },
   {
    "duration": 1054,
    "start_time": "2022-10-27T13:42:11.805Z"
   },
   {
    "duration": 393,
    "start_time": "2022-10-27T13:42:12.861Z"
   },
   {
    "duration": 43,
    "start_time": "2022-10-27T13:42:13.255Z"
   },
   {
    "duration": 39,
    "start_time": "2022-10-27T13:42:13.300Z"
   },
   {
    "duration": 12,
    "start_time": "2022-10-27T13:42:13.340Z"
   },
   {
    "duration": 16,
    "start_time": "2022-10-27T13:42:13.354Z"
   },
   {
    "duration": 59,
    "start_time": "2022-10-27T13:42:13.372Z"
   },
   {
    "duration": 10,
    "start_time": "2022-10-27T13:42:13.432Z"
   },
   {
    "duration": 27,
    "start_time": "2022-10-27T13:42:13.443Z"
   },
   {
    "duration": 18,
    "start_time": "2022-10-27T13:42:13.472Z"
   },
   {
    "duration": 86,
    "start_time": "2022-10-27T13:42:13.492Z"
   },
   {
    "duration": 69,
    "start_time": "2022-10-27T13:42:13.581Z"
   },
   {
    "duration": 34,
    "start_time": "2022-10-27T13:42:13.651Z"
   },
   {
    "duration": 39,
    "start_time": "2022-10-27T13:42:13.686Z"
   },
   {
    "duration": 14,
    "start_time": "2022-10-27T13:42:13.727Z"
   },
   {
    "duration": 6,
    "start_time": "2022-10-27T13:42:13.743Z"
   },
   {
    "duration": 9,
    "start_time": "2022-10-27T13:42:13.750Z"
   },
   {
    "duration": 7,
    "start_time": "2022-10-27T13:42:13.761Z"
   },
   {
    "duration": 117,
    "start_time": "2022-10-27T13:42:13.769Z"
   },
   {
    "duration": 13,
    "start_time": "2022-10-27T13:42:13.888Z"
   },
   {
    "duration": 14,
    "start_time": "2022-10-27T13:42:13.903Z"
   },
   {
    "duration": 14,
    "start_time": "2022-10-27T13:42:13.919Z"
   },
   {
    "duration": 24,
    "start_time": "2022-10-27T13:42:13.934Z"
   },
   {
    "duration": 3,
    "start_time": "2022-10-27T13:42:13.959Z"
   },
   {
    "duration": 5,
    "start_time": "2022-10-27T13:42:13.964Z"
   },
   {
    "duration": 20,
    "start_time": "2022-10-27T13:42:13.970Z"
   },
   {
    "duration": 3,
    "start_time": "2022-10-27T13:42:14.022Z"
   },
   {
    "duration": 23,
    "start_time": "2022-10-27T13:42:14.028Z"
   },
   {
    "duration": 107,
    "start_time": "2022-10-27T13:42:14.052Z"
   },
   {
    "duration": 5,
    "start_time": "2022-10-27T13:42:14.160Z"
   },
   {
    "duration": 9,
    "start_time": "2022-10-27T13:42:14.166Z"
   },
   {
    "duration": 11,
    "start_time": "2022-10-27T13:42:14.177Z"
   },
   {
    "duration": 112,
    "start_time": "2022-10-27T13:42:14.189Z"
   },
   {
    "duration": 23,
    "start_time": "2022-10-27T13:42:14.303Z"
   },
   {
    "duration": 104,
    "start_time": "2022-10-27T13:42:14.328Z"
   },
   {
    "duration": 13,
    "start_time": "2022-10-27T13:42:14.433Z"
   },
   {
    "duration": 167,
    "start_time": "2022-10-27T13:42:14.447Z"
   },
   {
    "duration": 6,
    "start_time": "2022-10-27T13:42:14.621Z"
   },
   {
    "duration": 9,
    "start_time": "2022-10-27T13:42:14.628Z"
   },
   {
    "duration": 7,
    "start_time": "2022-10-27T13:42:14.638Z"
   },
   {
    "duration": 40806,
    "start_time": "2022-10-27T13:42:14.647Z"
   },
   {
    "duration": 502,
    "start_time": "2022-10-27T13:42:55.454Z"
   },
   {
    "duration": 108,
    "start_time": "2022-10-27T13:42:55.958Z"
   },
   {
    "duration": 8,
    "start_time": "2022-10-27T13:42:56.068Z"
   },
   {
    "duration": 21,
    "start_time": "2022-10-27T13:42:56.077Z"
   },
   {
    "duration": 28,
    "start_time": "2022-10-27T13:42:56.100Z"
   },
   {
    "duration": 4,
    "start_time": "2022-10-27T13:42:56.129Z"
   },
   {
    "duration": 15,
    "start_time": "2022-10-27T13:42:56.134Z"
   },
   {
    "duration": 309,
    "start_time": "2022-10-27T13:42:56.151Z"
   },
   {
    "duration": 152,
    "start_time": "2022-10-27T13:42:56.462Z"
   },
   {
    "duration": 141,
    "start_time": "2022-10-27T13:42:56.621Z"
   },
   {
    "duration": 302,
    "start_time": "2022-10-27T13:42:56.764Z"
   },
   {
    "duration": 89,
    "start_time": "2022-10-27T13:42:57.067Z"
   },
   {
    "duration": 27,
    "start_time": "2022-10-27T13:42:57.158Z"
   },
   {
    "duration": 4,
    "start_time": "2022-10-27T13:42:57.186Z"
   },
   {
    "duration": 297,
    "start_time": "2022-10-27T13:42:57.192Z"
   },
   {
    "duration": 101,
    "start_time": "2022-10-27T13:42:57.491Z"
   },
   {
    "duration": 36,
    "start_time": "2022-10-27T13:42:57.593Z"
   },
   {
    "duration": 5,
    "start_time": "2022-10-27T13:42:57.630Z"
   },
   {
    "duration": 268,
    "start_time": "2022-10-27T13:42:57.636Z"
   },
   {
    "duration": 98,
    "start_time": "2022-10-27T13:47:22.081Z"
   },
   {
    "duration": 1048,
    "start_time": "2022-10-27T13:47:40.922Z"
   },
   {
    "duration": 319,
    "start_time": "2022-10-27T13:47:41.972Z"
   },
   {
    "duration": 42,
    "start_time": "2022-10-27T13:47:42.292Z"
   },
   {
    "duration": 28,
    "start_time": "2022-10-27T13:47:42.336Z"
   },
   {
    "duration": 17,
    "start_time": "2022-10-27T13:47:42.366Z"
   },
   {
    "duration": 23,
    "start_time": "2022-10-27T13:47:42.385Z"
   },
   {
    "duration": 51,
    "start_time": "2022-10-27T13:47:42.409Z"
   },
   {
    "duration": 9,
    "start_time": "2022-10-27T13:47:42.462Z"
   },
   {
    "duration": 33,
    "start_time": "2022-10-27T13:47:42.472Z"
   },
   {
    "duration": 17,
    "start_time": "2022-10-27T13:47:42.508Z"
   },
   {
    "duration": 59,
    "start_time": "2022-10-27T13:47:42.526Z"
   },
   {
    "duration": 67,
    "start_time": "2022-10-27T13:47:42.587Z"
   },
   {
    "duration": 37,
    "start_time": "2022-10-27T13:47:42.656Z"
   },
   {
    "duration": 42,
    "start_time": "2022-10-27T13:47:42.694Z"
   },
   {
    "duration": 15,
    "start_time": "2022-10-27T13:47:42.737Z"
   },
   {
    "duration": 29,
    "start_time": "2022-10-27T13:47:42.753Z"
   },
   {
    "duration": 19,
    "start_time": "2022-10-27T13:47:42.783Z"
   },
   {
    "duration": 24,
    "start_time": "2022-10-27T13:47:42.803Z"
   },
   {
    "duration": 66,
    "start_time": "2022-10-27T13:47:42.828Z"
   },
   {
    "duration": 14,
    "start_time": "2022-10-27T13:47:42.895Z"
   },
   {
    "duration": 20,
    "start_time": "2022-10-27T13:47:42.910Z"
   },
   {
    "duration": 23,
    "start_time": "2022-10-27T13:47:42.931Z"
   },
   {
    "duration": 28,
    "start_time": "2022-10-27T13:47:42.955Z"
   },
   {
    "duration": 8,
    "start_time": "2022-10-27T13:47:42.985Z"
   },
   {
    "duration": 13,
    "start_time": "2022-10-27T13:47:42.994Z"
   },
   {
    "duration": 28,
    "start_time": "2022-10-27T13:47:43.008Z"
   },
   {
    "duration": 11,
    "start_time": "2022-10-27T13:47:43.038Z"
   },
   {
    "duration": 25,
    "start_time": "2022-10-27T13:47:43.052Z"
   },
   {
    "duration": 122,
    "start_time": "2022-10-27T13:47:43.079Z"
   },
   {
    "duration": 5,
    "start_time": "2022-10-27T13:47:43.202Z"
   },
   {
    "duration": 18,
    "start_time": "2022-10-27T13:47:43.208Z"
   },
   {
    "duration": 20,
    "start_time": "2022-10-27T13:47:43.228Z"
   },
   {
    "duration": 107,
    "start_time": "2022-10-27T13:47:43.250Z"
   },
   {
    "duration": 9,
    "start_time": "2022-10-27T13:47:43.358Z"
   },
   {
    "duration": 102,
    "start_time": "2022-10-27T13:47:43.368Z"
   },
   {
    "duration": 12,
    "start_time": "2022-10-27T13:47:43.472Z"
   },
   {
    "duration": 131,
    "start_time": "2022-10-27T13:47:43.485Z"
   },
   {
    "duration": 5,
    "start_time": "2022-10-27T13:47:43.618Z"
   },
   {
    "duration": 21,
    "start_time": "2022-10-27T13:47:43.624Z"
   },
   {
    "duration": 24,
    "start_time": "2022-10-27T13:47:43.646Z"
   },
   {
    "duration": 41716,
    "start_time": "2022-10-27T13:47:43.671Z"
   },
   {
    "duration": 510,
    "start_time": "2022-10-27T13:48:25.389Z"
   },
   {
    "duration": 124,
    "start_time": "2022-10-27T13:48:25.901Z"
   },
   {
    "duration": 9,
    "start_time": "2022-10-27T13:48:26.027Z"
   },
   {
    "duration": 37,
    "start_time": "2022-10-27T13:48:26.037Z"
   },
   {
    "duration": 18,
    "start_time": "2022-10-27T13:48:26.076Z"
   },
   {
    "duration": 12,
    "start_time": "2022-10-27T13:48:26.096Z"
   },
   {
    "duration": 39,
    "start_time": "2022-10-27T13:48:26.109Z"
   },
   {
    "duration": 306,
    "start_time": "2022-10-27T13:48:26.149Z"
   },
   {
    "duration": 157,
    "start_time": "2022-10-27T13:48:26.457Z"
   },
   {
    "duration": 147,
    "start_time": "2022-10-27T13:48:26.615Z"
   },
   {
    "duration": 313,
    "start_time": "2022-10-27T13:48:26.763Z"
   },
   {
    "duration": 97,
    "start_time": "2022-10-27T13:48:27.077Z"
   },
   {
    "duration": 29,
    "start_time": "2022-10-27T13:48:27.175Z"
   },
   {
    "duration": 20,
    "start_time": "2022-10-27T13:48:27.205Z"
   },
   {
    "duration": 280,
    "start_time": "2022-10-27T13:48:27.227Z"
   },
   {
    "duration": 152,
    "start_time": "2022-10-27T13:48:27.509Z"
   },
   {
    "duration": 29,
    "start_time": "2022-10-27T13:48:27.663Z"
   },
   {
    "duration": 10,
    "start_time": "2022-10-27T13:48:27.694Z"
   },
   {
    "duration": 284,
    "start_time": "2022-10-27T13:48:27.706Z"
   },
   {
    "duration": 54,
    "start_time": "2022-10-28T08:55:10.802Z"
   },
   {
    "duration": 1377,
    "start_time": "2022-10-28T08:55:16.481Z"
   },
   {
    "duration": 891,
    "start_time": "2022-10-28T08:55:17.860Z"
   },
   {
    "duration": 48,
    "start_time": "2022-10-28T08:55:18.753Z"
   },
   {
    "duration": 45,
    "start_time": "2022-10-28T08:55:18.804Z"
   },
   {
    "duration": 11,
    "start_time": "2022-10-28T08:55:18.851Z"
   },
   {
    "duration": 24,
    "start_time": "2022-10-28T08:55:18.864Z"
   },
   {
    "duration": 73,
    "start_time": "2022-10-28T08:55:18.890Z"
   },
   {
    "duration": 12,
    "start_time": "2022-10-28T08:55:18.964Z"
   },
   {
    "duration": 54,
    "start_time": "2022-10-28T08:55:18.978Z"
   },
   {
    "duration": 20,
    "start_time": "2022-10-28T08:55:19.034Z"
   },
   {
    "duration": 86,
    "start_time": "2022-10-28T08:55:19.055Z"
   },
   {
    "duration": 79,
    "start_time": "2022-10-28T08:55:19.144Z"
   },
   {
    "duration": 41,
    "start_time": "2022-10-28T08:55:19.225Z"
   },
   {
    "duration": 54,
    "start_time": "2022-10-28T08:55:19.268Z"
   },
   {
    "duration": 21,
    "start_time": "2022-10-28T08:55:19.324Z"
   },
   {
    "duration": 12,
    "start_time": "2022-10-28T08:55:19.347Z"
   },
   {
    "duration": 8,
    "start_time": "2022-10-28T08:55:19.360Z"
   },
   {
    "duration": 8,
    "start_time": "2022-10-28T08:55:19.370Z"
   },
   {
    "duration": 75,
    "start_time": "2022-10-28T08:55:19.380Z"
   },
   {
    "duration": 17,
    "start_time": "2022-10-28T08:55:19.457Z"
   },
   {
    "duration": 6,
    "start_time": "2022-10-28T08:55:19.477Z"
   },
   {
    "duration": 13,
    "start_time": "2022-10-28T08:55:19.485Z"
   },
   {
    "duration": 39,
    "start_time": "2022-10-28T08:55:19.501Z"
   },
   {
    "duration": 5,
    "start_time": "2022-10-28T08:55:19.541Z"
   },
   {
    "duration": 6,
    "start_time": "2022-10-28T08:55:19.548Z"
   },
   {
    "duration": 27,
    "start_time": "2022-10-28T08:55:19.556Z"
   },
   {
    "duration": 6,
    "start_time": "2022-10-28T08:55:19.585Z"
   },
   {
    "duration": 24,
    "start_time": "2022-10-28T08:55:19.624Z"
   },
   {
    "duration": 133,
    "start_time": "2022-10-28T08:55:19.650Z"
   },
   {
    "duration": 5,
    "start_time": "2022-10-28T08:55:19.785Z"
   },
   {
    "duration": 8,
    "start_time": "2022-10-28T08:55:19.792Z"
   },
   {
    "duration": 31,
    "start_time": "2022-10-28T08:55:19.802Z"
   },
   {
    "duration": 187,
    "start_time": "2022-10-28T08:55:19.835Z"
   },
   {
    "duration": 14,
    "start_time": "2022-10-28T08:55:20.024Z"
   },
   {
    "duration": 138,
    "start_time": "2022-10-28T08:55:20.039Z"
   },
   {
    "duration": 16,
    "start_time": "2022-10-28T08:55:20.179Z"
   },
   {
    "duration": 185,
    "start_time": "2022-10-28T08:55:20.197Z"
   },
   {
    "duration": 3,
    "start_time": "2022-10-28T08:55:20.384Z"
   },
   {
    "duration": 12,
    "start_time": "2022-10-28T08:55:20.389Z"
   },
   {
    "duration": 8,
    "start_time": "2022-10-28T08:55:20.402Z"
   },
   {
    "duration": 50672,
    "start_time": "2022-10-28T08:55:20.412Z"
   },
   {
    "duration": 569,
    "start_time": "2022-10-28T08:56:11.086Z"
   },
   {
    "duration": 159,
    "start_time": "2022-10-28T08:56:11.657Z"
   },
   {
    "duration": 12,
    "start_time": "2022-10-28T08:56:11.824Z"
   },
   {
    "duration": 40,
    "start_time": "2022-10-28T08:56:11.838Z"
   },
   {
    "duration": 25,
    "start_time": "2022-10-28T08:56:11.880Z"
   },
   {
    "duration": 5,
    "start_time": "2022-10-28T08:56:11.925Z"
   },
   {
    "duration": 42,
    "start_time": "2022-10-28T08:56:11.932Z"
   },
   {
    "duration": 437,
    "start_time": "2022-10-28T08:56:11.977Z"
   },
   {
    "duration": 202,
    "start_time": "2022-10-28T08:56:12.416Z"
   },
   {
    "duration": 190,
    "start_time": "2022-10-28T08:56:12.624Z"
   },
   {
    "duration": 369,
    "start_time": "2022-10-28T08:56:12.817Z"
   },
   {
    "duration": 109,
    "start_time": "2022-10-28T08:56:13.188Z"
   },
   {
    "duration": 45,
    "start_time": "2022-10-28T08:56:13.299Z"
   },
   {
    "duration": 5,
    "start_time": "2022-10-28T08:56:13.346Z"
   },
   {
    "duration": 285,
    "start_time": "2022-10-28T08:56:13.352Z"
   },
   {
    "duration": 127,
    "start_time": "2022-10-28T08:56:13.639Z"
   },
   {
    "duration": 44,
    "start_time": "2022-10-28T08:56:13.768Z"
   },
   {
    "duration": 11,
    "start_time": "2022-10-28T08:56:13.814Z"
   },
   {
    "duration": 312,
    "start_time": "2022-10-28T08:56:13.827Z"
   },
   {
    "duration": 36,
    "start_time": "2022-10-28T08:56:14.140Z"
   },
   {
    "duration": 32,
    "start_time": "2022-10-28T08:56:26.697Z"
   },
   {
    "duration": 63,
    "start_time": "2022-10-28T09:02:16.296Z"
   },
   {
    "duration": 151,
    "start_time": "2022-10-28T09:03:08.147Z"
   },
   {
    "duration": 52,
    "start_time": "2022-10-28T09:03:19.897Z"
   },
   {
    "duration": 60,
    "start_time": "2022-10-28T09:03:45.131Z"
   },
   {
    "duration": 69,
    "start_time": "2022-10-28T09:04:26.318Z"
   },
   {
    "duration": 10,
    "start_time": "2022-10-28T09:11:54.545Z"
   },
   {
    "duration": 13,
    "start_time": "2022-10-28T09:12:04.707Z"
   },
   {
    "duration": 14,
    "start_time": "2022-10-28T09:13:39.173Z"
   },
   {
    "duration": 10,
    "start_time": "2022-10-28T09:15:19.276Z"
   },
   {
    "duration": 9,
    "start_time": "2022-10-28T09:15:26.181Z"
   },
   {
    "duration": 18,
    "start_time": "2022-10-28T09:15:33.175Z"
   },
   {
    "duration": 14,
    "start_time": "2022-10-28T09:17:17.544Z"
   },
   {
    "duration": 19,
    "start_time": "2022-10-28T09:28:42.504Z"
   },
   {
    "duration": 14,
    "start_time": "2022-10-28T09:31:03.993Z"
   },
   {
    "duration": 134,
    "start_time": "2022-10-28T09:32:26.739Z"
   },
   {
    "duration": 6,
    "start_time": "2022-10-28T09:33:32.692Z"
   },
   {
    "duration": 5,
    "start_time": "2022-10-28T09:36:26.898Z"
   },
   {
    "duration": 53,
    "start_time": "2022-10-28T09:53:41.784Z"
   },
   {
    "duration": 42,
    "start_time": "2022-10-28T09:55:01.263Z"
   },
   {
    "duration": 54,
    "start_time": "2022-10-28T09:55:39.070Z"
   },
   {
    "duration": 15,
    "start_time": "2022-10-28T09:56:28.620Z"
   },
   {
    "duration": 18,
    "start_time": "2022-10-28T09:56:33.125Z"
   },
   {
    "duration": 12,
    "start_time": "2022-10-28T09:56:38.238Z"
   },
   {
    "duration": 14,
    "start_time": "2022-10-28T09:56:42.146Z"
   },
   {
    "duration": 17,
    "start_time": "2022-10-28T09:56:56.099Z"
   },
   {
    "duration": 5,
    "start_time": "2022-10-28T09:58:16.361Z"
   },
   {
    "duration": 6,
    "start_time": "2022-10-28T09:58:50.456Z"
   },
   {
    "duration": 89,
    "start_time": "2022-10-28T09:59:55.656Z"
   },
   {
    "duration": 5,
    "start_time": "2022-10-28T10:14:22.494Z"
   },
   {
    "duration": 4,
    "start_time": "2022-10-28T10:15:36.064Z"
   },
   {
    "duration": 8,
    "start_time": "2022-10-28T11:21:23.990Z"
   },
   {
    "duration": 72,
    "start_time": "2022-10-28T11:34:16.261Z"
   },
   {
    "duration": 5,
    "start_time": "2022-10-28T11:35:34.474Z"
   },
   {
    "duration": 5,
    "start_time": "2022-10-28T11:35:56.645Z"
   },
   {
    "duration": 5,
    "start_time": "2022-10-28T11:36:41.208Z"
   },
   {
    "duration": 7,
    "start_time": "2022-10-28T11:37:08.101Z"
   },
   {
    "duration": 8,
    "start_time": "2022-10-28T11:37:51.902Z"
   },
   {
    "duration": 9,
    "start_time": "2022-10-28T11:41:48.096Z"
   },
   {
    "duration": 6,
    "start_time": "2022-10-28T11:43:03.543Z"
   },
   {
    "duration": 7,
    "start_time": "2022-10-28T11:43:13.608Z"
   },
   {
    "duration": 81,
    "start_time": "2022-10-28T11:53:09.601Z"
   },
   {
    "duration": 1383,
    "start_time": "2022-10-29T11:24:54.736Z"
   },
   {
    "duration": 394,
    "start_time": "2022-10-29T11:24:56.134Z"
   },
   {
    "duration": 52,
    "start_time": "2022-10-29T11:24:56.531Z"
   },
   {
    "duration": 51,
    "start_time": "2022-10-29T11:24:56.584Z"
   },
   {
    "duration": 10,
    "start_time": "2022-10-29T11:24:56.638Z"
   },
   {
    "duration": 15,
    "start_time": "2022-10-29T11:24:56.650Z"
   },
   {
    "duration": 68,
    "start_time": "2022-10-29T11:24:56.667Z"
   },
   {
    "duration": 12,
    "start_time": "2022-10-29T11:24:56.737Z"
   },
   {
    "duration": 30,
    "start_time": "2022-10-29T11:24:56.750Z"
   },
   {
    "duration": 19,
    "start_time": "2022-10-29T11:24:56.782Z"
   },
   {
    "duration": 97,
    "start_time": "2022-10-29T11:24:56.803Z"
   },
   {
    "duration": 77,
    "start_time": "2022-10-29T11:24:56.901Z"
   },
   {
    "duration": 54,
    "start_time": "2022-10-29T11:24:56.980Z"
   },
   {
    "duration": 58,
    "start_time": "2022-10-29T11:24:57.039Z"
   },
   {
    "duration": 16,
    "start_time": "2022-10-29T11:24:57.099Z"
   },
   {
    "duration": 20,
    "start_time": "2022-10-29T11:24:57.117Z"
   },
   {
    "duration": 5,
    "start_time": "2022-10-29T11:24:57.139Z"
   },
   {
    "duration": 8,
    "start_time": "2022-10-29T11:24:57.147Z"
   },
   {
    "duration": 103,
    "start_time": "2022-10-29T11:24:57.157Z"
   },
   {
    "duration": 18,
    "start_time": "2022-10-29T11:24:57.262Z"
   },
   {
    "duration": 6,
    "start_time": "2022-10-29T11:24:57.282Z"
   },
   {
    "duration": 13,
    "start_time": "2022-10-29T11:24:57.290Z"
   },
   {
    "duration": 40,
    "start_time": "2022-10-29T11:24:57.305Z"
   },
   {
    "duration": 5,
    "start_time": "2022-10-29T11:24:57.346Z"
   },
   {
    "duration": 5,
    "start_time": "2022-10-29T11:24:57.353Z"
   },
   {
    "duration": 22,
    "start_time": "2022-10-29T11:24:57.360Z"
   },
   {
    "duration": 4,
    "start_time": "2022-10-29T11:24:57.384Z"
   },
   {
    "duration": 62,
    "start_time": "2022-10-29T11:24:57.390Z"
   },
   {
    "duration": 123,
    "start_time": "2022-10-29T11:24:57.454Z"
   },
   {
    "duration": 5,
    "start_time": "2022-10-29T11:24:57.578Z"
   },
   {
    "duration": 7,
    "start_time": "2022-10-29T11:24:57.585Z"
   },
   {
    "duration": 12,
    "start_time": "2022-10-29T11:24:57.593Z"
   },
   {
    "duration": 155,
    "start_time": "2022-10-29T11:24:57.607Z"
   },
   {
    "duration": 11,
    "start_time": "2022-10-29T11:24:57.764Z"
   },
   {
    "duration": 135,
    "start_time": "2022-10-29T11:24:57.776Z"
   },
   {
    "duration": 31,
    "start_time": "2022-10-29T11:24:57.913Z"
   },
   {
    "duration": 148,
    "start_time": "2022-10-29T11:24:57.945Z"
   },
   {
    "duration": 4,
    "start_time": "2022-10-29T11:24:58.094Z"
   },
   {
    "duration": 9,
    "start_time": "2022-10-29T11:24:58.100Z"
   },
   {
    "duration": 14,
    "start_time": "2022-10-29T11:24:58.111Z"
   },
   {
    "duration": 50354,
    "start_time": "2022-10-29T11:24:58.133Z"
   },
   {
    "duration": 576,
    "start_time": "2022-10-29T11:25:48.488Z"
   },
   {
    "duration": 137,
    "start_time": "2022-10-29T11:25:49.067Z"
   },
   {
    "duration": 10,
    "start_time": "2022-10-29T11:25:49.206Z"
   },
   {
    "duration": 24,
    "start_time": "2022-10-29T11:25:49.238Z"
   },
   {
    "duration": 18,
    "start_time": "2022-10-29T11:25:49.264Z"
   },
   {
    "duration": 7,
    "start_time": "2022-10-29T11:25:49.284Z"
   },
   {
    "duration": 46,
    "start_time": "2022-10-29T11:25:49.293Z"
   },
   {
    "duration": 416,
    "start_time": "2022-10-29T11:25:49.341Z"
   },
   {
    "duration": 189,
    "start_time": "2022-10-29T11:25:49.759Z"
   },
   {
    "duration": 189,
    "start_time": "2022-10-29T11:25:49.949Z"
   },
   {
    "duration": 347,
    "start_time": "2022-10-29T11:25:50.139Z"
   },
   {
    "duration": 120,
    "start_time": "2022-10-29T11:25:50.488Z"
   },
   {
    "duration": 42,
    "start_time": "2022-10-29T11:25:50.610Z"
   },
   {
    "duration": 5,
    "start_time": "2022-10-29T11:25:50.654Z"
   },
   {
    "duration": 279,
    "start_time": "2022-10-29T11:25:50.660Z"
   },
   {
    "duration": 115,
    "start_time": "2022-10-29T11:25:50.942Z"
   },
   {
    "duration": 33,
    "start_time": "2022-10-29T11:25:51.059Z"
   },
   {
    "duration": 5,
    "start_time": "2022-10-29T11:25:51.093Z"
   },
   {
    "duration": 343,
    "start_time": "2022-10-29T11:25:51.100Z"
   },
   {
    "duration": 39,
    "start_time": "2022-10-29T11:25:51.445Z"
   },
   {
    "duration": 88,
    "start_time": "2022-10-29T11:25:51.486Z"
   },
   {
    "duration": 12,
    "start_time": "2022-10-29T11:25:51.576Z"
   },
   {
    "duration": 13,
    "start_time": "2022-10-29T11:25:51.590Z"
   },
   {
    "duration": 36,
    "start_time": "2022-10-29T11:25:51.605Z"
   },
   {
    "duration": 13,
    "start_time": "2022-10-29T11:25:51.642Z"
   },
   {
    "duration": 11,
    "start_time": "2022-10-29T11:25:51.656Z"
   },
   {
    "duration": 4,
    "start_time": "2022-10-29T11:25:51.669Z"
   },
   {
    "duration": 5,
    "start_time": "2022-10-29T11:25:51.674Z"
   },
   {
    "duration": 5,
    "start_time": "2022-10-29T11:25:51.681Z"
   },
   {
    "duration": 49,
    "start_time": "2022-10-29T11:25:51.687Z"
   },
   {
    "duration": 4,
    "start_time": "2022-10-29T11:25:51.738Z"
   },
   {
    "duration": 5,
    "start_time": "2022-10-29T11:25:51.744Z"
   },
   {
    "duration": 10,
    "start_time": "2022-10-29T11:25:51.751Z"
   },
   {
    "duration": 5,
    "start_time": "2022-10-29T11:25:51.763Z"
   },
   {
    "duration": 8,
    "start_time": "2022-10-29T11:25:51.770Z"
   },
   {
    "duration": 128,
    "start_time": "2022-10-29T12:07:22.187Z"
   },
   {
    "duration": 1187,
    "start_time": "2022-10-29T12:07:35.811Z"
   },
   {
    "duration": 390,
    "start_time": "2022-10-29T12:07:37.000Z"
   },
   {
    "duration": 51,
    "start_time": "2022-10-29T12:07:37.392Z"
   },
   {
    "duration": 33,
    "start_time": "2022-10-29T12:07:37.445Z"
   },
   {
    "duration": 11,
    "start_time": "2022-10-29T12:07:37.480Z"
   },
   {
    "duration": 35,
    "start_time": "2022-10-29T12:07:37.492Z"
   },
   {
    "duration": 57,
    "start_time": "2022-10-29T12:07:37.529Z"
   },
   {
    "duration": 11,
    "start_time": "2022-10-29T12:07:37.588Z"
   },
   {
    "duration": 40,
    "start_time": "2022-10-29T12:07:37.600Z"
   },
   {
    "duration": 20,
    "start_time": "2022-10-29T12:07:37.643Z"
   },
   {
    "duration": 84,
    "start_time": "2022-10-29T12:07:37.664Z"
   },
   {
    "duration": 74,
    "start_time": "2022-10-29T12:07:37.750Z"
   },
   {
    "duration": 38,
    "start_time": "2022-10-29T12:07:37.826Z"
   },
   {
    "duration": 35,
    "start_time": "2022-10-29T12:07:37.866Z"
   },
   {
    "duration": 17,
    "start_time": "2022-10-29T12:07:37.903Z"
   },
   {
    "duration": 23,
    "start_time": "2022-10-29T12:07:37.923Z"
   },
   {
    "duration": 18,
    "start_time": "2022-10-29T12:07:37.948Z"
   },
   {
    "duration": 21,
    "start_time": "2022-10-29T12:07:37.967Z"
   },
   {
    "duration": 67,
    "start_time": "2022-10-29T12:07:37.989Z"
   },
   {
    "duration": 15,
    "start_time": "2022-10-29T12:07:38.058Z"
   },
   {
    "duration": 22,
    "start_time": "2022-10-29T12:07:38.075Z"
   },
   {
    "duration": 25,
    "start_time": "2022-10-29T12:07:38.099Z"
   },
   {
    "duration": 26,
    "start_time": "2022-10-29T12:07:38.126Z"
   },
   {
    "duration": 5,
    "start_time": "2022-10-29T12:07:38.154Z"
   },
   {
    "duration": 26,
    "start_time": "2022-10-29T12:07:38.161Z"
   },
   {
    "duration": 32,
    "start_time": "2022-10-29T12:07:38.189Z"
   },
   {
    "duration": 7,
    "start_time": "2022-10-29T12:07:38.223Z"
   },
   {
    "duration": 34,
    "start_time": "2022-10-29T12:07:38.234Z"
   },
   {
    "duration": 104,
    "start_time": "2022-10-29T12:07:38.270Z"
   },
   {
    "duration": 5,
    "start_time": "2022-10-29T12:07:38.375Z"
   },
   {
    "duration": 12,
    "start_time": "2022-10-29T12:07:38.381Z"
   },
   {
    "duration": 34,
    "start_time": "2022-10-29T12:07:38.395Z"
   },
   {
    "duration": 140,
    "start_time": "2022-10-29T12:07:38.431Z"
   },
   {
    "duration": 13,
    "start_time": "2022-10-29T12:07:38.572Z"
   },
   {
    "duration": 122,
    "start_time": "2022-10-29T12:07:38.587Z"
   },
   {
    "duration": 22,
    "start_time": "2022-10-29T12:07:38.711Z"
   },
   {
    "duration": 162,
    "start_time": "2022-10-29T12:07:38.735Z"
   },
   {
    "duration": 3,
    "start_time": "2022-10-29T12:07:38.899Z"
   },
   {
    "duration": 16,
    "start_time": "2022-10-29T12:07:38.904Z"
   },
   {
    "duration": 26,
    "start_time": "2022-10-29T12:07:38.921Z"
   },
   {
    "duration": 47485,
    "start_time": "2022-10-29T12:07:38.950Z"
   },
   {
    "duration": 561,
    "start_time": "2022-10-29T12:08:26.437Z"
   },
   {
    "duration": 133,
    "start_time": "2022-10-29T12:08:27.000Z"
   },
   {
    "duration": 10,
    "start_time": "2022-10-29T12:08:27.134Z"
   },
   {
    "duration": 24,
    "start_time": "2022-10-29T12:08:27.145Z"
   },
   {
    "duration": 17,
    "start_time": "2022-10-29T12:08:27.170Z"
   },
   {
    "duration": 4,
    "start_time": "2022-10-29T12:08:27.189Z"
   },
   {
    "duration": 45,
    "start_time": "2022-10-29T12:08:27.195Z"
   },
   {
    "duration": 374,
    "start_time": "2022-10-29T12:08:27.242Z"
   },
   {
    "duration": 174,
    "start_time": "2022-10-29T12:08:27.624Z"
   },
   {
    "duration": 172,
    "start_time": "2022-10-29T12:08:27.799Z"
   },
   {
    "duration": 391,
    "start_time": "2022-10-29T12:08:27.973Z"
   },
   {
    "duration": 101,
    "start_time": "2022-10-29T12:08:28.366Z"
   },
   {
    "duration": 33,
    "start_time": "2022-10-29T12:08:28.469Z"
   },
   {
    "duration": 5,
    "start_time": "2022-10-29T12:08:28.503Z"
   },
   {
    "duration": 286,
    "start_time": "2022-10-29T12:08:28.523Z"
   },
   {
    "duration": 104,
    "start_time": "2022-10-29T12:08:28.811Z"
   },
   {
    "duration": 37,
    "start_time": "2022-10-29T12:08:28.916Z"
   },
   {
    "duration": 5,
    "start_time": "2022-10-29T12:08:28.955Z"
   },
   {
    "duration": 289,
    "start_time": "2022-10-29T12:08:28.961Z"
   },
   {
    "duration": 39,
    "start_time": "2022-10-29T12:08:29.252Z"
   },
   {
    "duration": 85,
    "start_time": "2022-10-29T12:08:29.292Z"
   },
   {
    "duration": 14,
    "start_time": "2022-10-29T12:08:29.379Z"
   },
   {
    "duration": 30,
    "start_time": "2022-10-29T12:08:29.395Z"
   },
   {
    "duration": 16,
    "start_time": "2022-10-29T12:08:29.427Z"
   },
   {
    "duration": 17,
    "start_time": "2022-10-29T12:08:29.444Z"
   },
   {
    "duration": 34,
    "start_time": "2022-10-29T12:08:29.463Z"
   },
   {
    "duration": 15,
    "start_time": "2022-10-29T12:08:29.498Z"
   },
   {
    "duration": 19,
    "start_time": "2022-10-29T12:08:29.514Z"
   },
   {
    "duration": 14,
    "start_time": "2022-10-29T12:08:29.535Z"
   },
   {
    "duration": 19,
    "start_time": "2022-10-29T12:08:29.551Z"
   },
   {
    "duration": 21,
    "start_time": "2022-10-29T12:08:29.571Z"
   },
   {
    "duration": 21,
    "start_time": "2022-10-29T12:08:29.594Z"
   },
   {
    "duration": 27,
    "start_time": "2022-10-29T12:08:29.617Z"
   },
   {
    "duration": 21,
    "start_time": "2022-10-29T12:08:29.646Z"
   },
   {
    "duration": 37,
    "start_time": "2022-10-29T12:08:29.668Z"
   },
   {
    "duration": 59,
    "start_time": "2022-10-30T13:16:50.888Z"
   },
   {
    "duration": 1285,
    "start_time": "2022-10-30T13:16:54.484Z"
   },
   {
    "duration": 446,
    "start_time": "2022-10-30T13:16:55.771Z"
   },
   {
    "duration": 1052,
    "start_time": "2022-10-30T13:17:01.748Z"
   },
   {
    "duration": 398,
    "start_time": "2022-10-30T13:17:02.802Z"
   },
   {
    "duration": 53,
    "start_time": "2022-10-30T13:17:03.202Z"
   },
   {
    "duration": 32,
    "start_time": "2022-10-30T13:17:03.257Z"
   },
   {
    "duration": 35,
    "start_time": "2022-10-30T13:17:03.291Z"
   },
   {
    "duration": 45,
    "start_time": "2022-10-30T13:17:03.327Z"
   },
   {
    "duration": 59,
    "start_time": "2022-10-30T13:17:03.373Z"
   },
   {
    "duration": 11,
    "start_time": "2022-10-30T13:17:03.433Z"
   },
   {
    "duration": 35,
    "start_time": "2022-10-30T13:17:03.446Z"
   },
   {
    "duration": 18,
    "start_time": "2022-10-30T13:17:03.483Z"
   },
   {
    "duration": 81,
    "start_time": "2022-10-30T13:17:03.502Z"
   },
   {
    "duration": 81,
    "start_time": "2022-10-30T13:17:03.585Z"
   },
   {
    "duration": 36,
    "start_time": "2022-10-30T13:17:03.668Z"
   },
   {
    "duration": 58,
    "start_time": "2022-10-30T13:17:03.707Z"
   },
   {
    "duration": 15,
    "start_time": "2022-10-30T13:17:03.766Z"
   },
   {
    "duration": 15,
    "start_time": "2022-10-30T13:17:03.783Z"
   },
   {
    "duration": 17,
    "start_time": "2022-10-30T13:17:03.800Z"
   },
   {
    "duration": 18,
    "start_time": "2022-10-30T13:17:03.818Z"
   },
   {
    "duration": 116,
    "start_time": "2022-10-30T13:17:03.837Z"
   },
   {
    "duration": 15,
    "start_time": "2022-10-30T13:17:03.955Z"
   },
   {
    "duration": 9,
    "start_time": "2022-10-30T13:17:03.972Z"
   },
   {
    "duration": 13,
    "start_time": "2022-10-30T13:17:03.982Z"
   },
   {
    "duration": 19,
    "start_time": "2022-10-30T13:17:03.996Z"
   },
   {
    "duration": 3,
    "start_time": "2022-10-30T13:17:04.017Z"
   },
   {
    "duration": 33,
    "start_time": "2022-10-30T13:17:04.021Z"
   },
   {
    "duration": 20,
    "start_time": "2022-10-30T13:17:04.056Z"
   },
   {
    "duration": 4,
    "start_time": "2022-10-30T13:17:04.077Z"
   },
   {
    "duration": 23,
    "start_time": "2022-10-30T13:17:04.082Z"
   },
   {
    "duration": 120,
    "start_time": "2022-10-30T13:17:04.106Z"
   },
   {
    "duration": 3,
    "start_time": "2022-10-30T13:17:04.228Z"
   },
   {
    "duration": 9,
    "start_time": "2022-10-30T13:17:04.233Z"
   },
   {
    "duration": 18,
    "start_time": "2022-10-30T13:17:04.243Z"
   },
   {
    "duration": 118,
    "start_time": "2022-10-30T13:17:04.263Z"
   },
   {
    "duration": 11,
    "start_time": "2022-10-30T13:17:04.382Z"
   },
   {
    "duration": 117,
    "start_time": "2022-10-30T13:17:04.395Z"
   },
   {
    "duration": 16,
    "start_time": "2022-10-30T13:17:04.513Z"
   },
   {
    "duration": 140,
    "start_time": "2022-10-30T13:17:04.530Z"
   },
   {
    "duration": 5,
    "start_time": "2022-10-30T13:17:04.671Z"
   },
   {
    "duration": 6,
    "start_time": "2022-10-30T13:17:04.678Z"
   },
   {
    "duration": 6,
    "start_time": "2022-10-30T13:17:04.685Z"
   },
   {
    "duration": 43007,
    "start_time": "2022-10-30T13:17:04.695Z"
   },
   {
    "duration": 517,
    "start_time": "2022-10-30T13:17:47.704Z"
   },
   {
    "duration": 125,
    "start_time": "2022-10-30T13:17:48.223Z"
   },
   {
    "duration": 11,
    "start_time": "2022-10-30T13:17:48.350Z"
   },
   {
    "duration": 36,
    "start_time": "2022-10-30T13:17:48.363Z"
   },
   {
    "duration": 16,
    "start_time": "2022-10-30T13:17:48.401Z"
   },
   {
    "duration": 15,
    "start_time": "2022-10-30T13:17:48.419Z"
   },
   {
    "duration": 34,
    "start_time": "2022-10-30T13:17:48.436Z"
   },
   {
    "duration": 341,
    "start_time": "2022-10-30T13:17:48.472Z"
   },
   {
    "duration": 165,
    "start_time": "2022-10-30T13:17:48.814Z"
   },
   {
    "duration": 156,
    "start_time": "2022-10-30T13:17:48.980Z"
   },
   {
    "duration": 350,
    "start_time": "2022-10-30T13:17:49.138Z"
   },
   {
    "duration": 103,
    "start_time": "2022-10-30T13:17:49.490Z"
   },
   {
    "duration": 32,
    "start_time": "2022-10-30T13:17:49.594Z"
   },
   {
    "duration": 4,
    "start_time": "2022-10-30T13:17:49.628Z"
   },
   {
    "duration": 292,
    "start_time": "2022-10-30T13:17:49.634Z"
   },
   {
    "duration": 106,
    "start_time": "2022-10-30T13:17:49.928Z"
   },
   {
    "duration": 37,
    "start_time": "2022-10-30T13:17:50.036Z"
   },
   {
    "duration": 10,
    "start_time": "2022-10-30T13:17:50.074Z"
   },
   {
    "duration": 260,
    "start_time": "2022-10-30T13:17:50.085Z"
   },
   {
    "duration": 36,
    "start_time": "2022-10-30T13:17:50.346Z"
   },
   {
    "duration": 78,
    "start_time": "2022-10-30T13:17:50.384Z"
   },
   {
    "duration": 12,
    "start_time": "2022-10-30T13:17:50.464Z"
   },
   {
    "duration": 40,
    "start_time": "2022-10-30T13:17:50.477Z"
   },
   {
    "duration": 14,
    "start_time": "2022-10-30T13:17:50.518Z"
   },
   {
    "duration": 37,
    "start_time": "2022-10-30T13:17:50.534Z"
   },
   {
    "duration": 40,
    "start_time": "2022-10-30T13:17:50.573Z"
   },
   {
    "duration": 51,
    "start_time": "2022-10-30T13:17:50.614Z"
   },
   {
    "duration": 22,
    "start_time": "2022-10-30T13:17:50.667Z"
   },
   {
    "duration": 48,
    "start_time": "2022-10-30T13:17:50.691Z"
   },
   {
    "duration": 11,
    "start_time": "2022-10-30T13:17:50.741Z"
   },
   {
    "duration": 46,
    "start_time": "2022-10-30T13:17:50.753Z"
   },
   {
    "duration": 17,
    "start_time": "2022-10-30T13:17:50.801Z"
   },
   {
    "duration": 31,
    "start_time": "2022-10-30T13:17:50.820Z"
   },
   {
    "duration": 19,
    "start_time": "2022-10-30T13:17:50.853Z"
   },
   {
    "duration": 33,
    "start_time": "2022-10-30T13:17:50.873Z"
   },
   {
    "duration": 99,
    "start_time": "2022-10-30T13:17:56.237Z"
   },
   {
    "duration": 19,
    "start_time": "2022-10-30T13:17:58.810Z"
   },
   {
    "duration": 117,
    "start_time": "2022-10-30T13:18:00.651Z"
   },
   {
    "duration": 1008,
    "start_time": "2022-10-30T13:18:03.905Z"
   },
   {
    "duration": 291,
    "start_time": "2022-10-30T13:18:04.915Z"
   },
   {
    "duration": 58,
    "start_time": "2022-10-30T13:18:05.210Z"
   },
   {
    "duration": 35,
    "start_time": "2022-10-30T13:18:05.270Z"
   },
   {
    "duration": 10,
    "start_time": "2022-10-30T13:18:05.306Z"
   },
   {
    "duration": 42,
    "start_time": "2022-10-30T13:18:05.318Z"
   },
   {
    "duration": 48,
    "start_time": "2022-10-30T13:18:05.362Z"
   },
   {
    "duration": 10,
    "start_time": "2022-10-30T13:18:05.412Z"
   },
   {
    "duration": 49,
    "start_time": "2022-10-30T13:18:05.423Z"
   },
   {
    "duration": 19,
    "start_time": "2022-10-30T13:18:05.473Z"
   },
   {
    "duration": 90,
    "start_time": "2022-10-30T13:18:05.493Z"
   },
   {
    "duration": 84,
    "start_time": "2022-10-30T13:18:05.585Z"
   },
   {
    "duration": 43,
    "start_time": "2022-10-30T13:18:05.672Z"
   },
   {
    "duration": 16,
    "start_time": "2022-10-30T13:18:05.717Z"
   },
   {
    "duration": 20,
    "start_time": "2022-10-30T13:18:05.735Z"
   },
   {
    "duration": 4,
    "start_time": "2022-10-30T13:18:05.756Z"
   },
   {
    "duration": 12,
    "start_time": "2022-10-30T13:18:05.761Z"
   },
   {
    "duration": 13,
    "start_time": "2022-10-30T13:18:05.775Z"
   },
   {
    "duration": 47,
    "start_time": "2022-10-30T13:18:05.789Z"
   },
   {
    "duration": 16,
    "start_time": "2022-10-30T13:18:05.838Z"
   },
   {
    "duration": 6,
    "start_time": "2022-10-30T13:18:05.856Z"
   },
   {
    "duration": 16,
    "start_time": "2022-10-30T13:18:05.864Z"
   },
   {
    "duration": 20,
    "start_time": "2022-10-30T13:18:05.881Z"
   },
   {
    "duration": 4,
    "start_time": "2022-10-30T13:18:05.904Z"
   },
   {
    "duration": 5,
    "start_time": "2022-10-30T13:18:05.910Z"
   },
   {
    "duration": 53,
    "start_time": "2022-10-30T13:18:05.917Z"
   },
   {
    "duration": 23,
    "start_time": "2022-10-30T13:18:05.971Z"
   },
   {
    "duration": 36,
    "start_time": "2022-10-30T13:18:05.996Z"
   },
   {
    "duration": 103,
    "start_time": "2022-10-30T13:18:06.033Z"
   },
   {
    "duration": 5,
    "start_time": "2022-10-30T13:18:06.137Z"
   },
   {
    "duration": 16,
    "start_time": "2022-10-30T13:18:06.143Z"
   },
   {
    "duration": 44,
    "start_time": "2022-10-30T13:18:06.160Z"
   },
   {
    "duration": 123,
    "start_time": "2022-10-30T13:18:06.206Z"
   },
   {
    "duration": 9,
    "start_time": "2022-10-30T13:18:06.331Z"
   },
   {
    "duration": 117,
    "start_time": "2022-10-30T13:18:06.342Z"
   },
   {
    "duration": 14,
    "start_time": "2022-10-30T13:18:06.461Z"
   },
   {
    "duration": 148,
    "start_time": "2022-10-30T13:18:06.477Z"
   },
   {
    "duration": 4,
    "start_time": "2022-10-30T13:18:06.626Z"
   },
   {
    "duration": 25,
    "start_time": "2022-10-30T13:18:06.632Z"
   },
   {
    "duration": 26,
    "start_time": "2022-10-30T13:18:06.662Z"
   },
   {
    "duration": 42718,
    "start_time": "2022-10-30T13:18:06.690Z"
   },
   {
    "duration": 549,
    "start_time": "2022-10-30T13:18:49.410Z"
   },
   {
    "duration": 121,
    "start_time": "2022-10-30T13:18:49.961Z"
   },
   {
    "duration": 10,
    "start_time": "2022-10-30T13:18:50.083Z"
   },
   {
    "duration": 33,
    "start_time": "2022-10-30T13:18:50.095Z"
   },
   {
    "duration": 25,
    "start_time": "2022-10-30T13:18:50.130Z"
   },
   {
    "duration": 9,
    "start_time": "2022-10-30T13:18:50.156Z"
   },
   {
    "duration": 21,
    "start_time": "2022-10-30T13:18:50.166Z"
   },
   {
    "duration": 317,
    "start_time": "2022-10-30T13:18:50.189Z"
   },
   {
    "duration": 178,
    "start_time": "2022-10-30T13:18:50.508Z"
   },
   {
    "duration": 162,
    "start_time": "2022-10-30T13:18:50.688Z"
   },
   {
    "duration": 345,
    "start_time": "2022-10-30T13:18:50.853Z"
   },
   {
    "duration": 93,
    "start_time": "2022-10-30T13:18:51.200Z"
   },
   {
    "duration": 31,
    "start_time": "2022-10-30T13:18:51.295Z"
   },
   {
    "duration": 4,
    "start_time": "2022-10-30T13:18:51.328Z"
   },
   {
    "duration": 331,
    "start_time": "2022-10-30T13:18:51.333Z"
   },
   {
    "duration": 125,
    "start_time": "2022-10-30T13:18:51.667Z"
   },
   {
    "duration": 35,
    "start_time": "2022-10-30T13:18:51.794Z"
   },
   {
    "duration": 5,
    "start_time": "2022-10-30T13:18:51.830Z"
   },
   {
    "duration": 306,
    "start_time": "2022-10-30T13:18:51.836Z"
   },
   {
    "duration": 38,
    "start_time": "2022-10-30T13:18:52.154Z"
   },
   {
    "duration": 76,
    "start_time": "2022-10-30T13:18:52.194Z"
   },
   {
    "duration": 11,
    "start_time": "2022-10-30T13:18:52.271Z"
   },
   {
    "duration": 11,
    "start_time": "2022-10-30T13:18:52.284Z"
   },
   {
    "duration": 11,
    "start_time": "2022-10-30T13:18:52.296Z"
   },
   {
    "duration": 14,
    "start_time": "2022-10-30T13:18:52.309Z"
   },
   {
    "duration": 33,
    "start_time": "2022-10-30T13:18:52.324Z"
   },
   {
    "duration": 15,
    "start_time": "2022-10-30T13:18:52.359Z"
   },
   {
    "duration": 13,
    "start_time": "2022-10-30T13:18:52.376Z"
   },
   {
    "duration": 7,
    "start_time": "2022-10-30T13:18:52.390Z"
   },
   {
    "duration": 7,
    "start_time": "2022-10-30T13:18:52.398Z"
   },
   {
    "duration": 15,
    "start_time": "2022-10-30T13:18:52.406Z"
   },
   {
    "duration": 7,
    "start_time": "2022-10-30T13:18:52.423Z"
   },
   {
    "duration": 8,
    "start_time": "2022-10-30T13:18:52.432Z"
   },
   {
    "duration": 17,
    "start_time": "2022-10-30T13:18:52.441Z"
   },
   {
    "duration": 8,
    "start_time": "2022-10-30T13:18:52.460Z"
   },
   {
    "duration": 55,
    "start_time": "2022-10-30T13:26:17.063Z"
   },
   {
    "duration": 5,
    "start_time": "2022-10-30T13:30:55.389Z"
   },
   {
    "duration": 6,
    "start_time": "2022-10-30T13:31:02.795Z"
   },
   {
    "duration": 5,
    "start_time": "2022-10-30T13:31:03.619Z"
   },
   {
    "duration": 122,
    "start_time": "2022-10-30T13:31:09.880Z"
   },
   {
    "duration": 21,
    "start_time": "2022-10-30T13:31:11.964Z"
   },
   {
    "duration": 10,
    "start_time": "2022-10-30T13:31:14.728Z"
   },
   {
    "duration": 13,
    "start_time": "2022-10-30T13:31:15.883Z"
   },
   {
    "duration": 14,
    "start_time": "2022-10-30T13:31:17.372Z"
   },
   {
    "duration": 107,
    "start_time": "2022-10-30T13:31:20.028Z"
   },
   {
    "duration": 13,
    "start_time": "2022-10-30T13:31:21.201Z"
   },
   {
    "duration": 25,
    "start_time": "2022-10-30T13:31:22.315Z"
   },
   {
    "duration": 17,
    "start_time": "2022-10-30T13:31:24.036Z"
   },
   {
    "duration": 5,
    "start_time": "2022-10-30T13:31:25.754Z"
   },
   {
    "duration": 4,
    "start_time": "2022-10-30T13:31:26.794Z"
   },
   {
    "duration": 16,
    "start_time": "2022-10-30T13:31:40.338Z"
   },
   {
    "duration": 6,
    "start_time": "2022-10-30T13:31:55.499Z"
   },
   {
    "duration": 5,
    "start_time": "2022-10-30T13:31:55.723Z"
   },
   {
    "duration": 5,
    "start_time": "2022-10-30T13:31:55.954Z"
   },
   {
    "duration": 44104,
    "start_time": "2022-10-30T13:31:56.690Z"
   },
   {
    "duration": 584,
    "start_time": "2022-10-30T13:32:40.796Z"
   },
   {
    "duration": 83,
    "start_time": "2022-10-30T13:32:41.382Z"
   },
   {
    "duration": 0,
    "start_time": "2022-10-30T13:32:41.467Z"
   },
   {
    "duration": 0,
    "start_time": "2022-10-30T13:32:41.469Z"
   },
   {
    "duration": 656,
    "start_time": "2022-10-30T13:32:52.386Z"
   },
   {
    "duration": 56,
    "start_time": "2022-10-30T13:32:53.044Z"
   },
   {
    "duration": 56,
    "start_time": "2022-10-30T13:32:53.102Z"
   },
   {
    "duration": 9,
    "start_time": "2022-10-30T13:32:53.677Z"
   },
   {
    "duration": 13,
    "start_time": "2022-10-30T13:32:53.748Z"
   },
   {
    "duration": 50,
    "start_time": "2022-10-30T13:32:53.809Z"
   },
   {
    "duration": 11,
    "start_time": "2022-10-30T13:32:53.896Z"
   },
   {
    "duration": 28,
    "start_time": "2022-10-30T13:32:53.927Z"
   },
   {
    "duration": 19,
    "start_time": "2022-10-30T13:32:53.968Z"
   },
   {
    "duration": 71,
    "start_time": "2022-10-30T13:32:54.103Z"
   },
   {
    "duration": 70,
    "start_time": "2022-10-30T13:32:54.201Z"
   },
   {
    "duration": 41,
    "start_time": "2022-10-30T13:32:54.273Z"
   },
   {
    "duration": 18,
    "start_time": "2022-10-30T13:32:54.403Z"
   },
   {
    "duration": 20,
    "start_time": "2022-10-30T13:32:54.437Z"
   },
   {
    "duration": 4,
    "start_time": "2022-10-30T13:32:54.505Z"
   },
   {
    "duration": 6,
    "start_time": "2022-10-30T13:32:54.561Z"
   },
   {
    "duration": 5,
    "start_time": "2022-10-30T13:32:54.625Z"
   },
   {
    "duration": 38,
    "start_time": "2022-10-30T13:32:55.442Z"
   },
   {
    "duration": 17,
    "start_time": "2022-10-30T13:32:55.641Z"
   },
   {
    "duration": 5,
    "start_time": "2022-10-30T13:32:56.311Z"
   },
   {
    "duration": 12,
    "start_time": "2022-10-30T13:32:56.429Z"
   },
   {
    "duration": 20,
    "start_time": "2022-10-30T13:32:56.552Z"
   },
   {
    "duration": 3,
    "start_time": "2022-10-30T13:32:56.585Z"
   },
   {
    "duration": 4,
    "start_time": "2022-10-30T13:32:59.730Z"
   },
   {
    "duration": 29,
    "start_time": "2022-10-30T13:33:00.310Z"
   },
   {
    "duration": 15,
    "start_time": "2022-10-30T13:33:00.344Z"
   },
   {
    "duration": 22,
    "start_time": "2022-10-30T13:33:00.440Z"
   },
   {
    "duration": 158,
    "start_time": "2022-10-30T13:33:00.510Z"
   },
   {
    "duration": 6,
    "start_time": "2022-10-30T13:33:00.671Z"
   },
   {
    "duration": 27,
    "start_time": "2022-10-30T13:33:00.679Z"
   },
   {
    "duration": 10,
    "start_time": "2022-10-30T13:33:02.146Z"
   },
   {
    "duration": 109,
    "start_time": "2022-10-30T13:33:03.099Z"
   },
   {
    "duration": 11,
    "start_time": "2022-10-30T13:33:03.674Z"
   },
   {
    "duration": 101,
    "start_time": "2022-10-30T13:33:04.027Z"
   },
   {
    "duration": 15,
    "start_time": "2022-10-30T13:33:05.066Z"
   },
   {
    "duration": 136,
    "start_time": "2022-10-30T13:33:05.618Z"
   },
   {
    "duration": 4,
    "start_time": "2022-10-30T13:33:07.698Z"
   },
   {
    "duration": 4,
    "start_time": "2022-10-30T13:33:07.930Z"
   },
   {
    "duration": 4,
    "start_time": "2022-10-30T13:33:08.338Z"
   },
   {
    "duration": 508,
    "start_time": "2022-10-30T13:33:09.923Z"
   },
   {
    "duration": 156,
    "start_time": "2022-10-30T13:33:11.578Z"
   },
   {
    "duration": 11,
    "start_time": "2022-10-30T13:33:13.570Z"
   },
   {
    "duration": 23,
    "start_time": "2022-10-30T13:33:14.810Z"
   },
   {
    "duration": 18,
    "start_time": "2022-10-30T13:33:15.513Z"
   },
   {
    "duration": 4,
    "start_time": "2022-10-30T13:33:17.282Z"
   },
   {
    "duration": 5,
    "start_time": "2022-10-30T13:33:18.002Z"
   },
   {
    "duration": 16,
    "start_time": "2022-10-30T13:33:18.514Z"
   },
   {
    "duration": 5,
    "start_time": "2022-10-30T13:38:19.186Z"
   },
   {
    "duration": 73,
    "start_time": "2022-10-31T15:26:26.294Z"
   }
  ],
  "kernelspec": {
   "display_name": "Python 3 (ipykernel)",
   "language": "python",
   "name": "python3"
  },
  "language_info": {
   "codemirror_mode": {
    "name": "ipython",
    "version": 3
   },
   "file_extension": ".py",
   "mimetype": "text/x-python",
   "name": "python",
   "nbconvert_exporter": "python",
   "pygments_lexer": "ipython3",
   "version": "3.9.12"
  },
  "toc": {
   "base_numbering": 1,
   "nav_menu": {},
   "number_sections": true,
   "sideBar": true,
   "skip_h1_title": true,
   "title_cell": "Table of Contents",
   "title_sidebar": "Contents",
   "toc_cell": false,
   "toc_position": {},
   "toc_section_display": true,
   "toc_window_display": false
  }
 },
 "nbformat": 4,
 "nbformat_minor": 2
}
