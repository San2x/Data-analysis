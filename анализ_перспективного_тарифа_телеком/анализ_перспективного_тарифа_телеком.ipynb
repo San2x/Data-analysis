{
 "cells": [
  {
   "cell_type": "markdown",
   "metadata": {},
   "source": [
    "# Определение перспективного тарифа для телеком-компании"
   ]
  },
  {
   "cell_type": "markdown",
   "metadata": {},
   "source": [
    "Компания «Мегалайн» — федеральный оператор сотовой связи. Клиентам предлагают два тарифных плана: «Смарт» и «Ультра». Чтобы скорректировать рекламный бюджет, коммерческий департамент хочет понять, какой тариф приносит больше денег.\n",
    "Для этого предстоит сделать предварительный анализ тарифов на небольшой выборке клиентов. В распоряжении имеются данные 500 пользователей «Мегалайна»: кто они, откуда, каким тарифом пользуются, сколько звонков и сообщений каждый отправил за 2018 год. Нужно проанализировать поведение клиентов и сделать вывод — какой тариф лучше. \n",
    "\n",
    "В частности, нужно проверить две гипотезы:\n",
    "- средняя выручка пользователей тарифов «Ультра» и «Смарт» различаются;\n",
    "- средняя выручка пользователей из Москвы отличается от выручки пользователей из других регионов."
   ]
  },
  {
   "cell_type": "markdown",
   "metadata": {},
   "source": [
    "## Изучение и предобработка данных"
   ]
  },
  {
   "cell_type": "markdown",
   "metadata": {},
   "source": [
    "Осуществляется загрузка необходимых библиотек."
   ]
  },
  {
   "cell_type": "code",
   "execution_count": 1,
   "metadata": {},
   "outputs": [],
   "source": [
    "import pandas as pd #загружаем библиотеку pandas\n",
    "import numpy as np #загружаем библиотеку numpy\n",
    "import matplotlib.pyplot as plt #загружаем matplotlib.pyplot\n",
    "from scipy import stats as st #загружаем stats из библиотеки scipy"
   ]
  },
  {
   "cell_type": "markdown",
   "metadata": {},
   "source": [
    "Далее осуществляется последовательная загрузка и изучение файлов."
   ]
  },
  {
   "cell_type": "markdown",
   "metadata": {},
   "source": [
    "### Файл calls.csv"
   ]
  },
  {
   "cell_type": "markdown",
   "metadata": {},
   "source": [
    "Осуществляется загрузка файла calls.csv и первичное знакомство с данными."
   ]
  },
  {
   "cell_type": "code",
   "execution_count": 2,
   "metadata": {},
   "outputs": [
    {
     "name": "stdout",
     "output_type": "stream",
     "text": [
      "<class 'pandas.core.frame.DataFrame'>\n",
      "RangeIndex: 202607 entries, 0 to 202606\n",
      "Data columns (total 4 columns):\n",
      " #   Column     Non-Null Count   Dtype  \n",
      "---  ------     --------------   -----  \n",
      " 0   id         202607 non-null  object \n",
      " 1   call_date  202607 non-null  object \n",
      " 2   duration   202607 non-null  float64\n",
      " 3   user_id    202607 non-null  int64  \n",
      "dtypes: float64(1), int64(1), object(2)\n",
      "memory usage: 6.2+ MB\n"
     ]
    },
    {
     "data": {
      "text/html": [
       "<div>\n",
       "<style scoped>\n",
       "    .dataframe tbody tr th:only-of-type {\n",
       "        vertical-align: middle;\n",
       "    }\n",
       "\n",
       "    .dataframe tbody tr th {\n",
       "        vertical-align: top;\n",
       "    }\n",
       "\n",
       "    .dataframe thead th {\n",
       "        text-align: right;\n",
       "    }\n",
       "</style>\n",
       "<table border=\"1\" class=\"dataframe\">\n",
       "  <thead>\n",
       "    <tr style=\"text-align: right;\">\n",
       "      <th></th>\n",
       "      <th>id</th>\n",
       "      <th>call_date</th>\n",
       "      <th>duration</th>\n",
       "      <th>user_id</th>\n",
       "    </tr>\n",
       "  </thead>\n",
       "  <tbody>\n",
       "    <tr>\n",
       "      <th>0</th>\n",
       "      <td>1000_0</td>\n",
       "      <td>2018-07-25</td>\n",
       "      <td>0.00</td>\n",
       "      <td>1000</td>\n",
       "    </tr>\n",
       "    <tr>\n",
       "      <th>1</th>\n",
       "      <td>1000_1</td>\n",
       "      <td>2018-08-17</td>\n",
       "      <td>0.00</td>\n",
       "      <td>1000</td>\n",
       "    </tr>\n",
       "    <tr>\n",
       "      <th>2</th>\n",
       "      <td>1000_2</td>\n",
       "      <td>2018-06-11</td>\n",
       "      <td>2.85</td>\n",
       "      <td>1000</td>\n",
       "    </tr>\n",
       "    <tr>\n",
       "      <th>3</th>\n",
       "      <td>1000_3</td>\n",
       "      <td>2018-09-21</td>\n",
       "      <td>13.80</td>\n",
       "      <td>1000</td>\n",
       "    </tr>\n",
       "    <tr>\n",
       "      <th>4</th>\n",
       "      <td>1000_4</td>\n",
       "      <td>2018-12-15</td>\n",
       "      <td>5.18</td>\n",
       "      <td>1000</td>\n",
       "    </tr>\n",
       "  </tbody>\n",
       "</table>\n",
       "</div>"
      ],
      "text/plain": [
       "       id   call_date  duration  user_id\n",
       "0  1000_0  2018-07-25      0.00     1000\n",
       "1  1000_1  2018-08-17      0.00     1000\n",
       "2  1000_2  2018-06-11      2.85     1000\n",
       "3  1000_3  2018-09-21     13.80     1000\n",
       "4  1000_4  2018-12-15      5.18     1000"
      ]
     },
     "execution_count": 2,
     "metadata": {},
     "output_type": "execute_result"
    }
   ],
   "source": [
    "data_calls = pd.read_csv('/datasets/calls.csv') #считываем csv-файл\n",
    "\n",
    "data_calls.info() #смотрим сводку основной информации\n",
    "data_calls.head() #смотрим как отображаются данные"
   ]
  },
  {
   "cell_type": "markdown",
   "metadata": {},
   "source": [
    "Файл содержит информацию о звонках (дата, продолжительность) различных пользователей. При этом первичный обзор показывает, что в данных нет пропусков."
   ]
  },
  {
   "cell_type": "markdown",
   "metadata": {},
   "source": [
    "Рассмотрим подробнее описание значений в столбце duration."
   ]
  },
  {
   "cell_type": "code",
   "execution_count": 3,
   "metadata": {},
   "outputs": [
    {
     "data": {
      "text/plain": [
       "count    202607.000000\n",
       "mean          6.755887\n",
       "std           5.843365\n",
       "min           0.000000\n",
       "25%           1.300000\n",
       "50%           6.000000\n",
       "75%          10.700000\n",
       "max          38.000000\n",
       "Name: duration, dtype: float64"
      ]
     },
     "execution_count": 3,
     "metadata": {},
     "output_type": "execute_result"
    }
   ],
   "source": [
    "data_calls['duration'].describe() #смотрим описание значений в столбце duration"
   ]
  },
  {
   "cell_type": "markdown",
   "metadata": {},
   "source": [
    "Максимальное значение выглядит приемлемым, а минимальные нулевые значения обозначают пропущенные звонки, поэтому их не нужно удалять."
   ]
  },
  {
   "cell_type": "markdown",
   "metadata": {},
   "source": [
    "В столбце call_date тип значений требуется поменять на формат даты."
   ]
  },
  {
   "cell_type": "code",
   "execution_count": 4,
   "metadata": {},
   "outputs": [],
   "source": [
    "data_calls['call_date'] = pd.to_datetime(data_calls['call_date'], format='%Y-%m-%d') #переводим данные в формат даты в столбце call_date"
   ]
  },
  {
   "cell_type": "markdown",
   "metadata": {},
   "source": [
    "Проводится проверка внесенных изменений."
   ]
  },
  {
   "cell_type": "code",
   "execution_count": 5,
   "metadata": {},
   "outputs": [
    {
     "name": "stdout",
     "output_type": "stream",
     "text": [
      "<class 'pandas.core.frame.DataFrame'>\n",
      "RangeIndex: 202607 entries, 0 to 202606\n",
      "Data columns (total 4 columns):\n",
      " #   Column     Non-Null Count   Dtype         \n",
      "---  ------     --------------   -----         \n",
      " 0   id         202607 non-null  object        \n",
      " 1   call_date  202607 non-null  datetime64[ns]\n",
      " 2   duration   202607 non-null  float64       \n",
      " 3   user_id    202607 non-null  int64         \n",
      "dtypes: datetime64[ns](1), float64(1), int64(1), object(1)\n",
      "memory usage: 6.2+ MB\n"
     ]
    },
    {
     "data": {
      "text/html": [
       "<div>\n",
       "<style scoped>\n",
       "    .dataframe tbody tr th:only-of-type {\n",
       "        vertical-align: middle;\n",
       "    }\n",
       "\n",
       "    .dataframe tbody tr th {\n",
       "        vertical-align: top;\n",
       "    }\n",
       "\n",
       "    .dataframe thead th {\n",
       "        text-align: right;\n",
       "    }\n",
       "</style>\n",
       "<table border=\"1\" class=\"dataframe\">\n",
       "  <thead>\n",
       "    <tr style=\"text-align: right;\">\n",
       "      <th></th>\n",
       "      <th>id</th>\n",
       "      <th>call_date</th>\n",
       "      <th>duration</th>\n",
       "      <th>user_id</th>\n",
       "    </tr>\n",
       "  </thead>\n",
       "  <tbody>\n",
       "    <tr>\n",
       "      <th>0</th>\n",
       "      <td>1000_0</td>\n",
       "      <td>2018-07-25</td>\n",
       "      <td>0.00</td>\n",
       "      <td>1000</td>\n",
       "    </tr>\n",
       "    <tr>\n",
       "      <th>1</th>\n",
       "      <td>1000_1</td>\n",
       "      <td>2018-08-17</td>\n",
       "      <td>0.00</td>\n",
       "      <td>1000</td>\n",
       "    </tr>\n",
       "    <tr>\n",
       "      <th>2</th>\n",
       "      <td>1000_2</td>\n",
       "      <td>2018-06-11</td>\n",
       "      <td>2.85</td>\n",
       "      <td>1000</td>\n",
       "    </tr>\n",
       "    <tr>\n",
       "      <th>3</th>\n",
       "      <td>1000_3</td>\n",
       "      <td>2018-09-21</td>\n",
       "      <td>13.80</td>\n",
       "      <td>1000</td>\n",
       "    </tr>\n",
       "    <tr>\n",
       "      <th>4</th>\n",
       "      <td>1000_4</td>\n",
       "      <td>2018-12-15</td>\n",
       "      <td>5.18</td>\n",
       "      <td>1000</td>\n",
       "    </tr>\n",
       "  </tbody>\n",
       "</table>\n",
       "</div>"
      ],
      "text/plain": [
       "       id  call_date  duration  user_id\n",
       "0  1000_0 2018-07-25      0.00     1000\n",
       "1  1000_1 2018-08-17      0.00     1000\n",
       "2  1000_2 2018-06-11      2.85     1000\n",
       "3  1000_3 2018-09-21     13.80     1000\n",
       "4  1000_4 2018-12-15      5.18     1000"
      ]
     },
     "execution_count": 5,
     "metadata": {},
     "output_type": "execute_result"
    }
   ],
   "source": [
    "data_calls.info() #смотрим сводку основной информации\n",
    "data_calls.head() #смотрим как отображаются данные"
   ]
  },
  {
   "cell_type": "markdown",
   "metadata": {},
   "source": [
    "Тип столбца был корректно изменен."
   ]
  },
  {
   "cell_type": "markdown",
   "metadata": {},
   "source": [
    "### Файл internet.csv"
   ]
  },
  {
   "cell_type": "markdown",
   "metadata": {},
   "source": [
    "Осуществляется загрузка файла internet.csv и первичное знакомство с данными."
   ]
  },
  {
   "cell_type": "code",
   "execution_count": 6,
   "metadata": {},
   "outputs": [
    {
     "name": "stdout",
     "output_type": "stream",
     "text": [
      "<class 'pandas.core.frame.DataFrame'>\n",
      "Int64Index: 149396 entries, 0 to 149395\n",
      "Data columns (total 4 columns):\n",
      " #   Column        Non-Null Count   Dtype  \n",
      "---  ------        --------------   -----  \n",
      " 0   id            149396 non-null  object \n",
      " 1   mb_used       149396 non-null  float64\n",
      " 2   session_date  149396 non-null  object \n",
      " 3   user_id       149396 non-null  int64  \n",
      "dtypes: float64(1), int64(1), object(2)\n",
      "memory usage: 5.7+ MB\n"
     ]
    },
    {
     "data": {
      "text/html": [
       "<div>\n",
       "<style scoped>\n",
       "    .dataframe tbody tr th:only-of-type {\n",
       "        vertical-align: middle;\n",
       "    }\n",
       "\n",
       "    .dataframe tbody tr th {\n",
       "        vertical-align: top;\n",
       "    }\n",
       "\n",
       "    .dataframe thead th {\n",
       "        text-align: right;\n",
       "    }\n",
       "</style>\n",
       "<table border=\"1\" class=\"dataframe\">\n",
       "  <thead>\n",
       "    <tr style=\"text-align: right;\">\n",
       "      <th></th>\n",
       "      <th>id</th>\n",
       "      <th>mb_used</th>\n",
       "      <th>session_date</th>\n",
       "      <th>user_id</th>\n",
       "    </tr>\n",
       "  </thead>\n",
       "  <tbody>\n",
       "    <tr>\n",
       "      <th>0</th>\n",
       "      <td>1000_0</td>\n",
       "      <td>112.95</td>\n",
       "      <td>2018-11-25</td>\n",
       "      <td>1000</td>\n",
       "    </tr>\n",
       "    <tr>\n",
       "      <th>1</th>\n",
       "      <td>1000_1</td>\n",
       "      <td>1052.81</td>\n",
       "      <td>2018-09-07</td>\n",
       "      <td>1000</td>\n",
       "    </tr>\n",
       "    <tr>\n",
       "      <th>2</th>\n",
       "      <td>1000_2</td>\n",
       "      <td>1197.26</td>\n",
       "      <td>2018-06-25</td>\n",
       "      <td>1000</td>\n",
       "    </tr>\n",
       "    <tr>\n",
       "      <th>3</th>\n",
       "      <td>1000_3</td>\n",
       "      <td>550.27</td>\n",
       "      <td>2018-08-22</td>\n",
       "      <td>1000</td>\n",
       "    </tr>\n",
       "    <tr>\n",
       "      <th>4</th>\n",
       "      <td>1000_4</td>\n",
       "      <td>302.56</td>\n",
       "      <td>2018-09-24</td>\n",
       "      <td>1000</td>\n",
       "    </tr>\n",
       "  </tbody>\n",
       "</table>\n",
       "</div>"
      ],
      "text/plain": [
       "       id  mb_used session_date  user_id\n",
       "0  1000_0   112.95   2018-11-25     1000\n",
       "1  1000_1  1052.81   2018-09-07     1000\n",
       "2  1000_2  1197.26   2018-06-25     1000\n",
       "3  1000_3   550.27   2018-08-22     1000\n",
       "4  1000_4   302.56   2018-09-24     1000"
      ]
     },
     "execution_count": 6,
     "metadata": {},
     "output_type": "execute_result"
    }
   ],
   "source": [
    "data_internet = pd.read_csv('/datasets/internet.csv', index_col=0) #считываем csv-файл\n",
    "\n",
    "data_internet.info() #смотрим сводку основной информации\n",
    "data_internet.head() #смотрим как отображаются данные"
   ]
  },
  {
   "cell_type": "markdown",
   "metadata": {},
   "source": [
    "Файл содержит информацию об использовании интернета (дата, объем трафика) различными пользователями. При этом первичный обзор показывает, что в данных нет пропусков."
   ]
  },
  {
   "cell_type": "markdown",
   "metadata": {},
   "source": [
    "Рассмотрим подробнее описание значений в столбце mb_used."
   ]
  },
  {
   "cell_type": "code",
   "execution_count": 7,
   "metadata": {},
   "outputs": [
    {
     "data": {
      "text/plain": [
       "count    149396.000000\n",
       "mean        370.192426\n",
       "std         278.300951\n",
       "min           0.000000\n",
       "25%         138.187500\n",
       "50%         348.015000\n",
       "75%         559.552500\n",
       "max        1724.830000\n",
       "Name: mb_used, dtype: float64"
      ]
     },
     "execution_count": 7,
     "metadata": {},
     "output_type": "execute_result"
    }
   ],
   "source": [
    "data_internet['mb_used'].describe() #смотрим описание значений в столбце mb_used"
   ]
  },
  {
   "cell_type": "markdown",
   "metadata": {},
   "source": [
    "Так же как и в случае звонков с нулевой продолжительностью, интернет-сессии с нулевым трафиком можно считать несостоявшимися попытками выхода в интернет. Возможно будет целесообразным в дальнейшем удалить данные записи."
   ]
  },
  {
   "cell_type": "markdown",
   "metadata": {},
   "source": [
    "В столбце session_date тип значений также требуется поменять на формат даты."
   ]
  },
  {
   "cell_type": "code",
   "execution_count": 8,
   "metadata": {},
   "outputs": [],
   "source": [
    "data_internet['session_date'] = pd.to_datetime(data_internet['session_date'], format='%Y-%m-%d') #переводим данные в формат даты в столбце session_date"
   ]
  },
  {
   "cell_type": "markdown",
   "metadata": {},
   "source": [
    "Проводится проверка внесенных изменений."
   ]
  },
  {
   "cell_type": "code",
   "execution_count": 9,
   "metadata": {},
   "outputs": [
    {
     "name": "stdout",
     "output_type": "stream",
     "text": [
      "<class 'pandas.core.frame.DataFrame'>\n",
      "Int64Index: 149396 entries, 0 to 149395\n",
      "Data columns (total 4 columns):\n",
      " #   Column        Non-Null Count   Dtype         \n",
      "---  ------        --------------   -----         \n",
      " 0   id            149396 non-null  object        \n",
      " 1   mb_used       149396 non-null  float64       \n",
      " 2   session_date  149396 non-null  datetime64[ns]\n",
      " 3   user_id       149396 non-null  int64         \n",
      "dtypes: datetime64[ns](1), float64(1), int64(1), object(1)\n",
      "memory usage: 5.7+ MB\n"
     ]
    },
    {
     "data": {
      "text/html": [
       "<div>\n",
       "<style scoped>\n",
       "    .dataframe tbody tr th:only-of-type {\n",
       "        vertical-align: middle;\n",
       "    }\n",
       "\n",
       "    .dataframe tbody tr th {\n",
       "        vertical-align: top;\n",
       "    }\n",
       "\n",
       "    .dataframe thead th {\n",
       "        text-align: right;\n",
       "    }\n",
       "</style>\n",
       "<table border=\"1\" class=\"dataframe\">\n",
       "  <thead>\n",
       "    <tr style=\"text-align: right;\">\n",
       "      <th></th>\n",
       "      <th>id</th>\n",
       "      <th>mb_used</th>\n",
       "      <th>session_date</th>\n",
       "      <th>user_id</th>\n",
       "    </tr>\n",
       "  </thead>\n",
       "  <tbody>\n",
       "    <tr>\n",
       "      <th>0</th>\n",
       "      <td>1000_0</td>\n",
       "      <td>112.95</td>\n",
       "      <td>2018-11-25</td>\n",
       "      <td>1000</td>\n",
       "    </tr>\n",
       "    <tr>\n",
       "      <th>1</th>\n",
       "      <td>1000_1</td>\n",
       "      <td>1052.81</td>\n",
       "      <td>2018-09-07</td>\n",
       "      <td>1000</td>\n",
       "    </tr>\n",
       "    <tr>\n",
       "      <th>2</th>\n",
       "      <td>1000_2</td>\n",
       "      <td>1197.26</td>\n",
       "      <td>2018-06-25</td>\n",
       "      <td>1000</td>\n",
       "    </tr>\n",
       "    <tr>\n",
       "      <th>3</th>\n",
       "      <td>1000_3</td>\n",
       "      <td>550.27</td>\n",
       "      <td>2018-08-22</td>\n",
       "      <td>1000</td>\n",
       "    </tr>\n",
       "    <tr>\n",
       "      <th>4</th>\n",
       "      <td>1000_4</td>\n",
       "      <td>302.56</td>\n",
       "      <td>2018-09-24</td>\n",
       "      <td>1000</td>\n",
       "    </tr>\n",
       "  </tbody>\n",
       "</table>\n",
       "</div>"
      ],
      "text/plain": [
       "       id  mb_used session_date  user_id\n",
       "0  1000_0   112.95   2018-11-25     1000\n",
       "1  1000_1  1052.81   2018-09-07     1000\n",
       "2  1000_2  1197.26   2018-06-25     1000\n",
       "3  1000_3   550.27   2018-08-22     1000\n",
       "4  1000_4   302.56   2018-09-24     1000"
      ]
     },
     "execution_count": 9,
     "metadata": {},
     "output_type": "execute_result"
    }
   ],
   "source": [
    "data_internet.info() #смотрим сводку основной информации\n",
    "data_internet.head() #смотрим как отображаются данные"
   ]
  },
  {
   "cell_type": "markdown",
   "metadata": {},
   "source": [
    "Тип столбца был корректно изменен."
   ]
  },
  {
   "cell_type": "markdown",
   "metadata": {},
   "source": [
    "### Файл messages.csv"
   ]
  },
  {
   "cell_type": "markdown",
   "metadata": {},
   "source": [
    "Осуществляется загрузка файла messages.csv и первичное знакомство с данными."
   ]
  },
  {
   "cell_type": "code",
   "execution_count": 10,
   "metadata": {},
   "outputs": [
    {
     "name": "stdout",
     "output_type": "stream",
     "text": [
      "<class 'pandas.core.frame.DataFrame'>\n",
      "RangeIndex: 123036 entries, 0 to 123035\n",
      "Data columns (total 3 columns):\n",
      " #   Column        Non-Null Count   Dtype \n",
      "---  ------        --------------   ----- \n",
      " 0   id            123036 non-null  object\n",
      " 1   message_date  123036 non-null  object\n",
      " 2   user_id       123036 non-null  int64 \n",
      "dtypes: int64(1), object(2)\n",
      "memory usage: 2.8+ MB\n"
     ]
    },
    {
     "data": {
      "text/html": [
       "<div>\n",
       "<style scoped>\n",
       "    .dataframe tbody tr th:only-of-type {\n",
       "        vertical-align: middle;\n",
       "    }\n",
       "\n",
       "    .dataframe tbody tr th {\n",
       "        vertical-align: top;\n",
       "    }\n",
       "\n",
       "    .dataframe thead th {\n",
       "        text-align: right;\n",
       "    }\n",
       "</style>\n",
       "<table border=\"1\" class=\"dataframe\">\n",
       "  <thead>\n",
       "    <tr style=\"text-align: right;\">\n",
       "      <th></th>\n",
       "      <th>id</th>\n",
       "      <th>message_date</th>\n",
       "      <th>user_id</th>\n",
       "    </tr>\n",
       "  </thead>\n",
       "  <tbody>\n",
       "    <tr>\n",
       "      <th>0</th>\n",
       "      <td>1000_0</td>\n",
       "      <td>2018-06-27</td>\n",
       "      <td>1000</td>\n",
       "    </tr>\n",
       "    <tr>\n",
       "      <th>1</th>\n",
       "      <td>1000_1</td>\n",
       "      <td>2018-10-08</td>\n",
       "      <td>1000</td>\n",
       "    </tr>\n",
       "    <tr>\n",
       "      <th>2</th>\n",
       "      <td>1000_2</td>\n",
       "      <td>2018-08-04</td>\n",
       "      <td>1000</td>\n",
       "    </tr>\n",
       "    <tr>\n",
       "      <th>3</th>\n",
       "      <td>1000_3</td>\n",
       "      <td>2018-06-16</td>\n",
       "      <td>1000</td>\n",
       "    </tr>\n",
       "    <tr>\n",
       "      <th>4</th>\n",
       "      <td>1000_4</td>\n",
       "      <td>2018-12-05</td>\n",
       "      <td>1000</td>\n",
       "    </tr>\n",
       "  </tbody>\n",
       "</table>\n",
       "</div>"
      ],
      "text/plain": [
       "       id message_date  user_id\n",
       "0  1000_0   2018-06-27     1000\n",
       "1  1000_1   2018-10-08     1000\n",
       "2  1000_2   2018-08-04     1000\n",
       "3  1000_3   2018-06-16     1000\n",
       "4  1000_4   2018-12-05     1000"
      ]
     },
     "execution_count": 10,
     "metadata": {},
     "output_type": "execute_result"
    }
   ],
   "source": [
    "data_messages = pd.read_csv('/datasets/messages.csv') #считываем csv-файл\n",
    "\n",
    "data_messages.info() #смотрим сводку основной информации\n",
    "data_messages.head() #смотрим как отображаются данные"
   ]
  },
  {
   "cell_type": "markdown",
   "metadata": {},
   "source": [
    "Файл содержит информацию о сообщениях (дата отправки) различных пользователей. При этом первичный обзор показывает, что в данных нет пропусков."
   ]
  },
  {
   "cell_type": "markdown",
   "metadata": {},
   "source": [
    "В столбце message_date тип значений также требуется поменять на формат даты."
   ]
  },
  {
   "cell_type": "code",
   "execution_count": 11,
   "metadata": {},
   "outputs": [],
   "source": [
    "data_messages['message_date'] = pd.to_datetime(data_messages['message_date'], format='%Y-%m-%d') #переводим данные в формат даты в столбце message_date"
   ]
  },
  {
   "cell_type": "markdown",
   "metadata": {},
   "source": [
    "Проводится проверка внесенных изменений."
   ]
  },
  {
   "cell_type": "code",
   "execution_count": 12,
   "metadata": {},
   "outputs": [
    {
     "name": "stdout",
     "output_type": "stream",
     "text": [
      "<class 'pandas.core.frame.DataFrame'>\n",
      "RangeIndex: 123036 entries, 0 to 123035\n",
      "Data columns (total 3 columns):\n",
      " #   Column        Non-Null Count   Dtype         \n",
      "---  ------        --------------   -----         \n",
      " 0   id            123036 non-null  object        \n",
      " 1   message_date  123036 non-null  datetime64[ns]\n",
      " 2   user_id       123036 non-null  int64         \n",
      "dtypes: datetime64[ns](1), int64(1), object(1)\n",
      "memory usage: 2.8+ MB\n"
     ]
    },
    {
     "data": {
      "text/html": [
       "<div>\n",
       "<style scoped>\n",
       "    .dataframe tbody tr th:only-of-type {\n",
       "        vertical-align: middle;\n",
       "    }\n",
       "\n",
       "    .dataframe tbody tr th {\n",
       "        vertical-align: top;\n",
       "    }\n",
       "\n",
       "    .dataframe thead th {\n",
       "        text-align: right;\n",
       "    }\n",
       "</style>\n",
       "<table border=\"1\" class=\"dataframe\">\n",
       "  <thead>\n",
       "    <tr style=\"text-align: right;\">\n",
       "      <th></th>\n",
       "      <th>id</th>\n",
       "      <th>message_date</th>\n",
       "      <th>user_id</th>\n",
       "    </tr>\n",
       "  </thead>\n",
       "  <tbody>\n",
       "    <tr>\n",
       "      <th>0</th>\n",
       "      <td>1000_0</td>\n",
       "      <td>2018-06-27</td>\n",
       "      <td>1000</td>\n",
       "    </tr>\n",
       "    <tr>\n",
       "      <th>1</th>\n",
       "      <td>1000_1</td>\n",
       "      <td>2018-10-08</td>\n",
       "      <td>1000</td>\n",
       "    </tr>\n",
       "    <tr>\n",
       "      <th>2</th>\n",
       "      <td>1000_2</td>\n",
       "      <td>2018-08-04</td>\n",
       "      <td>1000</td>\n",
       "    </tr>\n",
       "    <tr>\n",
       "      <th>3</th>\n",
       "      <td>1000_3</td>\n",
       "      <td>2018-06-16</td>\n",
       "      <td>1000</td>\n",
       "    </tr>\n",
       "    <tr>\n",
       "      <th>4</th>\n",
       "      <td>1000_4</td>\n",
       "      <td>2018-12-05</td>\n",
       "      <td>1000</td>\n",
       "    </tr>\n",
       "  </tbody>\n",
       "</table>\n",
       "</div>"
      ],
      "text/plain": [
       "       id message_date  user_id\n",
       "0  1000_0   2018-06-27     1000\n",
       "1  1000_1   2018-10-08     1000\n",
       "2  1000_2   2018-08-04     1000\n",
       "3  1000_3   2018-06-16     1000\n",
       "4  1000_4   2018-12-05     1000"
      ]
     },
     "execution_count": 12,
     "metadata": {},
     "output_type": "execute_result"
    }
   ],
   "source": [
    "data_messages.info() #смотрим сводку основной информации\n",
    "data_messages.head() #смотрим как отображаются данные"
   ]
  },
  {
   "cell_type": "markdown",
   "metadata": {},
   "source": [
    "Тип столбца был корректно изменен."
   ]
  },
  {
   "cell_type": "markdown",
   "metadata": {},
   "source": [
    "### Файл tariffs.csv"
   ]
  },
  {
   "cell_type": "markdown",
   "metadata": {},
   "source": [
    "Осуществляется загрузка файла tarrifs.csv и первичное знакомство с данными."
   ]
  },
  {
   "cell_type": "code",
   "execution_count": 13,
   "metadata": {},
   "outputs": [
    {
     "name": "stdout",
     "output_type": "stream",
     "text": [
      "<class 'pandas.core.frame.DataFrame'>\n",
      "RangeIndex: 2 entries, 0 to 1\n",
      "Data columns (total 8 columns):\n",
      " #   Column                 Non-Null Count  Dtype \n",
      "---  ------                 --------------  ----- \n",
      " 0   messages_included      2 non-null      int64 \n",
      " 1   mb_per_month_included  2 non-null      int64 \n",
      " 2   minutes_included       2 non-null      int64 \n",
      " 3   rub_monthly_fee        2 non-null      int64 \n",
      " 4   rub_per_gb             2 non-null      int64 \n",
      " 5   rub_per_message        2 non-null      int64 \n",
      " 6   rub_per_minute         2 non-null      int64 \n",
      " 7   tariff_name            2 non-null      object\n",
      "dtypes: int64(7), object(1)\n",
      "memory usage: 256.0+ bytes\n"
     ]
    },
    {
     "data": {
      "text/html": [
       "<div>\n",
       "<style scoped>\n",
       "    .dataframe tbody tr th:only-of-type {\n",
       "        vertical-align: middle;\n",
       "    }\n",
       "\n",
       "    .dataframe tbody tr th {\n",
       "        vertical-align: top;\n",
       "    }\n",
       "\n",
       "    .dataframe thead th {\n",
       "        text-align: right;\n",
       "    }\n",
       "</style>\n",
       "<table border=\"1\" class=\"dataframe\">\n",
       "  <thead>\n",
       "    <tr style=\"text-align: right;\">\n",
       "      <th></th>\n",
       "      <th>messages_included</th>\n",
       "      <th>mb_per_month_included</th>\n",
       "      <th>minutes_included</th>\n",
       "      <th>rub_monthly_fee</th>\n",
       "      <th>rub_per_gb</th>\n",
       "      <th>rub_per_message</th>\n",
       "      <th>rub_per_minute</th>\n",
       "      <th>tariff_name</th>\n",
       "    </tr>\n",
       "  </thead>\n",
       "  <tbody>\n",
       "    <tr>\n",
       "      <th>0</th>\n",
       "      <td>50</td>\n",
       "      <td>15360</td>\n",
       "      <td>500</td>\n",
       "      <td>550</td>\n",
       "      <td>200</td>\n",
       "      <td>3</td>\n",
       "      <td>3</td>\n",
       "      <td>smart</td>\n",
       "    </tr>\n",
       "    <tr>\n",
       "      <th>1</th>\n",
       "      <td>1000</td>\n",
       "      <td>30720</td>\n",
       "      <td>3000</td>\n",
       "      <td>1950</td>\n",
       "      <td>150</td>\n",
       "      <td>1</td>\n",
       "      <td>1</td>\n",
       "      <td>ultra</td>\n",
       "    </tr>\n",
       "  </tbody>\n",
       "</table>\n",
       "</div>"
      ],
      "text/plain": [
       "   messages_included  mb_per_month_included  minutes_included  \\\n",
       "0                 50                  15360               500   \n",
       "1               1000                  30720              3000   \n",
       "\n",
       "   rub_monthly_fee  rub_per_gb  rub_per_message  rub_per_minute tariff_name  \n",
       "0              550         200                3               3       smart  \n",
       "1             1950         150                1               1       ultra  "
      ]
     },
     "execution_count": 13,
     "metadata": {},
     "output_type": "execute_result"
    }
   ],
   "source": [
    "data_tariffs = pd.read_csv('/datasets/tariffs.csv') #считываем csv-файл\n",
    "\n",
    "data_tariffs.info() #смотрим сводку основной информации\n",
    "data_tariffs.head() #смотрим как отображаются данные"
   ]
  },
  {
   "cell_type": "markdown",
   "metadata": {},
   "source": [
    "Файл содержит информацию о двух рассматриваемых тарифах (ежемесячная плата, включенные минуты/сообщения/трафик и стоимость услуг сверх пакета)."
   ]
  },
  {
   "cell_type": "markdown",
   "metadata": {},
   "source": [
    "На текущем этапе исследования нет необходимости вносить какие-либо изменения в данную таблицу."
   ]
  },
  {
   "cell_type": "markdown",
   "metadata": {},
   "source": [
    "### Файл users.csv"
   ]
  },
  {
   "cell_type": "markdown",
   "metadata": {},
   "source": [
    "Осуществляется загрузка файла users.csv и первичное знакомство с данными."
   ]
  },
  {
   "cell_type": "code",
   "execution_count": 14,
   "metadata": {},
   "outputs": [
    {
     "name": "stdout",
     "output_type": "stream",
     "text": [
      "<class 'pandas.core.frame.DataFrame'>\n",
      "RangeIndex: 500 entries, 0 to 499\n",
      "Data columns (total 8 columns):\n",
      " #   Column      Non-Null Count  Dtype \n",
      "---  ------      --------------  ----- \n",
      " 0   user_id     500 non-null    int64 \n",
      " 1   age         500 non-null    int64 \n",
      " 2   churn_date  38 non-null     object\n",
      " 3   city        500 non-null    object\n",
      " 4   first_name  500 non-null    object\n",
      " 5   last_name   500 non-null    object\n",
      " 6   reg_date    500 non-null    object\n",
      " 7   tariff      500 non-null    object\n",
      "dtypes: int64(2), object(6)\n",
      "memory usage: 31.4+ KB\n"
     ]
    },
    {
     "data": {
      "text/html": [
       "<div>\n",
       "<style scoped>\n",
       "    .dataframe tbody tr th:only-of-type {\n",
       "        vertical-align: middle;\n",
       "    }\n",
       "\n",
       "    .dataframe tbody tr th {\n",
       "        vertical-align: top;\n",
       "    }\n",
       "\n",
       "    .dataframe thead th {\n",
       "        text-align: right;\n",
       "    }\n",
       "</style>\n",
       "<table border=\"1\" class=\"dataframe\">\n",
       "  <thead>\n",
       "    <tr style=\"text-align: right;\">\n",
       "      <th></th>\n",
       "      <th>user_id</th>\n",
       "      <th>age</th>\n",
       "      <th>churn_date</th>\n",
       "      <th>city</th>\n",
       "      <th>first_name</th>\n",
       "      <th>last_name</th>\n",
       "      <th>reg_date</th>\n",
       "      <th>tariff</th>\n",
       "    </tr>\n",
       "  </thead>\n",
       "  <tbody>\n",
       "    <tr>\n",
       "      <th>0</th>\n",
       "      <td>1000</td>\n",
       "      <td>52</td>\n",
       "      <td>NaN</td>\n",
       "      <td>Краснодар</td>\n",
       "      <td>Рафаил</td>\n",
       "      <td>Верещагин</td>\n",
       "      <td>2018-05-25</td>\n",
       "      <td>ultra</td>\n",
       "    </tr>\n",
       "    <tr>\n",
       "      <th>1</th>\n",
       "      <td>1001</td>\n",
       "      <td>41</td>\n",
       "      <td>NaN</td>\n",
       "      <td>Москва</td>\n",
       "      <td>Иван</td>\n",
       "      <td>Ежов</td>\n",
       "      <td>2018-11-01</td>\n",
       "      <td>smart</td>\n",
       "    </tr>\n",
       "    <tr>\n",
       "      <th>2</th>\n",
       "      <td>1002</td>\n",
       "      <td>59</td>\n",
       "      <td>NaN</td>\n",
       "      <td>Стерлитамак</td>\n",
       "      <td>Евгений</td>\n",
       "      <td>Абрамович</td>\n",
       "      <td>2018-06-17</td>\n",
       "      <td>smart</td>\n",
       "    </tr>\n",
       "    <tr>\n",
       "      <th>3</th>\n",
       "      <td>1003</td>\n",
       "      <td>23</td>\n",
       "      <td>NaN</td>\n",
       "      <td>Москва</td>\n",
       "      <td>Белла</td>\n",
       "      <td>Белякова</td>\n",
       "      <td>2018-08-17</td>\n",
       "      <td>ultra</td>\n",
       "    </tr>\n",
       "    <tr>\n",
       "      <th>4</th>\n",
       "      <td>1004</td>\n",
       "      <td>68</td>\n",
       "      <td>NaN</td>\n",
       "      <td>Новокузнецк</td>\n",
       "      <td>Татьяна</td>\n",
       "      <td>Авдеенко</td>\n",
       "      <td>2018-05-14</td>\n",
       "      <td>ultra</td>\n",
       "    </tr>\n",
       "  </tbody>\n",
       "</table>\n",
       "</div>"
      ],
      "text/plain": [
       "   user_id  age churn_date         city first_name  last_name    reg_date  \\\n",
       "0     1000   52        NaN    Краснодар     Рафаил  Верещагин  2018-05-25   \n",
       "1     1001   41        NaN       Москва       Иван       Ежов  2018-11-01   \n",
       "2     1002   59        NaN  Стерлитамак    Евгений  Абрамович  2018-06-17   \n",
       "3     1003   23        NaN       Москва      Белла   Белякова  2018-08-17   \n",
       "4     1004   68        NaN  Новокузнецк    Татьяна   Авдеенко  2018-05-14   \n",
       "\n",
       "  tariff  \n",
       "0  ultra  \n",
       "1  smart  \n",
       "2  smart  \n",
       "3  ultra  \n",
       "4  ultra  "
      ]
     },
     "execution_count": 14,
     "metadata": {},
     "output_type": "execute_result"
    }
   ],
   "source": [
    "data_users = pd.read_csv('/datasets/users.csv') #считываем csv-файл\n",
    "\n",
    "data_users.info() #смотрим сводку основной информации\n",
    "data_users.head() #смотрим как отображаются данные"
   ]
  },
  {
   "cell_type": "markdown",
   "metadata": {},
   "source": [
    "Файл содержит информацию о пользователях (идентификатор, возраст, дата отключения от тарифа, город, имя, фамилия, дата регистрации и используемый тариф). При этом пропуски присутствуют в столбце churn_date, но это лишь означает, что тариф еще действовал на момент выгрузки данных. Оставим пока имеющиеся значения, и проследим как это повлияет на дальнейшие расчеты."
   ]
  },
  {
   "cell_type": "markdown",
   "metadata": {},
   "source": [
    "Для удобства определим на основе данной таблицы категорию города - Москва или другой регион. Для этого применим лямбда-функцию, возвращающую булевые значения."
   ]
  },
  {
   "cell_type": "code",
   "execution_count": 15,
   "metadata": {},
   "outputs": [],
   "source": [
    "data_users['capital'] = data_users['city'].apply(lambda x: x == \"Москва\") #добавляем столбец с определением категории региона"
   ]
  },
  {
   "cell_type": "markdown",
   "metadata": {},
   "source": [
    "В столбцах churn_date и reg_date тип значений также требуется поменять на формат даты."
   ]
  },
  {
   "cell_type": "code",
   "execution_count": 16,
   "metadata": {},
   "outputs": [],
   "source": [
    "data_users['churn_date'] = pd.to_datetime(data_users['churn_date'], format='%Y-%m-%d') #переводим данные в формат даты в столбце churn_date\n",
    "data_users['reg_date'] = pd.to_datetime(data_users['reg_date'], format='%Y-%m-%d') #переводим данные в формат даты в столбце reg_date"
   ]
  },
  {
   "cell_type": "markdown",
   "metadata": {},
   "source": [
    "Проводится проверка внесенных изменений."
   ]
  },
  {
   "cell_type": "code",
   "execution_count": 17,
   "metadata": {},
   "outputs": [
    {
     "name": "stdout",
     "output_type": "stream",
     "text": [
      "<class 'pandas.core.frame.DataFrame'>\n",
      "RangeIndex: 500 entries, 0 to 499\n",
      "Data columns (total 9 columns):\n",
      " #   Column      Non-Null Count  Dtype         \n",
      "---  ------      --------------  -----         \n",
      " 0   user_id     500 non-null    int64         \n",
      " 1   age         500 non-null    int64         \n",
      " 2   churn_date  38 non-null     datetime64[ns]\n",
      " 3   city        500 non-null    object        \n",
      " 4   first_name  500 non-null    object        \n",
      " 5   last_name   500 non-null    object        \n",
      " 6   reg_date    500 non-null    datetime64[ns]\n",
      " 7   tariff      500 non-null    object        \n",
      " 8   capital     500 non-null    bool          \n",
      "dtypes: bool(1), datetime64[ns](2), int64(2), object(4)\n",
      "memory usage: 31.9+ KB\n"
     ]
    },
    {
     "data": {
      "text/html": [
       "<div>\n",
       "<style scoped>\n",
       "    .dataframe tbody tr th:only-of-type {\n",
       "        vertical-align: middle;\n",
       "    }\n",
       "\n",
       "    .dataframe tbody tr th {\n",
       "        vertical-align: top;\n",
       "    }\n",
       "\n",
       "    .dataframe thead th {\n",
       "        text-align: right;\n",
       "    }\n",
       "</style>\n",
       "<table border=\"1\" class=\"dataframe\">\n",
       "  <thead>\n",
       "    <tr style=\"text-align: right;\">\n",
       "      <th></th>\n",
       "      <th>user_id</th>\n",
       "      <th>age</th>\n",
       "      <th>churn_date</th>\n",
       "      <th>city</th>\n",
       "      <th>first_name</th>\n",
       "      <th>last_name</th>\n",
       "      <th>reg_date</th>\n",
       "      <th>tariff</th>\n",
       "      <th>capital</th>\n",
       "    </tr>\n",
       "  </thead>\n",
       "  <tbody>\n",
       "    <tr>\n",
       "      <th>0</th>\n",
       "      <td>1000</td>\n",
       "      <td>52</td>\n",
       "      <td>NaT</td>\n",
       "      <td>Краснодар</td>\n",
       "      <td>Рафаил</td>\n",
       "      <td>Верещагин</td>\n",
       "      <td>2018-05-25</td>\n",
       "      <td>ultra</td>\n",
       "      <td>False</td>\n",
       "    </tr>\n",
       "    <tr>\n",
       "      <th>1</th>\n",
       "      <td>1001</td>\n",
       "      <td>41</td>\n",
       "      <td>NaT</td>\n",
       "      <td>Москва</td>\n",
       "      <td>Иван</td>\n",
       "      <td>Ежов</td>\n",
       "      <td>2018-11-01</td>\n",
       "      <td>smart</td>\n",
       "      <td>True</td>\n",
       "    </tr>\n",
       "    <tr>\n",
       "      <th>2</th>\n",
       "      <td>1002</td>\n",
       "      <td>59</td>\n",
       "      <td>NaT</td>\n",
       "      <td>Стерлитамак</td>\n",
       "      <td>Евгений</td>\n",
       "      <td>Абрамович</td>\n",
       "      <td>2018-06-17</td>\n",
       "      <td>smart</td>\n",
       "      <td>False</td>\n",
       "    </tr>\n",
       "    <tr>\n",
       "      <th>3</th>\n",
       "      <td>1003</td>\n",
       "      <td>23</td>\n",
       "      <td>NaT</td>\n",
       "      <td>Москва</td>\n",
       "      <td>Белла</td>\n",
       "      <td>Белякова</td>\n",
       "      <td>2018-08-17</td>\n",
       "      <td>ultra</td>\n",
       "      <td>True</td>\n",
       "    </tr>\n",
       "    <tr>\n",
       "      <th>4</th>\n",
       "      <td>1004</td>\n",
       "      <td>68</td>\n",
       "      <td>NaT</td>\n",
       "      <td>Новокузнецк</td>\n",
       "      <td>Татьяна</td>\n",
       "      <td>Авдеенко</td>\n",
       "      <td>2018-05-14</td>\n",
       "      <td>ultra</td>\n",
       "      <td>False</td>\n",
       "    </tr>\n",
       "  </tbody>\n",
       "</table>\n",
       "</div>"
      ],
      "text/plain": [
       "   user_id  age churn_date         city first_name  last_name   reg_date  \\\n",
       "0     1000   52        NaT    Краснодар     Рафаил  Верещагин 2018-05-25   \n",
       "1     1001   41        NaT       Москва       Иван       Ежов 2018-11-01   \n",
       "2     1002   59        NaT  Стерлитамак    Евгений  Абрамович 2018-06-17   \n",
       "3     1003   23        NaT       Москва      Белла   Белякова 2018-08-17   \n",
       "4     1004   68        NaT  Новокузнецк    Татьяна   Авдеенко 2018-05-14   \n",
       "\n",
       "  tariff  capital  \n",
       "0  ultra    False  \n",
       "1  smart     True  \n",
       "2  smart    False  \n",
       "3  ultra     True  \n",
       "4  ultra    False  "
      ]
     },
     "execution_count": 17,
     "metadata": {},
     "output_type": "execute_result"
    }
   ],
   "source": [
    "data_users.info() #смотрим сводку основной информации\n",
    "data_users.head() #смотрим как отображаются данные"
   ]
  },
  {
   "cell_type": "markdown",
   "metadata": {},
   "source": [
    "Новый столбец успешно добавлен в таблицу, типы столбцов корректно изменены."
   ]
  },
  {
   "cell_type": "markdown",
   "metadata": {},
   "source": [
    "## Дополнительные расчеты и добавление данных"
   ]
  },
  {
   "cell_type": "markdown",
   "metadata": {},
   "source": [
    "Сперва, для завершения подготовки данных, устраним нулевые значения трафика в таблице internet."
   ]
  },
  {
   "cell_type": "code",
   "execution_count": 18,
   "metadata": {},
   "outputs": [],
   "source": [
    "data_internet = data_internet[data_internet['mb_used'] > 0] #выбираем интернет-сессии с ненулевым трафиком"
   ]
  },
  {
   "cell_type": "markdown",
   "metadata": {},
   "source": [
    "Повторно рассмотрим описание значений в столбце mb_used."
   ]
  },
  {
   "cell_type": "code",
   "execution_count": 19,
   "metadata": {},
   "outputs": [
    {
     "name": "stdout",
     "output_type": "stream",
     "text": [
      "count    129798.000000\n",
      "mean        426.087210\n",
      "std         255.596447\n",
      "min           0.030000\n",
      "25%         227.460000\n",
      "50%         400.540000\n",
      "75%         592.947500\n",
      "max        1724.830000\n",
      "Name: mb_used, dtype: float64\n"
     ]
    },
    {
     "data": {
      "text/html": [
       "<div>\n",
       "<style scoped>\n",
       "    .dataframe tbody tr th:only-of-type {\n",
       "        vertical-align: middle;\n",
       "    }\n",
       "\n",
       "    .dataframe tbody tr th {\n",
       "        vertical-align: top;\n",
       "    }\n",
       "\n",
       "    .dataframe thead th {\n",
       "        text-align: right;\n",
       "    }\n",
       "</style>\n",
       "<table border=\"1\" class=\"dataframe\">\n",
       "  <thead>\n",
       "    <tr style=\"text-align: right;\">\n",
       "      <th></th>\n",
       "      <th>id</th>\n",
       "      <th>mb_used</th>\n",
       "      <th>session_date</th>\n",
       "      <th>user_id</th>\n",
       "    </tr>\n",
       "  </thead>\n",
       "  <tbody>\n",
       "    <tr>\n",
       "      <th>0</th>\n",
       "      <td>1000_0</td>\n",
       "      <td>112.95</td>\n",
       "      <td>2018-11-25</td>\n",
       "      <td>1000</td>\n",
       "    </tr>\n",
       "    <tr>\n",
       "      <th>1</th>\n",
       "      <td>1000_1</td>\n",
       "      <td>1052.81</td>\n",
       "      <td>2018-09-07</td>\n",
       "      <td>1000</td>\n",
       "    </tr>\n",
       "    <tr>\n",
       "      <th>2</th>\n",
       "      <td>1000_2</td>\n",
       "      <td>1197.26</td>\n",
       "      <td>2018-06-25</td>\n",
       "      <td>1000</td>\n",
       "    </tr>\n",
       "    <tr>\n",
       "      <th>3</th>\n",
       "      <td>1000_3</td>\n",
       "      <td>550.27</td>\n",
       "      <td>2018-08-22</td>\n",
       "      <td>1000</td>\n",
       "    </tr>\n",
       "    <tr>\n",
       "      <th>4</th>\n",
       "      <td>1000_4</td>\n",
       "      <td>302.56</td>\n",
       "      <td>2018-09-24</td>\n",
       "      <td>1000</td>\n",
       "    </tr>\n",
       "    <tr>\n",
       "      <th>...</th>\n",
       "      <td>...</td>\n",
       "      <td>...</td>\n",
       "      <td>...</td>\n",
       "      <td>...</td>\n",
       "    </tr>\n",
       "    <tr>\n",
       "      <th>149390</th>\n",
       "      <td>1499_151</td>\n",
       "      <td>752.72</td>\n",
       "      <td>2018-10-11</td>\n",
       "      <td>1499</td>\n",
       "    </tr>\n",
       "    <tr>\n",
       "      <th>149391</th>\n",
       "      <td>1499_152</td>\n",
       "      <td>318.90</td>\n",
       "      <td>2018-10-03</td>\n",
       "      <td>1499</td>\n",
       "    </tr>\n",
       "    <tr>\n",
       "      <th>149392</th>\n",
       "      <td>1499_153</td>\n",
       "      <td>490.13</td>\n",
       "      <td>2018-12-14</td>\n",
       "      <td>1499</td>\n",
       "    </tr>\n",
       "    <tr>\n",
       "      <th>149394</th>\n",
       "      <td>1499_155</td>\n",
       "      <td>1246.32</td>\n",
       "      <td>2018-11-26</td>\n",
       "      <td>1499</td>\n",
       "    </tr>\n",
       "    <tr>\n",
       "      <th>149395</th>\n",
       "      <td>1499_156</td>\n",
       "      <td>544.37</td>\n",
       "      <td>2018-10-26</td>\n",
       "      <td>1499</td>\n",
       "    </tr>\n",
       "  </tbody>\n",
       "</table>\n",
       "<p>129798 rows × 4 columns</p>\n",
       "</div>"
      ],
      "text/plain": [
       "              id  mb_used session_date  user_id\n",
       "0         1000_0   112.95   2018-11-25     1000\n",
       "1         1000_1  1052.81   2018-09-07     1000\n",
       "2         1000_2  1197.26   2018-06-25     1000\n",
       "3         1000_3   550.27   2018-08-22     1000\n",
       "4         1000_4   302.56   2018-09-24     1000\n",
       "...          ...      ...          ...      ...\n",
       "149390  1499_151   752.72   2018-10-11     1499\n",
       "149391  1499_152   318.90   2018-10-03     1499\n",
       "149392  1499_153   490.13   2018-12-14     1499\n",
       "149394  1499_155  1246.32   2018-11-26     1499\n",
       "149395  1499_156   544.37   2018-10-26     1499\n",
       "\n",
       "[129798 rows x 4 columns]"
      ]
     },
     "execution_count": 19,
     "metadata": {},
     "output_type": "execute_result"
    }
   ],
   "source": [
    "print(data_internet['mb_used'].describe()) #смотрим описание значений в столбце mb_used\n",
    "\n",
    "data_internet #посмотрим на результат"
   ]
  },
  {
   "cell_type": "markdown",
   "metadata": {},
   "source": [
    "Нулевые значения были устранены."
   ]
  },
  {
   "cell_type": "markdown",
   "metadata": {},
   "source": [
    "Далее для каждого пользователя будет определен набор основных показателей, рассчитанный по месяцам. Это, в том числе, потребует добавления в существующие таблицы новых столбцов для последующей группировки данных."
   ]
  },
  {
   "cell_type": "markdown",
   "metadata": {},
   "source": [
    "### Количество звонков и израсходованных минут"
   ]
  },
  {
   "cell_type": "markdown",
   "metadata": {},
   "source": [
    "Для расчета показателей по месяцам добавим в таблицу calls столбец с номером месяца."
   ]
  },
  {
   "cell_type": "code",
   "execution_count": 20,
   "metadata": {},
   "outputs": [],
   "source": [
    "data_calls['month'] = data_calls['call_date'].dt.month #добавляем столбец с месяцем совершения звонка"
   ]
  },
  {
   "cell_type": "markdown",
   "metadata": {},
   "source": [
    "Также добавим столбец с округленной вверх продолжительностью каждого звонка (так как даже если звонок длился всего 1 секунду, это будет засчитано как 1 минута) с присвоением ему целочисленного типа."
   ]
  },
  {
   "cell_type": "code",
   "execution_count": 21,
   "metadata": {},
   "outputs": [],
   "source": [
    "data_calls['duration_ceil'] = np.ceil(data_calls['duration']).astype('int') #добавляем столбец с округленной вверх продолжительностью звонков"
   ]
  },
  {
   "cell_type": "markdown",
   "metadata": {},
   "source": [
    "Кроме того, на этом этапе нам скорее всего не понадобятся звонки с нулевой продолжительностью (они являются пропущенными и, вероятно, впоследствии состоялись, так что их учет в количестве звонков выглядит избыточным, а на сумму продолжительностей они все равно не повлияют)."
   ]
  },
  {
   "cell_type": "code",
   "execution_count": 22,
   "metadata": {},
   "outputs": [],
   "source": [
    "data_calls = data_calls[data_calls['duration'] > 0] #выбираем звонки с ненулевой продолжительностью"
   ]
  },
  {
   "cell_type": "markdown",
   "metadata": {},
   "source": [
    "Проводится проверка внесенных изменений."
   ]
  },
  {
   "cell_type": "code",
   "execution_count": 23,
   "metadata": {},
   "outputs": [
    {
     "name": "stdout",
     "output_type": "stream",
     "text": [
      "<class 'pandas.core.frame.DataFrame'>\n",
      "Int64Index: 162994 entries, 2 to 202606\n",
      "Data columns (total 6 columns):\n",
      " #   Column         Non-Null Count   Dtype         \n",
      "---  ------         --------------   -----         \n",
      " 0   id             162994 non-null  object        \n",
      " 1   call_date      162994 non-null  datetime64[ns]\n",
      " 2   duration       162994 non-null  float64       \n",
      " 3   user_id        162994 non-null  int64         \n",
      " 4   month          162994 non-null  int64         \n",
      " 5   duration_ceil  162994 non-null  int64         \n",
      "dtypes: datetime64[ns](1), float64(1), int64(3), object(1)\n",
      "memory usage: 8.7+ MB\n"
     ]
    },
    {
     "data": {
      "text/html": [
       "<div>\n",
       "<style scoped>\n",
       "    .dataframe tbody tr th:only-of-type {\n",
       "        vertical-align: middle;\n",
       "    }\n",
       "\n",
       "    .dataframe tbody tr th {\n",
       "        vertical-align: top;\n",
       "    }\n",
       "\n",
       "    .dataframe thead th {\n",
       "        text-align: right;\n",
       "    }\n",
       "</style>\n",
       "<table border=\"1\" class=\"dataframe\">\n",
       "  <thead>\n",
       "    <tr style=\"text-align: right;\">\n",
       "      <th></th>\n",
       "      <th>id</th>\n",
       "      <th>call_date</th>\n",
       "      <th>duration</th>\n",
       "      <th>user_id</th>\n",
       "      <th>month</th>\n",
       "      <th>duration_ceil</th>\n",
       "    </tr>\n",
       "  </thead>\n",
       "  <tbody>\n",
       "    <tr>\n",
       "      <th>2</th>\n",
       "      <td>1000_2</td>\n",
       "      <td>2018-06-11</td>\n",
       "      <td>2.85</td>\n",
       "      <td>1000</td>\n",
       "      <td>6</td>\n",
       "      <td>3</td>\n",
       "    </tr>\n",
       "    <tr>\n",
       "      <th>3</th>\n",
       "      <td>1000_3</td>\n",
       "      <td>2018-09-21</td>\n",
       "      <td>13.80</td>\n",
       "      <td>1000</td>\n",
       "      <td>9</td>\n",
       "      <td>14</td>\n",
       "    </tr>\n",
       "    <tr>\n",
       "      <th>4</th>\n",
       "      <td>1000_4</td>\n",
       "      <td>2018-12-15</td>\n",
       "      <td>5.18</td>\n",
       "      <td>1000</td>\n",
       "      <td>12</td>\n",
       "      <td>6</td>\n",
       "    </tr>\n",
       "    <tr>\n",
       "      <th>7</th>\n",
       "      <td>1000_7</td>\n",
       "      <td>2018-08-22</td>\n",
       "      <td>18.31</td>\n",
       "      <td>1000</td>\n",
       "      <td>8</td>\n",
       "      <td>19</td>\n",
       "    </tr>\n",
       "    <tr>\n",
       "      <th>8</th>\n",
       "      <td>1000_8</td>\n",
       "      <td>2018-09-15</td>\n",
       "      <td>18.44</td>\n",
       "      <td>1000</td>\n",
       "      <td>9</td>\n",
       "      <td>19</td>\n",
       "    </tr>\n",
       "  </tbody>\n",
       "</table>\n",
       "</div>"
      ],
      "text/plain": [
       "       id  call_date  duration  user_id  month  duration_ceil\n",
       "2  1000_2 2018-06-11      2.85     1000      6              3\n",
       "3  1000_3 2018-09-21     13.80     1000      9             14\n",
       "4  1000_4 2018-12-15      5.18     1000     12              6\n",
       "7  1000_7 2018-08-22     18.31     1000      8             19\n",
       "8  1000_8 2018-09-15     18.44     1000      9             19"
      ]
     },
     "execution_count": 23,
     "metadata": {},
     "output_type": "execute_result"
    }
   ],
   "source": [
    "data_calls.info() #смотрим сводку основной информации\n",
    "data_calls.head() #смотрим как отображаются данные"
   ]
  },
  {
   "cell_type": "markdown",
   "metadata": {},
   "source": [
    "Новые столбцы успешно добавлены в таблицу, расчеты произведены корректно."
   ]
  },
  {
   "cell_type": "markdown",
   "metadata": {},
   "source": [
    "Теперь можем посчитать для каждого пользователя количество сделанных звонков и израсходованных минут разговора по месяцам за счет группировки данных."
   ]
  },
  {
   "cell_type": "code",
   "execution_count": 24,
   "metadata": {},
   "outputs": [
    {
     "data": {
      "text/html": [
       "<div>\n",
       "<style scoped>\n",
       "    .dataframe tbody tr th:only-of-type {\n",
       "        vertical-align: middle;\n",
       "    }\n",
       "\n",
       "    .dataframe tbody tr th {\n",
       "        vertical-align: top;\n",
       "    }\n",
       "\n",
       "    .dataframe thead th {\n",
       "        text-align: right;\n",
       "    }\n",
       "</style>\n",
       "<table border=\"1\" class=\"dataframe\">\n",
       "  <thead>\n",
       "    <tr style=\"text-align: right;\">\n",
       "      <th></th>\n",
       "      <th></th>\n",
       "      <th>calls_count</th>\n",
       "      <th>calls_duration</th>\n",
       "    </tr>\n",
       "    <tr>\n",
       "      <th>user_id</th>\n",
       "      <th>month</th>\n",
       "      <th></th>\n",
       "      <th></th>\n",
       "    </tr>\n",
       "  </thead>\n",
       "  <tbody>\n",
       "    <tr>\n",
       "      <th rowspan=\"5\" valign=\"top\">1000</th>\n",
       "      <th>5</th>\n",
       "      <td>17</td>\n",
       "      <td>159</td>\n",
       "    </tr>\n",
       "    <tr>\n",
       "      <th>6</th>\n",
       "      <td>28</td>\n",
       "      <td>172</td>\n",
       "    </tr>\n",
       "    <tr>\n",
       "      <th>7</th>\n",
       "      <td>41</td>\n",
       "      <td>340</td>\n",
       "    </tr>\n",
       "    <tr>\n",
       "      <th>8</th>\n",
       "      <td>42</td>\n",
       "      <td>408</td>\n",
       "    </tr>\n",
       "    <tr>\n",
       "      <th>9</th>\n",
       "      <td>46</td>\n",
       "      <td>466</td>\n",
       "    </tr>\n",
       "    <tr>\n",
       "      <th>...</th>\n",
       "      <th>...</th>\n",
       "      <td>...</td>\n",
       "      <td>...</td>\n",
       "    </tr>\n",
       "    <tr>\n",
       "      <th>1498</th>\n",
       "      <th>10</th>\n",
       "      <td>30</td>\n",
       "      <td>247</td>\n",
       "    </tr>\n",
       "    <tr>\n",
       "      <th rowspan=\"4\" valign=\"top\">1499</th>\n",
       "      <th>9</th>\n",
       "      <td>8</td>\n",
       "      <td>70</td>\n",
       "    </tr>\n",
       "    <tr>\n",
       "      <th>10</th>\n",
       "      <td>44</td>\n",
       "      <td>449</td>\n",
       "    </tr>\n",
       "    <tr>\n",
       "      <th>11</th>\n",
       "      <td>62</td>\n",
       "      <td>612</td>\n",
       "    </tr>\n",
       "    <tr>\n",
       "      <th>12</th>\n",
       "      <td>56</td>\n",
       "      <td>492</td>\n",
       "    </tr>\n",
       "  </tbody>\n",
       "</table>\n",
       "<p>3168 rows × 2 columns</p>\n",
       "</div>"
      ],
      "text/plain": [
       "               calls_count  calls_duration\n",
       "user_id month                             \n",
       "1000    5               17             159\n",
       "        6               28             172\n",
       "        7               41             340\n",
       "        8               42             408\n",
       "        9               46             466\n",
       "...                    ...             ...\n",
       "1498    10              30             247\n",
       "1499    9                8              70\n",
       "        10              44             449\n",
       "        11              62             612\n",
       "        12              56             492\n",
       "\n",
       "[3168 rows x 2 columns]"
      ]
     },
     "execution_count": 24,
     "metadata": {},
     "output_type": "execute_result"
    }
   ],
   "source": [
    "data_calls_grouped = data_calls.pivot_table(index=['user_id', 'month'], values='duration_ceil', aggfunc=['count', 'sum']) #строим сводную таблицу с группировкой суммы продолжительности и числа звонков по идентификатору пользователя и месяцу\n",
    "\n",
    "data_calls_grouped.columns = ['calls_count', 'calls_duration'] #для удобства переименуем названия столбцов\n",
    "\n",
    "data_calls_grouped #посмотрим на результат"
   ]
  },
  {
   "cell_type": "markdown",
   "metadata": {},
   "source": [
    "Не по всем пользователям отображаются данные по 12 месяцам, так как кто-то мог подключиться к тарифу в течение года или, наоборот, отключиться от него в этот период."
   ]
  },
  {
   "cell_type": "markdown",
   "metadata": {},
   "source": [
    "### Количество отправленных сообщений"
   ]
  },
  {
   "cell_type": "markdown",
   "metadata": {},
   "source": [
    "Аналогично для расчета показателей по месяцам добавим в таблицу messages столбец с номером месяца."
   ]
  },
  {
   "cell_type": "code",
   "execution_count": 25,
   "metadata": {},
   "outputs": [],
   "source": [
    "data_messages['month'] = data_messages['message_date'].dt.month #добавляем столбец с месяцем отправки сообщения"
   ]
  },
  {
   "cell_type": "markdown",
   "metadata": {},
   "source": [
    "Проводится проверка внесенных изменений."
   ]
  },
  {
   "cell_type": "code",
   "execution_count": 26,
   "metadata": {},
   "outputs": [
    {
     "name": "stdout",
     "output_type": "stream",
     "text": [
      "<class 'pandas.core.frame.DataFrame'>\n",
      "RangeIndex: 123036 entries, 0 to 123035\n",
      "Data columns (total 4 columns):\n",
      " #   Column        Non-Null Count   Dtype         \n",
      "---  ------        --------------   -----         \n",
      " 0   id            123036 non-null  object        \n",
      " 1   message_date  123036 non-null  datetime64[ns]\n",
      " 2   user_id       123036 non-null  int64         \n",
      " 3   month         123036 non-null  int64         \n",
      "dtypes: datetime64[ns](1), int64(2), object(1)\n",
      "memory usage: 3.8+ MB\n"
     ]
    },
    {
     "data": {
      "text/html": [
       "<div>\n",
       "<style scoped>\n",
       "    .dataframe tbody tr th:only-of-type {\n",
       "        vertical-align: middle;\n",
       "    }\n",
       "\n",
       "    .dataframe tbody tr th {\n",
       "        vertical-align: top;\n",
       "    }\n",
       "\n",
       "    .dataframe thead th {\n",
       "        text-align: right;\n",
       "    }\n",
       "</style>\n",
       "<table border=\"1\" class=\"dataframe\">\n",
       "  <thead>\n",
       "    <tr style=\"text-align: right;\">\n",
       "      <th></th>\n",
       "      <th>id</th>\n",
       "      <th>message_date</th>\n",
       "      <th>user_id</th>\n",
       "      <th>month</th>\n",
       "    </tr>\n",
       "  </thead>\n",
       "  <tbody>\n",
       "    <tr>\n",
       "      <th>0</th>\n",
       "      <td>1000_0</td>\n",
       "      <td>2018-06-27</td>\n",
       "      <td>1000</td>\n",
       "      <td>6</td>\n",
       "    </tr>\n",
       "    <tr>\n",
       "      <th>1</th>\n",
       "      <td>1000_1</td>\n",
       "      <td>2018-10-08</td>\n",
       "      <td>1000</td>\n",
       "      <td>10</td>\n",
       "    </tr>\n",
       "    <tr>\n",
       "      <th>2</th>\n",
       "      <td>1000_2</td>\n",
       "      <td>2018-08-04</td>\n",
       "      <td>1000</td>\n",
       "      <td>8</td>\n",
       "    </tr>\n",
       "    <tr>\n",
       "      <th>3</th>\n",
       "      <td>1000_3</td>\n",
       "      <td>2018-06-16</td>\n",
       "      <td>1000</td>\n",
       "      <td>6</td>\n",
       "    </tr>\n",
       "    <tr>\n",
       "      <th>4</th>\n",
       "      <td>1000_4</td>\n",
       "      <td>2018-12-05</td>\n",
       "      <td>1000</td>\n",
       "      <td>12</td>\n",
       "    </tr>\n",
       "  </tbody>\n",
       "</table>\n",
       "</div>"
      ],
      "text/plain": [
       "       id message_date  user_id  month\n",
       "0  1000_0   2018-06-27     1000      6\n",
       "1  1000_1   2018-10-08     1000     10\n",
       "2  1000_2   2018-08-04     1000      8\n",
       "3  1000_3   2018-06-16     1000      6\n",
       "4  1000_4   2018-12-05     1000     12"
      ]
     },
     "execution_count": 26,
     "metadata": {},
     "output_type": "execute_result"
    }
   ],
   "source": [
    "data_messages.info() #смотрим сводку основной информации\n",
    "data_messages.head() #смотрим как отображаются данные"
   ]
  },
  {
   "cell_type": "markdown",
   "metadata": {},
   "source": [
    "Новый столбец успешно добавлен в таблицу."
   ]
  },
  {
   "cell_type": "markdown",
   "metadata": {},
   "source": [
    "Теперь можем посчитать для каждого пользователя количество отправленных сообщений по месяцам за счет группировки данных."
   ]
  },
  {
   "cell_type": "code",
   "execution_count": 27,
   "metadata": {},
   "outputs": [
    {
     "data": {
      "text/html": [
       "<div>\n",
       "<style scoped>\n",
       "    .dataframe tbody tr th:only-of-type {\n",
       "        vertical-align: middle;\n",
       "    }\n",
       "\n",
       "    .dataframe tbody tr th {\n",
       "        vertical-align: top;\n",
       "    }\n",
       "\n",
       "    .dataframe thead th {\n",
       "        text-align: right;\n",
       "    }\n",
       "</style>\n",
       "<table border=\"1\" class=\"dataframe\">\n",
       "  <thead>\n",
       "    <tr style=\"text-align: right;\">\n",
       "      <th></th>\n",
       "      <th></th>\n",
       "      <th>messages_count</th>\n",
       "    </tr>\n",
       "    <tr>\n",
       "      <th>user_id</th>\n",
       "      <th>month</th>\n",
       "      <th></th>\n",
       "    </tr>\n",
       "  </thead>\n",
       "  <tbody>\n",
       "    <tr>\n",
       "      <th rowspan=\"5\" valign=\"top\">1000</th>\n",
       "      <th>5</th>\n",
       "      <td>22</td>\n",
       "    </tr>\n",
       "    <tr>\n",
       "      <th>6</th>\n",
       "      <td>60</td>\n",
       "    </tr>\n",
       "    <tr>\n",
       "      <th>7</th>\n",
       "      <td>75</td>\n",
       "    </tr>\n",
       "    <tr>\n",
       "      <th>8</th>\n",
       "      <td>81</td>\n",
       "    </tr>\n",
       "    <tr>\n",
       "      <th>9</th>\n",
       "      <td>57</td>\n",
       "    </tr>\n",
       "    <tr>\n",
       "      <th>...</th>\n",
       "      <th>...</th>\n",
       "      <td>...</td>\n",
       "    </tr>\n",
       "    <tr>\n",
       "      <th>1498</th>\n",
       "      <th>10</th>\n",
       "      <td>42</td>\n",
       "    </tr>\n",
       "    <tr>\n",
       "      <th rowspan=\"4\" valign=\"top\">1499</th>\n",
       "      <th>9</th>\n",
       "      <td>11</td>\n",
       "    </tr>\n",
       "    <tr>\n",
       "      <th>10</th>\n",
       "      <td>48</td>\n",
       "    </tr>\n",
       "    <tr>\n",
       "      <th>11</th>\n",
       "      <td>59</td>\n",
       "    </tr>\n",
       "    <tr>\n",
       "      <th>12</th>\n",
       "      <td>66</td>\n",
       "    </tr>\n",
       "  </tbody>\n",
       "</table>\n",
       "<p>2717 rows × 1 columns</p>\n",
       "</div>"
      ],
      "text/plain": [
       "               messages_count\n",
       "user_id month                \n",
       "1000    5                  22\n",
       "        6                  60\n",
       "        7                  75\n",
       "        8                  81\n",
       "        9                  57\n",
       "...                       ...\n",
       "1498    10                 42\n",
       "1499    9                  11\n",
       "        10                 48\n",
       "        11                 59\n",
       "        12                 66\n",
       "\n",
       "[2717 rows x 1 columns]"
      ]
     },
     "execution_count": 27,
     "metadata": {},
     "output_type": "execute_result"
    }
   ],
   "source": [
    "data_messages_grouped = data_messages.pivot_table(index=['user_id', 'month'], values='id', aggfunc='count') #строим сводную таблицу с группировкой числа сообщений по идентификатору пользователя и месяцу\n",
    "\n",
    "data_messages_grouped.columns = ['messages_count'] #для удобства переименуем названия столбцов\n",
    "\n",
    "data_messages_grouped #посмотрим на результат"
   ]
  },
  {
   "cell_type": "markdown",
   "metadata": {},
   "source": [
    "И снова не по всем пользователям отображаются данные по 12 месяцам, так как кто-то мог подключиться к тарифу в течение года или отключиться от него в этот период."
   ]
  },
  {
   "cell_type": "markdown",
   "metadata": {},
   "source": [
    "### Объем израсходованного интернет-трафика"
   ]
  },
  {
   "cell_type": "markdown",
   "metadata": {},
   "source": [
    "Аналогично для расчета показателей по месяцам добавим в таблицу internet столбец с номером месяца."
   ]
  },
  {
   "cell_type": "code",
   "execution_count": 28,
   "metadata": {},
   "outputs": [],
   "source": [
    "data_internet['month'] = data_internet['session_date'].dt.month #добавляем столбец с месяцем интернет-сессии"
   ]
  },
  {
   "cell_type": "markdown",
   "metadata": {},
   "source": [
    "Проводится проверка внесенных изменений."
   ]
  },
  {
   "cell_type": "code",
   "execution_count": 29,
   "metadata": {},
   "outputs": [
    {
     "name": "stdout",
     "output_type": "stream",
     "text": [
      "<class 'pandas.core.frame.DataFrame'>\n",
      "Int64Index: 129798 entries, 0 to 149395\n",
      "Data columns (total 5 columns):\n",
      " #   Column        Non-Null Count   Dtype         \n",
      "---  ------        --------------   -----         \n",
      " 0   id            129798 non-null  object        \n",
      " 1   mb_used       129798 non-null  float64       \n",
      " 2   session_date  129798 non-null  datetime64[ns]\n",
      " 3   user_id       129798 non-null  int64         \n",
      " 4   month         129798 non-null  int64         \n",
      "dtypes: datetime64[ns](1), float64(1), int64(2), object(1)\n",
      "memory usage: 5.9+ MB\n"
     ]
    },
    {
     "data": {
      "text/html": [
       "<div>\n",
       "<style scoped>\n",
       "    .dataframe tbody tr th:only-of-type {\n",
       "        vertical-align: middle;\n",
       "    }\n",
       "\n",
       "    .dataframe tbody tr th {\n",
       "        vertical-align: top;\n",
       "    }\n",
       "\n",
       "    .dataframe thead th {\n",
       "        text-align: right;\n",
       "    }\n",
       "</style>\n",
       "<table border=\"1\" class=\"dataframe\">\n",
       "  <thead>\n",
       "    <tr style=\"text-align: right;\">\n",
       "      <th></th>\n",
       "      <th>id</th>\n",
       "      <th>mb_used</th>\n",
       "      <th>session_date</th>\n",
       "      <th>user_id</th>\n",
       "      <th>month</th>\n",
       "    </tr>\n",
       "  </thead>\n",
       "  <tbody>\n",
       "    <tr>\n",
       "      <th>0</th>\n",
       "      <td>1000_0</td>\n",
       "      <td>112.95</td>\n",
       "      <td>2018-11-25</td>\n",
       "      <td>1000</td>\n",
       "      <td>11</td>\n",
       "    </tr>\n",
       "    <tr>\n",
       "      <th>1</th>\n",
       "      <td>1000_1</td>\n",
       "      <td>1052.81</td>\n",
       "      <td>2018-09-07</td>\n",
       "      <td>1000</td>\n",
       "      <td>9</td>\n",
       "    </tr>\n",
       "    <tr>\n",
       "      <th>2</th>\n",
       "      <td>1000_2</td>\n",
       "      <td>1197.26</td>\n",
       "      <td>2018-06-25</td>\n",
       "      <td>1000</td>\n",
       "      <td>6</td>\n",
       "    </tr>\n",
       "    <tr>\n",
       "      <th>3</th>\n",
       "      <td>1000_3</td>\n",
       "      <td>550.27</td>\n",
       "      <td>2018-08-22</td>\n",
       "      <td>1000</td>\n",
       "      <td>8</td>\n",
       "    </tr>\n",
       "    <tr>\n",
       "      <th>4</th>\n",
       "      <td>1000_4</td>\n",
       "      <td>302.56</td>\n",
       "      <td>2018-09-24</td>\n",
       "      <td>1000</td>\n",
       "      <td>9</td>\n",
       "    </tr>\n",
       "  </tbody>\n",
       "</table>\n",
       "</div>"
      ],
      "text/plain": [
       "       id  mb_used session_date  user_id  month\n",
       "0  1000_0   112.95   2018-11-25     1000     11\n",
       "1  1000_1  1052.81   2018-09-07     1000      9\n",
       "2  1000_2  1197.26   2018-06-25     1000      6\n",
       "3  1000_3   550.27   2018-08-22     1000      8\n",
       "4  1000_4   302.56   2018-09-24     1000      9"
      ]
     },
     "execution_count": 29,
     "metadata": {},
     "output_type": "execute_result"
    }
   ],
   "source": [
    "data_internet.info() #смотрим сводку основной информации\n",
    "data_internet.head() #смотрим как отображаются данные"
   ]
  },
  {
   "cell_type": "markdown",
   "metadata": {},
   "source": [
    "Новый столбец успешно добавлен в таблицу."
   ]
  },
  {
   "cell_type": "markdown",
   "metadata": {},
   "source": [
    "Теперь можем посчитать для каждого пользователя количество использованных мегабайт по месяцам за счет группировки данных."
   ]
  },
  {
   "cell_type": "code",
   "execution_count": 30,
   "metadata": {},
   "outputs": [
    {
     "data": {
      "text/html": [
       "<div>\n",
       "<style scoped>\n",
       "    .dataframe tbody tr th:only-of-type {\n",
       "        vertical-align: middle;\n",
       "    }\n",
       "\n",
       "    .dataframe tbody tr th {\n",
       "        vertical-align: top;\n",
       "    }\n",
       "\n",
       "    .dataframe thead th {\n",
       "        text-align: right;\n",
       "    }\n",
       "</style>\n",
       "<table border=\"1\" class=\"dataframe\">\n",
       "  <thead>\n",
       "    <tr style=\"text-align: right;\">\n",
       "      <th></th>\n",
       "      <th></th>\n",
       "      <th>mb_used</th>\n",
       "    </tr>\n",
       "    <tr>\n",
       "      <th>user_id</th>\n",
       "      <th>month</th>\n",
       "      <th></th>\n",
       "    </tr>\n",
       "  </thead>\n",
       "  <tbody>\n",
       "    <tr>\n",
       "      <th rowspan=\"5\" valign=\"top\">1000</th>\n",
       "      <th>5</th>\n",
       "      <td>2253.49</td>\n",
       "    </tr>\n",
       "    <tr>\n",
       "      <th>6</th>\n",
       "      <td>23233.77</td>\n",
       "    </tr>\n",
       "    <tr>\n",
       "      <th>7</th>\n",
       "      <td>14003.64</td>\n",
       "    </tr>\n",
       "    <tr>\n",
       "      <th>8</th>\n",
       "      <td>14055.93</td>\n",
       "    </tr>\n",
       "    <tr>\n",
       "      <th>9</th>\n",
       "      <td>14568.91</td>\n",
       "    </tr>\n",
       "    <tr>\n",
       "      <th>...</th>\n",
       "      <th>...</th>\n",
       "      <td>...</td>\n",
       "    </tr>\n",
       "    <tr>\n",
       "      <th>1498</th>\n",
       "      <th>10</th>\n",
       "      <td>20579.36</td>\n",
       "    </tr>\n",
       "    <tr>\n",
       "      <th rowspan=\"4\" valign=\"top\">1499</th>\n",
       "      <th>9</th>\n",
       "      <td>1845.75</td>\n",
       "    </tr>\n",
       "    <tr>\n",
       "      <th>10</th>\n",
       "      <td>17788.51</td>\n",
       "    </tr>\n",
       "    <tr>\n",
       "      <th>11</th>\n",
       "      <td>17963.31</td>\n",
       "    </tr>\n",
       "    <tr>\n",
       "      <th>12</th>\n",
       "      <td>13055.58</td>\n",
       "    </tr>\n",
       "  </tbody>\n",
       "</table>\n",
       "<p>3201 rows × 1 columns</p>\n",
       "</div>"
      ],
      "text/plain": [
       "                mb_used\n",
       "user_id month          \n",
       "1000    5       2253.49\n",
       "        6      23233.77\n",
       "        7      14003.64\n",
       "        8      14055.93\n",
       "        9      14568.91\n",
       "...                 ...\n",
       "1498    10     20579.36\n",
       "1499    9       1845.75\n",
       "        10     17788.51\n",
       "        11     17963.31\n",
       "        12     13055.58\n",
       "\n",
       "[3201 rows x 1 columns]"
      ]
     },
     "execution_count": 30,
     "metadata": {},
     "output_type": "execute_result"
    }
   ],
   "source": [
    "data_internet_grouped = data_internet.pivot_table(index=['user_id', 'month'], values='mb_used', aggfunc='sum') #строим сводную таблицу с группировкой объема трафика по идентификатору пользователя и месяцу\n",
    "\n",
    "data_internet_grouped #посмотрим на результат"
   ]
  },
  {
   "cell_type": "markdown",
   "metadata": {},
   "source": [
    "Также добавим столбец с округленным вверх месячным трафиком, пересчитанным в гигабайты (так как даже если абонент использует 1025 мегабайт в этом месяце, то это будет считаться за 2 гигабайта) с присвоением ему целочисленного типа."
   ]
  },
  {
   "cell_type": "code",
   "execution_count": 31,
   "metadata": {},
   "outputs": [
    {
     "data": {
      "text/html": [
       "<div>\n",
       "<style scoped>\n",
       "    .dataframe tbody tr th:only-of-type {\n",
       "        vertical-align: middle;\n",
       "    }\n",
       "\n",
       "    .dataframe tbody tr th {\n",
       "        vertical-align: top;\n",
       "    }\n",
       "\n",
       "    .dataframe thead th {\n",
       "        text-align: right;\n",
       "    }\n",
       "</style>\n",
       "<table border=\"1\" class=\"dataframe\">\n",
       "  <thead>\n",
       "    <tr style=\"text-align: right;\">\n",
       "      <th></th>\n",
       "      <th></th>\n",
       "      <th>mb_used</th>\n",
       "      <th>gb_used</th>\n",
       "    </tr>\n",
       "    <tr>\n",
       "      <th>user_id</th>\n",
       "      <th>month</th>\n",
       "      <th></th>\n",
       "      <th></th>\n",
       "    </tr>\n",
       "  </thead>\n",
       "  <tbody>\n",
       "    <tr>\n",
       "      <th rowspan=\"5\" valign=\"top\">1000</th>\n",
       "      <th>5</th>\n",
       "      <td>2253.49</td>\n",
       "      <td>3</td>\n",
       "    </tr>\n",
       "    <tr>\n",
       "      <th>6</th>\n",
       "      <td>23233.77</td>\n",
       "      <td>23</td>\n",
       "    </tr>\n",
       "    <tr>\n",
       "      <th>7</th>\n",
       "      <td>14003.64</td>\n",
       "      <td>14</td>\n",
       "    </tr>\n",
       "    <tr>\n",
       "      <th>8</th>\n",
       "      <td>14055.93</td>\n",
       "      <td>14</td>\n",
       "    </tr>\n",
       "    <tr>\n",
       "      <th>9</th>\n",
       "      <td>14568.91</td>\n",
       "      <td>15</td>\n",
       "    </tr>\n",
       "    <tr>\n",
       "      <th>...</th>\n",
       "      <th>...</th>\n",
       "      <td>...</td>\n",
       "      <td>...</td>\n",
       "    </tr>\n",
       "    <tr>\n",
       "      <th>1498</th>\n",
       "      <th>10</th>\n",
       "      <td>20579.36</td>\n",
       "      <td>21</td>\n",
       "    </tr>\n",
       "    <tr>\n",
       "      <th rowspan=\"4\" valign=\"top\">1499</th>\n",
       "      <th>9</th>\n",
       "      <td>1845.75</td>\n",
       "      <td>2</td>\n",
       "    </tr>\n",
       "    <tr>\n",
       "      <th>10</th>\n",
       "      <td>17788.51</td>\n",
       "      <td>18</td>\n",
       "    </tr>\n",
       "    <tr>\n",
       "      <th>11</th>\n",
       "      <td>17963.31</td>\n",
       "      <td>18</td>\n",
       "    </tr>\n",
       "    <tr>\n",
       "      <th>12</th>\n",
       "      <td>13055.58</td>\n",
       "      <td>13</td>\n",
       "    </tr>\n",
       "  </tbody>\n",
       "</table>\n",
       "<p>3201 rows × 2 columns</p>\n",
       "</div>"
      ],
      "text/plain": [
       "                mb_used  gb_used\n",
       "user_id month                   \n",
       "1000    5       2253.49        3\n",
       "        6      23233.77       23\n",
       "        7      14003.64       14\n",
       "        8      14055.93       14\n",
       "        9      14568.91       15\n",
       "...                 ...      ...\n",
       "1498    10     20579.36       21\n",
       "1499    9       1845.75        2\n",
       "        10     17788.51       18\n",
       "        11     17963.31       18\n",
       "        12     13055.58       13\n",
       "\n",
       "[3201 rows x 2 columns]"
      ]
     },
     "execution_count": 31,
     "metadata": {},
     "output_type": "execute_result"
    }
   ],
   "source": [
    "data_internet_grouped['gb_used'] = np.ceil(data_internet_grouped['mb_used']/1024).astype('int') #добавляем столбец с округленным вверх трафиком в гигабайтах\n",
    "\n",
    "data_internet_grouped #посмотрим на результат"
   ]
  },
  {
   "cell_type": "markdown",
   "metadata": {},
   "source": [
    "Новый столбец успешно добавлен в таблицу, расчеты произведены корректно."
   ]
  },
  {
   "cell_type": "markdown",
   "metadata": {},
   "source": [
    "### Помесячная выручка с каждого пользователя "
   ]
  },
  {
   "cell_type": "markdown",
   "metadata": {},
   "source": [
    "Для реализации расчета выручки необходимо собрать предыдущие помесячные данные в единую таблицу."
   ]
  },
  {
   "cell_type": "code",
   "execution_count": 32,
   "metadata": {},
   "outputs": [
    {
     "name": "stdout",
     "output_type": "stream",
     "text": [
      "<class 'pandas.core.frame.DataFrame'>\n",
      "MultiIndex: 3214 entries, (1000, 5) to (1499, 12)\n",
      "Data columns (total 4 columns):\n",
      " #   Column          Non-Null Count  Dtype  \n",
      "---  ------          --------------  -----  \n",
      " 0   gb_used         3201 non-null   float64\n",
      " 1   calls_count     3168 non-null   float64\n",
      " 2   calls_duration  3168 non-null   float64\n",
      " 3   messages_count  2717 non-null   float64\n",
      "dtypes: float64(4)\n",
      "memory usage: 130.4 KB\n"
     ]
    },
    {
     "data": {
      "text/html": [
       "<div>\n",
       "<style scoped>\n",
       "    .dataframe tbody tr th:only-of-type {\n",
       "        vertical-align: middle;\n",
       "    }\n",
       "\n",
       "    .dataframe tbody tr th {\n",
       "        vertical-align: top;\n",
       "    }\n",
       "\n",
       "    .dataframe thead th {\n",
       "        text-align: right;\n",
       "    }\n",
       "</style>\n",
       "<table border=\"1\" class=\"dataframe\">\n",
       "  <thead>\n",
       "    <tr style=\"text-align: right;\">\n",
       "      <th></th>\n",
       "      <th></th>\n",
       "      <th>gb_used</th>\n",
       "      <th>calls_count</th>\n",
       "      <th>calls_duration</th>\n",
       "      <th>messages_count</th>\n",
       "    </tr>\n",
       "    <tr>\n",
       "      <th>user_id</th>\n",
       "      <th>month</th>\n",
       "      <th></th>\n",
       "      <th></th>\n",
       "      <th></th>\n",
       "      <th></th>\n",
       "    </tr>\n",
       "  </thead>\n",
       "  <tbody>\n",
       "    <tr>\n",
       "      <th rowspan=\"5\" valign=\"top\">1000</th>\n",
       "      <th>5</th>\n",
       "      <td>3.0</td>\n",
       "      <td>17.0</td>\n",
       "      <td>159.0</td>\n",
       "      <td>22.0</td>\n",
       "    </tr>\n",
       "    <tr>\n",
       "      <th>6</th>\n",
       "      <td>23.0</td>\n",
       "      <td>28.0</td>\n",
       "      <td>172.0</td>\n",
       "      <td>60.0</td>\n",
       "    </tr>\n",
       "    <tr>\n",
       "      <th>7</th>\n",
       "      <td>14.0</td>\n",
       "      <td>41.0</td>\n",
       "      <td>340.0</td>\n",
       "      <td>75.0</td>\n",
       "    </tr>\n",
       "    <tr>\n",
       "      <th>8</th>\n",
       "      <td>14.0</td>\n",
       "      <td>42.0</td>\n",
       "      <td>408.0</td>\n",
       "      <td>81.0</td>\n",
       "    </tr>\n",
       "    <tr>\n",
       "      <th>9</th>\n",
       "      <td>15.0</td>\n",
       "      <td>46.0</td>\n",
       "      <td>466.0</td>\n",
       "      <td>57.0</td>\n",
       "    </tr>\n",
       "    <tr>\n",
       "      <th>...</th>\n",
       "      <th>...</th>\n",
       "      <td>...</td>\n",
       "      <td>...</td>\n",
       "      <td>...</td>\n",
       "      <td>...</td>\n",
       "    </tr>\n",
       "    <tr>\n",
       "      <th>1498</th>\n",
       "      <th>10</th>\n",
       "      <td>21.0</td>\n",
       "      <td>30.0</td>\n",
       "      <td>247.0</td>\n",
       "      <td>42.0</td>\n",
       "    </tr>\n",
       "    <tr>\n",
       "      <th rowspan=\"4\" valign=\"top\">1499</th>\n",
       "      <th>9</th>\n",
       "      <td>2.0</td>\n",
       "      <td>8.0</td>\n",
       "      <td>70.0</td>\n",
       "      <td>11.0</td>\n",
       "    </tr>\n",
       "    <tr>\n",
       "      <th>10</th>\n",
       "      <td>18.0</td>\n",
       "      <td>44.0</td>\n",
       "      <td>449.0</td>\n",
       "      <td>48.0</td>\n",
       "    </tr>\n",
       "    <tr>\n",
       "      <th>11</th>\n",
       "      <td>18.0</td>\n",
       "      <td>62.0</td>\n",
       "      <td>612.0</td>\n",
       "      <td>59.0</td>\n",
       "    </tr>\n",
       "    <tr>\n",
       "      <th>12</th>\n",
       "      <td>13.0</td>\n",
       "      <td>56.0</td>\n",
       "      <td>492.0</td>\n",
       "      <td>66.0</td>\n",
       "    </tr>\n",
       "  </tbody>\n",
       "</table>\n",
       "<p>3214 rows × 4 columns</p>\n",
       "</div>"
      ],
      "text/plain": [
       "               gb_used  calls_count  calls_duration  messages_count\n",
       "user_id month                                                      \n",
       "1000    5          3.0         17.0           159.0            22.0\n",
       "        6         23.0         28.0           172.0            60.0\n",
       "        7         14.0         41.0           340.0            75.0\n",
       "        8         14.0         42.0           408.0            81.0\n",
       "        9         15.0         46.0           466.0            57.0\n",
       "...                ...          ...             ...             ...\n",
       "1498    10        21.0         30.0           247.0            42.0\n",
       "1499    9          2.0          8.0            70.0            11.0\n",
       "        10        18.0         44.0           449.0            48.0\n",
       "        11        18.0         62.0           612.0            59.0\n",
       "        12        13.0         56.0           492.0            66.0\n",
       "\n",
       "[3214 rows x 4 columns]"
      ]
     },
     "execution_count": 32,
     "metadata": {},
     "output_type": "execute_result"
    }
   ],
   "source": [
    "data_grouped_all = data_internet_grouped.join([data_calls_grouped, data_messages_grouped], how='outer').drop('mb_used', axis=1) #объединяем три таблицы, убирая для удобства столбец mb_used\n",
    "\n",
    "data_grouped_all.info() #смотрим сводку основной информации\n",
    "\n",
    "data_grouped_all #посмотрим на результат"
   ]
  },
  {
   "cell_type": "markdown",
   "metadata": {},
   "source": [
    "В собранной таблице есть пропуски, так как в предыдущих таблицах было разное число записей, это говорит о том, что в какие-то месяцы люди, например, могли общаться только через интернет, без звонков и сообщений. Заменим такие пропуски на нули для корректного учета в дальнейшем анализе."
   ]
  },
  {
   "cell_type": "code",
   "execution_count": 33,
   "metadata": {},
   "outputs": [],
   "source": [
    "data_grouped_all = data_grouped_all.fillna(0) #заменим пропуски в таблице на нули"
   ]
  },
  {
   "cell_type": "markdown",
   "metadata": {},
   "source": [
    "При этом следует отметить один важный момент. Поскольку единицей дальнейшего анализа станет месяц пользования услугами мобильного оператора, то нет ничего страшного в том, что в базе присутствуют пользователи, которые применяли тот или иной тариф не в течение всего года (наоборот, хуже было бы целиком исключить их из выборки, тем самым уменьшив её). Однако первый и/или последний месяц использования тарифа может быть непоказательным, так как, во-первых, месяц будет неполным, а во-вторых, возможно, окажется нетипичным с точки зрения поведения пользователя (пользователь почему-то же решил сменить тариф). Поэтому такие месяца лучше исключить из анализа.  "
   ]
  },
  {
   "cell_type": "markdown",
   "metadata": {},
   "source": [
    "Для начала добавим в единую таблицу недостающие данные."
   ]
  },
  {
   "cell_type": "code",
   "execution_count": 34,
   "metadata": {},
   "outputs": [
    {
     "data": {
      "text/html": [
       "<div>\n",
       "<style scoped>\n",
       "    .dataframe tbody tr th:only-of-type {\n",
       "        vertical-align: middle;\n",
       "    }\n",
       "\n",
       "    .dataframe tbody tr th {\n",
       "        vertical-align: top;\n",
       "    }\n",
       "\n",
       "    .dataframe thead th {\n",
       "        text-align: right;\n",
       "    }\n",
       "</style>\n",
       "<table border=\"1\" class=\"dataframe\">\n",
       "  <thead>\n",
       "    <tr style=\"text-align: right;\">\n",
       "      <th></th>\n",
       "      <th>user_id</th>\n",
       "      <th>month</th>\n",
       "      <th>gb_used</th>\n",
       "      <th>calls_count</th>\n",
       "      <th>calls_duration</th>\n",
       "      <th>messages_count</th>\n",
       "      <th>age</th>\n",
       "      <th>churn_date</th>\n",
       "      <th>city</th>\n",
       "      <th>first_name</th>\n",
       "      <th>last_name</th>\n",
       "      <th>reg_date</th>\n",
       "      <th>tariff</th>\n",
       "      <th>capital</th>\n",
       "    </tr>\n",
       "  </thead>\n",
       "  <tbody>\n",
       "    <tr>\n",
       "      <th>0</th>\n",
       "      <td>1000</td>\n",
       "      <td>5</td>\n",
       "      <td>3.0</td>\n",
       "      <td>17.0</td>\n",
       "      <td>159.0</td>\n",
       "      <td>22.0</td>\n",
       "      <td>52</td>\n",
       "      <td>NaT</td>\n",
       "      <td>Краснодар</td>\n",
       "      <td>Рафаил</td>\n",
       "      <td>Верещагин</td>\n",
       "      <td>2018-05-25</td>\n",
       "      <td>ultra</td>\n",
       "      <td>False</td>\n",
       "    </tr>\n",
       "    <tr>\n",
       "      <th>1</th>\n",
       "      <td>1000</td>\n",
       "      <td>6</td>\n",
       "      <td>23.0</td>\n",
       "      <td>28.0</td>\n",
       "      <td>172.0</td>\n",
       "      <td>60.0</td>\n",
       "      <td>52</td>\n",
       "      <td>NaT</td>\n",
       "      <td>Краснодар</td>\n",
       "      <td>Рафаил</td>\n",
       "      <td>Верещагин</td>\n",
       "      <td>2018-05-25</td>\n",
       "      <td>ultra</td>\n",
       "      <td>False</td>\n",
       "    </tr>\n",
       "    <tr>\n",
       "      <th>2</th>\n",
       "      <td>1000</td>\n",
       "      <td>7</td>\n",
       "      <td>14.0</td>\n",
       "      <td>41.0</td>\n",
       "      <td>340.0</td>\n",
       "      <td>75.0</td>\n",
       "      <td>52</td>\n",
       "      <td>NaT</td>\n",
       "      <td>Краснодар</td>\n",
       "      <td>Рафаил</td>\n",
       "      <td>Верещагин</td>\n",
       "      <td>2018-05-25</td>\n",
       "      <td>ultra</td>\n",
       "      <td>False</td>\n",
       "    </tr>\n",
       "    <tr>\n",
       "      <th>3</th>\n",
       "      <td>1000</td>\n",
       "      <td>8</td>\n",
       "      <td>14.0</td>\n",
       "      <td>42.0</td>\n",
       "      <td>408.0</td>\n",
       "      <td>81.0</td>\n",
       "      <td>52</td>\n",
       "      <td>NaT</td>\n",
       "      <td>Краснодар</td>\n",
       "      <td>Рафаил</td>\n",
       "      <td>Верещагин</td>\n",
       "      <td>2018-05-25</td>\n",
       "      <td>ultra</td>\n",
       "      <td>False</td>\n",
       "    </tr>\n",
       "    <tr>\n",
       "      <th>4</th>\n",
       "      <td>1000</td>\n",
       "      <td>9</td>\n",
       "      <td>15.0</td>\n",
       "      <td>46.0</td>\n",
       "      <td>466.0</td>\n",
       "      <td>57.0</td>\n",
       "      <td>52</td>\n",
       "      <td>NaT</td>\n",
       "      <td>Краснодар</td>\n",
       "      <td>Рафаил</td>\n",
       "      <td>Верещагин</td>\n",
       "      <td>2018-05-25</td>\n",
       "      <td>ultra</td>\n",
       "      <td>False</td>\n",
       "    </tr>\n",
       "    <tr>\n",
       "      <th>...</th>\n",
       "      <td>...</td>\n",
       "      <td>...</td>\n",
       "      <td>...</td>\n",
       "      <td>...</td>\n",
       "      <td>...</td>\n",
       "      <td>...</td>\n",
       "      <td>...</td>\n",
       "      <td>...</td>\n",
       "      <td>...</td>\n",
       "      <td>...</td>\n",
       "      <td>...</td>\n",
       "      <td>...</td>\n",
       "      <td>...</td>\n",
       "      <td>...</td>\n",
       "    </tr>\n",
       "    <tr>\n",
       "      <th>3209</th>\n",
       "      <td>1498</td>\n",
       "      <td>10</td>\n",
       "      <td>21.0</td>\n",
       "      <td>30.0</td>\n",
       "      <td>247.0</td>\n",
       "      <td>42.0</td>\n",
       "      <td>68</td>\n",
       "      <td>2018-10-25</td>\n",
       "      <td>Владикавказ</td>\n",
       "      <td>Всеволод</td>\n",
       "      <td>Акимчин</td>\n",
       "      <td>2018-07-19</td>\n",
       "      <td>smart</td>\n",
       "      <td>False</td>\n",
       "    </tr>\n",
       "    <tr>\n",
       "      <th>3210</th>\n",
       "      <td>1499</td>\n",
       "      <td>9</td>\n",
       "      <td>2.0</td>\n",
       "      <td>8.0</td>\n",
       "      <td>70.0</td>\n",
       "      <td>11.0</td>\n",
       "      <td>35</td>\n",
       "      <td>NaT</td>\n",
       "      <td>Пермь</td>\n",
       "      <td>Гектор</td>\n",
       "      <td>Корнилов</td>\n",
       "      <td>2018-09-27</td>\n",
       "      <td>smart</td>\n",
       "      <td>False</td>\n",
       "    </tr>\n",
       "    <tr>\n",
       "      <th>3211</th>\n",
       "      <td>1499</td>\n",
       "      <td>10</td>\n",
       "      <td>18.0</td>\n",
       "      <td>44.0</td>\n",
       "      <td>449.0</td>\n",
       "      <td>48.0</td>\n",
       "      <td>35</td>\n",
       "      <td>NaT</td>\n",
       "      <td>Пермь</td>\n",
       "      <td>Гектор</td>\n",
       "      <td>Корнилов</td>\n",
       "      <td>2018-09-27</td>\n",
       "      <td>smart</td>\n",
       "      <td>False</td>\n",
       "    </tr>\n",
       "    <tr>\n",
       "      <th>3212</th>\n",
       "      <td>1499</td>\n",
       "      <td>11</td>\n",
       "      <td>18.0</td>\n",
       "      <td>62.0</td>\n",
       "      <td>612.0</td>\n",
       "      <td>59.0</td>\n",
       "      <td>35</td>\n",
       "      <td>NaT</td>\n",
       "      <td>Пермь</td>\n",
       "      <td>Гектор</td>\n",
       "      <td>Корнилов</td>\n",
       "      <td>2018-09-27</td>\n",
       "      <td>smart</td>\n",
       "      <td>False</td>\n",
       "    </tr>\n",
       "    <tr>\n",
       "      <th>3213</th>\n",
       "      <td>1499</td>\n",
       "      <td>12</td>\n",
       "      <td>13.0</td>\n",
       "      <td>56.0</td>\n",
       "      <td>492.0</td>\n",
       "      <td>66.0</td>\n",
       "      <td>35</td>\n",
       "      <td>NaT</td>\n",
       "      <td>Пермь</td>\n",
       "      <td>Гектор</td>\n",
       "      <td>Корнилов</td>\n",
       "      <td>2018-09-27</td>\n",
       "      <td>smart</td>\n",
       "      <td>False</td>\n",
       "    </tr>\n",
       "  </tbody>\n",
       "</table>\n",
       "<p>3214 rows × 14 columns</p>\n",
       "</div>"
      ],
      "text/plain": [
       "      user_id  month  gb_used  calls_count  calls_duration  messages_count  \\\n",
       "0        1000      5      3.0         17.0           159.0            22.0   \n",
       "1        1000      6     23.0         28.0           172.0            60.0   \n",
       "2        1000      7     14.0         41.0           340.0            75.0   \n",
       "3        1000      8     14.0         42.0           408.0            81.0   \n",
       "4        1000      9     15.0         46.0           466.0            57.0   \n",
       "...       ...    ...      ...          ...             ...             ...   \n",
       "3209     1498     10     21.0         30.0           247.0            42.0   \n",
       "3210     1499      9      2.0          8.0            70.0            11.0   \n",
       "3211     1499     10     18.0         44.0           449.0            48.0   \n",
       "3212     1499     11     18.0         62.0           612.0            59.0   \n",
       "3213     1499     12     13.0         56.0           492.0            66.0   \n",
       "\n",
       "      age churn_date         city first_name  last_name   reg_date tariff  \\\n",
       "0      52        NaT    Краснодар     Рафаил  Верещагин 2018-05-25  ultra   \n",
       "1      52        NaT    Краснодар     Рафаил  Верещагин 2018-05-25  ultra   \n",
       "2      52        NaT    Краснодар     Рафаил  Верещагин 2018-05-25  ultra   \n",
       "3      52        NaT    Краснодар     Рафаил  Верещагин 2018-05-25  ultra   \n",
       "4      52        NaT    Краснодар     Рафаил  Верещагин 2018-05-25  ultra   \n",
       "...   ...        ...          ...        ...        ...        ...    ...   \n",
       "3209   68 2018-10-25  Владикавказ   Всеволод    Акимчин 2018-07-19  smart   \n",
       "3210   35        NaT        Пермь     Гектор   Корнилов 2018-09-27  smart   \n",
       "3211   35        NaT        Пермь     Гектор   Корнилов 2018-09-27  smart   \n",
       "3212   35        NaT        Пермь     Гектор   Корнилов 2018-09-27  smart   \n",
       "3213   35        NaT        Пермь     Гектор   Корнилов 2018-09-27  smart   \n",
       "\n",
       "      capital  \n",
       "0       False  \n",
       "1       False  \n",
       "2       False  \n",
       "3       False  \n",
       "4       False  \n",
       "...       ...  \n",
       "3209    False  \n",
       "3210    False  \n",
       "3211    False  \n",
       "3212    False  \n",
       "3213    False  \n",
       "\n",
       "[3214 rows x 14 columns]"
      ]
     },
     "execution_count": 34,
     "metadata": {},
     "output_type": "execute_result"
    }
   ],
   "source": [
    "data_grouped_all.reset_index(inplace=True) #для удобства переназначим индексы\n",
    "\n",
    "data_grouped_all = data_grouped_all.merge(data_users, on='user_id', how='left') #объединяем две таблицы на основе значений user_id\n",
    "\n",
    "data_grouped_all #посмотрим на результат"
   ]
  },
  {
   "cell_type": "markdown",
   "metadata": {},
   "source": [
    "Для дальнейшего анализа также добавим в единую таблицу столбцы с номерами месяца регистрации/отключения тарифа."
   ]
  },
  {
   "cell_type": "code",
   "execution_count": 35,
   "metadata": {},
   "outputs": [
    {
     "data": {
      "text/html": [
       "<div>\n",
       "<style scoped>\n",
       "    .dataframe tbody tr th:only-of-type {\n",
       "        vertical-align: middle;\n",
       "    }\n",
       "\n",
       "    .dataframe tbody tr th {\n",
       "        vertical-align: top;\n",
       "    }\n",
       "\n",
       "    .dataframe thead th {\n",
       "        text-align: right;\n",
       "    }\n",
       "</style>\n",
       "<table border=\"1\" class=\"dataframe\">\n",
       "  <thead>\n",
       "    <tr style=\"text-align: right;\">\n",
       "      <th></th>\n",
       "      <th>user_id</th>\n",
       "      <th>month</th>\n",
       "      <th>gb_used</th>\n",
       "      <th>calls_count</th>\n",
       "      <th>calls_duration</th>\n",
       "      <th>messages_count</th>\n",
       "      <th>age</th>\n",
       "      <th>churn_date</th>\n",
       "      <th>city</th>\n",
       "      <th>first_name</th>\n",
       "      <th>last_name</th>\n",
       "      <th>reg_date</th>\n",
       "      <th>tariff</th>\n",
       "      <th>capital</th>\n",
       "      <th>reg_month</th>\n",
       "      <th>churn_month</th>\n",
       "    </tr>\n",
       "  </thead>\n",
       "  <tbody>\n",
       "    <tr>\n",
       "      <th>0</th>\n",
       "      <td>1000</td>\n",
       "      <td>5</td>\n",
       "      <td>3.0</td>\n",
       "      <td>17.0</td>\n",
       "      <td>159.0</td>\n",
       "      <td>22.0</td>\n",
       "      <td>52</td>\n",
       "      <td>NaT</td>\n",
       "      <td>Краснодар</td>\n",
       "      <td>Рафаил</td>\n",
       "      <td>Верещагин</td>\n",
       "      <td>2018-05-25</td>\n",
       "      <td>ultra</td>\n",
       "      <td>False</td>\n",
       "      <td>5</td>\n",
       "      <td>NaN</td>\n",
       "    </tr>\n",
       "    <tr>\n",
       "      <th>1</th>\n",
       "      <td>1000</td>\n",
       "      <td>6</td>\n",
       "      <td>23.0</td>\n",
       "      <td>28.0</td>\n",
       "      <td>172.0</td>\n",
       "      <td>60.0</td>\n",
       "      <td>52</td>\n",
       "      <td>NaT</td>\n",
       "      <td>Краснодар</td>\n",
       "      <td>Рафаил</td>\n",
       "      <td>Верещагин</td>\n",
       "      <td>2018-05-25</td>\n",
       "      <td>ultra</td>\n",
       "      <td>False</td>\n",
       "      <td>5</td>\n",
       "      <td>NaN</td>\n",
       "    </tr>\n",
       "    <tr>\n",
       "      <th>2</th>\n",
       "      <td>1000</td>\n",
       "      <td>7</td>\n",
       "      <td>14.0</td>\n",
       "      <td>41.0</td>\n",
       "      <td>340.0</td>\n",
       "      <td>75.0</td>\n",
       "      <td>52</td>\n",
       "      <td>NaT</td>\n",
       "      <td>Краснодар</td>\n",
       "      <td>Рафаил</td>\n",
       "      <td>Верещагин</td>\n",
       "      <td>2018-05-25</td>\n",
       "      <td>ultra</td>\n",
       "      <td>False</td>\n",
       "      <td>5</td>\n",
       "      <td>NaN</td>\n",
       "    </tr>\n",
       "    <tr>\n",
       "      <th>3</th>\n",
       "      <td>1000</td>\n",
       "      <td>8</td>\n",
       "      <td>14.0</td>\n",
       "      <td>42.0</td>\n",
       "      <td>408.0</td>\n",
       "      <td>81.0</td>\n",
       "      <td>52</td>\n",
       "      <td>NaT</td>\n",
       "      <td>Краснодар</td>\n",
       "      <td>Рафаил</td>\n",
       "      <td>Верещагин</td>\n",
       "      <td>2018-05-25</td>\n",
       "      <td>ultra</td>\n",
       "      <td>False</td>\n",
       "      <td>5</td>\n",
       "      <td>NaN</td>\n",
       "    </tr>\n",
       "    <tr>\n",
       "      <th>4</th>\n",
       "      <td>1000</td>\n",
       "      <td>9</td>\n",
       "      <td>15.0</td>\n",
       "      <td>46.0</td>\n",
       "      <td>466.0</td>\n",
       "      <td>57.0</td>\n",
       "      <td>52</td>\n",
       "      <td>NaT</td>\n",
       "      <td>Краснодар</td>\n",
       "      <td>Рафаил</td>\n",
       "      <td>Верещагин</td>\n",
       "      <td>2018-05-25</td>\n",
       "      <td>ultra</td>\n",
       "      <td>False</td>\n",
       "      <td>5</td>\n",
       "      <td>NaN</td>\n",
       "    </tr>\n",
       "    <tr>\n",
       "      <th>...</th>\n",
       "      <td>...</td>\n",
       "      <td>...</td>\n",
       "      <td>...</td>\n",
       "      <td>...</td>\n",
       "      <td>...</td>\n",
       "      <td>...</td>\n",
       "      <td>...</td>\n",
       "      <td>...</td>\n",
       "      <td>...</td>\n",
       "      <td>...</td>\n",
       "      <td>...</td>\n",
       "      <td>...</td>\n",
       "      <td>...</td>\n",
       "      <td>...</td>\n",
       "      <td>...</td>\n",
       "      <td>...</td>\n",
       "    </tr>\n",
       "    <tr>\n",
       "      <th>3209</th>\n",
       "      <td>1498</td>\n",
       "      <td>10</td>\n",
       "      <td>21.0</td>\n",
       "      <td>30.0</td>\n",
       "      <td>247.0</td>\n",
       "      <td>42.0</td>\n",
       "      <td>68</td>\n",
       "      <td>2018-10-25</td>\n",
       "      <td>Владикавказ</td>\n",
       "      <td>Всеволод</td>\n",
       "      <td>Акимчин</td>\n",
       "      <td>2018-07-19</td>\n",
       "      <td>smart</td>\n",
       "      <td>False</td>\n",
       "      <td>7</td>\n",
       "      <td>10.0</td>\n",
       "    </tr>\n",
       "    <tr>\n",
       "      <th>3210</th>\n",
       "      <td>1499</td>\n",
       "      <td>9</td>\n",
       "      <td>2.0</td>\n",
       "      <td>8.0</td>\n",
       "      <td>70.0</td>\n",
       "      <td>11.0</td>\n",
       "      <td>35</td>\n",
       "      <td>NaT</td>\n",
       "      <td>Пермь</td>\n",
       "      <td>Гектор</td>\n",
       "      <td>Корнилов</td>\n",
       "      <td>2018-09-27</td>\n",
       "      <td>smart</td>\n",
       "      <td>False</td>\n",
       "      <td>9</td>\n",
       "      <td>NaN</td>\n",
       "    </tr>\n",
       "    <tr>\n",
       "      <th>3211</th>\n",
       "      <td>1499</td>\n",
       "      <td>10</td>\n",
       "      <td>18.0</td>\n",
       "      <td>44.0</td>\n",
       "      <td>449.0</td>\n",
       "      <td>48.0</td>\n",
       "      <td>35</td>\n",
       "      <td>NaT</td>\n",
       "      <td>Пермь</td>\n",
       "      <td>Гектор</td>\n",
       "      <td>Корнилов</td>\n",
       "      <td>2018-09-27</td>\n",
       "      <td>smart</td>\n",
       "      <td>False</td>\n",
       "      <td>9</td>\n",
       "      <td>NaN</td>\n",
       "    </tr>\n",
       "    <tr>\n",
       "      <th>3212</th>\n",
       "      <td>1499</td>\n",
       "      <td>11</td>\n",
       "      <td>18.0</td>\n",
       "      <td>62.0</td>\n",
       "      <td>612.0</td>\n",
       "      <td>59.0</td>\n",
       "      <td>35</td>\n",
       "      <td>NaT</td>\n",
       "      <td>Пермь</td>\n",
       "      <td>Гектор</td>\n",
       "      <td>Корнилов</td>\n",
       "      <td>2018-09-27</td>\n",
       "      <td>smart</td>\n",
       "      <td>False</td>\n",
       "      <td>9</td>\n",
       "      <td>NaN</td>\n",
       "    </tr>\n",
       "    <tr>\n",
       "      <th>3213</th>\n",
       "      <td>1499</td>\n",
       "      <td>12</td>\n",
       "      <td>13.0</td>\n",
       "      <td>56.0</td>\n",
       "      <td>492.0</td>\n",
       "      <td>66.0</td>\n",
       "      <td>35</td>\n",
       "      <td>NaT</td>\n",
       "      <td>Пермь</td>\n",
       "      <td>Гектор</td>\n",
       "      <td>Корнилов</td>\n",
       "      <td>2018-09-27</td>\n",
       "      <td>smart</td>\n",
       "      <td>False</td>\n",
       "      <td>9</td>\n",
       "      <td>NaN</td>\n",
       "    </tr>\n",
       "  </tbody>\n",
       "</table>\n",
       "<p>3214 rows × 16 columns</p>\n",
       "</div>"
      ],
      "text/plain": [
       "      user_id  month  gb_used  calls_count  calls_duration  messages_count  \\\n",
       "0        1000      5      3.0         17.0           159.0            22.0   \n",
       "1        1000      6     23.0         28.0           172.0            60.0   \n",
       "2        1000      7     14.0         41.0           340.0            75.0   \n",
       "3        1000      8     14.0         42.0           408.0            81.0   \n",
       "4        1000      9     15.0         46.0           466.0            57.0   \n",
       "...       ...    ...      ...          ...             ...             ...   \n",
       "3209     1498     10     21.0         30.0           247.0            42.0   \n",
       "3210     1499      9      2.0          8.0            70.0            11.0   \n",
       "3211     1499     10     18.0         44.0           449.0            48.0   \n",
       "3212     1499     11     18.0         62.0           612.0            59.0   \n",
       "3213     1499     12     13.0         56.0           492.0            66.0   \n",
       "\n",
       "      age churn_date         city first_name  last_name   reg_date tariff  \\\n",
       "0      52        NaT    Краснодар     Рафаил  Верещагин 2018-05-25  ultra   \n",
       "1      52        NaT    Краснодар     Рафаил  Верещагин 2018-05-25  ultra   \n",
       "2      52        NaT    Краснодар     Рафаил  Верещагин 2018-05-25  ultra   \n",
       "3      52        NaT    Краснодар     Рафаил  Верещагин 2018-05-25  ultra   \n",
       "4      52        NaT    Краснодар     Рафаил  Верещагин 2018-05-25  ultra   \n",
       "...   ...        ...          ...        ...        ...        ...    ...   \n",
       "3209   68 2018-10-25  Владикавказ   Всеволод    Акимчин 2018-07-19  smart   \n",
       "3210   35        NaT        Пермь     Гектор   Корнилов 2018-09-27  smart   \n",
       "3211   35        NaT        Пермь     Гектор   Корнилов 2018-09-27  smart   \n",
       "3212   35        NaT        Пермь     Гектор   Корнилов 2018-09-27  smart   \n",
       "3213   35        NaT        Пермь     Гектор   Корнилов 2018-09-27  smart   \n",
       "\n",
       "      capital  reg_month  churn_month  \n",
       "0       False          5          NaN  \n",
       "1       False          5          NaN  \n",
       "2       False          5          NaN  \n",
       "3       False          5          NaN  \n",
       "4       False          5          NaN  \n",
       "...       ...        ...          ...  \n",
       "3209    False          7         10.0  \n",
       "3210    False          9          NaN  \n",
       "3211    False          9          NaN  \n",
       "3212    False          9          NaN  \n",
       "3213    False          9          NaN  \n",
       "\n",
       "[3214 rows x 16 columns]"
      ]
     },
     "execution_count": 35,
     "metadata": {},
     "output_type": "execute_result"
    }
   ],
   "source": [
    "data_grouped_all['reg_month'] = data_grouped_all['reg_date'].dt.month #добавляем столбец с месяцем регистрации тарифа\n",
    "data_grouped_all['churn_month'] = data_grouped_all['churn_date'].dt.month #добавляем столбец с месяцем отключения тарифа\n",
    "\n",
    "data_grouped_all #посмотрим на результат"
   ]
  },
  {
   "cell_type": "markdown",
   "metadata": {},
   "source": [
    "Оставим в таблице только те записи, где рассматриваемый месяц не совпадает с месяцем регистрации/отключения тарифа для каждого пользователя."
   ]
  },
  {
   "cell_type": "code",
   "execution_count": 36,
   "metadata": {},
   "outputs": [
    {
     "data": {
      "text/html": [
       "<div>\n",
       "<style scoped>\n",
       "    .dataframe tbody tr th:only-of-type {\n",
       "        vertical-align: middle;\n",
       "    }\n",
       "\n",
       "    .dataframe tbody tr th {\n",
       "        vertical-align: top;\n",
       "    }\n",
       "\n",
       "    .dataframe thead th {\n",
       "        text-align: right;\n",
       "    }\n",
       "</style>\n",
       "<table border=\"1\" class=\"dataframe\">\n",
       "  <thead>\n",
       "    <tr style=\"text-align: right;\">\n",
       "      <th></th>\n",
       "      <th>user_id</th>\n",
       "      <th>month</th>\n",
       "      <th>gb_used</th>\n",
       "      <th>calls_count</th>\n",
       "      <th>calls_duration</th>\n",
       "      <th>messages_count</th>\n",
       "      <th>age</th>\n",
       "      <th>churn_date</th>\n",
       "      <th>city</th>\n",
       "      <th>first_name</th>\n",
       "      <th>last_name</th>\n",
       "      <th>reg_date</th>\n",
       "      <th>tariff</th>\n",
       "      <th>capital</th>\n",
       "      <th>reg_month</th>\n",
       "      <th>churn_month</th>\n",
       "    </tr>\n",
       "  </thead>\n",
       "  <tbody>\n",
       "    <tr>\n",
       "      <th>1</th>\n",
       "      <td>1000</td>\n",
       "      <td>6</td>\n",
       "      <td>23.0</td>\n",
       "      <td>28.0</td>\n",
       "      <td>172.0</td>\n",
       "      <td>60.0</td>\n",
       "      <td>52</td>\n",
       "      <td>NaT</td>\n",
       "      <td>Краснодар</td>\n",
       "      <td>Рафаил</td>\n",
       "      <td>Верещагин</td>\n",
       "      <td>2018-05-25</td>\n",
       "      <td>ultra</td>\n",
       "      <td>False</td>\n",
       "      <td>5</td>\n",
       "      <td>NaN</td>\n",
       "    </tr>\n",
       "    <tr>\n",
       "      <th>2</th>\n",
       "      <td>1000</td>\n",
       "      <td>7</td>\n",
       "      <td>14.0</td>\n",
       "      <td>41.0</td>\n",
       "      <td>340.0</td>\n",
       "      <td>75.0</td>\n",
       "      <td>52</td>\n",
       "      <td>NaT</td>\n",
       "      <td>Краснодар</td>\n",
       "      <td>Рафаил</td>\n",
       "      <td>Верещагин</td>\n",
       "      <td>2018-05-25</td>\n",
       "      <td>ultra</td>\n",
       "      <td>False</td>\n",
       "      <td>5</td>\n",
       "      <td>NaN</td>\n",
       "    </tr>\n",
       "    <tr>\n",
       "      <th>3</th>\n",
       "      <td>1000</td>\n",
       "      <td>8</td>\n",
       "      <td>14.0</td>\n",
       "      <td>42.0</td>\n",
       "      <td>408.0</td>\n",
       "      <td>81.0</td>\n",
       "      <td>52</td>\n",
       "      <td>NaT</td>\n",
       "      <td>Краснодар</td>\n",
       "      <td>Рафаил</td>\n",
       "      <td>Верещагин</td>\n",
       "      <td>2018-05-25</td>\n",
       "      <td>ultra</td>\n",
       "      <td>False</td>\n",
       "      <td>5</td>\n",
       "      <td>NaN</td>\n",
       "    </tr>\n",
       "    <tr>\n",
       "      <th>4</th>\n",
       "      <td>1000</td>\n",
       "      <td>9</td>\n",
       "      <td>15.0</td>\n",
       "      <td>46.0</td>\n",
       "      <td>466.0</td>\n",
       "      <td>57.0</td>\n",
       "      <td>52</td>\n",
       "      <td>NaT</td>\n",
       "      <td>Краснодар</td>\n",
       "      <td>Рафаил</td>\n",
       "      <td>Верещагин</td>\n",
       "      <td>2018-05-25</td>\n",
       "      <td>ultra</td>\n",
       "      <td>False</td>\n",
       "      <td>5</td>\n",
       "      <td>NaN</td>\n",
       "    </tr>\n",
       "    <tr>\n",
       "      <th>5</th>\n",
       "      <td>1000</td>\n",
       "      <td>10</td>\n",
       "      <td>15.0</td>\n",
       "      <td>44.0</td>\n",
       "      <td>350.0</td>\n",
       "      <td>73.0</td>\n",
       "      <td>52</td>\n",
       "      <td>NaT</td>\n",
       "      <td>Краснодар</td>\n",
       "      <td>Рафаил</td>\n",
       "      <td>Верещагин</td>\n",
       "      <td>2018-05-25</td>\n",
       "      <td>ultra</td>\n",
       "      <td>False</td>\n",
       "      <td>5</td>\n",
       "      <td>NaN</td>\n",
       "    </tr>\n",
       "    <tr>\n",
       "      <th>...</th>\n",
       "      <td>...</td>\n",
       "      <td>...</td>\n",
       "      <td>...</td>\n",
       "      <td>...</td>\n",
       "      <td>...</td>\n",
       "      <td>...</td>\n",
       "      <td>...</td>\n",
       "      <td>...</td>\n",
       "      <td>...</td>\n",
       "      <td>...</td>\n",
       "      <td>...</td>\n",
       "      <td>...</td>\n",
       "      <td>...</td>\n",
       "      <td>...</td>\n",
       "      <td>...</td>\n",
       "      <td>...</td>\n",
       "    </tr>\n",
       "    <tr>\n",
       "      <th>3207</th>\n",
       "      <td>1498</td>\n",
       "      <td>8</td>\n",
       "      <td>24.0</td>\n",
       "      <td>43.0</td>\n",
       "      <td>400.0</td>\n",
       "      <td>62.0</td>\n",
       "      <td>68</td>\n",
       "      <td>2018-10-25</td>\n",
       "      <td>Владикавказ</td>\n",
       "      <td>Всеволод</td>\n",
       "      <td>Акимчин</td>\n",
       "      <td>2018-07-19</td>\n",
       "      <td>smart</td>\n",
       "      <td>False</td>\n",
       "      <td>7</td>\n",
       "      <td>10.0</td>\n",
       "    </tr>\n",
       "    <tr>\n",
       "      <th>3208</th>\n",
       "      <td>1498</td>\n",
       "      <td>9</td>\n",
       "      <td>22.0</td>\n",
       "      <td>53.0</td>\n",
       "      <td>471.0</td>\n",
       "      <td>44.0</td>\n",
       "      <td>68</td>\n",
       "      <td>2018-10-25</td>\n",
       "      <td>Владикавказ</td>\n",
       "      <td>Всеволод</td>\n",
       "      <td>Акимчин</td>\n",
       "      <td>2018-07-19</td>\n",
       "      <td>smart</td>\n",
       "      <td>False</td>\n",
       "      <td>7</td>\n",
       "      <td>10.0</td>\n",
       "    </tr>\n",
       "    <tr>\n",
       "      <th>3211</th>\n",
       "      <td>1499</td>\n",
       "      <td>10</td>\n",
       "      <td>18.0</td>\n",
       "      <td>44.0</td>\n",
       "      <td>449.0</td>\n",
       "      <td>48.0</td>\n",
       "      <td>35</td>\n",
       "      <td>NaT</td>\n",
       "      <td>Пермь</td>\n",
       "      <td>Гектор</td>\n",
       "      <td>Корнилов</td>\n",
       "      <td>2018-09-27</td>\n",
       "      <td>smart</td>\n",
       "      <td>False</td>\n",
       "      <td>9</td>\n",
       "      <td>NaN</td>\n",
       "    </tr>\n",
       "    <tr>\n",
       "      <th>3212</th>\n",
       "      <td>1499</td>\n",
       "      <td>11</td>\n",
       "      <td>18.0</td>\n",
       "      <td>62.0</td>\n",
       "      <td>612.0</td>\n",
       "      <td>59.0</td>\n",
       "      <td>35</td>\n",
       "      <td>NaT</td>\n",
       "      <td>Пермь</td>\n",
       "      <td>Гектор</td>\n",
       "      <td>Корнилов</td>\n",
       "      <td>2018-09-27</td>\n",
       "      <td>smart</td>\n",
       "      <td>False</td>\n",
       "      <td>9</td>\n",
       "      <td>NaN</td>\n",
       "    </tr>\n",
       "    <tr>\n",
       "      <th>3213</th>\n",
       "      <td>1499</td>\n",
       "      <td>12</td>\n",
       "      <td>13.0</td>\n",
       "      <td>56.0</td>\n",
       "      <td>492.0</td>\n",
       "      <td>66.0</td>\n",
       "      <td>35</td>\n",
       "      <td>NaT</td>\n",
       "      <td>Пермь</td>\n",
       "      <td>Гектор</td>\n",
       "      <td>Корнилов</td>\n",
       "      <td>2018-09-27</td>\n",
       "      <td>smart</td>\n",
       "      <td>False</td>\n",
       "      <td>9</td>\n",
       "      <td>NaN</td>\n",
       "    </tr>\n",
       "  </tbody>\n",
       "</table>\n",
       "<p>2680 rows × 16 columns</p>\n",
       "</div>"
      ],
      "text/plain": [
       "      user_id  month  gb_used  calls_count  calls_duration  messages_count  \\\n",
       "1        1000      6     23.0         28.0           172.0            60.0   \n",
       "2        1000      7     14.0         41.0           340.0            75.0   \n",
       "3        1000      8     14.0         42.0           408.0            81.0   \n",
       "4        1000      9     15.0         46.0           466.0            57.0   \n",
       "5        1000     10     15.0         44.0           350.0            73.0   \n",
       "...       ...    ...      ...          ...             ...             ...   \n",
       "3207     1498      8     24.0         43.0           400.0            62.0   \n",
       "3208     1498      9     22.0         53.0           471.0            44.0   \n",
       "3211     1499     10     18.0         44.0           449.0            48.0   \n",
       "3212     1499     11     18.0         62.0           612.0            59.0   \n",
       "3213     1499     12     13.0         56.0           492.0            66.0   \n",
       "\n",
       "      age churn_date         city first_name  last_name   reg_date tariff  \\\n",
       "1      52        NaT    Краснодар     Рафаил  Верещагин 2018-05-25  ultra   \n",
       "2      52        NaT    Краснодар     Рафаил  Верещагин 2018-05-25  ultra   \n",
       "3      52        NaT    Краснодар     Рафаил  Верещагин 2018-05-25  ultra   \n",
       "4      52        NaT    Краснодар     Рафаил  Верещагин 2018-05-25  ultra   \n",
       "5      52        NaT    Краснодар     Рафаил  Верещагин 2018-05-25  ultra   \n",
       "...   ...        ...          ...        ...        ...        ...    ...   \n",
       "3207   68 2018-10-25  Владикавказ   Всеволод    Акимчин 2018-07-19  smart   \n",
       "3208   68 2018-10-25  Владикавказ   Всеволод    Акимчин 2018-07-19  smart   \n",
       "3211   35        NaT        Пермь     Гектор   Корнилов 2018-09-27  smart   \n",
       "3212   35        NaT        Пермь     Гектор   Корнилов 2018-09-27  smart   \n",
       "3213   35        NaT        Пермь     Гектор   Корнилов 2018-09-27  smart   \n",
       "\n",
       "      capital  reg_month  churn_month  \n",
       "1       False          5          NaN  \n",
       "2       False          5          NaN  \n",
       "3       False          5          NaN  \n",
       "4       False          5          NaN  \n",
       "5       False          5          NaN  \n",
       "...       ...        ...          ...  \n",
       "3207    False          7         10.0  \n",
       "3208    False          7         10.0  \n",
       "3211    False          9          NaN  \n",
       "3212    False          9          NaN  \n",
       "3213    False          9          NaN  \n",
       "\n",
       "[2680 rows x 16 columns]"
      ]
     },
     "execution_count": 36,
     "metadata": {},
     "output_type": "execute_result"
    }
   ],
   "source": [
    "data_grouped_all = data_grouped_all.query('month != reg_month and month != churn_month') #делаем срез по \"полноценным\" месяцам\n",
    "\n",
    "data_grouped_all #посмотрим на результат"
   ]
  },
  {
   "cell_type": "markdown",
   "metadata": {},
   "source": [
    "Затем уберем из таблицы ненужные на этом этапе исследования столбцы и добавим детальную информацию по тарифам."
   ]
  },
  {
   "cell_type": "code",
   "execution_count": 37,
   "metadata": {},
   "outputs": [
    {
     "data": {
      "text/html": [
       "<div>\n",
       "<style scoped>\n",
       "    .dataframe tbody tr th:only-of-type {\n",
       "        vertical-align: middle;\n",
       "    }\n",
       "\n",
       "    .dataframe tbody tr th {\n",
       "        vertical-align: top;\n",
       "    }\n",
       "\n",
       "    .dataframe thead th {\n",
       "        text-align: right;\n",
       "    }\n",
       "</style>\n",
       "<table border=\"1\" class=\"dataframe\">\n",
       "  <thead>\n",
       "    <tr style=\"text-align: right;\">\n",
       "      <th></th>\n",
       "      <th>user_id</th>\n",
       "      <th>month</th>\n",
       "      <th>gb_used</th>\n",
       "      <th>calls_duration</th>\n",
       "      <th>messages_count</th>\n",
       "      <th>tariff</th>\n",
       "      <th>capital</th>\n",
       "      <th>messages_included</th>\n",
       "      <th>mb_per_month_included</th>\n",
       "      <th>minutes_included</th>\n",
       "      <th>rub_monthly_fee</th>\n",
       "      <th>rub_per_gb</th>\n",
       "      <th>rub_per_message</th>\n",
       "      <th>rub_per_minute</th>\n",
       "    </tr>\n",
       "  </thead>\n",
       "  <tbody>\n",
       "    <tr>\n",
       "      <th>0</th>\n",
       "      <td>1000</td>\n",
       "      <td>6</td>\n",
       "      <td>23.0</td>\n",
       "      <td>172.0</td>\n",
       "      <td>60.0</td>\n",
       "      <td>ultra</td>\n",
       "      <td>False</td>\n",
       "      <td>1000</td>\n",
       "      <td>30720</td>\n",
       "      <td>3000</td>\n",
       "      <td>1950</td>\n",
       "      <td>150</td>\n",
       "      <td>1</td>\n",
       "      <td>1</td>\n",
       "    </tr>\n",
       "    <tr>\n",
       "      <th>1</th>\n",
       "      <td>1000</td>\n",
       "      <td>7</td>\n",
       "      <td>14.0</td>\n",
       "      <td>340.0</td>\n",
       "      <td>75.0</td>\n",
       "      <td>ultra</td>\n",
       "      <td>False</td>\n",
       "      <td>1000</td>\n",
       "      <td>30720</td>\n",
       "      <td>3000</td>\n",
       "      <td>1950</td>\n",
       "      <td>150</td>\n",
       "      <td>1</td>\n",
       "      <td>1</td>\n",
       "    </tr>\n",
       "    <tr>\n",
       "      <th>2</th>\n",
       "      <td>1000</td>\n",
       "      <td>8</td>\n",
       "      <td>14.0</td>\n",
       "      <td>408.0</td>\n",
       "      <td>81.0</td>\n",
       "      <td>ultra</td>\n",
       "      <td>False</td>\n",
       "      <td>1000</td>\n",
       "      <td>30720</td>\n",
       "      <td>3000</td>\n",
       "      <td>1950</td>\n",
       "      <td>150</td>\n",
       "      <td>1</td>\n",
       "      <td>1</td>\n",
       "    </tr>\n",
       "    <tr>\n",
       "      <th>3</th>\n",
       "      <td>1000</td>\n",
       "      <td>9</td>\n",
       "      <td>15.0</td>\n",
       "      <td>466.0</td>\n",
       "      <td>57.0</td>\n",
       "      <td>ultra</td>\n",
       "      <td>False</td>\n",
       "      <td>1000</td>\n",
       "      <td>30720</td>\n",
       "      <td>3000</td>\n",
       "      <td>1950</td>\n",
       "      <td>150</td>\n",
       "      <td>1</td>\n",
       "      <td>1</td>\n",
       "    </tr>\n",
       "    <tr>\n",
       "      <th>4</th>\n",
       "      <td>1000</td>\n",
       "      <td>10</td>\n",
       "      <td>15.0</td>\n",
       "      <td>350.0</td>\n",
       "      <td>73.0</td>\n",
       "      <td>ultra</td>\n",
       "      <td>False</td>\n",
       "      <td>1000</td>\n",
       "      <td>30720</td>\n",
       "      <td>3000</td>\n",
       "      <td>1950</td>\n",
       "      <td>150</td>\n",
       "      <td>1</td>\n",
       "      <td>1</td>\n",
       "    </tr>\n",
       "    <tr>\n",
       "      <th>...</th>\n",
       "      <td>...</td>\n",
       "      <td>...</td>\n",
       "      <td>...</td>\n",
       "      <td>...</td>\n",
       "      <td>...</td>\n",
       "      <td>...</td>\n",
       "      <td>...</td>\n",
       "      <td>...</td>\n",
       "      <td>...</td>\n",
       "      <td>...</td>\n",
       "      <td>...</td>\n",
       "      <td>...</td>\n",
       "      <td>...</td>\n",
       "      <td>...</td>\n",
       "    </tr>\n",
       "    <tr>\n",
       "      <th>2675</th>\n",
       "      <td>1498</td>\n",
       "      <td>8</td>\n",
       "      <td>24.0</td>\n",
       "      <td>400.0</td>\n",
       "      <td>62.0</td>\n",
       "      <td>smart</td>\n",
       "      <td>False</td>\n",
       "      <td>50</td>\n",
       "      <td>15360</td>\n",
       "      <td>500</td>\n",
       "      <td>550</td>\n",
       "      <td>200</td>\n",
       "      <td>3</td>\n",
       "      <td>3</td>\n",
       "    </tr>\n",
       "    <tr>\n",
       "      <th>2676</th>\n",
       "      <td>1498</td>\n",
       "      <td>9</td>\n",
       "      <td>22.0</td>\n",
       "      <td>471.0</td>\n",
       "      <td>44.0</td>\n",
       "      <td>smart</td>\n",
       "      <td>False</td>\n",
       "      <td>50</td>\n",
       "      <td>15360</td>\n",
       "      <td>500</td>\n",
       "      <td>550</td>\n",
       "      <td>200</td>\n",
       "      <td>3</td>\n",
       "      <td>3</td>\n",
       "    </tr>\n",
       "    <tr>\n",
       "      <th>2677</th>\n",
       "      <td>1499</td>\n",
       "      <td>10</td>\n",
       "      <td>18.0</td>\n",
       "      <td>449.0</td>\n",
       "      <td>48.0</td>\n",
       "      <td>smart</td>\n",
       "      <td>False</td>\n",
       "      <td>50</td>\n",
       "      <td>15360</td>\n",
       "      <td>500</td>\n",
       "      <td>550</td>\n",
       "      <td>200</td>\n",
       "      <td>3</td>\n",
       "      <td>3</td>\n",
       "    </tr>\n",
       "    <tr>\n",
       "      <th>2678</th>\n",
       "      <td>1499</td>\n",
       "      <td>11</td>\n",
       "      <td>18.0</td>\n",
       "      <td>612.0</td>\n",
       "      <td>59.0</td>\n",
       "      <td>smart</td>\n",
       "      <td>False</td>\n",
       "      <td>50</td>\n",
       "      <td>15360</td>\n",
       "      <td>500</td>\n",
       "      <td>550</td>\n",
       "      <td>200</td>\n",
       "      <td>3</td>\n",
       "      <td>3</td>\n",
       "    </tr>\n",
       "    <tr>\n",
       "      <th>2679</th>\n",
       "      <td>1499</td>\n",
       "      <td>12</td>\n",
       "      <td>13.0</td>\n",
       "      <td>492.0</td>\n",
       "      <td>66.0</td>\n",
       "      <td>smart</td>\n",
       "      <td>False</td>\n",
       "      <td>50</td>\n",
       "      <td>15360</td>\n",
       "      <td>500</td>\n",
       "      <td>550</td>\n",
       "      <td>200</td>\n",
       "      <td>3</td>\n",
       "      <td>3</td>\n",
       "    </tr>\n",
       "  </tbody>\n",
       "</table>\n",
       "<p>2680 rows × 14 columns</p>\n",
       "</div>"
      ],
      "text/plain": [
       "      user_id  month  gb_used  calls_duration  messages_count tariff  capital  \\\n",
       "0        1000      6     23.0           172.0            60.0  ultra    False   \n",
       "1        1000      7     14.0           340.0            75.0  ultra    False   \n",
       "2        1000      8     14.0           408.0            81.0  ultra    False   \n",
       "3        1000      9     15.0           466.0            57.0  ultra    False   \n",
       "4        1000     10     15.0           350.0            73.0  ultra    False   \n",
       "...       ...    ...      ...             ...             ...    ...      ...   \n",
       "2675     1498      8     24.0           400.0            62.0  smart    False   \n",
       "2676     1498      9     22.0           471.0            44.0  smart    False   \n",
       "2677     1499     10     18.0           449.0            48.0  smart    False   \n",
       "2678     1499     11     18.0           612.0            59.0  smart    False   \n",
       "2679     1499     12     13.0           492.0            66.0  smart    False   \n",
       "\n",
       "      messages_included  mb_per_month_included  minutes_included  \\\n",
       "0                  1000                  30720              3000   \n",
       "1                  1000                  30720              3000   \n",
       "2                  1000                  30720              3000   \n",
       "3                  1000                  30720              3000   \n",
       "4                  1000                  30720              3000   \n",
       "...                 ...                    ...               ...   \n",
       "2675                 50                  15360               500   \n",
       "2676                 50                  15360               500   \n",
       "2677                 50                  15360               500   \n",
       "2678                 50                  15360               500   \n",
       "2679                 50                  15360               500   \n",
       "\n",
       "      rub_monthly_fee  rub_per_gb  rub_per_message  rub_per_minute  \n",
       "0                1950         150                1               1  \n",
       "1                1950         150                1               1  \n",
       "2                1950         150                1               1  \n",
       "3                1950         150                1               1  \n",
       "4                1950         150                1               1  \n",
       "...               ...         ...              ...             ...  \n",
       "2675              550         200                3               3  \n",
       "2676              550         200                3               3  \n",
       "2677              550         200                3               3  \n",
       "2678              550         200                3               3  \n",
       "2679              550         200                3               3  \n",
       "\n",
       "[2680 rows x 14 columns]"
      ]
     },
     "execution_count": 37,
     "metadata": {},
     "output_type": "execute_result"
    }
   ],
   "source": [
    "data_grouped_all = data_grouped_all.drop(['calls_count', 'age', 'churn_date', 'city', 'first_name', 'last_name', 'reg_date', 'reg_month', 'churn_month'], axis=1) #убираем ненужные столбцы\n",
    "\n",
    "data_tariffs = data_tariffs.rename(columns={'tariff_name': 'tariff'}) #меняем название столбца в таблице тарифов для объединения таблиц\n",
    "\n",
    "data_grouped_all = data_grouped_all.merge(data_tariffs, on='tariff', how='left') #объединяем две таблицы на основе значений tariff\n",
    "\n",
    "data_grouped_all #посмотрим на результат"
   ]
  },
  {
   "cell_type": "markdown",
   "metadata": {},
   "source": [
    "Теперь все готово для расчета помесячной выручки. Сперва посчитаем перерасход минут разговоров/сообщений/трафика по каждому месяцу для каждого пользователя."
   ]
  },
  {
   "cell_type": "code",
   "execution_count": 38,
   "metadata": {},
   "outputs": [
    {
     "data": {
      "text/html": [
       "<div>\n",
       "<style scoped>\n",
       "    .dataframe tbody tr th:only-of-type {\n",
       "        vertical-align: middle;\n",
       "    }\n",
       "\n",
       "    .dataframe tbody tr th {\n",
       "        vertical-align: top;\n",
       "    }\n",
       "\n",
       "    .dataframe thead th {\n",
       "        text-align: right;\n",
       "    }\n",
       "</style>\n",
       "<table border=\"1\" class=\"dataframe\">\n",
       "  <thead>\n",
       "    <tr style=\"text-align: right;\">\n",
       "      <th></th>\n",
       "      <th>user_id</th>\n",
       "      <th>month</th>\n",
       "      <th>gb_used</th>\n",
       "      <th>calls_duration</th>\n",
       "      <th>messages_count</th>\n",
       "      <th>tariff</th>\n",
       "      <th>capital</th>\n",
       "      <th>messages_included</th>\n",
       "      <th>mb_per_month_included</th>\n",
       "      <th>minutes_included</th>\n",
       "      <th>rub_monthly_fee</th>\n",
       "      <th>rub_per_gb</th>\n",
       "      <th>rub_per_message</th>\n",
       "      <th>rub_per_minute</th>\n",
       "      <th>calls_excess</th>\n",
       "      <th>messages_excess</th>\n",
       "      <th>gb_excess</th>\n",
       "    </tr>\n",
       "  </thead>\n",
       "  <tbody>\n",
       "    <tr>\n",
       "      <th>0</th>\n",
       "      <td>1000</td>\n",
       "      <td>6</td>\n",
       "      <td>23.0</td>\n",
       "      <td>172.0</td>\n",
       "      <td>60.0</td>\n",
       "      <td>ultra</td>\n",
       "      <td>False</td>\n",
       "      <td>1000</td>\n",
       "      <td>30720</td>\n",
       "      <td>3000</td>\n",
       "      <td>1950</td>\n",
       "      <td>150</td>\n",
       "      <td>1</td>\n",
       "      <td>1</td>\n",
       "      <td>0.0</td>\n",
       "      <td>0.0</td>\n",
       "      <td>0.0</td>\n",
       "    </tr>\n",
       "    <tr>\n",
       "      <th>1</th>\n",
       "      <td>1000</td>\n",
       "      <td>7</td>\n",
       "      <td>14.0</td>\n",
       "      <td>340.0</td>\n",
       "      <td>75.0</td>\n",
       "      <td>ultra</td>\n",
       "      <td>False</td>\n",
       "      <td>1000</td>\n",
       "      <td>30720</td>\n",
       "      <td>3000</td>\n",
       "      <td>1950</td>\n",
       "      <td>150</td>\n",
       "      <td>1</td>\n",
       "      <td>1</td>\n",
       "      <td>0.0</td>\n",
       "      <td>0.0</td>\n",
       "      <td>0.0</td>\n",
       "    </tr>\n",
       "    <tr>\n",
       "      <th>2</th>\n",
       "      <td>1000</td>\n",
       "      <td>8</td>\n",
       "      <td>14.0</td>\n",
       "      <td>408.0</td>\n",
       "      <td>81.0</td>\n",
       "      <td>ultra</td>\n",
       "      <td>False</td>\n",
       "      <td>1000</td>\n",
       "      <td>30720</td>\n",
       "      <td>3000</td>\n",
       "      <td>1950</td>\n",
       "      <td>150</td>\n",
       "      <td>1</td>\n",
       "      <td>1</td>\n",
       "      <td>0.0</td>\n",
       "      <td>0.0</td>\n",
       "      <td>0.0</td>\n",
       "    </tr>\n",
       "    <tr>\n",
       "      <th>3</th>\n",
       "      <td>1000</td>\n",
       "      <td>9</td>\n",
       "      <td>15.0</td>\n",
       "      <td>466.0</td>\n",
       "      <td>57.0</td>\n",
       "      <td>ultra</td>\n",
       "      <td>False</td>\n",
       "      <td>1000</td>\n",
       "      <td>30720</td>\n",
       "      <td>3000</td>\n",
       "      <td>1950</td>\n",
       "      <td>150</td>\n",
       "      <td>1</td>\n",
       "      <td>1</td>\n",
       "      <td>0.0</td>\n",
       "      <td>0.0</td>\n",
       "      <td>0.0</td>\n",
       "    </tr>\n",
       "    <tr>\n",
       "      <th>4</th>\n",
       "      <td>1000</td>\n",
       "      <td>10</td>\n",
       "      <td>15.0</td>\n",
       "      <td>350.0</td>\n",
       "      <td>73.0</td>\n",
       "      <td>ultra</td>\n",
       "      <td>False</td>\n",
       "      <td>1000</td>\n",
       "      <td>30720</td>\n",
       "      <td>3000</td>\n",
       "      <td>1950</td>\n",
       "      <td>150</td>\n",
       "      <td>1</td>\n",
       "      <td>1</td>\n",
       "      <td>0.0</td>\n",
       "      <td>0.0</td>\n",
       "      <td>0.0</td>\n",
       "    </tr>\n",
       "    <tr>\n",
       "      <th>...</th>\n",
       "      <td>...</td>\n",
       "      <td>...</td>\n",
       "      <td>...</td>\n",
       "      <td>...</td>\n",
       "      <td>...</td>\n",
       "      <td>...</td>\n",
       "      <td>...</td>\n",
       "      <td>...</td>\n",
       "      <td>...</td>\n",
       "      <td>...</td>\n",
       "      <td>...</td>\n",
       "      <td>...</td>\n",
       "      <td>...</td>\n",
       "      <td>...</td>\n",
       "      <td>...</td>\n",
       "      <td>...</td>\n",
       "      <td>...</td>\n",
       "    </tr>\n",
       "    <tr>\n",
       "      <th>2675</th>\n",
       "      <td>1498</td>\n",
       "      <td>8</td>\n",
       "      <td>24.0</td>\n",
       "      <td>400.0</td>\n",
       "      <td>62.0</td>\n",
       "      <td>smart</td>\n",
       "      <td>False</td>\n",
       "      <td>50</td>\n",
       "      <td>15360</td>\n",
       "      <td>500</td>\n",
       "      <td>550</td>\n",
       "      <td>200</td>\n",
       "      <td>3</td>\n",
       "      <td>3</td>\n",
       "      <td>0.0</td>\n",
       "      <td>12.0</td>\n",
       "      <td>9.0</td>\n",
       "    </tr>\n",
       "    <tr>\n",
       "      <th>2676</th>\n",
       "      <td>1498</td>\n",
       "      <td>9</td>\n",
       "      <td>22.0</td>\n",
       "      <td>471.0</td>\n",
       "      <td>44.0</td>\n",
       "      <td>smart</td>\n",
       "      <td>False</td>\n",
       "      <td>50</td>\n",
       "      <td>15360</td>\n",
       "      <td>500</td>\n",
       "      <td>550</td>\n",
       "      <td>200</td>\n",
       "      <td>3</td>\n",
       "      <td>3</td>\n",
       "      <td>0.0</td>\n",
       "      <td>0.0</td>\n",
       "      <td>7.0</td>\n",
       "    </tr>\n",
       "    <tr>\n",
       "      <th>2677</th>\n",
       "      <td>1499</td>\n",
       "      <td>10</td>\n",
       "      <td>18.0</td>\n",
       "      <td>449.0</td>\n",
       "      <td>48.0</td>\n",
       "      <td>smart</td>\n",
       "      <td>False</td>\n",
       "      <td>50</td>\n",
       "      <td>15360</td>\n",
       "      <td>500</td>\n",
       "      <td>550</td>\n",
       "      <td>200</td>\n",
       "      <td>3</td>\n",
       "      <td>3</td>\n",
       "      <td>0.0</td>\n",
       "      <td>0.0</td>\n",
       "      <td>3.0</td>\n",
       "    </tr>\n",
       "    <tr>\n",
       "      <th>2678</th>\n",
       "      <td>1499</td>\n",
       "      <td>11</td>\n",
       "      <td>18.0</td>\n",
       "      <td>612.0</td>\n",
       "      <td>59.0</td>\n",
       "      <td>smart</td>\n",
       "      <td>False</td>\n",
       "      <td>50</td>\n",
       "      <td>15360</td>\n",
       "      <td>500</td>\n",
       "      <td>550</td>\n",
       "      <td>200</td>\n",
       "      <td>3</td>\n",
       "      <td>3</td>\n",
       "      <td>112.0</td>\n",
       "      <td>9.0</td>\n",
       "      <td>3.0</td>\n",
       "    </tr>\n",
       "    <tr>\n",
       "      <th>2679</th>\n",
       "      <td>1499</td>\n",
       "      <td>12</td>\n",
       "      <td>13.0</td>\n",
       "      <td>492.0</td>\n",
       "      <td>66.0</td>\n",
       "      <td>smart</td>\n",
       "      <td>False</td>\n",
       "      <td>50</td>\n",
       "      <td>15360</td>\n",
       "      <td>500</td>\n",
       "      <td>550</td>\n",
       "      <td>200</td>\n",
       "      <td>3</td>\n",
       "      <td>3</td>\n",
       "      <td>0.0</td>\n",
       "      <td>16.0</td>\n",
       "      <td>0.0</td>\n",
       "    </tr>\n",
       "  </tbody>\n",
       "</table>\n",
       "<p>2680 rows × 17 columns</p>\n",
       "</div>"
      ],
      "text/plain": [
       "      user_id  month  gb_used  calls_duration  messages_count tariff  capital  \\\n",
       "0        1000      6     23.0           172.0            60.0  ultra    False   \n",
       "1        1000      7     14.0           340.0            75.0  ultra    False   \n",
       "2        1000      8     14.0           408.0            81.0  ultra    False   \n",
       "3        1000      9     15.0           466.0            57.0  ultra    False   \n",
       "4        1000     10     15.0           350.0            73.0  ultra    False   \n",
       "...       ...    ...      ...             ...             ...    ...      ...   \n",
       "2675     1498      8     24.0           400.0            62.0  smart    False   \n",
       "2676     1498      9     22.0           471.0            44.0  smart    False   \n",
       "2677     1499     10     18.0           449.0            48.0  smart    False   \n",
       "2678     1499     11     18.0           612.0            59.0  smart    False   \n",
       "2679     1499     12     13.0           492.0            66.0  smart    False   \n",
       "\n",
       "      messages_included  mb_per_month_included  minutes_included  \\\n",
       "0                  1000                  30720              3000   \n",
       "1                  1000                  30720              3000   \n",
       "2                  1000                  30720              3000   \n",
       "3                  1000                  30720              3000   \n",
       "4                  1000                  30720              3000   \n",
       "...                 ...                    ...               ...   \n",
       "2675                 50                  15360               500   \n",
       "2676                 50                  15360               500   \n",
       "2677                 50                  15360               500   \n",
       "2678                 50                  15360               500   \n",
       "2679                 50                  15360               500   \n",
       "\n",
       "      rub_monthly_fee  rub_per_gb  rub_per_message  rub_per_minute  \\\n",
       "0                1950         150                1               1   \n",
       "1                1950         150                1               1   \n",
       "2                1950         150                1               1   \n",
       "3                1950         150                1               1   \n",
       "4                1950         150                1               1   \n",
       "...               ...         ...              ...             ...   \n",
       "2675              550         200                3               3   \n",
       "2676              550         200                3               3   \n",
       "2677              550         200                3               3   \n",
       "2678              550         200                3               3   \n",
       "2679              550         200                3               3   \n",
       "\n",
       "      calls_excess  messages_excess  gb_excess  \n",
       "0              0.0              0.0        0.0  \n",
       "1              0.0              0.0        0.0  \n",
       "2              0.0              0.0        0.0  \n",
       "3              0.0              0.0        0.0  \n",
       "4              0.0              0.0        0.0  \n",
       "...            ...              ...        ...  \n",
       "2675           0.0             12.0        9.0  \n",
       "2676           0.0              0.0        7.0  \n",
       "2677           0.0              0.0        3.0  \n",
       "2678         112.0              9.0        3.0  \n",
       "2679           0.0             16.0        0.0  \n",
       "\n",
       "[2680 rows x 17 columns]"
      ]
     },
     "execution_count": 38,
     "metadata": {},
     "output_type": "execute_result"
    }
   ],
   "source": [
    "data_grouped_all['calls_excess'] = data_grouped_all.apply(lambda x: max((x['calls_duration'] - x['minutes_included']), 0), axis=1) #добавляем столбец с перерасходом минут разговоров\n",
    "data_grouped_all['messages_excess'] = data_grouped_all.apply(lambda x: max((x['messages_count'] - x['messages_included']), 0), axis=1) #добавляем столбец с перерасходом сообщений\n",
    "data_grouped_all['gb_excess'] = data_grouped_all.apply(lambda x: max((x['gb_used'] - x['mb_per_month_included']/1024), 0), axis=1) #добавляем столбец с перерасходом трафика\n",
    "\n",
    "data_grouped_all #посмотрим на результат"
   ]
  },
  {
   "cell_type": "markdown",
   "metadata": {},
   "source": [
    "Наконец, рассчитаем помесячную выручку."
   ]
  },
  {
   "cell_type": "code",
   "execution_count": 39,
   "metadata": {},
   "outputs": [
    {
     "data": {
      "text/html": [
       "<div>\n",
       "<style scoped>\n",
       "    .dataframe tbody tr th:only-of-type {\n",
       "        vertical-align: middle;\n",
       "    }\n",
       "\n",
       "    .dataframe tbody tr th {\n",
       "        vertical-align: top;\n",
       "    }\n",
       "\n",
       "    .dataframe thead th {\n",
       "        text-align: right;\n",
       "    }\n",
       "</style>\n",
       "<table border=\"1\" class=\"dataframe\">\n",
       "  <thead>\n",
       "    <tr style=\"text-align: right;\">\n",
       "      <th></th>\n",
       "      <th>user_id</th>\n",
       "      <th>month</th>\n",
       "      <th>gb_used</th>\n",
       "      <th>calls_duration</th>\n",
       "      <th>messages_count</th>\n",
       "      <th>tariff</th>\n",
       "      <th>capital</th>\n",
       "      <th>messages_included</th>\n",
       "      <th>mb_per_month_included</th>\n",
       "      <th>minutes_included</th>\n",
       "      <th>rub_monthly_fee</th>\n",
       "      <th>rub_per_gb</th>\n",
       "      <th>rub_per_message</th>\n",
       "      <th>rub_per_minute</th>\n",
       "      <th>calls_excess</th>\n",
       "      <th>messages_excess</th>\n",
       "      <th>gb_excess</th>\n",
       "      <th>revenue</th>\n",
       "    </tr>\n",
       "  </thead>\n",
       "  <tbody>\n",
       "    <tr>\n",
       "      <th>0</th>\n",
       "      <td>1000</td>\n",
       "      <td>6</td>\n",
       "      <td>23.0</td>\n",
       "      <td>172.0</td>\n",
       "      <td>60.0</td>\n",
       "      <td>ultra</td>\n",
       "      <td>False</td>\n",
       "      <td>1000</td>\n",
       "      <td>30720</td>\n",
       "      <td>3000</td>\n",
       "      <td>1950</td>\n",
       "      <td>150</td>\n",
       "      <td>1</td>\n",
       "      <td>1</td>\n",
       "      <td>0.0</td>\n",
       "      <td>0.0</td>\n",
       "      <td>0.0</td>\n",
       "      <td>1950.0</td>\n",
       "    </tr>\n",
       "    <tr>\n",
       "      <th>1</th>\n",
       "      <td>1000</td>\n",
       "      <td>7</td>\n",
       "      <td>14.0</td>\n",
       "      <td>340.0</td>\n",
       "      <td>75.0</td>\n",
       "      <td>ultra</td>\n",
       "      <td>False</td>\n",
       "      <td>1000</td>\n",
       "      <td>30720</td>\n",
       "      <td>3000</td>\n",
       "      <td>1950</td>\n",
       "      <td>150</td>\n",
       "      <td>1</td>\n",
       "      <td>1</td>\n",
       "      <td>0.0</td>\n",
       "      <td>0.0</td>\n",
       "      <td>0.0</td>\n",
       "      <td>1950.0</td>\n",
       "    </tr>\n",
       "    <tr>\n",
       "      <th>2</th>\n",
       "      <td>1000</td>\n",
       "      <td>8</td>\n",
       "      <td>14.0</td>\n",
       "      <td>408.0</td>\n",
       "      <td>81.0</td>\n",
       "      <td>ultra</td>\n",
       "      <td>False</td>\n",
       "      <td>1000</td>\n",
       "      <td>30720</td>\n",
       "      <td>3000</td>\n",
       "      <td>1950</td>\n",
       "      <td>150</td>\n",
       "      <td>1</td>\n",
       "      <td>1</td>\n",
       "      <td>0.0</td>\n",
       "      <td>0.0</td>\n",
       "      <td>0.0</td>\n",
       "      <td>1950.0</td>\n",
       "    </tr>\n",
       "    <tr>\n",
       "      <th>3</th>\n",
       "      <td>1000</td>\n",
       "      <td>9</td>\n",
       "      <td>15.0</td>\n",
       "      <td>466.0</td>\n",
       "      <td>57.0</td>\n",
       "      <td>ultra</td>\n",
       "      <td>False</td>\n",
       "      <td>1000</td>\n",
       "      <td>30720</td>\n",
       "      <td>3000</td>\n",
       "      <td>1950</td>\n",
       "      <td>150</td>\n",
       "      <td>1</td>\n",
       "      <td>1</td>\n",
       "      <td>0.0</td>\n",
       "      <td>0.0</td>\n",
       "      <td>0.0</td>\n",
       "      <td>1950.0</td>\n",
       "    </tr>\n",
       "    <tr>\n",
       "      <th>4</th>\n",
       "      <td>1000</td>\n",
       "      <td>10</td>\n",
       "      <td>15.0</td>\n",
       "      <td>350.0</td>\n",
       "      <td>73.0</td>\n",
       "      <td>ultra</td>\n",
       "      <td>False</td>\n",
       "      <td>1000</td>\n",
       "      <td>30720</td>\n",
       "      <td>3000</td>\n",
       "      <td>1950</td>\n",
       "      <td>150</td>\n",
       "      <td>1</td>\n",
       "      <td>1</td>\n",
       "      <td>0.0</td>\n",
       "      <td>0.0</td>\n",
       "      <td>0.0</td>\n",
       "      <td>1950.0</td>\n",
       "    </tr>\n",
       "    <tr>\n",
       "      <th>...</th>\n",
       "      <td>...</td>\n",
       "      <td>...</td>\n",
       "      <td>...</td>\n",
       "      <td>...</td>\n",
       "      <td>...</td>\n",
       "      <td>...</td>\n",
       "      <td>...</td>\n",
       "      <td>...</td>\n",
       "      <td>...</td>\n",
       "      <td>...</td>\n",
       "      <td>...</td>\n",
       "      <td>...</td>\n",
       "      <td>...</td>\n",
       "      <td>...</td>\n",
       "      <td>...</td>\n",
       "      <td>...</td>\n",
       "      <td>...</td>\n",
       "      <td>...</td>\n",
       "    </tr>\n",
       "    <tr>\n",
       "      <th>2675</th>\n",
       "      <td>1498</td>\n",
       "      <td>8</td>\n",
       "      <td>24.0</td>\n",
       "      <td>400.0</td>\n",
       "      <td>62.0</td>\n",
       "      <td>smart</td>\n",
       "      <td>False</td>\n",
       "      <td>50</td>\n",
       "      <td>15360</td>\n",
       "      <td>500</td>\n",
       "      <td>550</td>\n",
       "      <td>200</td>\n",
       "      <td>3</td>\n",
       "      <td>3</td>\n",
       "      <td>0.0</td>\n",
       "      <td>12.0</td>\n",
       "      <td>9.0</td>\n",
       "      <td>2386.0</td>\n",
       "    </tr>\n",
       "    <tr>\n",
       "      <th>2676</th>\n",
       "      <td>1498</td>\n",
       "      <td>9</td>\n",
       "      <td>22.0</td>\n",
       "      <td>471.0</td>\n",
       "      <td>44.0</td>\n",
       "      <td>smart</td>\n",
       "      <td>False</td>\n",
       "      <td>50</td>\n",
       "      <td>15360</td>\n",
       "      <td>500</td>\n",
       "      <td>550</td>\n",
       "      <td>200</td>\n",
       "      <td>3</td>\n",
       "      <td>3</td>\n",
       "      <td>0.0</td>\n",
       "      <td>0.0</td>\n",
       "      <td>7.0</td>\n",
       "      <td>1950.0</td>\n",
       "    </tr>\n",
       "    <tr>\n",
       "      <th>2677</th>\n",
       "      <td>1499</td>\n",
       "      <td>10</td>\n",
       "      <td>18.0</td>\n",
       "      <td>449.0</td>\n",
       "      <td>48.0</td>\n",
       "      <td>smart</td>\n",
       "      <td>False</td>\n",
       "      <td>50</td>\n",
       "      <td>15360</td>\n",
       "      <td>500</td>\n",
       "      <td>550</td>\n",
       "      <td>200</td>\n",
       "      <td>3</td>\n",
       "      <td>3</td>\n",
       "      <td>0.0</td>\n",
       "      <td>0.0</td>\n",
       "      <td>3.0</td>\n",
       "      <td>1150.0</td>\n",
       "    </tr>\n",
       "    <tr>\n",
       "      <th>2678</th>\n",
       "      <td>1499</td>\n",
       "      <td>11</td>\n",
       "      <td>18.0</td>\n",
       "      <td>612.0</td>\n",
       "      <td>59.0</td>\n",
       "      <td>smart</td>\n",
       "      <td>False</td>\n",
       "      <td>50</td>\n",
       "      <td>15360</td>\n",
       "      <td>500</td>\n",
       "      <td>550</td>\n",
       "      <td>200</td>\n",
       "      <td>3</td>\n",
       "      <td>3</td>\n",
       "      <td>112.0</td>\n",
       "      <td>9.0</td>\n",
       "      <td>3.0</td>\n",
       "      <td>1513.0</td>\n",
       "    </tr>\n",
       "    <tr>\n",
       "      <th>2679</th>\n",
       "      <td>1499</td>\n",
       "      <td>12</td>\n",
       "      <td>13.0</td>\n",
       "      <td>492.0</td>\n",
       "      <td>66.0</td>\n",
       "      <td>smart</td>\n",
       "      <td>False</td>\n",
       "      <td>50</td>\n",
       "      <td>15360</td>\n",
       "      <td>500</td>\n",
       "      <td>550</td>\n",
       "      <td>200</td>\n",
       "      <td>3</td>\n",
       "      <td>3</td>\n",
       "      <td>0.0</td>\n",
       "      <td>16.0</td>\n",
       "      <td>0.0</td>\n",
       "      <td>598.0</td>\n",
       "    </tr>\n",
       "  </tbody>\n",
       "</table>\n",
       "<p>2680 rows × 18 columns</p>\n",
       "</div>"
      ],
      "text/plain": [
       "      user_id  month  gb_used  calls_duration  messages_count tariff  capital  \\\n",
       "0        1000      6     23.0           172.0            60.0  ultra    False   \n",
       "1        1000      7     14.0           340.0            75.0  ultra    False   \n",
       "2        1000      8     14.0           408.0            81.0  ultra    False   \n",
       "3        1000      9     15.0           466.0            57.0  ultra    False   \n",
       "4        1000     10     15.0           350.0            73.0  ultra    False   \n",
       "...       ...    ...      ...             ...             ...    ...      ...   \n",
       "2675     1498      8     24.0           400.0            62.0  smart    False   \n",
       "2676     1498      9     22.0           471.0            44.0  smart    False   \n",
       "2677     1499     10     18.0           449.0            48.0  smart    False   \n",
       "2678     1499     11     18.0           612.0            59.0  smart    False   \n",
       "2679     1499     12     13.0           492.0            66.0  smart    False   \n",
       "\n",
       "      messages_included  mb_per_month_included  minutes_included  \\\n",
       "0                  1000                  30720              3000   \n",
       "1                  1000                  30720              3000   \n",
       "2                  1000                  30720              3000   \n",
       "3                  1000                  30720              3000   \n",
       "4                  1000                  30720              3000   \n",
       "...                 ...                    ...               ...   \n",
       "2675                 50                  15360               500   \n",
       "2676                 50                  15360               500   \n",
       "2677                 50                  15360               500   \n",
       "2678                 50                  15360               500   \n",
       "2679                 50                  15360               500   \n",
       "\n",
       "      rub_monthly_fee  rub_per_gb  rub_per_message  rub_per_minute  \\\n",
       "0                1950         150                1               1   \n",
       "1                1950         150                1               1   \n",
       "2                1950         150                1               1   \n",
       "3                1950         150                1               1   \n",
       "4                1950         150                1               1   \n",
       "...               ...         ...              ...             ...   \n",
       "2675              550         200                3               3   \n",
       "2676              550         200                3               3   \n",
       "2677              550         200                3               3   \n",
       "2678              550         200                3               3   \n",
       "2679              550         200                3               3   \n",
       "\n",
       "      calls_excess  messages_excess  gb_excess  revenue  \n",
       "0              0.0              0.0        0.0   1950.0  \n",
       "1              0.0              0.0        0.0   1950.0  \n",
       "2              0.0              0.0        0.0   1950.0  \n",
       "3              0.0              0.0        0.0   1950.0  \n",
       "4              0.0              0.0        0.0   1950.0  \n",
       "...            ...              ...        ...      ...  \n",
       "2675           0.0             12.0        9.0   2386.0  \n",
       "2676           0.0              0.0        7.0   1950.0  \n",
       "2677           0.0              0.0        3.0   1150.0  \n",
       "2678         112.0              9.0        3.0   1513.0  \n",
       "2679           0.0             16.0        0.0    598.0  \n",
       "\n",
       "[2680 rows x 18 columns]"
      ]
     },
     "execution_count": 39,
     "metadata": {},
     "output_type": "execute_result"
    }
   ],
   "source": [
    "data_grouped_all['revenue'] = data_grouped_all['calls_excess']*data_grouped_all['rub_per_minute'] + data_grouped_all['messages_excess']*data_grouped_all['rub_per_message'] + data_grouped_all['gb_excess']*data_grouped_all['rub_per_gb'] + data_grouped_all['rub_monthly_fee'] #добавляем столбец с расчетом выручки\n",
    "\n",
    "data_grouped_all #посмотрим на результат"
   ]
  },
  {
   "cell_type": "markdown",
   "metadata": {},
   "source": [
    "Выборочная проверка показывает, что расчеты были произведены корректно."
   ]
  },
  {
   "cell_type": "markdown",
   "metadata": {},
   "source": [
    "## Анализ данных"
   ]
  },
  {
   "cell_type": "markdown",
   "metadata": {},
   "source": [
    "Для проведения дальнейшего анализа разобьем общую таблицу на две, исходя из категории используемого тарифа."
   ]
  },
  {
   "cell_type": "code",
   "execution_count": 40,
   "metadata": {},
   "outputs": [
    {
     "name": "stdout",
     "output_type": "stream",
     "text": [
      "<class 'pandas.core.frame.DataFrame'>\n",
      "Int64Index: 1857 entries, 7 to 2679\n",
      "Data columns (total 18 columns):\n",
      " #   Column                 Non-Null Count  Dtype  \n",
      "---  ------                 --------------  -----  \n",
      " 0   user_id                1857 non-null   int64  \n",
      " 1   month                  1857 non-null   int64  \n",
      " 2   gb_used                1857 non-null   float64\n",
      " 3   calls_duration         1857 non-null   float64\n",
      " 4   messages_count         1857 non-null   float64\n",
      " 5   tariff                 1857 non-null   object \n",
      " 6   capital                1857 non-null   bool   \n",
      " 7   messages_included      1857 non-null   int64  \n",
      " 8   mb_per_month_included  1857 non-null   int64  \n",
      " 9   minutes_included       1857 non-null   int64  \n",
      " 10  rub_monthly_fee        1857 non-null   int64  \n",
      " 11  rub_per_gb             1857 non-null   int64  \n",
      " 12  rub_per_message        1857 non-null   int64  \n",
      " 13  rub_per_minute         1857 non-null   int64  \n",
      " 14  calls_excess           1857 non-null   float64\n",
      " 15  messages_excess        1857 non-null   float64\n",
      " 16  gb_excess              1857 non-null   float64\n",
      " 17  revenue                1857 non-null   float64\n",
      "dtypes: bool(1), float64(7), int64(9), object(1)\n",
      "memory usage: 263.0+ KB\n",
      "\n",
      "<class 'pandas.core.frame.DataFrame'>\n",
      "Int64Index: 823 entries, 0 to 2661\n",
      "Data columns (total 18 columns):\n",
      " #   Column                 Non-Null Count  Dtype  \n",
      "---  ------                 --------------  -----  \n",
      " 0   user_id                823 non-null    int64  \n",
      " 1   month                  823 non-null    int64  \n",
      " 2   gb_used                823 non-null    float64\n",
      " 3   calls_duration         823 non-null    float64\n",
      " 4   messages_count         823 non-null    float64\n",
      " 5   tariff                 823 non-null    object \n",
      " 6   capital                823 non-null    bool   \n",
      " 7   messages_included      823 non-null    int64  \n",
      " 8   mb_per_month_included  823 non-null    int64  \n",
      " 9   minutes_included       823 non-null    int64  \n",
      " 10  rub_monthly_fee        823 non-null    int64  \n",
      " 11  rub_per_gb             823 non-null    int64  \n",
      " 12  rub_per_message        823 non-null    int64  \n",
      " 13  rub_per_minute         823 non-null    int64  \n",
      " 14  calls_excess           823 non-null    float64\n",
      " 15  messages_excess        823 non-null    float64\n",
      " 16  gb_excess              823 non-null    float64\n",
      " 17  revenue                823 non-null    float64\n",
      "dtypes: bool(1), float64(7), int64(9), object(1)\n",
      "memory usage: 116.5+ KB\n"
     ]
    }
   ],
   "source": [
    "data_grouped_smart = data_grouped_all.query('tariff == \"smart\"') #делаем срез по тарифу smart\n",
    "data_grouped_ultra = data_grouped_all.query('tariff == \"ultra\"') #делаем срез по тарифу ultra\n",
    "\n",
    "data_grouped_smart.info() #смотрим сводку основной информации\n",
    "print() #вставим пустую сроку\n",
    "data_grouped_ultra.info() #смотрим сводку основной информации"
   ]
  },
  {
   "cell_type": "markdown",
   "metadata": {},
   "source": [
    "Мы получили две под-выборки, в сумме дающие число записей из общей обработанной выборки. "
   ]
  },
  {
   "cell_type": "markdown",
   "metadata": {},
   "source": [
    "Далее детально будут рассмотрены рассчитанные помесячные параметры количества минут разговоров/сообщений/трафика для каждого тарифа."
   ]
  },
  {
   "cell_type": "markdown",
   "metadata": {},
   "source": [
    "### Минуты разговора"
   ]
  },
  {
   "cell_type": "markdown",
   "metadata": {},
   "source": [
    "Применяется описание значений и построение гистограммы для параметра calls_duration в тарифах smart и ultra."
   ]
  },
  {
   "cell_type": "code",
   "execution_count": 41,
   "metadata": {},
   "outputs": [
    {
     "name": "stdout",
     "output_type": "stream",
     "text": [
      "count    1857.000000\n",
      "mean      453.003770\n",
      "std       176.314672\n",
      "min         0.000000\n",
      "25%       332.000000\n",
      "50%       454.000000\n",
      "75%       564.000000\n",
      "max      1435.000000\n",
      "Name: calls_duration, dtype: float64\n",
      "31086.863671127885\n",
      "\n",
      "count     823.000000\n",
      "mean      572.928311\n",
      "std       307.242082\n",
      "min         0.000000\n",
      "25%       346.500000\n",
      "50%       565.000000\n",
      "75%       779.000000\n",
      "max      1673.000000\n",
      "Name: calls_duration, dtype: float64\n",
      "94397.69680091528\n"
     ]
    },
    {
     "data": {
      "text/plain": [
       "<matplotlib.legend.Legend at 0x7f40014384f0>"
      ]
     },
     "execution_count": 41,
     "metadata": {},
     "output_type": "execute_result"
    },
    {
     "data": {
      "image/png": "[encoded data removed]",
      "text/plain": [
       "<Figure size 432x288 with 1 Axes>"
      ]
     },
     "metadata": {
      "needs_background": "light"
     },
     "output_type": "display_data"
    }
   ],
   "source": [
    "print(data_grouped_smart['calls_duration'].describe()) #смотрим описание значений в столбце calls_duration для тарифа smart\n",
    "print(np.var(data_grouped_smart['calls_duration'], ddof=1)) #рассчитаем дисперсию для тарифа smart\n",
    "print() #вставим пустую сроку\n",
    "print(data_grouped_ultra['calls_duration'].describe()) #смотрим описание значений в столбце calls_duration для тарифа ultra\n",
    "print(np.var(data_grouped_ultra['calls_duration'], ddof=1)) #рассчитаем дисперсию для тарифа ultra\n",
    "\n",
    "data_grouped_smart['calls_duration'].hist(alpha=0.7, grid=True) #строим гистограмму для столбца calls_duration в тарифе smart\n",
    "data_grouped_ultra['calls_duration'].hist(alpha=0.7, grid=True) #строим гистограмму для столбца calls_duration в тарифе ultra\n",
    "plt.title('продолжительность звонков (за месяц)') #добавляем название\n",
    "plt.legend(['smart', 'ultra']) #добавляем легенду"
   ]
  },
  {
   "cell_type": "markdown",
   "metadata": {},
   "source": [
    "В типичном случае пользователи тарифа smart тратят в месяц 454 минуты разговоров (то есть примерно 7,5 часов), в пределах пакетного предложения. Максимум достигает 1435 минут (почти 24 часа), но гистограмма показывает, что это уникальный случай, \"оторванный\" от остального распределения."
   ]
  },
  {
   "cell_type": "markdown",
   "metadata": {},
   "source": [
    "Пользователи тарифа ultra, в свою очередь, тратят в месяц 565 минут разговоров (то есть примерно 9,5 часов). Максимум стал еще выше, но уже не выглядит столь необычно и даже находится в пределах включенного в пакет объема минут. Вообще дисперсия и стандартное отклонение значений в данном случае гораздо выше, чем в предыдущем варианте, и это отражается на графике - пик не такой \"острый\". Вероятно, пользователи с большим пакетом услуг меньше ограничивают себя в разговорах или даже тратят на это трафик вместо звонков, что объясняет большую частоту околонулевых значений."
   ]
  },
  {
   "cell_type": "markdown",
   "metadata": {},
   "source": [
    "### Количество сообщений"
   ]
  },
  {
   "cell_type": "markdown",
   "metadata": {},
   "source": [
    "Применяется описание значений и построение гистограммы для параметра messages_count в тарифах smart и ultra."
   ]
  },
  {
   "cell_type": "code",
   "execution_count": 42,
   "metadata": {},
   "outputs": [
    {
     "name": "stdout",
     "output_type": "stream",
     "text": [
      "count    1857.000000\n",
      "mean       36.192246\n",
      "std        28.730675\n",
      "min         0.000000\n",
      "25%        13.000000\n",
      "50%        31.000000\n",
      "75%        55.000000\n",
      "max       143.000000\n",
      "Name: messages_count, dtype: float64\n",
      "825.4517070776003\n",
      "\n",
      "count    823.000000\n",
      "mean      53.017011\n",
      "std       48.951435\n",
      "min        0.000000\n",
      "25%        7.000000\n",
      "50%       42.000000\n",
      "75%       83.000000\n",
      "max      224.000000\n",
      "Name: messages_count, dtype: float64\n",
      "2396.2430192784686\n"
     ]
    },
    {
     "data": {
      "text/plain": [
       "<matplotlib.legend.Legend at 0x7f40011a9e80>"
      ]
     },
     "execution_count": 42,
     "metadata": {},
     "output_type": "execute_result"
    },
    {
     "data": {
      "image/png": "[encoded data removed]",
      "text/plain": [
       "<Figure size 432x288 with 1 Axes>"
      ]
     },
     "metadata": {
      "needs_background": "light"
     },
     "output_type": "display_data"
    }
   ],
   "source": [
    "print(data_grouped_smart['messages_count'].describe()) #смотрим описание значений в столбце messages_count для тарифа smart\n",
    "print(np.var(data_grouped_smart['messages_count'], ddof=1)) #рассчитаем дисперсию для тарифа smart\n",
    "print() #вставим пустую сроку\n",
    "print(data_grouped_ultra['messages_count'].describe()) #смотрим описание значений в столбце messages_count для тарифа ultra\n",
    "print(np.var(data_grouped_ultra['messages_count'], ddof=1)) #рассчитаем дисперсию для тарифа ultra\n",
    "\n",
    "data_grouped_smart['messages_count'].hist(alpha=0.7, grid=True) #строим гистограмму для столбца messages_count в тарифе smart\n",
    "data_grouped_ultra['messages_count'].hist(alpha=0.7, grid=True) #строим гистограмму для столбца messages_count в тарифе ultra\n",
    "plt.title('количество сообщений (в месяц)') #добавляем название\n",
    "plt.legend(['smart', 'ultra']) #добавляем легенду"
   ]
  },
  {
   "cell_type": "markdown",
   "metadata": {},
   "source": [
    "Медианное число сообщений в тарифе smart составляет 31 единицу, а график вообще имеет пик у нулевой отметки. Логично, что пользователи с пакетом всего в 50 бесплатных сообщений не очень активно задействуют эту форму связи."
   ]
  },
  {
   "cell_type": "markdown",
   "metadata": {},
   "source": [
    "Пик сообщений в тарифе ultra также располагается близко к нулю, хотя медиана (42) и максимум (224) все же выше, чем в тарифе smart. Снова преобладает общение через интернет-каналы? Проверим это."
   ]
  },
  {
   "cell_type": "markdown",
   "metadata": {},
   "source": [
    "### Интернет-трафик"
   ]
  },
  {
   "cell_type": "markdown",
   "metadata": {},
   "source": [
    "Применяется описание значений и построение гистограммы для параметра gb_used в тарифах smart и ultra."
   ]
  },
  {
   "cell_type": "code",
   "execution_count": 43,
   "metadata": {},
   "outputs": [
    {
     "name": "stdout",
     "output_type": "stream",
     "text": [
      "count    1857.000000\n",
      "mean       17.637049\n",
      "std         4.797706\n",
      "min         2.000000\n",
      "25%        14.000000\n",
      "50%        17.000000\n",
      "75%        21.000000\n",
      "max        38.000000\n",
      "Name: gb_used, dtype: float64\n",
      "23.017980080032682\n",
      "\n",
      "count    823.000000\n",
      "mean      21.183475\n",
      "std        9.252296\n",
      "min        0.000000\n",
      "25%       15.000000\n",
      "50%       21.000000\n",
      "75%       28.000000\n",
      "max       49.000000\n",
      "Name: gb_used, dtype: float64\n",
      "85.60498206963427\n"
     ]
    },
    {
     "data": {
      "text/plain": [
       "<matplotlib.legend.Legend at 0x7f40010ff6a0>"
      ]
     },
     "execution_count": 43,
     "metadata": {},
     "output_type": "execute_result"
    },
    {
     "data": {
      "image/png": "[encoded data removed]",
      "text/plain": [
       "<Figure size 432x288 with 1 Axes>"
      ]
     },
     "metadata": {
      "needs_background": "light"
     },
     "output_type": "display_data"
    }
   ],
   "source": [
    "print(data_grouped_smart['gb_used'].describe()) #смотрим описание значений в столбце gb_used для тарифа smart\n",
    "print(np.var(data_grouped_smart['gb_used'], ddof=1)) #рассчитаем дисперсию для тарифа smart\n",
    "print() #вставим пустую сроку\n",
    "print(data_grouped_ultra['gb_used'].describe()) #смотрим описание значений в столбце gb_used для тарифа ultra\n",
    "print(np.var(data_grouped_ultra['gb_used'], ddof=1)) #рассчитаем дисперсию для тарифа ultra\n",
    "\n",
    "data_grouped_smart['gb_used'].hist(alpha=0.7, grid=True) #строим гистограмму для столбца gb_used в тарифе smart\n",
    "data_grouped_ultra['gb_used'].hist(alpha=0.7, grid=True) #строим гистограмму для столбца gb_used в тарифе ultra\n",
    "plt.title('объем трафика (за месяц)') #добавляем название\n",
    "plt.legend(['smart', 'ultra']) #добавляем легенду"
   ]
  },
  {
   "cell_type": "markdown",
   "metadata": {},
   "source": [
    "Среднее значение в тарифе smart близко к медианному и составляет около 17 гигабайт, при этом большинство значений лежит в диапазоне 14-21 гигабайт. Видимо, пользователи пытаются оставаться в рамках пакета, но далеко не всем это удается."
   ]
  },
  {
   "cell_type": "markdown",
   "metadata": {},
   "source": [
    "Среднее и медиана в тарифе ultra не так сильно отличаются от тарифа smart и составляют 21 гигабайт, а вот разброс значений гораздо выше. График также выглядит более пологим, причем в отличие от продолжительности звонков, он явно медленнее спадает в сторону увеличения значений, что в целом подтверждает предположения о возможной замене обычных видов связи (звонки и сообщения) на мессенджеры и тому подобные интернет-альтернативы."
   ]
  },
  {
   "cell_type": "markdown",
   "metadata": {},
   "source": [
    "## Проверка гипотез"
   ]
  },
  {
   "cell_type": "markdown",
   "metadata": {},
   "source": [
    "Для проведения дальнейшего анализа также разобьем общую таблицу на две, исходя из категории региона."
   ]
  },
  {
   "cell_type": "code",
   "execution_count": 44,
   "metadata": {},
   "outputs": [
    {
     "name": "stdout",
     "output_type": "stream",
     "text": [
      "<class 'pandas.core.frame.DataFrame'>\n",
      "Int64Index: 503 entries, 7 to 2638\n",
      "Data columns (total 18 columns):\n",
      " #   Column                 Non-Null Count  Dtype  \n",
      "---  ------                 --------------  -----  \n",
      " 0   user_id                503 non-null    int64  \n",
      " 1   month                  503 non-null    int64  \n",
      " 2   gb_used                503 non-null    float64\n",
      " 3   calls_duration         503 non-null    float64\n",
      " 4   messages_count         503 non-null    float64\n",
      " 5   tariff                 503 non-null    object \n",
      " 6   capital                503 non-null    bool   \n",
      " 7   messages_included      503 non-null    int64  \n",
      " 8   mb_per_month_included  503 non-null    int64  \n",
      " 9   minutes_included       503 non-null    int64  \n",
      " 10  rub_monthly_fee        503 non-null    int64  \n",
      " 11  rub_per_gb             503 non-null    int64  \n",
      " 12  rub_per_message        503 non-null    int64  \n",
      " 13  rub_per_minute         503 non-null    int64  \n",
      " 14  calls_excess           503 non-null    float64\n",
      " 15  messages_excess        503 non-null    float64\n",
      " 16  gb_excess              503 non-null    float64\n",
      " 17  revenue                503 non-null    float64\n",
      "dtypes: bool(1), float64(7), int64(9), object(1)\n",
      "memory usage: 71.2+ KB\n",
      "\n",
      "<class 'pandas.core.frame.DataFrame'>\n",
      "Int64Index: 2177 entries, 0 to 2679\n",
      "Data columns (total 18 columns):\n",
      " #   Column                 Non-Null Count  Dtype  \n",
      "---  ------                 --------------  -----  \n",
      " 0   user_id                2177 non-null   int64  \n",
      " 1   month                  2177 non-null   int64  \n",
      " 2   gb_used                2177 non-null   float64\n",
      " 3   calls_duration         2177 non-null   float64\n",
      " 4   messages_count         2177 non-null   float64\n",
      " 5   tariff                 2177 non-null   object \n",
      " 6   capital                2177 non-null   bool   \n",
      " 7   messages_included      2177 non-null   int64  \n",
      " 8   mb_per_month_included  2177 non-null   int64  \n",
      " 9   minutes_included       2177 non-null   int64  \n",
      " 10  rub_monthly_fee        2177 non-null   int64  \n",
      " 11  rub_per_gb             2177 non-null   int64  \n",
      " 12  rub_per_message        2177 non-null   int64  \n",
      " 13  rub_per_minute         2177 non-null   int64  \n",
      " 14  calls_excess           2177 non-null   float64\n",
      " 15  messages_excess        2177 non-null   float64\n",
      " 16  gb_excess              2177 non-null   float64\n",
      " 17  revenue                2177 non-null   float64\n",
      "dtypes: bool(1), float64(7), int64(9), object(1)\n",
      "memory usage: 308.3+ KB\n"
     ]
    }
   ],
   "source": [
    "data_grouped_capital = data_grouped_all.query('capital == 1') #делаем срез по столице\n",
    "data_grouped_region = data_grouped_all.query('capital == 0') #делаем срез по другим регионам\n",
    "\n",
    "data_grouped_capital.info() #смотрим сводку основной информации\n",
    "print() #вставим пустую сроку\n",
    "data_grouped_region.info() #смотрим сводку основной информации"
   ]
  },
  {
   "cell_type": "markdown",
   "metadata": {},
   "source": [
    "Мы снова получили две под-выборки, в сумме дающие число записей из общей обработанной выборки. "
   ]
  },
  {
   "cell_type": "markdown",
   "metadata": {},
   "source": [
    "Теперь можно перейти к непосредственной проверке гипотез."
   ]
  },
  {
   "cell_type": "markdown",
   "metadata": {},
   "source": [
    "### Первая гипотеза - средняя выручка пользователей тарифов «Ультра» и «Смарт» различаются"
   ]
  },
  {
   "cell_type": "markdown",
   "metadata": {},
   "source": [
    "В этом случае нулевая гипотеза будет сформулирована, исходя из принципа равенства, а альтернативная - как противоположная нулевой:\n",
    "- h0: средние выручки от пользователей тарифов «Ультра» и «Смарт» равны;\n",
    "- h1: средние выручки от пользователей тарифов «Ультра» и «Смарт» не равны."
   ]
  },
  {
   "cell_type": "markdown",
   "metadata": {},
   "source": [
    "Так как полученные под-выборки различаются по размеру, используем t-тест с заданным параметром equal_var."
   ]
  },
  {
   "cell_type": "code",
   "execution_count": 45,
   "metadata": {},
   "outputs": [
    {
     "data": {
      "text/plain": [
       "2.8225982252018058e-157"
      ]
     },
     "execution_count": 45,
     "metadata": {},
     "output_type": "execute_result"
    }
   ],
   "source": [
    "result = st.ttest_ind(data_grouped_smart['revenue'], data_grouped_ultra['revenue'], equal_var=False) #получаем результат теста\n",
    "\n",
    "result.pvalue #смотрим на значение"
   ]
  },
  {
   "cell_type": "markdown",
   "metadata": {},
   "source": [
    "Значение p-value крайне мало и явно меньше критерия значимости. Следовательно, нулевую гипотезу можно отвергнуть и считать, что средняя выручка пользователей тарифов «Ультра» и «Смарт» действительно различается.¶"
   ]
  },
  {
   "cell_type": "code",
   "execution_count": 46,
   "metadata": {},
   "outputs": [
    {
     "name": "stdout",
     "output_type": "stream",
     "text": [
      "count    1857.000000\n",
      "mean     1407.509424\n",
      "std       829.706969\n",
      "min       550.000000\n",
      "25%       745.000000\n",
      "50%      1163.000000\n",
      "75%      1923.000000\n",
      "max      6770.000000\n",
      "Name: revenue, dtype: float64\n",
      "\n",
      "count     823.000000\n",
      "mean     2091.980559\n",
      "std       406.796086\n",
      "min      1950.000000\n",
      "25%      1950.000000\n",
      "50%      1950.000000\n",
      "75%      1950.000000\n",
      "max      4800.000000\n",
      "Name: revenue, dtype: float64\n"
     ]
    }
   ],
   "source": [
    "print(data_grouped_smart['revenue'].describe()) #смотрим описание значений в столбце revenue\n",
    "print() #вставим пустую сроку\n",
    "print(data_grouped_ultra['revenue'].describe()) #смотрим описание значений в столбце revenue"
   ]
  },
  {
   "cell_type": "markdown",
   "metadata": {},
   "source": [
    "Если посмотреть на средние значения выручки в двух этих группах, то в тарифе \"Ультра\" средняя выручка действительно окажется заметно выше, чем в тарифе \"Смарт\" (хотя в тарифе \"Смарт\" больше максимум - вероятно, из-за какого-то случая неаккуратного перерасхода пакета). При этом также стоит заметить, что все квартили в тарифе \"Ультра\" находятся на уровне стоимости базового пакета услуг."
   ]
  },
  {
   "cell_type": "markdown",
   "metadata": {},
   "source": [
    "### Вторая гипотеза - средняя выручка пользователей из Москвы отличается от выручки пользователей из других регионов"
   ]
  },
  {
   "cell_type": "markdown",
   "metadata": {},
   "source": [
    "Нулевая и альтернативная гипотеза будут сформулированы схожим образом:\n",
    "- h0: средние выручки от пользователей из Москвы и других регионов равны;\n",
    "- h1: средние выручки от пользователей из Москвы и других регионов не равны."
   ]
  },
  {
   "cell_type": "markdown",
   "metadata": {},
   "source": [
    "Применим аналогичный статистический инструментарий:"
   ]
  },
  {
   "cell_type": "code",
   "execution_count": 47,
   "metadata": {},
   "outputs": [
    {
     "data": {
      "text/plain": [
       "0.38005021534924466"
      ]
     },
     "execution_count": 47,
     "metadata": {},
     "output_type": "execute_result"
    }
   ],
   "source": [
    "result = st.ttest_ind(data_grouped_capital['revenue'], data_grouped_region['revenue'], equal_var=False) #получаем результат теста\n",
    "\n",
    "result.pvalue #смотрим на значение"
   ]
  },
  {
   "cell_type": "markdown",
   "metadata": {},
   "source": [
    "Значение p-value достаточно высоко и очевидно превышает критерий значимости. Значит нулевую гипотезу нельзя отвергнуть и дальше следует исходить из предпосылки, что средняя выручка пользователей не различается между Москвой и другими регионами.¶"
   ]
  },
  {
   "cell_type": "code",
   "execution_count": 48,
   "metadata": {},
   "outputs": [
    {
     "name": "stdout",
     "output_type": "stream",
     "text": [
      "count     503.000000\n",
      "mean     1644.119284\n",
      "std       734.790236\n",
      "min       550.000000\n",
      "25%       996.500000\n",
      "50%      1950.000000\n",
      "75%      1950.000000\n",
      "max      5321.000000\n",
      "Name: revenue, dtype: float64\n",
      "\n",
      "count    2177.000000\n",
      "mean     1611.599908\n",
      "std       804.805836\n",
      "min       550.000000\n",
      "25%       950.000000\n",
      "50%      1750.000000\n",
      "75%      1950.000000\n",
      "max      6770.000000\n",
      "Name: revenue, dtype: float64\n"
     ]
    }
   ],
   "source": [
    "print(data_grouped_capital['revenue'].describe()) #смотрим описание значений в столбце revenue\n",
    "print() #вставим пустую сроку\n",
    "print(data_grouped_region['revenue'].describe()) #смотрим описание значений в столбце revenue"
   ]
  },
  {
   "cell_type": "markdown",
   "metadata": {},
   "source": [
    "Действительно, средние значения выручки в двух этих группах достаточно близки. Теперь этот факт подкреплен статистически. "
   ]
  },
  {
   "cell_type": "markdown",
   "metadata": {},
   "source": [
    "## Выводы"
   ]
  },
  {
   "cell_type": "markdown",
   "metadata": {},
   "source": [
    "В ходе исследования тарифов телеком-компании «Мегалайн» был выполнен ряд основных блоков работ:\n",
    "1. Предобработка данных и дополнительные расчеты:\n",
    "   - по итогам оценки данных из выборки были исключены интернет-сессии с нулевым трафиком и звонки с нулевой продолжительностью;\n",
    "   - были рассчитаны помесячные значения числа звонков и минут разговора/количества сообщений/объема интернет-трафика;\n",
    "   - при этом из анализа были исключены \"неполные\" месяца (когда пользователь только начал или, наоборот, закончил пользоваться тарифом); \n",
    "   - наконец, исходя из особенностей каждого тарифа, была посчитана помесячная выручка от различных пользователей.\n",
    "   \n",
    "   \n",
    "2. Анализ данных:\n",
    "   - более подробное сравнение параметров по двум тарифам показало, что тариф \"Ультра\" в целом характеризуется более высокими параметрами использования минут/сообщений/гигабайт в сравнении с тарифом \"Смарт\", а также обладает большим разбросом указанных значений в связи с большим размером самого тарифного пакета;\n",
    "   - люди в целом склонны вести коммуникации через интернет, а не через звонки и сообщения, часто заменяя один канал связи другим, особенно это выражено в тарифе \"Ультра\", где перерасхода звонков и сообщений за месяц вообще не наблюдается, в отличие от гигабайт трафика. \n",
    "   \n",
    "   \n",
    "3. Проверка гипотез:\n",
    "   - статистика подтверждает, что средняя выручка пользователей тарифов «Ультра» и «Смарт» значимо различается (нулевая гипотеза о равенстве выручки в этом случае была отвергнута при значении p-value 2.8e-157 и 5%-ом уровне значимости);\n",
    "   - при этом среднее значение выручки в выборке по тарифу \"Смарт\" составляет 1408 руб. и не доходит даже до стандартной ежемесячной платы по тарифу \"Ультра\", который стоит 1950 руб. и пользователи которого обычно остаются в рамках пакета без переплат;\n",
    "   - по регионам (Москва и прочие) выручка пользователей, напротив, практически не различается (нулевая гипотеза о равенстве выручки в этом случае не могла быть отвергнута при значении p-value 0.38 и 5%-ом уровне значимости)."
   ]
  },
  {
   "cell_type": "markdown",
   "metadata": {},
   "source": [
    "## Итоговый вывод"
   ]
  },
  {
   "cell_type": "markdown",
   "metadata": {},
   "source": [
    "Тариф \"Ультра\" лучше тарифа \"Смарт\" с той точки зрения, что средняя выручка пользователей тарифа \"Ультра\" значимо выше, чем средняя выручка пользователей тарифа \"Смарт\" - 2092 руб. против 1408 руб. (на основе данных выборки)"
   ]
  }
 ],
 "metadata": {
  "ExecuteTimeLog": [
   {
    "duration": 340,
    "start_time": "2022-06-16T09:43:47.717Z"
   },
   {
    "duration": 3,
    "start_time": "2022-06-16T09:43:58.484Z"
   },
   {
    "duration": 480,
    "start_time": "2022-06-16T09:46:24.329Z"
   },
   {
    "duration": 158,
    "start_time": "2022-06-16T09:47:48.965Z"
   },
   {
    "duration": 159,
    "start_time": "2022-06-16T09:47:54.222Z"
   },
   {
    "duration": 14,
    "start_time": "2022-06-16T09:49:14.379Z"
   },
   {
    "duration": 5,
    "start_time": "2022-06-16T09:50:38.615Z"
   },
   {
    "duration": 5,
    "start_time": "2022-06-16T09:51:06.937Z"
   },
   {
    "duration": 13,
    "start_time": "2022-06-16T09:51:18.813Z"
   },
   {
    "duration": 26,
    "start_time": "2022-06-16T10:01:56.089Z"
   },
   {
    "duration": 38,
    "start_time": "2022-06-16T10:01:59.452Z"
   },
   {
    "duration": 20,
    "start_time": "2022-06-16T10:02:30.516Z"
   },
   {
    "duration": 35,
    "start_time": "2022-06-16T10:04:10.303Z"
   },
   {
    "duration": 26,
    "start_time": "2022-06-16T10:05:16.568Z"
   },
   {
    "duration": 420,
    "start_time": "2022-06-16T10:05:56.858Z"
   },
   {
    "duration": 12,
    "start_time": "2022-06-16T10:09:18.982Z"
   },
   {
    "duration": 12,
    "start_time": "2022-06-16T10:10:09.465Z"
   },
   {
    "duration": 12,
    "start_time": "2022-06-16T10:10:30.056Z"
   },
   {
    "duration": 141,
    "start_time": "2022-06-16T10:21:21.781Z"
   },
   {
    "duration": 141,
    "start_time": "2022-06-16T10:21:30.293Z"
   },
   {
    "duration": 4,
    "start_time": "2022-06-16T10:21:55.562Z"
   },
   {
    "duration": 11,
    "start_time": "2022-06-16T10:22:08.404Z"
   },
   {
    "duration": 12,
    "start_time": "2022-06-16T10:23:27.288Z"
   },
   {
    "duration": 373,
    "start_time": "2022-06-16T10:23:34.383Z"
   },
   {
    "duration": 158,
    "start_time": "2022-06-16T10:23:34.758Z"
   },
   {
    "duration": 12,
    "start_time": "2022-06-16T10:23:34.918Z"
   },
   {
    "duration": 30,
    "start_time": "2022-06-16T10:23:34.932Z"
   },
   {
    "duration": 35,
    "start_time": "2022-06-16T10:23:34.963Z"
   },
   {
    "duration": 127,
    "start_time": "2022-06-16T10:23:34.999Z"
   },
   {
    "duration": 13,
    "start_time": "2022-06-16T10:23:35.127Z"
   },
   {
    "duration": 3,
    "start_time": "2022-06-16T10:23:35.142Z"
   },
   {
    "duration": 20,
    "start_time": "2022-06-16T10:24:43.792Z"
   },
   {
    "duration": 19,
    "start_time": "2022-06-16T10:25:04.558Z"
   },
   {
    "duration": 156,
    "start_time": "2022-06-16T10:28:24.762Z"
   },
   {
    "duration": 19,
    "start_time": "2022-06-16T10:37:23.354Z"
   },
   {
    "duration": 17,
    "start_time": "2022-06-16T10:37:38.256Z"
   },
   {
    "duration": 112,
    "start_time": "2022-06-16T10:41:34.866Z"
   },
   {
    "duration": 88,
    "start_time": "2022-06-16T10:41:50.674Z"
   },
   {
    "duration": 64,
    "start_time": "2022-06-16T10:42:27.282Z"
   },
   {
    "duration": 84,
    "start_time": "2022-06-16T10:48:26.312Z"
   },
   {
    "duration": 31,
    "start_time": "2022-06-16T10:59:21.854Z"
   },
   {
    "duration": 53,
    "start_time": "2022-06-16T11:00:49.354Z"
   },
   {
    "duration": 14,
    "start_time": "2022-06-16T11:00:55.060Z"
   },
   {
    "duration": 2,
    "start_time": "2022-06-16T11:06:37.951Z"
   },
   {
    "duration": 5,
    "start_time": "2022-06-16T11:07:04.282Z"
   },
   {
    "duration": 6,
    "start_time": "2022-06-16T11:07:29.638Z"
   },
   {
    "duration": 16,
    "start_time": "2022-06-16T11:09:04.907Z"
   },
   {
    "duration": 19,
    "start_time": "2022-06-16T13:18:17.072Z"
   },
   {
    "duration": 341,
    "start_time": "2022-06-16T13:18:54.620Z"
   },
   {
    "duration": 160,
    "start_time": "2022-06-16T13:18:54.963Z"
   },
   {
    "duration": 13,
    "start_time": "2022-06-16T13:18:55.124Z"
   },
   {
    "duration": 28,
    "start_time": "2022-06-16T13:18:55.138Z"
   },
   {
    "duration": 35,
    "start_time": "2022-06-16T13:18:55.168Z"
   },
   {
    "duration": 131,
    "start_time": "2022-06-16T13:18:55.204Z"
   },
   {
    "duration": 11,
    "start_time": "2022-06-16T13:18:55.337Z"
   },
   {
    "duration": 5,
    "start_time": "2022-06-16T13:18:55.349Z"
   },
   {
    "duration": 36,
    "start_time": "2022-06-16T13:18:55.355Z"
   },
   {
    "duration": 18,
    "start_time": "2022-06-16T13:18:55.393Z"
   },
   {
    "duration": 100,
    "start_time": "2022-06-16T13:18:55.412Z"
   },
   {
    "duration": 17,
    "start_time": "2022-06-16T13:18:55.516Z"
   },
   {
    "duration": 17,
    "start_time": "2022-06-16T13:18:55.535Z"
   },
   {
    "duration": 23,
    "start_time": "2022-06-16T13:18:55.555Z"
   },
   {
    "duration": 37,
    "start_time": "2022-06-16T13:18:55.592Z"
   },
   {
    "duration": 5,
    "start_time": "2022-06-16T13:18:55.631Z"
   },
   {
    "duration": 19,
    "start_time": "2022-06-16T13:18:55.638Z"
   },
   {
    "duration": 21,
    "start_time": "2022-06-16T13:26:55.125Z"
   },
   {
    "duration": 57,
    "start_time": "2022-06-16T13:30:16.934Z"
   },
   {
    "duration": 5,
    "start_time": "2022-06-16T13:30:34.184Z"
   },
   {
    "duration": 7,
    "start_time": "2022-06-16T13:31:13.893Z"
   },
   {
    "duration": 9,
    "start_time": "2022-06-16T13:32:08.207Z"
   },
   {
    "duration": 5,
    "start_time": "2022-06-16T13:32:57.785Z"
   },
   {
    "duration": 5,
    "start_time": "2022-06-16T13:33:56.632Z"
   },
   {
    "duration": 23,
    "start_time": "2022-06-16T13:34:14.721Z"
   },
   {
    "duration": 7,
    "start_time": "2022-06-16T13:37:08.537Z"
   },
   {
    "duration": 325,
    "start_time": "2022-06-16T13:37:17.735Z"
   },
   {
    "duration": 169,
    "start_time": "2022-06-16T13:37:18.062Z"
   },
   {
    "duration": 14,
    "start_time": "2022-06-16T13:37:18.233Z"
   },
   {
    "duration": 43,
    "start_time": "2022-06-16T13:37:18.248Z"
   },
   {
    "duration": 20,
    "start_time": "2022-06-16T13:37:18.292Z"
   },
   {
    "duration": 141,
    "start_time": "2022-06-16T13:37:18.314Z"
   },
   {
    "duration": 11,
    "start_time": "2022-06-16T13:37:18.456Z"
   },
   {
    "duration": 6,
    "start_time": "2022-06-16T13:37:18.468Z"
   },
   {
    "duration": 32,
    "start_time": "2022-06-16T13:37:18.475Z"
   },
   {
    "duration": 19,
    "start_time": "2022-06-16T13:37:18.509Z"
   },
   {
    "duration": 93,
    "start_time": "2022-06-16T13:37:18.529Z"
   },
   {
    "duration": 16,
    "start_time": "2022-06-16T13:37:18.624Z"
   },
   {
    "duration": 15,
    "start_time": "2022-06-16T13:37:18.642Z"
   },
   {
    "duration": 35,
    "start_time": "2022-06-16T13:37:18.658Z"
   },
   {
    "duration": 36,
    "start_time": "2022-06-16T13:37:18.694Z"
   },
   {
    "duration": 5,
    "start_time": "2022-06-16T13:37:18.731Z"
   },
   {
    "duration": 19,
    "start_time": "2022-06-16T13:37:18.737Z"
   },
   {
    "duration": 21,
    "start_time": "2022-06-16T13:37:18.758Z"
   },
   {
    "duration": 30,
    "start_time": "2022-06-16T13:37:18.780Z"
   },
   {
    "duration": 24,
    "start_time": "2022-06-16T13:37:36.505Z"
   },
   {
    "duration": 5,
    "start_time": "2022-06-16T13:39:24.092Z"
   },
   {
    "duration": 21,
    "start_time": "2022-06-16T13:39:41.642Z"
   },
   {
    "duration": 21,
    "start_time": "2022-06-16T13:39:53.447Z"
   },
   {
    "duration": 63,
    "start_time": "2022-06-16T13:45:45.171Z"
   },
   {
    "duration": 53,
    "start_time": "2022-06-16T13:46:06.012Z"
   },
   {
    "duration": 26,
    "start_time": "2022-06-16T13:46:52.988Z"
   },
   {
    "duration": 32,
    "start_time": "2022-06-16T13:47:01.575Z"
   },
   {
    "duration": 59,
    "start_time": "2022-06-16T13:47:23.214Z"
   },
   {
    "duration": 604,
    "start_time": "2022-06-16T13:51:30.936Z"
   },
   {
    "duration": 455,
    "start_time": "2022-06-16T13:51:37.374Z"
   },
   {
    "duration": 57,
    "start_time": "2022-06-16T13:51:47.592Z"
   },
   {
    "duration": 53,
    "start_time": "2022-06-16T13:51:53.775Z"
   },
   {
    "duration": 73,
    "start_time": "2022-06-16T13:51:58.175Z"
   },
   {
    "duration": 55,
    "start_time": "2022-06-16T13:52:16.220Z"
   },
   {
    "duration": 357,
    "start_time": "2022-06-16T13:55:37.346Z"
   },
   {
    "duration": 168,
    "start_time": "2022-06-16T13:55:37.705Z"
   },
   {
    "duration": 21,
    "start_time": "2022-06-16T13:55:37.874Z"
   },
   {
    "duration": 28,
    "start_time": "2022-06-16T13:55:37.896Z"
   },
   {
    "duration": 20,
    "start_time": "2022-06-16T13:55:37.926Z"
   },
   {
    "duration": 141,
    "start_time": "2022-06-16T13:55:37.947Z"
   },
   {
    "duration": 11,
    "start_time": "2022-06-16T13:55:38.091Z"
   },
   {
    "duration": 5,
    "start_time": "2022-06-16T13:55:38.103Z"
   },
   {
    "duration": 23,
    "start_time": "2022-06-16T13:55:38.109Z"
   },
   {
    "duration": 19,
    "start_time": "2022-06-16T13:55:38.133Z"
   },
   {
    "duration": 121,
    "start_time": "2022-06-16T13:55:38.153Z"
   },
   {
    "duration": 24,
    "start_time": "2022-06-16T13:55:38.276Z"
   },
   {
    "duration": 16,
    "start_time": "2022-06-16T13:55:38.302Z"
   },
   {
    "duration": 23,
    "start_time": "2022-06-16T13:55:38.321Z"
   },
   {
    "duration": 38,
    "start_time": "2022-06-16T13:55:38.346Z"
   },
   {
    "duration": 5,
    "start_time": "2022-06-16T13:55:38.386Z"
   },
   {
    "duration": 18,
    "start_time": "2022-06-16T13:55:38.393Z"
   },
   {
    "duration": 27,
    "start_time": "2022-06-16T13:55:38.412Z"
   },
   {
    "duration": 5,
    "start_time": "2022-06-16T13:55:38.441Z"
   },
   {
    "duration": 25,
    "start_time": "2022-06-16T13:55:38.447Z"
   },
   {
    "duration": 76,
    "start_time": "2022-06-16T13:55:38.473Z"
   },
   {
    "duration": 13,
    "start_time": "2022-06-16T14:01:06.642Z"
   },
   {
    "duration": 17,
    "start_time": "2022-06-16T14:02:41.473Z"
   },
   {
    "duration": 32,
    "start_time": "2022-06-16T14:04:14.274Z"
   },
   {
    "duration": 91,
    "start_time": "2022-06-16T14:05:18.554Z"
   },
   {
    "duration": 45,
    "start_time": "2022-06-16T14:05:25.146Z"
   },
   {
    "duration": 51,
    "start_time": "2022-06-16T14:05:36.068Z"
   },
   {
    "duration": 384,
    "start_time": "2022-06-16T14:06:10.671Z"
   },
   {
    "duration": 164,
    "start_time": "2022-06-16T14:06:11.057Z"
   },
   {
    "duration": 13,
    "start_time": "2022-06-16T14:06:11.222Z"
   },
   {
    "duration": 28,
    "start_time": "2022-06-16T14:06:11.236Z"
   },
   {
    "duration": 35,
    "start_time": "2022-06-16T14:06:11.266Z"
   },
   {
    "duration": 128,
    "start_time": "2022-06-16T14:06:11.302Z"
   },
   {
    "duration": 11,
    "start_time": "2022-06-16T14:06:11.431Z"
   },
   {
    "duration": 5,
    "start_time": "2022-06-16T14:06:11.443Z"
   },
   {
    "duration": 24,
    "start_time": "2022-06-16T14:06:11.449Z"
   },
   {
    "duration": 31,
    "start_time": "2022-06-16T14:06:11.474Z"
   },
   {
    "duration": 95,
    "start_time": "2022-06-16T14:06:11.506Z"
   },
   {
    "duration": 16,
    "start_time": "2022-06-16T14:06:11.603Z"
   },
   {
    "duration": 16,
    "start_time": "2022-06-16T14:06:11.620Z"
   },
   {
    "duration": 23,
    "start_time": "2022-06-16T14:06:11.638Z"
   },
   {
    "duration": 37,
    "start_time": "2022-06-16T14:06:11.662Z"
   },
   {
    "duration": 5,
    "start_time": "2022-06-16T14:06:11.700Z"
   },
   {
    "duration": 19,
    "start_time": "2022-06-16T14:06:11.706Z"
   },
   {
    "duration": 20,
    "start_time": "2022-06-16T14:06:11.727Z"
   },
   {
    "duration": 6,
    "start_time": "2022-06-16T14:06:11.748Z"
   },
   {
    "duration": 38,
    "start_time": "2022-06-16T14:06:11.755Z"
   },
   {
    "duration": 54,
    "start_time": "2022-06-16T14:06:11.794Z"
   },
   {
    "duration": 13,
    "start_time": "2022-06-16T14:06:11.850Z"
   },
   {
    "duration": 39,
    "start_time": "2022-06-16T14:06:11.864Z"
   },
   {
    "duration": 30,
    "start_time": "2022-06-16T14:12:41.979Z"
   },
   {
    "duration": 388,
    "start_time": "2022-06-16T14:17:00.774Z"
   },
   {
    "duration": 174,
    "start_time": "2022-06-16T14:17:01.164Z"
   },
   {
    "duration": 13,
    "start_time": "2022-06-16T14:17:01.340Z"
   },
   {
    "duration": 39,
    "start_time": "2022-06-16T14:17:01.355Z"
   },
   {
    "duration": 21,
    "start_time": "2022-06-16T14:17:01.396Z"
   },
   {
    "duration": 138,
    "start_time": "2022-06-16T14:17:01.418Z"
   },
   {
    "duration": 11,
    "start_time": "2022-06-16T14:17:01.558Z"
   },
   {
    "duration": 7,
    "start_time": "2022-06-16T14:17:01.571Z"
   },
   {
    "duration": 47,
    "start_time": "2022-06-16T14:17:01.579Z"
   },
   {
    "duration": 19,
    "start_time": "2022-06-16T14:17:01.628Z"
   },
   {
    "duration": 98,
    "start_time": "2022-06-16T14:17:01.649Z"
   },
   {
    "duration": 16,
    "start_time": "2022-06-16T14:17:01.748Z"
   },
   {
    "duration": 27,
    "start_time": "2022-06-16T14:17:01.765Z"
   },
   {
    "duration": 25,
    "start_time": "2022-06-16T14:17:01.794Z"
   },
   {
    "duration": 38,
    "start_time": "2022-06-16T14:17:01.821Z"
   },
   {
    "duration": 5,
    "start_time": "2022-06-16T14:17:01.861Z"
   },
   {
    "duration": 17,
    "start_time": "2022-06-16T14:17:01.868Z"
   },
   {
    "duration": 27,
    "start_time": "2022-06-16T14:17:01.886Z"
   },
   {
    "duration": 5,
    "start_time": "2022-06-16T14:17:01.915Z"
   },
   {
    "duration": 64,
    "start_time": "2022-06-16T14:17:01.921Z"
   },
   {
    "duration": 0,
    "start_time": "2022-06-16T14:17:01.991Z"
   },
   {
    "duration": 0,
    "start_time": "2022-06-16T14:17:01.992Z"
   },
   {
    "duration": 0,
    "start_time": "2022-06-16T14:17:01.993Z"
   },
   {
    "duration": 0,
    "start_time": "2022-06-16T14:17:01.995Z"
   },
   {
    "duration": 0,
    "start_time": "2022-06-16T14:17:01.995Z"
   },
   {
    "duration": 364,
    "start_time": "2022-06-16T14:18:04.259Z"
   },
   {
    "duration": 163,
    "start_time": "2022-06-16T14:18:04.625Z"
   },
   {
    "duration": 13,
    "start_time": "2022-06-16T14:18:04.791Z"
   },
   {
    "duration": 27,
    "start_time": "2022-06-16T14:18:04.806Z"
   },
   {
    "duration": 19,
    "start_time": "2022-06-16T14:18:04.835Z"
   },
   {
    "duration": 138,
    "start_time": "2022-06-16T14:18:04.855Z"
   },
   {
    "duration": 11,
    "start_time": "2022-06-16T14:18:04.994Z"
   },
   {
    "duration": 4,
    "start_time": "2022-06-16T14:18:05.006Z"
   },
   {
    "duration": 21,
    "start_time": "2022-06-16T14:18:05.012Z"
   },
   {
    "duration": 18,
    "start_time": "2022-06-16T14:18:05.035Z"
   },
   {
    "duration": 109,
    "start_time": "2022-06-16T14:18:05.054Z"
   },
   {
    "duration": 16,
    "start_time": "2022-06-16T14:18:05.164Z"
   },
   {
    "duration": 22,
    "start_time": "2022-06-16T14:18:05.181Z"
   },
   {
    "duration": 23,
    "start_time": "2022-06-16T14:18:05.205Z"
   },
   {
    "duration": 35,
    "start_time": "2022-06-16T14:18:05.229Z"
   },
   {
    "duration": 4,
    "start_time": "2022-06-16T14:18:05.265Z"
   },
   {
    "duration": 17,
    "start_time": "2022-06-16T14:18:05.270Z"
   },
   {
    "duration": 20,
    "start_time": "2022-06-16T14:18:05.289Z"
   },
   {
    "duration": 5,
    "start_time": "2022-06-16T14:18:05.310Z"
   },
   {
    "duration": 19,
    "start_time": "2022-06-16T14:18:05.316Z"
   },
   {
    "duration": 18,
    "start_time": "2022-06-16T14:18:05.337Z"
   },
   {
    "duration": 63,
    "start_time": "2022-06-16T14:18:05.357Z"
   },
   {
    "duration": 13,
    "start_time": "2022-06-16T14:18:05.422Z"
   },
   {
    "duration": 16,
    "start_time": "2022-06-16T14:18:05.437Z"
   },
   {
    "duration": 50,
    "start_time": "2022-06-16T14:18:05.455Z"
   },
   {
    "duration": 15,
    "start_time": "2022-06-16T14:25:58.990Z"
   },
   {
    "duration": 19,
    "start_time": "2022-06-16T14:27:08.016Z"
   },
   {
    "duration": 29,
    "start_time": "2022-06-16T14:30:40.391Z"
   },
   {
    "duration": 61,
    "start_time": "2022-06-16T14:36:32.181Z"
   },
   {
    "duration": 4,
    "start_time": "2022-06-16T14:36:39.466Z"
   },
   {
    "duration": 4,
    "start_time": "2022-06-16T14:37:00.318Z"
   },
   {
    "duration": 13,
    "start_time": "2022-06-16T14:37:07.673Z"
   },
   {
    "duration": 6,
    "start_time": "2022-06-16T14:49:35.016Z"
   },
   {
    "duration": 13,
    "start_time": "2022-06-16T14:49:42.172Z"
   },
   {
    "duration": 54,
    "start_time": "2022-06-16T14:52:39.865Z"
   },
   {
    "duration": 43,
    "start_time": "2022-06-16T14:52:50.221Z"
   },
   {
    "duration": 28,
    "start_time": "2022-06-16T14:54:05.146Z"
   },
   {
    "duration": 11,
    "start_time": "2022-06-16T14:54:31.742Z"
   },
   {
    "duration": 32,
    "start_time": "2022-06-16T14:54:44.297Z"
   },
   {
    "duration": 7,
    "start_time": "2022-06-16T14:57:04.513Z"
   },
   {
    "duration": 29,
    "start_time": "2022-06-16T14:57:20.377Z"
   },
   {
    "duration": 1019,
    "start_time": "2022-06-16T15:53:50.558Z"
   },
   {
    "duration": 35,
    "start_time": "2022-06-16T15:54:09.671Z"
   },
   {
    "duration": 714,
    "start_time": "2022-06-16T15:54:56.450Z"
   },
   {
    "duration": 26,
    "start_time": "2022-06-16T15:57:10.106Z"
   },
   {
    "duration": 29,
    "start_time": "2022-06-16T15:57:18.283Z"
   },
   {
    "duration": 37,
    "start_time": "2022-06-16T15:58:37.933Z"
   },
   {
    "duration": 396,
    "start_time": "2022-06-16T16:01:29.279Z"
   },
   {
    "duration": 174,
    "start_time": "2022-06-16T16:01:29.676Z"
   },
   {
    "duration": 13,
    "start_time": "2022-06-16T16:01:29.851Z"
   },
   {
    "duration": 45,
    "start_time": "2022-06-16T16:01:29.866Z"
   },
   {
    "duration": 21,
    "start_time": "2022-06-16T16:01:29.913Z"
   },
   {
    "duration": 144,
    "start_time": "2022-06-16T16:01:29.935Z"
   },
   {
    "duration": 22,
    "start_time": "2022-06-16T16:01:30.080Z"
   },
   {
    "duration": 8,
    "start_time": "2022-06-16T16:01:30.103Z"
   },
   {
    "duration": 35,
    "start_time": "2022-06-16T16:01:30.113Z"
   },
   {
    "duration": 20,
    "start_time": "2022-06-16T16:01:30.150Z"
   },
   {
    "duration": 112,
    "start_time": "2022-06-16T16:01:30.172Z"
   },
   {
    "duration": 22,
    "start_time": "2022-06-16T16:01:30.286Z"
   },
   {
    "duration": 46,
    "start_time": "2022-06-16T16:01:30.310Z"
   },
   {
    "duration": 46,
    "start_time": "2022-06-16T16:01:30.357Z"
   },
   {
    "duration": 39,
    "start_time": "2022-06-16T16:01:30.404Z"
   },
   {
    "duration": 5,
    "start_time": "2022-06-16T16:01:30.444Z"
   },
   {
    "duration": 27,
    "start_time": "2022-06-16T16:01:30.451Z"
   },
   {
    "duration": 29,
    "start_time": "2022-06-16T16:01:30.479Z"
   },
   {
    "duration": 5,
    "start_time": "2022-06-16T16:01:30.510Z"
   },
   {
    "duration": 27,
    "start_time": "2022-06-16T16:01:30.517Z"
   },
   {
    "duration": 21,
    "start_time": "2022-06-16T16:01:30.545Z"
   },
   {
    "duration": 69,
    "start_time": "2022-06-16T16:01:30.568Z"
   },
   {
    "duration": 14,
    "start_time": "2022-06-16T16:01:30.638Z"
   },
   {
    "duration": 17,
    "start_time": "2022-06-16T16:01:30.653Z"
   },
   {
    "duration": 50,
    "start_time": "2022-06-16T16:01:30.672Z"
   },
   {
    "duration": 16,
    "start_time": "2022-06-16T16:01:30.723Z"
   },
   {
    "duration": 21,
    "start_time": "2022-06-16T16:01:30.740Z"
   },
   {
    "duration": 52,
    "start_time": "2022-06-16T16:01:30.763Z"
   },
   {
    "duration": 13,
    "start_time": "2022-06-16T16:01:30.816Z"
   },
   {
    "duration": 88,
    "start_time": "2022-06-16T16:01:30.830Z"
   },
   {
    "duration": 40,
    "start_time": "2022-06-17T09:54:25.882Z"
   },
   {
    "duration": 49,
    "start_time": "2022-06-17T09:54:29.944Z"
   },
   {
    "duration": 6,
    "start_time": "2022-06-17T09:54:39.491Z"
   },
   {
    "duration": 402,
    "start_time": "2022-06-17T09:54:46.126Z"
   },
   {
    "duration": 592,
    "start_time": "2022-06-17T09:54:46.530Z"
   },
   {
    "duration": 15,
    "start_time": "2022-06-17T09:54:47.123Z"
   },
   {
    "duration": 33,
    "start_time": "2022-06-17T09:54:47.140Z"
   },
   {
    "duration": 50,
    "start_time": "2022-06-17T09:54:47.176Z"
   },
   {
    "duration": 395,
    "start_time": "2022-06-17T09:54:47.228Z"
   },
   {
    "duration": 12,
    "start_time": "2022-06-17T09:54:47.625Z"
   },
   {
    "duration": 19,
    "start_time": "2022-06-17T09:54:47.639Z"
   },
   {
    "duration": 21,
    "start_time": "2022-06-17T09:54:47.660Z"
   },
   {
    "duration": 171,
    "start_time": "2022-06-17T09:54:47.682Z"
   },
   {
    "duration": 26,
    "start_time": "2022-06-17T09:54:47.855Z"
   },
   {
    "duration": 18,
    "start_time": "2022-06-17T09:54:47.883Z"
   },
   {
    "duration": 68,
    "start_time": "2022-06-17T09:54:47.903Z"
   },
   {
    "duration": 72,
    "start_time": "2022-06-17T09:54:47.973Z"
   },
   {
    "duration": 67,
    "start_time": "2022-06-17T09:54:48.047Z"
   },
   {
    "duration": 0,
    "start_time": "2022-06-17T09:54:48.115Z"
   },
   {
    "duration": 0,
    "start_time": "2022-06-17T09:54:48.116Z"
   },
   {
    "duration": 0,
    "start_time": "2022-06-17T09:54:48.118Z"
   },
   {
    "duration": 0,
    "start_time": "2022-06-17T09:54:48.126Z"
   },
   {
    "duration": 0,
    "start_time": "2022-06-17T09:54:48.127Z"
   },
   {
    "duration": 0,
    "start_time": "2022-06-17T09:54:48.129Z"
   },
   {
    "duration": 0,
    "start_time": "2022-06-17T09:54:48.131Z"
   },
   {
    "duration": 0,
    "start_time": "2022-06-17T09:54:48.132Z"
   },
   {
    "duration": 0,
    "start_time": "2022-06-17T09:54:48.133Z"
   },
   {
    "duration": 0,
    "start_time": "2022-06-17T09:54:48.135Z"
   },
   {
    "duration": 0,
    "start_time": "2022-06-17T09:54:48.136Z"
   },
   {
    "duration": 0,
    "start_time": "2022-06-17T09:54:48.137Z"
   },
   {
    "duration": 0,
    "start_time": "2022-06-17T09:54:48.139Z"
   },
   {
    "duration": 0,
    "start_time": "2022-06-17T09:54:48.140Z"
   },
   {
    "duration": 0,
    "start_time": "2022-06-17T09:54:48.141Z"
   },
   {
    "duration": 4,
    "start_time": "2022-06-17T09:55:07.642Z"
   },
   {
    "duration": 377,
    "start_time": "2022-06-17T09:55:20.204Z"
   },
   {
    "duration": 196,
    "start_time": "2022-06-17T09:55:20.582Z"
   },
   {
    "duration": 14,
    "start_time": "2022-06-17T09:55:20.780Z"
   },
   {
    "duration": 75,
    "start_time": "2022-06-17T09:55:20.795Z"
   },
   {
    "duration": 67,
    "start_time": "2022-06-17T09:55:20.872Z"
   },
   {
    "duration": 186,
    "start_time": "2022-06-17T09:55:20.941Z"
   },
   {
    "duration": 14,
    "start_time": "2022-06-17T09:55:21.129Z"
   },
   {
    "duration": 20,
    "start_time": "2022-06-17T09:55:21.145Z"
   },
   {
    "duration": 21,
    "start_time": "2022-06-17T09:55:21.167Z"
   },
   {
    "duration": 122,
    "start_time": "2022-06-17T09:55:21.190Z"
   },
   {
    "duration": 26,
    "start_time": "2022-06-17T09:55:21.314Z"
   },
   {
    "duration": 25,
    "start_time": "2022-06-17T09:55:21.342Z"
   },
   {
    "duration": 26,
    "start_time": "2022-06-17T09:55:21.368Z"
   },
   {
    "duration": 45,
    "start_time": "2022-06-17T09:55:21.396Z"
   },
   {
    "duration": 4,
    "start_time": "2022-06-17T09:55:21.443Z"
   },
   {
    "duration": 8,
    "start_time": "2022-06-17T09:55:21.448Z"
   },
   {
    "duration": 19,
    "start_time": "2022-06-17T09:55:21.458Z"
   },
   {
    "duration": 21,
    "start_time": "2022-06-17T09:55:21.478Z"
   },
   {
    "duration": 27,
    "start_time": "2022-06-17T09:55:21.501Z"
   },
   {
    "duration": 20,
    "start_time": "2022-06-17T09:55:21.530Z"
   },
   {
    "duration": 23,
    "start_time": "2022-06-17T09:55:21.552Z"
   },
   {
    "duration": 75,
    "start_time": "2022-06-17T09:55:21.576Z"
   },
   {
    "duration": 14,
    "start_time": "2022-06-17T09:55:21.652Z"
   },
   {
    "duration": 18,
    "start_time": "2022-06-17T09:55:21.667Z"
   },
   {
    "duration": 60,
    "start_time": "2022-06-17T09:55:21.686Z"
   },
   {
    "duration": 17,
    "start_time": "2022-06-17T09:55:21.748Z"
   },
   {
    "duration": 23,
    "start_time": "2022-06-17T09:55:21.767Z"
   },
   {
    "duration": 60,
    "start_time": "2022-06-17T09:55:21.792Z"
   },
   {
    "duration": 12,
    "start_time": "2022-06-17T09:55:21.854Z"
   },
   {
    "duration": 90,
    "start_time": "2022-06-17T09:55:21.868Z"
   },
   {
    "duration": 4,
    "start_time": "2022-06-17T09:58:24.263Z"
   },
   {
    "duration": 6,
    "start_time": "2022-06-17T10:00:46.544Z"
   },
   {
    "duration": 62,
    "start_time": "2022-06-17T10:11:21.187Z"
   },
   {
    "duration": 66,
    "start_time": "2022-06-17T10:11:25.921Z"
   },
   {
    "duration": 15,
    "start_time": "2022-06-17T10:11:50.567Z"
   },
   {
    "duration": 69,
    "start_time": "2022-06-17T10:11:54.881Z"
   },
   {
    "duration": 65,
    "start_time": "2022-06-17T10:12:46.667Z"
   },
   {
    "duration": 89,
    "start_time": "2022-06-17T10:13:47.818Z"
   },
   {
    "duration": 73,
    "start_time": "2022-06-17T10:13:54.089Z"
   },
   {
    "duration": 93,
    "start_time": "2022-06-17T10:14:00.963Z"
   },
   {
    "duration": 90,
    "start_time": "2022-06-17T10:15:39.538Z"
   },
   {
    "duration": 90,
    "start_time": "2022-06-17T10:21:42.252Z"
   },
   {
    "duration": 4,
    "start_time": "2022-06-17T10:26:00.089Z"
   },
   {
    "duration": 17,
    "start_time": "2022-06-17T10:26:18.486Z"
   },
   {
    "duration": 12,
    "start_time": "2022-06-17T10:26:23.779Z"
   },
   {
    "duration": 14,
    "start_time": "2022-06-17T10:26:45.895Z"
   },
   {
    "duration": 41,
    "start_time": "2022-06-17T10:31:55.935Z"
   },
   {
    "duration": 51,
    "start_time": "2022-06-17T10:34:13.437Z"
   },
   {
    "duration": 13,
    "start_time": "2022-06-17T10:37:31.155Z"
   },
   {
    "duration": 395,
    "start_time": "2022-06-17T10:37:39.184Z"
   },
   {
    "duration": 182,
    "start_time": "2022-06-17T10:37:39.581Z"
   },
   {
    "duration": 14,
    "start_time": "2022-06-17T10:37:39.764Z"
   },
   {
    "duration": 46,
    "start_time": "2022-06-17T10:37:39.780Z"
   },
   {
    "duration": 21,
    "start_time": "2022-06-17T10:37:39.828Z"
   },
   {
    "duration": 142,
    "start_time": "2022-06-17T10:37:39.850Z"
   },
   {
    "duration": 12,
    "start_time": "2022-06-17T10:37:39.994Z"
   },
   {
    "duration": 40,
    "start_time": "2022-06-17T10:37:40.008Z"
   },
   {
    "duration": 24,
    "start_time": "2022-06-17T10:37:40.049Z"
   },
   {
    "duration": 128,
    "start_time": "2022-06-17T10:37:40.076Z"
   },
   {
    "duration": 26,
    "start_time": "2022-06-17T10:37:40.205Z"
   },
   {
    "duration": 20,
    "start_time": "2022-06-17T10:37:40.232Z"
   },
   {
    "duration": 31,
    "start_time": "2022-06-17T10:37:40.254Z"
   },
   {
    "duration": 41,
    "start_time": "2022-06-17T10:37:40.287Z"
   },
   {
    "duration": 4,
    "start_time": "2022-06-17T10:37:40.330Z"
   },
   {
    "duration": 7,
    "start_time": "2022-06-17T10:37:40.335Z"
   },
   {
    "duration": 19,
    "start_time": "2022-06-17T10:37:40.344Z"
   },
   {
    "duration": 126,
    "start_time": "2022-06-17T10:37:40.364Z"
   },
   {
    "duration": 54,
    "start_time": "2022-06-17T10:37:40.492Z"
   },
   {
    "duration": 12,
    "start_time": "2022-06-17T10:37:40.548Z"
   },
   {
    "duration": 23,
    "start_time": "2022-06-17T10:37:40.561Z"
   },
   {
    "duration": 5,
    "start_time": "2022-06-17T10:37:40.585Z"
   },
   {
    "duration": 40,
    "start_time": "2022-06-17T10:37:40.592Z"
   },
   {
    "duration": 22,
    "start_time": "2022-06-17T10:37:40.634Z"
   },
   {
    "duration": 39,
    "start_time": "2022-06-17T10:37:40.658Z"
   },
   {
    "duration": 37,
    "start_time": "2022-06-17T10:37:40.698Z"
   },
   {
    "duration": 23,
    "start_time": "2022-06-17T10:37:40.737Z"
   },
   {
    "duration": 30,
    "start_time": "2022-06-17T10:37:40.763Z"
   },
   {
    "duration": 38,
    "start_time": "2022-06-17T10:37:40.795Z"
   },
   {
    "duration": 29,
    "start_time": "2022-06-17T10:37:40.835Z"
   },
   {
    "duration": 37,
    "start_time": "2022-06-17T10:37:40.866Z"
   },
   {
    "duration": 14,
    "start_time": "2022-06-17T10:37:40.925Z"
   },
   {
    "duration": 88,
    "start_time": "2022-06-17T10:37:40.941Z"
   },
   {
    "duration": 20,
    "start_time": "2022-06-17T10:38:18.502Z"
   },
   {
    "duration": 12,
    "start_time": "2022-06-17T10:38:25.088Z"
   },
   {
    "duration": 12,
    "start_time": "2022-06-17T10:39:44.633Z"
   },
   {
    "duration": 86,
    "start_time": "2022-06-17T10:41:11.638Z"
   },
   {
    "duration": 51,
    "start_time": "2022-06-17T10:41:21.788Z"
   },
   {
    "duration": 390,
    "start_time": "2022-06-17T10:44:03.940Z"
   },
   {
    "duration": 189,
    "start_time": "2022-06-17T10:44:04.332Z"
   },
   {
    "duration": 15,
    "start_time": "2022-06-17T10:44:04.526Z"
   },
   {
    "duration": 31,
    "start_time": "2022-06-17T10:44:04.543Z"
   },
   {
    "duration": 25,
    "start_time": "2022-06-17T10:44:04.576Z"
   },
   {
    "duration": 147,
    "start_time": "2022-06-17T10:44:04.626Z"
   },
   {
    "duration": 11,
    "start_time": "2022-06-17T10:44:04.776Z"
   },
   {
    "duration": 37,
    "start_time": "2022-06-17T10:44:04.789Z"
   },
   {
    "duration": 21,
    "start_time": "2022-06-17T10:44:04.828Z"
   },
   {
    "duration": 105,
    "start_time": "2022-06-17T10:44:04.851Z"
   },
   {
    "duration": 17,
    "start_time": "2022-06-17T10:44:04.957Z"
   },
   {
    "duration": 17,
    "start_time": "2022-06-17T10:44:04.975Z"
   },
   {
    "duration": 33,
    "start_time": "2022-06-17T10:44:04.993Z"
   },
   {
    "duration": 41,
    "start_time": "2022-06-17T10:44:05.028Z"
   },
   {
    "duration": 4,
    "start_time": "2022-06-17T10:44:05.070Z"
   },
   {
    "duration": 10,
    "start_time": "2022-06-17T10:44:05.076Z"
   },
   {
    "duration": 23,
    "start_time": "2022-06-17T10:44:05.087Z"
   },
   {
    "duration": 105,
    "start_time": "2022-06-17T10:44:05.112Z"
   },
   {
    "duration": 51,
    "start_time": "2022-06-17T10:44:05.219Z"
   },
   {
    "duration": 12,
    "start_time": "2022-06-17T10:44:05.271Z"
   },
   {
    "duration": 57,
    "start_time": "2022-06-17T10:44:05.285Z"
   },
   {
    "duration": 21,
    "start_time": "2022-06-17T10:44:05.343Z"
   },
   {
    "duration": 5,
    "start_time": "2022-06-17T10:44:05.365Z"
   },
   {
    "duration": 19,
    "start_time": "2022-06-17T10:44:05.371Z"
   },
   {
    "duration": 37,
    "start_time": "2022-06-17T10:44:05.391Z"
   },
   {
    "duration": 41,
    "start_time": "2022-06-17T10:44:05.430Z"
   },
   {
    "duration": 15,
    "start_time": "2022-06-17T10:44:05.473Z"
   },
   {
    "duration": 44,
    "start_time": "2022-06-17T10:44:05.492Z"
   },
   {
    "duration": 30,
    "start_time": "2022-06-17T10:44:05.538Z"
   },
   {
    "duration": 16,
    "start_time": "2022-06-17T10:44:05.570Z"
   },
   {
    "duration": 65,
    "start_time": "2022-06-17T10:44:05.588Z"
   },
   {
    "duration": 28,
    "start_time": "2022-06-17T10:44:05.655Z"
   },
   {
    "duration": 13,
    "start_time": "2022-06-17T10:44:05.685Z"
   },
   {
    "duration": 87,
    "start_time": "2022-06-17T10:44:05.699Z"
   },
   {
    "duration": 30,
    "start_time": "2022-06-17T10:45:57.611Z"
   },
   {
    "duration": 384,
    "start_time": "2022-06-17T10:46:04.942Z"
   },
   {
    "duration": 198,
    "start_time": "2022-06-17T10:46:05.328Z"
   },
   {
    "duration": 17,
    "start_time": "2022-06-17T10:46:05.527Z"
   },
   {
    "duration": 34,
    "start_time": "2022-06-17T10:46:05.545Z"
   },
   {
    "duration": 46,
    "start_time": "2022-06-17T10:46:05.581Z"
   },
   {
    "duration": 149,
    "start_time": "2022-06-17T10:46:05.629Z"
   },
   {
    "duration": 13,
    "start_time": "2022-06-17T10:46:05.780Z"
   },
   {
    "duration": 40,
    "start_time": "2022-06-17T10:46:05.795Z"
   },
   {
    "duration": 21,
    "start_time": "2022-06-17T10:46:05.837Z"
   },
   {
    "duration": 113,
    "start_time": "2022-06-17T10:46:05.860Z"
   },
   {
    "duration": 16,
    "start_time": "2022-06-17T10:46:05.975Z"
   },
   {
    "duration": 34,
    "start_time": "2022-06-17T10:46:05.993Z"
   },
   {
    "duration": 26,
    "start_time": "2022-06-17T10:46:06.029Z"
   },
   {
    "duration": 41,
    "start_time": "2022-06-17T10:46:06.058Z"
   },
   {
    "duration": 4,
    "start_time": "2022-06-17T10:46:06.101Z"
   },
   {
    "duration": 10,
    "start_time": "2022-06-17T10:46:06.107Z"
   },
   {
    "duration": 22,
    "start_time": "2022-06-17T10:46:06.118Z"
   },
   {
    "duration": 112,
    "start_time": "2022-06-17T10:46:06.141Z"
   },
   {
    "duration": 40,
    "start_time": "2022-06-17T10:46:06.255Z"
   },
   {
    "duration": 14,
    "start_time": "2022-06-17T10:46:06.297Z"
   },
   {
    "duration": 59,
    "start_time": "2022-06-17T10:46:06.313Z"
   },
   {
    "duration": 21,
    "start_time": "2022-06-17T10:46:06.374Z"
   },
   {
    "duration": 5,
    "start_time": "2022-06-17T10:46:06.397Z"
   },
   {
    "duration": 15,
    "start_time": "2022-06-17T10:46:06.425Z"
   },
   {
    "duration": 24,
    "start_time": "2022-06-17T10:46:06.441Z"
   },
   {
    "duration": 76,
    "start_time": "2022-06-17T10:46:06.468Z"
   },
   {
    "duration": 16,
    "start_time": "2022-06-17T10:46:06.546Z"
   },
   {
    "duration": 27,
    "start_time": "2022-06-17T10:46:06.564Z"
   },
   {
    "duration": 55,
    "start_time": "2022-06-17T10:46:06.592Z"
   },
   {
    "duration": 18,
    "start_time": "2022-06-17T10:46:06.649Z"
   },
   {
    "duration": 74,
    "start_time": "2022-06-17T10:46:06.668Z"
   },
   {
    "duration": 39,
    "start_time": "2022-06-17T10:46:06.744Z"
   },
   {
    "duration": 16,
    "start_time": "2022-06-17T10:46:06.785Z"
   },
   {
    "duration": 146,
    "start_time": "2022-06-17T10:46:06.802Z"
   },
   {
    "duration": 32,
    "start_time": "2022-06-17T10:47:46.946Z"
   },
   {
    "duration": 38,
    "start_time": "2022-06-17T10:48:26.537Z"
   },
   {
    "duration": 421,
    "start_time": "2022-06-17T10:49:06.336Z"
   },
   {
    "duration": 176,
    "start_time": "2022-06-17T10:49:06.758Z"
   },
   {
    "duration": 13,
    "start_time": "2022-06-17T10:49:06.936Z"
   },
   {
    "duration": 32,
    "start_time": "2022-06-17T10:49:06.951Z"
   },
   {
    "duration": 42,
    "start_time": "2022-06-17T10:49:06.985Z"
   },
   {
    "duration": 146,
    "start_time": "2022-06-17T10:49:07.028Z"
   },
   {
    "duration": 13,
    "start_time": "2022-06-17T10:49:07.175Z"
   },
   {
    "duration": 36,
    "start_time": "2022-06-17T10:49:07.189Z"
   },
   {
    "duration": 24,
    "start_time": "2022-06-17T10:49:07.227Z"
   },
   {
    "duration": 106,
    "start_time": "2022-06-17T10:49:07.255Z"
   },
   {
    "duration": 18,
    "start_time": "2022-06-17T10:49:07.363Z"
   },
   {
    "duration": 18,
    "start_time": "2022-06-17T10:49:07.382Z"
   },
   {
    "duration": 35,
    "start_time": "2022-06-17T10:49:07.402Z"
   },
   {
    "duration": 39,
    "start_time": "2022-06-17T10:49:07.439Z"
   },
   {
    "duration": 4,
    "start_time": "2022-06-17T10:49:07.480Z"
   },
   {
    "duration": 7,
    "start_time": "2022-06-17T10:49:07.486Z"
   },
   {
    "duration": 26,
    "start_time": "2022-06-17T10:49:07.495Z"
   },
   {
    "duration": 110,
    "start_time": "2022-06-17T10:49:07.522Z"
   },
   {
    "duration": 39,
    "start_time": "2022-06-17T10:49:07.634Z"
   },
   {
    "duration": 11,
    "start_time": "2022-06-17T10:49:07.675Z"
   },
   {
    "duration": 61,
    "start_time": "2022-06-17T10:49:07.688Z"
   },
   {
    "duration": 20,
    "start_time": "2022-06-17T10:49:07.750Z"
   },
   {
    "duration": 7,
    "start_time": "2022-06-17T10:49:07.771Z"
   },
   {
    "duration": 34,
    "start_time": "2022-06-17T10:49:07.779Z"
   },
   {
    "duration": 39,
    "start_time": "2022-06-17T10:49:07.815Z"
   },
   {
    "duration": 78,
    "start_time": "2022-06-17T10:49:07.856Z"
   },
   {
    "duration": 14,
    "start_time": "2022-06-17T10:49:07.936Z"
   },
   {
    "duration": 31,
    "start_time": "2022-06-17T10:49:07.953Z"
   },
   {
    "duration": 46,
    "start_time": "2022-06-17T10:49:07.986Z"
   },
   {
    "duration": 24,
    "start_time": "2022-06-17T10:49:08.033Z"
   },
   {
    "duration": 52,
    "start_time": "2022-06-17T10:49:08.059Z"
   },
   {
    "duration": 28,
    "start_time": "2022-06-17T10:49:08.112Z"
   },
   {
    "duration": 13,
    "start_time": "2022-06-17T10:49:08.141Z"
   },
   {
    "duration": 86,
    "start_time": "2022-06-17T10:49:08.155Z"
   },
   {
    "duration": 330,
    "start_time": "2022-06-17T10:50:54.276Z"
   },
   {
    "duration": 180,
    "start_time": "2022-06-17T10:50:54.608Z"
   },
   {
    "duration": 15,
    "start_time": "2022-06-17T10:50:54.790Z"
   },
   {
    "duration": 38,
    "start_time": "2022-06-17T10:50:54.807Z"
   },
   {
    "duration": 21,
    "start_time": "2022-06-17T10:50:54.846Z"
   },
   {
    "duration": 147,
    "start_time": "2022-06-17T10:50:54.868Z"
   },
   {
    "duration": 18,
    "start_time": "2022-06-17T10:50:55.017Z"
   },
   {
    "duration": 30,
    "start_time": "2022-06-17T10:50:55.037Z"
   },
   {
    "duration": 21,
    "start_time": "2022-06-17T10:50:55.069Z"
   },
   {
    "duration": 112,
    "start_time": "2022-06-17T10:50:55.093Z"
   },
   {
    "duration": 24,
    "start_time": "2022-06-17T10:50:55.207Z"
   },
   {
    "duration": 18,
    "start_time": "2022-06-17T10:50:55.233Z"
   },
   {
    "duration": 25,
    "start_time": "2022-06-17T10:50:55.252Z"
   },
   {
    "duration": 41,
    "start_time": "2022-06-17T10:50:55.279Z"
   },
   {
    "duration": 4,
    "start_time": "2022-06-17T10:50:55.321Z"
   },
   {
    "duration": 14,
    "start_time": "2022-06-17T10:50:55.327Z"
   },
   {
    "duration": 22,
    "start_time": "2022-06-17T10:50:55.343Z"
   },
   {
    "duration": 104,
    "start_time": "2022-06-17T10:50:55.367Z"
   },
   {
    "duration": 39,
    "start_time": "2022-06-17T10:50:55.472Z"
   },
   {
    "duration": 21,
    "start_time": "2022-06-17T10:50:55.513Z"
   },
   {
    "duration": 59,
    "start_time": "2022-06-17T10:50:55.536Z"
   },
   {
    "duration": 31,
    "start_time": "2022-06-17T10:50:55.597Z"
   },
   {
    "duration": 4,
    "start_time": "2022-06-17T10:50:55.629Z"
   },
   {
    "duration": 23,
    "start_time": "2022-06-17T10:50:55.635Z"
   },
   {
    "duration": 36,
    "start_time": "2022-06-17T10:50:55.660Z"
   },
   {
    "duration": 39,
    "start_time": "2022-06-17T10:50:55.698Z"
   },
   {
    "duration": 13,
    "start_time": "2022-06-17T10:50:55.739Z"
   },
   {
    "duration": 17,
    "start_time": "2022-06-17T10:50:55.754Z"
   },
   {
    "duration": 26,
    "start_time": "2022-06-17T10:50:55.773Z"
   },
   {
    "duration": 34,
    "start_time": "2022-06-17T10:50:55.801Z"
   },
   {
    "duration": 39,
    "start_time": "2022-06-17T10:50:55.837Z"
   },
   {
    "duration": 52,
    "start_time": "2022-06-17T10:50:55.878Z"
   },
   {
    "duration": 15,
    "start_time": "2022-06-17T10:50:55.932Z"
   },
   {
    "duration": 121,
    "start_time": "2022-06-17T10:50:55.948Z"
   },
   {
    "duration": 9,
    "start_time": "2022-06-17T10:53:39.129Z"
   },
   {
    "duration": 26,
    "start_time": "2022-06-17T10:54:15.921Z"
   },
   {
    "duration": 39,
    "start_time": "2022-06-17T10:56:17.517Z"
   },
   {
    "duration": 8,
    "start_time": "2022-06-17T10:56:27.108Z"
   },
   {
    "duration": 35,
    "start_time": "2022-06-17T10:57:18.083Z"
   },
   {
    "duration": 23,
    "start_time": "2022-06-17T10:57:29.854Z"
   },
   {
    "duration": 24,
    "start_time": "2022-06-17T10:57:38.712Z"
   },
   {
    "duration": 373,
    "start_time": "2022-06-17T11:02:24.691Z"
   },
   {
    "duration": 193,
    "start_time": "2022-06-17T11:02:25.066Z"
   },
   {
    "duration": 14,
    "start_time": "2022-06-17T11:02:25.260Z"
   },
   {
    "duration": 28,
    "start_time": "2022-06-17T11:02:25.276Z"
   },
   {
    "duration": 40,
    "start_time": "2022-06-17T11:02:25.306Z"
   },
   {
    "duration": 155,
    "start_time": "2022-06-17T11:02:25.348Z"
   },
   {
    "duration": 11,
    "start_time": "2022-06-17T11:02:25.505Z"
   },
   {
    "duration": 31,
    "start_time": "2022-06-17T11:02:25.526Z"
   },
   {
    "duration": 21,
    "start_time": "2022-06-17T11:02:25.558Z"
   },
   {
    "duration": 113,
    "start_time": "2022-06-17T11:02:25.581Z"
   },
   {
    "duration": 16,
    "start_time": "2022-06-17T11:02:25.695Z"
   },
   {
    "duration": 36,
    "start_time": "2022-06-17T11:02:25.712Z"
   },
   {
    "duration": 26,
    "start_time": "2022-06-17T11:02:25.752Z"
   },
   {
    "duration": 38,
    "start_time": "2022-06-17T11:02:25.780Z"
   },
   {
    "duration": 3,
    "start_time": "2022-06-17T11:02:25.820Z"
   },
   {
    "duration": 9,
    "start_time": "2022-06-17T11:02:25.825Z"
   },
   {
    "duration": 23,
    "start_time": "2022-06-17T11:02:25.836Z"
   },
   {
    "duration": 120,
    "start_time": "2022-06-17T11:02:25.860Z"
   },
   {
    "duration": 36,
    "start_time": "2022-06-17T11:02:25.981Z"
   },
   {
    "duration": 19,
    "start_time": "2022-06-17T11:02:26.018Z"
   },
   {
    "duration": 41,
    "start_time": "2022-06-17T11:02:26.039Z"
   },
   {
    "duration": 20,
    "start_time": "2022-06-17T11:02:26.082Z"
   },
   {
    "duration": 25,
    "start_time": "2022-06-17T11:02:26.103Z"
   },
   {
    "duration": 23,
    "start_time": "2022-06-17T11:02:26.129Z"
   },
   {
    "duration": 23,
    "start_time": "2022-06-17T11:02:26.153Z"
   },
   {
    "duration": 56,
    "start_time": "2022-06-17T11:02:26.177Z"
   },
   {
    "duration": 17,
    "start_time": "2022-06-17T11:02:26.235Z"
   },
   {
    "duration": 17,
    "start_time": "2022-06-17T11:02:26.253Z"
   },
   {
    "duration": 27,
    "start_time": "2022-06-17T11:02:26.271Z"
   },
   {
    "duration": 43,
    "start_time": "2022-06-17T11:02:26.299Z"
   },
   {
    "duration": 41,
    "start_time": "2022-06-17T11:02:26.344Z"
   },
   {
    "duration": 49,
    "start_time": "2022-06-17T11:02:26.387Z"
   },
   {
    "duration": 17,
    "start_time": "2022-06-17T11:02:26.438Z"
   },
   {
    "duration": 103,
    "start_time": "2022-06-17T11:02:26.456Z"
   },
   {
    "duration": 63,
    "start_time": "2022-06-17T11:19:14.434Z"
   },
   {
    "duration": 8,
    "start_time": "2022-06-17T11:19:19.788Z"
   },
   {
    "duration": 42,
    "start_time": "2022-06-17T11:19:32.337Z"
   },
   {
    "duration": 24,
    "start_time": "2022-06-17T11:21:50.520Z"
   },
   {
    "duration": 12,
    "start_time": "2022-06-17T11:22:02.674Z"
   },
   {
    "duration": 37,
    "start_time": "2022-06-17T11:22:48.584Z"
   },
   {
    "duration": 35,
    "start_time": "2022-06-17T11:23:28.266Z"
   },
   {
    "duration": 365,
    "start_time": "2022-06-17T11:23:40.785Z"
   },
   {
    "duration": 184,
    "start_time": "2022-06-17T11:23:41.151Z"
   },
   {
    "duration": 15,
    "start_time": "2022-06-17T11:23:41.337Z"
   },
   {
    "duration": 30,
    "start_time": "2022-06-17T11:23:41.354Z"
   },
   {
    "duration": 46,
    "start_time": "2022-06-17T11:23:41.387Z"
   },
   {
    "duration": 143,
    "start_time": "2022-06-17T11:23:41.436Z"
   },
   {
    "duration": 12,
    "start_time": "2022-06-17T11:23:41.581Z"
   },
   {
    "duration": 41,
    "start_time": "2022-06-17T11:23:41.595Z"
   },
   {
    "duration": 25,
    "start_time": "2022-06-17T11:23:41.638Z"
   },
   {
    "duration": 109,
    "start_time": "2022-06-17T11:23:41.665Z"
   },
   {
    "duration": 16,
    "start_time": "2022-06-17T11:23:41.776Z"
   },
   {
    "duration": 17,
    "start_time": "2022-06-17T11:23:41.794Z"
   },
   {
    "duration": 31,
    "start_time": "2022-06-17T11:23:41.826Z"
   },
   {
    "duration": 41,
    "start_time": "2022-06-17T11:23:41.861Z"
   },
   {
    "duration": 3,
    "start_time": "2022-06-17T11:23:41.904Z"
   },
   {
    "duration": 7,
    "start_time": "2022-06-17T11:23:41.909Z"
   },
   {
    "duration": 27,
    "start_time": "2022-06-17T11:23:41.917Z"
   },
   {
    "duration": 117,
    "start_time": "2022-06-17T11:23:41.946Z"
   },
   {
    "duration": 40,
    "start_time": "2022-06-17T11:23:42.065Z"
   },
   {
    "duration": 25,
    "start_time": "2022-06-17T11:23:42.106Z"
   },
   {
    "duration": 48,
    "start_time": "2022-06-17T11:23:42.133Z"
   },
   {
    "duration": 20,
    "start_time": "2022-06-17T11:23:42.182Z"
   },
   {
    "duration": 29,
    "start_time": "2022-06-17T11:23:42.204Z"
   },
   {
    "duration": 27,
    "start_time": "2022-06-17T11:23:42.235Z"
   },
   {
    "duration": 22,
    "start_time": "2022-06-17T11:23:42.264Z"
   },
   {
    "duration": 56,
    "start_time": "2022-06-17T11:23:42.287Z"
   },
   {
    "duration": 15,
    "start_time": "2022-06-17T11:23:42.346Z"
   },
   {
    "duration": 19,
    "start_time": "2022-06-17T11:23:42.363Z"
   },
   {
    "duration": 51,
    "start_time": "2022-06-17T11:23:42.383Z"
   },
   {
    "duration": 19,
    "start_time": "2022-06-17T11:23:42.435Z"
   },
   {
    "duration": 38,
    "start_time": "2022-06-17T11:23:42.456Z"
   },
   {
    "duration": 54,
    "start_time": "2022-06-17T11:23:42.495Z"
   },
   {
    "duration": 13,
    "start_time": "2022-06-17T11:23:42.550Z"
   },
   {
    "duration": 87,
    "start_time": "2022-06-17T11:23:42.564Z"
   },
   {
    "duration": 54,
    "start_time": "2022-06-17T11:23:42.652Z"
   },
   {
    "duration": 0,
    "start_time": "2022-06-17T11:23:42.708Z"
   },
   {
    "duration": 9,
    "start_time": "2022-06-17T11:24:09.846Z"
   },
   {
    "duration": 24,
    "start_time": "2022-06-17T11:24:43.528Z"
   },
   {
    "duration": 25,
    "start_time": "2022-06-17T11:24:55.591Z"
   },
   {
    "duration": 332,
    "start_time": "2022-06-17T11:25:03.280Z"
   },
   {
    "duration": 174,
    "start_time": "2022-06-17T11:25:03.614Z"
   },
   {
    "duration": 15,
    "start_time": "2022-06-17T11:25:03.790Z"
   },
   {
    "duration": 43,
    "start_time": "2022-06-17T11:25:03.807Z"
   },
   {
    "duration": 21,
    "start_time": "2022-06-17T11:25:03.852Z"
   },
   {
    "duration": 162,
    "start_time": "2022-06-17T11:25:03.875Z"
   },
   {
    "duration": 12,
    "start_time": "2022-06-17T11:25:04.040Z"
   },
   {
    "duration": 23,
    "start_time": "2022-06-17T11:25:04.053Z"
   },
   {
    "duration": 20,
    "start_time": "2022-06-17T11:25:04.078Z"
   },
   {
    "duration": 115,
    "start_time": "2022-06-17T11:25:04.100Z"
   },
   {
    "duration": 20,
    "start_time": "2022-06-17T11:25:04.217Z"
   },
   {
    "duration": 28,
    "start_time": "2022-06-17T11:25:04.239Z"
   },
   {
    "duration": 29,
    "start_time": "2022-06-17T11:25:04.269Z"
   },
   {
    "duration": 45,
    "start_time": "2022-06-17T11:25:04.301Z"
   },
   {
    "duration": 4,
    "start_time": "2022-06-17T11:25:04.349Z"
   },
   {
    "duration": 13,
    "start_time": "2022-06-17T11:25:04.355Z"
   },
   {
    "duration": 32,
    "start_time": "2022-06-17T11:25:04.370Z"
   },
   {
    "duration": 121,
    "start_time": "2022-06-17T11:25:04.404Z"
   },
   {
    "duration": 45,
    "start_time": "2022-06-17T11:25:04.529Z"
   },
   {
    "duration": 11,
    "start_time": "2022-06-17T11:25:04.575Z"
   },
   {
    "duration": 64,
    "start_time": "2022-06-17T11:25:04.587Z"
   },
   {
    "duration": 21,
    "start_time": "2022-06-17T11:25:04.652Z"
   },
   {
    "duration": 5,
    "start_time": "2022-06-17T11:25:04.674Z"
   },
   {
    "duration": 18,
    "start_time": "2022-06-17T11:25:04.680Z"
   },
   {
    "duration": 45,
    "start_time": "2022-06-17T11:25:04.700Z"
   },
   {
    "duration": 44,
    "start_time": "2022-06-17T11:25:04.747Z"
   },
   {
    "duration": 16,
    "start_time": "2022-06-17T11:25:04.793Z"
   },
   {
    "duration": 27,
    "start_time": "2022-06-17T11:25:04.830Z"
   },
   {
    "duration": 27,
    "start_time": "2022-06-17T11:25:04.859Z"
   },
   {
    "duration": 15,
    "start_time": "2022-06-17T11:25:04.888Z"
   },
   {
    "duration": 72,
    "start_time": "2022-06-17T11:25:04.905Z"
   },
   {
    "duration": 28,
    "start_time": "2022-06-17T11:25:04.978Z"
   },
   {
    "duration": 29,
    "start_time": "2022-06-17T11:25:05.008Z"
   },
   {
    "duration": 87,
    "start_time": "2022-06-17T11:25:05.039Z"
   },
   {
    "duration": 18,
    "start_time": "2022-06-17T11:25:05.128Z"
   },
   {
    "duration": 24,
    "start_time": "2022-06-17T11:25:05.148Z"
   },
   {
    "duration": 417,
    "start_time": "2022-06-17T11:25:39.811Z"
   },
   {
    "duration": 197,
    "start_time": "2022-06-17T11:25:40.230Z"
   },
   {
    "duration": 20,
    "start_time": "2022-06-17T11:25:40.428Z"
   },
   {
    "duration": 31,
    "start_time": "2022-06-17T11:25:40.450Z"
   },
   {
    "duration": 47,
    "start_time": "2022-06-17T11:25:40.482Z"
   },
   {
    "duration": 155,
    "start_time": "2022-06-17T11:25:40.531Z"
   },
   {
    "duration": 11,
    "start_time": "2022-06-17T11:25:40.687Z"
   },
   {
    "duration": 31,
    "start_time": "2022-06-17T11:25:40.700Z"
   },
   {
    "duration": 29,
    "start_time": "2022-06-17T11:25:40.732Z"
   },
   {
    "duration": 129,
    "start_time": "2022-06-17T11:25:40.764Z"
   },
   {
    "duration": 18,
    "start_time": "2022-06-17T11:25:40.895Z"
   },
   {
    "duration": 28,
    "start_time": "2022-06-17T11:25:40.925Z"
   },
   {
    "duration": 26,
    "start_time": "2022-06-17T11:25:40.955Z"
   },
   {
    "duration": 39,
    "start_time": "2022-06-17T11:25:40.983Z"
   },
   {
    "duration": 4,
    "start_time": "2022-06-17T11:25:41.023Z"
   },
   {
    "duration": 15,
    "start_time": "2022-06-17T11:25:41.030Z"
   },
   {
    "duration": 21,
    "start_time": "2022-06-17T11:25:41.048Z"
   },
   {
    "duration": 113,
    "start_time": "2022-06-17T11:25:41.070Z"
   },
   {
    "duration": 47,
    "start_time": "2022-06-17T11:25:41.185Z"
   },
   {
    "duration": 17,
    "start_time": "2022-06-17T11:25:41.235Z"
   },
   {
    "duration": 43,
    "start_time": "2022-06-17T11:25:41.253Z"
   },
   {
    "duration": 47,
    "start_time": "2022-06-17T11:25:41.298Z"
   },
   {
    "duration": 5,
    "start_time": "2022-06-17T11:25:41.346Z"
   },
   {
    "duration": 16,
    "start_time": "2022-06-17T11:25:41.353Z"
   },
   {
    "duration": 22,
    "start_time": "2022-06-17T11:25:41.370Z"
   },
   {
    "duration": 65,
    "start_time": "2022-06-17T11:25:41.393Z"
   },
   {
    "duration": 14,
    "start_time": "2022-06-17T11:25:41.460Z"
   },
   {
    "duration": 19,
    "start_time": "2022-06-17T11:25:41.477Z"
   },
   {
    "duration": 65,
    "start_time": "2022-06-17T11:25:41.497Z"
   },
   {
    "duration": 17,
    "start_time": "2022-06-17T11:25:41.563Z"
   },
   {
    "duration": 54,
    "start_time": "2022-06-17T11:25:41.581Z"
   },
   {
    "duration": 30,
    "start_time": "2022-06-17T11:25:41.637Z"
   },
   {
    "duration": 13,
    "start_time": "2022-06-17T11:25:41.669Z"
   },
   {
    "duration": 105,
    "start_time": "2022-06-17T11:25:41.684Z"
   },
   {
    "duration": 15,
    "start_time": "2022-06-17T11:25:41.791Z"
   },
   {
    "duration": 42,
    "start_time": "2022-06-17T11:25:41.807Z"
   },
   {
    "duration": 473,
    "start_time": "2022-06-17T11:27:05.378Z"
   },
   {
    "duration": 27,
    "start_time": "2022-06-17T11:27:19.834Z"
   },
   {
    "duration": 375,
    "start_time": "2022-06-17T11:27:33.971Z"
   },
   {
    "duration": 193,
    "start_time": "2022-06-17T11:27:34.349Z"
   },
   {
    "duration": 16,
    "start_time": "2022-06-17T11:27:34.544Z"
   },
   {
    "duration": 31,
    "start_time": "2022-06-17T11:27:34.562Z"
   },
   {
    "duration": 38,
    "start_time": "2022-06-17T11:27:34.594Z"
   },
   {
    "duration": 151,
    "start_time": "2022-06-17T11:27:34.634Z"
   },
   {
    "duration": 12,
    "start_time": "2022-06-17T11:27:34.786Z"
   },
   {
    "duration": 35,
    "start_time": "2022-06-17T11:27:34.800Z"
   },
   {
    "duration": 22,
    "start_time": "2022-06-17T11:27:34.837Z"
   },
   {
    "duration": 100,
    "start_time": "2022-06-17T11:27:34.861Z"
   },
   {
    "duration": 16,
    "start_time": "2022-06-17T11:27:34.963Z"
   },
   {
    "duration": 16,
    "start_time": "2022-06-17T11:27:34.981Z"
   },
   {
    "duration": 34,
    "start_time": "2022-06-17T11:27:34.999Z"
   },
   {
    "duration": 40,
    "start_time": "2022-06-17T11:27:35.035Z"
   },
   {
    "duration": 3,
    "start_time": "2022-06-17T11:27:35.076Z"
   },
   {
    "duration": 13,
    "start_time": "2022-06-17T11:27:35.081Z"
   },
   {
    "duration": 28,
    "start_time": "2022-06-17T11:27:35.095Z"
   },
   {
    "duration": 115,
    "start_time": "2022-06-17T11:27:35.125Z"
   },
   {
    "duration": 37,
    "start_time": "2022-06-17T11:27:35.242Z"
   },
   {
    "duration": 11,
    "start_time": "2022-06-17T11:27:35.280Z"
   },
   {
    "duration": 58,
    "start_time": "2022-06-17T11:27:35.292Z"
   },
   {
    "duration": 19,
    "start_time": "2022-06-17T11:27:35.352Z"
   },
   {
    "duration": 4,
    "start_time": "2022-06-17T11:27:35.372Z"
   },
   {
    "duration": 15,
    "start_time": "2022-06-17T11:27:35.378Z"
   },
   {
    "duration": 41,
    "start_time": "2022-06-17T11:27:35.394Z"
   },
   {
    "duration": 39,
    "start_time": "2022-06-17T11:27:35.437Z"
   },
   {
    "duration": 14,
    "start_time": "2022-06-17T11:27:35.477Z"
   },
   {
    "duration": 41,
    "start_time": "2022-06-17T11:27:35.493Z"
   },
   {
    "duration": 31,
    "start_time": "2022-06-17T11:27:35.536Z"
   },
   {
    "duration": 16,
    "start_time": "2022-06-17T11:27:35.569Z"
   },
   {
    "duration": 74,
    "start_time": "2022-06-17T11:27:35.586Z"
   },
   {
    "duration": 27,
    "start_time": "2022-06-17T11:27:35.662Z"
   },
   {
    "duration": 13,
    "start_time": "2022-06-17T11:27:35.690Z"
   },
   {
    "duration": 97,
    "start_time": "2022-06-17T11:27:35.704Z"
   },
   {
    "duration": 26,
    "start_time": "2022-06-17T11:27:35.803Z"
   },
   {
    "duration": 34,
    "start_time": "2022-06-17T11:27:35.832Z"
   },
   {
    "duration": 408,
    "start_time": "2022-06-17T11:27:51.928Z"
   },
   {
    "duration": 181,
    "start_time": "2022-06-17T11:27:52.338Z"
   },
   {
    "duration": 17,
    "start_time": "2022-06-17T11:27:52.521Z"
   },
   {
    "duration": 46,
    "start_time": "2022-06-17T11:27:52.540Z"
   },
   {
    "duration": 20,
    "start_time": "2022-06-17T11:27:52.588Z"
   },
   {
    "duration": 170,
    "start_time": "2022-06-17T11:27:52.610Z"
   },
   {
    "duration": 12,
    "start_time": "2022-06-17T11:27:52.781Z"
   },
   {
    "duration": 34,
    "start_time": "2022-06-17T11:27:52.795Z"
   },
   {
    "duration": 21,
    "start_time": "2022-06-17T11:27:52.831Z"
   },
   {
    "duration": 107,
    "start_time": "2022-06-17T11:27:52.853Z"
   },
   {
    "duration": 17,
    "start_time": "2022-06-17T11:27:52.962Z"
   },
   {
    "duration": 17,
    "start_time": "2022-06-17T11:27:52.980Z"
   },
   {
    "duration": 38,
    "start_time": "2022-06-17T11:27:52.998Z"
   },
   {
    "duration": 41,
    "start_time": "2022-06-17T11:27:53.038Z"
   },
   {
    "duration": 4,
    "start_time": "2022-06-17T11:27:53.080Z"
   },
   {
    "duration": 18,
    "start_time": "2022-06-17T11:27:53.086Z"
   },
   {
    "duration": 38,
    "start_time": "2022-06-17T11:27:53.106Z"
   },
   {
    "duration": 108,
    "start_time": "2022-06-17T11:27:53.146Z"
   },
   {
    "duration": 38,
    "start_time": "2022-06-17T11:27:53.255Z"
   },
   {
    "duration": 11,
    "start_time": "2022-06-17T11:27:53.295Z"
   },
   {
    "duration": 56,
    "start_time": "2022-06-17T11:27:53.307Z"
   },
   {
    "duration": 20,
    "start_time": "2022-06-17T11:27:53.365Z"
   },
   {
    "duration": 11,
    "start_time": "2022-06-17T11:27:53.386Z"
   },
   {
    "duration": 37,
    "start_time": "2022-06-17T11:27:53.398Z"
   },
   {
    "duration": 28,
    "start_time": "2022-06-17T11:27:53.437Z"
   },
   {
    "duration": 42,
    "start_time": "2022-06-17T11:27:53.468Z"
   },
   {
    "duration": 14,
    "start_time": "2022-06-17T11:27:53.525Z"
   },
   {
    "duration": 26,
    "start_time": "2022-06-17T11:27:53.540Z"
   },
   {
    "duration": 35,
    "start_time": "2022-06-17T11:27:53.568Z"
   },
   {
    "duration": 27,
    "start_time": "2022-06-17T11:27:53.604Z"
   },
   {
    "duration": 51,
    "start_time": "2022-06-17T11:27:53.633Z"
   },
   {
    "duration": 47,
    "start_time": "2022-06-17T11:27:53.686Z"
   },
   {
    "duration": 19,
    "start_time": "2022-06-17T11:27:53.735Z"
   },
   {
    "duration": 91,
    "start_time": "2022-06-17T11:27:53.755Z"
   },
   {
    "duration": 14,
    "start_time": "2022-06-17T11:27:53.847Z"
   },
   {
    "duration": 95,
    "start_time": "2022-06-17T11:27:53.862Z"
   },
   {
    "duration": 0,
    "start_time": "2022-06-17T11:27:53.959Z"
   },
   {
    "duration": 27,
    "start_time": "2022-06-17T11:28:25.632Z"
   },
   {
    "duration": 21,
    "start_time": "2022-06-17T11:29:52.926Z"
   },
   {
    "duration": 427,
    "start_time": "2022-06-17T11:29:56.109Z"
   },
   {
    "duration": 12,
    "start_time": "2022-06-17T11:30:00.350Z"
   },
   {
    "duration": 827,
    "start_time": "2022-06-17T11:30:03.676Z"
   },
   {
    "duration": 15,
    "start_time": "2022-06-17T11:30:10.281Z"
   },
   {
    "duration": 22,
    "start_time": "2022-06-17T11:30:34.626Z"
   },
   {
    "duration": 572,
    "start_time": "2022-06-17T11:30:38.673Z"
   },
   {
    "duration": 524,
    "start_time": "2022-06-17T11:30:44.098Z"
   },
   {
    "duration": 15,
    "start_time": "2022-06-17T11:30:51.982Z"
   },
   {
    "duration": 15,
    "start_time": "2022-06-17T11:31:01.711Z"
   },
   {
    "duration": 14,
    "start_time": "2022-06-17T11:31:03.699Z"
   },
   {
    "duration": 461,
    "start_time": "2022-06-17T11:31:34.442Z"
   },
   {
    "duration": 14,
    "start_time": "2022-06-17T11:32:14.977Z"
   },
   {
    "duration": 706,
    "start_time": "2022-06-17T11:32:18.300Z"
   },
   {
    "duration": 8,
    "start_time": "2022-06-17T11:32:24.899Z"
   },
   {
    "duration": 7,
    "start_time": "2022-06-17T11:32:27.715Z"
   },
   {
    "duration": 7,
    "start_time": "2022-06-17T11:32:33.700Z"
   },
   {
    "duration": 9,
    "start_time": "2022-06-17T11:32:36.555Z"
   },
   {
    "duration": 16,
    "start_time": "2022-06-17T11:32:40.047Z"
   },
   {
    "duration": 8,
    "start_time": "2022-06-17T11:32:42.447Z"
   },
   {
    "duration": 4,
    "start_time": "2022-06-17T11:32:50.522Z"
   },
   {
    "duration": 3,
    "start_time": "2022-06-17T11:32:53.296Z"
   },
   {
    "duration": 9,
    "start_time": "2022-06-17T11:32:56.082Z"
   },
   {
    "duration": 10,
    "start_time": "2022-06-17T11:33:12.342Z"
   },
   {
    "duration": 26,
    "start_time": "2022-06-17T11:34:32.282Z"
   },
   {
    "duration": 8,
    "start_time": "2022-06-17T11:34:51.776Z"
   },
   {
    "duration": 7,
    "start_time": "2022-06-17T11:35:35.687Z"
   },
   {
    "duration": 409,
    "start_time": "2022-06-17T11:35:46.640Z"
   },
   {
    "duration": 210,
    "start_time": "2022-06-17T11:35:47.052Z"
   },
   {
    "duration": 15,
    "start_time": "2022-06-17T11:35:47.264Z"
   },
   {
    "duration": 47,
    "start_time": "2022-06-17T11:35:47.281Z"
   },
   {
    "duration": 27,
    "start_time": "2022-06-17T11:35:47.330Z"
   },
   {
    "duration": 155,
    "start_time": "2022-06-17T11:35:47.358Z"
   },
   {
    "duration": 18,
    "start_time": "2022-06-17T11:35:47.515Z"
   },
   {
    "duration": 26,
    "start_time": "2022-06-17T11:35:47.535Z"
   },
   {
    "duration": 21,
    "start_time": "2022-06-17T11:35:47.562Z"
   },
   {
    "duration": 121,
    "start_time": "2022-06-17T11:35:47.585Z"
   },
   {
    "duration": 29,
    "start_time": "2022-06-17T11:35:47.707Z"
   },
   {
    "duration": 20,
    "start_time": "2022-06-17T11:35:47.738Z"
   },
   {
    "duration": 25,
    "start_time": "2022-06-17T11:35:47.759Z"
   },
   {
    "duration": 40,
    "start_time": "2022-06-17T11:35:47.785Z"
   },
   {
    "duration": 10,
    "start_time": "2022-06-17T11:35:47.826Z"
   },
   {
    "duration": 10,
    "start_time": "2022-06-17T11:35:47.839Z"
   },
   {
    "duration": 22,
    "start_time": "2022-06-17T11:35:47.851Z"
   },
   {
    "duration": 108,
    "start_time": "2022-06-17T11:35:47.875Z"
   },
   {
    "duration": 45,
    "start_time": "2022-06-17T11:35:47.984Z"
   },
   {
    "duration": 14,
    "start_time": "2022-06-17T11:35:48.030Z"
   },
   {
    "duration": 41,
    "start_time": "2022-06-17T11:35:48.046Z"
   },
   {
    "duration": 45,
    "start_time": "2022-06-17T11:35:48.088Z"
   },
   {
    "duration": 7,
    "start_time": "2022-06-17T11:35:48.135Z"
   },
   {
    "duration": 18,
    "start_time": "2022-06-17T11:35:48.145Z"
   },
   {
    "duration": 21,
    "start_time": "2022-06-17T11:35:48.164Z"
   },
   {
    "duration": 60,
    "start_time": "2022-06-17T11:35:48.186Z"
   },
   {
    "duration": 14,
    "start_time": "2022-06-17T11:35:48.248Z"
   },
   {
    "duration": 18,
    "start_time": "2022-06-17T11:35:48.264Z"
   },
   {
    "duration": 45,
    "start_time": "2022-06-17T11:35:48.283Z"
   },
   {
    "duration": 16,
    "start_time": "2022-06-17T11:35:48.330Z"
   },
   {
    "duration": 41,
    "start_time": "2022-06-17T11:35:48.348Z"
   },
   {
    "duration": 50,
    "start_time": "2022-06-17T11:35:48.390Z"
   },
   {
    "duration": 16,
    "start_time": "2022-06-17T11:35:48.443Z"
   },
   {
    "duration": 85,
    "start_time": "2022-06-17T11:35:48.460Z"
   },
   {
    "duration": 16,
    "start_time": "2022-06-17T11:35:48.547Z"
   },
   {
    "duration": 11,
    "start_time": "2022-06-17T11:35:48.564Z"
   },
   {
    "duration": 25,
    "start_time": "2022-06-17T11:36:00.574Z"
   },
   {
    "duration": 403,
    "start_time": "2022-06-17T11:37:26.816Z"
   },
   {
    "duration": 182,
    "start_time": "2022-06-17T11:37:27.221Z"
   },
   {
    "duration": 27,
    "start_time": "2022-06-17T11:37:27.404Z"
   },
   {
    "duration": 30,
    "start_time": "2022-06-17T11:37:27.434Z"
   },
   {
    "duration": 21,
    "start_time": "2022-06-17T11:37:27.466Z"
   },
   {
    "duration": 159,
    "start_time": "2022-06-17T11:37:27.489Z"
   },
   {
    "duration": 12,
    "start_time": "2022-06-17T11:37:27.650Z"
   },
   {
    "duration": 19,
    "start_time": "2022-06-17T11:37:27.663Z"
   },
   {
    "duration": 20,
    "start_time": "2022-06-17T11:37:27.683Z"
   },
   {
    "duration": 110,
    "start_time": "2022-06-17T11:37:27.725Z"
   },
   {
    "duration": 22,
    "start_time": "2022-06-17T11:37:27.837Z"
   },
   {
    "duration": 16,
    "start_time": "2022-06-17T11:37:27.861Z"
   },
   {
    "duration": 24,
    "start_time": "2022-06-17T11:37:27.879Z"
   },
   {
    "duration": 52,
    "start_time": "2022-06-17T11:37:27.904Z"
   },
   {
    "duration": 4,
    "start_time": "2022-06-17T11:37:27.957Z"
   },
   {
    "duration": 7,
    "start_time": "2022-06-17T11:37:27.963Z"
   },
   {
    "duration": 20,
    "start_time": "2022-06-17T11:37:27.972Z"
   },
   {
    "duration": 123,
    "start_time": "2022-06-17T11:37:27.993Z"
   },
   {
    "duration": 52,
    "start_time": "2022-06-17T11:37:28.118Z"
   },
   {
    "duration": 12,
    "start_time": "2022-06-17T11:37:28.172Z"
   },
   {
    "duration": 65,
    "start_time": "2022-06-17T11:37:28.186Z"
   },
   {
    "duration": 19,
    "start_time": "2022-06-17T11:37:28.253Z"
   },
   {
    "duration": 4,
    "start_time": "2022-06-17T11:37:28.274Z"
   },
   {
    "duration": 15,
    "start_time": "2022-06-17T11:37:28.279Z"
   },
   {
    "duration": 42,
    "start_time": "2022-06-17T11:37:28.295Z"
   },
   {
    "duration": 40,
    "start_time": "2022-06-17T11:37:28.339Z"
   },
   {
    "duration": 14,
    "start_time": "2022-06-17T11:37:28.381Z"
   },
   {
    "duration": 39,
    "start_time": "2022-06-17T11:37:28.397Z"
   },
   {
    "duration": 36,
    "start_time": "2022-06-17T11:37:28.439Z"
   },
   {
    "duration": 16,
    "start_time": "2022-06-17T11:37:28.477Z"
   },
   {
    "duration": 62,
    "start_time": "2022-06-17T11:37:28.494Z"
   },
   {
    "duration": 28,
    "start_time": "2022-06-17T11:37:28.558Z"
   },
   {
    "duration": 13,
    "start_time": "2022-06-17T11:37:28.587Z"
   },
   {
    "duration": 97,
    "start_time": "2022-06-17T11:37:28.601Z"
   },
   {
    "duration": 38,
    "start_time": "2022-06-17T11:37:28.700Z"
   },
   {
    "duration": 4,
    "start_time": "2022-06-17T11:42:37.678Z"
   },
   {
    "duration": 6,
    "start_time": "2022-06-17T11:44:18.728Z"
   },
   {
    "duration": 34,
    "start_time": "2022-06-17T11:44:28.521Z"
   },
   {
    "duration": 64,
    "start_time": "2022-06-17T11:47:25.533Z"
   },
   {
    "duration": 8,
    "start_time": "2022-06-17T11:47:30.561Z"
   },
   {
    "duration": 32,
    "start_time": "2022-06-17T11:47:36.436Z"
   },
   {
    "duration": 20,
    "start_time": "2022-06-17T13:33:37.335Z"
   },
   {
    "duration": 404,
    "start_time": "2022-06-17T13:33:49.812Z"
   },
   {
    "duration": 193,
    "start_time": "2022-06-17T13:33:50.224Z"
   },
   {
    "duration": 20,
    "start_time": "2022-06-17T13:33:50.427Z"
   },
   {
    "duration": 52,
    "start_time": "2022-06-17T13:33:50.449Z"
   },
   {
    "duration": 45,
    "start_time": "2022-06-17T13:33:50.503Z"
   },
   {
    "duration": 198,
    "start_time": "2022-06-17T13:33:50.550Z"
   },
   {
    "duration": 18,
    "start_time": "2022-06-17T13:33:50.751Z"
   },
   {
    "duration": 59,
    "start_time": "2022-06-17T13:33:50.771Z"
   },
   {
    "duration": 36,
    "start_time": "2022-06-17T13:33:50.832Z"
   },
   {
    "duration": 182,
    "start_time": "2022-06-17T13:33:50.872Z"
   },
   {
    "duration": 21,
    "start_time": "2022-06-17T13:33:51.055Z"
   },
   {
    "duration": 49,
    "start_time": "2022-06-17T13:33:51.079Z"
   },
   {
    "duration": 37,
    "start_time": "2022-06-17T13:33:51.130Z"
   },
   {
    "duration": 52,
    "start_time": "2022-06-17T13:33:51.170Z"
   },
   {
    "duration": 5,
    "start_time": "2022-06-17T13:33:51.224Z"
   },
   {
    "duration": 14,
    "start_time": "2022-06-17T13:33:51.231Z"
   },
   {
    "duration": 34,
    "start_time": "2022-06-17T13:33:51.248Z"
   },
   {
    "duration": 147,
    "start_time": "2022-06-17T13:33:51.285Z"
   },
   {
    "duration": 39,
    "start_time": "2022-06-17T13:33:51.434Z"
   },
   {
    "duration": 12,
    "start_time": "2022-06-17T13:33:51.475Z"
   },
   {
    "duration": 86,
    "start_time": "2022-06-17T13:33:51.489Z"
   },
   {
    "duration": 20,
    "start_time": "2022-06-17T13:33:51.577Z"
   },
   {
    "duration": 5,
    "start_time": "2022-06-17T13:33:51.598Z"
   },
   {
    "duration": 37,
    "start_time": "2022-06-17T13:33:51.604Z"
   },
   {
    "duration": 23,
    "start_time": "2022-06-17T13:33:51.643Z"
   },
   {
    "duration": 70,
    "start_time": "2022-06-17T13:33:51.668Z"
   },
   {
    "duration": 18,
    "start_time": "2022-06-17T13:33:51.740Z"
   },
   {
    "duration": 28,
    "start_time": "2022-06-17T13:33:51.763Z"
   },
   {
    "duration": 64,
    "start_time": "2022-06-17T13:33:51.793Z"
   },
   {
    "duration": 20,
    "start_time": "2022-06-17T13:33:51.860Z"
   },
   {
    "duration": 86,
    "start_time": "2022-06-17T13:33:51.883Z"
   },
   {
    "duration": 55,
    "start_time": "2022-06-17T13:33:51.971Z"
   },
   {
    "duration": 17,
    "start_time": "2022-06-17T13:33:52.028Z"
   },
   {
    "duration": 91,
    "start_time": "2022-06-17T13:33:52.046Z"
   },
   {
    "duration": 41,
    "start_time": "2022-06-17T13:33:52.139Z"
   },
   {
    "duration": 67,
    "start_time": "2022-06-17T13:33:52.182Z"
   },
   {
    "duration": 32,
    "start_time": "2022-06-17T13:33:52.252Z"
   },
   {
    "duration": 5,
    "start_time": "2022-06-17T13:33:52.286Z"
   },
   {
    "duration": 14,
    "start_time": "2022-06-17T13:34:03.089Z"
   },
   {
    "duration": 61,
    "start_time": "2022-06-17T13:36:18.783Z"
   },
   {
    "duration": 3,
    "start_time": "2022-06-17T13:36:41.485Z"
   },
   {
    "duration": 4,
    "start_time": "2022-06-17T13:37:11.735Z"
   },
   {
    "duration": 7,
    "start_time": "2022-06-17T13:37:50.260Z"
   },
   {
    "duration": 9,
    "start_time": "2022-06-17T13:38:49.339Z"
   },
   {
    "duration": 36,
    "start_time": "2022-06-17T13:38:58.885Z"
   },
   {
    "duration": 386,
    "start_time": "2022-06-17T13:40:32.762Z"
   },
   {
    "duration": 186,
    "start_time": "2022-06-17T13:40:33.151Z"
   },
   {
    "duration": 16,
    "start_time": "2022-06-17T13:40:33.338Z"
   },
   {
    "duration": 32,
    "start_time": "2022-06-17T13:40:33.356Z"
   },
   {
    "duration": 47,
    "start_time": "2022-06-17T13:40:33.389Z"
   },
   {
    "duration": 200,
    "start_time": "2022-06-17T13:40:33.903Z"
   },
   {
    "duration": 29,
    "start_time": "2022-06-17T13:40:34.106Z"
   },
   {
    "duration": 32,
    "start_time": "2022-06-17T13:40:34.138Z"
   },
   {
    "duration": 24,
    "start_time": "2022-06-17T13:40:34.173Z"
   },
   {
    "duration": 155,
    "start_time": "2022-06-17T13:40:34.199Z"
   },
   {
    "duration": 18,
    "start_time": "2022-06-17T13:40:34.355Z"
   },
   {
    "duration": 20,
    "start_time": "2022-06-17T13:40:34.375Z"
   },
   {
    "duration": 35,
    "start_time": "2022-06-17T13:40:34.397Z"
   },
   {
    "duration": 45,
    "start_time": "2022-06-17T13:40:34.434Z"
   },
   {
    "duration": 4,
    "start_time": "2022-06-17T13:40:34.481Z"
   },
   {
    "duration": 15,
    "start_time": "2022-06-17T13:40:34.487Z"
   },
   {
    "duration": 31,
    "start_time": "2022-06-17T13:40:34.504Z"
   },
   {
    "duration": 123,
    "start_time": "2022-06-17T13:40:34.536Z"
   },
   {
    "duration": 43,
    "start_time": "2022-06-17T13:40:34.663Z"
   },
   {
    "duration": 31,
    "start_time": "2022-06-17T13:40:34.708Z"
   },
   {
    "duration": 51,
    "start_time": "2022-06-17T13:40:34.740Z"
   },
   {
    "duration": 44,
    "start_time": "2022-06-17T13:40:34.793Z"
   },
   {
    "duration": 5,
    "start_time": "2022-06-17T13:40:34.839Z"
   },
   {
    "duration": 16,
    "start_time": "2022-06-17T13:40:34.846Z"
   },
   {
    "duration": 24,
    "start_time": "2022-06-17T13:40:34.863Z"
   },
   {
    "duration": 83,
    "start_time": "2022-06-17T13:40:34.889Z"
   },
   {
    "duration": 14,
    "start_time": "2022-06-17T13:40:34.974Z"
   },
   {
    "duration": 35,
    "start_time": "2022-06-17T13:40:34.990Z"
   },
   {
    "duration": 30,
    "start_time": "2022-06-17T13:40:35.027Z"
   },
   {
    "duration": 17,
    "start_time": "2022-06-17T13:40:35.059Z"
   },
   {
    "duration": 67,
    "start_time": "2022-06-17T13:40:35.078Z"
   },
   {
    "duration": 29,
    "start_time": "2022-06-17T13:40:35.147Z"
   },
   {
    "duration": 15,
    "start_time": "2022-06-17T13:40:35.178Z"
   },
   {
    "duration": 104,
    "start_time": "2022-06-17T13:40:35.195Z"
   },
   {
    "duration": 39,
    "start_time": "2022-06-17T13:40:35.301Z"
   },
   {
    "duration": 29,
    "start_time": "2022-06-17T13:40:35.342Z"
   },
   {
    "duration": 68,
    "start_time": "2022-06-17T13:40:35.373Z"
   },
   {
    "duration": 38,
    "start_time": "2022-06-17T13:40:35.444Z"
   },
   {
    "duration": 20,
    "start_time": "2022-06-17T13:44:12.150Z"
   },
   {
    "duration": 31,
    "start_time": "2022-06-17T13:45:11.960Z"
   },
   {
    "duration": 61,
    "start_time": "2022-06-17T13:45:16.966Z"
   },
   {
    "duration": 23,
    "start_time": "2022-06-17T13:48:09.426Z"
   },
   {
    "duration": 8,
    "start_time": "2022-06-17T13:48:31.925Z"
   },
   {
    "duration": 17,
    "start_time": "2022-06-17T13:48:41.576Z"
   },
   {
    "duration": 9,
    "start_time": "2022-06-17T13:48:54.282Z"
   },
   {
    "duration": 8,
    "start_time": "2022-06-17T13:49:02.968Z"
   },
   {
    "duration": 418,
    "start_time": "2022-06-17T13:55:09.931Z"
   },
   {
    "duration": 27,
    "start_time": "2022-06-17T13:55:37.047Z"
   },
   {
    "duration": 28,
    "start_time": "2022-06-17T13:55:55.212Z"
   },
   {
    "duration": 45,
    "start_time": "2022-06-17T13:56:08.490Z"
   },
   {
    "duration": 434,
    "start_time": "2022-06-17T14:00:09.402Z"
   },
   {
    "duration": 225,
    "start_time": "2022-06-17T14:00:09.838Z"
   },
   {
    "duration": 16,
    "start_time": "2022-06-17T14:00:10.065Z"
   },
   {
    "duration": 61,
    "start_time": "2022-06-17T14:00:10.082Z"
   },
   {
    "duration": 35,
    "start_time": "2022-06-17T14:00:10.145Z"
   },
   {
    "duration": 199,
    "start_time": "2022-06-17T14:00:10.181Z"
   },
   {
    "duration": 11,
    "start_time": "2022-06-17T14:00:10.382Z"
   },
   {
    "duration": 38,
    "start_time": "2022-06-17T14:00:10.395Z"
   },
   {
    "duration": 53,
    "start_time": "2022-06-17T14:00:10.435Z"
   },
   {
    "duration": 137,
    "start_time": "2022-06-17T14:00:10.490Z"
   },
   {
    "duration": 19,
    "start_time": "2022-06-17T14:00:10.628Z"
   },
   {
    "duration": 115,
    "start_time": "2022-06-17T14:00:10.649Z"
   },
   {
    "duration": 132,
    "start_time": "2022-06-17T14:00:10.766Z"
   },
   {
    "duration": 60,
    "start_time": "2022-06-17T14:00:10.902Z"
   },
   {
    "duration": 7,
    "start_time": "2022-06-17T14:00:10.963Z"
   },
   {
    "duration": 92,
    "start_time": "2022-06-17T14:00:10.971Z"
   },
   {
    "duration": 65,
    "start_time": "2022-06-17T14:00:11.064Z"
   },
   {
    "duration": 162,
    "start_time": "2022-06-17T14:00:11.131Z"
   },
   {
    "duration": 64,
    "start_time": "2022-06-17T14:00:11.294Z"
   },
   {
    "duration": 52,
    "start_time": "2022-06-17T14:00:11.360Z"
   },
   {
    "duration": 103,
    "start_time": "2022-06-17T14:00:11.414Z"
   },
   {
    "duration": 23,
    "start_time": "2022-06-17T14:00:11.519Z"
   },
   {
    "duration": 14,
    "start_time": "2022-06-17T14:00:11.544Z"
   },
   {
    "duration": 62,
    "start_time": "2022-06-17T14:00:11.560Z"
   },
   {
    "duration": 107,
    "start_time": "2022-06-17T14:00:11.623Z"
   },
   {
    "duration": 44,
    "start_time": "2022-06-17T14:00:11.732Z"
   },
   {
    "duration": 21,
    "start_time": "2022-06-17T14:00:11.778Z"
   },
   {
    "duration": 48,
    "start_time": "2022-06-17T14:00:11.801Z"
   },
   {
    "duration": 80,
    "start_time": "2022-06-17T14:00:11.850Z"
   },
   {
    "duration": 59,
    "start_time": "2022-06-17T14:00:11.932Z"
   },
   {
    "duration": 86,
    "start_time": "2022-06-17T14:00:11.992Z"
   },
   {
    "duration": 30,
    "start_time": "2022-06-17T14:00:12.080Z"
   },
   {
    "duration": 45,
    "start_time": "2022-06-17T14:00:12.112Z"
   },
   {
    "duration": 167,
    "start_time": "2022-06-17T14:00:12.159Z"
   },
   {
    "duration": 28,
    "start_time": "2022-06-17T14:00:12.327Z"
   },
   {
    "duration": 56,
    "start_time": "2022-06-17T14:00:12.357Z"
   },
   {
    "duration": 47,
    "start_time": "2022-06-17T14:00:12.415Z"
   },
   {
    "duration": 72,
    "start_time": "2022-06-17T14:00:12.464Z"
   },
   {
    "duration": 128,
    "start_time": "2022-06-17T14:00:12.538Z"
   },
   {
    "duration": 6,
    "start_time": "2022-06-17T14:05:14.936Z"
   },
   {
    "duration": 24,
    "start_time": "2022-06-17T14:05:20.859Z"
   },
   {
    "duration": 3,
    "start_time": "2022-06-20T09:05:51.071Z"
   },
   {
    "duration": 39,
    "start_time": "2022-06-20T09:08:04.679Z"
   },
   {
    "duration": 386,
    "start_time": "2022-06-20T09:08:10.073Z"
   },
   {
    "duration": 477,
    "start_time": "2022-06-20T09:08:10.461Z"
   },
   {
    "duration": 13,
    "start_time": "2022-06-20T09:08:10.940Z"
   },
   {
    "duration": 28,
    "start_time": "2022-06-20T09:08:10.956Z"
   },
   {
    "duration": 27,
    "start_time": "2022-06-20T09:08:10.985Z"
   },
   {
    "duration": 371,
    "start_time": "2022-06-20T09:08:11.014Z"
   },
   {
    "duration": 11,
    "start_time": "2022-06-20T09:08:11.386Z"
   },
   {
    "duration": 23,
    "start_time": "2022-06-20T09:08:11.399Z"
   },
   {
    "duration": 28,
    "start_time": "2022-06-20T09:08:11.423Z"
   },
   {
    "duration": 135,
    "start_time": "2022-06-20T09:08:11.454Z"
   },
   {
    "duration": 15,
    "start_time": "2022-06-20T09:08:11.591Z"
   },
   {
    "duration": 15,
    "start_time": "2022-06-20T09:08:11.607Z"
   },
   {
    "duration": 63,
    "start_time": "2022-06-20T09:08:11.624Z"
   },
   {
    "duration": 62,
    "start_time": "2022-06-20T09:08:11.689Z"
   },
   {
    "duration": 3,
    "start_time": "2022-06-20T09:08:11.753Z"
   },
   {
    "duration": 7,
    "start_time": "2022-06-20T09:08:11.757Z"
   },
   {
    "duration": 17,
    "start_time": "2022-06-20T09:08:11.765Z"
   },
   {
    "duration": 93,
    "start_time": "2022-06-20T09:08:11.783Z"
   },
   {
    "duration": 37,
    "start_time": "2022-06-20T09:08:11.878Z"
   },
   {
    "duration": 11,
    "start_time": "2022-06-20T09:08:11.916Z"
   },
   {
    "duration": 37,
    "start_time": "2022-06-20T09:08:11.928Z"
   },
   {
    "duration": 33,
    "start_time": "2022-06-20T09:08:11.966Z"
   },
   {
    "duration": 4,
    "start_time": "2022-06-20T09:08:12.000Z"
   },
   {
    "duration": 19,
    "start_time": "2022-06-20T09:08:12.005Z"
   },
   {
    "duration": 22,
    "start_time": "2022-06-20T09:08:12.026Z"
   },
   {
    "duration": 49,
    "start_time": "2022-06-20T09:08:12.049Z"
   },
   {
    "duration": 12,
    "start_time": "2022-06-20T09:08:12.100Z"
   },
   {
    "duration": 16,
    "start_time": "2022-06-20T09:08:12.116Z"
   },
   {
    "duration": 24,
    "start_time": "2022-06-20T09:08:12.134Z"
   },
   {
    "duration": 46,
    "start_time": "2022-06-20T09:08:12.160Z"
   },
   {
    "duration": 38,
    "start_time": "2022-06-20T09:08:12.208Z"
   },
   {
    "duration": 25,
    "start_time": "2022-06-20T09:08:12.247Z"
   },
   {
    "duration": 27,
    "start_time": "2022-06-20T09:08:12.273Z"
   },
   {
    "duration": 61,
    "start_time": "2022-06-20T09:08:12.302Z"
   },
   {
    "duration": 39,
    "start_time": "2022-06-20T09:08:12.364Z"
   },
   {
    "duration": 24,
    "start_time": "2022-06-20T09:08:12.404Z"
   },
   {
    "duration": 24,
    "start_time": "2022-06-20T09:08:12.429Z"
   },
   {
    "duration": 41,
    "start_time": "2022-06-20T09:08:12.454Z"
   },
   {
    "duration": 86,
    "start_time": "2022-06-20T09:08:12.496Z"
   },
   {
    "duration": 30,
    "start_time": "2022-06-20T09:08:12.583Z"
   },
   {
    "duration": 487,
    "start_time": "2022-06-20T09:08:12.614Z"
   },
   {
    "duration": 73,
    "start_time": "2022-06-20T09:13:59.535Z"
   },
   {
    "duration": 5,
    "start_time": "2022-06-20T09:14:12.597Z"
   },
   {
    "duration": 22,
    "start_time": "2022-06-20T09:17:42.097Z"
   },
   {
    "duration": 20,
    "start_time": "2022-06-20T09:18:19.310Z"
   },
   {
    "duration": 75,
    "start_time": "2022-06-20T09:20:57.410Z"
   },
   {
    "duration": 20,
    "start_time": "2022-06-20T09:21:43.318Z"
   },
   {
    "duration": 10,
    "start_time": "2022-06-20T09:24:53.617Z"
   },
   {
    "duration": 374,
    "start_time": "2022-06-20T09:26:49.600Z"
   },
   {
    "duration": 172,
    "start_time": "2022-06-20T09:26:49.975Z"
   },
   {
    "duration": 14,
    "start_time": "2022-06-20T09:26:50.148Z"
   },
   {
    "duration": 39,
    "start_time": "2022-06-20T09:26:50.163Z"
   },
   {
    "duration": 21,
    "start_time": "2022-06-20T09:26:50.205Z"
   },
   {
    "duration": 136,
    "start_time": "2022-06-20T09:26:50.228Z"
   },
   {
    "duration": 11,
    "start_time": "2022-06-20T09:26:50.366Z"
   },
   {
    "duration": 29,
    "start_time": "2022-06-20T09:26:50.378Z"
   },
   {
    "duration": 19,
    "start_time": "2022-06-20T09:26:50.408Z"
   },
   {
    "duration": 98,
    "start_time": "2022-06-20T09:26:50.428Z"
   },
   {
    "duration": 16,
    "start_time": "2022-06-20T09:26:50.528Z"
   },
   {
    "duration": 16,
    "start_time": "2022-06-20T09:26:50.545Z"
   },
   {
    "duration": 35,
    "start_time": "2022-06-20T09:26:50.562Z"
   },
   {
    "duration": 43,
    "start_time": "2022-06-20T09:26:50.600Z"
   },
   {
    "duration": 4,
    "start_time": "2022-06-20T09:26:50.644Z"
   },
   {
    "duration": 9,
    "start_time": "2022-06-20T09:26:50.649Z"
   },
   {
    "duration": 23,
    "start_time": "2022-06-20T09:26:50.659Z"
   },
   {
    "duration": 97,
    "start_time": "2022-06-20T09:26:50.684Z"
   },
   {
    "duration": 39,
    "start_time": "2022-06-20T09:26:50.782Z"
   },
   {
    "duration": 11,
    "start_time": "2022-06-20T09:26:50.822Z"
   },
   {
    "duration": 39,
    "start_time": "2022-06-20T09:26:50.835Z"
   },
   {
    "duration": 34,
    "start_time": "2022-06-20T09:26:50.875Z"
   },
   {
    "duration": 4,
    "start_time": "2022-06-20T09:26:50.911Z"
   },
   {
    "duration": 43,
    "start_time": "2022-06-20T09:26:50.916Z"
   },
   {
    "duration": 23,
    "start_time": "2022-06-20T09:26:50.960Z"
   },
   {
    "duration": 39,
    "start_time": "2022-06-20T09:26:50.985Z"
   },
   {
    "duration": 13,
    "start_time": "2022-06-20T09:26:51.026Z"
   },
   {
    "duration": 18,
    "start_time": "2022-06-20T09:26:51.041Z"
   },
   {
    "duration": 51,
    "start_time": "2022-06-20T09:26:51.061Z"
   },
   {
    "duration": 15,
    "start_time": "2022-06-20T09:26:51.113Z"
   },
   {
    "duration": 41,
    "start_time": "2022-06-20T09:26:51.130Z"
   },
   {
    "duration": 44,
    "start_time": "2022-06-20T09:26:51.172Z"
   },
   {
    "duration": 13,
    "start_time": "2022-06-20T09:26:51.217Z"
   },
   {
    "duration": 88,
    "start_time": "2022-06-20T09:26:51.231Z"
   },
   {
    "duration": 57,
    "start_time": "2022-06-20T09:26:51.320Z"
   },
   {
    "duration": 0,
    "start_time": "2022-06-20T09:26:51.379Z"
   },
   {
    "duration": 0,
    "start_time": "2022-06-20T09:26:51.380Z"
   },
   {
    "duration": 0,
    "start_time": "2022-06-20T09:26:51.381Z"
   },
   {
    "duration": 1,
    "start_time": "2022-06-20T09:26:51.394Z"
   },
   {
    "duration": 0,
    "start_time": "2022-06-20T09:26:51.395Z"
   },
   {
    "duration": 0,
    "start_time": "2022-06-20T09:26:51.396Z"
   },
   {
    "duration": 0,
    "start_time": "2022-06-20T09:26:51.397Z"
   },
   {
    "duration": 0,
    "start_time": "2022-06-20T09:26:51.398Z"
   },
   {
    "duration": 0,
    "start_time": "2022-06-20T09:26:51.399Z"
   },
   {
    "duration": 8,
    "start_time": "2022-06-20T09:27:26.121Z"
   },
   {
    "duration": 8,
    "start_time": "2022-06-20T09:29:46.047Z"
   },
   {
    "duration": 3,
    "start_time": "2022-06-20T09:29:52.758Z"
   },
   {
    "duration": 3,
    "start_time": "2022-06-20T09:29:58.030Z"
   },
   {
    "duration": 392,
    "start_time": "2022-06-20T09:30:07.870Z"
   },
   {
    "duration": 171,
    "start_time": "2022-06-20T09:30:08.263Z"
   },
   {
    "duration": 13,
    "start_time": "2022-06-20T09:30:08.435Z"
   },
   {
    "duration": 46,
    "start_time": "2022-06-20T09:30:08.449Z"
   },
   {
    "duration": 20,
    "start_time": "2022-06-20T09:30:08.496Z"
   },
   {
    "duration": 141,
    "start_time": "2022-06-20T09:30:08.518Z"
   },
   {
    "duration": 11,
    "start_time": "2022-06-20T09:30:08.661Z"
   },
   {
    "duration": 29,
    "start_time": "2022-06-20T09:30:08.673Z"
   },
   {
    "duration": 19,
    "start_time": "2022-06-20T09:30:08.704Z"
   },
   {
    "duration": 95,
    "start_time": "2022-06-20T09:30:08.726Z"
   },
   {
    "duration": 16,
    "start_time": "2022-06-20T09:30:08.822Z"
   },
   {
    "duration": 15,
    "start_time": "2022-06-20T09:30:08.839Z"
   },
   {
    "duration": 23,
    "start_time": "2022-06-20T09:30:08.856Z"
   },
   {
    "duration": 36,
    "start_time": "2022-06-20T09:30:08.880Z"
   },
   {
    "duration": 4,
    "start_time": "2022-06-20T09:30:08.917Z"
   },
   {
    "duration": 7,
    "start_time": "2022-06-20T09:30:08.922Z"
   },
   {
    "duration": 18,
    "start_time": "2022-06-20T09:30:08.930Z"
   },
   {
    "duration": 107,
    "start_time": "2022-06-20T09:30:08.949Z"
   },
   {
    "duration": 48,
    "start_time": "2022-06-20T09:30:09.058Z"
   },
   {
    "duration": 11,
    "start_time": "2022-06-20T09:30:09.107Z"
   },
   {
    "duration": 38,
    "start_time": "2022-06-20T09:30:09.119Z"
   },
   {
    "duration": 38,
    "start_time": "2022-06-20T09:30:09.159Z"
   },
   {
    "duration": 5,
    "start_time": "2022-06-20T09:30:09.198Z"
   },
   {
    "duration": 17,
    "start_time": "2022-06-20T09:30:09.204Z"
   },
   {
    "duration": 21,
    "start_time": "2022-06-20T09:30:09.222Z"
   },
   {
    "duration": 52,
    "start_time": "2022-06-20T09:30:09.244Z"
   },
   {
    "duration": 13,
    "start_time": "2022-06-20T09:30:09.297Z"
   },
   {
    "duration": 16,
    "start_time": "2022-06-20T09:30:09.312Z"
   },
   {
    "duration": 25,
    "start_time": "2022-06-20T09:30:09.330Z"
   },
   {
    "duration": 38,
    "start_time": "2022-06-20T09:30:09.356Z"
   },
   {
    "duration": 38,
    "start_time": "2022-06-20T09:30:09.395Z"
   },
   {
    "duration": 27,
    "start_time": "2022-06-20T09:30:09.434Z"
   },
   {
    "duration": 33,
    "start_time": "2022-06-20T09:30:09.462Z"
   },
   {
    "duration": 68,
    "start_time": "2022-06-20T09:30:09.496Z"
   },
   {
    "duration": 2,
    "start_time": "2022-06-20T09:30:09.565Z"
   },
   {
    "duration": 36,
    "start_time": "2022-06-20T09:30:09.569Z"
   },
   {
    "duration": 23,
    "start_time": "2022-06-20T09:30:09.606Z"
   },
   {
    "duration": 24,
    "start_time": "2022-06-20T09:30:09.631Z"
   },
   {
    "duration": 39,
    "start_time": "2022-06-20T09:30:09.656Z"
   },
   {
    "duration": 98,
    "start_time": "2022-06-20T09:30:09.697Z"
   },
   {
    "duration": 22,
    "start_time": "2022-06-20T09:30:09.797Z"
   },
   {
    "duration": 8,
    "start_time": "2022-06-20T09:30:09.821Z"
   },
   {
    "duration": 19,
    "start_time": "2022-06-20T09:30:09.831Z"
   },
   {
    "duration": 339,
    "start_time": "2022-06-20T09:30:09.851Z"
   },
   {
    "duration": 148,
    "start_time": "2022-06-20T09:34:19.364Z"
   },
   {
    "duration": 63,
    "start_time": "2022-06-20T09:38:31.611Z"
   },
   {
    "duration": 12,
    "start_time": "2022-06-20T09:39:01.087Z"
   },
   {
    "duration": 116,
    "start_time": "2022-06-20T09:39:08.940Z"
   },
   {
    "duration": 119,
    "start_time": "2022-06-20T09:42:02.870Z"
   },
   {
    "duration": 111,
    "start_time": "2022-06-20T09:55:24.352Z"
   },
   {
    "duration": 116,
    "start_time": "2022-06-20T10:00:10.151Z"
   },
   {
    "duration": 134,
    "start_time": "2022-06-20T10:04:55.370Z"
   },
   {
    "duration": 366,
    "start_time": "2022-06-20T10:06:20.538Z"
   },
   {
    "duration": 176,
    "start_time": "2022-06-20T10:06:20.906Z"
   },
   {
    "duration": 24,
    "start_time": "2022-06-20T10:06:21.084Z"
   },
   {
    "duration": 30,
    "start_time": "2022-06-20T10:06:21.110Z"
   },
   {
    "duration": 27,
    "start_time": "2022-06-20T10:06:21.142Z"
   },
   {
    "duration": 155,
    "start_time": "2022-06-20T10:06:21.171Z"
   },
   {
    "duration": 13,
    "start_time": "2022-06-20T10:06:21.328Z"
   },
   {
    "duration": 56,
    "start_time": "2022-06-20T10:06:21.343Z"
   },
   {
    "duration": 28,
    "start_time": "2022-06-20T10:06:21.401Z"
   },
   {
    "duration": 102,
    "start_time": "2022-06-20T10:06:21.431Z"
   },
   {
    "duration": 17,
    "start_time": "2022-06-20T10:06:21.534Z"
   },
   {
    "duration": 19,
    "start_time": "2022-06-20T10:06:21.552Z"
   },
   {
    "duration": 26,
    "start_time": "2022-06-20T10:06:21.594Z"
   },
   {
    "duration": 37,
    "start_time": "2022-06-20T10:06:21.621Z"
   },
   {
    "duration": 4,
    "start_time": "2022-06-20T10:06:21.660Z"
   },
   {
    "duration": 8,
    "start_time": "2022-06-20T10:06:21.665Z"
   },
   {
    "duration": 19,
    "start_time": "2022-06-20T10:06:21.675Z"
   },
   {
    "duration": 100,
    "start_time": "2022-06-20T10:06:21.695Z"
   },
   {
    "duration": 2,
    "start_time": "2022-06-20T10:06:21.796Z"
   },
   {
    "duration": 15,
    "start_time": "2022-06-20T10:06:21.800Z"
   },
   {
    "duration": 38,
    "start_time": "2022-06-20T10:06:21.817Z"
   },
   {
    "duration": 42,
    "start_time": "2022-06-20T10:06:21.857Z"
   },
   {
    "duration": 5,
    "start_time": "2022-06-20T10:06:21.900Z"
   },
   {
    "duration": 23,
    "start_time": "2022-06-20T10:06:21.906Z"
   },
   {
    "duration": 26,
    "start_time": "2022-06-20T10:06:21.931Z"
   },
   {
    "duration": 63,
    "start_time": "2022-06-20T10:06:21.958Z"
   },
   {
    "duration": 16,
    "start_time": "2022-06-20T10:06:22.023Z"
   },
   {
    "duration": 19,
    "start_time": "2022-06-20T10:06:22.044Z"
   },
   {
    "duration": 46,
    "start_time": "2022-06-20T10:06:22.064Z"
   },
   {
    "duration": 16,
    "start_time": "2022-06-20T10:06:22.111Z"
   },
   {
    "duration": 46,
    "start_time": "2022-06-20T10:06:22.128Z"
   },
   {
    "duration": 43,
    "start_time": "2022-06-20T10:06:22.176Z"
   },
   {
    "duration": 13,
    "start_time": "2022-06-20T10:06:22.221Z"
   },
   {
    "duration": 104,
    "start_time": "2022-06-20T10:06:22.236Z"
   },
   {
    "duration": 3,
    "start_time": "2022-06-20T10:06:22.343Z"
   },
   {
    "duration": 49,
    "start_time": "2022-06-20T10:06:22.348Z"
   },
   {
    "duration": 35,
    "start_time": "2022-06-20T10:06:22.399Z"
   },
   {
    "duration": 39,
    "start_time": "2022-06-20T10:06:22.436Z"
   },
   {
    "duration": 31,
    "start_time": "2022-06-20T10:06:22.493Z"
   },
   {
    "duration": 113,
    "start_time": "2022-06-20T10:06:22.526Z"
   },
   {
    "duration": 25,
    "start_time": "2022-06-20T10:06:22.641Z"
   },
   {
    "duration": 36,
    "start_time": "2022-06-20T10:06:22.667Z"
   },
   {
    "duration": 306,
    "start_time": "2022-06-20T10:06:22.705Z"
   },
   {
    "duration": 187,
    "start_time": "2022-06-20T10:06:23.013Z"
   },
   {
    "duration": 130,
    "start_time": "2022-06-20T10:06:23.202Z"
   },
   {
    "duration": 150,
    "start_time": "2022-06-20T10:06:23.333Z"
   },
   {
    "duration": 154,
    "start_time": "2022-06-20T10:06:23.485Z"
   },
   {
    "duration": 361,
    "start_time": "2022-06-20T10:07:56.313Z"
   },
   {
    "duration": 196,
    "start_time": "2022-06-20T10:07:56.676Z"
   },
   {
    "duration": 22,
    "start_time": "2022-06-20T10:07:56.873Z"
   },
   {
    "duration": 29,
    "start_time": "2022-06-20T10:07:56.897Z"
   },
   {
    "duration": 20,
    "start_time": "2022-06-20T10:07:56.928Z"
   },
   {
    "duration": 147,
    "start_time": "2022-06-20T10:07:56.949Z"
   },
   {
    "duration": 12,
    "start_time": "2022-06-20T10:07:57.098Z"
   },
   {
    "duration": 19,
    "start_time": "2022-06-20T10:07:57.111Z"
   },
   {
    "duration": 22,
    "start_time": "2022-06-20T10:07:57.132Z"
   },
   {
    "duration": 116,
    "start_time": "2022-06-20T10:07:57.157Z"
   },
   {
    "duration": 28,
    "start_time": "2022-06-20T10:07:57.275Z"
   },
   {
    "duration": 23,
    "start_time": "2022-06-20T10:07:57.305Z"
   },
   {
    "duration": 31,
    "start_time": "2022-06-20T10:07:57.330Z"
   },
   {
    "duration": 52,
    "start_time": "2022-06-20T10:07:57.363Z"
   },
   {
    "duration": 5,
    "start_time": "2022-06-20T10:07:57.417Z"
   },
   {
    "duration": 20,
    "start_time": "2022-06-20T10:07:57.424Z"
   },
   {
    "duration": 35,
    "start_time": "2022-06-20T10:07:57.446Z"
   },
   {
    "duration": 116,
    "start_time": "2022-06-20T10:07:57.483Z"
   },
   {
    "duration": 38,
    "start_time": "2022-06-20T10:07:57.600Z"
   },
   {
    "duration": 16,
    "start_time": "2022-06-20T10:07:57.640Z"
   },
   {
    "duration": 78,
    "start_time": "2022-06-20T10:07:57.657Z"
   },
   {
    "duration": 22,
    "start_time": "2022-06-20T10:07:57.737Z"
   },
   {
    "duration": 6,
    "start_time": "2022-06-20T10:07:57.760Z"
   },
   {
    "duration": 31,
    "start_time": "2022-06-20T10:07:57.767Z"
   },
   {
    "duration": 24,
    "start_time": "2022-06-20T10:07:57.799Z"
   },
   {
    "duration": 39,
    "start_time": "2022-06-20T10:07:57.824Z"
   },
   {
    "duration": 37,
    "start_time": "2022-06-20T10:07:57.865Z"
   },
   {
    "duration": 18,
    "start_time": "2022-06-20T10:07:57.905Z"
   },
   {
    "duration": 26,
    "start_time": "2022-06-20T10:07:57.925Z"
   },
   {
    "duration": 41,
    "start_time": "2022-06-20T10:07:57.953Z"
   },
   {
    "duration": 47,
    "start_time": "2022-06-20T10:07:57.996Z"
   },
   {
    "duration": 29,
    "start_time": "2022-06-20T10:07:58.045Z"
   },
   {
    "duration": 31,
    "start_time": "2022-06-20T10:07:58.075Z"
   },
   {
    "duration": 88,
    "start_time": "2022-06-20T10:07:58.107Z"
   },
   {
    "duration": 3,
    "start_time": "2022-06-20T10:07:58.197Z"
   },
   {
    "duration": 30,
    "start_time": "2022-06-20T10:07:58.201Z"
   },
   {
    "duration": 26,
    "start_time": "2022-06-20T10:07:58.232Z"
   },
   {
    "duration": 51,
    "start_time": "2022-06-20T10:07:58.260Z"
   },
   {
    "duration": 21,
    "start_time": "2022-06-20T10:07:58.312Z"
   },
   {
    "duration": 107,
    "start_time": "2022-06-20T10:07:58.334Z"
   },
   {
    "duration": 23,
    "start_time": "2022-06-20T10:07:58.442Z"
   },
   {
    "duration": 35,
    "start_time": "2022-06-20T10:07:58.467Z"
   },
   {
    "duration": 311,
    "start_time": "2022-06-20T10:07:58.504Z"
   },
   {
    "duration": 187,
    "start_time": "2022-06-20T10:07:58.816Z"
   },
   {
    "duration": 132,
    "start_time": "2022-06-20T10:07:59.005Z"
   },
   {
    "duration": 121,
    "start_time": "2022-06-20T10:07:59.138Z"
   },
   {
    "duration": 133,
    "start_time": "2022-06-20T10:07:59.261Z"
   },
   {
    "duration": 120,
    "start_time": "2022-06-20T10:11:40.118Z"
   },
   {
    "duration": 21,
    "start_time": "2022-06-20T10:18:58.412Z"
   },
   {
    "duration": 61,
    "start_time": "2022-06-20T10:31:01.040Z"
   },
   {
    "duration": 775,
    "start_time": "2022-06-20T10:32:39.332Z"
   },
   {
    "duration": 175,
    "start_time": "2022-06-20T10:32:40.109Z"
   },
   {
    "duration": 16,
    "start_time": "2022-06-20T10:32:40.285Z"
   },
   {
    "duration": 29,
    "start_time": "2022-06-20T10:32:40.303Z"
   },
   {
    "duration": 21,
    "start_time": "2022-06-20T10:32:40.333Z"
   },
   {
    "duration": 155,
    "start_time": "2022-06-20T10:32:40.355Z"
   },
   {
    "duration": 12,
    "start_time": "2022-06-20T10:32:40.511Z"
   },
   {
    "duration": 19,
    "start_time": "2022-06-20T10:32:40.525Z"
   },
   {
    "duration": 19,
    "start_time": "2022-06-20T10:32:40.546Z"
   },
   {
    "duration": 113,
    "start_time": "2022-06-20T10:32:40.568Z"
   },
   {
    "duration": 22,
    "start_time": "2022-06-20T10:32:40.683Z"
   },
   {
    "duration": 18,
    "start_time": "2022-06-20T10:32:40.707Z"
   },
   {
    "duration": 25,
    "start_time": "2022-06-20T10:32:40.726Z"
   },
   {
    "duration": 38,
    "start_time": "2022-06-20T10:32:40.752Z"
   },
   {
    "duration": 4,
    "start_time": "2022-06-20T10:32:40.791Z"
   },
   {
    "duration": 7,
    "start_time": "2022-06-20T10:32:40.796Z"
   },
   {
    "duration": 19,
    "start_time": "2022-06-20T10:32:40.804Z"
   },
   {
    "duration": 107,
    "start_time": "2022-06-20T10:32:40.824Z"
   },
   {
    "duration": 39,
    "start_time": "2022-06-20T10:32:40.932Z"
   },
   {
    "duration": 23,
    "start_time": "2022-06-20T10:32:40.972Z"
   },
   {
    "duration": 42,
    "start_time": "2022-06-20T10:32:40.996Z"
   },
   {
    "duration": 20,
    "start_time": "2022-06-20T10:32:41.039Z"
   },
   {
    "duration": 4,
    "start_time": "2022-06-20T10:32:41.060Z"
   },
   {
    "duration": 33,
    "start_time": "2022-06-20T10:32:41.066Z"
   },
   {
    "duration": 22,
    "start_time": "2022-06-20T10:32:41.100Z"
   },
   {
    "duration": 39,
    "start_time": "2022-06-20T10:32:41.123Z"
   },
   {
    "duration": 32,
    "start_time": "2022-06-20T10:32:41.163Z"
   },
   {
    "duration": 18,
    "start_time": "2022-06-20T10:32:41.198Z"
   },
   {
    "duration": 27,
    "start_time": "2022-06-20T10:32:41.217Z"
   },
   {
    "duration": 15,
    "start_time": "2022-06-20T10:32:41.245Z"
   },
   {
    "duration": 67,
    "start_time": "2022-06-20T10:32:41.262Z"
   },
   {
    "duration": 26,
    "start_time": "2022-06-20T10:32:41.331Z"
   },
   {
    "duration": 36,
    "start_time": "2022-06-20T10:32:41.359Z"
   },
   {
    "duration": 37,
    "start_time": "2022-06-20T10:32:41.397Z"
   },
   {
    "duration": 3,
    "start_time": "2022-06-20T10:32:41.436Z"
   },
   {
    "duration": 27,
    "start_time": "2022-06-20T10:32:41.440Z"
   },
   {
    "duration": 46,
    "start_time": "2022-06-20T10:32:41.469Z"
   },
   {
    "duration": 24,
    "start_time": "2022-06-20T10:32:41.516Z"
   },
   {
    "duration": 20,
    "start_time": "2022-06-20T10:32:41.541Z"
   },
   {
    "duration": 112,
    "start_time": "2022-06-20T10:32:41.563Z"
   },
   {
    "duration": 33,
    "start_time": "2022-06-20T10:32:41.677Z"
   },
   {
    "duration": 23,
    "start_time": "2022-06-20T10:32:41.711Z"
   },
   {
    "duration": 365,
    "start_time": "2022-06-20T10:32:41.735Z"
   },
   {
    "duration": 137,
    "start_time": "2022-06-20T10:32:42.101Z"
   },
   {
    "duration": 133,
    "start_time": "2022-06-20T10:32:42.240Z"
   },
   {
    "duration": 109,
    "start_time": "2022-06-20T10:32:42.375Z"
   },
   {
    "duration": 135,
    "start_time": "2022-06-20T10:32:42.494Z"
   },
   {
    "duration": 135,
    "start_time": "2022-06-20T10:32:42.631Z"
   },
   {
    "duration": 26,
    "start_time": "2022-06-20T10:32:42.768Z"
   },
   {
    "duration": 3,
    "start_time": "2022-06-20T10:32:42.796Z"
   },
   {
    "duration": 746,
    "start_time": "2022-06-20T10:34:46.227Z"
   },
   {
    "duration": 167,
    "start_time": "2022-06-20T10:34:47.309Z"
   },
   {
    "duration": 17,
    "start_time": "2022-06-20T10:34:47.478Z"
   },
   {
    "duration": 32,
    "start_time": "2022-06-20T10:34:47.664Z"
   },
   {
    "duration": 45,
    "start_time": "2022-06-20T10:34:47.698Z"
   },
   {
    "duration": 175,
    "start_time": "2022-06-20T10:34:47.745Z"
   },
   {
    "duration": 15,
    "start_time": "2022-06-20T10:34:47.923Z"
   },
   {
    "duration": 22,
    "start_time": "2022-06-20T10:34:47.941Z"
   },
   {
    "duration": 19,
    "start_time": "2022-06-20T10:34:48.252Z"
   },
   {
    "duration": 96,
    "start_time": "2022-06-20T10:34:48.273Z"
   },
   {
    "duration": 16,
    "start_time": "2022-06-20T10:34:48.370Z"
   },
   {
    "duration": 17,
    "start_time": "2022-06-20T10:34:48.393Z"
   },
   {
    "duration": 35,
    "start_time": "2022-06-20T10:34:48.411Z"
   },
   {
    "duration": 36,
    "start_time": "2022-06-20T10:34:48.447Z"
   },
   {
    "duration": 4,
    "start_time": "2022-06-20T10:34:48.485Z"
   },
   {
    "duration": 7,
    "start_time": "2022-06-20T10:34:48.490Z"
   },
   {
    "duration": 18,
    "start_time": "2022-06-20T10:34:48.498Z"
   },
   {
    "duration": 104,
    "start_time": "2022-06-20T10:34:48.517Z"
   },
   {
    "duration": 41,
    "start_time": "2022-06-20T10:34:48.623Z"
   },
   {
    "duration": 11,
    "start_time": "2022-06-20T10:34:48.665Z"
   },
   {
    "duration": 49,
    "start_time": "2022-06-20T10:34:48.677Z"
   },
   {
    "duration": 19,
    "start_time": "2022-06-20T10:34:48.728Z"
   },
   {
    "duration": 4,
    "start_time": "2022-06-20T10:34:48.749Z"
   },
   {
    "duration": 39,
    "start_time": "2022-06-20T10:34:48.755Z"
   },
   {
    "duration": 28,
    "start_time": "2022-06-20T10:34:48.796Z"
   },
   {
    "duration": 49,
    "start_time": "2022-06-20T10:34:48.826Z"
   },
   {
    "duration": 13,
    "start_time": "2022-06-20T10:34:48.894Z"
   },
   {
    "duration": 17,
    "start_time": "2022-06-20T10:34:48.909Z"
   },
   {
    "duration": 25,
    "start_time": "2022-06-20T10:34:48.927Z"
   },
   {
    "duration": 15,
    "start_time": "2022-06-20T10:34:48.954Z"
   },
   {
    "duration": 39,
    "start_time": "2022-06-20T10:34:48.994Z"
   },
   {
    "duration": 25,
    "start_time": "2022-06-20T10:34:49.035Z"
   },
   {
    "duration": 42,
    "start_time": "2022-06-20T10:34:49.062Z"
   },
   {
    "duration": 35,
    "start_time": "2022-06-20T10:34:49.107Z"
   },
   {
    "duration": 3,
    "start_time": "2022-06-20T10:34:49.143Z"
   },
   {
    "duration": 53,
    "start_time": "2022-06-20T10:34:49.147Z"
   },
   {
    "duration": 23,
    "start_time": "2022-06-20T10:34:49.202Z"
   },
   {
    "duration": 24,
    "start_time": "2022-06-20T10:34:49.226Z"
   },
   {
    "duration": 53,
    "start_time": "2022-06-20T10:34:49.252Z"
   },
   {
    "duration": 96,
    "start_time": "2022-06-20T10:34:49.306Z"
   },
   {
    "duration": 33,
    "start_time": "2022-06-20T10:34:49.404Z"
   },
   {
    "duration": 25,
    "start_time": "2022-06-20T10:34:49.439Z"
   },
   {
    "duration": 373,
    "start_time": "2022-06-20T10:34:49.465Z"
   },
   {
    "duration": 136,
    "start_time": "2022-06-20T10:34:49.839Z"
   },
   {
    "duration": 153,
    "start_time": "2022-06-20T10:34:49.977Z"
   },
   {
    "duration": 123,
    "start_time": "2022-06-20T10:34:50.132Z"
   },
   {
    "duration": 137,
    "start_time": "2022-06-20T10:34:50.257Z"
   },
   {
    "duration": 131,
    "start_time": "2022-06-20T10:34:50.395Z"
   },
   {
    "duration": 21,
    "start_time": "2022-06-20T10:34:50.528Z"
   },
   {
    "duration": 4,
    "start_time": "2022-06-20T10:34:50.550Z"
   },
   {
    "duration": 789,
    "start_time": "2022-06-20T10:35:31.235Z"
   },
   {
    "duration": 183,
    "start_time": "2022-06-20T10:35:32.026Z"
   },
   {
    "duration": 14,
    "start_time": "2022-06-20T10:35:32.211Z"
   },
   {
    "duration": 29,
    "start_time": "2022-06-20T10:35:32.227Z"
   },
   {
    "duration": 39,
    "start_time": "2022-06-20T10:35:32.257Z"
   },
   {
    "duration": 139,
    "start_time": "2022-06-20T10:35:32.297Z"
   },
   {
    "duration": 12,
    "start_time": "2022-06-20T10:35:32.437Z"
   },
   {
    "duration": 21,
    "start_time": "2022-06-20T10:35:32.450Z"
   },
   {
    "duration": 32,
    "start_time": "2022-06-20T10:35:32.473Z"
   },
   {
    "duration": 104,
    "start_time": "2022-06-20T10:35:32.508Z"
   },
   {
    "duration": 17,
    "start_time": "2022-06-20T10:35:32.614Z"
   },
   {
    "duration": 17,
    "start_time": "2022-06-20T10:35:32.633Z"
   },
   {
    "duration": 40,
    "start_time": "2022-06-20T10:35:32.651Z"
   },
   {
    "duration": 38,
    "start_time": "2022-06-20T10:35:32.694Z"
   },
   {
    "duration": 4,
    "start_time": "2022-06-20T10:35:32.734Z"
   },
   {
    "duration": 26,
    "start_time": "2022-06-20T10:35:32.739Z"
   },
   {
    "duration": 33,
    "start_time": "2022-06-20T10:35:32.766Z"
   },
   {
    "duration": 121,
    "start_time": "2022-06-20T10:35:32.801Z"
   },
   {
    "duration": 37,
    "start_time": "2022-06-20T10:35:32.923Z"
   },
   {
    "duration": 25,
    "start_time": "2022-06-20T10:35:32.962Z"
   },
   {
    "duration": 50,
    "start_time": "2022-06-20T10:35:32.989Z"
   },
   {
    "duration": 20,
    "start_time": "2022-06-20T10:35:33.040Z"
   },
   {
    "duration": 24,
    "start_time": "2022-06-20T10:35:33.062Z"
   },
   {
    "duration": 36,
    "start_time": "2022-06-20T10:35:33.088Z"
   },
   {
    "duration": 22,
    "start_time": "2022-06-20T10:35:33.126Z"
   },
   {
    "duration": 50,
    "start_time": "2022-06-20T10:35:33.149Z"
   },
   {
    "duration": 34,
    "start_time": "2022-06-20T10:35:33.201Z"
   },
   {
    "duration": 37,
    "start_time": "2022-06-20T10:35:33.238Z"
   },
   {
    "duration": 51,
    "start_time": "2022-06-20T10:35:33.276Z"
   },
   {
    "duration": 16,
    "start_time": "2022-06-20T10:35:33.328Z"
   },
   {
    "duration": 52,
    "start_time": "2022-06-20T10:35:33.346Z"
   },
   {
    "duration": 26,
    "start_time": "2022-06-20T10:35:33.399Z"
   },
   {
    "duration": 39,
    "start_time": "2022-06-20T10:35:33.426Z"
   },
   {
    "duration": 58,
    "start_time": "2022-06-20T10:35:33.467Z"
   },
   {
    "duration": 3,
    "start_time": "2022-06-20T10:35:33.526Z"
   },
   {
    "duration": 46,
    "start_time": "2022-06-20T10:35:33.530Z"
   },
   {
    "duration": 38,
    "start_time": "2022-06-20T10:35:33.578Z"
   },
   {
    "duration": 26,
    "start_time": "2022-06-20T10:35:33.617Z"
   },
   {
    "duration": 52,
    "start_time": "2022-06-20T10:35:33.644Z"
   },
   {
    "duration": 102,
    "start_time": "2022-06-20T10:35:33.697Z"
   },
   {
    "duration": 31,
    "start_time": "2022-06-20T10:35:33.800Z"
   },
   {
    "duration": 37,
    "start_time": "2022-06-20T10:35:33.833Z"
   },
   {
    "duration": 589,
    "start_time": "2022-06-20T10:35:33.871Z"
   },
   {
    "duration": 136,
    "start_time": "2022-06-20T10:35:34.461Z"
   },
   {
    "duration": 127,
    "start_time": "2022-06-20T10:35:34.599Z"
   },
   {
    "duration": 125,
    "start_time": "2022-06-20T10:35:34.728Z"
   },
   {
    "duration": 124,
    "start_time": "2022-06-20T10:35:34.855Z"
   },
   {
    "duration": 161,
    "start_time": "2022-06-20T10:35:34.982Z"
   },
   {
    "duration": 22,
    "start_time": "2022-06-20T10:35:35.145Z"
   },
   {
    "duration": 5,
    "start_time": "2022-06-20T10:35:35.168Z"
   },
   {
    "duration": 773,
    "start_time": "2022-06-20T10:36:33.713Z"
   },
   {
    "duration": 173,
    "start_time": "2022-06-20T10:36:34.493Z"
   },
   {
    "duration": 14,
    "start_time": "2022-06-20T10:36:34.667Z"
   },
   {
    "duration": 35,
    "start_time": "2022-06-20T10:36:34.683Z"
   },
   {
    "duration": 21,
    "start_time": "2022-06-20T10:36:34.719Z"
   },
   {
    "duration": 143,
    "start_time": "2022-06-20T10:36:34.741Z"
   },
   {
    "duration": 13,
    "start_time": "2022-06-20T10:36:34.885Z"
   },
   {
    "duration": 20,
    "start_time": "2022-06-20T10:36:34.900Z"
   },
   {
    "duration": 20,
    "start_time": "2022-06-20T10:36:34.921Z"
   },
   {
    "duration": 113,
    "start_time": "2022-06-20T10:36:34.945Z"
   },
   {
    "duration": 18,
    "start_time": "2022-06-20T10:36:35.060Z"
   },
   {
    "duration": 17,
    "start_time": "2022-06-20T10:36:35.094Z"
   },
   {
    "duration": 25,
    "start_time": "2022-06-20T10:36:35.112Z"
   },
   {
    "duration": 36,
    "start_time": "2022-06-20T10:36:35.138Z"
   },
   {
    "duration": 3,
    "start_time": "2022-06-20T10:36:35.176Z"
   },
   {
    "duration": 7,
    "start_time": "2022-06-20T10:36:35.181Z"
   },
   {
    "duration": 19,
    "start_time": "2022-06-20T10:36:35.189Z"
   },
   {
    "duration": 101,
    "start_time": "2022-06-20T10:36:35.210Z"
   },
   {
    "duration": 38,
    "start_time": "2022-06-20T10:36:35.312Z"
   },
   {
    "duration": 12,
    "start_time": "2022-06-20T10:36:35.351Z"
   },
   {
    "duration": 57,
    "start_time": "2022-06-20T10:36:35.364Z"
   },
   {
    "duration": 19,
    "start_time": "2022-06-20T10:36:35.423Z"
   },
   {
    "duration": 4,
    "start_time": "2022-06-20T10:36:35.444Z"
   },
   {
    "duration": 16,
    "start_time": "2022-06-20T10:36:35.449Z"
   },
   {
    "duration": 41,
    "start_time": "2022-06-20T10:36:35.466Z"
   },
   {
    "duration": 36,
    "start_time": "2022-06-20T10:36:35.508Z"
   },
   {
    "duration": 12,
    "start_time": "2022-06-20T10:36:35.546Z"
   },
   {
    "duration": 36,
    "start_time": "2022-06-20T10:36:35.561Z"
   },
   {
    "duration": 27,
    "start_time": "2022-06-20T10:36:35.599Z"
   },
   {
    "duration": 14,
    "start_time": "2022-06-20T10:36:35.628Z"
   },
   {
    "duration": 60,
    "start_time": "2022-06-20T10:36:35.644Z"
   },
   {
    "duration": 26,
    "start_time": "2022-06-20T10:36:35.706Z"
   },
   {
    "duration": 13,
    "start_time": "2022-06-20T10:36:35.733Z"
   },
   {
    "duration": 54,
    "start_time": "2022-06-20T10:36:35.747Z"
   },
   {
    "duration": 3,
    "start_time": "2022-06-20T10:36:35.802Z"
   },
   {
    "duration": 29,
    "start_time": "2022-06-20T10:36:35.806Z"
   },
   {
    "duration": 22,
    "start_time": "2022-06-20T10:36:35.836Z"
   },
   {
    "duration": 41,
    "start_time": "2022-06-20T10:36:35.860Z"
   },
   {
    "duration": 18,
    "start_time": "2022-06-20T10:36:35.903Z"
   },
   {
    "duration": 98,
    "start_time": "2022-06-20T10:36:35.923Z"
   },
   {
    "duration": 27,
    "start_time": "2022-06-20T10:36:36.023Z"
   },
   {
    "duration": 21,
    "start_time": "2022-06-20T10:36:36.051Z"
   },
   {
    "duration": 358,
    "start_time": "2022-06-20T10:36:36.073Z"
   },
   {
    "duration": 129,
    "start_time": "2022-06-20T10:36:36.432Z"
   },
   {
    "duration": 116,
    "start_time": "2022-06-20T10:36:36.563Z"
   },
   {
    "duration": 119,
    "start_time": "2022-06-20T10:36:36.681Z"
   },
   {
    "duration": 122,
    "start_time": "2022-06-20T10:36:36.801Z"
   },
   {
    "duration": 126,
    "start_time": "2022-06-20T10:36:36.925Z"
   },
   {
    "duration": 20,
    "start_time": "2022-06-20T10:36:37.053Z"
   },
   {
    "duration": 4,
    "start_time": "2022-06-20T10:36:37.074Z"
   },
   {
    "duration": 9,
    "start_time": "2022-06-20T10:37:00.371Z"
   },
   {
    "duration": 11,
    "start_time": "2022-06-20T10:37:13.851Z"
   },
   {
    "duration": 12,
    "start_time": "2022-06-20T10:37:33.115Z"
   },
   {
    "duration": 781,
    "start_time": "2022-06-20T10:47:51.306Z"
   },
   {
    "duration": 165,
    "start_time": "2022-06-20T10:47:52.088Z"
   },
   {
    "duration": 13,
    "start_time": "2022-06-20T10:47:52.254Z"
   },
   {
    "duration": 35,
    "start_time": "2022-06-20T10:47:52.269Z"
   },
   {
    "duration": 19,
    "start_time": "2022-06-20T10:47:52.306Z"
   },
   {
    "duration": 135,
    "start_time": "2022-06-20T10:47:52.326Z"
   },
   {
    "duration": 10,
    "start_time": "2022-06-20T10:47:52.463Z"
   },
   {
    "duration": 28,
    "start_time": "2022-06-20T10:47:52.475Z"
   },
   {
    "duration": 18,
    "start_time": "2022-06-20T10:47:52.505Z"
   },
   {
    "duration": 96,
    "start_time": "2022-06-20T10:47:52.525Z"
   },
   {
    "duration": 16,
    "start_time": "2022-06-20T10:47:52.623Z"
   },
   {
    "duration": 23,
    "start_time": "2022-06-20T10:47:52.640Z"
   },
   {
    "duration": 24,
    "start_time": "2022-06-20T10:47:52.664Z"
   },
   {
    "duration": 36,
    "start_time": "2022-06-20T10:47:52.689Z"
   },
   {
    "duration": 3,
    "start_time": "2022-06-20T10:47:52.726Z"
   },
   {
    "duration": 10,
    "start_time": "2022-06-20T10:47:52.731Z"
   },
   {
    "duration": 27,
    "start_time": "2022-06-20T10:47:52.742Z"
   },
   {
    "duration": 97,
    "start_time": "2022-06-20T10:47:52.771Z"
   },
   {
    "duration": 42,
    "start_time": "2022-06-20T10:47:52.870Z"
   },
   {
    "duration": 11,
    "start_time": "2022-06-20T10:47:52.913Z"
   },
   {
    "duration": 38,
    "start_time": "2022-06-20T10:47:52.925Z"
   },
   {
    "duration": 34,
    "start_time": "2022-06-20T10:47:52.964Z"
   },
   {
    "duration": 4,
    "start_time": "2022-06-20T10:47:52.999Z"
   },
   {
    "duration": 24,
    "start_time": "2022-06-20T10:47:53.004Z"
   },
   {
    "duration": 23,
    "start_time": "2022-06-20T10:47:53.030Z"
   },
   {
    "duration": 42,
    "start_time": "2022-06-20T10:47:53.055Z"
   },
   {
    "duration": 13,
    "start_time": "2022-06-20T10:47:53.098Z"
   },
   {
    "duration": 16,
    "start_time": "2022-06-20T10:47:53.113Z"
   },
   {
    "duration": 25,
    "start_time": "2022-06-20T10:47:53.131Z"
   },
   {
    "duration": 37,
    "start_time": "2022-06-20T10:47:53.157Z"
   },
   {
    "duration": 38,
    "start_time": "2022-06-20T10:47:53.196Z"
   },
   {
    "duration": 25,
    "start_time": "2022-06-20T10:47:53.236Z"
   },
   {
    "duration": 11,
    "start_time": "2022-06-20T10:47:53.262Z"
   },
   {
    "duration": 33,
    "start_time": "2022-06-20T10:47:53.295Z"
   },
   {
    "duration": 2,
    "start_time": "2022-06-20T10:47:53.330Z"
   },
   {
    "duration": 29,
    "start_time": "2022-06-20T10:47:53.334Z"
   },
   {
    "duration": 38,
    "start_time": "2022-06-20T10:47:53.364Z"
   },
   {
    "duration": 22,
    "start_time": "2022-06-20T10:47:53.404Z"
   },
   {
    "duration": 19,
    "start_time": "2022-06-20T10:47:53.427Z"
   },
   {
    "duration": 106,
    "start_time": "2022-06-20T10:47:53.447Z"
   },
   {
    "duration": 20,
    "start_time": "2022-06-20T10:47:53.555Z"
   },
   {
    "duration": 29,
    "start_time": "2022-06-20T10:47:53.576Z"
   },
   {
    "duration": 354,
    "start_time": "2022-06-20T10:47:53.607Z"
   },
   {
    "duration": 135,
    "start_time": "2022-06-20T10:47:53.963Z"
   },
   {
    "duration": 119,
    "start_time": "2022-06-20T10:47:54.099Z"
   },
   {
    "duration": 111,
    "start_time": "2022-06-20T10:47:54.220Z"
   },
   {
    "duration": 125,
    "start_time": "2022-06-20T10:47:54.333Z"
   },
   {
    "duration": 125,
    "start_time": "2022-06-20T10:47:54.459Z"
   },
   {
    "duration": 82,
    "start_time": "2022-06-20T10:47:54.586Z"
   },
   {
    "duration": 5,
    "start_time": "2022-06-20T10:47:54.669Z"
   },
   {
    "duration": 25,
    "start_time": "2022-06-20T10:47:54.675Z"
   },
   {
    "duration": 5,
    "start_time": "2022-06-20T10:49:51.585Z"
   },
   {
    "duration": 5,
    "start_time": "2022-06-20T10:49:56.891Z"
   },
   {
    "duration": 4,
    "start_time": "2022-06-20T10:49:59.394Z"
   },
   {
    "duration": 4,
    "start_time": "2022-06-20T10:54:59.552Z"
   },
   {
    "duration": 9,
    "start_time": "2022-06-20T10:57:15.047Z"
   },
   {
    "duration": 947,
    "start_time": "2022-06-20T15:42:21.146Z"
   },
   {
    "duration": 366,
    "start_time": "2022-06-20T15:42:22.096Z"
   },
   {
    "duration": 21,
    "start_time": "2022-06-20T15:42:22.465Z"
   },
   {
    "duration": 65,
    "start_time": "2022-06-20T15:42:22.489Z"
   },
   {
    "duration": 43,
    "start_time": "2022-06-20T15:42:22.557Z"
   },
   {
    "duration": 398,
    "start_time": "2022-06-20T15:42:22.602Z"
   },
   {
    "duration": 14,
    "start_time": "2022-06-20T15:42:23.005Z"
   },
   {
    "duration": 52,
    "start_time": "2022-06-20T15:42:23.021Z"
   },
   {
    "duration": 34,
    "start_time": "2022-06-20T15:42:23.076Z"
   },
   {
    "duration": 361,
    "start_time": "2022-06-20T15:42:23.114Z"
   },
   {
    "duration": 27,
    "start_time": "2022-06-20T15:42:23.477Z"
   },
   {
    "duration": 31,
    "start_time": "2022-06-20T15:42:23.506Z"
   },
   {
    "duration": 85,
    "start_time": "2022-06-20T15:42:23.539Z"
   },
   {
    "duration": 80,
    "start_time": "2022-06-20T15:42:23.626Z"
   },
   {
    "duration": 13,
    "start_time": "2022-06-20T15:42:23.709Z"
   },
   {
    "duration": 31,
    "start_time": "2022-06-20T15:42:23.725Z"
   },
   {
    "duration": 58,
    "start_time": "2022-06-20T15:42:23.759Z"
   },
   {
    "duration": 223,
    "start_time": "2022-06-20T15:42:23.819Z"
   },
   {
    "duration": 89,
    "start_time": "2022-06-20T15:42:24.045Z"
   },
   {
    "duration": 20,
    "start_time": "2022-06-20T15:42:24.137Z"
   },
   {
    "duration": 88,
    "start_time": "2022-06-20T15:42:24.159Z"
   },
   {
    "duration": 28,
    "start_time": "2022-06-20T15:42:24.250Z"
   },
   {
    "duration": 17,
    "start_time": "2022-06-20T15:42:24.281Z"
   },
   {
    "duration": 103,
    "start_time": "2022-06-20T15:42:24.300Z"
   },
   {
    "duration": 50,
    "start_time": "2022-06-20T15:42:24.405Z"
   },
   {
    "duration": 81,
    "start_time": "2022-06-20T15:42:24.457Z"
   },
   {
    "duration": 24,
    "start_time": "2022-06-20T15:42:24.542Z"
   },
   {
    "duration": 39,
    "start_time": "2022-06-20T15:42:24.573Z"
   },
   {
    "duration": 133,
    "start_time": "2022-06-20T15:42:24.614Z"
   },
   {
    "duration": 118,
    "start_time": "2022-06-20T15:42:24.754Z"
   },
   {
    "duration": 120,
    "start_time": "2022-06-20T15:42:24.879Z"
   },
   {
    "duration": 44,
    "start_time": "2022-06-20T15:42:25.004Z"
   },
   {
    "duration": 46,
    "start_time": "2022-06-20T15:42:25.050Z"
   },
   {
    "duration": 111,
    "start_time": "2022-06-20T15:42:25.098Z"
   },
   {
    "duration": 3,
    "start_time": "2022-06-20T15:42:25.213Z"
   },
   {
    "duration": 82,
    "start_time": "2022-06-20T15:42:25.218Z"
   },
   {
    "duration": 45,
    "start_time": "2022-06-20T15:42:25.302Z"
   },
   {
    "duration": 32,
    "start_time": "2022-06-20T15:42:25.349Z"
   },
   {
    "duration": 37,
    "start_time": "2022-06-20T15:42:25.394Z"
   },
   {
    "duration": 150,
    "start_time": "2022-06-20T15:42:25.432Z"
   },
   {
    "duration": 38,
    "start_time": "2022-06-20T15:42:25.584Z"
   },
   {
    "duration": 28,
    "start_time": "2022-06-20T15:42:25.625Z"
   },
   {
    "duration": 738,
    "start_time": "2022-06-20T15:42:25.656Z"
   },
   {
    "duration": 241,
    "start_time": "2022-06-20T15:42:26.397Z"
   },
   {
    "duration": 168,
    "start_time": "2022-06-20T15:42:26.640Z"
   },
   {
    "duration": 165,
    "start_time": "2022-06-20T15:42:26.810Z"
   },
   {
    "duration": 212,
    "start_time": "2022-06-20T15:42:26.977Z"
   },
   {
    "duration": 159,
    "start_time": "2022-06-20T15:42:27.193Z"
   },
   {
    "duration": 119,
    "start_time": "2022-06-20T15:42:27.354Z"
   },
   {
    "duration": 23,
    "start_time": "2022-06-20T15:42:27.476Z"
   },
   {
    "duration": 24,
    "start_time": "2022-06-20T15:42:27.502Z"
   },
   {
    "duration": 19,
    "start_time": "2022-06-20T15:42:27.528Z"
   },
   {
    "duration": 31,
    "start_time": "2022-06-20T15:42:27.550Z"
   },
   {
    "duration": 950,
    "start_time": "2022-06-20T15:43:57.596Z"
   },
   {
    "duration": 237,
    "start_time": "2022-06-20T15:43:58.549Z"
   },
   {
    "duration": 24,
    "start_time": "2022-06-20T15:43:58.789Z"
   },
   {
    "duration": 52,
    "start_time": "2022-06-20T15:43:58.817Z"
   },
   {
    "duration": 60,
    "start_time": "2022-06-20T15:43:58.871Z"
   },
   {
    "duration": 255,
    "start_time": "2022-06-20T15:43:58.937Z"
   },
   {
    "duration": 24,
    "start_time": "2022-06-20T15:43:59.201Z"
   },
   {
    "duration": 53,
    "start_time": "2022-06-20T15:43:59.227Z"
   },
   {
    "duration": 36,
    "start_time": "2022-06-20T15:43:59.283Z"
   },
   {
    "duration": 193,
    "start_time": "2022-06-20T15:43:59.324Z"
   },
   {
    "duration": 31,
    "start_time": "2022-06-20T15:43:59.519Z"
   },
   {
    "duration": 20,
    "start_time": "2022-06-20T15:43:59.552Z"
   },
   {
    "duration": 63,
    "start_time": "2022-06-20T15:43:59.574Z"
   },
   {
    "duration": 53,
    "start_time": "2022-06-20T15:43:59.638Z"
   },
   {
    "duration": 5,
    "start_time": "2022-06-20T15:43:59.694Z"
   },
   {
    "duration": 27,
    "start_time": "2022-06-20T15:43:59.702Z"
   },
   {
    "duration": 23,
    "start_time": "2022-06-20T15:43:59.732Z"
   },
   {
    "duration": 130,
    "start_time": "2022-06-20T15:43:59.757Z"
   },
   {
    "duration": 6,
    "start_time": "2022-06-20T15:43:59.889Z"
   },
   {
    "duration": 47,
    "start_time": "2022-06-20T15:43:59.897Z"
   },
   {
    "duration": 84,
    "start_time": "2022-06-20T15:43:59.947Z"
   },
   {
    "duration": 32,
    "start_time": "2022-06-20T15:44:00.036Z"
   },
   {
    "duration": 7,
    "start_time": "2022-06-20T15:44:00.070Z"
   },
   {
    "duration": 57,
    "start_time": "2022-06-20T15:44:00.079Z"
   },
   {
    "duration": 29,
    "start_time": "2022-06-20T15:44:00.138Z"
   },
   {
    "duration": 73,
    "start_time": "2022-06-20T15:44:00.170Z"
   },
   {
    "duration": 19,
    "start_time": "2022-06-20T15:44:00.246Z"
   },
   {
    "duration": 53,
    "start_time": "2022-06-20T15:44:00.270Z"
   },
   {
    "duration": 53,
    "start_time": "2022-06-20T15:44:00.328Z"
   },
   {
    "duration": 22,
    "start_time": "2022-06-20T15:44:00.383Z"
   },
   {
    "duration": 109,
    "start_time": "2022-06-20T15:44:00.408Z"
   },
   {
    "duration": 43,
    "start_time": "2022-06-20T15:44:00.519Z"
   },
   {
    "duration": 35,
    "start_time": "2022-06-20T15:44:00.564Z"
   },
   {
    "duration": 60,
    "start_time": "2022-06-20T15:44:00.609Z"
   },
   {
    "duration": 8,
    "start_time": "2022-06-20T15:44:00.672Z"
   },
   {
    "duration": 72,
    "start_time": "2022-06-20T15:44:00.682Z"
   },
   {
    "duration": 60,
    "start_time": "2022-06-20T15:44:00.757Z"
   },
   {
    "duration": 57,
    "start_time": "2022-06-20T15:44:00.819Z"
   },
   {
    "duration": 28,
    "start_time": "2022-06-20T15:44:00.878Z"
   },
   {
    "duration": 132,
    "start_time": "2022-06-20T15:44:00.909Z"
   },
   {
    "duration": 36,
    "start_time": "2022-06-20T15:44:01.044Z"
   },
   {
    "duration": 67,
    "start_time": "2022-06-20T15:44:01.095Z"
   },
   {
    "duration": 525,
    "start_time": "2022-06-20T15:44:01.165Z"
   },
   {
    "duration": 241,
    "start_time": "2022-06-20T15:44:01.692Z"
   },
   {
    "duration": 204,
    "start_time": "2022-06-20T15:44:01.936Z"
   },
   {
    "duration": 289,
    "start_time": "2022-06-20T15:44:02.142Z"
   },
   {
    "duration": 337,
    "start_time": "2022-06-20T15:44:02.434Z"
   },
   {
    "duration": 225,
    "start_time": "2022-06-20T15:44:02.773Z"
   },
   {
    "duration": 121,
    "start_time": "2022-06-20T15:44:03.001Z"
   },
   {
    "duration": 9,
    "start_time": "2022-06-20T15:44:03.124Z"
   },
   {
    "duration": 15,
    "start_time": "2022-06-20T15:44:03.135Z"
   },
   {
    "duration": 9,
    "start_time": "2022-06-20T15:44:03.153Z"
   },
   {
    "duration": 43,
    "start_time": "2022-06-20T15:44:03.164Z"
   },
   {
    "duration": 947,
    "start_time": "2022-06-20T15:45:08.825Z"
   },
   {
    "duration": 207,
    "start_time": "2022-06-20T15:45:09.774Z"
   },
   {
    "duration": 23,
    "start_time": "2022-06-20T15:45:09.983Z"
   },
   {
    "duration": 39,
    "start_time": "2022-06-20T15:45:10.008Z"
   },
   {
    "duration": 51,
    "start_time": "2022-06-20T15:45:10.058Z"
   },
   {
    "duration": 168,
    "start_time": "2022-06-20T15:45:10.115Z"
   },
   {
    "duration": 16,
    "start_time": "2022-06-20T15:45:10.285Z"
   },
   {
    "duration": 25,
    "start_time": "2022-06-20T15:45:10.302Z"
   },
   {
    "duration": 26,
    "start_time": "2022-06-20T15:45:10.329Z"
   },
   {
    "duration": 139,
    "start_time": "2022-06-20T15:45:10.357Z"
   },
   {
    "duration": 32,
    "start_time": "2022-06-20T15:45:10.498Z"
   },
   {
    "duration": 28,
    "start_time": "2022-06-20T15:45:10.532Z"
   },
   {
    "duration": 45,
    "start_time": "2022-06-20T15:45:10.562Z"
   },
   {
    "duration": 51,
    "start_time": "2022-06-20T15:45:10.611Z"
   },
   {
    "duration": 10,
    "start_time": "2022-06-20T15:45:10.664Z"
   },
   {
    "duration": 34,
    "start_time": "2022-06-20T15:45:10.676Z"
   },
   {
    "duration": 36,
    "start_time": "2022-06-20T15:45:10.712Z"
   },
   {
    "duration": 112,
    "start_time": "2022-06-20T15:45:10.750Z"
   },
   {
    "duration": 53,
    "start_time": "2022-06-20T15:45:10.863Z"
   },
   {
    "duration": 13,
    "start_time": "2022-06-20T15:45:10.917Z"
   },
   {
    "duration": 64,
    "start_time": "2022-06-20T15:45:10.931Z"
   },
   {
    "duration": 22,
    "start_time": "2022-06-20T15:45:10.997Z"
   },
   {
    "duration": 5,
    "start_time": "2022-06-20T15:45:11.020Z"
   },
   {
    "duration": 20,
    "start_time": "2022-06-20T15:45:11.027Z"
   },
   {
    "duration": 51,
    "start_time": "2022-06-20T15:45:11.049Z"
   },
   {
    "duration": 41,
    "start_time": "2022-06-20T15:45:11.102Z"
   },
   {
    "duration": 15,
    "start_time": "2022-06-20T15:45:11.149Z"
   },
   {
    "duration": 41,
    "start_time": "2022-06-20T15:45:11.166Z"
   },
   {
    "duration": 34,
    "start_time": "2022-06-20T15:45:11.209Z"
   },
   {
    "duration": 17,
    "start_time": "2022-06-20T15:45:11.244Z"
   },
   {
    "duration": 88,
    "start_time": "2022-06-20T15:45:11.263Z"
   },
   {
    "duration": 54,
    "start_time": "2022-06-20T15:45:11.353Z"
   },
   {
    "duration": 16,
    "start_time": "2022-06-20T15:45:11.409Z"
   },
   {
    "duration": 42,
    "start_time": "2022-06-20T15:45:11.427Z"
   },
   {
    "duration": 24,
    "start_time": "2022-06-20T15:45:11.471Z"
   },
   {
    "duration": 48,
    "start_time": "2022-06-20T15:45:11.496Z"
   },
   {
    "duration": 26,
    "start_time": "2022-06-20T15:45:11.546Z"
   },
   {
    "duration": 43,
    "start_time": "2022-06-20T15:45:11.574Z"
   },
   {
    "duration": 25,
    "start_time": "2022-06-20T15:45:11.619Z"
   },
   {
    "duration": 124,
    "start_time": "2022-06-20T15:45:11.647Z"
   },
   {
    "duration": 40,
    "start_time": "2022-06-20T15:45:11.775Z"
   },
   {
    "duration": 22,
    "start_time": "2022-06-20T15:45:11.817Z"
   },
   {
    "duration": 433,
    "start_time": "2022-06-20T15:45:11.841Z"
   },
   {
    "duration": 174,
    "start_time": "2022-06-20T15:45:12.276Z"
   },
   {
    "duration": 175,
    "start_time": "2022-06-20T15:45:12.452Z"
   },
   {
    "duration": 190,
    "start_time": "2022-06-20T15:45:12.629Z"
   },
   {
    "duration": 167,
    "start_time": "2022-06-20T15:45:12.821Z"
   },
   {
    "duration": 180,
    "start_time": "2022-06-20T15:45:12.994Z"
   },
   {
    "duration": 130,
    "start_time": "2022-06-20T15:45:13.177Z"
   },
   {
    "duration": 4,
    "start_time": "2022-06-20T15:45:13.309Z"
   },
   {
    "duration": 15,
    "start_time": "2022-06-20T15:45:13.316Z"
   },
   {
    "duration": 6,
    "start_time": "2022-06-20T15:45:13.333Z"
   },
   {
    "duration": 17,
    "start_time": "2022-06-20T15:45:13.341Z"
   },
   {
    "duration": 940,
    "start_time": "2022-06-20T15:48:47.150Z"
   },
   {
    "duration": 260,
    "start_time": "2022-06-20T15:48:48.093Z"
   },
   {
    "duration": 20,
    "start_time": "2022-06-20T15:48:48.356Z"
   },
   {
    "duration": 58,
    "start_time": "2022-06-20T15:48:48.378Z"
   },
   {
    "duration": 40,
    "start_time": "2022-06-20T15:48:48.438Z"
   },
   {
    "duration": 189,
    "start_time": "2022-06-20T15:48:48.498Z"
   },
   {
    "duration": 16,
    "start_time": "2022-06-20T15:48:48.698Z"
   },
   {
    "duration": 39,
    "start_time": "2022-06-20T15:48:48.717Z"
   },
   {
    "duration": 23,
    "start_time": "2022-06-20T15:48:48.757Z"
   },
   {
    "duration": 170,
    "start_time": "2022-06-20T15:48:48.783Z"
   },
   {
    "duration": 33,
    "start_time": "2022-06-20T15:48:48.955Z"
   },
   {
    "duration": 34,
    "start_time": "2022-06-20T15:48:48.991Z"
   },
   {
    "duration": 74,
    "start_time": "2022-06-20T15:48:49.028Z"
   },
   {
    "duration": 68,
    "start_time": "2022-06-20T15:48:49.104Z"
   },
   {
    "duration": 5,
    "start_time": "2022-06-20T15:48:49.175Z"
   },
   {
    "duration": 66,
    "start_time": "2022-06-20T15:48:49.182Z"
   },
   {
    "duration": 43,
    "start_time": "2022-06-20T15:48:49.250Z"
   },
   {
    "duration": 190,
    "start_time": "2022-06-20T15:48:49.295Z"
   },
   {
    "duration": 66,
    "start_time": "2022-06-20T15:48:49.488Z"
   },
   {
    "duration": 14,
    "start_time": "2022-06-20T15:48:49.555Z"
   },
   {
    "duration": 90,
    "start_time": "2022-06-20T15:48:49.571Z"
   },
   {
    "duration": 33,
    "start_time": "2022-06-20T15:48:49.663Z"
   },
   {
    "duration": 8,
    "start_time": "2022-06-20T15:48:49.699Z"
   },
   {
    "duration": 31,
    "start_time": "2022-06-20T15:48:49.709Z"
   },
   {
    "duration": 0,
    "start_time": "2022-06-20T15:48:49.743Z"
   },
   {
    "duration": 0,
    "start_time": "2022-06-20T15:48:49.745Z"
   },
   {
    "duration": 0,
    "start_time": "2022-06-20T15:48:49.747Z"
   },
   {
    "duration": 0,
    "start_time": "2022-06-20T15:48:49.748Z"
   },
   {
    "duration": 0,
    "start_time": "2022-06-20T15:48:49.750Z"
   },
   {
    "duration": 0,
    "start_time": "2022-06-20T15:48:49.751Z"
   },
   {
    "duration": 0,
    "start_time": "2022-06-20T15:48:49.752Z"
   },
   {
    "duration": 0,
    "start_time": "2022-06-20T15:48:49.753Z"
   },
   {
    "duration": 0,
    "start_time": "2022-06-20T15:48:49.754Z"
   },
   {
    "duration": 0,
    "start_time": "2022-06-20T15:48:49.755Z"
   },
   {
    "duration": 0,
    "start_time": "2022-06-20T15:48:49.757Z"
   },
   {
    "duration": 0,
    "start_time": "2022-06-20T15:48:49.759Z"
   },
   {
    "duration": 0,
    "start_time": "2022-06-20T15:48:49.760Z"
   },
   {
    "duration": 0,
    "start_time": "2022-06-20T15:48:49.761Z"
   },
   {
    "duration": 0,
    "start_time": "2022-06-20T15:48:49.763Z"
   },
   {
    "duration": 0,
    "start_time": "2022-06-20T15:48:49.764Z"
   },
   {
    "duration": 0,
    "start_time": "2022-06-20T15:48:49.765Z"
   },
   {
    "duration": 0,
    "start_time": "2022-06-20T15:48:49.766Z"
   },
   {
    "duration": 0,
    "start_time": "2022-06-20T15:48:49.767Z"
   },
   {
    "duration": 0,
    "start_time": "2022-06-20T15:48:49.768Z"
   },
   {
    "duration": 0,
    "start_time": "2022-06-20T15:48:49.769Z"
   },
   {
    "duration": 0,
    "start_time": "2022-06-20T15:48:49.770Z"
   },
   {
    "duration": 0,
    "start_time": "2022-06-20T15:48:49.795Z"
   },
   {
    "duration": 0,
    "start_time": "2022-06-20T15:48:49.796Z"
   },
   {
    "duration": 0,
    "start_time": "2022-06-20T15:48:49.799Z"
   },
   {
    "duration": 0,
    "start_time": "2022-06-20T15:48:49.800Z"
   },
   {
    "duration": 0,
    "start_time": "2022-06-20T15:48:49.801Z"
   },
   {
    "duration": 0,
    "start_time": "2022-06-20T15:48:49.802Z"
   },
   {
    "duration": 0,
    "start_time": "2022-06-20T15:48:49.803Z"
   },
   {
    "duration": 966,
    "start_time": "2022-06-20T15:49:22.838Z"
   },
   {
    "duration": 266,
    "start_time": "2022-06-20T15:49:23.812Z"
   },
   {
    "duration": 39,
    "start_time": "2022-06-20T15:49:24.081Z"
   },
   {
    "duration": 47,
    "start_time": "2022-06-20T15:49:24.126Z"
   },
   {
    "duration": 51,
    "start_time": "2022-06-20T15:49:24.175Z"
   },
   {
    "duration": 195,
    "start_time": "2022-06-20T15:49:24.228Z"
   },
   {
    "duration": 20,
    "start_time": "2022-06-20T15:49:24.425Z"
   },
   {
    "duration": 24,
    "start_time": "2022-06-20T15:49:24.447Z"
   },
   {
    "duration": 49,
    "start_time": "2022-06-20T15:49:24.473Z"
   },
   {
    "duration": 134,
    "start_time": "2022-06-20T15:49:24.526Z"
   },
   {
    "duration": 21,
    "start_time": "2022-06-20T15:49:24.665Z"
   },
   {
    "duration": 29,
    "start_time": "2022-06-20T15:49:24.688Z"
   },
   {
    "duration": 44,
    "start_time": "2022-06-20T15:49:24.719Z"
   },
   {
    "duration": 53,
    "start_time": "2022-06-20T15:49:24.766Z"
   },
   {
    "duration": 5,
    "start_time": "2022-06-20T15:49:24.821Z"
   },
   {
    "duration": 17,
    "start_time": "2022-06-20T15:49:24.828Z"
   },
   {
    "duration": 29,
    "start_time": "2022-06-20T15:49:24.847Z"
   },
   {
    "duration": 160,
    "start_time": "2022-06-20T15:49:24.878Z"
   },
   {
    "duration": 72,
    "start_time": "2022-06-20T15:49:25.040Z"
   },
   {
    "duration": 22,
    "start_time": "2022-06-20T15:49:25.117Z"
   },
   {
    "duration": 65,
    "start_time": "2022-06-20T15:49:25.141Z"
   },
   {
    "duration": 29,
    "start_time": "2022-06-20T15:49:25.208Z"
   },
   {
    "duration": 6,
    "start_time": "2022-06-20T15:49:25.239Z"
   },
   {
    "duration": 7,
    "start_time": "2022-06-20T15:49:25.247Z"
   },
   {
    "duration": 66,
    "start_time": "2022-06-20T15:49:25.257Z"
   },
   {
    "duration": 57,
    "start_time": "2022-06-20T15:49:25.334Z"
   },
   {
    "duration": 25,
    "start_time": "2022-06-20T15:49:25.393Z"
   },
   {
    "duration": 39,
    "start_time": "2022-06-20T15:49:25.423Z"
   },
   {
    "duration": 59,
    "start_time": "2022-06-20T15:49:25.465Z"
   },
   {
    "duration": 24,
    "start_time": "2022-06-20T15:49:25.526Z"
   },
   {
    "duration": 87,
    "start_time": "2022-06-20T15:49:25.553Z"
   },
   {
    "duration": 46,
    "start_time": "2022-06-20T15:49:25.643Z"
   },
   {
    "duration": 17,
    "start_time": "2022-06-20T15:49:25.697Z"
   },
   {
    "duration": 73,
    "start_time": "2022-06-20T15:49:25.717Z"
   },
   {
    "duration": 6,
    "start_time": "2022-06-20T15:49:25.793Z"
   },
   {
    "duration": 52,
    "start_time": "2022-06-20T15:49:25.801Z"
   },
   {
    "duration": 28,
    "start_time": "2022-06-20T15:49:25.855Z"
   },
   {
    "duration": 48,
    "start_time": "2022-06-20T15:49:25.885Z"
   },
   {
    "duration": 37,
    "start_time": "2022-06-20T15:49:25.935Z"
   },
   {
    "duration": 160,
    "start_time": "2022-06-20T15:49:25.974Z"
   },
   {
    "duration": 27,
    "start_time": "2022-06-20T15:49:26.137Z"
   },
   {
    "duration": 48,
    "start_time": "2022-06-20T15:49:26.166Z"
   },
   {
    "duration": 497,
    "start_time": "2022-06-20T15:49:26.216Z"
   },
   {
    "duration": 175,
    "start_time": "2022-06-20T15:49:26.716Z"
   },
   {
    "duration": 162,
    "start_time": "2022-06-20T15:49:26.901Z"
   },
   {
    "duration": 170,
    "start_time": "2022-06-20T15:49:27.065Z"
   },
   {
    "duration": 152,
    "start_time": "2022-06-20T15:49:27.237Z"
   },
   {
    "duration": 213,
    "start_time": "2022-06-20T15:49:27.397Z"
   },
   {
    "duration": 132,
    "start_time": "2022-06-20T15:49:27.616Z"
   },
   {
    "duration": 5,
    "start_time": "2022-06-20T15:49:27.750Z"
   },
   {
    "duration": 15,
    "start_time": "2022-06-20T15:49:27.756Z"
   },
   {
    "duration": 28,
    "start_time": "2022-06-20T15:49:27.773Z"
   },
   {
    "duration": 39,
    "start_time": "2022-06-20T15:49:27.810Z"
   },
   {
    "duration": 924,
    "start_time": "2022-06-20T15:50:46.992Z"
   },
   {
    "duration": 261,
    "start_time": "2022-06-20T15:50:47.918Z"
   },
   {
    "duration": 22,
    "start_time": "2022-06-20T15:50:48.181Z"
   },
   {
    "duration": 56,
    "start_time": "2022-06-20T15:50:48.206Z"
   },
   {
    "duration": 44,
    "start_time": "2022-06-20T15:50:48.264Z"
   },
   {
    "duration": 188,
    "start_time": "2022-06-20T15:50:48.311Z"
   },
   {
    "duration": 16,
    "start_time": "2022-06-20T15:50:48.501Z"
   },
   {
    "duration": 39,
    "start_time": "2022-06-20T15:50:48.521Z"
   },
   {
    "duration": 42,
    "start_time": "2022-06-20T15:50:48.562Z"
   },
   {
    "duration": 151,
    "start_time": "2022-06-20T15:50:48.608Z"
   },
   {
    "duration": 58,
    "start_time": "2022-06-20T15:50:48.761Z"
   },
   {
    "duration": 36,
    "start_time": "2022-06-20T15:50:48.825Z"
   },
   {
    "duration": 44,
    "start_time": "2022-06-20T15:50:48.863Z"
   },
   {
    "duration": 59,
    "start_time": "2022-06-20T15:50:48.909Z"
   },
   {
    "duration": 5,
    "start_time": "2022-06-20T15:50:48.970Z"
   },
   {
    "duration": 57,
    "start_time": "2022-06-20T15:50:48.977Z"
   },
   {
    "duration": 44,
    "start_time": "2022-06-20T15:50:49.036Z"
   },
   {
    "duration": 133,
    "start_time": "2022-06-20T15:50:49.082Z"
   },
   {
    "duration": 65,
    "start_time": "2022-06-20T15:50:49.217Z"
   },
   {
    "duration": 40,
    "start_time": "2022-06-20T15:50:49.284Z"
   },
   {
    "duration": 95,
    "start_time": "2022-06-20T15:50:49.327Z"
   },
   {
    "duration": 29,
    "start_time": "2022-06-20T15:50:49.425Z"
   },
   {
    "duration": 7,
    "start_time": "2022-06-20T15:50:49.456Z"
   },
   {
    "duration": 56,
    "start_time": "2022-06-20T15:50:49.466Z"
   },
   {
    "duration": 39,
    "start_time": "2022-06-20T15:50:49.524Z"
   },
   {
    "duration": 52,
    "start_time": "2022-06-20T15:50:49.565Z"
   },
   {
    "duration": 23,
    "start_time": "2022-06-20T15:50:49.622Z"
   },
   {
    "duration": 22,
    "start_time": "2022-06-20T15:50:49.649Z"
   },
   {
    "duration": 70,
    "start_time": "2022-06-20T15:50:49.673Z"
   },
   {
    "duration": 17,
    "start_time": "2022-06-20T15:50:49.745Z"
   },
   {
    "duration": 86,
    "start_time": "2022-06-20T15:50:49.764Z"
   },
   {
    "duration": 61,
    "start_time": "2022-06-20T15:50:49.852Z"
   },
   {
    "duration": 29,
    "start_time": "2022-06-20T15:50:49.918Z"
   },
   {
    "duration": 75,
    "start_time": "2022-06-20T15:50:49.950Z"
   },
   {
    "duration": 8,
    "start_time": "2022-06-20T15:50:50.026Z"
   },
   {
    "duration": 49,
    "start_time": "2022-06-20T15:50:50.037Z"
   },
   {
    "duration": 41,
    "start_time": "2022-06-20T15:50:50.088Z"
   },
   {
    "duration": 152,
    "start_time": "2022-06-20T15:50:50.131Z"
   },
   {
    "duration": 0,
    "start_time": "2022-06-20T15:50:50.286Z"
   },
   {
    "duration": 0,
    "start_time": "2022-06-20T15:50:50.288Z"
   },
   {
    "duration": 0,
    "start_time": "2022-06-20T15:50:50.294Z"
   },
   {
    "duration": 0,
    "start_time": "2022-06-20T15:50:50.295Z"
   },
   {
    "duration": 0,
    "start_time": "2022-06-20T15:50:50.296Z"
   },
   {
    "duration": 0,
    "start_time": "2022-06-20T15:50:50.297Z"
   },
   {
    "duration": 1,
    "start_time": "2022-06-20T15:50:50.298Z"
   },
   {
    "duration": 0,
    "start_time": "2022-06-20T15:50:50.300Z"
   },
   {
    "duration": 0,
    "start_time": "2022-06-20T15:50:50.302Z"
   },
   {
    "duration": 0,
    "start_time": "2022-06-20T15:50:50.303Z"
   },
   {
    "duration": 0,
    "start_time": "2022-06-20T15:50:50.304Z"
   },
   {
    "duration": 0,
    "start_time": "2022-06-20T15:50:50.305Z"
   },
   {
    "duration": 0,
    "start_time": "2022-06-20T15:50:50.314Z"
   },
   {
    "duration": 0,
    "start_time": "2022-06-20T15:50:50.315Z"
   },
   {
    "duration": 0,
    "start_time": "2022-06-20T15:50:50.320Z"
   },
   {
    "duration": 961,
    "start_time": "2022-06-20T15:51:30.138Z"
   },
   {
    "duration": 299,
    "start_time": "2022-06-20T15:51:31.109Z"
   },
   {
    "duration": 22,
    "start_time": "2022-06-20T15:51:31.410Z"
   },
   {
    "duration": 49,
    "start_time": "2022-06-20T15:51:31.435Z"
   },
   {
    "duration": 45,
    "start_time": "2022-06-20T15:51:31.486Z"
   },
   {
    "duration": 230,
    "start_time": "2022-06-20T15:51:31.533Z"
   },
   {
    "duration": 16,
    "start_time": "2022-06-20T15:51:31.765Z"
   },
   {
    "duration": 79,
    "start_time": "2022-06-20T15:51:31.783Z"
   },
   {
    "duration": 39,
    "start_time": "2022-06-20T15:51:31.864Z"
   },
   {
    "duration": 174,
    "start_time": "2022-06-20T15:51:31.907Z"
   },
   {
    "duration": 39,
    "start_time": "2022-06-20T15:51:32.083Z"
   },
   {
    "duration": 38,
    "start_time": "2022-06-20T15:51:32.125Z"
   },
   {
    "duration": 57,
    "start_time": "2022-06-20T15:51:32.165Z"
   },
   {
    "duration": 48,
    "start_time": "2022-06-20T15:51:32.224Z"
   },
   {
    "duration": 7,
    "start_time": "2022-06-20T15:51:32.273Z"
   },
   {
    "duration": 11,
    "start_time": "2022-06-20T15:51:32.282Z"
   },
   {
    "duration": 62,
    "start_time": "2022-06-20T15:51:32.296Z"
   },
   {
    "duration": 157,
    "start_time": "2022-06-20T15:51:32.360Z"
   },
   {
    "duration": 76,
    "start_time": "2022-06-20T15:51:32.520Z"
   },
   {
    "duration": 17,
    "start_time": "2022-06-20T15:51:32.598Z"
   },
   {
    "duration": 88,
    "start_time": "2022-06-20T15:51:32.617Z"
   },
   {
    "duration": 30,
    "start_time": "2022-06-20T15:51:32.707Z"
   },
   {
    "duration": 11,
    "start_time": "2022-06-20T15:51:32.739Z"
   },
   {
    "duration": 21,
    "start_time": "2022-06-20T15:51:32.753Z"
   },
   {
    "duration": 54,
    "start_time": "2022-06-20T15:51:32.777Z"
   },
   {
    "duration": 63,
    "start_time": "2022-06-20T15:51:32.836Z"
   },
   {
    "duration": 31,
    "start_time": "2022-06-20T15:51:32.901Z"
   },
   {
    "duration": 110,
    "start_time": "2022-06-20T15:51:32.942Z"
   },
   {
    "duration": 35,
    "start_time": "2022-06-20T15:51:33.054Z"
   },
   {
    "duration": 25,
    "start_time": "2022-06-20T15:51:33.092Z"
   },
   {
    "duration": 105,
    "start_time": "2022-06-20T15:51:33.119Z"
   },
   {
    "duration": 44,
    "start_time": "2022-06-20T15:51:33.230Z"
   },
   {
    "duration": 17,
    "start_time": "2022-06-20T15:51:33.275Z"
   },
   {
    "duration": 93,
    "start_time": "2022-06-20T15:51:33.300Z"
   },
   {
    "duration": 5,
    "start_time": "2022-06-20T15:51:33.398Z"
   },
   {
    "duration": 73,
    "start_time": "2022-06-20T15:51:33.405Z"
   },
   {
    "duration": 42,
    "start_time": "2022-06-20T15:51:33.480Z"
   },
   {
    "duration": 37,
    "start_time": "2022-06-20T15:51:33.525Z"
   },
   {
    "duration": 71,
    "start_time": "2022-06-20T15:51:33.565Z"
   },
   {
    "duration": 158,
    "start_time": "2022-06-20T15:51:33.639Z"
   },
   {
    "duration": 38,
    "start_time": "2022-06-20T15:51:33.799Z"
   },
   {
    "duration": 45,
    "start_time": "2022-06-20T15:51:33.839Z"
   },
   {
    "duration": 499,
    "start_time": "2022-06-20T15:51:33.886Z"
   },
   {
    "duration": 200,
    "start_time": "2022-06-20T15:51:34.387Z"
   },
   {
    "duration": 240,
    "start_time": "2022-06-20T15:51:34.589Z"
   },
   {
    "duration": 174,
    "start_time": "2022-06-20T15:51:34.832Z"
   },
   {
    "duration": 167,
    "start_time": "2022-06-20T15:51:35.013Z"
   },
   {
    "duration": 195,
    "start_time": "2022-06-20T15:51:35.182Z"
   },
   {
    "duration": 146,
    "start_time": "2022-06-20T15:51:35.380Z"
   },
   {
    "duration": 26,
    "start_time": "2022-06-20T15:51:35.531Z"
   },
   {
    "duration": 21,
    "start_time": "2022-06-20T15:51:35.559Z"
   },
   {
    "duration": 6,
    "start_time": "2022-06-20T15:51:35.582Z"
   },
   {
    "duration": 17,
    "start_time": "2022-06-20T15:51:35.590Z"
   },
   {
    "duration": 996,
    "start_time": "2022-06-20T16:20:42.389Z"
   },
   {
    "duration": 351,
    "start_time": "2022-06-20T16:20:43.388Z"
   },
   {
    "duration": 20,
    "start_time": "2022-06-20T16:20:43.745Z"
   },
   {
    "duration": 76,
    "start_time": "2022-06-20T16:20:43.768Z"
   },
   {
    "duration": 43,
    "start_time": "2022-06-20T16:20:43.848Z"
   },
   {
    "duration": 257,
    "start_time": "2022-06-20T16:20:43.893Z"
   },
   {
    "duration": 21,
    "start_time": "2022-06-20T16:20:44.153Z"
   },
   {
    "duration": 49,
    "start_time": "2022-06-20T16:20:44.176Z"
   },
   {
    "duration": 45,
    "start_time": "2022-06-20T16:20:44.236Z"
   },
   {
    "duration": 192,
    "start_time": "2022-06-20T16:20:44.286Z"
   },
   {
    "duration": 37,
    "start_time": "2022-06-20T16:20:44.480Z"
   },
   {
    "duration": 48,
    "start_time": "2022-06-20T16:20:44.524Z"
   },
   {
    "duration": 64,
    "start_time": "2022-06-20T16:20:44.573Z"
   },
   {
    "duration": 45,
    "start_time": "2022-06-20T16:20:44.639Z"
   },
   {
    "duration": 7,
    "start_time": "2022-06-20T16:20:44.686Z"
   },
   {
    "duration": 55,
    "start_time": "2022-06-20T16:20:44.694Z"
   },
   {
    "duration": 24,
    "start_time": "2022-06-20T16:20:44.751Z"
   },
   {
    "duration": 138,
    "start_time": "2022-06-20T16:20:44.777Z"
   },
   {
    "duration": 69,
    "start_time": "2022-06-20T16:20:44.916Z"
   },
   {
    "duration": 36,
    "start_time": "2022-06-20T16:20:44.986Z"
   },
   {
    "duration": 79,
    "start_time": "2022-06-20T16:20:45.029Z"
   },
   {
    "duration": 34,
    "start_time": "2022-06-20T16:20:45.114Z"
   },
   {
    "duration": 7,
    "start_time": "2022-06-20T16:20:45.151Z"
   },
   {
    "duration": 37,
    "start_time": "2022-06-20T16:20:45.161Z"
   },
   {
    "duration": 44,
    "start_time": "2022-06-20T16:20:45.204Z"
   },
   {
    "duration": 79,
    "start_time": "2022-06-20T16:20:45.250Z"
   },
   {
    "duration": 18,
    "start_time": "2022-06-20T16:20:45.332Z"
   },
   {
    "duration": 45,
    "start_time": "2022-06-20T16:20:45.356Z"
   },
   {
    "duration": 53,
    "start_time": "2022-06-20T16:20:45.403Z"
   },
   {
    "duration": 19,
    "start_time": "2022-06-20T16:20:45.458Z"
   },
   {
    "duration": 74,
    "start_time": "2022-06-20T16:20:45.503Z"
   },
   {
    "duration": 63,
    "start_time": "2022-06-20T16:20:45.579Z"
   },
   {
    "duration": 20,
    "start_time": "2022-06-20T16:20:45.644Z"
   },
   {
    "duration": 82,
    "start_time": "2022-06-20T16:20:45.666Z"
   },
   {
    "duration": 5,
    "start_time": "2022-06-20T16:20:45.752Z"
   },
   {
    "duration": 67,
    "start_time": "2022-06-20T16:20:45.759Z"
   },
   {
    "duration": 52,
    "start_time": "2022-06-20T16:20:45.828Z"
   },
   {
    "duration": 62,
    "start_time": "2022-06-20T16:20:45.883Z"
   },
   {
    "duration": 45,
    "start_time": "2022-06-20T16:20:45.948Z"
   },
   {
    "duration": 181,
    "start_time": "2022-06-20T16:20:46.002Z"
   },
   {
    "duration": 61,
    "start_time": "2022-06-20T16:20:46.185Z"
   },
   {
    "duration": 45,
    "start_time": "2022-06-20T16:20:46.248Z"
   },
   {
    "duration": 635,
    "start_time": "2022-06-20T16:20:46.301Z"
   },
   {
    "duration": 229,
    "start_time": "2022-06-20T16:20:46.939Z"
   },
   {
    "duration": 234,
    "start_time": "2022-06-20T16:20:47.169Z"
   },
   {
    "duration": 211,
    "start_time": "2022-06-20T16:20:47.408Z"
   },
   {
    "duration": 204,
    "start_time": "2022-06-20T16:20:47.623Z"
   },
   {
    "duration": 218,
    "start_time": "2022-06-20T16:20:47.830Z"
   },
   {
    "duration": 159,
    "start_time": "2022-06-20T16:20:48.053Z"
   },
   {
    "duration": 38,
    "start_time": "2022-06-20T16:20:48.214Z"
   },
   {
    "duration": 19,
    "start_time": "2022-06-20T16:20:48.255Z"
   },
   {
    "duration": 6,
    "start_time": "2022-06-20T16:20:48.276Z"
   },
   {
    "duration": 65,
    "start_time": "2022-06-20T16:20:48.284Z"
   },
   {
    "duration": 871,
    "start_time": "2022-06-21T07:19:21.222Z"
   },
   {
    "duration": 509,
    "start_time": "2022-06-21T07:19:22.095Z"
   },
   {
    "duration": 16,
    "start_time": "2022-06-21T07:19:22.606Z"
   },
   {
    "duration": 36,
    "start_time": "2022-06-21T07:19:22.624Z"
   },
   {
    "duration": 26,
    "start_time": "2022-06-21T07:19:22.661Z"
   },
   {
    "duration": 437,
    "start_time": "2022-06-21T07:19:22.688Z"
   },
   {
    "duration": 15,
    "start_time": "2022-06-21T07:19:23.127Z"
   },
   {
    "duration": 25,
    "start_time": "2022-06-21T07:19:23.145Z"
   },
   {
    "duration": 25,
    "start_time": "2022-06-21T07:19:23.172Z"
   },
   {
    "duration": 172,
    "start_time": "2022-06-21T07:19:23.201Z"
   },
   {
    "duration": 21,
    "start_time": "2022-06-21T07:19:23.374Z"
   },
   {
    "duration": 19,
    "start_time": "2022-06-21T07:19:23.397Z"
   },
   {
    "duration": 55,
    "start_time": "2022-06-21T07:19:23.418Z"
   },
   {
    "duration": 69,
    "start_time": "2022-06-21T07:19:23.475Z"
   },
   {
    "duration": 5,
    "start_time": "2022-06-21T07:19:23.546Z"
   },
   {
    "duration": 10,
    "start_time": "2022-06-21T07:19:23.553Z"
   },
   {
    "duration": 22,
    "start_time": "2022-06-21T07:19:23.565Z"
   },
   {
    "duration": 129,
    "start_time": "2022-06-21T07:19:23.588Z"
   },
   {
    "duration": 52,
    "start_time": "2022-06-21T07:19:23.718Z"
   },
   {
    "duration": 14,
    "start_time": "2022-06-21T07:19:23.772Z"
   },
   {
    "duration": 66,
    "start_time": "2022-06-21T07:19:23.787Z"
   },
   {
    "duration": 27,
    "start_time": "2022-06-21T07:19:23.855Z"
   },
   {
    "duration": 6,
    "start_time": "2022-06-21T07:19:23.884Z"
   },
   {
    "duration": 19,
    "start_time": "2022-06-21T07:19:23.891Z"
   },
   {
    "duration": 49,
    "start_time": "2022-06-21T07:19:23.913Z"
   },
   {
    "duration": 47,
    "start_time": "2022-06-21T07:19:23.964Z"
   },
   {
    "duration": 35,
    "start_time": "2022-06-21T07:19:24.013Z"
   },
   {
    "duration": 27,
    "start_time": "2022-06-21T07:19:24.052Z"
   },
   {
    "duration": 62,
    "start_time": "2022-06-21T07:19:24.081Z"
   },
   {
    "duration": 19,
    "start_time": "2022-06-21T07:19:24.144Z"
   },
   {
    "duration": 47,
    "start_time": "2022-06-21T07:19:24.165Z"
   },
   {
    "duration": 56,
    "start_time": "2022-06-21T07:19:24.214Z"
   },
   {
    "duration": 15,
    "start_time": "2022-06-21T07:19:24.272Z"
   },
   {
    "duration": 42,
    "start_time": "2022-06-21T07:19:30.147Z"
   },
   {
    "duration": 16,
    "start_time": "2022-06-21T07:20:08.124Z"
   },
   {
    "duration": 2217,
    "start_time": "2022-06-21T07:20:27.786Z"
   },
   {
    "duration": 3,
    "start_time": "2022-06-21T07:20:42.569Z"
   },
   {
    "duration": 199,
    "start_time": "2022-06-21T07:20:42.575Z"
   },
   {
    "duration": 14,
    "start_time": "2022-06-21T07:20:42.777Z"
   },
   {
    "duration": 49,
    "start_time": "2022-06-21T07:20:42.793Z"
   },
   {
    "duration": 24,
    "start_time": "2022-06-21T07:20:42.845Z"
   },
   {
    "duration": 156,
    "start_time": "2022-06-21T07:20:42.870Z"
   },
   {
    "duration": 19,
    "start_time": "2022-06-21T07:20:43.027Z"
   },
   {
    "duration": 22,
    "start_time": "2022-06-21T07:20:43.047Z"
   },
   {
    "duration": 22,
    "start_time": "2022-06-21T07:20:43.071Z"
   },
   {
    "duration": 120,
    "start_time": "2022-06-21T07:20:43.095Z"
   },
   {
    "duration": 29,
    "start_time": "2022-06-21T07:20:43.219Z"
   },
   {
    "duration": 19,
    "start_time": "2022-06-21T07:20:43.250Z"
   },
   {
    "duration": 26,
    "start_time": "2022-06-21T07:20:43.272Z"
   },
   {
    "duration": 40,
    "start_time": "2022-06-21T07:20:43.300Z"
   },
   {
    "duration": 5,
    "start_time": "2022-06-21T07:20:43.342Z"
   },
   {
    "duration": 7,
    "start_time": "2022-06-21T07:20:43.349Z"
   },
   {
    "duration": 22,
    "start_time": "2022-06-21T07:20:43.357Z"
   },
   {
    "duration": 118,
    "start_time": "2022-06-21T07:20:43.381Z"
   },
   {
    "duration": 53,
    "start_time": "2022-06-21T07:20:43.501Z"
   },
   {
    "duration": 14,
    "start_time": "2022-06-21T07:20:43.555Z"
   },
   {
    "duration": 45,
    "start_time": "2022-06-21T07:20:43.571Z"
   },
   {
    "duration": 39,
    "start_time": "2022-06-21T07:20:43.618Z"
   },
   {
    "duration": 5,
    "start_time": "2022-06-21T07:20:43.658Z"
   },
   {
    "duration": 15,
    "start_time": "2022-06-21T07:20:43.665Z"
   },
   {
    "duration": 23,
    "start_time": "2022-06-21T07:20:43.682Z"
   },
   {
    "duration": 67,
    "start_time": "2022-06-21T07:20:43.707Z"
   },
   {
    "duration": 17,
    "start_time": "2022-06-21T07:20:43.776Z"
   },
   {
    "duration": 23,
    "start_time": "2022-06-21T07:20:43.794Z"
   },
   {
    "duration": 30,
    "start_time": "2022-06-21T07:20:43.842Z"
   },
   {
    "duration": 18,
    "start_time": "2022-06-21T07:20:43.874Z"
   },
   {
    "duration": 71,
    "start_time": "2022-06-21T07:20:43.894Z"
   },
   {
    "duration": 32,
    "start_time": "2022-06-21T07:20:43.967Z"
   },
   {
    "duration": 16,
    "start_time": "2022-06-21T07:20:44.001Z"
   },
   {
    "duration": 103,
    "start_time": "2022-06-21T07:20:44.041Z"
   },
   {
    "duration": 130,
    "start_time": "2022-06-21T07:20:56.185Z"
   },
   {
    "duration": 7,
    "start_time": "2022-06-21T07:21:00.942Z"
   },
   {
    "duration": 6,
    "start_time": "2022-06-21T07:21:08.186Z"
   },
   {
    "duration": 11,
    "start_time": "2022-06-21T07:21:13.682Z"
   },
   {
    "duration": 7,
    "start_time": "2022-06-21T07:21:18.180Z"
   },
   {
    "duration": 6,
    "start_time": "2022-06-21T07:21:52.143Z"
   },
   {
    "duration": 6,
    "start_time": "2022-06-21T07:22:04.253Z"
   },
   {
    "duration": 7,
    "start_time": "2022-06-21T07:22:15.758Z"
   },
   {
    "duration": 7,
    "start_time": "2022-06-21T07:22:25.491Z"
   },
   {
    "duration": 7,
    "start_time": "2022-06-21T07:22:31.632Z"
   },
   {
    "duration": 12,
    "start_time": "2022-06-21T07:22:40.506Z"
   },
   {
    "duration": 7,
    "start_time": "2022-06-21T07:22:45.998Z"
   },
   {
    "duration": 7,
    "start_time": "2022-06-21T07:22:49.770Z"
   },
   {
    "duration": 7,
    "start_time": "2022-06-21T07:23:05.392Z"
   },
   {
    "duration": 13,
    "start_time": "2022-06-21T07:23:25.773Z"
   },
   {
    "duration": 12,
    "start_time": "2022-06-21T07:23:33.757Z"
   },
   {
    "duration": 16,
    "start_time": "2022-06-21T07:23:38.202Z"
   },
   {
    "duration": 12,
    "start_time": "2022-06-21T07:24:03.274Z"
   },
   {
    "duration": 11,
    "start_time": "2022-06-21T07:24:12.067Z"
   },
   {
    "duration": 8,
    "start_time": "2022-06-21T07:24:15.970Z"
   },
   {
    "duration": 39,
    "start_time": "2022-06-21T07:25:39.634Z"
   },
   {
    "duration": 8,
    "start_time": "2022-06-21T07:25:41.065Z"
   },
   {
    "duration": 39,
    "start_time": "2022-06-21T07:25:53.146Z"
   },
   {
    "duration": 7,
    "start_time": "2022-06-21T07:25:54.151Z"
   },
   {
    "duration": 930,
    "start_time": "2022-06-22T10:16:52.183Z"
   },
   {
    "duration": 310,
    "start_time": "2022-06-22T10:16:53.115Z"
   },
   {
    "duration": 15,
    "start_time": "2022-06-22T10:16:53.426Z"
   },
   {
    "duration": 50,
    "start_time": "2022-06-22T10:16:53.443Z"
   },
   {
    "duration": 23,
    "start_time": "2022-06-22T10:16:53.499Z"
   },
   {
    "duration": 583,
    "start_time": "2022-06-22T10:16:53.524Z"
   },
   {
    "duration": 13,
    "start_time": "2022-06-22T10:16:54.108Z"
   },
   {
    "duration": 21,
    "start_time": "2022-06-22T10:16:54.122Z"
   },
   {
    "duration": 29,
    "start_time": "2022-06-22T10:16:54.144Z"
   },
   {
    "duration": 395,
    "start_time": "2022-06-22T10:16:54.178Z"
   },
   {
    "duration": 31,
    "start_time": "2022-06-22T10:16:54.575Z"
   },
   {
    "duration": 19,
    "start_time": "2022-06-22T10:16:54.608Z"
   },
   {
    "duration": 84,
    "start_time": "2022-06-22T10:16:54.628Z"
   },
   {
    "duration": 79,
    "start_time": "2022-06-22T10:16:54.715Z"
   },
   {
    "duration": 4,
    "start_time": "2022-06-22T10:16:54.796Z"
   },
   {
    "duration": 12,
    "start_time": "2022-06-22T10:16:54.801Z"
   },
   {
    "duration": 20,
    "start_time": "2022-06-22T10:16:54.815Z"
   },
   {
    "duration": 114,
    "start_time": "2022-06-22T10:16:54.836Z"
   },
   {
    "duration": 66,
    "start_time": "2022-06-22T10:16:54.952Z"
   },
   {
    "duration": 16,
    "start_time": "2022-06-22T10:16:55.019Z"
   },
   {
    "duration": 80,
    "start_time": "2022-06-22T10:16:55.037Z"
   },
   {
    "duration": 21,
    "start_time": "2022-06-22T10:16:55.119Z"
   },
   {
    "duration": 20,
    "start_time": "2022-06-22T10:16:55.141Z"
   },
   {
    "duration": 22,
    "start_time": "2022-06-22T10:16:55.171Z"
   },
   {
    "duration": 23,
    "start_time": "2022-06-22T10:16:55.195Z"
   },
   {
    "duration": 56,
    "start_time": "2022-06-22T10:16:55.219Z"
   },
   {
    "duration": 19,
    "start_time": "2022-06-22T10:16:55.277Z"
   },
   {
    "duration": 20,
    "start_time": "2022-06-22T10:16:55.298Z"
   },
   {
    "duration": 68,
    "start_time": "2022-06-22T10:16:55.320Z"
   },
   {
    "duration": 16,
    "start_time": "2022-06-22T10:16:55.389Z"
   },
   {
    "duration": 70,
    "start_time": "2022-06-22T10:16:55.407Z"
   },
   {
    "duration": 31,
    "start_time": "2022-06-22T10:16:55.484Z"
   },
   {
    "duration": 14,
    "start_time": "2022-06-22T10:16:55.517Z"
   },
   {
    "duration": 54,
    "start_time": "2022-06-22T10:16:55.533Z"
   },
   {
    "duration": 3,
    "start_time": "2022-06-22T10:16:55.589Z"
   },
   {
    "duration": 28,
    "start_time": "2022-06-22T10:16:55.593Z"
   },
   {
    "duration": 56,
    "start_time": "2022-06-22T10:16:55.622Z"
   },
   {
    "duration": 37,
    "start_time": "2022-06-22T10:16:55.681Z"
   },
   {
    "duration": 22,
    "start_time": "2022-06-22T10:16:55.720Z"
   },
   {
    "duration": 132,
    "start_time": "2022-06-22T10:16:55.744Z"
   },
   {
    "duration": 25,
    "start_time": "2022-06-22T10:16:55.884Z"
   },
   {
    "duration": 22,
    "start_time": "2022-06-22T10:16:55.910Z"
   },
   {
    "duration": 1088,
    "start_time": "2022-06-22T10:16:55.934Z"
   },
   {
    "duration": 167,
    "start_time": "2022-06-22T10:16:57.023Z"
   },
   {
    "duration": 178,
    "start_time": "2022-06-22T10:16:57.192Z"
   },
   {
    "duration": 168,
    "start_time": "2022-06-22T10:16:57.375Z"
   },
   {
    "duration": 202,
    "start_time": "2022-06-22T10:16:57.545Z"
   },
   {
    "duration": 152,
    "start_time": "2022-06-22T10:16:57.749Z"
   },
   {
    "duration": 109,
    "start_time": "2022-06-22T10:16:57.903Z"
   },
   {
    "duration": 8,
    "start_time": "2022-06-22T10:16:58.014Z"
   },
   {
    "duration": 10,
    "start_time": "2022-06-22T10:16:58.024Z"
   },
   {
    "duration": 38,
    "start_time": "2022-06-22T10:16:58.036Z"
   },
   {
    "duration": 14,
    "start_time": "2022-06-22T10:16:58.076Z"
   },
   {
    "duration": 217,
    "start_time": "2022-06-22T10:17:57.560Z"
   },
   {
    "duration": 813,
    "start_time": "2022-06-22T10:18:05.695Z"
   },
   {
    "duration": 216,
    "start_time": "2022-06-22T10:18:06.510Z"
   },
   {
    "duration": 17,
    "start_time": "2022-06-22T10:18:06.727Z"
   },
   {
    "duration": 66,
    "start_time": "2022-06-22T10:18:06.746Z"
   },
   {
    "duration": 26,
    "start_time": "2022-06-22T10:18:06.814Z"
   },
   {
    "duration": 202,
    "start_time": "2022-06-22T10:18:06.841Z"
   },
   {
    "duration": 29,
    "start_time": "2022-06-22T10:18:07.044Z"
   },
   {
    "duration": 32,
    "start_time": "2022-06-22T10:18:07.080Z"
   },
   {
    "duration": 21,
    "start_time": "2022-06-22T10:18:07.113Z"
   },
   {
    "duration": 148,
    "start_time": "2022-06-22T10:18:07.135Z"
   },
   {
    "duration": 25,
    "start_time": "2022-06-22T10:18:07.286Z"
   },
   {
    "duration": 23,
    "start_time": "2022-06-22T10:18:07.313Z"
   },
   {
    "duration": 40,
    "start_time": "2022-06-22T10:18:07.339Z"
   },
   {
    "duration": 46,
    "start_time": "2022-06-22T10:18:07.387Z"
   },
   {
    "duration": 4,
    "start_time": "2022-06-22T10:18:07.435Z"
   },
   {
    "duration": 12,
    "start_time": "2022-06-22T10:18:07.441Z"
   },
   {
    "duration": 57,
    "start_time": "2022-06-22T10:18:07.456Z"
   },
   {
    "duration": 139,
    "start_time": "2022-06-22T10:18:07.515Z"
   },
   {
    "duration": 76,
    "start_time": "2022-06-22T10:18:07.656Z"
   },
   {
    "duration": 13,
    "start_time": "2022-06-22T10:18:07.735Z"
   },
   {
    "duration": 104,
    "start_time": "2022-06-22T10:18:07.763Z"
   },
   {
    "duration": 35,
    "start_time": "2022-06-22T10:18:07.869Z"
   },
   {
    "duration": 21,
    "start_time": "2022-06-22T10:18:07.909Z"
   },
   {
    "duration": 19,
    "start_time": "2022-06-22T10:18:07.932Z"
   },
   {
    "duration": 52,
    "start_time": "2022-06-22T10:18:07.953Z"
   },
   {
    "duration": 48,
    "start_time": "2022-06-22T10:18:08.006Z"
   },
   {
    "duration": 31,
    "start_time": "2022-06-22T10:18:08.056Z"
   },
   {
    "duration": 26,
    "start_time": "2022-06-22T10:18:08.093Z"
   },
   {
    "duration": 32,
    "start_time": "2022-06-22T10:18:08.120Z"
   },
   {
    "duration": 29,
    "start_time": "2022-06-22T10:18:08.153Z"
   },
   {
    "duration": 52,
    "start_time": "2022-06-22T10:18:08.191Z"
   },
   {
    "duration": 50,
    "start_time": "2022-06-22T10:18:08.244Z"
   },
   {
    "duration": 16,
    "start_time": "2022-06-22T10:18:08.303Z"
   },
   {
    "duration": 43,
    "start_time": "2022-06-22T10:18:08.321Z"
   },
   {
    "duration": 5,
    "start_time": "2022-06-22T10:18:08.366Z"
   },
   {
    "duration": 54,
    "start_time": "2022-06-22T10:18:08.373Z"
   },
   {
    "duration": 27,
    "start_time": "2022-06-22T10:18:08.428Z"
   },
   {
    "duration": 56,
    "start_time": "2022-06-22T10:18:08.456Z"
   },
   {
    "duration": 23,
    "start_time": "2022-06-22T10:18:08.519Z"
   },
   {
    "duration": 110,
    "start_time": "2022-06-22T10:18:08.543Z"
   },
   {
    "duration": 44,
    "start_time": "2022-06-22T10:18:08.660Z"
   },
   {
    "duration": 26,
    "start_time": "2022-06-22T10:18:08.705Z"
   },
   {
    "duration": 421,
    "start_time": "2022-06-22T10:18:08.733Z"
   },
   {
    "duration": 175,
    "start_time": "2022-06-22T10:18:09.158Z"
   },
   {
    "duration": 168,
    "start_time": "2022-06-22T10:18:09.334Z"
   },
   {
    "duration": 139,
    "start_time": "2022-06-22T10:18:09.504Z"
   },
   {
    "duration": 159,
    "start_time": "2022-06-22T10:18:09.644Z"
   },
   {
    "duration": 144,
    "start_time": "2022-06-22T10:18:09.805Z"
   },
   {
    "duration": 125,
    "start_time": "2022-06-22T10:18:09.951Z"
   },
   {
    "duration": 10,
    "start_time": "2022-06-22T10:18:10.085Z"
   },
   {
    "duration": 14,
    "start_time": "2022-06-22T10:18:10.097Z"
   },
   {
    "duration": 5,
    "start_time": "2022-06-22T10:18:10.112Z"
   },
   {
    "duration": 28,
    "start_time": "2022-06-22T10:18:10.118Z"
   },
   {
    "duration": 92,
    "start_time": "2022-06-22T10:19:50.731Z"
   },
   {
    "duration": 1023,
    "start_time": "2022-06-22T10:31:20.490Z"
   },
   {
    "duration": 263,
    "start_time": "2022-06-22T10:31:21.516Z"
   },
   {
    "duration": 22,
    "start_time": "2022-06-22T10:31:21.782Z"
   },
   {
    "duration": 46,
    "start_time": "2022-06-22T10:31:21.807Z"
   },
   {
    "duration": 54,
    "start_time": "2022-06-22T10:31:21.855Z"
   },
   {
    "duration": 269,
    "start_time": "2022-06-22T10:31:21.911Z"
   },
   {
    "duration": 33,
    "start_time": "2022-06-22T10:31:22.183Z"
   },
   {
    "duration": 53,
    "start_time": "2022-06-22T10:31:22.218Z"
   },
   {
    "duration": 73,
    "start_time": "2022-06-22T10:31:22.273Z"
   },
   {
    "duration": 160,
    "start_time": "2022-06-22T10:31:22.348Z"
   },
   {
    "duration": 20,
    "start_time": "2022-06-22T10:31:22.510Z"
   },
   {
    "duration": 64,
    "start_time": "2022-06-22T10:31:22.532Z"
   },
   {
    "duration": 40,
    "start_time": "2022-06-22T10:31:22.598Z"
   },
   {
    "duration": 66,
    "start_time": "2022-06-22T10:31:22.641Z"
   },
   {
    "duration": 5,
    "start_time": "2022-06-22T10:31:22.709Z"
   },
   {
    "duration": 43,
    "start_time": "2022-06-22T10:31:22.715Z"
   },
   {
    "duration": 64,
    "start_time": "2022-06-22T10:31:22.772Z"
   },
   {
    "duration": 29,
    "start_time": "2022-06-22T10:31:22.838Z"
   },
   {
    "duration": 35,
    "start_time": "2022-06-22T10:31:22.871Z"
   },
   {
    "duration": 31,
    "start_time": "2022-06-22T10:31:22.909Z"
   },
   {
    "duration": 7,
    "start_time": "2022-06-22T10:31:22.943Z"
   },
   {
    "duration": 102,
    "start_time": "2022-06-22T10:31:22.953Z"
   },
   {
    "duration": 43,
    "start_time": "2022-06-22T10:31:23.057Z"
   },
   {
    "duration": 96,
    "start_time": "2022-06-22T10:31:23.102Z"
   },
   {
    "duration": 14,
    "start_time": "2022-06-22T10:31:23.203Z"
   },
   {
    "duration": 63,
    "start_time": "2022-06-22T10:31:23.219Z"
   },
   {
    "duration": 53,
    "start_time": "2022-06-22T10:31:23.293Z"
   },
   {
    "duration": 24,
    "start_time": "2022-06-22T10:31:23.349Z"
   },
   {
    "duration": 69,
    "start_time": "2022-06-22T10:31:23.375Z"
   },
   {
    "duration": 46,
    "start_time": "2022-06-22T10:31:23.446Z"
   },
   {
    "duration": 19,
    "start_time": "2022-06-22T10:31:23.496Z"
   },
   {
    "duration": 110,
    "start_time": "2022-06-22T10:31:23.517Z"
   },
   {
    "duration": 3,
    "start_time": "2022-06-22T10:31:23.629Z"
   },
   {
    "duration": 60,
    "start_time": "2022-06-22T10:31:23.634Z"
   },
   {
    "duration": 37,
    "start_time": "2022-06-22T10:31:23.700Z"
   },
   {
    "duration": 51,
    "start_time": "2022-06-22T10:31:23.739Z"
   },
   {
    "duration": 26,
    "start_time": "2022-06-22T10:31:23.795Z"
   },
   {
    "duration": 134,
    "start_time": "2022-06-22T10:31:23.823Z"
   },
   {
    "duration": 46,
    "start_time": "2022-06-22T10:31:23.959Z"
   },
   {
    "duration": 23,
    "start_time": "2022-06-22T10:31:24.007Z"
   },
   {
    "duration": 467,
    "start_time": "2022-06-22T10:31:24.035Z"
   },
   {
    "duration": 164,
    "start_time": "2022-06-22T10:31:24.504Z"
   },
   {
    "duration": 175,
    "start_time": "2022-06-22T10:31:24.670Z"
   },
   {
    "duration": 151,
    "start_time": "2022-06-22T10:31:24.847Z"
   },
   {
    "duration": 154,
    "start_time": "2022-06-22T10:31:25.000Z"
   },
   {
    "duration": 171,
    "start_time": "2022-06-22T10:31:25.158Z"
   },
   {
    "duration": 116,
    "start_time": "2022-06-22T10:31:25.330Z"
   },
   {
    "duration": 5,
    "start_time": "2022-06-22T10:31:25.448Z"
   },
   {
    "duration": 15,
    "start_time": "2022-06-22T10:31:25.459Z"
   },
   {
    "duration": 32,
    "start_time": "2022-06-22T10:31:25.476Z"
   },
   {
    "duration": 15,
    "start_time": "2022-06-22T10:31:25.510Z"
   },
   {
    "duration": 101,
    "start_time": "2022-06-22T10:34:27.827Z"
   },
   {
    "duration": 25,
    "start_time": "2022-06-22T10:35:03.297Z"
   },
   {
    "duration": 20,
    "start_time": "2022-06-22T10:36:45.436Z"
   },
   {
    "duration": 77,
    "start_time": "2022-06-22T10:37:37.040Z"
   },
   {
    "duration": 1043,
    "start_time": "2022-06-22T10:38:24.440Z"
   },
   {
    "duration": 214,
    "start_time": "2022-06-22T10:38:25.485Z"
   },
   {
    "duration": 16,
    "start_time": "2022-06-22T10:38:25.700Z"
   },
   {
    "duration": 63,
    "start_time": "2022-06-22T10:38:25.718Z"
   },
   {
    "duration": 24,
    "start_time": "2022-06-22T10:38:25.783Z"
   },
   {
    "duration": 236,
    "start_time": "2022-06-22T10:38:25.808Z"
   },
   {
    "duration": 24,
    "start_time": "2022-06-22T10:38:26.046Z"
   },
   {
    "duration": 23,
    "start_time": "2022-06-22T10:38:26.075Z"
   },
   {
    "duration": 22,
    "start_time": "2022-06-22T10:38:26.100Z"
   },
   {
    "duration": 116,
    "start_time": "2022-06-22T10:38:26.125Z"
   },
   {
    "duration": 33,
    "start_time": "2022-06-22T10:38:26.242Z"
   },
   {
    "duration": 32,
    "start_time": "2022-06-22T10:38:26.277Z"
   },
   {
    "duration": 43,
    "start_time": "2022-06-22T10:38:26.311Z"
   },
   {
    "duration": 60,
    "start_time": "2022-06-22T10:38:26.356Z"
   },
   {
    "duration": 4,
    "start_time": "2022-06-22T10:38:26.417Z"
   },
   {
    "duration": 29,
    "start_time": "2022-06-22T10:38:26.422Z"
   },
   {
    "duration": 47,
    "start_time": "2022-06-22T10:38:26.453Z"
   },
   {
    "duration": 41,
    "start_time": "2022-06-22T10:38:26.502Z"
   },
   {
    "duration": 32,
    "start_time": "2022-06-22T10:38:26.545Z"
   },
   {
    "duration": 26,
    "start_time": "2022-06-22T10:38:26.579Z"
   },
   {
    "duration": 9,
    "start_time": "2022-06-22T10:38:26.607Z"
   },
   {
    "duration": 34,
    "start_time": "2022-06-22T10:38:26.617Z"
   },
   {
    "duration": 44,
    "start_time": "2022-06-22T10:38:26.653Z"
   },
   {
    "duration": 76,
    "start_time": "2022-06-22T10:38:26.699Z"
   },
   {
    "duration": 14,
    "start_time": "2022-06-22T10:38:26.777Z"
   },
   {
    "duration": 38,
    "start_time": "2022-06-22T10:38:26.792Z"
   },
   {
    "duration": 42,
    "start_time": "2022-06-22T10:38:26.831Z"
   },
   {
    "duration": 15,
    "start_time": "2022-06-22T10:38:26.878Z"
   },
   {
    "duration": 22,
    "start_time": "2022-06-22T10:38:26.894Z"
   },
   {
    "duration": 53,
    "start_time": "2022-06-22T10:38:26.918Z"
   },
   {
    "duration": 15,
    "start_time": "2022-06-22T10:38:26.975Z"
   },
   {
    "duration": 53,
    "start_time": "2022-06-22T10:38:26.991Z"
   },
   {
    "duration": 3,
    "start_time": "2022-06-22T10:38:27.045Z"
   },
   {
    "duration": 56,
    "start_time": "2022-06-22T10:38:27.049Z"
   },
   {
    "duration": 26,
    "start_time": "2022-06-22T10:38:27.107Z"
   },
   {
    "duration": 30,
    "start_time": "2022-06-22T10:38:27.135Z"
   },
   {
    "duration": 63,
    "start_time": "2022-06-22T10:38:27.169Z"
   },
   {
    "duration": 137,
    "start_time": "2022-06-22T10:38:27.235Z"
   },
   {
    "duration": 38,
    "start_time": "2022-06-22T10:38:27.374Z"
   },
   {
    "duration": 54,
    "start_time": "2022-06-22T10:38:27.414Z"
   },
   {
    "duration": 448,
    "start_time": "2022-06-22T10:38:27.470Z"
   },
   {
    "duration": 177,
    "start_time": "2022-06-22T10:38:27.921Z"
   },
   {
    "duration": 177,
    "start_time": "2022-06-22T10:38:28.099Z"
   },
   {
    "duration": 142,
    "start_time": "2022-06-22T10:38:28.278Z"
   },
   {
    "duration": 142,
    "start_time": "2022-06-22T10:38:28.421Z"
   },
   {
    "duration": 231,
    "start_time": "2022-06-22T10:38:28.564Z"
   },
   {
    "duration": 166,
    "start_time": "2022-06-22T10:38:28.796Z"
   },
   {
    "duration": 5,
    "start_time": "2022-06-22T10:38:28.964Z"
   },
   {
    "duration": 25,
    "start_time": "2022-06-22T10:38:28.970Z"
   },
   {
    "duration": 8,
    "start_time": "2022-06-22T10:38:28.996Z"
   },
   {
    "duration": 24,
    "start_time": "2022-06-22T10:38:29.006Z"
   },
   {
    "duration": 869,
    "start_time": "2022-06-22T10:40:17.491Z"
   },
   {
    "duration": 217,
    "start_time": "2022-06-22T10:40:18.371Z"
   },
   {
    "duration": 17,
    "start_time": "2022-06-22T10:40:18.590Z"
   },
   {
    "duration": 33,
    "start_time": "2022-06-22T10:40:18.609Z"
   },
   {
    "duration": 50,
    "start_time": "2022-06-22T10:40:18.644Z"
   },
   {
    "duration": 187,
    "start_time": "2022-06-22T10:40:18.696Z"
   },
   {
    "duration": 14,
    "start_time": "2022-06-22T10:40:18.888Z"
   },
   {
    "duration": 22,
    "start_time": "2022-06-22T10:40:18.904Z"
   },
   {
    "duration": 47,
    "start_time": "2022-06-22T10:40:18.927Z"
   },
   {
    "duration": 122,
    "start_time": "2022-06-22T10:40:18.981Z"
   },
   {
    "duration": 18,
    "start_time": "2022-06-22T10:40:19.105Z"
   },
   {
    "duration": 26,
    "start_time": "2022-06-22T10:40:19.125Z"
   },
   {
    "duration": 40,
    "start_time": "2022-06-22T10:40:19.161Z"
   },
   {
    "duration": 39,
    "start_time": "2022-06-22T10:40:19.204Z"
   },
   {
    "duration": 3,
    "start_time": "2022-06-22T10:40:19.245Z"
   },
   {
    "duration": 8,
    "start_time": "2022-06-22T10:40:19.249Z"
   },
   {
    "duration": 54,
    "start_time": "2022-06-22T10:40:19.258Z"
   },
   {
    "duration": 11,
    "start_time": "2022-06-22T10:40:19.314Z"
   },
   {
    "duration": 21,
    "start_time": "2022-06-22T10:40:19.327Z"
   },
   {
    "duration": 25,
    "start_time": "2022-06-22T10:40:19.349Z"
   },
   {
    "duration": 7,
    "start_time": "2022-06-22T10:40:19.375Z"
   },
   {
    "duration": 24,
    "start_time": "2022-06-22T10:40:19.383Z"
   },
   {
    "duration": 21,
    "start_time": "2022-06-22T10:40:19.409Z"
   },
   {
    "duration": 71,
    "start_time": "2022-06-22T10:40:19.432Z"
   },
   {
    "duration": 13,
    "start_time": "2022-06-22T10:40:19.504Z"
   },
   {
    "duration": 18,
    "start_time": "2022-06-22T10:40:19.519Z"
   },
   {
    "duration": 59,
    "start_time": "2022-06-22T10:40:19.539Z"
   },
   {
    "duration": 13,
    "start_time": "2022-06-22T10:40:19.599Z"
   },
   {
    "duration": 20,
    "start_time": "2022-06-22T10:40:19.614Z"
   },
   {
    "duration": 32,
    "start_time": "2022-06-22T10:40:19.658Z"
   },
   {
    "duration": 14,
    "start_time": "2022-06-22T10:40:19.691Z"
   },
   {
    "duration": 63,
    "start_time": "2022-06-22T10:40:19.707Z"
   },
   {
    "duration": 8,
    "start_time": "2022-06-22T10:40:19.771Z"
   },
   {
    "duration": 37,
    "start_time": "2022-06-22T10:40:19.780Z"
   },
   {
    "duration": 26,
    "start_time": "2022-06-22T10:40:19.819Z"
   },
   {
    "duration": 42,
    "start_time": "2022-06-22T10:40:19.846Z"
   },
   {
    "duration": 22,
    "start_time": "2022-06-22T10:40:19.889Z"
   },
   {
    "duration": 118,
    "start_time": "2022-06-22T10:40:19.912Z"
   },
   {
    "duration": 54,
    "start_time": "2022-06-22T10:40:20.032Z"
   },
   {
    "duration": 26,
    "start_time": "2022-06-22T10:40:20.087Z"
   },
   {
    "duration": 438,
    "start_time": "2022-06-22T10:40:20.116Z"
   },
   {
    "duration": 172,
    "start_time": "2022-06-22T10:40:20.556Z"
   },
   {
    "duration": 162,
    "start_time": "2022-06-22T10:40:20.730Z"
   },
   {
    "duration": 142,
    "start_time": "2022-06-22T10:40:20.893Z"
   },
   {
    "duration": 152,
    "start_time": "2022-06-22T10:40:21.036Z"
   },
   {
    "duration": 157,
    "start_time": "2022-06-22T10:40:21.190Z"
   },
   {
    "duration": 106,
    "start_time": "2022-06-22T10:40:21.348Z"
   },
   {
    "duration": 12,
    "start_time": "2022-06-22T10:40:21.456Z"
   },
   {
    "duration": 28,
    "start_time": "2022-06-22T10:40:21.479Z"
   },
   {
    "duration": 7,
    "start_time": "2022-06-22T10:40:21.509Z"
   },
   {
    "duration": 12,
    "start_time": "2022-06-22T10:40:21.518Z"
   },
   {
    "duration": 820,
    "start_time": "2022-06-22T10:40:46.378Z"
   },
   {
    "duration": 228,
    "start_time": "2022-06-22T10:40:47.200Z"
   },
   {
    "duration": 31,
    "start_time": "2022-06-22T10:40:47.430Z"
   },
   {
    "duration": 47,
    "start_time": "2022-06-22T10:40:47.463Z"
   },
   {
    "duration": 28,
    "start_time": "2022-06-22T10:40:47.513Z"
   },
   {
    "duration": 228,
    "start_time": "2022-06-22T10:40:47.543Z"
   },
   {
    "duration": 21,
    "start_time": "2022-06-22T10:40:47.773Z"
   },
   {
    "duration": 24,
    "start_time": "2022-06-22T10:40:47.796Z"
   },
   {
    "duration": 21,
    "start_time": "2022-06-22T10:40:47.821Z"
   },
   {
    "duration": 139,
    "start_time": "2022-06-22T10:40:47.865Z"
   },
   {
    "duration": 18,
    "start_time": "2022-06-22T10:40:48.005Z"
   },
   {
    "duration": 19,
    "start_time": "2022-06-22T10:40:48.025Z"
   },
   {
    "duration": 43,
    "start_time": "2022-06-22T10:40:48.046Z"
   },
   {
    "duration": 40,
    "start_time": "2022-06-22T10:40:48.092Z"
   },
   {
    "duration": 4,
    "start_time": "2022-06-22T10:40:48.133Z"
   },
   {
    "duration": 8,
    "start_time": "2022-06-22T10:40:48.138Z"
   },
   {
    "duration": 25,
    "start_time": "2022-06-22T10:40:48.147Z"
   },
   {
    "duration": 18,
    "start_time": "2022-06-22T10:40:48.173Z"
   },
   {
    "duration": 20,
    "start_time": "2022-06-22T10:40:48.193Z"
   },
   {
    "duration": 23,
    "start_time": "2022-06-22T10:40:48.215Z"
   },
   {
    "duration": 22,
    "start_time": "2022-06-22T10:40:48.240Z"
   },
   {
    "duration": 25,
    "start_time": "2022-06-22T10:40:48.263Z"
   },
   {
    "duration": 29,
    "start_time": "2022-06-22T10:40:48.289Z"
   },
   {
    "duration": 74,
    "start_time": "2022-06-22T10:40:48.319Z"
   },
   {
    "duration": 15,
    "start_time": "2022-06-22T10:40:48.395Z"
   },
   {
    "duration": 18,
    "start_time": "2022-06-22T10:40:48.412Z"
   },
   {
    "duration": 64,
    "start_time": "2022-06-22T10:40:48.432Z"
   },
   {
    "duration": 15,
    "start_time": "2022-06-22T10:40:48.498Z"
   },
   {
    "duration": 21,
    "start_time": "2022-06-22T10:40:48.515Z"
   },
   {
    "duration": 55,
    "start_time": "2022-06-22T10:40:48.537Z"
   },
   {
    "duration": 17,
    "start_time": "2022-06-22T10:40:48.594Z"
   },
   {
    "duration": 60,
    "start_time": "2022-06-22T10:40:48.612Z"
   },
   {
    "duration": 4,
    "start_time": "2022-06-22T10:40:48.673Z"
   },
   {
    "duration": 37,
    "start_time": "2022-06-22T10:40:48.678Z"
   },
   {
    "duration": 26,
    "start_time": "2022-06-22T10:40:48.717Z"
   },
   {
    "duration": 35,
    "start_time": "2022-06-22T10:40:48.744Z"
   },
   {
    "duration": 23,
    "start_time": "2022-06-22T10:40:48.781Z"
   },
   {
    "duration": 111,
    "start_time": "2022-06-22T10:40:48.806Z"
   },
   {
    "duration": 23,
    "start_time": "2022-06-22T10:40:48.919Z"
   },
   {
    "duration": 40,
    "start_time": "2022-06-22T10:40:48.944Z"
   },
   {
    "duration": 403,
    "start_time": "2022-06-22T10:40:48.988Z"
   },
   {
    "duration": 155,
    "start_time": "2022-06-22T10:40:49.393Z"
   },
   {
    "duration": 143,
    "start_time": "2022-06-22T10:40:49.549Z"
   },
   {
    "duration": 147,
    "start_time": "2022-06-22T10:40:49.694Z"
   },
   {
    "duration": 149,
    "start_time": "2022-06-22T10:40:49.843Z"
   },
   {
    "duration": 156,
    "start_time": "2022-06-22T10:40:49.993Z"
   },
   {
    "duration": 108,
    "start_time": "2022-06-22T10:40:50.150Z"
   },
   {
    "duration": 16,
    "start_time": "2022-06-22T10:40:50.265Z"
   },
   {
    "duration": 15,
    "start_time": "2022-06-22T10:40:50.282Z"
   },
   {
    "duration": 9,
    "start_time": "2022-06-22T10:40:50.299Z"
   },
   {
    "duration": 23,
    "start_time": "2022-06-22T10:40:50.310Z"
   },
   {
    "duration": 932,
    "start_time": "2022-06-22T10:41:46.630Z"
   },
   {
    "duration": 230,
    "start_time": "2022-06-22T10:41:47.564Z"
   },
   {
    "duration": 15,
    "start_time": "2022-06-22T10:41:47.795Z"
   },
   {
    "duration": 55,
    "start_time": "2022-06-22T10:41:47.812Z"
   },
   {
    "duration": 36,
    "start_time": "2022-06-22T10:41:47.872Z"
   },
   {
    "duration": 182,
    "start_time": "2022-06-22T10:41:47.910Z"
   },
   {
    "duration": 12,
    "start_time": "2022-06-22T10:41:48.093Z"
   },
   {
    "duration": 22,
    "start_time": "2022-06-22T10:41:48.107Z"
   },
   {
    "duration": 43,
    "start_time": "2022-06-22T10:41:48.131Z"
   },
   {
    "duration": 117,
    "start_time": "2022-06-22T10:41:48.175Z"
   },
   {
    "duration": 18,
    "start_time": "2022-06-22T10:41:48.293Z"
   },
   {
    "duration": 18,
    "start_time": "2022-06-22T10:41:48.313Z"
   },
   {
    "duration": 40,
    "start_time": "2022-06-22T10:41:48.332Z"
   },
   {
    "duration": 38,
    "start_time": "2022-06-22T10:41:48.375Z"
   },
   {
    "duration": 3,
    "start_time": "2022-06-22T10:41:48.415Z"
   },
   {
    "duration": 12,
    "start_time": "2022-06-22T10:41:48.419Z"
   },
   {
    "duration": 19,
    "start_time": "2022-06-22T10:41:48.432Z"
   },
   {
    "duration": 19,
    "start_time": "2022-06-22T10:41:48.452Z"
   },
   {
    "duration": 21,
    "start_time": "2022-06-22T10:41:48.473Z"
   },
   {
    "duration": 22,
    "start_time": "2022-06-22T10:41:48.495Z"
   },
   {
    "duration": 5,
    "start_time": "2022-06-22T10:41:48.519Z"
   },
   {
    "duration": 46,
    "start_time": "2022-06-22T10:41:48.525Z"
   },
   {
    "duration": 22,
    "start_time": "2022-06-22T10:41:48.573Z"
   },
   {
    "duration": 54,
    "start_time": "2022-06-22T10:41:48.597Z"
   },
   {
    "duration": 17,
    "start_time": "2022-06-22T10:41:48.658Z"
   },
   {
    "duration": 45,
    "start_time": "2022-06-22T10:41:48.677Z"
   },
   {
    "duration": 49,
    "start_time": "2022-06-22T10:41:48.724Z"
   },
   {
    "duration": 16,
    "start_time": "2022-06-22T10:41:48.775Z"
   },
   {
    "duration": 30,
    "start_time": "2022-06-22T10:41:48.792Z"
   },
   {
    "duration": 26,
    "start_time": "2022-06-22T10:41:48.823Z"
   },
   {
    "duration": 29,
    "start_time": "2022-06-22T10:41:48.850Z"
   },
   {
    "duration": 38,
    "start_time": "2022-06-22T10:41:48.880Z"
   },
   {
    "duration": 3,
    "start_time": "2022-06-22T10:41:48.920Z"
   },
   {
    "duration": 46,
    "start_time": "2022-06-22T10:41:48.925Z"
   },
   {
    "duration": 30,
    "start_time": "2022-06-22T10:41:48.972Z"
   },
   {
    "duration": 29,
    "start_time": "2022-06-22T10:41:49.003Z"
   },
   {
    "duration": 41,
    "start_time": "2022-06-22T10:41:49.033Z"
   },
   {
    "duration": 109,
    "start_time": "2022-06-22T10:41:49.076Z"
   },
   {
    "duration": 22,
    "start_time": "2022-06-22T10:41:49.186Z"
   },
   {
    "duration": 34,
    "start_time": "2022-06-22T10:41:49.210Z"
   },
   {
    "duration": 386,
    "start_time": "2022-06-22T10:41:49.248Z"
   },
   {
    "duration": 161,
    "start_time": "2022-06-22T10:41:49.635Z"
   },
   {
    "duration": 147,
    "start_time": "2022-06-22T10:41:49.798Z"
   },
   {
    "duration": 139,
    "start_time": "2022-06-22T10:41:49.946Z"
   },
   {
    "duration": 138,
    "start_time": "2022-06-22T10:41:50.087Z"
   },
   {
    "duration": 156,
    "start_time": "2022-06-22T10:41:50.227Z"
   },
   {
    "duration": 95,
    "start_time": "2022-06-22T10:41:50.385Z"
   },
   {
    "duration": 5,
    "start_time": "2022-06-22T10:41:50.482Z"
   },
   {
    "duration": 13,
    "start_time": "2022-06-22T10:41:50.488Z"
   },
   {
    "duration": 4,
    "start_time": "2022-06-22T10:41:50.503Z"
   },
   {
    "duration": 13,
    "start_time": "2022-06-22T10:41:50.509Z"
   },
   {
    "duration": 851,
    "start_time": "2022-06-22T10:47:51.931Z"
   },
   {
    "duration": 229,
    "start_time": "2022-06-22T10:47:52.784Z"
   },
   {
    "duration": 20,
    "start_time": "2022-06-22T10:47:53.016Z"
   },
   {
    "duration": 56,
    "start_time": "2022-06-22T10:47:53.038Z"
   },
   {
    "duration": 25,
    "start_time": "2022-06-22T10:47:53.096Z"
   },
   {
    "duration": 181,
    "start_time": "2022-06-22T10:47:53.123Z"
   },
   {
    "duration": 13,
    "start_time": "2022-06-22T10:47:53.305Z"
   },
   {
    "duration": 49,
    "start_time": "2022-06-22T10:47:53.320Z"
   },
   {
    "duration": 23,
    "start_time": "2022-06-22T10:47:53.375Z"
   },
   {
    "duration": 115,
    "start_time": "2022-06-22T10:47:53.399Z"
   },
   {
    "duration": 19,
    "start_time": "2022-06-22T10:47:53.515Z"
   },
   {
    "duration": 30,
    "start_time": "2022-06-22T10:47:53.536Z"
   },
   {
    "duration": 29,
    "start_time": "2022-06-22T10:47:53.567Z"
   },
   {
    "duration": 39,
    "start_time": "2022-06-22T10:47:53.598Z"
   },
   {
    "duration": 3,
    "start_time": "2022-06-22T10:47:53.639Z"
   },
   {
    "duration": 7,
    "start_time": "2022-06-22T10:47:53.644Z"
   },
   {
    "duration": 23,
    "start_time": "2022-06-22T10:47:53.653Z"
   },
   {
    "duration": 11,
    "start_time": "2022-06-22T10:47:53.677Z"
   },
   {
    "duration": 20,
    "start_time": "2022-06-22T10:47:53.690Z"
   },
   {
    "duration": 23,
    "start_time": "2022-06-22T10:47:53.711Z"
   },
   {
    "duration": 36,
    "start_time": "2022-06-22T10:47:53.735Z"
   },
   {
    "duration": 24,
    "start_time": "2022-06-22T10:47:53.772Z"
   },
   {
    "duration": 28,
    "start_time": "2022-06-22T10:47:53.798Z"
   },
   {
    "duration": 69,
    "start_time": "2022-06-22T10:47:53.828Z"
   },
   {
    "duration": 14,
    "start_time": "2022-06-22T10:47:53.898Z"
   },
   {
    "duration": 20,
    "start_time": "2022-06-22T10:47:53.913Z"
   },
   {
    "duration": 54,
    "start_time": "2022-06-22T10:47:53.934Z"
   },
   {
    "duration": 14,
    "start_time": "2022-06-22T10:47:53.989Z"
   },
   {
    "duration": 20,
    "start_time": "2022-06-22T10:47:54.004Z"
   },
   {
    "duration": 51,
    "start_time": "2022-06-22T10:47:54.026Z"
   },
   {
    "duration": 12,
    "start_time": "2022-06-22T10:47:54.079Z"
   },
   {
    "duration": 36,
    "start_time": "2022-06-22T10:47:54.092Z"
   },
   {
    "duration": 3,
    "start_time": "2022-06-22T10:47:54.129Z"
   },
   {
    "duration": 52,
    "start_time": "2022-06-22T10:47:54.133Z"
   },
   {
    "duration": 24,
    "start_time": "2022-06-22T10:47:54.187Z"
   },
   {
    "duration": 24,
    "start_time": "2022-06-22T10:47:54.212Z"
   },
   {
    "duration": 41,
    "start_time": "2022-06-22T10:47:54.237Z"
   },
   {
    "duration": 103,
    "start_time": "2022-06-22T10:47:54.280Z"
   },
   {
    "duration": 25,
    "start_time": "2022-06-22T10:47:54.385Z"
   },
   {
    "duration": 26,
    "start_time": "2022-06-22T10:47:54.411Z"
   },
   {
    "duration": 465,
    "start_time": "2022-06-22T10:47:54.441Z"
   },
   {
    "duration": 163,
    "start_time": "2022-06-22T10:47:54.907Z"
   },
   {
    "duration": 148,
    "start_time": "2022-06-22T10:47:55.072Z"
   },
   {
    "duration": 132,
    "start_time": "2022-06-22T10:47:55.222Z"
   },
   {
    "duration": 139,
    "start_time": "2022-06-22T10:47:55.356Z"
   },
   {
    "duration": 149,
    "start_time": "2022-06-22T10:47:55.496Z"
   },
   {
    "duration": 97,
    "start_time": "2022-06-22T10:47:55.646Z"
   },
   {
    "duration": 26,
    "start_time": "2022-06-22T10:47:55.745Z"
   },
   {
    "duration": 10,
    "start_time": "2022-06-22T10:47:55.773Z"
   },
   {
    "duration": 6,
    "start_time": "2022-06-22T10:47:55.785Z"
   },
   {
    "duration": 15,
    "start_time": "2022-06-22T10:47:55.793Z"
   },
   {
    "duration": 151,
    "start_time": "2022-06-22T10:49:56.471Z"
   },
   {
    "duration": 172,
    "start_time": "2022-06-22T10:50:01.888Z"
   },
   {
    "duration": 166,
    "start_time": "2022-06-22T10:50:09.893Z"
   },
   {
    "duration": 155,
    "start_time": "2022-06-22T10:50:15.770Z"
   },
   {
    "duration": 168,
    "start_time": "2022-06-22T10:52:19.192Z"
   },
   {
    "duration": 190,
    "start_time": "2022-06-22T10:55:50.532Z"
   },
   {
    "duration": 178,
    "start_time": "2022-06-22T10:56:11.331Z"
   },
   {
    "duration": 211,
    "start_time": "2022-06-22T10:56:20.304Z"
   },
   {
    "duration": 215,
    "start_time": "2022-06-22T10:56:55.855Z"
   },
   {
    "duration": 165,
    "start_time": "2022-06-22T10:59:14.732Z"
   },
   {
    "duration": 208,
    "start_time": "2022-06-22T10:59:27.331Z"
   },
   {
    "duration": 346,
    "start_time": "2022-06-22T11:03:19.172Z"
   },
   {
    "duration": 1008,
    "start_time": "2022-06-22T11:03:25.292Z"
   },
   {
    "duration": 198,
    "start_time": "2022-06-22T11:03:26.302Z"
   },
   {
    "duration": 15,
    "start_time": "2022-06-22T11:03:26.502Z"
   },
   {
    "duration": 48,
    "start_time": "2022-06-22T11:03:26.520Z"
   },
   {
    "duration": 25,
    "start_time": "2022-06-22T11:03:26.575Z"
   },
   {
    "duration": 179,
    "start_time": "2022-06-22T11:03:26.601Z"
   },
   {
    "duration": 15,
    "start_time": "2022-06-22T11:03:26.782Z"
   },
   {
    "duration": 23,
    "start_time": "2022-06-22T11:03:26.798Z"
   },
   {
    "duration": 51,
    "start_time": "2022-06-22T11:03:26.823Z"
   },
   {
    "duration": 120,
    "start_time": "2022-06-22T11:03:26.876Z"
   },
   {
    "duration": 17,
    "start_time": "2022-06-22T11:03:26.998Z"
   },
   {
    "duration": 20,
    "start_time": "2022-06-22T11:03:27.017Z"
   },
   {
    "duration": 34,
    "start_time": "2022-06-22T11:03:27.038Z"
   },
   {
    "duration": 39,
    "start_time": "2022-06-22T11:03:27.074Z"
   },
   {
    "duration": 4,
    "start_time": "2022-06-22T11:03:27.114Z"
   },
   {
    "duration": 11,
    "start_time": "2022-06-22T11:03:27.119Z"
   },
   {
    "duration": 19,
    "start_time": "2022-06-22T11:03:27.131Z"
   },
   {
    "duration": 19,
    "start_time": "2022-06-22T11:03:27.151Z"
   },
   {
    "duration": 22,
    "start_time": "2022-06-22T11:03:27.173Z"
   },
   {
    "duration": 25,
    "start_time": "2022-06-22T11:03:27.197Z"
   },
   {
    "duration": 7,
    "start_time": "2022-06-22T11:03:27.224Z"
   },
   {
    "duration": 43,
    "start_time": "2022-06-22T11:03:27.233Z"
   },
   {
    "duration": 37,
    "start_time": "2022-06-22T11:03:27.278Z"
   },
   {
    "duration": 80,
    "start_time": "2022-06-22T11:03:27.317Z"
   },
   {
    "duration": 15,
    "start_time": "2022-06-22T11:03:27.399Z"
   },
   {
    "duration": 53,
    "start_time": "2022-06-22T11:03:27.416Z"
   },
   {
    "duration": 40,
    "start_time": "2022-06-22T11:03:27.473Z"
   },
   {
    "duration": 18,
    "start_time": "2022-06-22T11:03:27.518Z"
   },
   {
    "duration": 41,
    "start_time": "2022-06-22T11:03:27.537Z"
   },
   {
    "duration": 30,
    "start_time": "2022-06-22T11:03:27.580Z"
   },
   {
    "duration": 14,
    "start_time": "2022-06-22T11:03:27.611Z"
   },
   {
    "duration": 69,
    "start_time": "2022-06-22T11:03:27.627Z"
   },
   {
    "duration": 3,
    "start_time": "2022-06-22T11:03:27.698Z"
   },
   {
    "duration": 33,
    "start_time": "2022-06-22T11:03:27.702Z"
   },
   {
    "duration": 37,
    "start_time": "2022-06-22T11:03:27.736Z"
   },
   {
    "duration": 28,
    "start_time": "2022-06-22T11:03:27.775Z"
   },
   {
    "duration": 24,
    "start_time": "2022-06-22T11:03:27.805Z"
   },
   {
    "duration": 138,
    "start_time": "2022-06-22T11:03:27.831Z"
   },
   {
    "duration": 30,
    "start_time": "2022-06-22T11:03:27.970Z"
   },
   {
    "duration": 25,
    "start_time": "2022-06-22T11:03:28.001Z"
   },
   {
    "duration": 226,
    "start_time": "2022-06-22T11:03:28.028Z"
   },
   {
    "duration": 151,
    "start_time": "2022-06-22T11:03:28.256Z"
   },
   {
    "duration": 140,
    "start_time": "2022-06-22T11:03:28.409Z"
   },
   {
    "duration": 136,
    "start_time": "2022-06-22T11:03:28.550Z"
   },
   {
    "duration": 144,
    "start_time": "2022-06-22T11:03:28.687Z"
   },
   {
    "duration": 218,
    "start_time": "2022-06-22T11:03:28.833Z"
   },
   {
    "duration": 30,
    "start_time": "2022-06-22T11:03:29.059Z"
   },
   {
    "duration": 6,
    "start_time": "2022-06-22T11:03:29.091Z"
   },
   {
    "duration": 14,
    "start_time": "2022-06-22T11:03:29.099Z"
   },
   {
    "duration": 7,
    "start_time": "2022-06-22T11:03:29.115Z"
   },
   {
    "duration": 12,
    "start_time": "2022-06-22T11:03:29.124Z"
   },
   {
    "duration": 180,
    "start_time": "2022-06-22T11:04:39.490Z"
   },
   {
    "duration": 225,
    "start_time": "2022-06-22T11:06:02.839Z"
   },
   {
    "duration": 169,
    "start_time": "2022-06-22T11:14:08.221Z"
   },
   {
    "duration": 188,
    "start_time": "2022-06-22T11:14:23.534Z"
   },
   {
    "duration": 194,
    "start_time": "2022-06-22T11:15:09.000Z"
   },
   {
    "duration": 232,
    "start_time": "2022-06-22T11:15:17.432Z"
   },
   {
    "duration": 199,
    "start_time": "2022-06-22T11:15:36.533Z"
   },
   {
    "duration": 180,
    "start_time": "2022-06-22T11:15:54.613Z"
   },
   {
    "duration": 188,
    "start_time": "2022-06-22T11:21:11.525Z"
   },
   {
    "duration": 1180,
    "start_time": "2022-06-22T11:34:49.445Z"
   },
   {
    "duration": 307,
    "start_time": "2022-06-22T11:34:50.627Z"
   },
   {
    "duration": 17,
    "start_time": "2022-06-22T11:34:50.935Z"
   },
   {
    "duration": 33,
    "start_time": "2022-06-22T11:34:50.954Z"
   },
   {
    "duration": 26,
    "start_time": "2022-06-22T11:34:50.989Z"
   },
   {
    "duration": 378,
    "start_time": "2022-06-22T11:34:51.017Z"
   },
   {
    "duration": 13,
    "start_time": "2022-06-22T11:34:51.397Z"
   },
   {
    "duration": 31,
    "start_time": "2022-06-22T11:34:51.411Z"
   },
   {
    "duration": 35,
    "start_time": "2022-06-22T11:34:51.444Z"
   },
   {
    "duration": 331,
    "start_time": "2022-06-22T11:34:51.482Z"
   },
   {
    "duration": 20,
    "start_time": "2022-06-22T11:34:51.815Z"
   },
   {
    "duration": 47,
    "start_time": "2022-06-22T11:34:51.837Z"
   },
   {
    "duration": 82,
    "start_time": "2022-06-22T11:34:51.886Z"
   },
   {
    "duration": 71,
    "start_time": "2022-06-22T11:34:51.971Z"
   },
   {
    "duration": 4,
    "start_time": "2022-06-22T11:34:52.044Z"
   },
   {
    "duration": 32,
    "start_time": "2022-06-22T11:34:52.050Z"
   },
   {
    "duration": 53,
    "start_time": "2022-06-22T11:34:52.084Z"
   },
   {
    "duration": 36,
    "start_time": "2022-06-22T11:34:52.139Z"
   },
   {
    "duration": 31,
    "start_time": "2022-06-22T11:34:52.177Z"
   },
   {
    "duration": 42,
    "start_time": "2022-06-22T11:34:52.210Z"
   },
   {
    "duration": 97,
    "start_time": "2022-06-22T11:34:52.253Z"
   },
   {
    "duration": 0,
    "start_time": "2022-06-22T11:34:52.353Z"
   },
   {
    "duration": 0,
    "start_time": "2022-06-22T11:34:52.354Z"
   },
   {
    "duration": 0,
    "start_time": "2022-06-22T11:34:52.355Z"
   },
   {
    "duration": 0,
    "start_time": "2022-06-22T11:34:52.358Z"
   },
   {
    "duration": 0,
    "start_time": "2022-06-22T11:34:52.359Z"
   },
   {
    "duration": 0,
    "start_time": "2022-06-22T11:34:52.360Z"
   },
   {
    "duration": 0,
    "start_time": "2022-06-22T11:34:52.361Z"
   },
   {
    "duration": 0,
    "start_time": "2022-06-22T11:34:52.362Z"
   },
   {
    "duration": 0,
    "start_time": "2022-06-22T11:34:52.363Z"
   },
   {
    "duration": 0,
    "start_time": "2022-06-22T11:34:52.364Z"
   },
   {
    "duration": 0,
    "start_time": "2022-06-22T11:34:52.365Z"
   },
   {
    "duration": 1,
    "start_time": "2022-06-22T11:34:52.365Z"
   },
   {
    "duration": 0,
    "start_time": "2022-06-22T11:34:52.366Z"
   },
   {
    "duration": 0,
    "start_time": "2022-06-22T11:34:52.367Z"
   },
   {
    "duration": 0,
    "start_time": "2022-06-22T11:34:52.368Z"
   },
   {
    "duration": 0,
    "start_time": "2022-06-22T11:34:52.369Z"
   },
   {
    "duration": 0,
    "start_time": "2022-06-22T11:34:52.370Z"
   },
   {
    "duration": 0,
    "start_time": "2022-06-22T11:34:52.371Z"
   },
   {
    "duration": 0,
    "start_time": "2022-06-22T11:34:52.372Z"
   },
   {
    "duration": 0,
    "start_time": "2022-06-22T11:34:52.373Z"
   },
   {
    "duration": 0,
    "start_time": "2022-06-22T11:34:52.374Z"
   },
   {
    "duration": 0,
    "start_time": "2022-06-22T11:34:52.375Z"
   },
   {
    "duration": 0,
    "start_time": "2022-06-22T11:34:52.376Z"
   },
   {
    "duration": 0,
    "start_time": "2022-06-22T11:34:52.377Z"
   },
   {
    "duration": 0,
    "start_time": "2022-06-22T11:34:52.378Z"
   },
   {
    "duration": 0,
    "start_time": "2022-06-22T11:34:52.379Z"
   },
   {
    "duration": 1,
    "start_time": "2022-06-22T11:34:52.379Z"
   },
   {
    "duration": 10,
    "start_time": "2022-06-22T11:35:12.493Z"
   },
   {
    "duration": 6,
    "start_time": "2022-06-22T11:35:37.216Z"
   },
   {
    "duration": 1094,
    "start_time": "2022-06-22T11:35:49.198Z"
   },
   {
    "duration": 217,
    "start_time": "2022-06-22T11:35:50.294Z"
   },
   {
    "duration": 15,
    "start_time": "2022-06-22T11:35:50.513Z"
   },
   {
    "duration": 62,
    "start_time": "2022-06-22T11:35:50.530Z"
   },
   {
    "duration": 32,
    "start_time": "2022-06-22T11:35:50.595Z"
   },
   {
    "duration": 192,
    "start_time": "2022-06-22T11:35:50.628Z"
   },
   {
    "duration": 14,
    "start_time": "2022-06-22T11:35:50.822Z"
   },
   {
    "duration": 29,
    "start_time": "2022-06-22T11:35:50.838Z"
   },
   {
    "duration": 24,
    "start_time": "2022-06-22T11:35:50.869Z"
   },
   {
    "duration": 171,
    "start_time": "2022-06-22T11:35:50.895Z"
   },
   {
    "duration": 31,
    "start_time": "2022-06-22T11:35:51.068Z"
   },
   {
    "duration": 21,
    "start_time": "2022-06-22T11:35:51.103Z"
   },
   {
    "duration": 43,
    "start_time": "2022-06-22T11:35:51.126Z"
   },
   {
    "duration": 50,
    "start_time": "2022-06-22T11:35:51.173Z"
   },
   {
    "duration": 5,
    "start_time": "2022-06-22T11:35:51.225Z"
   },
   {
    "duration": 19,
    "start_time": "2022-06-22T11:35:51.232Z"
   },
   {
    "duration": 54,
    "start_time": "2022-06-22T11:35:51.253Z"
   },
   {
    "duration": 31,
    "start_time": "2022-06-22T11:35:51.309Z"
   },
   {
    "duration": 41,
    "start_time": "2022-06-22T11:35:51.342Z"
   },
   {
    "duration": 29,
    "start_time": "2022-06-22T11:35:51.385Z"
   },
   {
    "duration": 10,
    "start_time": "2022-06-22T11:35:51.416Z"
   },
   {
    "duration": 41,
    "start_time": "2022-06-22T11:35:51.428Z"
   },
   {
    "duration": 37,
    "start_time": "2022-06-22T11:35:51.471Z"
   },
   {
    "duration": 79,
    "start_time": "2022-06-22T11:35:51.510Z"
   },
   {
    "duration": 15,
    "start_time": "2022-06-22T11:35:51.591Z"
   },
   {
    "duration": 23,
    "start_time": "2022-06-22T11:35:51.607Z"
   },
   {
    "duration": 56,
    "start_time": "2022-06-22T11:35:51.632Z"
   },
   {
    "duration": 16,
    "start_time": "2022-06-22T11:35:51.690Z"
   },
   {
    "duration": 24,
    "start_time": "2022-06-22T11:35:51.707Z"
   },
   {
    "duration": 55,
    "start_time": "2022-06-22T11:35:51.732Z"
   },
   {
    "duration": 19,
    "start_time": "2022-06-22T11:35:51.790Z"
   },
   {
    "duration": 69,
    "start_time": "2022-06-22T11:35:51.811Z"
   },
   {
    "duration": 4,
    "start_time": "2022-06-22T11:35:51.881Z"
   },
   {
    "duration": 44,
    "start_time": "2022-06-22T11:35:51.887Z"
   },
   {
    "duration": 47,
    "start_time": "2022-06-22T11:35:51.933Z"
   },
   {
    "duration": 29,
    "start_time": "2022-06-22T11:35:51.982Z"
   },
   {
    "duration": 49,
    "start_time": "2022-06-22T11:35:52.012Z"
   },
   {
    "duration": 108,
    "start_time": "2022-06-22T11:35:52.063Z"
   },
   {
    "duration": 25,
    "start_time": "2022-06-22T11:35:52.172Z"
   },
   {
    "duration": 23,
    "start_time": "2022-06-22T11:35:52.199Z"
   },
   {
    "duration": 235,
    "start_time": "2022-06-22T11:35:52.226Z"
   },
   {
    "duration": 185,
    "start_time": "2022-06-22T11:35:52.463Z"
   },
   {
    "duration": 195,
    "start_time": "2022-06-22T11:35:52.650Z"
   },
   {
    "duration": 33,
    "start_time": "2022-06-22T11:35:52.848Z"
   },
   {
    "duration": 14,
    "start_time": "2022-06-22T11:35:52.882Z"
   },
   {
    "duration": 20,
    "start_time": "2022-06-22T11:35:52.898Z"
   },
   {
    "duration": 17,
    "start_time": "2022-06-22T11:35:52.920Z"
   },
   {
    "duration": 28,
    "start_time": "2022-06-22T11:35:52.939Z"
   },
   {
    "duration": 1032,
    "start_time": "2022-06-22T11:38:19.883Z"
   },
   {
    "duration": 190,
    "start_time": "2022-06-22T11:38:20.917Z"
   },
   {
    "duration": 16,
    "start_time": "2022-06-22T11:38:21.108Z"
   },
   {
    "duration": 47,
    "start_time": "2022-06-22T11:38:21.125Z"
   },
   {
    "duration": 23,
    "start_time": "2022-06-22T11:38:21.174Z"
   },
   {
    "duration": 164,
    "start_time": "2022-06-22T11:38:21.199Z"
   },
   {
    "duration": 14,
    "start_time": "2022-06-22T11:38:21.364Z"
   },
   {
    "duration": 23,
    "start_time": "2022-06-22T11:38:21.380Z"
   },
   {
    "duration": 22,
    "start_time": "2022-06-22T11:38:21.405Z"
   },
   {
    "duration": 114,
    "start_time": "2022-06-22T11:38:21.459Z"
   },
   {
    "duration": 18,
    "start_time": "2022-06-22T11:38:21.575Z"
   },
   {
    "duration": 28,
    "start_time": "2022-06-22T11:38:21.595Z"
   },
   {
    "duration": 38,
    "start_time": "2022-06-22T11:38:21.625Z"
   },
   {
    "duration": 45,
    "start_time": "2022-06-22T11:38:21.667Z"
   },
   {
    "duration": 4,
    "start_time": "2022-06-22T11:38:21.715Z"
   },
   {
    "duration": 21,
    "start_time": "2022-06-22T11:38:21.721Z"
   },
   {
    "duration": 26,
    "start_time": "2022-06-22T11:38:21.744Z"
   },
   {
    "duration": 16,
    "start_time": "2022-06-22T11:38:21.772Z"
   },
   {
    "duration": 27,
    "start_time": "2022-06-22T11:38:21.790Z"
   },
   {
    "duration": 48,
    "start_time": "2022-06-22T11:38:21.819Z"
   },
   {
    "duration": 7,
    "start_time": "2022-06-22T11:38:21.869Z"
   },
   {
    "duration": 27,
    "start_time": "2022-06-22T11:38:21.878Z"
   },
   {
    "duration": 53,
    "start_time": "2022-06-22T11:38:21.907Z"
   },
   {
    "duration": 55,
    "start_time": "2022-06-22T11:38:21.962Z"
   },
   {
    "duration": 14,
    "start_time": "2022-06-22T11:38:22.019Z"
   },
   {
    "duration": 42,
    "start_time": "2022-06-22T11:38:22.034Z"
   },
   {
    "duration": 32,
    "start_time": "2022-06-22T11:38:22.078Z"
   },
   {
    "duration": 15,
    "start_time": "2022-06-22T11:38:22.112Z"
   },
   {
    "duration": 44,
    "start_time": "2022-06-22T11:38:22.128Z"
   },
   {
    "duration": 26,
    "start_time": "2022-06-22T11:38:22.173Z"
   },
   {
    "duration": 50,
    "start_time": "2022-06-22T11:38:22.200Z"
   },
   {
    "duration": 0,
    "start_time": "2022-06-22T11:38:22.253Z"
   },
   {
    "duration": 0,
    "start_time": "2022-06-22T11:38:22.255Z"
   },
   {
    "duration": 0,
    "start_time": "2022-06-22T11:38:22.256Z"
   },
   {
    "duration": 0,
    "start_time": "2022-06-22T11:38:22.257Z"
   },
   {
    "duration": 0,
    "start_time": "2022-06-22T11:38:22.259Z"
   },
   {
    "duration": 0,
    "start_time": "2022-06-22T11:38:22.260Z"
   },
   {
    "duration": 0,
    "start_time": "2022-06-22T11:38:22.261Z"
   },
   {
    "duration": 0,
    "start_time": "2022-06-22T11:38:22.263Z"
   },
   {
    "duration": 0,
    "start_time": "2022-06-22T11:38:22.264Z"
   },
   {
    "duration": 0,
    "start_time": "2022-06-22T11:38:22.265Z"
   },
   {
    "duration": 0,
    "start_time": "2022-06-22T11:38:22.267Z"
   },
   {
    "duration": 0,
    "start_time": "2022-06-22T11:38:22.268Z"
   },
   {
    "duration": 0,
    "start_time": "2022-06-22T11:38:22.269Z"
   },
   {
    "duration": 0,
    "start_time": "2022-06-22T11:38:22.271Z"
   },
   {
    "duration": 0,
    "start_time": "2022-06-22T11:38:22.272Z"
   },
   {
    "duration": 0,
    "start_time": "2022-06-22T11:38:22.274Z"
   },
   {
    "duration": 0,
    "start_time": "2022-06-22T11:38:22.275Z"
   },
   {
    "duration": 1084,
    "start_time": "2022-06-22T11:38:37.724Z"
   },
   {
    "duration": 194,
    "start_time": "2022-06-22T11:38:38.810Z"
   },
   {
    "duration": 15,
    "start_time": "2022-06-22T11:38:39.005Z"
   },
   {
    "duration": 50,
    "start_time": "2022-06-22T11:38:39.022Z"
   },
   {
    "duration": 24,
    "start_time": "2022-06-22T11:38:39.073Z"
   },
   {
    "duration": 178,
    "start_time": "2022-06-22T11:38:39.099Z"
   },
   {
    "duration": 14,
    "start_time": "2022-06-22T11:38:39.279Z"
   },
   {
    "duration": 23,
    "start_time": "2022-06-22T11:38:39.295Z"
   },
   {
    "duration": 46,
    "start_time": "2022-06-22T11:38:39.320Z"
   },
   {
    "duration": 114,
    "start_time": "2022-06-22T11:38:39.369Z"
   },
   {
    "duration": 18,
    "start_time": "2022-06-22T11:38:39.484Z"
   },
   {
    "duration": 25,
    "start_time": "2022-06-22T11:38:39.503Z"
   },
   {
    "duration": 35,
    "start_time": "2022-06-22T11:38:39.530Z"
   },
   {
    "duration": 39,
    "start_time": "2022-06-22T11:38:39.567Z"
   },
   {
    "duration": 3,
    "start_time": "2022-06-22T11:38:39.608Z"
   },
   {
    "duration": 12,
    "start_time": "2022-06-22T11:38:39.613Z"
   },
   {
    "duration": 29,
    "start_time": "2022-06-22T11:38:39.627Z"
   },
   {
    "duration": 13,
    "start_time": "2022-06-22T11:38:39.657Z"
   },
   {
    "duration": 23,
    "start_time": "2022-06-22T11:38:39.671Z"
   },
   {
    "duration": 23,
    "start_time": "2022-06-22T11:38:39.696Z"
   },
   {
    "duration": 5,
    "start_time": "2022-06-22T11:38:39.721Z"
   },
   {
    "duration": 45,
    "start_time": "2022-06-22T11:38:39.728Z"
   },
   {
    "duration": 24,
    "start_time": "2022-06-22T11:38:39.775Z"
   },
   {
    "duration": 71,
    "start_time": "2022-06-22T11:38:39.800Z"
   },
   {
    "duration": 14,
    "start_time": "2022-06-22T11:38:39.873Z"
   },
   {
    "duration": 19,
    "start_time": "2022-06-22T11:38:39.889Z"
   },
   {
    "duration": 57,
    "start_time": "2022-06-22T11:38:39.910Z"
   },
   {
    "duration": 15,
    "start_time": "2022-06-22T11:38:39.970Z"
   },
   {
    "duration": 24,
    "start_time": "2022-06-22T11:38:39.987Z"
   },
   {
    "duration": 52,
    "start_time": "2022-06-22T11:38:40.013Z"
   },
   {
    "duration": 14,
    "start_time": "2022-06-22T11:38:40.067Z"
   },
   {
    "duration": 39,
    "start_time": "2022-06-22T11:38:40.083Z"
   },
   {
    "duration": 4,
    "start_time": "2022-06-22T11:38:40.124Z"
   },
   {
    "duration": 27,
    "start_time": "2022-06-22T11:38:40.158Z"
   },
   {
    "duration": 26,
    "start_time": "2022-06-22T11:38:40.187Z"
   },
   {
    "duration": 47,
    "start_time": "2022-06-22T11:38:40.214Z"
   },
   {
    "duration": 23,
    "start_time": "2022-06-22T11:38:40.263Z"
   },
   {
    "duration": 116,
    "start_time": "2022-06-22T11:38:40.288Z"
   },
   {
    "duration": 26,
    "start_time": "2022-06-22T11:38:40.406Z"
   },
   {
    "duration": 42,
    "start_time": "2022-06-22T11:38:40.434Z"
   },
   {
    "duration": 205,
    "start_time": "2022-06-22T11:38:40.478Z"
   },
   {
    "duration": 192,
    "start_time": "2022-06-22T11:38:40.684Z"
   },
   {
    "duration": 189,
    "start_time": "2022-06-22T11:38:40.878Z"
   },
   {
    "duration": 23,
    "start_time": "2022-06-22T11:38:41.069Z"
   },
   {
    "duration": 5,
    "start_time": "2022-06-22T11:38:41.095Z"
   },
   {
    "duration": 19,
    "start_time": "2022-06-22T11:38:41.101Z"
   },
   {
    "duration": 5,
    "start_time": "2022-06-22T11:38:41.122Z"
   },
   {
    "duration": 35,
    "start_time": "2022-06-22T11:38:41.129Z"
   }
  ],
  "kernelspec": {
   "display_name": "Python 3 (ipykernel)",
   "language": "python",
   "name": "python3"
  },
  "language_info": {
   "codemirror_mode": {
    "name": "ipython",
    "version": 3
   },
   "file_extension": ".py",
   "mimetype": "text/x-python",
   "name": "python",
   "nbconvert_exporter": "python",
   "pygments_lexer": "ipython3",
   "version": "3.9.12"
  },
  "toc": {
   "base_numbering": 1,
   "nav_menu": {},
   "number_sections": true,
   "sideBar": true,
   "skip_h1_title": true,
   "title_cell": "Table of Contents",
   "title_sidebar": "Contents",
   "toc_cell": false,
   "toc_position": {},
   "toc_section_display": true,
   "toc_window_display": false
  }
 },
 "nbformat": 4,
 "nbformat_minor": 2
}
