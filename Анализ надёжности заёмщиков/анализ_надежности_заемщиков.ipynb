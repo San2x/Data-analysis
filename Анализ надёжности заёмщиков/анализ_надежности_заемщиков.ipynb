{
 "cells": [
  {
   "cell_type": "markdown",
   "id": "d2d9f18f",
   "metadata": {},
   "source": [
    "# Исследование надежности заемщиков."
   ]
  },
  {
   "cell_type": "markdown",
   "id": "2e96ad8a",
   "metadata": {},
   "source": [
    "Заказчик — кредитный отдел банка. Нужно разобраться, влияет ли семейное положение и количество детей клиента на факт погашения кредита в срок. Входные данные от банка — статистика о платёжеспособности клиентов. В начале исследования будет произведен обзор данных, выявлены и устранены возможные пропуски, дубликаты и аномалии. Затем данные будут категоризированы и представлены в сводных таблицах для получения ответов на поставленные вопросы.  "
   ]
  },
  {
   "cell_type": "markdown",
   "id": "c396fb08",
   "metadata": {},
   "source": [
    "### Шаг 1. Обзор данных."
   ]
  },
  {
   "cell_type": "markdown",
   "id": "58428b7f",
   "metadata": {},
   "source": [
    "Осуществляется загрузка файла и первичное знакомство с данными."
   ]
  },
  {
   "cell_type": "code",
   "execution_count": 1,
   "id": "74e56d18",
   "metadata": {},
   "outputs": [
    {
     "name": "stdout",
     "output_type": "stream",
     "text": [
      "<class 'pandas.core.frame.DataFrame'>\n",
      "RangeIndex: 21525 entries, 0 to 21524\n",
      "Data columns (total 12 columns):\n",
      " #   Column            Non-Null Count  Dtype  \n",
      "---  ------            --------------  -----  \n",
      " 0   children          21525 non-null  int64  \n",
      " 1   days_employed     19351 non-null  float64\n",
      " 2   dob_years         21525 non-null  int64  \n",
      " 3   education         21525 non-null  object \n",
      " 4   education_id      21525 non-null  int64  \n",
      " 5   family_status     21525 non-null  object \n",
      " 6   family_status_id  21525 non-null  int64  \n",
      " 7   gender            21525 non-null  object \n",
      " 8   income_type       21525 non-null  object \n",
      " 9   debt              21525 non-null  int64  \n",
      " 10  total_income      19351 non-null  float64\n",
      " 11  purpose           21525 non-null  object \n",
      "dtypes: float64(2), int64(5), object(5)\n",
      "memory usage: 2.0+ MB\n"
     ]
    },
    {
     "data": {
      "text/html": [
       "<div>\n",
       "<style scoped>\n",
       "    .dataframe tbody tr th:only-of-type {\n",
       "        vertical-align: middle;\n",
       "    }\n",
       "\n",
       "    .dataframe tbody tr th {\n",
       "        vertical-align: top;\n",
       "    }\n",
       "\n",
       "    .dataframe thead th {\n",
       "        text-align: right;\n",
       "    }\n",
       "</style>\n",
       "<table border=\"1\" class=\"dataframe\">\n",
       "  <thead>\n",
       "    <tr style=\"text-align: right;\">\n",
       "      <th></th>\n",
       "      <th>children</th>\n",
       "      <th>days_employed</th>\n",
       "      <th>dob_years</th>\n",
       "      <th>education</th>\n",
       "      <th>education_id</th>\n",
       "      <th>family_status</th>\n",
       "      <th>family_status_id</th>\n",
       "      <th>gender</th>\n",
       "      <th>income_type</th>\n",
       "      <th>debt</th>\n",
       "      <th>total_income</th>\n",
       "      <th>purpose</th>\n",
       "    </tr>\n",
       "  </thead>\n",
       "  <tbody>\n",
       "    <tr>\n",
       "      <th>0</th>\n",
       "      <td>1</td>\n",
       "      <td>-8437.673028</td>\n",
       "      <td>42</td>\n",
       "      <td>высшее</td>\n",
       "      <td>0</td>\n",
       "      <td>женат / замужем</td>\n",
       "      <td>0</td>\n",
       "      <td>F</td>\n",
       "      <td>сотрудник</td>\n",
       "      <td>0</td>\n",
       "      <td>253875.639453</td>\n",
       "      <td>покупка жилья</td>\n",
       "    </tr>\n",
       "    <tr>\n",
       "      <th>1</th>\n",
       "      <td>1</td>\n",
       "      <td>-4024.803754</td>\n",
       "      <td>36</td>\n",
       "      <td>среднее</td>\n",
       "      <td>1</td>\n",
       "      <td>женат / замужем</td>\n",
       "      <td>0</td>\n",
       "      <td>F</td>\n",
       "      <td>сотрудник</td>\n",
       "      <td>0</td>\n",
       "      <td>112080.014102</td>\n",
       "      <td>приобретение автомобиля</td>\n",
       "    </tr>\n",
       "    <tr>\n",
       "      <th>2</th>\n",
       "      <td>0</td>\n",
       "      <td>-5623.422610</td>\n",
       "      <td>33</td>\n",
       "      <td>Среднее</td>\n",
       "      <td>1</td>\n",
       "      <td>женат / замужем</td>\n",
       "      <td>0</td>\n",
       "      <td>M</td>\n",
       "      <td>сотрудник</td>\n",
       "      <td>0</td>\n",
       "      <td>145885.952297</td>\n",
       "      <td>покупка жилья</td>\n",
       "    </tr>\n",
       "    <tr>\n",
       "      <th>3</th>\n",
       "      <td>3</td>\n",
       "      <td>-4124.747207</td>\n",
       "      <td>32</td>\n",
       "      <td>среднее</td>\n",
       "      <td>1</td>\n",
       "      <td>женат / замужем</td>\n",
       "      <td>0</td>\n",
       "      <td>M</td>\n",
       "      <td>сотрудник</td>\n",
       "      <td>0</td>\n",
       "      <td>267628.550329</td>\n",
       "      <td>дополнительное образование</td>\n",
       "    </tr>\n",
       "    <tr>\n",
       "      <th>4</th>\n",
       "      <td>0</td>\n",
       "      <td>340266.072047</td>\n",
       "      <td>53</td>\n",
       "      <td>среднее</td>\n",
       "      <td>1</td>\n",
       "      <td>гражданский брак</td>\n",
       "      <td>1</td>\n",
       "      <td>F</td>\n",
       "      <td>пенсионер</td>\n",
       "      <td>0</td>\n",
       "      <td>158616.077870</td>\n",
       "      <td>сыграть свадьбу</td>\n",
       "    </tr>\n",
       "  </tbody>\n",
       "</table>\n",
       "</div>"
      ],
      "text/plain": [
       "   children  days_employed  dob_years education  education_id  \\\n",
       "0         1   -8437.673028         42    высшее             0   \n",
       "1         1   -4024.803754         36   среднее             1   \n",
       "2         0   -5623.422610         33   Среднее             1   \n",
       "3         3   -4124.747207         32   среднее             1   \n",
       "4         0  340266.072047         53   среднее             1   \n",
       "\n",
       "      family_status  family_status_id gender income_type  debt   total_income  \\\n",
       "0   женат / замужем                 0      F   сотрудник     0  253875.639453   \n",
       "1   женат / замужем                 0      F   сотрудник     0  112080.014102   \n",
       "2   женат / замужем                 0      M   сотрудник     0  145885.952297   \n",
       "3   женат / замужем                 0      M   сотрудник     0  267628.550329   \n",
       "4  гражданский брак                 1      F   пенсионер     0  158616.077870   \n",
       "\n",
       "                      purpose  \n",
       "0               покупка жилья  \n",
       "1     приобретение автомобиля  \n",
       "2               покупка жилья  \n",
       "3  дополнительное образование  \n",
       "4             сыграть свадьбу  "
      ]
     },
     "execution_count": 1,
     "metadata": {},
     "output_type": "execute_result"
    }
   ],
   "source": [
    "import pandas as pd #импортируем библиотеку pandas\n",
    "\n",
    "data = pd.read_csv('/datasets/data.csv') #считываем csv-файл\n",
    "\n",
    "data.info() #смотрим сводку основной информации\n",
    "data.head() #смотрим как отображаются данные"
   ]
  },
  {
   "cell_type": "markdown",
   "id": "161877f8",
   "metadata": {},
   "source": [
    "Первичный обзор данных показывает, что в двух столбцах - days_employed и total_income - есть пропуски, кроме того в столбце days_employed тажже наблюдаются аномальные (отрицательные) значения."
   ]
  },
  {
   "cell_type": "markdown",
   "id": "ef04e051",
   "metadata": {},
   "source": [
    "### Шаг 2.1 Заполнение пропусков."
   ]
  },
  {
   "cell_type": "markdown",
   "id": "a4a116aa",
   "metadata": {},
   "source": [
    "Далее определяется доля пропущенных значений в каждом из столбцов."
   ]
  },
  {
   "cell_type": "code",
   "execution_count": 2,
   "id": "8e893b04",
   "metadata": {},
   "outputs": [
    {
     "name": "stdout",
     "output_type": "stream",
     "text": [
      "0.10099883855981417\n",
      "0.10099883855981417\n"
     ]
    }
   ],
   "source": [
    "print(data['days_employed'].isna().sum()/len(data)) #найдем долю пропущенных значений в столбце days_employed\n",
    "print(data['total_income'].isna().sum()/len(data)) #найдем долю пропущенных значений в столбце total_income"
   ]
  },
  {
   "cell_type": "markdown",
   "id": "7092a20f",
   "metadata": {},
   "source": [
    "Доли совпадают до последних знаков. Это наводит на предположение о том, что пропуски в обоих столбцах приходятся на одни и те же строки. Требуется дополнительная проверка."
   ]
  },
  {
   "cell_type": "code",
   "execution_count": 3,
   "id": "bbfe77c6",
   "metadata": {},
   "outputs": [
    {
     "data": {
      "text/html": [
       "<div>\n",
       "<style scoped>\n",
       "    .dataframe tbody tr th:only-of-type {\n",
       "        vertical-align: middle;\n",
       "    }\n",
       "\n",
       "    .dataframe tbody tr th {\n",
       "        vertical-align: top;\n",
       "    }\n",
       "\n",
       "    .dataframe thead th {\n",
       "        text-align: right;\n",
       "    }\n",
       "</style>\n",
       "<table border=\"1\" class=\"dataframe\">\n",
       "  <thead>\n",
       "    <tr style=\"text-align: right;\">\n",
       "      <th></th>\n",
       "      <th>children</th>\n",
       "      <th>days_employed</th>\n",
       "      <th>dob_years</th>\n",
       "      <th>education</th>\n",
       "      <th>education_id</th>\n",
       "      <th>family_status</th>\n",
       "      <th>family_status_id</th>\n",
       "      <th>gender</th>\n",
       "      <th>income_type</th>\n",
       "      <th>debt</th>\n",
       "      <th>total_income</th>\n",
       "      <th>purpose</th>\n",
       "    </tr>\n",
       "  </thead>\n",
       "  <tbody>\n",
       "    <tr>\n",
       "      <th>12</th>\n",
       "      <td>0</td>\n",
       "      <td>NaN</td>\n",
       "      <td>65</td>\n",
       "      <td>среднее</td>\n",
       "      <td>1</td>\n",
       "      <td>гражданский брак</td>\n",
       "      <td>1</td>\n",
       "      <td>M</td>\n",
       "      <td>пенсионер</td>\n",
       "      <td>0</td>\n",
       "      <td>NaN</td>\n",
       "      <td>сыграть свадьбу</td>\n",
       "    </tr>\n",
       "    <tr>\n",
       "      <th>26</th>\n",
       "      <td>0</td>\n",
       "      <td>NaN</td>\n",
       "      <td>41</td>\n",
       "      <td>среднее</td>\n",
       "      <td>1</td>\n",
       "      <td>женат / замужем</td>\n",
       "      <td>0</td>\n",
       "      <td>M</td>\n",
       "      <td>госслужащий</td>\n",
       "      <td>0</td>\n",
       "      <td>NaN</td>\n",
       "      <td>образование</td>\n",
       "    </tr>\n",
       "    <tr>\n",
       "      <th>29</th>\n",
       "      <td>0</td>\n",
       "      <td>NaN</td>\n",
       "      <td>63</td>\n",
       "      <td>среднее</td>\n",
       "      <td>1</td>\n",
       "      <td>Не женат / не замужем</td>\n",
       "      <td>4</td>\n",
       "      <td>F</td>\n",
       "      <td>пенсионер</td>\n",
       "      <td>0</td>\n",
       "      <td>NaN</td>\n",
       "      <td>строительство жилой недвижимости</td>\n",
       "    </tr>\n",
       "    <tr>\n",
       "      <th>41</th>\n",
       "      <td>0</td>\n",
       "      <td>NaN</td>\n",
       "      <td>50</td>\n",
       "      <td>среднее</td>\n",
       "      <td>1</td>\n",
       "      <td>женат / замужем</td>\n",
       "      <td>0</td>\n",
       "      <td>F</td>\n",
       "      <td>госслужащий</td>\n",
       "      <td>0</td>\n",
       "      <td>NaN</td>\n",
       "      <td>сделка с подержанным автомобилем</td>\n",
       "    </tr>\n",
       "    <tr>\n",
       "      <th>55</th>\n",
       "      <td>0</td>\n",
       "      <td>NaN</td>\n",
       "      <td>54</td>\n",
       "      <td>среднее</td>\n",
       "      <td>1</td>\n",
       "      <td>гражданский брак</td>\n",
       "      <td>1</td>\n",
       "      <td>F</td>\n",
       "      <td>пенсионер</td>\n",
       "      <td>1</td>\n",
       "      <td>NaN</td>\n",
       "      <td>сыграть свадьбу</td>\n",
       "    </tr>\n",
       "    <tr>\n",
       "      <th>...</th>\n",
       "      <td>...</td>\n",
       "      <td>...</td>\n",
       "      <td>...</td>\n",
       "      <td>...</td>\n",
       "      <td>...</td>\n",
       "      <td>...</td>\n",
       "      <td>...</td>\n",
       "      <td>...</td>\n",
       "      <td>...</td>\n",
       "      <td>...</td>\n",
       "      <td>...</td>\n",
       "      <td>...</td>\n",
       "    </tr>\n",
       "    <tr>\n",
       "      <th>21489</th>\n",
       "      <td>2</td>\n",
       "      <td>NaN</td>\n",
       "      <td>47</td>\n",
       "      <td>Среднее</td>\n",
       "      <td>1</td>\n",
       "      <td>женат / замужем</td>\n",
       "      <td>0</td>\n",
       "      <td>M</td>\n",
       "      <td>компаньон</td>\n",
       "      <td>0</td>\n",
       "      <td>NaN</td>\n",
       "      <td>сделка с автомобилем</td>\n",
       "    </tr>\n",
       "    <tr>\n",
       "      <th>21495</th>\n",
       "      <td>1</td>\n",
       "      <td>NaN</td>\n",
       "      <td>50</td>\n",
       "      <td>среднее</td>\n",
       "      <td>1</td>\n",
       "      <td>гражданский брак</td>\n",
       "      <td>1</td>\n",
       "      <td>F</td>\n",
       "      <td>сотрудник</td>\n",
       "      <td>0</td>\n",
       "      <td>NaN</td>\n",
       "      <td>свадьба</td>\n",
       "    </tr>\n",
       "    <tr>\n",
       "      <th>21497</th>\n",
       "      <td>0</td>\n",
       "      <td>NaN</td>\n",
       "      <td>48</td>\n",
       "      <td>ВЫСШЕЕ</td>\n",
       "      <td>0</td>\n",
       "      <td>женат / замужем</td>\n",
       "      <td>0</td>\n",
       "      <td>F</td>\n",
       "      <td>компаньон</td>\n",
       "      <td>0</td>\n",
       "      <td>NaN</td>\n",
       "      <td>строительство недвижимости</td>\n",
       "    </tr>\n",
       "    <tr>\n",
       "      <th>21502</th>\n",
       "      <td>1</td>\n",
       "      <td>NaN</td>\n",
       "      <td>42</td>\n",
       "      <td>среднее</td>\n",
       "      <td>1</td>\n",
       "      <td>женат / замужем</td>\n",
       "      <td>0</td>\n",
       "      <td>F</td>\n",
       "      <td>сотрудник</td>\n",
       "      <td>0</td>\n",
       "      <td>NaN</td>\n",
       "      <td>строительство жилой недвижимости</td>\n",
       "    </tr>\n",
       "    <tr>\n",
       "      <th>21510</th>\n",
       "      <td>2</td>\n",
       "      <td>NaN</td>\n",
       "      <td>28</td>\n",
       "      <td>среднее</td>\n",
       "      <td>1</td>\n",
       "      <td>женат / замужем</td>\n",
       "      <td>0</td>\n",
       "      <td>F</td>\n",
       "      <td>сотрудник</td>\n",
       "      <td>0</td>\n",
       "      <td>NaN</td>\n",
       "      <td>приобретение автомобиля</td>\n",
       "    </tr>\n",
       "  </tbody>\n",
       "</table>\n",
       "<p>2174 rows × 12 columns</p>\n",
       "</div>"
      ],
      "text/plain": [
       "       children  days_employed  dob_years education  education_id  \\\n",
       "12            0            NaN         65   среднее             1   \n",
       "26            0            NaN         41   среднее             1   \n",
       "29            0            NaN         63   среднее             1   \n",
       "41            0            NaN         50   среднее             1   \n",
       "55            0            NaN         54   среднее             1   \n",
       "...         ...            ...        ...       ...           ...   \n",
       "21489         2            NaN         47   Среднее             1   \n",
       "21495         1            NaN         50   среднее             1   \n",
       "21497         0            NaN         48    ВЫСШЕЕ             0   \n",
       "21502         1            NaN         42   среднее             1   \n",
       "21510         2            NaN         28   среднее             1   \n",
       "\n",
       "               family_status  family_status_id gender  income_type  debt  \\\n",
       "12          гражданский брак                 1      M    пенсионер     0   \n",
       "26           женат / замужем                 0      M  госслужащий     0   \n",
       "29     Не женат / не замужем                 4      F    пенсионер     0   \n",
       "41           женат / замужем                 0      F  госслужащий     0   \n",
       "55          гражданский брак                 1      F    пенсионер     1   \n",
       "...                      ...               ...    ...          ...   ...   \n",
       "21489        женат / замужем                 0      M    компаньон     0   \n",
       "21495       гражданский брак                 1      F    сотрудник     0   \n",
       "21497        женат / замужем                 0      F    компаньон     0   \n",
       "21502        женат / замужем                 0      F    сотрудник     0   \n",
       "21510        женат / замужем                 0      F    сотрудник     0   \n",
       "\n",
       "       total_income                           purpose  \n",
       "12              NaN                   сыграть свадьбу  \n",
       "26              NaN                       образование  \n",
       "29              NaN  строительство жилой недвижимости  \n",
       "41              NaN  сделка с подержанным автомобилем  \n",
       "55              NaN                   сыграть свадьбу  \n",
       "...             ...                               ...  \n",
       "21489           NaN              сделка с автомобилем  \n",
       "21495           NaN                           свадьба  \n",
       "21497           NaN        строительство недвижимости  \n",
       "21502           NaN  строительство жилой недвижимости  \n",
       "21510           NaN           приобретение автомобиля  \n",
       "\n",
       "[2174 rows x 12 columns]"
      ]
     },
     "execution_count": 3,
     "metadata": {},
     "output_type": "execute_result"
    }
   ],
   "source": [
    "data[(data['days_employed'].isna()) | (data['total_income'].isna())] #выводим строки с пропусками"
   ]
  },
  {
   "cell_type": "markdown",
   "id": "bc10d11b",
   "metadata": {},
   "source": [
    "Действительно, похоже, что данные отсутствуют в одних и тех же строках, что может говорить об ошибках записи в выгрузке или о том, что в какой-то части базы данных не велась подобная статистика. "
   ]
  },
  {
   "cell_type": "markdown",
   "id": "c4be78e2",
   "metadata": {},
   "source": [
    "Осуществляется замена пропусков в столбце total_income на медианные значения."
   ]
  },
  {
   "cell_type": "code",
   "execution_count": 4,
   "id": "00a5ccdb",
   "metadata": {},
   "outputs": [
    {
     "data": {
      "text/plain": [
       "income_type\n",
       "безработный        131339.751676\n",
       "в декрете           53829.130729\n",
       "госслужащий        150447.935283\n",
       "компаньон          172357.950966\n",
       "пенсионер          118514.486412\n",
       "предприниматель    499163.144947\n",
       "сотрудник          142594.396847\n",
       "студент             98201.625314\n",
       "Name: total_income, dtype: float64"
      ]
     },
     "metadata": {},
     "output_type": "display_data"
    }
   ],
   "source": [
    "income_medians = data.groupby('income_type')['total_income'].median() #рассчитываем медианные значения total_income в группировке по income_type\n",
    "\n",
    "display(income_medians) #посмотрим на медианные значения\n",
    "\n",
    "income_types = data['income_type'].unique() #создаем список с уникальными наименованиями из столбца income_type\n",
    "\n",
    "for income_type in income_types: #перебираем категории income_type\n",
    "    data.loc[((data['income_type'] == income_type) & (data['total_income'].isna())), 'total_income'] = income_medians[income_type] #заменяем пропуски в столбце total_income для выбранной категории income_type на медианные значения"
   ]
  },
  {
   "cell_type": "markdown",
   "id": "5f476dc3",
   "metadata": {},
   "source": [
    "Медианные значения лучше подойдут для замены пропусков, так как в большей степени отражают \"типичные\" показатели в выборке при большом разбросе значений количественных переменных."
   ]
  },
  {
   "cell_type": "markdown",
   "id": "44f78c75",
   "metadata": {},
   "source": [
    "### Шаг 2.2 Проверка данных на аномалии и исправления."
   ]
  },
  {
   "cell_type": "markdown",
   "id": "9d27d916",
   "metadata": {},
   "source": [
    "Прежде чем заполнять пропуска в столбце days_employed следует внимательнее ознакомиться с аномальными значениями и устранить их."
   ]
  },
  {
   "cell_type": "code",
   "execution_count": 5,
   "id": "b81644c3",
   "metadata": {},
   "outputs": [
    {
     "data": {
      "text/html": [
       "<div>\n",
       "<style scoped>\n",
       "    .dataframe tbody tr th:only-of-type {\n",
       "        vertical-align: middle;\n",
       "    }\n",
       "\n",
       "    .dataframe tbody tr th {\n",
       "        vertical-align: top;\n",
       "    }\n",
       "\n",
       "    .dataframe thead th {\n",
       "        text-align: right;\n",
       "    }\n",
       "</style>\n",
       "<table border=\"1\" class=\"dataframe\">\n",
       "  <thead>\n",
       "    <tr style=\"text-align: right;\">\n",
       "      <th></th>\n",
       "      <th>children</th>\n",
       "      <th>days_employed</th>\n",
       "      <th>dob_years</th>\n",
       "      <th>education</th>\n",
       "      <th>education_id</th>\n",
       "      <th>family_status</th>\n",
       "      <th>family_status_id</th>\n",
       "      <th>gender</th>\n",
       "      <th>income_type</th>\n",
       "      <th>debt</th>\n",
       "      <th>total_income</th>\n",
       "      <th>purpose</th>\n",
       "    </tr>\n",
       "  </thead>\n",
       "  <tbody>\n",
       "    <tr>\n",
       "      <th>0</th>\n",
       "      <td>1</td>\n",
       "      <td>-8437.673028</td>\n",
       "      <td>42</td>\n",
       "      <td>высшее</td>\n",
       "      <td>0</td>\n",
       "      <td>женат / замужем</td>\n",
       "      <td>0</td>\n",
       "      <td>F</td>\n",
       "      <td>сотрудник</td>\n",
       "      <td>0</td>\n",
       "      <td>253875.639453</td>\n",
       "      <td>покупка жилья</td>\n",
       "    </tr>\n",
       "    <tr>\n",
       "      <th>1</th>\n",
       "      <td>1</td>\n",
       "      <td>-4024.803754</td>\n",
       "      <td>36</td>\n",
       "      <td>среднее</td>\n",
       "      <td>1</td>\n",
       "      <td>женат / замужем</td>\n",
       "      <td>0</td>\n",
       "      <td>F</td>\n",
       "      <td>сотрудник</td>\n",
       "      <td>0</td>\n",
       "      <td>112080.014102</td>\n",
       "      <td>приобретение автомобиля</td>\n",
       "    </tr>\n",
       "    <tr>\n",
       "      <th>2</th>\n",
       "      <td>0</td>\n",
       "      <td>-5623.422610</td>\n",
       "      <td>33</td>\n",
       "      <td>Среднее</td>\n",
       "      <td>1</td>\n",
       "      <td>женат / замужем</td>\n",
       "      <td>0</td>\n",
       "      <td>M</td>\n",
       "      <td>сотрудник</td>\n",
       "      <td>0</td>\n",
       "      <td>145885.952297</td>\n",
       "      <td>покупка жилья</td>\n",
       "    </tr>\n",
       "    <tr>\n",
       "      <th>3</th>\n",
       "      <td>3</td>\n",
       "      <td>-4124.747207</td>\n",
       "      <td>32</td>\n",
       "      <td>среднее</td>\n",
       "      <td>1</td>\n",
       "      <td>женат / замужем</td>\n",
       "      <td>0</td>\n",
       "      <td>M</td>\n",
       "      <td>сотрудник</td>\n",
       "      <td>0</td>\n",
       "      <td>267628.550329</td>\n",
       "      <td>дополнительное образование</td>\n",
       "    </tr>\n",
       "    <tr>\n",
       "      <th>5</th>\n",
       "      <td>0</td>\n",
       "      <td>-926.185831</td>\n",
       "      <td>27</td>\n",
       "      <td>высшее</td>\n",
       "      <td>0</td>\n",
       "      <td>гражданский брак</td>\n",
       "      <td>1</td>\n",
       "      <td>M</td>\n",
       "      <td>компаньон</td>\n",
       "      <td>0</td>\n",
       "      <td>255763.565419</td>\n",
       "      <td>покупка жилья</td>\n",
       "    </tr>\n",
       "    <tr>\n",
       "      <th>...</th>\n",
       "      <td>...</td>\n",
       "      <td>...</td>\n",
       "      <td>...</td>\n",
       "      <td>...</td>\n",
       "      <td>...</td>\n",
       "      <td>...</td>\n",
       "      <td>...</td>\n",
       "      <td>...</td>\n",
       "      <td>...</td>\n",
       "      <td>...</td>\n",
       "      <td>...</td>\n",
       "      <td>...</td>\n",
       "    </tr>\n",
       "    <tr>\n",
       "      <th>21519</th>\n",
       "      <td>1</td>\n",
       "      <td>-2351.431934</td>\n",
       "      <td>37</td>\n",
       "      <td>ученая степень</td>\n",
       "      <td>4</td>\n",
       "      <td>в разводе</td>\n",
       "      <td>3</td>\n",
       "      <td>M</td>\n",
       "      <td>сотрудник</td>\n",
       "      <td>0</td>\n",
       "      <td>115949.039788</td>\n",
       "      <td>покупка коммерческой недвижимости</td>\n",
       "    </tr>\n",
       "    <tr>\n",
       "      <th>21520</th>\n",
       "      <td>1</td>\n",
       "      <td>-4529.316663</td>\n",
       "      <td>43</td>\n",
       "      <td>среднее</td>\n",
       "      <td>1</td>\n",
       "      <td>гражданский брак</td>\n",
       "      <td>1</td>\n",
       "      <td>F</td>\n",
       "      <td>компаньон</td>\n",
       "      <td>0</td>\n",
       "      <td>224791.862382</td>\n",
       "      <td>операции с жильем</td>\n",
       "    </tr>\n",
       "    <tr>\n",
       "      <th>21522</th>\n",
       "      <td>1</td>\n",
       "      <td>-2113.346888</td>\n",
       "      <td>38</td>\n",
       "      <td>среднее</td>\n",
       "      <td>1</td>\n",
       "      <td>гражданский брак</td>\n",
       "      <td>1</td>\n",
       "      <td>M</td>\n",
       "      <td>сотрудник</td>\n",
       "      <td>1</td>\n",
       "      <td>89672.561153</td>\n",
       "      <td>недвижимость</td>\n",
       "    </tr>\n",
       "    <tr>\n",
       "      <th>21523</th>\n",
       "      <td>3</td>\n",
       "      <td>-3112.481705</td>\n",
       "      <td>38</td>\n",
       "      <td>среднее</td>\n",
       "      <td>1</td>\n",
       "      <td>женат / замужем</td>\n",
       "      <td>0</td>\n",
       "      <td>M</td>\n",
       "      <td>сотрудник</td>\n",
       "      <td>1</td>\n",
       "      <td>244093.050500</td>\n",
       "      <td>на покупку своего автомобиля</td>\n",
       "    </tr>\n",
       "    <tr>\n",
       "      <th>21524</th>\n",
       "      <td>2</td>\n",
       "      <td>-1984.507589</td>\n",
       "      <td>40</td>\n",
       "      <td>среднее</td>\n",
       "      <td>1</td>\n",
       "      <td>женат / замужем</td>\n",
       "      <td>0</td>\n",
       "      <td>F</td>\n",
       "      <td>сотрудник</td>\n",
       "      <td>0</td>\n",
       "      <td>82047.418899</td>\n",
       "      <td>на покупку автомобиля</td>\n",
       "    </tr>\n",
       "  </tbody>\n",
       "</table>\n",
       "<p>15906 rows × 12 columns</p>\n",
       "</div>"
      ],
      "text/plain": [
       "       children  days_employed  dob_years       education  education_id  \\\n",
       "0             1   -8437.673028         42          высшее             0   \n",
       "1             1   -4024.803754         36         среднее             1   \n",
       "2             0   -5623.422610         33         Среднее             1   \n",
       "3             3   -4124.747207         32         среднее             1   \n",
       "5             0    -926.185831         27          высшее             0   \n",
       "...         ...            ...        ...             ...           ...   \n",
       "21519         1   -2351.431934         37  ученая степень             4   \n",
       "21520         1   -4529.316663         43         среднее             1   \n",
       "21522         1   -2113.346888         38         среднее             1   \n",
       "21523         3   -3112.481705         38         среднее             1   \n",
       "21524         2   -1984.507589         40         среднее             1   \n",
       "\n",
       "          family_status  family_status_id gender income_type  debt  \\\n",
       "0       женат / замужем                 0      F   сотрудник     0   \n",
       "1       женат / замужем                 0      F   сотрудник     0   \n",
       "2       женат / замужем                 0      M   сотрудник     0   \n",
       "3       женат / замужем                 0      M   сотрудник     0   \n",
       "5      гражданский брак                 1      M   компаньон     0   \n",
       "...                 ...               ...    ...         ...   ...   \n",
       "21519         в разводе                 3      M   сотрудник     0   \n",
       "21520  гражданский брак                 1      F   компаньон     0   \n",
       "21522  гражданский брак                 1      M   сотрудник     1   \n",
       "21523   женат / замужем                 0      M   сотрудник     1   \n",
       "21524   женат / замужем                 0      F   сотрудник     0   \n",
       "\n",
       "        total_income                            purpose  \n",
       "0      253875.639453                      покупка жилья  \n",
       "1      112080.014102            приобретение автомобиля  \n",
       "2      145885.952297                      покупка жилья  \n",
       "3      267628.550329         дополнительное образование  \n",
       "5      255763.565419                      покупка жилья  \n",
       "...              ...                                ...  \n",
       "21519  115949.039788  покупка коммерческой недвижимости  \n",
       "21520  224791.862382                  операции с жильем  \n",
       "21522   89672.561153                       недвижимость  \n",
       "21523  244093.050500       на покупку своего автомобиля  \n",
       "21524   82047.418899              на покупку автомобиля  \n",
       "\n",
       "[15906 rows x 12 columns]"
      ]
     },
     "execution_count": 5,
     "metadata": {},
     "output_type": "execute_result"
    }
   ],
   "source": [
    "data[data['days_employed'] < 0] #выводим строки с отрицательными значениями"
   ]
  },
  {
   "cell_type": "markdown",
   "id": "dddc0981",
   "metadata": {},
   "source": [
    "Аномалии присутсвуют более чем в 15000 строк, что явно говорит о системном характере ошибки (вероятно, произошла смена знака где-то в процессе обработки данных). "
   ]
  },
  {
   "cell_type": "markdown",
   "id": "59861f11",
   "metadata": {},
   "source": [
    "Осуществляется смена знака для отрицательных значений в столбце days_employed."
   ]
  },
  {
   "cell_type": "code",
   "execution_count": 6,
   "id": "0388737a",
   "metadata": {},
   "outputs": [],
   "source": [
    "data['days_employed'] = data['days_employed'].abs() #меняем знак отрицательных значений в столбце days_employed "
   ]
  },
  {
   "cell_type": "markdown",
   "id": "9b0714f1",
   "metadata": {},
   "source": [
    "Осуществляется замена пропусков в столбце days_employed на медианные значения."
   ]
  },
  {
   "cell_type": "code",
   "execution_count": 7,
   "id": "e2dba31f",
   "metadata": {},
   "outputs": [],
   "source": [
    "days_employed_median = data['days_employed'].median() #рассчитываем медианное значение days_employed\n",
    "\n",
    "data['days_employed'] = data['days_employed'].fillna(days_employed_median) #заменяем пропуски в столбце days_employed на медианное значение"
   ]
  },
  {
   "cell_type": "markdown",
   "id": "bd891025",
   "metadata": {},
   "source": [
    "В ходе дальнейшего рассмотрения данных аналогичная проблема с отрицательными значениями была выявлена для столбца children."
   ]
  },
  {
   "cell_type": "markdown",
   "id": "b318a837",
   "metadata": {},
   "source": [
    "Осуществляется смена знака для отрицательных значений в столбце children."
   ]
  },
  {
   "cell_type": "code",
   "execution_count": 8,
   "id": "3271cbf1",
   "metadata": {},
   "outputs": [],
   "source": [
    "data['children'] = data['children'].abs() #меняем знак отрицательных значений в столбце children "
   ]
  },
  {
   "cell_type": "markdown",
   "id": "75f9f48b",
   "metadata": {},
   "source": [
    "Также столбцы days_employed и total_income оцениваются с точки зрения наличия иных числовых аномалий."
   ]
  },
  {
   "cell_type": "markdown",
   "id": "e00704bf",
   "metadata": {},
   "source": [
    "##### Столбец days_employed:"
   ]
  },
  {
   "cell_type": "code",
   "execution_count": 9,
   "id": "8c60ff06",
   "metadata": {},
   "outputs": [
    {
     "data": {
      "text/plain": [
       "count     21525.000000\n",
       "mean      60378.032733\n",
       "std      133257.558514\n",
       "min          24.141633\n",
       "25%        1025.608174\n",
       "50%        2194.220567\n",
       "75%        4779.587738\n",
       "max      401755.400475\n",
       "Name: days_employed, dtype: float64"
      ]
     },
     "execution_count": 9,
     "metadata": {},
     "output_type": "execute_result"
    }
   ],
   "source": [
    "data['days_employed'].describe() #смотрим описание значений в столбце days_employed"
   ]
  },
  {
   "cell_type": "markdown",
   "id": "1c220c1d",
   "metadata": {},
   "source": [
    "Максимальное значение в столбце days_employed составляет 401755 дней, что примерно соответствует 1100 лет. Очевидно, что такое значение является невозможным. В связи с этим предлагается также заменить все неправдоподобно большие значения days_employed на медианные (за пороговую величину будет принято 100 лет)."
   ]
  },
  {
   "cell_type": "code",
   "execution_count": 10,
   "id": "ef26bfe1",
   "metadata": {},
   "outputs": [
    {
     "data": {
      "text/plain": [
       "18388.949900568383"
      ]
     },
     "execution_count": 10,
     "metadata": {},
     "output_type": "execute_result"
    }
   ],
   "source": [
    "data.loc[data['days_employed'] > 36500, 'days_employed'] = days_employed_median #заменяем все значения больше 36500 дней в столбце days_employed на медианное значение\n",
    "\n",
    "data['days_employed'].max() #посмотрим новый максимум days_employed"
   ]
  },
  {
   "cell_type": "markdown",
   "id": "8dd5cda4",
   "metadata": {},
   "source": [
    "Новый максимум days_employed выглядит нормальным."
   ]
  },
  {
   "cell_type": "markdown",
   "id": "46147e2e",
   "metadata": {},
   "source": [
    "##### Столбец total_income:"
   ]
  },
  {
   "cell_type": "code",
   "execution_count": 11,
   "id": "96ae1af7",
   "metadata": {},
   "outputs": [
    {
     "data": {
      "text/plain": [
       "count    2.152500e+04\n",
       "mean     1.652253e+05\n",
       "std      9.804367e+04\n",
       "min      2.066726e+04\n",
       "25%      1.077982e+05\n",
       "50%      1.425944e+05\n",
       "75%      1.955499e+05\n",
       "max      2.265604e+06\n",
       "Name: total_income, dtype: float64"
      ]
     },
     "execution_count": 11,
     "metadata": {},
     "output_type": "execute_result"
    }
   ],
   "source": [
    "data['total_income'].describe() #смотрим описание значений в столбце total_income"
   ]
  },
  {
   "cell_type": "markdown",
   "id": "bf017e0c",
   "metadata": {},
   "source": [
    "Значения в столбце total_income выглядят нормальными."
   ]
  },
  {
   "cell_type": "markdown",
   "id": "25cdfb01",
   "metadata": {},
   "source": [
    "Проводится проверка внесенных изменений."
   ]
  },
  {
   "cell_type": "code",
   "execution_count": 12,
   "id": "10a7fd4d",
   "metadata": {},
   "outputs": [
    {
     "name": "stdout",
     "output_type": "stream",
     "text": [
      "<class 'pandas.core.frame.DataFrame'>\n",
      "RangeIndex: 21525 entries, 0 to 21524\n",
      "Data columns (total 12 columns):\n",
      " #   Column            Non-Null Count  Dtype  \n",
      "---  ------            --------------  -----  \n",
      " 0   children          21525 non-null  int64  \n",
      " 1   days_employed     21525 non-null  float64\n",
      " 2   dob_years         21525 non-null  int64  \n",
      " 3   education         21525 non-null  object \n",
      " 4   education_id      21525 non-null  int64  \n",
      " 5   family_status     21525 non-null  object \n",
      " 6   family_status_id  21525 non-null  int64  \n",
      " 7   gender            21525 non-null  object \n",
      " 8   income_type       21525 non-null  object \n",
      " 9   debt              21525 non-null  int64  \n",
      " 10  total_income      21525 non-null  float64\n",
      " 11  purpose           21525 non-null  object \n",
      "dtypes: float64(2), int64(5), object(5)\n",
      "memory usage: 2.0+ MB\n"
     ]
    },
    {
     "data": {
      "text/html": [
       "<div>\n",
       "<style scoped>\n",
       "    .dataframe tbody tr th:only-of-type {\n",
       "        vertical-align: middle;\n",
       "    }\n",
       "\n",
       "    .dataframe tbody tr th {\n",
       "        vertical-align: top;\n",
       "    }\n",
       "\n",
       "    .dataframe thead th {\n",
       "        text-align: right;\n",
       "    }\n",
       "</style>\n",
       "<table border=\"1\" class=\"dataframe\">\n",
       "  <thead>\n",
       "    <tr style=\"text-align: right;\">\n",
       "      <th></th>\n",
       "      <th>children</th>\n",
       "      <th>days_employed</th>\n",
       "      <th>dob_years</th>\n",
       "      <th>education</th>\n",
       "      <th>education_id</th>\n",
       "      <th>family_status</th>\n",
       "      <th>family_status_id</th>\n",
       "      <th>gender</th>\n",
       "      <th>income_type</th>\n",
       "      <th>debt</th>\n",
       "      <th>total_income</th>\n",
       "      <th>purpose</th>\n",
       "    </tr>\n",
       "  </thead>\n",
       "  <tbody>\n",
       "    <tr>\n",
       "      <th>0</th>\n",
       "      <td>1</td>\n",
       "      <td>8437.673028</td>\n",
       "      <td>42</td>\n",
       "      <td>высшее</td>\n",
       "      <td>0</td>\n",
       "      <td>женат / замужем</td>\n",
       "      <td>0</td>\n",
       "      <td>F</td>\n",
       "      <td>сотрудник</td>\n",
       "      <td>0</td>\n",
       "      <td>253875.639453</td>\n",
       "      <td>покупка жилья</td>\n",
       "    </tr>\n",
       "    <tr>\n",
       "      <th>1</th>\n",
       "      <td>1</td>\n",
       "      <td>4024.803754</td>\n",
       "      <td>36</td>\n",
       "      <td>среднее</td>\n",
       "      <td>1</td>\n",
       "      <td>женат / замужем</td>\n",
       "      <td>0</td>\n",
       "      <td>F</td>\n",
       "      <td>сотрудник</td>\n",
       "      <td>0</td>\n",
       "      <td>112080.014102</td>\n",
       "      <td>приобретение автомобиля</td>\n",
       "    </tr>\n",
       "    <tr>\n",
       "      <th>2</th>\n",
       "      <td>0</td>\n",
       "      <td>5623.422610</td>\n",
       "      <td>33</td>\n",
       "      <td>Среднее</td>\n",
       "      <td>1</td>\n",
       "      <td>женат / замужем</td>\n",
       "      <td>0</td>\n",
       "      <td>M</td>\n",
       "      <td>сотрудник</td>\n",
       "      <td>0</td>\n",
       "      <td>145885.952297</td>\n",
       "      <td>покупка жилья</td>\n",
       "    </tr>\n",
       "    <tr>\n",
       "      <th>3</th>\n",
       "      <td>3</td>\n",
       "      <td>4124.747207</td>\n",
       "      <td>32</td>\n",
       "      <td>среднее</td>\n",
       "      <td>1</td>\n",
       "      <td>женат / замужем</td>\n",
       "      <td>0</td>\n",
       "      <td>M</td>\n",
       "      <td>сотрудник</td>\n",
       "      <td>0</td>\n",
       "      <td>267628.550329</td>\n",
       "      <td>дополнительное образование</td>\n",
       "    </tr>\n",
       "    <tr>\n",
       "      <th>4</th>\n",
       "      <td>0</td>\n",
       "      <td>2194.220567</td>\n",
       "      <td>53</td>\n",
       "      <td>среднее</td>\n",
       "      <td>1</td>\n",
       "      <td>гражданский брак</td>\n",
       "      <td>1</td>\n",
       "      <td>F</td>\n",
       "      <td>пенсионер</td>\n",
       "      <td>0</td>\n",
       "      <td>158616.077870</td>\n",
       "      <td>сыграть свадьбу</td>\n",
       "    </tr>\n",
       "  </tbody>\n",
       "</table>\n",
       "</div>"
      ],
      "text/plain": [
       "   children  days_employed  dob_years education  education_id  \\\n",
       "0         1    8437.673028         42    высшее             0   \n",
       "1         1    4024.803754         36   среднее             1   \n",
       "2         0    5623.422610         33   Среднее             1   \n",
       "3         3    4124.747207         32   среднее             1   \n",
       "4         0    2194.220567         53   среднее             1   \n",
       "\n",
       "      family_status  family_status_id gender income_type  debt   total_income  \\\n",
       "0   женат / замужем                 0      F   сотрудник     0  253875.639453   \n",
       "1   женат / замужем                 0      F   сотрудник     0  112080.014102   \n",
       "2   женат / замужем                 0      M   сотрудник     0  145885.952297   \n",
       "3   женат / замужем                 0      M   сотрудник     0  267628.550329   \n",
       "4  гражданский брак                 1      F   пенсионер     0  158616.077870   \n",
       "\n",
       "                      purpose  \n",
       "0               покупка жилья  \n",
       "1     приобретение автомобиля  \n",
       "2               покупка жилья  \n",
       "3  дополнительное образование  \n",
       "4             сыграть свадьбу  "
      ]
     },
     "execution_count": 12,
     "metadata": {},
     "output_type": "execute_result"
    }
   ],
   "source": [
    "data.info() #смотрим сводку основной информации\n",
    "data.head() #смотрим как отображаются данные"
   ]
  },
  {
   "cell_type": "markdown",
   "id": "734d712a",
   "metadata": {},
   "source": [
    "Пропуски и аномальные значения больше не выявляются."
   ]
  },
  {
   "cell_type": "markdown",
   "id": "00c07719",
   "metadata": {},
   "source": [
    "### Шаг 2.3. Изменение типов данных."
   ]
  },
  {
   "cell_type": "markdown",
   "id": "496159af",
   "metadata": {},
   "source": [
    "Осуществляется изменение типа данных в столбце total_income на целочисленный."
   ]
  },
  {
   "cell_type": "code",
   "execution_count": 13,
   "id": "37c566f4",
   "metadata": {},
   "outputs": [],
   "source": [
    "data['total_income'] = data['total_income'].astype('int') #заменяем тип данных на int в столбце total_income\n",
    "data['days_employed'] = data['days_employed'].astype('int') #заменяем тип данных на int в столбце days_employed"
   ]
  },
  {
   "cell_type": "markdown",
   "id": "9df48815",
   "metadata": {},
   "source": [
    "Проведение проверки будет выполнено в ходе дальнейших шагов."
   ]
  },
  {
   "cell_type": "markdown",
   "id": "df3b1f56",
   "metadata": {},
   "source": [
    "### Шаг 2.4. Удаление дубликатов."
   ]
  },
  {
   "cell_type": "markdown",
   "id": "ea8d3a5f",
   "metadata": {},
   "source": [
    "Далее определяется наличие и количество строк-дубликатов."
   ]
  },
  {
   "cell_type": "code",
   "execution_count": 14,
   "id": "01ec8417",
   "metadata": {},
   "outputs": [
    {
     "name": "stdout",
     "output_type": "stream",
     "text": [
      "54\n"
     ]
    }
   ],
   "source": [
    "print(data.duplicated().sum()) #найдем количество строк-дубликатов"
   ]
  },
  {
   "cell_type": "markdown",
   "id": "d6ff7d2b",
   "metadata": {},
   "source": [
    "Осуществляется удаление строк-дубликатов."
   ]
  },
  {
   "cell_type": "code",
   "execution_count": 15,
   "id": "cc720dec",
   "metadata": {},
   "outputs": [],
   "source": [
    "data = data.drop_duplicates() #удаляем строки-дубликаты"
   ]
  },
  {
   "cell_type": "markdown",
   "id": "21f51070",
   "metadata": {},
   "source": [
    "Затем проводится проверка на неявные дубликаты по остальным столбцам. Для этого выводятся уникальные значения по каждому столбцу и, в случае выявления неочевидных результатов, определяется их количество - для понимания того, носят ли подобные результаты разовый или повторяющийся характер. "
   ]
  },
  {
   "cell_type": "markdown",
   "id": "a2d0c406",
   "metadata": {},
   "source": [
    "##### Столбец education:"
   ]
  },
  {
   "cell_type": "code",
   "execution_count": 16,
   "id": "db1beb37",
   "metadata": {},
   "outputs": [
    {
     "name": "stdout",
     "output_type": "stream",
     "text": [
      "['высшее' 'среднее' 'Среднее' 'СРЕДНЕЕ' 'ВЫСШЕЕ' 'неоконченное высшее'\n",
      " 'начальное' 'Высшее' 'НЕОКОНЧЕННОЕ ВЫСШЕЕ' 'Неоконченное высшее'\n",
      " 'НАЧАЛЬНОЕ' 'Начальное' 'Ученая степень' 'УЧЕНАЯ СТЕПЕНЬ'\n",
      " 'ученая степень']\n"
     ]
    }
   ],
   "source": [
    "print(data['education'].unique()) #выводим уникальные значения столбца education"
   ]
  },
  {
   "cell_type": "markdown",
   "id": "8d3f5025",
   "metadata": {},
   "source": [
    "Значения в столбце education записаны в разных регистрах, что требует исправления."
   ]
  },
  {
   "cell_type": "code",
   "execution_count": 17,
   "id": "f773d9bf",
   "metadata": {},
   "outputs": [],
   "source": [
    "data['education'] = data['education'].str.lower() #приводим все значения в столбце education к нижнему регистру"
   ]
  },
  {
   "cell_type": "markdown",
   "id": "bd7bec90",
   "metadata": {},
   "source": [
    "Смена регистра позволит избавиться от неявных дубликатов в столбце education."
   ]
  },
  {
   "cell_type": "markdown",
   "id": "5827477c",
   "metadata": {},
   "source": [
    "##### Столбец children:"
   ]
  },
  {
   "cell_type": "code",
   "execution_count": 18,
   "id": "9ae60ac0",
   "metadata": {},
   "outputs": [
    {
     "name": "stdout",
     "output_type": "stream",
     "text": [
      "[ 1  0  3  2  4 20  5]\n"
     ]
    },
    {
     "data": {
      "text/plain": [
       "0     14107\n",
       "1      4856\n",
       "2      2052\n",
       "3       330\n",
       "20       76\n",
       "4        41\n",
       "5         9\n",
       "Name: children, dtype: int64"
      ]
     },
     "execution_count": 18,
     "metadata": {},
     "output_type": "execute_result"
    }
   ],
   "source": [
    "print(data['children'].unique()) #выводим уникальные значения столбца children\n",
    "data['children'].value_counts() #выводим количество уникальных значений столбца children"
   ]
  },
  {
   "cell_type": "markdown",
   "id": "3211ed17",
   "metadata": {},
   "source": [
    "В столбце children встречается значение 20, при этом оно встречается 76 раз, что говорит не об уникальном случае, а о каком-то регулярном сбое (можно предположить, что это неверное отображение числа 2, полученное, например, из изначального вида \"2.0\")."
   ]
  },
  {
   "cell_type": "markdown",
   "id": "310c0bcc",
   "metadata": {},
   "source": [
    "Осуществляется замена значений в столбце children."
   ]
  },
  {
   "cell_type": "code",
   "execution_count": 19,
   "id": "6a1e4645",
   "metadata": {},
   "outputs": [],
   "source": [
    "data['children'] = data['children'].replace(20, 2) #заменяем значения 20 на 2 в столбце children"
   ]
  },
  {
   "cell_type": "markdown",
   "id": "d95a5f2f",
   "metadata": {},
   "source": [
    "Такая замена позволит сделать более разумные выводы по итогам исследования."
   ]
  },
  {
   "cell_type": "markdown",
   "id": "cfc9eff9",
   "metadata": {},
   "source": [
    "##### Столбец dob_years:"
   ]
  },
  {
   "cell_type": "code",
   "execution_count": 20,
   "id": "04424e19",
   "metadata": {},
   "outputs": [
    {
     "name": "stdout",
     "output_type": "stream",
     "text": [
      "[42 36 33 32 53 27 43 50 35 41 40 65 54 56 26 48 24 21 57 67 28 63 62 47\n",
      " 34 68 25 31 30 20 49 37 45 61 64 44 52 46 23 38 39 51  0 59 29 60 55 58\n",
      " 71 22 73 66 69 19 72 70 74 75]\n"
     ]
    }
   ],
   "source": [
    "print(data['dob_years'].unique()) #выводим уникальные значения столбца dob_years"
   ]
  },
  {
   "cell_type": "markdown",
   "id": "61fb4b26",
   "metadata": {},
   "source": [
    "В столбце dob_years встречается значение 0, но так как указанный столбец не критичен для итоговых вывовод исследования, на данном этапе можно относиться к подобным значениям, как к отсутствующей информации."
   ]
  },
  {
   "cell_type": "markdown",
   "id": "607ccb0d",
   "metadata": {},
   "source": [
    "##### Столбец family_status:"
   ]
  },
  {
   "cell_type": "code",
   "execution_count": 21,
   "id": "bf4493b9",
   "metadata": {},
   "outputs": [
    {
     "name": "stdout",
     "output_type": "stream",
     "text": [
      "['женат / замужем' 'гражданский брак' 'вдовец / вдова' 'в разводе'\n",
      " 'Не женат / не замужем']\n"
     ]
    }
   ],
   "source": [
    "print(data['family_status'].unique()) #выводим уникальные значения столбца family_status"
   ]
  },
  {
   "cell_type": "markdown",
   "id": "0aade592",
   "metadata": {},
   "source": [
    "Значения в столбце family_status записаны в разных регистрах, что требует исправления."
   ]
  },
  {
   "cell_type": "code",
   "execution_count": 22,
   "id": "928143a5",
   "metadata": {},
   "outputs": [],
   "source": [
    "data['family_status'] = data['family_status'].str.lower() #приводим все значения в столбце family_status к нижнему регистру"
   ]
  },
  {
   "cell_type": "markdown",
   "id": "9b83f162",
   "metadata": {},
   "source": [
    "Смена регистра позволит добиться лучшего визуального отображения данных в столбце family_status."
   ]
  },
  {
   "cell_type": "markdown",
   "id": "029d1462",
   "metadata": {},
   "source": [
    "##### Столбец gender:"
   ]
  },
  {
   "cell_type": "code",
   "execution_count": 23,
   "id": "8ad4eea4",
   "metadata": {},
   "outputs": [
    {
     "name": "stdout",
     "output_type": "stream",
     "text": [
      "['F' 'M' 'XNA']\n",
      "F      14189\n",
      "M       7281\n",
      "XNA        1\n",
      "Name: gender, dtype: int64\n"
     ]
    }
   ],
   "source": [
    "print(data['gender'].unique()) #выводим уникальные значения столбца gender\n",
    "print(data['gender'].value_counts()) #выводим количество уникальных значений столбца gender"
   ]
  },
  {
   "cell_type": "markdown",
   "id": "10a41bea",
   "metadata": {},
   "source": [
    "В столбце gender встречается значение XNA, но так как указанный столбец не критичен для итоговых вывовод исследования, а подобное значение встречается всего один раз, на данном этапе его можно игнорировать."
   ]
  },
  {
   "cell_type": "markdown",
   "id": "fba47463",
   "metadata": {},
   "source": [
    "##### Столбец income_type:"
   ]
  },
  {
   "cell_type": "code",
   "execution_count": 24,
   "id": "e357bcfb",
   "metadata": {},
   "outputs": [
    {
     "name": "stdout",
     "output_type": "stream",
     "text": [
      "['сотрудник' 'пенсионер' 'компаньон' 'госслужащий' 'безработный'\n",
      " 'предприниматель' 'студент' 'в декрете']\n"
     ]
    }
   ],
   "source": [
    "print(data['income_type'].unique()) #выводим уникальные значения столбца income_type"
   ]
  },
  {
   "cell_type": "markdown",
   "id": "85c00713",
   "metadata": {},
   "source": [
    "Значения в столбце income_type выглядят нормальными."
   ]
  },
  {
   "cell_type": "markdown",
   "id": "7544ea9d",
   "metadata": {},
   "source": [
    "##### Столбец debt:"
   ]
  },
  {
   "cell_type": "code",
   "execution_count": 25,
   "id": "cc514b32",
   "metadata": {},
   "outputs": [
    {
     "name": "stdout",
     "output_type": "stream",
     "text": [
      "[0 1]\n"
     ]
    }
   ],
   "source": [
    "print(data['debt'].unique()) #выводим уникальные значения столбца debt"
   ]
  },
  {
   "cell_type": "markdown",
   "id": "28cbec06",
   "metadata": {},
   "source": [
    "Значения в столбце debt выглядят нормальными. Это бинарные значения, показывающие отсутствие или наличие долга."
   ]
  },
  {
   "cell_type": "markdown",
   "id": "a8c07cfb",
   "metadata": {},
   "source": [
    "##### Столбец purpose:"
   ]
  },
  {
   "cell_type": "code",
   "execution_count": 26,
   "id": "4309ec69",
   "metadata": {},
   "outputs": [
    {
     "name": "stdout",
     "output_type": "stream",
     "text": [
      "['покупка жилья' 'приобретение автомобиля' 'дополнительное образование'\n",
      " 'сыграть свадьбу' 'операции с жильем' 'образование'\n",
      " 'на проведение свадьбы' 'покупка жилья для семьи' 'покупка недвижимости'\n",
      " 'покупка коммерческой недвижимости' 'покупка жилой недвижимости'\n",
      " 'строительство собственной недвижимости' 'недвижимость'\n",
      " 'строительство недвижимости' 'на покупку подержанного автомобиля'\n",
      " 'на покупку своего автомобиля' 'операции с коммерческой недвижимостью'\n",
      " 'строительство жилой недвижимости' 'жилье'\n",
      " 'операции со своей недвижимостью' 'автомобили' 'заняться образованием'\n",
      " 'сделка с подержанным автомобилем' 'получение образования' 'автомобиль'\n",
      " 'свадьба' 'получение дополнительного образования' 'покупка своего жилья'\n",
      " 'операции с недвижимостью' 'получение высшего образования'\n",
      " 'свой автомобиль' 'сделка с автомобилем' 'профильное образование'\n",
      " 'высшее образование' 'покупка жилья для сдачи' 'на покупку автомобиля'\n",
      " 'ремонт жилью' 'заняться высшим образованием']\n"
     ]
    }
   ],
   "source": [
    "print(data['purpose'].unique()) #выводим уникальные значения столбца purpose"
   ]
  },
  {
   "cell_type": "markdown",
   "id": "daf4ef30",
   "metadata": {},
   "source": [
    "Значения в столбце purpose преставляют собой разрозненный набор описаний, которые могут быть сведены к нескольким основным сущностям. Категоризация данных значений будет выполнена в ходе дальнейших шагов."
   ]
  },
  {
   "cell_type": "markdown",
   "id": "ce313e45",
   "metadata": {},
   "source": [
    "Повторно определяется наличие и количество строк-дубликатов после произведенных замен данных."
   ]
  },
  {
   "cell_type": "code",
   "execution_count": 27,
   "id": "4d9c6d12",
   "metadata": {},
   "outputs": [
    {
     "name": "stdout",
     "output_type": "stream",
     "text": [
      "17\n"
     ]
    }
   ],
   "source": [
    "print(data.duplicated().sum()) #найдем количество строк-дубликатов"
   ]
  },
  {
   "cell_type": "markdown",
   "id": "fa0679d0",
   "metadata": {},
   "source": [
    "Осуществляется удаление появившихся строк-дубликатов."
   ]
  },
  {
   "cell_type": "code",
   "execution_count": 28,
   "id": "69ef9f17",
   "metadata": {},
   "outputs": [],
   "source": [
    "data = data.drop_duplicates() #удаляем строки-дубликаты"
   ]
  },
  {
   "cell_type": "markdown",
   "id": "10869ea1",
   "metadata": {},
   "source": [
    "Проводится проверка внесенных изменений."
   ]
  },
  {
   "cell_type": "code",
   "execution_count": 29,
   "id": "ce745241",
   "metadata": {},
   "outputs": [
    {
     "name": "stdout",
     "output_type": "stream",
     "text": [
      "<class 'pandas.core.frame.DataFrame'>\n",
      "Int64Index: 21454 entries, 0 to 21524\n",
      "Data columns (total 12 columns):\n",
      " #   Column            Non-Null Count  Dtype \n",
      "---  ------            --------------  ----- \n",
      " 0   children          21454 non-null  int64 \n",
      " 1   days_employed     21454 non-null  int64 \n",
      " 2   dob_years         21454 non-null  int64 \n",
      " 3   education         21454 non-null  object\n",
      " 4   education_id      21454 non-null  int64 \n",
      " 5   family_status     21454 non-null  object\n",
      " 6   family_status_id  21454 non-null  int64 \n",
      " 7   gender            21454 non-null  object\n",
      " 8   income_type       21454 non-null  object\n",
      " 9   debt              21454 non-null  int64 \n",
      " 10  total_income      21454 non-null  int64 \n",
      " 11  purpose           21454 non-null  object\n",
      "dtypes: int64(7), object(5)\n",
      "memory usage: 2.1+ MB\n"
     ]
    }
   ],
   "source": [
    "data.info() #смотрим сводку основной информации"
   ]
  },
  {
   "cell_type": "markdown",
   "id": "58022ae8",
   "metadata": {},
   "source": [
    "Количество строк уменьшилось за счет удаленных дубликатов, а тип столбцов total_income и days_employed был корректно изменен."
   ]
  },
  {
   "cell_type": "markdown",
   "id": "7bd268d7",
   "metadata": {},
   "source": [
    "### Шаг 2.5. Формирование дополнительных датафреймов словарей, декомпозиция исходного датафрейма."
   ]
  },
  {
   "cell_type": "markdown",
   "id": "3bc8ab17",
   "metadata": {},
   "source": [
    "Формируется и выводится датафрейм-словарь education."
   ]
  },
  {
   "cell_type": "code",
   "execution_count": 30,
   "id": "71521f0c",
   "metadata": {},
   "outputs": [
    {
     "data": {
      "text/html": [
       "<div>\n",
       "<style scoped>\n",
       "    .dataframe tbody tr th:only-of-type {\n",
       "        vertical-align: middle;\n",
       "    }\n",
       "\n",
       "    .dataframe tbody tr th {\n",
       "        vertical-align: top;\n",
       "    }\n",
       "\n",
       "    .dataframe thead th {\n",
       "        text-align: right;\n",
       "    }\n",
       "</style>\n",
       "<table border=\"1\" class=\"dataframe\">\n",
       "  <thead>\n",
       "    <tr style=\"text-align: right;\">\n",
       "      <th></th>\n",
       "      <th>education_id</th>\n",
       "      <th>education</th>\n",
       "    </tr>\n",
       "  </thead>\n",
       "  <tbody>\n",
       "    <tr>\n",
       "      <th>0</th>\n",
       "      <td>0</td>\n",
       "      <td>высшее</td>\n",
       "    </tr>\n",
       "    <tr>\n",
       "      <th>1</th>\n",
       "      <td>1</td>\n",
       "      <td>среднее</td>\n",
       "    </tr>\n",
       "    <tr>\n",
       "      <th>2</th>\n",
       "      <td>2</td>\n",
       "      <td>неоконченное высшее</td>\n",
       "    </tr>\n",
       "    <tr>\n",
       "      <th>3</th>\n",
       "      <td>3</td>\n",
       "      <td>начальное</td>\n",
       "    </tr>\n",
       "    <tr>\n",
       "      <th>4</th>\n",
       "      <td>4</td>\n",
       "      <td>ученая степень</td>\n",
       "    </tr>\n",
       "  </tbody>\n",
       "</table>\n",
       "</div>"
      ],
      "text/plain": [
       "   education_id            education\n",
       "0             0               высшее\n",
       "1             1              среднее\n",
       "2             2  неоконченное высшее\n",
       "3             3            начальное\n",
       "4             4       ученая степень"
      ]
     },
     "execution_count": 30,
     "metadata": {},
     "output_type": "execute_result"
    }
   ],
   "source": [
    "data_dict_education = data[['education_id', 'education']] #выбираем столбцы education и education_id исходного датафрейма\n",
    "\n",
    "data_dict_education = data_dict_education.drop_duplicates().reset_index(drop=True) #удаляем дубликаты с переназначением индексов \n",
    "\n",
    "data_dict_education.head() #смотрим как отображаются данные"
   ]
  },
  {
   "cell_type": "markdown",
   "id": "bf77a621",
   "metadata": {},
   "source": [
    "Формируется и выводится датафрейм-словарь family_status."
   ]
  },
  {
   "cell_type": "code",
   "execution_count": 31,
   "id": "b176c471",
   "metadata": {},
   "outputs": [
    {
     "data": {
      "text/html": [
       "<div>\n",
       "<style scoped>\n",
       "    .dataframe tbody tr th:only-of-type {\n",
       "        vertical-align: middle;\n",
       "    }\n",
       "\n",
       "    .dataframe tbody tr th {\n",
       "        vertical-align: top;\n",
       "    }\n",
       "\n",
       "    .dataframe thead th {\n",
       "        text-align: right;\n",
       "    }\n",
       "</style>\n",
       "<table border=\"1\" class=\"dataframe\">\n",
       "  <thead>\n",
       "    <tr style=\"text-align: right;\">\n",
       "      <th></th>\n",
       "      <th>family_status_id</th>\n",
       "      <th>family_status</th>\n",
       "    </tr>\n",
       "  </thead>\n",
       "  <tbody>\n",
       "    <tr>\n",
       "      <th>0</th>\n",
       "      <td>0</td>\n",
       "      <td>женат / замужем</td>\n",
       "    </tr>\n",
       "    <tr>\n",
       "      <th>1</th>\n",
       "      <td>1</td>\n",
       "      <td>гражданский брак</td>\n",
       "    </tr>\n",
       "    <tr>\n",
       "      <th>2</th>\n",
       "      <td>2</td>\n",
       "      <td>вдовец / вдова</td>\n",
       "    </tr>\n",
       "    <tr>\n",
       "      <th>3</th>\n",
       "      <td>3</td>\n",
       "      <td>в разводе</td>\n",
       "    </tr>\n",
       "    <tr>\n",
       "      <th>4</th>\n",
       "      <td>4</td>\n",
       "      <td>не женат / не замужем</td>\n",
       "    </tr>\n",
       "  </tbody>\n",
       "</table>\n",
       "</div>"
      ],
      "text/plain": [
       "   family_status_id          family_status\n",
       "0                 0        женат / замужем\n",
       "1                 1       гражданский брак\n",
       "2                 2         вдовец / вдова\n",
       "3                 3              в разводе\n",
       "4                 4  не женат / не замужем"
      ]
     },
     "execution_count": 31,
     "metadata": {},
     "output_type": "execute_result"
    }
   ],
   "source": [
    "data_dict_family = data[['family_status_id', 'family_status']] #выбираем столбцы family_status и family_status_id исходного датафрейма\n",
    "\n",
    "data_dict_family = data_dict_family.drop_duplicates().reset_index(drop=True) #удаляем дубликаты с переназначением индексов\n",
    "\n",
    "data_dict_family.head() #смотрим как отображаются данные"
   ]
  },
  {
   "cell_type": "markdown",
   "id": "28ea7020",
   "metadata": {},
   "source": [
    "Столбцы education и family_status удаляются из сходного датафрейма."
   ]
  },
  {
   "cell_type": "code",
   "execution_count": 32,
   "id": "d1d79549",
   "metadata": {},
   "outputs": [
    {
     "data": {
      "text/html": [
       "<div>\n",
       "<style scoped>\n",
       "    .dataframe tbody tr th:only-of-type {\n",
       "        vertical-align: middle;\n",
       "    }\n",
       "\n",
       "    .dataframe tbody tr th {\n",
       "        vertical-align: top;\n",
       "    }\n",
       "\n",
       "    .dataframe thead th {\n",
       "        text-align: right;\n",
       "    }\n",
       "</style>\n",
       "<table border=\"1\" class=\"dataframe\">\n",
       "  <thead>\n",
       "    <tr style=\"text-align: right;\">\n",
       "      <th></th>\n",
       "      <th>children</th>\n",
       "      <th>days_employed</th>\n",
       "      <th>dob_years</th>\n",
       "      <th>education_id</th>\n",
       "      <th>family_status_id</th>\n",
       "      <th>gender</th>\n",
       "      <th>income_type</th>\n",
       "      <th>debt</th>\n",
       "      <th>total_income</th>\n",
       "      <th>purpose</th>\n",
       "    </tr>\n",
       "  </thead>\n",
       "  <tbody>\n",
       "    <tr>\n",
       "      <th>0</th>\n",
       "      <td>1</td>\n",
       "      <td>8437</td>\n",
       "      <td>42</td>\n",
       "      <td>0</td>\n",
       "      <td>0</td>\n",
       "      <td>F</td>\n",
       "      <td>сотрудник</td>\n",
       "      <td>0</td>\n",
       "      <td>253875</td>\n",
       "      <td>покупка жилья</td>\n",
       "    </tr>\n",
       "    <tr>\n",
       "      <th>1</th>\n",
       "      <td>1</td>\n",
       "      <td>4024</td>\n",
       "      <td>36</td>\n",
       "      <td>1</td>\n",
       "      <td>0</td>\n",
       "      <td>F</td>\n",
       "      <td>сотрудник</td>\n",
       "      <td>0</td>\n",
       "      <td>112080</td>\n",
       "      <td>приобретение автомобиля</td>\n",
       "    </tr>\n",
       "    <tr>\n",
       "      <th>2</th>\n",
       "      <td>0</td>\n",
       "      <td>5623</td>\n",
       "      <td>33</td>\n",
       "      <td>1</td>\n",
       "      <td>0</td>\n",
       "      <td>M</td>\n",
       "      <td>сотрудник</td>\n",
       "      <td>0</td>\n",
       "      <td>145885</td>\n",
       "      <td>покупка жилья</td>\n",
       "    </tr>\n",
       "    <tr>\n",
       "      <th>3</th>\n",
       "      <td>3</td>\n",
       "      <td>4124</td>\n",
       "      <td>32</td>\n",
       "      <td>1</td>\n",
       "      <td>0</td>\n",
       "      <td>M</td>\n",
       "      <td>сотрудник</td>\n",
       "      <td>0</td>\n",
       "      <td>267628</td>\n",
       "      <td>дополнительное образование</td>\n",
       "    </tr>\n",
       "    <tr>\n",
       "      <th>4</th>\n",
       "      <td>0</td>\n",
       "      <td>2194</td>\n",
       "      <td>53</td>\n",
       "      <td>1</td>\n",
       "      <td>1</td>\n",
       "      <td>F</td>\n",
       "      <td>пенсионер</td>\n",
       "      <td>0</td>\n",
       "      <td>158616</td>\n",
       "      <td>сыграть свадьбу</td>\n",
       "    </tr>\n",
       "  </tbody>\n",
       "</table>\n",
       "</div>"
      ],
      "text/plain": [
       "   children  days_employed  dob_years  education_id  family_status_id gender  \\\n",
       "0         1           8437         42             0                 0      F   \n",
       "1         1           4024         36             1                 0      F   \n",
       "2         0           5623         33             1                 0      M   \n",
       "3         3           4124         32             1                 0      M   \n",
       "4         0           2194         53             1                 1      F   \n",
       "\n",
       "  income_type  debt  total_income                     purpose  \n",
       "0   сотрудник     0        253875               покупка жилья  \n",
       "1   сотрудник     0        112080     приобретение автомобиля  \n",
       "2   сотрудник     0        145885               покупка жилья  \n",
       "3   сотрудник     0        267628  дополнительное образование  \n",
       "4   пенсионер     0        158616             сыграть свадьбу  "
      ]
     },
     "execution_count": 32,
     "metadata": {},
     "output_type": "execute_result"
    }
   ],
   "source": [
    "data = data.drop(['education', 'family_status'], axis=1) #убираем столбцы education и family_status\n",
    "\n",
    "data.head() #смотрим как отображаются данные"
   ]
  },
  {
   "cell_type": "markdown",
   "id": "5e32281b",
   "metadata": {},
   "source": [
    "Декомпозиция датафрейма прошла успешо."
   ]
  },
  {
   "cell_type": "markdown",
   "id": "eca41e88",
   "metadata": {},
   "source": [
    "### Шаг 2.6. Категоризация дохода."
   ]
  },
  {
   "cell_type": "markdown",
   "id": "10d4503f",
   "metadata": {},
   "source": [
    "Создается функция для определения категории дохода."
   ]
  },
  {
   "cell_type": "code",
   "execution_count": 33,
   "id": "0a21b6ed",
   "metadata": {},
   "outputs": [],
   "source": [
    "def total_income_category(total_income): #функция возвращает категорию в зависимости от величины дохода\n",
    "    if total_income <= 30000: \n",
    "        return 'E'\n",
    "    elif total_income <= 50000:\n",
    "        return 'D'\n",
    "    elif total_income <= 200000:\n",
    "        return 'C'\n",
    "    elif total_income <= 1000000:\n",
    "        return 'B'\n",
    "    else:\n",
    "        return 'A'"
   ]
  },
  {
   "cell_type": "markdown",
   "id": "5b51f12d",
   "metadata": {},
   "source": [
    "Создается новый столбец total_income_category с категорией дохода, определенной на основе функции."
   ]
  },
  {
   "cell_type": "code",
   "execution_count": 34,
   "id": "c3c4098e",
   "metadata": {},
   "outputs": [],
   "source": [
    "data['total_income_category'] = data['total_income'].apply(total_income_category) #применяем функцию total_income_category к столбцу total_income"
   ]
  },
  {
   "cell_type": "markdown",
   "id": "1d34f7ef",
   "metadata": {},
   "source": [
    "Проводится проверка значений нового столбца total_income_category."
   ]
  },
  {
   "cell_type": "code",
   "execution_count": 35,
   "id": "79e48231",
   "metadata": {},
   "outputs": [
    {
     "name": "stdout",
     "output_type": "stream",
     "text": [
      "['B' 'C' 'D' 'E' 'A']\n"
     ]
    }
   ],
   "source": [
    "print(data['total_income_category'].unique()) #выводим уникальные значения столбца total_income_category"
   ]
  },
  {
   "cell_type": "markdown",
   "id": "2f4865aa",
   "metadata": {},
   "source": [
    "Все значения соответствуют заданным в функции."
   ]
  },
  {
   "cell_type": "markdown",
   "id": "e776080e",
   "metadata": {},
   "source": [
    "Проводится проверка внесенных изменений."
   ]
  },
  {
   "cell_type": "code",
   "execution_count": 36,
   "id": "6fb83b6c",
   "metadata": {},
   "outputs": [
    {
     "name": "stdout",
     "output_type": "stream",
     "text": [
      "<class 'pandas.core.frame.DataFrame'>\n",
      "Int64Index: 21454 entries, 0 to 21524\n",
      "Data columns (total 11 columns):\n",
      " #   Column                 Non-Null Count  Dtype \n",
      "---  ------                 --------------  ----- \n",
      " 0   children               21454 non-null  int64 \n",
      " 1   days_employed          21454 non-null  int64 \n",
      " 2   dob_years              21454 non-null  int64 \n",
      " 3   education_id           21454 non-null  int64 \n",
      " 4   family_status_id       21454 non-null  int64 \n",
      " 5   gender                 21454 non-null  object\n",
      " 6   income_type            21454 non-null  object\n",
      " 7   debt                   21454 non-null  int64 \n",
      " 8   total_income           21454 non-null  int64 \n",
      " 9   purpose                21454 non-null  object\n",
      " 10  total_income_category  21454 non-null  object\n",
      "dtypes: int64(7), object(4)\n",
      "memory usage: 2.0+ MB\n"
     ]
    },
    {
     "data": {
      "text/html": [
       "<div>\n",
       "<style scoped>\n",
       "    .dataframe tbody tr th:only-of-type {\n",
       "        vertical-align: middle;\n",
       "    }\n",
       "\n",
       "    .dataframe tbody tr th {\n",
       "        vertical-align: top;\n",
       "    }\n",
       "\n",
       "    .dataframe thead th {\n",
       "        text-align: right;\n",
       "    }\n",
       "</style>\n",
       "<table border=\"1\" class=\"dataframe\">\n",
       "  <thead>\n",
       "    <tr style=\"text-align: right;\">\n",
       "      <th></th>\n",
       "      <th>children</th>\n",
       "      <th>days_employed</th>\n",
       "      <th>dob_years</th>\n",
       "      <th>education_id</th>\n",
       "      <th>family_status_id</th>\n",
       "      <th>gender</th>\n",
       "      <th>income_type</th>\n",
       "      <th>debt</th>\n",
       "      <th>total_income</th>\n",
       "      <th>purpose</th>\n",
       "      <th>total_income_category</th>\n",
       "    </tr>\n",
       "  </thead>\n",
       "  <tbody>\n",
       "    <tr>\n",
       "      <th>0</th>\n",
       "      <td>1</td>\n",
       "      <td>8437</td>\n",
       "      <td>42</td>\n",
       "      <td>0</td>\n",
       "      <td>0</td>\n",
       "      <td>F</td>\n",
       "      <td>сотрудник</td>\n",
       "      <td>0</td>\n",
       "      <td>253875</td>\n",
       "      <td>покупка жилья</td>\n",
       "      <td>B</td>\n",
       "    </tr>\n",
       "    <tr>\n",
       "      <th>1</th>\n",
       "      <td>1</td>\n",
       "      <td>4024</td>\n",
       "      <td>36</td>\n",
       "      <td>1</td>\n",
       "      <td>0</td>\n",
       "      <td>F</td>\n",
       "      <td>сотрудник</td>\n",
       "      <td>0</td>\n",
       "      <td>112080</td>\n",
       "      <td>приобретение автомобиля</td>\n",
       "      <td>C</td>\n",
       "    </tr>\n",
       "    <tr>\n",
       "      <th>2</th>\n",
       "      <td>0</td>\n",
       "      <td>5623</td>\n",
       "      <td>33</td>\n",
       "      <td>1</td>\n",
       "      <td>0</td>\n",
       "      <td>M</td>\n",
       "      <td>сотрудник</td>\n",
       "      <td>0</td>\n",
       "      <td>145885</td>\n",
       "      <td>покупка жилья</td>\n",
       "      <td>C</td>\n",
       "    </tr>\n",
       "    <tr>\n",
       "      <th>3</th>\n",
       "      <td>3</td>\n",
       "      <td>4124</td>\n",
       "      <td>32</td>\n",
       "      <td>1</td>\n",
       "      <td>0</td>\n",
       "      <td>M</td>\n",
       "      <td>сотрудник</td>\n",
       "      <td>0</td>\n",
       "      <td>267628</td>\n",
       "      <td>дополнительное образование</td>\n",
       "      <td>B</td>\n",
       "    </tr>\n",
       "    <tr>\n",
       "      <th>4</th>\n",
       "      <td>0</td>\n",
       "      <td>2194</td>\n",
       "      <td>53</td>\n",
       "      <td>1</td>\n",
       "      <td>1</td>\n",
       "      <td>F</td>\n",
       "      <td>пенсионер</td>\n",
       "      <td>0</td>\n",
       "      <td>158616</td>\n",
       "      <td>сыграть свадьбу</td>\n",
       "      <td>C</td>\n",
       "    </tr>\n",
       "  </tbody>\n",
       "</table>\n",
       "</div>"
      ],
      "text/plain": [
       "   children  days_employed  dob_years  education_id  family_status_id gender  \\\n",
       "0         1           8437         42             0                 0      F   \n",
       "1         1           4024         36             1                 0      F   \n",
       "2         0           5623         33             1                 0      M   \n",
       "3         3           4124         32             1                 0      M   \n",
       "4         0           2194         53             1                 1      F   \n",
       "\n",
       "  income_type  debt  total_income                     purpose  \\\n",
       "0   сотрудник     0        253875               покупка жилья   \n",
       "1   сотрудник     0        112080     приобретение автомобиля   \n",
       "2   сотрудник     0        145885               покупка жилья   \n",
       "3   сотрудник     0        267628  дополнительное образование   \n",
       "4   пенсионер     0        158616             сыграть свадьбу   \n",
       "\n",
       "  total_income_category  \n",
       "0                     B  \n",
       "1                     C  \n",
       "2                     C  \n",
       "3                     B  \n",
       "4                     C  "
      ]
     },
     "execution_count": 36,
     "metadata": {},
     "output_type": "execute_result"
    }
   ],
   "source": [
    "data.info() #смотрим сводку основной информации\n",
    "data.head() #смотрим как отображаются данные"
   ]
  },
  {
   "cell_type": "markdown",
   "id": "8c84506d",
   "metadata": {},
   "source": [
    "Категоризация дохода прошла успешно."
   ]
  },
  {
   "cell_type": "markdown",
   "id": "3dc7d2f6",
   "metadata": {},
   "source": [
    "### Шаг 2.7. Категоризация целей кредита."
   ]
  },
  {
   "cell_type": "markdown",
   "id": "7668ac7e",
   "metadata": {},
   "source": [
    "Создается функция для определения категории цели кредита."
   ]
  },
  {
   "cell_type": "code",
   "execution_count": 37,
   "id": "d0e78fc1",
   "metadata": {},
   "outputs": [],
   "source": [
    "def purpose_category(purpose): #функция возвращает категорию в зависимости от указанной цели\n",
    "    if 'авто' in purpose:\n",
    "        return 'операции с автомобилем'\n",
    "    elif 'жил' in purpose or 'недвиж' in purpose:\n",
    "        return 'операции с недвижимостью'\n",
    "    elif 'свадьб' in purpose:\n",
    "        return 'проведение свадьбы'\n",
    "    elif 'образ' in purpose:\n",
    "        return 'получение образования'\n",
    "    else:\n",
    "        return 'прочее'"
   ]
  },
  {
   "cell_type": "markdown",
   "id": "17bd3593",
   "metadata": {},
   "source": [
    "Создается новый столбец purpose_category с категорией цели кредита, определенной на основе функции."
   ]
  },
  {
   "cell_type": "code",
   "execution_count": 38,
   "id": "eb15dbce",
   "metadata": {},
   "outputs": [],
   "source": [
    "data['purpose_category'] = data['purpose'].apply(purpose_category) #применяем функцию purpose_category к столбцу purpose"
   ]
  },
  {
   "cell_type": "markdown",
   "id": "6444c1da",
   "metadata": {},
   "source": [
    "Проводится проверка значений нового столбца purpose_category."
   ]
  },
  {
   "cell_type": "code",
   "execution_count": 39,
   "id": "c0410730",
   "metadata": {},
   "outputs": [
    {
     "name": "stdout",
     "output_type": "stream",
     "text": [
      "['операции с недвижимостью' 'операции с автомобилем'\n",
      " 'получение образования' 'проведение свадьбы']\n"
     ]
    }
   ],
   "source": [
    "print(data['purpose_category'].unique()) #выводим уникальные значения столбца purpose_category"
   ]
  },
  {
   "cell_type": "markdown",
   "id": "3c6c75e4",
   "metadata": {},
   "source": [
    "Все значения соответствуют заданным в функции. Значение \"прочее\" не выявлено, то есть все записи были однозначно отнесены к одной из категорий на основе словесного содержания."
   ]
  },
  {
   "cell_type": "markdown",
   "id": "65a52aed",
   "metadata": {},
   "source": [
    "Проводится проверка внесенных изменений."
   ]
  },
  {
   "cell_type": "code",
   "execution_count": 40,
   "id": "de4e0467",
   "metadata": {},
   "outputs": [
    {
     "name": "stdout",
     "output_type": "stream",
     "text": [
      "<class 'pandas.core.frame.DataFrame'>\n",
      "Int64Index: 21454 entries, 0 to 21524\n",
      "Data columns (total 12 columns):\n",
      " #   Column                 Non-Null Count  Dtype \n",
      "---  ------                 --------------  ----- \n",
      " 0   children               21454 non-null  int64 \n",
      " 1   days_employed          21454 non-null  int64 \n",
      " 2   dob_years              21454 non-null  int64 \n",
      " 3   education_id           21454 non-null  int64 \n",
      " 4   family_status_id       21454 non-null  int64 \n",
      " 5   gender                 21454 non-null  object\n",
      " 6   income_type            21454 non-null  object\n",
      " 7   debt                   21454 non-null  int64 \n",
      " 8   total_income           21454 non-null  int64 \n",
      " 9   purpose                21454 non-null  object\n",
      " 10  total_income_category  21454 non-null  object\n",
      " 11  purpose_category       21454 non-null  object\n",
      "dtypes: int64(7), object(5)\n",
      "memory usage: 2.1+ MB\n"
     ]
    },
    {
     "data": {
      "text/html": [
       "<div>\n",
       "<style scoped>\n",
       "    .dataframe tbody tr th:only-of-type {\n",
       "        vertical-align: middle;\n",
       "    }\n",
       "\n",
       "    .dataframe tbody tr th {\n",
       "        vertical-align: top;\n",
       "    }\n",
       "\n",
       "    .dataframe thead th {\n",
       "        text-align: right;\n",
       "    }\n",
       "</style>\n",
       "<table border=\"1\" class=\"dataframe\">\n",
       "  <thead>\n",
       "    <tr style=\"text-align: right;\">\n",
       "      <th></th>\n",
       "      <th>children</th>\n",
       "      <th>days_employed</th>\n",
       "      <th>dob_years</th>\n",
       "      <th>education_id</th>\n",
       "      <th>family_status_id</th>\n",
       "      <th>gender</th>\n",
       "      <th>income_type</th>\n",
       "      <th>debt</th>\n",
       "      <th>total_income</th>\n",
       "      <th>purpose</th>\n",
       "      <th>total_income_category</th>\n",
       "      <th>purpose_category</th>\n",
       "    </tr>\n",
       "  </thead>\n",
       "  <tbody>\n",
       "    <tr>\n",
       "      <th>0</th>\n",
       "      <td>1</td>\n",
       "      <td>8437</td>\n",
       "      <td>42</td>\n",
       "      <td>0</td>\n",
       "      <td>0</td>\n",
       "      <td>F</td>\n",
       "      <td>сотрудник</td>\n",
       "      <td>0</td>\n",
       "      <td>253875</td>\n",
       "      <td>покупка жилья</td>\n",
       "      <td>B</td>\n",
       "      <td>операции с недвижимостью</td>\n",
       "    </tr>\n",
       "    <tr>\n",
       "      <th>1</th>\n",
       "      <td>1</td>\n",
       "      <td>4024</td>\n",
       "      <td>36</td>\n",
       "      <td>1</td>\n",
       "      <td>0</td>\n",
       "      <td>F</td>\n",
       "      <td>сотрудник</td>\n",
       "      <td>0</td>\n",
       "      <td>112080</td>\n",
       "      <td>приобретение автомобиля</td>\n",
       "      <td>C</td>\n",
       "      <td>операции с автомобилем</td>\n",
       "    </tr>\n",
       "    <tr>\n",
       "      <th>2</th>\n",
       "      <td>0</td>\n",
       "      <td>5623</td>\n",
       "      <td>33</td>\n",
       "      <td>1</td>\n",
       "      <td>0</td>\n",
       "      <td>M</td>\n",
       "      <td>сотрудник</td>\n",
       "      <td>0</td>\n",
       "      <td>145885</td>\n",
       "      <td>покупка жилья</td>\n",
       "      <td>C</td>\n",
       "      <td>операции с недвижимостью</td>\n",
       "    </tr>\n",
       "    <tr>\n",
       "      <th>3</th>\n",
       "      <td>3</td>\n",
       "      <td>4124</td>\n",
       "      <td>32</td>\n",
       "      <td>1</td>\n",
       "      <td>0</td>\n",
       "      <td>M</td>\n",
       "      <td>сотрудник</td>\n",
       "      <td>0</td>\n",
       "      <td>267628</td>\n",
       "      <td>дополнительное образование</td>\n",
       "      <td>B</td>\n",
       "      <td>получение образования</td>\n",
       "    </tr>\n",
       "    <tr>\n",
       "      <th>4</th>\n",
       "      <td>0</td>\n",
       "      <td>2194</td>\n",
       "      <td>53</td>\n",
       "      <td>1</td>\n",
       "      <td>1</td>\n",
       "      <td>F</td>\n",
       "      <td>пенсионер</td>\n",
       "      <td>0</td>\n",
       "      <td>158616</td>\n",
       "      <td>сыграть свадьбу</td>\n",
       "      <td>C</td>\n",
       "      <td>проведение свадьбы</td>\n",
       "    </tr>\n",
       "  </tbody>\n",
       "</table>\n",
       "</div>"
      ],
      "text/plain": [
       "   children  days_employed  dob_years  education_id  family_status_id gender  \\\n",
       "0         1           8437         42             0                 0      F   \n",
       "1         1           4024         36             1                 0      F   \n",
       "2         0           5623         33             1                 0      M   \n",
       "3         3           4124         32             1                 0      M   \n",
       "4         0           2194         53             1                 1      F   \n",
       "\n",
       "  income_type  debt  total_income                     purpose  \\\n",
       "0   сотрудник     0        253875               покупка жилья   \n",
       "1   сотрудник     0        112080     приобретение автомобиля   \n",
       "2   сотрудник     0        145885               покупка жилья   \n",
       "3   сотрудник     0        267628  дополнительное образование   \n",
       "4   пенсионер     0        158616             сыграть свадьбу   \n",
       "\n",
       "  total_income_category          purpose_category  \n",
       "0                     B  операции с недвижимостью  \n",
       "1                     C    операции с автомобилем  \n",
       "2                     C  операции с недвижимостью  \n",
       "3                     B     получение образования  \n",
       "4                     C        проведение свадьбы  "
      ]
     },
     "execution_count": 40,
     "metadata": {},
     "output_type": "execute_result"
    }
   ],
   "source": [
    "data.info() #смотрим сводку основной информации\n",
    "data.head() #смотрим как отображаются данные"
   ]
  },
  {
   "cell_type": "markdown",
   "id": "cd553f7e",
   "metadata": {},
   "source": [
    "Категоризация целей кредита прошла успешно."
   ]
  },
  {
   "cell_type": "markdown",
   "id": "e3512ebb",
   "metadata": {},
   "source": [
    "### Ответы на вопросы."
   ]
  },
  {
   "cell_type": "markdown",
   "id": "e7cd7c38",
   "metadata": {},
   "source": [
    "##### Вопрос 1: Есть ли зависимость между количеством детей и возвратом кредита в срок?"
   ]
  },
  {
   "cell_type": "markdown",
   "id": "e6782224",
   "metadata": {},
   "source": [
    "Для ответа на первый вопрос требуется построение сводной таблицы с разбивкой всех записей по числу детей (children) и наличию долга (debt)."
   ]
  },
  {
   "cell_type": "code",
   "execution_count": 41,
   "id": "d01de3f5",
   "metadata": {},
   "outputs": [
    {
     "data": {
      "text/html": [
       "<div>\n",
       "<style scoped>\n",
       "    .dataframe tbody tr th:only-of-type {\n",
       "        vertical-align: middle;\n",
       "    }\n",
       "\n",
       "    .dataframe tbody tr th {\n",
       "        vertical-align: top;\n",
       "    }\n",
       "\n",
       "    .dataframe thead th {\n",
       "        text-align: right;\n",
       "    }\n",
       "</style>\n",
       "<table border=\"1\" class=\"dataframe\">\n",
       "  <thead>\n",
       "    <tr style=\"text-align: right;\">\n",
       "      <th>debt</th>\n",
       "      <th>0</th>\n",
       "      <th>1</th>\n",
       "      <th>ratio, %</th>\n",
       "    </tr>\n",
       "    <tr>\n",
       "      <th>children</th>\n",
       "      <th></th>\n",
       "      <th></th>\n",
       "      <th></th>\n",
       "    </tr>\n",
       "  </thead>\n",
       "  <tbody>\n",
       "    <tr>\n",
       "      <th>0</th>\n",
       "      <td>13028.0</td>\n",
       "      <td>1063.0</td>\n",
       "      <td>7.543822</td>\n",
       "    </tr>\n",
       "    <tr>\n",
       "      <th>1</th>\n",
       "      <td>4410.0</td>\n",
       "      <td>445.0</td>\n",
       "      <td>9.165808</td>\n",
       "    </tr>\n",
       "    <tr>\n",
       "      <th>2</th>\n",
       "      <td>1926.0</td>\n",
       "      <td>202.0</td>\n",
       "      <td>9.492481</td>\n",
       "    </tr>\n",
       "    <tr>\n",
       "      <th>3</th>\n",
       "      <td>303.0</td>\n",
       "      <td>27.0</td>\n",
       "      <td>8.181818</td>\n",
       "    </tr>\n",
       "    <tr>\n",
       "      <th>4</th>\n",
       "      <td>37.0</td>\n",
       "      <td>4.0</td>\n",
       "      <td>9.756098</td>\n",
       "    </tr>\n",
       "    <tr>\n",
       "      <th>5</th>\n",
       "      <td>9.0</td>\n",
       "      <td>NaN</td>\n",
       "      <td>NaN</td>\n",
       "    </tr>\n",
       "  </tbody>\n",
       "</table>\n",
       "</div>"
      ],
      "text/plain": [
       "debt            0       1  ratio, %\n",
       "children                           \n",
       "0         13028.0  1063.0  7.543822\n",
       "1          4410.0   445.0  9.165808\n",
       "2          1926.0   202.0  9.492481\n",
       "3           303.0    27.0  8.181818\n",
       "4            37.0     4.0  9.756098\n",
       "5             9.0     NaN       NaN"
      ]
     },
     "execution_count": 41,
     "metadata": {},
     "output_type": "execute_result"
    }
   ],
   "source": [
    "data_1 = data.pivot_table(index='children', columns='debt', values='total_income', aggfunc='count') #строим сводную таблицу\n",
    "data_1['ratio, %'] = data_1[1]/(data_1[1] + data_1[0])*100 #для удобства рассчитываем процент должников\n",
    "data_1 #смотрим результат"
   ]
  },
  {
   "cell_type": "markdown",
   "id": "7ffdbd2b",
   "metadata": {},
   "source": [
    "##### Вывод 1:"
   ]
  },
  {
   "cell_type": "markdown",
   "id": "a78337df",
   "metadata": {},
   "source": [
    "Как показывают данные, наименьший процент должников наблюдается среди людей, не имеющих детей. Это может объясняться меньшим количеством непредвиденных затрат и, как следствие, большей финансовой стабильностью таких клиентов.\n",
    "При этом среди тех, кто имеет детей, процент должников чуть ниже в случае наличия 3 детей, но данное отклонение скорее всего объясняется относительно небольшим количеством подобных наблюдений. Этим же объясняется полное отсутствие должников среди клиентов с 5 детьми. В целом можно сказать, что сам факт наличия или отсутствия детей (независимо от их количества) влияет на уровень возврата кредитов в срок."
   ]
  },
  {
   "cell_type": "markdown",
   "id": "96fb2f42",
   "metadata": {},
   "source": [
    "##### Вопрос 2: Есть ли зависимость между семейным положением и возвратом кредита в срок?"
   ]
  },
  {
   "cell_type": "markdown",
   "id": "9dd51fd1",
   "metadata": {},
   "source": [
    "Для ответа на второй вопрос требуется построение сводной таблицы с разбивкой всех записей по семейному положению (family_status_id) и наличию долга (debt)."
   ]
  },
  {
   "cell_type": "code",
   "execution_count": 42,
   "id": "2f26cbfd",
   "metadata": {},
   "outputs": [
    {
     "data": {
      "text/html": [
       "<div>\n",
       "<style scoped>\n",
       "    .dataframe tbody tr th:only-of-type {\n",
       "        vertical-align: middle;\n",
       "    }\n",
       "\n",
       "    .dataframe tbody tr th {\n",
       "        vertical-align: top;\n",
       "    }\n",
       "\n",
       "    .dataframe thead th {\n",
       "        text-align: right;\n",
       "    }\n",
       "</style>\n",
       "<table border=\"1\" class=\"dataframe\">\n",
       "  <thead>\n",
       "    <tr style=\"text-align: right;\">\n",
       "      <th></th>\n",
       "      <th>family_status_id</th>\n",
       "      <th>0</th>\n",
       "      <th>1</th>\n",
       "      <th>ratio, %</th>\n",
       "      <th>family_status</th>\n",
       "    </tr>\n",
       "  </thead>\n",
       "  <tbody>\n",
       "    <tr>\n",
       "      <th>0</th>\n",
       "      <td>0</td>\n",
       "      <td>11408</td>\n",
       "      <td>931</td>\n",
       "      <td>7.545182</td>\n",
       "      <td>женат / замужем</td>\n",
       "    </tr>\n",
       "    <tr>\n",
       "      <th>1</th>\n",
       "      <td>1</td>\n",
       "      <td>3763</td>\n",
       "      <td>388</td>\n",
       "      <td>9.347145</td>\n",
       "      <td>гражданский брак</td>\n",
       "    </tr>\n",
       "    <tr>\n",
       "      <th>2</th>\n",
       "      <td>2</td>\n",
       "      <td>896</td>\n",
       "      <td>63</td>\n",
       "      <td>6.569343</td>\n",
       "      <td>вдовец / вдова</td>\n",
       "    </tr>\n",
       "    <tr>\n",
       "      <th>3</th>\n",
       "      <td>3</td>\n",
       "      <td>1110</td>\n",
       "      <td>85</td>\n",
       "      <td>7.112971</td>\n",
       "      <td>в разводе</td>\n",
       "    </tr>\n",
       "    <tr>\n",
       "      <th>4</th>\n",
       "      <td>4</td>\n",
       "      <td>2536</td>\n",
       "      <td>274</td>\n",
       "      <td>9.750890</td>\n",
       "      <td>не женат / не замужем</td>\n",
       "    </tr>\n",
       "  </tbody>\n",
       "</table>\n",
       "</div>"
      ],
      "text/plain": [
       "   family_status_id      0    1  ratio, %          family_status\n",
       "0                 0  11408  931  7.545182        женат / замужем\n",
       "1                 1   3763  388  9.347145       гражданский брак\n",
       "2                 2    896   63  6.569343         вдовец / вдова\n",
       "3                 3   1110   85  7.112971              в разводе\n",
       "4                 4   2536  274  9.750890  не женат / не замужем"
      ]
     },
     "execution_count": 42,
     "metadata": {},
     "output_type": "execute_result"
    }
   ],
   "source": [
    "data_2 = data.pivot_table(index='family_status_id', columns='debt', values='total_income', aggfunc='count') #строим сводную таблицу\n",
    "data_2['ratio, %'] = data_2[1]/(data_2[1] + data_2[0])*100 #для удобства рассчитываем процент должников\n",
    "data_2 = data_2.merge(data_dict_family, on='family_status_id', how='left') #объединяем сводную таблицу со словарем family_status\n",
    "data_2 #смотрим результат"
   ]
  },
  {
   "cell_type": "markdown",
   "id": "2161da44",
   "metadata": {},
   "source": [
    "##### Вывод 2:"
   ]
  },
  {
   "cell_type": "markdown",
   "id": "ce09b808",
   "metadata": {},
   "source": [
    "Соотнесение полученных результатов со словарем семейного положения позволяет сказать, что менее \"рискованными\" категориями с точки зрения возврата кредита являются женатые/замужние и разведенные люди. Также крайне низкий процент должников наблюдается среди вдовцов и вдов, но это опять-таки может быть обяснено небольшим количеством соответствующих наблюдений. Более \"рискованными\" категориями, в свою очередь, являются клиенты, которые состоят в гражданском браке или не женатые/не замужние люди."
   ]
  },
  {
   "cell_type": "markdown",
   "id": "71828010",
   "metadata": {},
   "source": [
    "##### Вопрос 3: Есть ли зависимость между уровнем дохода и возвратом кредита в срок?"
   ]
  },
  {
   "cell_type": "markdown",
   "id": "b44bd929",
   "metadata": {},
   "source": [
    "Для ответа на третий вопрос требуется построение сводной таблицы с разбивкой всех записей по категории дохода (total_income_category) и наличию долга (debt)."
   ]
  },
  {
   "cell_type": "code",
   "execution_count": 43,
   "id": "a5f04a09",
   "metadata": {},
   "outputs": [
    {
     "data": {
      "text/html": [
       "<div>\n",
       "<style scoped>\n",
       "    .dataframe tbody tr th:only-of-type {\n",
       "        vertical-align: middle;\n",
       "    }\n",
       "\n",
       "    .dataframe tbody tr th {\n",
       "        vertical-align: top;\n",
       "    }\n",
       "\n",
       "    .dataframe thead th {\n",
       "        text-align: right;\n",
       "    }\n",
       "</style>\n",
       "<table border=\"1\" class=\"dataframe\">\n",
       "  <thead>\n",
       "    <tr style=\"text-align: right;\">\n",
       "      <th>debt</th>\n",
       "      <th>0</th>\n",
       "      <th>1</th>\n",
       "      <th>ratio, %</th>\n",
       "    </tr>\n",
       "    <tr>\n",
       "      <th>total_income_category</th>\n",
       "      <th></th>\n",
       "      <th></th>\n",
       "      <th></th>\n",
       "    </tr>\n",
       "  </thead>\n",
       "  <tbody>\n",
       "    <tr>\n",
       "      <th>A</th>\n",
       "      <td>23</td>\n",
       "      <td>2</td>\n",
       "      <td>8.000000</td>\n",
       "    </tr>\n",
       "    <tr>\n",
       "      <th>B</th>\n",
       "      <td>4686</td>\n",
       "      <td>356</td>\n",
       "      <td>7.060690</td>\n",
       "    </tr>\n",
       "    <tr>\n",
       "      <th>C</th>\n",
       "      <td>14655</td>\n",
       "      <td>1360</td>\n",
       "      <td>8.492039</td>\n",
       "    </tr>\n",
       "    <tr>\n",
       "      <th>D</th>\n",
       "      <td>329</td>\n",
       "      <td>21</td>\n",
       "      <td>6.000000</td>\n",
       "    </tr>\n",
       "    <tr>\n",
       "      <th>E</th>\n",
       "      <td>20</td>\n",
       "      <td>2</td>\n",
       "      <td>9.090909</td>\n",
       "    </tr>\n",
       "  </tbody>\n",
       "</table>\n",
       "</div>"
      ],
      "text/plain": [
       "debt                       0     1  ratio, %\n",
       "total_income_category                       \n",
       "A                         23     2  8.000000\n",
       "B                       4686   356  7.060690\n",
       "C                      14655  1360  8.492039\n",
       "D                        329    21  6.000000\n",
       "E                         20     2  9.090909"
      ]
     },
     "execution_count": 43,
     "metadata": {},
     "output_type": "execute_result"
    }
   ],
   "source": [
    "data_3 = data.pivot_table(index='total_income_category', columns='debt', values='total_income', aggfunc='count') #строим сводную таблицу\n",
    "data_3['ratio, %'] = data_3[1]/(data_3[1] + data_3[0])*100 #для удобства рассчитываем процент должников\n",
    "data_3 #смотрим результат"
   ]
  },
  {
   "cell_type": "markdown",
   "id": "6f90adb3",
   "metadata": {},
   "source": [
    "##### Вывод 3:"
   ]
  },
  {
   "cell_type": "markdown",
   "id": "b15897ae",
   "metadata": {},
   "source": [
    "Значимое количество записей для формирования каких-либо выводов есть только по категориям дохода 'B' и 'C'. Можно предположить, что эти категории в целом задают тенденцию к снижению числа невозвратов кредита при росте дохода, что опять же может объясняться большей финансовой стабильностью и грамотностью клиентов. Однако данных для заключительных выводов в представленной сводке недостаточно. "
   ]
  },
  {
   "cell_type": "markdown",
   "id": "ae19d4bf",
   "metadata": {},
   "source": [
    "##### Вопрос 4: Как разные цели кредита влияют на его возврат в срок?"
   ]
  },
  {
   "cell_type": "markdown",
   "id": "22813857",
   "metadata": {},
   "source": [
    "Для ответа на четвертый вопрос требуется построение сводной таблицы с разбивкой всех записей по категории цели кредита (purpose_category) и наличию долга (debt)."
   ]
  },
  {
   "cell_type": "code",
   "execution_count": 44,
   "id": "1cb91d24",
   "metadata": {},
   "outputs": [
    {
     "data": {
      "text/html": [
       "<div>\n",
       "<style scoped>\n",
       "    .dataframe tbody tr th:only-of-type {\n",
       "        vertical-align: middle;\n",
       "    }\n",
       "\n",
       "    .dataframe tbody tr th {\n",
       "        vertical-align: top;\n",
       "    }\n",
       "\n",
       "    .dataframe thead th {\n",
       "        text-align: right;\n",
       "    }\n",
       "</style>\n",
       "<table border=\"1\" class=\"dataframe\">\n",
       "  <thead>\n",
       "    <tr style=\"text-align: right;\">\n",
       "      <th>debt</th>\n",
       "      <th>0</th>\n",
       "      <th>1</th>\n",
       "      <th>ratio, %</th>\n",
       "    </tr>\n",
       "    <tr>\n",
       "      <th>purpose_category</th>\n",
       "      <th></th>\n",
       "      <th></th>\n",
       "      <th></th>\n",
       "    </tr>\n",
       "  </thead>\n",
       "  <tbody>\n",
       "    <tr>\n",
       "      <th>операции с автомобилем</th>\n",
       "      <td>3903</td>\n",
       "      <td>403</td>\n",
       "      <td>9.359034</td>\n",
       "    </tr>\n",
       "    <tr>\n",
       "      <th>операции с недвижимостью</th>\n",
       "      <td>10029</td>\n",
       "      <td>782</td>\n",
       "      <td>7.233373</td>\n",
       "    </tr>\n",
       "    <tr>\n",
       "      <th>получение образования</th>\n",
       "      <td>3643</td>\n",
       "      <td>370</td>\n",
       "      <td>9.220035</td>\n",
       "    </tr>\n",
       "    <tr>\n",
       "      <th>проведение свадьбы</th>\n",
       "      <td>2138</td>\n",
       "      <td>186</td>\n",
       "      <td>8.003442</td>\n",
       "    </tr>\n",
       "  </tbody>\n",
       "</table>\n",
       "</div>"
      ],
      "text/plain": [
       "debt                          0    1  ratio, %\n",
       "purpose_category                              \n",
       "операции с автомобилем     3903  403  9.359034\n",
       "операции с недвижимостью  10029  782  7.233373\n",
       "получение образования      3643  370  9.220035\n",
       "проведение свадьбы         2138  186  8.003442"
      ]
     },
     "execution_count": 44,
     "metadata": {},
     "output_type": "execute_result"
    }
   ],
   "source": [
    "data_4 = data.pivot_table(index='purpose_category', columns='debt', values='total_income', aggfunc='count') #строим сводную таблицу\n",
    "data_4['ratio, %'] = data_4[1]/(data_4[1] + data_4[0])*100 #для удобства рассчитываем процент должников\n",
    "data_4 #смотрим результат"
   ]
  },
  {
   "cell_type": "markdown",
   "id": "e2dabd09",
   "metadata": {},
   "source": [
    "##### Вывод 4:"
   ]
  },
  {
   "cell_type": "markdown",
   "id": "63c61cf0",
   "metadata": {},
   "source": [
    "Наблюдается меньший процент должников среди клиентов, берущих кредит на операции с недвижимостью и проведение свадьбы, и больший процент должников среди тех, кто берет кредит на получение образования или операции с автомобилем. Это отчасти может коррелировать с выводами об уровне дохода (операции с недвижимостью обычно более дорогие) и семейном положении (свадьба означает переход в категорию женатых/замужних людей). "
   ]
  },
  {
   "cell_type": "markdown",
   "id": "6e8b7e38",
   "metadata": {},
   "source": [
    "## Общий вывод:"
   ]
  },
  {
   "cell_type": "markdown",
   "id": "2b484542",
   "metadata": {},
   "source": [
    "1) Среди клиентов, не имеющих детей, уровень невозврата кредитов на 1-2%* ниже, чем среди клиентов, имеющих хотя бы одного ребенка;  \n",
    "2) Среди женатых/замужих и разведенных клиентов уровень невозврата кредитов также примерно на 2%* ниже, чем среди клиентов, состоящих в гражданском браке или не женатых/не замужних клиентов;     \n",
    "3) Уровень дохода и цели кредита также вероятно влияют на степерь возврата кредитов, но для окончательных выводов по данным факторам требуется получение большего объема информации и проведение дополнительного анализа.\n",
    "\n",
    "'*' - процентные пункты"
   ]
  }
 ],
 "metadata": {
  "ExecuteTimeLog": [
   {
    "duration": 720,
    "start_time": "2022-05-20T09:04:32.645Z"
   },
   {
    "duration": 4,
    "start_time": "2022-05-20T09:08:26.843Z"
   },
   {
    "duration": 4,
    "start_time": "2022-05-20T09:08:30.982Z"
   },
   {
    "duration": 10,
    "start_time": "2022-05-20T09:08:36.826Z"
   },
   {
    "duration": 6,
    "start_time": "2022-05-20T09:09:47.388Z"
   },
   {
    "duration": 6,
    "start_time": "2022-05-20T09:10:14.175Z"
   },
   {
    "duration": 5,
    "start_time": "2022-05-20T09:10:17.685Z"
   },
   {
    "duration": 6,
    "start_time": "2022-05-20T09:10:21.794Z"
   },
   {
    "duration": 7,
    "start_time": "2022-05-20T09:11:58.016Z"
   },
   {
    "duration": 5,
    "start_time": "2022-05-20T09:12:00.861Z"
   },
   {
    "duration": 5,
    "start_time": "2022-05-20T09:12:27.893Z"
   },
   {
    "duration": 8,
    "start_time": "2022-05-20T09:14:16.069Z"
   },
   {
    "duration": 9,
    "start_time": "2022-05-20T09:15:12.484Z"
   },
   {
    "duration": 23,
    "start_time": "2022-05-20T09:15:21.123Z"
   },
   {
    "duration": 7,
    "start_time": "2022-05-20T09:15:27.663Z"
   },
   {
    "duration": 837,
    "start_time": "2022-05-20T09:22:55.090Z"
   },
   {
    "duration": 17,
    "start_time": "2022-05-20T09:23:01.223Z"
   },
   {
    "duration": 9,
    "start_time": "2022-05-20T09:23:05.197Z"
   },
   {
    "duration": 8,
    "start_time": "2022-05-20T09:23:11.641Z"
   },
   {
    "duration": 5,
    "start_time": "2022-05-20T09:24:13.306Z"
   },
   {
    "duration": 6,
    "start_time": "2022-05-20T09:24:23.336Z"
   },
   {
    "duration": 50,
    "start_time": "2022-05-20T09:28:49.697Z"
   },
   {
    "duration": 36,
    "start_time": "2022-05-20T09:29:00.791Z"
   },
   {
    "duration": 169,
    "start_time": "2022-05-20T09:29:06.572Z"
   },
   {
    "duration": 10,
    "start_time": "2022-05-20T09:29:19.082Z"
   },
   {
    "duration": 149,
    "start_time": "2022-05-20T09:29:37.747Z"
   },
   {
    "duration": 231,
    "start_time": "2022-05-20T09:30:06.982Z"
   },
   {
    "duration": 214,
    "start_time": "2022-05-20T09:30:16.482Z"
   },
   {
    "duration": 13,
    "start_time": "2022-05-20T09:32:00.771Z"
   },
   {
    "duration": 175,
    "start_time": "2022-05-20T09:32:11.825Z"
   },
   {
    "duration": 180,
    "start_time": "2022-05-20T09:32:35.884Z"
   },
   {
    "duration": 15,
    "start_time": "2022-05-20T09:33:57.583Z"
   },
   {
    "duration": 47,
    "start_time": "2022-05-20T09:34:29.361Z"
   },
   {
    "duration": 6,
    "start_time": "2022-05-20T09:34:38.725Z"
   },
   {
    "duration": 5,
    "start_time": "2022-05-20T09:34:42.945Z"
   },
   {
    "duration": 590,
    "start_time": "2022-05-20T09:34:50.771Z"
   },
   {
    "duration": 8,
    "start_time": "2022-05-20T09:34:51.364Z"
   },
   {
    "duration": 33,
    "start_time": "2022-05-20T09:34:51.376Z"
   },
   {
    "duration": 26,
    "start_time": "2022-05-20T09:35:12.051Z"
   },
   {
    "duration": 8,
    "start_time": "2022-05-20T09:38:07.165Z"
   },
   {
    "duration": 7,
    "start_time": "2022-05-20T09:39:15.250Z"
   },
   {
    "duration": 4,
    "start_time": "2022-05-20T09:39:47.753Z"
   },
   {
    "duration": 23,
    "start_time": "2022-05-20T09:39:52.348Z"
   },
   {
    "duration": 8,
    "start_time": "2022-05-20T09:40:03.520Z"
   },
   {
    "duration": 16,
    "start_time": "2022-05-20T09:40:09.601Z"
   },
   {
    "duration": 6,
    "start_time": "2022-05-20T09:40:35.192Z"
   },
   {
    "duration": 4,
    "start_time": "2022-05-20T09:40:38.410Z"
   },
   {
    "duration": 7,
    "start_time": "2022-05-20T09:40:41.837Z"
   },
   {
    "duration": 513,
    "start_time": "2022-05-20T09:41:03.166Z"
   },
   {
    "duration": 6,
    "start_time": "2022-05-20T09:41:03.681Z"
   },
   {
    "duration": 5,
    "start_time": "2022-05-20T09:41:03.689Z"
   },
   {
    "duration": 5,
    "start_time": "2022-05-20T09:41:26.787Z"
   },
   {
    "duration": 5,
    "start_time": "2022-05-20T09:41:26.905Z"
   },
   {
    "duration": 554,
    "start_time": "2022-05-20T09:43:02.147Z"
   },
   {
    "duration": 13,
    "start_time": "2022-05-20T09:43:02.703Z"
   },
   {
    "duration": 34,
    "start_time": "2022-05-20T09:43:02.718Z"
   },
   {
    "duration": 559,
    "start_time": "2022-05-20T09:45:28.688Z"
   },
   {
    "duration": 8,
    "start_time": "2022-05-20T09:45:29.249Z"
   },
   {
    "duration": 25,
    "start_time": "2022-05-20T09:45:29.259Z"
   },
   {
    "duration": 17,
    "start_time": "2022-05-20T09:49:23.769Z"
   },
   {
    "duration": 22,
    "start_time": "2022-05-20T09:50:23.615Z"
   },
   {
    "duration": 17,
    "start_time": "2022-05-20T09:52:46.897Z"
   },
   {
    "duration": 20,
    "start_time": "2022-05-20T09:53:35.044Z"
   },
   {
    "duration": 17,
    "start_time": "2022-05-20T09:54:03.440Z"
   },
   {
    "duration": 29,
    "start_time": "2022-05-20T09:54:16.722Z"
   },
   {
    "duration": 50,
    "start_time": "2022-05-20T09:55:01.091Z"
   },
   {
    "duration": 37,
    "start_time": "2022-05-20T10:00:33.542Z"
   },
   {
    "duration": 36,
    "start_time": "2022-05-20T10:00:36.697Z"
   },
   {
    "duration": 45,
    "start_time": "2022-05-20T10:01:26.774Z"
   },
   {
    "duration": 47,
    "start_time": "2022-05-20T10:02:31.517Z"
   },
   {
    "duration": 128,
    "start_time": "2022-05-20T10:02:58.765Z"
   },
   {
    "duration": 57,
    "start_time": "2022-05-20T10:04:10.493Z"
   },
   {
    "duration": 64,
    "start_time": "2022-05-20T10:04:16.379Z"
   },
   {
    "duration": 511,
    "start_time": "2022-05-20T10:05:14.637Z"
   },
   {
    "duration": 7,
    "start_time": "2022-05-20T10:05:15.150Z"
   },
   {
    "duration": 37,
    "start_time": "2022-05-20T10:05:15.159Z"
   },
   {
    "duration": 25,
    "start_time": "2022-05-20T10:05:15.203Z"
   },
   {
    "duration": 112,
    "start_time": "2022-05-20T10:05:15.231Z"
   },
   {
    "duration": 60,
    "start_time": "2022-05-20T10:07:08.838Z"
   },
   {
    "duration": 61,
    "start_time": "2022-05-20T10:08:04.829Z"
   },
   {
    "duration": 540,
    "start_time": "2022-05-20T10:10:04.209Z"
   },
   {
    "duration": 7,
    "start_time": "2022-05-20T10:10:04.751Z"
   },
   {
    "duration": 24,
    "start_time": "2022-05-20T10:10:04.760Z"
   },
   {
    "duration": 27,
    "start_time": "2022-05-20T10:10:04.786Z"
   },
   {
    "duration": 62,
    "start_time": "2022-05-20T10:10:04.815Z"
   },
   {
    "duration": 136,
    "start_time": "2022-05-20T10:11:15.250Z"
   },
   {
    "duration": 64,
    "start_time": "2022-05-20T10:11:19.973Z"
   },
   {
    "duration": 105,
    "start_time": "2022-05-20T10:14:50.509Z"
   },
   {
    "duration": 86,
    "start_time": "2022-05-20T10:14:59.879Z"
   },
   {
    "duration": 559,
    "start_time": "2022-05-20T10:15:52.893Z"
   },
   {
    "duration": 8,
    "start_time": "2022-05-20T10:15:53.454Z"
   },
   {
    "duration": 84,
    "start_time": "2022-05-20T10:15:53.463Z"
   },
   {
    "duration": 26,
    "start_time": "2022-05-20T10:15:53.550Z"
   },
   {
    "duration": 135,
    "start_time": "2022-05-20T10:15:53.578Z"
   },
   {
    "duration": 568,
    "start_time": "2022-05-20T10:20:30.169Z"
   },
   {
    "duration": 8,
    "start_time": "2022-05-20T10:20:30.740Z"
   },
   {
    "duration": 38,
    "start_time": "2022-05-20T10:20:30.751Z"
   },
   {
    "duration": 16,
    "start_time": "2022-05-20T10:20:30.803Z"
   },
   {
    "duration": 82,
    "start_time": "2022-05-20T10:20:30.821Z"
   },
   {
    "duration": 141,
    "start_time": "2022-05-20T10:22:00.027Z"
   },
   {
    "duration": 67,
    "start_time": "2022-05-20T10:22:04.551Z"
   },
   {
    "duration": 64,
    "start_time": "2022-05-20T10:22:33.369Z"
   },
   {
    "duration": 64,
    "start_time": "2022-05-20T10:25:17.631Z"
   },
   {
    "duration": 70,
    "start_time": "2022-05-20T10:25:29.492Z"
   },
   {
    "duration": 65,
    "start_time": "2022-05-20T10:25:47.726Z"
   },
   {
    "duration": 78,
    "start_time": "2022-05-20T10:25:54.138Z"
   },
   {
    "duration": 485,
    "start_time": "2022-05-20T10:26:07.329Z"
   },
   {
    "duration": 8,
    "start_time": "2022-05-20T10:26:07.817Z"
   },
   {
    "duration": 28,
    "start_time": "2022-05-20T10:26:07.827Z"
   },
   {
    "duration": 15,
    "start_time": "2022-05-20T10:26:07.858Z"
   },
   {
    "duration": 82,
    "start_time": "2022-05-20T10:26:07.874Z"
   },
   {
    "duration": 545,
    "start_time": "2022-05-20T10:26:25.917Z"
   },
   {
    "duration": 7,
    "start_time": "2022-05-20T10:26:26.464Z"
   },
   {
    "duration": 38,
    "start_time": "2022-05-20T10:26:26.473Z"
   },
   {
    "duration": 16,
    "start_time": "2022-05-20T10:26:26.513Z"
   },
   {
    "duration": 76,
    "start_time": "2022-05-20T10:26:26.531Z"
   },
   {
    "duration": 523,
    "start_time": "2022-05-20T10:26:40.305Z"
   },
   {
    "duration": 7,
    "start_time": "2022-05-20T10:26:40.830Z"
   },
   {
    "duration": 24,
    "start_time": "2022-05-20T10:26:40.839Z"
   },
   {
    "duration": 15,
    "start_time": "2022-05-20T10:26:40.864Z"
   },
   {
    "duration": 62,
    "start_time": "2022-05-20T10:26:40.903Z"
   },
   {
    "duration": 65,
    "start_time": "2022-05-20T10:28:58.836Z"
   },
   {
    "duration": 48,
    "start_time": "2022-05-20T10:29:44.941Z"
   },
   {
    "duration": 66,
    "start_time": "2022-05-20T10:29:49.635Z"
   },
   {
    "duration": 64,
    "start_time": "2022-05-20T10:30:22.586Z"
   },
   {
    "duration": 80,
    "start_time": "2022-05-20T10:32:49.991Z"
   },
   {
    "duration": 66,
    "start_time": "2022-05-20T10:33:11.569Z"
   },
   {
    "duration": 67,
    "start_time": "2022-05-20T10:33:23.720Z"
   },
   {
    "duration": 116,
    "start_time": "2022-05-20T10:34:24.800Z"
   },
   {
    "duration": 73,
    "start_time": "2022-05-20T10:34:45.001Z"
   },
   {
    "duration": 85,
    "start_time": "2022-05-20T10:35:01.320Z"
   },
   {
    "duration": 72,
    "start_time": "2022-05-20T10:36:05.426Z"
   },
   {
    "duration": 82,
    "start_time": "2022-05-20T10:36:31.930Z"
   },
   {
    "duration": 556,
    "start_time": "2022-05-20T10:38:21.667Z"
   },
   {
    "duration": 7,
    "start_time": "2022-05-20T10:38:22.225Z"
   },
   {
    "duration": 22,
    "start_time": "2022-05-20T10:38:22.233Z"
   },
   {
    "duration": 16,
    "start_time": "2022-05-20T10:38:22.257Z"
   },
   {
    "duration": 88,
    "start_time": "2022-05-20T10:38:22.274Z"
   },
   {
    "duration": 550,
    "start_time": "2022-05-20T10:38:35.797Z"
   },
   {
    "duration": 6,
    "start_time": "2022-05-20T10:38:36.349Z"
   },
   {
    "duration": 23,
    "start_time": "2022-05-20T10:38:36.357Z"
   },
   {
    "duration": 34,
    "start_time": "2022-05-20T10:38:36.382Z"
   },
   {
    "duration": 68,
    "start_time": "2022-05-20T10:38:36.418Z"
   },
   {
    "duration": 72,
    "start_time": "2022-05-20T10:39:24.999Z"
   },
   {
    "duration": 733,
    "start_time": "2022-05-20T10:39:43.869Z"
   },
   {
    "duration": 85,
    "start_time": "2022-05-20T10:39:48.359Z"
   },
   {
    "duration": 517,
    "start_time": "2022-05-20T10:43:25.429Z"
   },
   {
    "duration": 8,
    "start_time": "2022-05-20T10:43:25.948Z"
   },
   {
    "duration": 24,
    "start_time": "2022-05-20T10:43:25.958Z"
   },
   {
    "duration": 16,
    "start_time": "2022-05-20T10:43:26.003Z"
   },
   {
    "duration": 91,
    "start_time": "2022-05-20T10:43:26.021Z"
   },
   {
    "duration": 540,
    "start_time": "2022-05-20T10:46:15.904Z"
   },
   {
    "duration": 7,
    "start_time": "2022-05-20T10:46:16.446Z"
   },
   {
    "duration": 22,
    "start_time": "2022-05-20T10:46:16.455Z"
   },
   {
    "duration": 30,
    "start_time": "2022-05-20T10:46:16.479Z"
   },
   {
    "duration": 70,
    "start_time": "2022-05-20T10:46:16.510Z"
   },
   {
    "duration": 87,
    "start_time": "2022-05-20T10:50:16.547Z"
   },
   {
    "duration": 114,
    "start_time": "2022-05-20T10:50:59.730Z"
   },
   {
    "duration": 511,
    "start_time": "2022-05-20T10:51:24.112Z"
   },
   {
    "duration": 7,
    "start_time": "2022-05-20T10:51:24.625Z"
   },
   {
    "duration": 27,
    "start_time": "2022-05-20T10:51:24.634Z"
   },
   {
    "duration": 16,
    "start_time": "2022-05-20T10:51:24.663Z"
   },
   {
    "duration": 123,
    "start_time": "2022-05-20T10:51:24.681Z"
   },
   {
    "duration": 574,
    "start_time": "2022-05-20T10:53:52.594Z"
   },
   {
    "duration": 7,
    "start_time": "2022-05-20T10:53:53.170Z"
   },
   {
    "duration": 33,
    "start_time": "2022-05-20T10:53:53.179Z"
   },
   {
    "duration": 17,
    "start_time": "2022-05-20T10:53:53.214Z"
   },
   {
    "duration": 116,
    "start_time": "2022-05-20T10:53:53.233Z"
   },
   {
    "duration": 27,
    "start_time": "2022-05-20T11:10:25.451Z"
   },
   {
    "duration": 45,
    "start_time": "2022-05-20T11:13:03.878Z"
   },
   {
    "duration": 34,
    "start_time": "2022-05-20T11:13:11.578Z"
   },
   {
    "duration": 42,
    "start_time": "2022-05-20T11:13:40.664Z"
   },
   {
    "duration": 44,
    "start_time": "2022-05-20T11:14:00.268Z"
   },
   {
    "duration": 526,
    "start_time": "2022-05-20T11:14:24.968Z"
   },
   {
    "duration": 8,
    "start_time": "2022-05-20T11:14:25.496Z"
   },
   {
    "duration": 31,
    "start_time": "2022-05-20T11:14:25.506Z"
   },
   {
    "duration": 14,
    "start_time": "2022-05-20T11:14:25.539Z"
   },
   {
    "duration": 111,
    "start_time": "2022-05-20T11:14:25.555Z"
   },
   {
    "duration": 50,
    "start_time": "2022-05-20T11:14:25.667Z"
   },
   {
    "duration": 548,
    "start_time": "2022-05-20T13:28:52.836Z"
   },
   {
    "duration": 6,
    "start_time": "2022-05-20T13:28:53.386Z"
   },
   {
    "duration": 19,
    "start_time": "2022-05-20T13:28:53.394Z"
   },
   {
    "duration": 13,
    "start_time": "2022-05-20T13:28:53.414Z"
   },
   {
    "duration": 96,
    "start_time": "2022-05-20T13:28:53.430Z"
   },
   {
    "duration": 44,
    "start_time": "2022-05-20T13:28:53.527Z"
   },
   {
    "duration": 4,
    "start_time": "2022-05-20T13:28:53.573Z"
   },
   {
    "duration": 10,
    "start_time": "2022-05-20T13:29:00.418Z"
   },
   {
    "duration": 44,
    "start_time": "2022-05-20T13:30:07.554Z"
   },
   {
    "duration": 453,
    "start_time": "2022-05-20T13:36:46.701Z"
   },
   {
    "duration": 7,
    "start_time": "2022-05-20T13:36:47.156Z"
   },
   {
    "duration": 62,
    "start_time": "2022-05-20T13:36:47.164Z"
   },
   {
    "duration": 13,
    "start_time": "2022-05-20T13:36:47.228Z"
   },
   {
    "duration": 90,
    "start_time": "2022-05-20T13:36:47.242Z"
   },
   {
    "duration": 40,
    "start_time": "2022-05-20T13:36:47.334Z"
   },
   {
    "duration": 33,
    "start_time": "2022-05-20T13:36:47.376Z"
   },
   {
    "duration": 97,
    "start_time": "2022-05-20T13:36:47.410Z"
   },
   {
    "duration": 502,
    "start_time": "2022-05-20T13:41:27.050Z"
   },
   {
    "duration": 6,
    "start_time": "2022-05-20T13:41:27.554Z"
   },
   {
    "duration": 25,
    "start_time": "2022-05-20T13:41:27.561Z"
   },
   {
    "duration": 17,
    "start_time": "2022-05-20T13:41:27.588Z"
   },
   {
    "duration": 104,
    "start_time": "2022-05-20T13:41:27.608Z"
   },
   {
    "duration": 62,
    "start_time": "2022-05-20T13:41:27.713Z"
   },
   {
    "duration": 30,
    "start_time": "2022-05-20T13:41:27.776Z"
   },
   {
    "duration": 95,
    "start_time": "2022-05-20T13:41:27.807Z"
   },
   {
    "duration": 502,
    "start_time": "2022-05-20T13:44:53.719Z"
   },
   {
    "duration": 7,
    "start_time": "2022-05-20T13:44:54.223Z"
   },
   {
    "duration": 49,
    "start_time": "2022-05-20T13:44:54.231Z"
   },
   {
    "duration": 14,
    "start_time": "2022-05-20T13:44:54.283Z"
   },
   {
    "duration": 103,
    "start_time": "2022-05-20T13:44:54.299Z"
   },
   {
    "duration": 80,
    "start_time": "2022-05-20T13:44:54.403Z"
   },
   {
    "duration": 31,
    "start_time": "2022-05-20T13:44:54.485Z"
   },
   {
    "duration": 65,
    "start_time": "2022-05-20T13:44:54.517Z"
   },
   {
    "duration": 7,
    "start_time": "2022-05-20T13:54:34.301Z"
   },
   {
    "duration": 18,
    "start_time": "2022-05-20T13:54:48.655Z"
   },
   {
    "duration": 6,
    "start_time": "2022-05-20T13:55:17.984Z"
   },
   {
    "duration": 491,
    "start_time": "2022-05-20T13:59:44.291Z"
   },
   {
    "duration": 7,
    "start_time": "2022-05-20T13:59:44.785Z"
   },
   {
    "duration": 21,
    "start_time": "2022-05-20T13:59:44.794Z"
   },
   {
    "duration": 49,
    "start_time": "2022-05-20T13:59:44.818Z"
   },
   {
    "duration": 101,
    "start_time": "2022-05-20T13:59:44.869Z"
   },
   {
    "duration": 119,
    "start_time": "2022-05-20T13:59:44.972Z"
   },
   {
    "duration": 0,
    "start_time": "2022-05-20T13:59:45.093Z"
   },
   {
    "duration": 0,
    "start_time": "2022-05-20T13:59:45.094Z"
   },
   {
    "duration": 0,
    "start_time": "2022-05-20T13:59:45.095Z"
   },
   {
    "duration": 0,
    "start_time": "2022-05-20T13:59:45.096Z"
   },
   {
    "duration": 523,
    "start_time": "2022-05-20T14:01:09.329Z"
   },
   {
    "duration": 7,
    "start_time": "2022-05-20T14:01:09.854Z"
   },
   {
    "duration": 22,
    "start_time": "2022-05-20T14:01:09.862Z"
   },
   {
    "duration": 14,
    "start_time": "2022-05-20T14:01:09.886Z"
   },
   {
    "duration": 108,
    "start_time": "2022-05-20T14:01:09.902Z"
   },
   {
    "duration": 68,
    "start_time": "2022-05-20T14:01:10.012Z"
   },
   {
    "duration": 27,
    "start_time": "2022-05-20T14:01:10.081Z"
   },
   {
    "duration": 51,
    "start_time": "2022-05-20T14:01:10.110Z"
   },
   {
    "duration": 14,
    "start_time": "2022-05-20T14:01:10.163Z"
   },
   {
    "duration": 75,
    "start_time": "2022-05-20T14:01:10.179Z"
   },
   {
    "duration": 7,
    "start_time": "2022-05-20T14:02:28.062Z"
   },
   {
    "duration": 11,
    "start_time": "2022-05-20T14:05:09.804Z"
   },
   {
    "duration": 9,
    "start_time": "2022-05-20T14:05:53.721Z"
   },
   {
    "duration": 41,
    "start_time": "2022-05-20T14:06:09.632Z"
   },
   {
    "duration": 9,
    "start_time": "2022-05-20T14:06:18.275Z"
   },
   {
    "duration": 9,
    "start_time": "2022-05-20T14:06:51.562Z"
   },
   {
    "duration": 8,
    "start_time": "2022-05-20T14:06:55.717Z"
   },
   {
    "duration": 20,
    "start_time": "2022-05-20T14:08:59.757Z"
   },
   {
    "duration": 17,
    "start_time": "2022-05-20T14:09:11.282Z"
   },
   {
    "duration": 12,
    "start_time": "2022-05-20T14:10:05.990Z"
   },
   {
    "duration": 13,
    "start_time": "2022-05-20T14:10:07.989Z"
   },
   {
    "duration": 18,
    "start_time": "2022-05-20T14:10:23.611Z"
   },
   {
    "duration": 15,
    "start_time": "2022-05-20T14:11:39.123Z"
   },
   {
    "duration": 17,
    "start_time": "2022-05-20T14:11:43.309Z"
   },
   {
    "duration": 770,
    "start_time": "2022-05-20T14:13:22.809Z"
   },
   {
    "duration": 528,
    "start_time": "2022-05-20T14:13:30.172Z"
   },
   {
    "duration": 19,
    "start_time": "2022-05-20T14:13:42.011Z"
   },
   {
    "duration": 16,
    "start_time": "2022-05-20T14:14:35.770Z"
   },
   {
    "duration": 16,
    "start_time": "2022-05-20T14:14:43.436Z"
   },
   {
    "duration": 452,
    "start_time": "2022-05-20T14:15:23.734Z"
   },
   {
    "duration": 15,
    "start_time": "2022-05-20T14:15:29.531Z"
   },
   {
    "duration": 15,
    "start_time": "2022-05-20T14:15:39.073Z"
   },
   {
    "duration": 19,
    "start_time": "2022-05-20T14:15:52.566Z"
   },
   {
    "duration": 668,
    "start_time": "2022-05-20T14:16:30.562Z"
   },
   {
    "duration": 581,
    "start_time": "2022-05-20T14:16:46.015Z"
   },
   {
    "duration": 14,
    "start_time": "2022-05-20T14:17:18.024Z"
   },
   {
    "duration": 17,
    "start_time": "2022-05-20T14:17:22.204Z"
   },
   {
    "duration": 17,
    "start_time": "2022-05-20T14:17:37.524Z"
   },
   {
    "duration": 23,
    "start_time": "2022-05-20T14:17:44.239Z"
   },
   {
    "duration": 20,
    "start_time": "2022-05-20T14:19:33.279Z"
   },
   {
    "duration": 516,
    "start_time": "2022-05-20T14:21:19.954Z"
   },
   {
    "duration": 7,
    "start_time": "2022-05-20T14:21:20.474Z"
   },
   {
    "duration": 39,
    "start_time": "2022-05-20T14:21:20.483Z"
   },
   {
    "duration": 14,
    "start_time": "2022-05-20T14:21:20.525Z"
   },
   {
    "duration": 112,
    "start_time": "2022-05-20T14:21:20.540Z"
   },
   {
    "duration": 57,
    "start_time": "2022-05-20T14:21:20.655Z"
   },
   {
    "duration": 57,
    "start_time": "2022-05-20T14:21:20.714Z"
   },
   {
    "duration": 32,
    "start_time": "2022-05-20T14:21:20.774Z"
   },
   {
    "duration": 55,
    "start_time": "2022-05-20T14:21:20.808Z"
   },
   {
    "duration": 25,
    "start_time": "2022-05-20T14:21:20.869Z"
   },
   {
    "duration": 33,
    "start_time": "2022-05-20T14:24:42.068Z"
   },
   {
    "duration": 77,
    "start_time": "2022-05-20T14:24:47.699Z"
   },
   {
    "duration": 21,
    "start_time": "2022-05-20T14:24:59.896Z"
   },
   {
    "duration": 18,
    "start_time": "2022-05-20T14:25:43.547Z"
   },
   {
    "duration": 19,
    "start_time": "2022-05-20T14:25:59.715Z"
   },
   {
    "duration": 20,
    "start_time": "2022-05-20T14:26:52.340Z"
   },
   {
    "duration": 22,
    "start_time": "2022-05-20T14:27:22.474Z"
   },
   {
    "duration": 81,
    "start_time": "2022-05-20T14:29:12.881Z"
   },
   {
    "duration": 84,
    "start_time": "2022-05-20T14:29:32.720Z"
   },
   {
    "duration": 71,
    "start_time": "2022-05-20T14:29:58.344Z"
   },
   {
    "duration": 72,
    "start_time": "2022-05-20T14:31:48.396Z"
   },
   {
    "duration": 71,
    "start_time": "2022-05-20T14:32:56.256Z"
   },
   {
    "duration": 74,
    "start_time": "2022-05-20T14:33:13.517Z"
   },
   {
    "duration": 78,
    "start_time": "2022-05-20T14:34:59.432Z"
   },
   {
    "duration": 72,
    "start_time": "2022-05-20T14:35:04.233Z"
   },
   {
    "duration": 495,
    "start_time": "2022-05-20T14:35:15.760Z"
   },
   {
    "duration": 8,
    "start_time": "2022-05-20T14:35:16.257Z"
   },
   {
    "duration": 22,
    "start_time": "2022-05-20T14:35:16.266Z"
   },
   {
    "duration": 13,
    "start_time": "2022-05-20T14:35:16.290Z"
   },
   {
    "duration": 114,
    "start_time": "2022-05-20T14:35:16.305Z"
   },
   {
    "duration": 56,
    "start_time": "2022-05-20T14:35:16.420Z"
   },
   {
    "duration": 26,
    "start_time": "2022-05-20T14:35:16.478Z"
   },
   {
    "duration": 54,
    "start_time": "2022-05-20T14:35:16.506Z"
   },
   {
    "duration": 19,
    "start_time": "2022-05-20T14:35:16.562Z"
   },
   {
    "duration": 17,
    "start_time": "2022-05-20T14:35:16.583Z"
   },
   {
    "duration": 456,
    "start_time": "2022-05-20T14:35:36.195Z"
   },
   {
    "duration": 6,
    "start_time": "2022-05-20T14:35:36.653Z"
   },
   {
    "duration": 21,
    "start_time": "2022-05-20T14:35:36.661Z"
   },
   {
    "duration": 14,
    "start_time": "2022-05-20T14:35:36.684Z"
   },
   {
    "duration": 120,
    "start_time": "2022-05-20T14:35:36.700Z"
   },
   {
    "duration": 62,
    "start_time": "2022-05-20T14:35:36.822Z"
   },
   {
    "duration": 28,
    "start_time": "2022-05-20T14:35:36.886Z"
   },
   {
    "duration": 55,
    "start_time": "2022-05-20T14:35:36.916Z"
   },
   {
    "duration": 21,
    "start_time": "2022-05-20T14:35:36.973Z"
   },
   {
    "duration": 17,
    "start_time": "2022-05-20T14:35:36.995Z"
   },
   {
    "duration": 79,
    "start_time": "2022-05-20T14:37:21.049Z"
   },
   {
    "duration": 20,
    "start_time": "2022-05-20T14:39:47.779Z"
   },
   {
    "duration": 18,
    "start_time": "2022-05-20T14:39:54.799Z"
   },
   {
    "duration": 46,
    "start_time": "2022-05-20T14:40:00.492Z"
   },
   {
    "duration": 24,
    "start_time": "2022-05-20T14:40:22.637Z"
   },
   {
    "duration": 18,
    "start_time": "2022-05-20T14:41:09.376Z"
   },
   {
    "duration": 18,
    "start_time": "2022-05-20T14:41:11.528Z"
   },
   {
    "duration": 23,
    "start_time": "2022-05-20T14:41:13.648Z"
   },
   {
    "duration": 19,
    "start_time": "2022-05-20T14:42:08.229Z"
   },
   {
    "duration": 510,
    "start_time": "2022-05-20T14:45:05.313Z"
   },
   {
    "duration": 9,
    "start_time": "2022-05-20T14:45:05.825Z"
   },
   {
    "duration": 35,
    "start_time": "2022-05-20T14:45:05.835Z"
   },
   {
    "duration": 18,
    "start_time": "2022-05-20T14:45:05.872Z"
   },
   {
    "duration": 112,
    "start_time": "2022-05-20T14:45:05.892Z"
   },
   {
    "duration": 29,
    "start_time": "2022-05-20T14:45:06.006Z"
   },
   {
    "duration": 40,
    "start_time": "2022-05-20T14:45:06.051Z"
   },
   {
    "duration": 43,
    "start_time": "2022-05-20T14:45:06.092Z"
   },
   {
    "duration": 45,
    "start_time": "2022-05-20T14:45:06.137Z"
   },
   {
    "duration": 21,
    "start_time": "2022-05-20T14:45:06.184Z"
   },
   {
    "duration": 18,
    "start_time": "2022-05-20T14:45:06.206Z"
   },
   {
    "duration": 40,
    "start_time": "2022-05-20T14:45:06.226Z"
   },
   {
    "duration": 104,
    "start_time": "2022-05-20T14:47:06.166Z"
   },
   {
    "duration": 502,
    "start_time": "2022-05-20T14:47:35.590Z"
   },
   {
    "duration": 6,
    "start_time": "2022-05-20T14:47:36.094Z"
   },
   {
    "duration": 31,
    "start_time": "2022-05-20T14:47:36.102Z"
   },
   {
    "duration": 37,
    "start_time": "2022-05-20T14:47:36.136Z"
   },
   {
    "duration": 109,
    "start_time": "2022-05-20T14:47:36.175Z"
   },
   {
    "duration": 47,
    "start_time": "2022-05-20T14:47:36.285Z"
   },
   {
    "duration": 59,
    "start_time": "2022-05-20T14:47:36.334Z"
   },
   {
    "duration": 33,
    "start_time": "2022-05-20T14:47:36.395Z"
   },
   {
    "duration": 46,
    "start_time": "2022-05-20T14:47:36.430Z"
   },
   {
    "duration": 21,
    "start_time": "2022-05-20T14:47:36.478Z"
   },
   {
    "duration": 19,
    "start_time": "2022-05-20T14:47:36.501Z"
   },
   {
    "duration": 43,
    "start_time": "2022-05-20T14:47:36.522Z"
   },
   {
    "duration": 489,
    "start_time": "2022-05-20T14:48:13.815Z"
   },
   {
    "duration": 7,
    "start_time": "2022-05-20T14:48:14.306Z"
   },
   {
    "duration": 21,
    "start_time": "2022-05-20T14:48:14.315Z"
   },
   {
    "duration": 15,
    "start_time": "2022-05-20T14:48:14.351Z"
   },
   {
    "duration": 114,
    "start_time": "2022-05-20T14:48:14.368Z"
   },
   {
    "duration": 68,
    "start_time": "2022-05-20T14:48:14.484Z"
   },
   {
    "duration": 36,
    "start_time": "2022-05-20T14:48:14.554Z"
   },
   {
    "duration": 32,
    "start_time": "2022-05-20T14:48:14.592Z"
   },
   {
    "duration": 47,
    "start_time": "2022-05-20T14:48:14.625Z"
   },
   {
    "duration": 17,
    "start_time": "2022-05-20T14:48:14.675Z"
   },
   {
    "duration": 18,
    "start_time": "2022-05-20T14:48:14.694Z"
   },
   {
    "duration": 41,
    "start_time": "2022-05-20T14:48:14.713Z"
   },
   {
    "duration": 529,
    "start_time": "2022-05-20T14:52:26.268Z"
   },
   {
    "duration": 7,
    "start_time": "2022-05-20T14:52:26.799Z"
   },
   {
    "duration": 26,
    "start_time": "2022-05-20T14:52:26.808Z"
   },
   {
    "duration": 29,
    "start_time": "2022-05-20T14:52:26.836Z"
   },
   {
    "duration": 113,
    "start_time": "2022-05-20T14:52:26.868Z"
   },
   {
    "duration": 84,
    "start_time": "2022-05-20T14:52:26.983Z"
   },
   {
    "duration": 33,
    "start_time": "2022-05-20T14:52:27.069Z"
   },
   {
    "duration": 56,
    "start_time": "2022-05-20T14:52:27.104Z"
   },
   {
    "duration": 25,
    "start_time": "2022-05-20T14:52:27.162Z"
   },
   {
    "duration": 19,
    "start_time": "2022-05-20T14:52:27.188Z"
   },
   {
    "duration": 51,
    "start_time": "2022-05-20T14:52:27.209Z"
   },
   {
    "duration": 20,
    "start_time": "2022-05-20T14:52:27.263Z"
   },
   {
    "duration": 501,
    "start_time": "2022-05-20T14:54:40.479Z"
   },
   {
    "duration": 8,
    "start_time": "2022-05-20T14:54:40.983Z"
   },
   {
    "duration": 21,
    "start_time": "2022-05-20T14:54:40.993Z"
   },
   {
    "duration": 35,
    "start_time": "2022-05-20T14:54:41.017Z"
   },
   {
    "duration": 125,
    "start_time": "2022-05-20T14:54:41.054Z"
   },
   {
    "duration": 72,
    "start_time": "2022-05-20T14:54:41.181Z"
   },
   {
    "duration": 42,
    "start_time": "2022-05-20T14:54:41.254Z"
   },
   {
    "duration": 53,
    "start_time": "2022-05-20T14:54:41.298Z"
   },
   {
    "duration": 31,
    "start_time": "2022-05-20T14:54:41.354Z"
   },
   {
    "duration": 18,
    "start_time": "2022-05-20T14:54:41.387Z"
   },
   {
    "duration": 19,
    "start_time": "2022-05-20T14:54:41.406Z"
   },
   {
    "duration": 26,
    "start_time": "2022-05-20T14:54:41.453Z"
   },
   {
    "duration": 531,
    "start_time": "2022-05-20T14:56:16.328Z"
   },
   {
    "duration": 8,
    "start_time": "2022-05-20T14:56:16.861Z"
   },
   {
    "duration": 26,
    "start_time": "2022-05-20T14:56:16.871Z"
   },
   {
    "duration": 15,
    "start_time": "2022-05-20T14:56:16.899Z"
   },
   {
    "duration": 122,
    "start_time": "2022-05-20T14:56:16.916Z"
   },
   {
    "duration": 70,
    "start_time": "2022-05-20T14:56:17.040Z"
   },
   {
    "duration": 60,
    "start_time": "2022-05-20T14:56:17.111Z"
   },
   {
    "duration": 42,
    "start_time": "2022-05-20T14:56:17.172Z"
   },
   {
    "duration": 25,
    "start_time": "2022-05-20T14:56:17.215Z"
   },
   {
    "duration": 35,
    "start_time": "2022-05-20T14:56:17.241Z"
   },
   {
    "duration": 19,
    "start_time": "2022-05-20T14:56:17.278Z"
   },
   {
    "duration": 19,
    "start_time": "2022-05-20T14:56:17.298Z"
   },
   {
    "duration": 1122,
    "start_time": "2022-05-21T09:53:03.707Z"
   },
   {
    "duration": 6,
    "start_time": "2022-05-21T09:53:38.824Z"
   },
   {
    "duration": 27,
    "start_time": "2022-05-21T09:56:48.185Z"
   },
   {
    "duration": 22,
    "start_time": "2022-05-21T09:57:51.012Z"
   },
   {
    "duration": 343,
    "start_time": "2022-05-21T09:59:00.426Z"
   },
   {
    "duration": 10,
    "start_time": "2022-05-21T09:59:04.383Z"
   },
   {
    "duration": 27,
    "start_time": "2022-05-21T09:59:07.875Z"
   },
   {
    "duration": 43,
    "start_time": "2022-05-21T10:00:51.267Z"
   },
   {
    "duration": 22,
    "start_time": "2022-05-21T10:07:29.217Z"
   },
   {
    "duration": 22,
    "start_time": "2022-05-21T10:07:31.269Z"
   },
   {
    "duration": 31,
    "start_time": "2022-05-21T10:14:36.320Z"
   },
   {
    "duration": 5,
    "start_time": "2022-05-21T10:14:38.674Z"
   },
   {
    "duration": 38,
    "start_time": "2022-05-21T10:14:46.674Z"
   },
   {
    "duration": 16,
    "start_time": "2022-05-21T10:28:27.461Z"
   },
   {
    "duration": 24,
    "start_time": "2022-05-21T10:28:32.357Z"
   },
   {
    "duration": 6,
    "start_time": "2022-05-21T10:31:21.785Z"
   },
   {
    "duration": 23,
    "start_time": "2022-05-21T10:31:29.566Z"
   },
   {
    "duration": 7,
    "start_time": "2022-05-21T10:31:33.713Z"
   },
   {
    "duration": 5,
    "start_time": "2022-05-21T10:31:35.024Z"
   },
   {
    "duration": 24,
    "start_time": "2022-05-21T10:31:37.554Z"
   },
   {
    "duration": 4,
    "start_time": "2022-05-21T10:38:15.311Z"
   },
   {
    "duration": 106,
    "start_time": "2022-05-21T10:38:49.022Z"
   },
   {
    "duration": 20,
    "start_time": "2022-05-21T10:40:02.862Z"
   },
   {
    "duration": 19,
    "start_time": "2022-05-21T10:41:19.963Z"
   },
   {
    "duration": 41,
    "start_time": "2022-05-21T10:41:30.627Z"
   },
   {
    "duration": 508,
    "start_time": "2022-05-21T10:41:40.906Z"
   },
   {
    "duration": 5,
    "start_time": "2022-05-21T10:41:41.416Z"
   },
   {
    "duration": 22,
    "start_time": "2022-05-21T10:41:41.423Z"
   },
   {
    "duration": 5,
    "start_time": "2022-05-21T10:41:41.447Z"
   },
   {
    "duration": 50,
    "start_time": "2022-05-21T10:41:41.454Z"
   },
   {
    "duration": 6,
    "start_time": "2022-05-21T10:41:41.505Z"
   },
   {
    "duration": 6,
    "start_time": "2022-05-21T10:41:41.512Z"
   },
   {
    "duration": 6,
    "start_time": "2022-05-21T10:41:41.519Z"
   },
   {
    "duration": 24,
    "start_time": "2022-05-21T10:41:41.526Z"
   },
   {
    "duration": 4,
    "start_time": "2022-05-21T10:41:41.553Z"
   },
   {
    "duration": 50,
    "start_time": "2022-05-21T10:41:41.584Z"
   },
   {
    "duration": 113,
    "start_time": "2022-05-21T10:41:41.635Z"
   },
   {
    "duration": 71,
    "start_time": "2022-05-21T10:41:41.750Z"
   },
   {
    "duration": 30,
    "start_time": "2022-05-21T10:41:41.822Z"
   },
   {
    "duration": 57,
    "start_time": "2022-05-21T10:41:41.854Z"
   },
   {
    "duration": 20,
    "start_time": "2022-05-21T10:41:41.913Z"
   },
   {
    "duration": 15,
    "start_time": "2022-05-21T10:41:41.935Z"
   },
   {
    "duration": 48,
    "start_time": "2022-05-21T10:41:41.952Z"
   },
   {
    "duration": 18,
    "start_time": "2022-05-21T10:41:42.002Z"
   },
   {
    "duration": 87,
    "start_time": "2022-05-21T10:45:02.509Z"
   },
   {
    "duration": 86,
    "start_time": "2022-05-21T10:46:06.030Z"
   },
   {
    "duration": 6,
    "start_time": "2022-05-21T10:46:42.321Z"
   },
   {
    "duration": 18,
    "start_time": "2022-05-21T10:49:56.112Z"
   },
   {
    "duration": 97,
    "start_time": "2022-05-21T10:52:59.572Z"
   },
   {
    "duration": 17,
    "start_time": "2022-05-21T10:53:51.418Z"
   },
   {
    "duration": 6,
    "start_time": "2022-05-21T10:59:47.854Z"
   },
   {
    "duration": 11,
    "start_time": "2022-05-21T11:13:32.211Z"
   },
   {
    "duration": 5,
    "start_time": "2022-05-21T11:14:49.818Z"
   },
   {
    "duration": 551,
    "start_time": "2022-05-21T11:15:01.972Z"
   },
   {
    "duration": 5,
    "start_time": "2022-05-21T11:15:02.526Z"
   },
   {
    "duration": 30,
    "start_time": "2022-05-21T11:15:02.532Z"
   },
   {
    "duration": 5,
    "start_time": "2022-05-21T11:15:02.564Z"
   },
   {
    "duration": 35,
    "start_time": "2022-05-21T11:15:02.570Z"
   },
   {
    "duration": 5,
    "start_time": "2022-05-21T11:15:02.607Z"
   },
   {
    "duration": 9,
    "start_time": "2022-05-21T11:15:02.613Z"
   },
   {
    "duration": 7,
    "start_time": "2022-05-21T11:15:02.623Z"
   },
   {
    "duration": 24,
    "start_time": "2022-05-21T11:15:02.632Z"
   },
   {
    "duration": 3,
    "start_time": "2022-05-21T11:15:02.658Z"
   },
   {
    "duration": 37,
    "start_time": "2022-05-21T11:15:02.663Z"
   },
   {
    "duration": 20,
    "start_time": "2022-05-21T11:15:02.701Z"
   },
   {
    "duration": 5,
    "start_time": "2022-05-21T11:15:02.722Z"
   },
   {
    "duration": 13,
    "start_time": "2022-05-21T11:15:02.729Z"
   },
   {
    "duration": 7,
    "start_time": "2022-05-21T11:15:02.743Z"
   },
   {
    "duration": 85,
    "start_time": "2022-05-21T11:15:02.752Z"
   },
   {
    "duration": 73,
    "start_time": "2022-05-21T11:15:02.839Z"
   },
   {
    "duration": 28,
    "start_time": "2022-05-21T11:15:02.913Z"
   },
   {
    "duration": 51,
    "start_time": "2022-05-21T11:15:02.943Z"
   },
   {
    "duration": 30,
    "start_time": "2022-05-21T11:15:02.996Z"
   },
   {
    "duration": 17,
    "start_time": "2022-05-21T11:15:03.028Z"
   },
   {
    "duration": 49,
    "start_time": "2022-05-21T11:15:03.047Z"
   },
   {
    "duration": 18,
    "start_time": "2022-05-21T11:15:03.097Z"
   },
   {
    "duration": 5,
    "start_time": "2022-05-21T11:23:28.977Z"
   },
   {
    "duration": 590,
    "start_time": "2022-05-21T11:25:46.469Z"
   },
   {
    "duration": 9,
    "start_time": "2022-05-21T11:26:08.086Z"
   },
   {
    "duration": 9,
    "start_time": "2022-05-21T11:26:45.870Z"
   },
   {
    "duration": 24,
    "start_time": "2022-05-21T11:26:59.060Z"
   },
   {
    "duration": 564,
    "start_time": "2022-05-21T11:27:35.358Z"
   },
   {
    "duration": 5,
    "start_time": "2022-05-21T11:27:35.925Z"
   },
   {
    "duration": 32,
    "start_time": "2022-05-21T11:27:35.932Z"
   },
   {
    "duration": 5,
    "start_time": "2022-05-21T11:27:35.965Z"
   },
   {
    "duration": 22,
    "start_time": "2022-05-21T11:27:35.985Z"
   },
   {
    "duration": 6,
    "start_time": "2022-05-21T11:27:36.009Z"
   },
   {
    "duration": 7,
    "start_time": "2022-05-21T11:27:36.017Z"
   },
   {
    "duration": 7,
    "start_time": "2022-05-21T11:27:36.026Z"
   },
   {
    "duration": 68,
    "start_time": "2022-05-21T11:27:36.035Z"
   },
   {
    "duration": 4,
    "start_time": "2022-05-21T11:27:36.105Z"
   },
   {
    "duration": 24,
    "start_time": "2022-05-21T11:27:36.110Z"
   },
   {
    "duration": 18,
    "start_time": "2022-05-21T11:27:36.136Z"
   },
   {
    "duration": 28,
    "start_time": "2022-05-21T11:27:36.156Z"
   },
   {
    "duration": 12,
    "start_time": "2022-05-21T11:27:36.187Z"
   },
   {
    "duration": 9,
    "start_time": "2022-05-21T11:27:36.201Z"
   },
   {
    "duration": 4,
    "start_time": "2022-05-21T11:27:36.211Z"
   },
   {
    "duration": 75,
    "start_time": "2022-05-21T11:27:36.217Z"
   },
   {
    "duration": 93,
    "start_time": "2022-05-21T11:27:36.294Z"
   },
   {
    "duration": 32,
    "start_time": "2022-05-21T11:27:36.389Z"
   },
   {
    "duration": 62,
    "start_time": "2022-05-21T11:27:36.423Z"
   },
   {
    "duration": 22,
    "start_time": "2022-05-21T11:27:36.486Z"
   },
   {
    "duration": 24,
    "start_time": "2022-05-21T11:27:36.510Z"
   },
   {
    "duration": 48,
    "start_time": "2022-05-21T11:27:36.535Z"
   },
   {
    "duration": 20,
    "start_time": "2022-05-21T11:27:36.585Z"
   },
   {
    "duration": 4,
    "start_time": "2022-05-21T11:28:30.393Z"
   },
   {
    "duration": 0,
    "start_time": "2022-05-21T11:35:39.420Z"
   },
   {
    "duration": 4,
    "start_time": "2022-05-21T11:35:52.294Z"
   },
   {
    "duration": 4169,
    "start_time": "2022-05-21T11:35:53.858Z"
   },
   {
    "duration": 512,
    "start_time": "2022-05-21T11:36:03.896Z"
   },
   {
    "duration": 5,
    "start_time": "2022-05-21T11:36:04.410Z"
   },
   {
    "duration": 25,
    "start_time": "2022-05-21T11:36:04.417Z"
   },
   {
    "duration": 5,
    "start_time": "2022-05-21T11:36:04.443Z"
   },
   {
    "duration": 41,
    "start_time": "2022-05-21T11:36:04.450Z"
   },
   {
    "duration": 6,
    "start_time": "2022-05-21T11:36:04.493Z"
   },
   {
    "duration": 6,
    "start_time": "2022-05-21T11:36:04.500Z"
   },
   {
    "duration": 6,
    "start_time": "2022-05-21T11:36:04.507Z"
   },
   {
    "duration": 29,
    "start_time": "2022-05-21T11:36:04.514Z"
   },
   {
    "duration": 4,
    "start_time": "2022-05-21T11:36:04.545Z"
   },
   {
    "duration": 46,
    "start_time": "2022-05-21T11:36:04.550Z"
   },
   {
    "duration": 20,
    "start_time": "2022-05-21T11:36:04.598Z"
   },
   {
    "duration": 6,
    "start_time": "2022-05-21T11:36:04.619Z"
   },
   {
    "duration": 12,
    "start_time": "2022-05-21T11:36:04.628Z"
   },
   {
    "duration": 8,
    "start_time": "2022-05-21T11:36:04.642Z"
   },
   {
    "duration": 33,
    "start_time": "2022-05-21T11:36:04.652Z"
   },
   {
    "duration": 6,
    "start_time": "2022-05-21T11:36:04.687Z"
   },
   {
    "duration": 7,
    "start_time": "2022-05-21T11:36:04.694Z"
   },
   {
    "duration": 14,
    "start_time": "2022-05-21T11:36:04.702Z"
   },
   {
    "duration": 67,
    "start_time": "2022-05-21T11:36:04.717Z"
   },
   {
    "duration": 66,
    "start_time": "2022-05-21T11:36:04.786Z"
   },
   {
    "duration": 54,
    "start_time": "2022-05-21T11:36:04.853Z"
   },
   {
    "duration": 32,
    "start_time": "2022-05-21T11:36:04.909Z"
   },
   {
    "duration": 44,
    "start_time": "2022-05-21T11:36:04.943Z"
   },
   {
    "duration": 18,
    "start_time": "2022-05-21T11:36:04.989Z"
   },
   {
    "duration": 19,
    "start_time": "2022-05-21T11:36:05.009Z"
   },
   {
    "duration": 20,
    "start_time": "2022-05-21T11:36:05.030Z"
   },
   {
    "duration": 7,
    "start_time": "2022-05-21T11:42:59.109Z"
   },
   {
    "duration": 1110,
    "start_time": "2022-05-21T11:45:47.122Z"
   },
   {
    "duration": 515,
    "start_time": "2022-05-21T11:46:21.818Z"
   },
   {
    "duration": 4,
    "start_time": "2022-05-21T11:46:22.336Z"
   },
   {
    "duration": 26,
    "start_time": "2022-05-21T11:46:22.341Z"
   },
   {
    "duration": 26,
    "start_time": "2022-05-21T11:46:22.369Z"
   },
   {
    "duration": 28,
    "start_time": "2022-05-21T11:46:22.397Z"
   },
   {
    "duration": 5,
    "start_time": "2022-05-21T11:46:22.427Z"
   },
   {
    "duration": 4,
    "start_time": "2022-05-21T11:46:22.434Z"
   },
   {
    "duration": 5,
    "start_time": "2022-05-21T11:46:22.440Z"
   },
   {
    "duration": 42,
    "start_time": "2022-05-21T11:46:22.446Z"
   },
   {
    "duration": 4,
    "start_time": "2022-05-21T11:46:22.496Z"
   },
   {
    "duration": 27,
    "start_time": "2022-05-21T11:46:22.502Z"
   },
   {
    "duration": 18,
    "start_time": "2022-05-21T11:46:22.531Z"
   },
   {
    "duration": 4,
    "start_time": "2022-05-21T11:46:22.551Z"
   },
   {
    "duration": 44,
    "start_time": "2022-05-21T11:46:22.557Z"
   },
   {
    "duration": 7,
    "start_time": "2022-05-21T11:46:22.603Z"
   },
   {
    "duration": 5,
    "start_time": "2022-05-21T11:46:22.612Z"
   },
   {
    "duration": 5,
    "start_time": "2022-05-21T11:46:22.619Z"
   },
   {
    "duration": 7,
    "start_time": "2022-05-21T11:46:22.625Z"
   },
   {
    "duration": 14,
    "start_time": "2022-05-21T11:46:22.633Z"
   },
   {
    "duration": 8,
    "start_time": "2022-05-21T11:46:22.649Z"
   },
   {
    "duration": 57,
    "start_time": "2022-05-21T11:46:22.658Z"
   },
   {
    "duration": 78,
    "start_time": "2022-05-21T11:46:22.717Z"
   },
   {
    "duration": 40,
    "start_time": "2022-05-21T11:46:22.797Z"
   },
   {
    "duration": 51,
    "start_time": "2022-05-21T11:46:22.839Z"
   },
   {
    "duration": 25,
    "start_time": "2022-05-21T11:46:22.897Z"
   },
   {
    "duration": 17,
    "start_time": "2022-05-21T11:46:22.923Z"
   },
   {
    "duration": 17,
    "start_time": "2022-05-21T11:46:22.941Z"
   },
   {
    "duration": 44,
    "start_time": "2022-05-21T11:46:22.961Z"
   },
   {
    "duration": 5,
    "start_time": "2022-05-21T11:48:03.422Z"
   },
   {
    "duration": 4,
    "start_time": "2022-05-21T11:48:48.577Z"
   },
   {
    "duration": 5,
    "start_time": "2022-05-21T11:49:56.220Z"
   },
   {
    "duration": 28,
    "start_time": "2022-05-21T11:52:30.089Z"
   },
   {
    "duration": 593,
    "start_time": "2022-05-21T11:56:47.739Z"
   },
   {
    "duration": 6,
    "start_time": "2022-05-21T11:56:48.333Z"
   },
   {
    "duration": 22,
    "start_time": "2022-05-21T11:56:48.340Z"
   },
   {
    "duration": 23,
    "start_time": "2022-05-21T11:56:48.364Z"
   },
   {
    "duration": 27,
    "start_time": "2022-05-21T11:56:48.390Z"
   },
   {
    "duration": 6,
    "start_time": "2022-05-21T11:56:48.418Z"
   },
   {
    "duration": 6,
    "start_time": "2022-05-21T11:56:48.425Z"
   },
   {
    "duration": 5,
    "start_time": "2022-05-21T11:56:48.432Z"
   },
   {
    "duration": 62,
    "start_time": "2022-05-21T11:56:48.438Z"
   },
   {
    "duration": 4,
    "start_time": "2022-05-21T11:56:48.504Z"
   },
   {
    "duration": 20,
    "start_time": "2022-05-21T11:56:48.510Z"
   },
   {
    "duration": 19,
    "start_time": "2022-05-21T11:56:48.531Z"
   },
   {
    "duration": 5,
    "start_time": "2022-05-21T11:56:48.552Z"
   },
   {
    "duration": 22,
    "start_time": "2022-05-21T11:56:48.582Z"
   },
   {
    "duration": 9,
    "start_time": "2022-05-21T11:56:48.606Z"
   },
   {
    "duration": 4,
    "start_time": "2022-05-21T11:56:48.616Z"
   },
   {
    "duration": 7,
    "start_time": "2022-05-21T11:56:48.621Z"
   },
   {
    "duration": 7,
    "start_time": "2022-05-21T11:56:48.629Z"
   },
   {
    "duration": 13,
    "start_time": "2022-05-21T11:56:48.637Z"
   },
   {
    "duration": 36,
    "start_time": "2022-05-21T11:56:48.652Z"
   },
   {
    "duration": 8,
    "start_time": "2022-05-21T11:56:48.690Z"
   },
   {
    "duration": 5,
    "start_time": "2022-05-21T11:56:48.700Z"
   },
   {
    "duration": 7,
    "start_time": "2022-05-21T11:56:48.707Z"
   },
   {
    "duration": 24,
    "start_time": "2022-05-21T11:56:48.715Z"
   },
   {
    "duration": 97,
    "start_time": "2022-05-21T11:56:48.740Z"
   },
   {
    "duration": 50,
    "start_time": "2022-05-21T11:56:48.839Z"
   },
   {
    "duration": 35,
    "start_time": "2022-05-21T11:56:48.891Z"
   },
   {
    "duration": 22,
    "start_time": "2022-05-21T11:56:48.929Z"
   },
   {
    "duration": 50,
    "start_time": "2022-05-21T11:56:48.953Z"
   },
   {
    "duration": 18,
    "start_time": "2022-05-21T11:56:49.005Z"
   },
   {
    "duration": 18,
    "start_time": "2022-05-21T11:56:49.024Z"
   },
   {
    "duration": 76,
    "start_time": "2022-05-21T12:36:49.786Z"
   },
   {
    "duration": 532,
    "start_time": "2022-05-21T12:37:04.282Z"
   },
   {
    "duration": 5,
    "start_time": "2022-05-21T12:37:04.816Z"
   },
   {
    "duration": 23,
    "start_time": "2022-05-21T12:37:04.823Z"
   },
   {
    "duration": 5,
    "start_time": "2022-05-21T12:37:04.847Z"
   },
   {
    "duration": 43,
    "start_time": "2022-05-21T12:37:04.854Z"
   },
   {
    "duration": 5,
    "start_time": "2022-05-21T12:37:04.899Z"
   },
   {
    "duration": 5,
    "start_time": "2022-05-21T12:37:04.905Z"
   },
   {
    "duration": 7,
    "start_time": "2022-05-21T12:37:04.911Z"
   },
   {
    "duration": 24,
    "start_time": "2022-05-21T12:37:04.919Z"
   },
   {
    "duration": 4,
    "start_time": "2022-05-21T12:37:04.945Z"
   },
   {
    "duration": 48,
    "start_time": "2022-05-21T12:37:04.950Z"
   },
   {
    "duration": 23,
    "start_time": "2022-05-21T12:37:05.000Z"
   },
   {
    "duration": 5,
    "start_time": "2022-05-21T12:37:05.025Z"
   },
   {
    "duration": 13,
    "start_time": "2022-05-21T12:37:05.033Z"
   },
   {
    "duration": 8,
    "start_time": "2022-05-21T12:37:05.047Z"
   },
   {
    "duration": 28,
    "start_time": "2022-05-21T12:37:05.057Z"
   },
   {
    "duration": 5,
    "start_time": "2022-05-21T12:37:05.087Z"
   },
   {
    "duration": 6,
    "start_time": "2022-05-21T12:37:05.094Z"
   },
   {
    "duration": 13,
    "start_time": "2022-05-21T12:37:05.102Z"
   },
   {
    "duration": 7,
    "start_time": "2022-05-21T12:37:05.117Z"
   },
   {
    "duration": 9,
    "start_time": "2022-05-21T12:37:05.126Z"
   },
   {
    "duration": 4,
    "start_time": "2022-05-21T12:37:05.137Z"
   },
   {
    "duration": 46,
    "start_time": "2022-05-21T12:37:05.142Z"
   },
   {
    "duration": 18,
    "start_time": "2022-05-21T12:37:05.190Z"
   },
   {
    "duration": 12,
    "start_time": "2022-05-21T12:37:05.209Z"
   },
   {
    "duration": 62,
    "start_time": "2022-05-21T12:37:05.223Z"
   },
   {
    "duration": 28,
    "start_time": "2022-05-21T12:37:05.287Z"
   },
   {
    "duration": 30,
    "start_time": "2022-05-21T12:37:05.317Z"
   },
   {
    "duration": 53,
    "start_time": "2022-05-21T12:37:05.348Z"
   },
   {
    "duration": 16,
    "start_time": "2022-05-21T12:37:05.403Z"
   },
   {
    "duration": 20,
    "start_time": "2022-05-21T12:37:05.421Z"
   },
   {
    "duration": 46,
    "start_time": "2022-05-21T12:37:05.443Z"
   },
   {
    "duration": 73,
    "start_time": "2022-05-21T12:41:15.902Z"
   },
   {
    "duration": 531,
    "start_time": "2022-05-21T12:41:22.382Z"
   },
   {
    "duration": 5,
    "start_time": "2022-05-21T12:41:22.916Z"
   },
   {
    "duration": 42,
    "start_time": "2022-05-21T12:41:22.923Z"
   },
   {
    "duration": 5,
    "start_time": "2022-05-21T12:41:22.967Z"
   },
   {
    "duration": 26,
    "start_time": "2022-05-21T12:41:22.975Z"
   },
   {
    "duration": 5,
    "start_time": "2022-05-21T12:41:23.002Z"
   },
   {
    "duration": 5,
    "start_time": "2022-05-21T12:41:23.009Z"
   },
   {
    "duration": 5,
    "start_time": "2022-05-21T12:41:23.015Z"
   },
   {
    "duration": 26,
    "start_time": "2022-05-21T12:41:23.021Z"
   },
   {
    "duration": 3,
    "start_time": "2022-05-21T12:41:23.049Z"
   },
   {
    "duration": 18,
    "start_time": "2022-05-21T12:41:23.083Z"
   },
   {
    "duration": 19,
    "start_time": "2022-05-21T12:41:23.102Z"
   },
   {
    "duration": 5,
    "start_time": "2022-05-21T12:41:23.122Z"
   },
   {
    "duration": 11,
    "start_time": "2022-05-21T12:41:23.131Z"
   },
   {
    "duration": 40,
    "start_time": "2022-05-21T12:41:23.144Z"
   },
   {
    "duration": 4,
    "start_time": "2022-05-21T12:41:23.186Z"
   },
   {
    "duration": 16,
    "start_time": "2022-05-21T12:41:23.192Z"
   },
   {
    "duration": 9,
    "start_time": "2022-05-21T12:41:23.210Z"
   },
   {
    "duration": 12,
    "start_time": "2022-05-21T12:41:23.221Z"
   },
   {
    "duration": 8,
    "start_time": "2022-05-21T12:41:23.235Z"
   },
   {
    "duration": 5,
    "start_time": "2022-05-21T12:41:23.245Z"
   },
   {
    "duration": 13,
    "start_time": "2022-05-21T12:41:23.251Z"
   },
   {
    "duration": 5,
    "start_time": "2022-05-21T12:41:23.283Z"
   },
   {
    "duration": 15,
    "start_time": "2022-05-21T12:41:23.290Z"
   },
   {
    "duration": 14,
    "start_time": "2022-05-21T12:41:23.306Z"
   },
   {
    "duration": 19,
    "start_time": "2022-05-21T12:41:23.321Z"
   },
   {
    "duration": 55,
    "start_time": "2022-05-21T12:41:23.341Z"
   },
   {
    "duration": 28,
    "start_time": "2022-05-21T12:41:23.398Z"
   },
   {
    "duration": 57,
    "start_time": "2022-05-21T12:41:23.427Z"
   },
   {
    "duration": 21,
    "start_time": "2022-05-21T12:41:23.486Z"
   },
   {
    "duration": 17,
    "start_time": "2022-05-21T12:41:23.508Z"
   },
   {
    "duration": 18,
    "start_time": "2022-05-21T12:41:23.527Z"
   },
   {
    "duration": 50,
    "start_time": "2022-05-21T12:41:23.547Z"
   },
   {
    "duration": 528,
    "start_time": "2022-05-21T12:46:05.335Z"
   },
   {
    "duration": 5,
    "start_time": "2022-05-21T12:46:05.864Z"
   },
   {
    "duration": 28,
    "start_time": "2022-05-21T12:46:05.871Z"
   },
   {
    "duration": 4,
    "start_time": "2022-05-21T12:46:05.902Z"
   },
   {
    "duration": 23,
    "start_time": "2022-05-21T12:46:05.909Z"
   },
   {
    "duration": 5,
    "start_time": "2022-05-21T12:46:05.934Z"
   },
   {
    "duration": 8,
    "start_time": "2022-05-21T12:46:05.941Z"
   },
   {
    "duration": 4,
    "start_time": "2022-05-21T12:46:05.951Z"
   },
   {
    "duration": 48,
    "start_time": "2022-05-21T12:46:05.957Z"
   },
   {
    "duration": 3,
    "start_time": "2022-05-21T12:46:06.007Z"
   },
   {
    "duration": 20,
    "start_time": "2022-05-21T12:46:06.012Z"
   },
   {
    "duration": 19,
    "start_time": "2022-05-21T12:46:06.034Z"
   },
   {
    "duration": 30,
    "start_time": "2022-05-21T12:46:06.054Z"
   },
   {
    "duration": 10,
    "start_time": "2022-05-21T12:46:06.088Z"
   },
   {
    "duration": 10,
    "start_time": "2022-05-21T12:46:06.100Z"
   },
   {
    "duration": 4,
    "start_time": "2022-05-21T12:46:06.111Z"
   },
   {
    "duration": 5,
    "start_time": "2022-05-21T12:46:06.116Z"
   },
   {
    "duration": 6,
    "start_time": "2022-05-21T12:46:06.122Z"
   },
   {
    "duration": 12,
    "start_time": "2022-05-21T12:46:06.130Z"
   },
   {
    "duration": 42,
    "start_time": "2022-05-21T12:46:06.144Z"
   },
   {
    "duration": 6,
    "start_time": "2022-05-21T12:46:06.188Z"
   },
   {
    "duration": 4,
    "start_time": "2022-05-21T12:46:06.196Z"
   },
   {
    "duration": 7,
    "start_time": "2022-05-21T12:46:06.202Z"
   },
   {
    "duration": 14,
    "start_time": "2022-05-21T12:46:06.210Z"
   },
   {
    "duration": 12,
    "start_time": "2022-05-21T12:46:06.226Z"
   },
   {
    "duration": 49,
    "start_time": "2022-05-21T12:46:06.240Z"
   },
   {
    "duration": 13,
    "start_time": "2022-05-21T12:46:06.291Z"
   },
   {
    "duration": 37,
    "start_time": "2022-05-21T12:46:06.305Z"
   },
   {
    "duration": 47,
    "start_time": "2022-05-21T12:46:06.344Z"
   },
   {
    "duration": 21,
    "start_time": "2022-05-21T12:46:06.392Z"
   },
   {
    "duration": 18,
    "start_time": "2022-05-21T12:46:06.414Z"
   },
   {
    "duration": 52,
    "start_time": "2022-05-21T12:46:06.434Z"
   },
   {
    "duration": 27,
    "start_time": "2022-05-21T12:46:06.487Z"
   },
   {
    "duration": 5,
    "start_time": "2022-05-21T12:53:33.225Z"
   },
   {
    "duration": 23,
    "start_time": "2022-05-21T12:54:23.031Z"
   },
   {
    "duration": 5,
    "start_time": "2022-05-21T13:00:17.007Z"
   },
   {
    "duration": 24,
    "start_time": "2022-05-21T13:04:45.485Z"
   },
   {
    "duration": 557,
    "start_time": "2022-05-21T13:06:28.072Z"
   },
   {
    "duration": 5,
    "start_time": "2022-05-21T13:06:28.631Z"
   },
   {
    "duration": 29,
    "start_time": "2022-05-21T13:06:28.637Z"
   },
   {
    "duration": 19,
    "start_time": "2022-05-21T13:06:28.668Z"
   },
   {
    "duration": 26,
    "start_time": "2022-05-21T13:06:28.688Z"
   },
   {
    "duration": 7,
    "start_time": "2022-05-21T13:06:28.716Z"
   },
   {
    "duration": 4,
    "start_time": "2022-05-21T13:06:28.725Z"
   },
   {
    "duration": 6,
    "start_time": "2022-05-21T13:06:28.730Z"
   },
   {
    "duration": 51,
    "start_time": "2022-05-21T13:06:28.738Z"
   },
   {
    "duration": 4,
    "start_time": "2022-05-21T13:06:28.791Z"
   },
   {
    "duration": 21,
    "start_time": "2022-05-21T13:06:28.796Z"
   },
   {
    "duration": 18,
    "start_time": "2022-05-21T13:06:28.819Z"
   },
   {
    "duration": 4,
    "start_time": "2022-05-21T13:06:28.839Z"
   },
   {
    "duration": 41,
    "start_time": "2022-05-21T13:06:28.845Z"
   },
   {
    "duration": 15,
    "start_time": "2022-05-21T13:06:28.888Z"
   },
   {
    "duration": 4,
    "start_time": "2022-05-21T13:06:28.905Z"
   },
   {
    "duration": 5,
    "start_time": "2022-05-21T13:06:28.911Z"
   },
   {
    "duration": 7,
    "start_time": "2022-05-21T13:06:28.917Z"
   },
   {
    "duration": 18,
    "start_time": "2022-05-21T13:06:28.926Z"
   },
   {
    "duration": 9,
    "start_time": "2022-05-21T13:06:28.946Z"
   },
   {
    "duration": 29,
    "start_time": "2022-05-21T13:06:28.957Z"
   },
   {
    "duration": 7,
    "start_time": "2022-05-21T13:06:28.987Z"
   },
   {
    "duration": 9,
    "start_time": "2022-05-21T13:06:28.996Z"
   },
   {
    "duration": 21,
    "start_time": "2022-05-21T13:06:29.006Z"
   },
   {
    "duration": 16,
    "start_time": "2022-05-21T13:06:29.029Z"
   },
   {
    "duration": 43,
    "start_time": "2022-05-21T13:06:29.047Z"
   },
   {
    "duration": 13,
    "start_time": "2022-05-21T13:06:29.093Z"
   },
   {
    "duration": 4,
    "start_time": "2022-05-21T13:06:29.109Z"
   },
   {
    "duration": 11,
    "start_time": "2022-05-21T13:06:29.114Z"
   },
   {
    "duration": 4,
    "start_time": "2022-05-21T13:06:29.126Z"
   },
   {
    "duration": 28,
    "start_time": "2022-05-21T13:06:29.132Z"
   },
   {
    "duration": 4,
    "start_time": "2022-05-21T13:06:29.184Z"
   },
   {
    "duration": 17,
    "start_time": "2022-05-21T13:06:29.190Z"
   },
   {
    "duration": 8,
    "start_time": "2022-05-21T13:06:29.209Z"
   },
   {
    "duration": 28,
    "start_time": "2022-05-21T13:06:29.218Z"
   },
   {
    "duration": 44,
    "start_time": "2022-05-21T13:06:29.248Z"
   },
   {
    "duration": 20,
    "start_time": "2022-05-21T13:06:29.294Z"
   },
   {
    "duration": 19,
    "start_time": "2022-05-21T13:06:29.316Z"
   },
   {
    "duration": 21,
    "start_time": "2022-05-21T13:06:29.336Z"
   },
   {
    "duration": 19,
    "start_time": "2022-05-21T13:08:06.778Z"
   },
   {
    "duration": 3,
    "start_time": "2022-05-21T13:26:23.167Z"
   },
   {
    "duration": 2,
    "start_time": "2022-05-21T13:26:25.321Z"
   },
   {
    "duration": 18,
    "start_time": "2022-05-21T13:38:32.263Z"
   },
   {
    "duration": 2,
    "start_time": "2022-05-21T13:43:45.570Z"
   },
   {
    "duration": 21,
    "start_time": "2022-05-21T13:45:34.377Z"
   },
   {
    "duration": 36,
    "start_time": "2022-05-21T13:48:24.850Z"
   },
   {
    "duration": 2,
    "start_time": "2022-05-21T14:03:08.254Z"
   },
   {
    "duration": 566,
    "start_time": "2022-05-21T14:06:06.648Z"
   },
   {
    "duration": 5,
    "start_time": "2022-05-21T14:06:07.216Z"
   },
   {
    "duration": 24,
    "start_time": "2022-05-21T14:06:07.222Z"
   },
   {
    "duration": 5,
    "start_time": "2022-05-21T14:06:07.248Z"
   },
   {
    "duration": 44,
    "start_time": "2022-05-21T14:06:07.255Z"
   },
   {
    "duration": 5,
    "start_time": "2022-05-21T14:06:07.301Z"
   },
   {
    "duration": 5,
    "start_time": "2022-05-21T14:06:07.309Z"
   },
   {
    "duration": 12,
    "start_time": "2022-05-21T14:06:07.316Z"
   },
   {
    "duration": 28,
    "start_time": "2022-05-21T14:06:07.330Z"
   },
   {
    "duration": 28,
    "start_time": "2022-05-21T14:06:07.359Z"
   },
   {
    "duration": 26,
    "start_time": "2022-05-21T14:06:07.389Z"
   },
   {
    "duration": 23,
    "start_time": "2022-05-21T14:06:07.417Z"
   },
   {
    "duration": 4,
    "start_time": "2022-05-21T14:06:07.442Z"
   },
   {
    "duration": 35,
    "start_time": "2022-05-21T14:06:07.450Z"
   },
   {
    "duration": 8,
    "start_time": "2022-05-21T14:06:07.487Z"
   },
   {
    "duration": 5,
    "start_time": "2022-05-21T14:06:07.496Z"
   },
   {
    "duration": 8,
    "start_time": "2022-05-21T14:06:07.503Z"
   },
   {
    "duration": 7,
    "start_time": "2022-05-21T14:06:07.513Z"
   },
   {
    "duration": 14,
    "start_time": "2022-05-21T14:06:07.522Z"
   },
   {
    "duration": 7,
    "start_time": "2022-05-21T14:06:07.538Z"
   },
   {
    "duration": 36,
    "start_time": "2022-05-21T14:06:07.547Z"
   },
   {
    "duration": 5,
    "start_time": "2022-05-21T14:06:07.585Z"
   },
   {
    "duration": 7,
    "start_time": "2022-05-21T14:06:07.592Z"
   },
   {
    "duration": 21,
    "start_time": "2022-05-21T14:06:07.601Z"
   },
   {
    "duration": 14,
    "start_time": "2022-05-21T14:06:07.623Z"
   },
   {
    "duration": 45,
    "start_time": "2022-05-21T14:06:07.639Z"
   },
   {
    "duration": 15,
    "start_time": "2022-05-21T14:06:07.687Z"
   },
   {
    "duration": 5,
    "start_time": "2022-05-21T14:06:07.704Z"
   },
   {
    "duration": 13,
    "start_time": "2022-05-21T14:06:07.711Z"
   },
   {
    "duration": 8,
    "start_time": "2022-05-21T14:06:07.726Z"
   },
   {
    "duration": 52,
    "start_time": "2022-05-21T14:06:07.737Z"
   },
   {
    "duration": 4,
    "start_time": "2022-05-21T14:06:07.792Z"
   },
   {
    "duration": 14,
    "start_time": "2022-05-21T14:06:07.798Z"
   },
   {
    "duration": 9,
    "start_time": "2022-05-21T14:06:07.814Z"
   },
   {
    "duration": 27,
    "start_time": "2022-05-21T14:06:07.825Z"
   },
   {
    "duration": 53,
    "start_time": "2022-05-21T14:06:07.854Z"
   },
   {
    "duration": 27,
    "start_time": "2022-05-21T14:06:07.909Z"
   },
   {
    "duration": 46,
    "start_time": "2022-05-21T14:06:07.939Z"
   },
   {
    "duration": 27,
    "start_time": "2022-05-21T14:06:07.987Z"
   },
   {
    "duration": 591,
    "start_time": "2022-05-21T14:33:34.558Z"
   },
   {
    "duration": 5,
    "start_time": "2022-05-21T14:33:35.151Z"
   },
   {
    "duration": 35,
    "start_time": "2022-05-21T14:33:35.158Z"
   },
   {
    "duration": 5,
    "start_time": "2022-05-21T14:33:35.195Z"
   },
   {
    "duration": 23,
    "start_time": "2022-05-21T14:33:35.201Z"
   },
   {
    "duration": 6,
    "start_time": "2022-05-21T14:33:35.226Z"
   },
   {
    "duration": 5,
    "start_time": "2022-05-21T14:33:35.234Z"
   },
   {
    "duration": 7,
    "start_time": "2022-05-21T14:33:35.240Z"
   },
   {
    "duration": 63,
    "start_time": "2022-05-21T14:33:35.249Z"
   },
   {
    "duration": 4,
    "start_time": "2022-05-21T14:33:35.315Z"
   },
   {
    "duration": 23,
    "start_time": "2022-05-21T14:33:35.321Z"
   },
   {
    "duration": 41,
    "start_time": "2022-05-21T14:33:35.346Z"
   },
   {
    "duration": 5,
    "start_time": "2022-05-21T14:33:35.389Z"
   },
   {
    "duration": 12,
    "start_time": "2022-05-21T14:33:35.396Z"
   },
   {
    "duration": 8,
    "start_time": "2022-05-21T14:33:35.410Z"
   },
   {
    "duration": 4,
    "start_time": "2022-05-21T14:33:35.420Z"
   },
   {
    "duration": 7,
    "start_time": "2022-05-21T14:33:35.425Z"
   },
   {
    "duration": 5,
    "start_time": "2022-05-21T14:33:35.433Z"
   },
   {
    "duration": 45,
    "start_time": "2022-05-21T14:33:35.440Z"
   },
   {
    "duration": 8,
    "start_time": "2022-05-21T14:33:35.486Z"
   },
   {
    "duration": 10,
    "start_time": "2022-05-21T14:33:35.495Z"
   },
   {
    "duration": 4,
    "start_time": "2022-05-21T14:33:35.507Z"
   },
   {
    "duration": 11,
    "start_time": "2022-05-21T14:33:35.513Z"
   },
   {
    "duration": 19,
    "start_time": "2022-05-21T14:33:35.526Z"
   },
   {
    "duration": 12,
    "start_time": "2022-05-21T14:33:35.547Z"
   },
   {
    "duration": 36,
    "start_time": "2022-05-21T14:33:35.560Z"
   },
   {
    "duration": 14,
    "start_time": "2022-05-21T14:33:35.598Z"
   },
   {
    "duration": 3,
    "start_time": "2022-05-21T14:33:35.615Z"
   },
   {
    "duration": 12,
    "start_time": "2022-05-21T14:33:35.620Z"
   },
   {
    "duration": 7,
    "start_time": "2022-05-21T14:33:35.634Z"
   },
   {
    "duration": 46,
    "start_time": "2022-05-21T14:33:35.642Z"
   },
   {
    "duration": 4,
    "start_time": "2022-05-21T14:33:35.690Z"
   },
   {
    "duration": 12,
    "start_time": "2022-05-21T14:33:35.695Z"
   },
   {
    "duration": 6,
    "start_time": "2022-05-21T14:33:35.709Z"
   },
   {
    "duration": 23,
    "start_time": "2022-05-21T14:33:35.717Z"
   },
   {
    "duration": 53,
    "start_time": "2022-05-21T14:33:35.741Z"
   },
   {
    "duration": 20,
    "start_time": "2022-05-21T14:33:35.796Z"
   },
   {
    "duration": 18,
    "start_time": "2022-05-21T14:33:35.817Z"
   },
   {
    "duration": 48,
    "start_time": "2022-05-21T14:33:35.837Z"
   },
   {
    "duration": 1045,
    "start_time": "2022-05-21T16:26:21.185Z"
   },
   {
    "duration": 5,
    "start_time": "2022-05-21T16:26:22.231Z"
   },
   {
    "duration": 24,
    "start_time": "2022-05-21T16:26:22.237Z"
   },
   {
    "duration": 5,
    "start_time": "2022-05-21T16:26:22.262Z"
   },
   {
    "duration": 24,
    "start_time": "2022-05-21T16:26:22.268Z"
   },
   {
    "duration": 5,
    "start_time": "2022-05-21T16:26:22.294Z"
   },
   {
    "duration": 5,
    "start_time": "2022-05-21T16:26:22.300Z"
   },
   {
    "duration": 4,
    "start_time": "2022-05-21T16:26:22.306Z"
   },
   {
    "duration": 45,
    "start_time": "2022-05-21T16:26:22.312Z"
   },
   {
    "duration": 4,
    "start_time": "2022-05-21T16:26:22.359Z"
   },
   {
    "duration": 24,
    "start_time": "2022-05-21T16:26:22.364Z"
   },
   {
    "duration": 19,
    "start_time": "2022-05-21T16:26:22.389Z"
   },
   {
    "duration": 4,
    "start_time": "2022-05-21T16:26:22.410Z"
   },
   {
    "duration": 10,
    "start_time": "2022-05-21T16:26:22.443Z"
   },
   {
    "duration": 12,
    "start_time": "2022-05-21T16:26:22.455Z"
   },
   {
    "duration": 4,
    "start_time": "2022-05-21T16:26:22.468Z"
   },
   {
    "duration": 5,
    "start_time": "2022-05-21T16:26:22.474Z"
   },
   {
    "duration": 6,
    "start_time": "2022-05-21T16:26:22.480Z"
   },
   {
    "duration": 14,
    "start_time": "2022-05-21T16:26:22.487Z"
   },
   {
    "duration": 8,
    "start_time": "2022-05-21T16:26:22.502Z"
   },
   {
    "duration": 4,
    "start_time": "2022-05-21T16:26:22.542Z"
   },
   {
    "duration": 7,
    "start_time": "2022-05-21T16:26:22.547Z"
   },
   {
    "duration": 7,
    "start_time": "2022-05-21T16:26:22.555Z"
   },
   {
    "duration": 15,
    "start_time": "2022-05-21T16:26:22.563Z"
   },
   {
    "duration": 11,
    "start_time": "2022-05-21T16:26:22.580Z"
   },
   {
    "duration": 13,
    "start_time": "2022-05-21T16:26:22.593Z"
   },
   {
    "duration": 44,
    "start_time": "2022-05-21T16:26:22.608Z"
   },
   {
    "duration": 3,
    "start_time": "2022-05-21T16:26:22.654Z"
   },
   {
    "duration": 11,
    "start_time": "2022-05-21T16:26:22.658Z"
   },
   {
    "duration": 5,
    "start_time": "2022-05-21T16:26:22.670Z"
   },
   {
    "duration": 21,
    "start_time": "2022-05-21T16:26:22.676Z"
   },
   {
    "duration": 3,
    "start_time": "2022-05-21T16:26:22.699Z"
   },
   {
    "duration": 44,
    "start_time": "2022-05-21T16:26:22.703Z"
   },
   {
    "duration": 5,
    "start_time": "2022-05-21T16:26:22.748Z"
   },
   {
    "duration": 23,
    "start_time": "2022-05-21T16:26:22.754Z"
   },
   {
    "duration": 20,
    "start_time": "2022-05-21T16:26:22.779Z"
   },
   {
    "duration": 42,
    "start_time": "2022-05-21T16:26:22.800Z"
   },
   {
    "duration": 18,
    "start_time": "2022-05-21T16:26:22.844Z"
   },
   {
    "duration": 18,
    "start_time": "2022-05-21T16:26:22.864Z"
   },
   {
    "duration": 497,
    "start_time": "2022-05-21T16:37:49.193Z"
   },
   {
    "duration": 6,
    "start_time": "2022-05-21T16:37:49.693Z"
   },
   {
    "duration": 42,
    "start_time": "2022-05-21T16:37:49.700Z"
   },
   {
    "duration": 5,
    "start_time": "2022-05-21T16:37:49.745Z"
   },
   {
    "duration": 32,
    "start_time": "2022-05-21T16:37:49.752Z"
   },
   {
    "duration": 6,
    "start_time": "2022-05-21T16:37:49.786Z"
   },
   {
    "duration": 6,
    "start_time": "2022-05-21T16:37:49.794Z"
   },
   {
    "duration": 40,
    "start_time": "2022-05-21T16:37:49.802Z"
   },
   {
    "duration": 27,
    "start_time": "2022-05-21T16:37:49.844Z"
   },
   {
    "duration": 4,
    "start_time": "2022-05-21T16:37:49.874Z"
   },
   {
    "duration": 44,
    "start_time": "2022-05-21T16:37:49.879Z"
   },
   {
    "duration": 35,
    "start_time": "2022-05-21T16:37:49.925Z"
   },
   {
    "duration": 6,
    "start_time": "2022-05-21T16:37:49.963Z"
   },
   {
    "duration": 28,
    "start_time": "2022-05-21T16:37:49.971Z"
   },
   {
    "duration": 16,
    "start_time": "2022-05-21T16:37:50.001Z"
   },
   {
    "duration": 7,
    "start_time": "2022-05-21T16:37:50.018Z"
   },
   {
    "duration": 17,
    "start_time": "2022-05-21T16:37:50.027Z"
   },
   {
    "duration": 7,
    "start_time": "2022-05-21T16:37:50.046Z"
   },
   {
    "duration": 19,
    "start_time": "2022-05-21T16:37:50.055Z"
   },
   {
    "duration": 15,
    "start_time": "2022-05-21T16:37:50.076Z"
   },
   {
    "duration": 11,
    "start_time": "2022-05-21T16:37:50.093Z"
   },
   {
    "duration": 8,
    "start_time": "2022-05-21T16:37:50.106Z"
   },
   {
    "duration": 8,
    "start_time": "2022-05-21T16:37:50.142Z"
   },
   {
    "duration": 22,
    "start_time": "2022-05-21T16:37:50.152Z"
   },
   {
    "duration": 17,
    "start_time": "2022-05-21T16:37:50.177Z"
   },
   {
    "duration": 46,
    "start_time": "2022-05-21T16:37:50.196Z"
   },
   {
    "duration": 20,
    "start_time": "2022-05-21T16:37:50.244Z"
   },
   {
    "duration": 3,
    "start_time": "2022-05-21T16:37:50.268Z"
   },
   {
    "duration": 12,
    "start_time": "2022-05-21T16:37:50.273Z"
   },
   {
    "duration": 11,
    "start_time": "2022-05-21T16:37:50.287Z"
   },
   {
    "duration": 47,
    "start_time": "2022-05-21T16:37:50.299Z"
   },
   {
    "duration": 4,
    "start_time": "2022-05-21T16:37:50.348Z"
   },
   {
    "duration": 19,
    "start_time": "2022-05-21T16:37:50.353Z"
   },
   {
    "duration": 7,
    "start_time": "2022-05-21T16:37:50.374Z"
   },
   {
    "duration": 39,
    "start_time": "2022-05-21T16:37:50.382Z"
   },
   {
    "duration": 21,
    "start_time": "2022-05-21T16:37:50.441Z"
   },
   {
    "duration": 18,
    "start_time": "2022-05-21T16:37:50.464Z"
   },
   {
    "duration": 18,
    "start_time": "2022-05-21T16:37:50.484Z"
   },
   {
    "duration": 62,
    "start_time": "2022-05-21T16:37:50.504Z"
   },
   {
    "duration": 61,
    "start_time": "2022-05-21T19:18:09.494Z"
   },
   {
    "duration": 580,
    "start_time": "2022-05-21T19:18:17.101Z"
   },
   {
    "duration": 5,
    "start_time": "2022-05-21T19:18:17.683Z"
   },
   {
    "duration": 31,
    "start_time": "2022-05-21T19:18:17.689Z"
   },
   {
    "duration": 7,
    "start_time": "2022-05-21T19:18:17.723Z"
   },
   {
    "duration": 27,
    "start_time": "2022-05-21T19:18:17.732Z"
   },
   {
    "duration": 14,
    "start_time": "2022-05-21T19:18:17.761Z"
   },
   {
    "duration": 10,
    "start_time": "2022-05-21T19:18:17.777Z"
   },
   {
    "duration": 10,
    "start_time": "2022-05-21T19:18:17.789Z"
   },
   {
    "duration": 37,
    "start_time": "2022-05-21T19:18:17.801Z"
   },
   {
    "duration": 4,
    "start_time": "2022-05-21T19:18:17.840Z"
   },
   {
    "duration": 26,
    "start_time": "2022-05-21T19:18:17.845Z"
   },
   {
    "duration": 29,
    "start_time": "2022-05-21T19:18:17.873Z"
   },
   {
    "duration": 5,
    "start_time": "2022-05-21T19:18:17.904Z"
   },
   {
    "duration": 19,
    "start_time": "2022-05-21T19:18:17.910Z"
   },
   {
    "duration": 19,
    "start_time": "2022-05-21T19:18:17.930Z"
   },
   {
    "duration": 21,
    "start_time": "2022-05-21T19:18:17.950Z"
   },
   {
    "duration": 12,
    "start_time": "2022-05-21T19:18:17.973Z"
   },
   {
    "duration": 24,
    "start_time": "2022-05-21T19:18:17.987Z"
   },
   {
    "duration": 29,
    "start_time": "2022-05-21T19:18:18.012Z"
   },
   {
    "duration": 10,
    "start_time": "2022-05-21T19:18:18.042Z"
   },
   {
    "duration": 19,
    "start_time": "2022-05-21T19:18:18.054Z"
   },
   {
    "duration": 24,
    "start_time": "2022-05-21T19:18:18.075Z"
   },
   {
    "duration": 17,
    "start_time": "2022-05-21T19:18:18.100Z"
   },
   {
    "duration": 24,
    "start_time": "2022-05-21T19:18:18.118Z"
   },
   {
    "duration": 12,
    "start_time": "2022-05-21T19:18:18.144Z"
   },
   {
    "duration": 22,
    "start_time": "2022-05-21T19:18:18.158Z"
   },
   {
    "duration": 22,
    "start_time": "2022-05-21T19:18:18.182Z"
   },
   {
    "duration": 4,
    "start_time": "2022-05-21T19:18:18.208Z"
   },
   {
    "duration": 20,
    "start_time": "2022-05-21T19:18:18.214Z"
   },
   {
    "duration": 8,
    "start_time": "2022-05-21T19:18:18.236Z"
   },
   {
    "duration": 25,
    "start_time": "2022-05-21T19:18:18.246Z"
   },
   {
    "duration": 22,
    "start_time": "2022-05-21T19:18:18.272Z"
   },
   {
    "duration": 13,
    "start_time": "2022-05-21T19:18:18.296Z"
   },
   {
    "duration": 8,
    "start_time": "2022-05-21T19:18:18.311Z"
   },
   {
    "duration": 24,
    "start_time": "2022-05-21T19:18:18.321Z"
   },
   {
    "duration": 20,
    "start_time": "2022-05-21T19:18:18.346Z"
   },
   {
    "duration": 40,
    "start_time": "2022-05-21T19:18:18.368Z"
   },
   {
    "duration": 18,
    "start_time": "2022-05-21T19:18:18.409Z"
   },
   {
    "duration": 18,
    "start_time": "2022-05-21T19:18:18.429Z"
   },
   {
    "duration": 62,
    "start_time": "2022-05-24T10:16:29.304Z"
   },
   {
    "duration": 6,
    "start_time": "2022-05-24T10:16:33.625Z"
   },
   {
    "duration": 606,
    "start_time": "2022-05-24T10:16:44.461Z"
   },
   {
    "duration": 6,
    "start_time": "2022-05-24T10:16:45.070Z"
   },
   {
    "duration": 32,
    "start_time": "2022-05-24T10:16:45.078Z"
   },
   {
    "duration": 6,
    "start_time": "2022-05-24T10:16:45.113Z"
   },
   {
    "duration": 38,
    "start_time": "2022-05-24T10:16:45.121Z"
   },
   {
    "duration": 4,
    "start_time": "2022-05-24T10:16:45.160Z"
   },
   {
    "duration": 6,
    "start_time": "2022-05-24T10:16:45.166Z"
   },
   {
    "duration": 9,
    "start_time": "2022-05-24T10:16:45.174Z"
   },
   {
    "duration": 45,
    "start_time": "2022-05-24T10:16:45.185Z"
   },
   {
    "duration": 4,
    "start_time": "2022-05-24T10:16:45.233Z"
   },
   {
    "duration": 23,
    "start_time": "2022-05-24T10:16:45.238Z"
   },
   {
    "duration": 18,
    "start_time": "2022-05-24T10:16:45.263Z"
   },
   {
    "duration": 32,
    "start_time": "2022-05-24T10:16:45.283Z"
   },
   {
    "duration": 14,
    "start_time": "2022-05-24T10:16:45.317Z"
   },
   {
    "duration": 8,
    "start_time": "2022-05-24T10:16:45.333Z"
   },
   {
    "duration": 4,
    "start_time": "2022-05-24T10:16:45.343Z"
   },
   {
    "duration": 5,
    "start_time": "2022-05-24T10:16:45.349Z"
   },
   {
    "duration": 7,
    "start_time": "2022-05-24T10:16:45.356Z"
   },
   {
    "duration": 48,
    "start_time": "2022-05-24T10:16:45.364Z"
   },
   {
    "duration": 8,
    "start_time": "2022-05-24T10:16:45.414Z"
   },
   {
    "duration": 8,
    "start_time": "2022-05-24T10:16:45.423Z"
   },
   {
    "duration": 10,
    "start_time": "2022-05-24T10:16:45.432Z"
   },
   {
    "duration": 8,
    "start_time": "2022-05-24T10:16:45.444Z"
   },
   {
    "duration": 29,
    "start_time": "2022-05-24T10:16:45.454Z"
   },
   {
    "duration": 34,
    "start_time": "2022-05-24T10:16:45.492Z"
   },
   {
    "duration": 19,
    "start_time": "2022-05-24T10:16:45.528Z"
   },
   {
    "duration": 15,
    "start_time": "2022-05-24T10:16:45.549Z"
   },
   {
    "duration": 7,
    "start_time": "2022-05-24T10:16:45.567Z"
   },
   {
    "duration": 40,
    "start_time": "2022-05-24T10:16:45.576Z"
   },
   {
    "duration": 4,
    "start_time": "2022-05-24T10:16:45.618Z"
   },
   {
    "duration": 30,
    "start_time": "2022-05-24T10:16:45.624Z"
   },
   {
    "duration": 4,
    "start_time": "2022-05-24T10:16:45.656Z"
   },
   {
    "duration": 13,
    "start_time": "2022-05-24T10:16:45.662Z"
   },
   {
    "duration": 10,
    "start_time": "2022-05-24T10:16:45.676Z"
   },
   {
    "duration": 24,
    "start_time": "2022-05-24T10:16:45.711Z"
   },
   {
    "duration": 22,
    "start_time": "2022-05-24T10:16:45.737Z"
   },
   {
    "duration": 24,
    "start_time": "2022-05-24T10:16:45.761Z"
   },
   {
    "duration": 50,
    "start_time": "2022-05-24T10:16:45.787Z"
   },
   {
    "duration": 29,
    "start_time": "2022-05-24T10:16:45.839Z"
   },
   {
    "duration": 4,
    "start_time": "2022-05-24T10:19:27.711Z"
   },
   {
    "duration": 5,
    "start_time": "2022-05-24T10:22:09.675Z"
   },
   {
    "duration": 104,
    "start_time": "2022-05-24T10:25:07.974Z"
   },
   {
    "duration": 16,
    "start_time": "2022-05-24T10:25:55.316Z"
   },
   {
    "duration": 11,
    "start_time": "2022-05-24T10:26:22.606Z"
   },
   {
    "duration": 19,
    "start_time": "2022-05-24T10:27:11.780Z"
   },
   {
    "duration": 659,
    "start_time": "2022-05-24T10:27:26.342Z"
   },
   {
    "duration": 6,
    "start_time": "2022-05-24T10:27:27.004Z"
   },
   {
    "duration": 27,
    "start_time": "2022-05-24T10:27:27.012Z"
   },
   {
    "duration": 8,
    "start_time": "2022-05-24T10:27:27.042Z"
   },
   {
    "duration": 28,
    "start_time": "2022-05-24T10:27:27.051Z"
   },
   {
    "duration": 4,
    "start_time": "2022-05-24T10:27:27.081Z"
   },
   {
    "duration": 28,
    "start_time": "2022-05-24T10:27:27.087Z"
   },
   {
    "duration": 4,
    "start_time": "2022-05-24T10:27:27.118Z"
   },
   {
    "duration": 41,
    "start_time": "2022-05-24T10:27:27.125Z"
   },
   {
    "duration": 7,
    "start_time": "2022-05-24T10:27:27.169Z"
   },
   {
    "duration": 53,
    "start_time": "2022-05-24T10:27:27.178Z"
   },
   {
    "duration": 26,
    "start_time": "2022-05-24T10:27:27.233Z"
   },
   {
    "duration": 13,
    "start_time": "2022-05-24T10:27:27.262Z"
   },
   {
    "duration": 18,
    "start_time": "2022-05-24T10:27:27.277Z"
   },
   {
    "duration": 30,
    "start_time": "2022-05-24T10:27:27.297Z"
   },
   {
    "duration": 7,
    "start_time": "2022-05-24T10:27:27.329Z"
   },
   {
    "duration": 8,
    "start_time": "2022-05-24T10:27:27.338Z"
   },
   {
    "duration": 8,
    "start_time": "2022-05-24T10:27:27.349Z"
   },
   {
    "duration": 15,
    "start_time": "2022-05-24T10:27:27.359Z"
   },
   {
    "duration": 11,
    "start_time": "2022-05-24T10:27:27.376Z"
   },
   {
    "duration": 6,
    "start_time": "2022-05-24T10:27:27.412Z"
   },
   {
    "duration": 11,
    "start_time": "2022-05-24T10:27:27.420Z"
   },
   {
    "duration": 9,
    "start_time": "2022-05-24T10:27:27.433Z"
   },
   {
    "duration": 23,
    "start_time": "2022-05-24T10:27:27.444Z"
   },
   {
    "duration": 44,
    "start_time": "2022-05-24T10:27:27.469Z"
   },
   {
    "duration": 20,
    "start_time": "2022-05-24T10:27:27.515Z"
   },
   {
    "duration": 18,
    "start_time": "2022-05-24T10:27:27.538Z"
   },
   {
    "duration": 5,
    "start_time": "2022-05-24T10:27:27.560Z"
   },
   {
    "duration": 15,
    "start_time": "2022-05-24T10:27:27.567Z"
   },
   {
    "duration": 38,
    "start_time": "2022-05-24T10:27:27.583Z"
   },
   {
    "duration": 24,
    "start_time": "2022-05-24T10:27:27.623Z"
   },
   {
    "duration": 3,
    "start_time": "2022-05-24T10:27:27.649Z"
   },
   {
    "duration": 11,
    "start_time": "2022-05-24T10:27:27.654Z"
   },
   {
    "duration": 8,
    "start_time": "2022-05-24T10:27:27.668Z"
   },
   {
    "duration": 62,
    "start_time": "2022-05-24T10:27:27.678Z"
   },
   {
    "duration": 20,
    "start_time": "2022-05-24T10:27:27.742Z"
   },
   {
    "duration": 19,
    "start_time": "2022-05-24T10:27:27.764Z"
   },
   {
    "duration": 55,
    "start_time": "2022-05-24T10:27:27.785Z"
   },
   {
    "duration": 28,
    "start_time": "2022-05-24T10:27:27.842Z"
   },
   {
    "duration": 110,
    "start_time": "2022-05-24T10:27:45.975Z"
   },
   {
    "duration": 121,
    "start_time": "2022-05-24T10:27:53.313Z"
   },
   {
    "duration": 13,
    "start_time": "2022-05-24T10:28:00.075Z"
   },
   {
    "duration": 29,
    "start_time": "2022-05-24T10:28:06.733Z"
   },
   {
    "duration": 128,
    "start_time": "2022-05-24T10:28:12.098Z"
   },
   {
    "duration": 19,
    "start_time": "2022-05-24T10:28:17.955Z"
   },
   {
    "duration": 20,
    "start_time": "2022-05-24T10:28:29.645Z"
   },
   {
    "duration": 669,
    "start_time": "2022-05-24T10:29:13.866Z"
   },
   {
    "duration": 6,
    "start_time": "2022-05-24T10:29:14.537Z"
   },
   {
    "duration": 43,
    "start_time": "2022-05-24T10:29:14.545Z"
   },
   {
    "duration": 6,
    "start_time": "2022-05-24T10:29:14.591Z"
   },
   {
    "duration": 31,
    "start_time": "2022-05-24T10:29:14.613Z"
   },
   {
    "duration": 5,
    "start_time": "2022-05-24T10:29:14.646Z"
   },
   {
    "duration": 21,
    "start_time": "2022-05-24T10:29:14.653Z"
   },
   {
    "duration": 22,
    "start_time": "2022-05-24T10:29:14.677Z"
   },
   {
    "duration": 48,
    "start_time": "2022-05-24T10:29:14.701Z"
   },
   {
    "duration": 7,
    "start_time": "2022-05-24T10:29:14.753Z"
   },
   {
    "duration": 36,
    "start_time": "2022-05-24T10:29:14.762Z"
   },
   {
    "duration": 29,
    "start_time": "2022-05-24T10:29:14.813Z"
   },
   {
    "duration": 8,
    "start_time": "2022-05-24T10:29:14.844Z"
   },
   {
    "duration": 27,
    "start_time": "2022-05-24T10:29:14.854Z"
   },
   {
    "duration": 50,
    "start_time": "2022-05-24T10:29:14.883Z"
   },
   {
    "duration": 19,
    "start_time": "2022-05-24T10:29:14.935Z"
   },
   {
    "duration": 17,
    "start_time": "2022-05-24T10:29:14.956Z"
   },
   {
    "duration": 17,
    "start_time": "2022-05-24T10:29:14.974Z"
   },
   {
    "duration": 30,
    "start_time": "2022-05-24T10:29:14.994Z"
   },
   {
    "duration": 30,
    "start_time": "2022-05-24T10:29:15.027Z"
   },
   {
    "duration": 23,
    "start_time": "2022-05-24T10:29:15.060Z"
   },
   {
    "duration": 6,
    "start_time": "2022-05-24T10:29:15.085Z"
   },
   {
    "duration": 13,
    "start_time": "2022-05-24T10:29:15.093Z"
   },
   {
    "duration": 38,
    "start_time": "2022-05-24T10:29:15.108Z"
   },
   {
    "duration": 25,
    "start_time": "2022-05-24T10:29:15.148Z"
   },
   {
    "duration": 22,
    "start_time": "2022-05-24T10:29:15.175Z"
   },
   {
    "duration": 30,
    "start_time": "2022-05-24T10:29:15.199Z"
   },
   {
    "duration": 8,
    "start_time": "2022-05-24T10:29:15.233Z"
   },
   {
    "duration": 30,
    "start_time": "2022-05-24T10:29:15.244Z"
   },
   {
    "duration": 21,
    "start_time": "2022-05-24T10:29:15.277Z"
   },
   {
    "duration": 33,
    "start_time": "2022-05-24T10:29:15.300Z"
   },
   {
    "duration": 9,
    "start_time": "2022-05-24T10:29:15.335Z"
   },
   {
    "duration": 27,
    "start_time": "2022-05-24T10:29:15.346Z"
   },
   {
    "duration": 13,
    "start_time": "2022-05-24T10:29:15.377Z"
   },
   {
    "duration": 40,
    "start_time": "2022-05-24T10:29:15.392Z"
   },
   {
    "duration": 35,
    "start_time": "2022-05-24T10:29:15.434Z"
   },
   {
    "duration": 46,
    "start_time": "2022-05-24T10:29:15.471Z"
   },
   {
    "duration": 38,
    "start_time": "2022-05-24T10:29:15.519Z"
   },
   {
    "duration": 28,
    "start_time": "2022-05-24T10:29:15.559Z"
   },
   {
    "duration": 32,
    "start_time": "2022-05-24T10:33:59.198Z"
   },
   {
    "duration": 559,
    "start_time": "2022-05-24T10:35:30.825Z"
   },
   {
    "duration": 8,
    "start_time": "2022-05-24T10:35:31.387Z"
   },
   {
    "duration": 74,
    "start_time": "2022-05-24T10:35:31.397Z"
   },
   {
    "duration": 7,
    "start_time": "2022-05-24T10:35:31.474Z"
   },
   {
    "duration": 39,
    "start_time": "2022-05-24T10:35:31.484Z"
   },
   {
    "duration": 9,
    "start_time": "2022-05-24T10:35:31.525Z"
   },
   {
    "duration": 10,
    "start_time": "2022-05-24T10:35:31.536Z"
   },
   {
    "duration": 17,
    "start_time": "2022-05-24T10:35:31.548Z"
   },
   {
    "duration": 34,
    "start_time": "2022-05-24T10:35:31.567Z"
   },
   {
    "duration": 14,
    "start_time": "2022-05-24T10:35:31.604Z"
   },
   {
    "duration": 34,
    "start_time": "2022-05-24T10:35:31.621Z"
   },
   {
    "duration": 23,
    "start_time": "2022-05-24T10:35:31.658Z"
   },
   {
    "duration": 6,
    "start_time": "2022-05-24T10:35:31.683Z"
   },
   {
    "duration": 59,
    "start_time": "2022-05-24T10:35:31.691Z"
   },
   {
    "duration": 19,
    "start_time": "2022-05-24T10:35:31.754Z"
   },
   {
    "duration": 11,
    "start_time": "2022-05-24T10:35:31.776Z"
   },
   {
    "duration": 12,
    "start_time": "2022-05-24T10:35:31.789Z"
   },
   {
    "duration": 17,
    "start_time": "2022-05-24T10:35:31.803Z"
   },
   {
    "duration": 20,
    "start_time": "2022-05-24T10:35:31.822Z"
   },
   {
    "duration": 18,
    "start_time": "2022-05-24T10:35:31.844Z"
   },
   {
    "duration": 29,
    "start_time": "2022-05-24T10:35:31.865Z"
   },
   {
    "duration": 25,
    "start_time": "2022-05-24T10:35:31.896Z"
   },
   {
    "duration": 28,
    "start_time": "2022-05-24T10:35:31.923Z"
   },
   {
    "duration": 23,
    "start_time": "2022-05-24T10:35:31.954Z"
   },
   {
    "duration": 32,
    "start_time": "2022-05-24T10:35:31.980Z"
   },
   {
    "duration": 24,
    "start_time": "2022-05-24T10:35:32.014Z"
   },
   {
    "duration": 20,
    "start_time": "2022-05-24T10:35:32.040Z"
   },
   {
    "duration": 6,
    "start_time": "2022-05-24T10:35:32.066Z"
   },
   {
    "duration": 50,
    "start_time": "2022-05-24T10:35:32.074Z"
   },
   {
    "duration": 7,
    "start_time": "2022-05-24T10:35:32.126Z"
   },
   {
    "duration": 38,
    "start_time": "2022-05-24T10:35:32.135Z"
   },
   {
    "duration": 5,
    "start_time": "2022-05-24T10:35:32.175Z"
   },
   {
    "duration": 32,
    "start_time": "2022-05-24T10:35:32.182Z"
   },
   {
    "duration": 15,
    "start_time": "2022-05-24T10:35:32.216Z"
   },
   {
    "duration": 33,
    "start_time": "2022-05-24T10:35:32.233Z"
   },
   {
    "duration": 44,
    "start_time": "2022-05-24T10:35:32.269Z"
   },
   {
    "duration": 23,
    "start_time": "2022-05-24T10:35:32.315Z"
   },
   {
    "duration": 21,
    "start_time": "2022-05-24T10:35:32.341Z"
   },
   {
    "duration": 59,
    "start_time": "2022-05-24T10:35:32.364Z"
   },
   {
    "duration": 507,
    "start_time": "2022-05-24T10:36:21.763Z"
   },
   {
    "duration": 5,
    "start_time": "2022-05-24T10:36:22.272Z"
   },
   {
    "duration": 40,
    "start_time": "2022-05-24T10:36:22.278Z"
   },
   {
    "duration": 6,
    "start_time": "2022-05-24T10:36:22.321Z"
   },
   {
    "duration": 21,
    "start_time": "2022-05-24T10:36:22.329Z"
   },
   {
    "duration": 4,
    "start_time": "2022-05-24T10:36:22.352Z"
   },
   {
    "duration": 9,
    "start_time": "2022-05-24T10:36:22.358Z"
   },
   {
    "duration": 11,
    "start_time": "2022-05-24T10:36:22.370Z"
   },
   {
    "duration": 51,
    "start_time": "2022-05-24T10:36:22.383Z"
   },
   {
    "duration": 5,
    "start_time": "2022-05-24T10:36:22.436Z"
   },
   {
    "duration": 26,
    "start_time": "2022-05-24T10:36:22.442Z"
   },
   {
    "duration": 49,
    "start_time": "2022-05-24T10:36:22.470Z"
   },
   {
    "duration": 5,
    "start_time": "2022-05-24T10:36:22.521Z"
   },
   {
    "duration": 21,
    "start_time": "2022-05-24T10:36:22.529Z"
   },
   {
    "duration": 10,
    "start_time": "2022-05-24T10:36:22.552Z"
   },
   {
    "duration": 4,
    "start_time": "2022-05-24T10:36:22.564Z"
   },
   {
    "duration": 9,
    "start_time": "2022-05-24T10:36:22.569Z"
   },
   {
    "duration": 33,
    "start_time": "2022-05-24T10:36:22.580Z"
   },
   {
    "duration": 14,
    "start_time": "2022-05-24T10:36:22.615Z"
   },
   {
    "duration": 11,
    "start_time": "2022-05-24T10:36:22.631Z"
   },
   {
    "duration": 7,
    "start_time": "2022-05-24T10:36:22.644Z"
   },
   {
    "duration": 4,
    "start_time": "2022-05-24T10:36:22.653Z"
   },
   {
    "duration": 8,
    "start_time": "2022-05-24T10:36:22.659Z"
   },
   {
    "duration": 44,
    "start_time": "2022-05-24T10:36:22.669Z"
   },
   {
    "duration": 18,
    "start_time": "2022-05-24T10:36:22.714Z"
   },
   {
    "duration": 13,
    "start_time": "2022-05-24T10:36:22.734Z"
   },
   {
    "duration": 14,
    "start_time": "2022-05-24T10:36:22.749Z"
   },
   {
    "duration": 4,
    "start_time": "2022-05-24T10:36:22.768Z"
   },
   {
    "duration": 39,
    "start_time": "2022-05-24T10:36:22.773Z"
   },
   {
    "duration": 5,
    "start_time": "2022-05-24T10:36:22.814Z"
   },
   {
    "duration": 32,
    "start_time": "2022-05-24T10:36:22.821Z"
   },
   {
    "duration": 4,
    "start_time": "2022-05-24T10:36:22.855Z"
   },
   {
    "duration": 18,
    "start_time": "2022-05-24T10:36:22.861Z"
   },
   {
    "duration": 31,
    "start_time": "2022-05-24T10:36:22.881Z"
   },
   {
    "duration": 30,
    "start_time": "2022-05-24T10:36:22.914Z"
   },
   {
    "duration": 27,
    "start_time": "2022-05-24T10:36:22.947Z"
   },
   {
    "duration": 46,
    "start_time": "2022-05-24T10:36:22.976Z"
   },
   {
    "duration": 18,
    "start_time": "2022-05-24T10:36:23.024Z"
   },
   {
    "duration": 18,
    "start_time": "2022-05-24T10:36:23.044Z"
   },
   {
    "duration": 622,
    "start_time": "2022-05-24T10:51:46.788Z"
   },
   {
    "duration": 13,
    "start_time": "2022-05-24T10:51:47.418Z"
   },
   {
    "duration": 59,
    "start_time": "2022-05-24T10:51:47.435Z"
   },
   {
    "duration": 6,
    "start_time": "2022-05-24T10:51:47.497Z"
   },
   {
    "duration": 80,
    "start_time": "2022-05-24T10:51:47.505Z"
   },
   {
    "duration": 6,
    "start_time": "2022-05-24T10:51:47.588Z"
   },
   {
    "duration": 13,
    "start_time": "2022-05-24T10:51:47.596Z"
   },
   {
    "duration": 56,
    "start_time": "2022-05-24T10:51:47.611Z"
   },
   {
    "duration": 36,
    "start_time": "2022-05-24T10:51:47.669Z"
   },
   {
    "duration": 9,
    "start_time": "2022-05-24T10:51:47.707Z"
   },
   {
    "duration": 43,
    "start_time": "2022-05-24T10:51:47.736Z"
   },
   {
    "duration": 18,
    "start_time": "2022-05-24T10:51:47.781Z"
   },
   {
    "duration": 5,
    "start_time": "2022-05-24T10:51:47.801Z"
   },
   {
    "duration": 36,
    "start_time": "2022-05-24T10:51:47.807Z"
   },
   {
    "duration": 24,
    "start_time": "2022-05-24T10:51:47.846Z"
   },
   {
    "duration": 4,
    "start_time": "2022-05-24T10:51:47.872Z"
   },
   {
    "duration": 7,
    "start_time": "2022-05-24T10:51:47.878Z"
   },
   {
    "duration": 9,
    "start_time": "2022-05-24T10:51:47.887Z"
   },
   {
    "duration": 38,
    "start_time": "2022-05-24T10:51:47.898Z"
   },
   {
    "duration": 16,
    "start_time": "2022-05-24T10:51:47.950Z"
   },
   {
    "duration": 10,
    "start_time": "2022-05-24T10:51:47.968Z"
   },
   {
    "duration": 7,
    "start_time": "2022-05-24T10:51:47.980Z"
   },
   {
    "duration": 11,
    "start_time": "2022-05-24T10:51:47.990Z"
   },
   {
    "duration": 30,
    "start_time": "2022-05-24T10:51:48.003Z"
   },
   {
    "duration": 60,
    "start_time": "2022-05-24T10:51:48.034Z"
   },
   {
    "duration": 23,
    "start_time": "2022-05-24T10:51:48.095Z"
   },
   {
    "duration": 52,
    "start_time": "2022-05-24T10:51:48.128Z"
   },
   {
    "duration": 32,
    "start_time": "2022-05-24T10:51:48.185Z"
   },
   {
    "duration": 36,
    "start_time": "2022-05-24T10:51:48.220Z"
   },
   {
    "duration": 22,
    "start_time": "2022-05-24T10:51:48.258Z"
   },
   {
    "duration": 11,
    "start_time": "2022-05-24T10:51:48.282Z"
   },
   {
    "duration": 5,
    "start_time": "2022-05-24T10:51:48.295Z"
   },
   {
    "duration": 57,
    "start_time": "2022-05-24T10:51:48.302Z"
   },
   {
    "duration": 9,
    "start_time": "2022-05-24T10:51:48.366Z"
   },
   {
    "duration": 13,
    "start_time": "2022-05-24T10:51:48.377Z"
   },
   {
    "duration": 10,
    "start_time": "2022-05-24T10:51:48.392Z"
   },
   {
    "duration": 53,
    "start_time": "2022-05-24T10:51:48.404Z"
   },
   {
    "duration": 30,
    "start_time": "2022-05-24T10:51:48.466Z"
   },
   {
    "duration": 38,
    "start_time": "2022-05-24T10:51:48.498Z"
   },
   {
    "duration": 56,
    "start_time": "2022-05-24T10:51:48.538Z"
   },
   {
    "duration": 36,
    "start_time": "2022-05-24T10:51:48.596Z"
   },
   {
    "duration": 98,
    "start_time": "2022-05-24T10:59:51.537Z"
   },
   {
    "duration": 7,
    "start_time": "2022-05-24T11:00:55.810Z"
   },
   {
    "duration": 9,
    "start_time": "2022-05-24T11:01:03.438Z"
   },
   {
    "duration": 11,
    "start_time": "2022-05-24T11:01:09.586Z"
   },
   {
    "duration": 8,
    "start_time": "2022-05-24T11:02:47.368Z"
   },
   {
    "duration": 15,
    "start_time": "2022-05-24T11:03:13.939Z"
   },
   {
    "duration": 632,
    "start_time": "2022-05-24T11:03:36.583Z"
   },
   {
    "duration": 6,
    "start_time": "2022-05-24T11:03:37.220Z"
   },
   {
    "duration": 72,
    "start_time": "2022-05-24T11:03:37.228Z"
   },
   {
    "duration": 22,
    "start_time": "2022-05-24T11:03:37.303Z"
   },
   {
    "duration": 65,
    "start_time": "2022-05-24T11:03:37.327Z"
   },
   {
    "duration": 6,
    "start_time": "2022-05-24T11:03:37.394Z"
   },
   {
    "duration": 13,
    "start_time": "2022-05-24T11:03:37.402Z"
   },
   {
    "duration": 49,
    "start_time": "2022-05-24T11:03:37.417Z"
   },
   {
    "duration": 31,
    "start_time": "2022-05-24T11:03:37.468Z"
   },
   {
    "duration": 5,
    "start_time": "2022-05-24T11:03:37.503Z"
   },
   {
    "duration": 59,
    "start_time": "2022-05-24T11:03:37.509Z"
   },
   {
    "duration": 20,
    "start_time": "2022-05-24T11:03:37.570Z"
   },
   {
    "duration": 5,
    "start_time": "2022-05-24T11:03:37.592Z"
   },
   {
    "duration": 19,
    "start_time": "2022-05-24T11:03:37.598Z"
   },
   {
    "duration": 47,
    "start_time": "2022-05-24T11:03:37.619Z"
   },
   {
    "duration": 4,
    "start_time": "2022-05-24T11:03:37.668Z"
   },
   {
    "duration": 6,
    "start_time": "2022-05-24T11:03:37.673Z"
   },
   {
    "duration": 8,
    "start_time": "2022-05-24T11:03:37.680Z"
   },
   {
    "duration": 17,
    "start_time": "2022-05-24T11:03:37.690Z"
   },
   {
    "duration": 50,
    "start_time": "2022-05-24T11:03:37.708Z"
   },
   {
    "duration": 9,
    "start_time": "2022-05-24T11:03:37.760Z"
   },
   {
    "duration": 6,
    "start_time": "2022-05-24T11:03:37.771Z"
   },
   {
    "duration": 7,
    "start_time": "2022-05-24T11:03:37.779Z"
   },
   {
    "duration": 22,
    "start_time": "2022-05-24T11:03:37.788Z"
   },
   {
    "duration": 37,
    "start_time": "2022-05-24T11:03:37.811Z"
   },
   {
    "duration": 27,
    "start_time": "2022-05-24T11:03:37.849Z"
   },
   {
    "duration": 12,
    "start_time": "2022-05-24T11:03:37.878Z"
   },
   {
    "duration": 27,
    "start_time": "2022-05-24T11:03:37.894Z"
   },
   {
    "duration": 19,
    "start_time": "2022-05-24T11:03:37.922Z"
   },
   {
    "duration": 22,
    "start_time": "2022-05-24T11:03:37.943Z"
   },
   {
    "duration": 15,
    "start_time": "2022-05-24T11:03:37.968Z"
   },
   {
    "duration": 7,
    "start_time": "2022-05-24T11:03:37.985Z"
   },
   {
    "duration": 33,
    "start_time": "2022-05-24T11:03:37.994Z"
   },
   {
    "duration": 5,
    "start_time": "2022-05-24T11:03:38.029Z"
   },
   {
    "duration": 35,
    "start_time": "2022-05-24T11:03:38.036Z"
   },
   {
    "duration": 9,
    "start_time": "2022-05-24T11:03:38.073Z"
   },
   {
    "duration": 24,
    "start_time": "2022-05-24T11:03:38.084Z"
   },
   {
    "duration": 41,
    "start_time": "2022-05-24T11:03:38.113Z"
   },
   {
    "duration": 28,
    "start_time": "2022-05-24T11:03:38.156Z"
   },
   {
    "duration": 39,
    "start_time": "2022-05-24T11:03:38.186Z"
   },
   {
    "duration": 37,
    "start_time": "2022-05-24T11:03:38.230Z"
   },
   {
    "duration": 132,
    "start_time": "2022-05-24T11:03:51.842Z"
   },
   {
    "duration": 13,
    "start_time": "2022-05-24T11:04:00.096Z"
   },
   {
    "duration": 16,
    "start_time": "2022-05-24T11:04:11.561Z"
   },
   {
    "duration": 115,
    "start_time": "2022-05-24T11:04:47.526Z"
   },
   {
    "duration": 645,
    "start_time": "2022-05-24T11:05:33.053Z"
   },
   {
    "duration": 5,
    "start_time": "2022-05-24T11:05:33.700Z"
   },
   {
    "duration": 38,
    "start_time": "2022-05-24T11:05:33.706Z"
   },
   {
    "duration": 120,
    "start_time": "2022-05-24T11:05:33.746Z"
   },
   {
    "duration": 0,
    "start_time": "2022-05-24T11:05:33.869Z"
   },
   {
    "duration": 0,
    "start_time": "2022-05-24T11:05:33.870Z"
   },
   {
    "duration": 0,
    "start_time": "2022-05-24T11:05:33.871Z"
   },
   {
    "duration": 0,
    "start_time": "2022-05-24T11:05:33.873Z"
   },
   {
    "duration": 0,
    "start_time": "2022-05-24T11:05:33.874Z"
   },
   {
    "duration": 0,
    "start_time": "2022-05-24T11:05:33.875Z"
   },
   {
    "duration": 0,
    "start_time": "2022-05-24T11:05:33.876Z"
   },
   {
    "duration": 0,
    "start_time": "2022-05-24T11:05:33.877Z"
   },
   {
    "duration": 0,
    "start_time": "2022-05-24T11:05:33.877Z"
   },
   {
    "duration": 0,
    "start_time": "2022-05-24T11:05:33.879Z"
   },
   {
    "duration": 0,
    "start_time": "2022-05-24T11:05:33.880Z"
   },
   {
    "duration": 0,
    "start_time": "2022-05-24T11:05:33.881Z"
   },
   {
    "duration": 0,
    "start_time": "2022-05-24T11:05:33.882Z"
   },
   {
    "duration": 0,
    "start_time": "2022-05-24T11:05:33.931Z"
   },
   {
    "duration": 0,
    "start_time": "2022-05-24T11:05:33.937Z"
   },
   {
    "duration": 0,
    "start_time": "2022-05-24T11:05:33.939Z"
   },
   {
    "duration": 0,
    "start_time": "2022-05-24T11:05:33.941Z"
   },
   {
    "duration": 0,
    "start_time": "2022-05-24T11:05:33.943Z"
   },
   {
    "duration": 0,
    "start_time": "2022-05-24T11:05:33.945Z"
   },
   {
    "duration": 0,
    "start_time": "2022-05-24T11:05:33.946Z"
   },
   {
    "duration": 0,
    "start_time": "2022-05-24T11:05:33.947Z"
   },
   {
    "duration": 0,
    "start_time": "2022-05-24T11:05:33.948Z"
   },
   {
    "duration": 0,
    "start_time": "2022-05-24T11:05:33.949Z"
   },
   {
    "duration": 0,
    "start_time": "2022-05-24T11:05:33.950Z"
   },
   {
    "duration": 0,
    "start_time": "2022-05-24T11:05:33.951Z"
   },
   {
    "duration": 0,
    "start_time": "2022-05-24T11:05:33.952Z"
   },
   {
    "duration": 0,
    "start_time": "2022-05-24T11:05:33.953Z"
   },
   {
    "duration": 0,
    "start_time": "2022-05-24T11:05:33.954Z"
   },
   {
    "duration": 0,
    "start_time": "2022-05-24T11:05:33.955Z"
   },
   {
    "duration": 0,
    "start_time": "2022-05-24T11:05:33.956Z"
   },
   {
    "duration": 0,
    "start_time": "2022-05-24T11:05:33.957Z"
   },
   {
    "duration": 0,
    "start_time": "2022-05-24T11:05:33.958Z"
   },
   {
    "duration": 0,
    "start_time": "2022-05-24T11:05:33.959Z"
   },
   {
    "duration": 0,
    "start_time": "2022-05-24T11:05:33.960Z"
   },
   {
    "duration": 0,
    "start_time": "2022-05-24T11:05:33.961Z"
   },
   {
    "duration": 0,
    "start_time": "2022-05-24T11:05:33.962Z"
   },
   {
    "duration": 0,
    "start_time": "2022-05-24T11:05:33.963Z"
   },
   {
    "duration": 4,
    "start_time": "2022-05-24T11:06:45.362Z"
   },
   {
    "duration": 5,
    "start_time": "2022-05-24T11:09:56.629Z"
   },
   {
    "duration": 47,
    "start_time": "2022-05-24T11:10:03.923Z"
   },
   {
    "duration": 22,
    "start_time": "2022-05-24T11:10:19.622Z"
   },
   {
    "duration": 16,
    "start_time": "2022-05-24T11:11:10.923Z"
   },
   {
    "duration": 16,
    "start_time": "2022-05-24T11:11:20.556Z"
   },
   {
    "duration": 24,
    "start_time": "2022-05-24T11:11:42.932Z"
   },
   {
    "duration": 15,
    "start_time": "2022-05-24T11:12:01.062Z"
   },
   {
    "duration": 96,
    "start_time": "2022-05-24T11:12:40.044Z"
   },
   {
    "duration": 13,
    "start_time": "2022-05-24T11:12:53.144Z"
   },
   {
    "duration": 15,
    "start_time": "2022-05-24T11:14:23.232Z"
   },
   {
    "duration": 99,
    "start_time": "2022-05-24T11:14:33.883Z"
   },
   {
    "duration": 13,
    "start_time": "2022-05-24T11:14:54.624Z"
   },
   {
    "duration": 16,
    "start_time": "2022-05-24T11:15:26.114Z"
   },
   {
    "duration": 13,
    "start_time": "2022-05-24T11:15:31.342Z"
   },
   {
    "duration": 14,
    "start_time": "2022-05-24T11:16:20.074Z"
   },
   {
    "duration": 16,
    "start_time": "2022-05-24T11:16:35.936Z"
   },
   {
    "duration": 15,
    "start_time": "2022-05-24T11:18:00.549Z"
   },
   {
    "duration": 26,
    "start_time": "2022-05-24T11:18:17.985Z"
   },
   {
    "duration": 27,
    "start_time": "2022-05-24T11:19:34.811Z"
   },
   {
    "duration": 96,
    "start_time": "2022-05-24T11:20:00.356Z"
   },
   {
    "duration": 27,
    "start_time": "2022-05-24T11:20:04.474Z"
   },
   {
    "duration": 510,
    "start_time": "2022-05-24T11:23:05.605Z"
   },
   {
    "duration": 4,
    "start_time": "2022-05-24T11:23:06.117Z"
   },
   {
    "duration": 21,
    "start_time": "2022-05-24T11:23:06.122Z"
   },
   {
    "duration": 22,
    "start_time": "2022-05-24T11:23:06.145Z"
   },
   {
    "duration": 44,
    "start_time": "2022-05-24T11:23:06.169Z"
   },
   {
    "duration": 3,
    "start_time": "2022-05-24T11:23:06.215Z"
   },
   {
    "duration": 7,
    "start_time": "2022-05-24T11:23:06.220Z"
   },
   {
    "duration": 6,
    "start_time": "2022-05-24T11:23:06.228Z"
   },
   {
    "duration": 27,
    "start_time": "2022-05-24T11:23:06.235Z"
   },
   {
    "duration": 4,
    "start_time": "2022-05-24T11:23:06.263Z"
   },
   {
    "duration": 19,
    "start_time": "2022-05-24T11:23:06.269Z"
   },
   {
    "duration": 37,
    "start_time": "2022-05-24T11:23:06.289Z"
   },
   {
    "duration": 4,
    "start_time": "2022-05-24T11:23:06.328Z"
   },
   {
    "duration": 10,
    "start_time": "2022-05-24T11:23:06.335Z"
   },
   {
    "duration": 10,
    "start_time": "2022-05-24T11:23:06.346Z"
   },
   {
    "duration": 4,
    "start_time": "2022-05-24T11:23:06.357Z"
   },
   {
    "duration": 5,
    "start_time": "2022-05-24T11:23:06.362Z"
   },
   {
    "duration": 8,
    "start_time": "2022-05-24T11:23:06.369Z"
   },
   {
    "duration": 42,
    "start_time": "2022-05-24T11:23:06.379Z"
   },
   {
    "duration": 6,
    "start_time": "2022-05-24T11:23:06.423Z"
   },
   {
    "duration": 11,
    "start_time": "2022-05-24T11:23:06.431Z"
   },
   {
    "duration": 5,
    "start_time": "2022-05-24T11:23:06.444Z"
   },
   {
    "duration": 9,
    "start_time": "2022-05-24T11:23:06.451Z"
   },
   {
    "duration": 21,
    "start_time": "2022-05-24T11:23:06.461Z"
   },
   {
    "duration": 36,
    "start_time": "2022-05-24T11:23:06.483Z"
   },
   {
    "duration": 14,
    "start_time": "2022-05-24T11:23:06.521Z"
   },
   {
    "duration": 11,
    "start_time": "2022-05-24T11:23:06.536Z"
   },
   {
    "duration": 11,
    "start_time": "2022-05-24T11:23:06.549Z"
   },
   {
    "duration": 12,
    "start_time": "2022-05-24T11:23:06.561Z"
   },
   {
    "duration": 9,
    "start_time": "2022-05-24T11:23:06.574Z"
   },
   {
    "duration": 12,
    "start_time": "2022-05-24T11:23:06.613Z"
   },
   {
    "duration": 8,
    "start_time": "2022-05-24T11:23:06.627Z"
   },
   {
    "duration": 22,
    "start_time": "2022-05-24T11:23:06.637Z"
   },
   {
    "duration": 3,
    "start_time": "2022-05-24T11:23:06.660Z"
   },
   {
    "duration": 14,
    "start_time": "2022-05-24T11:23:06.665Z"
   },
   {
    "duration": 8,
    "start_time": "2022-05-24T11:23:06.681Z"
   },
   {
    "duration": 40,
    "start_time": "2022-05-24T11:23:06.690Z"
   },
   {
    "duration": 22,
    "start_time": "2022-05-24T11:23:06.732Z"
   },
   {
    "duration": 22,
    "start_time": "2022-05-24T11:23:06.756Z"
   },
   {
    "duration": 48,
    "start_time": "2022-05-24T11:23:06.780Z"
   },
   {
    "duration": 19,
    "start_time": "2022-05-24T11:23:06.832Z"
   },
   {
    "duration": 8,
    "start_time": "2022-05-24T11:27:00.622Z"
   },
   {
    "duration": 8,
    "start_time": "2022-05-24T11:29:09.026Z"
   },
   {
    "duration": 6,
    "start_time": "2022-05-24T11:29:30.202Z"
   },
   {
    "duration": 11,
    "start_time": "2022-05-24T11:29:44.357Z"
   },
   {
    "duration": 4,
    "start_time": "2022-05-24T11:30:03.779Z"
   },
   {
    "duration": 5,
    "start_time": "2022-05-24T11:30:08.632Z"
   },
   {
    "duration": 6,
    "start_time": "2022-05-24T11:30:18.385Z"
   },
   {
    "duration": 11,
    "start_time": "2022-05-24T11:30:30.211Z"
   },
   {
    "duration": 40,
    "start_time": "2022-05-24T11:31:34.501Z"
   },
   {
    "duration": 27,
    "start_time": "2022-05-24T11:31:48.589Z"
   },
   {
    "duration": 34,
    "start_time": "2022-05-24T11:31:52.254Z"
   },
   {
    "duration": 8,
    "start_time": "2022-05-24T11:31:54.970Z"
   },
   {
    "duration": 13,
    "start_time": "2022-05-24T11:32:11.282Z"
   },
   {
    "duration": 9,
    "start_time": "2022-05-24T11:33:26.801Z"
   },
   {
    "duration": 15,
    "start_time": "2022-05-24T11:34:45.955Z"
   },
   {
    "duration": 4,
    "start_time": "2022-05-24T11:35:07.153Z"
   },
   {
    "duration": 9,
    "start_time": "2022-05-24T11:37:34.080Z"
   },
   {
    "duration": 8,
    "start_time": "2022-05-24T11:37:44.120Z"
   },
   {
    "duration": 4,
    "start_time": "2022-05-24T11:41:56.549Z"
   },
   {
    "duration": 6,
    "start_time": "2022-05-24T11:42:08.822Z"
   },
   {
    "duration": 4,
    "start_time": "2022-05-24T11:42:42.663Z"
   },
   {
    "duration": 5,
    "start_time": "2022-05-24T11:42:43.981Z"
   },
   {
    "duration": 4,
    "start_time": "2022-05-24T11:42:52.581Z"
   },
   {
    "duration": 5,
    "start_time": "2022-05-24T11:42:54.131Z"
   },
   {
    "duration": 29,
    "start_time": "2022-05-24T11:43:10.476Z"
   },
   {
    "duration": 73,
    "start_time": "2022-05-24T11:43:47.091Z"
   },
   {
    "duration": 8,
    "start_time": "2022-05-24T11:44:09.581Z"
   },
   {
    "duration": 7,
    "start_time": "2022-05-24T11:44:19.683Z"
   },
   {
    "duration": 8,
    "start_time": "2022-05-24T11:44:37.926Z"
   },
   {
    "duration": 73,
    "start_time": "2022-05-24T11:44:43.309Z"
   },
   {
    "duration": 7,
    "start_time": "2022-05-24T11:44:47.281Z"
   },
   {
    "duration": 4,
    "start_time": "2022-05-24T11:45:06.569Z"
   },
   {
    "duration": 5,
    "start_time": "2022-05-24T11:45:08.171Z"
   },
   {
    "duration": 5,
    "start_time": "2022-05-24T11:45:14.147Z"
   },
   {
    "duration": 5,
    "start_time": "2022-05-24T11:45:16.197Z"
   },
   {
    "duration": 7,
    "start_time": "2022-05-24T11:45:36.326Z"
   },
   {
    "duration": 5,
    "start_time": "2022-05-24T11:45:37.866Z"
   },
   {
    "duration": 82,
    "start_time": "2022-05-24T11:45:57.750Z"
   },
   {
    "duration": 6,
    "start_time": "2022-05-24T11:46:03.108Z"
   },
   {
    "duration": 5,
    "start_time": "2022-05-24T11:46:04.588Z"
   },
   {
    "duration": 4,
    "start_time": "2022-05-24T11:46:14.730Z"
   },
   {
    "duration": 5,
    "start_time": "2022-05-24T11:46:16.060Z"
   },
   {
    "duration": 570,
    "start_time": "2022-05-24T11:46:22.005Z"
   },
   {
    "duration": 5,
    "start_time": "2022-05-24T11:46:22.577Z"
   },
   {
    "duration": 44,
    "start_time": "2022-05-24T11:46:22.583Z"
   },
   {
    "duration": 24,
    "start_time": "2022-05-24T11:46:22.632Z"
   },
   {
    "duration": 24,
    "start_time": "2022-05-24T11:46:22.657Z"
   },
   {
    "duration": 3,
    "start_time": "2022-05-24T11:46:22.683Z"
   },
   {
    "duration": 41,
    "start_time": "2022-05-24T11:46:22.688Z"
   },
   {
    "duration": 5,
    "start_time": "2022-05-24T11:46:22.731Z"
   },
   {
    "duration": 10,
    "start_time": "2022-05-24T11:46:22.738Z"
   },
   {
    "duration": 4,
    "start_time": "2022-05-24T11:46:22.751Z"
   },
   {
    "duration": 6,
    "start_time": "2022-05-24T11:46:22.757Z"
   },
   {
    "duration": 9,
    "start_time": "2022-05-24T11:46:22.765Z"
   },
   {
    "duration": 59,
    "start_time": "2022-05-24T11:46:22.775Z"
   },
   {
    "duration": 6,
    "start_time": "2022-05-24T11:46:22.836Z"
   },
   {
    "duration": 24,
    "start_time": "2022-05-24T11:46:22.843Z"
   },
   {
    "duration": 18,
    "start_time": "2022-05-24T11:46:22.869Z"
   },
   {
    "duration": 4,
    "start_time": "2022-05-24T11:46:22.889Z"
   },
   {
    "duration": 15,
    "start_time": "2022-05-24T11:46:22.920Z"
   },
   {
    "duration": 7,
    "start_time": "2022-05-24T11:46:22.937Z"
   },
   {
    "duration": 8,
    "start_time": "2022-05-24T11:46:22.945Z"
   },
   {
    "duration": 7,
    "start_time": "2022-05-24T11:46:22.955Z"
   },
   {
    "duration": 6,
    "start_time": "2022-05-24T11:46:22.964Z"
   },
   {
    "duration": 14,
    "start_time": "2022-05-24T11:46:22.971Z"
   },
   {
    "duration": 34,
    "start_time": "2022-05-24T11:46:22.987Z"
   },
   {
    "duration": 7,
    "start_time": "2022-05-24T11:46:23.026Z"
   },
   {
    "duration": 6,
    "start_time": "2022-05-24T11:46:23.035Z"
   },
   {
    "duration": 12,
    "start_time": "2022-05-24T11:46:23.042Z"
   },
   {
    "duration": 20,
    "start_time": "2022-05-24T11:46:23.058Z"
   },
   {
    "duration": 40,
    "start_time": "2022-05-24T11:46:23.079Z"
   },
   {
    "duration": 17,
    "start_time": "2022-05-24T11:46:23.122Z"
   },
   {
    "duration": 12,
    "start_time": "2022-05-24T11:46:23.141Z"
   },
   {
    "duration": 14,
    "start_time": "2022-05-24T11:46:23.155Z"
   },
   {
    "duration": 13,
    "start_time": "2022-05-24T11:46:23.170Z"
   },
   {
    "duration": 33,
    "start_time": "2022-05-24T11:46:23.184Z"
   },
   {
    "duration": 15,
    "start_time": "2022-05-24T11:46:23.218Z"
   },
   {
    "duration": 15,
    "start_time": "2022-05-24T11:46:23.235Z"
   },
   {
    "duration": 24,
    "start_time": "2022-05-24T11:46:23.252Z"
   },
   {
    "duration": 4,
    "start_time": "2022-05-24T11:46:23.277Z"
   },
   {
    "duration": 30,
    "start_time": "2022-05-24T11:46:23.283Z"
   },
   {
    "duration": 8,
    "start_time": "2022-05-24T11:46:23.321Z"
   },
   {
    "duration": 28,
    "start_time": "2022-05-24T11:46:23.330Z"
   },
   {
    "duration": 25,
    "start_time": "2022-05-24T11:46:23.360Z"
   },
   {
    "duration": 41,
    "start_time": "2022-05-24T11:46:23.387Z"
   },
   {
    "duration": 26,
    "start_time": "2022-05-24T11:46:23.430Z"
   },
   {
    "duration": 22,
    "start_time": "2022-05-24T11:46:23.458Z"
   },
   {
    "duration": 5,
    "start_time": "2022-05-24T11:47:28.647Z"
   },
   {
    "duration": 6,
    "start_time": "2022-05-24T11:47:30.530Z"
   },
   {
    "duration": 491,
    "start_time": "2022-05-24T11:52:19.763Z"
   },
   {
    "duration": 5,
    "start_time": "2022-05-24T11:52:20.256Z"
   },
   {
    "duration": 24,
    "start_time": "2022-05-24T11:52:20.262Z"
   },
   {
    "duration": 42,
    "start_time": "2022-05-24T11:52:20.289Z"
   },
   {
    "duration": 23,
    "start_time": "2022-05-24T11:52:20.333Z"
   },
   {
    "duration": 3,
    "start_time": "2022-05-24T11:52:20.358Z"
   },
   {
    "duration": 8,
    "start_time": "2022-05-24T11:52:20.362Z"
   },
   {
    "duration": 4,
    "start_time": "2022-05-24T11:52:20.372Z"
   },
   {
    "duration": 38,
    "start_time": "2022-05-24T11:52:20.378Z"
   },
   {
    "duration": 7,
    "start_time": "2022-05-24T11:52:20.419Z"
   },
   {
    "duration": 13,
    "start_time": "2022-05-24T11:52:20.428Z"
   },
   {
    "duration": 29,
    "start_time": "2022-05-24T11:52:20.443Z"
   },
   {
    "duration": 6,
    "start_time": "2022-05-24T11:52:20.474Z"
   },
   {
    "duration": 25,
    "start_time": "2022-05-24T11:52:20.513Z"
   },
   {
    "duration": 18,
    "start_time": "2022-05-24T11:52:20.539Z"
   },
   {
    "duration": 4,
    "start_time": "2022-05-24T11:52:20.558Z"
   },
   {
    "duration": 12,
    "start_time": "2022-05-24T11:52:20.564Z"
   },
   {
    "duration": 8,
    "start_time": "2022-05-24T11:52:20.577Z"
   },
   {
    "duration": 4,
    "start_time": "2022-05-24T11:52:20.612Z"
   },
   {
    "duration": 7,
    "start_time": "2022-05-24T11:52:20.619Z"
   },
   {
    "duration": 6,
    "start_time": "2022-05-24T11:52:20.629Z"
   },
   {
    "duration": 18,
    "start_time": "2022-05-24T11:52:20.636Z"
   },
   {
    "duration": 9,
    "start_time": "2022-05-24T11:52:20.655Z"
   },
   {
    "duration": 9,
    "start_time": "2022-05-24T11:52:20.666Z"
   },
   {
    "duration": 12,
    "start_time": "2022-05-24T11:52:20.677Z"
   },
   {
    "duration": 23,
    "start_time": "2022-05-24T11:52:20.691Z"
   },
   {
    "duration": 37,
    "start_time": "2022-05-24T11:52:20.716Z"
   },
   {
    "duration": 17,
    "start_time": "2022-05-24T11:52:20.756Z"
   },
   {
    "duration": 13,
    "start_time": "2022-05-24T11:52:20.774Z"
   },
   {
    "duration": 39,
    "start_time": "2022-05-24T11:52:20.789Z"
   },
   {
    "duration": 12,
    "start_time": "2022-05-24T11:52:20.830Z"
   },
   {
    "duration": 11,
    "start_time": "2022-05-24T11:52:20.844Z"
   },
   {
    "duration": 6,
    "start_time": "2022-05-24T11:52:20.857Z"
   },
   {
    "duration": 16,
    "start_time": "2022-05-24T11:52:20.865Z"
   },
   {
    "duration": 10,
    "start_time": "2022-05-24T11:52:20.882Z"
   },
   {
    "duration": 39,
    "start_time": "2022-05-24T11:52:20.893Z"
   },
   {
    "duration": 3,
    "start_time": "2022-05-24T11:52:20.934Z"
   },
   {
    "duration": 12,
    "start_time": "2022-05-24T11:52:20.939Z"
   },
   {
    "duration": 8,
    "start_time": "2022-05-24T11:52:20.952Z"
   },
   {
    "duration": 24,
    "start_time": "2022-05-24T11:52:20.961Z"
   },
   {
    "duration": 55,
    "start_time": "2022-05-24T11:52:20.986Z"
   },
   {
    "duration": 25,
    "start_time": "2022-05-24T11:52:21.042Z"
   },
   {
    "duration": 24,
    "start_time": "2022-05-24T11:52:21.069Z"
   },
   {
    "duration": 40,
    "start_time": "2022-05-24T11:52:21.095Z"
   },
   {
    "duration": 598,
    "start_time": "2022-05-24T11:54:21.087Z"
   },
   {
    "duration": 6,
    "start_time": "2022-05-24T11:54:21.687Z"
   },
   {
    "duration": 55,
    "start_time": "2022-05-24T11:54:21.695Z"
   },
   {
    "duration": 36,
    "start_time": "2022-05-24T11:54:21.753Z"
   },
   {
    "duration": 34,
    "start_time": "2022-05-24T11:54:21.792Z"
   },
   {
    "duration": 4,
    "start_time": "2022-05-24T11:54:21.831Z"
   },
   {
    "duration": 11,
    "start_time": "2022-05-24T11:54:21.836Z"
   },
   {
    "duration": 4,
    "start_time": "2022-05-24T11:54:21.848Z"
   },
   {
    "duration": 10,
    "start_time": "2022-05-24T11:54:21.854Z"
   },
   {
    "duration": 6,
    "start_time": "2022-05-24T11:54:21.866Z"
   },
   {
    "duration": 8,
    "start_time": "2022-05-24T11:54:21.874Z"
   },
   {
    "duration": 49,
    "start_time": "2022-05-24T11:54:21.884Z"
   },
   {
    "duration": 4,
    "start_time": "2022-05-24T11:54:21.935Z"
   },
   {
    "duration": 16,
    "start_time": "2022-05-24T11:54:21.956Z"
   },
   {
    "duration": 18,
    "start_time": "2022-05-24T11:54:21.974Z"
   },
   {
    "duration": 4,
    "start_time": "2022-05-24T11:54:21.993Z"
   },
   {
    "duration": 22,
    "start_time": "2022-05-24T11:54:22.011Z"
   },
   {
    "duration": 8,
    "start_time": "2022-05-24T11:54:22.035Z"
   },
   {
    "duration": 4,
    "start_time": "2022-05-24T11:54:22.044Z"
   },
   {
    "duration": 6,
    "start_time": "2022-05-24T11:54:22.049Z"
   },
   {
    "duration": 6,
    "start_time": "2022-05-24T11:54:22.057Z"
   },
   {
    "duration": 13,
    "start_time": "2022-05-24T11:54:22.065Z"
   },
   {
    "duration": 9,
    "start_time": "2022-05-24T11:54:22.079Z"
   },
   {
    "duration": 9,
    "start_time": "2022-05-24T11:54:22.114Z"
   },
   {
    "duration": 9,
    "start_time": "2022-05-24T11:54:22.127Z"
   },
   {
    "duration": 7,
    "start_time": "2022-05-24T11:54:22.137Z"
   },
   {
    "duration": 20,
    "start_time": "2022-05-24T11:54:22.146Z"
   },
   {
    "duration": 17,
    "start_time": "2022-05-24T11:54:22.167Z"
   },
   {
    "duration": 48,
    "start_time": "2022-05-24T11:54:22.186Z"
   },
   {
    "duration": 13,
    "start_time": "2022-05-24T11:54:22.236Z"
   },
   {
    "duration": 17,
    "start_time": "2022-05-24T11:54:22.251Z"
   },
   {
    "duration": 16,
    "start_time": "2022-05-24T11:54:22.269Z"
   },
   {
    "duration": 4,
    "start_time": "2022-05-24T11:54:22.287Z"
   },
   {
    "duration": 13,
    "start_time": "2022-05-24T11:54:22.317Z"
   },
   {
    "duration": 7,
    "start_time": "2022-05-24T11:54:22.332Z"
   },
   {
    "duration": 23,
    "start_time": "2022-05-24T11:54:22.341Z"
   },
   {
    "duration": 4,
    "start_time": "2022-05-24T11:54:22.366Z"
   },
   {
    "duration": 10,
    "start_time": "2022-05-24T11:54:22.371Z"
   },
   {
    "duration": 8,
    "start_time": "2022-05-24T11:54:22.383Z"
   },
   {
    "duration": 35,
    "start_time": "2022-05-24T11:54:22.411Z"
   },
   {
    "duration": 19,
    "start_time": "2022-05-24T11:54:22.447Z"
   },
   {
    "duration": 19,
    "start_time": "2022-05-24T11:54:22.468Z"
   },
   {
    "duration": 39,
    "start_time": "2022-05-24T11:54:22.488Z"
   },
   {
    "duration": 20,
    "start_time": "2022-05-24T11:54:22.529Z"
   },
   {
    "duration": 37,
    "start_time": "2022-05-24T11:56:20.188Z"
   },
   {
    "duration": 533,
    "start_time": "2022-05-24T11:56:55.727Z"
   },
   {
    "duration": 5,
    "start_time": "2022-05-24T11:56:56.261Z"
   },
   {
    "duration": 24,
    "start_time": "2022-05-24T11:56:56.267Z"
   },
   {
    "duration": 43,
    "start_time": "2022-05-24T11:56:56.293Z"
   },
   {
    "duration": 20,
    "start_time": "2022-05-24T11:56:56.338Z"
   },
   {
    "duration": 3,
    "start_time": "2022-05-24T11:56:56.360Z"
   },
   {
    "duration": 6,
    "start_time": "2022-05-24T11:56:56.365Z"
   },
   {
    "duration": 9,
    "start_time": "2022-05-24T11:56:56.373Z"
   },
   {
    "duration": 40,
    "start_time": "2022-05-24T11:56:56.383Z"
   },
   {
    "duration": 7,
    "start_time": "2022-05-24T11:56:56.427Z"
   },
   {
    "duration": 20,
    "start_time": "2022-05-24T11:56:56.436Z"
   },
   {
    "duration": 22,
    "start_time": "2022-05-24T11:56:56.458Z"
   },
   {
    "duration": 5,
    "start_time": "2022-05-24T11:56:56.482Z"
   },
   {
    "duration": 39,
    "start_time": "2022-05-24T11:56:56.488Z"
   },
   {
    "duration": 18,
    "start_time": "2022-05-24T11:56:56.529Z"
   },
   {
    "duration": 5,
    "start_time": "2022-05-24T11:56:56.549Z"
   },
   {
    "duration": 12,
    "start_time": "2022-05-24T11:56:56.555Z"
   },
   {
    "duration": 8,
    "start_time": "2022-05-24T11:56:56.569Z"
   },
   {
    "duration": 4,
    "start_time": "2022-05-24T11:56:56.578Z"
   },
   {
    "duration": 35,
    "start_time": "2022-05-24T11:56:56.584Z"
   },
   {
    "duration": 7,
    "start_time": "2022-05-24T11:56:56.621Z"
   },
   {
    "duration": 15,
    "start_time": "2022-05-24T11:56:56.629Z"
   },
   {
    "duration": 9,
    "start_time": "2022-05-24T11:56:56.646Z"
   },
   {
    "duration": 6,
    "start_time": "2022-05-24T11:56:56.656Z"
   },
   {
    "duration": 5,
    "start_time": "2022-05-24T11:56:56.664Z"
   },
   {
    "duration": 8,
    "start_time": "2022-05-24T11:56:56.670Z"
   },
   {
    "duration": 45,
    "start_time": "2022-05-24T11:56:56.679Z"
   },
   {
    "duration": 18,
    "start_time": "2022-05-24T11:56:56.727Z"
   },
   {
    "duration": 14,
    "start_time": "2022-05-24T11:56:56.746Z"
   },
   {
    "duration": 11,
    "start_time": "2022-05-24T11:56:56.761Z"
   },
   {
    "duration": 11,
    "start_time": "2022-05-24T11:56:56.774Z"
   },
   {
    "duration": 18,
    "start_time": "2022-05-24T11:56:56.811Z"
   },
   {
    "duration": 4,
    "start_time": "2022-05-24T11:56:56.831Z"
   },
   {
    "duration": 14,
    "start_time": "2022-05-24T11:56:56.837Z"
   },
   {
    "duration": 10,
    "start_time": "2022-05-24T11:56:56.853Z"
   },
   {
    "duration": 22,
    "start_time": "2022-05-24T11:56:56.865Z"
   },
   {
    "duration": 24,
    "start_time": "2022-05-24T11:56:56.890Z"
   },
   {
    "duration": 25,
    "start_time": "2022-05-24T11:56:56.917Z"
   },
   {
    "duration": 8,
    "start_time": "2022-05-24T11:56:56.944Z"
   },
   {
    "duration": 23,
    "start_time": "2022-05-24T11:56:56.953Z"
   },
   {
    "duration": 20,
    "start_time": "2022-05-24T11:56:56.979Z"
   },
   {
    "duration": 35,
    "start_time": "2022-05-24T11:56:57.001Z"
   },
   {
    "duration": 24,
    "start_time": "2022-05-24T11:56:57.037Z"
   },
   {
    "duration": 19,
    "start_time": "2022-05-24T11:56:57.062Z"
   },
   {
    "duration": 529,
    "start_time": "2022-05-24T12:07:46.226Z"
   },
   {
    "duration": 5,
    "start_time": "2022-05-24T12:07:46.757Z"
   },
   {
    "duration": 32,
    "start_time": "2022-05-24T12:07:46.763Z"
   },
   {
    "duration": 31,
    "start_time": "2022-05-24T12:07:46.797Z"
   },
   {
    "duration": 29,
    "start_time": "2022-05-24T12:07:46.830Z"
   },
   {
    "duration": 9,
    "start_time": "2022-05-24T12:07:46.861Z"
   },
   {
    "duration": 32,
    "start_time": "2022-05-24T12:07:46.872Z"
   },
   {
    "duration": 16,
    "start_time": "2022-05-24T12:07:46.905Z"
   },
   {
    "duration": 25,
    "start_time": "2022-05-24T12:07:46.923Z"
   },
   {
    "duration": 29,
    "start_time": "2022-05-24T12:07:46.950Z"
   },
   {
    "duration": 15,
    "start_time": "2022-05-24T12:07:46.980Z"
   },
   {
    "duration": 44,
    "start_time": "2022-05-24T12:07:46.997Z"
   },
   {
    "duration": 9,
    "start_time": "2022-05-24T12:07:47.042Z"
   },
   {
    "duration": 26,
    "start_time": "2022-05-24T12:07:47.052Z"
   },
   {
    "duration": 25,
    "start_time": "2022-05-24T12:07:47.080Z"
   },
   {
    "duration": 4,
    "start_time": "2022-05-24T12:07:47.107Z"
   },
   {
    "duration": 30,
    "start_time": "2022-05-24T12:07:47.112Z"
   },
   {
    "duration": 16,
    "start_time": "2022-05-24T12:07:47.144Z"
   },
   {
    "duration": 22,
    "start_time": "2022-05-24T12:07:47.161Z"
   },
   {
    "duration": 33,
    "start_time": "2022-05-24T12:07:47.184Z"
   },
   {
    "duration": 16,
    "start_time": "2022-05-24T12:07:47.219Z"
   },
   {
    "duration": 33,
    "start_time": "2022-05-24T12:07:47.237Z"
   },
   {
    "duration": 13,
    "start_time": "2022-05-24T12:07:47.272Z"
   },
   {
    "duration": 24,
    "start_time": "2022-05-24T12:07:47.287Z"
   },
   {
    "duration": 22,
    "start_time": "2022-05-24T12:07:47.312Z"
   },
   {
    "duration": 29,
    "start_time": "2022-05-24T12:07:47.336Z"
   },
   {
    "duration": 31,
    "start_time": "2022-05-24T12:07:47.367Z"
   },
   {
    "duration": 23,
    "start_time": "2022-05-24T12:07:47.403Z"
   },
   {
    "duration": 15,
    "start_time": "2022-05-24T12:07:47.428Z"
   },
   {
    "duration": 34,
    "start_time": "2022-05-24T12:07:47.444Z"
   },
   {
    "duration": 30,
    "start_time": "2022-05-24T12:07:47.480Z"
   },
   {
    "duration": 28,
    "start_time": "2022-05-24T12:07:47.512Z"
   },
   {
    "duration": 18,
    "start_time": "2022-05-24T12:07:47.542Z"
   },
   {
    "duration": 32,
    "start_time": "2022-05-24T12:07:47.562Z"
   },
   {
    "duration": 27,
    "start_time": "2022-05-24T12:07:47.595Z"
   },
   {
    "duration": 33,
    "start_time": "2022-05-24T12:07:47.624Z"
   },
   {
    "duration": 5,
    "start_time": "2022-05-24T12:07:47.658Z"
   },
   {
    "duration": 19,
    "start_time": "2022-05-24T12:07:47.664Z"
   },
   {
    "duration": 11,
    "start_time": "2022-05-24T12:07:47.685Z"
   },
   {
    "duration": 49,
    "start_time": "2022-05-24T12:07:47.698Z"
   },
   {
    "duration": 22,
    "start_time": "2022-05-24T12:07:47.749Z"
   },
   {
    "duration": 21,
    "start_time": "2022-05-24T12:07:47.772Z"
   },
   {
    "duration": 28,
    "start_time": "2022-05-24T12:07:47.794Z"
   },
   {
    "duration": 17,
    "start_time": "2022-05-24T12:07:47.824Z"
   }
  ],
  "kernelspec": {
   "display_name": "Python 3 (ipykernel)",
   "language": "python",
   "name": "python3"
  },
  "language_info": {
   "codemirror_mode": {
    "name": "ipython",
    "version": 3
   },
   "file_extension": ".py",
   "mimetype": "text/x-python",
   "name": "python",
   "nbconvert_exporter": "python",
   "pygments_lexer": "ipython3",
   "version": "3.9.12"
  },
  "toc": {
   "base_numbering": 1,
   "nav_menu": {},
   "number_sections": true,
   "sideBar": true,
   "skip_h1_title": true,
   "title_cell": "Table of Contents",
   "title_sidebar": "Contents",
   "toc_cell": false,
   "toc_position": {},
   "toc_section_display": true,
   "toc_window_display": false
  }
 },
 "nbformat": 4,
 "nbformat_minor": 5
}
